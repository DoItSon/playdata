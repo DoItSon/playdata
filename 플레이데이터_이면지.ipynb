{
  "nbformat": 4,
  "nbformat_minor": 0,
  "metadata": {
    "colab": {
      "name": "플레이데이터 이면지.ipynb",
      "provenance": [],
      "collapsed_sections": [],
      "authorship_tag": "ABX9TyMi8YFPRvkWBejMH45gFFDh",
      "include_colab_link": true
    },
    "kernelspec": {
      "name": "python3",
      "display_name": "Python 3"
    },
    "language_info": {
      "name": "python"
    },
    "gpuClass": "standard",
    "accelerator": "GPU"
  },
  "cells": [
    {
      "cell_type": "markdown",
      "metadata": {
        "id": "view-in-github",
        "colab_type": "text"
      },
      "source": [
        "<a href=\"https://colab.research.google.com/github/soyongseok/playdata/blob/main/%ED%94%8C%EB%A0%88%EC%9D%B4%EB%8D%B0%EC%9D%B4%ED%84%B0_%EC%9D%B4%EB%A9%B4%EC%A7%80.ipynb\" target=\"_parent\"><img src=\"https://colab.research.google.com/assets/colab-badge.svg\" alt=\"Open In Colab\"/></a>"
      ]
    },
    {
      "cell_type": "code",
      "execution_count": null,
      "metadata": {
        "id": "s0uwDwGOEmCR",
        "colab": {
          "base_uri": "https://localhost:8080/"
        },
        "outputId": "34cba788-da67-47b4-e0e9-0f2b8a50fd70"
      },
      "outputs": [
        {
          "output_type": "stream",
          "name": "stdout",
          "text": [
            "Hello Python\n"
          ]
        }
      ],
      "source": [
        "print(\"Hello Python\")"
      ]
    },
    {
      "cell_type": "code",
      "source": [
        "print(5+1)"
      ],
      "metadata": {
        "colab": {
          "base_uri": "https://localhost:8080/"
        },
        "id": "uMFB8lE1btkB",
        "outputId": "3ea55f68-8892-4320-e4ce-4d8f20a1c9b2"
      },
      "execution_count": null,
      "outputs": [
        {
          "output_type": "stream",
          "name": "stdout",
          "text": [
            "6\n"
          ]
        }
      ]
    },
    {
      "cell_type": "code",
      "source": [
        "print(6+1)"
      ],
      "metadata": {
        "colab": {
          "base_uri": "https://localhost:8080/"
        },
        "id": "qoNlv-aSb2Ag",
        "outputId": "4be17d24-03c8-43f9-8816-245076a358ff"
      },
      "execution_count": null,
      "outputs": [
        {
          "output_type": "stream",
          "name": "stdout",
          "text": [
            "7\n"
          ]
        }
      ]
    },
    {
      "cell_type": "code",
      "source": [
        "# help(print) \n",
        "# 컨트롤 슬래쉬 (주석처리)"
      ],
      "metadata": {
        "id": "BANmdKOScFOD"
      },
      "execution_count": null,
      "outputs": []
    },
    {
      "cell_type": "code",
      "source": [
        ""
      ],
      "metadata": {
        "id": "YD-JF84KgTMg"
      },
      "execution_count": null,
      "outputs": []
    },
    {
      "cell_type": "markdown",
      "source": [
        "# 마크다운\n",
        "* 23\n"
      ],
      "metadata": {
        "id": "WKl3asOYfMoG"
      }
    },
    {
      "cell_type": "code",
      "source": [
        "계좌에 10000원이 들어있습니다.\n",
        "인출 금액을 입력받습니다.\n",
        "인출 금액이 'isdigit' 메소드를 이용하여 숫자가 아닐 경우 '유효한 금액을 입력하세요.' 출력\n",
        "\n",
        "인출 금액이 계좌에 있는 금액보다 크면 '인출 불가능합니다. {}원의 잔액이 부족합니다.' 출력\n",
        "\n",
        "인출 금액이 계좌에 있는 금액보다 작으면 '{} 원이 인출되었습니다.' 출력\n",
        "\n",
        "정수가 입력될 경우에는 항상 마지막에 현재 계좌의 잔액을 출력 ('현재 잔액은 {}원입니다.')"
      ],
      "metadata": {
        "id": "F-GghBdOfZqM",
        "colab": {
          "base_uri": "https://localhost:8080/",
          "height": 136
        },
        "outputId": "67a5366a-4f0b-4b94-be3c-5dd1e3822479"
      },
      "execution_count": null,
      "outputs": [
        {
          "output_type": "error",
          "ename": "SyntaxError",
          "evalue": "ignored",
          "traceback": [
            "\u001b[0;36m  File \u001b[0;32m\"<ipython-input-1-b8e594b36419>\"\u001b[0;36m, line \u001b[0;32m1\u001b[0m\n\u001b[0;31m    계좌에 10000원이 들어있습니다.\u001b[0m\n\u001b[0m            ^\u001b[0m\n\u001b[0;31mSyntaxError\u001b[0m\u001b[0;31m:\u001b[0m invalid syntax\n"
          ]
        }
      ]
    },
    {
      "cell_type": "code",
      "source": [
        "account = 10000 # 잔액이 줄어드는 것을 위해 다음 셀에 작성"
      ],
      "metadata": {
        "id": "r0t7qZiktO4A"
      },
      "execution_count": null,
      "outputs": []
    },
    {
      "cell_type": "code",
      "source": [
        "a = input(\"얼마 인출할래?\")\n",
        "\n",
        "if a.isdigit() is False:\n",
        "    print(\"유효한 금액을 입력하세요.\")\n",
        "\n",
        "    \n",
        "elif int(a) > account:\n",
        "    print(f\"인출 불가능합니다. {int(a)-account}원의 잔액이 부족합니다.\")\n",
        "else:\n",
        "    print(f\"{account-int(a)} 원이 인출되었습니다.\")\n",
        "\n",
        "print(f\"현재 잔액은 {account-int(a)}원입니다.\")\n"
      ],
      "metadata": {
        "colab": {
          "base_uri": "https://localhost:8080/"
        },
        "id": "7WriTVZEs69o",
        "outputId": "e46980c3-c165-4e4f-c7b6-270d4a05693c"
      },
      "execution_count": null,
      "outputs": [
        {
          "output_type": "stream",
          "name": "stdout",
          "text": [
            "얼마 인출할래?1000\n",
            "9000 원이 인출되었습니다.\n",
            "현재 잔액은 9000원입니다.\n"
          ]
        }
      ]
    },
    {
      "cell_type": "code",
      "source": [
        "model_scores1 = [0.92, 0.83, 0.91, 0.77, 0.99, 0.61, 0.88, 0.76 ,0.75] #  홀수 개수\n",
        "model_scores2 = [0.92, 0.83, 0.91, 0.77, 0.99, 0.61, 0.88, 0.76, 0.75, 0.51] # 짝수 개수\n",
        "print(model_scores1)\n",
        "print(model_scores2)"
      ],
      "metadata": {
        "colab": {
          "base_uri": "https://localhost:8080/"
        },
        "id": "-A7-_YC4uQPE",
        "outputId": "d076cc11-3702-4bc5-8226-af921210ad1f"
      },
      "execution_count": null,
      "outputs": [
        {
          "output_type": "stream",
          "name": "stdout",
          "text": [
            "[0.92, 0.83, 0.91, 0.77, 0.99, 0.61, 0.88, 0.76, 0.75]\n",
            "[0.92, 0.83, 0.91, 0.77, 0.99, 0.61, 0.88, 0.76, 0.75, 0.51]\n"
          ]
        }
      ]
    },
    {
      "cell_type": "code",
      "source": [
        "scores = model_scores1\n",
        "scores = model_scores2\n",
        "\n",
        "length = len(scores)\n",
        "index = length // 2\n",
        "\n",
        "if length % 2:\n",
        "   res = sorted(scores)[index]\n",
        "else:\n",
        "    res = (sorted(scores)[index] + sorted(scores)[index-1])/2\n",
        "res"
      ],
      "metadata": {
        "colab": {
          "base_uri": "https://localhost:8080/"
        },
        "id": "4HudZUYDxp1o",
        "outputId": "fb9ae26b-efbd-4034-c9ff-31754470e3e4"
      },
      "execution_count": null,
      "outputs": [
        {
          "output_type": "execute_result",
          "data": {
            "text/plain": [
              "0.8"
            ]
          },
          "metadata": {},
          "execution_count": 63
        }
      ]
    },
    {
      "cell_type": "code",
      "source": [
        "scores = model_scores1\n",
        "scores = model_scores2\n",
        "\n",
        "length = len(scores)\n",
        "index = length // 2 \n",
        "\n",
        "if length % 2: # 홀수\n",
        "    median_val = sorted(scores)[index]\n",
        "else:          # 짝수\n",
        "    median_val = (sorted(scores)[index] + sorted(scores)[index-1])/2\n",
        "\n",
        "print(median_val)"
      ],
      "metadata": {
        "colab": {
          "base_uri": "https://localhost:8080/"
        },
        "id": "7fiG9Kuxy4En",
        "outputId": "7593b741-7786-431b-9acd-4928024a32eb"
      },
      "execution_count": null,
      "outputs": [
        {
          "output_type": "stream",
          "name": "stdout",
          "text": [
            "0.8\n"
          ]
        }
      ]
    },
    {
      "cell_type": "code",
      "source": [
        "age_list = [20,42,None,30,25,None,27,50,60]\n",
        "\n",
        "age_list"
      ],
      "metadata": {
        "colab": {
          "base_uri": "https://localhost:8080/"
        },
        "id": "M19ShspG1qJQ",
        "outputId": "ce9c9cca-fa05-4a1e-abcb-7ca093994f02"
      },
      "execution_count": null,
      "outputs": [
        {
          "output_type": "execute_result",
          "data": {
            "text/plain": [
              "[20, 42, None, 30, 25, None, 27, 50, 60]"
            ]
          },
          "metadata": {},
          "execution_count": 47
        }
      ]
    },
    {
      "cell_type": "code",
      "source": [
        "a = len(age_list)\n",
        "\n",
        "tmp = []\n",
        "\n",
        "for i in age_list :\n",
        "    if i is not None:\n",
        "        tmp.append(i)\n",
        "\n",
        "res = sum(tmp) / len(tmp)\n",
        "res = int(res)\n",
        "res"
      ],
      "metadata": {
        "colab": {
          "base_uri": "https://localhost:8080/"
        },
        "id": "MUasE__f1rMe",
        "outputId": "efaaf60f-14cf-41eb-a63d-09f005df93fd"
      },
      "execution_count": null,
      "outputs": [
        {
          "output_type": "execute_result",
          "data": {
            "text/plain": [
              "36"
            ]
          },
          "metadata": {},
          "execution_count": 4
        }
      ]
    },
    {
      "cell_type": "code",
      "source": [
        "a = len(age_list)\n",
        "\n",
        "for j in age_list:\n",
        "    if j is None:\n",
        "        print(res)\n",
        "    else:\n",
        "        print(j)\n"
      ],
      "metadata": {
        "colab": {
          "base_uri": "https://localhost:8080/"
        },
        "id": "SIb7PGjI4i8_",
        "outputId": "27ec023c-4b31-4f4a-a53c-ded30258dcac"
      },
      "execution_count": null,
      "outputs": [
        {
          "output_type": "stream",
          "name": "stdout",
          "text": [
            "20\n",
            "42\n",
            "36\n",
            "30\n",
            "25\n",
            "36\n",
            "27\n",
            "50\n",
            "60\n"
          ]
        }
      ]
    },
    {
      "cell_type": "code",
      "source": [
        "[age if age is not None else avg for age in age_list]   # 복습하기"
      ],
      "metadata": {
        "id": "Y6myRMCp7Sy3"
      },
      "execution_count": null,
      "outputs": []
    },
    {
      "cell_type": "code",
      "source": [
        "age_list[2:6:3] = res\n",
        "\n",
        "age_list        # 질문 !"
      ],
      "metadata": {
        "colab": {
          "base_uri": "https://localhost:8080/",
          "height": 209
        },
        "id": "BqqgrZ-8AU7Q",
        "outputId": "c12d43c4-1d5c-434d-b640-8dd96830f055"
      },
      "execution_count": null,
      "outputs": [
        {
          "output_type": "error",
          "ename": "TypeError",
          "evalue": "ignored",
          "traceback": [
            "\u001b[0;31m---------------------------------------------------------------------------\u001b[0m",
            "\u001b[0;31mTypeError\u001b[0m                                 Traceback (most recent call last)",
            "\u001b[0;32m<ipython-input-54-d46096c90c99>\u001b[0m in \u001b[0;36m<module>\u001b[0;34m()\u001b[0m\n\u001b[0;32m----> 1\u001b[0;31m \u001b[0mage_list\u001b[0m\u001b[0;34m[\u001b[0m\u001b[0;36m2\u001b[0m\u001b[0;34m:\u001b[0m\u001b[0;36m6\u001b[0m\u001b[0;34m:\u001b[0m\u001b[0;36m3\u001b[0m\u001b[0;34m]\u001b[0m \u001b[0;34m=\u001b[0m \u001b[0mres\u001b[0m\u001b[0;34m\u001b[0m\u001b[0;34m\u001b[0m\u001b[0m\n\u001b[0m\u001b[1;32m      2\u001b[0m \u001b[0;34m\u001b[0m\u001b[0m\n\u001b[1;32m      3\u001b[0m \u001b[0mage_list\u001b[0m\u001b[0;34m\u001b[0m\u001b[0;34m\u001b[0m\u001b[0m\n",
            "\u001b[0;31mTypeError\u001b[0m: must assign iterable to extended slice"
          ]
        }
      ]
    },
    {
      "cell_type": "code",
      "source": [
        "age_list[2:6:3]"
      ],
      "metadata": {
        "colab": {
          "base_uri": "https://localhost:8080/"
        },
        "id": "7FidowBuIbbK",
        "outputId": "526e5cac-393b-4343-8b83-dcad11852746"
      },
      "execution_count": null,
      "outputs": [
        {
          "output_type": "execute_result",
          "data": {
            "text/plain": [
              "[None, None]"
            ]
          },
          "metadata": {},
          "execution_count": 52
        }
      ]
    },
    {
      "cell_type": "code",
      "source": [
        "age_list.splice(2)"
      ],
      "metadata": {
        "colab": {
          "base_uri": "https://localhost:8080/",
          "height": 172
        },
        "id": "QnyxSc_nJ4Va",
        "outputId": "16fceda4-5ea1-4e0e-f303-de9f1bcb5c43"
      },
      "execution_count": null,
      "outputs": [
        {
          "output_type": "error",
          "ename": "NameError",
          "evalue": "ignored",
          "traceback": [
            "\u001b[0;31m---------------------------------------------------------------------------\u001b[0m",
            "\u001b[0;31mNameError\u001b[0m                                 Traceback (most recent call last)",
            "\u001b[0;32m<ipython-input-1-68ba0822841a>\u001b[0m in \u001b[0;36m<module>\u001b[0;34m()\u001b[0m\n\u001b[0;32m----> 1\u001b[0;31m \u001b[0mage_list\u001b[0m\u001b[0;34m.\u001b[0m\u001b[0msplice\u001b[0m\u001b[0;34m(\u001b[0m\u001b[0;36m2\u001b[0m\u001b[0;34m)\u001b[0m\u001b[0;34m\u001b[0m\u001b[0;34m\u001b[0m\u001b[0m\n\u001b[0m",
            "\u001b[0;31mNameError\u001b[0m: name 'age_list' is not defined"
          ]
        }
      ]
    },
    {
      "cell_type": "code",
      "source": [
        "age_list = [20,42,None,30,25,None,27,50,60]\n",
        "tmp = [i for i in age_list if i is not None]\n",
        "avg = sum(tmp) / len(tmp)\n",
        "avg                "
      ],
      "metadata": {
        "colab": {
          "base_uri": "https://localhost:8080/"
        },
        "id": "l1XlVLgJrzTk",
        "outputId": "281666e6-41ea-4b76-d1f3-ae727f124bd4"
      },
      "execution_count": null,
      "outputs": [
        {
          "output_type": "execute_result",
          "data": {
            "text/plain": [
              "36.285714285714285"
            ]
          },
          "metadata": {},
          "execution_count": 40
        }
      ]
    },
    {
      "cell_type": "code",
      "source": [
        "age_list = [20,42,None,30,25,None,27,50,60]\n",
        "[ i if i is not None else avg for i in age_list]"
      ],
      "metadata": {
        "colab": {
          "base_uri": "https://localhost:8080/"
        },
        "id": "__Vmdw2HsCzc",
        "outputId": "84f1e118-3cf6-415f-b651-75386de9d1a4"
      },
      "execution_count": null,
      "outputs": [
        {
          "output_type": "execute_result",
          "data": {
            "text/plain": [
              "[20, 42, 36.285714285714285, 30, 25, 36.285714285714285, 27, 50, 60]"
            ]
          },
          "metadata": {},
          "execution_count": 10
        }
      ]
    },
    {
      "cell_type": "code",
      "source": [
        "pred_list  = [0,1,0,0,0,1,0,0,0,1]\n",
        "label_list = [0,1,0,1,0,1,0,1,0,1]\n",
        "\n",
        "res = [i for i,k in zip(pred_list,label_list) if i == k ]\n",
        "len(res)/ len(pred_list)"
      ],
      "metadata": {
        "colab": {
          "base_uri": "https://localhost:8080/"
        },
        "id": "cbsQqAb9ssli",
        "outputId": "4f18fff8-6964-4b6e-b9b1-4c5a7d7d3723"
      },
      "execution_count": null,
      "outputs": [
        {
          "output_type": "execute_result",
          "data": {
            "text/plain": [
              "0.8"
            ]
          },
          "metadata": {},
          "execution_count": 19
        }
      ]
    },
    {
      "cell_type": "code",
      "source": [
        "age_list = [20,42,None,30,25,None,27,50,60]\n",
        "\n",
        "for i in range(len(age_list)):\n",
        "    if age_list[i] is None:\n",
        "        age_list[i]=avg\n",
        "\n",
        "age_list"
      ],
      "metadata": {
        "id": "wFxIYlqftukD",
        "colab": {
          "base_uri": "https://localhost:8080/"
        },
        "outputId": "d10051b5-ec4c-4325-8d1c-d6f37c3c4f7e"
      },
      "execution_count": null,
      "outputs": [
        {
          "output_type": "execute_result",
          "data": {
            "text/plain": [
              "[20, 42, 36.285714285714285, 30, 25, 36.285714285714285, 27, 50, 60]"
            ]
          },
          "metadata": {},
          "execution_count": 53
        }
      ]
    },
    {
      "cell_type": "code",
      "source": [
        "email_list = [\"user1004@gmail.com\",\"user22@naver.com\",\"user30@gmail.com\",\"user100@hanmail.net\"]"
      ],
      "metadata": {
        "id": "xxrikYMFLK4e"
      },
      "execution_count": null,
      "outputs": []
    },
    {
      "cell_type": "code",
      "source": [
        "def do_func(email_list):\n",
        "    tmp = []\n",
        "    for i in email_list:\n",
        "        res = i.split(\"@\")[0]\n",
        "        tmp.append(res)\n",
        "    return tmp"
      ],
      "metadata": {
        "id": "Ux30O8D267ql"
      },
      "execution_count": null,
      "outputs": []
    },
    {
      "cell_type": "code",
      "source": [
        "email_list = [\"spdlv9513@naver.com\",\"sad@vmd.com\"]\n",
        "do_func(email_list)"
      ],
      "metadata": {
        "colab": {
          "base_uri": "https://localhost:8080/"
        },
        "id": "WXd5mOLC7Hi_",
        "outputId": "bf101767-633a-47c4-bdc7-6e098e240aec"
      },
      "execution_count": null,
      "outputs": [
        {
          "output_type": "execute_result",
          "data": {
            "text/plain": [
              "['spdlv9513', 'sad']"
            ]
          },
          "metadata": {},
          "execution_count": 15
        }
      ]
    },
    {
      "cell_type": "markdown",
      "source": [
        "# 문제 0)\n",
        "## 2022-08-02\n",
        "```\n",
        "map 함수를 이용해서 enumerate 함수 구현해보자\n",
        "enumerate 함수가 없다고 가정한다.\n",
        "ex)\n",
        "lst = [100,200,300]\n",
        "enumerate_func = map(func, iterables)\n",
        "for i,v in enumerate_func:\n",
        "    print(i,v)\n",
        "Output:\n",
        "0 100\n",
        "1 200\n",
        "2 300\n",
        "```"
      ],
      "metadata": {
        "id": "IsTiULhA7oH7"
      }
    },
    {
      "cell_type": "code",
      "source": [
        "lst = [100,200,300]\n",
        "enumerate_func = map(lambda x1,x2: (x1,x2), range(len(lst)),lst)\n",
        "for i,v in enumerate_func:\n",
        "    print(i,v)"
      ],
      "metadata": {
        "colab": {
          "base_uri": "https://localhost:8080/"
        },
        "id": "lhzsmPYa19Aa",
        "outputId": "cb0664ba-113c-4bd1-9186-2016e9dd8246"
      },
      "execution_count": null,
      "outputs": [
        {
          "output_type": "stream",
          "name": "stdout",
          "text": [
            "0 100\n",
            "1 200\n",
            "2 300\n"
          ]
        }
      ]
    },
    {
      "cell_type": "markdown",
      "source": [
        "# 문제 1)\n",
        "```\n",
        "행 혹은 행렬 형태의 리스트를 입력 받아 행의 크기와 열의 크기를 튜플로 반환하는 함수를 작성하시오\n",
        "\n",
        "ex)\n",
        "shape([]) -> (0,)\n",
        "shape([1,2,3]) -> (3,)\n",
        "shape([[1,2,3],[4,5,6]]) -> (2,3)\n",
        "\n",
        "2차원 행렬 예시:\n",
        "[\n",
        "    [1,2,3],\n",
        "    [4,5,6]\n",
        "]\n",
        "```"
      ],
      "metadata": {
        "id": "kmthc8wK2yLD"
      }
    },
    {
      "cell_type": "code",
      "source": [
        "def shape(x):\n",
        "    if len(x) == 0:\n",
        "        res = 0,\n",
        "    elif type(x[0]) is list:\n",
        "        res = (len(x),len(x[0]))\n",
        "    else:\n",
        "        res = len(x)\n",
        "    return res\n",
        "\n",
        "shape([1,2,3])"
      ],
      "metadata": {
        "colab": {
          "base_uri": "https://localhost:8080/"
        },
        "id": "L5QE3kql3IyU",
        "outputId": "8538cd0b-667c-4071-c545-71c91e993320"
      },
      "execution_count": null,
      "outputs": [
        {
          "output_type": "execute_result",
          "data": {
            "text/plain": [
              "3"
            ]
          },
          "metadata": {},
          "execution_count": 50
        }
      ]
    },
    {
      "cell_type": "markdown",
      "source": [
        "# 문제 2)\n",
        "```\n",
        "행렬 형태의 리스트를 입력 받고 변경하고자하는 행의 크기와 열의 크기로 변환해서 \n",
        "리스트로  반환 함수를 작성하시오\n",
        "행과 열의 크기는 튜플로 받는다 . \n",
        "무조건 튜플 아니면 -1 입력이 들어온다고 가정한다.\n",
        "튜플은 무조건 2개의 요소가 포함되서 들어온다고 가정한다.\n",
        "튜플이 아닌 -1 이 들어올경우 1차원 형태로 flatten 시킨다.\n",
        "\n",
        "ex)\n",
        "data = [\n",
        "       [1,2,3],\n",
        "       [4,5,6]\n",
        "]\n",
        "reshape(data,-1) -> [1,2,3,4,5,6]\n",
        "reshape(data,(3,2)) -> [[1,2],[3,4],[5,6]]\n",
        "\n",
        "2차원 행렬 예시:\n",
        "[\n",
        "    [1,2],\n",
        "    [3,4],\n",
        "    [5,6]\n",
        "]\n",
        "```"
      ],
      "metadata": {
        "id": "Y1r838Em3hBJ"
      }
    },
    {
      "cell_type": "code",
      "source": [
        "data = [\n",
        "       [1,2,3],\n",
        "       [4,5,6]\n",
        "]"
      ],
      "metadata": {
        "id": "hdcgXTPU66Ay"
      },
      "execution_count": null,
      "outputs": []
    },
    {
      "cell_type": "code",
      "source": [
        "def reshape(lst,shape):\n",
        "   \n",
        "    flatten = []\n",
        "    for i in lst:\n",
        "        flatten.extend(i)\n",
        "    res = flatten\n",
        "\n",
        "    if shape != -1:\n",
        "        row = shape[0]  # 3\n",
        "        col = shape[1]  # 2\n",
        "        res = []\n",
        "        for i in range(row):    # 0,1,2\n",
        "            start_index = i * col   # 0 * 2 = 0, 1 * 2 = 2, 2 * 2 = 4\n",
        "            end_index = start_index + col   # 0 + 2 = 2, 2 + 2 = 4, 4 + 2 = 6 \n",
        "            x =  flatten[start_index:end_index] # [0:2], [2:4], [4:6]\n",
        "            res.append(x)\n",
        "\n",
        "    return res\n",
        "\n",
        "reshape(data,(3,2))"
      ],
      "metadata": {
        "colab": {
          "base_uri": "https://localhost:8080/"
        },
        "id": "wVfh249d6_hN",
        "outputId": "78b7799c-b476-4e39-bea5-30838b31df58"
      },
      "execution_count": null,
      "outputs": [
        {
          "output_type": "execute_result",
          "data": {
            "text/plain": [
              "[[1, 2], [3, 4], [5, 6]]"
            ]
          },
          "metadata": {},
          "execution_count": 115
        }
      ]
    },
    {
      "cell_type": "code",
      "source": [
        "x = [1,2,3,4,5,6]   # 슬라이싱\n",
        "x[0:6]"
      ],
      "metadata": {
        "colab": {
          "base_uri": "https://localhost:8080/"
        },
        "id": "DTJ4IXt57oFw",
        "outputId": "6ae5feea-15d0-49da-96f2-5c56a4a16638"
      },
      "execution_count": null,
      "outputs": [
        {
          "output_type": "execute_result",
          "data": {
            "text/plain": [
              "[1, 2, 3, 4, 5, 6]"
            ]
          },
          "metadata": {},
          "execution_count": 84
        }
      ]
    },
    {
      "cell_type": "markdown",
      "source": [
        "# 문제 3)\n",
        "\n",
        "```\n",
        "행렬 형태의 리스트를 입력 받고 행렬을 전치하는 함수를 작성하시오\n",
        "행렬 전치는 열이 행이 되고 행은 열이 된다.\n",
        "\n",
        "ex)\n",
        "data = [\n",
        "       [1,2,3],\n",
        "       [4,5,6]\n",
        "]\n",
        "transpose(data) -> [[1, 4], [2, 5], [3, 6]]\n",
        "\n",
        "2차원 행렬 예시:\n",
        "[\n",
        "    [1, 4], \n",
        "    [2, 5], \n",
        "    [3, 6]\n",
        "]\n",
        "\n",
        "```"
      ],
      "metadata": {
        "id": "x8ATCFXa_AFj"
      }
    },
    {
      "cell_type": "code",
      "source": [
        "data = [\n",
        "       [1,2,3],\n",
        "       [4,5,6]\n",
        "]\n",
        "def transpose(x):\n",
        "    res = [list(i) for i in zip(*x)]\n",
        "    return res\n",
        "transpose(data)"
      ],
      "metadata": {
        "id": "l9bBbKkOBP3p"
      },
      "execution_count": null,
      "outputs": []
    },
    {
      "cell_type": "code",
      "source": [
        "data = [\n",
        "       [1,2,3],\n",
        "       [4,5,6]\n",
        "]\n",
        "print(*data) # 언패킹한 데이터를 zip함수로 병렬로 정렬"
      ],
      "metadata": {
        "colab": {
          "base_uri": "https://localhost:8080/"
        },
        "id": "Qkv8C-GJC1Ih",
        "outputId": "799d1c5d-11fc-4752-9de3-845c8675a6c5"
      },
      "execution_count": null,
      "outputs": [
        {
          "output_type": "stream",
          "name": "stdout",
          "text": [
            "[1, 2, 3] [4, 5, 6]\n"
          ]
        }
      ]
    },
    {
      "cell_type": "code",
      "source": [
        "data = [\n",
        "       [1,2,3],\n",
        "       [4,5,6]\n",
        "]\n",
        "def transpose(x):\n",
        "    res = [i for i in zip(*x)]  # zip함수는 튜플로 반환한다. 그래서 list로 묶어줘야 한다.\n",
        "    return res\n",
        "transpose(data)"
      ],
      "metadata": {
        "colab": {
          "base_uri": "https://localhost:8080/"
        },
        "id": "lHNosnJGCoHY",
        "outputId": "7d18dcb0-c769-4562-cf87-9f8cf394b7d1"
      },
      "execution_count": null,
      "outputs": [
        {
          "output_type": "execute_result",
          "data": {
            "text/plain": [
              "[(1, 4), (2, 5), (3, 6)]"
            ]
          },
          "metadata": {},
          "execution_count": 124
        }
      ]
    },
    {
      "cell_type": "code",
      "source": [
        "data = [\n",
        "       [1,2,3],\n",
        "       [4,5,6]\n",
        "]\n",
        "\n",
        "def transpose(data):    # 언패킹과 zip 사용\n",
        "\n",
        "    lst = list(map(list, zip(*data))) # => map 바깥의 list를 빼면 주소값(객체)만 출력된다.\n",
        "    res = lst\n",
        "    return res\n",
        "\n",
        "transpose(data)"
      ],
      "metadata": {
        "colab": {
          "base_uri": "https://localhost:8080/"
        },
        "id": "QzSHwerrDm3m",
        "outputId": "dcd3a913-7875-4dc7-bbde-6d3cd6f32a46"
      },
      "execution_count": null,
      "outputs": [
        {
          "output_type": "execute_result",
          "data": {
            "text/plain": [
              "[[1, 4], [2, 5], [3, 6]]"
            ]
          },
          "metadata": {},
          "execution_count": 129
        }
      ]
    },
    {
      "cell_type": "markdown",
      "source": [
        "#문제 0)\n",
        "## 2022-08-03"
      ],
      "metadata": {
        "id": "DFawMG-kErqX"
      }
    },
    {
      "cell_type": "markdown",
      "source": [
        "```\n",
        "다음과 같은 형태의 리스트를 입력받고 , key 이름들을 리스트로 입력 받아 dict 자료형을 생성하는 클래스를 만드시오\n",
        "ex)\n",
        "class DictDataset:\n",
        "    code context\n",
        "data = [\n",
        "        [1,2,3,4,5,6,7,8,9],\n",
        "        [10,20,30,40,50,60,70,80,90]\n",
        "]\n",
        "dict_dt = DictDataset(data,[\"col1\",\"col2\"])\n",
        "dict_dt.dataset\n",
        "Ouput:\n",
        "{'col1': [1, 2, 3, 4, 5, 6, 7, 8, 9],\n",
        " 'col2': [10, 20, 30, 40, 50, 60, 70, 80, 90]}\n",
        "```"
      ],
      "metadata": {
        "id": "yyNCVRHXFIh8"
      }
    },
    {
      "cell_type": "code",
      "source": [
        "class DictDataset:\n",
        "    def __init__(self,data,front):\n",
        "        self.dataset = dict(zip(front,data))    # zip 함수 순서 생각!\n",
        "\n",
        "data = [\n",
        "        [1,2,3,4,5,6,7,8,9],\n",
        "        [10,20,30,40,50,60,70,80,90]\n",
        "]\n",
        "\n",
        "dict_dt = DictDataset(data,[\"col1\",\"col2\"])\n",
        "dict_dt.dataset"
      ],
      "metadata": {
        "colab": {
          "base_uri": "https://localhost:8080/"
        },
        "id": "JuzQuYOopQ-V",
        "outputId": "d32d4a81-9beb-4885-fc99-13390c202196"
      },
      "execution_count": 15,
      "outputs": [
        {
          "output_type": "execute_result",
          "data": {
            "text/plain": [
              "{'col1': [1, 2, 3, 4, 5, 6, 7, 8, 9],\n",
              " 'col2': [10, 20, 30, 40, 50, 60, 70, 80, 90]}"
            ]
          },
          "metadata": {},
          "execution_count": 15
        }
      ]
    },
    {
      "cell_type": "markdown",
      "source": [
        "# 문제 1)\n",
        "```\n",
        "위에 구현한 클래스에서 추가 메소드를 작성하시오\n",
        "head 메소드와 tail 메소드를 작성하세요\n",
        "head 메소드의 경우 인자값이 없을경우 dict의 모든 value의 앞에서 5개의 값들이 key 와 함께 dict 형태로 리턴되게 하세요\n",
        "tail 메소드의 경우 인자값이 없을경우 dict의 모든 value의 뒤에서 5개의 값들이 key 와 함께 dict 형태로 리턴되게 하세요.\n",
        "(역순으로 출력되는 것이 아님)\n",
        "head , tail 모두 인자값이 주어질경우 인자값 개수만큼 value가 나오게 한다.\n",
        "(1 이상 인자값을 받는다는 가정을 하기 때문에 조건문으로 체크 안해도 됩니다.)\n",
        "ex)\n",
        "class DictDataset:\n",
        "    def __init__(self,lst,keys):\n",
        "        self.dataset = dict(zip(keys,lst))\n",
        "        \n",
        "dict_dt = DictDataset(data,[\"col1\",\"col2\"])\n",
        "dict_dt.head()\n",
        "Output:\n",
        "{'col1': [1, 2, 3, 4, 5], 'col2': [10, 20, 30, 40, 50]}\n",
        "dict_dt.head(3)\n",
        "Output:\n",
        "{'col1': [1, 2, 3], 'col2': [10, 20, 30]}\n",
        "dict_dt.tail()\n",
        "Output:\n",
        "{'col1': [5, 6, 7, 8, 9], 'col2': [50, 60, 70, 80, 90]}\n",
        "dict_dt.tail(3)\n",
        "Output:\n",
        "{'col1': [7, 8, 9], 'col2': [70, 80, 90]}\n",
        "```"
      ],
      "metadata": {
        "id": "HsJOny-0qi15"
      }
    },
    {
      "cell_type": "code",
      "source": [
        "class DictDataset:\n",
        "    def __init__(self,lst,keys):\n",
        "        self.dataset = dict(zip(keys,lst))\n",
        "\n",
        "    def head (self,num=5):\n",
        "        return { k:v[:num] for k,v in self.dataset.items() }\n",
        "\n",
        "    def tail (self,num=5):\n",
        "        return { k:v[-num:] for k,v in self.dataset.items() }\n",
        "\n",
        "data = [\n",
        "        [1,2,3,4,5,6,7,8,9],\n",
        "        [10,20,30,40,50,60,70,80,90]\n",
        "]\n",
        "keys = [\"col1\",\"col2\"]"
      ],
      "metadata": {
        "id": "hWY4XPmBxFhq"
      },
      "execution_count": 24,
      "outputs": []
    },
    {
      "cell_type": "code",
      "source": [
        "x = DictDataset(data,keys)\n",
        "x.dataset\n",
        "x.head(3)\n",
        "x.tail()"
      ],
      "metadata": {
        "colab": {
          "base_uri": "https://localhost:8080/"
        },
        "id": "TO9sHvwwyeuj",
        "outputId": "63c73af7-9b67-40f2-87a9-1bcafbad2f33"
      },
      "execution_count": 25,
      "outputs": [
        {
          "output_type": "execute_result",
          "data": {
            "text/plain": [
              "{'col1': [5, 6, 7, 8, 9], 'col2': [50, 60, 70, 80, 90]}"
            ]
          },
          "metadata": {},
          "execution_count": 25
        }
      ]
    },
    {
      "cell_type": "code",
      "source": [
        ""
      ],
      "metadata": {
        "colab": {
          "base_uri": "https://localhost:8080/"
        },
        "id": "X6x2lcdOymC_",
        "outputId": "38657a94-79e8-4862-a2b9-82e5c6d2ba6d"
      },
      "execution_count": 41,
      "outputs": [
        {
          "output_type": "execute_result",
          "data": {
            "text/plain": [
              "['col1', 'col2']"
            ]
          },
          "metadata": {},
          "execution_count": 41
        }
      ]
    },
    {
      "cell_type": "markdown",
      "source": [
        "```\n",
        "구현한 클래스에서 추가 메소드를 작성하시오\n",
        "rename 메소드를 작성하세요\n",
        "딕셔너리를 입력 받아 인스턴스 변수인 dataset의 key를 변경하는 메소드를 작성하세요.\n",
        "ex)\n",
        "dict_dt = DictDataset(data,[\"col1\",\"col2\"])\n",
        "keys_rename = {\n",
        "    \"col1\" : \"num1\",\n",
        "    \"col2\" : \"num2\"\n",
        "}\n",
        "dict_dt.rename(keys_rename)\n",
        "dict_dt.dataset\n",
        "Output:\n",
        "{'num1': [1, 2, 3, 4, 5, 6, 7, 8, 9],\n",
        " 'num2': [10, 20, 30, 40, 50, 60, 70, 80, 90]}\n",
        "```"
      ],
      "metadata": {
        "id": "qFv8Jmvay90M"
      }
    },
    {
      "cell_type": "code",
      "source": [
        "class DictDataset:\n",
        "    def __init__(self,lst,keys):\n",
        "        self.dataset = dict(zip(keys,lst))\n",
        "\n",
        "    def rename(self,keys):\n",
        "        for k,v in keys.items():\n",
        "            self.dataset[v] = self.dataset.pop(k)"
      ],
      "metadata": {
        "id": "sc3khFlc6TM5"
      },
      "execution_count": 102,
      "outputs": []
    },
    {
      "cell_type": "code",
      "source": [
        "dict_dt = DictDataset(data,[\"col1\",\"col2\"])\n",
        "keys_rename = {\n",
        "    \"col1\" : \"num1\",\n",
        "    \"col2\" : \"num2\"\n",
        "}\n",
        "dict_dt.rename(keys_rename)\n",
        "dict_dt.dataset"
      ],
      "metadata": {
        "colab": {
          "base_uri": "https://localhost:8080/"
        },
        "id": "Z3BgXNVU7fDV",
        "outputId": "2b29714d-cb43-414a-f23b-4e6e71d29da4"
      },
      "execution_count": 103,
      "outputs": [
        {
          "output_type": "execute_result",
          "data": {
            "text/plain": [
              "{'num1': [1, 2, 3, 4, 5, 6, 7, 8, 9],\n",
              " 'num2': [10, 20, 30, 40, 50, 60, 70, 80, 90]}"
            ]
          },
          "metadata": {},
          "execution_count": 103
        }
      ]
    },
    {
      "cell_type": "code",
      "source": [
        ""
      ],
      "metadata": {
        "colab": {
          "base_uri": "https://localhost:8080/"
        },
        "id": "g0jT5ooX_2-I",
        "outputId": "4d972709-35fa-48b2-aec9-df95301a8087"
      },
      "execution_count": 74,
      "outputs": [
        {
          "output_type": "execute_result",
          "data": {
            "text/plain": [
              "{'num1': [1, 2, 3, 4, 5, 6, 7, 8, 9],\n",
              " 'num2': [10, 20, 30, 40, 50, 60, 70, 80, 90]}"
            ]
          },
          "metadata": {},
          "execution_count": 74
        }
      ]
    },
    {
      "cell_type": "code",
      "source": [
        "x = {'col1': [5, 6, 7, 8, 9], 'col2': [50, 60, 70, 80, 90]}\n",
        "\n",
        "keys = {\n",
        "    \"col1\" : \"num1\",\n",
        "    \"col2\" : \"num2\"\n",
        "}\n",
        "\n",
        "for k,v in keys.items():\n",
        "    x[v] = x.pop(k)     # value는 [] 사용해야함!\n",
        "    \n",
        "x"
      ],
      "metadata": {
        "colab": {
          "base_uri": "https://localhost:8080/"
        },
        "id": "uTGY2fcS_5Of",
        "outputId": "ee1c5636-4a7b-459d-b24e-e102fae2c0db"
      },
      "execution_count": 76,
      "outputs": [
        {
          "output_type": "execute_result",
          "data": {
            "text/plain": [
              "{'num1': [5, 6, 7, 8, 9], 'num2': [50, 60, 70, 80, 90]}"
            ]
          },
          "metadata": {},
          "execution_count": 76
        }
      ]
    },
    {
      "cell_type": "code",
      "source": [
        ""
      ],
      "metadata": {
        "colab": {
          "base_uri": "https://localhost:8080/"
        },
        "id": "3REmF4U1BTPj",
        "outputId": "4dc6d0f6-0516-48a3-d82c-0428e7923c18"
      },
      "execution_count": 69,
      "outputs": [
        {
          "output_type": "execute_result",
          "data": {
            "text/plain": [
              "{'num1': [5, 6, 7, 8, 9], 'num2': [50, 60, 70, 80, 90]}"
            ]
          },
          "metadata": {},
          "execution_count": 69
        }
      ]
    },
    {
      "cell_type": "code",
      "source": [
        ""
      ],
      "metadata": {
        "id": "HD2eVQUgAvny"
      },
      "execution_count": null,
      "outputs": []
    }
  ]
}