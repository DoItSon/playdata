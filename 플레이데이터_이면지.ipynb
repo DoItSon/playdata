{
  "cells": [
    {
      "cell_type": "markdown",
      "metadata": {
        "id": "view-in-github",
        "colab_type": "text"
      },
      "source": [
        "<a href=\"https://colab.research.google.com/github/soyongseok/playdata/blob/main/%ED%94%8C%EB%A0%88%EC%9D%B4%EB%8D%B0%EC%9D%B4%ED%84%B0_%EC%9D%B4%EB%A9%B4%EC%A7%80.ipynb\" target=\"_parent\"><img src=\"https://colab.research.google.com/assets/colab-badge.svg\" alt=\"Open In Colab\"/></a>"
      ]
    },
    {
      "cell_type": "markdown",
      "metadata": {
        "id": "WKl3asOYfMoG"
      },
      "source": [
        "# 마크다운\n",
        "* 23\n"
      ]
    },
    {
      "cell_type": "markdown",
      "metadata": {
        "id": "F-GghBdOfZqM"
      },
      "source": [
        "```\n",
        "계좌에 10000원이 들어있습니다.\n",
        "인출 금액을 입력받습니다.\n",
        "인출 금액이 'isdigit' 메소드를 이용하여 숫자가 아닐 경우 '유효한 금액을 입력하세요.' 출력\n",
        "\n",
        "인출 금액이 계좌에 있는 금액보다 크면 '인출 불가능합니다. {}원의 잔액이 부족합니다.' 출력\n",
        "\n",
        "인출 금액이 계좌에 있는 금액보다 작으면 '{} 원이 인출되었습니다.' 출력\n",
        "\n",
        "정수가 입력될 경우에는 항상 마지막에 현재 계좌의 잔액을 출력 ('현재 잔액은 {}원입니다.')\n",
        "```"
      ]
    },
    {
      "cell_type": "code",
      "execution_count": null,
      "metadata": {
        "id": "r0t7qZiktO4A"
      },
      "outputs": [],
      "source": [
        "account = 10000 # 잔액이 줄어드는 것을 위해 다음 셀에 작성"
      ]
    },
    {
      "cell_type": "code",
      "execution_count": null,
      "metadata": {
        "colab": {
          "base_uri": "https://localhost:8080/"
        },
        "id": "7WriTVZEs69o",
        "outputId": "e46980c3-c165-4e4f-c7b6-270d4a05693c"
      },
      "outputs": [
        {
          "name": "stdout",
          "output_type": "stream",
          "text": [
            "얼마 인출할래?1000\n",
            "9000 원이 인출되었습니다.\n",
            "현재 잔액은 9000원입니다.\n"
          ]
        }
      ],
      "source": [
        "a = input(\"얼마 인출할래?\")\n",
        "\n",
        "if a.isdigit() is False:\n",
        "    print(\"유효한 금액을 입력하세요.\")\n",
        "\n",
        "    \n",
        "elif int(a) > account:\n",
        "    print(f\"인출 불가능합니다. {int(a)-account}원의 잔액이 부족합니다.\")\n",
        "else:\n",
        "    print(f\"{account-int(a)} 원이 인출되었습니다.\")\n",
        "\n",
        "print(f\"현재 잔액은 {account-int(a)}원입니다.\")\n"
      ]
    },
    {
      "cell_type": "code",
      "execution_count": null,
      "metadata": {
        "colab": {
          "base_uri": "https://localhost:8080/"
        },
        "id": "-A7-_YC4uQPE",
        "outputId": "d076cc11-3702-4bc5-8226-af921210ad1f"
      },
      "outputs": [
        {
          "name": "stdout",
          "output_type": "stream",
          "text": [
            "[0.92, 0.83, 0.91, 0.77, 0.99, 0.61, 0.88, 0.76, 0.75]\n",
            "[0.92, 0.83, 0.91, 0.77, 0.99, 0.61, 0.88, 0.76, 0.75, 0.51]\n"
          ]
        }
      ],
      "source": [
        "model_scores1 = [0.92, 0.83, 0.91, 0.77, 0.99, 0.61, 0.88, 0.76 ,0.75] #  홀수 개수\n",
        "model_scores2 = [0.92, 0.83, 0.91, 0.77, 0.99, 0.61, 0.88, 0.76, 0.75, 0.51] # 짝수 개수\n",
        "print(model_scores1)\n",
        "print(model_scores2)"
      ]
    },
    {
      "cell_type": "code",
      "execution_count": null,
      "metadata": {
        "colab": {
          "base_uri": "https://localhost:8080/"
        },
        "id": "4HudZUYDxp1o",
        "outputId": "fb9ae26b-efbd-4034-c9ff-31754470e3e4"
      },
      "outputs": [
        {
          "data": {
            "text/plain": [
              "0.8"
            ]
          },
          "execution_count": 63,
          "metadata": {},
          "output_type": "execute_result"
        }
      ],
      "source": [
        "scores = model_scores1\n",
        "scores = model_scores2\n",
        "\n",
        "length = len(scores)\n",
        "index = length // 2\n",
        "\n",
        "if length % 2:\n",
        "   res = sorted(scores)[index]\n",
        "else:\n",
        "    res = (sorted(scores)[index] + sorted(scores)[index-1])/2\n",
        "res"
      ]
    },
    {
      "cell_type": "code",
      "execution_count": null,
      "metadata": {
        "colab": {
          "base_uri": "https://localhost:8080/"
        },
        "id": "7fiG9Kuxy4En",
        "outputId": "7593b741-7786-431b-9acd-4928024a32eb"
      },
      "outputs": [
        {
          "name": "stdout",
          "output_type": "stream",
          "text": [
            "0.8\n"
          ]
        }
      ],
      "source": [
        "scores = model_scores1\n",
        "scores = model_scores2\n",
        "\n",
        "length = len(scores)\n",
        "index = length // 2 \n",
        "\n",
        "if length % 2: # 홀수\n",
        "    median_val = sorted(scores)[index]\n",
        "else:          # 짝수\n",
        "    median_val = (sorted(scores)[index] + sorted(scores)[index-1])/2\n",
        "\n",
        "print(median_val)"
      ]
    },
    {
      "cell_type": "code",
      "execution_count": null,
      "metadata": {
        "colab": {
          "base_uri": "https://localhost:8080/"
        },
        "id": "M19ShspG1qJQ",
        "outputId": "ce9c9cca-fa05-4a1e-abcb-7ca093994f02"
      },
      "outputs": [
        {
          "data": {
            "text/plain": [
              "[20, 42, None, 30, 25, None, 27, 50, 60]"
            ]
          },
          "execution_count": 47,
          "metadata": {},
          "output_type": "execute_result"
        }
      ],
      "source": [
        "age_list = [20,42,None,30,25,None,27,50,60]\n",
        "\n",
        "age_list"
      ]
    },
    {
      "cell_type": "code",
      "execution_count": null,
      "metadata": {
        "colab": {
          "base_uri": "https://localhost:8080/"
        },
        "id": "MUasE__f1rMe",
        "outputId": "efaaf60f-14cf-41eb-a63d-09f005df93fd"
      },
      "outputs": [
        {
          "data": {
            "text/plain": [
              "36"
            ]
          },
          "execution_count": 4,
          "metadata": {},
          "output_type": "execute_result"
        }
      ],
      "source": [
        "a = len(age_list)\n",
        "\n",
        "tmp = []\n",
        "\n",
        "for i in age_list :\n",
        "    if i is not None:\n",
        "        tmp.append(i)\n",
        "\n",
        "res = sum(tmp) / len(tmp)\n",
        "res = int(res)\n",
        "res"
      ]
    },
    {
      "cell_type": "code",
      "execution_count": null,
      "metadata": {
        "colab": {
          "base_uri": "https://localhost:8080/"
        },
        "id": "SIb7PGjI4i8_",
        "outputId": "27ec023c-4b31-4f4a-a53c-ded30258dcac"
      },
      "outputs": [
        {
          "name": "stdout",
          "output_type": "stream",
          "text": [
            "20\n",
            "42\n",
            "36\n",
            "30\n",
            "25\n",
            "36\n",
            "27\n",
            "50\n",
            "60\n"
          ]
        }
      ],
      "source": [
        "a = len(age_list)\n",
        "\n",
        "for j in age_list:\n",
        "    if j is None:\n",
        "        print(res)\n",
        "    else:\n",
        "        print(j)\n"
      ]
    },
    {
      "cell_type": "code",
      "execution_count": null,
      "metadata": {
        "id": "Y6myRMCp7Sy3"
      },
      "outputs": [],
      "source": [
        "[age if age is not None else avg for age in age_list]   # 복습하기"
      ]
    },
    {
      "cell_type": "code",
      "execution_count": null,
      "metadata": {
        "colab": {
          "base_uri": "https://localhost:8080/",
          "height": 209
        },
        "id": "BqqgrZ-8AU7Q",
        "outputId": "c12d43c4-1d5c-434d-b640-8dd96830f055"
      },
      "outputs": [
        {
          "ename": "TypeError",
          "evalue": "ignored",
          "output_type": "error",
          "traceback": [
            "\u001b[0;31m---------------------------------------------------------------------------\u001b[0m",
            "\u001b[0;31mTypeError\u001b[0m                                 Traceback (most recent call last)",
            "\u001b[0;32m<ipython-input-54-d46096c90c99>\u001b[0m in \u001b[0;36m<module>\u001b[0;34m()\u001b[0m\n\u001b[0;32m----> 1\u001b[0;31m \u001b[0mage_list\u001b[0m\u001b[0;34m[\u001b[0m\u001b[0;36m2\u001b[0m\u001b[0;34m:\u001b[0m\u001b[0;36m6\u001b[0m\u001b[0;34m:\u001b[0m\u001b[0;36m3\u001b[0m\u001b[0;34m]\u001b[0m \u001b[0;34m=\u001b[0m \u001b[0mres\u001b[0m\u001b[0;34m\u001b[0m\u001b[0;34m\u001b[0m\u001b[0m\n\u001b[0m\u001b[1;32m      2\u001b[0m \u001b[0;34m\u001b[0m\u001b[0m\n\u001b[1;32m      3\u001b[0m \u001b[0mage_list\u001b[0m\u001b[0;34m\u001b[0m\u001b[0;34m\u001b[0m\u001b[0m\n",
            "\u001b[0;31mTypeError\u001b[0m: must assign iterable to extended slice"
          ]
        }
      ],
      "source": [
        "age_list[2:6:3] = res\n",
        "\n",
        "age_list        # 질문 !"
      ]
    },
    {
      "cell_type": "code",
      "execution_count": null,
      "metadata": {
        "colab": {
          "base_uri": "https://localhost:8080/"
        },
        "id": "7FidowBuIbbK",
        "outputId": "526e5cac-393b-4343-8b83-dcad11852746"
      },
      "outputs": [
        {
          "data": {
            "text/plain": [
              "[None, None]"
            ]
          },
          "execution_count": 52,
          "metadata": {},
          "output_type": "execute_result"
        }
      ],
      "source": [
        "age_list[2:6:3]"
      ]
    },
    {
      "cell_type": "code",
      "execution_count": null,
      "metadata": {
        "colab": {
          "base_uri": "https://localhost:8080/",
          "height": 172
        },
        "id": "QnyxSc_nJ4Va",
        "outputId": "16fceda4-5ea1-4e0e-f303-de9f1bcb5c43"
      },
      "outputs": [
        {
          "ename": "NameError",
          "evalue": "ignored",
          "output_type": "error",
          "traceback": [
            "\u001b[0;31m---------------------------------------------------------------------------\u001b[0m",
            "\u001b[0;31mNameError\u001b[0m                                 Traceback (most recent call last)",
            "\u001b[0;32m<ipython-input-1-68ba0822841a>\u001b[0m in \u001b[0;36m<module>\u001b[0;34m()\u001b[0m\n\u001b[0;32m----> 1\u001b[0;31m \u001b[0mage_list\u001b[0m\u001b[0;34m.\u001b[0m\u001b[0msplice\u001b[0m\u001b[0;34m(\u001b[0m\u001b[0;36m2\u001b[0m\u001b[0;34m)\u001b[0m\u001b[0;34m\u001b[0m\u001b[0;34m\u001b[0m\u001b[0m\n\u001b[0m",
            "\u001b[0;31mNameError\u001b[0m: name 'age_list' is not defined"
          ]
        }
      ],
      "source": [
        "age_list.splice(2)"
      ]
    },
    {
      "cell_type": "code",
      "execution_count": null,
      "metadata": {
        "colab": {
          "base_uri": "https://localhost:8080/"
        },
        "id": "l1XlVLgJrzTk",
        "outputId": "281666e6-41ea-4b76-d1f3-ae727f124bd4"
      },
      "outputs": [
        {
          "data": {
            "text/plain": [
              "36.285714285714285"
            ]
          },
          "execution_count": 40,
          "metadata": {},
          "output_type": "execute_result"
        }
      ],
      "source": [
        "age_list = [20,42,None,30,25,None,27,50,60]\n",
        "tmp = [i for i in age_list if i is not None]\n",
        "avg = sum(tmp) / len(tmp)\n",
        "avg                "
      ]
    },
    {
      "cell_type": "code",
      "execution_count": null,
      "metadata": {
        "colab": {
          "base_uri": "https://localhost:8080/"
        },
        "id": "__Vmdw2HsCzc",
        "outputId": "84f1e118-3cf6-415f-b651-75386de9d1a4"
      },
      "outputs": [
        {
          "data": {
            "text/plain": [
              "[20, 42, 36.285714285714285, 30, 25, 36.285714285714285, 27, 50, 60]"
            ]
          },
          "execution_count": 10,
          "metadata": {},
          "output_type": "execute_result"
        }
      ],
      "source": [
        "age_list = [20,42,None,30,25,None,27,50,60]\n",
        "[ i if i is not None else avg for i in age_list]"
      ]
    },
    {
      "cell_type": "code",
      "execution_count": null,
      "metadata": {
        "colab": {
          "base_uri": "https://localhost:8080/"
        },
        "id": "cbsQqAb9ssli",
        "outputId": "4f18fff8-6964-4b6e-b9b1-4c5a7d7d3723"
      },
      "outputs": [
        {
          "data": {
            "text/plain": [
              "0.8"
            ]
          },
          "execution_count": 19,
          "metadata": {},
          "output_type": "execute_result"
        }
      ],
      "source": [
        "pred_list  = [0,1,0,0,0,1,0,0,0,1]\n",
        "label_list = [0,1,0,1,0,1,0,1,0,1]\n",
        "\n",
        "res = [i for i,k in zip(pred_list,label_list) if i == k ]\n",
        "len(res)/ len(pred_list)"
      ]
    },
    {
      "cell_type": "code",
      "execution_count": null,
      "metadata": {
        "colab": {
          "base_uri": "https://localhost:8080/"
        },
        "id": "wFxIYlqftukD",
        "outputId": "d10051b5-ec4c-4325-8d1c-d6f37c3c4f7e"
      },
      "outputs": [
        {
          "data": {
            "text/plain": [
              "[20, 42, 36.285714285714285, 30, 25, 36.285714285714285, 27, 50, 60]"
            ]
          },
          "execution_count": 53,
          "metadata": {},
          "output_type": "execute_result"
        }
      ],
      "source": [
        "age_list = [20,42,None,30,25,None,27,50,60]\n",
        "\n",
        "for i in range(len(age_list)):\n",
        "    if age_list[i] is None:\n",
        "        age_list[i]=avg\n",
        "\n",
        "age_list"
      ]
    },
    {
      "cell_type": "code",
      "execution_count": null,
      "metadata": {
        "id": "xxrikYMFLK4e"
      },
      "outputs": [],
      "source": [
        "email_list = [\"user1004@gmail.com\",\"user22@naver.com\",\"user30@gmail.com\",\"user100@hanmail.net\"]"
      ]
    },
    {
      "cell_type": "code",
      "execution_count": null,
      "metadata": {
        "id": "Ux30O8D267ql"
      },
      "outputs": [],
      "source": [
        "def do_func(email_list):\n",
        "    tmp = []\n",
        "    for i in email_list:\n",
        "        res = i.split(\"@\")[0]\n",
        "        tmp.append(res)\n",
        "    return tmp"
      ]
    },
    {
      "cell_type": "code",
      "execution_count": null,
      "metadata": {
        "colab": {
          "base_uri": "https://localhost:8080/"
        },
        "id": "WXd5mOLC7Hi_",
        "outputId": "bf101767-633a-47c4-bdc7-6e098e240aec"
      },
      "outputs": [
        {
          "data": {
            "text/plain": [
              "['spdlv9513', 'sad']"
            ]
          },
          "execution_count": 15,
          "metadata": {},
          "output_type": "execute_result"
        }
      ],
      "source": [
        "email_list = [\"spdlv9513@naver.com\",\"sad@vmd.com\"]\n",
        "do_func(email_list)"
      ]
    },
    {
      "cell_type": "markdown",
      "metadata": {
        "id": "IsTiULhA7oH7"
      },
      "source": [
        "# 문제 0)\n",
        "## 2022-08-02\n",
        "```\n",
        "map 함수를 이용해서 enumerate 함수 구현해보자\n",
        "enumerate 함수가 없다고 가정한다.\n",
        "ex)\n",
        "lst = [100,200,300]\n",
        "enumerate_func = map(func, iterables)\n",
        "for i,v in enumerate_func:\n",
        "    print(i,v)\n",
        "Output:\n",
        "0 100\n",
        "1 200\n",
        "2 300\n",
        "```"
      ]
    },
    {
      "cell_type": "code",
      "execution_count": null,
      "metadata": {
        "colab": {
          "base_uri": "https://localhost:8080/"
        },
        "id": "lhzsmPYa19Aa",
        "outputId": "cb0664ba-113c-4bd1-9186-2016e9dd8246"
      },
      "outputs": [
        {
          "name": "stdout",
          "output_type": "stream",
          "text": [
            "0 100\n",
            "1 200\n",
            "2 300\n"
          ]
        }
      ],
      "source": [
        "lst = [100,200,300]\n",
        "enumerate_func = map(lambda x1,x2: (x1,x2), range(len(lst)),lst)\n",
        "for i,v in enumerate_func:\n",
        "    print(i,v)"
      ]
    },
    {
      "cell_type": "markdown",
      "metadata": {
        "id": "kmthc8wK2yLD"
      },
      "source": [
        "# 문제 1)\n",
        "```\n",
        "행 혹은 행렬 형태의 리스트를 입력 받아 행의 크기와 열의 크기를 튜플로 반환하는 함수를 작성하시오\n",
        "\n",
        "ex)\n",
        "shape([]) -> (0,)\n",
        "shape([1,2,3]) -> (3,)\n",
        "shape([[1,2,3],[4,5,6]]) -> (2,3)\n",
        "\n",
        "2차원 행렬 예시:\n",
        "[\n",
        "    [1,2,3],\n",
        "    [4,5,6]\n",
        "]\n",
        "```"
      ]
    },
    {
      "cell_type": "code",
      "execution_count": null,
      "metadata": {
        "colab": {
          "base_uri": "https://localhost:8080/"
        },
        "id": "L5QE3kql3IyU",
        "outputId": "8538cd0b-667c-4071-c545-71c91e993320"
      },
      "outputs": [
        {
          "data": {
            "text/plain": [
              "3"
            ]
          },
          "execution_count": 50,
          "metadata": {},
          "output_type": "execute_result"
        }
      ],
      "source": [
        "def shape(x):\n",
        "    if len(x) == 0:\n",
        "        res = 0,\n",
        "    elif type(x[0]) is list:\n",
        "        res = (len(x),len(x[0]))\n",
        "    else:\n",
        "        res = len(x)\n",
        "    return res\n",
        "\n",
        "shape([1,2,3])"
      ]
    },
    {
      "cell_type": "markdown",
      "metadata": {
        "id": "Y1r838Em3hBJ"
      },
      "source": [
        "# 문제 2)\n",
        "```\n",
        "행렬 형태의 리스트를 입력 받고 변경하고자하는 행의 크기와 열의 크기로 변환해서 \n",
        "리스트로  반환 함수를 작성하시오\n",
        "행과 열의 크기는 튜플로 받는다 . \n",
        "무조건 튜플 아니면 -1 입력이 들어온다고 가정한다.\n",
        "튜플은 무조건 2개의 요소가 포함되서 들어온다고 가정한다.\n",
        "튜플이 아닌 -1 이 들어올경우 1차원 형태로 flatten 시킨다.\n",
        "\n",
        "ex)\n",
        "data = [\n",
        "       [1,2,3],\n",
        "       [4,5,6]\n",
        "]\n",
        "reshape(data,-1) -> [1,2,3,4,5,6]\n",
        "reshape(data,(3,2)) -> [[1,2],[3,4],[5,6]]\n",
        "\n",
        "2차원 행렬 예시:\n",
        "[\n",
        "    [1,2],\n",
        "    [3,4],\n",
        "    [5,6]\n",
        "]\n",
        "```"
      ]
    },
    {
      "cell_type": "code",
      "execution_count": null,
      "metadata": {
        "id": "hdcgXTPU66Ay"
      },
      "outputs": [],
      "source": [
        "data = [\n",
        "       [1,2,3],\n",
        "       [4,5,6]\n",
        "]"
      ]
    },
    {
      "cell_type": "code",
      "execution_count": null,
      "metadata": {
        "colab": {
          "base_uri": "https://localhost:8080/"
        },
        "id": "wVfh249d6_hN",
        "outputId": "78b7799c-b476-4e39-bea5-30838b31df58"
      },
      "outputs": [
        {
          "data": {
            "text/plain": [
              "[[1, 2], [3, 4], [5, 6]]"
            ]
          },
          "execution_count": 115,
          "metadata": {},
          "output_type": "execute_result"
        }
      ],
      "source": [
        "def reshape(lst,shape):\n",
        "   \n",
        "    flatten = []\n",
        "    for i in lst:\n",
        "        flatten.extend(i)\n",
        "    res = flatten\n",
        "\n",
        "    if shape != -1:\n",
        "        row = shape[0]  # 3\n",
        "        col = shape[1]  # 2\n",
        "        res = []\n",
        "        for i in range(row):    # 0,1,2\n",
        "            start_index = i * col   # 0 * 2 = 0, 1 * 2 = 2, 2 * 2 = 4\n",
        "            end_index = start_index + col   # 0 + 2 = 2, 2 + 2 = 4, 4 + 2 = 6 \n",
        "            x =  flatten[start_index:end_index] # [0:2], [2:4], [4:6]\n",
        "            res.append(x)\n",
        "\n",
        "    return res\n",
        "\n",
        "reshape(data,(3,2))"
      ]
    },
    {
      "cell_type": "code",
      "execution_count": null,
      "metadata": {
        "colab": {
          "base_uri": "https://localhost:8080/"
        },
        "id": "DTJ4IXt57oFw",
        "outputId": "6ae5feea-15d0-49da-96f2-5c56a4a16638"
      },
      "outputs": [
        {
          "data": {
            "text/plain": [
              "[1, 2, 3, 4, 5, 6]"
            ]
          },
          "execution_count": 84,
          "metadata": {},
          "output_type": "execute_result"
        }
      ],
      "source": [
        "x = [1,2,3,4,5,6]   # 슬라이싱\n",
        "x[0:6]"
      ]
    },
    {
      "cell_type": "markdown",
      "metadata": {
        "id": "x8ATCFXa_AFj"
      },
      "source": [
        "# 문제 3)\n",
        "\n",
        "```\n",
        "행렬 형태의 리스트를 입력 받고 행렬을 전치하는 함수를 작성하시오\n",
        "행렬 전치는 열이 행이 되고 행은 열이 된다.\n",
        "\n",
        "ex)\n",
        "data = [\n",
        "       [1,2,3],\n",
        "       [4,5,6]\n",
        "]\n",
        "transpose(data) -> [[1, 4], [2, 5], [3, 6]]\n",
        "\n",
        "2차원 행렬 예시:\n",
        "[\n",
        "    [1, 4], \n",
        "    [2, 5], \n",
        "    [3, 6]\n",
        "]\n",
        "\n",
        "```"
      ]
    },
    {
      "cell_type": "code",
      "execution_count": null,
      "metadata": {
        "id": "l9bBbKkOBP3p"
      },
      "outputs": [],
      "source": [
        "data = [\n",
        "       [1,2,3],\n",
        "       [4,5,6]\n",
        "]\n",
        "def transpose(x):\n",
        "    res = [list(i) for i in zip(*x)]\n",
        "    return res\n",
        "transpose(data)"
      ]
    },
    {
      "cell_type": "code",
      "execution_count": null,
      "metadata": {
        "colab": {
          "base_uri": "https://localhost:8080/"
        },
        "id": "Qkv8C-GJC1Ih",
        "outputId": "799d1c5d-11fc-4752-9de3-845c8675a6c5"
      },
      "outputs": [
        {
          "name": "stdout",
          "output_type": "stream",
          "text": [
            "[1, 2, 3] [4, 5, 6]\n"
          ]
        }
      ],
      "source": [
        "data = [\n",
        "       [1,2,3],\n",
        "       [4,5,6]\n",
        "]\n",
        "print(*data) # 언패킹한 데이터를 zip함수로 병렬로 정렬"
      ]
    },
    {
      "cell_type": "code",
      "execution_count": null,
      "metadata": {
        "colab": {
          "base_uri": "https://localhost:8080/"
        },
        "id": "lHNosnJGCoHY",
        "outputId": "7d18dcb0-c769-4562-cf87-9f8cf394b7d1"
      },
      "outputs": [
        {
          "data": {
            "text/plain": [
              "[(1, 4), (2, 5), (3, 6)]"
            ]
          },
          "execution_count": 124,
          "metadata": {},
          "output_type": "execute_result"
        }
      ],
      "source": [
        "data = [\n",
        "       [1,2,3],\n",
        "       [4,5,6]\n",
        "]\n",
        "def transpose(x):\n",
        "    res = [i for i in zip(*x)]  # zip함수는 튜플로 반환한다. 그래서 list로 묶어줘야 한다.\n",
        "    return res\n",
        "transpose(data)"
      ]
    },
    {
      "cell_type": "code",
      "execution_count": null,
      "metadata": {
        "colab": {
          "base_uri": "https://localhost:8080/"
        },
        "id": "QzSHwerrDm3m",
        "outputId": "dcd3a913-7875-4dc7-bbde-6d3cd6f32a46"
      },
      "outputs": [
        {
          "data": {
            "text/plain": [
              "[[1, 4], [2, 5], [3, 6]]"
            ]
          },
          "execution_count": 129,
          "metadata": {},
          "output_type": "execute_result"
        }
      ],
      "source": [
        "data = [\n",
        "       [1,2,3],\n",
        "       [4,5,6]\n",
        "]\n",
        "\n",
        "def transpose(data):    # 언패킹과 zip 사용\n",
        "\n",
        "    lst = list(map(list, zip(*data))) # => map 바깥의 list를 빼면 주소값(객체)만 출력된다.\n",
        "    res = lst\n",
        "    return res\n",
        "\n",
        "transpose(data)"
      ]
    },
    {
      "cell_type": "markdown",
      "metadata": {
        "id": "DFawMG-kErqX"
      },
      "source": [
        "#문제 0)\n",
        "## 2022-08-03"
      ]
    },
    {
      "cell_type": "markdown",
      "metadata": {
        "id": "yyNCVRHXFIh8"
      },
      "source": [
        "```\n",
        "다음과 같은 형태의 리스트를 입력받고 , key 이름들을 리스트로 입력 받아 dict 자료형을 생성하는 클래스를 만드시오\n",
        "ex)\n",
        "class DictDataset:\n",
        "    code context\n",
        "data = [\n",
        "        [1,2,3,4,5,6,7,8,9],\n",
        "        [10,20,30,40,50,60,70,80,90]\n",
        "]\n",
        "dict_dt = DictDataset(data,[\"col1\",\"col2\"])\n",
        "dict_dt.dataset\n",
        "Ouput:\n",
        "{'col1': [1, 2, 3, 4, 5, 6, 7, 8, 9],\n",
        " 'col2': [10, 20, 30, 40, 50, 60, 70, 80, 90]}\n",
        "```"
      ]
    },
    {
      "cell_type": "code",
      "execution_count": null,
      "metadata": {
        "id": "HimQIv8XH28T"
      },
      "outputs": [],
      "source": [
        "data = [\n",
        "        [1,2,3,4,5,6,7,8,9],\n",
        "        [10,20,30,40,50,60,70,80,90]\n",
        "]"
      ]
    },
    {
      "cell_type": "code",
      "execution_count": null,
      "metadata": {
        "id": "4KNcHzbWH34D"
      },
      "outputs": [],
      "source": [
        "class DictDataset:\n",
        "    def __init__(self,data,lst):\n",
        "        self.dataset = dict(zip(lst,data))"
      ]
    },
    {
      "cell_type": "code",
      "execution_count": null,
      "metadata": {
        "colab": {
          "base_uri": "https://localhost:8080/"
        },
        "id": "59pmqX3yH38D",
        "outputId": "466f3554-edd7-438b-e3c6-3e9065baa435"
      },
      "outputs": [
        {
          "data": {
            "text/plain": [
              "{'col1': [1, 2, 3, 4, 5, 6, 7, 8, 9],\n",
              " 'col2': [10, 20, 30, 40, 50, 60, 70, 80, 90]}"
            ]
          },
          "execution_count": 31,
          "metadata": {},
          "output_type": "execute_result"
        }
      ],
      "source": [
        "dict_dt = DictDataset(data,[\"col1\",\"col2\"])\n",
        "dict_dt.dataset"
      ]
    },
    {
      "cell_type": "code",
      "execution_count": null,
      "metadata": {
        "id": "5Oi-vgJDuodv"
      },
      "outputs": [],
      "source": [
        "class DictDataset:\n",
        "    def __init__(self,data,lst):\n",
        "        self.dataset = dict(zip(lst,data))\n",
        "\n",
        "\n",
        "lst = [\"col1\",\"col2\"]\n",
        "data = [\n",
        "        [1,2,3,4,5,6,7,8,9],\n",
        "        [10,20,30,40,50,60,70,80,90]\n",
        "]"
      ]
    },
    {
      "cell_type": "code",
      "execution_count": null,
      "metadata": {
        "colab": {
          "base_uri": "https://localhost:8080/"
        },
        "id": "-XWwlTOauo9R",
        "outputId": "63ffb5d4-8457-48d8-84d8-f55519d93f03"
      },
      "outputs": [
        {
          "data": {
            "text/plain": [
              "{'col1': [1, 2, 3, 4, 5, 6, 7, 8, 9],\n",
              " 'col2': [10, 20, 30, 40, 50, 60, 70, 80, 90]}"
            ]
          },
          "execution_count": 19,
          "metadata": {},
          "output_type": "execute_result"
        }
      ],
      "source": [
        "dict_dt = DictDataset(data,[\"col1\",\"col2\"])\n",
        "dict_dt.dataset"
      ]
    },
    {
      "cell_type": "markdown",
      "metadata": {
        "id": "HsJOny-0qi15"
      },
      "source": [
        "# 문제 1)\n",
        "```\n",
        "위에 구현한 클래스에서 추가 메소드를 작성하시오\n",
        "head 메소드와 tail 메소드를 작성하세요\n",
        "head 메소드의 경우 인자값이 없을경우 dict의 모든 value의 앞에서 5개의 값들이 key 와 함께 dict 형태로 리턴되게 하세요\n",
        "tail 메소드의 경우 인자값이 없을경우 dict의 모든 value의 뒤에서 5개의 값들이 key 와 함께 dict 형태로 리턴되게 하세요.\n",
        "(역순으로 출력되는 것이 아님)\n",
        "head , tail 모두 인자값이 주어질경우 인자값 개수만큼 value가 나오게 한다.\n",
        "(1 이상 인자값을 받는다는 가정을 하기 때문에 조건문으로 체크 안해도 됩니다.)\n",
        "ex)\n",
        "class DictDataset:\n",
        "    def __init__(self,lst,keys):\n",
        "        self.dataset = dict(zip(keys,lst))\n",
        "        \n",
        "dict_dt = DictDataset(data,[\"col1\",\"col2\"])\n",
        "dict_dt.head()\n",
        "Output:\n",
        "{'col1': [1, 2, 3, 4, 5], 'col2': [10, 20, 30, 40, 50]}\n",
        "dict_dt.head(3)\n",
        "Output:\n",
        "{'col1': [1, 2, 3], 'col2': [10, 20, 30]}\n",
        "dict_dt.tail()\n",
        "Output:\n",
        "{'col1': [5, 6, 7, 8, 9], 'col2': [50, 60, 70, 80, 90]}\n",
        "dict_dt.tail(3)\n",
        "Output:\n",
        "{'col1': [7, 8, 9], 'col2': [70, 80, 90]}\n",
        "```"
      ]
    },
    {
      "cell_type": "code",
      "execution_count": null,
      "metadata": {
        "id": "hWY4XPmBxFhq"
      },
      "outputs": [],
      "source": [
        "class DictDataset:\n",
        "    def __init__(self,lst,keys):\n",
        "        self.dataset = dict(zip(keys,lst))\n",
        "\n",
        "    def head (self,num=5):\n",
        "        return { k:v[:num] for k,v in self.dataset.items() }\n",
        "\n",
        "    def tail (self,num=5):\n",
        "        return { k:v[-num:] for k,v in self.dataset.items() }\n",
        "\n",
        "data = [\n",
        "        [1,2,3,4,5,6,7,8,9],\n",
        "        [10,20,30,40,50,60,70,80,90]\n",
        "]\n",
        "keys = [\"col1\",\"col2\"]"
      ]
    },
    {
      "cell_type": "code",
      "execution_count": null,
      "metadata": {
        "colab": {
          "base_uri": "https://localhost:8080/"
        },
        "id": "TO9sHvwwyeuj",
        "outputId": "63c73af7-9b67-40f2-87a9-1bcafbad2f33"
      },
      "outputs": [
        {
          "data": {
            "text/plain": [
              "{'col1': [5, 6, 7, 8, 9], 'col2': [50, 60, 70, 80, 90]}"
            ]
          },
          "execution_count": 25,
          "metadata": {},
          "output_type": "execute_result"
        }
      ],
      "source": [
        "x = DictDataset(data,keys)\n",
        "x.dataset\n",
        "x.head(3)\n",
        "x.tail()"
      ]
    },
    {
      "cell_type": "code",
      "execution_count": null,
      "metadata": {
        "colab": {
          "base_uri": "https://localhost:8080/"
        },
        "id": "X6x2lcdOymC_",
        "outputId": "38657a94-79e8-4862-a2b9-82e5c6d2ba6d"
      },
      "outputs": [
        {
          "data": {
            "text/plain": [
              "['col1', 'col2']"
            ]
          },
          "execution_count": 41,
          "metadata": {},
          "output_type": "execute_result"
        }
      ],
      "source": [
        ""
      ]
    },
    {
      "cell_type": "markdown",
      "metadata": {
        "id": "qFv8Jmvay90M"
      },
      "source": [
        "# 문제 3)\n",
        "```\n",
        "구현한 클래스에서 추가 메소드를 작성하시오\n",
        "rename 메소드를 작성하세요\n",
        "딕셔너리를 입력 받아 인스턴스 변수인 dataset의 key를 변경하는 메소드를 작성하세요.\n",
        "ex)\n",
        "dict_dt = DictDataset(data,[\"col1\",\"col2\"])\n",
        "keys_rename = {\n",
        "    \"col1\" : \"num1\",\n",
        "    \"col2\" : \"num2\"\n",
        "}\n",
        "dict_dt.rename(keys_rename)\n",
        "dict_dt.dataset\n",
        "Output:\n",
        "{'num1': [1, 2, 3, 4, 5, 6, 7, 8, 9],\n",
        " 'num2': [10, 20, 30, 40, 50, 60, 70, 80, 90]}\n",
        "```"
      ]
    },
    {
      "cell_type": "code",
      "execution_count": null,
      "metadata": {
        "id": "sc3khFlc6TM5"
      },
      "outputs": [],
      "source": [
        "class DictDataset:\n",
        "    def __init__(self,lst,keys):\n",
        "        self.dataset = dict(zip(keys,lst))\n",
        "\n",
        "    def rename(self,keys):\n",
        "        for k,v in keys.items():\n",
        "            self.dataset[v] = self.dataset.pop(k)"
      ]
    },
    {
      "cell_type": "code",
      "execution_count": null,
      "metadata": {
        "colab": {
          "base_uri": "https://localhost:8080/"
        },
        "id": "Z3BgXNVU7fDV",
        "outputId": "2b29714d-cb43-414a-f23b-4e6e71d29da4"
      },
      "outputs": [
        {
          "data": {
            "text/plain": [
              "{'num1': [1, 2, 3, 4, 5, 6, 7, 8, 9],\n",
              " 'num2': [10, 20, 30, 40, 50, 60, 70, 80, 90]}"
            ]
          },
          "execution_count": 103,
          "metadata": {},
          "output_type": "execute_result"
        }
      ],
      "source": [
        "dict_dt = DictDataset(data,[\"col1\",\"col2\"])\n",
        "keys_rename = {\n",
        "    \"col1\" : \"num1\",\n",
        "    \"col2\" : \"num2\"\n",
        "}\n",
        "dict_dt.rename(keys_rename)\n",
        "dict_dt.dataset"
      ]
    },
    {
      "cell_type": "code",
      "execution_count": null,
      "metadata": {
        "colab": {
          "base_uri": "https://localhost:8080/"
        },
        "id": "g0jT5ooX_2-I",
        "outputId": "4d972709-35fa-48b2-aec9-df95301a8087"
      },
      "outputs": [
        {
          "data": {
            "text/plain": [
              "{'num1': [1, 2, 3, 4, 5, 6, 7, 8, 9],\n",
              " 'num2': [10, 20, 30, 40, 50, 60, 70, 80, 90]}"
            ]
          },
          "execution_count": 74,
          "metadata": {},
          "output_type": "execute_result"
        }
      ],
      "source": [
        ""
      ]
    },
    {
      "cell_type": "code",
      "execution_count": null,
      "metadata": {
        "colab": {
          "base_uri": "https://localhost:8080/"
        },
        "id": "uTGY2fcS_5Of",
        "outputId": "ee1c5636-4a7b-459d-b24e-e102fae2c0db"
      },
      "outputs": [
        {
          "data": {
            "text/plain": [
              "{'num1': [5, 6, 7, 8, 9], 'num2': [50, 60, 70, 80, 90]}"
            ]
          },
          "execution_count": 76,
          "metadata": {},
          "output_type": "execute_result"
        }
      ],
      "source": [
        "x = {'col1': [5, 6, 7, 8, 9], 'col2': [50, 60, 70, 80, 90]}\n",
        "\n",
        "keys = {\n",
        "    \"col1\" : \"num1\",\n",
        "    \"col2\" : \"num2\"\n",
        "}\n",
        "\n",
        "for k,v in keys.items():\n",
        "    x[v] = x.pop(k)     # value는 [] 사용해야함!\n",
        "    \n",
        "x"
      ]
    },
    {
      "cell_type": "markdown",
      "metadata": {
        "id": "exjQzjiaFGTf"
      },
      "source": [
        "# 문제0\n",
        "## 2022-08-04"
      ]
    },
    {
      "cell_type": "code",
      "execution_count": null,
      "metadata": {
        "id": "5PsIXKKZFRMi"
      },
      "outputs": [],
      "source": [
        "class Calculator:\n",
        "    def __init__(self,num=0):\n",
        "        self.num = num\n",
        "        \n",
        "    def add(self,num): # 한개의 정수를 입력 받아 self.num 더하기, 반환값 X\n",
        "        pass\n",
        "    def sub(self,num): # 한개의 정수를 입력 받아 self.num 빼기, 반환값 X\n",
        "        pass\n",
        "    def mul(self,num): # 한개의 정수를 입력 받아 self.num 곱하기, 반환값 X\n",
        "        pass\n",
        "    def div(self,num): # 한개의 정수를 입력 받아 self.num 나누기, 반환값 X\n",
        "        pass\n",
        "    def result(self):\n",
        "        return self.num\n",
        "\n",
        "    def reset(self):\n",
        "        self.num = 0"
      ]
    },
    {
      "cell_type": "code",
      "execution_count": null,
      "metadata": {
        "id": "kO3jUkyoFcZn"
      },
      "outputs": [],
      "source": [
        "class My(Calculator):\n",
        "    def __init__(self,n):\n",
        "        self.n = n\n",
        "        super().__init__()\n",
        "    \n",
        "    def add(self,n):\n",
        "        if type(n) is int:\n",
        "            self.n = self.n + n\n",
        "        else:\n",
        "            print(\"입력값이 정수가 아닙니다. 입력값을 0으로 변경합니다.\")\n",
        "    \n",
        "    def sub(self,n): \n",
        "        self.n -= self.gets(n)\n",
        "    def mul(self,n):\n",
        "        if self.gets(n):\n",
        "            self.n *= n\n",
        "    def div(self,n): \n",
        "        if self.gets(n):\n",
        "            self.n /= n\n",
        "    def result(self):\n",
        "        return self.n\n",
        "\n",
        "    def gets(self,n):\n",
        "        if type(n) is not int:\n",
        "            print(\"입력값이 정수가 아닙니다. 입력값을 0으로 변경합니다.\")\n",
        "            n = 0\n",
        "        return n"
      ]
    },
    {
      "cell_type": "code",
      "execution_count": null,
      "metadata": {
        "colab": {
          "base_uri": "https://localhost:8080/"
        },
        "id": "D4Pai8fxG6SV",
        "outputId": "8cd9e134-6188-454d-e0b8-57109c280200"
      },
      "outputs": [
        {
          "data": {
            "text/plain": [
              "2.0"
            ]
          },
          "execution_count": 87,
          "metadata": {},
          "output_type": "execute_result"
        }
      ],
      "source": [
        "a = My(4)\n",
        "a.div(2)\n",
        "a.result()"
      ]
    },
    {
      "cell_type": "markdown",
      "metadata": {
        "id": "YgaeG28iTHVZ"
      },
      "source": [
        "13번,22번,23번,29번,32번,40번,50번"
      ]
    },
    {
      "cell_type": "code",
      "execution_count": null,
      "metadata": {
        "colab": {
          "base_uri": "https://localhost:8080/",
          "height": 136
        },
        "id": "aSxawSR-FKOV",
        "outputId": "41c2ff2c-497c-4e60-e122-7b1aaee5efe3"
      },
      "outputs": [
        {
          "ename": "IndentationError",
          "evalue": "ignored",
          "output_type": "error",
          "traceback": [
            "\u001b[0;36m  File \u001b[0;32m\"<ipython-input-1-ae1a20daacba>\"\u001b[0;36m, line \u001b[0;32m6\u001b[0m\n\u001b[0;31m    return answer\u001b[0m\n\u001b[0m    ^\u001b[0m\n\u001b[0;31mIndentationError\u001b[0m\u001b[0;31m:\u001b[0m expected an indented block\n"
          ]
        }
      ],
      "source": [
        "def solution(a, b):\n",
        "    answer = 0\n",
        "    for i in range(a):\n",
        "        for j in range(b):\n",
        "            \n",
        "    return answer"
      ]
    },
    {
      "cell_type": "code",
      "execution_count": null,
      "metadata": {
        "colab": {
          "base_uri": "https://localhost:8080/"
        },
        "id": "_bZiAdDJFQKj",
        "outputId": "c3cff52d-ac44-42be-f600-351f1ff9c575"
      },
      "outputs": [
        {
          "data": {
            "text/plain": [
              "12"
            ]
          },
          "execution_count": 7,
          "metadata": {},
          "output_type": "execute_result"
        }
      ],
      "source": [
        "a = 3\n",
        "b = 5\n",
        "tmp = []\n",
        "for i in range(a,b+1):\n",
        "    tmp.append(i)\n",
        "\n",
        "x = sum(tmp)\n",
        "x"
      ]
    },
    {
      "cell_type": "code",
      "execution_count": null,
      "metadata": {
        "id": "hUJfT5uZFXI0"
      },
      "outputs": [],
      "source": [
        "def solution(a, b):\n",
        "    tmp = []\n",
        "    if a < b:\n",
        "        for i in range(a,b+1):\n",
        "            tmp.append(i)\n",
        "    else:\n",
        "        for i in range(b,a+1):\n",
        "            tmp.append(i)\n",
        "    x = sum(tmp)\n",
        "            \n",
        "    return x"
      ]
    },
    {
      "cell_type": "code",
      "execution_count": null,
      "metadata": {
        "colab": {
          "base_uri": "https://localhost:8080/"
        },
        "id": "EGuwE1x9IGiu",
        "outputId": "95d1147a-441b-41f8-b2af-2f1d9ffacfe8"
      },
      "outputs": [
        {
          "data": {
            "text/plain": [
              "12"
            ]
          },
          "execution_count": 21,
          "metadata": {},
          "output_type": "execute_result"
        }
      ],
      "source": [
        "solution(5,3)"
      ]
    },
    {
      "cell_type": "code",
      "execution_count": null,
      "metadata": {
        "colab": {
          "base_uri": "https://localhost:8080/",
          "height": 35
        },
        "id": "PCyWEyfXZIn1",
        "outputId": "6f357663-dd17-4a2e-f056-149410833800"
      },
      "outputs": [
        {
          "data": {
            "application/vnd.google.colaboratory.intrinsic+json": {
              "type": "string"
            },
            "text/plain": [
              "'수박수박수'"
            ]
          },
          "execution_count": 136,
          "metadata": {},
          "output_type": "execute_result"
        }
      ],
      "source": [
        "def sol(a):\n",
        "    if a % 2 == 0:\n",
        "            return \"수박\"*(a//2)\n",
        "    else:\n",
        "            return \"수박\"*(a//2)+\"수\"\n",
        "    \n",
        "sol(5)"
      ]
    },
    {
      "cell_type": "code",
      "execution_count": null,
      "metadata": {
        "id": "vJAefEncdOcp"
      },
      "outputs": [],
      "source": [
        "def solution(seoul):\n",
        "    for i,k in enumerate(seoul):\n",
        "        if k == \"Kim\":\n",
        "            return (f\"김서방은 {i}에 있다\")\n"
      ]
    },
    {
      "cell_type": "code",
      "execution_count": null,
      "metadata": {
        "colab": {
          "base_uri": "https://localhost:8080/",
          "height": 35
        },
        "id": "PtJqbrOBgn1B",
        "outputId": "98daa9be-a286-4f4c-a31e-b6cec191e342"
      },
      "outputs": [
        {
          "data": {
            "application/vnd.google.colaboratory.intrinsic+json": {
              "type": "string"
            },
            "text/plain": [
              "'김서방은 1에 있다'"
            ]
          },
          "execution_count": 214,
          "metadata": {},
          "output_type": "execute_result"
        }
      ],
      "source": [
        "seoul = [\"Jane\",\"Kim\"]\n",
        "solution(seoul)"
      ]
    },
    {
      "cell_type": "code",
      "execution_count": null,
      "metadata": {
        "id": "-7DjWB9porUa"
      },
      "outputs": [],
      "source": [
        "def solution(n):\n",
        "    tmp = []\n",
        "    for i in range(1,n+1):\n",
        "        if n % i == 0:   # 나머지가 0이면 약수!\n",
        "            tmp.append(i)\n",
        "    return sum(tmp)"
      ]
    },
    {
      "cell_type": "code",
      "execution_count": null,
      "metadata": {
        "colab": {
          "base_uri": "https://localhost:8080/"
        },
        "id": "z9A5kAb7y4ce",
        "outputId": "f5436e01-4ce6-4898-a6e6-fd50b6c844bb"
      },
      "outputs": [
        {
          "output_type": "execute_result",
          "data": {
            "text/plain": [
              "28"
            ]
          },
          "metadata": {},
          "execution_count": 262
        }
      ],
      "source": [
        "solution(12)"
      ]
    },
    {
      "cell_type": "code",
      "execution_count": null,
      "metadata": {
        "id": "aoI-fyOG3Mm9"
      },
      "outputs": [],
      "source": [
        "def solution(s):\n",
        "    if (s.count(\"p\") + s.count(\"P\")) == (s.count(\"y\") + s.count(\"Y\")):\n",
        "        return True\n",
        "    else: \n",
        "        return False\n",
        "    "
      ]
    },
    {
      "cell_type": "code",
      "source": [
        "solution(\"Pyy\")"
      ],
      "metadata": {
        "colab": {
          "base_uri": "https://localhost:8080/"
        },
        "id": "JU1j84Fo6FED",
        "outputId": "a8e01929-d7f2-4b25-b327-e63815da551d"
      },
      "execution_count": null,
      "outputs": [
        {
          "output_type": "execute_result",
          "data": {
            "text/plain": [
              "False"
            ]
          },
          "metadata": {},
          "execution_count": 292
        }
      ]
    },
    {
      "cell_type": "code",
      "source": [
        "def solution(arr):\n",
        "    tmp = [arr[0]]\n",
        "    for i in arr[1:]:\n",
        "        if tmp[-1] != i:    # tmp[-1]을 이용하여 들어온 값을 반복하여 비교한다.\n",
        "            tmp.append(i)\n",
        "    return tmp"
      ],
      "metadata": {
        "id": "Rj7QkpqG8XxP"
      },
      "execution_count": null,
      "outputs": []
    },
    {
      "cell_type": "code",
      "source": [
        "solution(x)"
      ],
      "metadata": {
        "colab": {
          "base_uri": "https://localhost:8080/"
        },
        "id": "AvxTPXpS8d9G",
        "outputId": "70e0ee7f-fad1-45ee-cba0-7397e7c17e34"
      },
      "execution_count": null,
      "outputs": [
        {
          "output_type": "execute_result",
          "data": {
            "text/plain": [
              "[1, 3, 0, 1]"
            ]
          },
          "metadata": {},
          "execution_count": 388
        }
      ]
    },
    {
      "cell_type": "code",
      "source": [
        "def solution(s):\n",
        "    if len(s) % 2 == 0:\n",
        "        for i in range(len(s)):\n",
        "            x = s[i//2:(i//2)+2]\n",
        "    else:\n",
        "        for i in range(len(s)):\n",
        "            x = s[(i//2)]\n",
        "    return x"
      ],
      "metadata": {
        "id": "AESyUc9Dr3OY"
      },
      "execution_count": null,
      "outputs": []
    },
    {
      "cell_type": "code",
      "source": [
        "solution(\"abcd\")"
      ],
      "metadata": {
        "colab": {
          "base_uri": "https://localhost:8080/",
          "height": 35
        },
        "id": "iT0BYe6Yz2nS",
        "outputId": "7888ddcb-12b1-4d4f-91cd-1a983e812568"
      },
      "execution_count": null,
      "outputs": [
        {
          "output_type": "execute_result",
          "data": {
            "text/plain": [
              "'bc'"
            ],
            "application/vnd.google.colaboratory.intrinsic+json": {
              "type": "string"
            }
          },
          "metadata": {},
          "execution_count": 112
        }
      ]
    },
    {
      "cell_type": "code",
      "source": [
        "def solution(a,b):\n",
        "    tmp = []\n",
        "    for i in range(1,b+1):\n",
        "        tmp.append(i*a)\n",
        "\n",
        "    return tmp"
      ],
      "metadata": {
        "id": "ufjC7osb4BQ_"
      },
      "execution_count": null,
      "outputs": []
    },
    {
      "cell_type": "code",
      "source": [
        "solution(2,5)"
      ],
      "metadata": {
        "colab": {
          "base_uri": "https://localhost:8080/"
        },
        "id": "vtJ3NaLr47ye",
        "outputId": "e9c4f723-8a0c-4be7-c344-33846ea77d7d"
      },
      "execution_count": null,
      "outputs": [
        {
          "output_type": "execute_result",
          "data": {
            "text/plain": [
              "[2, 4, 6, 8, 10]"
            ]
          },
          "metadata": {},
          "execution_count": 162
        }
      ]
    },
    {
      "cell_type": "code",
      "source": [
        "a, b = map(int, input().strip().split(' '))\n",
        "for i in range(b):\n",
        "    print(a*\"*\")"
      ],
      "metadata": {
        "colab": {
          "base_uri": "https://localhost:8080/"
        },
        "id": "LySNME8U5-Ru",
        "outputId": "91df211b-7808-43cc-b433-7fd5e685d2e0"
      },
      "execution_count": null,
      "outputs": [
        {
          "output_type": "stream",
          "name": "stdout",
          "text": [
            "5 3\n",
            "*****\n",
            "*****\n",
            "*****\n"
          ]
        }
      ]
    },
    {
      "cell_type": "markdown",
      "source": [
        "# 다시보기! 행렬의 덧셈"
      ],
      "metadata": {
        "id": "AjAbMXGI6WD9"
      }
    },
    {
      "cell_type": "code",
      "source": [
        "def solution(arr1,arr2):\n",
        "    x = []\n",
        "    for i,k in zip(arr1,arr2):\n",
        "        w = []\n",
        "        for a,b in zip(i,k):\n",
        "            w.append(a+b)\n",
        "        x.append(w)\n",
        "    return x"
      ],
      "metadata": {
        "colab": {
          "base_uri": "https://localhost:8080/"
        },
        "id": "3q13yo6J7T2d",
        "outputId": "5d27911a-beb1-4b8f-e596-10b59c101e93"
      },
      "execution_count": null,
      "outputs": [
        {
          "output_type": "execute_result",
          "data": {
            "text/plain": [
              "[[1, 3], [2, 4]]"
            ]
          },
          "metadata": {},
          "execution_count": 264
        }
      ]
    },
    {
      "cell_type": "code",
      "source": [
        "def solution(num):\n",
        "    if num % 2 == 0:\n",
        "       return (\"Even\")\n",
        "    else:\n",
        "      return  (\"Odd\")"
      ],
      "metadata": {
        "id": "JYJewvUV-4DD"
      },
      "execution_count": null,
      "outputs": []
    },
    {
      "cell_type": "code",
      "source": [
        "solution(2)"
      ],
      "metadata": {
        "colab": {
          "base_uri": "https://localhost:8080/",
          "height": 35
        },
        "id": "uhC8ox3tFMug",
        "outputId": "ec471f14-fabe-4c89-9ee8-2c3903795267"
      },
      "execution_count": null,
      "outputs": [
        {
          "output_type": "execute_result",
          "data": {
            "text/plain": [
              "'Even'"
            ],
            "application/vnd.google.colaboratory.intrinsic+json": {
              "type": "string"
            }
          },
          "metadata": {},
          "execution_count": 289
        }
      ]
    },
    {
      "cell_type": "code",
      "source": [
        "def solution(n):\n",
        "    tmp = []\n",
        "    for i in str(n):\n",
        "        tmp.append(int(i))\n",
        "    x = sum(tmp)\n",
        "    return x"
      ],
      "metadata": {
        "id": "D145j33jFcvo"
      },
      "execution_count": null,
      "outputs": []
    },
    {
      "cell_type": "code",
      "source": [
        "solution(987)"
      ],
      "metadata": {
        "id": "SYsf7reHnV9b",
        "colab": {
          "base_uri": "https://localhost:8080/"
        },
        "outputId": "8f495444-5aae-4eff-9cbb-f62230ecb54a"
      },
      "execution_count": null,
      "outputs": [
        {
          "output_type": "execute_result",
          "data": {
            "text/plain": [
              "24"
            ]
          },
          "metadata": {},
          "execution_count": 36
        }
      ]
    },
    {
      "cell_type": "code",
      "source": [
        "n = 3\n",
        "m = 12"
      ],
      "metadata": {
        "id": "8R756T85AQtq"
      },
      "execution_count": null,
      "outputs": []
    },
    {
      "cell_type": "code",
      "source": [
        "5%2"
      ],
      "metadata": {
        "colab": {
          "base_uri": "https://localhost:8080/"
        },
        "id": "B89_bPYuFR2h",
        "outputId": "6fd86048-c8db-41f1-cb7e-a8f31a52e98c"
      },
      "execution_count": null,
      "outputs": [
        {
          "output_type": "execute_result",
          "data": {
            "text/plain": [
              "1"
            ]
          },
          "metadata": {},
          "execution_count": 40
        }
      ]
    },
    {
      "cell_type": "code",
      "source": [
        ""
      ],
      "metadata": {
        "id": "OxapcVDuFdBo"
      },
      "execution_count": null,
      "outputs": []
    }
  ],
  "metadata": {
    "accelerator": "GPU",
    "colab": {
      "collapsed_sections": [],
      "name": "플레이데이터 이면지.ipynb",
      "provenance": [],
      "authorship_tag": "ABX9TyMBNkGzfS/8oPWkOehNMhlk",
      "include_colab_link": true
    },
    "gpuClass": "standard",
    "kernelspec": {
      "display_name": "Python 3",
      "name": "python3"
    },
    "language_info": {
      "name": "python"
    }
  },
  "nbformat": 4,
  "nbformat_minor": 0
}