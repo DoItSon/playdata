{
  "nbformat": 4,
  "nbformat_minor": 0,
  "metadata": {
    "colab": {
      "name": "07-예외처리.ipynb",
      "provenance": [],
      "collapsed_sections": [],
      "authorship_tag": "ABX9TyPTBrPhYpjFpX+D+Kd8X148",
      "include_colab_link": true
    },
    "kernelspec": {
      "name": "python3",
      "display_name": "Python 3"
    },
    "language_info": {
      "name": "python"
    }
  },
  "cells": [
    {
      "cell_type": "markdown",
      "metadata": {
        "id": "view-in-github",
        "colab_type": "text"
      },
      "source": [
        "<a href=\"https://colab.research.google.com/github/soyongseok/playdata/blob/main/07_%EC%98%88%EC%99%B8%EC%B2%98%EB%A6%AC.ipynb\" target=\"_parent\"><img src=\"https://colab.research.google.com/assets/colab-badge.svg\" alt=\"Open In Colab\"/></a>"
      ]
    },
    {
      "cell_type": "markdown",
      "source": [
        "# 구문적 오류(Syntax Error)\n",
        "- 문법 오류에 의하여 기계어 변환 과정에서 발생하는 오류"
      ],
      "metadata": {
        "id": "9PzQNBDcvOP6"
      }
    },
    {
      "cell_type": "markdown",
      "source": [
        "# 실행 오류(Runtime Error)\n",
        "- 프로그램 실행 중 발생하여 프로그램이 비정상적으로 종료되는 오류"
      ],
      "metadata": {
        "id": "o-0nQK1iy0g3"
      }
    },
    {
      "cell_type": "code",
      "source": [
        "def do_func(text):\n",
        "    return int(text)\n",
        "text = \"3\"\n",
        "do_func(text)"
      ],
      "metadata": {
        "colab": {
          "base_uri": "https://localhost:8080/"
        },
        "id": "Rm0erDZjzKmx",
        "outputId": "58dcc3cc-52ef-49a1-a665-12fa08bf692f"
      },
      "execution_count": null,
      "outputs": [
        {
          "output_type": "execute_result",
          "data": {
            "text/plain": [
              "3"
            ]
          },
          "metadata": {},
          "execution_count": 2
        }
      ]
    },
    {
      "cell_type": "code",
      "source": [
        "text = \"3.0\"\n",
        "do_func(text)"
      ],
      "metadata": {
        "colab": {
          "base_uri": "https://localhost:8080/",
          "height": 299
        },
        "id": "CYQjOvo2zgRE",
        "outputId": "c887b8ad-730d-4482-dfcc-da952b064493"
      },
      "execution_count": null,
      "outputs": [
        {
          "output_type": "error",
          "ename": "ValueError",
          "evalue": "ignored",
          "traceback": [
            "\u001b[0;31m---------------------------------------------------------------------------\u001b[0m",
            "\u001b[0;31mValueError\u001b[0m                                Traceback (most recent call last)",
            "\u001b[0;32m<ipython-input-4-7ac4698e8a41>\u001b[0m in \u001b[0;36m<module>\u001b[0;34m()\u001b[0m\n\u001b[1;32m      1\u001b[0m \u001b[0mtext\u001b[0m \u001b[0;34m=\u001b[0m \u001b[0;34m\"3.0\"\u001b[0m\u001b[0;34m\u001b[0m\u001b[0;34m\u001b[0m\u001b[0m\n\u001b[0;32m----> 2\u001b[0;31m \u001b[0mdo_func\u001b[0m\u001b[0;34m(\u001b[0m\u001b[0mtext\u001b[0m\u001b[0;34m)\u001b[0m\u001b[0;34m\u001b[0m\u001b[0;34m\u001b[0m\u001b[0m\n\u001b[0m",
            "\u001b[0;32m<ipython-input-2-6568bb3cdae9>\u001b[0m in \u001b[0;36mdo_func\u001b[0;34m(text)\u001b[0m\n\u001b[1;32m      1\u001b[0m \u001b[0;32mdef\u001b[0m \u001b[0mdo_func\u001b[0m\u001b[0;34m(\u001b[0m\u001b[0mtext\u001b[0m\u001b[0;34m)\u001b[0m\u001b[0;34m:\u001b[0m\u001b[0;34m\u001b[0m\u001b[0;34m\u001b[0m\u001b[0m\n\u001b[0;32m----> 2\u001b[0;31m     \u001b[0;32mreturn\u001b[0m \u001b[0mint\u001b[0m\u001b[0;34m(\u001b[0m\u001b[0mtext\u001b[0m\u001b[0;34m)\u001b[0m\u001b[0;34m\u001b[0m\u001b[0;34m\u001b[0m\u001b[0m\n\u001b[0m\u001b[1;32m      3\u001b[0m \u001b[0mtext\u001b[0m \u001b[0;34m=\u001b[0m \u001b[0;34m\"3\"\u001b[0m\u001b[0;34m\u001b[0m\u001b[0;34m\u001b[0m\u001b[0m\n\u001b[1;32m      4\u001b[0m \u001b[0mdo_func\u001b[0m\u001b[0;34m(\u001b[0m\u001b[0mtext\u001b[0m\u001b[0;34m)\u001b[0m\u001b[0;34m\u001b[0m\u001b[0;34m\u001b[0m\u001b[0m\n",
            "\u001b[0;31mValueError\u001b[0m: invalid literal for int() with base 10: '3.0'"
          ]
        }
      ]
    },
    {
      "cell_type": "code",
      "source": [
        "def div(n1,n2):\n",
        "    return n1/n2\n",
        "div(10,0)"
      ],
      "metadata": {
        "colab": {
          "base_uri": "https://localhost:8080/",
          "height": 299
        },
        "id": "1Fs3lKmEzqtr",
        "outputId": "ab1d026e-3b3e-4cb2-8e2a-001adf141f21"
      },
      "execution_count": null,
      "outputs": [
        {
          "output_type": "error",
          "ename": "ZeroDivisionError",
          "evalue": "ignored",
          "traceback": [
            "\u001b[0;31m---------------------------------------------------------------------------\u001b[0m",
            "\u001b[0;31mZeroDivisionError\u001b[0m                         Traceback (most recent call last)",
            "\u001b[0;32m<ipython-input-5-66e37f637637>\u001b[0m in \u001b[0;36m<module>\u001b[0;34m()\u001b[0m\n\u001b[1;32m      1\u001b[0m \u001b[0;32mdef\u001b[0m \u001b[0mdiv\u001b[0m\u001b[0;34m(\u001b[0m\u001b[0mn1\u001b[0m\u001b[0;34m,\u001b[0m\u001b[0mn2\u001b[0m\u001b[0;34m)\u001b[0m\u001b[0;34m:\u001b[0m\u001b[0;34m\u001b[0m\u001b[0;34m\u001b[0m\u001b[0m\n\u001b[1;32m      2\u001b[0m     \u001b[0;32mreturn\u001b[0m \u001b[0mn1\u001b[0m\u001b[0;34m/\u001b[0m\u001b[0mn2\u001b[0m\u001b[0;34m\u001b[0m\u001b[0;34m\u001b[0m\u001b[0m\n\u001b[0;32m----> 3\u001b[0;31m \u001b[0mdiv\u001b[0m\u001b[0;34m(\u001b[0m\u001b[0;36m10\u001b[0m\u001b[0;34m,\u001b[0m\u001b[0;36m0\u001b[0m\u001b[0;34m)\u001b[0m\u001b[0;34m\u001b[0m\u001b[0;34m\u001b[0m\u001b[0m\n\u001b[0m",
            "\u001b[0;32m<ipython-input-5-66e37f637637>\u001b[0m in \u001b[0;36mdiv\u001b[0;34m(n1, n2)\u001b[0m\n\u001b[1;32m      1\u001b[0m \u001b[0;32mdef\u001b[0m \u001b[0mdiv\u001b[0m\u001b[0;34m(\u001b[0m\u001b[0mn1\u001b[0m\u001b[0;34m,\u001b[0m\u001b[0mn2\u001b[0m\u001b[0;34m)\u001b[0m\u001b[0;34m:\u001b[0m\u001b[0;34m\u001b[0m\u001b[0;34m\u001b[0m\u001b[0m\n\u001b[0;32m----> 2\u001b[0;31m     \u001b[0;32mreturn\u001b[0m \u001b[0mn1\u001b[0m\u001b[0;34m/\u001b[0m\u001b[0mn2\u001b[0m\u001b[0;34m\u001b[0m\u001b[0;34m\u001b[0m\u001b[0m\n\u001b[0m\u001b[1;32m      3\u001b[0m \u001b[0mdiv\u001b[0m\u001b[0;34m(\u001b[0m\u001b[0;36m10\u001b[0m\u001b[0;34m,\u001b[0m\u001b[0;36m0\u001b[0m\u001b[0;34m)\u001b[0m\u001b[0;34m\u001b[0m\u001b[0;34m\u001b[0m\u001b[0m\n",
            "\u001b[0;31mZeroDivisionError\u001b[0m: division by zero"
          ]
        }
      ]
    },
    {
      "cell_type": "markdown",
      "source": [
        "# 의미적 오류(Semantic Error)\n",
        "- 문법은 정상이지만 실행의 결과가 원하는대로 나오지 않는 오류\n",
        "- 해결하기 어렵다..."
      ],
      "metadata": {
        "id": "dYoKFONjz2Hs"
      }
    },
    {
      "cell_type": "code",
      "source": [
        "a = (2)\n",
        "b = (2,)\n",
        "\n",
        "a == b"
      ],
      "metadata": {
        "colab": {
          "base_uri": "https://localhost:8080/"
        },
        "id": "_rP95UO_0Bcv",
        "outputId": "12dbdfba-7bb9-4989-b94e-330e24eeb7db"
      },
      "execution_count": null,
      "outputs": [
        {
          "output_type": "execute_result",
          "data": {
            "text/plain": [
              "False"
            ]
          },
          "metadata": {},
          "execution_count": 7
        }
      ]
    },
    {
      "cell_type": "code",
      "source": [
        "def do_func(n1,n2):\n",
        "    return print(n1*n2)\n",
        "a = do_func(3,4)\n",
        "print(a)"
      ],
      "metadata": {
        "colab": {
          "base_uri": "https://localhost:8080/"
        },
        "id": "GaBxixNF0Vtr",
        "outputId": "59ab1045-4843-4fb5-e3be-0580a9d5fe86"
      },
      "execution_count": null,
      "outputs": [
        {
          "output_type": "stream",
          "name": "stdout",
          "text": [
            "12\n",
            "None\n"
          ]
        }
      ]
    },
    {
      "cell_type": "code",
      "source": [
        "6 * 0.1 == 0.6  # 반올림 오차에 의한 오류 발생"
      ],
      "metadata": {
        "colab": {
          "base_uri": "https://localhost:8080/"
        },
        "id": "UPgqAHC90oaJ",
        "outputId": "e08ccb48-9c90-4537-b290-074ab757ee65"
      },
      "execution_count": null,
      "outputs": [
        {
          "output_type": "execute_result",
          "data": {
            "text/plain": [
              "False"
            ]
          },
          "metadata": {},
          "execution_count": 14
        }
      ]
    },
    {
      "cell_type": "code",
      "source": [
        "round(6*0.1,1) == 0.6"
      ],
      "metadata": {
        "colab": {
          "base_uri": "https://localhost:8080/"
        },
        "id": "SPmAer5v08dV",
        "outputId": "17173124-990e-4f00-cc62-7177c536b025"
      },
      "execution_count": null,
      "outputs": [
        {
          "output_type": "execute_result",
          "data": {
            "text/plain": [
              "True"
            ]
          },
          "metadata": {},
          "execution_count": 16
        }
      ]
    },
    {
      "cell_type": "markdown",
      "source": [
        "# 예외처리\n",
        "- 프로그램 개발하면서 예상치 못한 상황 발생 시 처리\n",
        "- 입출력 오류와 같은 상황 발생 시 프로그램 종료를 방지하기 위함\n",
        "- 개발자가 예외 발생 가능한 부분을 어떻게 대응하라고 지정해줄 수 있다.\n",
        "```python\n",
        "try:\n",
        "    code context\n",
        "except:\n",
        "    code context\n",
        "```"
      ],
      "metadata": {
        "id": "eUCzVHpW1LXe"
      }
    },
    {
      "cell_type": "code",
      "source": [
        "n = 100\n",
        "for i in range(10):\n",
        "    print(n/i)"
      ],
      "metadata": {
        "colab": {
          "base_uri": "https://localhost:8080/",
          "height": 209
        },
        "id": "f3dl0Vew1kC0",
        "outputId": "145e96ba-aa82-4192-906e-ea863834014b"
      },
      "execution_count": null,
      "outputs": [
        {
          "output_type": "error",
          "ename": "ZeroDivisionError",
          "evalue": "ignored",
          "traceback": [
            "\u001b[0;31m---------------------------------------------------------------------------\u001b[0m",
            "\u001b[0;31mZeroDivisionError\u001b[0m                         Traceback (most recent call last)",
            "\u001b[0;32m<ipython-input-21-f9d619e2d3dc>\u001b[0m in \u001b[0;36m<module>\u001b[0;34m()\u001b[0m\n\u001b[1;32m      1\u001b[0m \u001b[0mn\u001b[0m \u001b[0;34m=\u001b[0m \u001b[0;36m100\u001b[0m\u001b[0;34m\u001b[0m\u001b[0;34m\u001b[0m\u001b[0m\n\u001b[1;32m      2\u001b[0m \u001b[0;32mfor\u001b[0m \u001b[0mi\u001b[0m \u001b[0;32min\u001b[0m \u001b[0mrange\u001b[0m\u001b[0;34m(\u001b[0m\u001b[0;36m10\u001b[0m\u001b[0;34m)\u001b[0m\u001b[0;34m:\u001b[0m\u001b[0;34m\u001b[0m\u001b[0;34m\u001b[0m\u001b[0m\n\u001b[0;32m----> 3\u001b[0;31m     \u001b[0mprint\u001b[0m\u001b[0;34m(\u001b[0m\u001b[0mn\u001b[0m\u001b[0;34m/\u001b[0m\u001b[0mi\u001b[0m\u001b[0;34m)\u001b[0m\u001b[0;34m\u001b[0m\u001b[0;34m\u001b[0m\u001b[0m\n\u001b[0m",
            "\u001b[0;31mZeroDivisionError\u001b[0m: division by zero"
          ]
        }
      ]
    },
    {
      "cell_type": "code",
      "source": [
        "n = 100\n",
        "for i in range(10):\n",
        "    try:\n",
        "        print(n/i)\n",
        "    except:\n",
        "        print(\"에러발생\")"
      ],
      "metadata": {
        "colab": {
          "base_uri": "https://localhost:8080/"
        },
        "id": "ZEPlDNxM2YSn",
        "outputId": "c015e3f5-339c-4766-8b0f-8be3c156cbb6"
      },
      "execution_count": null,
      "outputs": [
        {
          "output_type": "stream",
          "name": "stdout",
          "text": [
            "에러발생\n",
            "100.0\n",
            "50.0\n",
            "33.333333333333336\n",
            "25.0\n",
            "20.0\n",
            "16.666666666666668\n",
            "14.285714285714286\n",
            "12.5\n",
            "11.11111111111111\n"
          ]
        }
      ]
    },
    {
      "cell_type": "markdown",
      "source": [
        "- 에러를 지정해서 메시지를 볼 수 있다."
      ],
      "metadata": {
        "id": "miI6HSFK2rhq"
      }
    },
    {
      "cell_type": "code",
      "source": [
        "n = 100\n",
        "for i in range(10):\n",
        "    try:\n",
        "        print(n/i)\n",
        "    except ZeroDivisionError as e: # 메세지를 e라는 변수에 넣겠다.\n",
        "        print(e)"
      ],
      "metadata": {
        "colab": {
          "base_uri": "https://localhost:8080/"
        },
        "id": "rzRkDtdG2-1X",
        "outputId": "c3de4cad-9c96-4fe2-9aff-718ffcd0b7f9"
      },
      "execution_count": null,
      "outputs": [
        {
          "output_type": "stream",
          "name": "stdout",
          "text": [
            "division by zero\n",
            "100.0\n",
            "50.0\n",
            "33.333333333333336\n",
            "25.0\n",
            "20.0\n",
            "16.666666666666668\n",
            "14.285714285714286\n",
            "12.5\n",
            "11.11111111111111\n"
          ]
        }
      ]
    },
    {
      "cell_type": "markdown",
      "source": [
        "- IndexError\n",
        "    - 리스트의 인덱스 범위를 넘어갈 때 발생"
      ],
      "metadata": {
        "id": "I4c6kGEe3RT2"
      }
    },
    {
      "cell_type": "code",
      "source": [
        "a = [1,2,3]\n",
        "a[5]"
      ],
      "metadata": {
        "colab": {
          "base_uri": "https://localhost:8080/",
          "height": 190
        },
        "id": "axOH9wmi3kxg",
        "outputId": "d5ca0c36-a094-4899-82f7-9682a17fd132"
      },
      "execution_count": null,
      "outputs": [
        {
          "output_type": "error",
          "ename": "IndexError",
          "evalue": "ignored",
          "traceback": [
            "\u001b[0;31m---------------------------------------------------------------------------\u001b[0m",
            "\u001b[0;31mIndexError\u001b[0m                                Traceback (most recent call last)",
            "\u001b[0;32m<ipython-input-25-4a30d506aea3>\u001b[0m in \u001b[0;36m<module>\u001b[0;34m()\u001b[0m\n\u001b[1;32m      1\u001b[0m \u001b[0ma\u001b[0m \u001b[0;34m=\u001b[0m \u001b[0;34m[\u001b[0m\u001b[0;36m1\u001b[0m\u001b[0;34m,\u001b[0m\u001b[0;36m2\u001b[0m\u001b[0;34m,\u001b[0m\u001b[0;36m3\u001b[0m\u001b[0;34m]\u001b[0m\u001b[0;34m\u001b[0m\u001b[0;34m\u001b[0m\u001b[0m\n\u001b[0;32m----> 2\u001b[0;31m \u001b[0ma\u001b[0m\u001b[0;34m[\u001b[0m\u001b[0;36m5\u001b[0m\u001b[0;34m]\u001b[0m\u001b[0;34m\u001b[0m\u001b[0;34m\u001b[0m\u001b[0m\n\u001b[0m",
            "\u001b[0;31mIndexError\u001b[0m: list index out of range"
          ]
        }
      ]
    },
    {
      "cell_type": "markdown",
      "source": [
        "- NameError\n",
        "    - 정의되지 않은 변수를 사용하려 할 때"
      ],
      "metadata": {
        "id": "F7ie-SlB3n-x"
      }
    },
    {
      "cell_type": "code",
      "source": [
        "karns"
      ],
      "metadata": {
        "colab": {
          "base_uri": "https://localhost:8080/",
          "height": 172
        },
        "id": "ZY2egaOz34k6",
        "outputId": "35717082-c4dc-4631-fcdc-917d5e3a2f4f"
      },
      "execution_count": null,
      "outputs": [
        {
          "output_type": "error",
          "ename": "NameError",
          "evalue": "ignored",
          "traceback": [
            "\u001b[0;31m---------------------------------------------------------------------------\u001b[0m",
            "\u001b[0;31mNameError\u001b[0m                                 Traceback (most recent call last)",
            "\u001b[0;32m<ipython-input-26-abc70f1e7fd0>\u001b[0m in \u001b[0;36m<module>\u001b[0;34m()\u001b[0m\n\u001b[0;32m----> 1\u001b[0;31m \u001b[0mkarns\u001b[0m\u001b[0;34m\u001b[0m\u001b[0;34m\u001b[0m\u001b[0m\n\u001b[0m",
            "\u001b[0;31mNameError\u001b[0m: name 'karns' is not defined"
          ]
        }
      ]
    },
    {
      "cell_type": "markdown",
      "source": [
        "- ValueError\n",
        "    - 변환할 수 없는 자료형 변환을 시도할 때"
      ],
      "metadata": {
        "id": "Y_e2f7PT37Ng"
      }
    },
    {
      "cell_type": "code",
      "source": [
        "a = \"손용석\"\n",
        "int(a)"
      ],
      "metadata": {
        "colab": {
          "base_uri": "https://localhost:8080/",
          "height": 190
        },
        "id": "Yvh2SJ3B4Ikz",
        "outputId": "e96df5e8-52c8-4918-ecfb-8f6a595f550c"
      },
      "execution_count": null,
      "outputs": [
        {
          "output_type": "error",
          "ename": "ValueError",
          "evalue": "ignored",
          "traceback": [
            "\u001b[0;31m---------------------------------------------------------------------------\u001b[0m",
            "\u001b[0;31mValueError\u001b[0m                                Traceback (most recent call last)",
            "\u001b[0;32m<ipython-input-27-5fd6ca0c2eeb>\u001b[0m in \u001b[0;36m<module>\u001b[0;34m()\u001b[0m\n\u001b[1;32m      1\u001b[0m \u001b[0ma\u001b[0m \u001b[0;34m=\u001b[0m \u001b[0;34m\"손용석\"\u001b[0m\u001b[0;34m\u001b[0m\u001b[0;34m\u001b[0m\u001b[0m\n\u001b[0;32m----> 2\u001b[0;31m \u001b[0mint\u001b[0m\u001b[0;34m(\u001b[0m\u001b[0ma\u001b[0m\u001b[0;34m)\u001b[0m\u001b[0;34m\u001b[0m\u001b[0;34m\u001b[0m\u001b[0m\n\u001b[0m",
            "\u001b[0;31mValueError\u001b[0m: invalid literal for int() with base 10: '손용석'"
          ]
        }
      ]
    },
    {
      "cell_type": "markdown",
      "source": [
        "- TypeError\n",
        "    - 자료형이 맞지 않는 연산을 시도할 때\n",
        "    - 호출할 수 없는 객체를 함수처럼 호출할 때"
      ],
      "metadata": {
        "id": "hUxlXZ9D4L99"
      }
    },
    {
      "cell_type": "code",
      "source": [
        "20 / \"용석\""
      ],
      "metadata": {
        "colab": {
          "base_uri": "https://localhost:8080/",
          "height": 172
        },
        "id": "EM7uVynd4q71",
        "outputId": "46c7ade1-58ff-4873-df31-d67a144b4964"
      },
      "execution_count": null,
      "outputs": [
        {
          "output_type": "error",
          "ename": "TypeError",
          "evalue": "ignored",
          "traceback": [
            "\u001b[0;31m---------------------------------------------------------------------------\u001b[0m",
            "\u001b[0;31mTypeError\u001b[0m                                 Traceback (most recent call last)",
            "\u001b[0;32m<ipython-input-28-7912ca9486b6>\u001b[0m in \u001b[0;36m<module>\u001b[0;34m()\u001b[0m\n\u001b[0;32m----> 1\u001b[0;31m \u001b[0;36m20\u001b[0m \u001b[0;34m/\u001b[0m \u001b[0;34m\"용석\"\u001b[0m\u001b[0;34m\u001b[0m\u001b[0;34m\u001b[0m\u001b[0m\n\u001b[0m",
            "\u001b[0;31mTypeError\u001b[0m: unsupported operand type(s) for /: 'int' and 'str'"
          ]
        }
      ]
    },
    {
      "cell_type": "code",
      "source": [
        "a = 3\n",
        "a()"
      ],
      "metadata": {
        "colab": {
          "base_uri": "https://localhost:8080/",
          "height": 190
        },
        "id": "jq9bV4TG4vie",
        "outputId": "3d1157b5-f1f0-4233-8e3a-29a46f871363"
      },
      "execution_count": null,
      "outputs": [
        {
          "output_type": "error",
          "ename": "TypeError",
          "evalue": "ignored",
          "traceback": [
            "\u001b[0;31m---------------------------------------------------------------------------\u001b[0m",
            "\u001b[0;31mTypeError\u001b[0m                                 Traceback (most recent call last)",
            "\u001b[0;32m<ipython-input-29-0bf2a3b2549b>\u001b[0m in \u001b[0;36m<module>\u001b[0;34m()\u001b[0m\n\u001b[1;32m      1\u001b[0m \u001b[0ma\u001b[0m \u001b[0;34m=\u001b[0m \u001b[0;36m3\u001b[0m\u001b[0;34m\u001b[0m\u001b[0;34m\u001b[0m\u001b[0m\n\u001b[0;32m----> 2\u001b[0;31m \u001b[0ma\u001b[0m\u001b[0;34m(\u001b[0m\u001b[0;34m)\u001b[0m\u001b[0;34m\u001b[0m\u001b[0;34m\u001b[0m\u001b[0m\n\u001b[0m",
            "\u001b[0;31mTypeError\u001b[0m: 'int' object is not callable"
          ]
        }
      ]
    },
    {
      "cell_type": "markdown",
      "source": [
        "- FileNotFoundError\n",
        "    - 없는 파일을 읽어드리려 할 때"
      ],
      "metadata": {
        "id": "J2_B4We74yqO"
      }
    },
    {
      "cell_type": "code",
      "source": [
        "open(\"text.txt\") "
      ],
      "metadata": {
        "colab": {
          "base_uri": "https://localhost:8080/",
          "height": 172
        },
        "id": "NjNr2qYF5ELR",
        "outputId": "fc2ce854-3161-4c39-8083-624a7ffe7931"
      },
      "execution_count": null,
      "outputs": [
        {
          "output_type": "error",
          "ename": "FileNotFoundError",
          "evalue": "ignored",
          "traceback": [
            "\u001b[0;31m---------------------------------------------------------------------------\u001b[0m",
            "\u001b[0;31mFileNotFoundError\u001b[0m                         Traceback (most recent call last)",
            "\u001b[0;32m<ipython-input-31-8b2bb8f17573>\u001b[0m in \u001b[0;36m<module>\u001b[0;34m()\u001b[0m\n\u001b[0;32m----> 1\u001b[0;31m \u001b[0mopen\u001b[0m\u001b[0;34m(\u001b[0m\u001b[0;34m\"text.txt\"\u001b[0m\u001b[0;34m)\u001b[0m\u001b[0;34m\u001b[0m\u001b[0;34m\u001b[0m\u001b[0m\n\u001b[0m",
            "\u001b[0;31mFileNotFoundError\u001b[0m: [Errno 2] No such file or directory: 'text.txt'"
          ]
        }
      ]
    },
    {
      "cell_type": "markdown",
      "source": [
        "- AttributeError\n",
        "    - 객체의 없는 속성을 사용하려 할 때"
      ],
      "metadata": {
        "id": "EWwDF1Lt5LpO"
      }
    },
    {
      "cell_type": "code",
      "source": [
        "class MyClass:\n",
        "    def do_func(self):\n",
        "        self.a = self.a +2\n",
        "\n",
        "mc = MyClass()\n",
        "mc.do_func()"
      ],
      "metadata": {
        "colab": {
          "base_uri": "https://localhost:8080/",
          "height": 336
        },
        "id": "hJ_2xahp5f4y",
        "outputId": "377ff227-e963-43a8-ef43-0197770ad434"
      },
      "execution_count": null,
      "outputs": [
        {
          "output_type": "error",
          "ename": "AttributeError",
          "evalue": "ignored",
          "traceback": [
            "\u001b[0;31m---------------------------------------------------------------------------\u001b[0m",
            "\u001b[0;31mAttributeError\u001b[0m                            Traceback (most recent call last)",
            "\u001b[0;32m<ipython-input-33-f978a234de23>\u001b[0m in \u001b[0;36m<module>\u001b[0;34m()\u001b[0m\n\u001b[1;32m      4\u001b[0m \u001b[0;34m\u001b[0m\u001b[0m\n\u001b[1;32m      5\u001b[0m \u001b[0mmc\u001b[0m \u001b[0;34m=\u001b[0m \u001b[0mMyClass\u001b[0m\u001b[0;34m(\u001b[0m\u001b[0;34m)\u001b[0m\u001b[0;34m\u001b[0m\u001b[0;34m\u001b[0m\u001b[0m\n\u001b[0;32m----> 6\u001b[0;31m \u001b[0mmc\u001b[0m\u001b[0;34m.\u001b[0m\u001b[0mdo_func\u001b[0m\u001b[0;34m(\u001b[0m\u001b[0;34m)\u001b[0m\u001b[0;34m\u001b[0m\u001b[0;34m\u001b[0m\u001b[0m\n\u001b[0m",
            "\u001b[0;32m<ipython-input-33-f978a234de23>\u001b[0m in \u001b[0;36mdo_func\u001b[0;34m(self)\u001b[0m\n\u001b[1;32m      1\u001b[0m \u001b[0;32mclass\u001b[0m \u001b[0mMyClass\u001b[0m\u001b[0;34m:\u001b[0m\u001b[0;34m\u001b[0m\u001b[0;34m\u001b[0m\u001b[0m\n\u001b[1;32m      2\u001b[0m     \u001b[0;32mdef\u001b[0m \u001b[0mdo_func\u001b[0m\u001b[0;34m(\u001b[0m\u001b[0mself\u001b[0m\u001b[0;34m)\u001b[0m\u001b[0;34m:\u001b[0m\u001b[0;34m\u001b[0m\u001b[0;34m\u001b[0m\u001b[0m\n\u001b[0;32m----> 3\u001b[0;31m         \u001b[0mself\u001b[0m\u001b[0;34m.\u001b[0m\u001b[0ma\u001b[0m \u001b[0;34m=\u001b[0m \u001b[0mself\u001b[0m\u001b[0;34m.\u001b[0m\u001b[0ma\u001b[0m \u001b[0;34m+\u001b[0m\u001b[0;36m2\u001b[0m\u001b[0;34m\u001b[0m\u001b[0;34m\u001b[0m\u001b[0m\n\u001b[0m\u001b[1;32m      4\u001b[0m \u001b[0;34m\u001b[0m\u001b[0m\n\u001b[1;32m      5\u001b[0m \u001b[0mmc\u001b[0m \u001b[0;34m=\u001b[0m \u001b[0mMyClass\u001b[0m\u001b[0;34m(\u001b[0m\u001b[0;34m)\u001b[0m\u001b[0;34m\u001b[0m\u001b[0;34m\u001b[0m\u001b[0m\n",
            "\u001b[0;31mAttributeError\u001b[0m: 'MyClass' object has no attribute 'a'"
          ]
        }
      ]
    },
    {
      "cell_type": "markdown",
      "source": [
        "```\n",
        "- 리스트 형태의 데이터가 있다.\n",
        "- 정수형으로 변환해서 새로운 리스트에 담자.\n",
        "- 정수형으로 변환이 안되는 예외 발생 시 \"정수형으로 변환되지 않습니다.\" 라는 출력과 함께 \n",
        "- 실수로 변경해서 다시 정수형으로 변경하는 코드를 작성해봅시다.\n",
        "```"
      ],
      "metadata": {
        "id": "PQIJGy8X5rOj"
      }
    },
    {
      "cell_type": "code",
      "source": [
        "lst = [\"3\",\"5\",\"3.\",\"3.0\",\"10\"]\n",
        "num_list = []\n",
        "for i in lst:\n",
        "    try:\n",
        "        num_list.append(int(i))\n",
        "    except:\n",
        "        print(\"정수형으로 변환되지 않습니다\")\n",
        "        num_list.append(int(float(i)))\n",
        "num_list"
      ],
      "metadata": {
        "colab": {
          "base_uri": "https://localhost:8080/"
        },
        "id": "bKE_h4Oo6UKn",
        "outputId": "9dd8b117-2934-4055-df5d-a460c242530d"
      },
      "execution_count": null,
      "outputs": [
        {
          "output_type": "stream",
          "name": "stdout",
          "text": [
            "정수형으로 변환되지 않습니다\n",
            "정수형으로 변환되지 않습니다\n"
          ]
        },
        {
          "output_type": "execute_result",
          "data": {
            "text/plain": [
              "[3, 5, 3, 3, 10]"
            ]
          },
          "metadata": {},
          "execution_count": 47
        }
      ]
    },
    {
      "cell_type": "code",
      "source": [
        "lst = [\"3\",\"5\",\"3.\",\"3.0\",\"10\"]\n",
        "num_list = []\n",
        "for i in lst:\n",
        "    try:\n",
        "        num_list.append(int(i))\n",
        "    except ValueError as e:\n",
        "        print(\"정수형으로 변환되지 않습니다\")\n",
        "        num_list.append(int(float(i)))\n",
        "num_list"
      ],
      "metadata": {
        "colab": {
          "base_uri": "https://localhost:8080/"
        },
        "id": "T3VJ0bzm60RA",
        "outputId": "f51ecc61-2c02-4e68-e89c-5acf269b4dc9"
      },
      "execution_count": null,
      "outputs": [
        {
          "output_type": "stream",
          "name": "stdout",
          "text": [
            "정수형으로 변환되지 않습니다\n",
            "정수형으로 변환되지 않습니다\n"
          ]
        },
        {
          "output_type": "execute_result",
          "data": {
            "text/plain": [
              "[3, 5, 3, 3, 10]"
            ]
          },
          "metadata": {},
          "execution_count": 63
        }
      ]
    },
    {
      "cell_type": "markdown",
      "source": [
        "- 여러개의 예외가 발생할 수 있거나 어떤 예외가 발생할지 알 수 없을 때"
      ],
      "metadata": {
        "id": "7qOlGR0p_4tm"
      }
    },
    {
      "cell_type": "code",
      "source": [
        "try:\n",
        "    # open(\"text.txt\")\n",
        "    a = 5 / 0\n",
        "except Exception as e:\n",
        "    print(e)"
      ],
      "metadata": {
        "colab": {
          "base_uri": "https://localhost:8080/"
        },
        "id": "NmteMqdhAHSo",
        "outputId": "269f99cd-d68c-42ee-b3ed-ea97d3781642"
      },
      "execution_count": null,
      "outputs": [
        {
          "output_type": "stream",
          "name": "stdout",
          "text": [
            "division by zero\n"
          ]
        }
      ]
    },
    {
      "cell_type": "markdown",
      "source": [
        "- else 문\n",
        "    - 해당 예외가 발생하지 않을 경우 수행할 코드\n",
        "    "
      ],
      "metadata": {
        "id": "OKtDoTCkAQGF"
      }
    },
    {
      "cell_type": "code",
      "source": [
        "n = 100\n",
        "for i in range(10):\n",
        "    try:\n",
        "        result = n / i\n",
        "    except ZeroDivisionError as e:\n",
        "        print(e)\n",
        "    else:\n",
        "        result **= 2   \n",
        "        print(result)\n"
      ],
      "metadata": {
        "colab": {
          "base_uri": "https://localhost:8080/"
        },
        "id": "ij-9AcFmArjA",
        "outputId": "8230417f-ea3a-4b2d-df7c-a82a1892694a"
      },
      "execution_count": null,
      "outputs": [
        {
          "output_type": "stream",
          "name": "stdout",
          "text": [
            "division by zero\n",
            "10000.0\n",
            "2500.0\n",
            "1111.1111111111113\n",
            "625.0\n",
            "400.0\n",
            "277.7777777777778\n",
            "204.08163265306123\n",
            "156.25\n",
            "123.45679012345678\n"
          ]
        }
      ]
    },
    {
      "cell_type": "markdown",
      "source": [
        "- finally 문\n",
        "    - 예외 발생여부와 상관없이 무조건 수행할 코드"
      ],
      "metadata": {
        "id": "qlvwnaiLBPId"
      }
    },
    {
      "cell_type": "code",
      "source": [
        "for i in range(3):\n",
        "    try:\n",
        "        result = 100 / i\n",
        "    except ZeroDivisionError as e:\n",
        "        print(e)\n",
        "    else:\n",
        "        print(\"정상적으로 연산되었습니다.\")\n",
        "    finally:\n",
        "        print(\"처리완료\")"
      ],
      "metadata": {
        "colab": {
          "base_uri": "https://localhost:8080/"
        },
        "id": "T2HFvqMUBi64",
        "outputId": "35a029eb-e3a6-43a3-c92b-1d7e862ce699"
      },
      "execution_count": null,
      "outputs": [
        {
          "output_type": "stream",
          "name": "stdout",
          "text": [
            "division by zero\n",
            "처리완료\n",
            "정상적으로 연산되었습니다.\n",
            "처리완료\n",
            "정상적으로 연산되었습니다.\n",
            "처리완료\n"
          ]
        }
      ]
    },
    {
      "cell_type": "markdown",
      "source": [
        "- 정리해보자\n",
        "```\n",
        "try:\n",
        "    예외 발생 가능성이 있는 실행 코드\n",
        "except:\n",
        "    예외 발생 시 실행 코드\n",
        "else:\n",
        "    예외 발생하지 않았을 경우 실행 코드\n",
        "finally:\n",
        "    예외 발생 여부와 상관없이 항상 실행할 코드\n",
        "```"
      ],
      "metadata": {
        "id": "luflog7-CCFJ"
      }
    },
    {
      "cell_type": "markdown",
      "source": [
        "```\n",
        "- 숫자형태의 문자열을 담은 리스트가 있다.\n",
        "- 정수형으로 변환해서 새로운 리스트에 담자.\n",
        "- 정수형으로 변환 시 예외가 발생하지 않을 경우 \"정상적으로 정수형으로 변경합니다.\" 출력\n",
        "- 정수형으로 변환이 안되는 예외 발생 시 \"정수형으로 변환되지 않습니다. 실수형으로 변환 후에 시도하겠습니다.\" 라는 출려과 함께 실수형으로 변경해서 다시 정수형으로 변경하는 코드를 작성\n",
        "- 예외 발생여부와 상관없이 \"정수형으로 변환 및 저장완료\" 를 출력\n",
        "```"
      ],
      "metadata": {
        "id": "tjxCKYTRCh8J"
      }
    },
    {
      "cell_type": "code",
      "source": [
        "lst = [\"3\",\"5\",\"3.\",\"3.0\",\"10\"]\n",
        "num_list = []\n",
        "for i in lst:\n",
        "    try:\n",
        "       num = int(i)\n",
        "    except ValueError as e:\n",
        "        print(\"정수형으로 변환되지 않습니다. 실수형으로 변환 후에 시도하겠습니다.\")\n",
        "        num_list.append(int(float(i)))\n",
        "    else:\n",
        "        print(\"정상적으로 정수형으로 변경합니다.\")\n",
        "    finally:\n",
        "        num_list.append(num)\n",
        "        print(\"정수형으로 변환 및 저장완료\")\n",
        "\n",
        "num_list"
      ],
      "metadata": {
        "colab": {
          "base_uri": "https://localhost:8080/"
        },
        "id": "t3uXJwjrDLmI",
        "outputId": "05bf75e2-72a8-4548-f31a-a569b42f0f68"
      },
      "execution_count": null,
      "outputs": [
        {
          "output_type": "stream",
          "name": "stdout",
          "text": [
            "정상적으로 정수형으로 변경합니다.\n",
            "정수형으로 변환 및 저장완료\n",
            "정상적으로 정수형으로 변경합니다.\n",
            "정수형으로 변환 및 저장완료\n",
            "정수형으로 변환되지 않습니다. 실수형으로 변환 후에 시도하겠습니다.\n",
            "정수형으로 변환 및 저장완료\n",
            "정수형으로 변환되지 않습니다. 실수형으로 변환 후에 시도하겠습니다.\n",
            "정수형으로 변환 및 저장완료\n",
            "정상적으로 정수형으로 변경합니다.\n",
            "정수형으로 변환 및 저장완료\n"
          ]
        },
        {
          "output_type": "execute_result",
          "data": {
            "text/plain": [
              "[3, 5, 3, 5, 3, 5, 10]"
            ]
          },
          "metadata": {},
          "execution_count": 66
        }
      ]
    },
    {
      "cell_type": "markdown",
      "source": [
        "- raise 문\n",
        "    - 필요할 때 에러를 발생시키는 코드\n",
        "    - if문과 함께 많이 사용된다.\n"
      ],
      "metadata": {
        "id": "w1p80kioEGpu"
      }
    },
    {
      "cell_type": "code",
      "source": [
        "num = 0\n",
        "if num == 0:\n",
        "    raise ValueError"
      ],
      "metadata": {
        "colab": {
          "base_uri": "https://localhost:8080/",
          "height": 209
        },
        "id": "bxFT1tdqF1qg",
        "outputId": "ae68cc80-6870-44f7-8069-256d32598cc2"
      },
      "execution_count": null,
      "outputs": [
        {
          "output_type": "error",
          "ename": "ValueError",
          "evalue": "ignored",
          "traceback": [
            "\u001b[0;31m---------------------------------------------------------------------------\u001b[0m",
            "\u001b[0;31mValueError\u001b[0m                                Traceback (most recent call last)",
            "\u001b[0;32m<ipython-input-67-ba8385f89054>\u001b[0m in \u001b[0;36m<module>\u001b[0;34m()\u001b[0m\n\u001b[1;32m      1\u001b[0m \u001b[0mnum\u001b[0m \u001b[0;34m=\u001b[0m \u001b[0;36m0\u001b[0m\u001b[0;34m\u001b[0m\u001b[0;34m\u001b[0m\u001b[0m\n\u001b[1;32m      2\u001b[0m \u001b[0;32mif\u001b[0m \u001b[0mnum\u001b[0m \u001b[0;34m==\u001b[0m \u001b[0;36m0\u001b[0m\u001b[0;34m:\u001b[0m\u001b[0;34m\u001b[0m\u001b[0;34m\u001b[0m\u001b[0m\n\u001b[0;32m----> 3\u001b[0;31m     \u001b[0;32mraise\u001b[0m \u001b[0mValueError\u001b[0m\u001b[0;34m\u001b[0m\u001b[0;34m\u001b[0m\u001b[0m\n\u001b[0m",
            "\u001b[0;31mValueError\u001b[0m: "
          ]
        }
      ]
    },
    {
      "cell_type": "markdown",
      "source": [
        "- 메세지도 넣을 수 있다."
      ],
      "metadata": {
        "id": "vsghxvv6GDYL"
      }
    },
    {
      "cell_type": "code",
      "source": [
        "num = 0\n",
        "if num == 0:\n",
        "    raise ValueError(\"0으로 나눌 수 없어요.\")"
      ],
      "metadata": {
        "colab": {
          "base_uri": "https://localhost:8080/",
          "height": 209
        },
        "id": "jmcNxm3HGJUP",
        "outputId": "5f61b697-f826-4e71-b577-15789f52de46"
      },
      "execution_count": null,
      "outputs": [
        {
          "output_type": "error",
          "ename": "ValueError",
          "evalue": "ignored",
          "traceback": [
            "\u001b[0;31m---------------------------------------------------------------------------\u001b[0m",
            "\u001b[0;31mValueError\u001b[0m                                Traceback (most recent call last)",
            "\u001b[0;32m<ipython-input-68-3b5a3a90e83c>\u001b[0m in \u001b[0;36m<module>\u001b[0;34m()\u001b[0m\n\u001b[1;32m      1\u001b[0m \u001b[0mnum\u001b[0m \u001b[0;34m=\u001b[0m \u001b[0;36m0\u001b[0m\u001b[0;34m\u001b[0m\u001b[0;34m\u001b[0m\u001b[0m\n\u001b[1;32m      2\u001b[0m \u001b[0;32mif\u001b[0m \u001b[0mnum\u001b[0m \u001b[0;34m==\u001b[0m \u001b[0;36m0\u001b[0m\u001b[0;34m:\u001b[0m\u001b[0;34m\u001b[0m\u001b[0;34m\u001b[0m\u001b[0m\n\u001b[0;32m----> 3\u001b[0;31m     \u001b[0;32mraise\u001b[0m \u001b[0mValueError\u001b[0m\u001b[0;34m(\u001b[0m\u001b[0;34m\"0으로 나눌 수 없어요.\"\u001b[0m\u001b[0;34m)\u001b[0m\u001b[0;34m\u001b[0m\u001b[0;34m\u001b[0m\u001b[0m\n\u001b[0m",
            "\u001b[0;31mValueError\u001b[0m: 0으로 나눌 수 없어요."
          ]
        }
      ]
    },
    {
      "cell_type": "markdown",
      "source": [
        "```\n",
        "- 두개의 정수를 인수로 받아 두 수를 나누는 함수를 작성하세요.\n",
        "- 두번째 인수가 1보다 작을 경우 ValueError를 발생시키고,\"1 이상의 정수만 입력하세요\" 라고 출력\n",
        "```"
      ],
      "metadata": {
        "id": "8t81d2PbGQnn"
      }
    },
    {
      "cell_type": "code",
      "source": [
        "def sol(n1,n2): # 내 함수 사용 시 인자값을 제대로 넣어라는 의미로 쓰인다!\n",
        "    if n2 < 1:\n",
        "        raise ValueError(\"1 이상의 정수만 입력하세요\")\n",
        "    else:\n",
        "       return int(n1/n2)"
      ],
      "metadata": {
        "id": "u-dA6wpvGnW5"
      },
      "execution_count": null,
      "outputs": []
    },
    {
      "cell_type": "code",
      "source": [
        "sol(4,0)"
      ],
      "metadata": {
        "colab": {
          "base_uri": "https://localhost:8080/",
          "height": 299
        },
        "id": "RKbWnBniG6Eh",
        "outputId": "4b6318b4-216e-49a0-85fa-525864d95c8c"
      },
      "execution_count": null,
      "outputs": [
        {
          "output_type": "error",
          "ename": "ValueError",
          "evalue": "ignored",
          "traceback": [
            "\u001b[0;31m---------------------------------------------------------------------------\u001b[0m",
            "\u001b[0;31mValueError\u001b[0m                                Traceback (most recent call last)",
            "\u001b[0;32m<ipython-input-79-b757489262da>\u001b[0m in \u001b[0;36m<module>\u001b[0;34m()\u001b[0m\n\u001b[0;32m----> 1\u001b[0;31m \u001b[0msol\u001b[0m\u001b[0;34m(\u001b[0m\u001b[0;36m4\u001b[0m\u001b[0;34m,\u001b[0m\u001b[0;36m0\u001b[0m\u001b[0;34m)\u001b[0m\u001b[0;34m\u001b[0m\u001b[0;34m\u001b[0m\u001b[0m\n\u001b[0m",
            "\u001b[0;32m<ipython-input-74-38142b1e6bda>\u001b[0m in \u001b[0;36msol\u001b[0;34m(n1, n2)\u001b[0m\n\u001b[1;32m      1\u001b[0m \u001b[0;32mdef\u001b[0m \u001b[0msol\u001b[0m\u001b[0;34m(\u001b[0m\u001b[0mn1\u001b[0m\u001b[0;34m,\u001b[0m\u001b[0mn2\u001b[0m\u001b[0;34m)\u001b[0m\u001b[0;34m:\u001b[0m\u001b[0;34m\u001b[0m\u001b[0;34m\u001b[0m\u001b[0m\n\u001b[1;32m      2\u001b[0m     \u001b[0;32mif\u001b[0m \u001b[0mn2\u001b[0m \u001b[0;34m<\u001b[0m \u001b[0;36m1\u001b[0m\u001b[0;34m:\u001b[0m\u001b[0;34m\u001b[0m\u001b[0;34m\u001b[0m\u001b[0m\n\u001b[0;32m----> 3\u001b[0;31m         \u001b[0;32mraise\u001b[0m \u001b[0mValueError\u001b[0m\u001b[0;34m(\u001b[0m\u001b[0;34m\"1 이상의 정수만 입력하세요\"\u001b[0m\u001b[0;34m)\u001b[0m\u001b[0;34m\u001b[0m\u001b[0;34m\u001b[0m\u001b[0m\n\u001b[0m\u001b[1;32m      4\u001b[0m     \u001b[0;32melse\u001b[0m\u001b[0;34m:\u001b[0m\u001b[0;34m\u001b[0m\u001b[0;34m\u001b[0m\u001b[0m\n\u001b[1;32m      5\u001b[0m        \u001b[0;32mreturn\u001b[0m \u001b[0mint\u001b[0m\u001b[0;34m(\u001b[0m\u001b[0mn1\u001b[0m\u001b[0;34m/\u001b[0m\u001b[0mn2\u001b[0m\u001b[0;34m)\u001b[0m\u001b[0;34m\u001b[0m\u001b[0;34m\u001b[0m\u001b[0m\n",
            "\u001b[0;31mValueError\u001b[0m: 1 이상의 정수만 입력하세요"
          ]
        }
      ]
    },
    {
      "cell_type": "markdown",
      "source": [
        "- assert 문\n",
        "    - 조건이 거짓일 경우 오류를 발생시킴"
      ],
      "metadata": {
        "id": "5I_02FHnG9tl"
      }
    },
    {
      "cell_type": "code",
      "source": [
        "def sol(n1,n2):     # 개발 단계에서 사용!\n",
        "    assert n2 > 0, \"1 이상의 정수만 입력하세요.\"\n",
        "    return int(n1/n2)\n",
        "sol(1,-1)"
      ],
      "metadata": {
        "colab": {
          "base_uri": "https://localhost:8080/",
          "height": 318
        },
        "id": "eh060wc2Ittb",
        "outputId": "72b53a38-f408-4ee6-e0ac-354694ecf023"
      },
      "execution_count": null,
      "outputs": [
        {
          "output_type": "error",
          "ename": "AssertionError",
          "evalue": "ignored",
          "traceback": [
            "\u001b[0;31m---------------------------------------------------------------------------\u001b[0m",
            "\u001b[0;31mAssertionError\u001b[0m                            Traceback (most recent call last)",
            "\u001b[0;32m<ipython-input-83-a8a716634e95>\u001b[0m in \u001b[0;36m<module>\u001b[0;34m()\u001b[0m\n\u001b[1;32m      2\u001b[0m     \u001b[0;32massert\u001b[0m \u001b[0mn2\u001b[0m \u001b[0;34m>\u001b[0m \u001b[0;36m0\u001b[0m\u001b[0;34m,\u001b[0m \u001b[0;34m\"1 이상의 정수만 입력하세요.\"\u001b[0m\u001b[0;34m\u001b[0m\u001b[0;34m\u001b[0m\u001b[0m\n\u001b[1;32m      3\u001b[0m     \u001b[0;32mreturn\u001b[0m \u001b[0mint\u001b[0m\u001b[0;34m(\u001b[0m\u001b[0mn1\u001b[0m\u001b[0;34m/\u001b[0m\u001b[0mn2\u001b[0m\u001b[0;34m)\u001b[0m\u001b[0;34m\u001b[0m\u001b[0;34m\u001b[0m\u001b[0m\n\u001b[0;32m----> 4\u001b[0;31m \u001b[0msol\u001b[0m\u001b[0;34m(\u001b[0m\u001b[0;36m1\u001b[0m\u001b[0;34m,\u001b[0m\u001b[0;34m-\u001b[0m\u001b[0;36m1\u001b[0m\u001b[0;34m)\u001b[0m\u001b[0;34m\u001b[0m\u001b[0;34m\u001b[0m\u001b[0m\n\u001b[0m",
            "\u001b[0;32m<ipython-input-83-a8a716634e95>\u001b[0m in \u001b[0;36msol\u001b[0;34m(n1, n2)\u001b[0m\n\u001b[1;32m      1\u001b[0m \u001b[0;32mdef\u001b[0m \u001b[0msol\u001b[0m\u001b[0;34m(\u001b[0m\u001b[0mn1\u001b[0m\u001b[0;34m,\u001b[0m\u001b[0mn2\u001b[0m\u001b[0;34m)\u001b[0m\u001b[0;34m:\u001b[0m\u001b[0;34m\u001b[0m\u001b[0;34m\u001b[0m\u001b[0m\n\u001b[0;32m----> 2\u001b[0;31m     \u001b[0;32massert\u001b[0m \u001b[0mn2\u001b[0m \u001b[0;34m>\u001b[0m \u001b[0;36m0\u001b[0m\u001b[0;34m,\u001b[0m \u001b[0;34m\"1 이상의 정수만 입력하세요.\"\u001b[0m\u001b[0;34m\u001b[0m\u001b[0;34m\u001b[0m\u001b[0m\n\u001b[0m\u001b[1;32m      3\u001b[0m     \u001b[0;32mreturn\u001b[0m \u001b[0mint\u001b[0m\u001b[0;34m(\u001b[0m\u001b[0mn1\u001b[0m\u001b[0;34m/\u001b[0m\u001b[0mn2\u001b[0m\u001b[0;34m)\u001b[0m\u001b[0;34m\u001b[0m\u001b[0;34m\u001b[0m\u001b[0m\n\u001b[1;32m      4\u001b[0m \u001b[0msol\u001b[0m\u001b[0;34m(\u001b[0m\u001b[0;36m1\u001b[0m\u001b[0;34m,\u001b[0m\u001b[0;34m-\u001b[0m\u001b[0;36m1\u001b[0m\u001b[0;34m)\u001b[0m\u001b[0;34m\u001b[0m\u001b[0;34m\u001b[0m\u001b[0m\n",
            "\u001b[0;31mAssertionError\u001b[0m: 1 이상의 정수만 입력하세요."
          ]
        }
      ]
    },
    {
      "cell_type": "code",
      "source": [
        ""
      ],
      "metadata": {
        "id": "xFfYdUrdI9it"
      },
      "execution_count": null,
      "outputs": []
    }
  ]
}