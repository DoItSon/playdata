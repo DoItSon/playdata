{
  "nbformat": 4,
  "nbformat_minor": 0,
  "metadata": {
    "colab": {
      "name": "02-컬렉션 자료형.ipynb",
      "provenance": [],
      "collapsed_sections": [],
      "toc_visible": true,
      "authorship_tag": "ABX9TyNe75kguf2QlCBdHg3u8Y7n",
      "include_colab_link": true
    },
    "kernelspec": {
      "name": "python3",
      "display_name": "Python 3"
    },
    "language_info": {
      "name": "python"
    }
  },
  "cells": [
    {
      "cell_type": "markdown",
      "metadata": {
        "id": "view-in-github",
        "colab_type": "text"
      },
      "source": [
        "<a href=\"https://colab.research.google.com/github/soyongseok/playdata/blob/main/02_%EC%BB%AC%EB%A0%89%EC%85%98_%EC%9E%90%EB%A3%8C%ED%98%95.ipynb\" target=\"_parent\"><img src=\"https://colab.research.google.com/assets/colab-badge.svg\" alt=\"Open In Colab\"/></a>"
      ]
    },
    {
      "cell_type": "markdown",
      "source": [
        "# 함수와 메소드\n",
        "- 함수\n",
        "    - 코드의 반복을 줄이거나 어떠한 기능을 하기 위해 특정 코드를 모아둔 것\n",
        "$$\n",
        "f(x) = 2x\n",
        "$$\n",
        "\n",
        "- 메소드\n",
        "    - 객체(값)의 소속되어 있는 함수"
      ],
      "metadata": {
        "id": "zHMpVMW4WLlG"
      }
    },
    {
      "cell_type": "code",
      "source": [
        "s = \"ABCD\"\n",
        "\n",
        "len(s)  # 함수"
      ],
      "metadata": {
        "colab": {
          "base_uri": "https://localhost:8080/"
        },
        "id": "2wVqmpRmWxwg",
        "outputId": "511bce4f-c065-4911-ae1c-526f7d727fb7"
      },
      "execution_count": null,
      "outputs": [
        {
          "output_type": "execute_result",
          "data": {
            "text/plain": [
              "4"
            ]
          },
          "metadata": {},
          "execution_count": 2
        }
      ]
    },
    {
      "cell_type": "code",
      "source": [
        "s.lower()   # 메소드"
      ],
      "metadata": {
        "colab": {
          "base_uri": "https://localhost:8080/",
          "height": 35
        },
        "id": "mXrjCcQYXO7o",
        "outputId": "bf48294e-acc0-4150-a5db-ec173bfd82f4"
      },
      "execution_count": null,
      "outputs": [
        {
          "output_type": "execute_result",
          "data": {
            "text/plain": [
              "'abcd'"
            ],
            "application/vnd.google.colaboratory.intrinsic+json": {
              "type": "string"
            }
          },
          "metadata": {},
          "execution_count": 4
        }
      ]
    },
    {
      "cell_type": "markdown",
      "source": [
        "# 컬렉션 자료형 (Collection data type)\n",
        "- 여러가지 요소를 하나로 묶어서 담을 수 있는 데이터 타입\n",
        "    - 문법적인 요소들 빼고 다 담을 수 있다.\n",
        "    - 객체, 변수, 함수, 클래스 ... 등 담을 수 있다.\n",
        "    - list, set, dict, tuple"
      ],
      "metadata": {
        "id": "Jw3jC3-lXTSA"
      }
    },
    {
      "cell_type": "markdown",
      "source": [
        "# 자료형의 특징\n",
        "- Sequence 자료형\n",
        "    - 열거 되어있고, 연속되어 있다.\n",
        "    - 순서와 순번(index)이 있다.\n",
        "- mutable 자료형\n",
        "    - 수정 가능한 객체(값)\n",
        "    - 컬렉션 자료형: `list, set, dict`\n",
        "- immutable 자료형\n",
        "    - int, float, str, bool, tuple(컬렉션 타입)"
      ],
      "metadata": {
        "id": "i9Z0OUA3X6l1"
      }
    },
    {
      "cell_type": "markdown",
      "source": [
        "# list\n",
        "- Sequence 자료형\n",
        "- mutable 자료형\n",
        "    - 변경 가능\n",
        "-  중복 데이터 저장 가능\n",
        "- `[]`를 이용해서 만들 수 있다."
      ],
      "metadata": {
        "id": "XM7qNzJmYB-D"
      }
    },
    {
      "cell_type": "code",
      "source": [
        "lst = []\n",
        "lst"
      ],
      "metadata": {
        "colab": {
          "base_uri": "https://localhost:8080/"
        },
        "id": "-3aLvhpBZSTa",
        "outputId": "372e260c-64a9-4435-ffdc-0dcecf5be196"
      },
      "execution_count": null,
      "outputs": [
        {
          "output_type": "execute_result",
          "data": {
            "text/plain": [
              "[]"
            ]
          },
          "metadata": {},
          "execution_count": 5
        }
      ]
    },
    {
      "cell_type": "code",
      "source": [
        "lst = [1,2,3,3,\"four\", None, 7.0, True]\n",
        "lst"
      ],
      "metadata": {
        "colab": {
          "base_uri": "https://localhost:8080/"
        },
        "id": "oeiax-BZZe7q",
        "outputId": "fa88fd7f-98e4-4d23-a40b-e3f14f5411bb"
      },
      "execution_count": null,
      "outputs": [
        {
          "output_type": "execute_result",
          "data": {
            "text/plain": [
              "[1, 2, 3, 3, 'four', None, 7.0, True]"
            ]
          },
          "metadata": {},
          "execution_count": 9
        }
      ]
    },
    {
      "cell_type": "code",
      "source": [
        "lst = [1,2,3,[1,2]]\n",
        "len(lst)"
      ],
      "metadata": {
        "colab": {
          "base_uri": "https://localhost:8080/"
        },
        "id": "m5TrSMh8ZtRw",
        "outputId": "7667a445-9589-4477-e0f2-4ce4b649a19d"
      },
      "execution_count": null,
      "outputs": [
        {
          "output_type": "execute_result",
          "data": {
            "text/plain": [
              "4"
            ]
          },
          "metadata": {},
          "execution_count": 10
        }
      ]
    },
    {
      "cell_type": "code",
      "source": [
        "lst = [11,200,7,9,10]\n",
        "sorted(lst,reverse = True)"
      ],
      "metadata": {
        "colab": {
          "base_uri": "https://localhost:8080/"
        },
        "id": "W3zYahkXZ9d6",
        "outputId": "462feb3c-0da8-4bf4-eb59-8acf460175dc"
      },
      "execution_count": null,
      "outputs": [
        {
          "output_type": "execute_result",
          "data": {
            "text/plain": [
              "[200, 11, 10, 9, 7]"
            ]
          },
          "metadata": {},
          "execution_count": 18
        }
      ]
    },
    {
      "cell_type": "code",
      "source": [
        "max(lst)"
      ],
      "metadata": {
        "colab": {
          "base_uri": "https://localhost:8080/"
        },
        "id": "hCN4R7w0aCDy",
        "outputId": "787d72a1-6e11-4a6b-e68e-ade887846d9a"
      },
      "execution_count": null,
      "outputs": [
        {
          "output_type": "execute_result",
          "data": {
            "text/plain": [
              "200"
            ]
          },
          "metadata": {},
          "execution_count": 19
        }
      ]
    },
    {
      "cell_type": "code",
      "source": [
        "min(lst)"
      ],
      "metadata": {
        "colab": {
          "base_uri": "https://localhost:8080/"
        },
        "id": "z3-cvX87ahvG",
        "outputId": "0e150aa6-5532-4b87-e682-b19e5cc0edcc"
      },
      "execution_count": null,
      "outputs": [
        {
          "output_type": "execute_result",
          "data": {
            "text/plain": [
              "7"
            ]
          },
          "metadata": {},
          "execution_count": 22
        }
      ]
    },
    {
      "cell_type": "code",
      "source": [
        "sum(lst) / len(lst) # 평균 구하기!"
      ],
      "metadata": {
        "colab": {
          "base_uri": "https://localhost:8080/"
        },
        "id": "ZEEtrTJCaj7s",
        "outputId": "59e4374b-ec22-4154-acaf-0483fb0760e8"
      },
      "execution_count": null,
      "outputs": [
        {
          "output_type": "execute_result",
          "data": {
            "text/plain": [
              "47.4"
            ]
          },
          "metadata": {},
          "execution_count": 25
        }
      ]
    },
    {
      "cell_type": "markdown",
      "source": [
        "## 시퀀스 다루기\n",
        "- Sequence는 순번이 있다.\n",
        "    - 순번을 index 라고 한다\n",
        "- 파이썬의 인덱스는 2종류가 있다.\n",
        "    - 양수 인덱스\n",
        "        - `0` 부터 시작한다.\n",
        "        - 왼쪽에서 오른쪽으로 1씩 증가\n",
        "    - 음수 인덱스\n",
        "        - `-1`부터 시작한다.\n",
        "        - 오른쪽에서 왼쪽으로 1씩 감소\n",
        "- 인덱스는 무조건 정수 !!"
      ],
      "metadata": {
        "id": "TBuC0l-Eap-C"
      }
    },
    {
      "cell_type": "code",
      "source": [
        "lst = [1,2,3,3,\"four\", None, 7.0, True]\n",
        "lst"
      ],
      "metadata": {
        "colab": {
          "base_uri": "https://localhost:8080/"
        },
        "id": "8KrMpEETcJ8-",
        "outputId": "8b98f7ef-ae75-487f-8a1d-598818138622"
      },
      "execution_count": null,
      "outputs": [
        {
          "output_type": "execute_result",
          "data": {
            "text/plain": [
              "[1, 2, 3, 3, 'four', None, 7.0, True]"
            ]
          },
          "metadata": {},
          "execution_count": 26
        }
      ]
    },
    {
      "cell_type": "code",
      "source": [
        "lst[0]"
      ],
      "metadata": {
        "colab": {
          "base_uri": "https://localhost:8080/"
        },
        "id": "7CCNKk7McNz3",
        "outputId": "378c4867-3473-426c-c182-f6b0bffec185"
      },
      "execution_count": null,
      "outputs": [
        {
          "output_type": "execute_result",
          "data": {
            "text/plain": [
              "1"
            ]
          },
          "metadata": {},
          "execution_count": 28
        }
      ]
    },
    {
      "cell_type": "code",
      "source": [
        "lst[4]"
      ],
      "metadata": {
        "colab": {
          "base_uri": "https://localhost:8080/",
          "height": 35
        },
        "id": "zYrCuTJccjlQ",
        "outputId": "36e1b218-7d1e-41da-f8ba-c5e608cbeabf"
      },
      "execution_count": null,
      "outputs": [
        {
          "output_type": "execute_result",
          "data": {
            "text/plain": [
              "'four'"
            ],
            "application/vnd.google.colaboratory.intrinsic+json": {
              "type": "string"
            }
          },
          "metadata": {},
          "execution_count": 30
        }
      ]
    },
    {
      "cell_type": "code",
      "source": [
        "lst[-2]"
      ],
      "metadata": {
        "colab": {
          "base_uri": "https://localhost:8080/"
        },
        "id": "WDxQkyuycnfh",
        "outputId": "2b04c368-de07-4628-80f1-925442c915a5"
      },
      "execution_count": null,
      "outputs": [
        {
          "output_type": "execute_result",
          "data": {
            "text/plain": [
              "7.0"
            ]
          },
          "metadata": {},
          "execution_count": 32
        }
      ]
    },
    {
      "cell_type": "markdown",
      "source": [
        "## 슬라이싱(Slicing)\n",
        "- 인덱스를 사용해서 시퀀스를 잘라낸다.\n",
        "- 시퀀스에 특정 범위를 가리킨다.\n",
        "- `[start:end:step]`\n",
        "    - `start ~ end-1` 부분을 `step`만큼 건너 뛰면서 잘라낸다."
      ],
      "metadata": {
        "id": "OQ0rIH8Jczjf"
      }
    },
    {
      "cell_type": "code",
      "source": [
        "lst = [\"a\", \"b\", \"c\", \"d\", \"e\", \"f\", \"g\"]\n",
        "lst"
      ],
      "metadata": {
        "colab": {
          "base_uri": "https://localhost:8080/"
        },
        "id": "o7oRRLP3deWa",
        "outputId": "ab6ba98a-1e64-4c39-bf2b-581eb0b27cc4"
      },
      "execution_count": null,
      "outputs": [
        {
          "output_type": "execute_result",
          "data": {
            "text/plain": [
              "['a', 'b', 'c', 'd', 'e', 'f', 'g']"
            ]
          },
          "metadata": {},
          "execution_count": 33
        }
      ]
    },
    {
      "cell_type": "code",
      "source": [
        "lst[0:3]"
      ],
      "metadata": {
        "colab": {
          "base_uri": "https://localhost:8080/"
        },
        "id": "Tca5q6sYdvWt",
        "outputId": "27711f52-582b-4c45-e955-1690f14a0d86"
      },
      "execution_count": null,
      "outputs": [
        {
          "output_type": "execute_result",
          "data": {
            "text/plain": [
              "['a', 'b', 'c']"
            ]
          },
          "metadata": {},
          "execution_count": 34
        }
      ]
    },
    {
      "cell_type": "code",
      "source": [
        "lst[2:4]"
      ],
      "metadata": {
        "colab": {
          "base_uri": "https://localhost:8080/"
        },
        "id": "CxZtNeWpdyK2",
        "outputId": "162928f5-1d92-47da-f917-799d2e4b66b1"
      },
      "execution_count": null,
      "outputs": [
        {
          "output_type": "execute_result",
          "data": {
            "text/plain": [
              "['c', 'd']"
            ]
          },
          "metadata": {},
          "execution_count": 35
        }
      ]
    },
    {
      "cell_type": "code",
      "source": [
        "lst[-3:-1]"
      ],
      "metadata": {
        "colab": {
          "base_uri": "https://localhost:8080/"
        },
        "id": "fGHscm7Sd7D6",
        "outputId": "3303edaa-e4cf-4960-c0ae-ba36d2ade4fe"
      },
      "execution_count": null,
      "outputs": [
        {
          "output_type": "execute_result",
          "data": {
            "text/plain": [
              "['e', 'f']"
            ]
          },
          "metadata": {},
          "execution_count": 42
        }
      ]
    },
    {
      "cell_type": "markdown",
      "source": [
        "- `start, end, step` 생략이 가능하다.\n",
        "- `start`를 생략하면 자동으로 `0`이 들어간다.\n",
        "- `end`를 생략하면 자동으로 시퀀스의 길이(len)가 들어간다."
      ],
      "metadata": {
        "id": "kaS1J1EReLkT"
      }
    },
    {
      "cell_type": "code",
      "source": [
        "lst[:] # lst[0:len(lst)]와 같다."
      ],
      "metadata": {
        "colab": {
          "base_uri": "https://localhost:8080/"
        },
        "id": "Y_YdQ_IRfO3o",
        "outputId": "95139d8e-b49e-4bc5-ed34-4209ed9e55fa"
      },
      "execution_count": null,
      "outputs": [
        {
          "output_type": "execute_result",
          "data": {
            "text/plain": [
              "['a', 'b', 'c', 'd', 'e', 'f', 'g']"
            ]
          },
          "metadata": {},
          "execution_count": 46
        }
      ]
    },
    {
      "cell_type": "code",
      "source": [
        "lst[3:]"
      ],
      "metadata": {
        "colab": {
          "base_uri": "https://localhost:8080/"
        },
        "id": "GfX9UH24fnBX",
        "outputId": "1dcd10ef-ebcf-4973-e43c-ed962c83dacb"
      },
      "execution_count": null,
      "outputs": [
        {
          "output_type": "execute_result",
          "data": {
            "text/plain": [
              "['d', 'e', 'f', 'g']"
            ]
          },
          "metadata": {},
          "execution_count": 47
        }
      ]
    },
    {
      "cell_type": "code",
      "source": [
        "lst[:5]"
      ],
      "metadata": {
        "colab": {
          "base_uri": "https://localhost:8080/"
        },
        "id": "7c0fLIvEfpky",
        "outputId": "368c535f-9485-4be1-c206-5f42e9fe95a1"
      },
      "execution_count": null,
      "outputs": [
        {
          "output_type": "execute_result",
          "data": {
            "text/plain": [
              "['a', 'b', 'c', 'd', 'e']"
            ]
          },
          "metadata": {},
          "execution_count": 48
        }
      ]
    },
    {
      "cell_type": "code",
      "source": [
        "lst[:-2]"
      ],
      "metadata": {
        "colab": {
          "base_uri": "https://localhost:8080/"
        },
        "id": "hg0nkbFwft-R",
        "outputId": "43f81fbd-3b06-41ed-f414-002e1112b9a7"
      },
      "execution_count": null,
      "outputs": [
        {
          "output_type": "execute_result",
          "data": {
            "text/plain": [
              "['a', 'b', 'c', 'd', 'e']"
            ]
          },
          "metadata": {},
          "execution_count": 50
        }
      ]
    },
    {
      "cell_type": "code",
      "source": [
        "lst[-5:]"
      ],
      "metadata": {
        "colab": {
          "base_uri": "https://localhost:8080/"
        },
        "id": "Q-8XV9gzf6tf",
        "outputId": "d88b76be-6ff7-4050-efff-d82a3da2f583"
      },
      "execution_count": null,
      "outputs": [
        {
          "output_type": "execute_result",
          "data": {
            "text/plain": [
              "['c', 'd', 'e', 'f', 'g']"
            ]
          },
          "metadata": {},
          "execution_count": 51
        }
      ]
    },
    {
      "cell_type": "markdown",
      "source": [
        "- step\n",
        "    - 지정한 범위에서 `step` 만큼 건너뛰면서 슬라이싱\n",
        "    - `step`을 생략하면 기본적으로 1이 주어진다."
      ],
      "metadata": {
        "id": "dG0GwnbIgHt6"
      }
    },
    {
      "cell_type": "code",
      "source": [
        "lst[::] # lst[0:len(lst):1]과 같다."
      ],
      "metadata": {
        "colab": {
          "base_uri": "https://localhost:8080/"
        },
        "id": "9NKninCIkHQH",
        "outputId": "daa52aa0-b9c3-4286-b9a3-fae11763ff18"
      },
      "execution_count": null,
      "outputs": [
        {
          "output_type": "execute_result",
          "data": {
            "text/plain": [
              "['a', 'b', 'c', 'd', 'e', 'f', 'g']"
            ]
          },
          "metadata": {},
          "execution_count": 53
        }
      ]
    },
    {
      "cell_type": "code",
      "source": [
        "lst[::2]"
      ],
      "metadata": {
        "colab": {
          "base_uri": "https://localhost:8080/"
        },
        "id": "07gYe10nkVyy",
        "outputId": "cdcdf0a0-b927-411c-ff53-b50f7c807f02"
      },
      "execution_count": null,
      "outputs": [
        {
          "output_type": "execute_result",
          "data": {
            "text/plain": [
              "['a', 'c', 'e', 'g']"
            ]
          },
          "metadata": {},
          "execution_count": 54
        }
      ]
    },
    {
      "cell_type": "markdown",
      "source": [
        "- `step` 부분을 양수, 음수를 이용해서 방향 설정 가능\n",
        "    - 양수: 정방향(왼쪽에서 오른쪽)\n",
        "    - 음수: 역방향(오른쪽에서 왼쪽)"
      ],
      "metadata": {
        "id": "Os90zG2fkg1U"
      }
    },
    {
      "cell_type": "code",
      "source": [
        "lst[::-1]"
      ],
      "metadata": {
        "colab": {
          "base_uri": "https://localhost:8080/"
        },
        "id": "crdywo2Jk2vK",
        "outputId": "a98f3dca-796d-44bd-e2ff-c67daf356eca"
      },
      "execution_count": null,
      "outputs": [
        {
          "output_type": "execute_result",
          "data": {
            "text/plain": [
              "['g', 'f', 'e', 'd', 'c', 'b', 'a']"
            ]
          },
          "metadata": {},
          "execution_count": 57
        }
      ]
    },
    {
      "cell_type": "code",
      "source": [
        "lst = [10,20,30,40,50,60,70]\n",
        "lst"
      ],
      "metadata": {
        "colab": {
          "base_uri": "https://localhost:8080/"
        },
        "id": "_Ezk0VIRk5oZ",
        "outputId": "3cb3775c-b8c4-4980-ddff-d2698425a4cb"
      },
      "execution_count": null,
      "outputs": [
        {
          "output_type": "execute_result",
          "data": {
            "text/plain": [
              "[10, 20, 30, 40, 50, 60, 70]"
            ]
          },
          "metadata": {},
          "execution_count": 58
        }
      ]
    },
    {
      "cell_type": "code",
      "source": [
        "lst[-1:-5:-1]"
      ],
      "metadata": {
        "colab": {
          "base_uri": "https://localhost:8080/"
        },
        "id": "oglbGYlflZ_h",
        "outputId": "947b344a-32cb-4b37-9e49-c6800d272320"
      },
      "execution_count": null,
      "outputs": [
        {
          "output_type": "execute_result",
          "data": {
            "text/plain": [
              "[70, 60, 50, 40]"
            ]
          },
          "metadata": {},
          "execution_count": 64
        }
      ]
    },
    {
      "cell_type": "code",
      "source": [
        "lst[-2:-6:-1]"
      ],
      "metadata": {
        "colab": {
          "base_uri": "https://localhost:8080/"
        },
        "id": "w7y1Onjaldd2",
        "outputId": "62fe0427-3677-4023-fe1c-54bd238054b7"
      },
      "execution_count": null,
      "outputs": [
        {
          "output_type": "execute_result",
          "data": {
            "text/plain": [
              "[60, 50, 40, 30]"
            ]
          },
          "metadata": {},
          "execution_count": 65
        }
      ]
    },
    {
      "cell_type": "code",
      "source": [
        "num_list = [2,3,4,5,6,7,8,9,10,11,12,13,14,15] # 10보다 작은 3의 배수 (오름차순)\n",
        "num_list[1:10:3]"
      ],
      "metadata": {
        "colab": {
          "base_uri": "https://localhost:8080/"
        },
        "id": "k7Ajwuc5lh4-",
        "outputId": "119cd2cb-a185-4950-b423-0e87652c24b9"
      },
      "execution_count": null,
      "outputs": [
        {
          "output_type": "execute_result",
          "data": {
            "text/plain": [
              "[3, 6, 9]"
            ]
          },
          "metadata": {},
          "execution_count": 82
        }
      ]
    },
    {
      "cell_type": "markdown",
      "source": [
        "## 리스트는 변경이 가능하다"
      ],
      "metadata": {
        "id": "OOVe2YWHnD91"
      }
    },
    {
      "cell_type": "code",
      "source": [
        "lst = [1,2,3,4,5,6,7,8,9,10]\n",
        "lst[1] = 10000\n",
        "lst"
      ],
      "metadata": {
        "colab": {
          "base_uri": "https://localhost:8080/"
        },
        "id": "b9kUKJQEo9p7",
        "outputId": "2dfe6119-3754-42ec-b427-e2d7a4aacd69"
      },
      "execution_count": null,
      "outputs": [
        {
          "output_type": "execute_result",
          "data": {
            "text/plain": [
              "[1, 10000, 3, 4, 5, 6, 7, 8, 9, 10]"
            ]
          },
          "metadata": {},
          "execution_count": 84
        }
      ]
    },
    {
      "cell_type": "code",
      "source": [
        "lst[:1] = 3 # 슬라이싱 해서 리스트가 반환 됐기 떄문에 단일값 대입 시 에러가 난다."
      ],
      "metadata": {
        "colab": {
          "base_uri": "https://localhost:8080/",
          "height": 172
        },
        "id": "RVx1-PQspLqi",
        "outputId": "5f2968b9-0341-48c2-d0ae-43706f8ab223"
      },
      "execution_count": null,
      "outputs": [
        {
          "output_type": "error",
          "ename": "TypeError",
          "evalue": "ignored",
          "traceback": [
            "\u001b[0;31m---------------------------------------------------------------------------\u001b[0m",
            "\u001b[0;31mTypeError\u001b[0m                                 Traceback (most recent call last)",
            "\u001b[0;32m<ipython-input-86-95bfc3a47437>\u001b[0m in \u001b[0;36m<module>\u001b[0;34m()\u001b[0m\n\u001b[0;32m----> 1\u001b[0;31m \u001b[0mlst\u001b[0m\u001b[0;34m[\u001b[0m\u001b[0;34m:\u001b[0m\u001b[0;36m1\u001b[0m\u001b[0;34m]\u001b[0m \u001b[0;34m=\u001b[0m \u001b[0;36m3\u001b[0m \u001b[0;31m# 슬라이싱 해서 리스트가 반환 됐기 떄문에 단일값 대입 시 에러가 난다.\u001b[0m\u001b[0;34m\u001b[0m\u001b[0;34m\u001b[0m\u001b[0m\n\u001b[0m",
            "\u001b[0;31mTypeError\u001b[0m: can only assign an iterable"
          ]
        }
      ]
    },
    {
      "cell_type": "markdown",
      "source": [
        "- 길이가 달라도 리스트에 리스트를 담는 것은 가능하다."
      ],
      "metadata": {
        "id": "IivbjN6Qqht1"
      }
    },
    {
      "cell_type": "code",
      "source": [
        "lst[1:] = [3]\n",
        "lst"
      ],
      "metadata": {
        "colab": {
          "base_uri": "https://localhost:8080/"
        },
        "id": "IKhDOJL7pTCo",
        "outputId": "450ebf1c-5094-462b-eac7-e154e286437f"
      },
      "execution_count": null,
      "outputs": [
        {
          "output_type": "execute_result",
          "data": {
            "text/plain": [
              "[1, 3]"
            ]
          },
          "metadata": {},
          "execution_count": 88
        }
      ]
    },
    {
      "cell_type": "code",
      "source": [
        "lst[1:] = [1001,1002,1003,1004]\n",
        "lst"
      ],
      "metadata": {
        "colab": {
          "base_uri": "https://localhost:8080/"
        },
        "id": "f0LZRZrSpplf",
        "outputId": "1d4e2050-e7bb-4a93-da68-d77cf3ad59e0"
      },
      "execution_count": null,
      "outputs": [
        {
          "output_type": "execute_result",
          "data": {
            "text/plain": [
              "[1, 1001, 1002, 1003, 1004]"
            ]
          },
          "metadata": {},
          "execution_count": 90
        }
      ]
    },
    {
      "cell_type": "code",
      "source": [
        "lst = [1,2,3,4,5,6,7,8,9,10]\n",
        "lst"
      ],
      "metadata": {
        "colab": {
          "base_uri": "https://localhost:8080/"
        },
        "id": "nwKqMUrQp2-q",
        "outputId": "b59f9fdc-f3a2-4ad1-aceb-0bfede716091"
      },
      "execution_count": null,
      "outputs": [
        {
          "output_type": "execute_result",
          "data": {
            "text/plain": [
              "[1, 2, 3, 4, 5, 6, 7, 8, 9, 10]"
            ]
          },
          "metadata": {},
          "execution_count": 91
        }
      ]
    },
    {
      "cell_type": "markdown",
      "source": [
        "- step 을 2이상 넣어 연속적인 공간이 아닌 리스트가 슬라이싱 되면 수정이 안된다"
      ],
      "metadata": {
        "id": "yylUlNeXqqJo"
      }
    },
    {
      "cell_type": "code",
      "source": [
        "lst[1::2] = [0]"
      ],
      "metadata": {
        "colab": {
          "base_uri": "https://localhost:8080/",
          "height": 172
        },
        "id": "Uqyq3rajqK_9",
        "outputId": "72ee341f-62d7-4bd2-91ba-c95cd79b62c3"
      },
      "execution_count": null,
      "outputs": [
        {
          "output_type": "error",
          "ename": "ValueError",
          "evalue": "ignored",
          "traceback": [
            "\u001b[0;31m---------------------------------------------------------------------------\u001b[0m",
            "\u001b[0;31mValueError\u001b[0m                                Traceback (most recent call last)",
            "\u001b[0;32m<ipython-input-102-4f5f0a3a0fdc>\u001b[0m in \u001b[0;36m<module>\u001b[0;34m()\u001b[0m\n\u001b[0;32m----> 1\u001b[0;31m \u001b[0mlst\u001b[0m\u001b[0;34m[\u001b[0m\u001b[0;36m1\u001b[0m\u001b[0;34m:\u001b[0m\u001b[0;34m:\u001b[0m\u001b[0;36m2\u001b[0m\u001b[0;34m]\u001b[0m \u001b[0;34m=\u001b[0m \u001b[0;34m[\u001b[0m\u001b[0;36m0\u001b[0m\u001b[0;34m]\u001b[0m\u001b[0;34m\u001b[0m\u001b[0;34m\u001b[0m\u001b[0m\n\u001b[0m",
            "\u001b[0;31mValueError\u001b[0m: attempt to assign sequence of size 1 to extended slice of size 2"
          ]
        }
      ]
    },
    {
      "cell_type": "markdown",
      "source": [
        "## `list`의 메소드"
      ],
      "metadata": {
        "id": "TSeZLyZXqPa-"
      }
    },
    {
      "cell_type": "markdown",
      "source": [
        "- `append()`\n",
        "    - 리스트 제일 뒤에 값을 추가"
      ],
      "metadata": {
        "id": "CI_XMK8TqwAj"
      }
    },
    {
      "cell_type": "code",
      "source": [
        "lst = [1,2,3,4]\n",
        "lst.append(0)\n",
        "lst"
      ],
      "metadata": {
        "colab": {
          "base_uri": "https://localhost:8080/"
        },
        "id": "NeGcIJoVq4nv",
        "outputId": "15dc336a-9f1f-4c83-87c6-89189cfc12e3"
      },
      "execution_count": null,
      "outputs": [
        {
          "output_type": "execute_result",
          "data": {
            "text/plain": [
              "[1, 2, 3, 4, 0]"
            ]
          },
          "metadata": {},
          "execution_count": 109
        }
      ]
    },
    {
      "cell_type": "code",
      "source": [
        "sorted(lst)  # 복사 후 정렬하지만 결과적으로 정렬이 안된다."
      ],
      "metadata": {
        "colab": {
          "base_uri": "https://localhost:8080/"
        },
        "id": "_j7AoXXhrO5q",
        "outputId": "a8c16751-b151-4628-8d47-37df72424663"
      },
      "execution_count": null,
      "outputs": [
        {
          "output_type": "execute_result",
          "data": {
            "text/plain": [
              "[0, 1, 2, 3, 4]"
            ]
          },
          "metadata": {},
          "execution_count": 110
        }
      ]
    },
    {
      "cell_type": "code",
      "source": [
        "lst"
      ],
      "metadata": {
        "colab": {
          "base_uri": "https://localhost:8080/"
        },
        "id": "bzIbU4D_rZ0G",
        "outputId": "bc25f9ee-f63e-460e-f8ea-256aba7c0104"
      },
      "execution_count": null,
      "outputs": [
        {
          "output_type": "execute_result",
          "data": {
            "text/plain": [
              "[1, 2, 3, 4, 0]"
            ]
          },
          "metadata": {},
          "execution_count": 111
        }
      ]
    },
    {
      "cell_type": "code",
      "source": [
        "lst.sort()  # 값 안에서 정렬이 된다.\n",
        "lst"
      ],
      "metadata": {
        "colab": {
          "base_uri": "https://localhost:8080/"
        },
        "id": "84FXfOy0q_sh",
        "outputId": "986c8fbf-7c9e-4987-ed12-5b0369036609"
      },
      "execution_count": null,
      "outputs": [
        {
          "output_type": "execute_result",
          "data": {
            "text/plain": [
              "[0, 1, 2, 3, 4]"
            ]
          },
          "metadata": {},
          "execution_count": 112
        }
      ]
    },
    {
      "cell_type": "markdown",
      "source": [
        "- pop()\n",
        "    - 제일 뒤에 있는 데이터를 꺼내고 삭제\n",
        "    - 인덱스 값을 줄 경우 해당 인덱스 값을 꺼내고 삭제"
      ],
      "metadata": {
        "id": "EhSgXGgjrFer"
      }
    },
    {
      "cell_type": "code",
      "source": [
        "lst"
      ],
      "metadata": {
        "colab": {
          "base_uri": "https://localhost:8080/"
        },
        "id": "cO3Uy8aVsxrT",
        "outputId": "3fdabf84-6724-4c5c-c55a-a275f85e182d"
      },
      "execution_count": null,
      "outputs": [
        {
          "output_type": "execute_result",
          "data": {
            "text/plain": [
              "[0, 1, 2, 3, 4]"
            ]
          },
          "metadata": {},
          "execution_count": 113
        }
      ]
    },
    {
      "cell_type": "code",
      "source": [
        "print(lst.pop())\n",
        "print(lst)\n",
        "\n",
        "print(lst.pop())\n",
        "print(lst)"
      ],
      "metadata": {
        "colab": {
          "base_uri": "https://localhost:8080/"
        },
        "id": "d3ujnDTBszS6",
        "outputId": "31525476-5c2e-4254-b380-0d3f4e041931"
      },
      "execution_count": null,
      "outputs": [
        {
          "output_type": "stream",
          "name": "stdout",
          "text": [
            "4\n",
            "[0, 1, 2, 3]\n",
            "3\n",
            "[0, 1, 2]\n"
          ]
        }
      ]
    },
    {
      "cell_type": "code",
      "source": [
        "lst.pop(1)\n",
        "lst"
      ],
      "metadata": {
        "colab": {
          "base_uri": "https://localhost:8080/"
        },
        "id": "em-Ih0Lis1iO",
        "outputId": "78729c52-82d3-4ad7-e1ed-c31d28418080"
      },
      "execution_count": null,
      "outputs": [
        {
          "output_type": "execute_result",
          "data": {
            "text/plain": [
              "[0, 2]"
            ]
          },
          "metadata": {},
          "execution_count": 115
        }
      ]
    },
    {
      "cell_type": "markdown",
      "source": [
        "- `extend()`\n",
        "    - 리스트와 리스트를 합친다."
      ],
      "metadata": {
        "id": "_e944P3Es_tC"
      }
    },
    {
      "cell_type": "code",
      "source": [
        "lst = [1,2,3]\n",
        "lst.extend([4,5,6])\n",
        "lst"
      ],
      "metadata": {
        "colab": {
          "base_uri": "https://localhost:8080/"
        },
        "id": "yZ1znx3Itffd",
        "outputId": "736675c3-8d9b-4a34-fe34-1f70cbc3873b"
      },
      "execution_count": null,
      "outputs": [
        {
          "output_type": "execute_result",
          "data": {
            "text/plain": [
              "[1, 2, 3, 4, 5, 6]"
            ]
          },
          "metadata": {},
          "execution_count": 159
        }
      ]
    },
    {
      "cell_type": "code",
      "source": [
        "lst = [1,2,3]\n",
        "lst.append([4,5,6])\n",
        "lst"
      ],
      "metadata": {
        "colab": {
          "base_uri": "https://localhost:8080/"
        },
        "id": "_bGiA8H6tpbF",
        "outputId": "714076a0-0a18-4195-be53-13c2e9f71651"
      },
      "execution_count": null,
      "outputs": [
        {
          "output_type": "execute_result",
          "data": {
            "text/plain": [
              "[1, 2, 3, [4, 5, 6]]"
            ]
          },
          "metadata": {},
          "execution_count": 119
        }
      ]
    },
    {
      "cell_type": "markdown",
      "source": [
        "- insert()\n",
        "    - 인덱스 위치에 값을 추가한다.\n",
        "    "
      ],
      "metadata": {
        "id": "fnDJM5W3tvJo"
      }
    },
    {
      "cell_type": "code",
      "source": [
        "lst = [1,2,3]\n",
        "lst.insert(0,9)\n",
        "lst"
      ],
      "metadata": {
        "colab": {
          "base_uri": "https://localhost:8080/"
        },
        "id": "DC35TZUBuAes",
        "outputId": "537ac134-649c-40d6-f108-93bfcbad228c"
      },
      "execution_count": null,
      "outputs": [
        {
          "output_type": "execute_result",
          "data": {
            "text/plain": [
              "[9, 1, 2, 3]"
            ]
          },
          "metadata": {},
          "execution_count": 121
        }
      ]
    },
    {
      "cell_type": "markdown",
      "source": [
        "- remove()\n",
        "    - 리스트에서 값을 찾아 삭제한다."
      ],
      "metadata": {
        "id": "0SmXEEUduNwF"
      }
    },
    {
      "cell_type": "code",
      "source": [
        "lst = [10,20,30]\n",
        "lst.remove(20)\n",
        "lst"
      ],
      "metadata": {
        "colab": {
          "base_uri": "https://localhost:8080/"
        },
        "id": "lyL4uygGuZ0z",
        "outputId": "c957fc54-8729-4e5a-c86d-9a787c1fe907"
      },
      "execution_count": null,
      "outputs": [
        {
          "output_type": "execute_result",
          "data": {
            "text/plain": [
              "[10, 30]"
            ]
          },
          "metadata": {},
          "execution_count": 122
        }
      ]
    },
    {
      "cell_type": "markdown",
      "source": [
        " - del\n",
        "    - del 이라는 키워드를 사용하면 된다.\n",
        "    - 리스트에 경우 특정 인덱스 값을 삭제\n",
        "    - 메모리관리할 때 편함"
      ],
      "metadata": {
        "id": "kX6fzDP7uhGb"
      }
    },
    {
      "cell_type": "code",
      "source": [
        "lst = [10,20,30]\n",
        "del lst[1]\n",
        "lst"
      ],
      "metadata": {
        "colab": {
          "base_uri": "https://localhost:8080/"
        },
        "id": "euLZ5q41u2s6",
        "outputId": "bd878470-dade-4281-a808-0550866ebd4e"
      },
      "execution_count": null,
      "outputs": [
        {
          "output_type": "execute_result",
          "data": {
            "text/plain": [
              "[10, 30]"
            ]
          },
          "metadata": {},
          "execution_count": 124
        }
      ]
    },
    {
      "cell_type": "code",
      "source": [
        "a = 1004\n",
        "del a\n",
        "a"
      ],
      "metadata": {
        "colab": {
          "base_uri": "https://localhost:8080/",
          "height": 209
        },
        "id": "lj7VZYYKvAKA",
        "outputId": "a27ebaa3-23fa-4cc4-842b-225072ffd63c"
      },
      "execution_count": null,
      "outputs": [
        {
          "output_type": "error",
          "ename": "NameError",
          "evalue": "ignored",
          "traceback": [
            "\u001b[0;31m---------------------------------------------------------------------------\u001b[0m",
            "\u001b[0;31mNameError\u001b[0m                                 Traceback (most recent call last)",
            "\u001b[0;32m<ipython-input-125-922dae9cc0b7>\u001b[0m in \u001b[0;36m<module>\u001b[0;34m()\u001b[0m\n\u001b[1;32m      1\u001b[0m \u001b[0ma\u001b[0m \u001b[0;34m=\u001b[0m \u001b[0;36m1004\u001b[0m\u001b[0;34m\u001b[0m\u001b[0;34m\u001b[0m\u001b[0m\n\u001b[1;32m      2\u001b[0m \u001b[0;32mdel\u001b[0m \u001b[0ma\u001b[0m\u001b[0;34m\u001b[0m\u001b[0;34m\u001b[0m\u001b[0m\n\u001b[0;32m----> 3\u001b[0;31m \u001b[0ma\u001b[0m\u001b[0;34m\u001b[0m\u001b[0;34m\u001b[0m\u001b[0m\n\u001b[0m",
            "\u001b[0;31mNameError\u001b[0m: name 'a' is not defined"
          ]
        }
      ]
    },
    {
      "cell_type": "markdown",
      "source": [
        "## 1번 문제 \n",
        "###다음 리스트에서 앞에서부터 하니씩 꺼낸 값을 출력하면서 모든 값을 꺼내시오."
      ],
      "metadata": {
        "id": "gucryxAj0Xq-"
      }
    },
    {
      "cell_type": "code",
      "source": [
        "lst = [1,2,3,4]"
      ],
      "metadata": {
        "id": "NpNxhQzq0S9h"
      },
      "execution_count": null,
      "outputs": []
    },
    {
      "cell_type": "code",
      "source": [
        "print(lst.pop())\n",
        "print(lst)\n",
        "\n",
        "print(lst.pop())\n",
        "print(lst)\n",
        "\n",
        "print(lst.pop())\n",
        "print(lst)\n",
        "\n",
        "print(lst.pop())\n",
        "print(lst)"
      ],
      "metadata": {
        "colab": {
          "base_uri": "https://localhost:8080/"
        },
        "id": "LxOoDK68031u",
        "outputId": "4a887241-a472-400b-b997-aa3de5d79323"
      },
      "execution_count": null,
      "outputs": [
        {
          "output_type": "stream",
          "name": "stdout",
          "text": [
            "4\n",
            "[1, 2, 3]\n",
            "3\n",
            "[1, 2]\n",
            "2\n",
            "[1]\n",
            "1\n",
            "[]\n"
          ]
        }
      ]
    },
    {
      "cell_type": "markdown",
      "source": [
        "## 2번 문제\n",
        "### 다음 리스트에서 2의 배수만  내림차순으로 슬라이싱하시오."
      ],
      "metadata": {
        "id": "y0DxIeVs0XGD"
      }
    },
    {
      "cell_type": "code",
      "source": [
        "num_list = [2,3,4,5,6,7,8,9,10,11,12,13,14,15]"
      ],
      "metadata": {
        "id": "v-iDreY20slk"
      },
      "execution_count": null,
      "outputs": []
    },
    {
      "cell_type": "code",
      "source": [
        "num_list[-2::-2]"
      ],
      "metadata": {
        "colab": {
          "base_uri": "https://localhost:8080/"
        },
        "id": "B9ixgNyR13g4",
        "outputId": "49064674-db98-4f09-b570-6dc687850156"
      },
      "execution_count": null,
      "outputs": [
        {
          "output_type": "execute_result",
          "data": {
            "text/plain": [
              "[14, 12, 10, 8, 6, 4, 2]"
            ]
          },
          "metadata": {},
          "execution_count": 142
        }
      ]
    },
    {
      "cell_type": "markdown",
      "source": [
        "## 3번 문제\n",
        "### 다음 리스트에서 sort 메소드와 인덱싱만을 이용하여 최대값과 최소값을 구하시오."
      ],
      "metadata": {
        "id": "40DsqcZY0uBd"
      }
    },
    {
      "cell_type": "code",
      "source": [
        "num_list = [6,7,8,9,11,12,13,14,15,2,3,4,5]"
      ],
      "metadata": {
        "id": "EQJ7dVZF01YW"
      },
      "execution_count": null,
      "outputs": []
    },
    {
      "cell_type": "code",
      "source": [
        "num_list.sort()\n",
        "num_list"
      ],
      "metadata": {
        "colab": {
          "base_uri": "https://localhost:8080/"
        },
        "id": "bkt4ZED22Zzs",
        "outputId": "3f82fcb3-6b75-40d9-98d3-f3a2a660be34"
      },
      "execution_count": null,
      "outputs": [
        {
          "output_type": "execute_result",
          "data": {
            "text/plain": [
              "[2, 3, 4, 5, 6, 7, 8, 9, 11, 12, 13, 14, 15]"
            ]
          },
          "metadata": {},
          "execution_count": 155
        }
      ]
    },
    {
      "cell_type": "code",
      "source": [
        "num_list[-1],num_list[0]"
      ],
      "metadata": {
        "colab": {
          "base_uri": "https://localhost:8080/"
        },
        "id": "7cjGvUpn3CGn",
        "outputId": "45c78672-21c1-4e52-a68c-98555cf5f948"
      },
      "execution_count": null,
      "outputs": [
        {
          "output_type": "execute_result",
          "data": {
            "text/plain": [
              "(15, 2)"
            ]
          },
          "metadata": {},
          "execution_count": 158
        }
      ]
    },
    {
      "cell_type": "markdown",
      "source": [
        "## 연산자를 이용한 리스트를 조작해보자"
      ],
      "metadata": {
        "id": "SaqBFf4pS2Py"
      }
    },
    {
      "cell_type": "code",
      "source": [
        "list1 = [1,2,3]\n",
        "list2 = [4,5,6]\n",
        "list1 + list2 # 나중에 자동으로 사라진다. (extend와 동일)"
      ],
      "metadata": {
        "colab": {
          "base_uri": "https://localhost:8080/"
        },
        "id": "_YnZgZUsS8EG",
        "outputId": "a19bb38f-372f-4c60-fd46-54d2c4a471d9"
      },
      "execution_count": 219,
      "outputs": [
        {
          "output_type": "execute_result",
          "data": {
            "text/plain": [
              "[1, 2, 3, 4, 5, 6]"
            ]
          },
          "metadata": {},
          "execution_count": 219
        }
      ]
    },
    {
      "cell_type": "code",
      "source": [
        "list1 + [2] # append와 동일 (속도가 느리다.)"
      ],
      "metadata": {
        "colab": {
          "base_uri": "https://localhost:8080/"
        },
        "id": "2V8-xskCTOR2",
        "outputId": "683e9778-8f2b-4639-b071-2d364047c308"
      },
      "execution_count": 3,
      "outputs": [
        {
          "output_type": "execute_result",
          "data": {
            "text/plain": [
              "[1, 2, 3, 2]"
            ]
          },
          "metadata": {},
          "execution_count": 3
        }
      ]
    },
    {
      "cell_type": "markdown",
      "source": [
        "- 하나의 요소를 추가할 때는 `append` 메소드가 더 빠르고, 리스트끼리 합칠때는 `+` 기호가 조금 더빠르다."
      ],
      "metadata": {
        "id": "16e7XVHbTSTy"
      }
    },
    {
      "cell_type": "code",
      "source": [
        "list1*3 # 원본 데이터의 수정 X"
      ],
      "metadata": {
        "colab": {
          "base_uri": "https://localhost:8080/"
        },
        "id": "g94iEKtdTqVC",
        "outputId": "efdd987e-1c4c-4dc9-9708-2a56630afe05"
      },
      "execution_count": 7,
      "outputs": [
        {
          "output_type": "execute_result",
          "data": {
            "text/plain": [
              "[1, 2, 3, 1, 2, 3, 1, 2, 3]"
            ]
          },
          "metadata": {},
          "execution_count": 7
        }
      ]
    },
    {
      "cell_type": "code",
      "source": [
        "2 in list1"
      ],
      "metadata": {
        "colab": {
          "base_uri": "https://localhost:8080/"
        },
        "id": "6jLd5f-QTsXo",
        "outputId": "ad6789e8-3bfd-4b10-c0cd-83b53f31b3a6"
      },
      "execution_count": 8,
      "outputs": [
        {
          "output_type": "execute_result",
          "data": {
            "text/plain": [
              "True"
            ]
          },
          "metadata": {},
          "execution_count": 8
        }
      ]
    },
    {
      "cell_type": "code",
      "source": [
        "1004 not in list1"
      ],
      "metadata": {
        "colab": {
          "base_uri": "https://localhost:8080/"
        },
        "id": "r_xks69XT6R8",
        "outputId": "2ed69469-343a-4019-c425-2470a71f8669"
      },
      "execution_count": 9,
      "outputs": [
        {
          "output_type": "execute_result",
          "data": {
            "text/plain": [
              "True"
            ]
          },
          "metadata": {},
          "execution_count": 9
        }
      ]
    },
    {
      "cell_type": "code",
      "source": [
        "list1 == [1,2,3]  # 각 인덱스 위치에 맞는 요소의 값을 검사한다."
      ],
      "metadata": {
        "colab": {
          "base_uri": "https://localhost:8080/"
        },
        "id": "7rTx_DUmT_Mz",
        "outputId": "156c31fe-3c5d-498c-dffd-84c2e345b272"
      },
      "execution_count": 220,
      "outputs": [
        {
          "output_type": "execute_result",
          "data": {
            "text/plain": [
              "True"
            ]
          },
          "metadata": {},
          "execution_count": 220
        }
      ]
    },
    {
      "cell_type": "code",
      "source": [
        "list1 != [1,2,3]"
      ],
      "metadata": {
        "colab": {
          "base_uri": "https://localhost:8080/"
        },
        "id": "3NJp5OdHUH54",
        "outputId": "7dd65388-16b7-44e7-bc72-d15153464c0c"
      },
      "execution_count": 15,
      "outputs": [
        {
          "output_type": "execute_result",
          "data": {
            "text/plain": [
              "False"
            ]
          },
          "metadata": {},
          "execution_count": 15
        }
      ]
    },
    {
      "cell_type": "markdown",
      "source": [
        "## is 연산자 와 is not 연산자\n",
        "- 같은 객체인지 아닌지 검사한다."
      ],
      "metadata": {
        "id": "jvOh1UY2UVmb"
      }
    },
    {
      "cell_type": "code",
      "source": [
        "lst = [1,2,3]\n",
        "\n",
        "lst is [1,2,3]"
      ],
      "metadata": {
        "colab": {
          "base_uri": "https://localhost:8080/"
        },
        "id": "FsoJBQTwUt2B",
        "outputId": "c918976b-a7fe-419e-954c-1e585297c2a5"
      },
      "execution_count": 19,
      "outputs": [
        {
          "output_type": "execute_result",
          "data": {
            "text/plain": [
              "False"
            ]
          },
          "metadata": {},
          "execution_count": 19
        }
      ]
    },
    {
      "cell_type": "code",
      "source": [
        "tmp = lst\n",
        "\n",
        "lst is tmp"
      ],
      "metadata": {
        "colab": {
          "base_uri": "https://localhost:8080/"
        },
        "id": "BirSI9n-UzXK",
        "outputId": "af1bd3bc-595f-448c-d586-ddd8fc0a663f"
      },
      "execution_count": 21,
      "outputs": [
        {
          "output_type": "execute_result",
          "data": {
            "text/plain": [
              "True"
            ]
          },
          "metadata": {},
          "execution_count": 21
        }
      ]
    },
    {
      "cell_type": "markdown",
      "source": [
        "- 어떠한 연산결과로 나온 변수의 값이 `True` 인지 `False` 인지와 `None` 값을 체크할 때 주로 `is` 와 `is not` 연산자를 사용한다"
      ],
      "metadata": {
        "id": "40D5CUTdU_Z4"
      }
    },
    {
      "cell_type": "code",
      "source": [
        "is_num = True\n",
        "is_num is True"
      ],
      "metadata": {
        "colab": {
          "base_uri": "https://localhost:8080/"
        },
        "id": "0eRMtkZaVyHr",
        "outputId": "747d0bfb-8cd1-426d-9829-993dc822b885"
      },
      "execution_count": 22,
      "outputs": [
        {
          "output_type": "execute_result",
          "data": {
            "text/plain": [
              "True"
            ]
          },
          "metadata": {},
          "execution_count": 22
        }
      ]
    },
    {
      "cell_type": "code",
      "source": [
        "data_list = None\n",
        "data_list is not None"
      ],
      "metadata": {
        "colab": {
          "base_uri": "https://localhost:8080/"
        },
        "id": "GrRneFLvV7f7",
        "outputId": "ca9b7afc-29a8-4903-90e6-1a56954b5bab"
      },
      "execution_count": 23,
      "outputs": [
        {
          "output_type": "execute_result",
          "data": {
            "text/plain": [
              "False"
            ]
          },
          "metadata": {},
          "execution_count": 23
        }
      ]
    },
    {
      "cell_type": "code",
      "source": [
        "a = 1\n",
        "b = 1\n",
        "id(a), id(b) # 자주 쓰는 것은 메모리에 올라가 있어 주소값이 같다."
      ],
      "metadata": {
        "colab": {
          "base_uri": "https://localhost:8080/"
        },
        "id": "zw2CVovmWC7S",
        "outputId": "1ecc0083-edbe-4a8c-beea-bc2dbdd7fb3d"
      },
      "execution_count": 25,
      "outputs": [
        {
          "output_type": "execute_result",
          "data": {
            "text/plain": [
              "(11256064, 11256064)"
            ]
          },
          "metadata": {},
          "execution_count": 25
        }
      ]
    },
    {
      "cell_type": "markdown",
      "source": [
        "# `tuple`\n",
        "- Sequence 자료형\n",
        "- Immutable 자료형 (수정 X)\n",
        "- 중복데이터 저장 가능\n",
        "- `()` 를 활용해서 만들 수 있다. (소괄호 생략 가능)\n"
      ],
      "metadata": {
        "id": "zJGge9q1Wf3b"
      }
    },
    {
      "cell_type": "code",
      "source": [
        "tuples = ()\n",
        "tuples"
      ],
      "metadata": {
        "colab": {
          "base_uri": "https://localhost:8080/"
        },
        "id": "Y4Uc8wg4dZW2",
        "outputId": "cf7381a6-1550-4bb3-8877-9eb712b1d04b"
      },
      "execution_count": 26,
      "outputs": [
        {
          "output_type": "execute_result",
          "data": {
            "text/plain": [
              "()"
            ]
          },
          "metadata": {},
          "execution_count": 26
        }
      ]
    },
    {
      "cell_type": "code",
      "source": [
        "tuples = \"h\",\"e\",\"l\",\"l\",\"o\"\n",
        "tuples"
      ],
      "metadata": {
        "colab": {
          "base_uri": "https://localhost:8080/"
        },
        "id": "ODVpfhVVd4-O",
        "outputId": "5c6523b2-aba4-48aa-9620-038adbba5158"
      },
      "execution_count": 28,
      "outputs": [
        {
          "output_type": "execute_result",
          "data": {
            "text/plain": [
              "('h', 'e', 'l', 'l', 'o')"
            ]
          },
          "metadata": {},
          "execution_count": 28
        }
      ]
    },
    {
      "cell_type": "code",
      "source": [
        "a = 1\n",
        "b = 2\n",
        "a,b"
      ],
      "metadata": {
        "colab": {
          "base_uri": "https://localhost:8080/"
        },
        "id": "Icy1pF6keNJo",
        "outputId": "048461c0-907f-41d8-e671-8247876fde2d"
      },
      "execution_count": 29,
      "outputs": [
        {
          "output_type": "execute_result",
          "data": {
            "text/plain": [
              "(1, 2)"
            ]
          },
          "metadata": {},
          "execution_count": 29
        }
      ]
    },
    {
      "cell_type": "code",
      "source": [
        "type(tuples)  # 변경이 되지 않아 메모리를 적게 차지한다. (슬라이싱 가능)"
      ],
      "metadata": {
        "colab": {
          "base_uri": "https://localhost:8080/"
        },
        "id": "MkfsMqTeeUVq",
        "outputId": "2276e6e2-c2af-4252-c59c-8208f867be39"
      },
      "execution_count": 31,
      "outputs": [
        {
          "output_type": "execute_result",
          "data": {
            "text/plain": [
              "tuple"
            ]
          },
          "metadata": {},
          "execution_count": 31
        }
      ]
    },
    {
      "cell_type": "markdown",
      "source": [
        "- 프로그램이 실행되는 동안 튜플은 안에 있는 요소들이 변경이 일어나면 안되는 경우 사용\n",
        "- 리스트보다 메모리를 적게 차지하고, 속도가 더 빠르다!"
      ],
      "metadata": {
        "id": "TXgnrSmreYzm"
      }
    },
    {
      "cell_type": "code",
      "source": [
        "tuples[0]"
      ],
      "metadata": {
        "colab": {
          "base_uri": "https://localhost:8080/",
          "height": 35
        },
        "id": "0htgEli0evOv",
        "outputId": "62fb5f70-4c50-48c6-ac68-edbb3f90273b"
      },
      "execution_count": 32,
      "outputs": [
        {
          "output_type": "execute_result",
          "data": {
            "text/plain": [
              "'h'"
            ],
            "application/vnd.google.colaboratory.intrinsic+json": {
              "type": "string"
            }
          },
          "metadata": {},
          "execution_count": 32
        }
      ]
    },
    {
      "cell_type": "code",
      "source": [
        "tuples[0] = \"j\""
      ],
      "metadata": {
        "colab": {
          "base_uri": "https://localhost:8080/",
          "height": 172
        },
        "id": "4YgmkXaBex4Z",
        "outputId": "31363ef6-4c3a-4568-b8d6-971c0dc2df5a"
      },
      "execution_count": 33,
      "outputs": [
        {
          "output_type": "error",
          "ename": "TypeError",
          "evalue": "ignored",
          "traceback": [
            "\u001b[0;31m---------------------------------------------------------------------------\u001b[0m",
            "\u001b[0;31mTypeError\u001b[0m                                 Traceback (most recent call last)",
            "\u001b[0;32m<ipython-input-33-b2eb1a7df413>\u001b[0m in \u001b[0;36m<module>\u001b[0;34m()\u001b[0m\n\u001b[0;32m----> 1\u001b[0;31m \u001b[0mtuples\u001b[0m\u001b[0;34m[\u001b[0m\u001b[0;36m0\u001b[0m\u001b[0;34m]\u001b[0m \u001b[0;34m=\u001b[0m \u001b[0;34m\"j\"\u001b[0m\u001b[0;34m\u001b[0m\u001b[0;34m\u001b[0m\u001b[0m\n\u001b[0m",
            "\u001b[0;31mTypeError\u001b[0m: 'tuple' object does not support item assignment"
          ]
        }
      ]
    },
    {
      "cell_type": "code",
      "source": [
        "tuples.count(\"l\")   # 인자로 넣은 값이 몇 개 있는지 반환해준다."
      ],
      "metadata": {
        "colab": {
          "base_uri": "https://localhost:8080/"
        },
        "id": "2mV2wvdDe4m0",
        "outputId": "0bbcfb54-1a7d-46d7-bdc5-2eb6368e1424"
      },
      "execution_count": 36,
      "outputs": [
        {
          "output_type": "execute_result",
          "data": {
            "text/plain": [
              "2"
            ]
          },
          "metadata": {},
          "execution_count": 36
        }
      ]
    },
    {
      "cell_type": "code",
      "source": [
        "tuples.count(10)"
      ],
      "metadata": {
        "colab": {
          "base_uri": "https://localhost:8080/"
        },
        "id": "7eOiZPmNe8yA",
        "outputId": "ec69a6ad-e983-4520-fee8-47bc75abb388"
      },
      "execution_count": 37,
      "outputs": [
        {
          "output_type": "execute_result",
          "data": {
            "text/plain": [
              "0"
            ]
          },
          "metadata": {},
          "execution_count": 37
        }
      ]
    },
    {
      "cell_type": "code",
      "source": [
        "tuples + tuples # 사칙연산 및 다양한 것들 사용 가능!"
      ],
      "metadata": {
        "colab": {
          "base_uri": "https://localhost:8080/"
        },
        "id": "8m9cAvyYfPPi",
        "outputId": "30b61072-5355-481d-fa22-e65f0cab4a9b"
      },
      "execution_count": 39,
      "outputs": [
        {
          "output_type": "execute_result",
          "data": {
            "text/plain": [
              "('h', 'e', 'l', 'l', 'o', 'h', 'e', 'l', 'l', 'o')"
            ]
          },
          "metadata": {},
          "execution_count": 39
        }
      ]
    },
    {
      "cell_type": "code",
      "source": [
        "tuples.extend([2])  # 변경이 안된다."
      ],
      "metadata": {
        "colab": {
          "base_uri": "https://localhost:8080/",
          "height": 172
        },
        "id": "l_BJVbLUfWoq",
        "outputId": "cdf10156-cb3e-454c-cea1-9ebfe38d558e"
      },
      "execution_count": 46,
      "outputs": [
        {
          "output_type": "error",
          "ename": "AttributeError",
          "evalue": "ignored",
          "traceback": [
            "\u001b[0;31m---------------------------------------------------------------------------\u001b[0m",
            "\u001b[0;31mAttributeError\u001b[0m                            Traceback (most recent call last)",
            "\u001b[0;32m<ipython-input-46-9d78fbd34f01>\u001b[0m in \u001b[0;36m<module>\u001b[0;34m()\u001b[0m\n\u001b[0;32m----> 1\u001b[0;31m \u001b[0mtuples\u001b[0m\u001b[0;34m.\u001b[0m\u001b[0mextend\u001b[0m\u001b[0;34m(\u001b[0m\u001b[0;36m2\u001b[0m\u001b[0;34m)\u001b[0m\u001b[0;34m\u001b[0m\u001b[0;34m\u001b[0m\u001b[0m\n\u001b[0m",
            "\u001b[0;31mAttributeError\u001b[0m: 'tuple' object has no attribute 'extend'"
          ]
        }
      ]
    },
    {
      "cell_type": "markdown",
      "source": [
        "- 슬라이싱 복습\n",
        "    - 다음의 튜플에서 슬라이싱을 활용하여 짝수만 출력해보자."
      ],
      "metadata": {
        "id": "4Y8w7bd2fkZq"
      }
    },
    {
      "cell_type": "code",
      "source": [
        "num_tuple = (1,2,3,4,5,6,7,8,9,10)\n",
        "num_tuple"
      ],
      "metadata": {
        "colab": {
          "base_uri": "https://localhost:8080/"
        },
        "id": "iQ0FS-y_f04V",
        "outputId": "bff2b157-d030-4959-8f57-47089461e897"
      },
      "execution_count": 52,
      "outputs": [
        {
          "output_type": "execute_result",
          "data": {
            "text/plain": [
              "(1, 2, 3, 4, 5, 6, 7, 8, 9, 10)"
            ]
          },
          "metadata": {},
          "execution_count": 52
        }
      ]
    },
    {
      "cell_type": "code",
      "source": [
        "num_tuple[1::2]"
      ],
      "metadata": {
        "colab": {
          "base_uri": "https://localhost:8080/"
        },
        "id": "UjRMJsX3gWFs",
        "outputId": "215c4520-189e-4d6e-8363-3ba238cef5ac"
      },
      "execution_count": 55,
      "outputs": [
        {
          "output_type": "execute_result",
          "data": {
            "text/plain": [
              "(2, 4, 6, 8, 10)"
            ]
          },
          "metadata": {},
          "execution_count": 55
        }
      ]
    },
    {
      "cell_type": "markdown",
      "source": [
        "- 이번에는 짝수를 역순으로 출력해보자"
      ],
      "metadata": {
        "id": "5X9v2gTff8Wi"
      }
    },
    {
      "cell_type": "code",
      "source": [
        "num_tuple[-1::-2]"
      ],
      "metadata": {
        "colab": {
          "base_uri": "https://localhost:8080/"
        },
        "id": "4CDFlwLJgSKJ",
        "outputId": "00d8ca61-17fc-438e-b64b-b2de7846c3af"
      },
      "execution_count": 63,
      "outputs": [
        {
          "output_type": "execute_result",
          "data": {
            "text/plain": [
              "(10, 8, 6, 4, 2)"
            ]
          },
          "metadata": {},
          "execution_count": 63
        }
      ]
    },
    {
      "cell_type": "markdown",
      "source": [
        "- 함수를 복습해봅시다.\n",
        "    - num_tuple의 최대값,최소값,합계,튜플 안에 요소 개수를 출력해보자."
      ],
      "metadata": {
        "id": "6Eg02_Qagm0o"
      }
    },
    {
      "cell_type": "code",
      "source": [
        "max(num_tuple),min(num_tuple),sum(num_tuple),len(num_tuple)"
      ],
      "metadata": {
        "colab": {
          "base_uri": "https://localhost:8080/"
        },
        "id": "0VewHJZ5g5oR",
        "outputId": "4fbbcece-ec70-477d-e19a-f3237ff48643"
      },
      "execution_count": 72,
      "outputs": [
        {
          "output_type": "execute_result",
          "data": {
            "text/plain": [
              "(10, 1, 55, 10)"
            ]
          },
          "metadata": {},
          "execution_count": 72
        }
      ]
    },
    {
      "cell_type": "markdown",
      "source": [
        "# `set`\n",
        "- Non-Sequence 자료형\n",
        "- 데이터의 저장의 순서를 보장하지 않는다.\n",
        "    - 인덱싱과 슬라이싱 지원하지 않는다.\n",
        "- mutable 자료형\n",
        "- 중요한 특징으로 중복 데이터 저장 허용 X\n",
        "- `{}` 중괄호를 이용해서 만들 수 있다."
      ],
      "metadata": {
        "id": "wqYnQCfbhJ4D"
      }
    },
    {
      "cell_type": "code",
      "source": [
        "sets = set()\n",
        "type(sets)"
      ],
      "metadata": {
        "colab": {
          "base_uri": "https://localhost:8080/"
        },
        "id": "fPBrrBoZixr1",
        "outputId": "a3864e9a-afce-4393-86d7-aa3d91ba5062"
      },
      "execution_count": 74,
      "outputs": [
        {
          "output_type": "execute_result",
          "data": {
            "text/plain": [
              "set"
            ]
          },
          "metadata": {},
          "execution_count": 74
        }
      ]
    },
    {
      "cell_type": "code",
      "source": [
        "sets = {1001,1001,1001,1001,1001,1004,1004,1004,1004,11,22,44,56,100}\n",
        "sets"
      ],
      "metadata": {
        "colab": {
          "base_uri": "https://localhost:8080/"
        },
        "id": "TePlWyyzi2hO",
        "outputId": "395c9468-abc2-4f8d-a75a-2997c5be652a"
      },
      "execution_count": 76,
      "outputs": [
        {
          "output_type": "execute_result",
          "data": {
            "text/plain": [
              "{11, 22, 44, 56, 100, 1001, 1004}"
            ]
          },
          "metadata": {},
          "execution_count": 76
        }
      ]
    },
    {
      "cell_type": "code",
      "source": [
        "sets[0] # 순서를 보장하지 않아 오류가 뜬다."
      ],
      "metadata": {
        "colab": {
          "base_uri": "https://localhost:8080/",
          "height": 172
        },
        "id": "CmEcGXCojLa0",
        "outputId": "7d8de864-278a-49f6-c72e-a41162254b22"
      },
      "execution_count": 78,
      "outputs": [
        {
          "output_type": "error",
          "ename": "TypeError",
          "evalue": "ignored",
          "traceback": [
            "\u001b[0;31m---------------------------------------------------------------------------\u001b[0m",
            "\u001b[0;31mTypeError\u001b[0m                                 Traceback (most recent call last)",
            "\u001b[0;32m<ipython-input-78-b90238529328>\u001b[0m in \u001b[0;36m<module>\u001b[0;34m()\u001b[0m\n\u001b[0;32m----> 1\u001b[0;31m \u001b[0msets\u001b[0m\u001b[0;34m[\u001b[0m\u001b[0;36m0\u001b[0m\u001b[0;34m]\u001b[0m \u001b[0;31m# 순서를 보장하지 않아 오류가 뜬다. (in, not in도 동일!)\u001b[0m\u001b[0;34m\u001b[0m\u001b[0;34m\u001b[0m\u001b[0m\n\u001b[0m",
            "\u001b[0;31mTypeError\u001b[0m: 'set' object is not subscriptable"
          ]
        }
      ]
    },
    {
      "cell_type": "markdown",
      "source": [
        "```\n",
        "- `in` 연산자와 `not in` 연산자 지원된다.\n",
        "- 더하거나 곱하기 연산자는 지원 안한다. (의미가 없기 때문)\n",
        "```"
      ],
      "metadata": {
        "id": "5yze0JzbjTHq"
      }
    },
    {
      "cell_type": "markdown",
      "source": [
        "- set객체의 메소드"
      ],
      "metadata": {
        "id": "ueZU1aGtjs3m"
      }
    },
    {
      "cell_type": "code",
      "source": [
        "A = {1,2,3}\n",
        "B = {2,3,4}\n",
        "A,B\n",
        "\n",
        "A.intersection(B)   # 교집합"
      ],
      "metadata": {
        "colab": {
          "base_uri": "https://localhost:8080/"
        },
        "id": "rtqVCpSXj3Qo",
        "outputId": "4d67f1f7-5440-47b4-d84b-fc6a1398d351"
      },
      "execution_count": 221,
      "outputs": [
        {
          "output_type": "execute_result",
          "data": {
            "text/plain": [
              "{2, 3}"
            ]
          },
          "metadata": {},
          "execution_count": 221
        }
      ]
    },
    {
      "cell_type": "code",
      "source": [
        "A.union(B)  # 합집합"
      ],
      "metadata": {
        "colab": {
          "base_uri": "https://localhost:8080/"
        },
        "id": "bR2cN_aVkIBs",
        "outputId": "d80aba0d-7923-48ac-ff3a-fbdb3692542e"
      },
      "execution_count": 81,
      "outputs": [
        {
          "output_type": "execute_result",
          "data": {
            "text/plain": [
              "{1, 2, 3, 4}"
            ]
          },
          "metadata": {},
          "execution_count": 81
        }
      ]
    },
    {
      "cell_type": "code",
      "source": [
        "A.difference(B) # 차집합"
      ],
      "metadata": {
        "colab": {
          "base_uri": "https://localhost:8080/"
        },
        "id": "F2DZCadhkUtn",
        "outputId": "b4e2b5c4-0c71-4701-ee39-b7b344f1a94c"
      },
      "execution_count": 82,
      "outputs": [
        {
          "output_type": "execute_result",
          "data": {
            "text/plain": [
              "{1}"
            ]
          },
          "metadata": {},
          "execution_count": 82
        }
      ]
    },
    {
      "cell_type": "markdown",
      "source": [
        "- 수정가능하다."
      ],
      "metadata": {
        "id": "evqerT8vkbVC"
      }
    },
    {
      "cell_type": "code",
      "source": [
        "a = {1,2,3}\n",
        "a.add(100)  # 하나의 값을 추가하고 싶을 때\n",
        "a"
      ],
      "metadata": {
        "colab": {
          "base_uri": "https://localhost:8080/"
        },
        "id": "Oo5K-45Tkh4f",
        "outputId": "ce10930f-6968-4012-974b-37e378dd2c54"
      },
      "execution_count": 83,
      "outputs": [
        {
          "output_type": "execute_result",
          "data": {
            "text/plain": [
              "{1, 2, 3, 100}"
            ]
          },
          "metadata": {},
          "execution_count": 83
        }
      ]
    },
    {
      "cell_type": "code",
      "source": [
        "a.update([1,2,3,4,5,6,7,8,9,10,100])    # 여러값을 추가하고 싶을 때 (중복값은 안된다.)\n",
        "a"
      ],
      "metadata": {
        "colab": {
          "base_uri": "https://localhost:8080/"
        },
        "id": "NiksGK3zksHS",
        "outputId": "0be7abf6-7b3d-4974-9505-8bf937d92773"
      },
      "execution_count": 86,
      "outputs": [
        {
          "output_type": "execute_result",
          "data": {
            "text/plain": [
              "{1, 2, 3, 4, 5, 6, 7, 8, 9, 10, 100}"
            ]
          },
          "metadata": {},
          "execution_count": 86
        }
      ]
    },
    {
      "cell_type": "code",
      "source": [
        "a.remove(100)   # 특정 값을 제거하고 싶을 때\n",
        "a"
      ],
      "metadata": {
        "colab": {
          "base_uri": "https://localhost:8080/"
        },
        "id": "PrzHET5kk6_C",
        "outputId": "e0a4f78f-5a33-4b6f-833a-7ddfa48dca6d"
      },
      "execution_count": 87,
      "outputs": [
        {
          "output_type": "execute_result",
          "data": {
            "text/plain": [
              "{1, 2, 3, 4, 5, 6, 7, 8, 9, 10}"
            ]
          },
          "metadata": {},
          "execution_count": 87
        }
      ]
    },
    {
      "cell_type": "markdown",
      "source": [
        "# `dict`(Dictionary)\n",
        "- Non-Sequence 자료형\n",
        "- mutable 자료형\n",
        "- key-value 구조로 되어있다.\n",
        "- key 중복 X\n",
        "- value 중복 O\n",
        "```python\n",
        "{\n",
        "    key: value,\n",
        "    key: value,\n",
        "    ...\n",
        "}\n",
        "```"
      ],
      "metadata": {
        "id": "IWHwkjTKlGA5"
      }
    },
    {
      "cell_type": "code",
      "source": [
        "city = {}\n",
        "type(city)"
      ],
      "metadata": {
        "colab": {
          "base_uri": "https://localhost:8080/"
        },
        "id": "5X3u1AfPpmKC",
        "outputId": "eeb4adb7-c00a-4758-88c2-c8e9402f3d7a"
      },
      "execution_count": 88,
      "outputs": [
        {
          "output_type": "execute_result",
          "data": {
            "text/plain": [
              "dict"
            ]
          },
          "metadata": {},
          "execution_count": 88
        }
      ]
    },
    {
      "cell_type": "code",
      "source": [
        "city = {                # set,list,tuple 이런 형식으로 작성할 수 있다.\n",
        "    \"한국\" : \"부산\",\n",
        "    \"일본\" : \"교토\",\n",
        "    \"캐나다\" : \"오타와\"\n",
        "}\n",
        "city"
      ],
      "metadata": {
        "colab": {
          "base_uri": "https://localhost:8080/"
        },
        "id": "IXJtVEAtpsiF",
        "outputId": "eaa52308-713d-451a-80f4-dd6ea6b35459"
      },
      "execution_count": 91,
      "outputs": [
        {
          "output_type": "execute_result",
          "data": {
            "text/plain": [
              "{'일본': '교토', '캐나다': '오타와', '한국': '부산'}"
            ]
          },
          "metadata": {},
          "execution_count": 91
        }
      ]
    },
    {
      "cell_type": "code",
      "source": [
        "city[\"한국\"]    # dict 의 값을 가져올 때는 key 값을 활용한다."
      ],
      "metadata": {
        "colab": {
          "base_uri": "https://localhost:8080/",
          "height": 35
        },
        "id": "PO9OzJMup55x",
        "outputId": "a9cc5f1c-6de2-42d4-88f8-fc6efc4ead75"
      },
      "execution_count": 93,
      "outputs": [
        {
          "output_type": "execute_result",
          "data": {
            "text/plain": [
              "'부산'"
            ],
            "application/vnd.google.colaboratory.intrinsic+json": {
              "type": "string"
            }
          },
          "metadata": {},
          "execution_count": 93
        }
      ]
    },
    {
      "cell_type": "code",
      "source": [
        "city[\"중국\"]    # 없는 key의 value 를 가져오려할 때는 에러가 발생!"
      ],
      "metadata": {
        "colab": {
          "base_uri": "https://localhost:8080/",
          "height": 172
        },
        "id": "KrcwizdlqMpR",
        "outputId": "33e021d7-d17e-45e2-d49e-93a891b0e57f"
      },
      "execution_count": 94,
      "outputs": [
        {
          "output_type": "error",
          "ename": "KeyError",
          "evalue": "ignored",
          "traceback": [
            "\u001b[0;31m---------------------------------------------------------------------------\u001b[0m",
            "\u001b[0;31mKeyError\u001b[0m                                  Traceback (most recent call last)",
            "\u001b[0;32m<ipython-input-94-af976df103bd>\u001b[0m in \u001b[0;36m<module>\u001b[0;34m()\u001b[0m\n\u001b[0;32m----> 1\u001b[0;31m \u001b[0mcity\u001b[0m\u001b[0;34m[\u001b[0m\u001b[0;34m\"중국\"\u001b[0m\u001b[0;34m]\u001b[0m    \u001b[0;31m# 없는 key의 value 를 가져오려할 때는 에러가 발생!\u001b[0m\u001b[0;34m\u001b[0m\u001b[0;34m\u001b[0m\u001b[0m\n\u001b[0m",
            "\u001b[0;31mKeyError\u001b[0m: '중국'"
          ]
        }
      ]
    },
    {
      "cell_type": "code",
      "source": [
        "city.get(\"중국\",\"없음\")    # 중국이라는 키가 없을경우 없음이라는 문자열로 반환해라 (에러가 안난다.)"
      ],
      "metadata": {
        "colab": {
          "base_uri": "https://localhost:8080/",
          "height": 35
        },
        "id": "AXs85DInqhBU",
        "outputId": "fdcebd5f-e066-4473-ac68-20a30e079c87"
      },
      "execution_count": 217,
      "outputs": [
        {
          "output_type": "execute_result",
          "data": {
            "text/plain": [
              "'없음'"
            ],
            "application/vnd.google.colaboratory.intrinsic+json": {
              "type": "string"
            }
          },
          "metadata": {},
          "execution_count": 217
        }
      ]
    },
    {
      "cell_type": "markdown",
      "source": [
        "- dict로 만들어봐라\n",
        "```\n",
        "용석 100\n",
        "철수 80\n",
        "관수 100\n",
        "민수 70\n",
        "민영 60.5\n",
        "```"
      ],
      "metadata": {
        "id": "JImTmLnBq0k3"
      }
    },
    {
      "cell_type": "code",
      "source": [
        "grade = {\n",
        "    \"용석\" : \"100\",\n",
        "    \"철수\" : \"80\",\n",
        "    \"관수\" : \"100\",\n",
        "    \"민수\" : \"70\"\n",
        "}\n",
        "grade"
      ],
      "metadata": {
        "colab": {
          "base_uri": "https://localhost:8080/"
        },
        "id": "wWTJyvnsq-Xb",
        "outputId": "60bcb97b-8fce-4897-e176-19f298278385"
      },
      "execution_count": 104,
      "outputs": [
        {
          "output_type": "execute_result",
          "data": {
            "text/plain": [
              "{'관수': '100', '민수': '70', '용석': '100', '철수': '80'}"
            ]
          },
          "metadata": {},
          "execution_count": 104
        }
      ]
    },
    {
      "cell_type": "code",
      "source": [
        "grade[\"민영\"] = \"60.5\"\n",
        "grade"
      ],
      "metadata": {
        "colab": {
          "base_uri": "https://localhost:8080/"
        },
        "id": "banVT6ETr3-V",
        "outputId": "c83c2d23-2af1-4842-8765-ea83dbe35959"
      },
      "execution_count": 113,
      "outputs": [
        {
          "output_type": "execute_result",
          "data": {
            "text/plain": [
              "{'관수': '100', '민수': '70', '민영': '60.5', '용석': '100', '철수': '80'}"
            ]
          },
          "metadata": {},
          "execution_count": 113
        }
      ]
    },
    {
      "cell_type": "code",
      "source": [
        "city[\"중국\"] = \"베이징\" # 중국 key가 없으니 key와 value 가 추가 된다.\n",
        "city"
      ],
      "metadata": {
        "colab": {
          "base_uri": "https://localhost:8080/"
        },
        "id": "-o-raWizsWvb",
        "outputId": "d63dec1c-e587-4c5a-9cec-3a314c59b8db"
      },
      "execution_count": 197,
      "outputs": [
        {
          "output_type": "execute_result",
          "data": {
            "text/plain": [
              "{'미국': '워싱턴', '중국': '베이징', '캐나다': '오타와', '한국': '부산'}"
            ]
          },
          "metadata": {},
          "execution_count": 197
        }
      ]
    },
    {
      "cell_type": "code",
      "source": [
        "city[\"일본\"] = \"도꾜\"   # key가 있어서 해당 key 에 해당되는 value가 수정된다.\n",
        "city"
      ],
      "metadata": {
        "colab": {
          "base_uri": "https://localhost:8080/"
        },
        "id": "Sf6tfYRhsiam",
        "outputId": "60b980fb-d8c9-402c-9e32-56ccf5e3c5dc"
      },
      "execution_count": 199,
      "outputs": [
        {
          "output_type": "execute_result",
          "data": {
            "text/plain": [
              "{'미국': '워싱턴', '일본': '도꾜', '중국': '상하이', '캐나다': '오타와', '한국': '부산'}"
            ]
          },
          "metadata": {},
          "execution_count": 199
        }
      ]
    },
    {
      "cell_type": "code",
      "source": [
        "add_city = {\"중국\" : \"상하이\", \"미국\" : \"워싱턴\"}\n",
        "city.update(add_city)   # update 함수는 여러개의 key와 value 를 수정하거나 추가하고 싶을 때 사용\n",
        "city"
      ],
      "metadata": {
        "colab": {
          "base_uri": "https://localhost:8080/"
        },
        "id": "UyVB1PB9szsc",
        "outputId": "22773a66-0e33-4b0c-a5ad-3c46f50d0a1b"
      },
      "execution_count": 198,
      "outputs": [
        {
          "output_type": "execute_result",
          "data": {
            "text/plain": [
              "{'미국': '워싱턴', '중국': '상하이', '캐나다': '오타와', '한국': '부산'}"
            ]
          },
          "metadata": {},
          "execution_count": 198
        }
      ]
    },
    {
      "cell_type": "code",
      "source": [
        "del city[\"일본\"] # key 가 \"일본\" 인 key와 value 쌍을 삭제하겠다.\n",
        "city"
      ],
      "metadata": {
        "colab": {
          "base_uri": "https://localhost:8080/"
        },
        "id": "VshETEDptIFM",
        "outputId": "03a7e7fb-8e87-413e-a780-c0bd3315cee5"
      },
      "execution_count": 200,
      "outputs": [
        {
          "output_type": "execute_result",
          "data": {
            "text/plain": [
              "{'미국': '워싱턴', '중국': '상하이', '캐나다': '오타와', '한국': '부산'}"
            ]
          },
          "metadata": {},
          "execution_count": 200
        }
      ]
    },
    {
      "cell_type": "code",
      "source": [
        "print(city.pop(\"중국\")) # 삭제를 하고자하는 key를 넣어서 삭제할 수 있다. 해당 key의 value가 반환된다.\n",
        "city"
      ],
      "metadata": {
        "colab": {
          "base_uri": "https://localhost:8080/"
        },
        "id": "3KQQnTYrtlKX",
        "outputId": "ccf784d7-7235-4fd8-d471-45d19d135077"
      },
      "execution_count": 132,
      "outputs": [
        {
          "output_type": "stream",
          "name": "stdout",
          "text": [
            "상하이\n"
          ]
        },
        {
          "output_type": "execute_result",
          "data": {
            "text/plain": [
              "{'미국': '워싱턴', '캐나다': '오타와', '한국': '부산'}"
            ]
          },
          "metadata": {},
          "execution_count": 132
        }
      ]
    },
    {
      "cell_type": "code",
      "source": [
        "city.keys() # dict 내의 전체 키를 확인 할 수 있다."
      ],
      "metadata": {
        "colab": {
          "base_uri": "https://localhost:8080/"
        },
        "id": "dTInrTgct5Zf",
        "outputId": "6163a392-3393-46de-e671-4a2ffde93e1b"
      },
      "execution_count": 133,
      "outputs": [
        {
          "output_type": "execute_result",
          "data": {
            "text/plain": [
              "dict_keys(['한국', '캐나다', '미국'])"
            ]
          },
          "metadata": {},
          "execution_count": 133
        }
      ]
    },
    {
      "cell_type": "code",
      "source": [
        "city.values()   # dict 내의 전체 value 를 확인할 수 있다."
      ],
      "metadata": {
        "colab": {
          "base_uri": "https://localhost:8080/"
        },
        "id": "kIMUSyILuL__",
        "outputId": "49b93778-7437-4fba-bf84-d5122663daf8"
      },
      "execution_count": 134,
      "outputs": [
        {
          "output_type": "execute_result",
          "data": {
            "text/plain": [
              "dict_values(['부산', '오타와', '워싱턴'])"
            ]
          },
          "metadata": {},
          "execution_count": 134
        }
      ]
    },
    {
      "cell_type": "code",
      "source": [
        "city.items()    # dict 내의 전체 key, value 를 확인할 수 있다."
      ],
      "metadata": {
        "colab": {
          "base_uri": "https://localhost:8080/"
        },
        "id": "qHYip4uiuhPP",
        "outputId": "ee9e8637-d8bc-4f51-e497-cc8092c7219c"
      },
      "execution_count": 136,
      "outputs": [
        {
          "output_type": "execute_result",
          "data": {
            "text/plain": [
              "dict_items([('한국', '부산'), ('캐나다', '오타와'), ('미국', '워싱턴')])"
            ]
          },
          "metadata": {},
          "execution_count": 136
        }
      ]
    },
    {
      "cell_type": "code",
      "source": [
        "\"한국\" in  city.keys()   # 내 생각 => city in [\"한국\"] city가 한국안에 있냐는 뜻!"
      ],
      "metadata": {
        "colab": {
          "base_uri": "https://localhost:8080/"
        },
        "id": "zUjHD6WCuzL4",
        "outputId": "8534e3af-e882-47e8-f5ba-ea0d9016d877"
      },
      "execution_count": 153,
      "outputs": [
        {
          "output_type": "execute_result",
          "data": {
            "text/plain": [
              "True"
            ]
          },
          "metadata": {},
          "execution_count": 153
        }
      ]
    },
    {
      "cell_type": "code",
      "source": [
        "num_dict = {\n",
        "    0:\"제로\",\n",
        "    3.14:\"원주율\",\n",
        "    True:\"진실\"\n",
        "}\n",
        "num_dict[0]"
      ],
      "metadata": {
        "colab": {
          "base_uri": "https://localhost:8080/",
          "height": 35
        },
        "id": "3MWVHRVdu_4v",
        "outputId": "a49eb3c4-3426-4e74-93c9-456f2c9c1680"
      },
      "execution_count": 202,
      "outputs": [
        {
          "output_type": "execute_result",
          "data": {
            "text/plain": [
              "'제로'"
            ],
            "application/vnd.google.colaboratory.intrinsic+json": {
              "type": "string"
            }
          },
          "metadata": {},
          "execution_count": 202
        }
      ]
    },
    {
      "cell_type": "code",
      "source": [
        "num_dict[3.14]"
      ],
      "metadata": {
        "colab": {
          "base_uri": "https://localhost:8080/",
          "height": 35
        },
        "id": "11NDPnlMwixc",
        "outputId": "d4495472-27dc-47e5-9e2c-bfd31287219e"
      },
      "execution_count": 160,
      "outputs": [
        {
          "output_type": "execute_result",
          "data": {
            "text/plain": [
              "'원주율'"
            ],
            "application/vnd.google.colaboratory.intrinsic+json": {
              "type": "string"
            }
          },
          "metadata": {},
          "execution_count": 160
        }
      ]
    },
    {
      "cell_type": "code",
      "source": [
        "num_dict[True]"
      ],
      "metadata": {
        "colab": {
          "base_uri": "https://localhost:8080/",
          "height": 35
        },
        "id": "Rpkq3Fn8wORq",
        "outputId": "8a62b360-efe5-4cad-adf7-f2e4fbf94d8a"
      },
      "execution_count": 161,
      "outputs": [
        {
          "output_type": "execute_result",
          "data": {
            "text/plain": [
              "'진실'"
            ],
            "application/vnd.google.colaboratory.intrinsic+json": {
              "type": "string"
            }
          },
          "metadata": {},
          "execution_count": 161
        }
      ]
    },
    {
      "cell_type": "code",
      "source": [
        "info_dict = {\n",
        "    \"name\" : \"손용석\",\n",
        "    \"age\" : 25,\n",
        "    \"score\" : [100,50,60,87,90],\n",
        "    \"etc\" : {\n",
        "        \"my_dream\" : 'hacker'\n",
        "    }\n",
        "}\n",
        "info_dict"
      ],
      "metadata": {
        "colab": {
          "base_uri": "https://localhost:8080/"
        },
        "id": "bq0muTkCwf4y",
        "outputId": "070f6e51-7429-40a8-adb0-35128ff6cf9b"
      },
      "execution_count": 158,
      "outputs": [
        {
          "output_type": "execute_result",
          "data": {
            "text/plain": [
              "{'age': 25,\n",
              " 'etc': {'my_dream': 'hacker'},\n",
              " 'name': '손용석',\n",
              " 'score': [100, 50, 60, 87, 90]}"
            ]
          },
          "metadata": {},
          "execution_count": 158
        }
      ]
    },
    {
      "cell_type": "markdown",
      "source": [
        "# mean의 키를 avg라는 키로 변경하시오. \n",
        "# pop 메소드를 이용하시면 됩니다."
      ],
      "metadata": {
        "id": "JGCbwPP8zpBf"
      }
    },
    {
      "cell_type": "code",
      "source": [
        "mean_dict = {\n",
        "    \"mean\" : 80,\n",
        "    \"std\"  : 3.5,\n",
        "}\n",
        "mean_dict"
      ],
      "metadata": {
        "colab": {
          "base_uri": "https://localhost:8080/"
        },
        "id": "yz2ZO3HXw9r_",
        "outputId": "e2e96610-b4a3-4ddf-ecb7-1ff6df845b76"
      },
      "execution_count": 193,
      "outputs": [
        {
          "output_type": "execute_result",
          "data": {
            "text/plain": [
              "{'mean': 80, 'std': 3.5}"
            ]
          },
          "metadata": {},
          "execution_count": 193
        }
      ]
    },
    {
      "cell_type": "code",
      "source": [
        "mean_dict[\"avg\"] = mean_dict.pop(\"mean\")\n",
        "mean_dict"
      ],
      "metadata": {
        "colab": {
          "base_uri": "https://localhost:8080/"
        },
        "id": "Rggt5pH5xp1D",
        "outputId": "ed307905-eede-4113-bf35-50e0e0837b16"
      },
      "execution_count": 194,
      "outputs": [
        {
          "output_type": "execute_result",
          "data": {
            "text/plain": [
              "{'avg': 80, 'std': 3.5}"
            ]
          },
          "metadata": {},
          "execution_count": 194
        }
      ]
    },
    {
      "cell_type": "markdown",
      "source": [
        "# 컬렉션 자료형 변환"
      ],
      "metadata": {
        "id": "aUPh0npFyfNX"
      }
    },
    {
      "cell_type": "markdown",
      "source": [
        "- `list` -> `tuple`"
      ],
      "metadata": {
        "id": "DuRODrHHynQF"
      }
    },
    {
      "cell_type": "code",
      "source": [
        "lst = [1,2,3]\n",
        "tuple(lst)"
      ],
      "metadata": {
        "colab": {
          "base_uri": "https://localhost:8080/"
        },
        "id": "mmc8SYRv3Ake",
        "outputId": "0a245998-efc4-42a7-fb52-aa1343fcdf3b"
      },
      "execution_count": 203,
      "outputs": [
        {
          "output_type": "execute_result",
          "data": {
            "text/plain": [
              "(1, 2, 3)"
            ]
          },
          "metadata": {},
          "execution_count": 203
        }
      ]
    },
    {
      "cell_type": "markdown",
      "source": [
        "- `tuple` -> `list`"
      ],
      "metadata": {
        "id": "Vlbfgj933Ft_"
      }
    },
    {
      "cell_type": "code",
      "source": [
        "tup = 1,2,3\n",
        "list(tup)"
      ],
      "metadata": {
        "colab": {
          "base_uri": "https://localhost:8080/"
        },
        "id": "o2MdPd6i3Nz5",
        "outputId": "60e13b32-89a7-4adf-9888-55dc7eaf9be5"
      },
      "execution_count": 204,
      "outputs": [
        {
          "output_type": "execute_result",
          "data": {
            "text/plain": [
              "[1, 2, 3]"
            ]
          },
          "metadata": {},
          "execution_count": 204
        }
      ]
    },
    {
      "cell_type": "markdown",
      "source": [
        "- `set` -> `list`"
      ],
      "metadata": {
        "id": "1TjjqyYu3R24"
      }
    },
    {
      "cell_type": "code",
      "source": [
        "sets = {\"Apple\",\"Banana\",\"Mango\"}   # 집합을 이용해서 중복제거 후 리스트 화\n",
        "list(sets)"
      ],
      "metadata": {
        "colab": {
          "base_uri": "https://localhost:8080/"
        },
        "id": "LGkZw4t53dyj",
        "outputId": "be4933a7-777d-4b76-95f9-0c0dd84ff278"
      },
      "execution_count": 205,
      "outputs": [
        {
          "output_type": "execute_result",
          "data": {
            "text/plain": [
              "['Mango', 'Apple', 'Banana']"
            ]
          },
          "metadata": {},
          "execution_count": 205
        }
      ]
    },
    {
      "cell_type": "markdown",
      "source": [
        "- `dict` -> `list`\n",
        "    - key 가 리스트로 반환된다."
      ],
      "metadata": {
        "id": "w-Fi0B1w3nr8"
      }
    },
    {
      "cell_type": "code",
      "source": [
        "city = {\n",
        "    \"한국\":\"서울\",\n",
        "    \"일본\":\"도꾜\",\n",
        "    \"미국\":\"워싱턴\",\n",
        "}\n",
        "list(city)          # => city.keys()와 동일!"
      ],
      "metadata": {
        "colab": {
          "base_uri": "https://localhost:8080/"
        },
        "id": "tXYNDMW9365h",
        "outputId": "1e8fc7c2-14c8-479f-b2a5-4b38ab9620ab"
      },
      "execution_count": 206,
      "outputs": [
        {
          "output_type": "execute_result",
          "data": {
            "text/plain": [
              "['한국', '일본', '미국']"
            ]
          },
          "metadata": {},
          "execution_count": 206
        }
      ]
    },
    {
      "cell_type": "code",
      "source": [
        "list(city.values())"
      ],
      "metadata": {
        "colab": {
          "base_uri": "https://localhost:8080/"
        },
        "id": "NevtQQyn4I_Q",
        "outputId": "e811bee1-fa2c-47d9-a897-ed3f4a339456"
      },
      "execution_count": 207,
      "outputs": [
        {
          "output_type": "execute_result",
          "data": {
            "text/plain": [
              "['서울', '도꾜', '워싱턴']"
            ]
          },
          "metadata": {},
          "execution_count": 207
        }
      ]
    },
    {
      "cell_type": "code",
      "source": [
        "city.items()"
      ],
      "metadata": {
        "colab": {
          "base_uri": "https://localhost:8080/"
        },
        "id": "2bkNT-JB4Z0-",
        "outputId": "85fe9451-5f42-4d4b-cdbf-3aba0d75bee1"
      },
      "execution_count": 208,
      "outputs": [
        {
          "output_type": "execute_result",
          "data": {
            "text/plain": [
              "dict_items([('한국', '서울'), ('일본', '도꾜'), ('미국', '워싱턴')])"
            ]
          },
          "metadata": {},
          "execution_count": 208
        }
      ]
    },
    {
      "cell_type": "code",
      "source": [
        "tup_list = list(city.items())\n",
        "tup_list            # 전처리 시 사용"
      ],
      "metadata": {
        "colab": {
          "base_uri": "https://localhost:8080/"
        },
        "id": "eVvUhV8s4lIu",
        "outputId": "98685b82-65d7-469e-86c1-5da731823bd7"
      },
      "execution_count": 213,
      "outputs": [
        {
          "output_type": "execute_result",
          "data": {
            "text/plain": [
              "[('한국', '서울'), ('일본', '도꾜'), ('미국', '워싱턴')]"
            ]
          },
          "metadata": {},
          "execution_count": 213
        }
      ]
    },
    {
      "cell_type": "code",
      "source": [
        "dict(tup_list)       # 전처리 시 사용"
      ],
      "metadata": {
        "colab": {
          "base_uri": "https://localhost:8080/"
        },
        "id": "AfohSIap4rsj",
        "outputId": "02976053-9fbf-475d-8427-b02744647218"
      },
      "execution_count": 212,
      "outputs": [
        {
          "output_type": "execute_result",
          "data": {
            "text/plain": [
              "{'미국': '워싱턴', '일본': '도꾜', '한국': '서울'}"
            ]
          },
          "metadata": {},
          "execution_count": 212
        }
      ]
    },
    {
      "cell_type": "code",
      "source": [
        "text = \"hello\"  # 문자열에 각 문자가 리스트에 하나의 요소로 들어간다.\n",
        "list(text)"
      ],
      "metadata": {
        "colab": {
          "base_uri": "https://localhost:8080/"
        },
        "id": "sOjy3zNM5APJ",
        "outputId": "2116c5f0-ba6d-463f-835d-04987e284371"
      },
      "execution_count": 215,
      "outputs": [
        {
          "output_type": "execute_result",
          "data": {
            "text/plain": [
              "['h', 'e', 'l', 'l', 'o']"
            ]
          },
          "metadata": {},
          "execution_count": 215
        }
      ]
    },
    {
      "cell_type": "code",
      "source": [
        "# text 의 문자열이 어떠한 알파벳으로 구성되어 있을까?\n",
        "set(text)"
      ],
      "metadata": {
        "colab": {
          "base_uri": "https://localhost:8080/"
        },
        "id": "z7zeqrY_5XSW",
        "outputId": "02491844-48f6-4175-bf13-627c0163c4ec"
      },
      "execution_count": 216,
      "outputs": [
        {
          "output_type": "execute_result",
          "data": {
            "text/plain": [
              "{'e', 'h', 'l', 'o'}"
            ]
          },
          "metadata": {},
          "execution_count": 216
        }
      ]
    },
    {
      "cell_type": "code",
      "source": [
        ""
      ],
      "metadata": {
        "id": "XfbpSh4h5dY_"
      },
      "execution_count": null,
      "outputs": []
    }
  ]
}