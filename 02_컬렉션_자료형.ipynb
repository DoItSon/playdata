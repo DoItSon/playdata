{
  "nbformat": 4,
  "nbformat_minor": 0,
  "metadata": {
    "colab": {
      "name": "02-컬렉션 자료형.ipynb",
      "provenance": [],
      "collapsed_sections": [],
      "toc_visible": true,
      "authorship_tag": "ABX9TyOwKqD6lcON9PUFYKrHu7N0",
      "include_colab_link": true
    },
    "kernelspec": {
      "name": "python3",
      "display_name": "Python 3"
    },
    "language_info": {
      "name": "python"
    }
  },
  "cells": [
    {
      "cell_type": "markdown",
      "metadata": {
        "id": "view-in-github",
        "colab_type": "text"
      },
      "source": [
        "<a href=\"https://colab.research.google.com/github/soyongseok/playdata/blob/main/02_%EC%BB%AC%EB%A0%89%EC%85%98_%EC%9E%90%EB%A3%8C%ED%98%95.ipynb\" target=\"_parent\"><img src=\"https://colab.research.google.com/assets/colab-badge.svg\" alt=\"Open In Colab\"/></a>"
      ]
    },
    {
      "cell_type": "markdown",
      "source": [
        "# 함수와 메소드\n",
        "- 함수\n",
        "    - 코드의 반복을 줄이거나 어떠한 기능을 하기 위해 특정 코드를 모아둔 것\n",
        "$$\n",
        "f(x) = 2x\n",
        "$$\n",
        "\n",
        "- 메소드\n",
        "    - 객체(값)의 소속되어 있는 함수"
      ],
      "metadata": {
        "id": "zHMpVMW4WLlG"
      }
    },
    {
      "cell_type": "code",
      "source": [
        "s = \"ABCD\"\n",
        "\n",
        "len(s)  # 함수"
      ],
      "metadata": {
        "colab": {
          "base_uri": "https://localhost:8080/"
        },
        "id": "2wVqmpRmWxwg",
        "outputId": "511bce4f-c065-4911-ae1c-526f7d727fb7"
      },
      "execution_count": 2,
      "outputs": [
        {
          "output_type": "execute_result",
          "data": {
            "text/plain": [
              "4"
            ]
          },
          "metadata": {},
          "execution_count": 2
        }
      ]
    },
    {
      "cell_type": "code",
      "source": [
        "s.lower()   # 메소드"
      ],
      "metadata": {
        "colab": {
          "base_uri": "https://localhost:8080/",
          "height": 35
        },
        "id": "mXrjCcQYXO7o",
        "outputId": "bf48294e-acc0-4150-a5db-ec173bfd82f4"
      },
      "execution_count": 4,
      "outputs": [
        {
          "output_type": "execute_result",
          "data": {
            "text/plain": [
              "'abcd'"
            ],
            "application/vnd.google.colaboratory.intrinsic+json": {
              "type": "string"
            }
          },
          "metadata": {},
          "execution_count": 4
        }
      ]
    },
    {
      "cell_type": "markdown",
      "source": [
        "# 컬렉션 자료형 (Collection data type)\n",
        "- 여러가지 요소를 하나로 묶어서 담을 수 있는 데이터 타입\n",
        "    - 문법적인 요소들 빼고 다 담을 수 있다.\n",
        "    - 객체, 변수, 함수, 클래스 ... 등 담을 수 있다.\n",
        "    - list, set, dict, tuple"
      ],
      "metadata": {
        "id": "Jw3jC3-lXTSA"
      }
    },
    {
      "cell_type": "markdown",
      "source": [
        "# 자료형의 특징\n",
        "- Sequence 자료형\n",
        "    - 열거 되어있고, 연속되어 있다.\n",
        "    - 순서와 순번(index)이 있다.\n",
        "- mutable 자료형\n",
        "    - 수정 가능한 객체(값)\n",
        "    - 컬렉션 자료형: `list, set, dict`\n",
        "- immutable 자료형\n",
        "    - int, float, str, bool, tuple(컬렉션 타입)"
      ],
      "metadata": {
        "id": "i9Z0OUA3X6l1"
      }
    },
    {
      "cell_type": "markdown",
      "source": [
        "# list\n",
        "- Sequence 자료형\n",
        "- mutable 자료형\n",
        "    - 변경 가능\n",
        "-  중복 데이터 저장 가능\n",
        "- `[]`를 이용해서 만들 수 있다."
      ],
      "metadata": {
        "id": "XM7qNzJmYB-D"
      }
    },
    {
      "cell_type": "code",
      "source": [
        "lst = []\n",
        "lst"
      ],
      "metadata": {
        "colab": {
          "base_uri": "https://localhost:8080/"
        },
        "id": "-3aLvhpBZSTa",
        "outputId": "372e260c-64a9-4435-ffdc-0dcecf5be196"
      },
      "execution_count": 5,
      "outputs": [
        {
          "output_type": "execute_result",
          "data": {
            "text/plain": [
              "[]"
            ]
          },
          "metadata": {},
          "execution_count": 5
        }
      ]
    },
    {
      "cell_type": "code",
      "source": [
        "lst = [1,2,3,3,\"four\", None, 7.0, True]\n",
        "lst"
      ],
      "metadata": {
        "colab": {
          "base_uri": "https://localhost:8080/"
        },
        "id": "oeiax-BZZe7q",
        "outputId": "fa88fd7f-98e4-4d23-a40b-e3f14f5411bb"
      },
      "execution_count": 9,
      "outputs": [
        {
          "output_type": "execute_result",
          "data": {
            "text/plain": [
              "[1, 2, 3, 3, 'four', None, 7.0, True]"
            ]
          },
          "metadata": {},
          "execution_count": 9
        }
      ]
    },
    {
      "cell_type": "code",
      "source": [
        "lst = [1,2,3,[1,2]]\n",
        "len(lst)"
      ],
      "metadata": {
        "colab": {
          "base_uri": "https://localhost:8080/"
        },
        "id": "m5TrSMh8ZtRw",
        "outputId": "7667a445-9589-4477-e0f2-4ce4b649a19d"
      },
      "execution_count": 10,
      "outputs": [
        {
          "output_type": "execute_result",
          "data": {
            "text/plain": [
              "4"
            ]
          },
          "metadata": {},
          "execution_count": 10
        }
      ]
    },
    {
      "cell_type": "code",
      "source": [
        "lst = [11,200,7,9,10]\n",
        "sorted(lst,reverse = True)"
      ],
      "metadata": {
        "colab": {
          "base_uri": "https://localhost:8080/"
        },
        "id": "W3zYahkXZ9d6",
        "outputId": "462feb3c-0da8-4bf4-eb59-8acf460175dc"
      },
      "execution_count": 18,
      "outputs": [
        {
          "output_type": "execute_result",
          "data": {
            "text/plain": [
              "[200, 11, 10, 9, 7]"
            ]
          },
          "metadata": {},
          "execution_count": 18
        }
      ]
    },
    {
      "cell_type": "code",
      "source": [
        "max(lst)"
      ],
      "metadata": {
        "colab": {
          "base_uri": "https://localhost:8080/"
        },
        "id": "hCN4R7w0aCDy",
        "outputId": "787d72a1-6e11-4a6b-e68e-ade887846d9a"
      },
      "execution_count": 19,
      "outputs": [
        {
          "output_type": "execute_result",
          "data": {
            "text/plain": [
              "200"
            ]
          },
          "metadata": {},
          "execution_count": 19
        }
      ]
    },
    {
      "cell_type": "code",
      "source": [
        "min(lst)"
      ],
      "metadata": {
        "colab": {
          "base_uri": "https://localhost:8080/"
        },
        "id": "z3-cvX87ahvG",
        "outputId": "0e150aa6-5532-4b87-e682-b19e5cc0edcc"
      },
      "execution_count": 22,
      "outputs": [
        {
          "output_type": "execute_result",
          "data": {
            "text/plain": [
              "7"
            ]
          },
          "metadata": {},
          "execution_count": 22
        }
      ]
    },
    {
      "cell_type": "code",
      "source": [
        "sum(lst) / len(lst) # 평균 구하기!"
      ],
      "metadata": {
        "colab": {
          "base_uri": "https://localhost:8080/"
        },
        "id": "ZEEtrTJCaj7s",
        "outputId": "59e4374b-ec22-4154-acaf-0483fb0760e8"
      },
      "execution_count": 25,
      "outputs": [
        {
          "output_type": "execute_result",
          "data": {
            "text/plain": [
              "47.4"
            ]
          },
          "metadata": {},
          "execution_count": 25
        }
      ]
    },
    {
      "cell_type": "markdown",
      "source": [
        "## 시퀀스 다루기\n",
        "- Sequence는 순번이 있다.\n",
        "    - 순번을 index 라고 한다\n",
        "- 파이썬의 인덱스는 2종류가 있다.\n",
        "    - 양수 인덱스\n",
        "        - `0` 부터 시작한다.\n",
        "        - 왼쪽에서 오른쪽으로 1씩 증가\n",
        "    - 음수 인덱스\n",
        "        - `-1`부터 시작한다.\n",
        "        - 오른쪽에서 왼쪽으로 1씩 감소\n",
        "- 인덱스는 무조건 정수 !!"
      ],
      "metadata": {
        "id": "TBuC0l-Eap-C"
      }
    },
    {
      "cell_type": "code",
      "source": [
        "lst = [1,2,3,3,\"four\", None, 7.0, True]\n",
        "lst"
      ],
      "metadata": {
        "colab": {
          "base_uri": "https://localhost:8080/"
        },
        "id": "8KrMpEETcJ8-",
        "outputId": "8b98f7ef-ae75-487f-8a1d-598818138622"
      },
      "execution_count": 26,
      "outputs": [
        {
          "output_type": "execute_result",
          "data": {
            "text/plain": [
              "[1, 2, 3, 3, 'four', None, 7.0, True]"
            ]
          },
          "metadata": {},
          "execution_count": 26
        }
      ]
    },
    {
      "cell_type": "code",
      "source": [
        "lst[0]"
      ],
      "metadata": {
        "colab": {
          "base_uri": "https://localhost:8080/"
        },
        "id": "7CCNKk7McNz3",
        "outputId": "378c4867-3473-426c-c182-f6b0bffec185"
      },
      "execution_count": 28,
      "outputs": [
        {
          "output_type": "execute_result",
          "data": {
            "text/plain": [
              "1"
            ]
          },
          "metadata": {},
          "execution_count": 28
        }
      ]
    },
    {
      "cell_type": "code",
      "source": [
        "lst[4]"
      ],
      "metadata": {
        "colab": {
          "base_uri": "https://localhost:8080/",
          "height": 35
        },
        "id": "zYrCuTJccjlQ",
        "outputId": "36e1b218-7d1e-41da-f8ba-c5e608cbeabf"
      },
      "execution_count": 30,
      "outputs": [
        {
          "output_type": "execute_result",
          "data": {
            "text/plain": [
              "'four'"
            ],
            "application/vnd.google.colaboratory.intrinsic+json": {
              "type": "string"
            }
          },
          "metadata": {},
          "execution_count": 30
        }
      ]
    },
    {
      "cell_type": "code",
      "source": [
        "lst[-2]"
      ],
      "metadata": {
        "colab": {
          "base_uri": "https://localhost:8080/"
        },
        "id": "WDxQkyuycnfh",
        "outputId": "2b04c368-de07-4628-80f1-925442c915a5"
      },
      "execution_count": 32,
      "outputs": [
        {
          "output_type": "execute_result",
          "data": {
            "text/plain": [
              "7.0"
            ]
          },
          "metadata": {},
          "execution_count": 32
        }
      ]
    },
    {
      "cell_type": "markdown",
      "source": [
        "## 슬라이싱(Slicing)\n",
        "- 인덱스를 사용해서 시퀀스를 잘라낸다.\n",
        "- 시퀀스에 특정 범위를 가리킨다.\n",
        "- `[start:end:step]`\n",
        "    - `start ~ end-1` 부분을 `step`만큼 건너 뛰면서 잘라낸다."
      ],
      "metadata": {
        "id": "OQ0rIH8Jczjf"
      }
    },
    {
      "cell_type": "code",
      "source": [
        "lst = [\"a\", \"b\", \"c\", \"d\", \"e\", \"f\", \"g\"]\n",
        "lst"
      ],
      "metadata": {
        "colab": {
          "base_uri": "https://localhost:8080/"
        },
        "id": "o7oRRLP3deWa",
        "outputId": "ab6ba98a-1e64-4c39-bf2b-581eb0b27cc4"
      },
      "execution_count": 33,
      "outputs": [
        {
          "output_type": "execute_result",
          "data": {
            "text/plain": [
              "['a', 'b', 'c', 'd', 'e', 'f', 'g']"
            ]
          },
          "metadata": {},
          "execution_count": 33
        }
      ]
    },
    {
      "cell_type": "code",
      "source": [
        "lst[0:3]"
      ],
      "metadata": {
        "colab": {
          "base_uri": "https://localhost:8080/"
        },
        "id": "Tca5q6sYdvWt",
        "outputId": "27711f52-582b-4c45-e955-1690f14a0d86"
      },
      "execution_count": 34,
      "outputs": [
        {
          "output_type": "execute_result",
          "data": {
            "text/plain": [
              "['a', 'b', 'c']"
            ]
          },
          "metadata": {},
          "execution_count": 34
        }
      ]
    },
    {
      "cell_type": "code",
      "source": [
        "lst[2:4]"
      ],
      "metadata": {
        "colab": {
          "base_uri": "https://localhost:8080/"
        },
        "id": "CxZtNeWpdyK2",
        "outputId": "162928f5-1d92-47da-f917-799d2e4b66b1"
      },
      "execution_count": 35,
      "outputs": [
        {
          "output_type": "execute_result",
          "data": {
            "text/plain": [
              "['c', 'd']"
            ]
          },
          "metadata": {},
          "execution_count": 35
        }
      ]
    },
    {
      "cell_type": "code",
      "source": [
        "lst[-3:-1]"
      ],
      "metadata": {
        "colab": {
          "base_uri": "https://localhost:8080/"
        },
        "id": "fGHscm7Sd7D6",
        "outputId": "3303edaa-e4cf-4960-c0ae-ba36d2ade4fe"
      },
      "execution_count": 42,
      "outputs": [
        {
          "output_type": "execute_result",
          "data": {
            "text/plain": [
              "['e', 'f']"
            ]
          },
          "metadata": {},
          "execution_count": 42
        }
      ]
    },
    {
      "cell_type": "markdown",
      "source": [
        "- `start, end, step` 생략이 가능하다.\n",
        "- `start`를 생략하면 자동으로 `0`이 들어간다.\n",
        "- `end`를 생략하면 자동으로 시퀀스의 길이(len)가 들어간다."
      ],
      "metadata": {
        "id": "kaS1J1EReLkT"
      }
    },
    {
      "cell_type": "code",
      "source": [
        "lst[:] # lst[0:len(lst)]와 같다."
      ],
      "metadata": {
        "colab": {
          "base_uri": "https://localhost:8080/"
        },
        "id": "Y_YdQ_IRfO3o",
        "outputId": "95139d8e-b49e-4bc5-ed34-4209ed9e55fa"
      },
      "execution_count": 46,
      "outputs": [
        {
          "output_type": "execute_result",
          "data": {
            "text/plain": [
              "['a', 'b', 'c', 'd', 'e', 'f', 'g']"
            ]
          },
          "metadata": {},
          "execution_count": 46
        }
      ]
    },
    {
      "cell_type": "code",
      "source": [
        "lst[3:]"
      ],
      "metadata": {
        "colab": {
          "base_uri": "https://localhost:8080/"
        },
        "id": "GfX9UH24fnBX",
        "outputId": "1dcd10ef-ebcf-4973-e43c-ed962c83dacb"
      },
      "execution_count": 47,
      "outputs": [
        {
          "output_type": "execute_result",
          "data": {
            "text/plain": [
              "['d', 'e', 'f', 'g']"
            ]
          },
          "metadata": {},
          "execution_count": 47
        }
      ]
    },
    {
      "cell_type": "code",
      "source": [
        "lst[:5]"
      ],
      "metadata": {
        "colab": {
          "base_uri": "https://localhost:8080/"
        },
        "id": "7c0fLIvEfpky",
        "outputId": "368c535f-9485-4be1-c206-5f42e9fe95a1"
      },
      "execution_count": 48,
      "outputs": [
        {
          "output_type": "execute_result",
          "data": {
            "text/plain": [
              "['a', 'b', 'c', 'd', 'e']"
            ]
          },
          "metadata": {},
          "execution_count": 48
        }
      ]
    },
    {
      "cell_type": "code",
      "source": [
        "lst[:-2]"
      ],
      "metadata": {
        "colab": {
          "base_uri": "https://localhost:8080/"
        },
        "id": "hg0nkbFwft-R",
        "outputId": "43f81fbd-3b06-41ed-f414-002e1112b9a7"
      },
      "execution_count": 50,
      "outputs": [
        {
          "output_type": "execute_result",
          "data": {
            "text/plain": [
              "['a', 'b', 'c', 'd', 'e']"
            ]
          },
          "metadata": {},
          "execution_count": 50
        }
      ]
    },
    {
      "cell_type": "code",
      "source": [
        "lst[-5:]"
      ],
      "metadata": {
        "colab": {
          "base_uri": "https://localhost:8080/"
        },
        "id": "Q-8XV9gzf6tf",
        "outputId": "d88b76be-6ff7-4050-efff-d82a3da2f583"
      },
      "execution_count": 51,
      "outputs": [
        {
          "output_type": "execute_result",
          "data": {
            "text/plain": [
              "['c', 'd', 'e', 'f', 'g']"
            ]
          },
          "metadata": {},
          "execution_count": 51
        }
      ]
    },
    {
      "cell_type": "markdown",
      "source": [
        "- step\n",
        "    - 지정한 범위에서 `step` 만큼 건너뛰면서 슬라이싱\n",
        "    - `step`을 생략하면 기본적으로 1이 주어진다."
      ],
      "metadata": {
        "id": "dG0GwnbIgHt6"
      }
    },
    {
      "cell_type": "code",
      "source": [
        "lst[::] # lst[0:len(lst):1]과 같다."
      ],
      "metadata": {
        "colab": {
          "base_uri": "https://localhost:8080/"
        },
        "id": "9NKninCIkHQH",
        "outputId": "daa52aa0-b9c3-4286-b9a3-fae11763ff18"
      },
      "execution_count": 53,
      "outputs": [
        {
          "output_type": "execute_result",
          "data": {
            "text/plain": [
              "['a', 'b', 'c', 'd', 'e', 'f', 'g']"
            ]
          },
          "metadata": {},
          "execution_count": 53
        }
      ]
    },
    {
      "cell_type": "code",
      "source": [
        "lst[::2]"
      ],
      "metadata": {
        "colab": {
          "base_uri": "https://localhost:8080/"
        },
        "id": "07gYe10nkVyy",
        "outputId": "cdcdf0a0-b927-411c-ff53-b50f7c807f02"
      },
      "execution_count": 54,
      "outputs": [
        {
          "output_type": "execute_result",
          "data": {
            "text/plain": [
              "['a', 'c', 'e', 'g']"
            ]
          },
          "metadata": {},
          "execution_count": 54
        }
      ]
    },
    {
      "cell_type": "markdown",
      "source": [
        "- `step` 부분을 양수, 음수를 이용해서 방향 설정 가능\n",
        "    - 양수: 정방향(왼쪽에서 오른쪽)\n",
        "    - 음수: 역방향(오른쪽에서 왼쪽)"
      ],
      "metadata": {
        "id": "Os90zG2fkg1U"
      }
    },
    {
      "cell_type": "code",
      "source": [
        "lst[::-1]"
      ],
      "metadata": {
        "colab": {
          "base_uri": "https://localhost:8080/"
        },
        "id": "crdywo2Jk2vK",
        "outputId": "a98f3dca-796d-44bd-e2ff-c67daf356eca"
      },
      "execution_count": 57,
      "outputs": [
        {
          "output_type": "execute_result",
          "data": {
            "text/plain": [
              "['g', 'f', 'e', 'd', 'c', 'b', 'a']"
            ]
          },
          "metadata": {},
          "execution_count": 57
        }
      ]
    },
    {
      "cell_type": "code",
      "source": [
        "lst = [10,20,30,40,50,60,70]\n",
        "lst"
      ],
      "metadata": {
        "colab": {
          "base_uri": "https://localhost:8080/"
        },
        "id": "_Ezk0VIRk5oZ",
        "outputId": "3cb3775c-b8c4-4980-ddff-d2698425a4cb"
      },
      "execution_count": 58,
      "outputs": [
        {
          "output_type": "execute_result",
          "data": {
            "text/plain": [
              "[10, 20, 30, 40, 50, 60, 70]"
            ]
          },
          "metadata": {},
          "execution_count": 58
        }
      ]
    },
    {
      "cell_type": "code",
      "source": [
        "lst[-1:-5:-1]"
      ],
      "metadata": {
        "colab": {
          "base_uri": "https://localhost:8080/"
        },
        "id": "oglbGYlflZ_h",
        "outputId": "947b344a-32cb-4b37-9e49-c6800d272320"
      },
      "execution_count": 64,
      "outputs": [
        {
          "output_type": "execute_result",
          "data": {
            "text/plain": [
              "[70, 60, 50, 40]"
            ]
          },
          "metadata": {},
          "execution_count": 64
        }
      ]
    },
    {
      "cell_type": "code",
      "source": [
        "lst[-2:-6:-1]"
      ],
      "metadata": {
        "colab": {
          "base_uri": "https://localhost:8080/"
        },
        "id": "w7y1Onjaldd2",
        "outputId": "62fe0427-3677-4023-fe1c-54bd238054b7"
      },
      "execution_count": 65,
      "outputs": [
        {
          "output_type": "execute_result",
          "data": {
            "text/plain": [
              "[60, 50, 40, 30]"
            ]
          },
          "metadata": {},
          "execution_count": 65
        }
      ]
    },
    {
      "cell_type": "code",
      "source": [
        "num_list = [2,3,4,5,6,7,8,9,10,11,12,13,14,15] # 10보다 작은 3의 배수 (오름차순)\n",
        "num_list[1:10:3]"
      ],
      "metadata": {
        "colab": {
          "base_uri": "https://localhost:8080/"
        },
        "id": "k7Ajwuc5lh4-",
        "outputId": "119cd2cb-a185-4950-b423-0e87652c24b9"
      },
      "execution_count": 82,
      "outputs": [
        {
          "output_type": "execute_result",
          "data": {
            "text/plain": [
              "[3, 6, 9]"
            ]
          },
          "metadata": {},
          "execution_count": 82
        }
      ]
    },
    {
      "cell_type": "markdown",
      "source": [
        "## 리스트는 변경가능하다"
      ],
      "metadata": {
        "id": "OOVe2YWHnD91"
      }
    },
    {
      "cell_type": "code",
      "source": [
        "lst = [1,2,3,4,5,6,7,8,9,10]\n",
        "lst[1] = 10000\n",
        "lst"
      ],
      "metadata": {
        "colab": {
          "base_uri": "https://localhost:8080/"
        },
        "id": "b9kUKJQEo9p7",
        "outputId": "2dfe6119-3754-42ec-b427-e2d7a4aacd69"
      },
      "execution_count": 84,
      "outputs": [
        {
          "output_type": "execute_result",
          "data": {
            "text/plain": [
              "[1, 10000, 3, 4, 5, 6, 7, 8, 9, 10]"
            ]
          },
          "metadata": {},
          "execution_count": 84
        }
      ]
    },
    {
      "cell_type": "code",
      "source": [
        "lst[:1] = 3 # 슬라이싱 해서 리스트가 반환 됐기 떄문에 단일값 대입 시 에러가 난다."
      ],
      "metadata": {
        "colab": {
          "base_uri": "https://localhost:8080/",
          "height": 172
        },
        "id": "RVx1-PQspLqi",
        "outputId": "5f2968b9-0341-48c2-d0ae-43706f8ab223"
      },
      "execution_count": 86,
      "outputs": [
        {
          "output_type": "error",
          "ename": "TypeError",
          "evalue": "ignored",
          "traceback": [
            "\u001b[0;31m---------------------------------------------------------------------------\u001b[0m",
            "\u001b[0;31mTypeError\u001b[0m                                 Traceback (most recent call last)",
            "\u001b[0;32m<ipython-input-86-95bfc3a47437>\u001b[0m in \u001b[0;36m<module>\u001b[0;34m()\u001b[0m\n\u001b[0;32m----> 1\u001b[0;31m \u001b[0mlst\u001b[0m\u001b[0;34m[\u001b[0m\u001b[0;34m:\u001b[0m\u001b[0;36m1\u001b[0m\u001b[0;34m]\u001b[0m \u001b[0;34m=\u001b[0m \u001b[0;36m3\u001b[0m \u001b[0;31m# 슬라이싱 해서 리스트가 반환 됐기 떄문에 단일값 대입 시 에러가 난다.\u001b[0m\u001b[0;34m\u001b[0m\u001b[0;34m\u001b[0m\u001b[0m\n\u001b[0m",
            "\u001b[0;31mTypeError\u001b[0m: can only assign an iterable"
          ]
        }
      ]
    },
    {
      "cell_type": "markdown",
      "source": [
        "- 길이가 달라도 리스트에 리스트를 담는 것은 가능하다."
      ],
      "metadata": {
        "id": "IivbjN6Qqht1"
      }
    },
    {
      "cell_type": "code",
      "source": [
        "lst[1:] = [3]\n",
        "lst"
      ],
      "metadata": {
        "colab": {
          "base_uri": "https://localhost:8080/"
        },
        "id": "IKhDOJL7pTCo",
        "outputId": "450ebf1c-5094-462b-eac7-e154e286437f"
      },
      "execution_count": 88,
      "outputs": [
        {
          "output_type": "execute_result",
          "data": {
            "text/plain": [
              "[1, 3]"
            ]
          },
          "metadata": {},
          "execution_count": 88
        }
      ]
    },
    {
      "cell_type": "code",
      "source": [
        "lst[1:] = [1001,1002,1003,1004]\n",
        "lst"
      ],
      "metadata": {
        "colab": {
          "base_uri": "https://localhost:8080/"
        },
        "id": "f0LZRZrSpplf",
        "outputId": "1d4e2050-e7bb-4a93-da68-d77cf3ad59e0"
      },
      "execution_count": 90,
      "outputs": [
        {
          "output_type": "execute_result",
          "data": {
            "text/plain": [
              "[1, 1001, 1002, 1003, 1004]"
            ]
          },
          "metadata": {},
          "execution_count": 90
        }
      ]
    },
    {
      "cell_type": "code",
      "source": [
        "lst = [1,2,3,4,5,6,7,8,9,10]\n",
        "lst"
      ],
      "metadata": {
        "colab": {
          "base_uri": "https://localhost:8080/"
        },
        "id": "nwKqMUrQp2-q",
        "outputId": "b59f9fdc-f3a2-4ad1-aceb-0bfede716091"
      },
      "execution_count": 91,
      "outputs": [
        {
          "output_type": "execute_result",
          "data": {
            "text/plain": [
              "[1, 2, 3, 4, 5, 6, 7, 8, 9, 10]"
            ]
          },
          "metadata": {},
          "execution_count": 91
        }
      ]
    },
    {
      "cell_type": "markdown",
      "source": [
        "- step 을 2이상 넣어 연속적인 공간이 아닌 리스트가 슬라이싱 되면 수정이 안된다"
      ],
      "metadata": {
        "id": "yylUlNeXqqJo"
      }
    },
    {
      "cell_type": "code",
      "source": [
        "lst[1::2] = [0]"
      ],
      "metadata": {
        "colab": {
          "base_uri": "https://localhost:8080/",
          "height": 172
        },
        "id": "Uqyq3rajqK_9",
        "outputId": "72ee341f-62d7-4bd2-91ba-c95cd79b62c3"
      },
      "execution_count": 102,
      "outputs": [
        {
          "output_type": "error",
          "ename": "ValueError",
          "evalue": "ignored",
          "traceback": [
            "\u001b[0;31m---------------------------------------------------------------------------\u001b[0m",
            "\u001b[0;31mValueError\u001b[0m                                Traceback (most recent call last)",
            "\u001b[0;32m<ipython-input-102-4f5f0a3a0fdc>\u001b[0m in \u001b[0;36m<module>\u001b[0;34m()\u001b[0m\n\u001b[0;32m----> 1\u001b[0;31m \u001b[0mlst\u001b[0m\u001b[0;34m[\u001b[0m\u001b[0;36m1\u001b[0m\u001b[0;34m:\u001b[0m\u001b[0;34m:\u001b[0m\u001b[0;36m2\u001b[0m\u001b[0;34m]\u001b[0m \u001b[0;34m=\u001b[0m \u001b[0;34m[\u001b[0m\u001b[0;36m0\u001b[0m\u001b[0;34m]\u001b[0m\u001b[0;34m\u001b[0m\u001b[0;34m\u001b[0m\u001b[0m\n\u001b[0m",
            "\u001b[0;31mValueError\u001b[0m: attempt to assign sequence of size 1 to extended slice of size 2"
          ]
        }
      ]
    },
    {
      "cell_type": "markdown",
      "source": [
        "## `list`의 메소드"
      ],
      "metadata": {
        "id": "TSeZLyZXqPa-"
      }
    },
    {
      "cell_type": "markdown",
      "source": [
        "- `append()`\n",
        "    - 리스트 제일 뒤에 값을 추가"
      ],
      "metadata": {
        "id": "CI_XMK8TqwAj"
      }
    },
    {
      "cell_type": "code",
      "source": [
        "lst = [1,2,3,4]\n",
        "lst.append(0)\n",
        "lst"
      ],
      "metadata": {
        "colab": {
          "base_uri": "https://localhost:8080/"
        },
        "id": "NeGcIJoVq4nv",
        "outputId": "15dc336a-9f1f-4c83-87c6-89189cfc12e3"
      },
      "execution_count": 109,
      "outputs": [
        {
          "output_type": "execute_result",
          "data": {
            "text/plain": [
              "[1, 2, 3, 4, 0]"
            ]
          },
          "metadata": {},
          "execution_count": 109
        }
      ]
    },
    {
      "cell_type": "code",
      "source": [
        "sorted(lst)  # 복사 후 정렬하지만 결과적으로 정렬이 안된다."
      ],
      "metadata": {
        "colab": {
          "base_uri": "https://localhost:8080/"
        },
        "id": "_j7AoXXhrO5q",
        "outputId": "a8c16751-b151-4628-8d47-37df72424663"
      },
      "execution_count": 110,
      "outputs": [
        {
          "output_type": "execute_result",
          "data": {
            "text/plain": [
              "[0, 1, 2, 3, 4]"
            ]
          },
          "metadata": {},
          "execution_count": 110
        }
      ]
    },
    {
      "cell_type": "code",
      "source": [
        "lst"
      ],
      "metadata": {
        "colab": {
          "base_uri": "https://localhost:8080/"
        },
        "id": "bzIbU4D_rZ0G",
        "outputId": "bc25f9ee-f63e-460e-f8ea-256aba7c0104"
      },
      "execution_count": 111,
      "outputs": [
        {
          "output_type": "execute_result",
          "data": {
            "text/plain": [
              "[1, 2, 3, 4, 0]"
            ]
          },
          "metadata": {},
          "execution_count": 111
        }
      ]
    },
    {
      "cell_type": "code",
      "source": [
        "lst.sort()  # 값 안에서 정렬이 된다.\n",
        "lst"
      ],
      "metadata": {
        "colab": {
          "base_uri": "https://localhost:8080/"
        },
        "id": "84FXfOy0q_sh",
        "outputId": "986c8fbf-7c9e-4987-ed12-5b0369036609"
      },
      "execution_count": 112,
      "outputs": [
        {
          "output_type": "execute_result",
          "data": {
            "text/plain": [
              "[0, 1, 2, 3, 4]"
            ]
          },
          "metadata": {},
          "execution_count": 112
        }
      ]
    },
    {
      "cell_type": "markdown",
      "source": [
        "- pop()\n",
        "    - 제일 뒤에 있는 데이터를 꺼내고 식제\n",
        "    - 인덱스 값을 줄 경우 해당 인덱스 값을 꺼내고 삭제"
      ],
      "metadata": {
        "id": "EhSgXGgjrFer"
      }
    },
    {
      "cell_type": "code",
      "source": [
        "lst"
      ],
      "metadata": {
        "colab": {
          "base_uri": "https://localhost:8080/"
        },
        "id": "cO3Uy8aVsxrT",
        "outputId": "3fdabf84-6724-4c5c-c55a-a275f85e182d"
      },
      "execution_count": 113,
      "outputs": [
        {
          "output_type": "execute_result",
          "data": {
            "text/plain": [
              "[0, 1, 2, 3, 4]"
            ]
          },
          "metadata": {},
          "execution_count": 113
        }
      ]
    },
    {
      "cell_type": "code",
      "source": [
        "print(lst.pop())\n",
        "print(lst)\n",
        "\n",
        "print(lst.pop())\n",
        "print(lst)"
      ],
      "metadata": {
        "colab": {
          "base_uri": "https://localhost:8080/"
        },
        "id": "d3ujnDTBszS6",
        "outputId": "31525476-5c2e-4254-b380-0d3f4e041931"
      },
      "execution_count": 114,
      "outputs": [
        {
          "output_type": "stream",
          "name": "stdout",
          "text": [
            "4\n",
            "[0, 1, 2, 3]\n",
            "3\n",
            "[0, 1, 2]\n"
          ]
        }
      ]
    },
    {
      "cell_type": "code",
      "source": [
        "lst.pop(1)\n",
        "lst"
      ],
      "metadata": {
        "colab": {
          "base_uri": "https://localhost:8080/"
        },
        "id": "em-Ih0Lis1iO",
        "outputId": "78729c52-82d3-4ad7-e1ed-c31d28418080"
      },
      "execution_count": 115,
      "outputs": [
        {
          "output_type": "execute_result",
          "data": {
            "text/plain": [
              "[0, 2]"
            ]
          },
          "metadata": {},
          "execution_count": 115
        }
      ]
    },
    {
      "cell_type": "markdown",
      "source": [
        "- `extend()`\n",
        "    - 리스트와 리스트를 합친다."
      ],
      "metadata": {
        "id": "_e944P3Es_tC"
      }
    },
    {
      "cell_type": "code",
      "source": [
        "lst = [1,2,3]\n",
        "lst.extend([4,5,6])"
      ],
      "metadata": {
        "id": "yZ1znx3Itffd"
      },
      "execution_count": 120,
      "outputs": []
    },
    {
      "cell_type": "code",
      "source": [
        "lst = [1,2,3]\n",
        "lst.append([4,5,6])\n",
        "lst"
      ],
      "metadata": {
        "colab": {
          "base_uri": "https://localhost:8080/"
        },
        "id": "_bGiA8H6tpbF",
        "outputId": "714076a0-0a18-4195-be53-13c2e9f71651"
      },
      "execution_count": 119,
      "outputs": [
        {
          "output_type": "execute_result",
          "data": {
            "text/plain": [
              "[1, 2, 3, [4, 5, 6]]"
            ]
          },
          "metadata": {},
          "execution_count": 119
        }
      ]
    },
    {
      "cell_type": "markdown",
      "source": [
        "- insert()\n",
        "    - 인덱스 위치에 값을 추가한다.\n",
        "    "
      ],
      "metadata": {
        "id": "fnDJM5W3tvJo"
      }
    },
    {
      "cell_type": "code",
      "source": [
        "lst = [1,2,3]\n",
        "lst.insert(0,9)\n",
        "lst"
      ],
      "metadata": {
        "colab": {
          "base_uri": "https://localhost:8080/"
        },
        "id": "DC35TZUBuAes",
        "outputId": "537ac134-649c-40d6-f108-93bfcbad228c"
      },
      "execution_count": 121,
      "outputs": [
        {
          "output_type": "execute_result",
          "data": {
            "text/plain": [
              "[9, 1, 2, 3]"
            ]
          },
          "metadata": {},
          "execution_count": 121
        }
      ]
    },
    {
      "cell_type": "markdown",
      "source": [
        "- remove()\n",
        "    - 리스트에서 값을 찾아 삭제한다."
      ],
      "metadata": {
        "id": "0SmXEEUduNwF"
      }
    },
    {
      "cell_type": "code",
      "source": [
        "lst = [10,20,30]\n",
        "lst.remove(20)\n",
        "lst"
      ],
      "metadata": {
        "colab": {
          "base_uri": "https://localhost:8080/"
        },
        "id": "lyL4uygGuZ0z",
        "outputId": "c957fc54-8729-4e5a-c86d-9a787c1fe907"
      },
      "execution_count": 122,
      "outputs": [
        {
          "output_type": "execute_result",
          "data": {
            "text/plain": [
              "[10, 30]"
            ]
          },
          "metadata": {},
          "execution_count": 122
        }
      ]
    },
    {
      "cell_type": "markdown",
      "source": [
        " - del\n",
        "    - del 이라는 키워드를 사용하면 된다.\n",
        "    - 리스트에 경우 특정 인덱스 값을 삭제\n",
        "    - 메모리 관리할 때 편함"
      ],
      "metadata": {
        "id": "kX6fzDP7uhGb"
      }
    },
    {
      "cell_type": "code",
      "source": [
        "lst = [10,20,30]\n",
        "del lst[1]\n",
        "lst"
      ],
      "metadata": {
        "colab": {
          "base_uri": "https://localhost:8080/"
        },
        "id": "euLZ5q41u2s6",
        "outputId": "bd878470-dade-4281-a808-0550866ebd4e"
      },
      "execution_count": 124,
      "outputs": [
        {
          "output_type": "execute_result",
          "data": {
            "text/plain": [
              "[10, 30]"
            ]
          },
          "metadata": {},
          "execution_count": 124
        }
      ]
    },
    {
      "cell_type": "code",
      "source": [
        "a = 1004\n",
        "del a\n",
        "a"
      ],
      "metadata": {
        "colab": {
          "base_uri": "https://localhost:8080/",
          "height": 209
        },
        "id": "lj7VZYYKvAKA",
        "outputId": "a27ebaa3-23fa-4cc4-842b-225072ffd63c"
      },
      "execution_count": 125,
      "outputs": [
        {
          "output_type": "error",
          "ename": "NameError",
          "evalue": "ignored",
          "traceback": [
            "\u001b[0;31m---------------------------------------------------------------------------\u001b[0m",
            "\u001b[0;31mNameError\u001b[0m                                 Traceback (most recent call last)",
            "\u001b[0;32m<ipython-input-125-922dae9cc0b7>\u001b[0m in \u001b[0;36m<module>\u001b[0;34m()\u001b[0m\n\u001b[1;32m      1\u001b[0m \u001b[0ma\u001b[0m \u001b[0;34m=\u001b[0m \u001b[0;36m1004\u001b[0m\u001b[0;34m\u001b[0m\u001b[0;34m\u001b[0m\u001b[0m\n\u001b[1;32m      2\u001b[0m \u001b[0;32mdel\u001b[0m \u001b[0ma\u001b[0m\u001b[0;34m\u001b[0m\u001b[0;34m\u001b[0m\u001b[0m\n\u001b[0;32m----> 3\u001b[0;31m \u001b[0ma\u001b[0m\u001b[0;34m\u001b[0m\u001b[0;34m\u001b[0m\u001b[0m\n\u001b[0m",
            "\u001b[0;31mNameError\u001b[0m: name 'a' is not defined"
          ]
        }
      ]
    }
  ]
}