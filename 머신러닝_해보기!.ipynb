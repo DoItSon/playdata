{
  "cells": [
    {
      "cell_type": "markdown",
      "metadata": {
        "id": "view-in-github",
        "colab_type": "text"
      },
      "source": [
        "<a href=\"https://colab.research.google.com/github/DoItSon/playdata/blob/main/%EB%A8%B8%EC%8B%A0%EB%9F%AC%EB%8B%9D_%ED%95%B4%EB%B3%B4%EA%B8%B0!.ipynb\" target=\"_parent\"><img src=\"https://colab.research.google.com/assets/colab-badge.svg\" alt=\"Open In Colab\"/></a>"
      ]
    },
    {
      "cell_type": "markdown",
      "source": [
        "# 메모장\n",
        "- 0.8189379090413184 = 0.5\n",
        "- 0.8236173245493615 = 0.4\n",
        "- 0.8236625863676823 = 0.3\n",
        "- 0.8256464235755943 = 0.35\n",
        "\n",
        "- 0.823185924948775 머신러닝 결측치\n",
        "- 0.8247486240372479 내 결측치\n",
        "\n",
        "- 추후 베이지안 최저화를 통해 최적의 파라미터 찾기!"
      ],
      "metadata": {
        "id": "xX-n2cazCX3m"
      }
    },
    {
      "cell_type": "code",
      "execution_count": 727,
      "metadata": {
        "id": "YgdtIy8Nuorh"
      },
      "outputs": [],
      "source": [
        "import torch\n",
        "import torch.nn as nn\n",
        "import torch.nn.functional as F\n",
        "import torch.optim as optim\n",
        "from torch.utils.data import DataLoader, Dataset\n",
        "\n",
        "from sklearn.metrics import f1_score\n",
        "from sklearn.preprocessing import StandardScaler\n",
        "from sklearn.preprocessing import MinMaxScaler\n",
        "from sklearn.preprocessing import OneHotEncoder\n",
        "from sklearn.preprocessing import LabelEncoder\n",
        "from sklearn.model_selection import train_test_split\n",
        "\n",
        "import os\n",
        "import pandas as pd\n",
        "import numpy as np\n",
        "from tqdm.auto import tqdm\n",
        "import random\n",
        "\n",
        "import warnings\n",
        "warnings.filterwarnings(action='ignore') \n",
        "\n",
        "device = torch.device('cuda') if torch.cuda.is_available() else torch.device('cpu')"
      ]
    },
    {
      "cell_type": "code",
      "source": [
        "# !pip install optuna"
      ],
      "metadata": {
        "id": "SDjHDXlczZEC"
      },
      "execution_count": 728,
      "outputs": []
    },
    {
      "cell_type": "code",
      "execution_count": 729,
      "metadata": {
        "colab": {
          "base_uri": "https://localhost:8080/"
        },
        "id": "osqF88dHvWOz",
        "outputId": "ef9bbf68-0c87-4e98-a09f-ad5e363805a7"
      },
      "outputs": [
        {
          "output_type": "stream",
          "name": "stdout",
          "text": [
            "Drive already mounted at /content/drive; to attempt to forcibly remount, call drive.mount(\"/content/drive\", force_remount=True).\n"
          ]
        }
      ],
      "source": [
        "from google.colab import drive\n",
        "drive.mount('/content/drive')"
      ]
    },
    {
      "cell_type": "code",
      "execution_count": 730,
      "metadata": {
        "id": "bd8gPQ0mP0cU"
      },
      "outputs": [],
      "source": [
        "DATA_PATH = \"/content/drive/MyDrive/\""
      ]
    },
    {
      "cell_type": "code",
      "execution_count": 731,
      "metadata": {
        "id": "TU7N5vbvuq-z"
      },
      "outputs": [],
      "source": [
        "train = pd.read_csv(f'{DATA_PATH}train.csv')\n",
        "test = pd.read_csv(f'{DATA_PATH}test.csv')"
      ]
    },
    {
      "cell_type": "code",
      "execution_count": 732,
      "metadata": {
        "id": "r7SdMupLqn1U"
      },
      "outputs": [],
      "source": [
        "categorical_features_enc = ['COMPONENT_ARBITRARY_COMPONENT1',\n",
        "       'COMPONENT_ARBITRARY_COMPONENT2', 'COMPONENT_ARBITRARY_COMPONENT3',\n",
        "       'COMPONENT_ARBITRARY_COMPONENT4', 'YEAR_2007', 'YEAR_2008', 'YEAR_2009',\n",
        "       'YEAR_2010', 'YEAR_2011', 'YEAR_2012', 'YEAR_2013', 'YEAR_2014',\n",
        "       'YEAR_2015', 'YEAR_2016', 'YEAR_2017', 'YEAR_2018', 'YEAR_2019',\n",
        "       'YEAR_2020', 'YEAR_2021', 'YEAR_2022']\n",
        "# Inference(실제 진단 환경)에 사용하는 컬럼\n",
        "test_stage_features_enc = ['ANONYMOUS_1', 'SAMPLE_TRANSFER_DAY', 'ANONYMOUS_2', 'AG', 'AL', 'B',\n",
        "       'BA', 'BE', 'CA', 'CO', 'CR', 'CU', 'FE', 'H2O', 'LI', 'MG', 'MN', 'MO',\n",
        "       'NA', 'NI', 'P', 'PB', 'PQINDEX', 'S', 'SB', 'SI', 'SN', 'TI', 'V',\n",
        "       'V40', 'ZN', 'CD', 'FH2O', 'FNOX', 'FOPTIMETHGLY', 'FOXID', 'FSO4',\n",
        "       'FTBN', 'FUEL', 'K', 'SOOTPERCENTAGE', 'U100', 'U75', 'U50', 'U25',\n",
        "       'U20', 'U14', 'U6', 'U4', 'V100', 'COMPONENT_ARBITRARY_COMPONENT1',\n",
        "       'COMPONENT_ARBITRARY_COMPONENT2', 'COMPONENT_ARBITRARY_COMPONENT3',\n",
        "       'COMPONENT_ARBITRARY_COMPONENT4', 'YEAR_2007', 'YEAR_2008', 'YEAR_2009',\n",
        "       'YEAR_2010', 'YEAR_2011', 'YEAR_2012', 'YEAR_2013', 'YEAR_2014',\n",
        "       'YEAR_2015', 'YEAR_2016', 'YEAR_2017', 'YEAR_2018', 'YEAR_2019',\n",
        "       'YEAR_2020', 'YEAR_2021', 'YEAR_2022']"
      ]
    },
    {
      "cell_type": "markdown",
      "metadata": {
        "id": "fT4y7j-0eFEK"
      },
      "source": [
        "## 전처리"
      ]
    },
    {
      "cell_type": "code",
      "execution_count": 733,
      "metadata": {
        "id": "O2iEPN40kGVy"
      },
      "outputs": [],
      "source": [
        "import pandas as pd\n",
        "import numpy as np\n",
        "import matplotlib.pyplot as plt\n",
        "from tqdm.auto import tqdm\n",
        "\n",
        "from sklearn.preprocessing import MinMaxScaler\n",
        "from sklearn.model_selection import KFold\n",
        "from sklearn.model_selection import cross_val_score\n",
        "from sklearn.metrics import f1_score\n",
        "from sklearn.feature_selection import SelectPercentile\n",
        "\n",
        "from sklearn.linear_model import LogisticRegression\n",
        "from sklearn.ensemble import RandomForestClassifier\n",
        "from sklearn.neural_network import MLPClassifier\n",
        "from lightgbm import LGBMClassifier\n",
        "from xgboost import XGBClassifier\n",
        "\n",
        "from sklearn.experimental import enable_iterative_imputer\n",
        "from sklearn.impute import IterativeImputer"
      ]
    },
    {
      "cell_type": "code",
      "source": [
        "SEED = 42"
      ],
      "metadata": {
        "id": "cuVl-N5cvnXH"
      },
      "execution_count": 734,
      "outputs": []
    },
    {
      "cell_type": "markdown",
      "source": [
        "- 내가 직접한 결측치"
      ],
      "metadata": {
        "id": "6WjsBSRfLQ09"
      }
    },
    {
      "cell_type": "code",
      "source": [
        "# fill_mean_func = lambda x: x.fillna(x.median())\n",
        "# zx = train.groupby([\"SAMPLE_TRANSFER_DAY\",\"COMPONENT_ARBITRARY\"]).apply(fill_mean_func)\n",
        "# xc = zx.groupby([\"ANONYMOUS_2\",\"YEAR\"]).apply(fill_mean_func)\n",
        "\n",
        "# xc1 = xc.groupby([\"ANONYMOUS_1\",\"ANONYMOUS_2\"]).apply(fill_mean_func)\n",
        "# feat = pd.DataFrame(train[\"ID\"].unique(),columns = [\"ID\"])\n",
        "\n",
        "# xc2 = xc1.groupby([\"MO\"]).apply(fill_mean_func)\n",
        "# features = feat.merge(xc2,how=\"left\",on=\"ID\")\n",
        "\n",
        "# train = features"
      ],
      "metadata": {
        "id": "BuKxWVPfTBge"
      },
      "execution_count": 735,
      "outputs": []
    },
    {
      "cell_type": "code",
      "source": [
        "# train.isnull().sum()"
      ],
      "metadata": {
        "id": "HLpDU3FATBdU"
      },
      "execution_count": 736,
      "outputs": []
    },
    {
      "cell_type": "markdown",
      "source": [
        "- 머신러닝 결측치"
      ],
      "metadata": {
        "id": "cOm4QIX7I6gX"
      }
    },
    {
      "cell_type": "code",
      "execution_count": 737,
      "metadata": {
        "id": "aiEBaRESeDlZ"
      },
      "outputs": [],
      "source": [
        "# col_lst2 = [\"CD\",\"FH2O\",\"FNOX\",\"FOPTIMETHGLY\",\"FOXID\",\"FSO4\",\"FTBN\",\"FUEL\",\"K\",\"SOOTPERCENTAGE\",\"U100\",\"U75\",\"U50\",\"U25\",\"U20\",\"U14\",\"U6\",\"U4\",\"V100\"]"
      ]
    },
    {
      "cell_type": "code",
      "execution_count": 738,
      "metadata": {
        "id": "C5xdzC63kHKq"
      },
      "outputs": [],
      "source": [
        "# imputer = IterativeImputer(estimator =  GradientBoostingRegressor(),random_state=42)\n",
        "# tmp = imputer.fit_transform(train[col_lst2])"
      ]
    },
    {
      "cell_type": "code",
      "execution_count": 740,
      "metadata": {
        "id": "tnz-hq9RkHNQ"
      },
      "outputs": [],
      "source": [
        "# x2 = pd.DataFrame(tmp,columns=col_lst2)\n",
        "# train = train.drop(columns=col_lst2)\n",
        "# train = pd.concat([train,x2],axis=1)\n",
        "# train"
      ]
    },
    {
      "cell_type": "code",
      "execution_count": 743,
      "metadata": {
        "id": "xIFnfDIvsndj"
      },
      "outputs": [],
      "source": [
        "train = train.fillna(0)\n",
        "test = test.fillna(0)"
      ]
    },
    {
      "cell_type": "code",
      "source": [
        "train.isnull().sum().sum()"
      ],
      "metadata": {
        "id": "Is-5iawtEHtd"
      },
      "execution_count": null,
      "outputs": []
    },
    {
      "cell_type": "markdown",
      "metadata": {
        "id": "c0FYDiuNkBDB"
      },
      "source": [
        "## 데이터 분리"
      ]
    },
    {
      "cell_type": "code",
      "execution_count": 744,
      "metadata": {
        "id": "nOUgB80dyqAj"
      },
      "outputs": [],
      "source": [
        "train_X  = train.drop(['ID', 'Y_LABEL'], axis = 1) # 정답값 제외\n",
        "target  = train['Y_LABEL'] # 정답\n",
        "\n",
        "test = test.drop(['ID'], axis = 1) # 추론 데이터"
      ]
    },
    {
      "cell_type": "code",
      "execution_count": 745,
      "metadata": {
        "colab": {
          "base_uri": "https://localhost:8080/",
          "height": 488
        },
        "id": "G9V_uWQ5au_4",
        "outputId": "4ad1f9f0-94a3-40e8-cfff-6fd8f39541ee"
      },
      "outputs": [
        {
          "output_type": "execute_result",
          "data": {
            "text/plain": [
              "      COMPONENT_ARBITRARY  ANONYMOUS_1  YEAR  SAMPLE_TRANSFER_DAY  \\\n",
              "0              COMPONENT3         1486  2011                    7   \n",
              "1              COMPONENT2         1350  2021                   51   \n",
              "2              COMPONENT2         2415  2015                    2   \n",
              "3              COMPONENT3         7389  2010                    2   \n",
              "4              COMPONENT3         3954  2015                    4   \n",
              "...                   ...          ...   ...                  ...   \n",
              "14090          COMPONENT3         1616  2014                    8   \n",
              "14091          COMPONENT1         2784  2013                    2   \n",
              "14092          COMPONENT3         1788  2008                    9   \n",
              "14093          COMPONENT2         2498  2009                   19   \n",
              "14094          COMPONENT2         1902  2012                   15   \n",
              "\n",
              "       ANONYMOUS_2  AG   AL    B  BA  BE  ...  U50     U25     U20      U14  \\\n",
              "0              200   0    3   93   0   0  ...  0.0     0.0     0.0      0.0   \n",
              "1              375   0    2   19   0   0  ...  1.0     2.0     4.0      6.0   \n",
              "2              200   0  110    1   1   0  ...  0.0     0.0     3.0     39.0   \n",
              "3              200   0    8    3   0   0  ...  0.0     0.0     0.0      0.0   \n",
              "4              200   0    1  157   0   0  ...  0.0     0.0     0.0      0.0   \n",
              "...            ...  ..  ...  ...  ..  ..  ...  ...     ...     ...      ...   \n",
              "14090          200   0    2  201   1   0  ...  0.0     0.0     0.0      0.0   \n",
              "14091          200   0    3   85   0   0  ...  0.0     0.0     0.0      0.0   \n",
              "14092          550   0    6    0   1   0  ...  0.0     0.0     0.0      0.0   \n",
              "14093          550   0    2    4   0   0  ...  0.0     7.0     8.0    100.0   \n",
              "14094          200   0    0   77   0   0  ...  0.0  1163.0  2565.0  11296.0   \n",
              "\n",
              "             U6        U4  V  V100    V40    ZN  \n",
              "0           0.0       0.0  0   0.0  154.0    75  \n",
              "1         216.0    1454.0  0   0.0   44.0   652  \n",
              "2       11261.0   41081.0  0   0.0   72.6   412  \n",
              "3           0.0       0.0  0   0.0  133.3     7  \n",
              "4           0.0       0.0  0   0.0  133.1   128  \n",
              "...         ...       ... ..   ...    ...   ...  \n",
              "14090       0.0       0.0  0   0.0  135.4    16  \n",
              "14091       0.0       0.0  0  14.5  117.5  1408  \n",
              "14092       0.0       0.0  0   0.0   54.0  1301  \n",
              "14093    1625.0   18890.0  0   0.0   44.3   652  \n",
              "14094  181016.0  325823.0  0   0.0   47.0   612  \n",
              "\n",
              "[14095 rows x 52 columns]"
            ],
            "text/html": [
              "\n",
              "  <div id=\"df-60670efb-250e-44cd-a94d-9a899e90712b\">\n",
              "    <div class=\"colab-df-container\">\n",
              "      <div>\n",
              "<style scoped>\n",
              "    .dataframe tbody tr th:only-of-type {\n",
              "        vertical-align: middle;\n",
              "    }\n",
              "\n",
              "    .dataframe tbody tr th {\n",
              "        vertical-align: top;\n",
              "    }\n",
              "\n",
              "    .dataframe thead th {\n",
              "        text-align: right;\n",
              "    }\n",
              "</style>\n",
              "<table border=\"1\" class=\"dataframe\">\n",
              "  <thead>\n",
              "    <tr style=\"text-align: right;\">\n",
              "      <th></th>\n",
              "      <th>COMPONENT_ARBITRARY</th>\n",
              "      <th>ANONYMOUS_1</th>\n",
              "      <th>YEAR</th>\n",
              "      <th>SAMPLE_TRANSFER_DAY</th>\n",
              "      <th>ANONYMOUS_2</th>\n",
              "      <th>AG</th>\n",
              "      <th>AL</th>\n",
              "      <th>B</th>\n",
              "      <th>BA</th>\n",
              "      <th>BE</th>\n",
              "      <th>...</th>\n",
              "      <th>U50</th>\n",
              "      <th>U25</th>\n",
              "      <th>U20</th>\n",
              "      <th>U14</th>\n",
              "      <th>U6</th>\n",
              "      <th>U4</th>\n",
              "      <th>V</th>\n",
              "      <th>V100</th>\n",
              "      <th>V40</th>\n",
              "      <th>ZN</th>\n",
              "    </tr>\n",
              "  </thead>\n",
              "  <tbody>\n",
              "    <tr>\n",
              "      <th>0</th>\n",
              "      <td>COMPONENT3</td>\n",
              "      <td>1486</td>\n",
              "      <td>2011</td>\n",
              "      <td>7</td>\n",
              "      <td>200</td>\n",
              "      <td>0</td>\n",
              "      <td>3</td>\n",
              "      <td>93</td>\n",
              "      <td>0</td>\n",
              "      <td>0</td>\n",
              "      <td>...</td>\n",
              "      <td>0.0</td>\n",
              "      <td>0.0</td>\n",
              "      <td>0.0</td>\n",
              "      <td>0.0</td>\n",
              "      <td>0.0</td>\n",
              "      <td>0.0</td>\n",
              "      <td>0</td>\n",
              "      <td>0.0</td>\n",
              "      <td>154.0</td>\n",
              "      <td>75</td>\n",
              "    </tr>\n",
              "    <tr>\n",
              "      <th>1</th>\n",
              "      <td>COMPONENT2</td>\n",
              "      <td>1350</td>\n",
              "      <td>2021</td>\n",
              "      <td>51</td>\n",
              "      <td>375</td>\n",
              "      <td>0</td>\n",
              "      <td>2</td>\n",
              "      <td>19</td>\n",
              "      <td>0</td>\n",
              "      <td>0</td>\n",
              "      <td>...</td>\n",
              "      <td>1.0</td>\n",
              "      <td>2.0</td>\n",
              "      <td>4.0</td>\n",
              "      <td>6.0</td>\n",
              "      <td>216.0</td>\n",
              "      <td>1454.0</td>\n",
              "      <td>0</td>\n",
              "      <td>0.0</td>\n",
              "      <td>44.0</td>\n",
              "      <td>652</td>\n",
              "    </tr>\n",
              "    <tr>\n",
              "      <th>2</th>\n",
              "      <td>COMPONENT2</td>\n",
              "      <td>2415</td>\n",
              "      <td>2015</td>\n",
              "      <td>2</td>\n",
              "      <td>200</td>\n",
              "      <td>0</td>\n",
              "      <td>110</td>\n",
              "      <td>1</td>\n",
              "      <td>1</td>\n",
              "      <td>0</td>\n",
              "      <td>...</td>\n",
              "      <td>0.0</td>\n",
              "      <td>0.0</td>\n",
              "      <td>3.0</td>\n",
              "      <td>39.0</td>\n",
              "      <td>11261.0</td>\n",
              "      <td>41081.0</td>\n",
              "      <td>0</td>\n",
              "      <td>0.0</td>\n",
              "      <td>72.6</td>\n",
              "      <td>412</td>\n",
              "    </tr>\n",
              "    <tr>\n",
              "      <th>3</th>\n",
              "      <td>COMPONENT3</td>\n",
              "      <td>7389</td>\n",
              "      <td>2010</td>\n",
              "      <td>2</td>\n",
              "      <td>200</td>\n",
              "      <td>0</td>\n",
              "      <td>8</td>\n",
              "      <td>3</td>\n",
              "      <td>0</td>\n",
              "      <td>0</td>\n",
              "      <td>...</td>\n",
              "      <td>0.0</td>\n",
              "      <td>0.0</td>\n",
              "      <td>0.0</td>\n",
              "      <td>0.0</td>\n",
              "      <td>0.0</td>\n",
              "      <td>0.0</td>\n",
              "      <td>0</td>\n",
              "      <td>0.0</td>\n",
              "      <td>133.3</td>\n",
              "      <td>7</td>\n",
              "    </tr>\n",
              "    <tr>\n",
              "      <th>4</th>\n",
              "      <td>COMPONENT3</td>\n",
              "      <td>3954</td>\n",
              "      <td>2015</td>\n",
              "      <td>4</td>\n",
              "      <td>200</td>\n",
              "      <td>0</td>\n",
              "      <td>1</td>\n",
              "      <td>157</td>\n",
              "      <td>0</td>\n",
              "      <td>0</td>\n",
              "      <td>...</td>\n",
              "      <td>0.0</td>\n",
              "      <td>0.0</td>\n",
              "      <td>0.0</td>\n",
              "      <td>0.0</td>\n",
              "      <td>0.0</td>\n",
              "      <td>0.0</td>\n",
              "      <td>0</td>\n",
              "      <td>0.0</td>\n",
              "      <td>133.1</td>\n",
              "      <td>128</td>\n",
              "    </tr>\n",
              "    <tr>\n",
              "      <th>...</th>\n",
              "      <td>...</td>\n",
              "      <td>...</td>\n",
              "      <td>...</td>\n",
              "      <td>...</td>\n",
              "      <td>...</td>\n",
              "      <td>...</td>\n",
              "      <td>...</td>\n",
              "      <td>...</td>\n",
              "      <td>...</td>\n",
              "      <td>...</td>\n",
              "      <td>...</td>\n",
              "      <td>...</td>\n",
              "      <td>...</td>\n",
              "      <td>...</td>\n",
              "      <td>...</td>\n",
              "      <td>...</td>\n",
              "      <td>...</td>\n",
              "      <td>...</td>\n",
              "      <td>...</td>\n",
              "      <td>...</td>\n",
              "      <td>...</td>\n",
              "    </tr>\n",
              "    <tr>\n",
              "      <th>14090</th>\n",
              "      <td>COMPONENT3</td>\n",
              "      <td>1616</td>\n",
              "      <td>2014</td>\n",
              "      <td>8</td>\n",
              "      <td>200</td>\n",
              "      <td>0</td>\n",
              "      <td>2</td>\n",
              "      <td>201</td>\n",
              "      <td>1</td>\n",
              "      <td>0</td>\n",
              "      <td>...</td>\n",
              "      <td>0.0</td>\n",
              "      <td>0.0</td>\n",
              "      <td>0.0</td>\n",
              "      <td>0.0</td>\n",
              "      <td>0.0</td>\n",
              "      <td>0.0</td>\n",
              "      <td>0</td>\n",
              "      <td>0.0</td>\n",
              "      <td>135.4</td>\n",
              "      <td>16</td>\n",
              "    </tr>\n",
              "    <tr>\n",
              "      <th>14091</th>\n",
              "      <td>COMPONENT1</td>\n",
              "      <td>2784</td>\n",
              "      <td>2013</td>\n",
              "      <td>2</td>\n",
              "      <td>200</td>\n",
              "      <td>0</td>\n",
              "      <td>3</td>\n",
              "      <td>85</td>\n",
              "      <td>0</td>\n",
              "      <td>0</td>\n",
              "      <td>...</td>\n",
              "      <td>0.0</td>\n",
              "      <td>0.0</td>\n",
              "      <td>0.0</td>\n",
              "      <td>0.0</td>\n",
              "      <td>0.0</td>\n",
              "      <td>0.0</td>\n",
              "      <td>0</td>\n",
              "      <td>14.5</td>\n",
              "      <td>117.5</td>\n",
              "      <td>1408</td>\n",
              "    </tr>\n",
              "    <tr>\n",
              "      <th>14092</th>\n",
              "      <td>COMPONENT3</td>\n",
              "      <td>1788</td>\n",
              "      <td>2008</td>\n",
              "      <td>9</td>\n",
              "      <td>550</td>\n",
              "      <td>0</td>\n",
              "      <td>6</td>\n",
              "      <td>0</td>\n",
              "      <td>1</td>\n",
              "      <td>0</td>\n",
              "      <td>...</td>\n",
              "      <td>0.0</td>\n",
              "      <td>0.0</td>\n",
              "      <td>0.0</td>\n",
              "      <td>0.0</td>\n",
              "      <td>0.0</td>\n",
              "      <td>0.0</td>\n",
              "      <td>0</td>\n",
              "      <td>0.0</td>\n",
              "      <td>54.0</td>\n",
              "      <td>1301</td>\n",
              "    </tr>\n",
              "    <tr>\n",
              "      <th>14093</th>\n",
              "      <td>COMPONENT2</td>\n",
              "      <td>2498</td>\n",
              "      <td>2009</td>\n",
              "      <td>19</td>\n",
              "      <td>550</td>\n",
              "      <td>0</td>\n",
              "      <td>2</td>\n",
              "      <td>4</td>\n",
              "      <td>0</td>\n",
              "      <td>0</td>\n",
              "      <td>...</td>\n",
              "      <td>0.0</td>\n",
              "      <td>7.0</td>\n",
              "      <td>8.0</td>\n",
              "      <td>100.0</td>\n",
              "      <td>1625.0</td>\n",
              "      <td>18890.0</td>\n",
              "      <td>0</td>\n",
              "      <td>0.0</td>\n",
              "      <td>44.3</td>\n",
              "      <td>652</td>\n",
              "    </tr>\n",
              "    <tr>\n",
              "      <th>14094</th>\n",
              "      <td>COMPONENT2</td>\n",
              "      <td>1902</td>\n",
              "      <td>2012</td>\n",
              "      <td>15</td>\n",
              "      <td>200</td>\n",
              "      <td>0</td>\n",
              "      <td>0</td>\n",
              "      <td>77</td>\n",
              "      <td>0</td>\n",
              "      <td>0</td>\n",
              "      <td>...</td>\n",
              "      <td>0.0</td>\n",
              "      <td>1163.0</td>\n",
              "      <td>2565.0</td>\n",
              "      <td>11296.0</td>\n",
              "      <td>181016.0</td>\n",
              "      <td>325823.0</td>\n",
              "      <td>0</td>\n",
              "      <td>0.0</td>\n",
              "      <td>47.0</td>\n",
              "      <td>612</td>\n",
              "    </tr>\n",
              "  </tbody>\n",
              "</table>\n",
              "<p>14095 rows × 52 columns</p>\n",
              "</div>\n",
              "      <button class=\"colab-df-convert\" onclick=\"convertToInteractive('df-60670efb-250e-44cd-a94d-9a899e90712b')\"\n",
              "              title=\"Convert this dataframe to an interactive table.\"\n",
              "              style=\"display:none;\">\n",
              "        \n",
              "  <svg xmlns=\"http://www.w3.org/2000/svg\" height=\"24px\"viewBox=\"0 0 24 24\"\n",
              "       width=\"24px\">\n",
              "    <path d=\"M0 0h24v24H0V0z\" fill=\"none\"/>\n",
              "    <path d=\"M18.56 5.44l.94 2.06.94-2.06 2.06-.94-2.06-.94-.94-2.06-.94 2.06-2.06.94zm-11 1L8.5 8.5l.94-2.06 2.06-.94-2.06-.94L8.5 2.5l-.94 2.06-2.06.94zm10 10l.94 2.06.94-2.06 2.06-.94-2.06-.94-.94-2.06-.94 2.06-2.06.94z\"/><path d=\"M17.41 7.96l-1.37-1.37c-.4-.4-.92-.59-1.43-.59-.52 0-1.04.2-1.43.59L10.3 9.45l-7.72 7.72c-.78.78-.78 2.05 0 2.83L4 21.41c.39.39.9.59 1.41.59.51 0 1.02-.2 1.41-.59l7.78-7.78 2.81-2.81c.8-.78.8-2.07 0-2.86zM5.41 20L4 18.59l7.72-7.72 1.47 1.35L5.41 20z\"/>\n",
              "  </svg>\n",
              "      </button>\n",
              "      \n",
              "  <style>\n",
              "    .colab-df-container {\n",
              "      display:flex;\n",
              "      flex-wrap:wrap;\n",
              "      gap: 12px;\n",
              "    }\n",
              "\n",
              "    .colab-df-convert {\n",
              "      background-color: #E8F0FE;\n",
              "      border: none;\n",
              "      border-radius: 50%;\n",
              "      cursor: pointer;\n",
              "      display: none;\n",
              "      fill: #1967D2;\n",
              "      height: 32px;\n",
              "      padding: 0 0 0 0;\n",
              "      width: 32px;\n",
              "    }\n",
              "\n",
              "    .colab-df-convert:hover {\n",
              "      background-color: #E2EBFA;\n",
              "      box-shadow: 0px 1px 2px rgba(60, 64, 67, 0.3), 0px 1px 3px 1px rgba(60, 64, 67, 0.15);\n",
              "      fill: #174EA6;\n",
              "    }\n",
              "\n",
              "    [theme=dark] .colab-df-convert {\n",
              "      background-color: #3B4455;\n",
              "      fill: #D2E3FC;\n",
              "    }\n",
              "\n",
              "    [theme=dark] .colab-df-convert:hover {\n",
              "      background-color: #434B5C;\n",
              "      box-shadow: 0px 1px 3px 1px rgba(0, 0, 0, 0.15);\n",
              "      filter: drop-shadow(0px 1px 2px rgba(0, 0, 0, 0.3));\n",
              "      fill: #FFFFFF;\n",
              "    }\n",
              "  </style>\n",
              "\n",
              "      <script>\n",
              "        const buttonEl =\n",
              "          document.querySelector('#df-60670efb-250e-44cd-a94d-9a899e90712b button.colab-df-convert');\n",
              "        buttonEl.style.display =\n",
              "          google.colab.kernel.accessAllowed ? 'block' : 'none';\n",
              "\n",
              "        async function convertToInteractive(key) {\n",
              "          const element = document.querySelector('#df-60670efb-250e-44cd-a94d-9a899e90712b');\n",
              "          const dataTable =\n",
              "            await google.colab.kernel.invokeFunction('convertToInteractive',\n",
              "                                                     [key], {});\n",
              "          if (!dataTable) return;\n",
              "\n",
              "          const docLinkHtml = 'Like what you see? Visit the ' +\n",
              "            '<a target=\"_blank\" href=https://colab.research.google.com/notebooks/data_table.ipynb>data table notebook</a>'\n",
              "            + ' to learn more about interactive tables.';\n",
              "          element.innerHTML = '';\n",
              "          dataTable['output_type'] = 'display_data';\n",
              "          await google.colab.output.renderOutput(dataTable, element);\n",
              "          const docLink = document.createElement('div');\n",
              "          docLink.innerHTML = docLinkHtml;\n",
              "          element.appendChild(docLink);\n",
              "        }\n",
              "      </script>\n",
              "    </div>\n",
              "  </div>\n",
              "  "
            ]
          },
          "metadata": {},
          "execution_count": 745
        }
      ],
      "source": [
        "train_X"
      ]
    },
    {
      "cell_type": "markdown",
      "metadata": {
        "id": "svkt974ldhYk"
      },
      "source": [
        "# 원핫인코딩"
      ]
    },
    {
      "cell_type": "code",
      "execution_count": 746,
      "metadata": {
        "id": "aL9eF8gkU_rC"
      },
      "outputs": [],
      "source": [
        "enc = OneHotEncoder()\n",
        "\n",
        "tmp = pd.DataFrame(\n",
        "    enc.fit_transform(train_X[[\"COMPONENT_ARBITRARY\",'YEAR']]).toarray(),\n",
        "    columns = enc.get_feature_names_out()\n",
        ")\n",
        "train_X = pd.concat([train_X,tmp],axis=1).drop(columns = [\"COMPONENT_ARBITRARY\",'YEAR'])\n",
        "\n",
        "tmp1 = pd.DataFrame(\n",
        "    enc.transform(test[[\"COMPONENT_ARBITRARY\",'YEAR']]).toarray(),\n",
        "    columns = enc.get_feature_names_out()\n",
        ")\n",
        "test = pd.concat([test,tmp1],axis=1).drop(columns = [\"COMPONENT_ARBITRARY\",'YEAR'])"
      ]
    },
    {
      "cell_type": "code",
      "execution_count": 747,
      "metadata": {
        "colab": {
          "base_uri": "https://localhost:8080/"
        },
        "id": "d-6dOU_qdUki",
        "outputId": "9468f125-22b3-42bf-cfd4-f7e42b369a3b"
      },
      "outputs": [
        {
          "output_type": "execute_result",
          "data": {
            "text/plain": [
              "((14095, 70), (14095,), (6041, 36))"
            ]
          },
          "metadata": {},
          "execution_count": 747
        }
      ],
      "source": [
        "train_X.shape,target.shape,test.shape"
      ]
    },
    {
      "cell_type": "markdown",
      "metadata": {
        "id": "ne57xpNZdoIf"
      },
      "source": [
        "# 스케일링"
      ]
    },
    {
      "cell_type": "code",
      "execution_count": 749,
      "metadata": {
        "id": "uBVpIfnBlG6a"
      },
      "outputs": [],
      "source": [
        "def get_values(value):\n",
        "    return value.values.reshape(-1, 1)\n",
        "\n",
        "for col in train_X.columns:\n",
        "    if col not in categorical_features_enc:\n",
        "        scaler = StandardScaler()\n",
        "        train_X[col] = scaler.fit_transform(get_values(train_X[col]))\n",
        "        if col in test.columns:\n",
        "            test[col] = scaler.transform(get_values(test[col]))"
      ]
    },
    {
      "cell_type": "markdown",
      "source": [
        "## Classifier"
      ],
      "metadata": {
        "id": "KmiXvzi9Cjp9"
      }
    },
    {
      "cell_type": "code",
      "source": [
        "import lightgbm as lgb\n",
        "from sklearn.metrics import f1_score\n",
        "from sklearn.model_selection import KFold\n",
        "from sklearn.model_selection import cross_val_score\n",
        "import optuna"
      ],
      "metadata": {
        "id": "FsgyiUns--BW"
      },
      "execution_count": 750,
      "outputs": []
    },
    {
      "cell_type": "code",
      "source": [],
      "metadata": {
        "id": "2Wi2Y3LzNEip"
      },
      "execution_count": null,
      "outputs": []
    },
    {
      "cell_type": "code",
      "source": [
        "def objective_1(trial):\n",
        "    hp = {\n",
        "        \"max_depth\" : trial.suggest_int(\"max_depth\",2,15), # 찾을 범위의 최소값과 최대값\n",
        "        \"min_samples_split\" : trial.suggest_int(\"min_samples_split\",2,10),\n",
        "        \"criterion\" : trial.suggest_categorical(\"criterion\",[\"gini\",\"entropy\"]),\n",
        "        \"max_leaf_nodes\" : trial.suggest_int(\"max_leaf_nodes\",5,10),\n",
        "        \"n_estimators\" : trial.suggest_int(\"n_estimators\",10,500),\n",
        "        \"learning_rate\" : trial.suggest_float(\"learning_rate\",0.01,0.1)\n",
        "    }\n",
        "    cv = KFold(n_splits=5,shuffle=True,random_state=SEED) # SEED 함수내부에서 전역변수 사용 (이렇게하면 안됨!)\n",
        "    model = LGBMClassifier(random_state=SEED,**hp)\n",
        "\n",
        "    scores = cross_val_score(model, train_X, target, cv = cv, scoring=\"f1_macro\") \n",
        "    return np.mean(scores)"
      ],
      "metadata": {
        "id": "BhBF2kbDMcft"
      },
      "execution_count": 825,
      "outputs": []
    },
    {
      "cell_type": "code",
      "source": [
        "sampler = optuna.samplers.TPESampler(seed = SEED) \n",
        "\n",
        "study_1 = optuna.create_study(\n",
        "    direction= \"maximize\", \n",
        "    sampler = sampler\n",
        ")\n",
        "\n",
        "study_1.optimize(objective_1,n_trials=50)"
      ],
      "metadata": {
        "id": "hvqQZVMxMcdR",
        "colab": {
          "base_uri": "https://localhost:8080/"
        },
        "outputId": "c3bd72a1-6502-4341-c6e0-b7cb16b938ba"
      },
      "execution_count": 826,
      "outputs": [
        {
          "output_type": "stream",
          "name": "stderr",
          "text": [
            "\u001b[32m[I 2022-11-22 07:18:59,467]\u001b[0m A new study created in memory with name: no-name-30f038c1-50e0-446d-89ee-6a77097be5ce\u001b[0m\n",
            "\u001b[32m[I 2022-11-22 07:19:03,789]\u001b[0m Trial 0 finished with value: 0.8100299654745882 and parameters: {'max_depth': 7, 'min_samples_split': 10, 'criterion': 'gini', 'max_leaf_nodes': 5, 'n_estimators': 86, 'learning_rate': 0.015227525095137952}. Best is trial 0 with value: 0.8100299654745882.\u001b[0m\n",
            "\u001b[32m[I 2022-11-22 07:19:25,204]\u001b[0m Trial 1 finished with value: 0.8199376913720652 and parameters: {'max_depth': 14, 'min_samples_split': 7, 'criterion': 'gini', 'max_leaf_nodes': 10, 'n_estimators': 418, 'learning_rate': 0.029110519961044856}. Best is trial 1 with value: 0.8199376913720652.\u001b[0m\n",
            "\u001b[32m[I 2022-11-22 07:19:29,206]\u001b[0m Trial 2 finished with value: 0.8183271443863432 and parameters: {'max_depth': 4, 'min_samples_split': 3, 'criterion': 'entropy', 'max_leaf_nodes': 7, 'n_estimators': 152, 'learning_rate': 0.06506676052501416}. Best is trial 1 with value: 0.8199376913720652.\u001b[0m\n",
            "\u001b[32m[I 2022-11-22 07:19:31,813]\u001b[0m Trial 3 finished with value: 0.8168585053844002 and parameters: {'max_depth': 3, 'min_samples_split': 4, 'criterion': 'entropy', 'max_leaf_nodes': 9, 'n_estimators': 108, 'learning_rate': 0.05628109945722505}. Best is trial 1 with value: 0.8199376913720652.\u001b[0m\n",
            "\u001b[32m[I 2022-11-22 07:19:51,122]\u001b[0m Trial 4 finished with value: 0.8206866097147417 and parameters: {'max_depth': 10, 'min_samples_split': 2, 'criterion': 'gini', 'max_leaf_nodes': 5, 'n_estimators': 475, 'learning_rate': 0.09690688297671035}. Best is trial 4 with value: 0.8206866097147417.\u001b[0m\n",
            "\u001b[32m[I 2022-11-22 07:19:54,920]\u001b[0m Trial 5 finished with value: 0.8179811162707387 and parameters: {'max_depth': 13, 'min_samples_split': 4, 'criterion': 'entropy', 'max_leaf_nodes': 7, 'n_estimators': 69, 'learning_rate': 0.054565921910014324}. Best is trial 4 with value: 0.8206866097147417.\u001b[0m\n",
            "\u001b[32m[I 2022-11-22 07:19:59,158]\u001b[0m Trial 6 finished with value: 0.8125491549490487 and parameters: {'max_depth': 2, 'min_samples_split': 10, 'criterion': 'entropy', 'max_leaf_nodes': 6, 'n_estimators': 265, 'learning_rate': 0.059203925140895175}. Best is trial 4 with value: 0.8206866097147417.\u001b[0m\n",
            "\u001b[32m[I 2022-11-22 07:20:06,102]\u001b[0m Trial 7 finished with value: 0.8189448074028973 and parameters: {'max_depth': 4, 'min_samples_split': 10, 'criterion': 'entropy', 'max_leaf_nodes': 10, 'n_estimators': 303, 'learning_rate': 0.09296868115208053}. Best is trial 4 with value: 0.8206866097147417.\u001b[0m\n",
            "\u001b[32m[I 2022-11-22 07:20:09,232]\u001b[0m Trial 8 finished with value: 0.817782084750571 and parameters: {'max_depth': 3, 'min_samples_split': 3, 'criterion': 'entropy', 'max_leaf_nodes': 7, 'n_estimators': 143, 'learning_rate': 0.08458637582367365}. Best is trial 4 with value: 0.8206866097147417.\u001b[0m\n",
            "\u001b[32m[I 2022-11-22 07:20:11,500]\u001b[0m Trial 9 finished with value: 0.8181884291837058 and parameters: {'max_depth': 6, 'min_samples_split': 4, 'criterion': 'gini', 'max_leaf_nodes': 9, 'n_estimators': 46, 'learning_rate': 0.09881982429404657}. Best is trial 4 with value: 0.8206866097147417.\u001b[0m\n",
            "\u001b[32m[I 2022-11-22 07:20:33,257]\u001b[0m Trial 10 finished with value: 0.8203807406893073 and parameters: {'max_depth': 11, 'min_samples_split': 7, 'criterion': 'gini', 'max_leaf_nodes': 5, 'n_estimators': 493, 'learning_rate': 0.07598785099640687}. Best is trial 4 with value: 0.8206866097147417.\u001b[0m\n",
            "\u001b[32m[I 2022-11-22 07:20:54,939]\u001b[0m Trial 11 finished with value: 0.822041213078937 and parameters: {'max_depth': 11, 'min_samples_split': 7, 'criterion': 'gini', 'max_leaf_nodes': 5, 'n_estimators': 498, 'learning_rate': 0.07726547685746879}. Best is trial 11 with value: 0.822041213078937.\u001b[0m\n",
            "\u001b[32m[I 2022-11-22 07:21:17,820]\u001b[0m Trial 12 finished with value: 0.8213363263819982 and parameters: {'max_depth': 10, 'min_samples_split': 6, 'criterion': 'gini', 'max_leaf_nodes': 5, 'n_estimators': 498, 'learning_rate': 0.07908633979307123}. Best is trial 11 with value: 0.822041213078937.\u001b[0m\n",
            "\u001b[32m[I 2022-11-22 07:21:35,532]\u001b[0m Trial 13 finished with value: 0.8213097850760572 and parameters: {'max_depth': 11, 'min_samples_split': 6, 'criterion': 'gini', 'max_leaf_nodes': 6, 'n_estimators': 385, 'learning_rate': 0.07387298341724866}. Best is trial 11 with value: 0.822041213078937.\u001b[0m\n",
            "\u001b[32m[I 2022-11-22 07:21:50,271]\u001b[0m Trial 14 finished with value: 0.8213201448976589 and parameters: {'max_depth': 9, 'min_samples_split': 8, 'criterion': 'gini', 'max_leaf_nodes': 6, 'n_estimators': 360, 'learning_rate': 0.03839584436774581}. Best is trial 11 with value: 0.822041213078937.\u001b[0m\n",
            "\u001b[32m[I 2022-11-22 07:22:08,926]\u001b[0m Trial 15 finished with value: 0.8223236190320279 and parameters: {'max_depth': 15, 'min_samples_split': 6, 'criterion': 'gini', 'max_leaf_nodes': 5, 'n_estimators': 438, 'learning_rate': 0.08067937324588952}. Best is trial 15 with value: 0.8223236190320279.\u001b[0m\n",
            "\u001b[32m[I 2022-11-22 07:22:28,795]\u001b[0m Trial 16 finished with value: 0.8218458187427856 and parameters: {'max_depth': 15, 'min_samples_split': 8, 'criterion': 'gini', 'max_leaf_nodes': 8, 'n_estimators': 430, 'learning_rate': 0.04497590972726053}. Best is trial 15 with value: 0.8223236190320279.\u001b[0m\n",
            "\u001b[32m[I 2022-11-22 07:22:43,028]\u001b[0m Trial 17 finished with value: 0.8207417200719064 and parameters: {'max_depth': 13, 'min_samples_split': 5, 'criterion': 'gini', 'max_leaf_nodes': 6, 'n_estimators': 334, 'learning_rate': 0.06834218681915746}. Best is trial 15 with value: 0.8223236190320279.\u001b[0m\n",
            "\u001b[32m[I 2022-11-22 07:22:52,085]\u001b[0m Trial 18 finished with value: 0.8211043340848138 and parameters: {'max_depth': 15, 'min_samples_split': 8, 'criterion': 'gini', 'max_leaf_nodes': 8, 'n_estimators': 202, 'learning_rate': 0.08768163261148992}. Best is trial 15 with value: 0.8223236190320279.\u001b[0m\n",
            "\u001b[32m[I 2022-11-22 07:23:10,689]\u001b[0m Trial 19 finished with value: 0.8168230469282758 and parameters: {'max_depth': 12, 'min_samples_split': 7, 'criterion': 'gini', 'max_leaf_nodes': 5, 'n_estimators': 442, 'learning_rate': 0.08736848876759962}. Best is trial 15 with value: 0.8223236190320279.\u001b[0m\n",
            "\u001b[32m[I 2022-11-22 07:23:27,707]\u001b[0m Trial 20 finished with value: 0.8196061382250331 and parameters: {'max_depth': 7, 'min_samples_split': 9, 'criterion': 'gini', 'max_leaf_nodes': 6, 'n_estimators': 395, 'learning_rate': 0.06794392405663302}. Best is trial 15 with value: 0.8223236190320279.\u001b[0m\n",
            "\u001b[32m[I 2022-11-22 07:23:47,128]\u001b[0m Trial 21 finished with value: 0.821804596502299 and parameters: {'max_depth': 15, 'min_samples_split': 8, 'criterion': 'gini', 'max_leaf_nodes': 8, 'n_estimators': 451, 'learning_rate': 0.04355013243087692}. Best is trial 15 with value: 0.8223236190320279.\u001b[0m\n",
            "\u001b[32m[I 2022-11-22 07:24:05,900]\u001b[0m Trial 22 finished with value: 0.8199068585092775 and parameters: {'max_depth': 14, 'min_samples_split': 5, 'criterion': 'gini', 'max_leaf_nodes': 8, 'n_estimators': 434, 'learning_rate': 0.044262365577707324}. Best is trial 15 with value: 0.8223236190320279.\u001b[0m\n",
            "\u001b[32m[I 2022-11-22 07:24:19,928]\u001b[0m Trial 23 finished with value: 0.8216654537829194 and parameters: {'max_depth': 13, 'min_samples_split': 9, 'criterion': 'gini', 'max_leaf_nodes': 9, 'n_estimators': 307, 'learning_rate': 0.028122725883059464}. Best is trial 15 with value: 0.8223236190320279.\u001b[0m\n",
            "\u001b[32m[I 2022-11-22 07:24:37,377]\u001b[0m Trial 24 finished with value: 0.8215202121355366 and parameters: {'max_depth': 15, 'min_samples_split': 7, 'criterion': 'gini', 'max_leaf_nodes': 7, 'n_estimators': 380, 'learning_rate': 0.049794128573227604}. Best is trial 15 with value: 0.8223236190320279.\u001b[0m\n",
            "\u001b[32m[I 2022-11-22 07:24:56,585]\u001b[0m Trial 25 finished with value: 0.8200931878220598 and parameters: {'max_depth': 12, 'min_samples_split': 6, 'criterion': 'gini', 'max_leaf_nodes': 8, 'n_estimators': 460, 'learning_rate': 0.08113246258740918}. Best is trial 15 with value: 0.8223236190320279.\u001b[0m\n",
            "\u001b[32m[I 2022-11-22 07:25:15,941]\u001b[0m Trial 26 finished with value: 0.8206778920426517 and parameters: {'max_depth': 14, 'min_samples_split': 5, 'criterion': 'gini', 'max_leaf_nodes': 6, 'n_estimators': 413, 'learning_rate': 0.03237280960446477}. Best is trial 15 with value: 0.8223236190320279.\u001b[0m\n",
            "\u001b[32m[I 2022-11-22 07:25:30,219]\u001b[0m Trial 27 finished with value: 0.8184658869296383 and parameters: {'max_depth': 12, 'min_samples_split': 9, 'criterion': 'gini', 'max_leaf_nodes': 5, 'n_estimators': 234, 'learning_rate': 0.01830520445645175}. Best is trial 15 with value: 0.8223236190320279.\u001b[0m\n",
            "\u001b[32m[I 2022-11-22 07:25:45,312]\u001b[0m Trial 28 finished with value: 0.8228356491796436 and parameters: {'max_depth': 8, 'min_samples_split': 6, 'criterion': 'gini', 'max_leaf_nodes': 9, 'n_estimators': 351, 'learning_rate': 0.07327219499170791}. Best is trial 28 with value: 0.8228356491796436.\u001b[0m\n",
            "\u001b[32m[I 2022-11-22 07:25:57,921]\u001b[0m Trial 29 finished with value: 0.8197836869256564 and parameters: {'max_depth': 7, 'min_samples_split': 6, 'criterion': 'gini', 'max_leaf_nodes': 9, 'n_estimators': 339, 'learning_rate': 0.07269471588136196}. Best is trial 28 with value: 0.8228356491796436.\u001b[0m\n",
            "\u001b[32m[I 2022-11-22 07:26:11,945]\u001b[0m Trial 30 finished with value: 0.8182931449270757 and parameters: {'max_depth': 8, 'min_samples_split': 5, 'criterion': 'gini', 'max_leaf_nodes': 10, 'n_estimators': 361, 'learning_rate': 0.06429775713765722}. Best is trial 28 with value: 0.8228356491796436.\u001b[0m\n",
            "\u001b[32m[I 2022-11-22 07:26:32,185]\u001b[0m Trial 31 finished with value: 0.8215767154623193 and parameters: {'max_depth': 9, 'min_samples_split': 8, 'criterion': 'gini', 'max_leaf_nodes': 9, 'n_estimators': 468, 'learning_rate': 0.08143631604400305}. Best is trial 28 with value: 0.8228356491796436.\u001b[0m\n",
            "\u001b[32m[I 2022-11-22 07:26:45,937]\u001b[0m Trial 32 finished with value: 0.8201969640100459 and parameters: {'max_depth': 6, 'min_samples_split': 7, 'criterion': 'gini', 'max_leaf_nodes': 8, 'n_estimators': 420, 'learning_rate': 0.06192299905201985}. Best is trial 28 with value: 0.8228356491796436.\u001b[0m\n",
            "\u001b[32m[I 2022-11-22 07:27:03,807]\u001b[0m Trial 33 finished with value: 0.821471332909662 and parameters: {'max_depth': 14, 'min_samples_split': 6, 'criterion': 'gini', 'max_leaf_nodes': 10, 'n_estimators': 419, 'learning_rate': 0.09206904461536757}. Best is trial 28 with value: 0.8228356491796436.\u001b[0m\n",
            "\u001b[32m[I 2022-11-22 07:27:24,411]\u001b[0m Trial 34 finished with value: 0.823099389064776 and parameters: {'max_depth': 8, 'min_samples_split': 7, 'criterion': 'gini', 'max_leaf_nodes': 9, 'n_estimators': 495, 'learning_rate': 0.07171518532882763}. Best is trial 34 with value: 0.823099389064776.\u001b[0m\n",
            "\u001b[32m[I 2022-11-22 07:27:43,847]\u001b[0m Trial 35 finished with value: 0.821779821868698 and parameters: {'max_depth': 8, 'min_samples_split': 7, 'criterion': 'entropy', 'max_leaf_nodes': 9, 'n_estimators': 470, 'learning_rate': 0.07183569647977982}. Best is trial 34 with value: 0.823099389064776.\u001b[0m\n",
            "\u001b[32m[I 2022-11-22 07:28:00,266]\u001b[0m Trial 36 finished with value: 0.8205386723606358 and parameters: {'max_depth': 6, 'min_samples_split': 7, 'criterion': 'gini', 'max_leaf_nodes': 10, 'n_estimators': 499, 'learning_rate': 0.0772437761749527}. Best is trial 34 with value: 0.823099389064776.\u001b[0m\n",
            "\u001b[32m[I 2022-11-22 07:28:19,900]\u001b[0m Trial 37 finished with value: 0.8204876458197397 and parameters: {'max_depth': 10, 'min_samples_split': 5, 'criterion': 'entropy', 'max_leaf_nodes': 5, 'n_estimators': 474, 'learning_rate': 0.056620794504545255}. Best is trial 34 with value: 0.823099389064776.\u001b[0m\n",
            "\u001b[32m[I 2022-11-22 07:28:29,258]\u001b[0m Trial 38 finished with value: 0.8191054708438663 and parameters: {'max_depth': 5, 'min_samples_split': 6, 'criterion': 'gini', 'max_leaf_nodes': 7, 'n_estimators': 284, 'learning_rate': 0.06770819579445833}. Best is trial 34 with value: 0.823099389064776.\u001b[0m\n",
            "\u001b[32m[I 2022-11-22 07:28:44,930]\u001b[0m Trial 39 finished with value: 0.8216681505057896 and parameters: {'max_depth': 8, 'min_samples_split': 4, 'criterion': 'entropy', 'max_leaf_nodes': 9, 'n_estimators': 403, 'learning_rate': 0.09023886263247587}. Best is trial 34 with value: 0.823099389064776.\u001b[0m\n",
            "\u001b[32m[I 2022-11-22 07:28:59,482]\u001b[0m Trial 40 finished with value: 0.8207783119534463 and parameters: {'max_depth': 9, 'min_samples_split': 6, 'criterion': 'gini', 'max_leaf_nodes': 5, 'n_estimators': 362, 'learning_rate': 0.08382377311845016}. Best is trial 34 with value: 0.823099389064776.\u001b[0m\n",
            "\u001b[32m[I 2022-11-22 07:29:17,937]\u001b[0m Trial 41 finished with value: 0.8221684089806068 and parameters: {'max_depth': 11, 'min_samples_split': 8, 'criterion': 'gini', 'max_leaf_nodes': 8, 'n_estimators': 441, 'learning_rate': 0.07113441460663748}. Best is trial 34 with value: 0.823099389064776.\u001b[0m\n",
            "\u001b[32m[I 2022-11-22 07:29:37,668]\u001b[0m Trial 42 finished with value: 0.8204220120172622 and parameters: {'max_depth': 10, 'min_samples_split': 7, 'criterion': 'gini', 'max_leaf_nodes': 9, 'n_estimators': 446, 'learning_rate': 0.06129631333339211}. Best is trial 34 with value: 0.823099389064776.\u001b[0m\n",
            "\u001b[32m[I 2022-11-22 07:29:57,558]\u001b[0m Trial 43 finished with value: 0.8200467123744261 and parameters: {'max_depth': 11, 'min_samples_split': 8, 'criterion': 'gini', 'max_leaf_nodes': 9, 'n_estimators': 480, 'learning_rate': 0.07106956261825093}. Best is trial 34 with value: 0.823099389064776.\u001b[0m\n",
            "\u001b[32m[I 2022-11-22 07:30:15,877]\u001b[0m Trial 44 finished with value: 0.8191982890080647 and parameters: {'max_depth': 7, 'min_samples_split': 9, 'criterion': 'gini', 'max_leaf_nodes': 7, 'n_estimators': 499, 'learning_rate': 0.09541456184859846}. Best is trial 34 with value: 0.823099389064776.\u001b[0m\n",
            "\u001b[32m[I 2022-11-22 07:30:35,578]\u001b[0m Trial 45 finished with value: 0.8201622198178192 and parameters: {'max_depth': 9, 'min_samples_split': 7, 'criterion': 'gini', 'max_leaf_nodes': 10, 'n_estimators': 453, 'learning_rate': 0.07761223588476462}. Best is trial 34 with value: 0.823099389064776.\u001b[0m\n",
            "\u001b[32m[I 2022-11-22 07:30:48,952]\u001b[0m Trial 46 finished with value: 0.8195656703728004 and parameters: {'max_depth': 10, 'min_samples_split': 2, 'criterion': 'entropy', 'max_leaf_nodes': 8, 'n_estimators': 322, 'learning_rate': 0.0856153120228745}. Best is trial 34 with value: 0.823099389064776.\u001b[0m\n",
            "\u001b[32m[I 2022-11-22 07:30:59,287]\u001b[0m Trial 47 finished with value: 0.8183222004495647 and parameters: {'max_depth': 5, 'min_samples_split': 6, 'criterion': 'gini', 'max_leaf_nodes': 9, 'n_estimators': 376, 'learning_rate': 0.0745512538014294}. Best is trial 34 with value: 0.823099389064776.\u001b[0m\n",
            "\u001b[32m[I 2022-11-22 07:31:20,659]\u001b[0m Trial 48 finished with value: 0.819546453117775 and parameters: {'max_depth': 11, 'min_samples_split': 8, 'criterion': 'gini', 'max_leaf_nodes': 7, 'n_estimators': 481, 'learning_rate': 0.08196267340899545}. Best is trial 34 with value: 0.823099389064776.\u001b[0m\n",
            "\u001b[32m[I 2022-11-22 07:31:37,560]\u001b[0m Trial 49 finished with value: 0.8198625930245035 and parameters: {'max_depth': 8, 'min_samples_split': 7, 'criterion': 'gini', 'max_leaf_nodes': 6, 'n_estimators': 404, 'learning_rate': 0.05340635074023723}. Best is trial 34 with value: 0.823099389064776.\u001b[0m\n"
          ]
        }
      ]
    },
    {
      "cell_type": "code",
      "source": [
        "print(\"Best Score:\",study_1.best_value) \n",
        "print(\"Best hp\", study_1.best_params)"
      ],
      "metadata": {
        "colab": {
          "base_uri": "https://localhost:8080/"
        },
        "id": "NifIIY0tNvpE",
        "outputId": "a37e078c-8844-41f0-ad51-4f2bdd1d217d"
      },
      "execution_count": 827,
      "outputs": [
        {
          "output_type": "stream",
          "name": "stdout",
          "text": [
            "Best Score: 0.823099389064776\n",
            "Best hp {'max_depth': 8, 'min_samples_split': 7, 'criterion': 'gini', 'max_leaf_nodes': 9, 'n_estimators': 495, 'learning_rate': 0.07171518532882763}\n"
          ]
        }
      ]
    },
    {
      "cell_type": "code",
      "source": [
        "study_1.best_params"
      ],
      "metadata": {
        "colab": {
          "base_uri": "https://localhost:8080/"
        },
        "id": "bq6-fPoDNvmG",
        "outputId": "a3153da4-502c-4bbc-deec-a4321422a6fc"
      },
      "execution_count": 828,
      "outputs": [
        {
          "output_type": "execute_result",
          "data": {
            "text/plain": [
              "{'max_depth': 8,\n",
              " 'min_samples_split': 7,\n",
              " 'criterion': 'gini',\n",
              " 'max_leaf_nodes': 9,\n",
              " 'n_estimators': 495,\n",
              " 'learning_rate': 0.07171518532882763}"
            ]
          },
          "metadata": {},
          "execution_count": 828
        }
      ]
    },
    {
      "cell_type": "code",
      "source": [],
      "metadata": {
        "id": "RVi4hj9yOpZf"
      },
      "execution_count": null,
      "outputs": []
    },
    {
      "cell_type": "code",
      "source": [],
      "metadata": {
        "id": "-grmE9cyOpdQ"
      },
      "execution_count": null,
      "outputs": []
    },
    {
      "cell_type": "code",
      "source": [
        "patience = 50\n",
        "cv = KFold(n_splits=5, shuffle=True, random_state=SEED)"
      ],
      "metadata": {
        "id": "2dfnXB7nxjj3"
      },
      "execution_count": 829,
      "outputs": []
    },
    {
      "cell_type": "code",
      "source": [
        "pred_list = []\n",
        "for tri,vai in cv.split(train_X):\n",
        "    # 학습데이터\n",
        "    x_train = train_X.iloc[tri]\n",
        "    y_train = target.iloc[tri]\n",
        "    # 검증데이터\n",
        "    x_valid = train_X.iloc[vai]\n",
        "    y_valid = target.iloc[vai]\n",
        "    \n",
        "    model = LGBMClassifier(random_state=SEED,**study_1.best_params)\n",
        "    model.fit(x_train,y_train , eval_set = [(x_train,y_train)],early_stopping_rounds=50) \n",
        "\n",
        "    pred = model.predict_proba(x_valid)[:,1] # 1일 확률\n",
        "    pred_list.append(pred)"
      ],
      "metadata": {
        "id": "V8fOvKKq9Cwm"
      },
      "execution_count": null,
      "outputs": []
    },
    {
      "cell_type": "code",
      "source": [
        "pred_list"
      ],
      "metadata": {
        "colab": {
          "base_uri": "https://localhost:8080/"
        },
        "id": "mh3asFm0-WCk",
        "outputId": "d1958973-2dc2-4063-cd5f-875e9bcbdfe8"
      },
      "execution_count": 768,
      "outputs": [
        {
          "output_type": "execute_result",
          "data": {
            "text/plain": [
              "[array([3.85768355e-08, 4.48041497e-05, 1.46039312e-07, ...,\n",
              "        3.41770225e-08, 1.69695185e-08, 2.14449093e-04]),\n",
              " array([2.18955412e-08, 5.78213455e-04, 1.49992617e-05, ...,\n",
              "        2.26793575e-09, 7.00864425e-08, 3.37829388e-06]),\n",
              " array([8.18020379e-06, 1.78788616e-07, 7.88823240e-04, ...,\n",
              "        1.63301935e-06, 1.45102756e-08, 4.62784335e-07]),\n",
              " array([9.99999991e-01, 1.27270025e-07, 2.71990793e-08, ...,\n",
              "        9.98856918e-01, 1.38410732e-04, 6.32453215e-08]),\n",
              " array([1.55261320e-06, 4.31170031e-06, 5.20739363e-06, ...,\n",
              "        4.51630279e-06, 1.36228980e-06, 4.39584427e-01])]"
            ]
          },
          "metadata": {},
          "execution_count": 768
        }
      ]
    },
    {
      "cell_type": "code",
      "source": [
        "pred = np.concatenate(pred_list,axis=0)\n",
        "pred.shape"
      ],
      "metadata": {
        "colab": {
          "base_uri": "https://localhost:8080/"
        },
        "id": "je-x0Su4__en",
        "outputId": "fedd4e7d-86fa-480e-c36d-c5c42e63c96c"
      },
      "execution_count": 831,
      "outputs": [
        {
          "output_type": "execute_result",
          "data": {
            "text/plain": [
              "(14095,)"
            ]
          },
          "metadata": {},
          "execution_count": 831
        }
      ]
    },
    {
      "cell_type": "code",
      "source": [
        "pred"
      ],
      "metadata": {
        "colab": {
          "base_uri": "https://localhost:8080/"
        },
        "id": "w8UyhVM996qq",
        "outputId": "f3d938f9-2583-4fdf-c76f-2de6cbb48597"
      },
      "execution_count": 832,
      "outputs": [
        {
          "output_type": "execute_result",
          "data": {
            "text/plain": [
              "array([0.00144789, 0.01908173, 0.00166618, ..., 0.0023883 , 0.00079507,\n",
              "       0.3590306 ])"
            ]
          },
          "metadata": {},
          "execution_count": 832
        }
      ]
    },
    {
      "cell_type": "code",
      "source": [
        "# score_list = []\n",
        "    \n",
        "# # 모델 학습\n",
        "# model = LGBMClassifier(random_state=SEED,n_estimators=1000)\n",
        "# model.fit(train_X,target , eval_set = [(train_X,target)],early_stopping_rounds=50) \n",
        "\n",
        "# pred = model.predict_proba(train_X)[:,1] # 1일 확률\n",
        "# # predict = np.where(pred > 0.35, 1 , 0)\n",
        "# # score = f1_score(y_valid,predict,average=\"macro\") \n",
        "# # score_list.append(score) \n",
        "\n",
        "# # score_list"
      ],
      "metadata": {
        "id": "LXGIiaXmxn8k"
      },
      "execution_count": 833,
      "outputs": []
    },
    {
      "cell_type": "markdown",
      "source": [
        "- 확률 추출!"
      ],
      "metadata": {
        "id": "E5NXZ2NWJL14"
      }
    },
    {
      "cell_type": "code",
      "source": [
        "x_target = pd.DataFrame(pred)\n",
        "x_target = x_target.squeeze()\n",
        "x_target"
      ],
      "metadata": {
        "colab": {
          "base_uri": "https://localhost:8080/"
        },
        "id": "Z-0HjkTIYied",
        "outputId": "01846b95-4ae1-4274-caf3-ab40812a69ac"
      },
      "execution_count": 834,
      "outputs": [
        {
          "output_type": "execute_result",
          "data": {
            "text/plain": [
              "0        0.001448\n",
              "1        0.019082\n",
              "2        0.001666\n",
              "3        0.003031\n",
              "4        0.000225\n",
              "           ...   \n",
              "14090    0.109547\n",
              "14091    0.000628\n",
              "14092    0.002388\n",
              "14093    0.000795\n",
              "14094    0.359031\n",
              "Name: 0, Length: 14095, dtype: float64"
            ]
          },
          "metadata": {},
          "execution_count": 834
        }
      ]
    },
    {
      "cell_type": "markdown",
      "source": [
        "## Regressor"
      ],
      "metadata": {
        "id": "bOHl9sAon6tj"
      }
    },
    {
      "cell_type": "markdown",
      "source": [
        "- train의 부분 X의 예측값을 설명하는 Regressor"
      ],
      "metadata": {
        "id": "E1uLBgdKEhtu"
      }
    },
    {
      "cell_type": "code",
      "source": [
        "test_stage_features = ['ANONYMOUS_1', 'ANONYMOUS_2', 'AG', 'CO', 'CR', 'CU', 'FE', 'H2O', 'MN',\n",
        "       'MO', 'NI', 'PQINDEX', 'TI', 'V', 'V40', 'ZN',\n",
        "       'COMPONENT_ARBITRARY_COMPONENT1', 'COMPONENT_ARBITRARY_COMPONENT2',\n",
        "       'COMPONENT_ARBITRARY_COMPONENT3', 'COMPONENT_ARBITRARY_COMPONENT4',\n",
        "       'YEAR_2007', 'YEAR_2008', 'YEAR_2009', 'YEAR_2010', 'YEAR_2011',\n",
        "       'YEAR_2012', 'YEAR_2013', 'YEAR_2014', 'YEAR_2015', 'YEAR_2016',\n",
        "       'YEAR_2017', 'YEAR_2018', 'YEAR_2019', 'YEAR_2020', 'YEAR_2021',\n",
        "       'YEAR_2022']"
      ],
      "metadata": {
        "id": "cuf_HYBIwIvm"
      },
      "execution_count": 835,
      "outputs": []
    },
    {
      "cell_type": "code",
      "source": [
        "train_reg = train_X[test_stage_features]\n",
        "train_reg.shape,x_target.shape"
      ],
      "metadata": {
        "id": "iQ8iZytbwIsU",
        "colab": {
          "base_uri": "https://localhost:8080/"
        },
        "outputId": "7019b57f-0eb8-4111-a210-4a45760f8149"
      },
      "execution_count": 836,
      "outputs": [
        {
          "output_type": "execute_result",
          "data": {
            "text/plain": [
              "((14095, 36), (14095,))"
            ]
          },
          "metadata": {},
          "execution_count": 836
        }
      ]
    },
    {
      "cell_type": "code",
      "source": [
        "import lightgbm as lgb\n",
        "from sklearn.metrics import f1_score\n",
        "from sklearn.model_selection import KFold\n",
        "from sklearn.model_selection import cross_val_score\n",
        "from sklearn.ensemble import GradientBoostingRegressor\n",
        "from sklearn.tree import DecisionTreeRegressor\n",
        "import optuna\n",
        "from sklearn.metrics import accuracy_score\n",
        "from sklearn.metrics import explained_variance_score"
      ],
      "metadata": {
        "id": "zbcBoJU2j78k"
      },
      "execution_count": 837,
      "outputs": []
    },
    {
      "cell_type": "code",
      "source": [
        "patience = 50\n",
        "cv = KFold(n_splits=5, shuffle=True, random_state=SEED)"
      ],
      "metadata": {
        "id": "7OfFPHpWj76M"
      },
      "execution_count": 838,
      "outputs": []
    },
    {
      "cell_type": "code",
      "source": [
        "pred_list = []\n",
        "for tri,vai in cv.split(train_reg):\n",
        "    # 학습데이터\n",
        "    x_train = train_reg.iloc[tri]\n",
        "    y_train = x_target.iloc[tri]\n",
        "    # 검증데이터\n",
        "    x_valid = train_reg.iloc[vai]\n",
        "    y_valid = x_target.iloc[vai]\n",
        "    \n",
        "    # 모델 학습\n",
        "    model = lgb.LGBMRegressor(random_state=SEED,n_estimators=1000)\n",
        "    model.fit(x_train,y_train , eval_set = [(x_valid,y_valid)],early_stopping_rounds=50) \n",
        "\n",
        "    pred = model.predict(x_valid)\n",
        "\n",
        "    predict = np.where(pred > 0.35, 1 , 0)\n",
        "    # score = cross_val_score(y_valid, predict, scoring=\"f1_macro\") \n",
        "    pred_list.append(pred)\n",
        "\n",
        "pred_list"
      ],
      "metadata": {
        "id": "-WQ_scTlK70p",
        "colab": {
          "base_uri": "https://localhost:8080/"
        },
        "outputId": "09c6c266-2830-4cd4-c4b2-73f4f4cf324f"
      },
      "execution_count": 839,
      "outputs": [
        {
          "output_type": "stream",
          "name": "stdout",
          "text": [
            "[1]\tvalid_0's l2: 0.0401544\n",
            "Training until validation scores don't improve for 50 rounds.\n",
            "[2]\tvalid_0's l2: 0.0401659\n",
            "[3]\tvalid_0's l2: 0.0401463\n",
            "[4]\tvalid_0's l2: 0.0401691\n",
            "[5]\tvalid_0's l2: 0.0402011\n",
            "[6]\tvalid_0's l2: 0.0402088\n",
            "[7]\tvalid_0's l2: 0.0402187\n",
            "[8]\tvalid_0's l2: 0.0402476\n",
            "[9]\tvalid_0's l2: 0.0402208\n",
            "[10]\tvalid_0's l2: 0.0402354\n",
            "[11]\tvalid_0's l2: 0.0402086\n",
            "[12]\tvalid_0's l2: 0.0402241\n",
            "[13]\tvalid_0's l2: 0.0402298\n",
            "[14]\tvalid_0's l2: 0.0402424\n",
            "[15]\tvalid_0's l2: 0.0402851\n",
            "[16]\tvalid_0's l2: 0.0403145\n",
            "[17]\tvalid_0's l2: 0.0403106\n",
            "[18]\tvalid_0's l2: 0.0403105\n",
            "[19]\tvalid_0's l2: 0.0403378\n",
            "[20]\tvalid_0's l2: 0.0403321\n",
            "[21]\tvalid_0's l2: 0.0403557\n",
            "[22]\tvalid_0's l2: 0.0403698\n",
            "[23]\tvalid_0's l2: 0.0403418\n",
            "[24]\tvalid_0's l2: 0.0403453\n",
            "[25]\tvalid_0's l2: 0.0403339\n",
            "[26]\tvalid_0's l2: 0.0403201\n",
            "[27]\tvalid_0's l2: 0.0403454\n",
            "[28]\tvalid_0's l2: 0.0403878\n",
            "[29]\tvalid_0's l2: 0.0403991\n",
            "[30]\tvalid_0's l2: 0.0403961\n",
            "[31]\tvalid_0's l2: 0.0403968\n",
            "[32]\tvalid_0's l2: 0.0403965\n",
            "[33]\tvalid_0's l2: 0.0403779\n",
            "[34]\tvalid_0's l2: 0.0404101\n",
            "[35]\tvalid_0's l2: 0.0404463\n",
            "[36]\tvalid_0's l2: 0.0404725\n",
            "[37]\tvalid_0's l2: 0.0404908\n",
            "[38]\tvalid_0's l2: 0.0405361\n",
            "[39]\tvalid_0's l2: 0.0405384\n",
            "[40]\tvalid_0's l2: 0.0405229\n",
            "[41]\tvalid_0's l2: 0.0405552\n",
            "[42]\tvalid_0's l2: 0.040536\n",
            "[43]\tvalid_0's l2: 0.0405589\n",
            "[44]\tvalid_0's l2: 0.0405971\n",
            "[45]\tvalid_0's l2: 0.0406201\n",
            "[46]\tvalid_0's l2: 0.0406161\n",
            "[47]\tvalid_0's l2: 0.0406318\n",
            "[48]\tvalid_0's l2: 0.0406382\n",
            "[49]\tvalid_0's l2: 0.0406541\n",
            "[50]\tvalid_0's l2: 0.0406807\n",
            "[51]\tvalid_0's l2: 0.0407154\n",
            "[52]\tvalid_0's l2: 0.0407481\n",
            "[53]\tvalid_0's l2: 0.0407822\n",
            "Early stopping, best iteration is:\n",
            "[3]\tvalid_0's l2: 0.0401463\n",
            "[1]\tvalid_0's l2: 0.0417425\n",
            "Training until validation scores don't improve for 50 rounds.\n",
            "[2]\tvalid_0's l2: 0.0417802\n",
            "[3]\tvalid_0's l2: 0.0417612\n",
            "[4]\tvalid_0's l2: 0.0417836\n",
            "[5]\tvalid_0's l2: 0.0417463\n",
            "[6]\tvalid_0's l2: 0.0417487\n",
            "[7]\tvalid_0's l2: 0.0417332\n",
            "[8]\tvalid_0's l2: 0.0417173\n",
            "[9]\tvalid_0's l2: 0.0417696\n",
            "[10]\tvalid_0's l2: 0.0418265\n",
            "[11]\tvalid_0's l2: 0.041855\n",
            "[12]\tvalid_0's l2: 0.0419123\n",
            "[13]\tvalid_0's l2: 0.0419434\n",
            "[14]\tvalid_0's l2: 0.0419869\n",
            "[15]\tvalid_0's l2: 0.0419923\n",
            "[16]\tvalid_0's l2: 0.0419943\n",
            "[17]\tvalid_0's l2: 0.0420395\n",
            "[18]\tvalid_0's l2: 0.0420651\n",
            "[19]\tvalid_0's l2: 0.0420784\n",
            "[20]\tvalid_0's l2: 0.0420981\n",
            "[21]\tvalid_0's l2: 0.0421335\n",
            "[22]\tvalid_0's l2: 0.0421389\n",
            "[23]\tvalid_0's l2: 0.0421684\n",
            "[24]\tvalid_0's l2: 0.0421767\n",
            "[25]\tvalid_0's l2: 0.0421644\n",
            "[26]\tvalid_0's l2: 0.0422046\n",
            "[27]\tvalid_0's l2: 0.0422665\n",
            "[28]\tvalid_0's l2: 0.042269\n",
            "[29]\tvalid_0's l2: 0.0423\n",
            "[30]\tvalid_0's l2: 0.0423534\n",
            "[31]\tvalid_0's l2: 0.0423818\n",
            "[32]\tvalid_0's l2: 0.0423934\n",
            "[33]\tvalid_0's l2: 0.0423885\n",
            "[34]\tvalid_0's l2: 0.0423985\n",
            "[35]\tvalid_0's l2: 0.0424009\n",
            "[36]\tvalid_0's l2: 0.0424123\n",
            "[37]\tvalid_0's l2: 0.0424206\n",
            "[38]\tvalid_0's l2: 0.0424136\n",
            "[39]\tvalid_0's l2: 0.0424513\n",
            "[40]\tvalid_0's l2: 0.0424937\n",
            "[41]\tvalid_0's l2: 0.0425262\n",
            "[42]\tvalid_0's l2: 0.0425348\n",
            "[43]\tvalid_0's l2: 0.0425691\n",
            "[44]\tvalid_0's l2: 0.042603\n",
            "[45]\tvalid_0's l2: 0.0426483\n",
            "[46]\tvalid_0's l2: 0.0426668\n",
            "[47]\tvalid_0's l2: 0.0426665\n",
            "[48]\tvalid_0's l2: 0.0427002\n",
            "[49]\tvalid_0's l2: 0.0427039\n",
            "[50]\tvalid_0's l2: 0.042724\n",
            "[51]\tvalid_0's l2: 0.0427363\n",
            "[52]\tvalid_0's l2: 0.0427843\n",
            "[53]\tvalid_0's l2: 0.0428444\n",
            "[54]\tvalid_0's l2: 0.0428697\n",
            "[55]\tvalid_0's l2: 0.0429091\n",
            "[56]\tvalid_0's l2: 0.0429334\n",
            "[57]\tvalid_0's l2: 0.0429774\n",
            "[58]\tvalid_0's l2: 0.0430047\n",
            "Early stopping, best iteration is:\n",
            "[8]\tvalid_0's l2: 0.0417173\n",
            "[1]\tvalid_0's l2: 0.0450766\n",
            "Training until validation scores don't improve for 50 rounds.\n",
            "[2]\tvalid_0's l2: 0.0450686\n",
            "[3]\tvalid_0's l2: 0.0450523\n",
            "[4]\tvalid_0's l2: 0.0450065\n",
            "[5]\tvalid_0's l2: 0.0450233\n",
            "[6]\tvalid_0's l2: 0.0450682\n",
            "[7]\tvalid_0's l2: 0.0450846\n",
            "[8]\tvalid_0's l2: 0.0450595\n",
            "[9]\tvalid_0's l2: 0.0450785\n",
            "[10]\tvalid_0's l2: 0.0450948\n",
            "[11]\tvalid_0's l2: 0.0450773\n",
            "[12]\tvalid_0's l2: 0.0450867\n",
            "[13]\tvalid_0's l2: 0.0451171\n",
            "[14]\tvalid_0's l2: 0.0451348\n",
            "[15]\tvalid_0's l2: 0.0451419\n",
            "[16]\tvalid_0's l2: 0.0451283\n",
            "[17]\tvalid_0's l2: 0.045164\n",
            "[18]\tvalid_0's l2: 0.0451451\n",
            "[19]\tvalid_0's l2: 0.0451546\n",
            "[20]\tvalid_0's l2: 0.0451677\n",
            "[21]\tvalid_0's l2: 0.0451905\n",
            "[22]\tvalid_0's l2: 0.0451971\n",
            "[23]\tvalid_0's l2: 0.045218\n",
            "[24]\tvalid_0's l2: 0.0452328\n",
            "[25]\tvalid_0's l2: 0.0452774\n",
            "[26]\tvalid_0's l2: 0.0452969\n",
            "[27]\tvalid_0's l2: 0.0453248\n",
            "[28]\tvalid_0's l2: 0.045314\n",
            "[29]\tvalid_0's l2: 0.0453174\n",
            "[30]\tvalid_0's l2: 0.0453202\n",
            "[31]\tvalid_0's l2: 0.0453419\n",
            "[32]\tvalid_0's l2: 0.045387\n",
            "[33]\tvalid_0's l2: 0.0453996\n",
            "[34]\tvalid_0's l2: 0.0454374\n",
            "[35]\tvalid_0's l2: 0.0454597\n",
            "[36]\tvalid_0's l2: 0.0454773\n",
            "[37]\tvalid_0's l2: 0.0454894\n",
            "[38]\tvalid_0's l2: 0.045511\n",
            "[39]\tvalid_0's l2: 0.0455234\n",
            "[40]\tvalid_0's l2: 0.0455466\n",
            "[41]\tvalid_0's l2: 0.0455569\n",
            "[42]\tvalid_0's l2: 0.0455533\n",
            "[43]\tvalid_0's l2: 0.0455758\n",
            "[44]\tvalid_0's l2: 0.0455136\n",
            "[45]\tvalid_0's l2: 0.0455226\n",
            "[46]\tvalid_0's l2: 0.0455161\n",
            "[47]\tvalid_0's l2: 0.0455415\n",
            "[48]\tvalid_0's l2: 0.0455584\n",
            "[49]\tvalid_0's l2: 0.0455763\n",
            "[50]\tvalid_0's l2: 0.0455867\n",
            "[51]\tvalid_0's l2: 0.0456014\n",
            "[52]\tvalid_0's l2: 0.0456425\n",
            "[53]\tvalid_0's l2: 0.0456865\n",
            "[54]\tvalid_0's l2: 0.0457083\n",
            "Early stopping, best iteration is:\n",
            "[4]\tvalid_0's l2: 0.0450065\n",
            "[1]\tvalid_0's l2: 0.0369912\n",
            "Training until validation scores don't improve for 50 rounds.\n",
            "[2]\tvalid_0's l2: 0.0370007\n",
            "[3]\tvalid_0's l2: 0.0369958\n",
            "[4]\tvalid_0's l2: 0.0370358\n",
            "[5]\tvalid_0's l2: 0.037098\n",
            "[6]\tvalid_0's l2: 0.0371269\n",
            "[7]\tvalid_0's l2: 0.0371605\n",
            "[8]\tvalid_0's l2: 0.0372231\n",
            "[9]\tvalid_0's l2: 0.0372354\n",
            "[10]\tvalid_0's l2: 0.0372556\n",
            "[11]\tvalid_0's l2: 0.0373213\n",
            "[12]\tvalid_0's l2: 0.0373874\n",
            "[13]\tvalid_0's l2: 0.0374039\n",
            "[14]\tvalid_0's l2: 0.0374145\n",
            "[15]\tvalid_0's l2: 0.0374223\n",
            "[16]\tvalid_0's l2: 0.0374377\n",
            "[17]\tvalid_0's l2: 0.0374993\n",
            "[18]\tvalid_0's l2: 0.0375073\n",
            "[19]\tvalid_0's l2: 0.0375328\n",
            "[20]\tvalid_0's l2: 0.0375738\n",
            "[21]\tvalid_0's l2: 0.0376146\n",
            "[22]\tvalid_0's l2: 0.0376724\n",
            "[23]\tvalid_0's l2: 0.0376771\n",
            "[24]\tvalid_0's l2: 0.0376858\n",
            "[25]\tvalid_0's l2: 0.037717\n",
            "[26]\tvalid_0's l2: 0.0377294\n",
            "[27]\tvalid_0's l2: 0.0377822\n",
            "[28]\tvalid_0's l2: 0.0377849\n",
            "[29]\tvalid_0's l2: 0.0378119\n",
            "[30]\tvalid_0's l2: 0.037844\n",
            "[31]\tvalid_0's l2: 0.0378585\n",
            "[32]\tvalid_0's l2: 0.0378831\n",
            "[33]\tvalid_0's l2: 0.037924\n",
            "[34]\tvalid_0's l2: 0.0379575\n",
            "[35]\tvalid_0's l2: 0.0379618\n",
            "[36]\tvalid_0's l2: 0.0379941\n",
            "[37]\tvalid_0's l2: 0.0380372\n",
            "[38]\tvalid_0's l2: 0.0380416\n",
            "[39]\tvalid_0's l2: 0.0380581\n",
            "[40]\tvalid_0's l2: 0.0380742\n",
            "[41]\tvalid_0's l2: 0.038074\n",
            "[42]\tvalid_0's l2: 0.0380884\n",
            "[43]\tvalid_0's l2: 0.0381073\n",
            "[44]\tvalid_0's l2: 0.0380948\n",
            "[45]\tvalid_0's l2: 0.0381221\n",
            "[46]\tvalid_0's l2: 0.0381655\n",
            "[47]\tvalid_0's l2: 0.0381992\n",
            "[48]\tvalid_0's l2: 0.0382109\n",
            "[49]\tvalid_0's l2: 0.0381959\n",
            "[50]\tvalid_0's l2: 0.0382036\n",
            "[51]\tvalid_0's l2: 0.0382203\n",
            "Early stopping, best iteration is:\n",
            "[1]\tvalid_0's l2: 0.0369912\n",
            "[1]\tvalid_0's l2: 0.0467462\n",
            "Training until validation scores don't improve for 50 rounds.\n",
            "[2]\tvalid_0's l2: 0.046765\n",
            "[3]\tvalid_0's l2: 0.0467426\n",
            "[4]\tvalid_0's l2: 0.0467243\n",
            "[5]\tvalid_0's l2: 0.0467396\n",
            "[6]\tvalid_0's l2: 0.0467638\n",
            "[7]\tvalid_0's l2: 0.0467656\n",
            "[8]\tvalid_0's l2: 0.0467969\n",
            "[9]\tvalid_0's l2: 0.0468017\n",
            "[10]\tvalid_0's l2: 0.0467958\n",
            "[11]\tvalid_0's l2: 0.0467985\n",
            "[12]\tvalid_0's l2: 0.0467988\n",
            "[13]\tvalid_0's l2: 0.04683\n",
            "[14]\tvalid_0's l2: 0.0468567\n",
            "[15]\tvalid_0's l2: 0.046896\n",
            "[16]\tvalid_0's l2: 0.0469241\n",
            "[17]\tvalid_0's l2: 0.0469561\n",
            "[18]\tvalid_0's l2: 0.0469498\n",
            "[19]\tvalid_0's l2: 0.046972\n",
            "[20]\tvalid_0's l2: 0.0469951\n",
            "[21]\tvalid_0's l2: 0.0470255\n",
            "[22]\tvalid_0's l2: 0.0470464\n",
            "[23]\tvalid_0's l2: 0.0470631\n",
            "[24]\tvalid_0's l2: 0.0470927\n",
            "[25]\tvalid_0's l2: 0.0471046\n",
            "[26]\tvalid_0's l2: 0.0471465\n",
            "[27]\tvalid_0's l2: 0.0471238\n",
            "[28]\tvalid_0's l2: 0.0471579\n",
            "[29]\tvalid_0's l2: 0.0471971\n",
            "[30]\tvalid_0's l2: 0.0472218\n",
            "[31]\tvalid_0's l2: 0.0472673\n",
            "[32]\tvalid_0's l2: 0.047294\n",
            "[33]\tvalid_0's l2: 0.047302\n",
            "[34]\tvalid_0's l2: 0.0473104\n",
            "[35]\tvalid_0's l2: 0.0473244\n",
            "[36]\tvalid_0's l2: 0.0473628\n",
            "[37]\tvalid_0's l2: 0.0473785\n",
            "[38]\tvalid_0's l2: 0.0473877\n",
            "[39]\tvalid_0's l2: 0.0474016\n",
            "[40]\tvalid_0's l2: 0.0474088\n",
            "[41]\tvalid_0's l2: 0.0474206\n",
            "[42]\tvalid_0's l2: 0.0474522\n",
            "[43]\tvalid_0's l2: 0.047465\n",
            "[44]\tvalid_0's l2: 0.0474862\n",
            "[45]\tvalid_0's l2: 0.0475095\n",
            "[46]\tvalid_0's l2: 0.0474968\n",
            "[47]\tvalid_0's l2: 0.0475345\n",
            "[48]\tvalid_0's l2: 0.0475553\n",
            "[49]\tvalid_0's l2: 0.0475895\n",
            "[50]\tvalid_0's l2: 0.0475885\n",
            "[51]\tvalid_0's l2: 0.0476024\n",
            "[52]\tvalid_0's l2: 0.0476174\n",
            "[53]\tvalid_0's l2: 0.0476092\n",
            "[54]\tvalid_0's l2: 0.0475979\n",
            "Early stopping, best iteration is:\n",
            "[4]\tvalid_0's l2: 0.0467243\n"
          ]
        },
        {
          "output_type": "execute_result",
          "data": {
            "text/plain": [
              "[array([0.05547893, 0.05614098, 0.05734411, ..., 0.05870844, 0.05308926,\n",
              "        0.06012224]),\n",
              " array([0.04677611, 0.0466501 , 0.05157413, ..., 0.05261186, 0.05540728,\n",
              "        0.06433886]),\n",
              " array([0.05616909, 0.0580924 , 0.05525765, ..., 0.05616909, 0.05597911,\n",
              "        0.05745312]),\n",
              " array([0.05806057, 0.05806057, 0.05806057, ..., 0.05806057, 0.05806057,\n",
              "        0.05806057]),\n",
              " array([0.05696184, 0.0560256 , 0.05241345, ..., 0.05417779, 0.05545542,\n",
              "        0.05377298])]"
            ]
          },
          "metadata": {},
          "execution_count": 839
        }
      ]
    },
    {
      "cell_type": "code",
      "source": [
        "pred = np.concatenate(pred_list,axis=0)\n",
        "pred.shape"
      ],
      "metadata": {
        "colab": {
          "base_uri": "https://localhost:8080/"
        },
        "id": "61LAae01C8WT",
        "outputId": "39f524cf-4273-4af1-e5f2-fd20ba5ea451"
      },
      "execution_count": 840,
      "outputs": [
        {
          "output_type": "execute_result",
          "data": {
            "text/plain": [
              "(14095,)"
            ]
          },
          "metadata": {},
          "execution_count": 840
        }
      ]
    },
    {
      "cell_type": "code",
      "source": [
        "pred # 이것이 예측값을 설명한다는 게 무슨 의미지?"
      ],
      "metadata": {
        "colab": {
          "base_uri": "https://localhost:8080/"
        },
        "id": "6oP7z9LPC_3F",
        "outputId": "e5f947ae-c9d0-49a2-bd3f-ca562f7188b1"
      },
      "execution_count": 841,
      "outputs": [
        {
          "output_type": "execute_result",
          "data": {
            "text/plain": [
              "array([0.05547893, 0.05614098, 0.05734411, ..., 0.05417779, 0.05545542,\n",
              "       0.05377298])"
            ]
          },
          "metadata": {},
          "execution_count": 841
        }
      ]
    },
    {
      "cell_type": "markdown",
      "source": [
        "### test와 shape을 맞춘 후 test에 적합"
      ],
      "metadata": {
        "id": "YPrxuIioDQup"
      }
    },
    {
      "cell_type": "code",
      "source": [
        "re_x_target = x_target.drop(index=range(6041,14095))\n",
        "test.shape, re_x_target.shape"
      ],
      "metadata": {
        "colab": {
          "base_uri": "https://localhost:8080/"
        },
        "id": "rf76klRkzm4t",
        "outputId": "10333b36-2256-4f76-9ee4-6550fe0c8e6c"
      },
      "execution_count": 842,
      "outputs": [
        {
          "output_type": "execute_result",
          "data": {
            "text/plain": [
              "((6041, 36), (6041,))"
            ]
          },
          "metadata": {},
          "execution_count": 842
        }
      ]
    },
    {
      "cell_type": "code",
      "source": [
        "pred_list = []\n",
        "for tri,vai in cv.split(test):\n",
        "    # 학습데이터\n",
        "    x_train = test.iloc[tri]\n",
        "    y_train = re_x_target.iloc[tri]\n",
        "    # 검증데이터\n",
        "    x_valid = test.iloc[vai]\n",
        "    y_valid = re_x_target.iloc[vai]\n",
        "    \n",
        "    # 모델 학습\n",
        "    model = lgb.LGBMRegressor(random_state=SEED,n_estimators=1000)\n",
        "    model.fit(x_train,y_train , eval_set = [(x_valid,y_valid)],early_stopping_rounds=50) \n",
        "\n",
        "    pred = model.predict(x_valid)\n",
        "\n",
        "    predict = np.where(pred > 0.35, 1 , 0)\n",
        "    # score = cross_val_score(y_valid, predict, scoring=\"f1_macro\") \n",
        "    pred_list.append(predict)\n",
        "\n",
        "pred_list"
      ],
      "metadata": {
        "colab": {
          "base_uri": "https://localhost:8080/"
        },
        "id": "xMWYYsT_IDRa",
        "outputId": "5220f058-8c1c-475f-e9fc-24184e76feab"
      },
      "execution_count": 843,
      "outputs": [
        {
          "output_type": "stream",
          "name": "stdout",
          "text": [
            "[1]\tvalid_0's l2: 0.0358647\n",
            "Training until validation scores don't improve for 50 rounds.\n",
            "[2]\tvalid_0's l2: 0.0359527\n",
            "[3]\tvalid_0's l2: 0.036041\n",
            "[4]\tvalid_0's l2: 0.036075\n",
            "[5]\tvalid_0's l2: 0.0361908\n",
            "[6]\tvalid_0's l2: 0.036242\n",
            "[7]\tvalid_0's l2: 0.0363063\n",
            "[8]\tvalid_0's l2: 0.0363149\n",
            "[9]\tvalid_0's l2: 0.0364076\n",
            "[10]\tvalid_0's l2: 0.0363994\n",
            "[11]\tvalid_0's l2: 0.0364847\n",
            "[12]\tvalid_0's l2: 0.0365233\n",
            "[13]\tvalid_0's l2: 0.0366047\n",
            "[14]\tvalid_0's l2: 0.0366467\n",
            "[15]\tvalid_0's l2: 0.0366858\n",
            "[16]\tvalid_0's l2: 0.0367271\n",
            "[17]\tvalid_0's l2: 0.036703\n",
            "[18]\tvalid_0's l2: 0.0367689\n",
            "[19]\tvalid_0's l2: 0.0368063\n",
            "[20]\tvalid_0's l2: 0.0368666\n",
            "[21]\tvalid_0's l2: 0.0369441\n",
            "[22]\tvalid_0's l2: 0.0369439\n",
            "[23]\tvalid_0's l2: 0.0369572\n",
            "[24]\tvalid_0's l2: 0.0370268\n",
            "[25]\tvalid_0's l2: 0.0370445\n",
            "[26]\tvalid_0's l2: 0.0370624\n",
            "[27]\tvalid_0's l2: 0.0371214\n",
            "[28]\tvalid_0's l2: 0.0371921\n",
            "[29]\tvalid_0's l2: 0.0372289\n",
            "[30]\tvalid_0's l2: 0.0372294\n",
            "[31]\tvalid_0's l2: 0.0372279\n",
            "[32]\tvalid_0's l2: 0.037233\n",
            "[33]\tvalid_0's l2: 0.0372653\n",
            "[34]\tvalid_0's l2: 0.0372717\n",
            "[35]\tvalid_0's l2: 0.0372782\n",
            "[36]\tvalid_0's l2: 0.0372927\n",
            "[37]\tvalid_0's l2: 0.0373087\n",
            "[38]\tvalid_0's l2: 0.0372721\n",
            "[39]\tvalid_0's l2: 0.037251\n",
            "[40]\tvalid_0's l2: 0.0372586\n",
            "[41]\tvalid_0's l2: 0.0372875\n",
            "[42]\tvalid_0's l2: 0.0373511\n",
            "[43]\tvalid_0's l2: 0.0373631\n",
            "[44]\tvalid_0's l2: 0.0373818\n",
            "[45]\tvalid_0's l2: 0.0374125\n",
            "[46]\tvalid_0's l2: 0.0374177\n",
            "[47]\tvalid_0's l2: 0.0374143\n",
            "[48]\tvalid_0's l2: 0.0374499\n",
            "[49]\tvalid_0's l2: 0.0375108\n",
            "[50]\tvalid_0's l2: 0.0374997\n",
            "[51]\tvalid_0's l2: 0.037539\n",
            "Early stopping, best iteration is:\n",
            "[1]\tvalid_0's l2: 0.0358647\n",
            "[1]\tvalid_0's l2: 0.0466697\n",
            "Training until validation scores don't improve for 50 rounds.\n",
            "[2]\tvalid_0's l2: 0.0467077\n",
            "[3]\tvalid_0's l2: 0.0467359\n",
            "[4]\tvalid_0's l2: 0.0468411\n",
            "[5]\tvalid_0's l2: 0.0468738\n",
            "[6]\tvalid_0's l2: 0.0468541\n",
            "[7]\tvalid_0's l2: 0.0468973\n",
            "[8]\tvalid_0's l2: 0.0469761\n",
            "[9]\tvalid_0's l2: 0.0470711\n",
            "[10]\tvalid_0's l2: 0.047047\n",
            "[11]\tvalid_0's l2: 0.0470595\n",
            "[12]\tvalid_0's l2: 0.0470377\n",
            "[13]\tvalid_0's l2: 0.0470424\n",
            "[14]\tvalid_0's l2: 0.0470739\n",
            "[15]\tvalid_0's l2: 0.0471423\n",
            "[16]\tvalid_0's l2: 0.0472298\n",
            "[17]\tvalid_0's l2: 0.0472364\n",
            "[18]\tvalid_0's l2: 0.0472689\n",
            "[19]\tvalid_0's l2: 0.0472689\n",
            "[20]\tvalid_0's l2: 0.0473213\n",
            "[21]\tvalid_0's l2: 0.0473669\n",
            "[22]\tvalid_0's l2: 0.0474052\n",
            "[23]\tvalid_0's l2: 0.0473835\n",
            "[24]\tvalid_0's l2: 0.047452\n",
            "[25]\tvalid_0's l2: 0.0474486\n",
            "[26]\tvalid_0's l2: 0.047446\n",
            "[27]\tvalid_0's l2: 0.0474621\n",
            "[28]\tvalid_0's l2: 0.047501\n",
            "[29]\tvalid_0's l2: 0.0475227\n",
            "[30]\tvalid_0's l2: 0.0475329\n",
            "[31]\tvalid_0's l2: 0.0475775\n",
            "[32]\tvalid_0's l2: 0.0475926\n",
            "[33]\tvalid_0's l2: 0.0476364\n",
            "[34]\tvalid_0's l2: 0.0476321\n",
            "[35]\tvalid_0's l2: 0.0476853\n",
            "[36]\tvalid_0's l2: 0.0477586\n",
            "[37]\tvalid_0's l2: 0.0477771\n",
            "[38]\tvalid_0's l2: 0.0478085\n",
            "[39]\tvalid_0's l2: 0.0478924\n",
            "[40]\tvalid_0's l2: 0.047879\n",
            "[41]\tvalid_0's l2: 0.0478848\n",
            "[42]\tvalid_0's l2: 0.0479401\n",
            "[43]\tvalid_0's l2: 0.0479426\n",
            "[44]\tvalid_0's l2: 0.0479511\n",
            "[45]\tvalid_0's l2: 0.0479926\n",
            "[46]\tvalid_0's l2: 0.0480429\n",
            "[47]\tvalid_0's l2: 0.0481718\n",
            "[48]\tvalid_0's l2: 0.048187\n",
            "[49]\tvalid_0's l2: 0.0482533\n",
            "[50]\tvalid_0's l2: 0.0483133\n",
            "[51]\tvalid_0's l2: 0.0483539\n",
            "Early stopping, best iteration is:\n",
            "[1]\tvalid_0's l2: 0.0466697\n",
            "[1]\tvalid_0's l2: 0.038007\n",
            "Training until validation scores don't improve for 50 rounds.\n",
            "[2]\tvalid_0's l2: 0.0380058\n",
            "[3]\tvalid_0's l2: 0.0380112\n",
            "[4]\tvalid_0's l2: 0.0381048\n",
            "[5]\tvalid_0's l2: 0.0382381\n",
            "[6]\tvalid_0's l2: 0.0382923\n",
            "[7]\tvalid_0's l2: 0.0383819\n",
            "[8]\tvalid_0's l2: 0.0384407\n",
            "[9]\tvalid_0's l2: 0.0385348\n",
            "[10]\tvalid_0's l2: 0.0386167\n",
            "[11]\tvalid_0's l2: 0.0386972\n",
            "[12]\tvalid_0's l2: 0.0387094\n",
            "[13]\tvalid_0's l2: 0.0387308\n",
            "[14]\tvalid_0's l2: 0.0387962\n",
            "[15]\tvalid_0's l2: 0.0388569\n",
            "[16]\tvalid_0's l2: 0.0389509\n",
            "[17]\tvalid_0's l2: 0.0390052\n",
            "[18]\tvalid_0's l2: 0.0389676\n",
            "[19]\tvalid_0's l2: 0.0389904\n",
            "[20]\tvalid_0's l2: 0.0389855\n",
            "[21]\tvalid_0's l2: 0.0390263\n",
            "[22]\tvalid_0's l2: 0.0391234\n",
            "[23]\tvalid_0's l2: 0.0391315\n",
            "[24]\tvalid_0's l2: 0.0391796\n",
            "[25]\tvalid_0's l2: 0.039227\n",
            "[26]\tvalid_0's l2: 0.0393153\n",
            "[27]\tvalid_0's l2: 0.0394073\n",
            "[28]\tvalid_0's l2: 0.0393447\n",
            "[29]\tvalid_0's l2: 0.0393898\n",
            "[30]\tvalid_0's l2: 0.0393898\n",
            "[31]\tvalid_0's l2: 0.0394386\n",
            "[32]\tvalid_0's l2: 0.0394461\n",
            "[33]\tvalid_0's l2: 0.0394573\n",
            "[34]\tvalid_0's l2: 0.0395588\n",
            "[35]\tvalid_0's l2: 0.0395891\n",
            "[36]\tvalid_0's l2: 0.0395401\n",
            "[37]\tvalid_0's l2: 0.039551\n",
            "[38]\tvalid_0's l2: 0.0395568\n",
            "[39]\tvalid_0's l2: 0.0395405\n",
            "[40]\tvalid_0's l2: 0.0395796\n",
            "[41]\tvalid_0's l2: 0.0396375\n",
            "[42]\tvalid_0's l2: 0.039632\n",
            "[43]\tvalid_0's l2: 0.0396499\n",
            "[44]\tvalid_0's l2: 0.0396971\n",
            "[45]\tvalid_0's l2: 0.0397324\n",
            "[46]\tvalid_0's l2: 0.0398151\n",
            "[47]\tvalid_0's l2: 0.0398442\n",
            "[48]\tvalid_0's l2: 0.0398599\n",
            "[49]\tvalid_0's l2: 0.0399068\n",
            "[50]\tvalid_0's l2: 0.0398977\n",
            "[51]\tvalid_0's l2: 0.0399474\n",
            "[52]\tvalid_0's l2: 0.0399551\n",
            "Early stopping, best iteration is:\n",
            "[2]\tvalid_0's l2: 0.0380058\n",
            "[1]\tvalid_0's l2: 0.0392159\n",
            "Training until validation scores don't improve for 50 rounds.\n",
            "[2]\tvalid_0's l2: 0.0392674\n",
            "[3]\tvalid_0's l2: 0.039407\n",
            "[4]\tvalid_0's l2: 0.0394584\n",
            "[5]\tvalid_0's l2: 0.0395191\n",
            "[6]\tvalid_0's l2: 0.0395887\n",
            "[7]\tvalid_0's l2: 0.0396495\n",
            "[8]\tvalid_0's l2: 0.0397452\n",
            "[9]\tvalid_0's l2: 0.039754\n",
            "[10]\tvalid_0's l2: 0.0397671\n",
            "[11]\tvalid_0's l2: 0.0398036\n",
            "[12]\tvalid_0's l2: 0.0398275\n",
            "[13]\tvalid_0's l2: 0.0398176\n",
            "[14]\tvalid_0's l2: 0.0399161\n",
            "[15]\tvalid_0's l2: 0.0399684\n",
            "[16]\tvalid_0's l2: 0.0400205\n",
            "[17]\tvalid_0's l2: 0.0400978\n",
            "[18]\tvalid_0's l2: 0.040164\n",
            "[19]\tvalid_0's l2: 0.0401753\n",
            "[20]\tvalid_0's l2: 0.0402279\n",
            "[21]\tvalid_0's l2: 0.0403227\n",
            "[22]\tvalid_0's l2: 0.0403606\n",
            "[23]\tvalid_0's l2: 0.0404283\n",
            "[24]\tvalid_0's l2: 0.0404268\n",
            "[25]\tvalid_0's l2: 0.0404672\n",
            "[26]\tvalid_0's l2: 0.0405023\n",
            "[27]\tvalid_0's l2: 0.0405836\n",
            "[28]\tvalid_0's l2: 0.0406389\n",
            "[29]\tvalid_0's l2: 0.0407195\n",
            "[30]\tvalid_0's l2: 0.0407549\n",
            "[31]\tvalid_0's l2: 0.0408345\n",
            "[32]\tvalid_0's l2: 0.0408934\n",
            "[33]\tvalid_0's l2: 0.0409276\n",
            "[34]\tvalid_0's l2: 0.0409841\n",
            "[35]\tvalid_0's l2: 0.0410147\n",
            "[36]\tvalid_0's l2: 0.0411055\n",
            "[37]\tvalid_0's l2: 0.0411061\n",
            "[38]\tvalid_0's l2: 0.0411332\n",
            "[39]\tvalid_0's l2: 0.0412043\n",
            "[40]\tvalid_0's l2: 0.0412594\n",
            "[41]\tvalid_0's l2: 0.0413313\n",
            "[42]\tvalid_0's l2: 0.0413564\n",
            "[43]\tvalid_0's l2: 0.0413964\n",
            "[44]\tvalid_0's l2: 0.0414688\n",
            "[45]\tvalid_0's l2: 0.0415313\n",
            "[46]\tvalid_0's l2: 0.041584\n",
            "[47]\tvalid_0's l2: 0.0416517\n",
            "[48]\tvalid_0's l2: 0.0416509\n",
            "[49]\tvalid_0's l2: 0.0416521\n",
            "[50]\tvalid_0's l2: 0.0417159\n",
            "[51]\tvalid_0's l2: 0.0417308\n",
            "Early stopping, best iteration is:\n",
            "[1]\tvalid_0's l2: 0.0392159\n",
            "[1]\tvalid_0's l2: 0.0393823\n",
            "Training until validation scores don't improve for 50 rounds.\n",
            "[2]\tvalid_0's l2: 0.039445\n",
            "[3]\tvalid_0's l2: 0.0394421\n",
            "[4]\tvalid_0's l2: 0.0394687\n",
            "[5]\tvalid_0's l2: 0.0394597\n",
            "[6]\tvalid_0's l2: 0.0395717\n",
            "[7]\tvalid_0's l2: 0.0395594\n",
            "[8]\tvalid_0's l2: 0.0395151\n",
            "[9]\tvalid_0's l2: 0.0395417\n",
            "[10]\tvalid_0's l2: 0.0395688\n",
            "[11]\tvalid_0's l2: 0.0396332\n",
            "[12]\tvalid_0's l2: 0.0397175\n",
            "[13]\tvalid_0's l2: 0.0396927\n",
            "[14]\tvalid_0's l2: 0.0397542\n",
            "[15]\tvalid_0's l2: 0.0397945\n",
            "[16]\tvalid_0's l2: 0.0398207\n",
            "[17]\tvalid_0's l2: 0.0398274\n",
            "[18]\tvalid_0's l2: 0.0398512\n",
            "[19]\tvalid_0's l2: 0.0398864\n",
            "[20]\tvalid_0's l2: 0.0399272\n",
            "[21]\tvalid_0's l2: 0.0399414\n",
            "[22]\tvalid_0's l2: 0.0399468\n",
            "[23]\tvalid_0's l2: 0.0399998\n",
            "[24]\tvalid_0's l2: 0.040038\n",
            "[25]\tvalid_0's l2: 0.0400541\n",
            "[26]\tvalid_0's l2: 0.0401329\n",
            "[27]\tvalid_0's l2: 0.040065\n",
            "[28]\tvalid_0's l2: 0.0400642\n",
            "[29]\tvalid_0's l2: 0.0401141\n",
            "[30]\tvalid_0's l2: 0.0401407\n",
            "[31]\tvalid_0's l2: 0.0401449\n",
            "[32]\tvalid_0's l2: 0.0401727\n",
            "[33]\tvalid_0's l2: 0.040178\n",
            "[34]\tvalid_0's l2: 0.040158\n",
            "[35]\tvalid_0's l2: 0.0401255\n",
            "[36]\tvalid_0's l2: 0.0401869\n",
            "[37]\tvalid_0's l2: 0.0402455\n",
            "[38]\tvalid_0's l2: 0.0403262\n",
            "[39]\tvalid_0's l2: 0.0403171\n",
            "[40]\tvalid_0's l2: 0.0403413\n",
            "[41]\tvalid_0's l2: 0.0403713\n",
            "[42]\tvalid_0's l2: 0.0403753\n",
            "[43]\tvalid_0's l2: 0.0404723\n",
            "[44]\tvalid_0's l2: 0.0404399\n",
            "[45]\tvalid_0's l2: 0.0404428\n",
            "[46]\tvalid_0's l2: 0.0404722\n",
            "[47]\tvalid_0's l2: 0.040454\n",
            "[48]\tvalid_0's l2: 0.0405001\n",
            "[49]\tvalid_0's l2: 0.0404926\n",
            "[50]\tvalid_0's l2: 0.0405251\n",
            "[51]\tvalid_0's l2: 0.0405748\n",
            "Early stopping, best iteration is:\n",
            "[1]\tvalid_0's l2: 0.0393823\n"
          ]
        },
        {
          "output_type": "execute_result",
          "data": {
            "text/plain": [
              "[array([0, 0, 0, ..., 0, 0, 0]),\n",
              " array([0, 0, 0, ..., 0, 0, 0]),\n",
              " array([0, 0, 0, ..., 0, 0, 0]),\n",
              " array([0, 0, 0, ..., 0, 0, 0]),\n",
              " array([0, 0, 0, ..., 0, 0, 0])]"
            ]
          },
          "metadata": {},
          "execution_count": 843
        }
      ]
    },
    {
      "cell_type": "code",
      "source": [
        "x = np.concatenate(pred_list,axis = 0)\n",
        "x.shape"
      ],
      "metadata": {
        "colab": {
          "base_uri": "https://localhost:8080/"
        },
        "id": "ScmnXM--yQh3",
        "outputId": "53270824-3db9-4013-f356-4e720074a837"
      },
      "execution_count": 844,
      "outputs": [
        {
          "output_type": "execute_result",
          "data": {
            "text/plain": [
              "(6041,)"
            ]
          },
          "metadata": {},
          "execution_count": 844
        }
      ]
    },
    {
      "cell_type": "code",
      "source": [
        "submit = pd.read_csv('/content/drive/MyDrive/sample_submission.csv')\n",
        "submit['Y_LABEL'] = x\n",
        "submit.head()"
      ],
      "metadata": {
        "colab": {
          "base_uri": "https://localhost:8080/",
          "height": 206
        },
        "id": "j3ht8gKyyuRb",
        "outputId": "f7957ffd-fb76-4e9f-cc31-bb0f700102a9"
      },
      "execution_count": 845,
      "outputs": [
        {
          "output_type": "execute_result",
          "data": {
            "text/plain": [
              "          ID  Y_LABEL\n",
              "0  TEST_0000        0\n",
              "1  TEST_0001        0\n",
              "2  TEST_0002        0\n",
              "3  TEST_0003        0\n",
              "4  TEST_0004        0"
            ],
            "text/html": [
              "\n",
              "  <div id=\"df-7422ef10-bd8a-4ce2-a997-01c105676dc8\">\n",
              "    <div class=\"colab-df-container\">\n",
              "      <div>\n",
              "<style scoped>\n",
              "    .dataframe tbody tr th:only-of-type {\n",
              "        vertical-align: middle;\n",
              "    }\n",
              "\n",
              "    .dataframe tbody tr th {\n",
              "        vertical-align: top;\n",
              "    }\n",
              "\n",
              "    .dataframe thead th {\n",
              "        text-align: right;\n",
              "    }\n",
              "</style>\n",
              "<table border=\"1\" class=\"dataframe\">\n",
              "  <thead>\n",
              "    <tr style=\"text-align: right;\">\n",
              "      <th></th>\n",
              "      <th>ID</th>\n",
              "      <th>Y_LABEL</th>\n",
              "    </tr>\n",
              "  </thead>\n",
              "  <tbody>\n",
              "    <tr>\n",
              "      <th>0</th>\n",
              "      <td>TEST_0000</td>\n",
              "      <td>0</td>\n",
              "    </tr>\n",
              "    <tr>\n",
              "      <th>1</th>\n",
              "      <td>TEST_0001</td>\n",
              "      <td>0</td>\n",
              "    </tr>\n",
              "    <tr>\n",
              "      <th>2</th>\n",
              "      <td>TEST_0002</td>\n",
              "      <td>0</td>\n",
              "    </tr>\n",
              "    <tr>\n",
              "      <th>3</th>\n",
              "      <td>TEST_0003</td>\n",
              "      <td>0</td>\n",
              "    </tr>\n",
              "    <tr>\n",
              "      <th>4</th>\n",
              "      <td>TEST_0004</td>\n",
              "      <td>0</td>\n",
              "    </tr>\n",
              "  </tbody>\n",
              "</table>\n",
              "</div>\n",
              "      <button class=\"colab-df-convert\" onclick=\"convertToInteractive('df-7422ef10-bd8a-4ce2-a997-01c105676dc8')\"\n",
              "              title=\"Convert this dataframe to an interactive table.\"\n",
              "              style=\"display:none;\">\n",
              "        \n",
              "  <svg xmlns=\"http://www.w3.org/2000/svg\" height=\"24px\"viewBox=\"0 0 24 24\"\n",
              "       width=\"24px\">\n",
              "    <path d=\"M0 0h24v24H0V0z\" fill=\"none\"/>\n",
              "    <path d=\"M18.56 5.44l.94 2.06.94-2.06 2.06-.94-2.06-.94-.94-2.06-.94 2.06-2.06.94zm-11 1L8.5 8.5l.94-2.06 2.06-.94-2.06-.94L8.5 2.5l-.94 2.06-2.06.94zm10 10l.94 2.06.94-2.06 2.06-.94-2.06-.94-.94-2.06-.94 2.06-2.06.94z\"/><path d=\"M17.41 7.96l-1.37-1.37c-.4-.4-.92-.59-1.43-.59-.52 0-1.04.2-1.43.59L10.3 9.45l-7.72 7.72c-.78.78-.78 2.05 0 2.83L4 21.41c.39.39.9.59 1.41.59.51 0 1.02-.2 1.41-.59l7.78-7.78 2.81-2.81c.8-.78.8-2.07 0-2.86zM5.41 20L4 18.59l7.72-7.72 1.47 1.35L5.41 20z\"/>\n",
              "  </svg>\n",
              "      </button>\n",
              "      \n",
              "  <style>\n",
              "    .colab-df-container {\n",
              "      display:flex;\n",
              "      flex-wrap:wrap;\n",
              "      gap: 12px;\n",
              "    }\n",
              "\n",
              "    .colab-df-convert {\n",
              "      background-color: #E8F0FE;\n",
              "      border: none;\n",
              "      border-radius: 50%;\n",
              "      cursor: pointer;\n",
              "      display: none;\n",
              "      fill: #1967D2;\n",
              "      height: 32px;\n",
              "      padding: 0 0 0 0;\n",
              "      width: 32px;\n",
              "    }\n",
              "\n",
              "    .colab-df-convert:hover {\n",
              "      background-color: #E2EBFA;\n",
              "      box-shadow: 0px 1px 2px rgba(60, 64, 67, 0.3), 0px 1px 3px 1px rgba(60, 64, 67, 0.15);\n",
              "      fill: #174EA6;\n",
              "    }\n",
              "\n",
              "    [theme=dark] .colab-df-convert {\n",
              "      background-color: #3B4455;\n",
              "      fill: #D2E3FC;\n",
              "    }\n",
              "\n",
              "    [theme=dark] .colab-df-convert:hover {\n",
              "      background-color: #434B5C;\n",
              "      box-shadow: 0px 1px 3px 1px rgba(0, 0, 0, 0.15);\n",
              "      filter: drop-shadow(0px 1px 2px rgba(0, 0, 0, 0.3));\n",
              "      fill: #FFFFFF;\n",
              "    }\n",
              "  </style>\n",
              "\n",
              "      <script>\n",
              "        const buttonEl =\n",
              "          document.querySelector('#df-7422ef10-bd8a-4ce2-a997-01c105676dc8 button.colab-df-convert');\n",
              "        buttonEl.style.display =\n",
              "          google.colab.kernel.accessAllowed ? 'block' : 'none';\n",
              "\n",
              "        async function convertToInteractive(key) {\n",
              "          const element = document.querySelector('#df-7422ef10-bd8a-4ce2-a997-01c105676dc8');\n",
              "          const dataTable =\n",
              "            await google.colab.kernel.invokeFunction('convertToInteractive',\n",
              "                                                     [key], {});\n",
              "          if (!dataTable) return;\n",
              "\n",
              "          const docLinkHtml = 'Like what you see? Visit the ' +\n",
              "            '<a target=\"_blank\" href=https://colab.research.google.com/notebooks/data_table.ipynb>data table notebook</a>'\n",
              "            + ' to learn more about interactive tables.';\n",
              "          element.innerHTML = '';\n",
              "          dataTable['output_type'] = 'display_data';\n",
              "          await google.colab.output.renderOutput(dataTable, element);\n",
              "          const docLink = document.createElement('div');\n",
              "          docLink.innerHTML = docLinkHtml;\n",
              "          element.appendChild(docLink);\n",
              "        }\n",
              "      </script>\n",
              "    </div>\n",
              "  </div>\n",
              "  "
            ]
          },
          "metadata": {},
          "execution_count": 845
        }
      ]
    },
    {
      "cell_type": "code",
      "source": [
        "submit.to_csv('/content/drive/MyDrive/submit.csv', index=False)"
      ],
      "metadata": {
        "id": "hjN5sVco1Y_D"
      },
      "execution_count": 820,
      "outputs": []
    }
  ],
  "metadata": {
    "colab": {
      "provenance": [],
      "authorship_tag": "ABX9TyMi1vdodTuLCAepN6n3D2Nc",
      "include_colab_link": true
    },
    "gpuClass": "standard",
    "kernelspec": {
      "display_name": "Python 3",
      "name": "python3"
    },
    "language_info": {
      "name": "python"
    }
  },
  "nbformat": 4,
  "nbformat_minor": 0
}