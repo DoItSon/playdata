{
  "nbformat": 4,
  "nbformat_minor": 0,
  "metadata": {
    "colab": {
      "provenance": [],
      "collapsed_sections": [],
      "authorship_tag": "ABX9TyM+B+HLyJmsOBEpDYXUvfMC",
      "include_colab_link": true
    },
    "kernelspec": {
      "name": "python3",
      "display_name": "Python 3"
    },
    "language_info": {
      "name": "python"
    }
  },
  "cells": [
    {
      "cell_type": "markdown",
      "metadata": {
        "id": "view-in-github",
        "colab_type": "text"
      },
      "source": [
        "<a href=\"https://colab.research.google.com/github/DoItSon/playdata/blob/main/%EB%A8%B8%EC%8B%A0%EB%9F%AC%EB%8B%9D/07_%EC%95%99%EC%83%81%EB%B8%94.ipynb\" target=\"_parent\"><img src=\"https://colab.research.google.com/assets/colab-badge.svg\" alt=\"Open In Colab\"/></a>"
      ]
    },
    {
      "cell_type": "code",
      "execution_count": null,
      "metadata": {
        "id": "FJ_Vf9VHFA6D"
      },
      "outputs": [],
      "source": [
        "import pandas as pd\n",
        "import numpy as np\n",
        "import seaborn as sns\n",
        "from sklearn.preprocessing import OneHotEncoder\n",
        "from sklearn.model_selection import train_test_split\n",
        "from sklearn.metrics import roc_auc_score\n",
        "df = sns.load_dataset('titanic') # 타이타닉 데이터 받아오기\n",
        "cols = [\"age\",\"sibsp\",\"parch\",\"fare\"] # 숫자니까 바로 사용\n",
        "features = df[cols] # 피쳐\n",
        "target = df[\"survived\"] # 정답값\n",
        "# one hot encoding\n",
        "cols = [\"pclass\",\"sex\",\"embarked\"] # 범주형\n",
        "enc = OneHotEncoder(handle_unknown='ignore')\n",
        "tmp = pd.DataFrame(\n",
        "    enc.fit_transform(df[cols]).toarray(),\n",
        "    columns = enc.get_feature_names_out()\n",
        ")\n",
        "features = pd.concat([features,tmp],axis=1)\n",
        "# 나이 결측치 채우기\n",
        "features.age = features.age.fillna(features.age.median())"
      ]
    },
    {
      "cell_type": "markdown",
      "source": [
        "- 스케일링"
      ],
      "metadata": {
        "id": "XB3S7oY2cxAx"
      }
    },
    {
      "cell_type": "code",
      "source": [
        "from sklearn.preprocessing import MinMaxScaler\n",
        "scaler = MinMaxScaler()\n",
        "\n",
        "features.loc[:,features.columns] = scaler.fit_transform(features) # 넘파이 형식에서 데이터프레임 형식으로 변환"
      ],
      "metadata": {
        "id": "hfeoyH6qc6c9"
      },
      "execution_count": null,
      "outputs": []
    },
    {
      "cell_type": "code",
      "source": [
        "features.head()"
      ],
      "metadata": {
        "colab": {
          "base_uri": "https://localhost:8080/",
          "height": 270
        },
        "id": "3xjrjH7fc6bP",
        "outputId": "b5ef438c-a0a9-4148-d70e-7c747b557089"
      },
      "execution_count": null,
      "outputs": [
        {
          "output_type": "execute_result",
          "data": {
            "text/plain": [
              "        age  sibsp  parch      fare  pclass_1  pclass_2  pclass_3  sex_female  \\\n",
              "0  0.271174  0.125    0.0  0.014151       0.0       0.0       1.0         0.0   \n",
              "1  0.472229  0.125    0.0  0.139136       1.0       0.0       0.0         1.0   \n",
              "2  0.321438  0.000    0.0  0.015469       0.0       0.0       1.0         1.0   \n",
              "3  0.434531  0.125    0.0  0.103644       1.0       0.0       0.0         1.0   \n",
              "4  0.434531  0.000    0.0  0.015713       0.0       0.0       1.0         0.0   \n",
              "\n",
              "   sex_male  embarked_C  embarked_Q  embarked_S  embarked_nan  \n",
              "0       1.0         0.0         0.0         1.0           0.0  \n",
              "1       0.0         1.0         0.0         0.0           0.0  \n",
              "2       0.0         0.0         0.0         1.0           0.0  \n",
              "3       0.0         0.0         0.0         1.0           0.0  \n",
              "4       1.0         0.0         0.0         1.0           0.0  "
            ],
            "text/html": [
              "\n",
              "  <div id=\"df-b483ccf4-cca3-43eb-b9de-2253abec8c1c\">\n",
              "    <div class=\"colab-df-container\">\n",
              "      <div>\n",
              "<style scoped>\n",
              "    .dataframe tbody tr th:only-of-type {\n",
              "        vertical-align: middle;\n",
              "    }\n",
              "\n",
              "    .dataframe tbody tr th {\n",
              "        vertical-align: top;\n",
              "    }\n",
              "\n",
              "    .dataframe thead th {\n",
              "        text-align: right;\n",
              "    }\n",
              "</style>\n",
              "<table border=\"1\" class=\"dataframe\">\n",
              "  <thead>\n",
              "    <tr style=\"text-align: right;\">\n",
              "      <th></th>\n",
              "      <th>age</th>\n",
              "      <th>sibsp</th>\n",
              "      <th>parch</th>\n",
              "      <th>fare</th>\n",
              "      <th>pclass_1</th>\n",
              "      <th>pclass_2</th>\n",
              "      <th>pclass_3</th>\n",
              "      <th>sex_female</th>\n",
              "      <th>sex_male</th>\n",
              "      <th>embarked_C</th>\n",
              "      <th>embarked_Q</th>\n",
              "      <th>embarked_S</th>\n",
              "      <th>embarked_nan</th>\n",
              "    </tr>\n",
              "  </thead>\n",
              "  <tbody>\n",
              "    <tr>\n",
              "      <th>0</th>\n",
              "      <td>0.271174</td>\n",
              "      <td>0.125</td>\n",
              "      <td>0.0</td>\n",
              "      <td>0.014151</td>\n",
              "      <td>0.0</td>\n",
              "      <td>0.0</td>\n",
              "      <td>1.0</td>\n",
              "      <td>0.0</td>\n",
              "      <td>1.0</td>\n",
              "      <td>0.0</td>\n",
              "      <td>0.0</td>\n",
              "      <td>1.0</td>\n",
              "      <td>0.0</td>\n",
              "    </tr>\n",
              "    <tr>\n",
              "      <th>1</th>\n",
              "      <td>0.472229</td>\n",
              "      <td>0.125</td>\n",
              "      <td>0.0</td>\n",
              "      <td>0.139136</td>\n",
              "      <td>1.0</td>\n",
              "      <td>0.0</td>\n",
              "      <td>0.0</td>\n",
              "      <td>1.0</td>\n",
              "      <td>0.0</td>\n",
              "      <td>1.0</td>\n",
              "      <td>0.0</td>\n",
              "      <td>0.0</td>\n",
              "      <td>0.0</td>\n",
              "    </tr>\n",
              "    <tr>\n",
              "      <th>2</th>\n",
              "      <td>0.321438</td>\n",
              "      <td>0.000</td>\n",
              "      <td>0.0</td>\n",
              "      <td>0.015469</td>\n",
              "      <td>0.0</td>\n",
              "      <td>0.0</td>\n",
              "      <td>1.0</td>\n",
              "      <td>1.0</td>\n",
              "      <td>0.0</td>\n",
              "      <td>0.0</td>\n",
              "      <td>0.0</td>\n",
              "      <td>1.0</td>\n",
              "      <td>0.0</td>\n",
              "    </tr>\n",
              "    <tr>\n",
              "      <th>3</th>\n",
              "      <td>0.434531</td>\n",
              "      <td>0.125</td>\n",
              "      <td>0.0</td>\n",
              "      <td>0.103644</td>\n",
              "      <td>1.0</td>\n",
              "      <td>0.0</td>\n",
              "      <td>0.0</td>\n",
              "      <td>1.0</td>\n",
              "      <td>0.0</td>\n",
              "      <td>0.0</td>\n",
              "      <td>0.0</td>\n",
              "      <td>1.0</td>\n",
              "      <td>0.0</td>\n",
              "    </tr>\n",
              "    <tr>\n",
              "      <th>4</th>\n",
              "      <td>0.434531</td>\n",
              "      <td>0.000</td>\n",
              "      <td>0.0</td>\n",
              "      <td>0.015713</td>\n",
              "      <td>0.0</td>\n",
              "      <td>0.0</td>\n",
              "      <td>1.0</td>\n",
              "      <td>0.0</td>\n",
              "      <td>1.0</td>\n",
              "      <td>0.0</td>\n",
              "      <td>0.0</td>\n",
              "      <td>1.0</td>\n",
              "      <td>0.0</td>\n",
              "    </tr>\n",
              "  </tbody>\n",
              "</table>\n",
              "</div>\n",
              "      <button class=\"colab-df-convert\" onclick=\"convertToInteractive('df-b483ccf4-cca3-43eb-b9de-2253abec8c1c')\"\n",
              "              title=\"Convert this dataframe to an interactive table.\"\n",
              "              style=\"display:none;\">\n",
              "        \n",
              "  <svg xmlns=\"http://www.w3.org/2000/svg\" height=\"24px\"viewBox=\"0 0 24 24\"\n",
              "       width=\"24px\">\n",
              "    <path d=\"M0 0h24v24H0V0z\" fill=\"none\"/>\n",
              "    <path d=\"M18.56 5.44l.94 2.06.94-2.06 2.06-.94-2.06-.94-.94-2.06-.94 2.06-2.06.94zm-11 1L8.5 8.5l.94-2.06 2.06-.94-2.06-.94L8.5 2.5l-.94 2.06-2.06.94zm10 10l.94 2.06.94-2.06 2.06-.94-2.06-.94-.94-2.06-.94 2.06-2.06.94z\"/><path d=\"M17.41 7.96l-1.37-1.37c-.4-.4-.92-.59-1.43-.59-.52 0-1.04.2-1.43.59L10.3 9.45l-7.72 7.72c-.78.78-.78 2.05 0 2.83L4 21.41c.39.39.9.59 1.41.59.51 0 1.02-.2 1.41-.59l7.78-7.78 2.81-2.81c.8-.78.8-2.07 0-2.86zM5.41 20L4 18.59l7.72-7.72 1.47 1.35L5.41 20z\"/>\n",
              "  </svg>\n",
              "      </button>\n",
              "      \n",
              "  <style>\n",
              "    .colab-df-container {\n",
              "      display:flex;\n",
              "      flex-wrap:wrap;\n",
              "      gap: 12px;\n",
              "    }\n",
              "\n",
              "    .colab-df-convert {\n",
              "      background-color: #E8F0FE;\n",
              "      border: none;\n",
              "      border-radius: 50%;\n",
              "      cursor: pointer;\n",
              "      display: none;\n",
              "      fill: #1967D2;\n",
              "      height: 32px;\n",
              "      padding: 0 0 0 0;\n",
              "      width: 32px;\n",
              "    }\n",
              "\n",
              "    .colab-df-convert:hover {\n",
              "      background-color: #E2EBFA;\n",
              "      box-shadow: 0px 1px 2px rgba(60, 64, 67, 0.3), 0px 1px 3px 1px rgba(60, 64, 67, 0.15);\n",
              "      fill: #174EA6;\n",
              "    }\n",
              "\n",
              "    [theme=dark] .colab-df-convert {\n",
              "      background-color: #3B4455;\n",
              "      fill: #D2E3FC;\n",
              "    }\n",
              "\n",
              "    [theme=dark] .colab-df-convert:hover {\n",
              "      background-color: #434B5C;\n",
              "      box-shadow: 0px 1px 3px 1px rgba(0, 0, 0, 0.15);\n",
              "      filter: drop-shadow(0px 1px 2px rgba(0, 0, 0, 0.3));\n",
              "      fill: #FFFFFF;\n",
              "    }\n",
              "  </style>\n",
              "\n",
              "      <script>\n",
              "        const buttonEl =\n",
              "          document.querySelector('#df-b483ccf4-cca3-43eb-b9de-2253abec8c1c button.colab-df-convert');\n",
              "        buttonEl.style.display =\n",
              "          google.colab.kernel.accessAllowed ? 'block' : 'none';\n",
              "\n",
              "        async function convertToInteractive(key) {\n",
              "          const element = document.querySelector('#df-b483ccf4-cca3-43eb-b9de-2253abec8c1c');\n",
              "          const dataTable =\n",
              "            await google.colab.kernel.invokeFunction('convertToInteractive',\n",
              "                                                     [key], {});\n",
              "          if (!dataTable) return;\n",
              "\n",
              "          const docLinkHtml = 'Like what you see? Visit the ' +\n",
              "            '<a target=\"_blank\" href=https://colab.research.google.com/notebooks/data_table.ipynb>data table notebook</a>'\n",
              "            + ' to learn more about interactive tables.';\n",
              "          element.innerHTML = '';\n",
              "          dataTable['output_type'] = 'display_data';\n",
              "          await google.colab.output.renderOutput(dataTable, element);\n",
              "          const docLink = document.createElement('div');\n",
              "          docLink.innerHTML = docLinkHtml;\n",
              "          element.appendChild(docLink);\n",
              "        }\n",
              "      </script>\n",
              "    </div>\n",
              "  </div>\n",
              "  "
            ]
          },
          "metadata": {},
          "execution_count": 5
        }
      ]
    },
    {
      "cell_type": "code",
      "source": [
        "SEED = 42\n",
        "\n",
        "x_train,x_valid,y_train,y_valid = train_test_split(features,target,random_state=SEED,test_size=0.2)\n",
        "x_train.shape,x_valid.shape,y_train.shape,y_valid.shape"
      ],
      "metadata": {
        "colab": {
          "base_uri": "https://localhost:8080/"
        },
        "id": "m3IdQMFRc6ZN",
        "outputId": "f32a16f8-427a-41f7-e93f-7f918b6f49bf"
      },
      "execution_count": null,
      "outputs": [
        {
          "output_type": "execute_result",
          "data": {
            "text/plain": [
              "((712, 13), (179, 13), (712,), (179,))"
            ]
          },
          "metadata": {},
          "execution_count": 6
        }
      ]
    },
    {
      "cell_type": "markdown",
      "source": [
        "# 앙상블 학습(Ensemble Learning)\n",
        "- 기계학습에서 여러개의 개별 모델의 예측을 결함으로써 보다 정확한 예측을 도출하는 기법"
      ],
      "metadata": {
        "id": "PZu-vJHwc6Wt"
      }
    },
    {
      "cell_type": "markdown",
      "source": [
        "# 앙상블 모델"
      ],
      "metadata": {
        "id": "ZlyRHf1Xc6Ut"
      }
    },
    {
      "cell_type": "markdown",
      "source": [
        "## Random Forest\n",
        "- 랜덤하게 일부 샘플들과 일부 피쳐들을 뽑아서 여러 개의 트리를 만들어서 앙상블하는 모델\n",
        "- 배깅 방식을 이용\n",
        "- 배깅(Bagging)\n",
        "    - Bootstrap Aggregation의 약어\n",
        "    - 샘플을 랜덤하게 여러번 뽑아 각 모델에 학습시켜 결과물을 집계하는 방법"
      ],
      "metadata": {
        "id": "8gm6Gl-0c6SG"
      }
    },
    {
      "cell_type": "code",
      "source": [
        "from sklearn.ensemble import RandomForestClassifier\n",
        "\n",
        "hp = {\n",
        "    \"random_state\" : SEED,\n",
        "    \"max_features\" : \"sqrt\", # None을 줄 경우 전체피쳐 사용\n",
        "    \"n_estimators\" : 100, # 트리개수를 의미 (잘 기억해두기)\n",
        "    \"max_depth\" : 10,\n",
        "    \"min_samples_split\" : 10,\n",
        "    \"min_samples_leaf\" : 3\n",
        "}\n",
        "model = RandomForestClassifier(**hp)\n",
        "model.fit(x_train,y_train)\n",
        "pred = model.predict_proba(x_valid)[:,1]\n",
        "roc_auc_score(y_valid,pred)"
      ],
      "metadata": {
        "colab": {
          "base_uri": "https://localhost:8080/"
        },
        "id": "h_QqNeHTc6Hf",
        "outputId": "036cf102-0a30-4c92-f62f-d20f86b4a2d8"
      },
      "execution_count": null,
      "outputs": [
        {
          "output_type": "execute_result",
          "data": {
            "text/plain": [
              "0.8952380952380953"
            ]
          },
          "metadata": {},
          "execution_count": 7
        }
      ]
    },
    {
      "cell_type": "code",
      "source": [
        "from sklearn.ensemble import BaggingClassifier\n",
        "from sklearn.linear_model import LogisticRegression\n",
        "\n",
        "hp = {\n",
        "    \"random_state\" : SEED,\n",
        "    \"base_estimator\" : LogisticRegression(random_state=SEED), # None이면 결정트리를 사용함\n",
        "    \"n_estimators\" : 100, # base_estomator 개수\n",
        "    \"max_features\" : 0.5 # 추출할 샘플 비율\n",
        "}\n",
        "model = BaggingClassifier(**hp)\n",
        "model.fit(x_train,y_train)\n",
        "pred = model.predict_proba(x_valid)[:,1]\n",
        "roc_auc_score(y_valid,pred)"
      ],
      "metadata": {
        "colab": {
          "base_uri": "https://localhost:8080/"
        },
        "id": "ntgBR_pCc6FE",
        "outputId": "0c7305dc-83ec-438e-c5a4-1ddb486573a0"
      },
      "execution_count": null,
      "outputs": [
        {
          "output_type": "execute_result",
          "data": {
            "text/plain": [
              "0.8698841698841698"
            ]
          },
          "metadata": {},
          "execution_count": 8
        }
      ]
    },
    {
      "cell_type": "markdown",
      "source": [
        "## Voting\n",
        "- 여러 모델들의 예측값을 투표방식(hard) or 평균방식(soft)으로 앙상블"
      ],
      "metadata": {
        "id": "4Wg_9WOwc5-9"
      }
    },
    {
      "cell_type": "code",
      "source": [
        "from sklearn.neural_network import MLPClassifier\n",
        "from sklearn.ensemble import VotingClassifier\n",
        "\n",
        "estimators = [\n",
        "    ( \"mlp\",MLPClassifier(max_iter=1000,random_state=SEED) ), # 각 예측값을 평균낸다.\n",
        "    ( \"lr\", LogisticRegression(random_state=SEED) ),\n",
        "    ( \"rf\", RandomForestClassifier(random_state=SEED) )\n",
        "]\n",
        "\n",
        "hp = {\n",
        "    \"estimators\" : estimators,\n",
        "    \"voting\" : \"soft\"\n",
        "}\n",
        "model = VotingClassifier(**hp)\n",
        "model.fit(x_train,y_train)\n",
        "pred = model.predict_proba(x_valid)[:,1]\n",
        "roc_auc_score(y_valid,pred)"
      ],
      "metadata": {
        "colab": {
          "base_uri": "https://localhost:8080/"
        },
        "id": "Z6zOjSrWc57t",
        "outputId": "abb5b8ac-3aa1-4658-fdf0-07f45cfbae84"
      },
      "execution_count": null,
      "outputs": [
        {
          "output_type": "execute_result",
          "data": {
            "text/plain": [
              "0.9063063063063064"
            ]
          },
          "metadata": {},
          "execution_count": 9
        }
      ]
    },
    {
      "cell_type": "code",
      "source": [
        "from sklearn.metrics import f1_score\n",
        "from sklearn.neural_network import MLPClassifier\n",
        "from sklearn.ensemble import VotingClassifier\n",
        "\n",
        "estimators = [\n",
        "    ( \"mlp\",MLPClassifier(max_iter=1000,random_state=SEED) ), # 0과 1의 과반수\n",
        "    ( \"lr\", LogisticRegression(random_state=SEED) ),\n",
        "    ( \"rf\", RandomForestClassifier(random_state=SEED) )\n",
        "]\n",
        "\n",
        "hp = {\n",
        "    \"estimators\" : estimators,\n",
        "    \"voting\" : \"hard\"\n",
        "}\n",
        "model = VotingClassifier(**hp)\n",
        "model.fit(x_train,y_train)\n",
        "pred = model.predict(x_valid)\n",
        "f1_score(y_valid,pred) # 0과 1로 결정된 값"
      ],
      "metadata": {
        "colab": {
          "base_uri": "https://localhost:8080/"
        },
        "id": "u9igR5I_c55t",
        "outputId": "7baf84c7-fcf7-40fa-c1c7-fbe730c4e35b"
      },
      "execution_count": null,
      "outputs": [
        {
          "output_type": "execute_result",
          "data": {
            "text/plain": [
              "0.7659574468085106"
            ]
          },
          "metadata": {},
          "execution_count": 10
        }
      ]
    },
    {
      "cell_type": "markdown",
      "source": [
        "## Stacking\n",
        "- 여러 모델들의 예측값을 최종모델(메타모델)의 학습 데이터로 사용해서 예측하는 방법\n",
        "- 과적합 방지하기 위해 내부적으로 CV를 진행한다."
      ],
      "metadata": {
        "id": "XbLxvVvsc539"
      }
    },
    {
      "cell_type": "code",
      "source": [
        "from sklearn.ensemble import StackingClassifier\n",
        "from sklearn.neighbors import KNeighborsClassifier\n",
        "from sklearn.tree import DecisionTreeClassifier\n",
        "\n",
        "estimators = [\n",
        "    ( \"knn\",KNeighborsClassifier(n_neighbors=10,weights=\"distance\") ),\n",
        "    ( \"dt\", DecisionTreeClassifier(max_depth=3,random_state=SEED) ),\n",
        "    ( \"rf\", RandomForestClassifier(random_state=SEED) )\n",
        "]\n",
        "\n",
        "hp = {\n",
        "    \"estimators\" : estimators,\n",
        "    \"final_estimator\" : LogisticRegression(random_state=SEED)\n",
        "}\n",
        "\n",
        "model = StackingClassifier(**hp,n_jobs = -1) # n_job -1 = cpu를 전부 다 사용하여 빠르게 나오도록한다. 있으면 무조건 사용\n",
        "model.fit(x_train,y_train)\n",
        "pred = model.predict_proba(x_valid)[:,1]\n",
        "roc_auc_score(y_valid,pred)"
      ],
      "metadata": {
        "colab": {
          "base_uri": "https://localhost:8080/"
        },
        "id": "8UM4kztZc52F",
        "outputId": "750b1e75-296a-472a-c6f7-d06c0307eac7"
      },
      "execution_count": null,
      "outputs": [
        {
          "output_type": "execute_result",
          "data": {
            "text/plain": [
              "0.8820463320463321"
            ]
          },
          "metadata": {},
          "execution_count": 11
        }
      ]
    },
    {
      "cell_type": "markdown",
      "source": [
        "## GradientBoosting\n",
        "- 트리기반 부스팅 앙상블 모델\n",
        "- 머신러닝 알고리즘 중에서 가장 예측성능이 높다고 알려졌고, 인기있는 알고리즘\n",
        "- Boosting\n",
        "    - 약한 모델을 결합하여 강한 모델을 만드는 과정\n",
        "    - 배깅과 다른점은 순차적으로 모델을 만들어 각 모델의 예측결과를 결합"
      ],
      "metadata": {
        "id": "Qks4Dhzzc50H"
      }
    },
    {
      "cell_type": "markdown",
      "source": [
        "![212.png](data:image/png;base64,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)"
      ],
      "metadata": {
        "id": "wFr8K-DZPG-x"
      }
    },
    {
      "cell_type": "markdown",
      "source": [
        "- 데이터 복사해놓기 (튜플형태로 복사됨!)"
      ],
      "metadata": {
        "id": "5OBygPZRvW5H"
      }
    },
    {
      "cell_type": "code",
      "source": [
        "data_backup = x_train.copy(), x_valid.copy(), y_train.copy(), y_valid.copy()"
      ],
      "metadata": {
        "id": "eUGa_Gfyc5x1"
      },
      "execution_count": null,
      "outputs": []
    },
    {
      "cell_type": "code",
      "source": [
        "from sklearn.tree import DecisionTreeRegressor\n",
        "from sklearn.ensemble import GradientBoostingRegressor\n",
        "from sklearn.metrics import mean_squared_error"
      ],
      "metadata": {
        "id": "txi2AsJac5vu"
      },
      "execution_count": null,
      "outputs": []
    },
    {
      "cell_type": "code",
      "source": [
        "from sklearn.datasets import load_diabetes\n",
        "diabetes = load_diabetes()\n",
        "data = diabetes.data\n",
        "target = diabetes.target\n",
        "\n",
        "data.shape, target.shape"
      ],
      "metadata": {
        "colab": {
          "base_uri": "https://localhost:8080/"
        },
        "id": "9KZgjZUec5tm",
        "outputId": "79809fa2-379a-4527-df5d-408b06cf7353"
      },
      "execution_count": null,
      "outputs": [
        {
          "output_type": "execute_result",
          "data": {
            "text/plain": [
              "((442, 10), (442,))"
            ]
          },
          "metadata": {},
          "execution_count": 14
        }
      ]
    },
    {
      "cell_type": "code",
      "source": [
        "x_train,x_valid,y_train,y_valid = train_test_split(data,target,random_state=SEED)\n",
        "x_train.shape,x_valid.shape,y_train.shape,y_valid.shape"
      ],
      "metadata": {
        "colab": {
          "base_uri": "https://localhost:8080/"
        },
        "id": "lcgROH87c3Tv",
        "outputId": "ba120c2e-d25c-4855-ea90-5d17ffeff803"
      },
      "execution_count": null,
      "outputs": [
        {
          "output_type": "execute_result",
          "data": {
            "text/plain": [
              "((331, 10), (111, 10), (331,), (111,))"
            ]
          },
          "metadata": {},
          "execution_count": 15
        }
      ]
    },
    {
      "cell_type": "code",
      "source": [
        "hp = {\n",
        "    \"max_depth\" : 2,\n",
        "    \"random_state\" : SEED\n",
        "}\n",
        "weak_1 = DecisionTreeRegressor(**hp)\n",
        "weak_1.fit(x_train,y_train)\n",
        "pred = weak_1.predict(x_train)"
      ],
      "metadata": {
        "id": "T9FiSTlSwofv"
      },
      "execution_count": null,
      "outputs": []
    },
    {
      "cell_type": "code",
      "source": [
        "residual = y_train - pred\n",
        "\n",
        "weak_2 = DecisionTreeRegressor(**hp)\n",
        "weak_2.fit(x_train,residual)\n",
        "pred = weak_2.predict(x_train)"
      ],
      "metadata": {
        "id": "9PE1x0sb0GTV"
      },
      "execution_count": null,
      "outputs": []
    },
    {
      "cell_type": "code",
      "source": [
        "residual = residual - pred\n",
        "\n",
        "weak_3 = DecisionTreeRegressor(**hp)\n",
        "weak_3.fit(x_train,residual)"
      ],
      "metadata": {
        "colab": {
          "base_uri": "https://localhost:8080/"
        },
        "id": "zA4ZRnEH02v9",
        "outputId": "6531213d-5c21-4ac3-b096-c0502a519558"
      },
      "execution_count": null,
      "outputs": [
        {
          "output_type": "execute_result",
          "data": {
            "text/plain": [
              "DecisionTreeRegressor(max_depth=2, random_state=42)"
            ]
          },
          "metadata": {},
          "execution_count": 18
        }
      ]
    },
    {
      "cell_type": "code",
      "source": [
        "pred = weak_1.predict(x_valid) + weak_2.predict(x_valid) + weak_3.predict(x_valid)\n",
        "mean_squared_error(y_valid,pred) ** 0.5 # RMSE"
      ],
      "metadata": {
        "colab": {
          "base_uri": "https://localhost:8080/"
        },
        "id": "cX4YNX9d1W_-",
        "outputId": "7670bd22-6eb4-4fd6-b150-d528e8a5fc1b"
      },
      "execution_count": null,
      "outputs": [
        {
          "output_type": "execute_result",
          "data": {
            "text/plain": [
              "61.872491186086826"
            ]
          },
          "metadata": {},
          "execution_count": 19
        }
      ]
    },
    {
      "cell_type": "code",
      "source": [
        "gbr = GradientBoostingRegressor(max_depth=2,random_state=SEED,n_estimators=3,learning_rate=1.) # 위와 같은 조건을 넣어줌!\n",
        "gbr.fit(x_train,y_train)\n",
        "pred = gbr.predict(x_valid)\n",
        "mean_squared_error(y_valid,pred) ** 0.5"
      ],
      "metadata": {
        "colab": {
          "base_uri": "https://localhost:8080/"
        },
        "id": "Xd39PitB14YB",
        "outputId": "7637f6f7-47ef-4003-f201-8e9760722c48"
      },
      "execution_count": null,
      "outputs": [
        {
          "output_type": "execute_result",
          "data": {
            "text/plain": [
              "61.872491186086826"
            ]
          },
          "metadata": {},
          "execution_count": 20
        }
      ]
    },
    {
      "cell_type": "markdown",
      "source": [
        "- 복사한 타이타닉 데이터 복원하기"
      ],
      "metadata": {
        "id": "ri4yW5NJ3Fhp"
      }
    },
    {
      "cell_type": "code",
      "source": [
        "x_train, x_valid, y_train, y_valid = data_backup"
      ],
      "metadata": {
        "id": "HkDWcj682IBx"
      },
      "execution_count": null,
      "outputs": []
    },
    {
      "cell_type": "code",
      "source": [
        "from sklearn.ensemble import GradientBoostingClassifier\n",
        "\n",
        "hp = {\n",
        "    \"random_state\" : SEED,\n",
        "    \"max_depth\" : 2,\n",
        "    \"n_estimators\" : 100, # 수행할 부스팅 단계 수\n",
        "}\n",
        "model = GradientBoostingClassifier(**hp)\n",
        "model.fit(x_train,y_train)\n",
        "pred = model.predict_proba(x_valid)[:,1]\n",
        "roc_auc_score(y_valid,pred)"
      ],
      "metadata": {
        "colab": {
          "base_uri": "https://localhost:8080/"
        },
        "id": "5T3p9dvV3I2W",
        "outputId": "5a0c96ba-7b52-4307-b253-96a8f2e9f899"
      },
      "execution_count": null,
      "outputs": [
        {
          "output_type": "execute_result",
          "data": {
            "text/plain": [
              "0.8911196911196911"
            ]
          },
          "metadata": {},
          "execution_count": 22
        }
      ]
    },
    {
      "cell_type": "markdown",
      "source": [
        "## XGBoost\n",
        "- 병렬처리가 불가능한 GBM의 단점을 보완\n",
        "- GPU를 지원\n",
        "- 내장된 교차검증과 결측치 처리같은 부가기능도 있다.\n",
        "- GBM보다 속도가 향상\n",
        "- 과적합 방지를 GBM보다 더 뛰어나게 방지한다.\n",
        "- https://xgboost.readthedocs.io/en/stable/"
      ],
      "metadata": {
        "id": "AM3LZDEb32OQ"
      }
    },
    {
      "cell_type": "code",
      "source": [
        "from xgboost import XGBClassifier,plot_importance"
      ],
      "metadata": {
        "id": "McBl4CdA4iwE"
      },
      "execution_count": null,
      "outputs": []
    },
    {
      "cell_type": "code",
      "source": [
        "hp = {\n",
        "    \"random_state\" : SEED,\n",
        "    \"max_depth\" : 2,\n",
        "    \"n_estimators\" : 100, # 수행할 부스팅 단계수\n",
        "}\n",
        "\n",
        "model = XGBClassifier(**hp)\n",
        "model.fit(x_train,y_train)\n",
        "pred = model.predict_proba(x_valid)[:,1]\n",
        "roc_auc_score(y_valid,pred)"
      ],
      "metadata": {
        "colab": {
          "base_uri": "https://localhost:8080/"
        },
        "id": "9Yyl94NA41U4",
        "outputId": "b52a7a84-4485-4241-c7d4-2e1ea7bed260"
      },
      "execution_count": null,
      "outputs": [
        {
          "output_type": "execute_result",
          "data": {
            "text/plain": [
              "0.8868082368082368"
            ]
          },
          "metadata": {},
          "execution_count": 24
        }
      ]
    },
    {
      "cell_type": "code",
      "source": [
        "import matplotlib.pyplot as plt\n",
        "plot_importance(model)\n",
        "plt.show()"
      ],
      "metadata": {
        "colab": {
          "base_uri": "https://localhost:8080/",
          "height": 295
        },
        "id": "RzuHmG2L5H-o",
        "outputId": "59f0e29d-f937-4657-cc18-8fbd2dce6280"
      },
      "execution_count": null,
      "outputs": [
        {
          "output_type": "display_data",
          "data": {
            "text/plain": [
              "<Figure size 432x288 with 1 Axes>"
            ],
            "image/png": "[encoded data removed]"
          },
          "metadata": {
            "needs_background": "light"
          }
        }
      ]
    },
    {
      "cell_type": "code",
      "source": [
        "from xgboost import to_graphviz\n",
        "to_graphviz(model)"
      ],
      "metadata": {
        "colab": {
          "base_uri": "https://localhost:8080/",
          "height": 331
        },
        "id": "S22c9ZJL5wh2",
        "outputId": "1b30184e-d2e4-47bf-a90f-99f1c22c4a3f"
      },
      "execution_count": null,
      "outputs": [
        {
          "output_type": "execute_result",
          "data": {
            "text/plain": [
              "<graphviz.dot.Digraph at 0x7f5ed0653450>"
            ],
            "image/svg+xml": "<?xml version=\"1.0\" encoding=\"UTF-8\" standalone=\"no\"?>\n<!DOCTYPE svg PUBLIC \"-//W3C//DTD SVG 1.1//EN\"\n \"http://www.w3.org/Graphics/SVG/1.1/DTD/svg11.dtd\">\n<!-- Generated by graphviz version 2.40.1 (20161225.0304)\n -->\n<!-- Title: %3 Pages: 1 -->\n<svg width=\"746pt\" height=\"218pt\"\n viewBox=\"0.00 0.00 746.08 218.00\" xmlns=\"http://www.w3.org/2000/svg\" xmlns:xlink=\"http://www.w3.org/1999/xlink\">\n<g id=\"graph0\" class=\"graph\" transform=\"scale(1 1) rotate(0) translate(4 214)\">\n<title>%3</title>\n<polygon fill=\"#ffffff\" stroke=\"transparent\" points=\"-4,4 -4,-214 742.0842,-214 742.0842,4 -4,4\"/>\n<!-- 0 -->\n<g id=\"node1\" class=\"node\">\n<title>0</title>\n<ellipse fill=\"none\" stroke=\"#000000\" cx=\"362.1424\" cy=\"-192\" rx=\"69.5877\" ry=\"18\"/>\n<text text-anchor=\"middle\" x=\"362.1424\" y=\"-188.3\" font-family=\"Times,serif\" font-size=\"14.00\" fill=\"#000000\">sex_female&lt;0.5</text>\n</g>\n<!-- 1 -->\n<g id=\"node2\" class=\"node\">\n<title>1</title>\n<ellipse fill=\"none\" stroke=\"#000000\" cx=\"271.1424\" cy=\"-105\" rx=\"79.0865\" ry=\"18\"/>\n<text text-anchor=\"middle\" x=\"271.1424\" y=\"-101.3\" font-family=\"Times,serif\" font-size=\"14.00\" fill=\"#000000\">age&lt;0.076401107</text>\n</g>\n<!-- 0&#45;&gt;1 -->\n<g id=\"edge1\" class=\"edge\">\n<title>0&#45;&gt;1</title>\n<path fill=\"none\" stroke=\"#0000ff\" d=\"M343.7272,-174.3943C330.2827,-161.5407 311.8776,-143.9446 296.9653,-129.6878\"/>\n<polygon fill=\"#0000ff\" stroke=\"#0000ff\" points=\"299.1771,-126.9602 289.5303,-122.5796 294.3398,-132.0199 299.1771,-126.9602\"/>\n<text text-anchor=\"middle\" x=\"357.6424\" y=\"-144.8\" font-family=\"Times,serif\" font-size=\"14.00\" fill=\"#000000\">yes, missing</text>\n</g>\n<!-- 2 -->\n<g id=\"node3\" class=\"node\">\n<title>2</title>\n<ellipse fill=\"none\" stroke=\"#000000\" cx=\"453.1424\" cy=\"-105\" rx=\"59.5901\" ry=\"18\"/>\n<text text-anchor=\"middle\" x=\"453.1424\" y=\"-101.3\" font-family=\"Times,serif\" font-size=\"14.00\" fill=\"#000000\">pclass_3&lt;0.5</text>\n</g>\n<!-- 0&#45;&gt;2 -->\n<g id=\"edge2\" class=\"edge\">\n<title>0&#45;&gt;2</title>\n<path fill=\"none\" stroke=\"#ff0000\" d=\"M380.5577,-174.3943C394.0906,-161.4561 412.6497,-143.7129 427.6135,-129.4068\"/>\n<polygon fill=\"#ff0000\" stroke=\"#ff0000\" points=\"430.2557,-131.723 435.0652,-122.2827 425.4184,-126.6633 430.2557,-131.723\"/>\n<text text-anchor=\"middle\" x=\"421.1424\" y=\"-144.8\" font-family=\"Times,serif\" font-size=\"14.00\" fill=\"#000000\">no</text>\n</g>\n<!-- 3 -->\n<g id=\"node4\" class=\"node\">\n<title>3</title>\n<ellipse fill=\"none\" stroke=\"#000000\" cx=\"85.1424\" cy=\"-18\" rx=\"85.2851\" ry=\"18\"/>\n<text text-anchor=\"middle\" x=\"85.1424\" y=\"-14.3\" font-family=\"Times,serif\" font-size=\"14.00\" fill=\"#000000\">leaf=0.0615384653</text>\n</g>\n<!-- 1&#45;&gt;3 -->\n<g id=\"edge3\" class=\"edge\">\n<title>1&#45;&gt;3</title>\n<path fill=\"none\" stroke=\"#0000ff\" d=\"M236.1573,-88.636C205.9868,-74.524 162.2535,-54.0681 129.6066,-38.7978\"/>\n<polygon fill=\"#0000ff\" stroke=\"#0000ff\" points=\"130.8275,-35.5049 120.2865,-34.4383 127.8616,-41.8456 130.8275,-35.5049\"/>\n<text text-anchor=\"middle\" x=\"225.6424\" y=\"-57.8\" font-family=\"Times,serif\" font-size=\"14.00\" fill=\"#000000\">yes, missing</text>\n</g>\n<!-- 4 -->\n<g id=\"node5\" class=\"node\">\n<title>4</title>\n<ellipse fill=\"none\" stroke=\"#000000\" cx=\"271.1424\" cy=\"-18\" rx=\"83.3857\" ry=\"18\"/>\n<text text-anchor=\"middle\" x=\"271.1424\" y=\"-14.3\" font-family=\"Times,serif\" font-size=\"14.00\" fill=\"#000000\">leaf=&#45;0.134075731</text>\n</g>\n<!-- 1&#45;&gt;4 -->\n<g id=\"edge4\" class=\"edge\">\n<title>1&#45;&gt;4</title>\n<path fill=\"none\" stroke=\"#ff0000\" d=\"M271.1424,-86.9735C271.1424,-75.1918 271.1424,-59.5607 271.1424,-46.1581\"/>\n<polygon fill=\"#ff0000\" stroke=\"#ff0000\" points=\"274.6425,-46.0033 271.1424,-36.0034 267.6425,-46.0034 274.6425,-46.0033\"/>\n<text text-anchor=\"middle\" x=\"279.1424\" y=\"-57.8\" font-family=\"Times,serif\" font-size=\"14.00\" fill=\"#000000\">no</text>\n</g>\n<!-- 5 -->\n<g id=\"node6\" class=\"node\">\n<title>5</title>\n<ellipse fill=\"none\" stroke=\"#000000\" cx=\"453.1424\" cy=\"-18\" rx=\"80.6858\" ry=\"18\"/>\n<text text-anchor=\"middle\" x=\"453.1424\" y=\"-14.3\" font-family=\"Times,serif\" font-size=\"14.00\" fill=\"#000000\">leaf=0.179104492</text>\n</g>\n<!-- 2&#45;&gt;5 -->\n<g id=\"edge5\" class=\"edge\">\n<title>2&#45;&gt;5</title>\n<path fill=\"none\" stroke=\"#0000ff\" d=\"M453.1424,-86.9735C453.1424,-75.1918 453.1424,-59.5607 453.1424,-46.1581\"/>\n<polygon fill=\"#0000ff\" stroke=\"#0000ff\" points=\"456.6425,-46.0033 453.1424,-36.0034 449.6425,-46.0034 456.6425,-46.0033\"/>\n<text text-anchor=\"middle\" x=\"488.6424\" y=\"-57.8\" font-family=\"Times,serif\" font-size=\"14.00\" fill=\"#000000\">yes, missing</text>\n</g>\n<!-- 6 -->\n<g id=\"node7\" class=\"node\">\n<title>6</title>\n<ellipse fill=\"none\" stroke=\"#000000\" cx=\"645.1424\" cy=\"-18\" rx=\"92.8835\" ry=\"18\"/>\n<text text-anchor=\"middle\" x=\"645.1424\" y=\"-14.3\" font-family=\"Times,serif\" font-size=\"14.00\" fill=\"#000000\">leaf=&#45;0.00504201697</text>\n</g>\n<!-- 2&#45;&gt;6 -->\n<g id=\"edge6\" class=\"edge\">\n<title>2&#45;&gt;6</title>\n<path fill=\"none\" stroke=\"#ff0000\" d=\"M486.5863,-89.8458C517.7179,-75.7393 564.3951,-54.5886 599.0515,-38.8849\"/>\n<polygon fill=\"#ff0000\" stroke=\"#ff0000\" points=\"600.8208,-41.9259 608.4847,-34.6105 597.9316,-35.5499 600.8208,-41.9259\"/>\n<text text-anchor=\"middle\" x=\"568.1424\" y=\"-57.8\" font-family=\"Times,serif\" font-size=\"14.00\" fill=\"#000000\">no</text>\n</g>\n</g>\n</svg>\n"
          },
          "metadata": {},
          "execution_count": 26
        }
      ]
    },
    {
      "cell_type": "markdown",
      "source": [
        "## LightGBM (많이 사용)\n",
        "- XGBoost와 마찬가지로 병렬처리 및 GPU 지원\n",
        "- XGB보다 학습에 걸리는 시간이 적다\n",
        "- XGB보다 메모리를 훨씬 적게 사용\n",
        "- https://lightgbm.readthedocs.io/en/latest/index.html"
      ],
      "metadata": {
        "id": "OomtWr2R8dnB"
      }
    },
    {
      "cell_type": "code",
      "source": [
        "from lightgbm import LGBMClassifier, plot_importance"
      ],
      "metadata": {
        "id": "Ug3eK1zQ8tOp"
      },
      "execution_count": null,
      "outputs": []
    },
    {
      "cell_type": "code",
      "source": [
        "hp = {\n",
        "    \"random_state\" : SEED,\n",
        "    \"max_depth\" : 2,\n",
        "    \"n_estimators\" : 100, # 수행할 부스팅 단계 수\n",
        "}\n",
        "\n",
        "model = LGBMClassifier(**hp)\n",
        "model.fit(x_train,y_train)\n",
        "pred = model.predict_proba(x_valid)[:,1]\n",
        "roc_auc_score(y_valid,pred)"
      ],
      "metadata": {
        "id": "xUaCwvO9PfEV",
        "colab": {
          "base_uri": "https://localhost:8080/"
        },
        "outputId": "1ebf450f-de0f-4e80-926d-4ea4bd7bf215"
      },
      "execution_count": null,
      "outputs": [
        {
          "output_type": "execute_result",
          "data": {
            "text/plain": [
              "0.8821106821106821"
            ]
          },
          "metadata": {},
          "execution_count": 28
        }
      ]
    },
    {
      "cell_type": "code",
      "source": [
        "plot_importance(model)\n",
        "plt.show()"
      ],
      "metadata": {
        "colab": {
          "base_uri": "https://localhost:8080/",
          "height": 295
        },
        "id": "QXU1KCdFdbof",
        "outputId": "66ca3d4d-bad7-4844-989c-94af631945a4"
      },
      "execution_count": null,
      "outputs": [
        {
          "output_type": "display_data",
          "data": {
            "text/plain": [
              "<Figure size 432x288 with 1 Axes>"
            ],
            "image/png": "[encoded data removed]"
          },
          "metadata": {
            "needs_background": "light"
          }
        }
      ]
    },
    {
      "cell_type": "code",
      "source": [
        "from lightgbm import create_tree_digraph\n",
        "create_tree_digraph(model)"
      ],
      "metadata": {
        "colab": {
          "base_uri": "https://localhost:8080/",
          "height": 401
        },
        "id": "ISFGyOtvdh2x",
        "outputId": "b9ec4171-7edb-4bcd-8aff-f1d0288b09b2"
      },
      "execution_count": null,
      "outputs": [
        {
          "output_type": "execute_result",
          "data": {
            "text/plain": [
              "<graphviz.dot.Digraph at 0x7f5ed001d810>"
            ],
            "image/svg+xml": "<?xml version=\"1.0\" encoding=\"UTF-8\" standalone=\"no\"?>\n<!DOCTYPE svg PUBLIC \"-//W3C//DTD SVG 1.1//EN\"\n \"http://www.w3.org/Graphics/SVG/1.1/DTD/svg11.dtd\">\n<!-- Generated by graphviz version 2.40.1 (20161225.0304)\n -->\n<!-- Title: %3 Pages: 1 -->\n<svg width=\"1307pt\" height=\"271pt\"\n viewBox=\"0.00 0.00 1307.30 271.22\" xmlns=\"http://www.w3.org/2000/svg\" xmlns:xlink=\"http://www.w3.org/1999/xlink\">\n<g id=\"graph0\" class=\"graph\" transform=\"scale(1 1) rotate(0) translate(4 267.2203)\">\n<title>%3</title>\n<polygon fill=\"#ffffff\" stroke=\"transparent\" points=\"-4,4 -4,-267.2203 1303.2986,-267.2203 1303.2986,4 -4,4\"/>\n<!-- split0 -->\n<g id=\"node1\" class=\"node\">\n<title>split0</title>\n<ellipse fill=\"none\" stroke=\"#000000\" cx=\"646.1493\" cy=\"-236.3503\" rx=\"165.426\" ry=\"26.7407\"/>\n<text text-anchor=\"middle\" x=\"646.1493\" y=\"-240.1503\" font-family=\"Times,serif\" font-size=\"14.00\" fill=\"#000000\">split_feature_name: sex_female</text>\n<text text-anchor=\"middle\" x=\"646.1493\" y=\"-225.1503\" font-family=\"Times,serif\" font-size=\"14.00\" fill=\"#000000\">threshold: 1.0000000180025095e&#45;35</text>\n</g>\n<!-- split2 -->\n<g id=\"node2\" class=\"node\">\n<title>split2</title>\n<ellipse fill=\"none\" stroke=\"#000000\" cx=\"479.1493\" cy=\"-131.6102\" rx=\"152.0559\" ry=\"26.7407\"/>\n<text text-anchor=\"middle\" x=\"479.1493\" y=\"-135.4102\" font-family=\"Times,serif\" font-size=\"14.00\" fill=\"#000000\">split_feature_name: age</text>\n<text text-anchor=\"middle\" x=\"479.1493\" y=\"-120.4102\" font-family=\"Times,serif\" font-size=\"14.00\" fill=\"#000000\">threshold: 0.07640110580547878</text>\n</g>\n<!-- split0&#45;&gt;split2 -->\n<g id=\"edge3\" class=\"edge\">\n<title>split0&#45;&gt;split2</title>\n<path fill=\"none\" stroke=\"#000000\" d=\"M604.4389,-210.1901C581.6375,-195.8894 553.2345,-178.0754 529.2394,-163.026\"/>\n<polygon fill=\"#000000\" stroke=\"#000000\" points=\"530.9484,-159.9665 520.6171,-157.6182 527.2291,-165.8966 530.9484,-159.9665\"/>\n<text text-anchor=\"middle\" x=\"581.6493\" y=\"-180.2802\" font-family=\"Times,serif\" font-size=\"14.00\" fill=\"#000000\">&lt;=</text>\n</g>\n<!-- split1 -->\n<g id=\"node5\" class=\"node\">\n<title>split1</title>\n<ellipse fill=\"none\" stroke=\"#000000\" cx=\"814.1493\" cy=\"-131.6102\" rx=\"165.426\" ry=\"26.7407\"/>\n<text text-anchor=\"middle\" x=\"814.1493\" y=\"-135.4102\" font-family=\"Times,serif\" font-size=\"14.00\" fill=\"#000000\">split_feature_name: pclass_3</text>\n<text text-anchor=\"middle\" x=\"814.1493\" y=\"-120.4102\" font-family=\"Times,serif\" font-size=\"14.00\" fill=\"#000000\">threshold: 1.0000000180025095e&#45;35</text>\n</g>\n<!-- split0&#45;&gt;split1 -->\n<g id=\"edge6\" class=\"edge\">\n<title>split0&#45;&gt;split1</title>\n<path fill=\"none\" stroke=\"#000000\" d=\"M688.1094,-210.1901C711.0474,-195.8894 739.6204,-178.0754 763.7592,-163.026\"/>\n<polygon fill=\"#000000\" stroke=\"#000000\" points=\"765.799,-165.8789 772.4332,-157.6182 762.0956,-159.9387 765.799,-165.8789\"/>\n<text text-anchor=\"middle\" x=\"745.6493\" y=\"-180.2802\" font-family=\"Times,serif\" font-size=\"14.00\" fill=\"#000000\">&gt;</text>\n</g>\n<!-- leaf0 -->\n<g id=\"node3\" class=\"node\">\n<title>leaf0</title>\n<ellipse fill=\"none\" stroke=\"#000000\" cx=\"154.1493\" cy=\"-26.8701\" rx=\"154.2987\" ry=\"26.7407\"/>\n<text text-anchor=\"middle\" x=\"154.1493\" y=\"-30.6701\" font-family=\"Times,serif\" font-size=\"14.00\" fill=\"#000000\">leaf_index: 0</text>\n<text text-anchor=\"middle\" x=\"154.1493\" y=\"-15.6701\" font-family=\"Times,serif\" font-size=\"14.00\" fill=\"#000000\">leaf_value: &#45;0.3747215846488366</text>\n</g>\n<!-- split2&#45;&gt;leaf0 -->\n<g id=\"edge1\" class=\"edge\">\n<title>split2&#45;&gt;leaf0</title>\n<path fill=\"none\" stroke=\"#000000\" d=\"M405.8077,-107.9738C355.6652,-91.8141 289.1187,-70.3676 237.0512,-53.5874\"/>\n<polygon fill=\"#000000\" stroke=\"#000000\" points=\"238.0963,-50.2471 227.5047,-50.5109 235.949,-56.9096 238.0963,-50.2471\"/>\n<text text-anchor=\"middle\" x=\"344.6493\" y=\"-75.5401\" font-family=\"Times,serif\" font-size=\"14.00\" fill=\"#000000\">&lt;=</text>\n</g>\n<!-- leaf3 -->\n<g id=\"node4\" class=\"node\">\n<title>leaf3</title>\n<ellipse fill=\"none\" stroke=\"#000000\" cx=\"480.1493\" cy=\"-26.8701\" rx=\"154.2987\" ry=\"26.7407\"/>\n<text text-anchor=\"middle\" x=\"480.1493\" y=\"-30.6701\" font-family=\"Times,serif\" font-size=\"14.00\" fill=\"#000000\">leaf_index: 3</text>\n<text text-anchor=\"middle\" x=\"480.1493\" y=\"-15.6701\" font-family=\"Times,serif\" font-size=\"14.00\" fill=\"#000000\">leaf_value: &#45;0.5962669243540648</text>\n</g>\n<!-- split2&#45;&gt;leaf3 -->\n<g id=\"edge2\" class=\"edge\">\n<title>split2&#45;&gt;leaf3</title>\n<path fill=\"none\" stroke=\"#000000\" d=\"M479.4068,-104.637C479.5246,-92.2976 479.6661,-77.4761 479.7939,-64.0972\"/>\n<polygon fill=\"#000000\" stroke=\"#000000\" points=\"483.2969,-63.7848 479.8926,-53.7518 476.2972,-63.7179 483.2969,-63.7848\"/>\n<text text-anchor=\"middle\" x=\"484.6493\" y=\"-75.5401\" font-family=\"Times,serif\" font-size=\"14.00\" fill=\"#000000\">&gt;</text>\n</g>\n<!-- leaf1 -->\n<g id=\"node6\" class=\"node\">\n<title>leaf1</title>\n<ellipse fill=\"none\" stroke=\"#000000\" cx=\"813.1493\" cy=\"-26.8701\" rx=\"159.6125\" ry=\"26.7407\"/>\n<text text-anchor=\"middle\" x=\"813.1493\" y=\"-30.6701\" font-family=\"Times,serif\" font-size=\"14.00\" fill=\"#000000\">leaf_index: 1</text>\n<text text-anchor=\"middle\" x=\"813.1493\" y=\"-15.6701\" font-family=\"Times,serif\" font-size=\"14.00\" fill=\"#000000\">leaf_value: &#45;0.25555179643273696</text>\n</g>\n<!-- split1&#45;&gt;leaf1 -->\n<g id=\"edge4\" class=\"edge\">\n<title>split1&#45;&gt;leaf1</title>\n<path fill=\"none\" stroke=\"#000000\" d=\"M813.8918,-104.637C813.7739,-92.2976 813.6324,-77.4761 813.5047,-64.0972\"/>\n<polygon fill=\"#000000\" stroke=\"#000000\" points=\"817.0013,-63.7179 813.4059,-53.7518 810.0017,-63.7848 817.0013,-63.7179\"/>\n<text text-anchor=\"middle\" x=\"822.6493\" y=\"-75.5401\" font-family=\"Times,serif\" font-size=\"14.00\" fill=\"#000000\">&lt;=</text>\n</g>\n<!-- leaf2 -->\n<g id=\"node7\" class=\"node\">\n<title>leaf2</title>\n<ellipse fill=\"none\" stroke=\"#000000\" cx=\"1145.1493\" cy=\"-26.8701\" rx=\"154.2987\" ry=\"26.7407\"/>\n<text text-anchor=\"middle\" x=\"1145.1493\" y=\"-30.6701\" font-family=\"Times,serif\" font-size=\"14.00\" fill=\"#000000\">leaf_index: 2</text>\n<text text-anchor=\"middle\" x=\"1145.1493\" y=\"-15.6701\" font-family=\"Times,serif\" font-size=\"14.00\" fill=\"#000000\">leaf_value: &#45;0.4577388860267695</text>\n</g>\n<!-- split1&#45;&gt;leaf2 -->\n<g id=\"edge5\" class=\"edge\">\n<title>split1&#45;&gt;leaf2</title>\n<path fill=\"none\" stroke=\"#000000\" d=\"M890.0874,-107.5807C941.1167,-91.4332 1008.4023,-70.1416 1061.052,-53.4814\"/>\n<polygon fill=\"#000000\" stroke=\"#000000\" points=\"1062.2272,-56.7807 1070.7053,-50.4268 1060.1153,-50.1068 1062.2272,-56.7807\"/>\n<text text-anchor=\"middle\" x=\"1004.6493\" y=\"-75.5401\" font-family=\"Times,serif\" font-size=\"14.00\" fill=\"#000000\">&gt;</text>\n</g>\n</g>\n</svg>\n"
          },
          "metadata": {},
          "execution_count": 30
        }
      ]
    },
    {
      "cell_type": "markdown",
      "source": [
        "## catboost\n",
        "- 범주형 변수에 대하여 강력한 성능을 보여주는 GBM 기반 모델 (수치형을 범주형으로 변경해서 넣으면 좋을수도?)\n",
        "- 범주형 변수가 많을 경우 높은 성능과 함께 속도가 lightgbm 보다 빠르다.\n",
        "- 수치형 변수가 많을 경우 매우 느림\n",
        "- 특징으로 범주형 변수를 인코딩 하지 않고 넣어도 된다.\n",
        "- https://catboost.ai/en/docs/"
      ],
      "metadata": {
        "id": "k_gGNfxAdkfg"
      }
    },
    {
      "cell_type": "code",
      "source": [
        "!pip install catboost"
      ],
      "metadata": {
        "colab": {
          "base_uri": "https://localhost:8080/"
        },
        "id": "KdvQQGz5doeJ",
        "outputId": "6232a3f1-376f-4d73-874b-daabd011f86b"
      },
      "execution_count": null,
      "outputs": [
        {
          "output_type": "stream",
          "name": "stdout",
          "text": [
            "Looking in indexes: https://pypi.org/simple, https://us-python.pkg.dev/colab-wheels/public/simple/\n",
            "Collecting catboost\n",
            "  Downloading catboost-1.0.6-cp37-none-manylinux1_x86_64.whl (76.6 MB)\n",
            "\u001b[K     |████████████████████████████████| 76.6 MB 1.2 MB/s \n",
            "\u001b[?25hRequirement already satisfied: scipy in /usr/local/lib/python3.7/dist-packages (from catboost) (1.7.3)\n",
            "Requirement already satisfied: plotly in /usr/local/lib/python3.7/dist-packages (from catboost) (5.5.0)\n",
            "Requirement already satisfied: pandas>=0.24.0 in /usr/local/lib/python3.7/dist-packages (from catboost) (1.3.5)\n",
            "Requirement already satisfied: six in /usr/local/lib/python3.7/dist-packages (from catboost) (1.15.0)\n",
            "Requirement already satisfied: graphviz in /usr/local/lib/python3.7/dist-packages (from catboost) (0.10.1)\n",
            "Requirement already satisfied: numpy>=1.16.0 in /usr/local/lib/python3.7/dist-packages (from catboost) (1.21.6)\n",
            "Requirement already satisfied: matplotlib in /usr/local/lib/python3.7/dist-packages (from catboost) (3.2.2)\n",
            "Requirement already satisfied: python-dateutil>=2.7.3 in /usr/local/lib/python3.7/dist-packages (from pandas>=0.24.0->catboost) (2.8.2)\n",
            "Requirement already satisfied: pytz>=2017.3 in /usr/local/lib/python3.7/dist-packages (from pandas>=0.24.0->catboost) (2022.2.1)\n",
            "Requirement already satisfied: kiwisolver>=1.0.1 in /usr/local/lib/python3.7/dist-packages (from matplotlib->catboost) (1.4.4)\n",
            "Requirement already satisfied: cycler>=0.10 in /usr/local/lib/python3.7/dist-packages (from matplotlib->catboost) (0.11.0)\n",
            "Requirement already satisfied: pyparsing!=2.0.4,!=2.1.2,!=2.1.6,>=2.0.1 in /usr/local/lib/python3.7/dist-packages (from matplotlib->catboost) (3.0.9)\n",
            "Requirement already satisfied: typing-extensions in /usr/local/lib/python3.7/dist-packages (from kiwisolver>=1.0.1->matplotlib->catboost) (4.1.1)\n",
            "Requirement already satisfied: tenacity>=6.2.0 in /usr/local/lib/python3.7/dist-packages (from plotly->catboost) (8.0.1)\n",
            "Installing collected packages: catboost\n",
            "Successfully installed catboost-1.0.6\n"
          ]
        }
      ]
    },
    {
      "cell_type": "code",
      "source": [
        "from catboost import CatBoostClassifier\n",
        "\n",
        "hp = {\n",
        "    \"random_state\" : SEED,\n",
        "    \"max_depth\" : 2,\n",
        "    \"n_estimators\" : 100, # 수행할 부스팅 단계 수\n",
        "    \"verbose\" : 0 # 부스팅 단계 출력 안보이게 하기\n",
        "}\n",
        "\n",
        "model = CatBoostClassifier(**hp)\n",
        "model.fit(x_train,y_train)\n",
        "pred = model.predict_proba(x_valid)[:,1]\n",
        "roc_auc_score(y_valid,pred)"
      ],
      "metadata": {
        "colab": {
          "base_uri": "https://localhost:8080/"
        },
        "id": "bILuIRwMdrA6",
        "outputId": "3cbdf86d-530b-4a12-9bdf-4ed34c57ad13"
      },
      "execution_count": null,
      "outputs": [
        {
          "output_type": "execute_result",
          "data": {
            "text/plain": [
              "0.8787001287001287"
            ]
          },
          "metadata": {},
          "execution_count": 32
        }
      ]
    }
  ]
}