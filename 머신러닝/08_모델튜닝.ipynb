{
  "nbformat": 4,
  "nbformat_minor": 0,
  "metadata": {
    "colab": {
      "provenance": [],
      "collapsed_sections": [],
      "authorship_tag": "ABX9TyOhtDpbdO93UEnxdDLKIebj",
      "include_colab_link": true
    },
    "kernelspec": {
      "name": "python3",
      "display_name": "Python 3"
    },
    "language_info": {
      "name": "python"
    }
  },
  "cells": [
    {
      "cell_type": "markdown",
      "metadata": {
        "id": "view-in-github",
        "colab_type": "text"
      },
      "source": [
        "<a href=\"https://colab.research.google.com/github/DoItSon/playdata/blob/main/%EB%A8%B8%EC%8B%A0%EB%9F%AC%EB%8B%9D/08_%EB%AA%A8%EB%8D%B8%ED%8A%9C%EB%8B%9D.ipynb\" target=\"_parent\"><img src=\"https://colab.research.google.com/assets/colab-badge.svg\" alt=\"Open In Colab\"/></a>"
      ]
    },
    {
      "cell_type": "code",
      "execution_count": null,
      "metadata": {
        "id": "Kb5cogH6eHMi"
      },
      "outputs": [],
      "source": [
        "import pandas as pd\n",
        "import numpy as np\n",
        "import seaborn as sns\n",
        "from sklearn.preprocessing import OneHotEncoder\n",
        "from sklearn.model_selection import train_test_split\n",
        "from sklearn.metrics import roc_auc_score\n",
        "df = sns.load_dataset('titanic') # 타이타닉 데이터 받아오기\n",
        "cols = [\"age\",\"sibsp\",\"parch\",\"fare\"] # 숫자니까 바로 사용\n",
        "features = df[cols] # 피쳐\n",
        "target = df[\"survived\"] # 정답값\n",
        "# one hot encoding\n",
        "cols = [\"pclass\",\"sex\",\"embarked\"] # 범주형\n",
        "enc = OneHotEncoder(handle_unknown='ignore')\n",
        "tmp = pd.DataFrame(\n",
        "    enc.fit_transform(df[cols]).toarray(),\n",
        "    columns = enc.get_feature_names_out()\n",
        ")\n",
        "features = pd.concat([features,tmp],axis=1)\n",
        "# 나이 결측치 채우기\n",
        "features.age = features.age.fillna(features.age.median())"
      ]
    },
    {
      "cell_type": "code",
      "source": [
        "from sklearn.preprocessing import MinMaxScaler\n",
        "scaler = MinMaxScaler() # 객체가 사라져버려서 다시 담는다.\n",
        "features = scaler.fit_transform(features)"
      ],
      "metadata": {
        "id": "M5DkarzieThY"
      },
      "execution_count": null,
      "outputs": []
    },
    {
      "cell_type": "code",
      "source": [
        "SEED = 42"
      ],
      "metadata": {
        "id": "dfPbStJCeTfY"
      },
      "execution_count": null,
      "outputs": []
    },
    {
      "cell_type": "code",
      "source": [
        "x_train, x_valid, y_train, y_valid = train_test_split(features,target,random_state=SEED,test_size=0.2)\n",
        "x_train.shape, x_valid.shape, y_train.shape, y_valid.shape"
      ],
      "metadata": {
        "colab": {
          "base_uri": "https://localhost:8080/"
        },
        "id": "44HvOCH6eTBD",
        "outputId": "bf7b5abd-264f-4560-cd26-72e8d7109ccf"
      },
      "execution_count": null,
      "outputs": [
        {
          "output_type": "execute_result",
          "data": {
            "text/plain": [
              "((712, 13), (179, 13), (712,), (179,))"
            ]
          },
          "metadata": {},
          "execution_count": 4
        }
      ]
    },
    {
      "cell_type": "markdown",
      "source": [
        "# Model Tuning (Hyperparameter Optimization)\n",
        "- 학습을 수행하기 전에 설정해야하는 값인 하이퍼파리마터의 최적값을 탐색"
      ],
      "metadata": {
        "id": "cSOv4S2EeS-_"
      }
    },
    {
      "cell_type": "markdown",
      "source": [
        "## Grid Search (잘 안씀)\n",
        "- 하이퍼파라미터별로 다양한 값들을 지정해서 모든 조합에 대해 성능 결과를 측정한 후 가장 높은 성능을 발휘했던 하이퍼파라미터 조합을 선정하는 방법\n",
        "- 오래걸린다."
      ],
      "metadata": {
        "id": "X2m7-OvOeS7G"
      }
    },
    {
      "cell_type": "code",
      "source": [
        "from sklearn.model_selection import KFold\n",
        "cv = KFold(n_splits=5,shuffle=True,random_state=SEED)"
      ],
      "metadata": {
        "id": "P8q4VGAyeS44"
      },
      "execution_count": null,
      "outputs": []
    },
    {
      "cell_type": "code",
      "source": [
        "from sklearn.model_selection import GridSearchCV\n",
        "from lightgbm import LGBMClassifier\n",
        "\n",
        "hp = {\n",
        "    \"max_depth\" : range(2,5), # 깊이\n",
        "    \"min_samples_split\" : range(2,5), # 내부노드를 분할하는데 필요한 최소 샘플 수\n",
        "    \"criterion\" : [\"gini\",\"entropy\"], # 순수도 척도\n",
        "    \"max_leaf_nodes\" : range(5,10), # 최대 리프 노드수\n",
        "    \"n_estimators\": range(50,100,10) # 부스팅 단계 수\n",
        "}\n",
        "model = LGBMClassifier(random_state=SEED)\n",
        "grid = GridSearchCV(\n",
        "    model,\n",
        "    hp,\n",
        "    cv=cv,\n",
        "    scoring = \"roc_auc\",\n",
        "    n_jobs = -1\n",
        ")\n",
        "grid.fit(x_train,y_train)"
      ],
      "metadata": {
        "colab": {
          "base_uri": "https://localhost:8080/"
        },
        "id": "RC4t6XC5eS2o",
        "outputId": "09edb2f8-0cb6-4a21-bec7-aabe422b4d33"
      },
      "execution_count": null,
      "outputs": [
        {
          "output_type": "execute_result",
          "data": {
            "text/plain": [
              "GridSearchCV(cv=KFold(n_splits=5, random_state=42, shuffle=True),\n",
              "             estimator=LGBMClassifier(random_state=42), n_jobs=-1,\n",
              "             param_grid={'criterion': ['gini', 'entropy'],\n",
              "                         'max_depth': range(2, 5),\n",
              "                         'max_leaf_nodes': range(5, 10),\n",
              "                         'min_samples_split': range(2, 5),\n",
              "                         'n_estimators': range(50, 100, 10)},\n",
              "             scoring='roc_auc')"
            ]
          },
          "metadata": {},
          "execution_count": 6
        }
      ]
    },
    {
      "cell_type": "code",
      "source": [
        "grid.best_params_"
      ],
      "metadata": {
        "colab": {
          "base_uri": "https://localhost:8080/"
        },
        "id": "riq6AJHEeSmo",
        "outputId": "c20d209b-f2b5-4776-b692-3441f9da68a6"
      },
      "execution_count": null,
      "outputs": [
        {
          "output_type": "execute_result",
          "data": {
            "text/plain": [
              "{'criterion': 'gini',\n",
              " 'max_depth': 2,\n",
              " 'max_leaf_nodes': 5,\n",
              " 'min_samples_split': 2,\n",
              " 'n_estimators': 50}"
            ]
          },
          "metadata": {},
          "execution_count": 7
        }
      ]
    },
    {
      "cell_type": "code",
      "source": [
        "grid.best_score_"
      ],
      "metadata": {
        "colab": {
          "base_uri": "https://localhost:8080/"
        },
        "id": "SKzxNL7KeSkw",
        "outputId": "8856d7e7-8f19-4cd4-ff93-2f37f2bbd376"
      },
      "execution_count": null,
      "outputs": [
        {
          "output_type": "execute_result",
          "data": {
            "text/plain": [
              "0.8578552243327711"
            ]
          },
          "metadata": {},
          "execution_count": 8
        }
      ]
    },
    {
      "cell_type": "code",
      "source": [
        "grid.score(x_valid,y_valid)"
      ],
      "metadata": {
        "colab": {
          "base_uri": "https://localhost:8080/"
        },
        "id": "_42ya7ageSiZ",
        "outputId": "6b00e2db-35df-4c07-891b-726789b757b0"
      },
      "execution_count": null,
      "outputs": [
        {
          "output_type": "execute_result",
          "data": {
            "text/plain": [
              "0.8893822393822393"
            ]
          },
          "metadata": {},
          "execution_count": 9
        }
      ]
    },
    {
      "cell_type": "code",
      "source": [
        "pred = grid.predict_proba(x_valid)[:,1]\n",
        "roc_auc_score(y_valid,pred)"
      ],
      "metadata": {
        "colab": {
          "base_uri": "https://localhost:8080/"
        },
        "id": "d9MqNnk4ePAa",
        "outputId": "36feaf98-bda0-4943-b487-4e0333387640"
      },
      "execution_count": null,
      "outputs": [
        {
          "output_type": "execute_result",
          "data": {
            "text/plain": [
              "0.8893822393822393"
            ]
          },
          "metadata": {},
          "execution_count": 10
        }
      ]
    },
    {
      "cell_type": "markdown",
      "source": [
        "## Random Search (grid보다 조금 좋다.)\n",
        "- 하이퍼파라미터 별로 다양한 값들을 지정하여 랜덤 조합을 통해 반복수행하여 가장 높은 성능을 발휘했던 하이퍼파라미터 조합을 선정"
      ],
      "metadata": {
        "id": "RhRtCF3Iiy5T"
      }
    },
    {
      "cell_type": "code",
      "source": [
        "from sklearn.model_selection import RandomizedSearchCV\n",
        "\n",
        "hp = {\n",
        "    \"max_depth\" : range(2,15), # 깊이\n",
        "    \"min_samples_split\" : range(2,10), # 내부노드를 분할하는데 필요한 최소 샘플 수\n",
        "    \"criterion\" : [\"gini\",\"entropy\"], # 순수도 척도\n",
        "    \"max_leaf_nodes\" : range(5,10), # 최대 리프 노드수\n",
        "    \"n_estimators\": range(50,201,10) # 부스팅 단계 수\n",
        "}\n",
        "\n",
        "model = LGBMClassifier(random_state=SEED)\n",
        "\n",
        "rand = RandomizedSearchCV(\n",
        "    model,\n",
        "    hp,\n",
        "    cv=cv,\n",
        "    scoring = \"roc_auc\",\n",
        "    n_jobs = -1,\n",
        "    random_state=SEED,\n",
        "    n_iter = 15\n",
        ")\n",
        "\n",
        "rand.fit(x_train,y_train)"
      ],
      "metadata": {
        "colab": {
          "base_uri": "https://localhost:8080/"
        },
        "id": "r0WquQRDi_kB",
        "outputId": "46e0d3a1-62f9-4fbc-ac14-0133a048cfc7"
      },
      "execution_count": null,
      "outputs": [
        {
          "output_type": "execute_result",
          "data": {
            "text/plain": [
              "RandomizedSearchCV(cv=KFold(n_splits=5, random_state=42, shuffle=True),\n",
              "                   estimator=LGBMClassifier(random_state=42), n_iter=15,\n",
              "                   n_jobs=-1,\n",
              "                   param_distributions={'criterion': ['gini', 'entropy'],\n",
              "                                        'max_depth': range(2, 15),\n",
              "                                        'max_leaf_nodes': range(5, 10),\n",
              "                                        'min_samples_split': range(2, 10),\n",
              "                                        'n_estimators': range(50, 201, 10)},\n",
              "                   random_state=42, scoring='roc_auc')"
            ]
          },
          "metadata": {},
          "execution_count": 11
        }
      ]
    },
    {
      "cell_type": "code",
      "source": [
        "rand.best_params_"
      ],
      "metadata": {
        "colab": {
          "base_uri": "https://localhost:8080/"
        },
        "id": "gTbEvTafjZsn",
        "outputId": "dfb34da4-96cd-4ae5-b498-1c371f645ddd"
      },
      "execution_count": null,
      "outputs": [
        {
          "output_type": "execute_result",
          "data": {
            "text/plain": [
              "{'n_estimators': 70,\n",
              " 'min_samples_split': 2,\n",
              " 'max_leaf_nodes': 5,\n",
              " 'max_depth': 2,\n",
              " 'criterion': 'entropy'}"
            ]
          },
          "metadata": {},
          "execution_count": 12
        }
      ]
    },
    {
      "cell_type": "code",
      "source": [
        "rand.best_score_"
      ],
      "metadata": {
        "colab": {
          "base_uri": "https://localhost:8080/"
        },
        "id": "N2J9nBtUkZRg",
        "outputId": "9a21d021-64e1-4a3a-b471-8daf7b335099"
      },
      "execution_count": null,
      "outputs": [
        {
          "output_type": "execute_result",
          "data": {
            "text/plain": [
              "0.8534515351718867"
            ]
          },
          "metadata": {},
          "execution_count": 13
        }
      ]
    },
    {
      "cell_type": "code",
      "source": [
        "rand.score(x_valid,y_valid)"
      ],
      "metadata": {
        "colab": {
          "base_uri": "https://localhost:8080/"
        },
        "id": "dmVv01nbknVp",
        "outputId": "385f5722-ac66-4d8d-da99-199f95b903ce"
      },
      "execution_count": null,
      "outputs": [
        {
          "output_type": "execute_result",
          "data": {
            "text/plain": [
              "0.890990990990991"
            ]
          },
          "metadata": {},
          "execution_count": 14
        }
      ]
    },
    {
      "cell_type": "code",
      "source": [
        "model = LGBMClassifier(random_state = SEED, **rand.best_params_) # (**rand.best_params_) 파일형태로 저장하였다가 필요할 때 사용하는 예시\n",
        "model.fit(x_train,y_train)\n",
        "\n",
        "pred = model.predict_proba(x_valid)[:,1]\n",
        "roc_auc_score(y_valid,pred)"
      ],
      "metadata": {
        "colab": {
          "base_uri": "https://localhost:8080/"
        },
        "id": "8kXFeTO5kr_M",
        "outputId": "48eeb9c7-7b2c-47ad-b1cc-4e214efed4d4"
      },
      "execution_count": null,
      "outputs": [
        {
          "output_type": "execute_result",
          "data": {
            "text/plain": [
              "0.890990990990991"
            ]
          },
          "metadata": {},
          "execution_count": 15
        }
      ]
    },
    {
      "cell_type": "markdown",
      "source": [
        "## Grid Search vs Random Search\n",
        "- Random Search는 Grid Search에 비해 불필요한 반복 수행 횟수를 대폭 줄이면서 동시에 정해진 간격(Grid) 사이에 위치한 값들에 대해서도 확률적으로 탐색이 가능해서 최적의 하이퍼파라미터를 더 빨리 찾을 수 있다."
      ],
      "metadata": {
        "id": "FhgYoEIdlIlu"
      }
    },
    {
      "cell_type": "markdown",
      "source": [
        "## 베이지안 최적화(Bayesian Optimization)\n",
        "- 매회 새로운 하이퍼파라미터 값에 대한 조사를 수행할 시 사전지식을 충분히 반영하면서 동시에 전체적인 탐색과정을 체계적으로 수행할 수 있는 방법\n",
        "- 대체모델이라는 걸 이용해서 이전 하이퍼파라미터조합의 적용결과를 기반으로 더 높은 성능점수를 얻는 하이퍼파라미터 조합을 예측하는 방식"
      ],
      "metadata": {
        "id": "Hz4q2fHqlboi"
      }
    },
    {
      "cell_type": "code",
      "source": [
        "!pip install optuna"
      ],
      "metadata": {
        "colab": {
          "base_uri": "https://localhost:8080/"
        },
        "id": "JFxfHP6umOdk",
        "outputId": "26573ffb-b80a-4884-ae8f-131e33af351c"
      },
      "execution_count": null,
      "outputs": [
        {
          "output_type": "stream",
          "name": "stdout",
          "text": [
            "Looking in indexes: https://pypi.org/simple, https://us-python.pkg.dev/colab-wheels/public/simple/\n",
            "Collecting optuna\n",
            "  Downloading optuna-3.0.1-py3-none-any.whl (348 kB)\n",
            "\u001b[K     |████████████████████████████████| 348 kB 8.6 MB/s \n",
            "\u001b[?25hCollecting cliff\n",
            "  Downloading cliff-3.10.1-py3-none-any.whl (81 kB)\n",
            "\u001b[K     |████████████████████████████████| 81 kB 10.7 MB/s \n",
            "\u001b[?25hRequirement already satisfied: packaging>=20.0 in /usr/local/lib/python3.7/dist-packages (from optuna) (21.3)\n",
            "Requirement already satisfied: numpy in /usr/local/lib/python3.7/dist-packages (from optuna) (1.21.6)\n",
            "Collecting alembic\n",
            "  Downloading alembic-1.8.1-py3-none-any.whl (209 kB)\n",
            "\u001b[K     |████████████████████████████████| 209 kB 53.3 MB/s \n",
            "\u001b[?25hCollecting colorlog\n",
            "  Downloading colorlog-6.7.0-py2.py3-none-any.whl (11 kB)\n",
            "Requirement already satisfied: sqlalchemy>=1.1.0 in /usr/local/lib/python3.7/dist-packages (from optuna) (1.4.41)\n",
            "Collecting cmaes>=0.8.2\n",
            "  Downloading cmaes-0.8.2-py3-none-any.whl (15 kB)\n",
            "Requirement already satisfied: typing-extensions>=3.10.0.0 in /usr/local/lib/python3.7/dist-packages (from optuna) (4.1.1)\n",
            "Requirement already satisfied: scipy<1.9.0,>=1.7.0 in /usr/local/lib/python3.7/dist-packages (from optuna) (1.7.3)\n",
            "Requirement already satisfied: tqdm in /usr/local/lib/python3.7/dist-packages (from optuna) (4.64.1)\n",
            "Requirement already satisfied: PyYAML in /usr/local/lib/python3.7/dist-packages (from optuna) (6.0)\n",
            "Requirement already satisfied: pyparsing!=3.0.5,>=2.0.2 in /usr/local/lib/python3.7/dist-packages (from packaging>=20.0->optuna) (3.0.9)\n",
            "Requirement already satisfied: importlib-metadata in /usr/local/lib/python3.7/dist-packages (from sqlalchemy>=1.1.0->optuna) (4.12.0)\n",
            "Requirement already satisfied: greenlet!=0.4.17 in /usr/local/lib/python3.7/dist-packages (from sqlalchemy>=1.1.0->optuna) (1.1.3)\n",
            "Collecting Mako\n",
            "  Downloading Mako-1.2.2-py3-none-any.whl (78 kB)\n",
            "\u001b[K     |████████████████████████████████| 78 kB 7.3 MB/s \n",
            "\u001b[?25hRequirement already satisfied: importlib-resources in /usr/local/lib/python3.7/dist-packages (from alembic->optuna) (5.9.0)\n",
            "Requirement already satisfied: PrettyTable>=0.7.2 in /usr/local/lib/python3.7/dist-packages (from cliff->optuna) (3.4.1)\n",
            "Collecting stevedore>=2.0.1\n",
            "  Downloading stevedore-3.5.0-py3-none-any.whl (49 kB)\n",
            "\u001b[K     |████████████████████████████████| 49 kB 5.9 MB/s \n",
            "\u001b[?25hCollecting autopage>=0.4.0\n",
            "  Downloading autopage-0.5.1-py3-none-any.whl (29 kB)\n",
            "Collecting pbr!=2.1.0,>=2.0.0\n",
            "  Downloading pbr-5.10.0-py2.py3-none-any.whl (112 kB)\n",
            "\u001b[K     |████████████████████████████████| 112 kB 46.6 MB/s \n",
            "\u001b[?25hCollecting cmd2>=1.0.0\n",
            "  Downloading cmd2-2.4.2-py3-none-any.whl (147 kB)\n",
            "\u001b[K     |████████████████████████████████| 147 kB 61.3 MB/s \n",
            "\u001b[?25hCollecting pyperclip>=1.6\n",
            "  Downloading pyperclip-1.8.2.tar.gz (20 kB)\n",
            "Requirement already satisfied: attrs>=16.3.0 in /usr/local/lib/python3.7/dist-packages (from cmd2>=1.0.0->cliff->optuna) (22.1.0)\n",
            "Requirement already satisfied: wcwidth>=0.1.7 in /usr/local/lib/python3.7/dist-packages (from cmd2>=1.0.0->cliff->optuna) (0.2.5)\n",
            "Requirement already satisfied: zipp>=0.5 in /usr/local/lib/python3.7/dist-packages (from importlib-metadata->sqlalchemy>=1.1.0->optuna) (3.8.1)\n",
            "Requirement already satisfied: MarkupSafe>=0.9.2 in /usr/local/lib/python3.7/dist-packages (from Mako->alembic->optuna) (2.0.1)\n",
            "Building wheels for collected packages: pyperclip\n",
            "  Building wheel for pyperclip (setup.py) ... \u001b[?25l\u001b[?25hdone\n",
            "  Created wheel for pyperclip: filename=pyperclip-1.8.2-py3-none-any.whl size=11137 sha256=6bd0533b53640b5bd46b46064a0380848efb0bbee4ed9521cb94a211fbce5431\n",
            "  Stored in directory: /root/.cache/pip/wheels/9f/18/84/8f69f8b08169c7bae2dde6bd7daf0c19fca8c8e500ee620a28\n",
            "Successfully built pyperclip\n",
            "Installing collected packages: pyperclip, pbr, stevedore, Mako, cmd2, autopage, colorlog, cmaes, cliff, alembic, optuna\n",
            "Successfully installed Mako-1.2.2 alembic-1.8.1 autopage-0.5.1 cliff-3.10.1 cmaes-0.8.2 cmd2-2.4.2 colorlog-6.7.0 optuna-3.0.1 pbr-5.10.0 pyperclip-1.8.2 stevedore-3.5.0\n"
          ]
        }
      ]
    },
    {
      "cell_type": "code",
      "source": [
        "import optuna"
      ],
      "metadata": {
        "id": "fAUiE6RDnLNJ"
      },
      "execution_count": null,
      "outputs": []
    },
    {
      "cell_type": "markdown",
      "source": [
        "- 목적함수 만들기 (직관적이다!)"
      ],
      "metadata": {
        "id": "NMXlpc5hrOlM"
      }
    },
    {
      "cell_type": "code",
      "source": [
        "from sklearn.model_selection import cross_val_score"
      ],
      "metadata": {
        "id": "imIHDsvGrQv4"
      },
      "execution_count": null,
      "outputs": []
    },
    {
      "cell_type": "code",
      "source": [
        "hp = {\n",
        "    \"max_depth\" : range(2,15), # 깊이\n",
        "    \"min_samples_split\" : range(2,10), # 내부노드를 분할하는데 필요한 최소 샘플 수\n",
        "    \"criterion\" : [\"gini\",\"entropy\"], # 순수도 척도\n",
        "    \"max_leaf_nodes\" : range(5,10), # 최대 리프 노드수\n",
        "    \"n_estimators\": range(50,201,10) # 부스팅 단계 수\n",
        "}"
      ],
      "metadata": {
        "id": "oTd9xRWnsKlF"
      },
      "execution_count": null,
      "outputs": []
    },
    {
      "cell_type": "code",
      "source": [
        "def objective(trial): # 시도객체가 들어간다\n",
        "    hp = {\n",
        "        \"max_depth\" : trial.suggest_int(\"max_depth\",2,15), # 찾을 범위의 최소값과 최대값\n",
        "        \"min_samples_split\" : trial.suggest_int(\"min_samples_split\",2,10),\n",
        "        \"criterion\" : trial.suggest_categrical(\"criterion\",[\"gini\",\"entropy\"]),\n",
        "        \"max_leaf_nodes\" : trial.suggest_int(\"max_leaf_nodes\",5,10),\n",
        "        \"n_estimators\" : trial.suggest_int(\"n_estimators\",10,500),\n",
        "        \"learning_rate\" : trial.suggest_float(\"learning_rate\",0.01,0.1)\n",
        "    }\n",
        "    cv = KFold(n_splits=5,shuffle=True,random_state=SEED) # SEED 함수내부에서 전역변수 사용 (이렇게하면 안됨!)\n",
        "    model = LGBMClassifier(random_state=SEED,**hp)\n",
        "\n",
        "    scores = cross_val_score(model, x_train, y_train, cv = cv, scoring=\"roc_auc\") # 리스트가 넣어옴\n",
        "    return np.mean(scores)"
      ],
      "metadata": {
        "id": "ZExaXjTUrYyT"
      },
      "execution_count": null,
      "outputs": []
    },
    {
      "cell_type": "code",
      "source": [
        "sampler = optuna.samplers.TPESampler(seed = SEED) # 대체모델 부분\n",
        "\n",
        "# 스터디 객체\n",
        "study = optuna.create_study(\n",
        "    direction= \"maximize\", # 높은게 좋은지 낮은게 좋은지 설정 (maximize or minimize)\n",
        "    sampler = sampler\n",
        ")\n",
        "\n",
        "study.optimize(objective,n_trials=50)"
      ],
      "metadata": {
        "id": "DUPSwJtstJkz"
      },
      "execution_count": null,
      "outputs": []
    },
    {
      "cell_type": "code",
      "source": [
        "print(\"Best Score:\",study.best_value) # 최고점수\n",
        "print(\"Best hp\", study.best_params) # 최고점수의 하이퍼파라미터조합"
      ],
      "metadata": {
        "colab": {
          "base_uri": "https://localhost:8080/"
        },
        "id": "28dHtx76vWQL",
        "outputId": "1176fdb3-c46d-4531-adca-36a7a10ec942"
      },
      "execution_count": null,
      "outputs": [
        {
          "output_type": "stream",
          "name": "stdout",
          "text": [
            "Best Score: 0.8612226995693584\n",
            "Best hp {'max_depth': 2, 'min_samples_split': 2, 'criterion': 'entropy', 'max_leaf_nodes': 10, 'n_estimators': 81, 'learning_rate': 0.04761586218744837}\n"
          ]
        }
      ]
    },
    {
      "cell_type": "markdown",
      "source": [
        "- 강사님 스타일"
      ],
      "metadata": {
        "id": "-p4lIaHDwZYC"
      }
    },
    {
      "cell_type": "code",
      "source": [
        "class Objective:\n",
        "    def __init__(self,x_train,y_train,seed):\n",
        "        self.x_train = x_train\n",
        "        self.y_train = y_train\n",
        "        self.seed = seed\n",
        "        self.cv = KFold(n_splits=5,shuffle=True,random_state=self.seed)\n",
        "        \n",
        "    def __call__(self,trial):\n",
        "        hp = {\n",
        "            \"max_depth\" : trial.suggest_int(\"max_depth\",2,15),\n",
        "            \"min_samples_split\" : trial.suggest_int(\"min_samples_split\",2,10),\n",
        "            \"criterion\" : trial.suggest_categorical(\"criterion\",[\"gini\",\"entropy\"]),\n",
        "            \"max_leaf_nodes\" : trial.suggest_int(\"max_leaf_nodes\",5,10),\n",
        "            \"n_estimators\" : trial.suggest_int(\"n_estimators\",10,500),\n",
        "            \"learning_rate\" : trial.suggest_float(\"learning_rate\",0.01,0.1)\n",
        "        }\n",
        "        cv = KFold(n_splits=5,shuffle=True,random_state=self.seed)\n",
        "        model = LGBMClassifier(random_state=self.seed,**hp)\n",
        "        scores = cross_val_score(model,self.x_train,self.y_train, cv = self.cv , scoring=\"roc_auc\")\n",
        "        return np.mean(scores)"
      ],
      "metadata": {
        "id": "YeF9MYo1wnaZ"
      },
      "execution_count": null,
      "outputs": []
    },
    {
      "cell_type": "code",
      "source": [
        "sampler = optuna.samplers.TPESampler(seed = SEED) # 대체모델 부분\n",
        "\n",
        "# 스터디 객체\n",
        "study = optuna.create_study(\n",
        "    direction= \"maximize\", # 높은게 좋은지 낮은게 좋은지 설정 (maximize or minimize)\n",
        "    sampler = sampler\n",
        ")\n",
        "\n",
        "objective = Objective(x_train,y_train,SEED)\n",
        "study.optimize(objective,n_trials=50) # 여기서 call 됨!\n",
        "\n",
        "print(\"Best Score:\",study.best_value) # 최고점수\n",
        "print(\"Best hp\", study.best_params) # 최고점수의 하이퍼파라미터조합"
      ],
      "metadata": {
        "colab": {
          "base_uri": "https://localhost:8080/"
        },
        "id": "c6tDKHBUxhU7",
        "outputId": "011b4cb2-33f7-4c3e-b227-06a80423bd40"
      },
      "execution_count": null,
      "outputs": [
        {
          "output_type": "stream",
          "name": "stderr",
          "text": [
            "\u001b[32m[I 2022-09-13 10:40:30,370]\u001b[0m A new study created in memory with name: no-name-d5475285-e980-42c3-98b8-5bd799e614a5\u001b[0m\n",
            "\u001b[32m[I 2022-09-13 10:40:30,563]\u001b[0m Trial 0 finished with value: 0.8522732281153486 and parameters: {'max_depth': 7, 'min_samples_split': 10, 'criterion': 'gini', 'max_leaf_nodes': 5, 'n_estimators': 86, 'learning_rate': 0.015227525095137952}. Best is trial 0 with value: 0.8522732281153486.\u001b[0m\n",
            "\u001b[32m[I 2022-09-13 10:40:31,404]\u001b[0m Trial 1 finished with value: 0.842336280687235 and parameters: {'max_depth': 14, 'min_samples_split': 7, 'criterion': 'gini', 'max_leaf_nodes': 10, 'n_estimators': 418, 'learning_rate': 0.029110519961044856}. Best is trial 0 with value: 0.8522732281153486.\u001b[0m\n",
            "\u001b[32m[I 2022-09-13 10:40:31,598]\u001b[0m Trial 2 finished with value: 0.847517887036954 and parameters: {'max_depth': 4, 'min_samples_split': 3, 'criterion': 'entropy', 'max_leaf_nodes': 7, 'n_estimators': 152, 'learning_rate': 0.06506676052501416}. Best is trial 0 with value: 0.8522732281153486.\u001b[0m\n",
            "\u001b[32m[I 2022-09-13 10:40:31,733]\u001b[0m Trial 3 finished with value: 0.8527045845122097 and parameters: {'max_depth': 3, 'min_samples_split': 4, 'criterion': 'entropy', 'max_leaf_nodes': 9, 'n_estimators': 108, 'learning_rate': 0.05628109945722505}. Best is trial 3 with value: 0.8527045845122097.\u001b[0m\n",
            "\u001b[32m[I 2022-09-13 10:40:32,563]\u001b[0m Trial 4 finished with value: 0.8263525822422361 and parameters: {'max_depth': 10, 'min_samples_split': 2, 'criterion': 'gini', 'max_leaf_nodes': 5, 'n_estimators': 475, 'learning_rate': 0.09690688297671035}. Best is trial 3 with value: 0.8527045845122097.\u001b[0m\n",
            "\u001b[32m[I 2022-09-13 10:40:32,730]\u001b[0m Trial 5 finished with value: 0.8499428179780878 and parameters: {'max_depth': 13, 'min_samples_split': 4, 'criterion': 'entropy', 'max_leaf_nodes': 7, 'n_estimators': 69, 'learning_rate': 0.054565921910014324}. Best is trial 3 with value: 0.8527045845122097.\u001b[0m\n",
            "\u001b[32m[I 2022-09-13 10:40:32,919]\u001b[0m Trial 6 finished with value: 0.8463463130728073 and parameters: {'max_depth': 2, 'min_samples_split': 10, 'criterion': 'entropy', 'max_leaf_nodes': 6, 'n_estimators': 265, 'learning_rate': 0.059203925140895175}. Best is trial 3 with value: 0.8527045845122097.\u001b[0m\n",
            "\u001b[32m[I 2022-09-13 10:40:33,253]\u001b[0m Trial 7 finished with value: 0.8317356173075506 and parameters: {'max_depth': 4, 'min_samples_split': 10, 'criterion': 'entropy', 'max_leaf_nodes': 10, 'n_estimators': 303, 'learning_rate': 0.09296868115208053}. Best is trial 3 with value: 0.8527045845122097.\u001b[0m\n",
            "\u001b[32m[I 2022-09-13 10:40:33,403]\u001b[0m Trial 8 finished with value: 0.8483919093926373 and parameters: {'max_depth': 3, 'min_samples_split': 3, 'criterion': 'entropy', 'max_leaf_nodes': 7, 'n_estimators': 143, 'learning_rate': 0.08458637582367365}. Best is trial 3 with value: 0.8527045845122097.\u001b[0m\n",
            "\u001b[32m[I 2022-09-13 10:40:33,528]\u001b[0m Trial 9 finished with value: 0.8512160773839454 and parameters: {'max_depth': 6, 'min_samples_split': 4, 'criterion': 'gini', 'max_leaf_nodes': 9, 'n_estimators': 46, 'learning_rate': 0.09881982429404657}. Best is trial 3 with value: 0.8527045845122097.\u001b[0m\n",
            "\u001b[32m[I 2022-09-13 10:40:33,913]\u001b[0m Trial 10 finished with value: 0.8459517079995095 and parameters: {'max_depth': 9, 'min_samples_split': 6, 'criterion': 'entropy', 'max_leaf_nodes': 9, 'n_estimators': 192, 'learning_rate': 0.04094807897017134}. Best is trial 3 with value: 0.8527045845122097.\u001b[0m\n",
            "\u001b[32m[I 2022-09-13 10:40:34,035]\u001b[0m Trial 11 finished with value: 0.84124053829172 and parameters: {'max_depth': 7, 'min_samples_split': 7, 'criterion': 'gini', 'max_leaf_nodes': 5, 'n_estimators': 18, 'learning_rate': 0.010782641016784153}. Best is trial 3 with value: 0.8527045845122097.\u001b[0m\n",
            "\u001b[32m[I 2022-09-13 10:40:34,291]\u001b[0m Trial 12 finished with value: 0.851155701958195 and parameters: {'max_depth': 6, 'min_samples_split': 8, 'criterion': 'gini', 'max_leaf_nodes': 8, 'n_estimators': 116, 'learning_rate': 0.01196355405483679}. Best is trial 3 with value: 0.8527045845122097.\u001b[0m\n",
            "\u001b[32m[I 2022-09-13 10:40:34,767]\u001b[0m Trial 13 finished with value: 0.8480885073111368 and parameters: {'max_depth': 11, 'min_samples_split': 5, 'criterion': 'gini', 'max_leaf_nodes': 8, 'n_estimators': 240, 'learning_rate': 0.0347036475954233}. Best is trial 3 with value: 0.8527045845122097.\u001b[0m\n",
            "\u001b[32m[I 2022-09-13 10:40:34,962]\u001b[0m Trial 14 finished with value: 0.8468783518261398 and parameters: {'max_depth': 7, 'min_samples_split': 9, 'criterion': 'gini', 'max_leaf_nodes': 9, 'n_estimators': 94, 'learning_rate': 0.07005210494307718}. Best is trial 3 with value: 0.8527045845122097.\u001b[0m\n",
            "\u001b[32m[I 2022-09-13 10:40:35,340]\u001b[0m Trial 15 finished with value: 0.838644955495031 and parameters: {'max_depth': 4, 'min_samples_split': 5, 'criterion': 'entropy', 'max_leaf_nodes': 6, 'n_estimators': 342, 'learning_rate': 0.04589452083588246}. Best is trial 3 with value: 0.8527045845122097.\u001b[0m\n",
            "\u001b[32m[I 2022-09-13 10:40:35,748]\u001b[0m Trial 16 finished with value: 0.8488844256221544 and parameters: {'max_depth': 12, 'min_samples_split': 8, 'criterion': 'entropy', 'max_leaf_nodes': 6, 'n_estimators': 198, 'learning_rate': 0.024065513917465253}. Best is trial 3 with value: 0.8527045845122097.\u001b[0m\n",
            "\u001b[32m[I 2022-09-13 10:40:35,845]\u001b[0m Trial 17 finished with value: 0.8493065247940447 and parameters: {'max_depth': 8, 'min_samples_split': 6, 'criterion': 'gini', 'max_leaf_nodes': 8, 'n_estimators': 19, 'learning_rate': 0.081518082770088}. Best is trial 3 with value: 0.8527045845122097.\u001b[0m\n",
            "\u001b[32m[I 2022-09-13 10:40:36,003]\u001b[0m Trial 18 finished with value: 0.8505762606470004 and parameters: {'max_depth': 2, 'min_samples_split': 2, 'criterion': 'entropy', 'max_leaf_nodes': 9, 'n_estimators': 193, 'learning_rate': 0.0506496154464866}. Best is trial 3 with value: 0.8527045845122097.\u001b[0m\n",
            "\u001b[32m[I 2022-09-13 10:40:36,197]\u001b[0m Trial 19 finished with value: 0.8525470631347865 and parameters: {'max_depth': 6, 'min_samples_split': 5, 'criterion': 'gini', 'max_leaf_nodes': 5, 'n_estimators': 93, 'learning_rate': 0.021841626745429776}. Best is trial 3 with value: 0.8527045845122097.\u001b[0m\n",
            "\u001b[32m[I 2022-09-13 10:40:36,444]\u001b[0m Trial 20 finished with value: 0.8435007802404029 and parameters: {'max_depth': 5, 'min_samples_split': 5, 'criterion': 'entropy', 'max_leaf_nodes': 10, 'n_estimators': 140, 'learning_rate': 0.07286569368374826}. Best is trial 3 with value: 0.8527045845122097.\u001b[0m\n",
            "\u001b[32m[I 2022-09-13 10:40:36,643]\u001b[0m Trial 21 finished with value: 0.8530164662375359 and parameters: {'max_depth': 8, 'min_samples_split': 4, 'criterion': 'gini', 'max_leaf_nodes': 5, 'n_estimators': 83, 'learning_rate': 0.02095511844013}. Best is trial 21 with value: 0.8530164662375359.\u001b[0m\n",
            "\u001b[32m[I 2022-09-13 10:40:36,812]\u001b[0m Trial 22 finished with value: 0.8517682421900069 and parameters: {'max_depth': 9, 'min_samples_split': 4, 'criterion': 'gini', 'max_leaf_nodes': 5, 'n_estimators': 64, 'learning_rate': 0.02288998823724443}. Best is trial 21 with value: 0.8530164662375359.\u001b[0m\n",
            "\u001b[32m[I 2022-09-13 10:40:37,022]\u001b[0m Trial 23 finished with value: 0.8508548012578038 and parameters: {'max_depth': 5, 'min_samples_split': 3, 'criterion': 'gini', 'max_leaf_nodes': 6, 'n_estimators': 120, 'learning_rate': 0.03833705466285181}. Best is trial 21 with value: 0.8530164662375359.\u001b[0m\n",
            "\u001b[32m[I 2022-09-13 10:40:37,454]\u001b[0m Trial 24 finished with value: 0.8452249281910786 and parameters: {'max_depth': 8, 'min_samples_split': 5, 'criterion': 'gini', 'max_leaf_nodes': 5, 'n_estimators': 232, 'learning_rate': 0.030675275501862116}. Best is trial 21 with value: 0.8530164662375359.\u001b[0m\n",
            "\u001b[32m[I 2022-09-13 10:40:37,804]\u001b[0m Trial 25 finished with value: 0.8520018820712927 and parameters: {'max_depth': 10, 'min_samples_split': 4, 'criterion': 'gini', 'max_leaf_nodes': 6, 'n_estimators': 173, 'learning_rate': 0.020652452571516704}. Best is trial 21 with value: 0.8530164662375359.\u001b[0m\n",
            "\u001b[32m[I 2022-09-13 10:40:37,896]\u001b[0m Trial 26 finished with value: 0.8526159987263154 and parameters: {'max_depth': 3, 'min_samples_split': 3, 'criterion': 'gini', 'max_leaf_nodes': 7, 'n_estimators': 45, 'learning_rate': 0.04586784587384822}. Best is trial 21 with value: 0.8530164662375359.\u001b[0m\n",
            "\u001b[32m[I 2022-09-13 10:40:37,970]\u001b[0m Trial 27 finished with value: 0.8506609037527053 and parameters: {'max_depth': 3, 'min_samples_split': 2, 'criterion': 'gini', 'max_leaf_nodes': 8, 'n_estimators': 18, 'learning_rate': 0.06065477502762827}. Best is trial 21 with value: 0.8530164662375359.\u001b[0m\n",
            "\u001b[32m[I 2022-09-13 10:40:38,073]\u001b[0m Trial 28 finished with value: 0.8555165353960088 and parameters: {'max_depth': 2, 'min_samples_split': 3, 'criterion': 'entropy', 'max_leaf_nodes': 7, 'n_estimators': 49, 'learning_rate': 0.04361400822007808}. Best is trial 28 with value: 0.8555165353960088.\u001b[0m\n",
            "\u001b[32m[I 2022-09-13 10:40:38,186]\u001b[0m Trial 29 finished with value: 0.8597967969496549 and parameters: {'max_depth': 2, 'min_samples_split': 3, 'criterion': 'entropy', 'max_leaf_nodes': 9, 'n_estimators': 97, 'learning_rate': 0.04389003630859849}. Best is trial 29 with value: 0.8597967969496549.\u001b[0m\n",
            "\u001b[32m[I 2022-09-13 10:40:38,374]\u001b[0m Trial 30 finished with value: 0.8513611691291896 and parameters: {'max_depth': 15, 'min_samples_split': 3, 'criterion': 'entropy', 'max_leaf_nodes': 7, 'n_estimators': 55, 'learning_rate': 0.04136630520026308}. Best is trial 29 with value: 0.8597967969496549.\u001b[0m\n",
            "\u001b[32m[I 2022-09-13 10:40:38,491]\u001b[0m Trial 31 finished with value: 0.860002023968255 and parameters: {'max_depth': 2, 'min_samples_split': 4, 'criterion': 'entropy', 'max_leaf_nodes': 9, 'n_estimators': 97, 'learning_rate': 0.04743859727613211}. Best is trial 31 with value: 0.860002023968255.\u001b[0m\n",
            "\u001b[32m[I 2022-09-13 10:40:38,600]\u001b[0m Trial 32 finished with value: 0.8612226995693584 and parameters: {'max_depth': 2, 'min_samples_split': 2, 'criterion': 'entropy', 'max_leaf_nodes': 10, 'n_estimators': 81, 'learning_rate': 0.04761586218744837}. Best is trial 32 with value: 0.8612226995693584.\u001b[0m\n",
            "\u001b[32m[I 2022-09-13 10:40:38,741]\u001b[0m Trial 33 finished with value: 0.853241505309661 and parameters: {'max_depth': 2, 'min_samples_split': 2, 'criterion': 'entropy', 'max_leaf_nodes': 10, 'n_estimators': 148, 'learning_rate': 0.04957138693705489}. Best is trial 32 with value: 0.8612226995693584.\u001b[0m\n",
            "\u001b[32m[I 2022-09-13 10:40:38,999]\u001b[0m Trial 34 finished with value: 0.8504177257227893 and parameters: {'max_depth': 2, 'min_samples_split': 3, 'criterion': 'entropy', 'max_leaf_nodes': 10, 'n_estimators': 368, 'learning_rate': 0.03230351831510059}. Best is trial 32 with value: 0.8612226995693584.\u001b[0m\n",
            "\u001b[32m[I 2022-09-13 10:40:39,172]\u001b[0m Trial 35 finished with value: 0.8473217234393198 and parameters: {'max_depth': 4, 'min_samples_split': 2, 'criterion': 'entropy', 'max_leaf_nodes': 9, 'n_estimators': 119, 'learning_rate': 0.06460948763185569}. Best is trial 32 with value: 0.8612226995693584.\u001b[0m\n",
            "\u001b[32m[I 2022-09-13 10:40:39,590]\u001b[0m Trial 36 finished with value: 0.8360756500133422 and parameters: {'max_depth': 3, 'min_samples_split': 3, 'criterion': 'entropy', 'max_leaf_nodes': 10, 'n_estimators': 476, 'learning_rate': 0.05221658936500792}. Best is trial 32 with value: 0.8612226995693584.\u001b[0m\n",
            "\u001b[32m[I 2022-09-13 10:40:39,680]\u001b[0m Trial 37 finished with value: 0.8558525282290302 and parameters: {'max_depth': 2, 'min_samples_split': 2, 'criterion': 'entropy', 'max_leaf_nodes': 9, 'n_estimators': 40, 'learning_rate': 0.04571773840253737}. Best is trial 32 with value: 0.8612226995693584.\u001b[0m\n",
            "\u001b[32m[I 2022-09-13 10:40:39,820]\u001b[0m Trial 38 finished with value: 0.8532355695542229 and parameters: {'max_depth': 5, 'min_samples_split': 2, 'criterion': 'entropy', 'max_leaf_nodes': 9, 'n_estimators': 69, 'learning_rate': 0.05607266407320225}. Best is trial 32 with value: 0.8612226995693584.\u001b[0m\n",
            "\u001b[32m[I 2022-09-13 10:40:40,264]\u001b[0m Trial 39 finished with value: 0.8416444906498892 and parameters: {'max_depth': 4, 'min_samples_split': 2, 'criterion': 'entropy', 'max_leaf_nodes': 10, 'n_estimators': 429, 'learning_rate': 0.036173940807973044}. Best is trial 32 with value: 0.8612226995693584.\u001b[0m\n",
            "\u001b[32m[I 2022-09-13 10:40:40,441]\u001b[0m Trial 40 finished with value: 0.8520245958070444 and parameters: {'max_depth': 2, 'min_samples_split': 2, 'criterion': 'entropy', 'max_leaf_nodes': 9, 'n_estimators': 167, 'learning_rate': 0.04846237698772378}. Best is trial 32 with value: 0.8612226995693584.\u001b[0m\n",
            "\u001b[32m[I 2022-09-13 10:40:40,554]\u001b[0m Trial 41 finished with value: 0.8525198679586902 and parameters: {'max_depth': 3, 'min_samples_split': 3, 'criterion': 'entropy', 'max_leaf_nodes': 8, 'n_estimators': 44, 'learning_rate': 0.0429264406987806}. Best is trial 32 with value: 0.8612226995693584.\u001b[0m\n",
            "\u001b[32m[I 2022-09-13 10:40:40,630]\u001b[0m Trial 42 finished with value: 0.8301559484059903 and parameters: {'max_depth': 2, 'min_samples_split': 3, 'criterion': 'entropy', 'max_leaf_nodes': 9, 'n_estimators': 10, 'learning_rate': 0.04461197237986845}. Best is trial 32 with value: 0.8612226995693584.\u001b[0m\n",
            "\u001b[32m[I 2022-09-13 10:40:40,765]\u001b[0m Trial 43 finished with value: 0.8516692246150914 and parameters: {'max_depth': 3, 'min_samples_split': 4, 'criterion': 'entropy', 'max_leaf_nodes': 8, 'n_estimators': 96, 'learning_rate': 0.058660251908660525}. Best is trial 32 with value: 0.8612226995693584.\u001b[0m\n",
            "\u001b[32m[I 2022-09-13 10:40:40,848]\u001b[0m Trial 44 finished with value: 0.8389758367831364 and parameters: {'max_depth': 2, 'min_samples_split': 3, 'criterion': 'entropy', 'max_leaf_nodes': 10, 'n_estimators': 39, 'learning_rate': 0.027458015134901335}. Best is trial 32 with value: 0.8612226995693584.\u001b[0m\n",
            "\u001b[32m[I 2022-09-13 10:40:40,985]\u001b[0m Trial 45 finished with value: 0.853533844267049 and parameters: {'max_depth': 4, 'min_samples_split': 2, 'criterion': 'entropy', 'max_leaf_nodes': 9, 'n_estimators': 79, 'learning_rate': 0.05385491687365862}. Best is trial 32 with value: 0.8612226995693584.\u001b[0m\n",
            "\u001b[32m[I 2022-09-13 10:40:41,121]\u001b[0m Trial 46 finished with value: 0.8595709355692689 and parameters: {'max_depth': 2, 'min_samples_split': 4, 'criterion': 'entropy', 'max_leaf_nodes': 8, 'n_estimators': 127, 'learning_rate': 0.0396120431819263}. Best is trial 32 with value: 0.8612226995693584.\u001b[0m\n",
            "\u001b[32m[I 2022-09-13 10:40:41,279]\u001b[0m Trial 47 finished with value: 0.8530593317962379 and parameters: {'max_depth': 3, 'min_samples_split': 4, 'criterion': 'entropy', 'max_leaf_nodes': 9, 'n_estimators': 126, 'learning_rate': 0.038150635878244445}. Best is trial 32 with value: 0.8612226995693584.\u001b[0m\n",
            "\u001b[32m[I 2022-09-13 10:40:41,606]\u001b[0m Trial 48 finished with value: 0.8455559542226112 and parameters: {'max_depth': 4, 'min_samples_split': 4, 'criterion': 'entropy', 'max_leaf_nodes': 8, 'n_estimators': 271, 'learning_rate': 0.0347065425251714}. Best is trial 32 with value: 0.8612226995693584.\u001b[0m\n",
            "\u001b[32m[I 2022-09-13 10:40:41,915]\u001b[0m Trial 49 finished with value: 0.8466443237695411 and parameters: {'max_depth': 5, 'min_samples_split': 7, 'criterion': 'entropy', 'max_leaf_nodes': 9, 'n_estimators': 219, 'learning_rate': 0.039351356853617826}. Best is trial 32 with value: 0.8612226995693584.\u001b[0m\n"
          ]
        },
        {
          "output_type": "stream",
          "name": "stdout",
          "text": [
            "Best Score: 0.8612226995693584\n",
            "Best hp {'max_depth': 2, 'min_samples_split': 2, 'criterion': 'entropy', 'max_leaf_nodes': 10, 'n_estimators': 81, 'learning_rate': 0.04761586218744837}\n"
          ]
        }
      ]
    },
    {
      "cell_type": "code",
      "source": [
        "study.best_params"
      ],
      "metadata": {
        "colab": {
          "base_uri": "https://localhost:8080/"
        },
        "id": "Tx3sujokxz60",
        "outputId": "843e5afc-09f9-400d-d1af-78f0cd269b83"
      },
      "execution_count": null,
      "outputs": [
        {
          "output_type": "execute_result",
          "data": {
            "text/plain": [
              "{'max_depth': 2,\n",
              " 'min_samples_split': 2,\n",
              " 'criterion': 'entropy',\n",
              " 'max_leaf_nodes': 10,\n",
              " 'n_estimators': 81,\n",
              " 'learning_rate': 0.04761586218744837}"
            ]
          },
          "metadata": {},
          "execution_count": 31
        }
      ]
    },
    {
      "cell_type": "markdown",
      "source": [
        "- 검증셋 점수 확인"
      ],
      "metadata": {
        "id": "tiAhOs9QyVb0"
      }
    },
    {
      "cell_type": "code",
      "source": [
        "model = LGBMClassifier(random_state=SEED, **study.best_params)\n",
        "model.fit(x_train,y_train)\n",
        "\n",
        "pred = model.predict_proba(x_valid)[:,1]\n",
        "\n",
        "roc_auc_score(y_valid,pred)"
      ],
      "metadata": {
        "colab": {
          "base_uri": "https://localhost:8080/"
        },
        "id": "MGa2SGGhyX0U",
        "outputId": "f0b503cd-f2ba-4fe0-d0ff-0886a30d7914"
      },
      "execution_count": null,
      "outputs": [
        {
          "output_type": "execute_result",
          "data": {
            "text/plain": [
              "0.8868725868725869"
            ]
          },
          "metadata": {},
          "execution_count": 32
        }
      ]
    },
    {
      "cell_type": "markdown",
      "source": [
        "- 하이퍼파라미터 중요도 시각화"
      ],
      "metadata": {
        "id": "wmeYw38LzAT1"
      }
    },
    {
      "cell_type": "code",
      "source": [
        "optuna.visualization.plot_param_importances(study)"
      ],
      "metadata": {
        "colab": {
          "base_uri": "https://localhost:8080/",
          "height": 542
        },
        "id": "iS5PD1iGzARt",
        "outputId": "da7269e9-4809-4308-a971-711f456c0f49"
      },
      "execution_count": null,
      "outputs": [
        {
          "output_type": "display_data",
          "data": {
            "text/html": [
              "<html>\n",
              "<head><meta charset=\"utf-8\" /></head>\n",
              "<body>\n",
              "    <div>            <script src=\"https://cdnjs.cloudflare.com/ajax/libs/mathjax/2.7.5/MathJax.js?config=TeX-AMS-MML_SVG\"></script><script type=\"text/javascript\">if (window.MathJax) {MathJax.Hub.Config({SVG: {font: \"STIX-Web\"}});}</script>                <script type=\"text/javascript\">window.PlotlyConfig = {MathJaxConfig: 'local'};</script>\n",
              "        <script src=\"https://cdn.plot.ly/plotly-2.8.3.min.js\"></script>                <div id=\"7df5f771-9950-4874-81f9-f0565faece06\" class=\"plotly-graph-div\" style=\"height:525px; width:100%;\"></div>            <script type=\"text/javascript\">                                    window.PLOTLYENV=window.PLOTLYENV || {};                                    if (document.getElementById(\"7df5f771-9950-4874-81f9-f0565faece06\")) {                    Plotly.newPlot(                        \"7df5f771-9950-4874-81f9-f0565faece06\",                        [{\"cliponaxis\":false,\"hovertemplate\":[\"criterion (CategoricalDistribution): 0.00279891403667366<extra></extra>\",\"max_leaf_nodes (IntDistribution): 0.012321496177869314<extra></extra>\",\"min_samples_split (IntDistribution): 0.02546100813151582<extra></extra>\",\"max_depth (IntDistribution): 0.03035482609811174<extra></extra>\",\"learning_rate (FloatDistribution): 0.21022021365691876<extra></extra>\",\"n_estimators (IntDistribution): 0.7188435418989109<extra></extra>\"],\"marker\":{\"color\":\"rgb(66,146,198)\"},\"orientation\":\"h\",\"text\":[\"<0.01\",\"0.01\",\"0.03\",\"0.03\",\"0.21\",\"0.72\"],\"textposition\":\"outside\",\"x\":[0.00279891403667366,0.012321496177869314,0.02546100813151582,0.03035482609811174,0.21022021365691876,0.7188435418989109],\"y\":[\"criterion\",\"max_leaf_nodes\",\"min_samples_split\",\"max_depth\",\"learning_rate\",\"n_estimators\"],\"type\":\"bar\"}],                        {\"showlegend\":false,\"title\":{\"text\":\"Hyperparameter Importances\"},\"xaxis\":{\"title\":{\"text\":\"Importance for Objective Value\"}},\"yaxis\":{\"title\":{\"text\":\"Hyperparameter\"}},\"template\":{\"data\":{\"bar\":[{\"error_x\":{\"color\":\"#2a3f5f\"},\"error_y\":{\"color\":\"#2a3f5f\"},\"marker\":{\"line\":{\"color\":\"#E5ECF6\",\"width\":0.5},\"pattern\":{\"fillmode\":\"overlay\",\"size\":10,\"solidity\":0.2}},\"type\":\"bar\"}],\"barpolar\":[{\"marker\":{\"line\":{\"color\":\"#E5ECF6\",\"width\":0.5},\"pattern\":{\"fillmode\":\"overlay\",\"size\":10,\"solidity\":0.2}},\"type\":\"barpolar\"}],\"carpet\":[{\"aaxis\":{\"endlinecolor\":\"#2a3f5f\",\"gridcolor\":\"white\",\"linecolor\":\"white\",\"minorgridcolor\":\"white\",\"startlinecolor\":\"#2a3f5f\"},\"baxis\":{\"endlinecolor\":\"#2a3f5f\",\"gridcolor\":\"white\",\"linecolor\":\"white\",\"minorgridcolor\":\"white\",\"startlinecolor\":\"#2a3f5f\"},\"type\":\"carpet\"}],\"choropleth\":[{\"colorbar\":{\"outlinewidth\":0,\"ticks\":\"\"},\"type\":\"choropleth\"}],\"contour\":[{\"colorbar\":{\"outlinewidth\":0,\"ticks\":\"\"},\"colorscale\":[[0.0,\"#0d0887\"],[0.1111111111111111,\"#46039f\"],[0.2222222222222222,\"#7201a8\"],[0.3333333333333333,\"#9c179e\"],[0.4444444444444444,\"#bd3786\"],[0.5555555555555556,\"#d8576b\"],[0.6666666666666666,\"#ed7953\"],[0.7777777777777778,\"#fb9f3a\"],[0.8888888888888888,\"#fdca26\"],[1.0,\"#f0f921\"]],\"type\":\"contour\"}],\"contourcarpet\":[{\"colorbar\":{\"outlinewidth\":0,\"ticks\":\"\"},\"type\":\"contourcarpet\"}],\"heatmap\":[{\"colorbar\":{\"outlinewidth\":0,\"ticks\":\"\"},\"colorscale\":[[0.0,\"#0d0887\"],[0.1111111111111111,\"#46039f\"],[0.2222222222222222,\"#7201a8\"],[0.3333333333333333,\"#9c179e\"],[0.4444444444444444,\"#bd3786\"],[0.5555555555555556,\"#d8576b\"],[0.6666666666666666,\"#ed7953\"],[0.7777777777777778,\"#fb9f3a\"],[0.8888888888888888,\"#fdca26\"],[1.0,\"#f0f921\"]],\"type\":\"heatmap\"}],\"heatmapgl\":[{\"colorbar\":{\"outlinewidth\":0,\"ticks\":\"\"},\"colorscale\":[[0.0,\"#0d0887\"],[0.1111111111111111,\"#46039f\"],[0.2222222222222222,\"#7201a8\"],[0.3333333333333333,\"#9c179e\"],[0.4444444444444444,\"#bd3786\"],[0.5555555555555556,\"#d8576b\"],[0.6666666666666666,\"#ed7953\"],[0.7777777777777778,\"#fb9f3a\"],[0.8888888888888888,\"#fdca26\"],[1.0,\"#f0f921\"]],\"type\":\"heatmapgl\"}],\"histogram\":[{\"marker\":{\"pattern\":{\"fillmode\":\"overlay\",\"size\":10,\"solidity\":0.2}},\"type\":\"histogram\"}],\"histogram2d\":[{\"colorbar\":{\"outlinewidth\":0,\"ticks\":\"\"},\"colorscale\":[[0.0,\"#0d0887\"],[0.1111111111111111,\"#46039f\"],[0.2222222222222222,\"#7201a8\"],[0.3333333333333333,\"#9c179e\"],[0.4444444444444444,\"#bd3786\"],[0.5555555555555556,\"#d8576b\"],[0.6666666666666666,\"#ed7953\"],[0.7777777777777778,\"#fb9f3a\"],[0.8888888888888888,\"#fdca26\"],[1.0,\"#f0f921\"]],\"type\":\"histogram2d\"}],\"histogram2dcontour\":[{\"colorbar\":{\"outlinewidth\":0,\"ticks\":\"\"},\"colorscale\":[[0.0,\"#0d0887\"],[0.1111111111111111,\"#46039f\"],[0.2222222222222222,\"#7201a8\"],[0.3333333333333333,\"#9c179e\"],[0.4444444444444444,\"#bd3786\"],[0.5555555555555556,\"#d8576b\"],[0.6666666666666666,\"#ed7953\"],[0.7777777777777778,\"#fb9f3a\"],[0.8888888888888888,\"#fdca26\"],[1.0,\"#f0f921\"]],\"type\":\"histogram2dcontour\"}],\"mesh3d\":[{\"colorbar\":{\"outlinewidth\":0,\"ticks\":\"\"},\"type\":\"mesh3d\"}],\"parcoords\":[{\"line\":{\"colorbar\":{\"outlinewidth\":0,\"ticks\":\"\"}},\"type\":\"parcoords\"}],\"pie\":[{\"automargin\":true,\"type\":\"pie\"}],\"scatter\":[{\"marker\":{\"colorbar\":{\"outlinewidth\":0,\"ticks\":\"\"}},\"type\":\"scatter\"}],\"scatter3d\":[{\"line\":{\"colorbar\":{\"outlinewidth\":0,\"ticks\":\"\"}},\"marker\":{\"colorbar\":{\"outlinewidth\":0,\"ticks\":\"\"}},\"type\":\"scatter3d\"}],\"scattercarpet\":[{\"marker\":{\"colorbar\":{\"outlinewidth\":0,\"ticks\":\"\"}},\"type\":\"scattercarpet\"}],\"scattergeo\":[{\"marker\":{\"colorbar\":{\"outlinewidth\":0,\"ticks\":\"\"}},\"type\":\"scattergeo\"}],\"scattergl\":[{\"marker\":{\"colorbar\":{\"outlinewidth\":0,\"ticks\":\"\"}},\"type\":\"scattergl\"}],\"scattermapbox\":[{\"marker\":{\"colorbar\":{\"outlinewidth\":0,\"ticks\":\"\"}},\"type\":\"scattermapbox\"}],\"scatterpolar\":[{\"marker\":{\"colorbar\":{\"outlinewidth\":0,\"ticks\":\"\"}},\"type\":\"scatterpolar\"}],\"scatterpolargl\":[{\"marker\":{\"colorbar\":{\"outlinewidth\":0,\"ticks\":\"\"}},\"type\":\"scatterpolargl\"}],\"scatterternary\":[{\"marker\":{\"colorbar\":{\"outlinewidth\":0,\"ticks\":\"\"}},\"type\":\"scatterternary\"}],\"surface\":[{\"colorbar\":{\"outlinewidth\":0,\"ticks\":\"\"},\"colorscale\":[[0.0,\"#0d0887\"],[0.1111111111111111,\"#46039f\"],[0.2222222222222222,\"#7201a8\"],[0.3333333333333333,\"#9c179e\"],[0.4444444444444444,\"#bd3786\"],[0.5555555555555556,\"#d8576b\"],[0.6666666666666666,\"#ed7953\"],[0.7777777777777778,\"#fb9f3a\"],[0.8888888888888888,\"#fdca26\"],[1.0,\"#f0f921\"]],\"type\":\"surface\"}],\"table\":[{\"cells\":{\"fill\":{\"color\":\"#EBF0F8\"},\"line\":{\"color\":\"white\"}},\"header\":{\"fill\":{\"color\":\"#C8D4E3\"},\"line\":{\"color\":\"white\"}},\"type\":\"table\"}]},\"layout\":{\"annotationdefaults\":{\"arrowcolor\":\"#2a3f5f\",\"arrowhead\":0,\"arrowwidth\":1},\"autotypenumbers\":\"strict\",\"coloraxis\":{\"colorbar\":{\"outlinewidth\":0,\"ticks\":\"\"}},\"colorscale\":{\"diverging\":[[0,\"#8e0152\"],[0.1,\"#c51b7d\"],[0.2,\"#de77ae\"],[0.3,\"#f1b6da\"],[0.4,\"#fde0ef\"],[0.5,\"#f7f7f7\"],[0.6,\"#e6f5d0\"],[0.7,\"#b8e186\"],[0.8,\"#7fbc41\"],[0.9,\"#4d9221\"],[1,\"#276419\"]],\"sequential\":[[0.0,\"#0d0887\"],[0.1111111111111111,\"#46039f\"],[0.2222222222222222,\"#7201a8\"],[0.3333333333333333,\"#9c179e\"],[0.4444444444444444,\"#bd3786\"],[0.5555555555555556,\"#d8576b\"],[0.6666666666666666,\"#ed7953\"],[0.7777777777777778,\"#fb9f3a\"],[0.8888888888888888,\"#fdca26\"],[1.0,\"#f0f921\"]],\"sequentialminus\":[[0.0,\"#0d0887\"],[0.1111111111111111,\"#46039f\"],[0.2222222222222222,\"#7201a8\"],[0.3333333333333333,\"#9c179e\"],[0.4444444444444444,\"#bd3786\"],[0.5555555555555556,\"#d8576b\"],[0.6666666666666666,\"#ed7953\"],[0.7777777777777778,\"#fb9f3a\"],[0.8888888888888888,\"#fdca26\"],[1.0,\"#f0f921\"]]},\"colorway\":[\"#636efa\",\"#EF553B\",\"#00cc96\",\"#ab63fa\",\"#FFA15A\",\"#19d3f3\",\"#FF6692\",\"#B6E880\",\"#FF97FF\",\"#FECB52\"],\"font\":{\"color\":\"#2a3f5f\"},\"geo\":{\"bgcolor\":\"white\",\"lakecolor\":\"white\",\"landcolor\":\"#E5ECF6\",\"showlakes\":true,\"showland\":true,\"subunitcolor\":\"white\"},\"hoverlabel\":{\"align\":\"left\"},\"hovermode\":\"closest\",\"mapbox\":{\"style\":\"light\"},\"paper_bgcolor\":\"white\",\"plot_bgcolor\":\"#E5ECF6\",\"polar\":{\"angularaxis\":{\"gridcolor\":\"white\",\"linecolor\":\"white\",\"ticks\":\"\"},\"bgcolor\":\"#E5ECF6\",\"radialaxis\":{\"gridcolor\":\"white\",\"linecolor\":\"white\",\"ticks\":\"\"}},\"scene\":{\"xaxis\":{\"backgroundcolor\":\"#E5ECF6\",\"gridcolor\":\"white\",\"gridwidth\":2,\"linecolor\":\"white\",\"showbackground\":true,\"ticks\":\"\",\"zerolinecolor\":\"white\"},\"yaxis\":{\"backgroundcolor\":\"#E5ECF6\",\"gridcolor\":\"white\",\"gridwidth\":2,\"linecolor\":\"white\",\"showbackground\":true,\"ticks\":\"\",\"zerolinecolor\":\"white\"},\"zaxis\":{\"backgroundcolor\":\"#E5ECF6\",\"gridcolor\":\"white\",\"gridwidth\":2,\"linecolor\":\"white\",\"showbackground\":true,\"ticks\":\"\",\"zerolinecolor\":\"white\"}},\"shapedefaults\":{\"line\":{\"color\":\"#2a3f5f\"}},\"ternary\":{\"aaxis\":{\"gridcolor\":\"white\",\"linecolor\":\"white\",\"ticks\":\"\"},\"baxis\":{\"gridcolor\":\"white\",\"linecolor\":\"white\",\"ticks\":\"\"},\"bgcolor\":\"#E5ECF6\",\"caxis\":{\"gridcolor\":\"white\",\"linecolor\":\"white\",\"ticks\":\"\"}},\"title\":{\"x\":0.05},\"xaxis\":{\"automargin\":true,\"gridcolor\":\"white\",\"linecolor\":\"white\",\"ticks\":\"\",\"title\":{\"standoff\":15},\"zerolinecolor\":\"white\",\"zerolinewidth\":2},\"yaxis\":{\"automargin\":true,\"gridcolor\":\"white\",\"linecolor\":\"white\",\"ticks\":\"\",\"title\":{\"standoff\":15},\"zerolinecolor\":\"white\",\"zerolinewidth\":2}}}},                        {\"responsive\": true}                    ).then(function(){\n",
              "                            \n",
              "var gd = document.getElementById('7df5f771-9950-4874-81f9-f0565faece06');\n",
              "var x = new MutationObserver(function (mutations, observer) {{\n",
              "        var display = window.getComputedStyle(gd).display;\n",
              "        if (!display || display === 'none') {{\n",
              "            console.log([gd, 'removed!']);\n",
              "            Plotly.purge(gd);\n",
              "            observer.disconnect();\n",
              "        }}\n",
              "}});\n",
              "\n",
              "// Listen for the removal of the full notebook cells\n",
              "var notebookContainer = gd.closest('#notebook-container');\n",
              "if (notebookContainer) {{\n",
              "    x.observe(notebookContainer, {childList: true});\n",
              "}}\n",
              "\n",
              "// Listen for the clearing of the current output cell\n",
              "var outputEl = gd.closest('.output');\n",
              "if (outputEl) {{\n",
              "    x.observe(outputEl, {childList: true});\n",
              "}}\n",
              "\n",
              "                        })                };                            </script>        </div>\n",
              "</body>\n",
              "</html>"
            ]
          },
          "metadata": {}
        }
      ]
    },
    {
      "cell_type": "markdown",
      "source": [
        "- 하이퍼파라미터 최적화 과정 history"
      ],
      "metadata": {
        "id": "nzhApP9Syjdh"
      }
    },
    {
      "cell_type": "code",
      "source": [
        "optuna.visualization.plot_optimization_history(study)"
      ],
      "metadata": {
        "colab": {
          "base_uri": "https://localhost:8080/",
          "height": 542
        },
        "id": "9Cn6lTPqzkcM",
        "outputId": "b4e80589-6785-42cd-a924-4bd2d5bbb3c7"
      },
      "execution_count": null,
      "outputs": [
        {
          "output_type": "display_data",
          "data": {
            "text/html": [
              "<html>\n",
              "<head><meta charset=\"utf-8\" /></head>\n",
              "<body>\n",
              "    <div>            <script src=\"https://cdnjs.cloudflare.com/ajax/libs/mathjax/2.7.5/MathJax.js?config=TeX-AMS-MML_SVG\"></script><script type=\"text/javascript\">if (window.MathJax) {MathJax.Hub.Config({SVG: {font: \"STIX-Web\"}});}</script>                <script type=\"text/javascript\">window.PlotlyConfig = {MathJaxConfig: 'local'};</script>\n",
              "        <script src=\"https://cdn.plot.ly/plotly-2.8.3.min.js\"></script>                <div id=\"b45efab9-51ae-4b4e-9a2f-9d38e128015a\" class=\"plotly-graph-div\" style=\"height:525px; width:100%;\"></div>            <script type=\"text/javascript\">                                    window.PLOTLYENV=window.PLOTLYENV || {};                                    if (document.getElementById(\"b45efab9-51ae-4b4e-9a2f-9d38e128015a\")) {                    Plotly.newPlot(                        \"b45efab9-51ae-4b4e-9a2f-9d38e128015a\",                        [{\"mode\":\"markers\",\"name\":\"Objective Value\",\"x\":[0,1,2,3,4,5,6,7,8,9,10,11,12,13,14,15,16,17,18,19,20,21,22,23,24,25,26,27,28,29,30,31,32,33,34,35,36,37,38,39,40,41,42,43,44,45,46,47,48,49],\"y\":[0.8522732281153486,0.842336280687235,0.847517887036954,0.8527045845122097,0.8263525822422361,0.8499428179780878,0.8463463130728073,0.8317356173075506,0.8483919093926373,0.8512160773839454,0.8459517079995095,0.84124053829172,0.851155701958195,0.8480885073111368,0.8468783518261398,0.838644955495031,0.8488844256221544,0.8493065247940447,0.8505762606470004,0.8525470631347865,0.8435007802404029,0.8530164662375359,0.8517682421900069,0.8508548012578038,0.8452249281910786,0.8520018820712927,0.8526159987263154,0.8506609037527053,0.8555165353960088,0.8597967969496549,0.8513611691291896,0.860002023968255,0.8612226995693584,0.853241505309661,0.8504177257227893,0.8473217234393198,0.8360756500133422,0.8558525282290302,0.8532355695542229,0.8416444906498892,0.8520245958070444,0.8525198679586902,0.8301559484059903,0.8516692246150914,0.8389758367831364,0.853533844267049,0.8595709355692689,0.8530593317962379,0.8455559542226112,0.8466443237695411],\"type\":\"scatter\"},{\"name\":\"Best Value\",\"x\":[0,1,2,3,4,5,6,7,8,9,10,11,12,13,14,15,16,17,18,19,20,21,22,23,24,25,26,27,28,29,30,31,32,33,34,35,36,37,38,39,40,41,42,43,44,45,46,47,48,49],\"y\":[0.8522732281153486,0.8522732281153486,0.8522732281153486,0.8527045845122097,0.8527045845122097,0.8527045845122097,0.8527045845122097,0.8527045845122097,0.8527045845122097,0.8527045845122097,0.8527045845122097,0.8527045845122097,0.8527045845122097,0.8527045845122097,0.8527045845122097,0.8527045845122097,0.8527045845122097,0.8527045845122097,0.8527045845122097,0.8527045845122097,0.8527045845122097,0.8530164662375359,0.8530164662375359,0.8530164662375359,0.8530164662375359,0.8530164662375359,0.8530164662375359,0.8530164662375359,0.8555165353960088,0.8597967969496549,0.8597967969496549,0.860002023968255,0.8612226995693584,0.8612226995693584,0.8612226995693584,0.8612226995693584,0.8612226995693584,0.8612226995693584,0.8612226995693584,0.8612226995693584,0.8612226995693584,0.8612226995693584,0.8612226995693584,0.8612226995693584,0.8612226995693584,0.8612226995693584,0.8612226995693584,0.8612226995693584,0.8612226995693584,0.8612226995693584],\"type\":\"scatter\"}],                        {\"title\":{\"text\":\"Optimization History Plot\"},\"xaxis\":{\"title\":{\"text\":\"Trial\"}},\"yaxis\":{\"title\":{\"text\":\"Objective Value\"}},\"template\":{\"data\":{\"bar\":[{\"error_x\":{\"color\":\"#2a3f5f\"},\"error_y\":{\"color\":\"#2a3f5f\"},\"marker\":{\"line\":{\"color\":\"#E5ECF6\",\"width\":0.5},\"pattern\":{\"fillmode\":\"overlay\",\"size\":10,\"solidity\":0.2}},\"type\":\"bar\"}],\"barpolar\":[{\"marker\":{\"line\":{\"color\":\"#E5ECF6\",\"width\":0.5},\"pattern\":{\"fillmode\":\"overlay\",\"size\":10,\"solidity\":0.2}},\"type\":\"barpolar\"}],\"carpet\":[{\"aaxis\":{\"endlinecolor\":\"#2a3f5f\",\"gridcolor\":\"white\",\"linecolor\":\"white\",\"minorgridcolor\":\"white\",\"startlinecolor\":\"#2a3f5f\"},\"baxis\":{\"endlinecolor\":\"#2a3f5f\",\"gridcolor\":\"white\",\"linecolor\":\"white\",\"minorgridcolor\":\"white\",\"startlinecolor\":\"#2a3f5f\"},\"type\":\"carpet\"}],\"choropleth\":[{\"colorbar\":{\"outlinewidth\":0,\"ticks\":\"\"},\"type\":\"choropleth\"}],\"contour\":[{\"colorbar\":{\"outlinewidth\":0,\"ticks\":\"\"},\"colorscale\":[[0.0,\"#0d0887\"],[0.1111111111111111,\"#46039f\"],[0.2222222222222222,\"#7201a8\"],[0.3333333333333333,\"#9c179e\"],[0.4444444444444444,\"#bd3786\"],[0.5555555555555556,\"#d8576b\"],[0.6666666666666666,\"#ed7953\"],[0.7777777777777778,\"#fb9f3a\"],[0.8888888888888888,\"#fdca26\"],[1.0,\"#f0f921\"]],\"type\":\"contour\"}],\"contourcarpet\":[{\"colorbar\":{\"outlinewidth\":0,\"ticks\":\"\"},\"type\":\"contourcarpet\"}],\"heatmap\":[{\"colorbar\":{\"outlinewidth\":0,\"ticks\":\"\"},\"colorscale\":[[0.0,\"#0d0887\"],[0.1111111111111111,\"#46039f\"],[0.2222222222222222,\"#7201a8\"],[0.3333333333333333,\"#9c179e\"],[0.4444444444444444,\"#bd3786\"],[0.5555555555555556,\"#d8576b\"],[0.6666666666666666,\"#ed7953\"],[0.7777777777777778,\"#fb9f3a\"],[0.8888888888888888,\"#fdca26\"],[1.0,\"#f0f921\"]],\"type\":\"heatmap\"}],\"heatmapgl\":[{\"colorbar\":{\"outlinewidth\":0,\"ticks\":\"\"},\"colorscale\":[[0.0,\"#0d0887\"],[0.1111111111111111,\"#46039f\"],[0.2222222222222222,\"#7201a8\"],[0.3333333333333333,\"#9c179e\"],[0.4444444444444444,\"#bd3786\"],[0.5555555555555556,\"#d8576b\"],[0.6666666666666666,\"#ed7953\"],[0.7777777777777778,\"#fb9f3a\"],[0.8888888888888888,\"#fdca26\"],[1.0,\"#f0f921\"]],\"type\":\"heatmapgl\"}],\"histogram\":[{\"marker\":{\"pattern\":{\"fillmode\":\"overlay\",\"size\":10,\"solidity\":0.2}},\"type\":\"histogram\"}],\"histogram2d\":[{\"colorbar\":{\"outlinewidth\":0,\"ticks\":\"\"},\"colorscale\":[[0.0,\"#0d0887\"],[0.1111111111111111,\"#46039f\"],[0.2222222222222222,\"#7201a8\"],[0.3333333333333333,\"#9c179e\"],[0.4444444444444444,\"#bd3786\"],[0.5555555555555556,\"#d8576b\"],[0.6666666666666666,\"#ed7953\"],[0.7777777777777778,\"#fb9f3a\"],[0.8888888888888888,\"#fdca26\"],[1.0,\"#f0f921\"]],\"type\":\"histogram2d\"}],\"histogram2dcontour\":[{\"colorbar\":{\"outlinewidth\":0,\"ticks\":\"\"},\"colorscale\":[[0.0,\"#0d0887\"],[0.1111111111111111,\"#46039f\"],[0.2222222222222222,\"#7201a8\"],[0.3333333333333333,\"#9c179e\"],[0.4444444444444444,\"#bd3786\"],[0.5555555555555556,\"#d8576b\"],[0.6666666666666666,\"#ed7953\"],[0.7777777777777778,\"#fb9f3a\"],[0.8888888888888888,\"#fdca26\"],[1.0,\"#f0f921\"]],\"type\":\"histogram2dcontour\"}],\"mesh3d\":[{\"colorbar\":{\"outlinewidth\":0,\"ticks\":\"\"},\"type\":\"mesh3d\"}],\"parcoords\":[{\"line\":{\"colorbar\":{\"outlinewidth\":0,\"ticks\":\"\"}},\"type\":\"parcoords\"}],\"pie\":[{\"automargin\":true,\"type\":\"pie\"}],\"scatter\":[{\"marker\":{\"colorbar\":{\"outlinewidth\":0,\"ticks\":\"\"}},\"type\":\"scatter\"}],\"scatter3d\":[{\"line\":{\"colorbar\":{\"outlinewidth\":0,\"ticks\":\"\"}},\"marker\":{\"colorbar\":{\"outlinewidth\":0,\"ticks\":\"\"}},\"type\":\"scatter3d\"}],\"scattercarpet\":[{\"marker\":{\"colorbar\":{\"outlinewidth\":0,\"ticks\":\"\"}},\"type\":\"scattercarpet\"}],\"scattergeo\":[{\"marker\":{\"colorbar\":{\"outlinewidth\":0,\"ticks\":\"\"}},\"type\":\"scattergeo\"}],\"scattergl\":[{\"marker\":{\"colorbar\":{\"outlinewidth\":0,\"ticks\":\"\"}},\"type\":\"scattergl\"}],\"scattermapbox\":[{\"marker\":{\"colorbar\":{\"outlinewidth\":0,\"ticks\":\"\"}},\"type\":\"scattermapbox\"}],\"scatterpolar\":[{\"marker\":{\"colorbar\":{\"outlinewidth\":0,\"ticks\":\"\"}},\"type\":\"scatterpolar\"}],\"scatterpolargl\":[{\"marker\":{\"colorbar\":{\"outlinewidth\":0,\"ticks\":\"\"}},\"type\":\"scatterpolargl\"}],\"scatterternary\":[{\"marker\":{\"colorbar\":{\"outlinewidth\":0,\"ticks\":\"\"}},\"type\":\"scatterternary\"}],\"surface\":[{\"colorbar\":{\"outlinewidth\":0,\"ticks\":\"\"},\"colorscale\":[[0.0,\"#0d0887\"],[0.1111111111111111,\"#46039f\"],[0.2222222222222222,\"#7201a8\"],[0.3333333333333333,\"#9c179e\"],[0.4444444444444444,\"#bd3786\"],[0.5555555555555556,\"#d8576b\"],[0.6666666666666666,\"#ed7953\"],[0.7777777777777778,\"#fb9f3a\"],[0.8888888888888888,\"#fdca26\"],[1.0,\"#f0f921\"]],\"type\":\"surface\"}],\"table\":[{\"cells\":{\"fill\":{\"color\":\"#EBF0F8\"},\"line\":{\"color\":\"white\"}},\"header\":{\"fill\":{\"color\":\"#C8D4E3\"},\"line\":{\"color\":\"white\"}},\"type\":\"table\"}]},\"layout\":{\"annotationdefaults\":{\"arrowcolor\":\"#2a3f5f\",\"arrowhead\":0,\"arrowwidth\":1},\"autotypenumbers\":\"strict\",\"coloraxis\":{\"colorbar\":{\"outlinewidth\":0,\"ticks\":\"\"}},\"colorscale\":{\"diverging\":[[0,\"#8e0152\"],[0.1,\"#c51b7d\"],[0.2,\"#de77ae\"],[0.3,\"#f1b6da\"],[0.4,\"#fde0ef\"],[0.5,\"#f7f7f7\"],[0.6,\"#e6f5d0\"],[0.7,\"#b8e186\"],[0.8,\"#7fbc41\"],[0.9,\"#4d9221\"],[1,\"#276419\"]],\"sequential\":[[0.0,\"#0d0887\"],[0.1111111111111111,\"#46039f\"],[0.2222222222222222,\"#7201a8\"],[0.3333333333333333,\"#9c179e\"],[0.4444444444444444,\"#bd3786\"],[0.5555555555555556,\"#d8576b\"],[0.6666666666666666,\"#ed7953\"],[0.7777777777777778,\"#fb9f3a\"],[0.8888888888888888,\"#fdca26\"],[1.0,\"#f0f921\"]],\"sequentialminus\":[[0.0,\"#0d0887\"],[0.1111111111111111,\"#46039f\"],[0.2222222222222222,\"#7201a8\"],[0.3333333333333333,\"#9c179e\"],[0.4444444444444444,\"#bd3786\"],[0.5555555555555556,\"#d8576b\"],[0.6666666666666666,\"#ed7953\"],[0.7777777777777778,\"#fb9f3a\"],[0.8888888888888888,\"#fdca26\"],[1.0,\"#f0f921\"]]},\"colorway\":[\"#636efa\",\"#EF553B\",\"#00cc96\",\"#ab63fa\",\"#FFA15A\",\"#19d3f3\",\"#FF6692\",\"#B6E880\",\"#FF97FF\",\"#FECB52\"],\"font\":{\"color\":\"#2a3f5f\"},\"geo\":{\"bgcolor\":\"white\",\"lakecolor\":\"white\",\"landcolor\":\"#E5ECF6\",\"showlakes\":true,\"showland\":true,\"subunitcolor\":\"white\"},\"hoverlabel\":{\"align\":\"left\"},\"hovermode\":\"closest\",\"mapbox\":{\"style\":\"light\"},\"paper_bgcolor\":\"white\",\"plot_bgcolor\":\"#E5ECF6\",\"polar\":{\"angularaxis\":{\"gridcolor\":\"white\",\"linecolor\":\"white\",\"ticks\":\"\"},\"bgcolor\":\"#E5ECF6\",\"radialaxis\":{\"gridcolor\":\"white\",\"linecolor\":\"white\",\"ticks\":\"\"}},\"scene\":{\"xaxis\":{\"backgroundcolor\":\"#E5ECF6\",\"gridcolor\":\"white\",\"gridwidth\":2,\"linecolor\":\"white\",\"showbackground\":true,\"ticks\":\"\",\"zerolinecolor\":\"white\"},\"yaxis\":{\"backgroundcolor\":\"#E5ECF6\",\"gridcolor\":\"white\",\"gridwidth\":2,\"linecolor\":\"white\",\"showbackground\":true,\"ticks\":\"\",\"zerolinecolor\":\"white\"},\"zaxis\":{\"backgroundcolor\":\"#E5ECF6\",\"gridcolor\":\"white\",\"gridwidth\":2,\"linecolor\":\"white\",\"showbackground\":true,\"ticks\":\"\",\"zerolinecolor\":\"white\"}},\"shapedefaults\":{\"line\":{\"color\":\"#2a3f5f\"}},\"ternary\":{\"aaxis\":{\"gridcolor\":\"white\",\"linecolor\":\"white\",\"ticks\":\"\"},\"baxis\":{\"gridcolor\":\"white\",\"linecolor\":\"white\",\"ticks\":\"\"},\"bgcolor\":\"#E5ECF6\",\"caxis\":{\"gridcolor\":\"white\",\"linecolor\":\"white\",\"ticks\":\"\"}},\"title\":{\"x\":0.05},\"xaxis\":{\"automargin\":true,\"gridcolor\":\"white\",\"linecolor\":\"white\",\"ticks\":\"\",\"title\":{\"standoff\":15},\"zerolinecolor\":\"white\",\"zerolinewidth\":2},\"yaxis\":{\"automargin\":true,\"gridcolor\":\"white\",\"linecolor\":\"white\",\"ticks\":\"\",\"title\":{\"standoff\":15},\"zerolinecolor\":\"white\",\"zerolinewidth\":2}}}},                        {\"responsive\": true}                    ).then(function(){\n",
              "                            \n",
              "var gd = document.getElementById('b45efab9-51ae-4b4e-9a2f-9d38e128015a');\n",
              "var x = new MutationObserver(function (mutations, observer) {{\n",
              "        var display = window.getComputedStyle(gd).display;\n",
              "        if (!display || display === 'none') {{\n",
              "            console.log([gd, 'removed!']);\n",
              "            Plotly.purge(gd);\n",
              "            observer.disconnect();\n",
              "        }}\n",
              "}});\n",
              "\n",
              "// Listen for the removal of the full notebook cells\n",
              "var notebookContainer = gd.closest('#notebook-container');\n",
              "if (notebookContainer) {{\n",
              "    x.observe(notebookContainer, {childList: true});\n",
              "}}\n",
              "\n",
              "// Listen for the clearing of the current output cell\n",
              "var outputEl = gd.closest('.output');\n",
              "if (outputEl) {{\n",
              "    x.observe(outputEl, {childList: true});\n",
              "}}\n",
              "\n",
              "                        })                };                            </script>        </div>\n",
              "</body>\n",
              "</html>"
            ]
          },
          "metadata": {}
        }
      ]
    },
    {
      "cell_type": "code",
      "source": [],
      "metadata": {
        "id": "JXRAvodLb5kT"
      },
      "execution_count": null,
      "outputs": []
    }
  ]
}