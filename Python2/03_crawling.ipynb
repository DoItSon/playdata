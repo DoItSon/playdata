{
  "nbformat": 4,
  "nbformat_minor": 0,
  "metadata": {
    "colab": {
      "name": "03-crawling.ipynb",
      "provenance": [],
      "collapsed_sections": [],
      "authorship_tag": "ABX9TyN4Bd9P/XGYhMTqAzBnnhGQ",
      "include_colab_link": true
    },
    "kernelspec": {
      "name": "python3",
      "display_name": "Python 3"
    },
    "language_info": {
      "name": "python"
    }
  },
  "cells": [
    {
      "cell_type": "markdown",
      "metadata": {
        "id": "view-in-github",
        "colab_type": "text"
      },
      "source": [
        "<a href=\"https://colab.research.google.com/github/DoItSon/playdata/blob/main/Python2/03_crawling.ipynb\" target=\"_parent\"><img src=\"https://colab.research.google.com/assets/colab-badge.svg\" alt=\"Open In Colab\"/></a>"
      ]
    },
    {
      "cell_type": "markdown",
      "source": [
        "# 크롤링(Crawling)이란?\n",
        "- 자동으로 웹페이지의 정보를 수집하는 것"
      ],
      "metadata": {
        "id": "sdB5pkTvQlbG"
      }
    },
    {
      "cell_type": "markdown",
      "source": [
        "# 스크래핑(scraping)이란?\n",
        "- 크롤링을 통한 수집한 정보를 분석해서 필요한 정보만 추출하는 일"
      ],
      "metadata": {
        "id": "nv9fSICt7JJQ"
      }
    },
    {
      "cell_type": "markdown",
      "source": [
        "# HTML(Hyper Text Markup Language)\n",
        "- 웹페이지에 필요한 구성요소를 구성하는 Markup 언어\n",
        "- 태그를 이용해 화면의 레이아웃 구조와 텍스트, 요소 등을 표현한다."
      ],
      "metadata": {
        "id": "G419gEn07Rp2"
      }
    },
    {
      "cell_type": "markdown",
      "source": [
        ""
      ],
      "metadata": {
        "id": "XYlIk_Y4_tWy"
      }
    },
    {
      "cell_type": "markdown",
      "source": [
        "# CSS\n",
        "- HTMl의 요소를 꾸며주는 스타일 시트\n",
        "- CSS 선택자를 이용해서 HTML 요소에 접근하여 꾸며준다.\n",
        "- CSS 선택자\n",
        "    - 태그명으로 접근하는 예시\n",
        "        - a 태그 접근: `a`\n",
        "    - 태그의 class 속성명으로 접근하는 예시\n",
        "        - class=\"btn\" : `.btn`\n",
        "    - 태그의 id 속성명으로 접근하는 예시\n",
        "        - id=\"btn\" : `#btn`"
      ],
      "metadata": {
        "id": "Z9wcalyJ753N"
      }
    },
    {
      "cell_type": "code",
      "source": [
        "%%html\n",
        "<!DOCYTYPE HTML>\n",
        "<html>\n",
        "    <head>\n",
        "        <title>HTML 페이지</title>\n",
        "    </head>\n",
        "    <style>\n",
        "    #naver-link{color:red;}\n",
        "    .p-el{font-size:30px;}\n",
        "    button{color:blue;}\n",
        "    </style>\n",
        "    <body>\n",
        "        <div>\n",
        "            <a id=\"naver-link\" href=\"https://www.naver.com\" target=\"_blank\">네이버로 이동하기</a>\n",
        "            <p class=\"p-el\">안녕하세요 html 페이지 입니다.</p>\n",
        "            <p class=\"p-el\">반갑습니다.</p>\n",
        "            <p>잘가요.</p>\n",
        "            <button class=\"btn\">클릭하기1</botton>\n",
        "            <button>클릭하기2</botton>\n",
        "        </div>\n",
        "        <div id=\"div-tag\">\n",
        "            <p class=\"p1 p-tag\">첫번째 p태그</p>\n",
        "            <p class=\"p2 p-tag\">두번째 p태그</p>\n",
        "            <p class=\"p3 p-tag\">세번째 p태그</p>\n",
        "        </div>\n",
        "    </body>\n",
        "</html>"
      ],
      "metadata": {
        "colab": {
          "base_uri": "https://localhost:8080/",
          "height": 251
        },
        "id": "sbn5p_QB9My3",
        "outputId": "47deac4a-5369-4b96-ac84-6d52283f0fc1"
      },
      "execution_count": 1,
      "outputs": [
        {
          "output_type": "display_data",
          "data": {
            "text/plain": [
              "<IPython.core.display.HTML object>"
            ],
            "text/html": [
              "<!DOCYTYPE HTML>\n",
              "<html>\n",
              "    <head>\n",
              "        <title>HTML 페이지</title>\n",
              "    </head>\n",
              "    <style>\n",
              "    #naver-link{color:red;}\n",
              "    .p-el{font-size:30px;}\n",
              "    button{color:blue;}\n",
              "    </style>\n",
              "    <body>\n",
              "        <div>\n",
              "            <a id=\"naver-link\" href=\"https://www.naver.com\" target=\"_blank\">네이버로 이동하기</a>\n",
              "            <p class=\"p-el\">안녕하세요 html 페이지 입니다.</p>\n",
              "            <p class=\"p-el\">반갑습니다.</p>\n",
              "            <p>잘가요.</p>\n",
              "            <button class=\"btn\">클릭하기1</botton>\n",
              "            <button>클릭하기2</botton>\n",
              "        </div>\n",
              "        <div id=\"div-tag\">\n",
              "            <p class=\"p1 p-tag\">첫번째 p태그</p>\n",
              "            <p class=\"p2 p-tag\">두번째 p태그</p>\n",
              "            <p class=\"p3 p-tag\">세번째 p태그</p>\n",
              "        </div>\n",
              "    </body>\n",
              "</html>\n"
            ]
          },
          "metadata": {}
        }
      ]
    },
    {
      "cell_type": "code",
      "source": [
        "html = \"\"\"\n",
        "<!DOCYTYPE HTML>\n",
        "<html>\n",
        "    <head>\n",
        "        <title>HTML 페이지</title>\n",
        "    </head>\n",
        "    <style>\n",
        "    #naver-link{color:red;}\n",
        "    .p-el{font-size:30px;}\n",
        "    button{color:blue;}\n",
        "    </style>\n",
        "    <body>\n",
        "        <div>\n",
        "            <a id=\"naver-link\" href=\"https://www.naver.com\" target=\"_blank\">네이버로 이동하기</a>\n",
        "            <p class=\"p-el\">안녕하세요 html 페이지 입니다.</p>\n",
        "            <p class=\"p-el\">반갑습니다.</p>\n",
        "            <p>잘가요.</p>\n",
        "            <button class=\"btn\">클릭하기1</button>\n",
        "            <button>클릭하기2</button>\n",
        "        </div>\n",
        "        <div id=\"div-tag\">\n",
        "            <p class=\"p1 p-tag\">첫번째 p태그</p>\n",
        "            <p class=\"p2 p-tag\">두번째 p태그</p>\n",
        "            <p class=\"p3 p-tag\">세번째 p태그</p>\n",
        "        </div>\n",
        "    </body>\n",
        "</html>\n",
        "\"\"\""
      ],
      "metadata": {
        "id": "MnbhZBfr_0q_"
      },
      "execution_count": 81,
      "outputs": []
    },
    {
      "cell_type": "code",
      "source": [
        "from bs4 import BeautifulSoup"
      ],
      "metadata": {
        "id": "BhnODsY8AhFs"
      },
      "execution_count": 82,
      "outputs": []
    },
    {
      "cell_type": "code",
      "source": [
        "soup = BeautifulSoup(html,'html.parser')\n",
        "soup"
      ],
      "metadata": {
        "colab": {
          "base_uri": "https://localhost:8080/"
        },
        "id": "qVOVOlfYAm_-",
        "outputId": "ad1ca5b6-0fb8-4396-e515-7fbd893a44a9"
      },
      "execution_count": 83,
      "outputs": [
        {
          "output_type": "execute_result",
          "data": {
            "text/plain": [
              "\n",
              "<!--DOCYTYPE HTML-->\n",
              "<html>\n",
              "<head>\n",
              "<title>HTML 페이지</title>\n",
              "</head>\n",
              "<style>\n",
              "    #naver-link{color:red;}\n",
              "    .p-el{font-size:30px;}\n",
              "    button{color:blue;}\n",
              "    </style>\n",
              "<body>\n",
              "<div>\n",
              "<a href=\"https://www.naver.com\" id=\"naver-link\" target=\"_blank\">네이버로 이동하기</a>\n",
              "<p class=\"p-el\">안녕하세요 html 페이지 입니다.</p>\n",
              "<p class=\"p-el\">반갑습니다.</p>\n",
              "<p>잘가요.</p>\n",
              "<button class=\"btn\">클릭하기1</button>\n",
              "<button>클릭하기2</button>\n",
              "</div>\n",
              "<div id=\"div-tag\">\n",
              "<p class=\"p1 p-tag\">첫번째 p태그</p>\n",
              "<p class=\"p2 p-tag\">두번째 p태그</p>\n",
              "<p class=\"p3 p-tag\">세번째 p태그</p>\n",
              "</div>\n",
              "</body>\n",
              "</html>"
            ]
          },
          "metadata": {},
          "execution_count": 83
        }
      ]
    },
    {
      "cell_type": "code",
      "source": [
        "type(soup)"
      ],
      "metadata": {
        "colab": {
          "base_uri": "https://localhost:8080/"
        },
        "id": "H0omAw-BAy7u",
        "outputId": "96a1df16-7f5b-48e8-cd9b-25d4a9e84a6a"
      },
      "execution_count": 84,
      "outputs": [
        {
          "output_type": "execute_result",
          "data": {
            "text/plain": [
              "bs4.BeautifulSoup"
            ]
          },
          "metadata": {},
          "execution_count": 84
        }
      ]
    },
    {
      "cell_type": "markdown",
      "source": [
        "# 태그명과 속성명&속성값을 이용해서 접근하기"
      ],
      "metadata": {
        "id": "1ik-LaznA8TS"
      }
    },
    {
      "cell_type": "markdown",
      "source": [
        "- `find({\"태그명\",\"속성명과 값에 대한 딕셔너리\"})`\n",
        "    - 한개의 요소만 찾는다."
      ],
      "metadata": {
        "id": "TeCT0mkUBOvz"
      }
    },
    {
      "cell_type": "code",
      "source": [
        "el = soup.find(\"p\")\n",
        "el"
      ],
      "metadata": {
        "colab": {
          "base_uri": "https://localhost:8080/"
        },
        "id": "Rq56WsHVBcww",
        "outputId": "b807d5f0-4a23-490e-ab2e-1b47e0af1c34"
      },
      "execution_count": 85,
      "outputs": [
        {
          "output_type": "execute_result",
          "data": {
            "text/plain": [
              "<p class=\"p-el\">안녕하세요 html 페이지 입니다.</p>"
            ]
          },
          "metadata": {},
          "execution_count": 85
        }
      ]
    },
    {
      "cell_type": "code",
      "source": [
        "type(el)"
      ],
      "metadata": {
        "colab": {
          "base_uri": "https://localhost:8080/"
        },
        "id": "qXeb91_hBtH4",
        "outputId": "8ba1b025-f9f5-4874-a593-167ae6f50c7e"
      },
      "execution_count": 86,
      "outputs": [
        {
          "output_type": "execute_result",
          "data": {
            "text/plain": [
              "bs4.element.Tag"
            ]
          },
          "metadata": {},
          "execution_count": 86
        }
      ]
    },
    {
      "cell_type": "code",
      "source": [
        "el.text"
      ],
      "metadata": {
        "id": "hWrS-EdmBy6R",
        "colab": {
          "base_uri": "https://localhost:8080/",
          "height": 35
        },
        "outputId": "2902fd81-6829-4ace-e3bc-55b56fdb0315"
      },
      "execution_count": 87,
      "outputs": [
        {
          "output_type": "execute_result",
          "data": {
            "text/plain": [
              "'안녕하세요 html 페이지 입니다.'"
            ],
            "application/vnd.google.colaboratory.intrinsic+json": {
              "type": "string"
            }
          },
          "metadata": {},
          "execution_count": 87
        }
      ]
    },
    {
      "cell_type": "code",
      "source": [
        "el.string"
      ],
      "metadata": {
        "colab": {
          "base_uri": "https://localhost:8080/",
          "height": 35
        },
        "id": "WHbR073TB5XN",
        "outputId": "6eb227a4-035c-4d86-8ba2-8ef77ecdcef6"
      },
      "execution_count": 88,
      "outputs": [
        {
          "output_type": "execute_result",
          "data": {
            "text/plain": [
              "'안녕하세요 html 페이지 입니다.'"
            ],
            "application/vnd.google.colaboratory.intrinsic+json": {
              "type": "string"
            }
          },
          "metadata": {},
          "execution_count": 88
        }
      ]
    },
    {
      "cell_type": "code",
      "source": [
        "el.get_text()"
      ],
      "metadata": {
        "colab": {
          "base_uri": "https://localhost:8080/",
          "height": 35
        },
        "id": "Ewv7-SR8B94W",
        "outputId": "1b1af0f5-be5e-4db3-cb40-0a322155548a"
      },
      "execution_count": 89,
      "outputs": [
        {
          "output_type": "execute_result",
          "data": {
            "text/plain": [
              "'안녕하세요 html 페이지 입니다.'"
            ],
            "application/vnd.google.colaboratory.intrinsic+json": {
              "type": "string"
            }
          },
          "metadata": {},
          "execution_count": 89
        }
      ]
    },
    {
      "cell_type": "code",
      "source": [
        "el.name"
      ],
      "metadata": {
        "colab": {
          "base_uri": "https://localhost:8080/",
          "height": 35
        },
        "id": "nwuBuAHlCA_4",
        "outputId": "fdd9d5d1-9709-4c28-b2f8-70771ef037b0"
      },
      "execution_count": 90,
      "outputs": [
        {
          "output_type": "execute_result",
          "data": {
            "text/plain": [
              "'p'"
            ],
            "application/vnd.google.colaboratory.intrinsic+json": {
              "type": "string"
            }
          },
          "metadata": {},
          "execution_count": 90
        }
      ]
    },
    {
      "cell_type": "code",
      "source": [
        "el = soup.find(\"div\")\n",
        "el"
      ],
      "metadata": {
        "colab": {
          "base_uri": "https://localhost:8080/"
        },
        "id": "l6smJB6uCVyi",
        "outputId": "15b4aa84-557a-4e85-a571-c5221d5b87be"
      },
      "execution_count": 91,
      "outputs": [
        {
          "output_type": "execute_result",
          "data": {
            "text/plain": [
              "<div>\n",
              "<a href=\"https://www.naver.com\" id=\"naver-link\" target=\"_blank\">네이버로 이동하기</a>\n",
              "<p class=\"p-el\">안녕하세요 html 페이지 입니다.</p>\n",
              "<p class=\"p-el\">반갑습니다.</p>\n",
              "<p>잘가요.</p>\n",
              "<button class=\"btn\">클릭하기1</button>\n",
              "<button>클릭하기2</button>\n",
              "</div>"
            ]
          },
          "metadata": {},
          "execution_count": 91
        }
      ]
    },
    {
      "cell_type": "code",
      "source": [
        "el.children"
      ],
      "metadata": {
        "colab": {
          "base_uri": "https://localhost:8080/"
        },
        "id": "IWRXDtjRCf1b",
        "outputId": "9203b8d1-f507-4ce3-f54b-20895c743750"
      },
      "execution_count": 92,
      "outputs": [
        {
          "output_type": "execute_result",
          "data": {
            "text/plain": [
              "<list_iterator at 0x7f56d59f73d0>"
            ]
          },
          "metadata": {},
          "execution_count": 92
        }
      ]
    },
    {
      "cell_type": "code",
      "source": [
        "for i in el.children:\n",
        "    print(i)"
      ],
      "metadata": {
        "colab": {
          "base_uri": "https://localhost:8080/"
        },
        "id": "f-soUpWMDBMR",
        "outputId": "4e2dc08f-849d-4147-faa2-e8f147500d1d"
      },
      "execution_count": 93,
      "outputs": [
        {
          "output_type": "stream",
          "name": "stdout",
          "text": [
            "\n",
            "\n",
            "<a href=\"https://www.naver.com\" id=\"naver-link\" target=\"_blank\">네이버로 이동하기</a>\n",
            "\n",
            "\n",
            "<p class=\"p-el\">안녕하세요 html 페이지 입니다.</p>\n",
            "\n",
            "\n",
            "<p class=\"p-el\">반갑습니다.</p>\n",
            "\n",
            "\n",
            "<p>잘가요.</p>\n",
            "\n",
            "\n",
            "<button class=\"btn\">클릭하기1</button>\n",
            "\n",
            "\n",
            "<button>클릭하기2</button>\n",
            "\n",
            "\n"
          ]
        }
      ]
    },
    {
      "cell_type": "markdown",
      "source": [
        "- `find_all(\"div\",{\"속성명\":\"속성값\"})`\n",
        "    - 여러개 찾기\n",
        "    - 리스트를 반환한다."
      ],
      "metadata": {
        "id": "M37vkPLyDF_F"
      }
    },
    {
      "cell_type": "code",
      "source": [
        "soup.find_all(\"p\")"
      ],
      "metadata": {
        "colab": {
          "base_uri": "https://localhost:8080/"
        },
        "id": "HaTy7WGTDfm4",
        "outputId": "0976c4ab-997f-459b-cd10-3e7e7ec876d5"
      },
      "execution_count": 94,
      "outputs": [
        {
          "output_type": "execute_result",
          "data": {
            "text/plain": [
              "[<p class=\"p-el\">안녕하세요 html 페이지 입니다.</p>,\n",
              " <p class=\"p-el\">반갑습니다.</p>,\n",
              " <p>잘가요.</p>,\n",
              " <p class=\"p1 p-tag\">첫번째 p태그</p>,\n",
              " <p class=\"p2 p-tag\">두번째 p태그</p>,\n",
              " <p class=\"p3 p-tag\">세번째 p태그</p>]"
            ]
          },
          "metadata": {},
          "execution_count": 94
        }
      ]
    },
    {
      "cell_type": "code",
      "source": [
        "el = soup.find(\"div\",{\"id\":\"div-tag\"}) # id 속성값이 중복되면 안된다.\n",
        "el"
      ],
      "metadata": {
        "colab": {
          "base_uri": "https://localhost:8080/"
        },
        "id": "f_CMiPtpD_ol",
        "outputId": "65651527-9ee4-4ce7-a36f-97712c0b244f"
      },
      "execution_count": 95,
      "outputs": [
        {
          "output_type": "execute_result",
          "data": {
            "text/plain": [
              "<div id=\"div-tag\">\n",
              "<p class=\"p1 p-tag\">첫번째 p태그</p>\n",
              "<p class=\"p2 p-tag\">두번째 p태그</p>\n",
              "<p class=\"p3 p-tag\">세번째 p태그</p>\n",
              "</div>"
            ]
          },
          "metadata": {},
          "execution_count": 95
        }
      ]
    },
    {
      "cell_type": "code",
      "source": [
        "el.text"
      ],
      "metadata": {
        "colab": {
          "base_uri": "https://localhost:8080/",
          "height": 35
        },
        "id": "CC7mFWqUFAIL",
        "outputId": "97aced86-ac31-44c1-e4e5-102d86474ede"
      },
      "execution_count": 96,
      "outputs": [
        {
          "output_type": "execute_result",
          "data": {
            "text/plain": [
              "'\\n첫번째 p태그\\n두번째 p태그\\n세번째 p태그\\n'"
            ],
            "application/vnd.google.colaboratory.intrinsic+json": {
              "type": "string"
            }
          },
          "metadata": {},
          "execution_count": 96
        }
      ]
    },
    {
      "cell_type": "markdown",
      "source": [
        "- p 태그이면서 class 속성이 p-el인 태그를 모두 추출하시오."
      ],
      "metadata": {
        "id": "XO_73q0rFC5J"
      }
    },
    {
      "cell_type": "code",
      "source": [
        "el = soup.find_all(\"p\",{\"class\" : \"p-el\"})\n",
        "el"
      ],
      "metadata": {
        "colab": {
          "base_uri": "https://localhost:8080/"
        },
        "id": "jugVLpCyI5FN",
        "outputId": "9bbc04b7-51ac-4e26-f1dd-be225acd833d"
      },
      "execution_count": 97,
      "outputs": [
        {
          "output_type": "execute_result",
          "data": {
            "text/plain": [
              "[<p class=\"p-el\">안녕하세요 html 페이지 입니다.</p>, <p class=\"p-el\">반갑습니다.</p>]"
            ]
          },
          "metadata": {},
          "execution_count": 97
        }
      ]
    },
    {
      "cell_type": "markdown",
      "source": [
        "- a 태그이면서 target 속성이 _blank인 태그를 모두 추출하시오."
      ],
      "metadata": {
        "id": "edX0JMAOJPv1"
      }
    },
    {
      "cell_type": "code",
      "source": [
        "el = soup.find_all(\"a\",{\"target\":\"_blank\"})\n",
        "el"
      ],
      "metadata": {
        "colab": {
          "base_uri": "https://localhost:8080/"
        },
        "id": "SZqw921yJ2N5",
        "outputId": "a25743ea-edae-4028-dd09-2265ac91a39e"
      },
      "execution_count": 98,
      "outputs": [
        {
          "output_type": "execute_result",
          "data": {
            "text/plain": [
              "[<a href=\"https://www.naver.com\" id=\"naver-link\" target=\"_blank\">네이버로 이동하기</a>]"
            ]
          },
          "metadata": {},
          "execution_count": 98
        }
      ]
    },
    {
      "cell_type": "code",
      "source": [
        "el[0].text"
      ],
      "metadata": {
        "colab": {
          "base_uri": "https://localhost:8080/",
          "height": 35
        },
        "id": "gjcqEj5hKBLM",
        "outputId": "af004aca-0f4a-4290-f6d6-ae44004ab806"
      },
      "execution_count": 99,
      "outputs": [
        {
          "output_type": "execute_result",
          "data": {
            "text/plain": [
              "'네이버로 이동하기'"
            ],
            "application/vnd.google.colaboratory.intrinsic+json": {
              "type": "string"
            }
          },
          "metadata": {},
          "execution_count": 99
        }
      ]
    },
    {
      "cell_type": "code",
      "source": [
        "el[0][\"href\"]"
      ],
      "metadata": {
        "colab": {
          "base_uri": "https://localhost:8080/",
          "height": 35
        },
        "id": "XXDdkSycKYBR",
        "outputId": "e1ec5052-187b-49c1-aba0-b5aa5125cdce"
      },
      "execution_count": 100,
      "outputs": [
        {
          "output_type": "execute_result",
          "data": {
            "text/plain": [
              "'https://www.naver.com'"
            ],
            "application/vnd.google.colaboratory.intrinsic+json": {
              "type": "string"
            }
          },
          "metadata": {},
          "execution_count": 100
        }
      ]
    },
    {
      "cell_type": "markdown",
      "source": [
        "# CSS 선택자(selector)를 사용해서 추출"
      ],
      "metadata": {
        "id": "ThBcw7G5KeF3"
      }
    },
    {
      "cell_type": "markdown",
      "source": [
        "- 태그명을 이용한 선택"
      ],
      "metadata": {
        "id": "jJZDYmfwLpE1"
      }
    },
    {
      "cell_type": "code",
      "source": [
        "el = soup.select_one(\"a\")\n",
        "type(el)"
      ],
      "metadata": {
        "colab": {
          "base_uri": "https://localhost:8080/"
        },
        "id": "ToSYIt0RKrzK",
        "outputId": "a2fc6b5c-9126-42b9-869f-899dfb639c11"
      },
      "execution_count": 101,
      "outputs": [
        {
          "output_type": "execute_result",
          "data": {
            "text/plain": [
              "bs4.element.Tag"
            ]
          },
          "metadata": {},
          "execution_count": 101
        }
      ]
    },
    {
      "cell_type": "markdown",
      "source": [
        "- id 속성을 이용한 선택"
      ],
      "metadata": {
        "id": "Yq1-OQzxLiLg"
      }
    },
    {
      "cell_type": "code",
      "source": [
        "soup.select_one(\"#naver-link\")"
      ],
      "metadata": {
        "colab": {
          "base_uri": "https://localhost:8080/"
        },
        "id": "kPNqLwXfK2TI",
        "outputId": "691da537-1183-4521-c97c-9c16bdaa2a3b"
      },
      "execution_count": 102,
      "outputs": [
        {
          "output_type": "execute_result",
          "data": {
            "text/plain": [
              "<a href=\"https://www.naver.com\" id=\"naver-link\" target=\"_blank\">네이버로 이동하기</a>"
            ]
          },
          "metadata": {},
          "execution_count": 102
        }
      ]
    },
    {
      "cell_type": "markdown",
      "source": [
        "- class 속성을 이용한 선택"
      ],
      "metadata": {
        "id": "wrz_sH-nMAvK"
      }
    },
    {
      "cell_type": "code",
      "source": [
        "soup.select_one(\".p-el\")"
      ],
      "metadata": {
        "colab": {
          "base_uri": "https://localhost:8080/"
        },
        "id": "cAV8G1gbLE9D",
        "outputId": "add32c27-28a1-484e-a9cb-99d7fe37ef5d"
      },
      "execution_count": 103,
      "outputs": [
        {
          "output_type": "execute_result",
          "data": {
            "text/plain": [
              "<p class=\"p-el\">안녕하세요 html 페이지 입니다.</p>"
            ]
          },
          "metadata": {},
          "execution_count": 103
        }
      ]
    },
    {
      "cell_type": "markdown",
      "source": [
        "- 클래스는 속성값을 여러개 넣을 수 있다.\n",
        "```html\n",
        "<div class=\"div-1 div-2 div-3\"></div>\n",
        "```"
      ],
      "metadata": {
        "id": "XjxbQ15kMNWT"
      }
    },
    {
      "cell_type": "markdown",
      "source": [
        "- 다음의 예시는 한칸을 띄울 경우 body 태그 하위에 모든 p태그를 가져오겠다는 의미"
      ],
      "metadata": {
        "id": "Pmm5awapN1TF"
      }
    },
    {
      "cell_type": "code",
      "source": [
        "soup.select(\"body p\") "
      ],
      "metadata": {
        "id": "iO3XSUwAMANi",
        "colab": {
          "base_uri": "https://localhost:8080/"
        },
        "outputId": "d263dcd1-5ee0-4201-a8d6-8b259019fff9"
      },
      "execution_count": 108,
      "outputs": [
        {
          "output_type": "execute_result",
          "data": {
            "text/plain": [
              "[<p class=\"p-el\">안녕하세요 html 페이지 입니다.</p>,\n",
              " <p class=\"p-el\">반갑습니다.</p>,\n",
              " <p>잘가요.</p>,\n",
              " <p class=\"p1 p-tag\">첫번째 p태그</p>,\n",
              " <p class=\"p2 p-tag\">두번째 p태그</p>,\n",
              " <p class=\"p3 p-tag\">세번째 p태그</p>]"
            ]
          },
          "metadata": {},
          "execution_count": 108
        }
      ]
    },
    {
      "cell_type": "markdown",
      "source": [
        "- 다음의 예시에서 `>` 화살괄호의 의미는 body태그에 바로 하위에 p 태그들만 가져오겠다라는 의미"
      ],
      "metadata": {
        "id": "pLSbZcqdMrtr"
      }
    },
    {
      "cell_type": "code",
      "source": [
        "soup.select(\"body > p\") # 존재하지않아서 안나옴"
      ],
      "metadata": {
        "colab": {
          "base_uri": "https://localhost:8080/"
        },
        "id": "okwLzX6zOeAy",
        "outputId": "a1d4dc05-c381-480e-c552-afb7f72720a2"
      },
      "execution_count": 111,
      "outputs": [
        {
          "output_type": "execute_result",
          "data": {
            "text/plain": [
              "[]"
            ]
          },
          "metadata": {},
          "execution_count": 111
        }
      ]
    },
    {
      "cell_type": "code",
      "source": [
        "soup.select(\"#div-tag > p\")"
      ],
      "metadata": {
        "colab": {
          "base_uri": "https://localhost:8080/"
        },
        "id": "TtGo_oStOkWp",
        "outputId": "7f9175d8-eef1-4ba6-8b4b-ece640f9e7cd"
      },
      "execution_count": 112,
      "outputs": [
        {
          "output_type": "execute_result",
          "data": {
            "text/plain": [
              "[<p class=\"p1 p-tag\">첫번째 p태그</p>,\n",
              " <p class=\"p2 p-tag\">두번째 p태그</p>,\n",
              " <p class=\"p3 p-tag\">세번째 p태그</p>]"
            ]
          },
          "metadata": {},
          "execution_count": 112
        }
      ]
    },
    {
      "cell_type": "markdown",
      "source": [
        "- button 태그이면서 클래스명이 btn인 것을 찾고 싶다."
      ],
      "metadata": {
        "id": "5vWobQU6O3au"
      }
    },
    {
      "cell_type": "code",
      "source": [
        "soup.select(\"button.btn\")"
      ],
      "metadata": {
        "colab": {
          "base_uri": "https://localhost:8080/"
        },
        "id": "FPgYsunoPO6k",
        "outputId": "a4ad2f83-a903-4c05-ad30-2a0206dcf5b9"
      },
      "execution_count": 113,
      "outputs": [
        {
          "output_type": "execute_result",
          "data": {
            "text/plain": [
              "[<button class=\"btn\">클릭하기1</button>]"
            ]
          },
          "metadata": {},
          "execution_count": 113
        }
      ]
    },
    {
      "cell_type": "markdown",
      "source": [
        "- a 태그이면서 id명이 naver-link인 것을 찾고싶다."
      ],
      "metadata": {
        "id": "_2bOo5EGPTKr"
      }
    },
    {
      "cell_type": "code",
      "source": [
        "soup.select(\"a#naver-link\") # # = id 선택하는 것"
      ],
      "metadata": {
        "colab": {
          "base_uri": "https://localhost:8080/"
        },
        "id": "i0WEfx7yPizL",
        "outputId": "c813783d-2c79-4e07-ab43-1d6dc7b68f70"
      },
      "execution_count": 114,
      "outputs": [
        {
          "output_type": "execute_result",
          "data": {
            "text/plain": [
              "[<a href=\"https://www.naver.com\" id=\"naver-link\" target=\"_blank\">네이버로 이동하기</a>]"
            ]
          },
          "metadata": {},
          "execution_count": 114
        }
      ]
    },
    {
      "cell_type": "markdown",
      "source": [
        "# 인코딩 에러 예시"
      ],
      "metadata": {
        "id": "uXcrFlIoPw10"
      }
    },
    {
      "cell_type": "code",
      "source": [
        "import requests\n",
        "url = \"https://www.bobaedream.co.kr/list?code=import\"\n",
        "res = requests.get(url)\n",
        "res.status_code"
      ],
      "metadata": {
        "colab": {
          "base_uri": "https://localhost:8080/"
        },
        "id": "8fTQgzslQrr1",
        "outputId": "1a47842f-9b70-4259-fc88-6ca77e99bdde"
      },
      "execution_count": 118,
      "outputs": [
        {
          "output_type": "execute_result",
          "data": {
            "text/plain": [
              "200"
            ]
          },
          "metadata": {},
          "execution_count": 118
        }
      ]
    },
    {
      "cell_type": "code",
      "source": [
        "res.encoding # 서버측에서 헤더의 인코딩 정보를 잘못 넘겨줌"
      ],
      "metadata": {
        "colab": {
          "base_uri": "https://localhost:8080/",
          "height": 35
        },
        "id": "xIy77ssFQxgY",
        "outputId": "732d8f4b-ed9c-404a-b386-8c19e6888acf"
      },
      "execution_count": 120,
      "outputs": [
        {
          "output_type": "execute_result",
          "data": {
            "text/plain": [
              "'ISO-8859-1'"
            ],
            "application/vnd.google.colaboratory.intrinsic+json": {
              "type": "string"
            }
          },
          "metadata": {},
          "execution_count": 120
        }
      ]
    },
    {
      "cell_type": "code",
      "source": [
        "res.text # 응답객체의 인코딩 정보를 통해 자동으로 디코딩"
      ],
      "metadata": {
        "colab": {
          "base_uri": "https://localhost:8080/",
          "height": 127
        },
        "id": "2orDVqptRNEA",
        "outputId": "dfcd16d2-bc16-4b97-aca9-8628b2d2e9e4"
      },
      "execution_count": 123,
      "outputs": [
        {
          "output_type": "execute_result",
          "data": {
            "text/plain": [
              "'<!DOCTYPE html PUBLIC \"-//W3C//DTD XHTML 1.0 Transitional//EN\" \"http://www.w3.org/TR/xhtml1/DTD/xhtml1-Transitional.dtd\" >\\r\\n<html xmlns=\"http://www.w3.org/1999/xhtml\" lang=\"ko\">\\r\\n<head>\\r\\n  <meta http-equiv=\"Content-Type\" content=\"text/html; charset=utf-8\" />\\r\\n  <meta http-equiv=\"X-UA-Compatible\" content=\"IE=edge\" />\\r\\n  <meta name=\"viewport\" content=\"width=1100, user-scalable=yes\"/>\\r\\n  <title>ì\\x88\\x98ì\\x9e\\x85ì°¨ê²\\x8cì\\x8b\\x9cí\\x8c\\x90 | ë³´ë°°ë\\x93\\x9cë¦¼ ì»¤ë®¤ë\\x8b\\x88í\\x8b°</title>\\r\\n  <META NAME=\"KEYWORDS\" CONTENT=\"ì¤\\x91ê³\\xa0ì°¨ ë³´ë°°ë\\x93\\x9cë¦¼\" />\\r\\n  <META NAME=\"DESCRIPTION\" CONTENT=\"ì¤\\x91ê³\\xa0ì°¨ ë³´ë°°ë\\x93\\x9cë¦¼\" />\\r\\n  <META NAME=\"subject\" CONTENT=\"ì¤\\x91ê³\\xa0ì°¨ ë³´ë°°ë\\x93\\x9cë¦¼\" />\\r\\n  <META NAME=\"author\" content=\"ì¤\\x91ê³\\xa0ì°¨ ë³´ë°°ë\\x93\\x9cë¦¼\" />\\r\\n  <META NAME=\"copyright\" CONTENT=\"ì¤\\x91ê³\\xa0ì°¨ ë³´ë°°ë\\x93\\x9cë¦¼\" />\\r\\n  <Meta name=\"classification\"\\t\\tcontent=\"ì¤\\x91ê³\\xa0ì°¨ ë³´ë°°ë\\x93\\x9cë¦¼\" />\\r\\n  <meta name=\"referrer\" content=\"no-referrer-when-downgrade\">\\t\\r\\n\\t\\r\\n<link rel=\"stylesheet\" type=\"text/css\" href=\"//image.bobaedream.co.kr/renew/css/common_0227.css?v=19051326\">\\r\\n<!-- link rel=\"stylesheet\" type=\"text/css\" href=\"http://image.bobaedream.co.kr/renew/css/topmenu_renew.css\" / -->\\r\\n<link rel=\"stylesheet\" type=\"text/css\" href=\"//image.bobaedream.co.kr/css/default_0227.css?v=19051326\">\\r\\n<link rel=\"stylesheet\" type=\"text/css\" href=\"//image.bobaedream.co.kr/css/community_renew_0309.css?v=19051326\">\\r\\n<link rel=\"stylesheet\" type=\"text/css\" href=\"//image.bobaedream.co.kr/renew2017/assets/css/bobae_comm_2017.css?v=19051326\">\\r\\n<link rel=\"stylesheet\" type=\"text/css\" href=\"//image.bobaedream.co.kr/renew2017/assets/css/bobae_sub_2017.css?v=3.31\">\\r\\n<link rel=\"stylesheet\" type=\"text/css\" href=\"//image.bobaedream.co.kr/renew2017/assets/css/bobae_old_2017.css?v=19121709\">\\r\\n\\r\\n  \\r\\n<style>\\r\\n\\t.clistSearch03 {display:none}\\r\\n</style>\\r\\n  <link rel=\"shortcut icon\" href=\"//image.bobaedream.co.kr/renew2017/assets/images/favicon.ico\">\\r\\n<script async=\"async\" src=\"https://www.google.com/adsense/search/ads.js\"></script>\\r\\n\\r\\n<!-- other head elements from your page -->\\r\\n\\r\\n<script type=\"text/javascript\" charset=\"utf-8\">\\r\\n(function(g,o){g[o]=g[o]||function(){(g[o][\\'q\\']=g[o][\\'q\\']||[]).push(\\r\\n  arguments)},g[o][\\'t\\']=1*new Date})(window,\\'_googCsa\\');\\r\\n</script>\\r\\n\\r\\n</head>\\r\\n\\r\\n<body class=\"body-community\">\\r\\n\\r\\n    <style type=\"text/css\">\\r\\n    <!--\\r\\n      .menuArea .mainMenu .subMenu{border-bottom:2px solid #d2d2d2;}\\r\\n    -->\\r\\n    </style>    \\r\\n\\r\\n\\r\\n    <script type=\"text/javascript\" src=\"//image.bobaedream.co.kr/renew2017/assets/js/bobae.min.js?v=3\"></script>  \\r\\n<script>  \\r\\n\\tfunction subMenuOver(obj) {\\r\\n\\t\\tvar menu_id   = \"4\";\\r\\n\\t\\tvar menu_code = \"import\";\\t  \\r\\n\\t  \\r\\n\\t  for(i=1;i<=9;i++) {\\r\\n\\t  \\r\\n\\t  \\t\\t$(\"#imgMenu\" + i).attr(\"src\", \"//image.bobaedream.co.kr/renew/images/common/navi0\" + i + \"_off.jpg\");\\r\\n\\t    \\r\\n\\t    \\tif (i == obj) {\\r\\n\\t        \\r\\n\\t        $(\"#subMenu\" + i).show();\\r\\n\\t        $(\"#imgMenu\" + i).attr(\"src\", \"//image.bobaedream.co.kr/renew/images/common/navi0\" + i + \"_on.jpg\");\\r\\n\\t\\r\\n\\t    \\t} else {\\r\\n\\t    \\t\\t $(\"#subMenu\" + i).hide();\\r\\n\\t    \\t}\\r\\n\\t  }\\r\\n\\t}\\r\\n\\r\\nfunction subMenuOut(obj) {\\r\\n  var menu_id = \"4\";\\r\\n\\tvar menu_code = \"import\";\\r\\n\\t\\r\\n\\tswitch(menu_id) {\\r\\n\\t\\tcase \"2\":\\r\\n\\t\\t\\tmenu_id = \"1\";\\r\\n\\t\\t\\tbreak;\\r\\n\\t\\tcase \"3\":\\r\\n\\t\\t\\tmenu_id = \"8\";\\r\\n\\t\\t\\tbreak;\\r\\n\\t\\tcase \"4\":\\r\\n\\t\\t\\tmenu_id = \"9\";\\r\\n\\t\\t\\tbreak;\\r\\n\\t\\tcase \"5\":\\r\\n\\t\\t\\tmenu_id = \"4\";\\r\\n\\t\\t\\tbreak;\\r\\n\\t\\tcase \"11\":\\r\\n\\t\\t\\tmenu_id = \"6\";\\r\\n\\t\\t\\tbreak;\\r\\n\\t\\tcase \"12\":\\r\\n\\t\\t\\tmenu_id = \"6\";\\r\\n\\t\\t\\tbreak;\\r\\n\\t\\tdefault:\\r\\n\\t\\t\\tmenu_id = \"\";\\r\\n\\t\\t\\tbreak;\\r\\n\\t}\\r\\n\\r\\n  for(i=1;i<=9;i++) {\\r\\n\\r\\n   \\t if (i == menu_id) {\\r\\n   \\t \\t if(menu_id == \\'8\\' && menu_code == \\'fa\\') {\\r\\n   \\t   \\t$(\"#imgMenu2\").attr(\"src\", \"//image.bobaedream.co.kr/renew/images/common/navi02_on.jpg\");\\r\\n       \\t$(\"#subMenu2\").hide();\\r\\n\\r\\n   \\t   \\t$(\"#imgMenu8\").attr(\"src\", \"//image.bobaedream.co.kr/renew/images/common/navi08_off.jpg\");\\r\\n       \\t$(\"#subMenu8\").hide();\\r\\n       \\t\\r\\n   \\t \\t } else {\\r\\n   \\t   \\t$(\"#imgMenu\" + i).attr(\"src\", \"//image.bobaedream.co.kr/renew/images/common/navi0\" + i + \"_on.jpg\");\\r\\n       \\t$(\"#subMenu\" + i).hide();\\r\\n       }\\r\\n   \\t } else {\\r\\n   \\t \\t\\r\\n      $(\"#subMenu\" + i).hide();\\r\\n      $(\"#imgMenu\" + i).attr(\"src\", \"//image.bobaedream.co.kr/renew/images/common/navi0\" + i + \"_off.jpg\");\\r\\n\\t\\t }\\r\\n  }\\r\\n  if(menu_id == \\'8\\' && menu_code == \\'fa\\') {\\r\\n  \\t$(\"#subMenu2\").show();\\r\\n  } else {\\r\\n  \\t$(\"#subMenu\" + menu_id).show();\\r\\n  }\\r\\n  \\r\\n}\\r\\n\\r\\n\\r\\n$(function(){\\r\\n\\t$(\".allview\").click(function () {\\r\\n\\t\\t$(\".globalallview\").toggleClass(\"globalallview_click\");\\r\\n\\t\\t$(\".top_navi\").toggleClass(\"zindex\");\\r\\n\\t});\\r\\n});\\r\\n\\r\\n//  <![CDATA[\\r\\n  function itemView_top(t, type) {\\r\\n    var item = $(\".\"+t+\" > div\");\\r\\n\\r\\n    var selectCnt = \"\";\\r\\n    var x = 0;\\r\\n    item.each(function(index, value){\\r\\n      if($(this).css(\\'display\\') != \\'none\\'){\\r\\n        selectCnt = x;\\r\\n      }\\r\\n      x++;\\r\\n      $(this).hide();\\r\\n    });\\r\\n\\r\\n    switch (type) {\\r\\n      case \"+\":\\tselectIndex = (selectCnt+1)>=x ?0:selectCnt+1;\\tbreak;\\r\\n      case \"-\":\\tselectIndex = (selectCnt-1)< 0 ?x-1:selectCnt-1;\\tbreak;\\r\\n    }\\r\\n\\r\\n    $(\".bnnr2 > div\").eq(selectIndex).show();\\r\\n    selectIndex = null;\\r\\n  }\\r\\n\\r\\n  function addFavorite(obj, title) {\\r\\n    if (window.sidebar) { // Mozilla Firefox Bookmark\\r\\n      window.sidebar.addPanel(title, \\'https://www.bobaedream.co.kr/list?code=import\\', \\'\\');\\r\\n\\t\\t} else if (window.chrome) {\\r\\n\\t\\t\\talert(\"Ctrl+D ë¥¼ ë\\x88\\x84ë¥´ì\\x8b\\x9cë©´ ì¦\\x90ê²¨ì°¾ê¸°ì\\x97\\x90 ì¶\\x94ê°\\x80í\\x95\\x98ì\\x8b¤ ì\\x88\\x98 ì\\x9e\\x88ì\\x8aµë\\x8b\\x88ë\\x8b¤.\");\\r\\n    } else if (window.external) { // IE Favorite\\r\\n      window.external.AddFavorite(\\'https://www.bobaedream.co.kr/list?code=import\\', title);\\r\\n    } else if (window.opera && window.print) { // Opera Hotlist\\r\\n      return true;\\r\\n    } else {\\r\\n      alert(\"Ctrl+D (Safari, Chrome) or Ctrl+B (Konqueror)\");\\r\\n    }\\r\\n    //return false;\\r\\n  }\\r\\n\\r\\n  function layer_view(id_name) {\\r\\n    if (document.getElementById(id_name).style.display == \"\") {\\r\\n      document.getElementById(id_name).style.display = \"block\";\\r\\n      document.getElementById(\\'allview_img\\').className = \"on\";\\r\\n    } else {\\r\\n      document.getElementById(id_name).style.display = \"\";\\r\\n      document.getElementById(\\'allview_img\\').className = \"\";\\r\\n    }\\r\\n  }\\r\\n  function iopen() {\\r\\n    window.open(\"https://www.bobaedream.co.kr/mobile_page/mobile_sms.php?type=iphone\", \"mobile_sms\", \"width=367,height=441, top=80,left=200,toolbar=no,location=no,directories=no,status=no,menubar=no,scrollbars=no,resizable=no,copyhistory=no\");\\r\\n  }\\r\\n  function aopen() {\\r\\n    window.open(\"https://www.bobaedream.co.kr/mobile_page/mobile_sms.php?type=android\", \"mobile_sms\", \"width=367,height=441, top=80,left=200,toolbar=no,location=no,directories=no,status=no,menubar=no,scrollbars=no,resizable=no,copyhistory=no\");\\r\\n  }\\r\\n\\r\\n\\r\\n  function on_focus(id) {\\r\\n    if (id == \"ID\" && document.getElementById(id).value == \"ì\\x95\\x84ì\\x9d´ë\\x94\\x94\") {\\r\\n      document.getElementById(id).value = \"\";\\r\\n    } else if (id == \"Passwd2\" && document.getElementById(id).value == \"ë¹\\x84ë°\\x80ë²\\x88í\\x98¸\") {\\r\\n      document.getElementById(\"Passwd2\").style.display = \"none\";\\r\\n      document.getElementById(\"Passwd\").style.display = \"block\";\\r\\n      document.frm_login.Passwd.focus();\\r\\n    }\\r\\n  }\\r\\n\\r\\n  function getRandomInt(min,max) {\\r\\n    return Math.floor((Math.random()*1000)%(max-min))+min;\\r\\n  }\\r\\n\\r\\nfunction sendmemoOpen() {\\r\\n  var screenWidth  = screen.availWidth;\\r\\n  var screenHeight = screen.availHeight;\\r\\n\\r\\n  var intLeft = (screenWidth - 626) / 2;\\r\\n  var intTop  = (screenHeight - 670) / 2\\r\\n\\r\\n  window.open(\\'https://www.bobaedream.co.kr/board/note/receive_list.php\\', \\'receive_list\\', \\'scrollbars=no,resizable=no,top=\\'+intTop+\\',left=\\'+intLeft+\\',width=615,height=400\\');\\r\\n}\\r\\n\\r\\n\\r\\n\\r\\n// ]]>\\t\\r\\n</script>\\r\\n\\r\\n\\r\\n\\r\\n\\r\\n<div id=\"skip-nav\">\\r\\n    <ul>\\r\\n        <li><a href=\"#bobaeGNB\">ì£¼ì\\x9a\\x94ë©\\x94ë\\x89´ë¡\\x9c ë°\\x94ë¡\\x9cê°\\x80ê¸°</a></li>\\r\\n        <li><a href=\"#bobaeMain\">ì\\x98¤ë\\x8a\\x98ì\\x9d\\x98 ì\\x9e\\x90ë\\x8f\\x99ì°¨ ë°\\x94ë¡\\x9cê°\\x80ê¸°</a></li>\\r\\n        <li><a href=\"#bobaeFoot\">í\\x95\\x98ë\\x8b¨ì\\xa0\\x95ë³´ë¡\\x9c ë°\\x94ë¡\\x9cê°\\x80ê¸°</a></li>\\r\\n    </ul>\\r\\n</div>\\r\\n<!-- bobaeHead -->\\r\\n<div id=\"bobaeHead\" class=\"bobae-header-v3 js-header\">\\r\\n    <!-- gnb-util -->\\r\\n    <div class=\"top-container\">\\r\\n        <div class=\"component\">\\r\\n            <h1 class=\"top-logo-wrapper\">\\r\\n                <a class=\"link\" href=\"https://www.bobaedream.co.kr\" title=\"ë³´ë°°ë\\x93\\x9cë¦¼\">\\r\\n                    <span class=\"icon-symbol-car\"></span>\\r\\n                    <span class=\"icon-logo\">ë³´ë°°ë\\x93\\x9cë¦¼</span>\\r\\n                </a>\\r\\n                \\r\\n            </h1>\\r\\n            <div class=\"top-util-wrapper\">\\r\\n            \\t\\t<div class=\"text-util-wrapper\">\\r\\n<script language=\"javascript\">\\r\\nctmp = document.cookie.split(\";\");\\r\\n\\r\\n  var chkLogin = \"no\";\\r\\n  for (i = 0; i < ctmp.length; i++) {\\r\\n    if (ctmp[i].match(\"Member_ID\")) {\\r\\n      cctmp = ctmp[i].split(\"=\");\\r\\n      if (cctmp[1] != \"\") {\\r\\n        chkLogin = \"yes\";\\r\\n      }\\r\\n    }\\r\\n  }\\t\\t\\t\\t\\r\\n\\r\\ndocument.write(\"<ul class=\\\\\"text-util-list\\\\\">\");\\r\\n\\r\\n\\t\\t\\t\\t/* ë¡\\x9cê·¸ì\\x9d¸í\\x9b\\x84 */\\r\\nif (chkLogin == \"yes\") {\\t\\t\\t\\t\\t\\t\\r\\n\\t\\t\\t\\tdocument.write(\"<li class=\\\\\"text-util-item\\\\\"><a class=\\\\\"text-util\\\\\" href=\\\\\"https://www.bobaedream.co.kr/member/logout.php\\\\\" class=\\\\\"link\\\\\"><span class=\\\\\"text\\\\\">ë¡\\x9cê·¸ì\\x95\\x84ì\\x9b\\x83</span></a></li>\");\\r\\n\\t\\t\\t\\tdocument.write(\"<li class=\\\\\"text-util-item\\\\\"><a class=\\\\\"text-util\\\\\" href=\\\\\"https://security.bobaedream.co.kr/member/join/join_user_data_edit.php\\\\\" class=\\\\\"link\\\\\"><span class=\\\\\"text\\\\\">ë\\x82\\x98ì\\x9d\\x98ì\\xa0\\x95ë³´</span></a></li>\");\\r\\n\\t\\t\\t\\tdocument.write(\"<li class=\\\\\"text-util-item\\\\\"><a class=\\\\\"text-util\\\\\" href=\\\\\"https://www.bobaedream.co.kr/mycar/manage/mycar_manage_main.php\\\\\" class=\\\\\"link\\\\\"><span class=\\\\\"text\\\\\">ë§¤ë¬¼ê´\\x80ë¦¬</span></a></li>\");\\r\\n\\t\\t\\t\\tdocument.write(\"<li class=\\\\\"text-util-item\\\\\"><a class=\\\\\"text-util\\\\\" href=\\\\\"https://www.bobaedream.co.kr/center/car_photo_self.php?send_type=1\\\\\"><span class=\\\\\"text\\\\\">ì\\x82¬ì\\x9d´ë²\\x84ë§¤ì\\x9e¥ ì°¨ë\\x9f\\x89ë\\x93±ë¡\\x9d</span></a></li>\");\\t\\t\\t\\t\\r\\n\\t\\t\\t\\tdocument.write(\"<li class=\\\\\"text-util-item\\\\\"><a class=\\\\\"text-util\\\\\" href=\\\\\"https://www.bobaedream.co.kr/center/center.htm\\\\\" class=\\\\\"link\\\\\"><span class=\\\\\"text\\\\\">ê³\\xa0ê°\\x9dì\\x84¼í\\x84°</span></a></li>\");\\r\\n\\t\\t\\t\\tdocument.write(\"<li class=\\\\\"text-util-item\\\\\"><a class=\\\\\"text-util\\\\\" href=\\\\\"https://www.bobaedream.co.kr/mycommunity?lo=10&or_where=answer&globaltop=y\\\\\" class=\\\\\"link\\\\\"><span class=\\\\\"i-text\\\\\"><span class=\\\\\"icon-mypage\\\\\"></span><span class=\\\\\"text\\\\\">ë§\\x88ì\\x9d´í\\x8e\\x98ì\\x9d´ì§\\x80</span></span></a></li>\");\\r\\n  } else {\\r\\n\\t\\t\\t\\t/* ë¡\\x9cê·¸ì\\x9d¸ì\\xa0\\x84 */\\r\\n\\t\\t\\t\\tdocument.write(\"<li class=\\\\\"text-util-item\\\\\"><a class=\\\\\"text-util\\\\\" href=\\\\\"https://security.bobaedream.co.kr/member/slogin.php\\\\\" class=\\\\\"link\\\\\"><span class=\\\\\"text\\\\\">ë¡\\x9cê·¸ì\\x9d¸</span></a></li>\");\\r\\n\\t\\t\\t\\tdocument.write(\"<li class=\\\\\"text-util-item\\\\\"><a class=\\\\\"text-util\\\\\" href=\\\\\"https://security.bobaedream.co.kr/member/join/register_choice_renew.php\\\\\" class=\\\\\"link\\\\\"><span class=\\\\\"text\\\\\">í\\x9a\\x8cì\\x9b\\x90ê°\\x80ì\\x9e\\x85</span></a></li>\");\\r\\n\\t\\t\\t\\tdocument.write(\"<li class=\\\\\"text-util-item\\\\\"><a class=\\\\\"text-util\\\\\" href=\\\\\"https://www.bobaedream.co.kr/center/car_photo_self.php?send_type=1\\\\\"><span class=\\\\\"text\\\\\">ì\\x82¬ì\\x9d´ë²\\x84ë§¤ì\\x9e¥ ì°¨ë\\x9f\\x89ë\\x93±ë¡\\x9d</span></a></li>\");\\r\\n\\t\\t\\t\\tdocument.write(\"<li class=\\\\\"text-util-item\\\\\"><a class=\\\\\"text-util\\\\\" href=\\\\\"https://www.bobaedream.co.kr/center/center.htm\\\\\" class=\\\\\"link\\\\\"><span class=\\\\\"text\\\\\">ê³\\xa0ê°\\x9dì\\x84¼í\\x84°</span></a></li>\");\\r\\n\\t}\\r\\n\\t\\r\\ndocument.write(\"</ul>\");\\t\\r\\n</script>            \\t\\r\\n            </div>\\r\\n            <div class=\"user-util-wrapper\">\\r\\n                <ul class=\"user-util-list\">\\r\\n<script language=\"javascript\">\\r\\nif (chkLogin == \"yes\") document.write(\"<li class=\\\\\"user-util-item\\\\\"><button onclick=\\\\\"getnoti();\\\\\" type=\\\\\"button\\\\\" class=\\\\\"my-util js-svc-tab\\\\\"><span class=\\\\\"icon-util-alarm\\\\\"></span><span class=\\\\\"count\\\\\"><em class=\\\\\"text\\\\\" id=\\\\\"noti\\\\\">0</em></span></button><div class=\\\\\"svc-noti svc-panel js-svc-panel\\\\\" id=\\\\\"svc-noti\\\\\"></div></li>\");\\r\\n</script>\\r\\n                    <li class=\"user-util-item\">\\r\\n                        <a href=\"https://www.bobaedream.co.kr/mycar/manage/mycar_recent.php\" class=\"my-util\">\\r\\n                            <span class=\"icon-util-history\"></span>\\r\\n                        </a>\\r\\n                    </li>\\r\\n                    <li class=\"user-util-item\">\\r\\n                        <a href=\"https://www.bobaedream.co.kr/mycar/manage/mycar_select_list.php\" class=\"my-util\">\\r\\n                            <span class=\"icon-util-like\"></span>\\r\\n                        </a>\\r\\n                    </li>\\r\\n                </ul>\\r\\n            </div>            \\r\\n            <div class=\"top-service-banner\">\\r\\n                <a class=\"link\" target=\"_blank\" href=\"https://www.bobaedream.co.kr/mycar/mycar_photo_request.php?mType=D\" title=\"ì\\x82¬ì\\x9d´ë²\\x84ë§¤ì\\x9e¥ ê´\\x91ê³\\xa0ì\\x8b\\xa0ì²\\xad 02-784-2329\">\\r\\n                    <span class=\"banner\">ì\\x82¬ì\\x9d´ë²\\x84ë§¤ì\\x9e¥ ê´\\x91ê³\\xa0ì\\x8b\\xa0ì²\\xad 02-784-2329</span>\\r\\n                </a>\\r\\n            </div>            \\r\\n            </div>\\r\\n        </div>\\r\\n    </div>\\r\\n    <div class=\"gnb-container\">    \\r\\n       <div class=\"component\">\\r\\n            <div class=\"gnb-menu-wrapper\">\\r\\n                <ul class=\"gnb-menu-list js-menu\">\\r\\n                    <li class=\"gnb-menu-item js-menu-item cyber\">\\r\\n                        <a class=\"gnb-menu\" href=\"https://www.bobaedream.co.kr/cyber/CyberCar.php?sel_m_gubun=ALL\">\\r\\n                            <span class=\"icon-menu-cyber\">ì\\x82¬ì\\x9d´ë²\\x84ë§¤ì\\x9e¥</span>\\r\\n                        </a>\\r\\n                        <div class=\"sub-menu multiple js-sub-menu\">\\r\\n                            <div class=\"sub-menu-wrapper\">\\r\\n                                <div class=\"sub-menu-inner\">\\r\\n                                    <ul class=\"sub-menu-list\">\\r\\n                                        <li class=\"sub-menu-item\"><a href=\"/cyber/CyberCar.php?sel_m_gubun=ALL\">ì\\xa0\\x84ì²´ë§¤ë¬¼</a></li>\\r\\n                                        <li class=\"sub-menu-item\"><a href=\"/cyber/CyberCar.php?gubun=K\">êµ\\xadì\\x82°ì°¨ë§¤ì\\x9e¥</a></li>\\r\\n                                        <li class=\"sub-menu-item\"><a href=\"/cyber/CyberCar.php?gubun=I\">ì\\x88\\x98ì\\x9e\\x85ì°¨ë§¤ì\\x9e¥</a></li>\\r\\n                                        <li class=\"sub-menu-item\"><a href=\"/cyber/CyberCar.php?cat=1\">ì\\x8a¹ì\\x9a©ì°¨ë§¤ì\\x9e¥</a></li>\\r\\n                                        <li class=\"sub-menu-item\"><a href=\"/cyber/CyberCar.php?cat=2\">ì\\x8a¤í\\x8f¬ì¸\\xa0ì¹´ë§¤ì\\x9e¥</a></li>\\r\\n                                        <li class=\"sub-menu-item\"><a href=\"/cyber/CyberCar.php?cat=4\">SUVÂ·ì§\\x80í\\x94\\x84ë§¤ì\\x9e¥</a></li>\\r\\n                                        <li class=\"sub-menu-item\"><a href=\"/cyber/CyberCar.php?cat=3\">ë°´Â·RVÂ·ë²\\x84ì\\x8a¤ë§¤ì\\x9e¥</a></li>\\r\\n\\t\\t\\t\\t\\t\\t\\t\\t\\t</ul>\\r\\n                                 </div>\\r\\n                                 <div class=\"sub-menu-inner\">\\r\\n                                     <ul class=\"sub-menu-list\">\\r\\n                                        <li class=\"sub-menu-item\"><a href=\"/cyber/CyberCar.php?features=pick\">í\\x94½ì\\x97\\x85Â·í\\x8a¸ë\\x9f\\xadë§¤ì\\x9e¥</a></li>\\r\\n                                        <li class=\"sub-menu-item\"><a href=\"/cyber/CyberCar.php?features=camp\">ìº\\xa0í\\x95\\x91ì¹´ë§¤ì\\x9e¥</a></li>\\r\\n                                        <li class=\"sub-menu-item\"><a href=\"/cyber/CyberCar.php?features=tuning\">í\\x8a\\x9cë\\x8b\\x9dì¹´ë§¤ì\\x9e¥</a></li>\\r\\n                                        <li class=\"sub-menu-item\"><a href=\"/cyber/CyberCar.php?features=old\">ì\\x98¬ë\\x93\\x9cì¹´Â·í\\x81´ë\\x9e\\x98ì\\x8b\\x9dë§¤ì\\x9e¥</a></li>\\r\\n                                        <li class=\"sub-menu-item\"><a href=\"/cyber/CyberCar.php?features=super\">ì\\x8a\\x88í\\x8d¼ì¹´ë§¤ì\\x9e¥</a></li>\\r\\n                                        <li class=\"sub-menu-item\"><a href=\"/cyber/CyberCar.php?features=rare\">í\\x9d¬ê·\\x80ì°¨ë§¤ì\\x9e¥</a></li>\\r\\n                                        <li class=\"sub-menu-item\"><a href=\"/cyber/CyberCar.php?features=auto\">ì\\x98¤í\\x86\\xa0ê°¤ë\\x9f¬ë¦¬ë§¤ì\\x9e¥</a></li>\\r\\n                                    </ul>\\r\\n                                </div>\\r\\n                            </div>\\r\\n                        </div>\\r\\n                    </li>\\r\\n                    <li class=\"gnb-menu-item js-menu-item domestic\">\\r\\n                        <a class=\"gnb-menu\" href=\"https://www.bobaedream.co.kr/mycar/mycar_list.php?gubun=K\">\\r\\n                            <span class=\"icon-menu-domestic\">êµ\\xadì\\x82°ì°¨</span>\\r\\n                        </a>\\r\\n                        <div class=\"sub-menu js-sub-menu\">\\r\\n                            <div class=\"sub-menu-wrapper\">\\r\\n                                <div class=\"sub-menu-inner\">\\r\\n                                    <ul class=\"sub-menu-list\">\\r\\n                                        <li class=\"sub-menu-item\"><a href=\"/mycar/mycar_list.php?gubun=K\">êµ\\xadì\\x82°ì°¨ê²\\x80ì\\x83\\x89</a></li>\\r\\n                                        <li class=\"sub-menu-item\"><a href=\"/mycar/mycar_list.php?sel_m_gubun=tuning_K\">í\\x8a\\x9cë\\x8b\\x9dì¹´ê²\\x80ì\\x83\\x89</a></li>                                        \\r\\n                                        <li class=\"sub-menu-item\"><a href=\"/mycar/mycar_list.php?sel_m_gubun=succ_K\">ë¦¬ì\\x8a¤ë\\xa0\\x8cí\\x8a¸ì°¨ë\\x9f\\x89</a></li>\\r\\n                                        <li class=\"sub-menu-item\"><a href=\"https://www.bobaedream.co.kr/cyber/CyberCar.php?gubun=K\">ì\\x82¬ì\\x9d´ë²\\x84ë§¤ì\\x9e¥</a></li>\\r\\n                                    </ul>\\r\\n                                </div>\\r\\n                            </div>\\r\\n                        </div>\\r\\n                    </li>\\r\\n                    <li class=\"gnb-menu-item js-menu-item imported\">\\r\\n                        <a class=\"gnb-menu\" href=\"https://www.bobaedream.co.kr/mycar/mycar_list.php?gubun=I\">\\r\\n                            <span class=\"icon-menu-imported\">ì\\x88\\x98ì\\x9e\\x85ì°¨</span>\\r\\n                        </a>\\r\\n                        <div class=\"sub-menu js-sub-menu\">\\r\\n                            <div class=\"sub-menu-wrapper\">\\r\\n                                <div class=\"sub-menu-inner\">\\r\\n                                    <ul class=\"sub-menu-list\">\\r\\n                                        <li class=\"sub-menu-item\"><a href=\"/mycar/mycar_list.php?gubun=I\">ì\\x88\\x98ì\\x9e\\x85ì°¨ê²\\x80ì\\x83\\x89</a></li>\\r\\n                                        <li class=\"sub-menu-item\"><a href=\"/mycar/mycar_list.php?sel_m_gubun=tuning_I\">í\\x8a\\x9cë\\x8b\\x9dì¹´ê²\\x80ì\\x83\\x89</a></li>\\r\\n                                        <li class=\"sub-menu-item\"><a href=\"/mycar/mycar_list.php?sel_m_gubun=succ_I\">ë¦¬ì\\x8a¤ë\\xa0\\x8cí\\x8a¸ì°¨ë\\x9f\\x89</a></li>                                        \\r\\n                                        <li class=\"sub-menu-item\"><a href=\"https://www.bobaedream.co.kr/cyber/CyberCar.php?gubun=I\">ì\\x82¬ì\\x9d´ë²\\x84ë§¤ì\\x9e¥</a></li>\\r\\n                                    </ul>\\r\\n                                </div>\\r\\n                            </div>\\r\\n                        </div>\\r\\n                    </li>\\r\\n\\t\\t\\t\\t\\t<li class=\"gnb-menu-item js-menu-item tuning\">\\r\\n                        <a class=\"gnb-menu\" href=\"/cyber/CyberCar.php?features=tuning\">\\r\\n                            <span class=\"icon-menu-store\">í\\x8a\\x9cë\\x8b\\x9dì¹´</span>\\r\\n\\t\\t\\t\\t\\t\\t\\t<span class=\"icon-hot\">ì\\x9d¸ê¸°</span>\\r\\n                        </a>\\r\\n                    </li>                    \\r\\n\\t\\t\\t\\t\\t<li class=\"gnb-menu-item js-menu-item price\">\\r\\n                        <a class=\"gnb-menu\" href=\"/dealguide/market_price_new.php\">\\r\\n                            <span class=\"icon-menu-store\">ì¤\\x91ê³\\xa0ì°¨ì\\x8b\\x9cì\\x84¸</span>\\r\\n                        </a>\\r\\n                    </li>\\r\\n                    <li class=\"gnb-menu-item js-menu-item community is-selected\">\\r\\n                        <a class=\"gnb-menu\" href=\"https://www.bobaedream.co.kr/board/bbs.php\">\\r\\n                            <span class=\"icon-menu-community\">ì»¤ë®¤ë\\x8b\\x88í\\x8b°</span>\\r\\n                        </a>\\r\\n                        <div class=\"sub-menu multiple js-sub-menu\">\\r\\n                            <div class=\"sub-menu-wrapper\">\\r\\n                                <div class=\"sub-menu-inner\">\\r\\n                                    <a href=\"/board/bbs.php\" class=\"title\">ê²\\x8cì\\x8b\\x9cí\\x8c\\x90</a>\\r\\n                                    <ul class=\"sub-menu-list\">\\r\\n                                        <li class=\"sub-menu-item\"><a href=\"/list?code=best\">ë²\\xa0ì\\x8a¤í\\x8a¸ê¸\\x80</a></li>\\r\\n                                        <li class=\"sub-menu-item\"><a href=\"/list?code=freeb\">ì\\x9e\\x90ì\\x9c\\xa0ê²\\x8cì\\x8b\\x9cí\\x8c\\x90</a></li>\\r\\n                                        <li class=\"sub-menu-item\"><a href=\"/list?code=politic\">ì\\xa0\\x95ì¹\\x98ê²\\x8cì\\x8b\\x9cí\\x8c\\x90</a></li>\\r\\n                                        <li class=\"sub-menu-item\"><a href=\"/list?code=battle\">ì\\x8b\\x9cì\\x8a¹ê¸°Â·ë°°í\\x8b\\x80Â·ëª©ê²©ë\\x8b´</a></li>\\r\\n                                        <li class=\"sub-menu-item\"><a href=\"/list?code=famous\">ì\\x9c\\xa0ëª\\x85ì\\x9d¸ì\\x9d\\x98 ì°¨</a></li>\\r\\n                                        <li class=\"sub-menu-item\"><a href=\"/list?code=nnews\">ì\\x9e\\x90ë\\x8f\\x99ì°¨ë\\x89´ì\\x8a¤</a></li>\\r\\n                                        <li class=\"sub-menu-item\"><a href=\"/list?code=bbstory\">ë³´ë°°ë\\x93\\x9cë¦¼ ì\\x9d´ì\\x95¼ê¸°</a></li>\\r\\n                                        <li class=\"sub-menu-item\"><a href=\"/list?code=bb_talk\">ì\\xa0\\x9cì\\x95\\x88Â·ê±´ì\\x9d\\x98</a></li>\\r\\n                                        <li class=\"sub-menu-item\"><a href=\"/event/event_list.php?event_gubun=1\">ì\\x9d´ë²¤í\\x8a¸</a></li>\\r\\n                                    </ul>\\r\\n                                </div>\\r\\n                                <div class=\"sub-menu-inner\">\\r\\n                                    <a href=\"/board/data.php\" class=\"title\">ì\\x9e\\x90ë£\\x8cì\\x8b¤</a>\\r\\n                                    <ul class=\"sub-menu-list\">\\r\\n                                        <li class=\"sub-menu-item\"><a href=\"/list?code=strange\">ì\\x9c\\xa0ë¨¸ê²\\x8cì\\x8b\\x9cí\\x8c\\x90</a></li>\\r\\n                                        <li class=\"sub-menu-item\"><a href=\"/list?code=accident\">êµ\\x90í\\x86µì\\x82¬ê³\\xa0Â·ì\\x82¬ê±´Â·ë¸\\x94ë°\\x95</a></li>\\r\\n                                        <li class=\"sub-menu-item\"><a href=\"/list?code=national\">êµ\\xadì\\x82°ì°¨ê²\\x8cì\\x8b\\x9cí\\x8c\\x90</a></li>\\r\\n                                        <li class=\"sub-menu-item\"><a href=\"/list?code=import\">ì\\x88\\x98ì\\x9e\\x85ì°¨ê²\\x8cì\\x8b\\x9cí\\x8c\\x90</a></li>\\r\\n                                        <li class=\"sub-menu-item\"><a href=\"/list?code=hotcar\">ë\\x82´ì°¨ì\\x82¬ì§\\x84</a></li>\\r\\n                                        <li class=\"sub-menu-item\"><a href=\"/list?code=dica\">ì§\\x81ì°\\x8dÂ·í\\x8a¹ì¢\\x85ë°\\x9cê²¬</a></li>\\r\\n                                        <li class=\"sub-menu-item\"><a href=\"/list?code=special\">ì\\x9e\\x90ë\\x8f\\x99ì°¨ì\\x82¬ì§\\x84Â·ë\\x8f\\x99ì\\x98\\x81ì\\x83\\x81</a></li>\\r\\n                                        <li class=\"sub-menu-item\"><a href=\"/list?code=wheel\">ì\\x9e¥ì°©ì\\x8b\\x9cê³µì\\x82¬ì§\\x84</a></li>\\r\\n                                        <li class=\"sub-menu-item\"><a href=\"/list?code=music\">ì\\x9e\\x90ì\\x9c\\xa0ì\\x82¬ì§\\x84Â·ë\\x8f\\x99ì\\x98\\x81ì\\x83\\x81</a></li>\\r\\n                                     </ul>\\r\\n                                 </div>\\r\\n                                 <div class=\"sub-menu-inner\">\\r\\n                                     <a href=\"/board/data.php\" class=\"title\">&nbsp;</a>\\r\\n                                     <ul class=\"sub-menu-list\">\\r\\n                                        <li class=\"sub-menu-item\"><a href=\"/list?code=girl\">ë\\xa0\\x88ì\\x9d´ì\\x8b±ëª¨ë\\x8d¸</a></li>\\r\\n                                        <li class=\"sub-menu-item\"><a href=\"/list?code=army\">êµ°ì\\x82¬Â·ë¬´ê¸°</a></li>\\r\\n                                        <li class=\"sub-menu-item\"><a href=\"/list?code=truck\">í\\x8a¸ë\\x9f\\xadÂ·ë²\\x84ì\\x8a¤Â·ì¤\\x91ê¸°</a></li>\\r\\n                                        <li class=\"sub-menu-item\"><a href=\"/list?code=skybr\">í\\x95\\xadê³µÂ·í\\x95´ì\\x9a´Â·ì²\\xa0ë\\x8f\\x84</a></li>\\r\\n                                        <li class=\"sub-menu-item\"><a href=\"/list?code=bike\">ì\\x98¤í\\x86\\xa0ë°\\x94ì\\x9d´Â·ì\\x9e\\x90ì\\xa0\\x84ê±°</a></li>\\r\\n                                        <li class=\"sub-menu-item\"><a href=\"/list?code=vi\">ì\\x98¬ë\\x93\\x9cì¹´Â·ì¶\\x94ì\\x96µê±°ë¦¬</a></li>\\r\\n                                    </ul>\\r\\n                                </div>\\r\\n                            </div>\\r\\n                        </div>\\r\\n                    </li>\\r\\n                    <li class=\"gnb-menu-item js-menu-item mycar\">\\r\\n                        <a class=\"gnb-menu\" href=\"https://www.bobaedream.co.kr/mycar/mycar.php\">\\r\\n                            <span class=\"icon-menu-mycar\">ë\\x82´ì°¨í\\x8c\\x94ê¸°</span>\\r\\n                        </a>\\r\\n                        <div class=\"sub-menu js-sub-menu\">\\r\\n                            <div class=\"sub-menu-wrapper\">\\r\\n                                <div class=\"sub-menu-inner\">\\r\\n                                    <ul class=\"sub-menu-list\">\\r\\n                                        <li class=\"sub-menu-item\"><a href=\"/mycar/mycar.php\">ë\\x82´ì°¨í\\x8c\\x94ê¸° í\\x99\\x88</a></li>\\r\\n                                        <li class=\"sub-menu-item\"><a href=\"/mycar/mycar_self_step1.php?gubun=K\">êµ\\xadì\\x82°ì°¨ ì\\x85\\x80í\\x94\\x84ë\\x93±ë¡\\x9d</a></li>\\r\\n                                        <li class=\"sub-menu-item\"><a href=\"/mycar/mycar_self_step1.php?gubun=I\">ì\\x88\\x98ì\\x9e\\x85ì°¨ ì\\x85\\x80í\\x94\\x84ë\\x93±ë¡\\x9d</a></li>\\r\\n                                        <li class=\"sub-menu-item\"><a href=\"/mycar/mycar_photo_request.php?mType=C\">ì\\x82¬ì\\x9d´ë²\\x84ë§¤ì\\x9e¥ë\\x93±ë¡\\x9d</a></li>\\r\\n                                        <li class=\"sub-menu-item\"><a href=\"/mycar/ticket.php?gubun=K\">êµ\\xadì\\x82°ì°¨ ë§¤ë¬¼ë\\x93±ë¡\\x9dê¶\\x8c</a></li>\\r\\n                                        <li class=\"sub-menu-item\"><a href=\"/mycar/ticket.php?gubun=I\">ì\\x88\\x98ì\\x9e\\x85ì°¨ ë§¤ë¬¼ë\\x93±ë¡\\x9dê¶\\x8c</a></li>\\r\\n                                        <li class=\"sub-menu-item\"><a href=\"/mycar/mycar_photo_request.php?mType=D\">ì´¬ì\\x98\\x81ë\\x8c\\x80í\\x96\\x89ì\\x84\\x9cë¹\\x84ì\\x8a¤</a></li>\\r\\n                                    </ul>\\r\\n                                </div>\\r\\n                            </div>\\r\\n                        </div>\\r\\n                    </li>\\r\\n                    <li class=\"gnb-menu-item js-menu-item motorcycle\">\\r\\n                        <a class=\"gnb-menu\" href=\"https://bike.bobaedream.co.kr/\">\\r\\n                            <span class=\"icon-menu-motorcycle\">ì\\x98¤í\\x86\\xa0ë°\\x94ì\\x9d´</span>\\r\\n                        </a>\\r\\n                        <div class=\"sub-menu js-sub-menu\">\\r\\n                            <div class=\"sub-menu-wrapper\">\\r\\n                                <div class=\"sub-menu-inner\">\\r\\n                                    <ul class=\"sub-menu-list\">\\r\\n                                        <li class=\"sub-menu-item\"><a href=\"https://bike.bobaedream.co.kr\">ì\\x98¤í\\x86\\xa0ë°\\x94ì\\x9d´í\\x99\\x88</a></li>\\r\\n                                        <li class=\"sub-menu-item\"><a href=\"https://bike.bobaedream.co.kr/bike2/bike_list.php?ifnew=Y\">ì\\x8b\\xa0ì°¨ ë§¤ì\\x9e¥</a></li>\\r\\n                                        <li class=\"sub-menu-item\"><a href=\"https://bike.bobaedream.co.kr/bike2/bike_list.php?ifnew=N\">ì¤\\x91ê³\\xa0ì°¨ ë§¤ì\\x9e¥</a></li>\\r\\n                                        <li class=\"sub-menu-item\"><a href=\"https://bike.bobaedream.co.kr/bike_good/bike_good_list.php\">ì\\x9a©í\\x92\\x88ì\\x9e¥í\\x84°</a></li>\\r\\n                                        <li class=\"sub-menu-item\"><a href=\"https://bike.bobaedream.co.kr/bike2/board/bike_community_main.php\">ì»¤ë®¤ë\\x8b\\x88í\\x8b°</a></li>\\r\\n                                        <li class=\"sub-menu-item\"><a href=\"https://bike.bobaedream.co.kr/bike2/bike_apply.php\">ë§¤ë¬¼ë\\x93±ë¡\\x9dí\\x95\\x98ê¸°</a></li>\\r\\n                                        <li class=\"sub-menu-item\"><a href=\"https://bike.bobaedream.co.kr/bike2/mycar_list_main.php\">ë\\x82\\x98ì\\x9d\\x98ë§¤ë¬¼ê´\\x80ë¦¬</a></li>\\r\\n                                    </ul>\\r\\n                                </div>\\r\\n                            </div>\\r\\n                        </div>\\r\\n                    </li>\\r\\n                    <li class=\"gnb-menu-item js-menu-item market\">\\r\\n                        <a class=\"gnb-menu\" href=\"https://good.bobaedream.co.kr/good/list_sale.php\">\\r\\n                            <span class=\"icon-menu-market\">ì¤\\x91ê³\\xa0ì\\x9e¥í\\x84°</span>\\r\\n                        </a>\\r\\n                        <div class=\"sub-menu js-sub-menu\">\\r\\n                            <div class=\"sub-menu-wrapper\">\\r\\n                                <div class=\"sub-menu-inner\">\\r\\n                                    <ul class=\"sub-menu-list\">\\r\\n                                        <li class=\"sub-menu-item\"><a href=\"https://good.bobaedream.co.kr/good/list_sale.php\">ì\\xa0\\x84ì²´ë³´ê¸°</a></li>\\r\\n                                        <li class=\"sub-menu-item\"><a href=\"https://good.bobaedream.co.kr/good/list_sale.php?on=old\">ì¤\\x91ê³\\xa0ì\\x9a©í\\x92\\x88 ê²\\x80ì\\x83\\x89</a></li>\\r\\n                                        <li class=\"sub-menu-item\"><a href=\"https://good.bobaedream.co.kr/good/list_sale.php?on=new\">ì\\x83\\x88ì\\xa0\\x9cí\\x92\\x88 ê²\\x80ì\\x83\\x89</a></li>\\r\\n                                        <li class=\"sub-menu-item\"><a href=\"https://good.bobaedream.co.kr/good/list_sale.php?d1=150\">ì\\x88\\x98ì\\x9e\\x85ì°¨ì\\x9a©í\\x92\\x88 ê²\\x80ì\\x83\\x89</a></li>\\r\\n                                        <li class=\"sub-menu-item\"><a href=\"https://good.bobaedream.co.kr/good/home.php\">ì\\x9a©í\\x92\\x88ë\\x93±ë¡\\x9dí\\x95\\x98ê¸°</a></li>\\r\\n                                        <li class=\"sub-menu-item\"><a href=\"https://good.bobaedream.co.kr/good/list_mygood.php\">ë\\x82\\x98ì\\x9d\\x98 ì\\x9a©í\\x92\\x88ê´\\x80ë¦¬</a></li>\\r\\n                                    </ul>\\r\\n                                </div>\\r\\n                            </div>\\r\\n                        </div>\\r\\n                    </li>\\r\\n                    <li class=\"gnb-menu-item js-menu-item store\">\\r\\n                        <a class=\"gnb-menu\" href=\"https://www.bobaedream.co.kr/partner/partner_main.php\">\\r\\n                            <span class=\"icon-menu-store\">ì\\x97\\x85ì²´ê²\\x80ì\\x83\\x89</span>\\r\\n                        </a>\\r\\n                    </li>\\r\\n                    <!--\\r\\n                    <li class=\"gnb-menu-item js-menu-item\">\\r\\n                        <button class=\"btn-navigation\" type=\"button\">\\r\\n                            <span class=\"icon-menu-more\">ë\\x8d\\x94ë³´ê¸°</span>\\r\\n                            <span class=\"icon-arrow\"></span>\\r\\n                        </button>\\r\\n                    </li>\\r\\n                    -->\\r\\n                </ul>\\r\\n            </div>\\r\\n\\r\\n            <div class=\"square-util-wrapper\">\\r\\n                <ul class=\"square-util-list\">\\r\\n                    <li class=\"square-util-item\">\\r\\n                        <button class=\"square-util btn-search js-btn-srch\" type=\"button\">\\r\\n                            <span class=\"icon-util-search\">ê²\\x80ì\\x83\\x89í\\x95\\x98ê¸°</span>\\r\\n                        </button>\\r\\n                        <div class=\"field-search js-top-srch\">\\r\\n                            <form name=\"search_form\" method=\"post\" action=\"//www.bobaedream.co.kr/search\" onsubmit=\"javascript:\\tif(!document.search_form.keyword.value) { var _this = BOBAE.header; _this.$topSrch.parent(\\'li\\').removeClass(\\'is-extend\\'); return false; } else { document.search_form.submit(); }\">\\r\\n                                <label for=\"keyword\" class=\"blind\">ê²\\x80ì\\x83\\x89í\\x95\\x98ê¸°</label>\\r\\n                                <span class=\"inp-srch\">\\r\\n                                    <input type=\"search\" id=\"keyword\" name=\"keyword\">\\r\\n                                </span>\\r\\n                                <button class=\"btn-submit\" type=\"submit\">\\r\\n                                    <span class=\"icon-util-search\">ê²\\x80ì\\x83\\x89í\\x95\\x98ê¸°</span>\\r\\n                                </button>\\r\\n                            </form>\\r\\n                        </div>\\r\\n                    </li>\\r\\n                    <li class=\"square-util-item\">\\r\\n                        <button class=\"square-util js-btn-allsvc\" type=\"button\">\\r\\n                            <span class=\"icon-util-menu\">ì\\xa0\\x84ì²´ë©\\x94ë\\x89´</span>\\r\\n                        </button>\\r\\n                    </li>\\r\\n                </ul>\\r\\n            </div>\\r\\n        </div>\\r\\n    </div>\\r\\n</div>\\r\\n<!-- // bobaeHead -->\\r\\n\\r\\n<!-- Global site tag (gtag.js) - Google Analytics -->\\r\\n<script async src=\"https://securepubads.g.doubleclick.net/tag/js/gpt.js\"></script>\\r\\n\\r\\n\\r\\n<script type=\\'text/javascript\\'>\\r\\n  var googletag = googletag || {};\\r\\n  googletag.cmd = googletag.cmd || [];\\r\\n  $(function() {\\r\\n    var gads = document.createElement(\\'script\\');\\r\\n    gads.async = true;\\r\\n    gads.type = \\'text/javascript\\';\\r\\n    var useSSL = \\'https:\\' == document.location.protocol;\\r\\n    gads.src = (useSSL ? \\'https:\\' : \\'http:\\') +\\r\\n      \\'//www.googletagservices.com/tag/js/gpt.js\\';\\r\\n    var node = document.getElementsByTagName(\\'script\\')[0];\\r\\n    node.parentNode.insertBefore(gads, node);\\r\\n  });\\r\\n</script>\\t\\t\\r\\n\\r\\n\\t\\t\\t<script type=\\'text/javascript\\'>\\r\\n\\t\\t\\t\\t\\t\\t\\t  \\t\\t\\tgoogletag.cmd.push(function() {\\r\\n\\t\\t\\t\\t\\t\\t\\t  \\t googletag.defineSlot(\\'/77987245/PCë\\x8c\\x93ê¸\\x80ì\\x83\\x81ë\\x8b¨\\', [728, 90], \\'div-gpt-ad-1655282654422-0\\').addService(googletag.pubads());\\r\\n\\t\\t\\t\\t\\t\\t\\t    \\t\\t\\tgoogletag.defineSlot(\\'/77987245/200x200\\', [200, 200], \\'div-gpt-ad-1444211045122-1\\').addService(googletag.pubads());  \\r\\n\\t\\t\\t\\t\\t\\t\\t    \\t\\t\\tgoogletag.defineSlot(\\'/77987245/ì\\x9a°ì¸¡ë\\x9d\\xa0\\', [160, 600], \\'div-gpt-ad-1444211045122-0\\').addService(googletag.pubads());googletag.defineSlot(\\'/77987245/ì\\x8b¤í\\x97\\x98ì\\x9a©160ì¢\\x8cì¸¡\\', [160, 600], \\'div-gpt-ad-1620727865859-0\\').addService(googletag.pubads());googletag.enableServices();\\r\\n\\t\\t\\t\\t\\t\\t\\t  });\\r\\n\\t\\t\\t\\t\\t\\t\\t  \\r\\n\\t\\t\\t\\t\\t\\t\\t</script>\\r\\n\\t\\t\\t\\t\\t\\t\\t\\t\\r\\n\\t\\t\\t\\r\\n\\t<div class=\"right_add\">\\r\\n\\t\\t<div class=\"ad-container\" id=\\'div-gpt-ad-1444211045122-0\\'>\\r\\n\\t\\t<script type=\\'text/javascript\\'>\\r\\n\\t\\t\\tgoogletag.cmd.push(function() { googletag.display(\\'div-gpt-ad-1444211045122-0\\'); });\\r\\n\\t\\t</script>\\r\\n\\t\\t</div>\\r\\n\\t</div>\\t\\r\\n\\t\\r\\n\\t\\r\\n\\t<div class=\"right_add left\">\\r\\n\\t\\t\\t\\t\\t\\t\\t\\t\\t\\t\\t\\t\\t\\t<div class=\"ad-container\" id=\"div-gpt-ad-1620727865859-0\">\\r\\n\\t\\t\\t\\t\\t\\t\\t\\t\\t\\t\\t\\t\\t\\t<script type=\"text/javascript\">\\r\\n\\t\\t\\t\\t\\t\\t\\t\\t\\t\\t\\t\\t\\t\\t\\tgoogletag.cmd.push(function() { googletag.display(\"div-gpt-ad-1620727865859-0\"); });\\r\\n\\t\\t\\t\\t\\t\\t\\t\\t\\t\\t\\t\\t\\t\\t</script>\\r\\n\\t\\t\\t\\t\\t\\t\\t\\t\\t\\t\\t\\t\\t\\t</div>\\r\\n\\t\\t\\t\\t\\t\\t\\t\\t\\t\\t\\t\\t\\t</div>\\t\\r\\n<script type=\"text/javascript\">\\r\\n\\r\\n\\t// ì\\x95\\x8cë¦¼\\r\\n\\tfunction get_top_cnt() {\\r\\n\\t  var dummy     = new Date().getTime();\\r\\n\\t\\r\\n\\t  // , data: \"dummy=\" + dummy + \"&no=\" + no + \"&dep=\" + dep\\r\\n\\t\\r\\n\\t  $.ajax({\\r\\n\\t    type: \\'get\\'\\r\\n\\t    , async: true\\r\\n\\t    , url: \\'/script/note_get_cnt_new.php\\'\\r\\n\\t    , data: \"dummy=\"     + dummy\\r\\n\\t    , dataType: \\'json\\'\\r\\n\\t    , beforeSend: function() {\\r\\n\\t      //$(\\'#ajax_load_indicator\\').show().fadeIn(\\'fast\\');\\r\\n\\t    }\\r\\n\\t    , success: function(data) {\\r\\n\\t      var response = data;\\r\\n\\t\\r\\n\\t      $(\"#noti\").html(response[\\'noti\\']);\\r\\n\\t    }\\r\\n\\t    , error: function(data, status, err) {\\r\\n\\t      //alert(\\'ì\\x84\\x9cë²\\x84ì\\x99\\x80ì\\x9d\\x98 í\\x86µì\\x8b\\xa0ì\\x9d´ ì\\x8b¤í\\x8c¨í\\x96\\x88ì\\x8aµë\\x8b\\x88ë\\x8b¤.\\' + err);\\r\\n\\t    }\\r\\n\\t    , complete: function() {\\r\\n\\t      //$(\\'#ajax_load_indicator\\').fadeOut();\\r\\n\\t    }\\r\\n\\t  });\\r\\n\\t}\\r\\n\\t\\r\\n\\tfunction getnoti() {\\r\\n\\t\\r\\n\\t\\tvar dummy = new Date().getTime();\\r\\n\\t\\tvar url = \"/script/getnoti_2019.php?dummy=\" + dummy;\\r\\n\\t\\r\\n\\t\\t\\t$(\"#svc-noti\").load(url,function(response, status, xhr) {\\r\\n\\t\\r\\n\\t\\t\\t});\\r\\n\\t}\\t\\t\\r\\n\\r\\n$(document).ready(function(){\\r\\n\\tif (chkLogin == \"yes\") {\\r\\n\\t\\t  get_top_cnt();\\r\\n\\t}\\t\\r\\n});\\r\\n\\r\\n\\r\\n\\r\\n\\r\\n\\t\\t\\t\\t\\t\\t\\r\\n</script>\\r\\n\\r\\n<script>\\r\\n$(document).ready(function(){\\r\\n  var $ad = $(\\'.right_add\\');\\r\\n\\r\\n  onScrollAdAnim();\\r\\n\\r\\n  $(window).bind(\\'scroll\\', function(){\\r\\n    onScrollAdAnim();\\r\\n  });\\r\\n\\r\\n  function onScrollAdAnim(){\\r\\n    var _limitTop = 106,\\r\\n        _scroll = $(window).scrollTop();\\r\\n\\r\\n      if(_scroll > _limitTop) {\\r\\n          $ad.addClass(\\'is-top\\');\\r\\n          $ad.css(\\'top\\', 0);\\r\\n      }else{\\r\\n          $ad.removeClass(\\'is-top\\');\\r\\n          $ad.css(\\'top\\', _limitTop - _scroll);\\r\\n      }\\r\\n  }\\r\\n});\\r\\n</script>  \\r\\n\\r\\n\\r\\n<!-- bobaeService -->\\r\\n<div class=\"bobae-service js-all-service\" id=\"bobaeService\">\\r\\n    <div class=\"bs-dim js-bs-dim\"></div>\\r\\n    <div class=\"svc-box\">\\r\\n        <h2 class=\"blind\">ë³´ë°°ë\\x93\\x9cë¦¼ ì\\xa0\\x84ì²´ë©\\x94ë\\x89´</h2>\\r\\n        <!-- [S] service-all-area -->\\r\\n        <div class=\"service-all-area\">\\r\\n                        <div class=\"svc-col\">\\r\\n                <h3 class=\"stit\"><a href=\"/cyber/CyberCar.php?sel_m_gubun=ALL\">ì\\x82¬ì\\x9d´ë²\\x84ë§¤ì\\x9e¥</a></h3>\\r\\n                <ul class=\"svc-list\">\\r\\n\\t\\t\\t\\t\\t\\t\\t\\t<li><a href=\"/cyber/CyberCar.php?sel_m_gubun=ALL\">ì\\xa0\\x84ì²´ë§¤ë¬¼</a></li>\\r\\n\\t\\t\\t\\t\\t\\t\\t\\t<li><a href=\"/cyber/CyberCar.php?gubun=K\">êµ\\xadì\\x82°ì°¨</a></li>\\r\\n\\t\\t\\t\\t\\t\\t\\t\\t<li><a href=\"/cyber/CyberCar.php?gubun=I\">ì\\x88\\x98ì\\x9e\\x85ì°¨</a></li>\\r\\n\\t\\t\\t\\t\\t\\t\\t\\t<li><a href=\"/cyber/CyberCar.php?cat=1\">ì\\x8a¹ì\\x9a©ì°¨</a></li>\\r\\n\\t\\t\\t\\t\\t\\t\\t\\t<li><a href=\"/cyber/CyberCar.php?cat=2\">ì\\x8a¤í\\x8f¬ì¸\\xa0ì¹´</a></li>\\r\\n\\t\\t\\t\\t\\t\\t\\t\\t<li><a href=\"/cyber/CyberCar.php?cat=4\">SUVÂ·ì§\\x80í\\x94\\x84</a></li>\\r\\n\\t\\t\\t\\t\\t\\t\\t\\t<li><a href=\"/cyber/CyberCar.php?cat=3\">ë°´Â·RVÂ·ë²\\x84ì\\x8a¤</a></li>\\r\\n\\t\\t\\t\\t\\t\\t\\t\\t<li><a href=\"/cyber/CyberCar.php?features=pick\">í\\x94½ì\\x97\\x85í\\x8a¸ë\\x9f\\xad</a></li>\\r\\n\\t\\t\\t\\t\\t\\t\\t\\t<li><a href=\"/cyber/CyberCar.php?features=camp\">ìº\\xa0í\\x95\\x91ì¹´</a></li>\\r\\n\\t\\t\\t\\t\\t\\t\\t\\t<li><a href=\"/cyber/CyberCar.php?features=tuning\">í\\x8a\\x9cë\\x8b\\x9dì¹´</a></li>\\r\\n\\t\\t\\t\\t\\t\\t\\t\\t<li><a href=\"/cyber/CyberCar.php?features=old\">ì\\x98¬ë\\x93\\x9cì¹´Â·í\\x81´ë\\x9e\\x98ì\\x8b\\x9dì¹´</a></li>\\r\\n\\t\\t\\t\\t\\t\\t\\t\\t<li><a href=\"/cyber/CyberCar.php?features=super\">ì\\x8a\\x88í\\x8d¼ì¹´</a></li>\\r\\n\\t\\t\\t\\t\\t\\t\\t\\t<li><a href=\"/cyber/CyberCar.php?features=rare\">í\\x9d¬ê·\\x80ì°¨</a></li>\\r\\n\\t\\t\\t\\t\\t\\t\\t\\t<li><a href=\"/cyber/CyberCar.php?features=auto\">ì\\x98¤í\\x86\\xa0ê°¤ë\\x9f¬ë¦¬</a></li>\\r\\n\\t\\t\\t\\t                </ul>\\r\\n            </div>\\r\\n\\t\\t\\t            <div class=\"svc-col\">\\r\\n                <h3 class=\"stit\"><a href=\"/mycar/mycar_list.php?gubun=K\">êµ\\xadì\\x82°ì°¨</a></h3>\\r\\n                <ul class=\"svc-list\">\\r\\n\\t\\t\\t\\t\\t\\t\\t\\t<li><a href=\"/mycar/mycar_list.php?gubun=K\">êµ\\xadì\\x82°ì°¨ê²\\x80ì\\x83\\x89</a></li>\\r\\n\\t\\t\\t\\t\\t\\t\\t\\t<li><a href=\"/mycar/mycar_list.php?sel_m_gubun=tuning_K\">í\\x8a\\x9cë\\x8b\\x9dì¹´ê²\\x80ì\\x83\\x89</a></li>\\r\\n\\t\\t\\t\\t\\t\\t\\t\\t<li><a href=\"/mycar/mycar_list.php?sel_m_gubun=succ_K\">ë¦¬ì\\x8a¤ë\\xa0\\x8cí\\x8a¸ì°¨ë\\x9f\\x89</a></li>\\r\\n\\t\\t\\t\\t\\t\\t\\t\\t<li><a href=\"/cyber/CyberCar.php?gubun=K\">ì\\x82¬ì\\x9d´ë²\\x84ë§¤ì\\x9e¥</a></li>\\r\\n\\t\\t\\t\\t                </ul>\\r\\n            </div>\\r\\n\\t\\t\\t            <div class=\"svc-col\">\\r\\n                <h3 class=\"stit\"><a href=\"/mycar/mycar_list.php?gubun=I\">ì\\x88\\x98ì\\x9e\\x85ì°¨</a></h3>\\r\\n                <ul class=\"svc-list\">\\r\\n\\t\\t\\t\\t\\t\\t\\t\\t<li><a href=\"/mycar/mycar_list.php?gubun=I\">ì\\x88\\x98ì\\x9e\\x85ì°¨ê²\\x80ì\\x83\\x89</a></li>\\r\\n\\t\\t\\t\\t\\t\\t\\t\\t<li><a href=\"/mycar/mycar_list.php?sel_m_gubun=tuning_I\">í\\x8a\\x9cë\\x8b\\x9dì¹´ê²\\x80ì\\x83\\x89</a></li>\\r\\n\\t\\t\\t\\t\\t\\t\\t\\t<li><a href=\"/mycar/mycar_list.php?sel_m_gubun=succ_I\">ë¦¬ì\\x8a¤ë\\xa0\\x8cí\\x8a¸ì°¨ë\\x9f\\x89</a></li>\\r\\n\\t\\t\\t\\t\\t\\t\\t\\t<li><a href=\"/cyber/CyberCar.php?gubun=I\">ì\\x82¬ì\\x9d´ë²\\x84ë§¤ì\\x9e¥</a></li>\\r\\n\\t\\t\\t\\t                </ul>\\r\\n            </div>\\r\\n\\t\\t\\t            <div class=\"svc-col\">\\r\\n                <h3 class=\"stit\"><a href=\"/mycar/mycar.php\">ë\\x82´ì°¨í\\x8c\\x94ê¸°</a></h3>\\r\\n                <ul class=\"svc-list\">\\r\\n\\t\\t\\t\\t\\t\\t\\t\\t<li><a href=\"/mycar/mycar.php\">ë\\x82´ì°¨í\\x8c\\x94ê¸° í\\x99\\x88</a></li>\\r\\n\\t\\t\\t\\t\\t\\t\\t\\t<li><a href=\"/mycar/mycar_self_step1.php?gubun=K\">êµ\\xadì\\x82°ì°¨ ì\\x85\\x80í\\x94\\x84ë\\x93±ë¡\\x9d</a></li>\\r\\n\\t\\t\\t\\t\\t\\t\\t\\t<li><a href=\"/mycar/mycar_self_step1.php?gubun=I\">ì\\x88\\x98ì\\x9e\\x85ì°¨ ì\\x85\\x80í\\x94\\x84ë\\x93±ë¡\\x9d</a></li>\\r\\n\\t\\t\\t\\t\\t\\t\\t\\t<li><a href=\"/mycar/mycar_photo_request.php?mType=C\">ì\\x82¬ì\\x9d´ë²\\x84ë§¤ì\\x9e¥ë\\x93±ë¡\\x9d</a></li>\\r\\n\\t\\t\\t\\t\\t\\t\\t\\t<li><a href=\"/mycar/ticket.php?gubun=K\">êµ\\xadì\\x82°ì°¨ ë§¤ë¬¼ë\\x93±ë¡\\x9dê¶\\x8c</a></li>\\r\\n\\t\\t\\t\\t\\t\\t\\t\\t<li><a href=\"/mycar/ticket.php?gubun=I\">ì\\x88\\x98ì\\x9e\\x85ì°¨ ë§¤ë¬¼ë\\x93±ë¡\\x9dê¶\\x8c</a></li>\\r\\n\\t\\t\\t\\t\\t\\t\\t\\t<li><a href=\"/mycar/mycar_photo_request.php?mType=D\">ì´¬ì\\x98\\x81ë\\x8c\\x80í\\x96\\x89ì\\x84\\x9cë¹\\x84ì\\x8a¤</a></li>\\r\\n\\t\\t\\t\\t                </ul>\\r\\n            </div>\\r\\n\\t\\t\\t            <div class=\"svc-col\">\\r\\n                <h3 class=\"stit\"><a href=\"https://bike.bobaedream.co.kr\">ì\\x98¤í\\x86\\xa0ë°\\x94ì\\x9d´</a></h3>\\r\\n                <ul class=\"svc-list\">\\r\\n\\t\\t\\t\\t\\t\\t\\t\\t<li><a href=\"https://bike.bobaedream.co.kr\">ì\\x98¤í\\x86\\xa0ë°\\x94ì\\x9d´í\\x99\\x88</a></li>\\r\\n\\t\\t\\t\\t\\t\\t\\t\\t<li><a href=\"https://bike.bobaedream.co.kr/bike2/bike_list.php?ifnew=Y\">ì\\x8b\\xa0ì°¨ ë§¤ì\\x9e¥</a></li>\\r\\n\\t\\t\\t\\t\\t\\t\\t\\t<li><a href=\"https://bike.bobaedream.co.kr/bike2/bike_list.php?ifnew=N\">ì¤\\x91ê³\\xa0ì°¨ ë§¤ì\\x9e¥</a></li>\\r\\n\\t\\t\\t\\t\\t\\t\\t\\t<li><a href=\"https://bike.bobaedream.co.kr/bike_good/bike_good_list.php\">ì\\x9a©í\\x92\\x88ì\\x9e¥í\\x84°</a></li>\\r\\n\\t\\t\\t\\t\\t\\t\\t\\t<li><a href=\"https://bike.bobaedream.co.kr/bike2/board/bike_community_main.php\">ì»¤ë®¤ë\\x8b\\x88í\\x8b°</a></li>\\r\\n\\t\\t\\t\\t\\t\\t\\t\\t<li><a href=\"https://bike.bobaedream.co.kr/bike2/bike_apply.php\">ë§¤ë¬¼ë\\x93±ë¡\\x9dí\\x95\\x98ê¸°</a></li>\\r\\n\\t\\t\\t\\t\\t\\t\\t\\t<li><a href=\"https://bike.bobaedream.co.kr/bike2/mycar_list_main.php\">ë\\x82\\x98ì\\x9d\\x98ë§¤ë¬¼ê´\\x80ë¦¬</a></li>\\r\\n\\t\\t\\t\\t                </ul>\\r\\n            </div>\\r\\n\\t\\t\\t            <div class=\"svc-col\">\\r\\n                <h3 class=\"stit\"><a href=\"/partner/partner_main.php\">í\\x98\\x91ë\\xa0¥ì\\x97\\x85ì²´</a></h3>\\r\\n                <ul class=\"svc-list\">\\r\\n\\t\\t\\t\\t\\t\\t\\t\\t<li><a href=\"/partner/partner_main.php\">í\\x98\\x91ë\\xa0¥ì\\x97\\x85ì²´í\\x99\\x88</a></li>\\r\\n\\t\\t\\t\\t\\t\\t\\t\\t<li><a href=\"/partner/partner_search.php\">í\\x98\\x91ë\\xa0¥ì\\x97\\x85ì²´ì°¾ê¸°</a></li>\\r\\n\\t\\t\\t\\t\\t\\t\\t\\t<li><a href=\"/partner/partner_photo.php\">ì\\x97\\x85ì²´ì\\x9e\\x91ì\\x97\\x85ì\\x82¬ì§\\x84</a></li>\\r\\n\\t\\t\\t\\t\\t\\t\\t\\t<li><a href=\"/partner/partner_movie.php\">ì\\x97\\x85ì²´ì\\x9e\\x91ì\\x97\\x85ì\\x98\\x81ì\\x83\\x81</a></li>\\r\\n\\t\\t\\t\\t\\t\\t\\t\\t<li><a href=\"/partner/partner_visit.php\">ë°©ë¬¸í\\x9b\\x84ê¸°</a></li>\\r\\n\\t\\t\\t\\t\\t\\t\\t\\t<li><a href=\"/partner/partner_event.php\">ì\\x9d´ë²¤í\\x8a¸ì\\x86\\x8cì\\x8b\\x9d</a></li>\\r\\n\\t\\t\\t\\t\\t\\t\\t\\t<li><a href=\"/partner/partner_qna.php\">ì§\\x88ë¬¸ê³¼ë\\x8bµë³\\x80</a></li>\\r\\n\\t\\t\\t\\t\\t\\t\\t\\t<li><a href=\"/partner/partner_request.php\">í\\x98\\x91ë\\xa0¥ì\\x97\\x85ì²´ë¬¸ì\\x9d\\x98</a></li>\\r\\n\\t\\t\\t\\t                </ul>\\r\\n            </div>\\r\\n\\t\\t\\t            <div class=\"svc-col\">\\r\\n                <h3 class=\"stit\"><a href=\"https://good.bobaedream.co.kr/good/list_sale.php\">ì¤\\x91ê³\\xa0ì\\x9e¥í\\x84°</a></h3>\\r\\n                <ul class=\"svc-list\">\\r\\n\\t\\t\\t\\t\\t\\t\\t\\t<li><a href=\"https://good.bobaedream.co.kr/good/list_sale.php\">ì\\xa0\\x84ì²´ë³´ê¸°</a></li>\\r\\n\\t\\t\\t\\t\\t\\t\\t\\t<li><a href=\"https://good.bobaedream.co.kr/good/list_sale.php?on=old\">ì¤\\x91ê³\\xa0ì\\x9a©í\\x92\\x88 ê²\\x80ì\\x83\\x89</a></li>\\r\\n\\t\\t\\t\\t\\t\\t\\t\\t<li><a href=\"https://good.bobaedream.co.kr/good/list_sale.php?on=new\">ì\\x83\\x88ì\\xa0\\x9cí\\x92\\x88 ê²\\x80ì\\x83\\x89</a></li>\\r\\n\\t\\t\\t\\t\\t\\t\\t\\t<li><a href=\"https://good.bobaedream.co.kr/good/list_sale.php?d1=150\">ì\\x88\\x98ì\\x9e\\x85ì°¨ì\\x9a©í\\x92\\x88 ê²\\x80ì\\x83\\x89</a></li>\\r\\n\\t\\t\\t\\t\\t\\t\\t\\t<li><a href=\"https://good.bobaedream.co.kr/good/home.php\">ì\\x9a©í\\x92\\x88ë\\x93±ë¡\\x9dí\\x95\\x98ê¸°</a></li>\\r\\n\\t\\t\\t\\t\\t\\t\\t\\t<li><a href=\"https://good.bobaedream.co.kr/good/list_mygood.php\">ë\\x82\\x98ì\\x9d\\x98 ì\\x9a©í\\x92\\x88ê´\\x80ë¦¬</a></li>\\r\\n\\t\\t\\t\\t                </ul>\\r\\n            </div>\\r\\n\\t\\t\\t            <div class=\"svc-col\">\\r\\n                <h3 class=\"stit\"><a href=\"/board/bbs.php\">ê²\\x8cì\\x8b\\x9cí\\x8c\\x90</a></h3>\\r\\n                <ul class=\"svc-list\">\\r\\n\\t\\t\\t\\t\\t\\t\\t\\t<li><a href=\"/list?code=best\">ë²\\xa0ì\\x8a¤í\\x8a¸ê¸\\x80</a></li>\\r\\n\\t\\t\\t\\t\\t\\t\\t\\t<li><a href=\"/list?code=freeb\">ì\\x9e\\x90ì\\x9c\\xa0ê²\\x8cì\\x8b\\x9cí\\x8c\\x90</a></li>\\r\\n\\t\\t\\t\\t\\t\\t\\t\\t<li><a href=\"/list?code=politic\">ì\\xa0\\x95ì¹\\x98ê²\\x8cì\\x8b\\x9cí\\x8c\\x90</a></li>\\r\\n\\t\\t\\t\\t\\t\\t\\t\\t<li><a href=\"/list?code=battle\">ì\\x8b\\x9cì\\x8a¹ê¸°Â·ë°°í\\x8b\\x80Â·ëª©ê²©ë\\x8b´</a></li>\\r\\n\\t\\t\\t\\t\\t\\t\\t\\t<li><a href=\"/list?code=famous\">ì\\x9c\\xa0ëª\\x85ì\\x9d¸ì\\x9d\\x98 ì°¨</a></li>\\r\\n\\t\\t\\t\\t\\t\\t\\t\\t<li><a href=\"/list?code=nnews\">ì\\x9e\\x90ë\\x8f\\x99ì°¨ë\\x89´ì\\x8a¤</a></li>\\r\\n\\t\\t\\t\\t\\t\\t\\t\\t<li><a href=\"/list?code=bbstory\">ë³´ë°°ë\\x93\\x9cë¦¼ ì\\x9d´ì\\x95¼ê¸°</a></li>\\r\\n\\t\\t\\t\\t\\t\\t\\t\\t<li><a href=\"/list?code=bb_talk\">ì\\xa0\\x9cì\\x95\\x88Â·ê±´ì\\x9d\\x98</a></li>\\r\\n\\t\\t\\t\\t\\t\\t\\t\\t<li><a href=\"/event/event_list.php?event_gubun=1\">ì\\x9d´ë²¤í\\x8a¸</a></li>\\r\\n\\t\\t\\t\\t                </ul>\\r\\n            </div>\\r\\n\\t\\t\\t            <div class=\"svc-col\">\\r\\n                <h3 class=\"stit\"><a href=\"/board/data.php\">ì\\x9e\\x90ë£\\x8cì\\x8b¤</a></h3>\\r\\n                <ul class=\"svc-list\">\\r\\n\\t\\t\\t\\t\\t\\t\\t\\t<li><a href=\"/list?code=strange\">ì\\x9c\\xa0ë¨¸ê²\\x8cì\\x8b\\x9cí\\x8c\\x90</a></li>\\r\\n\\t\\t\\t\\t\\t\\t\\t\\t<li><a href=\"/list?code=accident\">êµ\\x90í\\x86µì\\x82¬ê³\\xa0Â·ì\\x82¬ê±´Â·ë¸\\x94ë°\\x95</a></li>\\r\\n\\t\\t\\t\\t\\t\\t\\t\\t<li><a href=\"/list?code=national\">êµ\\xadì\\x82°ì°¨ê²\\x8cì\\x8b\\x9cí\\x8c\\x90</a></li>\\r\\n\\t\\t\\t\\t\\t\\t\\t\\t<li><a href=\"/list?code=import\">ì\\x88\\x98ì\\x9e\\x85ì°¨ê²\\x8cì\\x8b\\x9cí\\x8c\\x90</a></li>\\r\\n\\t\\t\\t\\t\\t\\t\\t\\t<li><a href=\"/list?code=hotcar\">ë\\x82´ì°¨ì\\x82¬ì§\\x84</a></li>\\r\\n\\t\\t\\t\\t\\t\\t\\t\\t<li><a href=\"/list?code=dica\">ì§\\x81ì°\\x8dÂ·í\\x8a¹ì¢\\x85ë°\\x9cê²¬</a></li>\\r\\n\\t\\t\\t\\t\\t\\t\\t\\t<li><a href=\"/list?code=special\">ì\\x9e\\x90ë\\x8f\\x99ì°¨ì\\x82¬ì§\\x84Â·ë\\x8f\\x99ì\\x98\\x81ì\\x83\\x81</a></li>\\r\\n\\t\\t\\t\\t\\t\\t\\t\\t<li><a href=\"/list?code=wheel\">ì\\x9e¥ì°©ì\\x8b\\x9cê³µì\\x82¬ì§\\x84</a></li>\\r\\n\\t\\t\\t\\t\\t\\t\\t\\t<li><a href=\"/list?code=music\">ì\\x9e\\x90ì\\x9c\\xa0ì\\x82¬ì§\\x84Â·ë\\x8f\\x99ì\\x98\\x81ì\\x83\\x81</a></li>\\r\\n\\t\\t\\t\\t\\t\\t\\t\\t<li><a href=\"/list?code=girl\">ë\\xa0\\x88ì\\x9d´ì\\x8b±ëª¨ë\\x8d¸</a></li>\\r\\n\\t\\t\\t\\t\\t\\t\\t\\t<li><a href=\"/list?code=army\">êµ°ì\\x82¬Â·ë¬´ê¸°</a></li>\\r\\n\\t\\t\\t\\t\\t\\t\\t\\t<li><a href=\"/list?code=truck\">í\\x8a¸ë\\x9f\\xadÂ·ë²\\x84ì\\x8a¤Â·ì¤\\x91ê¸°</a></li>\\r\\n\\t\\t\\t\\t\\t\\t\\t\\t<li><a href=\"/list?code=skybr\">í\\x95\\xadê³µÂ·í\\x95´ì\\x9a´Â·ì²\\xa0ë\\x8f\\x84</a></li>\\r\\n\\t\\t\\t\\t\\t\\t\\t\\t<li><a href=\"/list?code=bike\">ì\\x98¤í\\x86\\xa0ë°\\x94ì\\x9d´Â·ì\\x9e\\x90ì\\xa0\\x84ê±°</a></li>\\r\\n\\t\\t\\t\\t\\t\\t\\t\\t<li><a href=\"/list?code=vi\">ì\\x98¬ë\\x93\\x9cì¹´Â·ì¶\\x94ì\\x96µê±°ë¦¬</a></li>\\r\\n\\t\\t\\t\\t                </ul>\\r\\n            </div>\\r\\n\\t\\t\\t            <div class=\"svc-col\">\\r\\n                <h3 class=\"stit\"><a href=\"/\">í\\x85\\x8cë§\\x88ë³\\x84</a></h3>\\r\\n                <ul class=\"svc-list\">\\r\\n\\t\\t\\t\\t\\t\\t\\t\\t<li><a href=\"/event/event_list.php?event_gubun=1\">ë³´ë°°ë\\x93\\x9cë¦¼ ì\\x9d´ë²¤í\\x8a¸</a></li>\\r\\n\\t\\t\\t\\t                </ul>\\r\\n            </div>\\r\\n\\t\\t\\t        </div>\\r\\n        <!-- //[E] service-all-area -->\\r\\n    </div>\\r\\n</div>\\r\\n<!-- //bobaeService -->\\r\\n\\r\\n  <div class=\"comcontent\" id=\"Content\" tabindex=\"0\">\\r\\n    <div class=\"conLeft\">\\r\\n<form name=\"form_login\" method=\"post\" action=\"https://security.bobaedream.co.kr/member/MemLoginCtrl.php\" onsubmit=\"return login_chk();\">\\r\\n  <input type=\"hidden\" name=\"page\" id=\"page\" value=\"http://www.bobaedream.co.kr/list?code=import\" />\\t      \\r\\n      <div class=\"log_in\">\\r\\n\\t\\t\\t<fieldset>\\r\\n\\t\\t\\t\\t <input type=\"checkbox\" name=\"loginKEEP\" id=\"save_keep\" value=\"Y\" onclick=\"onAutoLoginClick();\" /><label for=\"save_keep\"><span class=\"log_in_text\">ë¡\\x9cê·¸ì\\x9d¸ ì\\x83\\x81í\\x83\\x9c ì\\x9c\\xa0ì§\\x80</span></label>\\r\\n\\t\\t\\t\\t <input type=\"text\" value=\"ì\\x95\\x84ì\\x9d´ë\\x94\\x94\" id=\"ID4\" name=\"ID\" class=\"id\" title=\"ì\\x95\\x84ì\\x9d´ë\\x94\\x94ì\\x9e\\x85ë\\xa0¥\"  />\\r\\n\\t\\t\\t\\t <input type=\"text\" name=\"password\" id=\"03\" title=\"ë¹\\x84ë°\\x80ë²\\x88í\\x98¸\" value=\"ë¹\\x84ë°\\x80ë²\\x88í\\x98¸\" class=\"password_position\" />\\r\\n\\t\\t\\t\\t <input type=\"password\" id=\"Passwd5\" name=\"Passwd\" class=\"password_position\" title=\"ë¹\\x84ë°\\x80ë²\\x88í\\x98¸ì\\x9e\\x85ë\\xa0¥\" style=\"display:none;\" onkeydown=\"Enter_Check();\" />\\r\\n\\t\\t\\t\\t <input type=\"button\" name=\"login_button\" id=\"04\" title=\"ë¡\\x9cê·¸ì\\x9d¸\" value=\"ë¡\\x9cê·¸ì\\x9d¸\" onclick=\"return login_chk(\\'b\\');\" />\\t\\t\\t\\t \\t\\t\\t\\t \\r\\n\\t\\t\\t </fieldset>\\r\\n\\t\\t\\t <ul>\\r\\n\\t\\t\\t\\t<li><a href=\"https://security.bobaedream.co.kr/member/join/sfindID_new.php\">ì\\x95\\x84ì\\x9d´ë\\x94\\x94</a>/<a href=\"https://security.bobaedream.co.kr/member/join/sfindPASS_new.php\">ë¹\\x84ë°\\x80ë²\\x88í\\x98¸ì°¾ê¸°</a></li>\\r\\n\\t\\t\\t\\t<li class=\"line\">l</li>\\t\\t\\t \\t\\r\\n\\t\\t\\t\\t<li><a href=\"https://security.bobaedream.co.kr/member/join/register_choice_renew.php\">í\\x9a\\x8cì\\x9b\\x90ê°\\x80ì\\x9e\\x85</a></li>\\r\\n\\t\\t\\t\\t<li class=\"ico_naver\"><a href=\"javascript:void(window.open(\\'https://security.bobaedream.co.kr/member/nid.php\\', \\'nid_login\\', \\'width=500,height=517, top=24,left=0,toolbar=no,location=no,directories=no,status=no,menubar=no,scrollbars=no,resizable=no,copyhistory=no\\'));\"><img src=\"//image.bobaedream.co.kr/renew/images/bobae_renew/btn_naver.gif\" alt=\"ë\\x84¤ì\\x9d´ë²\\x84\" /></a></li>\\t\\t\\t\\t\\r\\n\\t\\t\\t </ul>\\r\\n      </div>\\r\\n</form>\\r\\n<script type=\"text/javascript\">\\r\\n  //  <![CDATA[\\r\\n$(function(){\\r\\n\\r\\n\\t$(\\'input.id\\').focusin(function(){\\r\\n\\t\\tif($(this).val() == \\'ì\\x95\\x84ì\\x9d´ë\\x94\\x94\\') {\\r\\n\\t\\t\\t$(this).val(\\'\\');\\r\\n\\t\\t}\\r\\n\\t});\\r\\n\\t$(\\'input.id\\').focusout(function(){\\r\\n\\t\\tif($(this).val() == \\'\\') {\\r\\n\\t\\t\\t$(this).val(\\'ì\\x95\\x84ì\\x9d´ë\\x94\\x94\\');\\r\\n\\t\\t}\\r\\n\\t});\\r\\n\\r\\n\\r\\n\\t$(\\'#03\\').focusin(function(){\\r\\n\\t\\t$(\\'#03\\').hide();\\r\\n\\t\\t$(\\'#Passwd5\\').show();\\r\\n\\t\\t$(\\'#Passwd5\\').focus();\\r\\n\\t});\\r\\n\\t$(\\'#Passwd5\\').focusout(function(){\\r\\n\\t\\tif($(\\'#Passwd5\\').val() == \\'\\') {\\r\\n\\t\\t\\t$(\\'#Passwd5\\').hide();\\r\\n\\t\\t\\t$(\\'#03\\').show();\\r\\n\\t\\t}\\r\\n\\t});\\r\\n});\\r\\n\\tfunction login_chk(b) {\\r\\n    if (document.form_login.ID.value.replace(/ /g,\"\") == \"\" || document.form_login.ID.value == \"ì\\x95\\x84ì\\x9d´ë\\x94\\x94\") {\\r\\n      alert(\"ì\\x95\\x84ì\\x9d´ë\\x94\\x94ë¥¼ ì\\x9e\\x85ë\\xa0¥í\\x95\\x98ì\\x84¸ì\\x9a\\x94.\");\\r\\n      document.form_login.ID.focus();\\r\\n      return false;\\r\\n    } else if (document.form_login.Passwd.value.replace(/ /g,\"\") == \"\") {\\r\\n      alert(\"ë¹\\x84ë°\\x80ë²\\x88í\\x98¸ë¥¼ ì\\x9e\\x85ë\\xa0¥í\\x95\\x98ì\\x84¸ì\\x9a\\x94.\");\\r\\n      $(\\'#03\\').focus();\\r\\n      return false;\\r\\n    }\\r\\n    \\r\\n    if(b) document.form_login.submit();\\r\\n  }\\r\\n  \\r\\n\\tfunction Enter_Check(){\\t        \\r\\n\\t\\tif(event.keyCode == 13){\\r\\n\\t\\t\\tlogin_chk(\\'b\\');\\r\\n\\t\\t\\treturn;\\r\\n\\t\\t}\\r\\n\\t}  \\r\\n  // ]]>\\r\\n</script>\\r\\n\\r\\n\\t<script type=\"text/javascript\">\\r\\n\\t\\tfunction onAutoLoginClick() {\\r\\n\\t\\t\\tif (document.form_login.loginKEEP.checked) {\\r\\n\\t\\t\\t\\talert(\"ì\\x9e\\x90ë\\x8f\\x99ë¡\\x9cê·¸ì\\x9d¸ ì\\x84¤ì\\xa0\\x95 í\\x9b\\x84 ë³\\x84ë\\x8f\\x84ì\\x9d\\x98 ë¡\\x9cê·¸ì\\x95\\x84ì\\x9b\\x83ì\\x9d\\x84\\\\n í\\x95\\x98ì§\\x80 ì\\x95\\x8aì\\x9c¼ë©´, ë¡\\x9cê·¸ì\\x9d¸ ì\\x83\\x81í\\x83\\x9cê°\\x80 ì\\x9c\\xa0ì§\\x80ë\\x90\\x98ë¯\\x80ë¡\\x9c\\\\n ì\\x9d´ì\\xa0\\x90 ì\\x9c\\xa0ì\\x9d\\x98í\\x95\\x98ì\\x8b\\x9cê¸° ë°\\x94ë\\x9e\\x8dë\\x8b\\x88ë\\x8b¤.\");\\r\\n\\t\\t\\t}\\r\\n\\t\\t}\\r\\n\\t</script>\\t      <div class=\"leftMenu\">\\r\\n\\r\\n\\t\\t<div class=\"left_con\">\\r\\n        <h4><img src=\"//image.bobaedream.co.kr/renew/images/title/title_community_left_02.gif\" alt=\"ì\\x9e\\x90ë£\\x8cì\\x8b¤\" /></h4>\\r\\n\\t\\t<div class=\"list_left\">\\r\\n        <ul>\\r\\n          <li><a href=\"/list?code=strange\">ì\\x9c\\xa0ë¨¸ê²\\x8cì\\x8b\\x9cí\\x8c\\x90</a></li>\\r\\n\\t    <li><a href=\"/list?code=accident\">êµ\\x90í\\x86µì\\x82¬ê³\\xa0/ì\\x82¬ê±´/ë¸\\x94ë°\\x95</a></li>\\r\\n          <li><a href=\"/list?code=national\">êµ\\xadì\\x82°ì°¨ê²\\x8cì\\x8b\\x9cí\\x8c\\x90</a></li>\\r\\n          <li><a href=\"/list?code=import\"><span class=\"hilight\">ì\\x88\\x98ì\\x9e\\x85ì°¨ê²\\x8cì\\x8b\\x9cí\\x8c\\x90</span></a></li>\\r\\n          <li><a href=\"/list?code=hotcar\">ë\\x82´ì°¨ì\\x82¬ì§\\x84</a></li>\\r\\n          <li><a href=\"/list?code=dica\">ì§\\x81ì°\\x8d/í\\x8a¹ì¢\\x85ë°\\x9cê²¬</a></li>\\r\\n          <li><a href=\"/list?code=special\">ì\\x9e\\x90ë\\x8f\\x99ì°¨ì\\x82¬ì§\\x84/ë\\x8f\\x99ì\\x98\\x81ì\\x83\\x81</a></li>    \\r\\n        </ul>\\r\\n\\t\\t</div>\\r\\n\\t\\t<div class=\"list\">\\r\\n\\t\\t<ul>\\r\\n          <li><a href=\"/list?code=girl\">ë\\xa0\\x88ì\\x9d´ì\\x8b±ëª¨ë\\x8d¸</a></li>\\t\\t  \\r\\n\\t\\t\\t\\t\\t<li><a href=\"/list?code=music\">ì\\x9e\\x90ì\\x9c\\xa0ì\\x82¬ì§\\x84/ë\\x8f\\x99ì\\x98\\x81ì\\x83\\x81</a></li>                           \\r\\n          <li><a href=\"/list?code=army\">êµ°ì\\x82¬/ë¬´ê¸°</a></li>\\r\\n          <li><a href=\"/list?code=truck\">í\\x8a¸ë\\x9f\\xad/ë²\\x84ì\\x8a¤/ì¤\\x91ê¸°</a></li>\\r\\n          <li><a href=\"/list?code=skybr\">í\\x95\\xadê³µ/í\\x95´ì\\x9a´/ì²\\xa0ë\\x8f\\x84</a></li>\\r\\n\\t      \\t<li><a href=\"/list?code=vi\">ì\\x98¬ë\\x93\\x9cì¹´/ì¶\\x94ì\\x96µê±°ë¦¬</a></li>\\r\\n\\t\\t  <li class=\"end\"><a href=\"/list?code=wheel\">ì\\x9e¥ì°©ì\\x8b\\x9cê³µì\\x82¬ì§\\x84</a></li>\\r\\n        </ul>\\r\\n\\t\\t</div>\\r\\n\\t\\t</div>\\r\\n  \\r\\n\\t\\t<div class=\"left_con\">\\r\\n        <h4><img src=\"//image.bobaedream.co.kr/renew/images/title/title_community_left_01.gif\" alt=\"ê²\\x8cì\\x8b\\x9cí\\x8c\\x90\" /></h4>\\r\\n\\t\\t<div class=\"list_left\">\\r\\n        <ul>\\r\\n          <li><a href=\"/list?code=best\">ë²\\xa0ì\\x8a¤í\\x8a¸ê¸\\x80</a></li>\\r\\n          <li><a href=\"/list?code=freeb\">ì\\x9e\\x90ì\\x9c\\xa0ê²\\x8cì\\x8b\\x9cí\\x8c\\x90</a></li>\\r\\n\\t\\t\\t\\t\\t<li><a href=\"/list?code=politic\">ì\\xa0\\x95ì¹\\x98ê²\\x8cì\\x8b\\x9cí\\x8c\\x90</a></li>          \\r\\n\\t    \\t\\t<li><a href=\"/list?code=battle\">ì\\x8b\\x9cì\\x8a¹ê¸°/ë°°í\\x8b\\x80/ëª©ê²©ë\\x8b´</a></li>          \\r\\n        </ul>\\r\\n\\t\\t</div>\\r\\n\\t\\t<div class=\"list\">\\r\\n\\t\\t<ul>\\r\\n\\t\\t\\t\\t\\t<li><a href=\"/list?code=famous\">ì\\x9c\\xa0ëª\\x85ì\\x9d¸ì\\x9d\\x98 ì°¨</a></li>\\t\\t\\r\\n\\t\\t\\t\\t\\t<li><a href=\"/list?code=ad\">ì\\x84±ì\\x9d¸ê²\\x8cì\\x8b\\x9cí\\x8c\\x90</a></li>\\t\\t\\r\\n          <li><a href=\"/list?code=nnews\">ì\\x9e\\x90ë\\x8f\\x99ì°¨ë\\x89´ì\\x8a¤</a></li>          \\r\\n\\t    \\t\\t<li class=\"end\"><a href=\"/partner/partner_main.php\">í\\x98\\x91ë\\xa0¥ì\\x97\\x85ì²´</a></li>\\r\\n        </ul>\\r\\n\\t\\t</div>\\r\\n\\t\\t</div>\\r\\n  \\r\\n\\t\\t<div class=\"left_con\">\\r\\n        <h4><img src=\"//image.bobaedream.co.kr/renew/images/title/title_community_left_03.gif\" alt=\"ê¸°í\\x83\\x80\" /></h4>\\r\\n\\t\\t<div class=\"list_left\">\\r\\n        <ul>\\r\\n          <li><a href=\"/event/event_list.php?event_gubun=1\">ì\\x9d´ë²¤í\\x8a¸</a></li>\\r\\n          <li><a href=\"/list.php?code=event_notice\">ê³µì§\\x80ì\\x82¬í\\x95\\xad</a></li>\\r\\n          <li class=\"end\"><a href=\"/partner/partner_main.php\">ì\\x97\\x85ì²´ê²\\x80ì\\x83\\x89</a></li>\\r\\n        </ul>\\r\\n\\t\\t</div>\\r\\n\\t\\t<div class=\"list\">\\r\\n\\t\\t <ul class=\"list\">\\r\\n          <li><a href=\"/list?code=bb_talk\">ì\\xa0\\x9cì\\x95\\x88/ê±´ì\\x9d\\x98</a></li>\\r\\n          <li><a href=\"/list?code=bbstory\">ë³´ë°°ë\\x93\\x9cë¦¼ ì\\x9d´ì\\x95¼ê¸°</a></li>\\r\\n        </ul>\\r\\n\\t\\t</div>\\r\\n\\t\\t</div>\\r\\n        </div>\\r\\n\\t  <div class=\"left_con_last\">\\r\\n<a href=\"https://www.bobaedream.co.kr/partner/partner_view.php?no=612\" id=\"cooperate_info0\" style=\"display:none;\"><p class=\"left_con_p\"><img src=\"//file4.bobaedream.co.kr/partner/special/2019/10/25/1571967479_c.jpg\" alt=\"í\\x83\\x80ì\\x8a¤ì¹´ëª¨í\\x84°ì\\x8a¤\" style=\"width:69px;height:69px;\" /></p><ul class=\"left_con_ul\"><li><span>í\\x83\\x80ì\\x8a¤ì¹´ëª¨í\\x84°ì\\x8a¤</span></li><li>ì\\x88\\x98ì\\x9e\\x85ì°¨ë¶\\x80í\\x92\\x88</li><li>042-320-5820</li></ul></a><a href=\"https://www.bobaedream.co.kr/partner/partner_view.php?no=546\" id=\"cooperate_info1\" style=\"display:none;\"><p class=\"left_con_p\"><img src=\"//file4.bobaedream.co.kr/partner/special/2019/03/27/1553650758_c.jpg\" alt=\"í\\x81´ë\\x9f½ì\\x98¤ë\\xa0\\x8cì§\\x80\" style=\"width:69px;height:69px;\" /></p><ul class=\"left_con_ul\"><li><span>í\\x81´ë\\x9f½ì\\x98¤ë\\xa0\\x8cì§\\x80</span></li><li>í\\x83\\x80ì\\x9d´ì\\x96´</li><li>010-2954-2158</li></ul></a><a href=\"https://www.bobaedream.co.kr/partner/partner_view.php?no=1003\" id=\"cooperate_info2\" style=\"display:none;\"><p class=\"left_con_p\"><img src=\"//file4.bobaedream.co.kr/partner/special/2017/11/27/1511742975_c.jpg\" alt=\"SMì\\x9d¸í\\x84°ë\\x82´ì\\x85\\x94ë\\x84\\x90\" style=\"width:69px;height:69px;\" /></p><ul class=\"left_con_ul\"><li><span>SMì\\x9d¸í\\x84°ë\\x82´ì\\x85\\x94ë\\x84\\x90</span></li><li>ì\\x88\\x98ì\\x9e\\x85ì°¨ë¶\\x80í\\x92\\x88</li><li></li></ul></a><a href=\"https://www.bobaedream.co.kr/partner/partner_view.php?no=538\" id=\"cooperate_info3\" style=\"display:none;\"><p class=\"left_con_p\"><img src=\"//file4.bobaedream.co.kr/partner/special/2017/05/19/1495176726_c.jpg\" alt=\"ì\\x9d¸ì¹\\x98ì\\x97\\x85ë\\x82\\x98ë\\x9d¼\" style=\"width:69px;height:69px;\" /></p><ul class=\"left_con_ul\"><li><span>ì\\x9d¸ì¹\\x98ì\\x97\\x85ë\\x82\\x98ë\\x9d¼</span></li><li>í\\x9c\\xa0/í\\x83\\x80ì\\x9d´ì\\x96´</li><li>010-6676-7732</li></ul></a>      </div>     \\r\\n      <div class=\"sns\">\\r\\n\\t\\t<span class=\"title\">ë³´ë°°ë\\x93\\x9cë¦¼ SNS</span>\\r\\n\\t\\t<div class=\"sns_03\">\\r\\n\\t\\t\\t<ul>\\r\\n\\t\\t\\t\\t<li><a href=\"https://www.facebook.com/bobaedream\"><img src=\"//image.bobaedream.co.kr/renew/images/common_re/face.gif\" alt=\"í\\x8e\\x98ì\\x9d´ì\\x8a¤ë¶\\x81\" /></a></li>\\r\\n\\t\\t\\t\\t<li><a href=\"https://www.youtube.com/channel/UCLwH6qjWELskt7sGT2b3FOg\"><img src=\"//image.bobaedream.co.kr/renew/images/common_re/youtube.gif\" alt=\"ì\\x9c\\xa0í\\x8a\\x9cë¸\\x8c\" /></a></li>\\r\\n\\t\\t\\t\\t<li><a href=\"https://twitter.com/bobae_dream\"><img src=\"//image.bobaedream.co.kr/renew/images/common_re/twitt.gif\" alt=\"í\\x8a¸ì\\x9c\\x84í\\x84°\" /></a></li>\\r\\n\\t\\t\\t\\t<li><a href=\"http://blog.naver.com/bobae_dream\"><img src=\"//image.bobaedream.co.kr/renew/images/common_re/naverblog.gif\" alt=\"ë\\x84¤ì\\x9d´ë²\\x84ë¸\\x94ë¡\\x9cê·¸\" /></a></li>\\r\\n\\t\\t\\t\\t<li><a href=\"https://instagram.com/bobaedream\"><img src=\"//image.bobaedream.co.kr/renew/images/common_re/insta.gif\" alt=\"ì\\x9d¸ì\\x8a¤í\\x83\\x80ê·¸ë\\x9e¨\" /></a></li>\\r\\n\\t\\t\\t</ul>\\r\\n\\t\\t</div>\\r\\n      </div>\\r\\n    </div>\\r\\n<script type=\"text/javascript\">\\r\\n  //  <![CDATA[\\r\\n  rnum = getRandomInt(0,4);\\r\\n  document.getElementById(\"cooperate_info\"+rnum).style.display = \"\";\\r\\n\\r\\n  // ]]>\\r\\n</script>    <div class=\"conRight\">\\r\\n      <div class=\"titleArea02\">\\r\\n        <h2><img src=\"//image.bobaedream.co.kr/renew/images/title/title_community_import.gif?v=3\" alt=\"ì\\x88\\x98ì\\x9e\\x85ì°¨ê²\\x8cì\\x8b\\x9cí\\x8c\\x90\" /></h2>\\r\\n                  </div>\\r\\n\\t\\t\\t<div class=\"cList\" style=\"margin-top:3px;\">\\r\\n  \\t\\r\\n\\r\\n        <div style=\"display:none;\">\\r\\n          <img style=\"margin-left:5px;display: none;\" id=\"calImg\" src=\"//image.bobaedream.co.kr/renew/images/common/btn_s05_cal.gif\" alt=\"Popup\" class=\"trigger\" />\\r\\n        </div>\\r\\n        <div class=\"cListSearch\">\\r\\n          <div class=\"clistSearch01\" style=\"margin-top:3px\">\\r\\n<a class=\"bsubject\" href=\"https://www.bobaedream.co.kr/view?code=event_notice&No=361\" target=\"_blank\">[ê³µì§\\x80] ë³´ë°°ë\\x93\\x9cë¦¼ ì»¤ë®¤ë\\x8b\\x88í\\x8b° ì\\x9a´ì\\x98\\x81ì\\xa0\\x95ì±\\x85</a>            <!-- img class=\"alim\" src=\"//image.bobaedream.co.kr/renew/images/bobae_renew/notify.gif\" alt=\"ê³µì§\\x80\" / -->\\r\\n          </div>\\r\\n\\r\\n          <div class=\"clistSearch03\">\\r\\n   <label for=\"noticeblind\"></label>      \\r\\n\\t<!--\\r\\n            <select onchange=\"sdays(this.value, \\'\\');\" style=\"width:77px;\">\\r\\n              <option value=\"\"     selected=\\'selected\\'>ì\\xa0\\x84ì²´ê¸°ê°\\x84</option>\\r\\n              <option value=\"7\"   >1ì£¼ì\\x9d¼</option>\\r\\n              <option value=\"15\"  >15ì\\x9d¼</option>\\r\\n              <option value=\"30\"  >1ê°\\x9cì\\x9b\\x94</option>\\r\\n              <option value=\"90\"  >3ê°\\x9cì\\x9b\\x94</option>\\r\\n            </select>\\t-->\\r\\n            <select class=\"clistSearch03_arrow\" onchange=\"spageScale(this.value);\" title=\" \">\\r\\n              <option value=\"70\" >70ê°\\x9cì\\x94©</option>\\r\\n              <option value=\"50\" >50ê°\\x9cì\\x94©</option>\\r\\n              <option value=\"40\" >40ê°\\x9cì\\x94©</option>\\r\\n              <option value=\"30\"  selected=\\'selected\\'>30ê°\\x9cì\\x94©</option>\\r\\n                      <option value=\"20\" >20ê°\\x9cì\\x94©</option>\\r\\n              <option value=\"10\" >10ê°\\x9cì\\x94©</option>\\r\\n\\t\\t\\t\\t              \\r\\n            </select>\\r\\n\\r\\n            <a href=\"/board/bulletin/write?code=import\"><img src=\"//image.bobaedream.co.kr/renew/images/common/btn_writing_new.gif\" alt=\"ê¸\\x80ì\\x93°ê¸°\" /></a>\\r\\n          </div>\\r\\n        </div>\\r\\n<script type=\"text/javascript\">\\r\\n  //  <![CDATA[\\r\\n  function sdays(ord, flag) {\\r\\n    var str = \"\";\\r\\n    var frm = window.document.sform2;\\r\\n    if (str) {\\r\\n      frm.s_key.value = str;\\r\\n    }\\r\\n    frm.s_selday.value = ord;\\r\\n    if (!flag) frm.submit();\\r\\n  }\\r\\n\\r\\n  function sgus(ord) {\\r\\n    var str = \"\";\\r\\n    var frm = window.document.sform2;\\r\\n\\r\\n    if (str) {\\r\\n      frm.s_key.value = str;\\r\\n    }\\r\\n    var or_se = \"desc\";\\r\\n    var or_gu = \"10\";\\r\\n\\r\\n    if (or_gu == ord) {\\r\\n      if (or_se == \"desc\") {\\r\\n        frm.or_se.value = \"asc\";\\r\\n      } else {\\r\\n        frm.or_se.value = \"desc\";\\r\\n      }\\r\\n    } else {\\r\\n      frm.or_se.value = \"desc\";\\r\\n    }\\r\\n    frm.or_gu.value = ord;\\r\\n    frm.submit();\\r\\n  }\\r\\n\\r\\n  function spageScale(ord) {\\r\\n    var str = \"\";\\r\\n    var frm = window.document.sform2;\\r\\n    if (str) {\\r\\n      frm.s_key.value = str;\\r\\n    }\\r\\n    frm.pagescale.value = ord;\\r\\n    frm.submit();\\r\\n  }\\r\\n\\r\\n  function sBestDays(code, days, strNext) {\\r\\n    var str = \"\";\\r\\n    var frm = window.document.sform2;\\r\\n    if (str) {\\r\\n      frm.s_key.value = str;\\r\\n    }\\r\\n    frm.bestCode.value = code;\\r\\n    frm.bestDays.value = days;\\r\\n    if (strNext == \"next\") {\\r\\n      frm.bestNext.value = strNext;\\r\\n    }\\r\\n    frm.submit();\\r\\n  }\\r\\n\\r\\n  function sBestCode(bbscode) {\\r\\n    var str = \"\";\\r\\n    var frm = window.document.sform2;\\r\\n    if (str) {\\r\\n      frm.s_key.value = str;\\r\\n    }\\r\\n    frm.bestbbs.value = bbscode;\\r\\n    frm.submit();\\r\\n  }\\r\\n  function noticeBlind() {\\r\\n    var str = \"\";\\r\\n    var frm = window.document.sform2;\\r\\n    if (str) {\\r\\n      frm.s_key.value = str;\\r\\n    }\\r\\n    if ($(\"#noticeblind\").is(\":checked\") == true) {\\r\\n      frm.noticeShow.value = \"blind\";\\r\\n    } else {\\r\\n      frm.noticeShow.value = \"\";\\r\\n    }\\r\\n    frm.submit();\\r\\n  }\\r\\n  // ]]>\\r\\n</script>\\r\\n        \\r\\n    <table id=\"boardlist\" class=\"clistTable02\" cellspacing=\"0\" cellpadding=\"0\" summary=\"ì\\x9d´ í\\x91\\x9cë\\x8a\\x94 ê²\\x8cì\\x8b\\x9cí\\x8c\\x90 ì\\x88\\x98ì\\x9e\\x85ì°¨ê²\\x8cì\\x8b\\x9cí\\x8c\\x90 ëª©ë¡\\x9dì\\x9c¼ë¡\\x9c ì´\\x9d 6ì\\x97´ë¡\\x9c êµ¬ì\\x84±ë\\x90\\x98ì\\x96´ ì\\x9e\\x88ì\\x9c¼ë©° ì\\x88\\x9cì\\x9c\\x84, ì\\xa0\\x9cëª©, ê¸\\x80ì\\x93´ì\\x9d´, ë\\x93±ë¡\\x9dì\\x9d¼, ì¶\\x94ì²\\x9c, ì¡°í\\x9a\\x8c ì\\x88\\x9cì\\x84\\x9cì\\x9e\\x85ë\\x8b\\x88ë\\x8b¤.\">\\r\\n\\t\\t\\t<caption>ì\\x88\\x98ì\\x9e\\x85ì°¨ê²\\x8cì\\x8b\\x9cí\\x8c\\x90 ëª©ë¡\\x9d</caption>\\r\\n          <colgroup>\\r\\n                        <col width=\"60\" />\\r\\n            <col width=\"*\" />\\r\\n            <col width=\"120\" />\\r\\n            <col width=\"52\" />\\r\\n            <col width=\"41\" />\\r\\n            <col width=\"53\" />\\r\\n          </colgroup>\\r\\n          <thead>\\r\\n            <tr>\\r\\n                            <th scope=\"col\">ë²\\x88í\\x98¸</th>\\r\\n              <th scope=\"col\">ì\\xa0\\x9cëª©</th>\\r\\n              <th class=\"align_left\" scope=\"col\">ê¸\\x80ì\\x93´ì\\x9d´</th>\\r\\n              <th scope=\"col\"><a href=\"javascript:sgus(\\'10\\');\">ë\\x93±ë¡\\x9dì\\x9d¼<img src=\"//image.bobaedream.co.kr/renew/images/common/ico_b7_down_new.gif\" alt=\"ë\\x8d\\x94ë³´ê¸°\" /></a></th>\\r\\n              <th scope=\"col\"><a href=\"javascript:sgus(\\'30\\');\">ì¶\\x94ì²\\x9c<img src=\"//image.bobaedream.co.kr/renew/images/common/ico_b7_down_new.gif\" alt=\"ë\\x8d\\x94ë³´ê¸°\" /></a></th>\\r\\n              <th scope=\"col\"><a href=\"javascript:sgus(\\'20\\');\">ì¡°í\\x9a\\x8c<img src=\"//image.bobaedream.co.kr/renew/images/common/ico_b7_down_new.gif\" alt=\"ë\\x8d\\x94ë³´ê¸°\" /></a></th>              \\r\\n            </tr>\\r\\n          </thead>\\r\\n          <tbody>\\r\\n<tr class=\"best\"><td class=\"c\"><img src=\"//image.bobaedream.co.kr/renew/images/bobae_renew/num01.gif\" alt=\"1rank\"   class=\"imgmargin\" /></td><td><a class=\"bsubject\" href=\"/view?code=import&No=697573&rtn=%2Flist%3Fcode%3Dimport\" title=\"ë²¤ë¹\\x84ì\\x95\\x84 ì\\xa0\\x84ê¸°ì°¨ ì\\x82¬ì\\x8b\\xa0ë¶\\x84 ëª\\x87ë¶\\x84 ì\\x95\\x88ê³\\x84ì\\x8b\\x9cê²\\x9fì§\\x80ë§\\x8c...\">ë²¤ë¹\\x84ì\\x95\\x84 ì\\xa0\\x84ê¸°ì°¨ ì\\x82¬ì\\x8b\\xa0ë¶\\x84 ëª\\x87ë¶\\x84 ì\\x95\\x88ê³\\x84ì\\x8b\\x9cê²\\x9fì§\\x80ë§\\x8c...</a><a href=\"/view?code=import&No=697573&rtn=%2Flist%3Fcode%3Dimport\" style=\"padding-left:4px;\"><span class=\"Comment\">(<strong class=\"totreply\">17</strong>)</span></a></td><td class=\"author02\"><span onClick=\"javascript:submenu_level(\\'b3BocWZvcGhxcW9waHFkb3BocWdvcGhxcG9waHNob3Boc2tvcGhzaA%3D%3D\\');\" class=\"author_level\"><img class=\"level\" src=\"//image.bobaedream.co.kr/board/level/army_7.gif\" alt=\"ë\\xa0\\x88ë²¨ ì¤\\x91ì\\x82¬ 3\" /></span><span onclick=\"javascript:submenu_show(\\'b3BocWZvcGhxcW9waHFkb3BocWdvcGhxcG9waHNob3Boc2tvcGhzaA%3D%3D\\', \\'Shuri\\');\" class=\"author\" style=\"cursor:pointer;\">Shuri</span></td><td class=\"date\">08/16</td><td class=\"recomm\"><font style=\"color:#ff7234;font-weight:bold;\">86</font><font color=\"#999999\"></font></td><td class=\"count\"><font color=\\'#FF0000\\'>6541</font></td></tr>\\n<tr class=\"best\"><td class=\"c\"><img src=\"//image.bobaedream.co.kr/renew/images/bobae_renew/num02.gif\" alt=\"2rank\"   class=\"imgmargin\" /></td><td><a class=\"bsubject\" href=\"/view?code=import&No=697568&rtn=%2Flist%3Fcode%3Dimport\" title=\"í\\x8f\\xadxxx ë\\x94\\x9cë\\x9f¬ ê³µì±\\x84+ê³\\x84ì\\x95½ê¸\\x88 ê°\\x88ì·¨ì\\x82¬ê±´ ìµ\\x9cì¢\\x85ë³¸(+@ ì\\x8b\\x9cê³µë¹\\x84 í\\x9a¡ë\\xa0¹)\">í\\x8f\\xadxxx ë\\x94\\x9cë\\x9f¬ ê³µì±\\x84+ê³\\x84ì\\x95½ê¸\\x88 ê°\\x88ì·¨ì\\x82¬ê±´ ìµ\\x9cì¢\\x85ë³¸(+@ ì\\x8b\\x9cê³µë¹\\x84 í\\x9a¡ë\\xa0¹)</a><a href=\"/view?code=import&No=697568&rtn=%2Flist%3Fcode%3Dimport\" style=\"padding-left:4px;\"><span class=\"Comment\">(<strong class=\"totreply\">9</strong>)</span></a></td><td class=\"author02\"><span onClick=\"javascript:submenu_level(\\'b3BocWJvcGhxcG9waHIxb3BocXFvcGhzZW9waHNrb3Boc2xvcGhzZQ%3D%3D\\');\" class=\"author_level\"><img class=\"level\" src=\"//image.bobaedream.co.kr/board/level/army_7.gif\" alt=\"ë\\xa0\\x88ë²¨ ì¤\\x91ì\\x82¬ 3\" /></span><span onclick=\"javascript:submenu_show(\\'b3BocWJvcGhxcG9waHIxb3BocXFvcGhzZW9waHNrb3Boc2xvcGhzZQ%3D%3D\\', \\'ì\\x9d\\x91ë\\x8bµí\\x95\\x98ë\\x9d¼1988ì\\x9d´ì\\x97¬\\');\" class=\"author\" style=\"cursor:pointer;\">ì\\x9d\\x91ë\\x8bµí\\x95\\x98ë\\x9d¼198..</span></td><td class=\"date\">08/16</td><td class=\"recomm\"><font style=\"color:#ff7234;font-weight:bold;\">81</font><font color=\"#999999\"></font></td><td class=\"count\"><font color=\\'#565656\\'>4116</font></td></tr>\\n<tr class=\"best\"><td class=\"c\"><img src=\"//image.bobaedream.co.kr/renew/images/bobae_renew/num03.gif\" alt=\"3rank\"   class=\"imgmargin\" /></td><td><a class=\"bsubject\" href=\"/view?code=import&No=697611&rtn=%2Flist%3Fcode%3Dimport\">ì\\x8b\\xa0ì°¨  7% í\\x95\\xa0ì\\x9d¸í\\x95´ ì¤\\x80ë\\x8bµë\\x8b\\x88ë\\x8b¤</a><a href=\"/view?code=import&No=697611&rtn=%2Flist%3Fcode%3Dimport\" style=\"padding-left:4px;\"><span class=\"Comment\">(<strong class=\"totreply\">1</strong>)</span></a></td><td class=\"author02\"><span onClick=\"javascript:submenu_level(\\'b3BocXRvcGhxZW9waHFxb3BocjNvcGhxa29waHFub3BocXBvcGhxbA%3D%3D\\');\" class=\"author_level\"><img class=\"level\" src=\"//image.bobaedream.co.kr/board/level/army_15.gif\" alt=\"ë\\xa0\\x88ë²¨ ë\\x8c\\x80ë\\xa0¹ 3\" /></span><span onclick=\"javascript:submenu_show(\\'b3BocXRvcGhxZW9waHFxb3BocjNvcGhxa29waHFub3BocXBvcGhxbA%3D%3D\\', \\'ì\\x9d¼ì°¨ë¡\\x9cë\\x8a\\x94ì¶\\x94ì\\x9b\\x94ì°¨ë¡\\x9cì\\x9e\\x84\\');\" class=\"author\" style=\"cursor:pointer;\">ì\\x9d¼ì°¨ë¡\\x9cë\\x8a\\x94ì¶\\x94ì\\x9b\\x94ì°¨..</span></td><td class=\"date\">08/18</td><td class=\"recomm\"><font style=\"color:#ff7234;font-weight:bold;\">58</font><font color=\"#999999\"></font></td><td class=\"count\"><font color=\\'#FF0000\\'>13869</font></td></tr>\\n<tr class=\"best\"><td class=\"c\"><img src=\"//image.bobaedream.co.kr/renew/images/bobae_renew/num04.gif\" alt=\"4rank\"   class=\"imgmargin\" /></td><td><a class=\"bsubject\" href=\"/view?code=import&No=697558&rtn=%2Flist%3Fcode%3Dimport\">ì\\x86\\x8cë\\x93\\x9d ì\\x9e\\x90ì\\x82° ë¬´ì\\x8b\\x9cí\\x95\\x98ê³\\xa0  í\\x95\\x98ê³\\xa0 ì\\x8b¶ì\\x9d\\x80ê±° í\\x95\\x98ì\\x84¸ì\\x9a\\x94</a><a href=\"/view?code=import&No=697558&rtn=%2Flist%3Fcode%3Dimport\" style=\"padding-left:4px;\"><span class=\"Comment\">(<strong class=\"totreply\">34</strong>)</span></a></td><td class=\"author02\"><span onClick=\"javascript:submenu_level(\\'b3BocXNvcGhxaW9waHIzb3BocW1vcGhxZm9waHFt\\');\" class=\"author_level\"><img class=\"level\" src=\"//image.bobaedream.co.kr/board/level/army_13.gif\" alt=\"ë\\xa0\\x88ë²¨ ì\\x86\\x8cë\\xa0¹ 2\" /></span><span onclick=\"javascript:submenu_show(\\'b3BocXNvcGhxaW9waHIzb3BocW1vcGhxZm9waHFt\\', \\'í\\x8c\\x8cì§\\x80ì¤\\x8dë\\x8a\\x94ì\\x95\\x84ì\\x9e¬\\');\" class=\"author\" style=\"cursor:pointer;\">í\\x8c\\x8cì§\\x80ì¤\\x8dë\\x8a\\x94ì\\x95\\x84ì\\x9e¬</span></td><td class=\"date\">08/15</td><td class=\"recomm\"><font style=\"color:#ff7234;font-weight:bold;\">35</font><font color=\"#999999\"></font></td><td class=\"count\"><font color=\\'#FF0000\\'>10249</font></td></tr>\\n<tr class=\"best\"><td class=\"c\"><img src=\"//image.bobaedream.co.kr/renew/images/bobae_renew/num05.gif\" alt=\"5rank\"   class=\"imgmargin\" /></td><td><a class=\"bsubject\" href=\"/view?code=import&No=697601&rtn=%2Flist%3Fcode%3Dimport\">X6 M40i ...</a><a href=\"/view?code=import&No=697601&rtn=%2Flist%3Fcode%3Dimport\" style=\"padding-left:4px;\"><span class=\"Comment\">(<strong class=\"totreply\">21</strong>)</span></a></td><td class=\"author02\"><span onClick=\"javascript:submenu_level(\\'b3BocW9vcGhxbm9waHFxb3Boc2RvcGhzZG9waHNkb3Boc2Q%3D\\');\" class=\"author_level\"><img class=\"level\" src=\"//image.bobaedream.co.kr/board/level/army_15.gif\" alt=\"ë\\xa0\\x88ë²¨ ë\\x8c\\x80ë\\xa0¹ 2\" /></span><span onclick=\"javascript:submenu_show(\\'b3BocW9vcGhxbm9waHFxb3Boc2RvcGhzZG9waHNkb3Boc2Q%3D\\', \\'ë\\x8d¥ë\\x8b¤ì\\x97\\x90ì\\x96´ì»¨ì¼\\x9cë\\x9d¼\\');\" class=\"author\" style=\"cursor:pointer;\">ë\\x8d¥ë\\x8b¤ì\\x97\\x90ì\\x96´ì»¨ì¼\\x9cë\\x9d¼</span></td><td class=\"date\">08/18</td><td class=\"recomm\"><font style=\"color:#ff7234;font-weight:bold;\">28</font><font color=\"#999999\"></font></td><td class=\"count\"><font color=\\'#565656\\'>3691</font></td></tr>\\n\\r\\n            <tr itemscope itemtype=\"http://schema.org/Article\">\\r\\n              <td class=\"num01\">396047</td>\\r\\n              <td class=\"pl14\">\\r\\n\\r\\n\\t\\t\\t\\t\\t\\t\\t\\t                <a class=\"bsubject\" style=\"padding:0;\" href=\"/view?code=import&No=697622&bm=1\" title=\"ì¤\\x91ê³\\xa0ì°¨ í\\x9b\\x84ê¸° ë\\x82¨ê²¼ë\\x8a\\x94ë\\x8d° ê²°ê³¼ ë°\\x8f ë²\\x94ì£\\x84ì\\x98\\x88ë°©ì\\x9d\\x84 ì\\x95\\x8cë\\xa0¤ë\\x93\\x9cë¦½ë\\x8b\\x88ë\\x8b¤.\" itemprop=\"name\">ì¤\\x91ê³\\xa0ì°¨ í\\x9b\\x84ê¸° ë\\x82¨ê²¼ë\\x8a\\x94ë\\x8d° ê²°ê³¼ ë°\\x8f ë²\\x94ì£\\x84ì\\x98\\x88ë°©ì\\x9d\\x84 ì\\x95\\x8cë\\xa0¤ë\\x93\\x9cë¦½ë\\x8b\\x88ë\\x8b¤.</a>\\r\\n              </td>\\r\\n              <td class=\"author02\">\\r\\n                <span onClick=\"javascript:submenu_level(\\'b3BocWZvcGhxcW9waHF0b3BocXBvcGhxZm9waHFyb3BocWpvcGhxa29waHF0b3Boc2tvcGhzaW9waHI1b3Bocm0%3D\\');\" class=\"author_level\"><img class=\"level\" src=\"//image.bobaedream.co.kr/board/level/army_2.gif\" alt=\"ë\\xa0\\x88ë²¨ ì\\x9d´ë\\x93±ë³\\x91\" /></span>\\r\\n                \\r\\n                <span onClick=\"javascript:submenu_show(\\'b3BocWZvcGhxcW9waHF0b3BocXBvcGhxZm9waHFyb3BocWpvcGhxa29waHF0b3Boc2tvcGhzaW9waHI1b3Bocm0%3D\\',\\'Bë°\\x94ì\\x9d´í\\x81¬\\');\" class=\"author\" style=\"cursor:pointer;\" title=\"Bë°\\x94ì\\x9d´í\\x81¬\">Bë°\\x94ì\\x9d´í\\x81¬</span>\\r\\n              </td>\\r\\n              <td class=\"date\">17:10</td>\\r\\n              \\r\\n              <td class=\"recomm\"><font >0</font><font color=\"#999999\"></font></td>              \\r\\n              <td class=\"count\">46</td>              \\r\\n            </tr>\\r\\n            <tr itemscope itemtype=\"http://schema.org/Article\">\\r\\n              <td class=\"num01\">396046</td>\\r\\n              <td class=\"pl14\">\\r\\n\\r\\n\\t\\t\\t\\t\\t\\t\\t\\t                <a class=\"bsubject\" style=\"padding:0;\" href=\"/view?code=import&No=697621&bm=1\" title=\"BMW X1 10ë\\x85\\x848ì\\x9b\\x94ì\\x8b\\x9d ì¡°ì\\x88\\x98ì\\x84\\x9d í\\x97¤ë\\x93\\x9cë\\x9d¼ì\\x9d´í\\x8a¸(ì\\x95\\x88ì\\xa0\\x84ê¸°)ì\\x9d\\x84 ì°¾ê³\\xa0ì\\x9e\\x88ì\\x8aµë\\x8b\\x88ë\\x8b¤.ã\\x85\\xa0\" itemprop=\"name\">BMW X1 10ë\\x85\\x848ì\\x9b\\x94ì\\x8b\\x9d ì¡°ì\\x88\\x98ì\\x84\\x9d í\\x97¤ë\\x93\\x9cë\\x9d¼ì\\x9d´í\\x8a¸(ì\\x95\\x88ì\\xa0\\x84ê¸°)ì\\x9d\\x84 ì°¾ê³\\xa0ì\\x9e\\x88ì\\x8aµë\\x8b\\x88ë\\x8b¤.ã\\x85\\xa0</a>\\r\\n              </td>\\r\\n              <td class=\"author02\">\\r\\n                <span onClick=\"javascript:submenu_level(\\'b3BocjFvcGhxbm9waHFxb3Boc2xvcGhzZW9waHNnb3Boc2tvcGhzbW9waHNsb3BocjVvcGhybQ%3D%3D\\');\" class=\"author_level\"><img class=\"level\" src=\"//image.bobaedream.co.kr/board/level/army_1.gif\" alt=\"ë\\xa0\\x88ë²¨ í\\x9b\\x88ë\\xa0¨ë³\\x91\" /></span>\\r\\n                \\r\\n                <span onClick=\"javascript:submenu_show(\\'b3BocjFvcGhxbm9waHFxb3Boc2xvcGhzZW9waHNnb3Boc2tvcGhzbW9waHNsb3BocjVvcGhybQ%3D%3D\\',\\'ë©\\x94ì\\x9d´ì»¤\\');\" class=\"author\" style=\"cursor:pointer;\" title=\"ë©\\x94ì\\x9d´ì»¤\">ë©\\x94ì\\x9d´ì»¤</span>\\r\\n              </td>\\r\\n              <td class=\"date\">17:08</td>\\r\\n              \\r\\n              <td class=\"recomm\"><font >0</font><font color=\"#999999\"></font></td>              \\r\\n              <td class=\"count\">33</td>              \\r\\n            </tr>\\r\\n            <tr itemscope itemtype=\"http://schema.org/Article\">\\r\\n              <td class=\"num01\">396045</td>\\r\\n              <td class=\"pl14\">\\r\\n\\r\\n\\t\\t\\t\\t\\t\\t\\t\\t                <a class=\"bsubject\" style=\"padding:0;\" href=\"/view?code=import&No=697619&bm=1\" title=\"ì°¨ë\\x9f\\x89êµ¬ë§¤ê´\\x80í\\x95\\x98ì\\x97¬ ì¡°ì\\x96¸ë¶\\x80í\\x83\\x81ë\\x93\\x9cë¦½ë\\x8b\\x88ë\\x8b¤\" itemprop=\"name\">ì°¨ë\\x9f\\x89êµ¬ë§¤ê´\\x80í\\x95\\x98ì\\x97¬ ì¡°ì\\x96¸ë¶\\x80í\\x83\\x81ë\\x93\\x9cë¦½ë\\x8b\\x88ë\\x8b¤</a>&nbsp;<a style=\"padding-left:0px\" href=\"/view?code=import&No=697619&bm=1\"><span class=\"Comment\">(<strong class=\"totreply\">3</strong>)</span></a>\\r\\n              </td>\\r\\n              <td class=\"author02\">\\r\\n                <span onClick=\"javascript:submenu_level(\\'b3BocWZvcGhxbm9waHFqb3BocW5vcGhxcG9waHFpb3BocW1vcGhxdG9waHI1b3Bocm0%3D\\');\" class=\"author_level\"><img class=\"level\" src=\"//image.bobaedream.co.kr/board/level/army_1.gif\" alt=\"ë\\xa0\\x88ë²¨ í\\x9b\\x88ë\\xa0¨ë³\\x91\" /></span>\\r\\n                \\r\\n                <span onClick=\"javascript:submenu_show(\\'b3BocWZvcGhxbm9waHFqb3BocW5vcGhxcG9waHFpb3BocW1vcGhxdG9waHI1b3Bocm0%3D\\',\\'Albam\\');\" class=\"author\" style=\"cursor:pointer;\" title=\"Albam\">Albam</span>\\r\\n              </td>\\r\\n              <td class=\"date\">14:29</td>\\r\\n              \\r\\n              <td class=\"recomm\"><font >0</font><font color=\"#999999\"></font></td>              \\r\\n              <td class=\"count\">168</td>              \\r\\n            </tr>\\r\\n            <tr itemscope itemtype=\"http://schema.org/Article\">\\r\\n              <td class=\"num01\">396044</td>\\r\\n              <td class=\"pl14\">\\r\\n\\r\\n\\t\\t\\t\\t\\t\\t\\t\\t                <a class=\"bsubject\" style=\"padding:0;\" href=\"/view?code=import&No=697618&bm=1\" title=\"ì¤\\x91ê³\\xa0ì°¨ êµ¬ì\\x9e\\x85 ì¡°ì\\x96¸ ë¶\\x80í\\x83\\x81ë\\x93\\x9cë¦½ë\\x8b\\x88ë\\x8b¤.\" itemprop=\"name\">ì¤\\x91ê³\\xa0ì°¨ êµ¬ì\\x9e\\x85 ì¡°ì\\x96¸ ë¶\\x80í\\x83\\x81ë\\x93\\x9cë¦½ë\\x8b\\x88ë\\x8b¤.</a>&nbsp;<a style=\"padding-left:0px\" href=\"/view?code=import&No=697618&bm=1\"><span class=\"Comment\">(<strong class=\"totreply\">4</strong>)</span></a>\\r\\n              </td>\\r\\n              <td class=\"author02\">\\r\\n                <span onClick=\"javascript:submenu_level(\\'b3BocW1vcGhxam9waHFlb3BocWVvcGhxdG9waHNrb3Boc2Y%3D\\');\" class=\"author_level\"><img class=\"level\" src=\"//image.bobaedream.co.kr/board/level/army_1.gif\" alt=\"ë\\xa0\\x88ë²¨ í\\x9b\\x88ë\\xa0¨ë³\\x91\" /></span>\\r\\n                \\r\\n                <span onClick=\"javascript:submenu_show(\\'b3BocW1vcGhxam9waHFlb3BocWVvcGhxdG9waHNrb3Boc2Y%3D\\',\\'ì\\x95¼êµ¬ì²\\x9cì\\x9e¬5\\');\" class=\"author\" style=\"cursor:pointer;\" title=\"ì\\x95¼êµ¬ì²\\x9cì\\x9e¬5\">ì\\x95¼êµ¬ì²\\x9cì\\x9e¬5</span>\\r\\n              </td>\\r\\n              <td class=\"date\">13:31</td>\\r\\n              \\r\\n              <td class=\"recomm\"><font >0</font><font color=\"#999999\"></font></td>              \\r\\n              <td class=\"count\">157</td>              \\r\\n            </tr>\\r\\n            <tr itemscope itemtype=\"http://schema.org/Article\">\\r\\n              <td class=\"num01\">396043</td>\\r\\n              <td class=\"pl14\">\\r\\n\\r\\n\\t\\t\\t\\t\\t\\t\\t\\t                <a class=\"bsubject\" style=\"padding:0;\" href=\"/view?code=import&No=697617&bm=1\" title=\"í\\x8f¬ë¥´ì\\x89\\x90 ì\\x9a´ì\\xa0\\x84ì\\x84\\x9d í\\x9c\\xa0í\\x95\\x98ì\\x9a°ì\\x8a¤ í\\x8c\\x90ê¸\\x88ì°¨ë\\x9f\\x89 ì¡°ì\\x96¸ì¢\\x80 ë¶\\x80í\\x83\\x81ë\\x93\\x9cë¦½ë\\x8b\\x88ë\\x8b¤\" itemprop=\"name\">í\\x8f¬ë¥´ì\\x89\\x90 ì\\x9a´ì\\xa0\\x84ì\\x84\\x9d í\\x9c\\xa0í\\x95\\x98ì\\x9a°ì\\x8a¤ í\\x8c\\x90ê¸\\x88ì°¨ë\\x9f\\x89 ì¡°ì\\x96¸ì¢\\x80 ë¶\\x80í\\x83\\x81ë\\x93\\x9cë¦½ë\\x8b\\x88ë\\x8b¤</a><img style=\"padding-left:3px\" class=\"jpg\" src=\"//image.bobaedream.co.kr/newimg/jpg.gif\" alt=\"ì²¨ë¶\\x80í\\x8c\\x8cì\\x9d¼\" />&nbsp;<a style=\"padding-left:2px\" href=\"/view?code=import&No=697617&bm=1\"><span class=\"Comment\">(<strong class=\"totreply\">9</strong>)</span></a>\\r\\n              </td>\\r\\n              <td class=\"author02\">\\r\\n                <span onClick=\"javascript:submenu_level(\\'b3BocjNvcGhyMm9waHNsb3Boc2dvcGhzZW9waHNob3Boc2xvcGhzbG9waHNtb3BocjVvcGhybQ%3D%3D\\');\" class=\"author_level\"><img class=\"level\" src=\"//image.bobaedream.co.kr/board/level/army_1.gif\" alt=\"ë\\xa0\\x88ë²¨ í\\x9b\\x88ë\\xa0¨ë³\\x91\" /></span>\\r\\n                \\r\\n                <span onClick=\"javascript:submenu_show(\\'b3BocjNvcGhyMm9waHNsb3Boc2dvcGhzZW9waHNob3Boc2xvcGhzbG9waHNtb3BocjVvcGhybQ%3D%3D\\',\\'Doodgoog\\');\" class=\"author\" style=\"cursor:pointer;\" title=\"Doodgoog\">Doodgoo..</span>\\r\\n              </td>\\r\\n              <td class=\"date\">13:29</td>\\r\\n              \\r\\n              <td class=\"recomm\"><font >0</font><font color=\"#999999\"></font></td>              \\r\\n              <td class=\"count\">380</td>              \\r\\n            </tr>\\r\\n            <tr itemscope itemtype=\"http://schema.org/Article\">\\r\\n              <td class=\"num01\">396042</td>\\r\\n              <td class=\"pl14\">\\r\\n\\r\\n\\t\\t\\t\\t\\t\\t\\t\\t                <a class=\"bsubject\" style=\"padding:0;\" href=\"/view?code=import&No=697616&bm=1\" itemprop=\"name\">ë\\x8b¤ë\\x93¤ ì¤\\x91ì\\x8b\\x9d í\\x96\\x88ë\\x83\\x90</a>\\r\\n              </td>\\r\\n              <td class=\"author02\">\\r\\n                <span onClick=\"javascript:submenu_level(\\'b3Boc2VvcGhzaW9waHNmb3Boc2Q%3D\\');\" class=\"author_level\"><img class=\"level\" src=\"//image.bobaedream.co.kr/board/level/army_2.gif\" alt=\"ë\\xa0\\x88ë²¨ ì\\x9d´ë\\x93±ë³\\x91\" /></span>\\r\\n                \\r\\n                <span onClick=\"javascript:submenu_show(\\'b3Boc2VvcGhzaW9waHNmb3Boc2Q%3D\\',\\'ì\\x9a°ì§\\x9c1\\');\" class=\"author\" style=\"cursor:pointer;\" title=\"ì\\x9a°ì§\\x9c1\">ì\\x9a°ì§\\x9c1</span>\\r\\n              </td>\\r\\n              <td class=\"date\">13:27</td>\\r\\n              \\r\\n              <td class=\"recomm\"><font >0</font><font color=\"#999999\"></font></td>              \\r\\n              <td class=\"count\">109</td>              \\r\\n            </tr>\\r\\n            <tr itemscope itemtype=\"http://schema.org/Article\">\\r\\n              <td class=\"num01\">396041</td>\\r\\n              <td class=\"pl14\">\\r\\n\\r\\n\\t\\t\\t\\t\\t\\t\\t\\t                <a class=\"bsubject\" style=\"padding:0;\" href=\"/view?code=import&No=697615&bm=1\" title=\"8ì\\x84¸ë\\x8c\\x80 ê³¨í\\x94\\x84, 3ì\\x8b\\x9cë¦¬ì¦\\x88 ë\\x94\\x94ì\\xa0¤ í\\x88¬ì\\x96´ë§\\x81 ì¤\\x91ê³\\xa0\" itemprop=\"name\">8ì\\x84¸ë\\x8c\\x80 ê³¨í\\x94\\x84, 3ì\\x8b\\x9cë¦¬ì¦\\x88 ë\\x94\\x94ì\\xa0¤ í\\x88¬ì\\x96´ë§\\x81 ì¤\\x91ê³\\xa0</a>&nbsp;<a style=\"padding-left:0px\" href=\"/view?code=import&No=697615&bm=1\"><span class=\"Comment\">(<strong class=\"totreply\">9</strong>)</span></a>\\r\\n              </td>\\r\\n              <td class=\"author02\">\\r\\n                <span onClick=\"javascript:submenu_level(\\'b3BocWZvcGhxam9waHIxb3BocXBvcGhyM29waHFtb3Boc2tvcGhzbG9waHNp\\');\" class=\"author_level\"><img class=\"level\" src=\"//image.bobaedream.co.kr/board/level/army_4.gif\" alt=\"ë\\xa0\\x88ë²¨ ì\\x83\\x81ë³\\x91\" /></span>\\r\\n                \\r\\n                <span onClick=\"javascript:submenu_show(\\'b3BocWZvcGhxam9waHIxb3BocXBvcGhyM29waHFtb3Boc2tvcGhzbG9waHNp\\',\\'ê±´ë¹µê³\\xa0ì\\x96\\x91\\');\" class=\"author\" style=\"cursor:pointer;\" title=\"ê±´ë¹µê³\\xa0ì\\x96\\x91\">ê±´ë¹µê³\\xa0ì\\x96\\x91</span>\\r\\n              </td>\\r\\n              <td class=\"date\">09:21</td>\\r\\n              \\r\\n              <td class=\"recomm\"><font >0</font><font color=\"#999999\"></font></td>              \\r\\n              <td class=\"count\">495</td>              \\r\\n            </tr>\\r\\n            <tr itemscope itemtype=\"http://schema.org/Article\">\\r\\n              <td class=\"num01\">396040</td>\\r\\n              <td class=\"pl14\">\\r\\n\\r\\n\\t\\t\\t\\t\\t\\t\\t\\t                <a class=\"bsubject\" style=\"padding:0;\" href=\"/view?code=import&No=697614\" title=\"ë²¤ì¸\\xa0ì\\xa0\\x84ê¸°ì°¨ ë¬¸ì\\xa0\\x9c!!ì\\xa0\\x80ë¿\\x90ë§\\x8cì\\x9d´ ì\\x95\\x84ë\\x8b\\x8cê±° ê°\\x99ì\\x95\\x84ì\\x98¬ë\\xa0¤ë´\\x85ë\\x8b\\x88ë\\x8b¤!!\" itemprop=\"name\">ë²¤ì¸\\xa0ì\\xa0\\x84ê¸°ì°¨ ë¬¸ì\\xa0\\x9c!!ì\\xa0\\x80ë¿\\x90ë§\\x8cì\\x9d´ ì\\x95\\x84ë\\x8b\\x8cê±° ê°\\x99ì\\x95\\x84ì\\x98¬ë\\xa0¤ë´\\x85ë\\x8b\\x88ë\\x8b¤!!</a><img style=\"padding-left:3px\" class=\"jpg\" src=\"//image.bobaedream.co.kr/newimg/vod.gif\" alt=\"ì²¨ë¶\\x80í\\x8c\\x8cì\\x9d¼\" />&nbsp;<a style=\"padding-left:2px\" href=\"/view?code=import&No=697614\"><span class=\"Comment\">(<strong class=\"totreply\">2</strong>)</span></a>\\r\\n              </td>\\r\\n              <td class=\"author02\">\\r\\n                <span onClick=\"javascript:submenu_level(\\'b3BocWVvcGhxam9waHFpb3BocXRvcGhxZ29waHFsb3BocjNvcGhxa29waHI1b3Bocm0%3D\\');\" class=\"author_level\"><img class=\"level\" src=\"//image.bobaedream.co.kr/board/level/army_1.gif\" alt=\"ë\\xa0\\x88ë²¨ í\\x9b\\x88ë\\xa0¨ë³\\x91\" /></span>\\r\\n                \\r\\n                <span onClick=\"javascript:submenu_show(\\'b3BocWVvcGhxam9waHFpb3BocXRvcGhxZ29waHFsb3BocjNvcGhxa29waHI1b3Bocm0%3D\\',\\'lovelace82\\');\" class=\"author\" style=\"cursor:pointer;\" title=\"lovelace82\">lovelac..</span>\\r\\n              </td>\\r\\n              <td class=\"date\">09:19</td>\\r\\n              \\r\\n              <td class=\"recomm\"><font style=\"color:#ff7234;font-weight:bold;\">3</font><font color=\"#999999\"></font></td>              \\r\\n              <td class=\"count\">424</td>              \\r\\n            </tr>\\r\\n            <tr itemscope itemtype=\"http://schema.org/Article\">\\r\\n              <td class=\"num01\">396039</td>\\r\\n              <td class=\"pl14\">\\r\\n\\r\\n\\t\\t\\t\\t\\t\\t\\t\\t                <a class=\"bsubject\" style=\"padding:0;\" href=\"/view?code=import&No=697612&bm=1\" title=\"ì\\x9a\\x94ì¦\\x98 í\\x8f¬í\\x8a¸í\\x99\\x80 ì¢\\x80 ë§\\x8eì\\x95\\x84ì§\\x84 ê²\\x83 ê°\\x99ì§\\x80 ì\\x95\\x8aë\\x82\\x98ì\\x9a\\x94?\" itemprop=\"name\">ì\\x9a\\x94ì¦\\x98 í\\x8f¬í\\x8a¸í\\x99\\x80 ì¢\\x80 ë§\\x8eì\\x95\\x84ì§\\x84 ê²\\x83 ê°\\x99ì§\\x80 ì\\x95\\x8aë\\x82\\x98ì\\x9a\\x94?</a><img style=\"padding-left:3px\" class=\"jpg\" src=\"//image.bobaedream.co.kr/newimg/jpg.gif\" alt=\"ì²¨ë¶\\x80í\\x8c\\x8cì\\x9d¼\" />&nbsp;<a style=\"padding-left:2px\" href=\"/view?code=import&No=697612&bm=1\"><span class=\"Comment\">(<strong class=\"totreply\">7</strong>)</span></a>\\r\\n              </td>\\r\\n              <td class=\"author02\">\\r\\n                <span onClick=\"javascript:submenu_level(\\'b3BocWxvcGhxcG9waHFrb3BocXJvcGhxZW9waHFwb3BocjNvcGhxa29waHNlb3Boc2c%3D\\');\" class=\"author_level\"><img class=\"level\" src=\"//image.bobaedream.co.kr/board/level/army_14.gif\" alt=\"ë\\xa0\\x88ë²¨ ì¤\\x91ë\\xa0¹ 2\" /></span>\\r\\n                \\r\\n                <span onClick=\"javascript:submenu_show(\\'b3BocWxvcGhxcG9waHFrb3BocXJvcGhxZW9waHFwb3BocjNvcGhxa29waHNlb3Boc2c%3D\\',\\'í\\x94¼êµ¬ì\\x99\\x95ì\\x8a\\x9bë\\x8f\\x8cì\\x9d´\\');\" class=\"author\" style=\"cursor:pointer;\" title=\"í\\x94¼êµ¬ì\\x99\\x95ì\\x8a\\x9bë\\x8f\\x8cì\\x9d´\">í\\x94¼êµ¬ì\\x99\\x95ì\\x8a\\x9bë\\x8f\\x8cì\\x9d´</span>\\r\\n              </td>\\r\\n              <td class=\"date\">08/18</td>\\r\\n              \\r\\n              <td class=\"recomm\"><font >0</font><font color=\"#999999\"></font></td>              \\r\\n              <td class=\"count\">1079</td>              \\r\\n            </tr>\\r\\n            <tr itemscope itemtype=\"http://schema.org/Article\">\\r\\n              <td class=\"num01\">396038</td>\\r\\n              <td class=\"pl14\">\\r\\n\\r\\n\\t\\t\\t\\t\\t\\t\\t\\t<strong class=\"H_category\" style=\"\">ì\\x9d¸ê¸°</strong>                <a class=\"bsubject\" style=\"padding:0;\" href=\"/view?code=import&No=697611&bm=1\" itemprop=\"name\">ì\\x8b\\xa0ì°¨  7% í\\x95\\xa0ì\\x9d¸í\\x95´ ì¤\\x80ë\\x8bµë\\x8b\\x88ë\\x8b¤</a><img style=\"padding-left:3px\" class=\"jpg\" src=\"//image.bobaedream.co.kr/newimg/jpg.gif\" alt=\"ì²¨ë¶\\x80í\\x8c\\x8cì\\x9d¼\" />&nbsp;<a style=\"padding-left:2px\" href=\"/view?code=import&No=697611&bm=1\"><span class=\"Comment\">(<strong class=\"totreply\">1</strong>)</span></a>\\r\\n              </td>\\r\\n              <td class=\"author02\">\\r\\n                <span onClick=\"javascript:submenu_level(\\'b3BocXRvcGhxZW9waHFxb3BocjNvcGhxa29waHFub3BocXBvcGhxbA%3D%3D\\');\" class=\"author_level\"><img class=\"level\" src=\"//image.bobaedream.co.kr/board/level/army_15.gif\" alt=\"ë\\xa0\\x88ë²¨ ë\\x8c\\x80ë\\xa0¹ 3\" /></span>\\r\\n                \\r\\n                <span onClick=\"javascript:submenu_show(\\'b3BocXRvcGhxZW9waHFxb3BocjNvcGhxa29waHFub3BocXBvcGhxbA%3D%3D\\',\\'ì\\x9d¼ì°¨ë¡\\x9cë\\x8a\\x94ì¶\\x94ì\\x9b\\x94ì°¨ë¡\\x9cì\\x9e\\x84\\');\" class=\"author\" style=\"cursor:pointer;\" title=\"ì\\x9d¼ì°¨ë¡\\x9cë\\x8a\\x94ì¶\\x94ì\\x9b\\x94ì°¨ë¡\\x9cì\\x9e\\x84\">ì\\x9d¼ì°¨ë¡\\x9cë\\x8a\\x94ì¶\\x94ì\\x9b\\x94ì°¨..</span>\\r\\n              </td>\\r\\n              <td class=\"date\">08/18</td>\\r\\n              \\r\\n              <td class=\"recomm\"><font style=\"color:#ff7234;font-weight:bold;\">58</font><font color=\"#999999\"></font></td>              \\r\\n              <td class=\"count\"><strong>13869</strong></td>              \\r\\n            </tr>\\r\\n            <tr itemscope itemtype=\"http://schema.org/Article\">\\r\\n              <td class=\"num01\">396037</td>\\r\\n              <td class=\"pl14\">\\r\\n\\r\\n\\t\\t\\t\\t\\t\\t\\t\\t                <a class=\"bsubject\" style=\"padding:0;\" href=\"/view?code=import&No=697610&bm=1\" title=\"A6 40 vs 523d    ê³¨ë\\x9d¼ì£¼ì\\x84¸ì\\x9a\\x94~~\" itemprop=\"name\">A6 40 vs 523d    ê³¨ë\\x9d¼ì£¼ì\\x84¸ì\\x9a\\x94~~</a>&nbsp;<a style=\"padding-left:0px\" href=\"/view?code=import&No=697610&bm=1\"><span class=\"Comment\">(<strong class=\"totreply\">24</strong>)</span></a>\\r\\n              </td>\\r\\n              <td class=\"author02\">\\r\\n                <span onClick=\"javascript:submenu_level(\\'b3BocWZvcGhxZm9waHF0b3BocW9vcGhxb29waHFwb3BocWs%3D\\');\" class=\"author_level\"><img class=\"level\" src=\"//image.bobaedream.co.kr/board/level/army_9.gif\" alt=\"ë\\xa0\\x88ë²¨ ì\\x9b\\x90ì\\x82¬ 3\" /></span>\\r\\n                \\r\\n                <span onClick=\"javascript:submenu_show(\\'b3BocWZvcGhxZm9waHF0b3BocW9vcGhxb29waHFwb3BocWs%3D\\',\\'ê°\\x80ì\\x95¼ë¥´ë\\x8f\\x84\\');\" class=\"author\" style=\"cursor:pointer;\" title=\"ê°\\x80ì\\x95¼ë¥´ë\\x8f\\x84\">ê°\\x80ì\\x95¼ë¥´ë\\x8f\\x84</span>\\r\\n              </td>\\r\\n              <td class=\"date\">08/18</td>\\r\\n              \\r\\n              <td class=\"recomm\"><font >0</font><font color=\"#999999\"></font></td>              \\r\\n              <td class=\"count\">1345</td>              \\r\\n            </tr>\\r\\n            <tr itemscope itemtype=\"http://schema.org/Article\">\\r\\n              <td class=\"num01\">396036</td>\\r\\n              <td class=\"pl14\">\\r\\n\\r\\n\\t\\t\\t\\t\\t\\t\\t\\t                <a class=\"bsubject\" style=\"padding:0;\" href=\"/view?code=import&No=697609&bm=1\" title=\"ì¤\\x91ê³\\xa0ì\\x99¸ì\\xa0\\x9cì°¨ ì²\\x98ì\\x9d\\x8cì\\x9d´ë\\x9d¼ ì§\\x88ë¬¸ì\\x98¬ë¦½ë\\x8b\\x88ë\\x8b¤\" itemprop=\"name\">ì¤\\x91ê³\\xa0ì\\x99¸ì\\xa0\\x9cì°¨ ì²\\x98ì\\x9d\\x8cì\\x9d´ë\\x9d¼ ì§\\x88ë¬¸ì\\x98¬ë¦½ë\\x8b\\x88ë\\x8b¤</a>&nbsp;<a style=\"padding-left:0px\" href=\"/view?code=import&No=697609&bm=1\"><span class=\"Comment\">(<strong class=\"totreply\">12</strong>)</span></a>\\r\\n              </td>\\r\\n              <td class=\"author02\">\\r\\n                <span onClick=\"javascript:submenu_level(\\'b3BocWJvcGhxb29waHFmb3BocjBvcGhxbW9waHFmb3BocWVvcGhxa29waHNsb3Boc21vcGhzbW9waHNp\\');\" class=\"author_level\"><img class=\"level\" src=\"//image.bobaedream.co.kr/board/level/army_2.gif\" alt=\"ë\\xa0\\x88ë²¨ ì\\x9d´ë\\x93±ë³\\x91\" /></span>\\r\\n                \\r\\n                <span onClick=\"javascript:submenu_show(\\'b3BocWJvcGhxb29waHFmb3BocjBvcGhxbW9waHFmb3BocWVvcGhxa29waHNsb3Boc21vcGhzbW9waHNp\\',\\'ê¼¬ê¼¬ë\\x81¼ë\\x81¼\\');\" class=\"author\" style=\"cursor:pointer;\" title=\"ê¼¬ê¼¬ë\\x81¼ë\\x81¼\">ê¼¬ê¼¬ë\\x81¼ë\\x81¼</span>\\r\\n              </td>\\r\\n              <td class=\"date\">08/18</td>\\r\\n              \\r\\n              <td class=\"recomm\"><font >0</font><font color=\"#999999\"></font></td>              \\r\\n              <td class=\"count\">765</td>              \\r\\n            </tr>\\r\\n            <tr itemscope itemtype=\"http://schema.org/Article\">\\r\\n              <td class=\"num01\">396035</td>\\r\\n              <td class=\"pl14\">\\r\\n\\r\\n\\t\\t\\t\\t\\t\\t\\t\\t                <a class=\"bsubject\" style=\"padding:0;\" href=\"/view?code=import&No=697608&bm=1\" title=\"ë²¤ì¸\\xa0e-300 ë³´ì¡°ì\\x84\\x9d ë\\x92· ì\\x8a¤í\\x94¼ì»¤ ê´\\x80ë\\xa0¨\" itemprop=\"name\">ë²¤ì¸\\xa0e-300 ë³´ì¡°ì\\x84\\x9d ë\\x92· ì\\x8a¤í\\x94¼ì»¤ ê´\\x80ë\\xa0¨</a>&nbsp;<a style=\"padding-left:0px\" href=\"/view?code=import&No=697608&bm=1\"><span class=\"Comment\">(<strong class=\"totreply\">6</strong>)</span></a>\\r\\n              </td>\\r\\n              <td class=\"author02\">\\r\\n                <span onClick=\"javascript:submenu_level(\\'b3BocW9vcGhxdG9waHFmb3BocWRvcGhxZm9waHNkb3Boc2tvcGhzZG9waHI1b3Bocm0%3D\\');\" class=\"author_level\"><img class=\"level\" src=\"//image.bobaedream.co.kr/board/level/army_1.gif\" alt=\"ë\\xa0\\x88ë²¨ í\\x9b\\x88ë\\xa0¨ë³\\x91\" /></span>\\r\\n                \\r\\n                <span onClick=\"javascript:submenu_show(\\'b3BocW9vcGhxdG9waHFmb3BocWRvcGhxZm9waHNkb3Boc2tvcGhzZG9waHI1b3Bocm0%3D\\',\\'êµ¬ë¯¸ì\\x9d¸ë\\x8f\\x99\\');\" class=\"author\" style=\"cursor:pointer;\" title=\"êµ¬ë¯¸ì\\x9d¸ë\\x8f\\x99\">êµ¬ë¯¸ì\\x9d¸ë\\x8f\\x99</span>\\r\\n              </td>\\r\\n              <td class=\"date\">08/18</td>\\r\\n              \\r\\n              <td class=\"recomm\"><font >0</font><font color=\"#999999\"></font></td>              \\r\\n              <td class=\"count\">474</td>              \\r\\n            </tr>\\r\\n            <tr itemscope itemtype=\"http://schema.org/Article\">\\r\\n              <td class=\"num01\">396034</td>\\r\\n              <td class=\"pl14\">\\r\\n\\r\\n\\t\\t\\t\\t\\t\\t\\t\\t                <a class=\"bsubject\" style=\"padding:0;\" href=\"/view?code=import&No=697606&bm=1\" title=\"520i ë\\x93\\x9cë\\x94\\x94ì\\x96´ ì°¨ê°\\x80 ë°°ì\\x86¡ì¤\\x91ì\\x9d´ë\\x84¤ì\\x9a\\x94.\" itemprop=\"name\">520i ë\\x93\\x9cë\\x94\\x94ì\\x96´ ì°¨ê°\\x80 ë°°ì\\x86¡ì¤\\x91ì\\x9d´ë\\x84¤ì\\x9a\\x94.</a><img style=\"padding-left:3px\" class=\"jpg\" src=\"//image.bobaedream.co.kr/newimg/jpg.gif\" alt=\"ì²¨ë¶\\x80í\\x8c\\x8cì\\x9d¼\" />&nbsp;<a style=\"padding-left:2px\" href=\"/view?code=import&No=697606&bm=1\"><span class=\"Comment\">(<strong class=\"totreply\">12</strong>)</span></a>\\r\\n              </td>\\r\\n              <td class=\"author02\">\\r\\n                <span onClick=\"javascript:submenu_level(\\'b3BocWlvcGhyMW9waHFsb3BocjFvcGhxZW9waHIzb3Boc21vcGhzbG9waHNqb3Boc20%3D\\');\" class=\"author_level\"><img class=\"level\" src=\"//image.bobaedream.co.kr/board/level/army_8.gif\" alt=\"ë\\xa0\\x88ë²¨ ì\\x83\\x81ì\\x82¬ 2\" /></span>\\r\\n                \\r\\n                <span onClick=\"javascript:submenu_show(\\'b3BocWlvcGhyMW9waHFsb3BocjFvcGhxZW9waHIzb3Boc21vcGhzbG9waHNqb3Boc20%3D\\',\\'í\\x81¬ë¡±í\\x81¬ë¡±ll\\');\" class=\"author\" style=\"cursor:pointer;\" title=\"í\\x81¬ë¡±í\\x81¬ë¡±ll\">í\\x81¬ë¡±í\\x81¬ë¡±ll</span>\\r\\n              </td>\\r\\n              <td class=\"date\">08/18</td>\\r\\n              \\r\\n              <td class=\"recomm\"><font >0</font><font color=\"#999999\"></font></td>              \\r\\n              <td class=\"count\">2379</td>              \\r\\n            </tr>\\r\\n            <tr itemscope itemtype=\"http://schema.org/Article\">\\r\\n              <td class=\"num01\">396033</td>\\r\\n              <td class=\"pl14\">\\r\\n\\r\\n\\t\\t\\t\\t\\t\\t\\t\\t                <a class=\"bsubject\" style=\"padding:0;\" href=\"/view?code=import&No=697605&bm=1\" title=\"F80m3 vs G80 m3 ì\\x96´ë\\x96¤ì°¨ë¥¼ ì\\x84\\xa0í\\x83\\x9d?\" itemprop=\"name\">F80m3 vs G80 m3 ì\\x96´ë\\x96¤ì°¨ë¥¼ ì\\x84\\xa0í\\x83\\x9d?</a>&nbsp;<a style=\"padding-left:0px\" href=\"/view?code=import&No=697605&bm=1\"><span class=\"Comment\">(<strong class=\"totreply\">13</strong>)</span></a>\\r\\n              </td>\\r\\n              <td class=\"author02\">\\r\\n                <span onClick=\"javascript:submenu_level(\\'b3BocXNvcGhxdG9waHFnb3BocWdvcGhyM29waHFnb3BocXBvcGhzbW9waHNsb3Boc2c%3D\\');\" class=\"author_level\"><img class=\"level\" src=\"//image.bobaedream.co.kr/board/level/army_11.gif\" alt=\"ë\\xa0\\x88ë²¨ ì¤\\x91ì\\x9c\\x84 3\" /></span>\\r\\n                \\r\\n                <span onClick=\"javascript:submenu_show(\\'b3BocXNvcGhxdG9waHFnb3BocWdvcGhyM29waHFnb3BocXBvcGhzbW9waHNsb3Boc2c%3D\\',\\'mtzs\\');\" class=\"author\" style=\"cursor:pointer;\" title=\"mtzs\">mtzs</span>\\r\\n              </td>\\r\\n              <td class=\"date\">08/18</td>\\r\\n              \\r\\n              <td class=\"recomm\"><font >0</font><font color=\"#999999\"></font></td>              \\r\\n              <td class=\"count\">920</td>              \\r\\n            </tr>\\r\\n            <tr itemscope itemtype=\"http://schema.org/Article\">\\r\\n              <td class=\"num01\">396032</td>\\r\\n              <td class=\"pl14\">\\r\\n\\r\\n\\t\\t\\t\\t\\t\\t\\t\\t                <a class=\"bsubject\" style=\"padding:0;\" href=\"/view?code=import&No=697604&bm=1\" itemprop=\"name\">í\\x83\\x81ì\\x86¡ê´\\x80ë\\xa0¨ ì\\x9b\\x90ë\\x9e\\x98 ì\\x9d´ë\\x9f°ê°\\x80ì\\x9a\\x94?</a>&nbsp;<a style=\"padding-left:0px\" href=\"/view?code=import&No=697604&bm=1\"><span class=\"Comment\">(<strong class=\"totreply\">6</strong>)</span></a>\\r\\n              </td>\\r\\n              <td class=\"author02\">\\r\\n                <span onClick=\"javascript:submenu_level(\\'b3BocW5vcGhxdG9waHFtb3BocXBvcGhxbG9waHFwb3BocWs%3D\\');\" class=\"author_level\"><img class=\"level\" src=\"//image.bobaedream.co.kr/board/level/army_2.gif\" alt=\"ë\\xa0\\x88ë²¨ ì\\x9d´ë\\x93±ë³\\x91\" /></span>\\r\\n                \\r\\n                <span onClick=\"javascript:submenu_show(\\'b3BocW5vcGhxdG9waHFtb3BocXBvcGhxbG9waHFwb3BocWs%3D\\',\\'ë±\\x85ì\\x93°\\');\" class=\"author\" style=\"cursor:pointer;\" title=\"ë±\\x85ì\\x93°\">ë±\\x85ì\\x93°</span>\\r\\n              </td>\\r\\n              <td class=\"date\">08/18</td>\\r\\n              \\r\\n              <td class=\"recomm\"><font >0</font><font color=\"#999999\"></font></td>              \\r\\n              <td class=\"count\">1041</td>              \\r\\n            </tr>\\r\\n            <tr itemscope itemtype=\"http://schema.org/Article\">\\r\\n              <td class=\"num01\">396031</td>\\r\\n              <td class=\"pl14\">\\r\\n\\r\\n\\t\\t\\t\\t\\t\\t\\t\\t                <a class=\"bsubject\" style=\"padding:0;\" href=\"/view?code=import&No=697603&bm=1\" title=\"í\\x8c\\x8cë\\x82\\x98ë©\\x94ë\\x9d¼ í\\x84°ë³´s ê°\\x80ì\\x86\\x8dë\\xa0¥ ë¹\\x84êµ\\x90ì°¨ë\\x9f\\x89\" itemprop=\"name\">í\\x8c\\x8cë\\x82\\x98ë©\\x94ë\\x9d¼ í\\x84°ë³´s ê°\\x80ì\\x86\\x8dë\\xa0¥ ë¹\\x84êµ\\x90ì°¨ë\\x9f\\x89</a>&nbsp;<a style=\"padding-left:0px\" href=\"/view?code=import&No=697603&bm=1\"><span class=\"Comment\">(<strong class=\"totreply\">23</strong>)</span></a>\\r\\n              </td>\\r\\n              <td class=\"author02\">\\r\\n                <span onClick=\"javascript:submenu_level(\\'b3BocW5vcGhyM29waHFmb3BocXBvcGhxOW9waHIzb3BocWZvcGhzZm9waHNk\\');\" class=\"author_level\"><img class=\"level\" src=\"//image.bobaedream.co.kr/board/level/army_12.gif\" alt=\"ë\\xa0\\x88ë²¨ ë\\x8c\\x80ì\\x9c\\x84 2\" /></span>\\r\\n                \\r\\n                <span onClick=\"javascript:submenu_show(\\'b3BocW5vcGhyM29waHFmb3BocXBvcGhxOW9waHIzb3BocWZvcGhzZm9waHNk\\',\\'ë\\x8d°ë\\x8b\\x88ì\\x93°T\\');\" class=\"author\" style=\"cursor:pointer;\" title=\"ë\\x8d°ë\\x8b\\x88ì\\x93°T\">ë\\x8d°ë\\x8b\\x88ì\\x93°T</span>\\r\\n              </td>\\r\\n              <td class=\"date\">08/18</td>\\r\\n              \\r\\n              <td class=\"recomm\"><font >0</font><font color=\"#999999\"></font></td>              \\r\\n              <td class=\"count\">1627</td>              \\r\\n            </tr>\\r\\n            <tr itemscope itemtype=\"http://schema.org/Article\">\\r\\n              <td class=\"num01\">396030</td>\\r\\n              <td class=\"pl14\">\\r\\n\\r\\n\\t\\t\\t\\t\\t\\t\\t\\t                <a class=\"bsubject\" style=\"padding:0;\" href=\"/view?code=import&No=697602&bm=1\" title=\"ì¤\\x91ê³\\xa0ì°¨ ì\\xa0\\x9cë°\\x9c ë§\\x8eì\\x9d\\x80 ì¡°ì\\x96¸ì¢\\x80ì\\x9a\\x94ã\\x85\\x9cã\\x85\\x9c(í\\x86\\xa0ë\\x9f¬ì\\x8a¤3.5 vs ê·¸ë\\x9e\\x9cì\\xa0¸hg300)\" itemprop=\"name\">ì¤\\x91ê³\\xa0ì°¨ ì\\xa0\\x9cë°\\x9c ë§\\x8eì\\x9d\\x80 ì¡°ì\\x96¸ì¢\\x80ì\\x9a\\x94ã\\x85\\x9cã\\x85\\x9c(í\\x86\\xa0ë\\x9f¬ì\\x8a¤3.5 vs ê·¸ë\\x9e\\x9cì\\xa0¸hg300)</a>&nbsp;<a style=\"padding-left:0px\" href=\"/view?code=import&No=697602&bm=1\"><span class=\"Comment\">(<strong class=\"totreply\">7</strong>)</span></a>\\r\\n              </td>\\r\\n              <td class=\"author02\">\\r\\n                <span onClick=\"javascript:submenu_level(\\'b3BocjBvcGhxcG9waHIxb3BocW5vcGhxZG9waHFmb3BocXRvcGhxZ29waHI1b3Bocm0%3D\\');\" class=\"author_level\"><img class=\"level\" src=\"//image.bobaedream.co.kr/board/level/army_1.gif\" alt=\"ë\\xa0\\x88ë²¨ í\\x9b\\x88ë\\xa0¨ë³\\x91\" /></span>\\r\\n                \\r\\n                <span onClick=\"javascript:submenu_show(\\'b3BocjBvcGhxcG9waHIxb3BocW5vcGhxZG9waHFmb3BocXRvcGhxZ29waHI1b3Bocm0%3D\\',\\'ë¶\\x88ë\\x9f\\x89ê¸°í\\x83\\x80\\');\" class=\"author\" style=\"cursor:pointer;\" title=\"ë¶\\x88ë\\x9f\\x89ê¸°í\\x83\\x80\">ë¶\\x88ë\\x9f\\x89ê¸°í\\x83\\x80</span>\\r\\n              </td>\\r\\n              <td class=\"date\">08/18</td>\\r\\n              \\r\\n              <td class=\"recomm\"><font >0</font><font color=\"#999999\"></font></td>              \\r\\n              <td class=\"count\">645</td>              \\r\\n            </tr>\\r\\n            <tr itemscope itemtype=\"http://schema.org/Article\">\\r\\n              <td class=\"num01\">396029</td>\\r\\n              <td class=\"pl14\">\\r\\n\\r\\n\\t\\t\\t\\t\\t\\t\\t\\t<strong class=\"H_category\" style=\"\">ì\\x9d¸ê¸°</strong>                <a class=\"bsubject\" style=\"padding:0;\" href=\"/view?code=import&No=697601&bm=1\" itemprop=\"name\">X6 M40i ...</a><img style=\"padding-left:3px\" class=\"jpg\" src=\"//image.bobaedream.co.kr/newimg/jpg.gif\" alt=\"ì²¨ë¶\\x80í\\x8c\\x8cì\\x9d¼\" />&nbsp;<a style=\"padding-left:2px\" href=\"/view?code=import&No=697601&bm=1\"><span class=\"Comment\">(<strong class=\"totreply\">21</strong>)</span></a>\\r\\n              </td>\\r\\n              <td class=\"author02\">\\r\\n                <span onClick=\"javascript:submenu_level(\\'b3BocW9vcGhxbm9waHFxb3Boc2RvcGhzZG9waHNkb3Boc2Q%3D\\');\" class=\"author_level\"><img class=\"level\" src=\"//image.bobaedream.co.kr/board/level/army_15.gif\" alt=\"ë\\xa0\\x88ë²¨ ë\\x8c\\x80ë\\xa0¹ 2\" /></span>\\r\\n                \\r\\n                <span onClick=\"javascript:submenu_show(\\'b3BocW9vcGhxbm9waHFxb3Boc2RvcGhzZG9waHNkb3Boc2Q%3D\\',\\'ë\\x8d¥ë\\x8b¤ì\\x97\\x90ì\\x96´ì»¨ì¼\\x9cë\\x9d¼\\');\" class=\"author\" style=\"cursor:pointer;\" title=\"ë\\x8d¥ë\\x8b¤ì\\x97\\x90ì\\x96´ì»¨ì¼\\x9cë\\x9d¼\">ë\\x8d¥ë\\x8b¤ì\\x97\\x90ì\\x96´ì»¨ì¼\\x9cë\\x9d¼</span>\\r\\n              </td>\\r\\n              <td class=\"date\">08/18</td>\\r\\n              \\r\\n              <td class=\"recomm\"><font style=\"color:#ff7234;font-weight:bold;\">28</font><font color=\"#999999\"></font></td>              \\r\\n              <td class=\"count\">3691</td>              \\r\\n            </tr>\\r\\n            <tr itemscope itemtype=\"http://schema.org/Article\">\\r\\n              <td class=\"num01\">396028</td>\\r\\n              <td class=\"pl14\">\\r\\n\\r\\n\\t\\t\\t\\t\\t\\t\\t\\t                <a class=\"bsubject\" style=\"padding:0;\" href=\"/view?code=import&No=697600&bm=1\" title=\"ì\\x95\\x84ì\\x9a°ë\\x94\\x94 ì\\xa0\\x95ì\\x8b\\x9d ì\\x84\\x9cë¹\\x84ì\\x8a¤ì\\x84¼í\\x84° ì\\x96´ì\\x9d´ì\\x97\\x86ë\\x84¤ì\\x9a\\x94.\" itemprop=\"name\">ì\\x95\\x84ì\\x9a°ë\\x94\\x94 ì\\xa0\\x95ì\\x8b\\x9d ì\\x84\\x9cë¹\\x84ì\\x8a¤ì\\x84¼í\\x84° ì\\x96´ì\\x9d´ì\\x97\\x86ë\\x84¤ì\\x9a\\x94.</a><img style=\"padding-left:3px\" class=\"jpg\" src=\"//image.bobaedream.co.kr/newimg/png.gif\" alt=\"ì²¨ë¶\\x80í\\x8c\\x8cì\\x9d¼\" />&nbsp;<a style=\"padding-left:2px\" href=\"/view?code=import&No=697600&bm=1\"><span class=\"Comment\">(<strong class=\"totreply\">8</strong>)</span></a>\\r\\n              </td>\\r\\n              <td class=\"author02\">\\r\\n                <span onClick=\"javascript:submenu_level(\\'b3BocjNvcGhxZ29waHF0b3BocWZvcGhzbG9waHNsb3Boc2pvcGhzbQ%3D%3D\\');\" class=\"author_level\"><img class=\"level\" src=\"//image.bobaedream.co.kr/board/level/army_6.gif\" alt=\"ë\\xa0\\x88ë²¨ í\\x95\\x98ì\\x82¬ 2\" /></span>\\r\\n                \\r\\n                <span onClick=\"javascript:submenu_show(\\'b3BocjNvcGhxZ29waHF0b3BocWZvcGhzbG9waHNsb3Boc2pvcGhzbQ%3D%3D\\',\\'pgwannabe\\');\" class=\"author\" style=\"cursor:pointer;\" title=\"pgwannabe\">pgwanna..</span>\\r\\n              </td>\\r\\n              <td class=\"date\">08/18</td>\\r\\n              \\r\\n              <td class=\"recomm\"><font style=\"color:#ff7234;font-weight:bold;\">2</font><font color=\"#999999\"></font></td>              \\r\\n              <td class=\"count\">1780</td>              \\r\\n            </tr>\\r\\n            <tr itemscope itemtype=\"http://schema.org/Article\">\\r\\n              <td class=\"num01\">396027</td>\\r\\n              <td class=\"pl14\">\\r\\n\\r\\n\\t\\t\\t\\t\\t\\t\\t\\t                <a class=\"bsubject\" style=\"padding:0;\" href=\"/view?code=import&No=697599&bm=1\" itemprop=\"name\">ì\\x88\\x98ê²\\x8cí\\x81¬ë\\x9d¼ì\\x8a¤ ì\\x98¤ì§\\x80ë\\x84¤ ã\\x85\\x8b</a><img style=\"padding-left:3px\" class=\"jpg\" src=\"//image.bobaedream.co.kr/newimg/jpg.gif\" alt=\"ì²¨ë¶\\x80í\\x8c\\x8cì\\x9d¼\" />&nbsp;<a style=\"padding-left:2px\" href=\"/view?code=import&No=697599&bm=1\"><span class=\"Comment\">(<strong class=\"totreply\">10</strong>)</span></a>\\r\\n              </td>\\r\\n              <td class=\"author02\">\\r\\n                <span onClick=\"javascript:submenu_level(\\'b3BocW1vcGhxdG9waHFtb3BocXRvcGhxbW9waHF0\\');\" class=\"author_level\"><img class=\"level\" src=\"//image.bobaedream.co.kr/board/level/army_18.gif\" alt=\"ë\\xa0\\x88ë²¨ ì¤\\x91ì\\x9e¥\" /></span>\\r\\n                \\r\\n                <span onClick=\"javascript:submenu_show(\\'b3BocW1vcGhxdG9waHFtb3BocXRvcGhxbW9waHF0\\',\\'13BH380\\');\" class=\"author\" style=\"cursor:pointer;\" title=\"13BH380\">13BH380</span>\\r\\n              </td>\\r\\n              <td class=\"date\">08/18</td>\\r\\n              \\r\\n              <td class=\"recomm\"><font style=\"color:#ff7234;font-weight:bold;\">4</font><font color=\"#999999\"></font></td>              \\r\\n              <td class=\"count\">1197</td>              \\r\\n            </tr>\\r\\n            <tr itemscope itemtype=\"http://schema.org/Article\">\\r\\n              <td class=\"num01\">396026</td>\\r\\n              <td class=\"pl14\">\\r\\n\\r\\n\\t\\t\\t\\t\\t\\t\\t\\t                <a class=\"bsubject\" style=\"padding:0;\" href=\"/view?code=import&No=697598&bm=1\" title=\"A6 í\\x81¬ë¡¬ì£½ì\\x9d´ê¸° í\\x95\\x98ë\\xa0¤ë\\x8a\\x94ë\\x8d°..ì\\x83\\x89ì\\x83\\x81 ì¢\\x80 ë´\\x90ì£¼ì\\x84¸ì\\x9a\\x94.\" itemprop=\"name\">A6 í\\x81¬ë¡¬ì£½ì\\x9d´ê¸° í\\x95\\x98ë\\xa0¤ë\\x8a\\x94ë\\x8d°..ì\\x83\\x89ì\\x83\\x81 ì¢\\x80 ë´\\x90ì£¼ì\\x84¸ì\\x9a\\x94.</a><img style=\"padding-left:3px\" class=\"jpg\" src=\"//image.bobaedream.co.kr/newimg/jpg.gif\" alt=\"ì²¨ë¶\\x80í\\x8c\\x8cì\\x9d¼\" />&nbsp;<a style=\"padding-left:2px\" href=\"/view?code=import&No=697598&bm=1\"><span class=\"Comment\">(<strong class=\"totreply\">14</strong>)</span></a>\\r\\n              </td>\\r\\n              <td class=\"author02\">\\r\\n                <span onClick=\"javascript:submenu_level(\\'b3BocWNvcGhxbW9waHFqb3BocWNvcGhxdG9waHFtb3BocXRvcGhxZW9waHFlb3BocXRvcGhxZ29waHI1b3Bocm0%3D\\');\" class=\"author_level\"><img class=\"level\" src=\"//image.bobaedream.co.kr/board/level/army_2.gif\" alt=\"ë\\xa0\\x88ë²¨ ì\\x9d´ë\\x93±ë³\\x91\" /></span>\\r\\n                \\r\\n                <span onClick=\"javascript:submenu_show(\\'b3BocWNvcGhxbW9waHFqb3BocWNvcGhxdG9waHFtb3BocXRvcGhxZW9waHFlb3BocXRvcGhxZ29waHI1b3Bocm0%3D\\',\\'ê¹\\x8cì¹\\xa0ì\\x9d´ì\\x98¤ë\\x84\\x881\\');\" class=\"author\" style=\"cursor:pointer;\" title=\"ê¹\\x8cì¹\\xa0ì\\x9d´ì\\x98¤ë\\x84\\x881\">ê¹\\x8cì¹\\xa0ì\\x9d´ì\\x98¤ë\\x84\\x881</span>\\r\\n              </td>\\r\\n              <td class=\"date\">08/18</td>\\r\\n              \\r\\n              <td class=\"recomm\"><font >0</font><font color=\"#999999\"></font></td>              \\r\\n              <td class=\"count\">1585</td>              \\r\\n            </tr>\\r\\n            <tr itemscope itemtype=\"http://schema.org/Article\">\\r\\n              <td class=\"num01\">396025</td>\\r\\n              <td class=\"pl14\">\\r\\n\\r\\n\\t\\t\\t\\t\\t\\t\\t\\t                <a class=\"bsubject\" style=\"padding:0;\" href=\"/view?code=import&No=697597&bm=1\" title=\"ì§\\x80ê¸\\x88 ì\\x9d´ì\\x8b\\x9cê°\\x84ì\\x97\\x90 ë¶\\x80ë\\x93¤ê±°ë¦¬ê³\\xa0 ì\\x9e\\x88ì\\x9d\\x84 ì\\x9e¡ì\\x98\\x81ì\\x96´\" itemprop=\"name\">ì§\\x80ê¸\\x88 ì\\x9d´ì\\x8b\\x9cê°\\x84ì\\x97\\x90 ë¶\\x80ë\\x93¤ê±°ë¦¬ê³\\xa0 ì\\x9e\\x88ì\\x9d\\x84 ì\\x9e¡ì\\x98\\x81ì\\x96´</a><img style=\"padding-left:3px\" class=\"jpg\" src=\"//image.bobaedream.co.kr/newimg/jpg.gif\" alt=\"ì²¨ë¶\\x80í\\x8c\\x8cì\\x9d¼\" />&nbsp;<a style=\"padding-left:2px\" href=\"/view?code=import&No=697597&bm=1\"><span class=\"Comment\">(<strong class=\"totreply\">6</strong>)</span></a>\\r\\n              </td>\\r\\n              <td class=\"author02\">\\r\\n                <span onClick=\"javascript:submenu_level(\\'b3BocXNvcGhxaW9waHIzb3BocW1vcGhxZm9waHFt\\');\" class=\"author_level\"><img class=\"level\" src=\"//image.bobaedream.co.kr/board/level/army_13.gif\" alt=\"ë\\xa0\\x88ë²¨ ì\\x86\\x8cë\\xa0¹ 2\" /></span>\\r\\n                \\r\\n                <span onClick=\"javascript:submenu_show(\\'b3BocXNvcGhxaW9waHIzb3BocW1vcGhxZm9waHFt\\',\\'í\\x8c\\x8cì§\\x80ì¤\\x8dë\\x8a\\x94ì\\x95\\x84ì\\x9e¬\\');\" class=\"author\" style=\"cursor:pointer;\" title=\"í\\x8c\\x8cì§\\x80ì¤\\x8dë\\x8a\\x94ì\\x95\\x84ì\\x9e¬\">í\\x8c\\x8cì§\\x80ì¤\\x8dë\\x8a\\x94ì\\x95\\x84ì\\x9e¬</span>\\r\\n              </td>\\r\\n              <td class=\"date\">08/17</td>\\r\\n              \\r\\n              <td class=\"recomm\"><font >0</font><font color=\"#999999\"></font></td>              \\r\\n              <td class=\"count\">915</td>              \\r\\n            </tr>\\r\\n            <tr itemscope itemtype=\"http://schema.org/Article\">\\r\\n              <td class=\"num01\">396024</td>\\r\\n              <td class=\"pl14\">\\r\\n\\r\\n\\t\\t\\t\\t\\t\\t\\t\\t                <a class=\"bsubject\" style=\"padding:0;\" href=\"/view?code=import&No=697596&bm=1\" itemprop=\"name\">G05 X5 M50D ê°\\x84ë§\\x8cì\\x97\\x90 ì\\x84¸ì°¨</a><img style=\"padding-left:3px\" class=\"jpg\" src=\"//image.bobaedream.co.kr/newimg/jpg.gif\" alt=\"ì²¨ë¶\\x80í\\x8c\\x8cì\\x9d¼\" />&nbsp;<a style=\"padding-left:2px\" href=\"/view?code=import&No=697596&bm=1\"><span class=\"Comment\">(<strong class=\"totreply\">13</strong>)</span></a>\\r\\n              </td>\\r\\n              <td class=\"author02\">\\r\\n                <span onClick=\"javascript:submenu_level(\\'b3BocjNvcGhyMG9waHF0b3BocWJvcGhyM29waHIwb3BocXBvcGhxag%3D%3D\\');\" class=\"author_level\"><img class=\"level\" src=\"//image.bobaedream.co.kr/board/level/army_10.gif\" alt=\"ë\\xa0\\x88ë²¨ ì\\x86\\x8cì\\x9c\\x84 1\" /></span>\\r\\n                \\r\\n                <span onClick=\"javascript:submenu_show(\\'b3BocjNvcGhyMG9waHF0b3BocWJvcGhyM29waHIwb3BocXBvcGhxag%3D%3D\\',\\'Laggom\\');\" class=\"author\" style=\"cursor:pointer;\" title=\"Laggom\">Laggom</span>\\r\\n              </td>\\r\\n              <td class=\"date\">08/17</td>\\r\\n              \\r\\n              <td class=\"recomm\"><font >0</font><font color=\"#999999\"></font></td>              \\r\\n              <td class=\"count\">2057</td>              \\r\\n            </tr>\\r\\n            <tr itemscope itemtype=\"http://schema.org/Article\">\\r\\n              <td class=\"num01\">396023</td>\\r\\n              <td class=\"pl14\">\\r\\n\\r\\n\\t\\t\\t\\t\\t\\t\\t\\t                <a class=\"bsubject\" style=\"padding:0;\" href=\"/view?code=import&No=697595&bm=1\" itemprop=\"name\">BMWë³´ì¦\\x9dì\\x9d´í\\x9b\\x84</a><img style=\"padding-left:3px\" class=\"jpg\" src=\"//image.bobaedream.co.kr/newimg/jpg.gif\" alt=\"ì²¨ë¶\\x80í\\x8c\\x8cì\\x9d¼\" />&nbsp;<a style=\"padding-left:2px\" href=\"/view?code=import&No=697595&bm=1\"><span class=\"Comment\">(<strong class=\"totreply\">5</strong>)</span></a>\\r\\n              </td>\\r\\n              <td class=\"author02\">\\r\\n                <span onClick=\"javascript:submenu_level(\\'b3BocW5vcGhxZ29waHFrb3BocWpvcGhzag%3D%3D\\');\" class=\"author_level\"><img class=\"level\" src=\"//image.bobaedream.co.kr/board/level/army_11.gif\" alt=\"ë\\xa0\\x88ë²¨ ì¤\\x91ì\\x9c\\x84 2\" /></span>\\r\\n                \\r\\n                <span onClick=\"javascript:submenu_show(\\'b3BocW5vcGhxZ29waHFrb3BocWpvcGhzag%3D%3D\\',\\'CN7AHI\\');\" class=\"author\" style=\"cursor:pointer;\" title=\"CN7AHI\">CN7AHI</span>\\r\\n              </td>\\r\\n              <td class=\"date\">08/17</td>\\r\\n              \\r\\n              <td class=\"recomm\"><font >0</font><font color=\"#999999\"></font></td>              \\r\\n              <td class=\"count\">1567</td>              \\r\\n            </tr>\\r\\n            <tr itemscope itemtype=\"http://schema.org/Article\">\\r\\n              <td class=\"num01\">396022</td>\\r\\n              <td class=\"pl14\">\\r\\n\\r\\n\\t\\t\\t\\t\\t\\t\\t\\t                <a class=\"bsubject\" style=\"padding:0;\" href=\"/view?code=import&No=697593&bm=1\" title=\"A6 ì\\x8a¹ì°¨ê°\\x90 êµ\\xadì\\x82°ì°¨ì\\x99\\x80 ë¹\\x84êµ\\x90í\\x95\\x9cë\\x8b¤ë©´?\" itemprop=\"name\">A6 ì\\x8a¹ì°¨ê°\\x90 êµ\\xadì\\x82°ì°¨ì\\x99\\x80 ë¹\\x84êµ\\x90í\\x95\\x9cë\\x8b¤ë©´?</a>&nbsp;<a style=\"padding-left:0px\" href=\"/view?code=import&No=697593&bm=1\"><span class=\"Comment\">(<strong class=\"totreply\">18</strong>)</span></a>\\r\\n              </td>\\r\\n              <td class=\"author02\">\\r\\n                <span onClick=\"javascript:submenu_level(\\'b3BocWtvcGhyM29waHFlb3BocXBvcGhxam9waHFrb3Boc2RvcGhzZW9waHI1b3Bocm0%3D\\');\" class=\"author_level\"><img class=\"level\" src=\"//image.bobaedream.co.kr/board/level/army_1.gif\" alt=\"ë\\xa0\\x88ë²¨ í\\x9b\\x88ë\\xa0¨ë³\\x91\" /></span>\\r\\n                \\r\\n                <span onClick=\"javascript:submenu_show(\\'b3BocWtvcGhyM29waHFlb3BocXBvcGhxam9waHFrb3Boc2RvcGhzZW9waHI1b3Bocm0%3D\\',\\'Olive0508\\');\" class=\"author\" style=\"cursor:pointer;\" title=\"Olive0508\">Olive05..</span>\\r\\n              </td>\\r\\n              <td class=\"date\">08/17</td>\\r\\n              \\r\\n              <td class=\"recomm\"><font >0</font><font color=\"#999999\"></font></td>              \\r\\n              <td class=\"count\">2389</td>              \\r\\n            </tr>\\r\\n            <tr itemscope itemtype=\"http://schema.org/Article\">\\r\\n              <td class=\"num01\">396021</td>\\r\\n              <td class=\"pl14\">\\r\\n\\r\\n\\t\\t\\t\\t\\t\\t\\t\\t                <a class=\"bsubject\" style=\"padding:0;\" href=\"/view?code=import&No=697592&bm=1\" title=\"ë\\x8b¤ì\\x9d\\x8cì°¨ë\\x8a\\x94...ë\\x8f\\x85ì\\x9d¼ì°¨ë¡\\x9c ê°\\x80ì\\x95¼ê²\\xa0ì\\x8aµë\\x8b\\x88ë\\x8b¤ ã\\x85\\x8eã\\x85\\x8e\" itemprop=\"name\">ë\\x8b¤ì\\x9d\\x8cì°¨ë\\x8a\\x94...ë\\x8f\\x85ì\\x9d¼ì°¨ë¡\\x9c ê°\\x80ì\\x95¼ê²\\xa0ì\\x8aµë\\x8b\\x88ë\\x8b¤ ã\\x85\\x8eã\\x85\\x8e</a>&nbsp;<a style=\"padding-left:0px\" href=\"/view?code=import&No=697592&bm=1\"><span class=\"Comment\">(<strong class=\"totreply\">6</strong>)</span></a>\\r\\n              </td>\\r\\n              <td class=\"author02\">\\r\\n                <span onClick=\"javascript:submenu_level(\\'b3BocjNvcGhxZ29waHFsb3BocTlvcGhxbm9waHNq\\');\" class=\"author_level\"><img class=\"level\" src=\"//image.bobaedream.co.kr/board/level/army_12.gif\" alt=\"ë\\xa0\\x88ë²¨ ë\\x8c\\x80ì\\x9c\\x84 3\" /></span>\\r\\n                \\r\\n                <span onClick=\"javascript:submenu_show(\\'b3BocjNvcGhxZ29waHFsb3BocTlvcGhxbm9waHNq\\',\\'ë³\\x91ì\\x8b\\xa0ë§\\x8cë³´ë©´ì\\x9a°ë\\x8a\\x94í\\x98\\x95\\');\" class=\"author\" style=\"cursor:pointer;\" title=\"ë³\\x91ì\\x8b\\xa0ë§\\x8cë³´ë©´ì\\x9a°ë\\x8a\\x94í\\x98\\x95\">ë³\\x91ì\\x8b\\xa0ë§\\x8cë³´ë©´ì\\x9a°ë\\x8a\\x94..</span>\\r\\n              </td>\\r\\n              <td class=\"date\">08/17</td>\\r\\n              \\r\\n              <td class=\"recomm\"><font >0</font><font color=\"#999999\"></font></td>              \\r\\n              <td class=\"count\">2020</td>              \\r\\n            </tr>\\r\\n            <tr itemscope itemtype=\"http://schema.org/Article\">\\r\\n              <td class=\"num01\">396020</td>\\r\\n              <td class=\"pl14\">\\r\\n\\r\\n\\t\\t\\t\\t\\t\\t\\t\\t                <a class=\"bsubject\" style=\"padding:0;\" href=\"/view?code=import&No=697591&bm=1\" title=\"ì\\x9a\\x94ì\\x86\\x8cì\\x88\\x98 ì\\x9e\\x98ëª»ë\\x84£ì\\x9c¼ë©´ ì\\x9e\\x90ë\\x8f\\x99ì°¨ ì°\\x90ë¹\\xa0ë\\x82\\x98ë\\x82\\x98ì\\x9a\\x94?\" itemprop=\"name\">ì\\x9a\\x94ì\\x86\\x8cì\\x88\\x98 ì\\x9e\\x98ëª»ë\\x84£ì\\x9c¼ë©´ ì\\x9e\\x90ë\\x8f\\x99ì°¨ ì°\\x90ë¹\\xa0ë\\x82\\x98ë\\x82\\x98ì\\x9a\\x94?</a>&nbsp;<a style=\"padding-left:0px\" href=\"/view?code=import&No=697591&bm=1\"><span class=\"Comment\">(<strong class=\"totreply\">7</strong>)</span></a>\\r\\n              </td>\\r\\n              <td class=\"author02\">\\r\\n                <span onClick=\"javascript:submenu_level(\\'b3BocW5vcGhxam9waHFnb3BocXRvcGhyM29waHIxb3BocXFvcGhyMQ%3D%3D\\');\" class=\"author_level\"><img class=\"level\" src=\"//image.bobaedream.co.kr/board/level/army_7.gif\" alt=\"ë\\xa0\\x88ë²¨ ì¤\\x91ì\\x82¬ 1\" /></span>\\r\\n                \\r\\n                <span onClick=\"javascript:submenu_show(\\'b3BocW5vcGhxam9waHFnb3BocXRvcGhyM29waHIxb3BocXFvcGhyMQ%3D%3D\\',\\'ë\\x82\\x9cë\\x8b\\x88ê°\\x80ì¡°ì\\x95\\x84\\');\" class=\"author\" style=\"cursor:pointer;\" title=\"ë\\x82\\x9cë\\x8b\\x88ê°\\x80ì¡°ì\\x95\\x84\">ë\\x82\\x9cë\\x8b\\x88ê°\\x80ì¡°ì\\x95\\x84</span>\\r\\n              </td>\\r\\n              <td class=\"date\">08/17</td>\\r\\n              \\r\\n              <td class=\"recomm\"><font >0</font><font color=\"#999999\"></font></td>              \\r\\n              <td class=\"count\">1018</td>              \\r\\n            </tr>\\r\\n            <tr itemscope itemtype=\"http://schema.org/Article\">\\r\\n              <td class=\"num01\">396019</td>\\r\\n              <td class=\"pl14\">\\r\\n\\r\\n\\t\\t\\t\\t\\t\\t\\t\\t                <a class=\"bsubject\" style=\"padding:0;\" href=\"/view?code=import&No=697590&bm=1\" itemprop=\"name\">ë±\\x80 ì\\x88\\x9cì\\xa0\\x95ë\\x82´ë¹\\x84 ì\\x9e¥ì\\xa0\\x90 ì\\x95\\x8cë\\xa0¤ë\\x93\\x9cë¦¼</a><img style=\"padding-left:3px\" class=\"jpg\" src=\"//image.bobaedream.co.kr/newimg/jpg.gif\" alt=\"ì²¨ë¶\\x80í\\x8c\\x8cì\\x9d¼\" />&nbsp;<a style=\"padding-left:2px\" href=\"/view?code=import&No=697590&bm=1\"><span class=\"Comment\">(<strong class=\"totreply\">4</strong>)</span></a>\\r\\n              </td>\\r\\n              <td class=\"author02\">\\r\\n                <span onClick=\"javascript:submenu_level(\\'b3BocW1vcGhxdG9waHF0b3BocWxvcGhxcW9waHNqb3Boc2RvcGhzam9waHNn\\');\" class=\"author_level\"><img class=\"level\" src=\"//image.bobaedream.co.kr/board/level/army_12.gif\" alt=\"ë\\xa0\\x88ë²¨ ë\\x8c\\x80ì\\x9c\\x84 3\" /></span>\\r\\n                \\r\\n                <span onClick=\"javascript:submenu_show(\\'b3BocW1vcGhxdG9waHF0b3BocWxvcGhxcW9waHNqb3Boc2RvcGhzam9waHNn\\',\\'DYMOS\\');\" class=\"author\" style=\"cursor:pointer;\" title=\"DYMOS\">DYMOS</span>\\r\\n              </td>\\r\\n              <td class=\"date\">08/17</td>\\r\\n              \\r\\n              <td class=\"recomm\"><font >0</font><font color=\"#999999\"></font></td>              \\r\\n              <td class=\"count\">1647</td>              \\r\\n            </tr>\\r\\n            <tr itemscope itemtype=\"http://schema.org/Article\">\\r\\n              <td class=\"num01\">396018</td>\\r\\n              <td class=\"pl14\">\\r\\n\\r\\n\\t\\t\\t\\t\\t\\t\\t\\t                <a class=\"bsubject\" style=\"padding:0;\" href=\"/view?code=import&No=697589&bm=1\" title=\"ì»¨í\\x8a¸ë¦¬ë§¨ì°¨ë\\x9f\\x89ì\\x9d´ê±° bmwì\\xa0\\x95ì\\x8b\\x9dì\\x84¼í\\x84° ë§¡ê¸°ë\\xa0¤ê³\\xa0í\\x95\\x98ë\\x8a\\x94ë\\x8d° ê²¬ì\\xa0\\x81ì\\x9d´ ì\\x96¼ë§\\x88ë\\x82\\x98 ë\\x82\\x98ì\\x98¬ê¹\\x8cì\\x9a\\x94?\" itemprop=\"name\">ì»¨í\\x8a¸ë¦¬ë§¨ì°¨ë\\x9f\\x89ì\\x9d´ê±° bmwì\\xa0\\x95ì\\x8b\\x9dì\\x84¼í\\x84° ë§¡ê¸°ë\\xa0¤ê³\\xa0í\\x95\\x98ë\\x8a\\x94ë\\x8d° ê²¬ì\\xa0\\x81ì\\x9d´ ì\\x96¼ë§\\x88ë\\x82\\x98 ë\\x82\\x98ì\\x98¬ê¹\\x8cì\\x9a\\x94?</a><img style=\"padding-left:3px\" class=\"jpg\" src=\"//image.bobaedream.co.kr/newimg/jpg.gif\" alt=\"ì²¨ë¶\\x80í\\x8c\\x8cì\\x9d¼\" />&nbsp;<a style=\"padding-left:2px\" href=\"/view?code=import&No=697589&bm=1\"><span class=\"Comment\">(<strong class=\"totreply\">2</strong>)</span></a>\\r\\n              </td>\\r\\n              <td class=\"author02\">\\r\\n                <span onClick=\"javascript:submenu_level(\\'b3BocWVvcGhxb29waHIwb3BocjBvcGhxZG9waHFzb3Boc2ZvcGhzZW9waHNr\\');\" class=\"author_level\"><img class=\"level\" src=\"//image.bobaedream.co.kr/board/level/army_2.gif\" alt=\"ë\\xa0\\x88ë²¨ ì\\x9d´ë\\x93±ë³\\x91\" /></span>\\r\\n                \\r\\n                <span onClick=\"javascript:submenu_show(\\'b3BocWVvcGhxb29waHIwb3BocjBvcGhxZG9waHFzb3Boc2ZvcGhzZW9waHNr\\',\\'duftjd782\\');\" class=\"author\" style=\"cursor:pointer;\" title=\"duftjd782\">duftjd7..</span>\\r\\n              </td>\\r\\n              <td class=\"date\">08/17</td>\\r\\n              \\r\\n              <td class=\"recomm\"><font >0</font><font color=\"#999999\"></font></td>              \\r\\n              <td class=\"count\">855</td>              \\r\\n            </tr>\\r\\n        </tbody>\\r\\n      </table>\\r\\n\\r\\n    <form method=\"get\" name=\"sform2\" action=\"/list.php\" onsubmit=\"return chk_search2();\" style=\"margin:0;padding:0\">\\r\\n      <input type=\"hidden\" name=\"code\" value=\"import\" />\\r\\n      <input type=\"hidden\" name=\"s_cate\" value=\"\" />\\r\\n      <input type=\"hidden\" name=\"maker_no\" value=\"\" />\\r\\n      <input type=\"hidden\" name=\"model_no\" value=\"\" />\\r\\n      <input type=\"hidden\" name=\"or_gu\" value=\"10\" />\\r\\n      <input type=\"hidden\" name=\"or_se\" value=\"desc\" />\\r\\n      <input type=\"hidden\" name=\"s_selday\" value=\"\" />\\r\\n      <input type=\"hidden\" name=\"pagescale\" value=\"30\" />\\r\\n      <input type=\"hidden\" name=\"info3\" value=\"\" />\\r\\n      <input type=\"hidden\" name=\"noticeShow\" value=\"\" />\\r\\n\\r\\n      <input type=\"hidden\" name=\"bestCode\" value=\"\" />\\r\\n      <input type=\"hidden\" name=\"bestDays\" value=\"\" />\\r\\n      <input type=\"hidden\" name=\"bestbbs\" value=\"\" />\\r\\n      <input type=\"hidden\" name=\"vdate\" value=\"\" />\\r\\n      <input type=\"hidden\" name=\"ndate\" value=\"\" />\\r\\n      <input type=\"hidden\" name=\"nmdate\" value=\"\" />\\r\\n      <div class=\"pageMove03\">\\r\\n        <ul class=\"pageNumber03\">\\r\\n\\r\\n          \\t\\r\\n\\t\\t\\t\\t\\r\\n\\t  \\t\\t\\r\\n\\r\\n          \\r\\n<li class=\"first\"><a  href=\"#\"><span class=\"current\">1</span></a></li>\\n<li class=\"\"><a  href=\"/list?code=import&s_cate=&maker_no=&model_no=&or_gu=10&or_se=desc&s_selday=&pagescale=30&info3=&noticeShow=&s_select=&s_key=&level_no=&vdate=&type=list&page=2\"><span class=\"link_page\">2</span></a></li>\\n<li class=\"\"><a  href=\"/list?code=import&s_cate=&maker_no=&model_no=&or_gu=10&or_se=desc&s_selday=&pagescale=30&info3=&noticeShow=&s_select=&s_key=&level_no=&vdate=&type=list&page=3\"><span class=\"link_page\">3</span></a></li>\\n<li class=\"\"><a  href=\"/list?code=import&s_cate=&maker_no=&model_no=&or_gu=10&or_se=desc&s_selday=&pagescale=30&info3=&noticeShow=&s_select=&s_key=&level_no=&vdate=&type=list&page=4\"><span class=\"link_page\">4</span></a></li>\\n<li class=\"\"><a  href=\"/list?code=import&s_cate=&maker_no=&model_no=&or_gu=10&or_se=desc&s_selday=&pagescale=30&info3=&noticeShow=&s_select=&s_key=&level_no=&vdate=&type=list&page=5\"><span class=\"link_page\">5</span></a></li>\\n<li class=\"\"><a  href=\"/list?code=import&s_cate=&maker_no=&model_no=&or_gu=10&or_se=desc&s_selday=&pagescale=30&info3=&noticeShow=&s_select=&s_key=&level_no=&vdate=&type=list&page=6\"><span class=\"link_page\">6</span></a></li>\\n<li class=\"\"><a  href=\"/list?code=import&s_cate=&maker_no=&model_no=&or_gu=10&or_se=desc&s_selday=&pagescale=30&info3=&noticeShow=&s_select=&s_key=&level_no=&vdate=&type=list&page=7\"><span class=\"link_page\">7</span></a></li>\\n<li class=\"\"><a  href=\"/list?code=import&s_cate=&maker_no=&model_no=&or_gu=10&or_se=desc&s_selday=&pagescale=30&info3=&noticeShow=&s_select=&s_key=&level_no=&vdate=&type=list&page=8\"><span class=\"link_page\">8</span></a></li>\\n<li class=\"\"><a  href=\"/list?code=import&s_cate=&maker_no=&model_no=&or_gu=10&or_se=desc&s_selday=&pagescale=30&info3=&noticeShow=&s_select=&s_key=&level_no=&vdate=&type=list&page=9\"><span class=\"link_page\">9</span></a></li>\\n<li class=\"last\"><a  href=\"/list?code=import&s_cate=&maker_no=&model_no=&or_gu=10&or_se=desc&s_selday=&pagescale=30&info3=&noticeShow=&s_select=&s_key=&level_no=&vdate=&type=list&page=10\"><span class=\"link_page\">10</span></a></li>\\n<li class=\"btn_next\"><a href=\"/list?code=import&s_cate=&maker_no=&model_no=&or_gu=10&or_se=desc&s_selday=&pagescale=30&info3=&noticeShow=&s_select=&s_key=&level_no=&vdate=&type=list&page=11\"><img src=\"//image.bobaedream.co.kr/renew/images/common/page_right1_new.gif\" alt=\"ë\\x8b¤ì\\x9d\\x8c\" /></a></li>\\n    </ul>\\n<div class=\"write\"><a href=\"/board/bulletin/write.php?code=import\"><img src=\"//image.bobaedream.co.kr/renew/images/common/btn_writing_new.gif\" alt=\" ê¸\\x80ì\\x93°ê¸°\" /></a></div></div>\\n\\r\\n        \\r\\n\\r\\n    <!--cList//-->\\r\\n    \\r\\n    <div class=\"board_search\">\\r\\n      <select name=\"s_select\" class=\"board_search_01\" title=\" \">\\r\\n        <option value=\\'Body\\' >ì\\xa0\\x9cëª©+ë\\x82´ì\\x9a©</option>\\r\\n        <option value=\\'Subject\\' selected>ì\\xa0\\x9cëª©</option>\\r\\n        <option value=\\'Name\\' >ê¸\\x80ì\\x93´ì\\x9d´</option>\\r\\n      </select>\\r\\n      <span class=\"search\">\\r\\n      <input type=\"text\" name=\"s_key\" value=\"\" title=\"ê²\\x80ì\\x83\\x89ì\\x96´ ì\\x9e\\x85ë\\xa0¥\"/><a href=\"javascript:chk_search2();void(0);\" class=\"search\"><img src=\"//image.bobaedream.co.kr/renew/images/common_re/search_00.gif\" alt=\"ê²\\x80ì\\x83\\x89\"  /></a>\\r\\n      <a href=\"/board/bulletin/mycommunity.php?cid=\" target=\"_blank\" class=\"search_text\" title=\"ì\\x83\\x88 ì°½\">ë\\x82´ê°\\x80 ì\\x93´ ê¸\\x80</a>\\r\\n      <!--<span><a href=\"#\"><img style=\"position:absolute;top:5px;right:0\" align=\"bottom\" src=\"http://image.bobaedream.co.kr/renew/images/common/list_topmove.gif\" alt=\"\" /></a></span>-->\\r\\n    </span>  \\r\\n    </div>\\r\\n\\r\\n    </form>\\r\\n\\r\\n<script type=\"text/javascript\">\\r\\n  //  <![CDATA[\\r\\n  function chk_search2(obj) {\\r\\n  \\t\\r\\n  \\tif(obj == \\'top\\') {\\r\\n    \\tdocument.sform2.s_select.value = document.getElementById(\\'s_select_top\\').value;\\r\\n    \\tdocument.sform2.s_key.value = document.getElementById(\\'s_key_top\\').value;\\r\\n    }\\r\\n  \\t\\r\\n  \\t\\r\\n    if (document.sform2.s_key.value.length < 2) {\\r\\n      window.alert(\\'ê²\\x80ì\\x83\\x89ì\\x96´ë\\x8a\\x94 2ì\\x9e\\x90 ì\\x9d´ì\\x83\\x81 ì\\x9e\\x85ë\\xa0¥í\\x95´ ì£¼ì\\x84¸ì\\x9a\\x94.\\');\\r\\n      return false;\\r\\n    } else {\\r\\n      document.sform2.submit();\\r\\n    }\\r\\n  }\\r\\n  // ]]>\\r\\n</script>\\r\\n\\r\\n      </div>\\r\\n      \\r\\n<div id=\"afscontainer1\"></div>\\r\\n\\r\\n<script type=\"text/javascript\" charset=\"utf-8\">\\r\\n\\r\\n var pageOptions = {\\r\\n \"pubId\": \"partner-pub-0904212565819637\", // í\\x81´ë\\x9d¼ì\\x9d´ì\\x96¸í\\x8a¸ IDê°\\x80 ì\\x98¬ë°\\x94ë¥¸ì§\\x80 í\\x99\\x95ì\\x9d¸í\\x95´ ì£¼ì\\x84¸ì\\x9a\\x94.\\r\\n \"styleId\": \"5007109707\",\\r\\n \"query\": \"\" // ì¶\\x94ê°\\x80ë\\x90\\x9c ì¿¼ë¦¬ê°\\x80 ì\\x98¬ë°\\x94ë¥¸ì§\\x80 í\\x99\\x95ì\\x9d¸í\\x95´ ì£¼ì\\x84¸ì\\x9a\\x94.\\r\\n };\\r\\n\\r\\n var adblock1 = {\\r\\n \"container\": \"afscontainer1\"\\r\\n };\\r\\n\\r\\n _googCsa(\\'ads\\', pageOptions, adblock1);\\r\\n\\r\\n</script>    \\r\\n\\r\\n\\t\\t     \\r\\n<div id=\\'div-gpt-ad-1655282654422-0\\' style=\\'height:90px; width:728px; text-align:center; margin: 25px auto -25px;\\'>\\r\\n<script type=\\'text/javascript\\'>\\r\\ngoogletag.cmd.push(function() { googletag.display(\\'div-gpt-ad-1655282654422-0\\'); });\\r\\n</script>\\r\\n</div>\\r\\n\\r\\n    </div>\\r\\n  </div>\\r\\n\\r\\n<script type=\"text/javascript\">\\r\\n  //  <![CDATA[\\r\\n  $(document).ready(function() {\\r\\n    if (\"\" != \"\") {\\r\\n      var strTemp = \"\";\\r\\n      strTemp = \"#\" + strTemp.replace(\"/\", \"\").replace(\"/\", \"\") + \" a\";\\r\\n      $(\"#faqListAll a\").removeClass(\"on\");\\r\\n      $(strTemp).addClass(\"on\");\\r\\n    }\\r\\n\\r\\n\\r\\n  });\\r\\n\\r\\n\\r\\n  function customRange(dates) {\\r\\n    // 0 = monday, 1 = tuesday, 2 = wednesday, 3 = thursday,\\r\\n    // 4=friday, 5 = saturday, 6=sunday\\r\\n\\r\\n    if (this.id == \\'startPicker\\') {\\r\\n      var strTemp = $(\\'#startPicker\\').val();\\r\\n      sBestDays(\"\", strTemp);\\r\\n      //$(\\'#endPicker\\').datepick(\\'option\\', \\'minDate\\', dates[0] || null);\\r\\n    }\\r\\n  }\\r\\n\\r\\nfunction date_navi(ndate) {\\r\\nif(document.sform2.nmdate.value) var nmdate = document.sform2.nmdate.value;\\r\\nelse var nmdate = \"\";\\r\\n\\tvar dummy = new Date().getTime();\\r\\n\\tvar url = \"/board_renew/bulletin/inc/_navi.php?dummy=\" + dummy + \"&ndate=\" + ndate + \"&nmdate=\" + nmdate + \"&vdate=&bestDays=\";\\r\\n\\t//$(\"#bobae_story\").unload();\\r\\n\\r\\n\\t\\t$(\"#date_navi\").load(url,function(response, status, xhr) {\\r\\n\\t\\t\\t$( \"#date_navi\" ).show();\\r\\n\\t\\t});\\r\\n}\\r\\n  // ]]>\\r\\n</script>    </div>\\r\\n    \\r\\n<!--footer-->\\r\\n\\t<div style=\"width:1010px; margin:0 auto\">\\r\\n\\t\\t<div class=\"Footer\">\\r\\n\\t\\t\\t<ul class=\"top\">\\r\\n\\t\\t\\t\\t<li class=\"first\"><img src=\"//image.bobaedream.co.kr/image/usedcar/f_t1.gif\" alt=\"í\\x8c¨ë°\\x80ë¦¬ì\\x82¬ì\\x9d´í\\x8a¸\" /></li>\\r\\n\\t\\t\\t\\t<li><a href=\"/mycar/mycar_list.php?gubun=K\"><img src=\"//image.bobaedream.co.kr/image/usedcar/f_t2.gif\" alt=\"ì¤\\x91ê³\\xa0ì°¨\" /></a></li>\\r\\n\\t\\t\\t\\t<li><a href=\"https://bike.bobaedream.co.kr/\"><img src=\"//image.bobaedream.co.kr/image/usedcar/f_t6.gif\" alt=\"ì\\x98¤í\\x86\\xa0ë°\\x94ì\\x9d´\" /></a></li>\\r\\n\\t\\t\\t\\t<li class=\"last\"><a href=\"https://www.bobaedream.co.kr/board/bbs.php\"><img src=\"//image.bobaedream.co.kr/image/usedcar/f_t7.gif\" alt=\"ì»¤ë®¤ë\\x8b\\x88í\\x8b°\" /></a></li>\\r\\n\\t\\t\\t\\t<li class=\"right\"><a href=\"/sitemap3.php\"><img src=\"//image.bobaedream.co.kr/image/usedcar/f_t8.gif\" alt=\"ì\\x84\\x9cë¹\\x84ì\\x8a¤ ì\\xa0\\x84ì²´ë³´ê¸°\" /></a></li>\\r\\n\\t\\t\\t</ul>\\r\\n\\t\\t\\t<div class=\"quickMenu\">\\r\\n\\t\\t\\t\\t<a href=\"/company/company_intro.php\">í\\x9a\\x8cì\\x82¬ì\\x86\\x8cê°\\x9c</a><span>|</span>\\r\\n\\t\\t\\t\\t<a href=\"/company/company_proposalinfo.php\" class=\"bold\">ì\\xa0\\x9cí\\x9c´/ê´\\x91ê³\\xa0ë¬¸ì\\x9d\\x98</a><span>|</span>\\r\\n\\t\\t\\t\\t<a href=\"/center/recruit.htm\">ì\\x9d¸ì\\x9e¬ì±\\x84ì\\x9a©</a><span>|</span>\\r\\n\\t\\t\\t\\t<a href=\"/company/service.php\">ì\\x9d´ì\\x9a©ì\\x95½ê´\\x80</a><span>|</span>\\r\\n\\t\\t\\t\\t<a href=\"/company/company_privacy.php\">ê°\\x9cì\\x9d¸ì\\xa0\\x95ë³´ì²\\x98ë¦¬ë°©ì¹¨</a><span>|</span>\\r\\n\\t\\t\\t\\t<a href=\"/center/error_list.htm\">ì\\x8b\\xa0ê³\\xa0ì\\x84¼í\\x84°</a><span>|</span>\\r\\n\\t\\t\\t\\t<a href=\"http://cs1472.com/customer/\" class=\"bold\" target=\"_blink\" title=\"ì\\x83\\x88 ì°½\">ì\\x9b\\x90ê²©ì§\\x80ì\\x9b\\x90</a><span>|</span>\\r\\n\\t\\t\\t\\t<a href=\"/center/center.htm\">ê³\\xa0ê°\\x9dì\\x84¼í\\x84°</a>\\r\\n\\t\\t\\t</div>\\r\\n\\t\\t\\t<div class=\"addr\">\\r\\n\\t\\t\\t\\të\\x8c\\x80í\\x91\\x9cì\\x9d´ì\\x82¬ : ê¹\\x80ë³´ë°°<span>|</span>\\r\\n\\t\\t\\t\\t(07995) ì\\x84\\x9cì\\x9a¸ ì\\x96\\x91ì²\\x9cêµ¬ ëª©ë\\x8f\\x99ë\\x8f\\x99ë¡\\x9c 233-1 ë\\x93\\x9cë¦¼í\\x83\\x80ì\\x9b\\x8c 11, 12ì¸µ<span>|</span>\\r\\n\\t\\t\\t\\tê³\\xa0ê°\\x9dì\\x84¼í\\x84° 02-784-2329<span>|</span>\\r\\n\\t\\t\\t\\tí\\x8c©ì\\x8a¤ : 02-6499-2329<span>|</span>\\r\\n\\t\\t\\t\\tì\\x9d´ë©\\x94ì\\x9d¼ : bobaedream@bobaedream.co.kr<br />\\r\\n\\t\\t\\t\\tê°\\x9cì\\x9d¸ì\\xa0\\x95ë³´ê´\\x80ë¦¬ì±\\x85ì\\x9e\\x84ì\\x9e\\x90 : ì\\x9d´ì\\x9d\\x80í\\x98¸<span>|</span>\\r\\n\\t\\t\\t\\tCopyrightÂ©(ì£¼)ë³´ë°°ë\\x84¤í\\x8a¸ì\\x9b\\x8cí\\x81¬<span>|</span>\\r\\n\\t\\t\\t\\tì\\x82¬ì\\x97\\x85ì\\x9e\\x90ë\\x93±ë¡\\x9dë²\\x88í\\x98¸ : 117-81-64543<span>|</span> \\r\\n\\t\\t\\t\\tí\\x86µì\\x8b\\xa0í\\x8c\\x90ë§¤ì\\x97\\x85ì\\x8b\\xa0ê³\\xa0ë²\\x88í\\x98¸ : ì\\xa0\\x9c 2013-ì\\x84\\x9cì\\x9a¸ì\\x96\\x91ì²\\x9c-0465í\\x98¸ <a href=\"http://www.ftc.go.kr/www/bizCommView.do?key=232&apv_perm_no=2013314011430200466&pageUnit=10&searchCnd=wrkr_no&searchKrwd=1178164543&pageIndex=1\" target=\"_blank\" title=\"ì\\x83\\x88 ì°½\"><img src=\"//image.bobaedream.co.kr/image/usedcar/foot_comapny.gif\" alt=\"ì\\x82¬ì\\x97\\x85ì\\x9e\\x90ì\\xa0\\x95ë³´í\\x99\\x95ì\\x9d¸\" /></a>\\r\\n\\t\\t\\t\\t<p class=\"waning\">ë³´ë°°ë\\x93\\x9cë¦¼ì\\x9d\\x80 í\\x86µì\\x8b\\xa0í\\x8c\\x90ë§¤ì¤\\x91ê°\\x9cì\\x9e\\x90ì\\x9d´ë©° ì°¨ë\\x9f\\x89í\\x8c\\x90ë§¤ì\\x9d\\x98 ë\\x8b¹ì\\x82¬ì\\x9e\\x90ê°\\x80 ì\\x95\\x84ë\\x8b\\x99ë\\x8b\\x88ë\\x8b¤. ë\\x94°ë\\x9d¼ì\\x84\\x9c ë³´ë°°ë\\x93\\x9cë¦¼ì\\x9d\\x80 ì°¨ë\\x9f\\x89 ê±°ë\\x9e\\x98ê²\\x80í\\x86\\xa0 ë°\\x8f ê±°ë\\x9e\\x98ì\\x97\\x90 ë\\x8c\\x80í\\x95\\x98ì\\x97¬ ì\\x96´ë\\x96¤ ì±\\x85ì\\x9e\\x84ì\\x9d\\x84 ì§\\x80ì§\\x80 ì\\x95\\x8aì\\x8aµë\\x8b\\x88ë\\x8b¤.</p>\\r\\n\\t\\t\\t</div>\\r\\n\\t\\t</div>\\r\\n\\t</div>\\r\\n\\t<!--//footer--> \\r\\n\\r\\n\\r\\n<!-- google log 0-->\\n<script src=\"//image.bobaedream.co.kr/common/js/google_log.js\" type=\"text/javascript\"></script>\\n\\r\\n\\r\\n  \\r\\n\\r\\n<script type=\"text/javascript\">\\r\\n  function fNewWin(name, width, height){\\r\\n    cw = screen.availWidth; // í\\x99\\x94ë©´ ë\\x84\\x88ë¹\\x84\\r\\n    ch = screen.availHeight; // í\\x99\\x94ë©´ ë\\x86\\x92ì\\x9d´\\r\\n\\r\\n    sw = width;// ë\\x9d\\x84ì\\x9a¸ ì°½ì\\x9d\\x98 ë\\x84\\x88ë¹\\x84\\r\\n    sh = height;// ë\\x9d\\x84ì\\x9a¸ ì°½ì\\x9d\\x98 ë\\x86\\x92ì\\x9d´\\r\\n\\r\\n    ml = (cw-sw)/2;// ê°\\x80ì\\x9a´ë\\x8d° ë\\x9d\\x84ì\\x9a°ê¸°ì\\x9c\\x84í\\x95\\x9c ì°½ì\\x9d\\x98 xì\\x9c\\x84ì¹\\x98\\r\\n    mt = (ch-sh)/2;// ê°\\x80ì\\x9a´ë\\x8d° ë\\x9d\\x84ì\\x9a°ê¸°ì\\x9c\\x84í\\x95\\x9c ì°½ì\\x9d\\x98 yì\\x9c\\x84ì¹\\x98\\r\\n\\r\\n    if(arguments[3]) strScroll = \\'yes\\';\\r\\n    else strScroll = \\'no\\';\\r\\n\\r\\n    NewWindow = window.open(name, \\'newWin\\'+sw+sh, \\'width=\\'+sw+\\', height=\\'+sh+\\', top=\\'+mt+\\', left=\\'+ml+\\', toobar=no, scrollbars=\\'+strScroll+\\', menubar=no, status=no, directories=no\\');\\r\\n  }\\r\\n</script>\\r\\n\\r\\n\\r\\n\\r\\n<div id=\"submenusel\" style=\"position:absolute;margin:0px;width:100px;height:65px;border:1px solid #888;z-index:1001;background-color:#FFF;display:none;\"></div>\\r\\n\\r\\n<script type=\"text/javascript\">\\r\\n  //  <![CDATA[\\r\\n  var top_pos = 0;\\r\\n  var left_pos = 0;\\r\\n  $(document).bind(\\'mousemove\\',function(e){\\r\\n    left_pos = e.pageX;\\r\\n    top_pos = e.pageY;\\r\\n  });\\r\\n  $(document).bind(\"click\", function (event) {\\r\\n    var $target = $(event.target);\\r\\n    var nodnm = $target.attr(\"className\");\\r\\n    if (nodnm != \"author\" || nodnm != \"level\") {\\r\\n      $(\"#submenusel\").hide();\\r\\n    }\\r\\n  });\\r\\n  // ]]>\\r\\n</script>\\r\\n\\r\\n<script type=\\'text/javascript\\'>\\r\\n\\r\\n$(document).ready(function(){\\r\\n\\t$(\".clistSearch03\").show();\\r\\n});\\r\\n\\r\\n</script>\\r\\n\\r\\n<div id=\"dim\" class=\"js-dim\"></div>\\r\\n  <!-- script type=\"text/javascript\" src=\"http://image.bobaedream.co.kr/renew/js/fakeselect.js\"></script -->  \\r\\n  <script type=\"text/javascript\" src=\"//image.bobaedream.co.kr/board_renew/bulletin/js/common.js?v=3.22\"></script>\\r\\n  <script type=\"text/javascript\" src=\"//image.bobaedream.co.kr/renew2017/assets/js/bobae.comm.js?v=3\"></script>  \\r\\n</body>\\r\\n</html>'"
            ],
            "application/vnd.google.colaboratory.intrinsic+json": {
              "type": "string"
            }
          },
          "metadata": {},
          "execution_count": 123
        }
      ]
    },
    {
      "cell_type": "code",
      "source": [
        "res.content # 바이트 단위 원본(인코딩 상태)이 있다."
      ],
      "metadata": {
        "id": "0EFHciVeRfwu"
      },
      "execution_count": null,
      "outputs": []
    },
    {
      "cell_type": "markdown",
      "source": [
        "- 응답객체의 원본상태인 content 변수를 넣으면 바이트 정보를 바탕으로 적절하게 디코딩을 해준다."
      ],
      "metadata": {
        "id": "70Pd6vhLScBf"
      }
    },
    {
      "cell_type": "code",
      "source": [
        "BeautifulSoup(res.content,\"html.parser\")"
      ],
      "metadata": {
        "id": "3QUznKZ8R6PM"
      },
      "execution_count": null,
      "outputs": []
    },
    {
      "cell_type": "code",
      "source": [
        ""
      ],
      "metadata": {
        "id": "xayI7_UiSEuq"
      },
      "execution_count": null,
      "outputs": []
    }
  ]
}