{
  "nbformat": 4,
  "nbformat_minor": 0,
  "metadata": {
    "colab": {
      "name": "04-제어문.ipynb",
      "provenance": [],
      "collapsed_sections": [],
      "authorship_tag": "ABX9TyPcJzX4xlvR+BeTzks4K8Wi",
      "include_colab_link": true
    },
    "kernelspec": {
      "name": "python3",
      "display_name": "Python 3"
    },
    "language_info": {
      "name": "python"
    }
  },
  "cells": [
    {
      "cell_type": "markdown",
      "metadata": {
        "id": "view-in-github",
        "colab_type": "text"
      },
      "source": [
        "<a href=\"https://colab.research.google.com/github/soyongseok/playdata/blob/main/04_%EC%A0%9C%EC%96%B4%EB%AC%B8.ipynb\" target=\"_parent\"><img src=\"https://colab.research.google.com/assets/colab-badge.svg\" alt=\"Open In Colab\"/></a>"
      ]
    },
    {
      "cell_type": "markdown",
      "source": [
        "# 제어문\n",
        "- 코드의 `흐름`을 제어하는 문법\n",
        "- 주어진 조건에 따라 반복해서 코드를 실행할 때 사용하는 것을 제어문이라고 한다."
      ],
      "metadata": {
        "id": "G_rUFPapux3z"
      }
    },
    {
      "cell_type": "markdown",
      "source": [
        "# 조건문(Condition)\n",
        "- 특정 조건을 만족하면(`True`) 코드를 실행\n",
        "- `if`, `elif`, `else`\n",
        "    - 우리 다음과 같이 `if elif else` 만을 이용해서 조건문을 만든다고 가정함\n",
        "    - `if`의 조건이 참이면 실행해라\n",
        "    - `elif`(else if 약어) : 그게아니고.... elif의 조건이 참이면 실행해라\n",
        "    - `else` : `if` 와 `elif` 모두 조건이 참이 아니라면 실행해라\n",
        "- 조건문 구조\n",
        "```python\n",
        "if <condition>:\n",
        "    code content\n",
        "elif <condition>:\n",
        "    code content\n",
        "...\n",
        "...\n",
        "...\n",
        "else:\n",
        "    code content\n",
        "```"
      ],
      "metadata": {
        "id": "f87N8E-RvBcA"
      }
    },
    {
      "cell_type": "code",
      "source": [
        "accuracy = 0.9\n",
        "if accuracy >= 0.9:\n",
        "    print(\"와우 최고의 인공지능 모델이네요\")\n",
        "elif accuracy < 0.9 and accuracy >= 0.8:\n",
        "    print(\"좋은 모델이네요\")\n",
        "elif accuracy < 0.8 and accuracy >= 0.7:\n",
        "    print(\"평범한 모델이네요\")\n",
        "else:\n",
        "    print(\"차라리 제가 예측하겠습니다.\")"
      ],
      "metadata": {
        "colab": {
          "base_uri": "https://localhost:8080/"
        },
        "id": "eGyWVe15vwqT",
        "outputId": "edc3605d-5389-45c8-9496-10abecef6695"
      },
      "execution_count": 8,
      "outputs": [
        {
          "output_type": "stream",
          "name": "stdout",
          "text": [
            "와우 최고의 인공지능 모델이네요\n"
          ]
        }
      ]
    },
    {
      "cell_type": "markdown",
      "source": [
        "- if 문은 단독으로 사용가능"
      ],
      "metadata": {
        "id": "aLEwnO7xxSON"
      }
    },
    {
      "cell_type": "code",
      "source": [
        "10 / 0"
      ],
      "metadata": {
        "colab": {
          "base_uri": "https://localhost:8080/",
          "height": 172
        },
        "id": "CBv-g0uRySkk",
        "outputId": "5cb15c22-b52c-4ae5-88b9-83c84173c20f"
      },
      "execution_count": 431,
      "outputs": [
        {
          "output_type": "error",
          "ename": "ZeroDivisionError",
          "evalue": "ignored",
          "traceback": [
            "\u001b[0;31m---------------------------------------------------------------------------\u001b[0m",
            "\u001b[0;31mZeroDivisionError\u001b[0m                         Traceback (most recent call last)",
            "\u001b[0;32m<ipython-input-431-cd759d3fcf39>\u001b[0m in \u001b[0;36m<module>\u001b[0;34m()\u001b[0m\n\u001b[0;32m----> 1\u001b[0;31m \u001b[0;36m10\u001b[0m \u001b[0;34m/\u001b[0m \u001b[0;36m0\u001b[0m\u001b[0;34m\u001b[0m\u001b[0;34m\u001b[0m\u001b[0m\n\u001b[0m",
            "\u001b[0;31mZeroDivisionError\u001b[0m: division by zero"
          ]
        }
      ]
    },
    {
      "cell_type": "code",
      "source": [
        "num = 0 # True로 인식해서 출력이 안됨\n",
        "if num != 0:\n",
        "    print(10/num)"
      ],
      "metadata": {
        "id": "ohADq-GjyXKw"
      },
      "execution_count": 19,
      "outputs": []
    },
    {
      "cell_type": "code",
      "source": [
        "num = 2\n",
        "if num: # 0과 None 객체가 아닐 경우 True\n",
        "    print(10/ num)"
      ],
      "metadata": {
        "colab": {
          "base_uri": "https://localhost:8080/"
        },
        "id": "fTc9pYj4yfPt",
        "outputId": "203637e5-73e7-4cf6-9c94-b28c2dfdd5b7"
      },
      "execution_count": 434,
      "outputs": [
        {
          "output_type": "stream",
          "name": "stdout",
          "text": [
            "5.0\n"
          ]
        }
      ]
    },
    {
      "cell_type": "code",
      "source": [
        "num = 0\n",
        "if num != 0:\n",
        "    print(10 / num)\n",
        "else:\n",
        "    print(\"0으로 나눌 수 없습니다.\")"
      ],
      "metadata": {
        "colab": {
          "base_uri": "https://localhost:8080/"
        },
        "id": "MMFqrpI7ypM2",
        "outputId": "37949a9b-d492-4340-bed7-243524069cd5"
      },
      "execution_count": 21,
      "outputs": [
        {
          "output_type": "stream",
          "name": "stdout",
          "text": [
            "0으로 나눌 수 없습니다.\n"
          ]
        }
      ]
    },
    {
      "cell_type": "code",
      "source": [
        "num = -1\n",
        "if num > 0:\n",
        "    print(10 / num)\n",
        "elif num < 0:\n",
        "    print(\"양수만 넣어주세요\")\n",
        "else:\n",
        "    print(\"0으로 나눌 수 없습니다.\")"
      ],
      "metadata": {
        "colab": {
          "base_uri": "https://localhost:8080/"
        },
        "id": "n0Xr9vAJzODv",
        "outputId": "3b7e49c9-65c4-4fda-c646-9aedf0007e89"
      },
      "execution_count": 23,
      "outputs": [
        {
          "output_type": "stream",
          "name": "stdout",
          "text": [
            "양수만 넣어주세요\n"
          ]
        }
      ]
    },
    {
      "cell_type": "markdown",
      "source": [
        "```\n",
        "회원가입 시 넘어온 나이값이 정수형이면 `정상값`을 출력\n",
        "그게 아니면 `잘못된 값`을 출력하는 프로그램을 만들어 봅시다.\n",
        "```"
      ],
      "metadata": {
        "id": "2bkMnBhdzblM"
      }
    },
    {
      "cell_type": "code",
      "source": [
        "age = 25\n",
        "if type(age) == int:\n",
        "    print(\"정상값\")\n",
        "else:\n",
        "    print(\"잘못된 값\")"
      ],
      "metadata": {
        "colab": {
          "base_uri": "https://localhost:8080/"
        },
        "id": "iVoki4FJz9rW",
        "outputId": "053acaa9-7ce0-4e69-cc52-0afa6c12b805"
      },
      "execution_count": 36,
      "outputs": [
        {
          "output_type": "stream",
          "name": "stdout",
          "text": [
            "정상값\n"
          ]
        }
      ]
    },
    {
      "cell_type": "markdown",
      "source": [
        "```\n",
        "회원가입 시 나이값이 100이상이면 \"유효한 나이를 입력해주세요.\" 를 출력\n",
        "0 미만이면(음수)이면 \"태어난거 맞나요?\" 출력\n",
        "0 ~ 99 \"DB저장완료\" 출력\n",
        "```"
      ],
      "metadata": {
        "id": "0aBwTBJk0Jno"
      }
    },
    {
      "cell_type": "code",
      "source": [
        "age = 25\n",
        "\n",
        "if age >= 100:\n",
        "    print(\"유효한 나이를 입력해주세요.\")\n",
        "elif age < 0:\n",
        "    print(\"태어난거 맞나요?\")\n",
        "else:\n",
        "    print(\"DB저장완료\")"
      ],
      "metadata": {
        "colab": {
          "base_uri": "https://localhost:8080/"
        },
        "id": "UeBI97Fj05k1",
        "outputId": "a6e118ba-c559-46d7-eabb-7c712973a572"
      },
      "execution_count": 43,
      "outputs": [
        {
          "output_type": "stream",
          "name": "stdout",
          "text": [
            "DB저장완료\n"
          ]
        }
      ]
    },
    {
      "cell_type": "markdown",
      "source": [
        "## 중첩 조건문\n",
        "- 조건문 안에 조건문을 사용할 수 있다."
      ],
      "metadata": {
        "id": "LX7snwQ71Q6-"
      }
    },
    {
      "cell_type": "code",
      "source": [
        "age = 18\n",
        "if age > 99 or age < 0:\n",
        "    print(\"유효한 나이를 입력해주세요.\")\n",
        "else:\n",
        "    if age < 20:\n",
        "        print(\"20세 이상만 회원가입이 가능합니다.\")\n",
        "    else:\n",
        "        print(\"DB 저장 완료\")"
      ],
      "metadata": {
        "colab": {
          "base_uri": "https://localhost:8080/"
        },
        "id": "RdDiYhUI6YXu",
        "outputId": "d7a9332d-957d-4bd4-9dce-9ed4bd365ba1"
      },
      "execution_count": 53,
      "outputs": [
        {
          "output_type": "stream",
          "name": "stdout",
          "text": [
            "20세 이상만 회원가입이 가능합니다.\n"
          ]
        }
      ]
    },
    {
      "cell_type": "markdown",
      "source": [
        "```\n",
        "source = [90, 100, 51, 96, 66, 83]\n",
        "Max 라는 단어를 입력받으면 최대값을 출력\n",
        "Min 이라는 단어를 입력받으면 최소값을 출력\n",
        "Mean 이라는 단어를 입력받으면 평균을 출력\n",
        "Max, Min, Mean 외에 다른 단어를 입력 받으면 \"똑바로 입력하세요\" 를 출력해서 혼내주자\n",
        "```"
      ],
      "metadata": {
        "id": "mGuE6sw17Hlp"
      }
    },
    {
      "cell_type": "code",
      "source": [
        "source = [90, 100, 51, 96, 66, 83]\n",
        "age = input(\"Max, Min, Mean: \")\n",
        "\n",
        "source_sort = sorted(source)\n",
        "\n",
        "if age == 'Max':\n",
        "    print(source_sort[-1])\n",
        "elif age == 'Min':\n",
        "    print(source_sort[0])\n",
        "elif age == \"Mean\":\n",
        "    print(sum(source) / len(source))\n",
        "else:\n",
        "    print(\"똑바로 입력하세요\")"
      ],
      "metadata": {
        "colab": {
          "base_uri": "https://localhost:8080/"
        },
        "id": "vJPEjXXJ7N4g",
        "outputId": "6967b7d1-417d-4abc-84f4-eca9d31a4def"
      },
      "execution_count": 69,
      "outputs": [
        {
          "output_type": "stream",
          "name": "stdout",
          "text": [
            "Max, Min, Mean: Mean\n",
            "81.0\n"
          ]
        }
      ]
    },
    {
      "cell_type": "markdown",
      "source": [
        "## 문제\n",
        "```\n",
        "계좌에 10000원이 들어있습니다.\n",
        "인출 금액을 입력받습니다.\n",
        "인출 금액이 'isdigit' 메소드를 이용하여 숫자가 아닐 경우 '유효한 금액을 입력하세요.' 출력\n",
        "\n",
        "인출 금액이 계좌에 있는 금액보다 크면 '인출 불가능합니다. {}원의 잔액이 부족합니다.' 출력\n",
        "\n",
        "인출 금액이 계좌에 있는 금액보다 작으면 '{} 원이 인출되었습니다.' 출력\n",
        "\n",
        "정수가 입력될 경우에는 항상 마지막에 현재 계좌의 잔액을 출력 ('현재 잔액은 {}원입니다.')\n",
        "```"
      ],
      "metadata": {
        "id": "90fYxZYj8jsY"
      }
    },
    {
      "cell_type": "code",
      "source": [
        "account = 10000 # 잔액이 줄어드는 것을 위해 다음 셀에 작성"
      ],
      "metadata": {
        "id": "DExBgJQY-jq6"
      },
      "execution_count": 249,
      "outputs": []
    },
    {
      "cell_type": "code",
      "source": [
        "money = input(\"얼마 인출 할래?\")    # 내 풀이\n",
        "\n",
        "if money != money.isdigit():\n",
        "    print(\"유효한 금액을 입력하세요.\")\n",
        "    money = int(money)\n",
        "    if money > account:\n",
        "        print(f\"인출이 불가능합니다. {money - account}원의 잔액이 부족합니다.\")\n",
        "    else:\n",
        "        account -= money\n",
        "        print(f\"{money}원이 인출되었습니다.\")\n",
        "\n",
        "    print(f\"현재 잔액은 {account}원입니다.\")"
      ],
      "metadata": {
        "colab": {
          "base_uri": "https://localhost:8080/"
        },
        "id": "xJh4bBNU_J5-",
        "outputId": "4298c5a0-2b8e-4c1d-a812-a19d7af04c48"
      },
      "execution_count": 250,
      "outputs": [
        {
          "output_type": "stream",
          "name": "stdout",
          "text": [
            "얼마 인출 할래?300\n",
            "유효한 금액을 입력하세요.\n",
            "300원이 인출되었습니다.\n",
            "현재 잔액은 9700원입니다.\n"
          ]
        }
      ]
    },
    {
      "cell_type": "code",
      "source": [
        "money = input(\"얼마 인출 할래?\")    # 강사님 풀이\n",
        "\n",
        "if money.isdigit():         # 정수 판별 메소드: isdigit\n",
        "    money = int(money)\n",
        "    if account < money:\n",
        "        print(f\"인출이 불가능합니다. {money - account}원의 잔액이 부족합니다.\")\n",
        "    else:\n",
        "        account -= money\n",
        "        print(f\"{money}원이 인출되었습니다\")\n",
        "    \n",
        "    print(f\"현재 잔액은 {account} 원입니다.\")\n",
        "else:    \n",
        "    print(f\"유효한 금액을 입력하세요.\")"
      ],
      "metadata": {
        "colab": {
          "base_uri": "https://localhost:8080/"
        },
        "id": "-rYpp4YjAMHC",
        "outputId": "876dedff-d704-405e-ab0a-b0c322271cda"
      },
      "execution_count": 194,
      "outputs": [
        {
          "output_type": "stream",
          "name": "stdout",
          "text": [
            "얼마 인출 할래?9000\n",
            "9000원이 인출되었습니다\n",
            "현재 잔액은 1000 원입니다.\n"
          ]
        }
      ]
    },
    {
      "cell_type": "markdown",
      "source": [
        "- 중앙값\n",
        "    - 주어진 값을 크기 순으로 순서대로 정렬했을 때 가장 중앙에 위치한 값\n",
        "    - 이상치에 영향을 받지 않는다."
      ],
      "metadata": {
        "id": "QwU8OhMsBvSC"
      }
    },
    {
      "cell_type": "markdown",
      "source": [
        "- 조건문을 이용하여 중앙값을 추출하는 코드를 작성하세요."
      ],
      "metadata": {
        "id": "RuUnXSwhJxVO"
      }
    },
    {
      "cell_type": "code",
      "source": [
        "model_scores1 = [0.92, 0.83, 0.91, 0.77, 0.99, 0.61, 0.88, 0.76 ,0.75] #  홀수 개수\n",
        "model_scores2 = [0.92, 0.83, 0.91, 0.77, 0.99, 0.61, 0.88, 0.76, 0.75, 0.51] # 짝수 개수\n",
        "print(model_scores1)\n",
        "print(model_scores2)"
      ],
      "metadata": {
        "colab": {
          "base_uri": "https://localhost:8080/"
        },
        "id": "k_gd9Q_DIrE7",
        "outputId": "dbd757f3-8bcf-40a1-c1be-ac15c25cd406"
      },
      "execution_count": 95,
      "outputs": [
        {
          "output_type": "stream",
          "name": "stdout",
          "text": [
            "[0.92, 0.83, 0.91, 0.77, 0.99, 0.61, 0.88, 0.76, 0.75]\n",
            "[0.92, 0.83, 0.91, 0.77, 0.99, 0.61, 0.88, 0.76, 0.75, 0.51]\n"
          ]
        }
      ]
    },
    {
      "cell_type": "code",
      "source": [
        "scores = model_scores1\n",
        "scores = model_scores2\n",
        "\n",
        "length = len(scores)\n",
        "index = length // 2 \n",
        "\n",
        "if length % 2: # 짝수\n",
        "    median_val = sorted(scores)[index]\n",
        "else:          # 홀수\n",
        "    median_val = (sorted(scores)[index] + sorted(scores)[index-1])/2\n",
        "\n",
        "print(median_val)"
      ],
      "metadata": {
        "colab": {
          "base_uri": "https://localhost:8080/"
        },
        "id": "R4KGJlEbIwqp",
        "outputId": "154fbbe7-f5f4-4271-b006-a8e9edd7f3fb"
      },
      "execution_count": 126,
      "outputs": [
        {
          "output_type": "stream",
          "name": "stdout",
          "text": [
            "0.8\n"
          ]
        }
      ]
    },
    {
      "cell_type": "markdown",
      "source": [
        "# 반복문(loop)\n",
        "- 반복적으로 코드를 수정할 때 사용"
      ],
      "metadata": {
        "id": "gnKA2X0DJNNs"
      }
    },
    {
      "cell_type": "markdown",
      "source": [
        "## `while` \n",
        "- 조건이 참(`True`)인 동안 반복\n",
        "- 무한 반복 주의\n",
        "```python\n",
        "while <condition>:\n",
        "    code context\n",
        "```"
      ],
      "metadata": {
        "id": "h73urwzHNDb_"
      }
    },
    {
      "cell_type": "markdown",
      "source": [
        "- 3단 출력해보기"
      ],
      "metadata": {
        "id": "O4caC-NLNg-S"
      }
    },
    {
      "cell_type": "code",
      "source": [
        "n = 3   # 3단\n",
        "i = 1   # 곱하는 수 1 ~ 9까지 증가한다.\n",
        "\n",
        "while i < 10: # i(곱하는 수가) 10보다 작으면 반복해라\n",
        "    print(f\"{n} X {i} = {n*i}\")\n",
        "    i += 1"
      ],
      "metadata": {
        "colab": {
          "base_uri": "https://localhost:8080/"
        },
        "id": "texJ_3iAN1Oo",
        "outputId": "604347c9-6881-4b60-83e5-ad8944936151"
      },
      "execution_count": 131,
      "outputs": [
        {
          "output_type": "stream",
          "name": "stdout",
          "text": [
            "3 X 1 = 3\n",
            "3 X 2 = 6\n",
            "3 X 3 = 9\n",
            "3 X 4 = 12\n",
            "3 X 5 = 15\n",
            "3 X 6 = 18\n",
            "3 X 7 = 21\n",
            "3 X 8 = 24\n",
            "3 X 9 = 27\n"
          ]
        }
      ]
    },
    {
      "cell_type": "code",
      "source": [
        "n = 3   # 3단\n",
        "i = 0   # 곱하는 수 1 ~ 9까지 증가한다.\n",
        "\n",
        "while i < 10: # i(곱하는 수가) 10보다 작으면 반복해라\n",
        "    i += 1\n",
        "    print(f\"{n} X {i} = {n*i}\") # 먼저 더해지고 결과가 나와 10까지 나온다!"
      ],
      "metadata": {
        "colab": {
          "base_uri": "https://localhost:8080/"
        },
        "id": "diPMqCWHOYb9",
        "outputId": "28ddab3b-28f1-462f-ccbd-83978d7a9f39"
      },
      "execution_count": 133,
      "outputs": [
        {
          "output_type": "stream",
          "name": "stdout",
          "text": [
            "3 X 1 = 3\n",
            "3 X 2 = 6\n",
            "3 X 3 = 9\n",
            "3 X 4 = 12\n",
            "3 X 5 = 15\n",
            "3 X 6 = 18\n",
            "3 X 7 = 21\n",
            "3 X 8 = 24\n",
            "3 X 9 = 27\n",
            "3 X 10 = 30\n"
          ]
        }
      ]
    },
    {
      "cell_type": "markdown",
      "source": [
        "- `break` : 해당 반복문을 빠져 나온다."
      ],
      "metadata": {
        "id": "ZpqytqxeOxoG"
      }
    },
    {
      "cell_type": "code",
      "source": [
        "n = 9\n",
        "i = 1\n",
        "while True:\n",
        "    print(f\"{n} X {i} = {n*i}\")\n",
        "    i += 1\n",
        "    if i > 9: \n",
        "        break"
      ],
      "metadata": {
        "colab": {
          "base_uri": "https://localhost:8080/"
        },
        "id": "5WclZgWKPVPm",
        "outputId": "c3674e7b-7399-4b21-f7b9-122065249f95"
      },
      "execution_count": 136,
      "outputs": [
        {
          "output_type": "stream",
          "name": "stdout",
          "text": [
            "9 X 1 = 9\n",
            "9 X 2 = 18\n",
            "9 X 3 = 27\n",
            "9 X 4 = 36\n",
            "9 X 5 = 45\n",
            "9 X 6 = 54\n",
            "9 X 7 = 63\n",
            "9 X 8 = 72\n",
            "9 X 9 = 81\n"
          ]
        }
      ]
    },
    {
      "cell_type": "markdown",
      "source": [
        "- `continue`\n",
        "    - 진행을 중단하고 다음 반복으로 넘어간다."
      ],
      "metadata": {
        "id": "cHgimPz4PmCu"
      }
    },
    {
      "cell_type": "code",
      "source": [
        "n = 3\n",
        "i = 1\n",
        "while i < 10:\n",
        "    if i % 2 != 0:\n",
        "        i += 1\n",
        "        continue  # 다시 위의 반복문으로 이동\n",
        "\n",
        "    print(f\"{n} X {i} = {n*i}\")\n",
        "    i += 1"
      ],
      "metadata": {
        "colab": {
          "base_uri": "https://localhost:8080/"
        },
        "id": "nbWJsFdFP_fn",
        "outputId": "071ca67c-c307-46b5-b9bf-95683f1f47a5"
      },
      "execution_count": 142,
      "outputs": [
        {
          "output_type": "stream",
          "name": "stdout",
          "text": [
            "3 X 2 = 6\n",
            "3 X 4 = 12\n",
            "3 X 6 = 18\n",
            "3 X 8 = 24\n"
          ]
        }
      ]
    },
    {
      "cell_type": "markdown",
      "source": [
        "```\n",
        "다음과 같이 한영사전이 dict 형태로 되어있다.\n",
        "{'사과' : 'Apple', '바나나': 'Banana', '딸기' : 'Strawberry'}\n",
        "사용자의 입력을 받아 사전에 없는 단어(Key)를 입력받으면 \"사전에 없습니다. 다시 입력하세요\" 출력하고 입력대기 \n",
        "사전에 단어(key)가 있으면 해당되는 단어(value)를 출력하고 반복문을 빠져나오게 하자.\n",
        "```"
      ],
      "metadata": {
        "id": "Ta_CnRIjQY5u"
      }
    },
    {
      "cell_type": "code",
      "source": [
        "fruits = {'사과' : 'Apple', '바나나' : 'Banana', '딸기' : 'Strawberry'}\n",
        "while True:\n",
        "    word = input(\"과일단어 입력: \")\n",
        "    word = fruits.get(word) # 0과 none이 들어가면 실행이 안된다.(그래서 get함수 사용)\n",
        "    if word:\n",
        "        print(word)\n",
        "        break\n",
        "    else:\n",
        "        print(\"사전에 없습니다. 다시입력하세요\")"
      ],
      "metadata": {
        "colab": {
          "base_uri": "https://localhost:8080/"
        },
        "id": "gJa6deJyVF_Q",
        "outputId": "e3652646-be58-4efd-a4f6-10c382bfc676"
      },
      "execution_count": 157,
      "outputs": [
        {
          "output_type": "stream",
          "name": "stdout",
          "text": [
            "과일단어 입력: 참외\n",
            "사전에 없습니다. 다시입력하세요\n",
            "과일단어 입력: 포도\n",
            "사전에 없습니다. 다시입력하세요\n",
            "과일단어 입력: 딸기\n",
            "Strawberry\n"
          ]
        }
      ]
    },
    {
      "cell_type": "markdown",
      "source": [
        "```\n",
        "다음과 같이 학습에 사용할 나이 데이터가 리스트에 담겨있다.\n",
        "age_list = [20,42,None,30,25,None,27,50,60]\n",
        "None 값들은 결측치\n",
        "None 값들을 제외한 나이값들의 평균을 구하시오.\n",
        "```"
      ],
      "metadata": {
        "id": "Xn_-c3XkVo_j"
      }
    },
    {
      "cell_type": "code",
      "source": [
        "age_list = [20,42,None,30,25,None,27,50,60]\n",
        "\n",
        "age_list"
      ],
      "metadata": {
        "colab": {
          "base_uri": "https://localhost:8080/"
        },
        "id": "Ipsrix7hXalh",
        "outputId": "6c12c0c2-d02c-4f06-8ae0-d6ddfd8e8541"
      },
      "execution_count": 188,
      "outputs": [
        {
          "output_type": "execute_result",
          "data": {
            "text/plain": [
              "[20, 42, None, 30, 25, None, 27, 50, 60]"
            ]
          },
          "metadata": {},
          "execution_count": 188
        }
      ]
    },
    {
      "cell_type": "code",
      "source": [
        "index = len(age_list)\n",
        "\n",
        "tmp = []\n",
        "\n",
        "while index:\n",
        "    index -= 1\n",
        "    if age_list[index] is not None:\n",
        "        tmp.append(age_list[index])\n",
        "avg = sum(tmp) / len(tmp)\n",
        "avg = int(avg)\n",
        "avg"
      ],
      "metadata": {
        "colab": {
          "base_uri": "https://localhost:8080/"
        },
        "id": "GGeWz4u5XsOp",
        "outputId": "0526331f-6fba-439f-8bce-de6c6f8a7a83"
      },
      "execution_count": 183,
      "outputs": [
        {
          "output_type": "execute_result",
          "data": {
            "text/plain": [
              "36"
            ]
          },
          "metadata": {},
          "execution_count": 183
        }
      ]
    },
    {
      "cell_type": "markdown",
      "source": [
        "``` 구한 평균 값으로 age_list의 결측치(None)를 채우세요.```"
      ],
      "metadata": {
        "id": "WcHNleYNbNnC"
      }
    },
    {
      "cell_type": "code",
      "source": [
        "index = len(age_list)\n",
        "while index:\n",
        "    index -= 1\n",
        "    if age_list[index] is None:\n",
        "        age_list[index] = avg\n",
        "age_list"
      ],
      "metadata": {
        "colab": {
          "base_uri": "https://localhost:8080/"
        },
        "id": "3GMaUsYMYdX5",
        "outputId": "c4aa17ce-fc93-4621-a684-0848be14e8aa"
      },
      "execution_count": 189,
      "outputs": [
        {
          "output_type": "execute_result",
          "data": {
            "text/plain": [
              "[20, 42, 36, 30, 25, 36, 27, 50, 60]"
            ]
          },
          "metadata": {},
          "execution_count": 189
        }
      ]
    },
    {
      "cell_type": "markdown",
      "source": [
        "- 중첩 while 문"
      ],
      "metadata": {
        "id": "bDdRkKXVbXW5"
      }
    },
    {
      "cell_type": "code",
      "source": [
        "i = 1\n",
        "while i < 3:\n",
        "    print(f\"{i}번째 바깥쪽 while 문 입니다.\")\n",
        "    i += 1\n",
        "\n",
        "    j = 1\n",
        "    while j < 6:\n",
        "        print(f\"    {j}번째 안쪽 while 문 입니다.\")\n",
        "        j += 1\n",
        "        "
      ],
      "metadata": {
        "colab": {
          "base_uri": "https://localhost:8080/"
        },
        "id": "ksXBgBGNbway",
        "outputId": "e725e58f-0515-4ad7-abf2-bea82c80034b"
      },
      "execution_count": 192,
      "outputs": [
        {
          "output_type": "stream",
          "name": "stdout",
          "text": [
            "1번째 바깥쪽 while 문 입니다.\n",
            "    1번째 안쪽 while 문 입니다.\n",
            "    2번째 안쪽 while 문 입니다.\n",
            "    3번째 안쪽 while 문 입니다.\n",
            "    4번째 안쪽 while 문 입니다.\n",
            "    5번째 안쪽 while 문 입니다.\n",
            "2번째 바깥쪽 while 문 입니다.\n",
            "    1번째 안쪽 while 문 입니다.\n",
            "    2번째 안쪽 while 문 입니다.\n",
            "    3번째 안쪽 while 문 입니다.\n",
            "    4번째 안쪽 while 문 입니다.\n",
            "    5번째 안쪽 while 문 입니다.\n"
          ]
        }
      ]
    },
    {
      "cell_type": "markdown",
      "source": [
        "- 중첩 while문 사용하여 구구단 출력하기\n",
        "```\n",
        "2 단 입니다.\n",
        "2 X 1 = 2\n",
        "2 X 2 = 4\n",
        "...\n",
        "2 X 9 = 18\n",
        "...\n",
        "...\n",
        "...\n",
        "9 단 입니다\n",
        "9 X 1 = 9\n",
        "9 X 2 = 18\n",
        "...\n",
        "9 X 9 = 81\n",
        "```"
      ],
      "metadata": {
        "id": "4HccVML8cWGQ"
      }
    },
    {
      "cell_type": "code",
      "source": [
        "i = 1\n",
        "while i < 10:\n",
        "     print(f\"{i+1}단 입니다.\")\n",
        "     i += 1\n",
        "\n",
        "     j = 1\n",
        "     while j < 10:\n",
        "        print(f\"{i} X {j} = {i*j}\")\n",
        "        j += 1"
      ],
      "metadata": {
        "colab": {
          "base_uri": "https://localhost:8080/"
        },
        "id": "EKg88VYtdc7Z",
        "outputId": "17d03c72-9a9f-49db-f12d-627eb8b8fe9b"
      },
      "execution_count": 236,
      "outputs": [
        {
          "output_type": "stream",
          "name": "stdout",
          "text": [
            "2단 입니다.\n",
            "2 X 1 = 2\n",
            "2 X 2 = 4\n",
            "2 X 3 = 6\n",
            "2 X 4 = 8\n",
            "2 X 5 = 10\n",
            "2 X 6 = 12\n",
            "2 X 7 = 14\n",
            "2 X 8 = 16\n",
            "2 X 9 = 18\n",
            "3단 입니다.\n",
            "3 X 1 = 3\n",
            "3 X 2 = 6\n",
            "3 X 3 = 9\n",
            "3 X 4 = 12\n",
            "3 X 5 = 15\n",
            "3 X 6 = 18\n",
            "3 X 7 = 21\n",
            "3 X 8 = 24\n",
            "3 X 9 = 27\n",
            "4단 입니다.\n",
            "4 X 1 = 4\n",
            "4 X 2 = 8\n",
            "4 X 3 = 12\n",
            "4 X 4 = 16\n",
            "4 X 5 = 20\n",
            "4 X 6 = 24\n",
            "4 X 7 = 28\n",
            "4 X 8 = 32\n",
            "4 X 9 = 36\n",
            "5단 입니다.\n",
            "5 X 1 = 5\n",
            "5 X 2 = 10\n",
            "5 X 3 = 15\n",
            "5 X 4 = 20\n",
            "5 X 5 = 25\n",
            "5 X 6 = 30\n",
            "5 X 7 = 35\n",
            "5 X 8 = 40\n",
            "5 X 9 = 45\n",
            "6단 입니다.\n",
            "6 X 1 = 6\n",
            "6 X 2 = 12\n",
            "6 X 3 = 18\n",
            "6 X 4 = 24\n",
            "6 X 5 = 30\n",
            "6 X 6 = 36\n",
            "6 X 7 = 42\n",
            "6 X 8 = 48\n",
            "6 X 9 = 54\n",
            "7단 입니다.\n",
            "7 X 1 = 7\n",
            "7 X 2 = 14\n",
            "7 X 3 = 21\n",
            "7 X 4 = 28\n",
            "7 X 5 = 35\n",
            "7 X 6 = 42\n",
            "7 X 7 = 49\n",
            "7 X 8 = 56\n",
            "7 X 9 = 63\n",
            "8단 입니다.\n",
            "8 X 1 = 8\n",
            "8 X 2 = 16\n",
            "8 X 3 = 24\n",
            "8 X 4 = 32\n",
            "8 X 5 = 40\n",
            "8 X 6 = 48\n",
            "8 X 7 = 56\n",
            "8 X 8 = 64\n",
            "8 X 9 = 72\n",
            "9단 입니다.\n",
            "9 X 1 = 9\n",
            "9 X 2 = 18\n",
            "9 X 3 = 27\n",
            "9 X 4 = 36\n",
            "9 X 5 = 45\n",
            "9 X 6 = 54\n",
            "9 X 7 = 63\n",
            "9 X 8 = 72\n",
            "9 X 9 = 81\n",
            "10단 입니다.\n",
            "10 X 1 = 10\n",
            "10 X 2 = 20\n",
            "10 X 3 = 30\n",
            "10 X 4 = 40\n",
            "10 X 5 = 50\n",
            "10 X 6 = 60\n",
            "10 X 7 = 70\n",
            "10 X 8 = 80\n",
            "10 X 9 = 90\n"
          ]
        }
      ]
    },
    {
      "cell_type": "markdown",
      "source": [
        "## `for`\n",
        "- 반복 가능(iterable)한 객체를 더이상 꺼낼 수 없을 때까지 반복한다.\n",
        "- `list`, `tuple`, `set`, `dict`, `str`\n",
        "\n",
        "```python\n",
        "for <variable> in <iterable>:\n",
        "    code content\n",
        "```"
      ],
      "metadata": {
        "id": "yJ16gIh-d24m"
      }
    },
    {
      "cell_type": "code",
      "source": [
        "lst = [1,2,3,4]\n",
        "for item in lst:   # 받아줄 변수 = item\n",
        "    print(item **2)"
      ],
      "metadata": {
        "colab": {
          "base_uri": "https://localhost:8080/"
        },
        "id": "E37DnuGX6uoy",
        "outputId": "375c4411-af29-429d-e53f-61a44ec60dd3"
      },
      "execution_count": 252,
      "outputs": [
        {
          "output_type": "stream",
          "name": "stdout",
          "text": [
            "1\n",
            "4\n",
            "9\n",
            "16\n"
          ]
        }
      ]
    },
    {
      "cell_type": "code",
      "source": [
        " n = 9\n",
        " lst = [1,2,3,4,5,6,7,8,9]\n",
        " for i in lst:\n",
        "    print(f\"{n} X {i} = {n*i}\")"
      ],
      "metadata": {
        "colab": {
          "base_uri": "https://localhost:8080/"
        },
        "id": "oGqFgAmO_dGw",
        "outputId": "e339acaa-0551-4d1f-b418-d0fa1905b480"
      },
      "execution_count": 255,
      "outputs": [
        {
          "output_type": "stream",
          "name": "stdout",
          "text": [
            "9 X 1 = 9\n",
            "9 X 2 = 18\n",
            "9 X 3 = 27\n",
            "9 X 4 = 36\n",
            "9 X 5 = 45\n",
            "9 X 6 = 54\n",
            "9 X 7 = 63\n",
            "9 X 8 = 72\n",
            "9 X 9 = 81\n"
          ]
        }
      ]
    },
    {
      "cell_type": "markdown",
      "source": [
        "```\n",
        "for문과 조건문을 이용하여 다음의 리스트에서 음수만 출력하세요\n",
        "lst = [-2,1,4,-88,-12,-12]\n",
        "```"
      ],
      "metadata": {
        "id": "eTa5A_7Q_62Z"
      }
    },
    {
      "cell_type": "code",
      "source": [
        "lst = [-2,1,4,-88,12,-12]\n",
        "\n",
        "for i in lst:   # lst를 i(변수) 안에 넣음\n",
        "    if i < 0:   # 그래서 lst가 아닌 i를 넣어야함\n",
        "        print(i)"
      ],
      "metadata": {
        "colab": {
          "base_uri": "https://localhost:8080/"
        },
        "id": "EYM3qxk9AXFL",
        "outputId": "844b9f40-0ba0-428f-998b-98d6c06f7418"
      },
      "execution_count": 282,
      "outputs": [
        {
          "output_type": "stream",
          "name": "stdout",
          "text": [
            "-2\n",
            "-88\n",
            "-12\n"
          ]
        }
      ]
    },
    {
      "cell_type": "markdown",
      "source": [
        "```\n",
        "for문과 조건문을 사용하여 다음의 리스트에서 3의 배수만을 출력하시오\n",
        "lst = [3,33,100,23,81,44]\n",
        "```"
      ],
      "metadata": {
        "id": "SCgJvUN6Apg5"
      }
    },
    {
      "cell_type": "code",
      "source": [
        "lst = [3,33,100,23,81,44]\n",
        "for i in lst:\n",
        "    if i % 3 == 0:\n",
        "        print(i)"
      ],
      "metadata": {
        "colab": {
          "base_uri": "https://localhost:8080/"
        },
        "id": "55MJGVXeDtyI",
        "outputId": "fb5e2084-5816-46b0-b5ae-feea25b2589d"
      },
      "execution_count": 287,
      "outputs": [
        {
          "output_type": "stream",
          "name": "stdout",
          "text": [
            "3\n",
            "33\n",
            "81\n"
          ]
        }
      ]
    },
    {
      "cell_type": "markdown",
      "source": [
        "```\n",
        "다음의 리스트에서 50미만의 3의 배수만 출력\n",
        "lst = [3,33,100,23,81,44]\n",
        "```"
      ],
      "metadata": {
        "id": "OUfHgLrvD-tS"
      }
    },
    {
      "cell_type": "code",
      "source": [
        "lst = [3,33,100,23,81,44]\n",
        "for i in lst:\n",
        "    if i % 3 == 0 and i < 50:\n",
        "        print(i)"
      ],
      "metadata": {
        "colab": {
          "base_uri": "https://localhost:8080/"
        },
        "id": "oLEPggzcFv1k",
        "outputId": "f857ef7e-52b7-46af-f5a5-14333f5c6af5"
      },
      "execution_count": 289,
      "outputs": [
        {
          "output_type": "stream",
          "name": "stdout",
          "text": [
            "3\n",
            "33\n"
          ]
        }
      ]
    },
    {
      "cell_type": "markdown",
      "source": [
        "```\n",
        "다음과 같이 리스트에 동물 이름이 있다. 첫글자를 대문자로 변경해서 출력하세요.\n",
        "lst = [\"dog\",\"cat\",\"rabbit\"]\n",
        "```"
      ],
      "metadata": {
        "id": "sCeVzsJXF9W4"
      }
    },
    {
      "cell_type": "code",
      "source": [
        "lst = [\"dog\",\"cat\",\"rabbit\"]\n",
        "\n",
        "for i in lst:\n",
        "      print(i[0].upper() + i[1::])"
      ],
      "metadata": {
        "colab": {
          "base_uri": "https://localhost:8080/"
        },
        "id": "s-j5UewzGyjC",
        "outputId": "df660fe3-9435-4408-f13a-ef7786370b8d"
      },
      "execution_count": 313,
      "outputs": [
        {
          "output_type": "stream",
          "name": "stdout",
          "text": [
            "Dog\n",
            "Cat\n",
            "Rabbit\n"
          ]
        }
      ]
    },
    {
      "cell_type": "markdown",
      "source": [
        "```\n",
        "다음과 같이 이메일 리스트에 담겨 있다. for 문과 문자열 메소드를 이용하여 아이디만 출력해보세요\n",
        "\n",
        "email_list = [\"user1004@gmail.com\",\"user100@naver.com\",\"user1@gmail.com\",\"user14@hanmail.net\"]\n",
        "```"
      ],
      "metadata": {
        "id": "dqjLA8g3HMPz"
      }
    },
    {
      "cell_type": "code",
      "source": [
        "email_list = [\"user1004@gmail.com\",\"user100@naver.com\",\"user1@gmail.com\",\"user14@hanmail.net\"]\n",
        "\n",
        "for i in email_list:\n",
        "    print(i.split(\"@\")[0])"
      ],
      "metadata": {
        "colab": {
          "base_uri": "https://localhost:8080/"
        },
        "id": "Ra_33VCtMm1R",
        "outputId": "3325a102-2950-4f49-f236-6e7919720d43"
      },
      "execution_count": 373,
      "outputs": [
        {
          "output_type": "stream",
          "name": "stdout",
          "text": [
            "user1004\n",
            "user100\n",
            "user1\n",
            "user14\n"
          ]
        }
      ]
    },
    {
      "cell_type": "markdown",
      "source": [
        "```\n",
        "gmail에 해당하는 이메일 주소만 출력하세요.\n",
        "email_list = [\"user1004@gmail.com\",\"user100@naver.com\",\"user1@gmail.com\",\"user14@hanmail.net\"]\n",
        "```"
      ],
      "metadata": {
        "id": "AxZR-JXAMzEX"
      }
    },
    {
      "cell_type": "code",
      "source": [
        "email_list = [\"user1004@gmailcom\",\"user100@naver.com\",\"user1@gmail.com\",\"user14@hanmail.net\"]\n",
        "\n",
        "for i in email_list:\n",
        "    if i.endswith(\"gmail.com\"):\n",
        "        print(i)"
      ],
      "metadata": {
        "colab": {
          "base_uri": "https://localhost:8080/"
        },
        "id": "3ou9qjNaOIKA",
        "outputId": "63435539-f948-4dd4-d9a8-0b0aa48a7ae9"
      },
      "execution_count": 369,
      "outputs": [
        {
          "output_type": "stream",
          "name": "stdout",
          "text": [
            "user1@gmail.com\n"
          ]
        }
      ]
    },
    {
      "cell_type": "markdown",
      "source": [
        "### `range` 함수\n",
        "- 특정 구간의 숫자의 범위를 만들어 주는 함수\n",
        "- 슬라이싱 기법을 이용해서 숫자의 범위를 만들어준다.\n",
        "- 파이썬의 range 라는 숫자의 범위를 가진 iterable한 특수한 객체를 반환\n",
        "- for문과 자주 사용된다."
      ],
      "metadata": {
        "id": "0wxl4jmnOXRv"
      }
    },
    {
      "cell_type": "code",
      "source": [
        "range(0,10) # 숫자 0~9까지 순차적으로 뽑겠다는 말"
      ],
      "metadata": {
        "colab": {
          "base_uri": "https://localhost:8080/"
        },
        "id": "rY-MSWTdP-VX",
        "outputId": "965b629b-b11a-487c-d6aa-bf539fc23993"
      },
      "execution_count": 337,
      "outputs": [
        {
          "output_type": "execute_result",
          "data": {
            "text/plain": [
              "range(0, 10)"
            ]
          },
          "metadata": {},
          "execution_count": 337
        }
      ]
    },
    {
      "cell_type": "code",
      "source": [
        "range(10)   # range(0,10)와 같다."
      ],
      "metadata": {
        "colab": {
          "base_uri": "https://localhost:8080/"
        },
        "id": "Hb_7bXaXQ2Dd",
        "outputId": "6fe8627f-9fbc-4915-8c12-0aa334d65330"
      },
      "execution_count": 339,
      "outputs": [
        {
          "output_type": "execute_result",
          "data": {
            "text/plain": [
              "range(0, 10)"
            ]
          },
          "metadata": {},
          "execution_count": 339
        }
      ]
    },
    {
      "cell_type": "code",
      "source": [
        "list(range(2,11,2))"
      ],
      "metadata": {
        "colab": {
          "base_uri": "https://localhost:8080/"
        },
        "id": "THIOrCsLRG0W",
        "outputId": "83547857-3c2b-490a-987b-9322ada97d50"
      },
      "execution_count": 342,
      "outputs": [
        {
          "output_type": "execute_result",
          "data": {
            "text/plain": [
              "[2, 4, 6, 8, 10]"
            ]
          },
          "metadata": {},
          "execution_count": 342
        }
      ]
    },
    {
      "cell_type": "code",
      "source": [
        "list(range(10,0,-1))  # 역순 (슬라이싱과 살짝 차이남)"
      ],
      "metadata": {
        "colab": {
          "base_uri": "https://localhost:8080/"
        },
        "id": "RK3dG2bURRiF",
        "outputId": "9e46a525-0a83-40b5-f1a1-5488690055b7"
      },
      "execution_count": 346,
      "outputs": [
        {
          "output_type": "execute_result",
          "data": {
            "text/plain": [
              "[10, 9, 8, 7, 6, 5, 4, 3, 2, 1]"
            ]
          },
          "metadata": {},
          "execution_count": 346
        }
      ]
    },
    {
      "cell_type": "code",
      "source": [
        "i = 9\n",
        "for i in range(1,10):\n",
        "    print(f\"{n} X {i} = {n*i}\")"
      ],
      "metadata": {
        "colab": {
          "base_uri": "https://localhost:8080/"
        },
        "id": "2o69B7V5R4ll",
        "outputId": "bf91a7f4-14a7-402a-84b2-e44d5fd63e01"
      },
      "execution_count": 347,
      "outputs": [
        {
          "output_type": "stream",
          "name": "stdout",
          "text": [
            "9 X 1 = 9\n",
            "9 X 2 = 18\n",
            "9 X 3 = 27\n",
            "9 X 4 = 36\n",
            "9 X 5 = 45\n",
            "9 X 6 = 54\n",
            "9 X 7 = 63\n",
            "9 X 8 = 72\n",
            "9 X 9 = 81\n"
          ]
        }
      ]
    },
    {
      "cell_type": "markdown",
      "source": [
        "```\n",
        "for 와 range 함수를 사용해서 1 ~ 40까지 숫자들 중에서 4의 배수만 출력해보세요.\n",
        "```"
      ],
      "metadata": {
        "id": "TTV4Dk13SOXd"
      }
    },
    {
      "cell_type": "code",
      "source": [
        "for i in range(1,41):   # 내 답\n",
        "    if i % 4 == 0:\n",
        "        print(i)"
      ],
      "metadata": {
        "colab": {
          "base_uri": "https://localhost:8080/"
        },
        "id": "2xWCpXNMSdum",
        "outputId": "8c3a858c-3e0e-4dd3-ce31-b3c69ab210db"
      },
      "execution_count": 361,
      "outputs": [
        {
          "output_type": "stream",
          "name": "stdout",
          "text": [
            "4\n",
            "8\n",
            "12\n",
            "16\n",
            "20\n",
            "24\n",
            "28\n",
            "32\n",
            "36\n",
            "40\n"
          ]
        }
      ]
    },
    {
      "cell_type": "code",
      "source": [
        "for i in range(4,41,4): # 강사님 답\n",
        "    print(i)"
      ],
      "metadata": {
        "colab": {
          "base_uri": "https://localhost:8080/"
        },
        "id": "4N8P9WWtSp7U",
        "outputId": "98d9afcc-789f-4013-9e3e-301c49cb6453"
      },
      "execution_count": 363,
      "outputs": [
        {
          "output_type": "stream",
          "name": "stdout",
          "text": [
            "4\n",
            "8\n",
            "12\n",
            "16\n",
            "20\n",
            "24\n",
            "28\n",
            "32\n",
            "36\n",
            "40\n"
          ]
        }
      ]
    },
    {
      "cell_type": "code",
      "source": [
        "for x in range(40,3,-4):\n",
        "    print(x)"
      ],
      "metadata": {
        "colab": {
          "base_uri": "https://localhost:8080/"
        },
        "id": "8Ut8h4oKUFlB",
        "outputId": "37b97b74-e7bb-4732-9108-32cad6755751"
      },
      "execution_count": 366,
      "outputs": [
        {
          "output_type": "stream",
          "name": "stdout",
          "text": [
            "40\n",
            "36\n",
            "32\n",
            "28\n",
            "24\n",
            "20\n",
            "16\n",
            "12\n",
            "8\n",
            "4\n"
          ]
        }
      ]
    }
  ]
}