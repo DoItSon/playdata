{
  "cells": [
    {
      "cell_type": "markdown",
      "metadata": {
        "id": "view-in-github",
        "colab_type": "text"
      },
      "source": [
        "<a href=\"https://colab.research.google.com/github/DoItSon/playdata/blob/main/%EB%A8%B8%EC%8B%A0%EB%9F%AC%EB%8B%9D(GB)_%ED%95%B4%EB%B3%B4%EA%B8%B0!.ipynb\" target=\"_parent\"><img src=\"https://colab.research.google.com/assets/colab-badge.svg\" alt=\"Open In Colab\"/></a>"
      ]
    },
    {
      "cell_type": "markdown",
      "metadata": {
        "id": "xX-n2cazCX3m"
      },
      "source": [
        "# 메모장\n",
        "- 0.8189379090413184 = 0.5\n",
        "- 0.8236173245493615 = 0.4\n",
        "- 0.8236625863676823 = 0.3\n",
        "- 0.8256464235755943 = 0.35\n",
        "\n",
        "- 0.823185924948775 머신러닝 결측치\n",
        "- 0.8247486240372479 내 결측치\n",
        "\n",
        "- 추후 베이지안 최저화를 통해 최적의 파라미터 찾기!"
      ]
    },
    {
      "cell_type": "code",
      "execution_count": 441,
      "metadata": {
        "id": "YgdtIy8Nuorh"
      },
      "outputs": [],
      "source": [
        "import torch\n",
        "import torch.nn as nn\n",
        "import torch.nn.functional as F\n",
        "import torch.optim as optim\n",
        "from torch.utils.data import DataLoader, Dataset\n",
        "\n",
        "from sklearn.preprocessing import StandardScaler\n",
        "from sklearn.preprocessing import MinMaxScaler\n",
        "from sklearn.preprocessing import OneHotEncoder\n",
        "from sklearn.preprocessing import LabelEncoder\n",
        "from sklearn.model_selection import train_test_split\n",
        "\n",
        "import os\n",
        "import pandas as pd\n",
        "import numpy as np\n",
        "import matplotlib.pyplot as plt\n",
        "from tqdm.auto import tqdm\n",
        "import random\n",
        "\n",
        "from sklearn.model_selection import KFold\n",
        "from sklearn.model_selection import cross_val_score\n",
        "from sklearn.metrics import f1_score\n",
        "from sklearn.feature_selection import SelectPercentile\n",
        "\n",
        "from sklearn.ensemble import GradientBoostingRegressor\n",
        "from sklearn.ensemble import GradientBoostingClassifier\n",
        "from sklearn.tree import DecisionTreeRegressor\n",
        "from sklearn.linear_model import LogisticRegression\n",
        "from sklearn.ensemble import RandomForestClassifier\n",
        "from sklearn.neural_network import MLPClassifier\n",
        "import lightgbm as lgb\n",
        "from lightgbm import LGBMClassifier,plot_importance\n",
        "from xgboost import XGBClassifier\n",
        "import xgboost as xgb\n",
        "\n",
        "from sklearn.experimental import enable_iterative_imputer\n",
        "from sklearn.impute import IterativeImputer\n",
        "\n",
        "\n",
        "from sklearn.metrics import accuracy_score\n",
        "from sklearn.metrics import explained_variance_score, r2_score, mean_absolute_error\n",
        "\n",
        "import warnings\n",
        "warnings.filterwarnings(action='ignore') \n",
        "\n",
        "device = torch.device('cuda') if torch.cuda.is_available() else torch.device('cpu')"
      ]
    },
    {
      "cell_type": "code",
      "execution_count": 442,
      "metadata": {
        "id": "SDjHDXlczZEC",
        "colab": {
          "base_uri": "https://localhost:8080/"
        },
        "outputId": "6ac2c2df-55c9-4202-e492-2508f812cb70"
      },
      "outputs": [
        {
          "output_type": "stream",
          "name": "stdout",
          "text": [
            "Looking in indexes: https://pypi.org/simple, https://us-python.pkg.dev/colab-wheels/public/simple/\n",
            "Requirement already satisfied: optuna in /usr/local/lib/python3.8/dist-packages (3.0.4)\n",
            "Requirement already satisfied: alembic>=1.5.0 in /usr/local/lib/python3.8/dist-packages (from optuna) (1.8.1)\n",
            "Requirement already satisfied: packaging>=20.0 in /usr/local/lib/python3.8/dist-packages (from optuna) (21.3)\n",
            "Requirement already satisfied: cmaes>=0.8.2 in /usr/local/lib/python3.8/dist-packages (from optuna) (0.9.0)\n",
            "Requirement already satisfied: numpy in /usr/local/lib/python3.8/dist-packages (from optuna) (1.21.6)\n",
            "Requirement already satisfied: importlib-metadata<5.0.0 in /usr/local/lib/python3.8/dist-packages (from optuna) (4.13.0)\n",
            "Requirement already satisfied: scipy<1.9.0,>=1.7.0 in /usr/local/lib/python3.8/dist-packages (from optuna) (1.7.3)\n",
            "Requirement already satisfied: sqlalchemy>=1.3.0 in /usr/local/lib/python3.8/dist-packages (from optuna) (1.4.44)\n",
            "Requirement already satisfied: tqdm in /usr/local/lib/python3.8/dist-packages (from optuna) (4.64.1)\n",
            "Requirement already satisfied: colorlog in /usr/local/lib/python3.8/dist-packages (from optuna) (6.7.0)\n",
            "Requirement already satisfied: cliff in /usr/local/lib/python3.8/dist-packages (from optuna) (4.1.0)\n",
            "Requirement already satisfied: PyYAML in /usr/local/lib/python3.8/dist-packages (from optuna) (6.0)\n",
            "Requirement already satisfied: importlib-resources in /usr/local/lib/python3.8/dist-packages (from alembic>=1.5.0->optuna) (5.10.0)\n",
            "Requirement already satisfied: Mako in /usr/local/lib/python3.8/dist-packages (from alembic>=1.5.0->optuna) (1.2.4)\n",
            "Requirement already satisfied: zipp>=0.5 in /usr/local/lib/python3.8/dist-packages (from importlib-metadata<5.0.0->optuna) (3.10.0)\n",
            "Requirement already satisfied: pyparsing!=3.0.5,>=2.0.2 in /usr/local/lib/python3.8/dist-packages (from packaging>=20.0->optuna) (3.0.9)\n",
            "Requirement already satisfied: greenlet!=0.4.17 in /usr/local/lib/python3.8/dist-packages (from sqlalchemy>=1.3.0->optuna) (2.0.1)\n",
            "Requirement already satisfied: autopage>=0.4.0 in /usr/local/lib/python3.8/dist-packages (from cliff->optuna) (0.5.1)\n",
            "Requirement already satisfied: PrettyTable>=0.7.2 in /usr/local/lib/python3.8/dist-packages (from cliff->optuna) (3.5.0)\n",
            "Requirement already satisfied: stevedore>=2.0.1 in /usr/local/lib/python3.8/dist-packages (from cliff->optuna) (4.1.1)\n",
            "Requirement already satisfied: cmd2>=1.0.0 in /usr/local/lib/python3.8/dist-packages (from cliff->optuna) (2.4.2)\n",
            "Requirement already satisfied: pyperclip>=1.6 in /usr/local/lib/python3.8/dist-packages (from cmd2>=1.0.0->cliff->optuna) (1.8.2)\n",
            "Requirement already satisfied: attrs>=16.3.0 in /usr/local/lib/python3.8/dist-packages (from cmd2>=1.0.0->cliff->optuna) (22.1.0)\n",
            "Requirement already satisfied: wcwidth>=0.1.7 in /usr/local/lib/python3.8/dist-packages (from cmd2>=1.0.0->cliff->optuna) (0.2.5)\n",
            "Requirement already satisfied: pbr!=2.1.0,>=2.0.0 in /usr/local/lib/python3.8/dist-packages (from stevedore>=2.0.1->cliff->optuna) (5.11.0)\n",
            "Requirement already satisfied: MarkupSafe>=0.9.2 in /usr/local/lib/python3.8/dist-packages (from Mako->alembic>=1.5.0->optuna) (2.0.1)\n"
          ]
        }
      ],
      "source": [
        "!pip install optuna"
      ]
    },
    {
      "cell_type": "code",
      "execution_count": 443,
      "metadata": {
        "id": "yMpWlRFlzWYJ"
      },
      "outputs": [],
      "source": [
        "import optuna"
      ]
    },
    {
      "cell_type": "code",
      "execution_count": 444,
      "metadata": {
        "colab": {
          "base_uri": "https://localhost:8080/"
        },
        "id": "osqF88dHvWOz",
        "outputId": "8d8a0def-6ae3-4623-d978-bc8b2c2efd3f"
      },
      "outputs": [
        {
          "output_type": "stream",
          "name": "stdout",
          "text": [
            "Drive already mounted at /content/drive; to attempt to forcibly remount, call drive.mount(\"/content/drive\", force_remount=True).\n"
          ]
        }
      ],
      "source": [
        "from google.colab import drive\n",
        "drive.mount('/content/drive')"
      ]
    },
    {
      "cell_type": "code",
      "execution_count": 445,
      "metadata": {
        "id": "bd8gPQ0mP0cU"
      },
      "outputs": [],
      "source": [
        "DATA_PATH = \"/content/drive/MyDrive/\""
      ]
    },
    {
      "cell_type": "code",
      "execution_count": 446,
      "metadata": {
        "id": "TU7N5vbvuq-z"
      },
      "outputs": [],
      "source": [
        "train = pd.read_csv(f'{DATA_PATH}train.csv')\n",
        "test = pd.read_csv(f'{DATA_PATH}test.csv')"
      ]
    },
    {
      "cell_type": "code",
      "execution_count": 447,
      "metadata": {
        "id": "r7SdMupLqn1U"
      },
      "outputs": [],
      "source": [
        "categorical_features_enc = ['COMPONENT_ARBITRARY_COMPONENT1',\n",
        "       'COMPONENT_ARBITRARY_COMPONENT2', 'COMPONENT_ARBITRARY_COMPONENT3',\n",
        "       'COMPONENT_ARBITRARY_COMPONENT4', 'YEAR_2007', 'YEAR_2008', 'YEAR_2009',\n",
        "       'YEAR_2010', 'YEAR_2011', 'YEAR_2012', 'YEAR_2013', 'YEAR_2014',\n",
        "       'YEAR_2015', 'YEAR_2016', 'YEAR_2017', 'YEAR_2018', 'YEAR_2019',\n",
        "       'YEAR_2020', 'YEAR_2021', 'YEAR_2022']"
      ]
    },
    {
      "cell_type": "markdown",
      "metadata": {
        "id": "fT4y7j-0eFEK"
      },
      "source": [
        "## 전처리"
      ]
    },
    {
      "cell_type": "code",
      "execution_count": 448,
      "metadata": {
        "id": "cuVl-N5cvnXH"
      },
      "outputs": [],
      "source": [
        "CFG = {\n",
        "    'n_splits':5,\n",
        "    'SEED':42\n",
        "}"
      ]
    },
    {
      "cell_type": "markdown",
      "metadata": {
        "id": "6WjsBSRfLQ09"
      },
      "source": [
        "- 내가 직접한 결측치"
      ]
    },
    {
      "cell_type": "code",
      "execution_count": 449,
      "metadata": {
        "id": "BuKxWVPfTBge"
      },
      "outputs": [],
      "source": [
        "# fill_mean_func = lambda x: x.fillna(x.median())\n",
        "# zx = train.groupby([\"SAMPLE_TRANSFER_DAY\",\"COMPONENT_ARBITRARY\"]).apply(fill_mean_func)\n",
        "# xc = zx.groupby([\"ANONYMOUS_2\",\"YEAR\"]).apply(fill_mean_func)\n",
        "\n",
        "# xc1 = xc.groupby([\"ANONYMOUS_1\",\"ANONYMOUS_2\"]).apply(fill_mean_func)\n",
        "\n",
        "# feat = pd.DataFrame(train[\"ID\"].unique(),columns = [\"ID\"])\n",
        "\n",
        "# xc2 = xc1.groupby([\"MO\"]).apply(fill_mean_func)\n",
        "\n",
        "# features = feat.merge(xc2,how=\"left\",on=\"ID\")\n",
        "\n",
        "# train = features"
      ]
    },
    {
      "cell_type": "code",
      "execution_count": 450,
      "metadata": {
        "id": "HLpDU3FATBdU"
      },
      "outputs": [],
      "source": [
        "# train.isnull().sum()"
      ]
    },
    {
      "cell_type": "markdown",
      "source": [
        "- 머신러닝"
      ],
      "metadata": {
        "id": "1PGSDgZWytig"
      }
    },
    {
      "cell_type": "code",
      "source": [
        "cols = ['CD','FOPTIMETHGLY',\"FUEL\",'K','U100','U75','U50',\"FH2O\",\"FNOX\",\"FOXID\",\"FSO4\",\"FTBN\",\"SOOTPERCENTAGE\",\"U25\",\"U20\",\"U14\",\"U6\",\"U4\",\"V100\"]"
      ],
      "metadata": {
        "id": "gf1AxtpezdVR"
      },
      "execution_count": 451,
      "outputs": []
    },
    {
      "cell_type": "code",
      "source": [
        "for i in cols:\n",
        "    imputer = IterativeImputer(estimator =  lgb.LGBMRegressor(),random_state=CFG[\"SEED\"]) # IterativeImputer에서 다양한 옵션이 있다. (estimator는 머신러닝 옵션!)\n",
        "    train[i] = imputer.fit_transform(train[[i]])"
      ],
      "metadata": {
        "id": "nq5B3T9zytCK"
      },
      "execution_count": 452,
      "outputs": []
    },
    {
      "cell_type": "code",
      "source": [],
      "metadata": {
        "id": "Aty4BYmGysFY"
      },
      "execution_count": 452,
      "outputs": []
    },
    {
      "cell_type": "markdown",
      "metadata": {
        "id": "X-bThqPCUsRb"
      },
      "source": [
        "- 다 0으로 채우기!"
      ]
    },
    {
      "cell_type": "code",
      "execution_count": 453,
      "metadata": {
        "id": "xIFnfDIvsndj"
      },
      "outputs": [],
      "source": [
        "# train = train.fillna(0)\n",
        "# test = test.fillna(0)"
      ]
    },
    {
      "cell_type": "code",
      "execution_count": 454,
      "metadata": {
        "id": "Is-5iawtEHtd",
        "colab": {
          "base_uri": "https://localhost:8080/"
        },
        "outputId": "9c4d20e2-e63d-48db-8b3a-d79720626e9e"
      },
      "outputs": [
        {
          "output_type": "execute_result",
          "data": {
            "text/plain": [
              "0"
            ]
          },
          "metadata": {},
          "execution_count": 454
        }
      ],
      "source": [
        "train.isnull().sum().sum()"
      ]
    },
    {
      "cell_type": "code",
      "source": [
        "train.columns"
      ],
      "metadata": {
        "colab": {
          "base_uri": "https://localhost:8080/"
        },
        "id": "FQqw43210Mzl",
        "outputId": "4bd4ae17-04a5-4ff0-c793-918408da9b3e"
      },
      "execution_count": 455,
      "outputs": [
        {
          "output_type": "execute_result",
          "data": {
            "text/plain": [
              "Index(['ID', 'COMPONENT_ARBITRARY', 'ANONYMOUS_1', 'YEAR',\n",
              "       'SAMPLE_TRANSFER_DAY', 'ANONYMOUS_2', 'AG', 'AL', 'B', 'BA', 'BE', 'CA',\n",
              "       'CD', 'CO', 'CR', 'CU', 'FH2O', 'FNOX', 'FOPTIMETHGLY', 'FOXID', 'FSO4',\n",
              "       'FTBN', 'FE', 'FUEL', 'H2O', 'K', 'LI', 'MG', 'MN', 'MO', 'NA', 'NI',\n",
              "       'P', 'PB', 'PQINDEX', 'S', 'SB', 'SI', 'SN', 'SOOTPERCENTAGE', 'TI',\n",
              "       'U100', 'U75', 'U50', 'U25', 'U20', 'U14', 'U6', 'U4', 'V', 'V100',\n",
              "       'V40', 'ZN', 'Y_LABEL'],\n",
              "      dtype='object')"
            ]
          },
          "metadata": {},
          "execution_count": 455
        }
      ]
    },
    {
      "cell_type": "markdown",
      "metadata": {
        "id": "uqwf9sYkEAZ_"
      },
      "source": [
        "## 피처 추가"
      ]
    },
    {
      "cell_type": "code",
      "source": [
        "# reg_col = ['AL', 'B', 'BA', 'BE', 'CA',\n",
        "#        'CD', 'FH2O', 'FNOX', 'FOPTIMETHGLY', 'FOXID', 'FSO4',\n",
        "#        'FTBN', 'FUEL', 'K', 'LI', 'MG', 'NA',\n",
        "#        'P', 'PB',  'S', 'SB', 'SI', 'SN', 'SOOTPERCENTAGE',\n",
        "#        'U100', 'U75', 'U50', 'U25', 'U20', 'U14', 'U6', 'U4', 'V100',\n",
        "#        ] # 'ID','YEAR','ANONYMOUS_2','COMPONENT_ARBITRARY' train에만 있는 것"
      ],
      "metadata": {
        "id": "ErvmgQxtTcng"
      },
      "execution_count": 456,
      "outputs": []
    },
    {
      "cell_type": "code",
      "source": [
        "# tmp = train.groupby([\"COMPONENT_ARBITRARY\",\"ANONYMOUS_1\",\"ANONYMOUS_2\",\"YEAR\"])[reg_col].mean()\n",
        "# tmp = tmp.reset_index()\n",
        "# tmp = tmp.add_prefix(\"mean_\")\n",
        "# tmp = tmp.rename(columns = {'mean_COMPONENT_ARBITRARY':'COMPONENT_ARBITRARY','mean_ANONYMOUS_1':'ANONYMOUS_1','mean_ANONYMOUS_2':'ANONYMOUS_2','mean_YEAR':'YEAR'})\n",
        "# tmp"
      ],
      "metadata": {
        "id": "ivqaoBktbOJl"
      },
      "execution_count": 457,
      "outputs": []
    },
    {
      "cell_type": "code",
      "source": [
        "# test = test.merge(tmp,how=\"left\",on = [\"COMPONENT_ARBITRARY\",\"ANONYMOUS_1\",\"ANONYMOUS_2\",\"YEAR\"])\n",
        "# test"
      ],
      "metadata": {
        "id": "clIfQ1eEI0AB"
      },
      "execution_count": 458,
      "outputs": []
    },
    {
      "cell_type": "markdown",
      "source": [
        "## 피처추가"
      ],
      "metadata": {
        "id": "e4wLJgSZNmRA"
      }
    },
    {
      "cell_type": "code",
      "execution_count": 459,
      "metadata": {
        "id": "EHIwzFbWrHQW",
        "colab": {
          "base_uri": "https://localhost:8080/",
          "height": 488
        },
        "outputId": "aa2d9cc6-e0ee-4291-999a-071073bf3c2b"
      },
      "outputs": [
        {
          "output_type": "execute_result",
          "data": {
            "text/plain": [
              "                ID COMPONENT_ARBITRARY  ANONYMOUS_1  YEAR  \\\n",
              "0      TRAIN_00000          COMPONENT3         1486  2011   \n",
              "1      TRAIN_00001          COMPONENT2         1350  2021   \n",
              "2      TRAIN_00002          COMPONENT2         2415  2015   \n",
              "3      TRAIN_00003          COMPONENT3         7389  2010   \n",
              "4      TRAIN_00004          COMPONENT3         3954  2015   \n",
              "...            ...                 ...          ...   ...   \n",
              "14090  TRAIN_14090          COMPONENT3         1616  2014   \n",
              "14091  TRAIN_14091          COMPONENT1         2784  2013   \n",
              "14092  TRAIN_14092          COMPONENT3         1788  2008   \n",
              "14093  TRAIN_14093          COMPONENT2         2498  2009   \n",
              "14094  TRAIN_14094          COMPONENT2         1902  2012   \n",
              "\n",
              "       SAMPLE_TRANSFER_DAY  ANONYMOUS_2  AG   AL    B  BA  ...          U20  \\\n",
              "0                        7          200   0    3   93   0  ...    56.063472   \n",
              "1                       51          375   0    2   19   0  ...     4.000000   \n",
              "2                        2          200   0  110    1   1  ...     3.000000   \n",
              "3                        2          200   0    8    3   0  ...    56.063472   \n",
              "4                        4          200   0    1  157   0  ...    56.063472   \n",
              "...                    ...          ...  ..  ...  ...  ..  ...          ...   \n",
              "14090                    8          200   0    2  201   1  ...    56.063472   \n",
              "14091                    2          200   0    3   85   0  ...    56.063472   \n",
              "14092                    9          550   0    6    0   1  ...    56.063472   \n",
              "14093                   19          550   0    2    4   0  ...     8.000000   \n",
              "14094                   15          200   0    0   77   0  ...  2565.000000   \n",
              "\n",
              "                U14             U6             U4  V      V100    V40    ZN  \\\n",
              "0        239.938149    5488.693107   19415.597262  0  13.57623  154.0    75   \n",
              "1          6.000000     216.000000    1454.000000  0  13.57623   44.0   652   \n",
              "2         39.000000   11261.000000   41081.000000  0  13.57623   72.6   412   \n",
              "3        239.938149    5488.693107   19415.597262  0  13.57623  133.3     7   \n",
              "4        239.938149    5488.693107   19415.597262  0  13.57623  133.1   128   \n",
              "...             ...            ...            ... ..       ...    ...   ...   \n",
              "14090    239.938149    5488.693107   19415.597262  0  13.57623  135.4    16   \n",
              "14091    239.938149    5488.693107   19415.597262  0  14.50000  117.5  1408   \n",
              "14092    239.938149    5488.693107   19415.597262  0  13.57623   54.0  1301   \n",
              "14093    100.000000    1625.000000   18890.000000  0  13.57623   44.3   652   \n",
              "14094  11296.000000  181016.000000  325823.000000  0  13.57623   47.0   612   \n",
              "\n",
              "       Y_LABEL  FNOX+FH2O  \n",
              "0            0  11.190231  \n",
              "1            0  11.190231  \n",
              "2            1  11.190231  \n",
              "3            0  11.190231  \n",
              "4            0  11.190231  \n",
              "...        ...        ...  \n",
              "14090        0  11.190231  \n",
              "14091        0  10.500000  \n",
              "14092        0  11.190231  \n",
              "14093        0  11.190231  \n",
              "14094        0  11.190231  \n",
              "\n",
              "[14095 rows x 55 columns]"
            ],
            "text/html": [
              "\n",
              "  <div id=\"df-a6926501-dcf3-4a2f-9717-7c4ee0ae3846\">\n",
              "    <div class=\"colab-df-container\">\n",
              "      <div>\n",
              "<style scoped>\n",
              "    .dataframe tbody tr th:only-of-type {\n",
              "        vertical-align: middle;\n",
              "    }\n",
              "\n",
              "    .dataframe tbody tr th {\n",
              "        vertical-align: top;\n",
              "    }\n",
              "\n",
              "    .dataframe thead th {\n",
              "        text-align: right;\n",
              "    }\n",
              "</style>\n",
              "<table border=\"1\" class=\"dataframe\">\n",
              "  <thead>\n",
              "    <tr style=\"text-align: right;\">\n",
              "      <th></th>\n",
              "      <th>ID</th>\n",
              "      <th>COMPONENT_ARBITRARY</th>\n",
              "      <th>ANONYMOUS_1</th>\n",
              "      <th>YEAR</th>\n",
              "      <th>SAMPLE_TRANSFER_DAY</th>\n",
              "      <th>ANONYMOUS_2</th>\n",
              "      <th>AG</th>\n",
              "      <th>AL</th>\n",
              "      <th>B</th>\n",
              "      <th>BA</th>\n",
              "      <th>...</th>\n",
              "      <th>U20</th>\n",
              "      <th>U14</th>\n",
              "      <th>U6</th>\n",
              "      <th>U4</th>\n",
              "      <th>V</th>\n",
              "      <th>V100</th>\n",
              "      <th>V40</th>\n",
              "      <th>ZN</th>\n",
              "      <th>Y_LABEL</th>\n",
              "      <th>FNOX+FH2O</th>\n",
              "    </tr>\n",
              "  </thead>\n",
              "  <tbody>\n",
              "    <tr>\n",
              "      <th>0</th>\n",
              "      <td>TRAIN_00000</td>\n",
              "      <td>COMPONENT3</td>\n",
              "      <td>1486</td>\n",
              "      <td>2011</td>\n",
              "      <td>7</td>\n",
              "      <td>200</td>\n",
              "      <td>0</td>\n",
              "      <td>3</td>\n",
              "      <td>93</td>\n",
              "      <td>0</td>\n",
              "      <td>...</td>\n",
              "      <td>56.063472</td>\n",
              "      <td>239.938149</td>\n",
              "      <td>5488.693107</td>\n",
              "      <td>19415.597262</td>\n",
              "      <td>0</td>\n",
              "      <td>13.57623</td>\n",
              "      <td>154.0</td>\n",
              "      <td>75</td>\n",
              "      <td>0</td>\n",
              "      <td>11.190231</td>\n",
              "    </tr>\n",
              "    <tr>\n",
              "      <th>1</th>\n",
              "      <td>TRAIN_00001</td>\n",
              "      <td>COMPONENT2</td>\n",
              "      <td>1350</td>\n",
              "      <td>2021</td>\n",
              "      <td>51</td>\n",
              "      <td>375</td>\n",
              "      <td>0</td>\n",
              "      <td>2</td>\n",
              "      <td>19</td>\n",
              "      <td>0</td>\n",
              "      <td>...</td>\n",
              "      <td>4.000000</td>\n",
              "      <td>6.000000</td>\n",
              "      <td>216.000000</td>\n",
              "      <td>1454.000000</td>\n",
              "      <td>0</td>\n",
              "      <td>13.57623</td>\n",
              "      <td>44.0</td>\n",
              "      <td>652</td>\n",
              "      <td>0</td>\n",
              "      <td>11.190231</td>\n",
              "    </tr>\n",
              "    <tr>\n",
              "      <th>2</th>\n",
              "      <td>TRAIN_00002</td>\n",
              "      <td>COMPONENT2</td>\n",
              "      <td>2415</td>\n",
              "      <td>2015</td>\n",
              "      <td>2</td>\n",
              "      <td>200</td>\n",
              "      <td>0</td>\n",
              "      <td>110</td>\n",
              "      <td>1</td>\n",
              "      <td>1</td>\n",
              "      <td>...</td>\n",
              "      <td>3.000000</td>\n",
              "      <td>39.000000</td>\n",
              "      <td>11261.000000</td>\n",
              "      <td>41081.000000</td>\n",
              "      <td>0</td>\n",
              "      <td>13.57623</td>\n",
              "      <td>72.6</td>\n",
              "      <td>412</td>\n",
              "      <td>1</td>\n",
              "      <td>11.190231</td>\n",
              "    </tr>\n",
              "    <tr>\n",
              "      <th>3</th>\n",
              "      <td>TRAIN_00003</td>\n",
              "      <td>COMPONENT3</td>\n",
              "      <td>7389</td>\n",
              "      <td>2010</td>\n",
              "      <td>2</td>\n",
              "      <td>200</td>\n",
              "      <td>0</td>\n",
              "      <td>8</td>\n",
              "      <td>3</td>\n",
              "      <td>0</td>\n",
              "      <td>...</td>\n",
              "      <td>56.063472</td>\n",
              "      <td>239.938149</td>\n",
              "      <td>5488.693107</td>\n",
              "      <td>19415.597262</td>\n",
              "      <td>0</td>\n",
              "      <td>13.57623</td>\n",
              "      <td>133.3</td>\n",
              "      <td>7</td>\n",
              "      <td>0</td>\n",
              "      <td>11.190231</td>\n",
              "    </tr>\n",
              "    <tr>\n",
              "      <th>4</th>\n",
              "      <td>TRAIN_00004</td>\n",
              "      <td>COMPONENT3</td>\n",
              "      <td>3954</td>\n",
              "      <td>2015</td>\n",
              "      <td>4</td>\n",
              "      <td>200</td>\n",
              "      <td>0</td>\n",
              "      <td>1</td>\n",
              "      <td>157</td>\n",
              "      <td>0</td>\n",
              "      <td>...</td>\n",
              "      <td>56.063472</td>\n",
              "      <td>239.938149</td>\n",
              "      <td>5488.693107</td>\n",
              "      <td>19415.597262</td>\n",
              "      <td>0</td>\n",
              "      <td>13.57623</td>\n",
              "      <td>133.1</td>\n",
              "      <td>128</td>\n",
              "      <td>0</td>\n",
              "      <td>11.190231</td>\n",
              "    </tr>\n",
              "    <tr>\n",
              "      <th>...</th>\n",
              "      <td>...</td>\n",
              "      <td>...</td>\n",
              "      <td>...</td>\n",
              "      <td>...</td>\n",
              "      <td>...</td>\n",
              "      <td>...</td>\n",
              "      <td>...</td>\n",
              "      <td>...</td>\n",
              "      <td>...</td>\n",
              "      <td>...</td>\n",
              "      <td>...</td>\n",
              "      <td>...</td>\n",
              "      <td>...</td>\n",
              "      <td>...</td>\n",
              "      <td>...</td>\n",
              "      <td>...</td>\n",
              "      <td>...</td>\n",
              "      <td>...</td>\n",
              "      <td>...</td>\n",
              "      <td>...</td>\n",
              "      <td>...</td>\n",
              "    </tr>\n",
              "    <tr>\n",
              "      <th>14090</th>\n",
              "      <td>TRAIN_14090</td>\n",
              "      <td>COMPONENT3</td>\n",
              "      <td>1616</td>\n",
              "      <td>2014</td>\n",
              "      <td>8</td>\n",
              "      <td>200</td>\n",
              "      <td>0</td>\n",
              "      <td>2</td>\n",
              "      <td>201</td>\n",
              "      <td>1</td>\n",
              "      <td>...</td>\n",
              "      <td>56.063472</td>\n",
              "      <td>239.938149</td>\n",
              "      <td>5488.693107</td>\n",
              "      <td>19415.597262</td>\n",
              "      <td>0</td>\n",
              "      <td>13.57623</td>\n",
              "      <td>135.4</td>\n",
              "      <td>16</td>\n",
              "      <td>0</td>\n",
              "      <td>11.190231</td>\n",
              "    </tr>\n",
              "    <tr>\n",
              "      <th>14091</th>\n",
              "      <td>TRAIN_14091</td>\n",
              "      <td>COMPONENT1</td>\n",
              "      <td>2784</td>\n",
              "      <td>2013</td>\n",
              "      <td>2</td>\n",
              "      <td>200</td>\n",
              "      <td>0</td>\n",
              "      <td>3</td>\n",
              "      <td>85</td>\n",
              "      <td>0</td>\n",
              "      <td>...</td>\n",
              "      <td>56.063472</td>\n",
              "      <td>239.938149</td>\n",
              "      <td>5488.693107</td>\n",
              "      <td>19415.597262</td>\n",
              "      <td>0</td>\n",
              "      <td>14.50000</td>\n",
              "      <td>117.5</td>\n",
              "      <td>1408</td>\n",
              "      <td>0</td>\n",
              "      <td>10.500000</td>\n",
              "    </tr>\n",
              "    <tr>\n",
              "      <th>14092</th>\n",
              "      <td>TRAIN_14092</td>\n",
              "      <td>COMPONENT3</td>\n",
              "      <td>1788</td>\n",
              "      <td>2008</td>\n",
              "      <td>9</td>\n",
              "      <td>550</td>\n",
              "      <td>0</td>\n",
              "      <td>6</td>\n",
              "      <td>0</td>\n",
              "      <td>1</td>\n",
              "      <td>...</td>\n",
              "      <td>56.063472</td>\n",
              "      <td>239.938149</td>\n",
              "      <td>5488.693107</td>\n",
              "      <td>19415.597262</td>\n",
              "      <td>0</td>\n",
              "      <td>13.57623</td>\n",
              "      <td>54.0</td>\n",
              "      <td>1301</td>\n",
              "      <td>0</td>\n",
              "      <td>11.190231</td>\n",
              "    </tr>\n",
              "    <tr>\n",
              "      <th>14093</th>\n",
              "      <td>TRAIN_14093</td>\n",
              "      <td>COMPONENT2</td>\n",
              "      <td>2498</td>\n",
              "      <td>2009</td>\n",
              "      <td>19</td>\n",
              "      <td>550</td>\n",
              "      <td>0</td>\n",
              "      <td>2</td>\n",
              "      <td>4</td>\n",
              "      <td>0</td>\n",
              "      <td>...</td>\n",
              "      <td>8.000000</td>\n",
              "      <td>100.000000</td>\n",
              "      <td>1625.000000</td>\n",
              "      <td>18890.000000</td>\n",
              "      <td>0</td>\n",
              "      <td>13.57623</td>\n",
              "      <td>44.3</td>\n",
              "      <td>652</td>\n",
              "      <td>0</td>\n",
              "      <td>11.190231</td>\n",
              "    </tr>\n",
              "    <tr>\n",
              "      <th>14094</th>\n",
              "      <td>TRAIN_14094</td>\n",
              "      <td>COMPONENT2</td>\n",
              "      <td>1902</td>\n",
              "      <td>2012</td>\n",
              "      <td>15</td>\n",
              "      <td>200</td>\n",
              "      <td>0</td>\n",
              "      <td>0</td>\n",
              "      <td>77</td>\n",
              "      <td>0</td>\n",
              "      <td>...</td>\n",
              "      <td>2565.000000</td>\n",
              "      <td>11296.000000</td>\n",
              "      <td>181016.000000</td>\n",
              "      <td>325823.000000</td>\n",
              "      <td>0</td>\n",
              "      <td>13.57623</td>\n",
              "      <td>47.0</td>\n",
              "      <td>612</td>\n",
              "      <td>0</td>\n",
              "      <td>11.190231</td>\n",
              "    </tr>\n",
              "  </tbody>\n",
              "</table>\n",
              "<p>14095 rows × 55 columns</p>\n",
              "</div>\n",
              "      <button class=\"colab-df-convert\" onclick=\"convertToInteractive('df-a6926501-dcf3-4a2f-9717-7c4ee0ae3846')\"\n",
              "              title=\"Convert this dataframe to an interactive table.\"\n",
              "              style=\"display:none;\">\n",
              "        \n",
              "  <svg xmlns=\"http://www.w3.org/2000/svg\" height=\"24px\"viewBox=\"0 0 24 24\"\n",
              "       width=\"24px\">\n",
              "    <path d=\"M0 0h24v24H0V0z\" fill=\"none\"/>\n",
              "    <path d=\"M18.56 5.44l.94 2.06.94-2.06 2.06-.94-2.06-.94-.94-2.06-.94 2.06-2.06.94zm-11 1L8.5 8.5l.94-2.06 2.06-.94-2.06-.94L8.5 2.5l-.94 2.06-2.06.94zm10 10l.94 2.06.94-2.06 2.06-.94-2.06-.94-.94-2.06-.94 2.06-2.06.94z\"/><path d=\"M17.41 7.96l-1.37-1.37c-.4-.4-.92-.59-1.43-.59-.52 0-1.04.2-1.43.59L10.3 9.45l-7.72 7.72c-.78.78-.78 2.05 0 2.83L4 21.41c.39.39.9.59 1.41.59.51 0 1.02-.2 1.41-.59l7.78-7.78 2.81-2.81c.8-.78.8-2.07 0-2.86zM5.41 20L4 18.59l7.72-7.72 1.47 1.35L5.41 20z\"/>\n",
              "  </svg>\n",
              "      </button>\n",
              "      \n",
              "  <style>\n",
              "    .colab-df-container {\n",
              "      display:flex;\n",
              "      flex-wrap:wrap;\n",
              "      gap: 12px;\n",
              "    }\n",
              "\n",
              "    .colab-df-convert {\n",
              "      background-color: #E8F0FE;\n",
              "      border: none;\n",
              "      border-radius: 50%;\n",
              "      cursor: pointer;\n",
              "      display: none;\n",
              "      fill: #1967D2;\n",
              "      height: 32px;\n",
              "      padding: 0 0 0 0;\n",
              "      width: 32px;\n",
              "    }\n",
              "\n",
              "    .colab-df-convert:hover {\n",
              "      background-color: #E2EBFA;\n",
              "      box-shadow: 0px 1px 2px rgba(60, 64, 67, 0.3), 0px 1px 3px 1px rgba(60, 64, 67, 0.15);\n",
              "      fill: #174EA6;\n",
              "    }\n",
              "\n",
              "    [theme=dark] .colab-df-convert {\n",
              "      background-color: #3B4455;\n",
              "      fill: #D2E3FC;\n",
              "    }\n",
              "\n",
              "    [theme=dark] .colab-df-convert:hover {\n",
              "      background-color: #434B5C;\n",
              "      box-shadow: 0px 1px 3px 1px rgba(0, 0, 0, 0.15);\n",
              "      filter: drop-shadow(0px 1px 2px rgba(0, 0, 0, 0.3));\n",
              "      fill: #FFFFFF;\n",
              "    }\n",
              "  </style>\n",
              "\n",
              "      <script>\n",
              "        const buttonEl =\n",
              "          document.querySelector('#df-a6926501-dcf3-4a2f-9717-7c4ee0ae3846 button.colab-df-convert');\n",
              "        buttonEl.style.display =\n",
              "          google.colab.kernel.accessAllowed ? 'block' : 'none';\n",
              "\n",
              "        async function convertToInteractive(key) {\n",
              "          const element = document.querySelector('#df-a6926501-dcf3-4a2f-9717-7c4ee0ae3846');\n",
              "          const dataTable =\n",
              "            await google.colab.kernel.invokeFunction('convertToInteractive',\n",
              "                                                     [key], {});\n",
              "          if (!dataTable) return;\n",
              "\n",
              "          const docLinkHtml = 'Like what you see? Visit the ' +\n",
              "            '<a target=\"_blank\" href=https://colab.research.google.com/notebooks/data_table.ipynb>data table notebook</a>'\n",
              "            + ' to learn more about interactive tables.';\n",
              "          element.innerHTML = '';\n",
              "          dataTable['output_type'] = 'display_data';\n",
              "          await google.colab.output.renderOutput(dataTable, element);\n",
              "          const docLink = document.createElement('div');\n",
              "          docLink.innerHTML = docLinkHtml;\n",
              "          element.appendChild(docLink);\n",
              "        }\n",
              "      </script>\n",
              "    </div>\n",
              "  </div>\n",
              "  "
            ]
          },
          "metadata": {},
          "execution_count": 459
        }
      ],
      "source": [
        "features = train[[\"FNOX\",\"FH2O\"]].mean(axis=1).reset_index()\n",
        "features.columns = [\"Index\",\"FNOX+FH2O\"]\n",
        "\n",
        "x = pd.concat([train,features],axis = 1)\n",
        "train= x.drop(columns=[\"Index\"])\n",
        "train"
      ]
    },
    {
      "cell_type": "code",
      "source": [
        "# features = train[[\"FOXID\",\"FNOX\"]].mean(axis=1).reset_index()\n",
        "# features.columns = [\"Index\",\"FOXID+FNOX\"]\n",
        "\n",
        "# x = pd.concat([train,features],axis = 1)\n",
        "# train= x.drop(columns=[\"Index\"])\n",
        "# train"
      ],
      "metadata": {
        "id": "NDp85zjbc-wf"
      },
      "execution_count": 460,
      "outputs": []
    },
    {
      "cell_type": "code",
      "source": [
        "# features = train[[\"V100\",\"V40\"]].mean(axis=1).reset_index()\n",
        "# features.columns = [\"Index\",\"V100+V40\"]\n",
        "\n",
        "# x = pd.concat([train,features],axis = 1)\n",
        "# train= x.drop(columns=[\"Index\"])\n",
        "# train"
      ],
      "metadata": {
        "id": "IS7Zu0KVc-s-"
      },
      "execution_count": 461,
      "outputs": []
    },
    {
      "cell_type": "code",
      "source": [],
      "metadata": {
        "id": "Oqgub6kLNmLy"
      },
      "execution_count": 461,
      "outputs": []
    },
    {
      "cell_type": "code",
      "source": [],
      "metadata": {
        "id": "Xy_uaL3vNmIf"
      },
      "execution_count": 461,
      "outputs": []
    },
    {
      "cell_type": "code",
      "source": [],
      "metadata": {
        "id": "PyQc3jc788fS"
      },
      "execution_count": 461,
      "outputs": []
    },
    {
      "cell_type": "markdown",
      "metadata": {
        "id": "c0FYDiuNkBDB"
      },
      "source": [
        "## 데이터 분리"
      ]
    },
    {
      "cell_type": "code",
      "execution_count": 462,
      "metadata": {
        "id": "nOUgB80dyqAj"
      },
      "outputs": [],
      "source": [
        "train_X  = train.drop(['ID', 'Y_LABEL'], axis = 1) # 정답값 제외\n",
        "target  = train['Y_LABEL'] # 정답\n",
        "\n",
        "test = test.drop(['ID'], axis = 1) # 추론 데이터"
      ]
    },
    {
      "cell_type": "code",
      "execution_count": 463,
      "metadata": {
        "colab": {
          "base_uri": "https://localhost:8080/",
          "height": 488
        },
        "id": "G9V_uWQ5au_4",
        "outputId": "2437df43-9bed-48e2-9d37-d70936f9d3d5"
      },
      "outputs": [
        {
          "output_type": "execute_result",
          "data": {
            "text/plain": [
              "      COMPONENT_ARBITRARY  ANONYMOUS_1  YEAR  SAMPLE_TRANSFER_DAY  \\\n",
              "0              COMPONENT3         1486  2011                    7   \n",
              "1              COMPONENT2         1350  2021                   51   \n",
              "2              COMPONENT2         2415  2015                    2   \n",
              "3              COMPONENT3         7389  2010                    2   \n",
              "4              COMPONENT3         3954  2015                    4   \n",
              "...                   ...          ...   ...                  ...   \n",
              "14090          COMPONENT3         1616  2014                    8   \n",
              "14091          COMPONENT1         2784  2013                    2   \n",
              "14092          COMPONENT3         1788  2008                    9   \n",
              "14093          COMPONENT2         2498  2009                   19   \n",
              "14094          COMPONENT2         1902  2012                   15   \n",
              "\n",
              "       ANONYMOUS_2  AG   AL    B  BA  BE  ...          U25          U20  \\\n",
              "0              200   0    3   93   0   0  ...    29.870898    56.063472   \n",
              "1              375   0    2   19   0   0  ...     2.000000     4.000000   \n",
              "2              200   0  110    1   1   0  ...     0.000000     3.000000   \n",
              "3              200   0    8    3   0   0  ...    29.870898    56.063472   \n",
              "4              200   0    1  157   0   0  ...    29.870898    56.063472   \n",
              "...            ...  ..  ...  ...  ..  ..  ...          ...          ...   \n",
              "14090          200   0    2  201   1   0  ...    29.870898    56.063472   \n",
              "14091          200   0    3   85   0   0  ...    29.870898    56.063472   \n",
              "14092          550   0    6    0   1   0  ...    29.870898    56.063472   \n",
              "14093          550   0    2    4   0   0  ...     7.000000     8.000000   \n",
              "14094          200   0    0   77   0   0  ...  1163.000000  2565.000000   \n",
              "\n",
              "                U14             U6             U4  V      V100    V40    ZN  \\\n",
              "0        239.938149    5488.693107   19415.597262  0  13.57623  154.0    75   \n",
              "1          6.000000     216.000000    1454.000000  0  13.57623   44.0   652   \n",
              "2         39.000000   11261.000000   41081.000000  0  13.57623   72.6   412   \n",
              "3        239.938149    5488.693107   19415.597262  0  13.57623  133.3     7   \n",
              "4        239.938149    5488.693107   19415.597262  0  13.57623  133.1   128   \n",
              "...             ...            ...            ... ..       ...    ...   ...   \n",
              "14090    239.938149    5488.693107   19415.597262  0  13.57623  135.4    16   \n",
              "14091    239.938149    5488.693107   19415.597262  0  14.50000  117.5  1408   \n",
              "14092    239.938149    5488.693107   19415.597262  0  13.57623   54.0  1301   \n",
              "14093    100.000000    1625.000000   18890.000000  0  13.57623   44.3   652   \n",
              "14094  11296.000000  181016.000000  325823.000000  0  13.57623   47.0   612   \n",
              "\n",
              "       FNOX+FH2O  \n",
              "0      11.190231  \n",
              "1      11.190231  \n",
              "2      11.190231  \n",
              "3      11.190231  \n",
              "4      11.190231  \n",
              "...          ...  \n",
              "14090  11.190231  \n",
              "14091  10.500000  \n",
              "14092  11.190231  \n",
              "14093  11.190231  \n",
              "14094  11.190231  \n",
              "\n",
              "[14095 rows x 53 columns]"
            ],
            "text/html": [
              "\n",
              "  <div id=\"df-f9a32c53-05bb-41ee-8d47-45460e795f42\">\n",
              "    <div class=\"colab-df-container\">\n",
              "      <div>\n",
              "<style scoped>\n",
              "    .dataframe tbody tr th:only-of-type {\n",
              "        vertical-align: middle;\n",
              "    }\n",
              "\n",
              "    .dataframe tbody tr th {\n",
              "        vertical-align: top;\n",
              "    }\n",
              "\n",
              "    .dataframe thead th {\n",
              "        text-align: right;\n",
              "    }\n",
              "</style>\n",
              "<table border=\"1\" class=\"dataframe\">\n",
              "  <thead>\n",
              "    <tr style=\"text-align: right;\">\n",
              "      <th></th>\n",
              "      <th>COMPONENT_ARBITRARY</th>\n",
              "      <th>ANONYMOUS_1</th>\n",
              "      <th>YEAR</th>\n",
              "      <th>SAMPLE_TRANSFER_DAY</th>\n",
              "      <th>ANONYMOUS_2</th>\n",
              "      <th>AG</th>\n",
              "      <th>AL</th>\n",
              "      <th>B</th>\n",
              "      <th>BA</th>\n",
              "      <th>BE</th>\n",
              "      <th>...</th>\n",
              "      <th>U25</th>\n",
              "      <th>U20</th>\n",
              "      <th>U14</th>\n",
              "      <th>U6</th>\n",
              "      <th>U4</th>\n",
              "      <th>V</th>\n",
              "      <th>V100</th>\n",
              "      <th>V40</th>\n",
              "      <th>ZN</th>\n",
              "      <th>FNOX+FH2O</th>\n",
              "    </tr>\n",
              "  </thead>\n",
              "  <tbody>\n",
              "    <tr>\n",
              "      <th>0</th>\n",
              "      <td>COMPONENT3</td>\n",
              "      <td>1486</td>\n",
              "      <td>2011</td>\n",
              "      <td>7</td>\n",
              "      <td>200</td>\n",
              "      <td>0</td>\n",
              "      <td>3</td>\n",
              "      <td>93</td>\n",
              "      <td>0</td>\n",
              "      <td>0</td>\n",
              "      <td>...</td>\n",
              "      <td>29.870898</td>\n",
              "      <td>56.063472</td>\n",
              "      <td>239.938149</td>\n",
              "      <td>5488.693107</td>\n",
              "      <td>19415.597262</td>\n",
              "      <td>0</td>\n",
              "      <td>13.57623</td>\n",
              "      <td>154.0</td>\n",
              "      <td>75</td>\n",
              "      <td>11.190231</td>\n",
              "    </tr>\n",
              "    <tr>\n",
              "      <th>1</th>\n",
              "      <td>COMPONENT2</td>\n",
              "      <td>1350</td>\n",
              "      <td>2021</td>\n",
              "      <td>51</td>\n",
              "      <td>375</td>\n",
              "      <td>0</td>\n",
              "      <td>2</td>\n",
              "      <td>19</td>\n",
              "      <td>0</td>\n",
              "      <td>0</td>\n",
              "      <td>...</td>\n",
              "      <td>2.000000</td>\n",
              "      <td>4.000000</td>\n",
              "      <td>6.000000</td>\n",
              "      <td>216.000000</td>\n",
              "      <td>1454.000000</td>\n",
              "      <td>0</td>\n",
              "      <td>13.57623</td>\n",
              "      <td>44.0</td>\n",
              "      <td>652</td>\n",
              "      <td>11.190231</td>\n",
              "    </tr>\n",
              "    <tr>\n",
              "      <th>2</th>\n",
              "      <td>COMPONENT2</td>\n",
              "      <td>2415</td>\n",
              "      <td>2015</td>\n",
              "      <td>2</td>\n",
              "      <td>200</td>\n",
              "      <td>0</td>\n",
              "      <td>110</td>\n",
              "      <td>1</td>\n",
              "      <td>1</td>\n",
              "      <td>0</td>\n",
              "      <td>...</td>\n",
              "      <td>0.000000</td>\n",
              "      <td>3.000000</td>\n",
              "      <td>39.000000</td>\n",
              "      <td>11261.000000</td>\n",
              "      <td>41081.000000</td>\n",
              "      <td>0</td>\n",
              "      <td>13.57623</td>\n",
              "      <td>72.6</td>\n",
              "      <td>412</td>\n",
              "      <td>11.190231</td>\n",
              "    </tr>\n",
              "    <tr>\n",
              "      <th>3</th>\n",
              "      <td>COMPONENT3</td>\n",
              "      <td>7389</td>\n",
              "      <td>2010</td>\n",
              "      <td>2</td>\n",
              "      <td>200</td>\n",
              "      <td>0</td>\n",
              "      <td>8</td>\n",
              "      <td>3</td>\n",
              "      <td>0</td>\n",
              "      <td>0</td>\n",
              "      <td>...</td>\n",
              "      <td>29.870898</td>\n",
              "      <td>56.063472</td>\n",
              "      <td>239.938149</td>\n",
              "      <td>5488.693107</td>\n",
              "      <td>19415.597262</td>\n",
              "      <td>0</td>\n",
              "      <td>13.57623</td>\n",
              "      <td>133.3</td>\n",
              "      <td>7</td>\n",
              "      <td>11.190231</td>\n",
              "    </tr>\n",
              "    <tr>\n",
              "      <th>4</th>\n",
              "      <td>COMPONENT3</td>\n",
              "      <td>3954</td>\n",
              "      <td>2015</td>\n",
              "      <td>4</td>\n",
              "      <td>200</td>\n",
              "      <td>0</td>\n",
              "      <td>1</td>\n",
              "      <td>157</td>\n",
              "      <td>0</td>\n",
              "      <td>0</td>\n",
              "      <td>...</td>\n",
              "      <td>29.870898</td>\n",
              "      <td>56.063472</td>\n",
              "      <td>239.938149</td>\n",
              "      <td>5488.693107</td>\n",
              "      <td>19415.597262</td>\n",
              "      <td>0</td>\n",
              "      <td>13.57623</td>\n",
              "      <td>133.1</td>\n",
              "      <td>128</td>\n",
              "      <td>11.190231</td>\n",
              "    </tr>\n",
              "    <tr>\n",
              "      <th>...</th>\n",
              "      <td>...</td>\n",
              "      <td>...</td>\n",
              "      <td>...</td>\n",
              "      <td>...</td>\n",
              "      <td>...</td>\n",
              "      <td>...</td>\n",
              "      <td>...</td>\n",
              "      <td>...</td>\n",
              "      <td>...</td>\n",
              "      <td>...</td>\n",
              "      <td>...</td>\n",
              "      <td>...</td>\n",
              "      <td>...</td>\n",
              "      <td>...</td>\n",
              "      <td>...</td>\n",
              "      <td>...</td>\n",
              "      <td>...</td>\n",
              "      <td>...</td>\n",
              "      <td>...</td>\n",
              "      <td>...</td>\n",
              "      <td>...</td>\n",
              "    </tr>\n",
              "    <tr>\n",
              "      <th>14090</th>\n",
              "      <td>COMPONENT3</td>\n",
              "      <td>1616</td>\n",
              "      <td>2014</td>\n",
              "      <td>8</td>\n",
              "      <td>200</td>\n",
              "      <td>0</td>\n",
              "      <td>2</td>\n",
              "      <td>201</td>\n",
              "      <td>1</td>\n",
              "      <td>0</td>\n",
              "      <td>...</td>\n",
              "      <td>29.870898</td>\n",
              "      <td>56.063472</td>\n",
              "      <td>239.938149</td>\n",
              "      <td>5488.693107</td>\n",
              "      <td>19415.597262</td>\n",
              "      <td>0</td>\n",
              "      <td>13.57623</td>\n",
              "      <td>135.4</td>\n",
              "      <td>16</td>\n",
              "      <td>11.190231</td>\n",
              "    </tr>\n",
              "    <tr>\n",
              "      <th>14091</th>\n",
              "      <td>COMPONENT1</td>\n",
              "      <td>2784</td>\n",
              "      <td>2013</td>\n",
              "      <td>2</td>\n",
              "      <td>200</td>\n",
              "      <td>0</td>\n",
              "      <td>3</td>\n",
              "      <td>85</td>\n",
              "      <td>0</td>\n",
              "      <td>0</td>\n",
              "      <td>...</td>\n",
              "      <td>29.870898</td>\n",
              "      <td>56.063472</td>\n",
              "      <td>239.938149</td>\n",
              "      <td>5488.693107</td>\n",
              "      <td>19415.597262</td>\n",
              "      <td>0</td>\n",
              "      <td>14.50000</td>\n",
              "      <td>117.5</td>\n",
              "      <td>1408</td>\n",
              "      <td>10.500000</td>\n",
              "    </tr>\n",
              "    <tr>\n",
              "      <th>14092</th>\n",
              "      <td>COMPONENT3</td>\n",
              "      <td>1788</td>\n",
              "      <td>2008</td>\n",
              "      <td>9</td>\n",
              "      <td>550</td>\n",
              "      <td>0</td>\n",
              "      <td>6</td>\n",
              "      <td>0</td>\n",
              "      <td>1</td>\n",
              "      <td>0</td>\n",
              "      <td>...</td>\n",
              "      <td>29.870898</td>\n",
              "      <td>56.063472</td>\n",
              "      <td>239.938149</td>\n",
              "      <td>5488.693107</td>\n",
              "      <td>19415.597262</td>\n",
              "      <td>0</td>\n",
              "      <td>13.57623</td>\n",
              "      <td>54.0</td>\n",
              "      <td>1301</td>\n",
              "      <td>11.190231</td>\n",
              "    </tr>\n",
              "    <tr>\n",
              "      <th>14093</th>\n",
              "      <td>COMPONENT2</td>\n",
              "      <td>2498</td>\n",
              "      <td>2009</td>\n",
              "      <td>19</td>\n",
              "      <td>550</td>\n",
              "      <td>0</td>\n",
              "      <td>2</td>\n",
              "      <td>4</td>\n",
              "      <td>0</td>\n",
              "      <td>0</td>\n",
              "      <td>...</td>\n",
              "      <td>7.000000</td>\n",
              "      <td>8.000000</td>\n",
              "      <td>100.000000</td>\n",
              "      <td>1625.000000</td>\n",
              "      <td>18890.000000</td>\n",
              "      <td>0</td>\n",
              "      <td>13.57623</td>\n",
              "      <td>44.3</td>\n",
              "      <td>652</td>\n",
              "      <td>11.190231</td>\n",
              "    </tr>\n",
              "    <tr>\n",
              "      <th>14094</th>\n",
              "      <td>COMPONENT2</td>\n",
              "      <td>1902</td>\n",
              "      <td>2012</td>\n",
              "      <td>15</td>\n",
              "      <td>200</td>\n",
              "      <td>0</td>\n",
              "      <td>0</td>\n",
              "      <td>77</td>\n",
              "      <td>0</td>\n",
              "      <td>0</td>\n",
              "      <td>...</td>\n",
              "      <td>1163.000000</td>\n",
              "      <td>2565.000000</td>\n",
              "      <td>11296.000000</td>\n",
              "      <td>181016.000000</td>\n",
              "      <td>325823.000000</td>\n",
              "      <td>0</td>\n",
              "      <td>13.57623</td>\n",
              "      <td>47.0</td>\n",
              "      <td>612</td>\n",
              "      <td>11.190231</td>\n",
              "    </tr>\n",
              "  </tbody>\n",
              "</table>\n",
              "<p>14095 rows × 53 columns</p>\n",
              "</div>\n",
              "      <button class=\"colab-df-convert\" onclick=\"convertToInteractive('df-f9a32c53-05bb-41ee-8d47-45460e795f42')\"\n",
              "              title=\"Convert this dataframe to an interactive table.\"\n",
              "              style=\"display:none;\">\n",
              "        \n",
              "  <svg xmlns=\"http://www.w3.org/2000/svg\" height=\"24px\"viewBox=\"0 0 24 24\"\n",
              "       width=\"24px\">\n",
              "    <path d=\"M0 0h24v24H0V0z\" fill=\"none\"/>\n",
              "    <path d=\"M18.56 5.44l.94 2.06.94-2.06 2.06-.94-2.06-.94-.94-2.06-.94 2.06-2.06.94zm-11 1L8.5 8.5l.94-2.06 2.06-.94-2.06-.94L8.5 2.5l-.94 2.06-2.06.94zm10 10l.94 2.06.94-2.06 2.06-.94-2.06-.94-.94-2.06-.94 2.06-2.06.94z\"/><path d=\"M17.41 7.96l-1.37-1.37c-.4-.4-.92-.59-1.43-.59-.52 0-1.04.2-1.43.59L10.3 9.45l-7.72 7.72c-.78.78-.78 2.05 0 2.83L4 21.41c.39.39.9.59 1.41.59.51 0 1.02-.2 1.41-.59l7.78-7.78 2.81-2.81c.8-.78.8-2.07 0-2.86zM5.41 20L4 18.59l7.72-7.72 1.47 1.35L5.41 20z\"/>\n",
              "  </svg>\n",
              "      </button>\n",
              "      \n",
              "  <style>\n",
              "    .colab-df-container {\n",
              "      display:flex;\n",
              "      flex-wrap:wrap;\n",
              "      gap: 12px;\n",
              "    }\n",
              "\n",
              "    .colab-df-convert {\n",
              "      background-color: #E8F0FE;\n",
              "      border: none;\n",
              "      border-radius: 50%;\n",
              "      cursor: pointer;\n",
              "      display: none;\n",
              "      fill: #1967D2;\n",
              "      height: 32px;\n",
              "      padding: 0 0 0 0;\n",
              "      width: 32px;\n",
              "    }\n",
              "\n",
              "    .colab-df-convert:hover {\n",
              "      background-color: #E2EBFA;\n",
              "      box-shadow: 0px 1px 2px rgba(60, 64, 67, 0.3), 0px 1px 3px 1px rgba(60, 64, 67, 0.15);\n",
              "      fill: #174EA6;\n",
              "    }\n",
              "\n",
              "    [theme=dark] .colab-df-convert {\n",
              "      background-color: #3B4455;\n",
              "      fill: #D2E3FC;\n",
              "    }\n",
              "\n",
              "    [theme=dark] .colab-df-convert:hover {\n",
              "      background-color: #434B5C;\n",
              "      box-shadow: 0px 1px 3px 1px rgba(0, 0, 0, 0.15);\n",
              "      filter: drop-shadow(0px 1px 2px rgba(0, 0, 0, 0.3));\n",
              "      fill: #FFFFFF;\n",
              "    }\n",
              "  </style>\n",
              "\n",
              "      <script>\n",
              "        const buttonEl =\n",
              "          document.querySelector('#df-f9a32c53-05bb-41ee-8d47-45460e795f42 button.colab-df-convert');\n",
              "        buttonEl.style.display =\n",
              "          google.colab.kernel.accessAllowed ? 'block' : 'none';\n",
              "\n",
              "        async function convertToInteractive(key) {\n",
              "          const element = document.querySelector('#df-f9a32c53-05bb-41ee-8d47-45460e795f42');\n",
              "          const dataTable =\n",
              "            await google.colab.kernel.invokeFunction('convertToInteractive',\n",
              "                                                     [key], {});\n",
              "          if (!dataTable) return;\n",
              "\n",
              "          const docLinkHtml = 'Like what you see? Visit the ' +\n",
              "            '<a target=\"_blank\" href=https://colab.research.google.com/notebooks/data_table.ipynb>data table notebook</a>'\n",
              "            + ' to learn more about interactive tables.';\n",
              "          element.innerHTML = '';\n",
              "          dataTable['output_type'] = 'display_data';\n",
              "          await google.colab.output.renderOutput(dataTable, element);\n",
              "          const docLink = document.createElement('div');\n",
              "          docLink.innerHTML = docLinkHtml;\n",
              "          element.appendChild(docLink);\n",
              "        }\n",
              "      </script>\n",
              "    </div>\n",
              "  </div>\n",
              "  "
            ]
          },
          "metadata": {},
          "execution_count": 463
        }
      ],
      "source": [
        "train_X"
      ]
    },
    {
      "cell_type": "markdown",
      "metadata": {
        "id": "svkt974ldhYk"
      },
      "source": [
        "# 원핫인코딩"
      ]
    },
    {
      "cell_type": "code",
      "execution_count": 464,
      "metadata": {
        "id": "aL9eF8gkU_rC"
      },
      "outputs": [],
      "source": [
        "enc = OneHotEncoder()\n",
        "\n",
        "tmp = pd.DataFrame(\n",
        "    enc.fit_transform(train_X[[\"COMPONENT_ARBITRARY\",'YEAR']]).toarray(),\n",
        "    columns = enc.get_feature_names_out()\n",
        ")\n",
        "train_X = pd.concat([train_X,tmp],axis=1).drop(columns = [\"COMPONENT_ARBITRARY\",'YEAR'])\n",
        "\n",
        "tmp1 = pd.DataFrame(\n",
        "    enc.transform(test[[\"COMPONENT_ARBITRARY\",'YEAR']]).toarray(),\n",
        "    columns = enc.get_feature_names_out()\n",
        ")\n",
        "test = pd.concat([test,tmp1],axis=1).drop(columns = [\"COMPONENT_ARBITRARY\",'YEAR'])"
      ]
    },
    {
      "cell_type": "code",
      "execution_count": 465,
      "metadata": {
        "colab": {
          "base_uri": "https://localhost:8080/"
        },
        "id": "d-6dOU_qdUki",
        "outputId": "d1830190-2af8-4b70-8c20-1c9eae082f24"
      },
      "outputs": [
        {
          "output_type": "execute_result",
          "data": {
            "text/plain": [
              "((14095, 71), (14095,), (6041, 36))"
            ]
          },
          "metadata": {},
          "execution_count": 465
        }
      ],
      "source": [
        "train_X.shape,target.shape,test.shape"
      ]
    },
    {
      "cell_type": "markdown",
      "metadata": {
        "id": "ne57xpNZdoIf"
      },
      "source": [
        "# 스케일링"
      ]
    },
    {
      "cell_type": "code",
      "execution_count": 466,
      "metadata": {
        "id": "uBVpIfnBlG6a"
      },
      "outputs": [],
      "source": [
        "def get_values(value):\n",
        "    return value.values.reshape(-1, 1)\n",
        "\n",
        "for col in train_X.columns:\n",
        "    if col not in categorical_features_enc:\n",
        "        scaler = StandardScaler()\n",
        "        train_X[col] = scaler.fit_transform(get_values(train_X[col]))\n",
        "        if col in test.columns:\n",
        "            test[col] = scaler.transform(get_values(test[col]))"
      ]
    },
    {
      "cell_type": "code",
      "source": [],
      "metadata": {
        "id": "xndH3D0xKSlT"
      },
      "execution_count": 466,
      "outputs": []
    },
    {
      "cell_type": "code",
      "source": [],
      "metadata": {
        "id": "Q3TaB4TrKS3c"
      },
      "execution_count": 466,
      "outputs": []
    },
    {
      "cell_type": "markdown",
      "metadata": {
        "id": "KmiXvzi9Cjp9"
      },
      "source": [
        "## Classifier"
      ]
    },
    {
      "cell_type": "code",
      "execution_count": 480,
      "metadata": {
        "id": "BhBF2kbDMcft"
      },
      "outputs": [],
      "source": [
        "def objective_1(trial):\n",
        "    hp = {\n",
        "        \"max_depth\" : trial.suggest_int(\"max_depth\",2,15), # 찾을 범위의 최소값과 최대값\n",
        "        \"min_samples_split\" : trial.suggest_int(\"min_samples_split\",2,10),\n",
        "        \"max_leaf_nodes\" : trial.suggest_int(\"max_leaf_nodes\",5,10),\n",
        "        \"n_estimators\" : trial.suggest_int(\"n_estimators\",10,500),\n",
        "        \"learning_rate\" : trial.suggest_float(\"learning_rate\",0.01,0.1)\n",
        "    }\n",
        "    cv = KFold(n_splits=5,shuffle=True,random_state=CFG['SEED'])\n",
        "    model = GradientBoostingClassifier(random_state=CFG['SEED'],**hp)\n",
        "\n",
        "    scores = cross_val_score(model, train_X, target,cv=cv, scoring=\"f1_macro\") # cv=cv 지움!\n",
        "    return np.mean(scores)"
      ]
    },
    {
      "cell_type": "code",
      "execution_count": 481,
      "metadata": {
        "id": "hvqQZVMxMcdR",
        "colab": {
          "base_uri": "https://localhost:8080/"
        },
        "outputId": "fe91fda1-d6ad-4061-91d6-829bcc396b39"
      },
      "outputs": [
        {
          "output_type": "stream",
          "name": "stderr",
          "text": [
            "\u001b[32m[I 2022-12-04 02:49:45,722]\u001b[0m A new study created in memory with name: no-name-4e8e0fda-7de6-448e-a1e7-aae003716f9c\u001b[0m\n",
            "\u001b[32m[I 2022-12-04 02:51:26,074]\u001b[0m Trial 0 finished with value: 0.8161267216904673 and parameters: {'max_depth': 7, 'min_samples_split': 10, 'max_leaf_nodes': 9, 'n_estimators': 303, 'learning_rate': 0.02404167763981929}. Best is trial 0 with value: 0.8161267216904673.\u001b[0m\n",
            "\u001b[32m[I 2022-12-04 02:53:11,906]\u001b[0m Trial 1 finished with value: 0.8121304994269852 and parameters: {'max_depth': 4, 'min_samples_split': 2, 'max_leaf_nodes': 10, 'n_estimators': 305, 'learning_rate': 0.0737265320016441}. Best is trial 0 with value: 0.8161267216904673.\u001b[0m\n",
            "\u001b[32m[I 2022-12-04 02:53:33,058]\u001b[0m Trial 2 finished with value: 0.8083613589811443 and parameters: {'max_depth': 2, 'min_samples_split': 10, 'max_leaf_nodes': 9, 'n_estimators': 114, 'learning_rate': 0.02636424704863906}. Best is trial 0 with value: 0.8161267216904673.\u001b[0m\n",
            "\u001b[32m[I 2022-12-04 02:54:46,838]\u001b[0m Trial 3 finished with value: 0.815302474942914 and parameters: {'max_depth': 4, 'min_samples_split': 4, 'max_leaf_nodes': 8, 'n_estimators': 222, 'learning_rate': 0.036210622617823776}. Best is trial 0 with value: 0.8161267216904673.\u001b[0m\n",
            "\u001b[32m[I 2022-12-04 02:55:39,805]\u001b[0m Trial 4 finished with value: 0.8139428329904804 and parameters: {'max_depth': 10, 'min_samples_split': 3, 'max_leaf_nodes': 6, 'n_estimators': 189, 'learning_rate': 0.05104629857953324}. Best is trial 0 with value: 0.8161267216904673.\u001b[0m\n",
            "\u001b[32m[I 2022-12-04 02:57:22,870]\u001b[0m Trial 5 finished with value: 0.8167270733212646 and parameters: {'max_depth': 12, 'min_samples_split': 3, 'max_leaf_nodes': 8, 'n_estimators': 300, 'learning_rate': 0.014180537144799797}. Best is trial 5 with value: 0.8167270733212646.\u001b[0m\n",
            "\u001b[32m[I 2022-12-04 02:59:20,552]\u001b[0m Trial 6 finished with value: 0.8099108911624441 and parameters: {'max_depth': 10, 'min_samples_split': 3, 'max_leaf_nodes': 5, 'n_estimators': 475, 'learning_rate': 0.09690688297671035}. Best is trial 5 with value: 0.8167270733212646.\u001b[0m\n",
            "\u001b[32m[I 2022-12-04 03:00:49,723]\u001b[0m Trial 7 finished with value: 0.8147562008189617 and parameters: {'max_depth': 13, 'min_samples_split': 4, 'max_leaf_nodes': 5, 'n_estimators': 345, 'learning_rate': 0.04961372443656412}. Best is trial 5 with value: 0.8167270733212646.\u001b[0m\n",
            "\u001b[32m[I 2022-12-04 03:02:47,638]\u001b[0m Trial 8 finished with value: 0.816060540578688 and parameters: {'max_depth': 3, 'min_samples_split': 6, 'max_leaf_nodes': 5, 'n_estimators': 456, 'learning_rate': 0.03329019834400153}. Best is trial 5 with value: 0.8167270733212646.\u001b[0m\n",
            "\u001b[32m[I 2022-12-04 03:04:16,298]\u001b[0m Trial 9 finished with value: 0.816660549150637 and parameters: {'max_depth': 11, 'min_samples_split': 4, 'max_leaf_nodes': 8, 'n_estimators': 278, 'learning_rate': 0.026636900997297437}. Best is trial 5 with value: 0.8167270733212646.\u001b[0m\n",
            "\u001b[32m[I 2022-12-04 03:04:22,852]\u001b[0m Trial 10 finished with value: 0.4777092096436932 and parameters: {'max_depth': 15, 'min_samples_split': 7, 'max_leaf_nodes': 7, 'n_estimators': 18, 'learning_rate': 0.011306212019204639}. Best is trial 5 with value: 0.8167270733212646.\u001b[0m\n",
            "\u001b[32m[I 2022-12-04 03:06:32,855]\u001b[0m Trial 11 finished with value: 0.8167520851853827 and parameters: {'max_depth': 12, 'min_samples_split': 6, 'max_leaf_nodes': 8, 'n_estimators': 375, 'learning_rate': 0.010682065421973364}. Best is trial 11 with value: 0.8167520851853827.\u001b[0m\n",
            "\u001b[32m[I 2022-12-04 03:08:33,694]\u001b[0m Trial 12 finished with value: 0.8159081843355926 and parameters: {'max_depth': 13, 'min_samples_split': 7, 'max_leaf_nodes': 7, 'n_estimators': 370, 'learning_rate': 0.01149692034990111}. Best is trial 11 with value: 0.8167520851853827.\u001b[0m\n",
            "\u001b[32m[I 2022-12-04 03:10:31,535]\u001b[0m Trial 13 finished with value: 0.8163001701499223 and parameters: {'max_depth': 8, 'min_samples_split': 6, 'max_leaf_nodes': 9, 'n_estimators': 409, 'learning_rate': 0.0681270796632917}. Best is trial 11 with value: 0.8167520851853827.\u001b[0m\n",
            "\u001b[32m[I 2022-12-04 03:12:47,508]\u001b[0m Trial 14 finished with value: 0.8169360233843564 and parameters: {'max_depth': 13, 'min_samples_split': 8, 'max_leaf_nodes': 8, 'n_estimators': 397, 'learning_rate': 0.011321197437718429}. Best is trial 14 with value: 0.8169360233843564.\u001b[0m\n",
            "\u001b[32m[I 2022-12-04 03:15:01,077]\u001b[0m Trial 15 finished with value: 0.8171152711230132 and parameters: {'max_depth': 15, 'min_samples_split': 8, 'max_leaf_nodes': 10, 'n_estimators': 425, 'learning_rate': 0.03781247794792575}. Best is trial 15 with value: 0.8171152711230132.\u001b[0m\n",
            "\u001b[32m[I 2022-12-04 03:17:32,057]\u001b[0m Trial 16 finished with value: 0.81931543434024 and parameters: {'max_depth': 15, 'min_samples_split': 8, 'max_leaf_nodes': 10, 'n_estimators': 498, 'learning_rate': 0.04388648142372519}. Best is trial 16 with value: 0.81931543434024.\u001b[0m\n",
            "\u001b[32m[I 2022-12-04 03:20:04,528]\u001b[0m Trial 17 finished with value: 0.8165461338235875 and parameters: {'max_depth': 15, 'min_samples_split': 9, 'max_leaf_nodes': 10, 'n_estimators': 498, 'learning_rate': 0.042466781908971254}. Best is trial 16 with value: 0.81931543434024.\u001b[0m\n",
            "\u001b[32m[I 2022-12-04 03:22:16,244]\u001b[0m Trial 18 finished with value: 0.8183842775782054 and parameters: {'max_depth': 15, 'min_samples_split': 8, 'max_leaf_nodes': 10, 'n_estimators': 440, 'learning_rate': 0.06327070173400179}. Best is trial 16 with value: 0.81931543434024.\u001b[0m\n",
            "\u001b[32m[I 2022-12-04 03:24:30,576]\u001b[0m Trial 19 finished with value: 0.8130337020156471 and parameters: {'max_depth': 7, 'min_samples_split': 8, 'max_leaf_nodes': 10, 'n_estimators': 436, 'learning_rate': 0.06644373623477903}. Best is trial 16 with value: 0.81931543434024.\u001b[0m\n",
            "\u001b[32m[I 2022-12-04 03:26:50,545]\u001b[0m Trial 20 finished with value: 0.8115808992282462 and parameters: {'max_depth': 14, 'min_samples_split': 9, 'max_leaf_nodes': 9, 'n_estimators': 489, 'learning_rate': 0.083371326781145}. Best is trial 16 with value: 0.81931543434024.\u001b[0m\n",
            "\u001b[32m[I 2022-12-04 03:28:57,541]\u001b[0m Trial 21 finished with value: 0.8157365065085799 and parameters: {'max_depth': 15, 'min_samples_split': 8, 'max_leaf_nodes': 10, 'n_estimators': 422, 'learning_rate': 0.05644257748160688}. Best is trial 16 with value: 0.81931543434024.\u001b[0m\n",
            "\u001b[32m[I 2022-12-04 03:31:13,089]\u001b[0m Trial 22 finished with value: 0.815300967214837 and parameters: {'max_depth': 14, 'min_samples_split': 9, 'max_leaf_nodes': 10, 'n_estimators': 450, 'learning_rate': 0.05579357655261119}. Best is trial 16 with value: 0.81931543434024.\u001b[0m\n",
            "\u001b[32m[I 2022-12-04 03:32:57,568]\u001b[0m Trial 23 finished with value: 0.816107961379873 and parameters: {'max_depth': 14, 'min_samples_split': 7, 'max_leaf_nodes': 9, 'n_estimators': 343, 'learning_rate': 0.043388120931291164}. Best is trial 16 with value: 0.81931543434024.\u001b[0m\n",
            "\u001b[32m[I 2022-12-04 03:35:14,621]\u001b[0m Trial 24 finished with value: 0.8149520125739953 and parameters: {'max_depth': 15, 'min_samples_split': 8, 'max_leaf_nodes': 10, 'n_estimators': 460, 'learning_rate': 0.06195762358800665}. Best is trial 16 with value: 0.81931543434024.\u001b[0m\n",
            "\u001b[32m[I 2022-12-04 03:37:36,751]\u001b[0m Trial 25 finished with value: 0.8160875085673276 and parameters: {'max_depth': 11, 'min_samples_split': 9, 'max_leaf_nodes': 9, 'n_estimators': 498, 'learning_rate': 0.07886285578896066}. Best is trial 16 with value: 0.81931543434024.\u001b[0m\n",
            "\u001b[32m[I 2022-12-04 03:39:42,656]\u001b[0m Trial 26 finished with value: 0.8175054896027258 and parameters: {'max_depth': 14, 'min_samples_split': 7, 'max_leaf_nodes': 10, 'n_estimators': 410, 'learning_rate': 0.04365508475055477}. Best is trial 16 with value: 0.81931543434024.\u001b[0m\n",
            "\u001b[32m[I 2022-12-04 03:40:33,989]\u001b[0m Trial 27 finished with value: 0.8166257598707467 and parameters: {'max_depth': 12, 'min_samples_split': 5, 'max_leaf_nodes': 10, 'n_estimators': 154, 'learning_rate': 0.04857018600994052}. Best is trial 16 with value: 0.81931543434024.\u001b[0m\n",
            "\u001b[32m[I 2022-12-04 03:42:27,984]\u001b[0m Trial 28 finished with value: 0.81803893828722 and parameters: {'max_depth': 14, 'min_samples_split': 7, 'max_leaf_nodes': 9, 'n_estimators': 389, 'learning_rate': 0.06100355423520269}. Best is trial 16 with value: 0.81931543434024.\u001b[0m\n",
            "\u001b[32m[I 2022-12-04 03:44:15,083]\u001b[0m Trial 29 finished with value: 0.817185425323866 and parameters: {'max_depth': 6, 'min_samples_split': 10, 'max_leaf_nodes': 9, 'n_estimators': 346, 'learning_rate': 0.08821174517774216}. Best is trial 16 with value: 0.81931543434024.\u001b[0m\n",
            "\u001b[32m[I 2022-12-04 03:46:05,491]\u001b[0m Trial 30 finished with value: 0.8164780464541301 and parameters: {'max_depth': 9, 'min_samples_split': 6, 'max_leaf_nodes': 9, 'n_estimators': 382, 'learning_rate': 0.05997103740155378}. Best is trial 16 with value: 0.81931543434024.\u001b[0m\n",
            "\u001b[32m[I 2022-12-04 03:48:20,170]\u001b[0m Trial 31 finished with value: 0.8204174332319465 and parameters: {'max_depth': 14, 'min_samples_split': 7, 'max_leaf_nodes': 10, 'n_estimators': 441, 'learning_rate': 0.04435572861838684}. Best is trial 31 with value: 0.8204174332319465.\u001b[0m\n",
            "\u001b[32m[I 2022-12-04 03:50:37,000]\u001b[0m Trial 32 finished with value: 0.8149855757886003 and parameters: {'max_depth': 13, 'min_samples_split': 7, 'max_leaf_nodes': 10, 'n_estimators': 464, 'learning_rate': 0.07305602002027746}. Best is trial 31 with value: 0.8204174332319465.\u001b[0m\n",
            "\u001b[32m[I 2022-12-04 03:52:13,022]\u001b[0m Trial 33 finished with value: 0.8177446108866409 and parameters: {'max_depth': 14, 'min_samples_split': 5, 'max_leaf_nodes': 9, 'n_estimators': 325, 'learning_rate': 0.06574449382120663}. Best is trial 31 with value: 0.8204174332319465.\u001b[0m\n",
            "\u001b[32m[I 2022-12-04 03:53:39,896]\u001b[0m Trial 34 finished with value: 0.8166444900016598 and parameters: {'max_depth': 13, 'min_samples_split': 10, 'max_leaf_nodes': 10, 'n_estimators': 262, 'learning_rate': 0.03148235701889023}. Best is trial 31 with value: 0.8204174332319465.\u001b[0m\n",
            "\u001b[32m[I 2022-12-04 03:55:44,325]\u001b[0m Trial 35 finished with value: 0.8151501366182016 and parameters: {'max_depth': 11, 'min_samples_split': 8, 'max_leaf_nodes': 9, 'n_estimators': 432, 'learning_rate': 0.07302144674359129}. Best is trial 31 with value: 0.8204174332319465.\u001b[0m\n",
            "\u001b[32m[I 2022-12-04 03:58:18,108]\u001b[0m Trial 36 finished with value: 0.8172612007033772 and parameters: {'max_depth': 15, 'min_samples_split': 5, 'max_leaf_nodes': 10, 'n_estimators': 474, 'learning_rate': 0.019916376421259898}. Best is trial 31 with value: 0.8204174332319465.\u001b[0m\n",
            "\u001b[32m[I 2022-12-04 03:59:28,223]\u001b[0m Trial 37 finished with value: 0.815206175121555 and parameters: {'max_depth': 12, 'min_samples_split': 7, 'max_leaf_nodes': 9, 'n_estimators': 222, 'learning_rate': 0.05221572567746261}. Best is trial 31 with value: 0.8204174332319465.\u001b[0m\n",
            "\u001b[32m[I 2022-12-04 04:01:12,142]\u001b[0m Trial 38 finished with value: 0.8123764229080056 and parameters: {'max_depth': 5, 'min_samples_split': 9, 'max_leaf_nodes': 6, 'n_estimators': 394, 'learning_rate': 0.06073327943196228}. Best is trial 31 with value: 0.8204174332319465.\u001b[0m\n",
            "\u001b[32m[I 2022-12-04 04:01:41,493]\u001b[0m Trial 39 finished with value: 0.8166087799459166 and parameters: {'max_depth': 14, 'min_samples_split': 7, 'max_leaf_nodes': 10, 'n_estimators': 75, 'learning_rate': 0.04639654867023508}. Best is trial 31 with value: 0.8204174332319465.\u001b[0m\n",
            "\u001b[32m[I 2022-12-04 04:03:14,616]\u001b[0m Trial 40 finished with value: 0.8152084317792043 and parameters: {'max_depth': 10, 'min_samples_split': 2, 'max_leaf_nodes': 9, 'n_estimators': 303, 'learning_rate': 0.03803401941100097}. Best is trial 31 with value: 0.8204174332319465.\u001b[0m\n",
            "\u001b[32m[I 2022-12-04 04:04:51,129]\u001b[0m Trial 41 finished with value: 0.8135224078247726 and parameters: {'max_depth': 14, 'min_samples_split': 5, 'max_leaf_nodes': 9, 'n_estimators': 327, 'learning_rate': 0.06568238266921561}. Best is trial 31 with value: 0.8204174332319465.\u001b[0m\n",
            "\u001b[32m[I 2022-12-04 04:06:34,223]\u001b[0m Trial 42 finished with value: 0.8159908858935525 and parameters: {'max_depth': 13, 'min_samples_split': 5, 'max_leaf_nodes': 8, 'n_estimators': 357, 'learning_rate': 0.05417537784756952}. Best is trial 31 with value: 0.8204174332319465.\u001b[0m\n",
            "\u001b[32m[I 2022-12-04 04:08:00,085]\u001b[0m Trial 43 finished with value: 0.8140173524476835 and parameters: {'max_depth': 14, 'min_samples_split': 6, 'max_leaf_nodes': 7, 'n_estimators': 314, 'learning_rate': 0.07008809164446883}. Best is trial 31 with value: 0.8204174332319465.\u001b[0m\n",
            "\u001b[32m[I 2022-12-04 04:09:24,607]\u001b[0m Trial 44 finished with value: 0.813544277699316 and parameters: {'max_depth': 2, 'min_samples_split': 6, 'max_leaf_nodes': 9, 'n_estimators': 449, 'learning_rate': 0.0637166268598853}. Best is trial 31 with value: 0.8204174332319465.\u001b[0m\n",
            "\u001b[32m[I 2022-12-04 04:11:10,713]\u001b[0m Trial 45 finished with value: 0.8146122077036428 and parameters: {'max_depth': 15, 'min_samples_split': 4, 'max_leaf_nodes': 10, 'n_estimators': 372, 'learning_rate': 0.07847586418170283}. Best is trial 31 with value: 0.8204174332319465.\u001b[0m\n",
            "\u001b[32m[I 2022-12-04 04:12:37,671]\u001b[0m Trial 46 finished with value: 0.8174783284339039 and parameters: {'max_depth': 12, 'min_samples_split': 8, 'max_leaf_nodes': 9, 'n_estimators': 285, 'learning_rate': 0.05684354183007598}. Best is trial 31 with value: 0.8204174332319465.\u001b[0m\n",
            "\u001b[32m[I 2022-12-04 04:14:32,232]\u001b[0m Trial 47 finished with value: 0.8152906684581108 and parameters: {'max_depth': 13, 'min_samples_split': 7, 'max_leaf_nodes': 8, 'n_estimators': 397, 'learning_rate': 0.0496332682557818}. Best is trial 31 with value: 0.8204174332319465.\u001b[0m\n",
            "\u001b[32m[I 2022-12-04 04:16:45,837]\u001b[0m Trial 48 finished with value: 0.8131816929234986 and parameters: {'max_depth': 15, 'min_samples_split': 5, 'max_leaf_nodes': 10, 'n_estimators': 478, 'learning_rate': 0.0998455227549403}. Best is trial 31 with value: 0.8204174332319465.\u001b[0m\n",
            "\u001b[32m[I 2022-12-04 04:18:55,668]\u001b[0m Trial 49 finished with value: 0.8152647549167341 and parameters: {'max_depth': 9, 'min_samples_split': 6, 'max_leaf_nodes': 8, 'n_estimators': 436, 'learning_rate': 0.030303298369906022}. Best is trial 31 with value: 0.8204174332319465.\u001b[0m\n"
          ]
        }
      ],
      "source": [
        "sampler = optuna.samplers.TPESampler(seed = CFG['SEED']) \n",
        "\n",
        "study_1 = optuna.create_study(\n",
        "    direction= \"maximize\", \n",
        "    sampler = sampler\n",
        ")\n",
        "\n",
        "study_1.optimize(objective_1,n_trials=50)"
      ]
    },
    {
      "cell_type": "code",
      "execution_count": 482,
      "metadata": {
        "id": "NifIIY0tNvpE",
        "colab": {
          "base_uri": "https://localhost:8080/"
        },
        "outputId": "9e7688fe-2ac5-4356-e784-31e051462b3b"
      },
      "outputs": [
        {
          "output_type": "stream",
          "name": "stdout",
          "text": [
            "Best Score: 0.8204174332319465\n",
            "Best hp {'max_depth': 14, 'min_samples_split': 7, 'max_leaf_nodes': 10, 'n_estimators': 441, 'learning_rate': 0.04435572861838684}\n"
          ]
        }
      ],
      "source": [
        "print(\"Best Score:\",study_1.best_value) \n",
        "print(\"Best hp\", study_1.best_params)"
      ]
    },
    {
      "cell_type": "code",
      "execution_count": 483,
      "metadata": {
        "id": "bq6-fPoDNvmG",
        "colab": {
          "base_uri": "https://localhost:8080/"
        },
        "outputId": "794a865d-e573-40e8-e570-8310c04960fa"
      },
      "outputs": [
        {
          "output_type": "execute_result",
          "data": {
            "text/plain": [
              "{'max_depth': 14,\n",
              " 'min_samples_split': 7,\n",
              " 'max_leaf_nodes': 10,\n",
              " 'n_estimators': 441,\n",
              " 'learning_rate': 0.04435572861838684}"
            ]
          },
          "metadata": {},
          "execution_count": 483
        }
      ],
      "source": [
        "study_1.best_params # 따로 적어놓기"
      ]
    },
    {
      "cell_type": "code",
      "source": [
        "hp = {'max_depth': 14,\n",
        " 'min_samples_split': 7,\n",
        " 'max_leaf_nodes': 10,\n",
        " 'n_estimators': 441,\n",
        " 'learning_rate': 0.04435572861838684}"
      ],
      "metadata": {
        "id": "ZQ9hgukHcVEl"
      },
      "execution_count": 484,
      "outputs": []
    },
    {
      "cell_type": "code",
      "source": [
        "# hp = {'max_depth': 15,\n",
        "#  'min_samples_split': 2,\n",
        "#  'criterion': 'entropy',\n",
        "#  'max_leaf_nodes': 10,\n",
        "#  'n_estimators': 495,\n",
        "#  'learning_rate': 0.0943448646911196}"
      ],
      "metadata": {
        "id": "n01n0MZhfIHk"
      },
      "execution_count": 436,
      "outputs": []
    },
    {
      "cell_type": "code",
      "execution_count": 437,
      "metadata": {
        "id": "RVi4hj9yOpZf"
      },
      "outputs": [],
      "source": [
        "# hp = {'max_depth': 8,\n",
        "# 'min_samples_split': 7,\n",
        "# 'criterion': 'gini',\n",
        "# 'max_leaf_nodes': 9,\n",
        "# 'n_estimators': 495,\n",
        "# 'learning_rate': 0.07171518532882763}"
      ]
    },
    {
      "cell_type": "code",
      "source": [
        "cv = KFold(n_splits=5,shuffle=True,random_state=CFG[\"SEED\"])"
      ],
      "metadata": {
        "id": "9iovF5cjakRP"
      },
      "execution_count": 485,
      "outputs": []
    },
    {
      "cell_type": "code",
      "execution_count": 486,
      "metadata": {
        "id": "je-x0Su4__en"
      },
      "outputs": [],
      "source": [
        "score_list = []\n",
        "\n",
        "model = GradientBoostingClassifier(random_state=CFG['SEED'],**hp) # use_missing=False 결측치 옵션\n",
        "model.fit(train_X,target) \n",
        "\n",
        "pred = model.predict_proba(train_X)[:,1] # 1일 확률\n",
        "\n",
        "# predict = np.where(pred > 0.35, 1 , 0)\n",
        "score = cross_val_score(model,train_X,target,cv = cv ,scoring='f1_macro',n_jobs = -1)\n",
        "score_list.append(score) "
      ]
    },
    {
      "cell_type": "markdown",
      "source": [
        "## 특성 중요도 확인하기"
      ],
      "metadata": {
        "id": "E0UlpG-gK8qF"
      }
    },
    {
      "cell_type": "code",
      "source": [
        "np.mean(score_list)\n",
        "# 0.8152141752785269 hp 제거\n",
        "# 0.8204174332319465"
      ],
      "metadata": {
        "id": "BVl5IlVkf54z",
        "colab": {
          "base_uri": "https://localhost:8080/"
        },
        "outputId": "ebe80afd-2c08-4aa7-b34c-4eb112e7382f"
      },
      "execution_count": 487,
      "outputs": [
        {
          "output_type": "execute_result",
          "data": {
            "text/plain": [
              "0.8204174332319465"
            ]
          },
          "metadata": {},
          "execution_count": 487
        }
      ]
    },
    {
      "cell_type": "code",
      "source": [
        "x_target = pred\n",
        "x_target"
      ],
      "metadata": {
        "id": "EM-g8KpXYEC6",
        "colab": {
          "base_uri": "https://localhost:8080/"
        },
        "outputId": "cd24c095-c628-48fb-caba-6c42e69ead27"
      },
      "execution_count": 488,
      "outputs": [
        {
          "output_type": "execute_result",
          "data": {
            "text/plain": [
              "array([0.01440343, 0.01204089, 0.98936633, ..., 0.14657534, 0.04570655,\n",
              "       0.01017163])"
            ]
          },
          "metadata": {},
          "execution_count": 488
        }
      ]
    },
    {
      "cell_type": "markdown",
      "metadata": {
        "id": "E5NXZ2NWJL14"
      },
      "source": [
        "- 확률 추출!"
      ]
    },
    {
      "cell_type": "code",
      "execution_count": null,
      "metadata": {
        "id": "Z-0HjkTIYied"
      },
      "outputs": [],
      "source": [
        "# x_target = pd.DataFrame(pred)\n",
        "# x_target = x_target.squeeze()\n",
        "# x_target"
      ]
    },
    {
      "cell_type": "markdown",
      "metadata": {
        "id": "bOHl9sAon6tj"
      },
      "source": [
        "## Regressor"
      ]
    },
    {
      "cell_type": "markdown",
      "metadata": {
        "id": "E1uLBgdKEhtu"
      },
      "source": [
        "- train의 부분 X의 예측값을 설명하는 Regressor"
      ]
    },
    {
      "cell_type": "code",
      "execution_count": 489,
      "metadata": {
        "id": "cuf_HYBIwIvm"
      },
      "outputs": [],
      "source": [
        "test_stage_features = ['ANONYMOUS_1', 'ANONYMOUS_2', 'AG', 'CO', 'CR', 'CU', 'FE', 'H2O', 'MN',\n",
        "       'MO', 'NI', 'PQINDEX', 'TI', 'V', 'V40', 'ZN',\n",
        "       'COMPONENT_ARBITRARY_COMPONENT1', 'COMPONENT_ARBITRARY_COMPONENT2',\n",
        "       'COMPONENT_ARBITRARY_COMPONENT3', 'COMPONENT_ARBITRARY_COMPONENT4',\n",
        "       'YEAR_2007', 'YEAR_2008', 'YEAR_2009', 'YEAR_2010', 'YEAR_2011',\n",
        "       'YEAR_2012', 'YEAR_2013', 'YEAR_2014', 'YEAR_2015', 'YEAR_2016',\n",
        "       'YEAR_2017', 'YEAR_2018', 'YEAR_2019', 'YEAR_2020', 'YEAR_2021',\n",
        "       'YEAR_2022']"
      ]
    },
    {
      "cell_type": "code",
      "execution_count": 490,
      "metadata": {
        "id": "iQ8iZytbwIsU",
        "colab": {
          "base_uri": "https://localhost:8080/"
        },
        "outputId": "c75bc453-3021-4c84-ad15-67b82a1a6a03"
      },
      "outputs": [
        {
          "output_type": "execute_result",
          "data": {
            "text/plain": [
              "((14095, 36), (14095,))"
            ]
          },
          "metadata": {},
          "execution_count": 490
        }
      ],
      "source": [
        "train_reg = train_X[test_stage_features]\n",
        "train_reg.shape,x_target.shape"
      ]
    },
    {
      "cell_type": "code",
      "execution_count": 496,
      "metadata": {
        "id": "9LSr_znyjyfN"
      },
      "outputs": [],
      "source": [
        "def objective_2(trial):\n",
        "    hp = {\n",
        "        \"max_depth\" : trial.suggest_int(\"max_depth\",2,15), # 찾을 범위의 최소값과 최대값\n",
        "        \"min_samples_split\" : trial.suggest_int(\"min_samples_split\",2,10),\n",
        "        \"max_leaf_nodes\" : trial.suggest_int(\"max_leaf_nodes\",5,10),\n",
        "        \"n_estimators\" : trial.suggest_int(\"n_estimators\",10,500),\n",
        "        \"learning_rate\" : trial.suggest_float(\"learning_rate\",0.01,0.1)\n",
        "    }\n",
        "    cv = KFold(n_splits=5,shuffle=True,random_state=CFG['SEED'])\n",
        "    model = GradientBoostingRegressor(random_state=CFG['SEED'],**hp)\n",
        "\n",
        "    scores = cross_val_score(model, train_reg, x_target,cv=cv ,scoring=\"neg_mean_absolute_error\") # cv=cv 지움!\n",
        "    return np.mean(scores)"
      ]
    },
    {
      "cell_type": "code",
      "execution_count": 497,
      "metadata": {
        "id": "4AMapzk3jyfO",
        "colab": {
          "base_uri": "https://localhost:8080/"
        },
        "outputId": "6ba6277c-69ce-44cf-a67d-70dfd3a71fc3"
      },
      "outputs": [
        {
          "output_type": "stream",
          "name": "stderr",
          "text": [
            "\u001b[32m[I 2022-12-04 04:29:44,099]\u001b[0m A new study created in memory with name: no-name-63c2f599-2cf7-4eaf-900f-6342f47c7830\u001b[0m\n",
            "\u001b[32m[I 2022-12-04 04:30:28,818]\u001b[0m Trial 0 finished with value: -0.09797532341044184 and parameters: {'max_depth': 7, 'min_samples_split': 10, 'max_leaf_nodes': 9, 'n_estimators': 303, 'learning_rate': 0.02404167763981929}. Best is trial 0 with value: -0.09797532341044184.\u001b[0m\n",
            "\u001b[32m[I 2022-12-04 04:31:15,509]\u001b[0m Trial 1 finished with value: -0.09726256805633825 and parameters: {'max_depth': 4, 'min_samples_split': 2, 'max_leaf_nodes': 10, 'n_estimators': 305, 'learning_rate': 0.0737265320016441}. Best is trial 0 with value: -0.09797532341044184.\u001b[0m\n",
            "\u001b[32m[I 2022-12-04 04:31:24,985]\u001b[0m Trial 2 finished with value: -0.10094472907792551 and parameters: {'max_depth': 2, 'min_samples_split': 10, 'max_leaf_nodes': 9, 'n_estimators': 114, 'learning_rate': 0.02636424704863906}. Best is trial 2 with value: -0.10094472907792551.\u001b[0m\n",
            "\u001b[32m[I 2022-12-04 04:31:58,029]\u001b[0m Trial 3 finished with value: -0.09783858753336538 and parameters: {'max_depth': 4, 'min_samples_split': 4, 'max_leaf_nodes': 8, 'n_estimators': 222, 'learning_rate': 0.036210622617823776}. Best is trial 2 with value: -0.10094472907792551.\u001b[0m\n",
            "\u001b[32m[I 2022-12-04 04:32:21,501]\u001b[0m Trial 4 finished with value: -0.09812517908937554 and parameters: {'max_depth': 10, 'min_samples_split': 3, 'max_leaf_nodes': 6, 'n_estimators': 189, 'learning_rate': 0.05104629857953324}. Best is trial 2 with value: -0.10094472907792551.\u001b[0m\n",
            "\u001b[32m[I 2022-12-04 04:33:06,015]\u001b[0m Trial 5 finished with value: -0.09870688235977612 and parameters: {'max_depth': 12, 'min_samples_split': 3, 'max_leaf_nodes': 8, 'n_estimators': 300, 'learning_rate': 0.014180537144799797}. Best is trial 2 with value: -0.10094472907792551.\u001b[0m\n",
            "\u001b[32m[I 2022-12-04 04:33:56,616]\u001b[0m Trial 6 finished with value: -0.09705630143732119 and parameters: {'max_depth': 10, 'min_samples_split': 3, 'max_leaf_nodes': 5, 'n_estimators': 475, 'learning_rate': 0.09690688297671035}. Best is trial 2 with value: -0.10094472907792551.\u001b[0m\n",
            "\u001b[32m[I 2022-12-04 04:34:38,708]\u001b[0m Trial 7 finished with value: -0.09765776307489049 and parameters: {'max_depth': 13, 'min_samples_split': 4, 'max_leaf_nodes': 5, 'n_estimators': 345, 'learning_rate': 0.04961372443656412}. Best is trial 2 with value: -0.10094472907792551.\u001b[0m\n",
            "\u001b[32m[I 2022-12-04 04:35:29,455]\u001b[0m Trial 8 finished with value: -0.09786676930045538 and parameters: {'max_depth': 3, 'min_samples_split': 6, 'max_leaf_nodes': 5, 'n_estimators': 456, 'learning_rate': 0.03329019834400153}. Best is trial 2 with value: -0.10094472907792551.\u001b[0m\n",
            "\u001b[32m[I 2022-12-04 04:36:08,008]\u001b[0m Trial 9 finished with value: -0.09808884804802984 and parameters: {'max_depth': 11, 'min_samples_split': 4, 'max_leaf_nodes': 8, 'n_estimators': 278, 'learning_rate': 0.026636900997297437}. Best is trial 2 with value: -0.10094472907792551.\u001b[0m\n",
            "\u001b[32m[I 2022-12-04 04:36:12,342]\u001b[0m Trial 10 finished with value: -0.10012588323396794 and parameters: {'max_depth': 15, 'min_samples_split': 10, 'max_leaf_nodes': 10, 'n_estimators': 24, 'learning_rate': 0.06866798957003606}. Best is trial 2 with value: -0.10094472907792551.\u001b[0m\n",
            "\u001b[32m[I 2022-12-04 04:36:17,506]\u001b[0m Trial 11 finished with value: -0.09943654456378044 and parameters: {'max_depth': 14, 'min_samples_split': 10, 'max_leaf_nodes': 10, 'n_estimators': 29, 'learning_rate': 0.07645649902525188}. Best is trial 2 with value: -0.10094472907792551.\u001b[0m\n",
            "\u001b[32m[I 2022-12-04 04:36:21,626]\u001b[0m Trial 12 finished with value: -0.10021301163910849 and parameters: {'max_depth': 7, 'min_samples_split': 8, 'max_leaf_nodes': 9, 'n_estimators': 24, 'learning_rate': 0.07067598338571349}. Best is trial 2 with value: -0.10094472907792551.\u001b[0m\n",
            "\u001b[32m[I 2022-12-04 04:36:39,145]\u001b[0m Trial 13 finished with value: -0.09782690706645833 and parameters: {'max_depth': 6, 'min_samples_split': 8, 'max_leaf_nodes': 9, 'n_estimators': 117, 'learning_rate': 0.09184506491616397}. Best is trial 2 with value: -0.10094472907792551.\u001b[0m\n",
            "\u001b[32m[I 2022-12-04 04:36:49,700]\u001b[0m Trial 14 finished with value: -0.09919685857718516 and parameters: {'max_depth': 2, 'min_samples_split': 8, 'max_leaf_nodes': 7, 'n_estimators': 118, 'learning_rate': 0.05856580961225179}. Best is trial 2 with value: -0.10094472907792551.\u001b[0m\n",
            "\u001b[32m[I 2022-12-04 04:37:06,914]\u001b[0m Trial 15 finished with value: -0.10152530553745795 and parameters: {'max_depth': 7, 'min_samples_split': 8, 'max_leaf_nodes': 9, 'n_estimators': 102, 'learning_rate': 0.01029599770478418}. Best is trial 15 with value: -0.10152530553745795.\u001b[0m\n",
            "\u001b[32m[I 2022-12-04 04:37:25,828]\u001b[0m Trial 16 finished with value: -0.10037163881287414 and parameters: {'max_depth': 5, 'min_samples_split': 7, 'max_leaf_nodes': 7, 'n_estimators': 125, 'learning_rate': 0.014661163470983713}. Best is trial 15 with value: -0.10152530553745795.\u001b[0m\n",
            "\u001b[32m[I 2022-12-04 04:37:54,118]\u001b[0m Trial 17 finished with value: -0.10024709102986502 and parameters: {'max_depth': 8, 'min_samples_split': 9, 'max_leaf_nodes': 9, 'n_estimators': 167, 'learning_rate': 0.010149018369987535}. Best is trial 15 with value: -0.10152530553745795.\u001b[0m\n",
            "\u001b[32m[I 2022-12-04 04:38:01,002]\u001b[0m Trial 18 finished with value: -0.10068332331349783 and parameters: {'max_depth': 2, 'min_samples_split': 6, 'max_leaf_nodes': 9, 'n_estimators': 83, 'learning_rate': 0.040442889708177124}. Best is trial 15 with value: -0.10152530553745795.\u001b[0m\n",
            "\u001b[32m[I 2022-12-04 04:38:12,785]\u001b[0m Trial 19 finished with value: -0.10045120341277772 and parameters: {'max_depth': 9, 'min_samples_split': 9, 'max_leaf_nodes': 8, 'n_estimators': 72, 'learning_rate': 0.022896085235236906}. Best is trial 15 with value: -0.10152530553745795.\u001b[0m\n",
            "\u001b[32m[I 2022-12-04 04:38:47,474]\u001b[0m Trial 20 finished with value: -0.09764399770770496 and parameters: {'max_depth': 5, 'min_samples_split': 7, 'max_leaf_nodes': 10, 'n_estimators': 222, 'learning_rate': 0.044239426105339145}. Best is trial 15 with value: -0.10152530553745795.\u001b[0m\n",
            "\u001b[32m[I 2022-12-04 04:38:53,944]\u001b[0m Trial 21 finished with value: -0.10121202405972221 and parameters: {'max_depth': 2, 'min_samples_split': 6, 'max_leaf_nodes': 9, 'n_estimators': 78, 'learning_rate': 0.03405396515585819}. Best is trial 15 with value: -0.10152530553745795.\u001b[0m\n",
            "\u001b[32m[I 2022-12-04 04:39:00,185]\u001b[0m Trial 22 finished with value: -0.10159099895334112 and parameters: {'max_depth': 2, 'min_samples_split': 5, 'max_leaf_nodes': 9, 'n_estimators': 75, 'learning_rate': 0.03037209535577456}. Best is trial 22 with value: -0.10159099895334112.\u001b[0m\n",
            "\u001b[32m[I 2022-12-04 04:39:10,311]\u001b[0m Trial 23 finished with value: -0.09985201917748517 and parameters: {'max_depth': 4, 'min_samples_split': 5, 'max_leaf_nodes': 7, 'n_estimators': 71, 'learning_rate': 0.03243493219731766}. Best is trial 22 with value: -0.10159099895334112.\u001b[0m\n",
            "\u001b[32m[I 2022-12-04 04:39:32,841]\u001b[0m Trial 24 finished with value: -0.09930751653539356 and parameters: {'max_depth': 3, 'min_samples_split': 5, 'max_leaf_nodes': 8, 'n_estimators': 173, 'learning_rate': 0.01895518774749344}. Best is trial 22 with value: -0.10159099895334112.\u001b[0m\n",
            "\u001b[32m[I 2022-12-04 04:39:43,003]\u001b[0m Trial 25 finished with value: -0.09867475863546797 and parameters: {'max_depth': 6, 'min_samples_split': 7, 'max_leaf_nodes': 10, 'n_estimators': 60, 'learning_rate': 0.056698325506415084}. Best is trial 22 with value: -0.10159099895334112.\u001b[0m\n",
            "\u001b[32m[I 2022-12-04 04:40:01,293]\u001b[0m Trial 26 finished with value: -0.09826959769259523 and parameters: {'max_depth': 3, 'min_samples_split': 6, 'max_leaf_nodes': 9, 'n_estimators': 151, 'learning_rate': 0.04246245998918469}. Best is trial 22 with value: -0.10159099895334112.\u001b[0m\n",
            "\u001b[32m[I 2022-12-04 04:40:54,846]\u001b[0m Trial 27 finished with value: -0.09755583551273973 and parameters: {'max_depth': 5, 'min_samples_split': 5, 'max_leaf_nodes': 9, 'n_estimators': 375, 'learning_rate': 0.03141139281648434}. Best is trial 22 with value: -0.10159099895334112.\u001b[0m\n",
            "\u001b[32m[I 2022-12-04 04:41:27,787]\u001b[0m Trial 28 finished with value: -0.0987204271437624 and parameters: {'max_depth': 8, 'min_samples_split': 7, 'max_leaf_nodes': 8, 'n_estimators': 218, 'learning_rate': 0.018968039143458508}. Best is trial 22 with value: -0.10159099895334112.\u001b[0m\n",
            "\u001b[32m[I 2022-12-04 04:41:43,873]\u001b[0m Trial 29 finished with value: -0.10177192903420551 and parameters: {'max_depth': 7, 'min_samples_split': 5, 'max_leaf_nodes': 9, 'n_estimators': 95, 'learning_rate': 0.010042483566956886}. Best is trial 29 with value: -0.10177192903420551.\u001b[0m\n",
            "\u001b[32m[I 2022-12-04 04:41:45,339]\u001b[0m Trial 30 finished with value: -0.10516750433674134 and parameters: {'max_depth': 7, 'min_samples_split': 5, 'max_leaf_nodes': 6, 'n_estimators': 10, 'learning_rate': 0.012738454912907753}. Best is trial 30 with value: -0.10516750433674134.\u001b[0m\n",
            "\u001b[32m[I 2022-12-04 04:41:51,997]\u001b[0m Trial 31 finished with value: -0.10373467519607846 and parameters: {'max_depth': 7, 'min_samples_split': 5, 'max_leaf_nodes': 6, 'n_estimators': 42, 'learning_rate': 0.0117174167054146}. Best is trial 30 with value: -0.10516750433674134.\u001b[0m\n",
            "\u001b[32m[I 2022-12-04 04:41:58,276]\u001b[0m Trial 32 finished with value: -0.10279683574207592 and parameters: {'max_depth': 6, 'min_samples_split': 5, 'max_leaf_nodes': 6, 'n_estimators': 39, 'learning_rate': 0.019944998451442077}. Best is trial 30 with value: -0.10516750433674134.\u001b[0m\n",
            "\u001b[32m[I 2022-12-04 04:42:04,394]\u001b[0m Trial 33 finished with value: -0.10261509985335823 and parameters: {'max_depth': 6, 'min_samples_split': 4, 'max_leaf_nodes': 6, 'n_estimators': 42, 'learning_rate': 0.020106145241088905}. Best is trial 30 with value: -0.10516750433674134.\u001b[0m\n",
            "\u001b[32m[I 2022-12-04 04:42:06,110]\u001b[0m Trial 34 finished with value: -0.10457216937513203 and parameters: {'max_depth': 6, 'min_samples_split': 2, 'max_leaf_nodes': 6, 'n_estimators': 12, 'learning_rate': 0.02217218056729046}. Best is trial 30 with value: -0.10516750433674134.\u001b[0m\n",
            "\u001b[32m[I 2022-12-04 04:42:07,828]\u001b[0m Trial 35 finished with value: -0.10444633472297685 and parameters: {'max_depth': 9, 'min_samples_split': 2, 'max_leaf_nodes': 6, 'n_estimators': 12, 'learning_rate': 0.024855112726736996}. Best is trial 30 with value: -0.10516750433674134.\u001b[0m\n",
            "\u001b[32m[I 2022-12-04 04:42:09,988]\u001b[0m Trial 36 finished with value: -0.10407156426816548 and parameters: {'max_depth': 9, 'min_samples_split': 2, 'max_leaf_nodes': 6, 'n_estimators': 15, 'learning_rate': 0.02648661721686065}. Best is trial 30 with value: -0.10516750433674134.\u001b[0m\n",
            "\u001b[32m[I 2022-12-04 04:42:13,290]\u001b[0m Trial 37 finished with value: -0.10338491191575575 and parameters: {'max_depth': 9, 'min_samples_split': 2, 'max_leaf_nodes': 6, 'n_estimators': 23, 'learning_rate': 0.02572340737502206}. Best is trial 30 with value: -0.10516750433674134.\u001b[0m\n",
            "\u001b[32m[I 2022-12-04 04:42:14,629]\u001b[0m Trial 38 finished with value: -0.10431879381662446 and parameters: {'max_depth': 10, 'min_samples_split': 2, 'max_leaf_nodes': 5, 'n_estimators': 10, 'learning_rate': 0.03818035201857367}. Best is trial 30 with value: -0.10516750433674134.\u001b[0m\n",
            "\u001b[32m[I 2022-12-04 04:42:32,957]\u001b[0m Trial 39 finished with value: -0.09882848495560967 and parameters: {'max_depth': 11, 'min_samples_split': 2, 'max_leaf_nodes': 5, 'n_estimators': 146, 'learning_rate': 0.03791656095975188}. Best is trial 30 with value: -0.10516750433674134.\u001b[0m\n",
            "\u001b[32m[I 2022-12-04 04:42:40,629]\u001b[0m Trial 40 finished with value: -0.10280621408077968 and parameters: {'max_depth': 10, 'min_samples_split': 3, 'max_leaf_nodes': 5, 'n_estimators': 56, 'learning_rate': 0.01556740075874877}. Best is trial 30 with value: -0.10516750433674134.\u001b[0m\n",
            "\u001b[32m[I 2022-12-04 04:42:44,247]\u001b[0m Trial 41 finished with value: -0.10308030107502264 and parameters: {'max_depth': 9, 'min_samples_split': 2, 'max_leaf_nodes': 6, 'n_estimators': 25, 'learning_rate': 0.02723319109836343}. Best is trial 30 with value: -0.10516750433674134.\u001b[0m\n",
            "\u001b[32m[I 2022-12-04 04:42:45,721]\u001b[0m Trial 42 finished with value: -0.10376858670948615 and parameters: {'max_depth': 10, 'min_samples_split': 3, 'max_leaf_nodes': 6, 'n_estimators': 10, 'learning_rate': 0.04729880732085707}. Best is trial 30 with value: -0.10516750433674134.\u001b[0m\n",
            "\u001b[32m[I 2022-12-04 04:42:47,562]\u001b[0m Trial 43 finished with value: -0.10452095173768253 and parameters: {'max_depth': 11, 'min_samples_split': 2, 'max_leaf_nodes': 5, 'n_estimators': 14, 'learning_rate': 0.023602736658785158}. Best is trial 30 with value: -0.10516750433674134.\u001b[0m\n",
            "\u001b[32m[I 2022-12-04 04:42:54,817]\u001b[0m Trial 44 finished with value: -0.10202414317944275 and parameters: {'max_depth': 12, 'min_samples_split': 3, 'max_leaf_nodes': 5, 'n_estimators': 53, 'learning_rate': 0.022899103800746255}. Best is trial 30 with value: -0.10516750433674134.\u001b[0m\n",
            "\u001b[32m[I 2022-12-04 04:43:46,548]\u001b[0m Trial 45 finished with value: -0.09840806875496008 and parameters: {'max_depth': 11, 'min_samples_split': 2, 'max_leaf_nodes': 5, 'n_estimators': 422, 'learning_rate': 0.017401897764896597}. Best is trial 30 with value: -0.10516750433674134.\u001b[0m\n",
            "\u001b[32m[I 2022-12-04 04:43:48,367]\u001b[0m Trial 46 finished with value: -0.10293200283750639 and parameters: {'max_depth': 12, 'min_samples_split': 3, 'max_leaf_nodes': 5, 'n_estimators': 13, 'learning_rate': 0.061423410950297526}. Best is trial 30 with value: -0.10516750433674134.\u001b[0m\n",
            "\u001b[32m[I 2022-12-04 04:43:55,591]\u001b[0m Trial 47 finished with value: -0.10053983318109741 and parameters: {'max_depth': 8, 'min_samples_split': 2, 'max_leaf_nodes': 7, 'n_estimators': 46, 'learning_rate': 0.03760133668857311}. Best is trial 30 with value: -0.10516750433674134.\u001b[0m\n",
            "\u001b[32m[I 2022-12-04 04:44:09,069]\u001b[0m Trial 48 finished with value: -0.09984131403491608 and parameters: {'max_depth': 13, 'min_samples_split': 4, 'max_leaf_nodes': 5, 'n_estimators': 101, 'learning_rate': 0.029330479939410976}. Best is trial 30 with value: -0.10516750433674134.\u001b[0m\n",
            "\u001b[32m[I 2022-12-04 04:44:29,849]\u001b[0m Trial 49 finished with value: -0.09950039005233187 and parameters: {'max_depth': 11, 'min_samples_split': 2, 'max_leaf_nodes': 6, 'n_estimators': 138, 'learning_rate': 0.02287651742860967}. Best is trial 30 with value: -0.10516750433674134.\u001b[0m\n"
          ]
        }
      ],
      "source": [
        "sampler = optuna.samplers.TPESampler(seed = CFG['SEED']) \n",
        "\n",
        "study_1 = optuna.create_study(\n",
        "    direction= \"minimize\", \n",
        "    sampler = sampler\n",
        ")\n",
        "\n",
        "study_1.optimize(objective_2,n_trials=50)"
      ]
    },
    {
      "cell_type": "code",
      "execution_count": 498,
      "metadata": {
        "id": "FrbmnhImjyfQ",
        "colab": {
          "base_uri": "https://localhost:8080/"
        },
        "outputId": "e4ca4f1a-e781-46ee-dcae-f5260bfcf07a"
      },
      "outputs": [
        {
          "output_type": "stream",
          "name": "stdout",
          "text": [
            "Best Score: -0.10516750433674134\n",
            "Best hp {'max_depth': 7, 'min_samples_split': 5, 'max_leaf_nodes': 6, 'n_estimators': 10, 'learning_rate': 0.012738454912907753}\n"
          ]
        }
      ],
      "source": [
        "print(\"Best Score:\",study_1.best_value) \n",
        "print(\"Best hp\", study_1.best_params)"
      ]
    },
    {
      "cell_type": "code",
      "execution_count": 499,
      "metadata": {
        "id": "41rXZ_5WjyfQ",
        "colab": {
          "base_uri": "https://localhost:8080/"
        },
        "outputId": "60edd25a-78f6-424b-f582-90f5cc17a240"
      },
      "outputs": [
        {
          "output_type": "execute_result",
          "data": {
            "text/plain": [
              "{'max_depth': 7,\n",
              " 'min_samples_split': 5,\n",
              " 'max_leaf_nodes': 6,\n",
              " 'n_estimators': 10,\n",
              " 'learning_rate': 0.012738454912907753}"
            ]
          },
          "metadata": {},
          "execution_count": 499
        }
      ],
      "source": [
        "study_1.best_params # 따로 적어놓기"
      ]
    },
    {
      "cell_type": "code",
      "source": [
        "# hp2 = {'max_depth': 11,\n",
        "#  'min_samples_split': 7,\n",
        "#  'criterion': 'gini',\n",
        "#  'max_leaf_nodes': 10,\n",
        "#  'n_estimators': 485,\n",
        "#  'learning_rate': 0.09996338210042312}"
      ],
      "metadata": {
        "id": "rzl6Qhdnjx1X"
      },
      "execution_count": null,
      "outputs": []
    },
    {
      "cell_type": "code",
      "source": [
        "# hp3 = {'max_depth': 8,\n",
        "#  'min_samples_split': 2,\n",
        "#  'criterion': 'gini',\n",
        "#  'max_leaf_nodes': 7,\n",
        "#  'n_estimators': 495,\n",
        "#  'learning_rate': 0.0963781297289749}"
      ],
      "metadata": {
        "id": "DNnBzOhfjx4c"
      },
      "execution_count": null,
      "outputs": []
    },
    {
      "cell_type": "code",
      "source": [
        "hp3 = {'max_depth': 7,\n",
        " 'min_samples_split': 5,\n",
        " 'max_leaf_nodes': 6,\n",
        " 'n_estimators': 10,\n",
        " 'learning_rate': 0.012738454912907753}"
      ],
      "metadata": {
        "id": "1RpTt-7KfWyL"
      },
      "execution_count": 500,
      "outputs": []
    },
    {
      "cell_type": "code",
      "source": [],
      "metadata": {
        "id": "SkLEDCHiiqQl"
      },
      "execution_count": null,
      "outputs": []
    },
    {
      "cell_type": "code",
      "source": [],
      "metadata": {
        "id": "qSLIGHQ5T9ZY"
      },
      "execution_count": null,
      "outputs": []
    },
    {
      "cell_type": "code",
      "source": [],
      "metadata": {
        "id": "OPg8wNqvT9cZ"
      },
      "execution_count": null,
      "outputs": []
    },
    {
      "cell_type": "code",
      "source": [],
      "metadata": {
        "id": "z_KKJxlnT9fF"
      },
      "execution_count": null,
      "outputs": []
    },
    {
      "cell_type": "code",
      "source": [
        "score_list= []\n",
        "model = GradientBoostingRegressor(random_state=CFG['SEED'],**hp3)\n",
        "model.fit(train_reg,x_target) \n",
        "\n",
        "pred = model.predict(train_reg)\n",
        "\n",
        "score = -1*cross_val_score(model, train_reg, pred,cv=cv ,scoring=\"neg_mean_absolute_error\") # cv=cv 지움! # 내가 예측한 값과 실제값의 차이를 계산한 score\n",
        "score_list.append(score)"
      ],
      "metadata": {
        "id": "kg3R67AIiSO5"
      },
      "execution_count": 501,
      "outputs": []
    },
    {
      "cell_type": "code",
      "source": [
        "np.mean(score_list)\n",
        "# 0.0886074885785925\n",
        "# 0.06882263917176783 파라미터 조정\n",
        "# [0.07241899365301448] f1 score\n",
        "# [0.07131094591954595] cross_val\n",
        "# 0.04474295357702526\n",
        "# 0.057570414759672894"
      ],
      "metadata": {
        "id": "cFZEGo_7iYkx",
        "colab": {
          "base_uri": "https://localhost:8080/"
        },
        "outputId": "0aeced7a-3633-4d4e-b22e-9b53eb6c55eb"
      },
      "execution_count": 502,
      "outputs": [
        {
          "output_type": "execute_result",
          "data": {
            "text/plain": [
              "0.0025749847973628006"
            ]
          },
          "metadata": {},
          "execution_count": 502
        }
      ]
    },
    {
      "cell_type": "markdown",
      "metadata": {
        "id": "YPrxuIioDQup"
      },
      "source": [
        "### test의 shape과 맞춘 후 test에 적합"
      ]
    },
    {
      "cell_type": "code",
      "source": [
        "model = GradientBoostingRegressor(random_state=CFG['SEED'],**hp3)\n",
        "model.fit(train_reg,x_target)\n",
        "\n",
        "pred = model.predict(test)"
      ],
      "metadata": {
        "id": "YFY8atbAwEb3"
      },
      "execution_count": 549,
      "outputs": []
    },
    {
      "cell_type": "code",
      "source": [
        "y_pred = pred"
      ],
      "metadata": {
        "id": "f9kHRVbGiNxv"
      },
      "execution_count": 550,
      "outputs": []
    },
    {
      "cell_type": "code",
      "execution_count": 551,
      "metadata": {
        "id": "j3ht8gKyyuRb"
      },
      "outputs": [],
      "source": [
        "submit = pd.read_csv('/content/drive/MyDrive/sample_submission.csv')"
      ]
    },
    {
      "cell_type": "code",
      "source": [
        "submit.Y_LABEL = pd.Series(np.where(y_pred > 0.5, 1, 0)) # 이것도 추후 조정해보기!"
      ],
      "metadata": {
        "id": "UGC2cGOAw9TD"
      },
      "execution_count": 552,
      "outputs": []
    },
    {
      "cell_type": "code",
      "source": [
        "submit"
      ],
      "metadata": {
        "id": "qB_6iKhiw-0e",
        "colab": {
          "base_uri": "https://localhost:8080/",
          "height": 424
        },
        "outputId": "20369162-5a91-47cd-b81c-b708f6cd1da3"
      },
      "execution_count": 553,
      "outputs": [
        {
          "output_type": "execute_result",
          "data": {
            "text/plain": [
              "             ID  Y_LABEL\n",
              "0     TEST_0000        0\n",
              "1     TEST_0001        0\n",
              "2     TEST_0002        0\n",
              "3     TEST_0003        0\n",
              "4     TEST_0004        0\n",
              "...         ...      ...\n",
              "6036  TEST_6036        0\n",
              "6037  TEST_6037        0\n",
              "6038  TEST_6038        0\n",
              "6039  TEST_6039        0\n",
              "6040  TEST_6040        0\n",
              "\n",
              "[6041 rows x 2 columns]"
            ],
            "text/html": [
              "\n",
              "  <div id=\"df-9d75d5af-2500-4d4f-8044-2b8b56567224\">\n",
              "    <div class=\"colab-df-container\">\n",
              "      <div>\n",
              "<style scoped>\n",
              "    .dataframe tbody tr th:only-of-type {\n",
              "        vertical-align: middle;\n",
              "    }\n",
              "\n",
              "    .dataframe tbody tr th {\n",
              "        vertical-align: top;\n",
              "    }\n",
              "\n",
              "    .dataframe thead th {\n",
              "        text-align: right;\n",
              "    }\n",
              "</style>\n",
              "<table border=\"1\" class=\"dataframe\">\n",
              "  <thead>\n",
              "    <tr style=\"text-align: right;\">\n",
              "      <th></th>\n",
              "      <th>ID</th>\n",
              "      <th>Y_LABEL</th>\n",
              "    </tr>\n",
              "  </thead>\n",
              "  <tbody>\n",
              "    <tr>\n",
              "      <th>0</th>\n",
              "      <td>TEST_0000</td>\n",
              "      <td>0</td>\n",
              "    </tr>\n",
              "    <tr>\n",
              "      <th>1</th>\n",
              "      <td>TEST_0001</td>\n",
              "      <td>0</td>\n",
              "    </tr>\n",
              "    <tr>\n",
              "      <th>2</th>\n",
              "      <td>TEST_0002</td>\n",
              "      <td>0</td>\n",
              "    </tr>\n",
              "    <tr>\n",
              "      <th>3</th>\n",
              "      <td>TEST_0003</td>\n",
              "      <td>0</td>\n",
              "    </tr>\n",
              "    <tr>\n",
              "      <th>4</th>\n",
              "      <td>TEST_0004</td>\n",
              "      <td>0</td>\n",
              "    </tr>\n",
              "    <tr>\n",
              "      <th>...</th>\n",
              "      <td>...</td>\n",
              "      <td>...</td>\n",
              "    </tr>\n",
              "    <tr>\n",
              "      <th>6036</th>\n",
              "      <td>TEST_6036</td>\n",
              "      <td>0</td>\n",
              "    </tr>\n",
              "    <tr>\n",
              "      <th>6037</th>\n",
              "      <td>TEST_6037</td>\n",
              "      <td>0</td>\n",
              "    </tr>\n",
              "    <tr>\n",
              "      <th>6038</th>\n",
              "      <td>TEST_6038</td>\n",
              "      <td>0</td>\n",
              "    </tr>\n",
              "    <tr>\n",
              "      <th>6039</th>\n",
              "      <td>TEST_6039</td>\n",
              "      <td>0</td>\n",
              "    </tr>\n",
              "    <tr>\n",
              "      <th>6040</th>\n",
              "      <td>TEST_6040</td>\n",
              "      <td>0</td>\n",
              "    </tr>\n",
              "  </tbody>\n",
              "</table>\n",
              "<p>6041 rows × 2 columns</p>\n",
              "</div>\n",
              "      <button class=\"colab-df-convert\" onclick=\"convertToInteractive('df-9d75d5af-2500-4d4f-8044-2b8b56567224')\"\n",
              "              title=\"Convert this dataframe to an interactive table.\"\n",
              "              style=\"display:none;\">\n",
              "        \n",
              "  <svg xmlns=\"http://www.w3.org/2000/svg\" height=\"24px\"viewBox=\"0 0 24 24\"\n",
              "       width=\"24px\">\n",
              "    <path d=\"M0 0h24v24H0V0z\" fill=\"none\"/>\n",
              "    <path d=\"M18.56 5.44l.94 2.06.94-2.06 2.06-.94-2.06-.94-.94-2.06-.94 2.06-2.06.94zm-11 1L8.5 8.5l.94-2.06 2.06-.94-2.06-.94L8.5 2.5l-.94 2.06-2.06.94zm10 10l.94 2.06.94-2.06 2.06-.94-2.06-.94-.94-2.06-.94 2.06-2.06.94z\"/><path d=\"M17.41 7.96l-1.37-1.37c-.4-.4-.92-.59-1.43-.59-.52 0-1.04.2-1.43.59L10.3 9.45l-7.72 7.72c-.78.78-.78 2.05 0 2.83L4 21.41c.39.39.9.59 1.41.59.51 0 1.02-.2 1.41-.59l7.78-7.78 2.81-2.81c.8-.78.8-2.07 0-2.86zM5.41 20L4 18.59l7.72-7.72 1.47 1.35L5.41 20z\"/>\n",
              "  </svg>\n",
              "      </button>\n",
              "      \n",
              "  <style>\n",
              "    .colab-df-container {\n",
              "      display:flex;\n",
              "      flex-wrap:wrap;\n",
              "      gap: 12px;\n",
              "    }\n",
              "\n",
              "    .colab-df-convert {\n",
              "      background-color: #E8F0FE;\n",
              "      border: none;\n",
              "      border-radius: 50%;\n",
              "      cursor: pointer;\n",
              "      display: none;\n",
              "      fill: #1967D2;\n",
              "      height: 32px;\n",
              "      padding: 0 0 0 0;\n",
              "      width: 32px;\n",
              "    }\n",
              "\n",
              "    .colab-df-convert:hover {\n",
              "      background-color: #E2EBFA;\n",
              "      box-shadow: 0px 1px 2px rgba(60, 64, 67, 0.3), 0px 1px 3px 1px rgba(60, 64, 67, 0.15);\n",
              "      fill: #174EA6;\n",
              "    }\n",
              "\n",
              "    [theme=dark] .colab-df-convert {\n",
              "      background-color: #3B4455;\n",
              "      fill: #D2E3FC;\n",
              "    }\n",
              "\n",
              "    [theme=dark] .colab-df-convert:hover {\n",
              "      background-color: #434B5C;\n",
              "      box-shadow: 0px 1px 3px 1px rgba(0, 0, 0, 0.15);\n",
              "      filter: drop-shadow(0px 1px 2px rgba(0, 0, 0, 0.3));\n",
              "      fill: #FFFFFF;\n",
              "    }\n",
              "  </style>\n",
              "\n",
              "      <script>\n",
              "        const buttonEl =\n",
              "          document.querySelector('#df-9d75d5af-2500-4d4f-8044-2b8b56567224 button.colab-df-convert');\n",
              "        buttonEl.style.display =\n",
              "          google.colab.kernel.accessAllowed ? 'block' : 'none';\n",
              "\n",
              "        async function convertToInteractive(key) {\n",
              "          const element = document.querySelector('#df-9d75d5af-2500-4d4f-8044-2b8b56567224');\n",
              "          const dataTable =\n",
              "            await google.colab.kernel.invokeFunction('convertToInteractive',\n",
              "                                                     [key], {});\n",
              "          if (!dataTable) return;\n",
              "\n",
              "          const docLinkHtml = 'Like what you see? Visit the ' +\n",
              "            '<a target=\"_blank\" href=https://colab.research.google.com/notebooks/data_table.ipynb>data table notebook</a>'\n",
              "            + ' to learn more about interactive tables.';\n",
              "          element.innerHTML = '';\n",
              "          dataTable['output_type'] = 'display_data';\n",
              "          await google.colab.output.renderOutput(dataTable, element);\n",
              "          const docLink = document.createElement('div');\n",
              "          docLink.innerHTML = docLinkHtml;\n",
              "          element.appendChild(docLink);\n",
              "        }\n",
              "      </script>\n",
              "    </div>\n",
              "  </div>\n",
              "  "
            ]
          },
          "metadata": {},
          "execution_count": 553
        }
      ]
    },
    {
      "cell_type": "code",
      "source": [
        "submit.Y_LABEL.value_counts()\n",
        "# 기존 104"
      ],
      "metadata": {
        "id": "0ldu94Gow-29",
        "colab": {
          "base_uri": "https://localhost:8080/"
        },
        "outputId": "3081e3fd-725a-4304-e112-21ce4c8684a1"
      },
      "execution_count": 554,
      "outputs": [
        {
          "output_type": "execute_result",
          "data": {
            "text/plain": [
              "0    6041\n",
              "Name: Y_LABEL, dtype: int64"
            ]
          },
          "metadata": {},
          "execution_count": 554
        }
      ]
    },
    {
      "cell_type": "code",
      "execution_count": 555,
      "metadata": {
        "id": "hjN5sVco1Y_D"
      },
      "outputs": [],
      "source": [
        "submit.to_csv('/content/drive/MyDrive/submit.csv', index=False)"
      ]
    },
    {
      "cell_type": "code",
      "source": [],
      "metadata": {
        "id": "KiGT7rvnyvRQ"
      },
      "execution_count": null,
      "outputs": []
    },
    {
      "cell_type": "code",
      "source": [],
      "metadata": {
        "id": "N0lFr9J2yvW_"
      },
      "execution_count": null,
      "outputs": []
    },
    {
      "cell_type": "code",
      "source": [],
      "metadata": {
        "id": "hF_Aa7RuyvZn"
      },
      "execution_count": null,
      "outputs": []
    },
    {
      "cell_type": "code",
      "source": [],
      "metadata": {
        "id": "JWFZVsuSyvbp"
      },
      "execution_count": null,
      "outputs": []
    },
    {
      "cell_type": "code",
      "source": [],
      "metadata": {
        "id": "zUTxtxw9yvdd"
      },
      "execution_count": null,
      "outputs": []
    },
    {
      "cell_type": "markdown",
      "metadata": {
        "id": "Cg2UEUQEViGT"
      },
      "source": [
        "- 잡다한 것"
      ]
    },
    {
      "cell_type": "code",
      "execution_count": null,
      "metadata": {
        "id": "vRclDoR3ViIW"
      },
      "outputs": [],
      "source": [
        "# score = f1_score(y_valid, predict,average=\"macro\")\n",
        "# score = cross_val_score(y_valid, predict, scoring=\"f1_macro\") "
      ]
    },
    {
      "cell_type": "code",
      "execution_count": null,
      "metadata": {
        "id": "LXGIiaXmxn8k"
      },
      "outputs": [],
      "source": [
        "# score_list = []\n",
        "    \n",
        "# # 모델 학습\n",
        "# model = LGBMClassifier(random_state=42,n_estimators=1000)\n",
        "# model.fit(train_X,target , eval_set = [(train_X,target)],early_stopping_rounds=50) \n",
        "\n",
        "# pred = model.predict_proba(train_X)[:,1] # 1일 확률\n",
        "# predict = np.where(pred > 0.35, 1 , 0)\n",
        "# score = f1_score(target,predict,average=\"macro\") \n",
        "# score_list.append(score) \n",
        "\n",
        "# score_list"
      ]
    },
    {
      "cell_type": "code",
      "execution_count": null,
      "metadata": {
        "id": "uUwPnxu87CG4"
      },
      "outputs": [],
      "source": [
        "# tpred_list = []\n",
        "# score_list = []\n",
        "# for tri,vai in cv.split(test):\n",
        "\n",
        "#     x_train = test.iloc[tri]\n",
        "#     y_train = x_target[tri]\n",
        "\n",
        "#     x_valid = test.iloc[vai]\n",
        "#     y_valid = x_target[vai]\n",
        "    \n",
        "\n",
        "#     model = lgb.LGBMRegressor(random_state=CFG['SEED'],predict_disable_shape_check=True )\n",
        "#     model.fit(x_train,y_train , eval_set = [(x_valid,y_valid)],early_stopping_rounds=50) \n",
        "\n",
        "#     pred = model.predict(x_valid) # 이것을 변환\n",
        "#     pred_list.append(pred)\n",
        "\n",
        "# pred_list"
      ]
    },
    {
      "cell_type": "code",
      "source": [
        "# pred_list = []\n",
        "# score_list = []\n",
        "\n",
        "# for tri,vai in cv.split(test_toNum):\n",
        "\n",
        "#     x_train = test_toNum[tri]\n",
        "#     y_train = x_target.iloc[tri]\n",
        "\n",
        "#     x_valid = test_toNum[vai]\n",
        "#     y_valid = x_target.iloc[vai]\n",
        "\n",
        "#     model = lgb.LGBMRegressor(random_state=CFG['SEED'],use_missing=False)\n",
        "#     model.fit(x_train,y_train , eval_set = [(x_train,y_train)],early_stopping_rounds=50) \n",
        "\n",
        "#     pred = model.predict(test_toNum)\n",
        "\n",
        "#     pred_list.append(pred)\n",
        "\n",
        "#     pred_list"
      ],
      "metadata": {
        "id": "IYE8t5TyLoAK"
      },
      "execution_count": null,
      "outputs": []
    },
    {
      "cell_type": "code",
      "execution_count": null,
      "metadata": {
        "id": "HcNPUsjtU52u"
      },
      "outputs": [],
      "source": [
        "# pred_list = []\n",
        "# score_list = []\n",
        "\n",
        "# for tri,vai in cv.split(train_reg):\n",
        "\n",
        "#     x_train = train_reg.iloc[tri]\n",
        "#     y_train = x_target.iloc[tri]\n",
        "\n",
        "#     x_valid = train_reg.iloc[vai]\n",
        "#     y_valid = x_target.iloc[vai]\n",
        "#     model = lgb.LGBMRegressor(random_state=CFG['SEED'])\n",
        "#     model.fit(x_train,y_train) \n",
        "\n",
        "#     pred = model.predict(x_valid)\n",
        "\n",
        "#     score = mean_absolute_error(y_valid, pred) # 내가 예측한 값과 실제값의 차이를 계산한 score\n",
        "#     score_list.append(score)\n",
        "#     pred_list.append(pred)\n",
        "\n",
        "#     pred_list"
      ]
    },
    {
      "cell_type": "code",
      "execution_count": null,
      "metadata": {
        "id": "V8fOvKKq9Cwm"
      },
      "outputs": [],
      "source": [
        "# pred_list = []\n",
        "# score_list = []\n",
        "# for tri,vai in cv.split(train_X):\n",
        "\n",
        "#     x_train = train_X.iloc[tri]\n",
        "#     y_train = target.iloc[tri]\n",
        "\n",
        "#     x_valid = train_X.iloc[vai]\n",
        "#     y_valid = target.iloc[vai]\n",
        "    \n",
        "#     model = LGBMClassifier(random_state=CFG['SEED'],**hp) # use_missing=False 결측치 옵션\n",
        "#     model.fit(x_train,y_train , eval_set = [(x_train,y_train)],early_stopping_rounds=50) \n",
        "    \n",
        "#     pred = model.predict_proba(x_valid)[:,1] # 1일 확률\n",
        "#     pred_list.append(pred)\n",
        "\n",
        "#     predict = np.where(pred > 0.35, 1 , 0)\n",
        "#     score = f1_score(y_valid,predict,average=\"macro\") \n",
        "#     score_list.append(score) \n",
        "\n",
        "# # np.zero로 1차원 백터를 만들고, vai 순서를 맞게 넣어야한다.\n",
        "# #     score_list"
      ]
    },
    {
      "cell_type": "code",
      "source": [],
      "metadata": {
        "id": "1zFiDQDKhrV5"
      },
      "execution_count": null,
      "outputs": []
    }
  ],
  "metadata": {
    "colab": {
      "provenance": [],
      "collapsed_sections": [
        "uqwf9sYkEAZ_"
      ],
      "authorship_tag": "ABX9TyOBE+urIX2Wlw3Bu3BF1quu",
      "include_colab_link": true
    },
    "gpuClass": "standard",
    "kernelspec": {
      "display_name": "Python 3",
      "name": "python3"
    },
    "language_info": {
      "name": "python"
    }
  },
  "nbformat": 4,
  "nbformat_minor": 0
}