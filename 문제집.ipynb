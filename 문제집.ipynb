{
  "cells": [
    {
      "cell_type": "markdown",
      "metadata": {
        "id": "view-in-github",
        "colab_type": "text"
      },
      "source": [
        "<a href=\"https://colab.research.google.com/github/soyongseok/playdata/blob/main/%EB%AC%B8%EC%A0%9C%EC%A7%91.ipynb\" target=\"_parent\"><img src=\"https://colab.research.google.com/assets/colab-badge.svg\" alt=\"Open In Colab\"/></a>"
      ]
    },
    {
      "cell_type": "markdown",
      "metadata": {
        "id": "u1lgnghJN5DW"
      },
      "source": [
        "1. 다음의 실행 결과에 대한 출력값을 적으시오.\n",
        "```python\n",
        "x = 1234\n",
        "y = 1234\n",
        "x is y\n",
        "```\n",
        "- 출력값: Fasle\n",
        "- 변수가 다르기 때문에 주소값이 다르다."
      ]
    },
    {
      "cell_type": "markdown",
      "metadata": {
        "id": "PLCXFTH_OPAe"
      },
      "source": [
        "2. 다음의 실행 결과에 대한 출력값을 적으시오.\n",
        "```python\n",
        "x = 1234\n",
        "y = 1234\n",
        "x == y\n",
        "```\n",
        "- 출력값: True"
      ]
    },
    {
      "cell_type": "markdown",
      "metadata": {
        "id": "9CbZ1jf_PYIU"
      },
      "source": [
        "3. 다음의 실행 결과에 대한 출력값을 적으시오.\n",
        "```python\n",
        "x = 1234\n",
        "y = x\n",
        "id(y) == id(x)\n",
        "```\n",
        "- 출력값: True"
      ]
    },
    {
      "cell_type": "markdown",
      "metadata": {
        "id": "kwX9UoonOSRV"
      },
      "source": [
        "4. 1번, 2번, 3번 문제의 출력값이 나오는 이유를 간단히 설명하시오.\n",
        "- 설명: 1,2,3문제 모두 비교연산자로 변수나 객체를 비교하여 bool형식으로 반환하기 때문이다."
      ]
    },
    {
      "cell_type": "markdown",
      "metadata": {
        "id": "3tw0-V9VP0ce"
      },
      "source": [
        "5. 다음의 문장을 출력하시오.\n",
        "```\n",
        "관수가 말했다. \"점심 맛있게 드세요\".\n",
        "```"
      ]
    },
    {
      "cell_type": "code",
      "execution_count": null,
      "metadata": {
        "id": "-VknqsCq75Vh",
        "outputId": "497f41bb-fcc0-4c86-85a6-5001708933b9"
      },
      "outputs": [
        {
          "name": "stdout",
          "output_type": "stream",
          "text": [
            "용석이가 말했다. \"점심 맛있게 드세요.\n"
          ]
        }
      ],
      "source": [
        "print('용석이가 말했다. \"점심 맛있게 드세요.\"')"
      ]
    },
    {
      "cell_type": "markdown",
      "metadata": {
        "id": "IX8BGh8GU6DP"
      },
      "source": [
        "6. 다음의 코드에서 \\n 과 \\t 에 대한 설명을 작성하시오.\n",
        "```python\n",
        "print(\"안녕하세요.\\n만나서\\t반갑습니다.\")\n",
        "```\n",
        "- `\\n` 의미: new line으로 다음 line에서 새로 출력한다는 의미입니다.\n",
        "- `\\t` 의미: tap과 같은 의미로 띄어쓰기 4번한 것과 동일한 기능입니다."
      ]
    },
    {
      "cell_type": "markdown",
      "metadata": {
        "id": "vLOB7qjaVFDg"
      },
      "source": [
        "7. print() 함수 파라미터를 이용해 다음을 출력해보세요.\n",
        "```\n",
        "링딩동링딩동/링디기딩디기딩딩딩/링딩동링딩동\n",
        "```"
      ]
    },
    {
      "cell_type": "code",
      "execution_count": null,
      "metadata": {
        "id": "gmSwSIuN78WY",
        "outputId": "e0689dac-80de-42c6-a1f9-9b56f1909889"
      },
      "outputs": [
        {
          "name": "stdout",
          "output_type": "stream",
          "text": [
            "링딩동링딩동/링디기딩디기딩딩딩/링딩동링딩동\n"
          ]
        }
      ],
      "source": [
        "print(\"링딩동링딩동\", \"링디기딩디기딩딩딩\", \"링딩동링딩동\", sep=\"/\")"
      ]
    },
    {
      "cell_type": "markdown",
      "metadata": {
        "id": "SuO2eFqSVRvH"
      },
      "source": [
        "8. 다음의 변수들를 이용해서 예시와 같은 출력을 하시오\n",
        "```\n",
        "name = \"이관수\"\n",
        "age = 42\n",
        "```\n",
        "- 출력 예시: \n",
        "나의 이름은 이관수 입니다. 나이는 42살 이에요"
      ]
    },
    {
      "cell_type": "code",
      "execution_count": null,
      "metadata": {
        "id": "0OV971dc794w",
        "outputId": "66173228-26fc-4886-db31-c051f3c0b86f"
      },
      "outputs": [
        {
          "name": "stdout",
          "output_type": "stream",
          "text": [
            "나의 이름은 이관수 입니다. 나이는 42 이에요\n"
          ]
        }
      ],
      "source": [
        "name = \"이관수\"\n",
        "age = 42\n",
        "print(f\"나의 이름은 {name} 입니다. 나이는 {age} 이에요\")"
      ]
    },
    {
      "cell_type": "markdown",
      "metadata": {
        "id": "s9EAkbFrVyJg"
      },
      "source": [
        "9. 위에서 만든 변수 name, age 의 타입을 확인하는 함수를 이용하여 각각의 타입을 확인해주세요."
      ]
    },
    {
      "cell_type": "code",
      "execution_count": null,
      "metadata": {
        "id": "k1ubbFqE7-rI",
        "outputId": "844e0c0f-20d3-435b-898f-4f24a9ad8339"
      },
      "outputs": [
        {
          "data": {
            "text/plain": [
              "(str, int)"
            ]
          },
          "execution_count": 8,
          "metadata": {},
          "output_type": "execute_result"
        }
      ],
      "source": [
        "type(name),type(age)"
      ]
    },
    {
      "cell_type": "markdown",
      "metadata": {
        "id": "xPPKBCrBV41e"
      },
      "source": [
        "10. 변수 age를 문자열 자료형 으로 변경해서 age 변수에 다시 담으세요."
      ]
    },
    {
      "cell_type": "code",
      "execution_count": null,
      "metadata": {
        "id": "0MQb_Ae28AH2",
        "outputId": "ecdfb7ba-0a08-44ed-84bc-f265b62f1539"
      },
      "outputs": [
        {
          "data": {
            "text/plain": [
              "str"
            ]
          },
          "execution_count": 11,
          "metadata": {},
          "output_type": "execute_result"
        }
      ],
      "source": [
        "age = str(age)\n",
        "\n",
        "type(age)"
      ]
    },
    {
      "cell_type": "markdown",
      "metadata": {
        "id": "9sqfa2VIWDmW"
      },
      "source": [
        "11. 다음 변수에서 H, p, mas, ! 를 각각 출력해보세요.\n",
        "```python\n",
        "word = 'Happy Christmas!'\n",
        "```"
      ]
    },
    {
      "cell_type": "code",
      "execution_count": null,
      "metadata": {
        "id": "jWINqHBW8Cve",
        "outputId": "86682d8d-74c3-4564-f4ae-33b05d78556c"
      },
      "outputs": [
        {
          "data": {
            "text/plain": [
              "('H', 'p', 'mas', '!')"
            ]
          },
          "execution_count": 16,
          "metadata": {},
          "output_type": "execute_result"
        }
      ],
      "source": [
        "word = 'Happy Christmas!'\n",
        "word[:1], word[3:4], word[-4:-1], word[-1]\n"
      ]
    },
    {
      "cell_type": "markdown",
      "metadata": {
        "id": "4Q02xTA7WRtm"
      },
      "source": [
        "12. word 변수에서 메소드를 사용하여 Christmas!만 출력하세요."
      ]
    },
    {
      "cell_type": "code",
      "execution_count": null,
      "metadata": {
        "id": "Ma_oiL1Q8DU8",
        "outputId": "8d89f014-cacd-4108-e64d-b34e593b5190"
      },
      "outputs": [
        {
          "data": {
            "text/plain": [
              "'Christmas!'"
            ]
          },
          "execution_count": 22,
          "metadata": {},
          "output_type": "execute_result"
        }
      ],
      "source": [
        "word.split(\" \")[1]"
      ]
    },
    {
      "cell_type": "markdown",
      "metadata": {
        "id": "YDSxUxrmWYBu"
      },
      "source": [
        "13. word 변수에 담긴 문자열을 슬라이싱을 이용하여 거꾸로 뒤집은 순서로 출력하세요."
      ]
    },
    {
      "cell_type": "code",
      "execution_count": null,
      "metadata": {
        "id": "wG673CRF8Dt1",
        "outputId": "97034768-e2f5-4ff9-f32e-8b63df9ea333"
      },
      "outputs": [
        {
          "data": {
            "text/plain": [
              "'!samtsirhC yppaH'"
            ]
          },
          "execution_count": 25,
          "metadata": {},
          "output_type": "execute_result"
        }
      ],
      "source": [
        "word[::-1]"
      ]
    },
    {
      "cell_type": "markdown",
      "metadata": {
        "id": "M12yZnpyWhVG"
      },
      "source": [
        "14. word 변수의 공백 부분을 `-` 로 치환해 출력해주세요."
      ]
    },
    {
      "cell_type": "code",
      "execution_count": null,
      "metadata": {
        "id": "KDKCBhN08EL1",
        "outputId": "38433479-18ff-4675-c42b-6b8986bfd021"
      },
      "outputs": [
        {
          "data": {
            "text/plain": [
              "'Happy-Christmas!'"
            ]
          },
          "execution_count": 27,
          "metadata": {},
          "output_type": "execute_result"
        }
      ],
      "source": [
        "word.replace(\" \",\"-\")"
      ]
    },
    {
      "cell_type": "markdown",
      "metadata": {
        "id": "vIDQgm-XWutv"
      },
      "source": [
        "15. 아래의 코드 실행결과의 출력값을 적으시오.\n",
        "\n",
        "```python\n",
        "a = \"15\"\n",
        "b = \"20\"\n",
        "print(a + b)\n",
        "```\n",
        "- 출력값 : 1520"
      ]
    },
    {
      "cell_type": "markdown",
      "metadata": {
        "id": "kwDkXiDUXBaP"
      },
      "source": [
        "16. 아래의 코드 실행결과의 출력값을 적으시오.\n",
        "\n",
        "```python\n",
        " print(\"Hello\" * 3)\n",
        "```\n",
        "- 출력값 :HelloHelloHello"
      ]
    },
    {
      "cell_type": "markdown",
      "metadata": {
        "id": "-GDSu7TDXJ6m"
      },
      "source": [
        "17. 다음의 변수의 문자열을 모두 대문자로 출력하고 , 그다음에 모두 소문자로 출력하시오.\n",
        "```\n",
        "answer = 'Life is 42'\n",
        "```"
      ]
    },
    {
      "cell_type": "code",
      "execution_count": null,
      "metadata": {
        "id": "cAmJF0L98Ie5",
        "outputId": "7fe9bd10-9b2d-422a-eab7-93b368780443"
      },
      "outputs": [
        {
          "data": {
            "text/plain": [
              "('LIFE IS 42', 'life is 42')"
            ]
          },
          "execution_count": 30,
          "metadata": {},
          "output_type": "execute_result"
        }
      ],
      "source": [
        "answer = 'Life is 42'\n",
        "answer.upper(),answer.lower()"
      ]
    },
    {
      "cell_type": "markdown",
      "metadata": {
        "id": "Mh4U0EL5XiiX"
      },
      "source": [
        "18. answer 변수의 `42`라는 문자열로 시작하는지 여부와 끝나는지 여부를 확인해주세요."
      ]
    },
    {
      "cell_type": "code",
      "execution_count": null,
      "metadata": {
        "id": "mezVh2oF8KfF",
        "outputId": "142deaef-2257-4032-98e9-2422b47de249"
      },
      "outputs": [
        {
          "data": {
            "text/plain": [
              "(False, True)"
            ]
          },
          "execution_count": 34,
          "metadata": {},
          "output_type": "execute_result"
        }
      ],
      "source": [
        "answer.startswith(\"42\"),answer.endswith(\"42\")"
      ]
    },
    {
      "cell_type": "markdown",
      "metadata": {
        "id": "jUC8-CrzXtiV"
      },
      "source": [
        "19. date 변수를 연도, 월, 일로 구분해 dates라는 리스트에 저장해주세요.\n",
        "```\n",
        "date = \"2000-12-21\"\n",
        "```"
      ]
    },
    {
      "cell_type": "code",
      "execution_count": null,
      "metadata": {
        "id": "kTHcTwtq8LeH",
        "outputId": "ac19f01f-e9ba-417d-9b9f-f5bb8d29277e"
      },
      "outputs": [
        {
          "data": {
            "text/plain": [
              "['2000', '12', '21']"
            ]
          },
          "execution_count": 36,
          "metadata": {},
          "output_type": "execute_result"
        }
      ],
      "source": [
        "date = \"2000-12-21\"\n",
        "dates = date.split(\"-\")\n",
        "dates"
      ]
    },
    {
      "cell_type": "markdown",
      "metadata": {
        "id": "K7cyn2tzX1ql"
      },
      "source": [
        "20. date 변수의 좌우 공백을 제거해주세요.\n",
        "```\n",
        "date = \"      2000-12-21     \"\n",
        "```"
      ]
    },
    {
      "cell_type": "code",
      "execution_count": null,
      "metadata": {
        "id": "tk61vQv98Mx5",
        "outputId": "fe4f6e88-47b1-42e7-a5f2-6cb17ae049b6"
      },
      "outputs": [
        {
          "data": {
            "text/plain": [
              "'2000-12-21'"
            ]
          },
          "execution_count": 37,
          "metadata": {},
          "output_type": "execute_result"
        }
      ],
      "source": [
        "date = \"      2000-12-21     \"\n",
        "date.strip()"
      ]
    },
    {
      "cell_type": "markdown",
      "metadata": {
        "id": "kjyzVdXoYZYw"
      },
      "source": [
        "21. 다음의 리스트에서 '블랙핑크'를 추가해주세요\n",
        "```\n",
        "my_play_list = ['나플라', '이센스', '제이콜', '나스', '찬스더래퍼' ]\n",
        "```"
      ]
    },
    {
      "cell_type": "code",
      "execution_count": null,
      "metadata": {
        "id": "oEtPPMvG8OfM",
        "outputId": "93d19c2f-649b-4f65-e215-2cdf348a69c7"
      },
      "outputs": [
        {
          "data": {
            "text/plain": [
              "['나플라', '이센스', '제이콜', '나스', '찬스더래퍼', '블랙핑크']"
            ]
          },
          "execution_count": 1,
          "metadata": {},
          "output_type": "execute_result"
        }
      ],
      "source": [
        "my_play_list = ['나플라', '이센스', '제이콜', '나스', '찬스더래퍼' ]\n",
        "my_play_list.append(\"블랙핑크\")\n",
        "my_play_list"
      ]
    },
    {
      "cell_type": "markdown",
      "metadata": {
        "id": "OIbS7luDYq08"
      },
      "source": [
        "22. my_play_list에 '이센스'와 '제이콜' 사이에 '더콰이엇'을 추가해주세요"
      ]
    },
    {
      "cell_type": "code",
      "execution_count": null,
      "metadata": {
        "id": "hLKHa8YD8RRZ",
        "outputId": "eb5eb1bd-0783-45b6-9df3-1b055123b67d"
      },
      "outputs": [
        {
          "data": {
            "text/plain": [
              "['나플라', '이센스', '더콰이엇', '제이콜', '나스', '찬스더래퍼', '블랙핑크']"
            ]
          },
          "execution_count": 2,
          "metadata": {},
          "output_type": "execute_result"
        }
      ],
      "source": [
        "my_play_list.insert(2,\"더콰이엇\")\n",
        "my_play_list"
      ]
    },
    {
      "cell_type": "markdown",
      "metadata": {
        "id": "kGf8McK2Y4Ac"
      },
      "source": [
        "23. my_play_list에서 '찬스더래퍼' 값을 삭제해주세요"
      ]
    },
    {
      "cell_type": "code",
      "execution_count": null,
      "metadata": {
        "id": "PbUzxKj98ShY",
        "outputId": "043f9aec-eeca-4316-90b3-43250acb862d"
      },
      "outputs": [
        {
          "data": {
            "text/plain": [
              "['나플라', '더콰이엇', '이센스', '제이콜', '나스', '블랙핑크']"
            ]
          },
          "execution_count": 52,
          "metadata": {},
          "output_type": "execute_result"
        }
      ],
      "source": [
        "my_play_list.remove(\"찬스더래퍼\")\n",
        "my_play_list"
      ]
    },
    {
      "cell_type": "markdown",
      "metadata": {
        "id": "28a1JnZ9ZO6U"
      },
      "source": [
        "24. 아래의 numbers 리스트에서 최소값과 최대값을 찾아 출력해주세요.\n",
        "```\n",
        "numbers = [13, 12, 23, 54, 115, 56, 17]\n",
        "```"
      ]
    },
    {
      "cell_type": "code",
      "execution_count": null,
      "metadata": {
        "id": "TuhrVFZF8TeE",
        "outputId": "cb4b38d7-873c-4f02-f599-08b79c21369f"
      },
      "outputs": [
        {
          "name": "stdout",
          "output_type": "stream",
          "text": [
            "12 115\n"
          ]
        }
      ],
      "source": [
        "numbers = [13, 12, 23, 54, 115, 56, 17]\n",
        "print(min(numbers),max(numbers))"
      ]
    },
    {
      "cell_type": "markdown",
      "metadata": {
        "id": "vg99mlS_Zb9U"
      },
      "source": [
        "25. numbers 리스트를 오름차순으로 정렬한 새 리스트를 만들어 num_ascending 라는 변수명으로 저장해주세요."
      ]
    },
    {
      "cell_type": "code",
      "execution_count": null,
      "metadata": {
        "id": "eEFwGOk98UmT",
        "outputId": "0f34a624-4d29-4f5e-ed15-d221bd35f040"
      },
      "outputs": [
        {
          "data": {
            "text/plain": [
              "[12, 13, 17, 23, 54, 56, 115]"
            ]
          },
          "execution_count": 63,
          "metadata": {},
          "output_type": "execute_result"
        }
      ],
      "source": [
        "numbers.sort()\n",
        "num_ascending = numbers\n",
        "num_ascending"
      ]
    },
    {
      "cell_type": "markdown",
      "metadata": {
        "id": "FN--3RNBZpUF"
      },
      "source": [
        "26. numbers 의 요소들에 대한 평균값을 구하세요."
      ]
    },
    {
      "cell_type": "code",
      "execution_count": null,
      "metadata": {
        "id": "2t_bs8FL8VsY",
        "outputId": "934a2984-aa7b-4ff4-a69b-5b237bd15cbf"
      },
      "outputs": [
        {
          "data": {
            "text/plain": [
              "41"
            ]
          },
          "execution_count": 66,
          "metadata": {},
          "output_type": "execute_result"
        }
      ],
      "source": [
        "avg = sum(numbers) / len(numbers)\n",
        "int(avg)"
      ]
    },
    {
      "cell_type": "markdown",
      "metadata": {
        "id": "Yv_qFnR8Z4ok"
      },
      "source": [
        "27. 아래의 리스트 a에서 리스트 슬라이싱을 활용하여 짝수만 출력해보세요. \n",
        "```\n",
        "a = [1, 2, 3, 4, 5, 6, 7, 8, 9, 10]\n",
        "```"
      ]
    },
    {
      "cell_type": "code",
      "execution_count": null,
      "metadata": {
        "id": "aTQTTzN78WpH",
        "outputId": "e5d15aa8-9686-4e24-b11f-e548f671a595"
      },
      "outputs": [
        {
          "data": {
            "text/plain": [
              "[2, 4, 6, 8, 10]"
            ]
          },
          "execution_count": 73,
          "metadata": {},
          "output_type": "execute_result"
        }
      ],
      "source": [
        "a = [1, 2, 3, 4, 5, 6, 7, 8, 9, 10]\n",
        "a[1::2]"
      ]
    },
    {
      "cell_type": "markdown",
      "metadata": {
        "id": "4mQbaEvlaCUk"
      },
      "source": [
        "28. 리스트 a에서 리스트 슬라이싱을 활용하여 홀수만 출력해보세요"
      ]
    },
    {
      "cell_type": "code",
      "execution_count": null,
      "metadata": {
        "id": "sk4ZWBnS8YH7",
        "outputId": "25a40e55-a33f-4be6-8597-6b8d3584387e"
      },
      "outputs": [
        {
          "data": {
            "text/plain": [
              "[1, 3, 5, 7, 9]"
            ]
          },
          "execution_count": 74,
          "metadata": {},
          "output_type": "execute_result"
        }
      ],
      "source": [
        "a[::2]"
      ]
    },
    {
      "cell_type": "markdown",
      "metadata": {
        "id": "QiA_GrvHaO7e"
      },
      "source": [
        "29. 다음의 리스트를 이용하여 출력결과와 같은 문자열로 출력하시오.\n",
        "```\n",
        "str_list = ['We', 'are', 'learning', 'python']\n",
        "```\n",
        "- 출력결과: We are learning python"
      ]
    },
    {
      "cell_type": "code",
      "execution_count": null,
      "metadata": {
        "id": "j2MwZNIS8ZrU",
        "outputId": "e37baa02-c0de-4cb5-e5d7-840b8e3d7390"
      },
      "outputs": [
        {
          "data": {
            "text/plain": [
              "'We are learning python'"
            ]
          },
          "execution_count": 80,
          "metadata": {},
          "output_type": "execute_result"
        }
      ],
      "source": [
        "str_list = ['We', 'are', 'learning', 'python']\n",
        "\" \".join(str_list)"
      ]
    },
    {
      "cell_type": "markdown",
      "metadata": {
        "id": "ga9YuSwxa6YD"
      },
      "source": [
        "30. 1004 값이 하나만 있는 튜플을 만드세요."
      ]
    },
    {
      "cell_type": "code",
      "execution_count": null,
      "metadata": {
        "id": "B2Z1c77f8cG2",
        "outputId": "5dd9028f-5c49-4077-83f5-7a32d933e655"
      },
      "outputs": [
        {
          "data": {
            "text/plain": [
              "(1004,)"
            ]
          },
          "execution_count": 101,
          "metadata": {},
          "output_type": "execute_result"
        }
      ],
      "source": [
        "a = 1004,\n",
        "a # 1004만 입력했을 때는 튜플이 아닌것 같아서 ,를 넣었는데 맞는지 모르겠습니다."
      ]
    },
    {
      "cell_type": "markdown",
      "metadata": {
        "id": "9qqWfixQbVP7"
      },
      "source": [
        "31. 다음의 튜플을 타입변환(tuple->list->tuple) 이용해서 2값과 3값사이에 100을 넣으시오\n",
        "```\n",
        "tup = 1,2,3,4,5\n",
        "```"
      ]
    },
    {
      "cell_type": "code",
      "execution_count": null,
      "metadata": {
        "id": "QOho8ar58dU5",
        "outputId": "3d9b82ef-2d02-4603-d0f1-dd479e5519ea"
      },
      "outputs": [
        {
          "data": {
            "text/plain": [
              "tuple"
            ]
          },
          "execution_count": 110,
          "metadata": {},
          "output_type": "execute_result"
        }
      ],
      "source": [
        "tup = 1,2,3,4,5\n",
        "a = list(tup)\n",
        "a.insert(2,100)\n",
        "b = tuple(a)\n",
        "type(b)"
      ]
    },
    {
      "cell_type": "markdown",
      "metadata": {
        "id": "AVQzM_ZucZti"
      },
      "source": [
        "32. 다음의 목록에서 과목명을 key 로 하고 점수를 value 로 하는 딕셔너리를 만드시오.\n",
        "``` \n",
        "영어 | 95\n",
        "수학 | 100\n",
        "국어 | 90\n",
        "과학 | 97\n",
        "사회 | 99\n",
        "```   "
      ]
    },
    {
      "cell_type": "code",
      "execution_count": null,
      "metadata": {
        "id": "fDLdotdk8ebt",
        "outputId": "0b5db0c3-0640-4a79-8015-852494506612"
      },
      "outputs": [
        {
          "data": {
            "text/plain": [
              "{'영어': 95, '수학': 100, '국어': 90, '과학': 97, '사회': 99}"
            ]
          },
          "execution_count": 117,
          "metadata": {},
          "output_type": "execute_result"
        }
      ],
      "source": [
        "data = {\n",
        "    \"영어\" : 95,\n",
        "    \"수학\" : 100,\n",
        "    \"국어\" : 90,\n",
        "    \"과학\" :97,\n",
        "    \"사회\" :99\n",
        "}\n",
        "\n",
        "data"
      ]
    },
    {
      "cell_type": "markdown",
      "metadata": {
        "id": "DEYqXxnuc0UL"
      },
      "source": [
        "33. scores 변수에서 존재하지않는 key 인 \"한국사\" 의 점수를 확인하려 할때 에러가 발생하지 않게 하시오."
      ]
    },
    {
      "cell_type": "code",
      "execution_count": null,
      "metadata": {
        "id": "OPeX9GLr8fbt",
        "outputId": "4eaaf2be-e03c-430e-f40b-ccbe796f28fe"
      },
      "outputs": [
        {
          "data": {
            "text/plain": [
              "'없는 과목입니다.'"
            ]
          },
          "execution_count": 121,
          "metadata": {},
          "output_type": "execute_result"
        }
      ],
      "source": [
        "data.get(\"한국사\",\"없는 과목입니다.\")"
      ]
    },
    {
      "cell_type": "markdown",
      "metadata": {
        "id": "bJsEhv3AdTTz"
      },
      "source": [
        "34. scores 변수에서 사회 과목은 97점으로 변경하시오."
      ]
    },
    {
      "cell_type": "code",
      "execution_count": null,
      "metadata": {
        "id": "mmrbnUqQ8gR0",
        "outputId": "a8b3e3b5-2abd-4fb7-f81c-ec55561caec2"
      },
      "outputs": [
        {
          "data": {
            "text/plain": [
              "{'영어': 95, '수학': 100, '국어': 90, '과학': 97, '사회': 97}"
            ]
          },
          "execution_count": 124,
          "metadata": {},
          "output_type": "execute_result"
        }
      ],
      "source": [
        "data[\"사회\"] = 97\n",
        "data"
      ]
    },
    {
      "cell_type": "markdown",
      "metadata": {
        "id": "8JWKiXHqdhm6"
      },
      "source": [
        "35. scores 의 변수의 전체 key를 출력하시오"
      ]
    },
    {
      "cell_type": "code",
      "execution_count": null,
      "metadata": {
        "id": "JVVmwpAm8hJ_",
        "outputId": "9fb0b483-8925-4d65-8c92-d04c7f15e3b9"
      },
      "outputs": [
        {
          "data": {
            "text/plain": [
              "dict_keys(['영어', '수학', '국어', '과학', '사회'])"
            ]
          },
          "execution_count": 126,
          "metadata": {},
          "output_type": "execute_result"
        }
      ],
      "source": [
        "data.keys()"
      ]
    },
    {
      "cell_type": "markdown",
      "metadata": {
        "id": "pZTBYZozdkzS"
      },
      "source": [
        "36. scores 의 변수의 전체 value 를 출력하시오"
      ]
    },
    {
      "cell_type": "code",
      "execution_count": null,
      "metadata": {
        "id": "x4u3aNAU8i2W",
        "outputId": "2bc36ff6-7e3b-419b-b481-86db26d36889"
      },
      "outputs": [
        {
          "data": {
            "text/plain": [
              "dict_values([95, 100, 90, 97, 97])"
            ]
          },
          "execution_count": 127,
          "metadata": {},
          "output_type": "execute_result"
        }
      ],
      "source": [
        "data.values()"
      ]
    },
    {
      "cell_type": "markdown",
      "metadata": {
        "id": "kIVIwAdmduQ6"
      },
      "source": [
        "37. scores 의 변수의 전체 key, value 를 출력하시오"
      ]
    },
    {
      "cell_type": "code",
      "execution_count": null,
      "metadata": {
        "id": "BISkRJmX8kIg",
        "outputId": "5c8bf1fe-cca8-425d-f2db-47d601513239"
      },
      "outputs": [
        {
          "data": {
            "text/plain": [
              "dict_items([('영어', 95), ('수학', 100), ('국어', 90), ('과학', 97), ('사회', 97)])"
            ]
          },
          "execution_count": 128,
          "metadata": {},
          "output_type": "execute_result"
        }
      ],
      "source": [
        "data.items()"
      ]
    },
    {
      "cell_type": "markdown",
      "metadata": {
        "id": "m58MQN37eEiZ"
      },
      "source": [
        "38. 다음의 리스트에서 인덱스 번호와 요소값을 for 문을 이용해서 출력하시오.\n",
        "```\n",
        "lst = ['사과', '바나나', '딸기']\n",
        "```"
      ]
    },
    {
      "cell_type": "code",
      "execution_count": null,
      "metadata": {
        "id": "rNuxFgJL8lcK",
        "outputId": "2b93ca57-f287-40c4-e4fb-231c2e8bbf0d"
      },
      "outputs": [
        {
          "name": "stdout",
          "output_type": "stream",
          "text": [
            "0,사과\n",
            "1,바나나\n",
            "2,딸기\n"
          ]
        }
      ],
      "source": [
        "lst = ['사과', '바나나', '딸기']\n",
        "for i in range(len(lst)):\n",
        "    print(f\"{i},{lst[i]}\")\n",
        "# enumerate 쓰기"
      ]
    },
    {
      "cell_type": "markdown",
      "metadata": {
        "id": "RnGevN2GePUa"
      },
      "source": [
        "39. 다음의 리스트들을 for 문을 이용해서 동일한 인덱스의 값들이 동시에 출력되게 하시오.\n",
        "```\n",
        "list1 = ['사과', '바나나', '딸기']\n",
        "list2 = ['Apple', 'Banana', 'Strawberry']\n",
        "```"
      ]
    },
    {
      "cell_type": "code",
      "execution_count": null,
      "metadata": {
        "id": "8RtyQMlR8mTE",
        "outputId": "980f2298-b4a5-4fa9-e2ab-ff310387ba9b"
      },
      "outputs": [
        {
          "name": "stdout",
          "output_type": "stream",
          "text": [
            "('사과', 'Apple')\n",
            "('바나나', 'Banana')\n",
            "('딸기', 'Strawberry')\n"
          ]
        }
      ],
      "source": [
        "list1 = ['사과', '바나나', '딸기']\n",
        "list2 = ['Apple', 'Banana', 'Strawberry']\n",
        "\n",
        "for i in list(zip(list1,list2)):\n",
        "    print(i)"
      ]
    },
    {
      "cell_type": "markdown",
      "metadata": {
        "id": "zxUVSCntesDp"
      },
      "source": [
        "40. list1 의 값들을 key 로 하고 list2 의 값들을 value 로 하는 딕셔너리를 만드시오."
      ]
    },
    {
      "cell_type": "code",
      "execution_count": null,
      "metadata": {
        "id": "YrzW4tQb8noA",
        "outputId": "68e5e60a-54c6-4fcf-90d2-a660fd0b3c3a"
      },
      "outputs": [
        {
          "data": {
            "text/plain": [
              "{'사과': 'Apple', '바나나': 'Banana', '딸기': 'Strawberry'}"
            ]
          },
          "execution_count": 143,
          "metadata": {},
          "output_type": "execute_result"
        }
      ],
      "source": [
        "dict(zip(list1,list2))"
      ]
    },
    {
      "cell_type": "markdown",
      "metadata": {
        "id": "_m4EWNBgfgUJ"
      },
      "source": [
        "41. 다음 코드를 for문으로 작성해주세요.\n",
        "```\n",
        "print('1번 끝')\n",
        "print(\"-------\")\n",
        "print('2번 끝')\n",
        "print(\"-------\")\n",
        "print('3번 끝')\n",
        "print(\"-------\")\n",
        "```"
      ]
    },
    {
      "cell_type": "code",
      "execution_count": null,
      "metadata": {
        "id": "5ZilXoie8oc4",
        "outputId": "674e8e4e-4a14-4267-83c7-9aafb9f7a3d7"
      },
      "outputs": [
        {
          "name": "stdout",
          "output_type": "stream",
          "text": [
            "1번 끝\n",
            "-------\n",
            "2번 끝\n",
            "-------\n",
            "3번 끝\n",
            "-------\n"
          ]
        }
      ],
      "source": [
        "for i in range(3):\n",
        "    print(f\"{i+1}번 끝\")\n",
        "    print(\"-------\")"
      ]
    },
    {
      "cell_type": "markdown",
      "metadata": {
        "id": "qg5QcsG_f9vA"
      },
      "source": [
        "42. 다음의 리스트를 컴프리헨션을 이용하여 음수들만 새로운 리스트에 담으세요.\n",
        "```\n",
        "lst = [-2, 1, 4, -88, 12, -12]\n",
        "```"
      ]
    },
    {
      "cell_type": "code",
      "execution_count": null,
      "metadata": {
        "id": "zjUd0yfB8pnI",
        "outputId": "d2ddb6f5-4c6c-4bc4-b65b-2a3b4343d10d"
      },
      "outputs": [
        {
          "data": {
            "text/plain": [
              "[-2, -88, -12]"
            ]
          },
          "execution_count": 146,
          "metadata": {},
          "output_type": "execute_result"
        }
      ],
      "source": [
        "lst = [-2, 1, 4, -88, 12, -12]\n",
        "x = [i for i in lst if i < 0]\n",
        "x"
      ]
    },
    {
      "cell_type": "markdown",
      "metadata": {
        "id": "aSNAVih9g43H"
      },
      "source": [
        "43. 다음의 리스트를 중첩 for문과 슬라이싱을 이용하여 출력결과와 같은 출력을 해보세요.\n",
        "\n",
        "```\n",
        "lst = [\"abcd\",\"1234\",\"5678\"]\n",
        "\n",
        "출력결과:\n",
        "8\n",
        "7\n",
        "6\n",
        "5\n",
        "4\n",
        "3\n",
        "2\n",
        "1\n",
        "d\n",
        "c\n",
        "b\n",
        "a\n",
        "```\n",
        "\n",
        "\n"
      ]
    },
    {
      "cell_type": "code",
      "execution_count": null,
      "metadata": {
        "id": "YoAX09SB8qrj",
        "outputId": "2976afdf-2e40-41ab-d31f-2d242447af8d"
      },
      "outputs": [
        {
          "name": "stdout",
          "output_type": "stream",
          "text": [
            "8\n",
            "7\n",
            "6\n",
            "5\n",
            "4\n",
            "3\n",
            "2\n",
            "1\n",
            "d\n",
            "c\n",
            "b\n",
            "a\n"
          ]
        }
      ],
      "source": [
        "lst = [\"abcd\",\"1234\",\"5678\"]\n",
        "for i in lst[::-1]:\n",
        "    for j in i[::-1]:\n",
        "        print(j)"
      ]
    },
    {
      "cell_type": "markdown",
      "metadata": {
        "id": "QnJkSjBoilVe"
      },
      "source": [
        "44. 다음의 리스트에 모든 값들을 중첩 for문을 이용하여 출력하세요.\n",
        "```\n",
        "lst = [\n",
        "    [ 2000,  550,  2550],\n",
        "    [ 3400,  850,  4250],\n",
        "    [54000, 15000, 69000]\n",
        "]\n",
        "```\n",
        "\n"
      ]
    },
    {
      "cell_type": "markdown",
      "metadata": {
        "id": "jG1r4dbfjZxQ"
      },
      "source": [
        "- 출력결과 예시:\n",
        "```\n",
        "2000\n",
        "550\n",
        "2550\n",
        "3400\n",
        "850\n",
        "4250\n",
        "54000\n",
        "15000\n",
        "69000\n",
        "```"
      ]
    },
    {
      "cell_type": "code",
      "execution_count": null,
      "metadata": {
        "id": "6oZc9bV58r1L",
        "outputId": "b79d1e89-a9a2-4d87-adeb-93a4cec8f101"
      },
      "outputs": [
        {
          "name": "stdout",
          "output_type": "stream",
          "text": [
            "2000\n",
            "550\n",
            "2550\n",
            "3400\n",
            "850\n",
            "4250\n",
            "54000\n",
            "15000\n",
            "69000\n"
          ]
        }
      ],
      "source": [
        "lst = [\n",
        "    [ 2000,  550,  2550],\n",
        "    [ 3400,  850,  4250],\n",
        "    [54000, 15000, 69000]\n",
        "]\n",
        "for i in lst:\n",
        "    for j in i:\n",
        "        print(j)"
      ]
    },
    {
      "cell_type": "markdown",
      "metadata": {
        "id": "CiD6UmZPjrBt"
      },
      "source": [
        "45. 실수형태의 문자열을 입력 받아 정수로 변환후 반환 함수를 작성해보세요.\n",
        "\n",
        "```\n",
        "s = \"3.14\"\n",
        "str2int(s)\n",
        "\n",
        "Output:\n",
        "3\n",
        "```"
      ]
    },
    {
      "cell_type": "code",
      "execution_count": null,
      "metadata": {
        "id": "wHurcS3E8s8R"
      },
      "outputs": [],
      "source": [
        "def str2int(n):  # 맞는 건지 모르겠습니다.\n",
        "    x = float(n)\n",
        "    return int(x)"
      ]
    },
    {
      "cell_type": "code",
      "execution_count": null,
      "metadata": {
        "id": "C9fhWMChB4-6",
        "outputId": "f1ad91a9-2f5b-4033-a5b3-1a0015cedaea"
      },
      "outputs": [
        {
          "data": {
            "text/plain": [
              "3"
            ]
          },
          "execution_count": 15,
          "metadata": {},
          "output_type": "execute_result"
        }
      ],
      "source": [
        "s = \"3.14\"\n",
        "str2int(s)"
      ]
    },
    {
      "cell_type": "markdown",
      "metadata": {
        "id": "51Q9cxR5lPqk"
      },
      "source": [
        "46. 45번문제에 정의한 함수를 람다 함수로 변경해보세요."
      ]
    },
    {
      "cell_type": "code",
      "execution_count": null,
      "metadata": {
        "id": "RpvJrV7Z8t1G",
        "outputId": "5fdec677-84f0-4c16-c7ba-4dd80817657a"
      },
      "outputs": [
        {
          "data": {
            "text/plain": [
              "3"
            ]
          },
          "execution_count": 16,
          "metadata": {},
          "output_type": "execute_result"
        }
      ],
      "source": [
        "x = lambda n: int(float(n))\n",
        "s = \"3.14\"\n",
        "str2int(s)"
      ]
    },
    {
      "cell_type": "markdown",
      "metadata": {
        "id": "CMAMxd2ymVKU"
      },
      "source": [
        "47. n개이상(0개포함)의 아규먼트를 받는 함수를 정의해서 받은 아규먼트를 리스트로 반환하는 함수를 작성하세요."
      ]
    },
    {
      "cell_type": "code",
      "execution_count": null,
      "metadata": {
        "id": "51CpEewl8vup",
        "outputId": "34f141a4-7945-41e4-e5c5-4ee8eeeb5665"
      },
      "outputs": [
        {
          "data": {
            "text/plain": [
              "[123, 12, 312, 214, 12]"
            ]
          },
          "execution_count": 3,
          "metadata": {},
          "output_type": "execute_result"
        }
      ],
      "source": [
        "def I_can_do(*args):\n",
        "    return list(args)\n",
        "I_can_do(123,12,312,214,12)"
      ]
    },
    {
      "cell_type": "markdown",
      "metadata": {
        "id": "Ytb5zmRkmw8V"
      },
      "source": [
        "48. 47번문제에 정의한 함수를 람다 함수로 변경해보세요."
      ]
    },
    {
      "cell_type": "code",
      "execution_count": null,
      "metadata": {
        "id": "2Woo-wAf8w-6",
        "outputId": "154a2415-7537-4f40-b752-5e452b4b9f9f"
      },
      "outputs": [
        {
          "name": "stdout",
          "output_type": "stream",
          "text": [
            "[123, 12, 312, 214, 12]\n"
          ]
        }
      ],
      "source": [
        "x = lambda *args: print(list(args))\n",
        "x(123,12,312,214,12)"
      ]
    },
    {
      "cell_type": "markdown",
      "metadata": {
        "id": "e9tzFLRcpLfz"
      },
      "source": [
        "49. 정수값 하나를 인자로 받아 짝수일경우 True, 홀수일경우 False 를 반환하는 함수를 작성하세요."
      ]
    },
    {
      "cell_type": "code",
      "execution_count": null,
      "metadata": {
        "id": "YgJnfxv78yKn",
        "outputId": "1becacde-7845-43e6-c44d-30e469aae223"
      },
      "outputs": [
        {
          "name": "stdout",
          "output_type": "stream",
          "text": [
            "False\n"
          ]
        }
      ],
      "source": [
        "def isodd(a):\n",
        "    if a % 2 == 0:\n",
        "        print(\"True\")\n",
        "    else:\n",
        "        print(\"False\")\n",
        "\n",
        "isodd(3)"
      ]
    },
    {
      "cell_type": "markdown",
      "metadata": {
        "id": "H3D816XYpdF4"
      },
      "source": [
        "50. 49번문제에 정의한 함수를 람다 함수로 변경해보세요."
      ]
    },
    {
      "cell_type": "code",
      "execution_count": null,
      "metadata": {
        "id": "zV77MbHg8zBr",
        "outputId": "209b18cf-7145-4697-c7b9-a6aa7d8a6ff4"
      },
      "outputs": [
        {
          "name": "stdout",
          "output_type": "stream",
          "text": [
            "True\n"
          ]
        }
      ],
      "source": [
        "isodd = lambda a: print(True) if a % 2 == 0 else print(\"False\")\n",
        "isodd(4)"
      ]
    },
    {
      "cell_type": "markdown",
      "metadata": {
        "id": "1azkSEThqoHB"
      },
      "source": [
        "51. 점수 하나를 인자로 받아 90점대는 \"A\", 80점대는 \"B\", 70점대는 \"C\", 70점 미만은 \"F\" 를 반환하는 함수를 만드시오. "
      ]
    },
    {
      "cell_type": "code",
      "execution_count": null,
      "metadata": {
        "id": "FmiTFT3B8z2G",
        "outputId": "d68269c5-989a-4401-bfe3-2c4d8001120a"
      },
      "outputs": [
        {
          "name": "stdout",
          "output_type": "stream",
          "text": [
            "B\n"
          ]
        }
      ],
      "source": [
        "def grade(a):\n",
        "    if a < 100 and a >= 90:\n",
        "        print(\"A\")\n",
        "    elif a >= 80:\n",
        "        print(\"B\")\n",
        "    elif a >= 70:\n",
        "        print(\"C\")\n",
        "    else:\n",
        "        print(\"F\")\n",
        "grade(100)"
      ]
    },
    {
      "cell_type": "markdown",
      "metadata": {
        "id": "3LP95Q1jrDvB"
      },
      "source": [
        "52. 다음의 리스트를 인자로 받아 None 값의 총 개수를 반환하는 함수를 작성하시오.\n",
        "```\n",
        "lst = [\n",
        "    [10,None,20,21,None],\n",
        "    [None,1,20,21,None],\n",
        "    [10,30,20,21,50],\n",
        "    [100,21,91,None]\n",
        "]\n",
        "```"
      ]
    },
    {
      "cell_type": "code",
      "execution_count": null,
      "metadata": {
        "id": "DDVHFDJM800U",
        "outputId": "4132b125-86f8-4d7c-f7ad-101f107c408d"
      },
      "outputs": [
        {
          "data": {
            "text/plain": [
              "5"
            ]
          },
          "execution_count": 246,
          "metadata": {},
          "output_type": "execute_result"
        }
      ],
      "source": [
        "lst = [\n",
        "    [10,None,20,21,None],\n",
        "    [None,1,20,21,None],\n",
        "    [10,30,20,21,50],\n",
        "    [100,21,91,None]\n",
        "]\n",
        "\n",
        "def check(a):   # 다른 풀이가 궁금합니다!\n",
        "    cnt = 0\n",
        "\n",
        "    for i in lst:\n",
        "        for j in i:\n",
        "            if j is None:\n",
        "                cnt += 1\n",
        "cnt\n",
        "        "
      ]
    },
    {
      "cell_type": "markdown",
      "metadata": {
        "id": "RoVZwrPM3Rb6"
      },
      "source": [
        "53. 학생 클래스를 구현하시오\n",
        "```\n",
        "생성자에 학번, 학생이름, 나이, 학과를 인자로 받아 인스턴스 변수를 초기화한다.\n",
        "학점을 추가로 받을수 있는 인스턴스 변수를 리스트 자료형으로 생성한다. \n",
        "학점 리스트에 학점을 추가할수 있는 메소드를 구현한다.\n",
        "학점 리스트에서 평점평균을 반환하는 메소드를 구현한다.\n",
        "info 메소드를 구현하여 학번, 이름, 나이, 학과, 평점평균을 출력하는 메소드를 구현한다. \n",
        "```"
      ]
    },
    {
      "cell_type": "code",
      "execution_count": null,
      "metadata": {
        "id": "N5wwVKwREW4k"
      },
      "outputs": [],
      "source": [
        "class ClassRoom:\n",
        "    def __init__(self,num,name,age,major):\n",
        "        self.num = num\n",
        "        self.name = name\n",
        "        self.age = age\n",
        "        self.major = major\n",
        "        self.gp_list = []\n",
        "\n",
        "    def add(self,*args):\n",
        "        self.gp_list.extend(args) # append는 다량의 정보 못 넣음\n",
        "\n",
        "    def avg(self):\n",
        "        return sum(self.gp_list) / len(self.gp_list)\n",
        "        \n",
        "    def info(self):\n",
        "        print(f\"학번: {self.num}, 이름: {self.name}, 나이: {self.age}, 학과:{self.major}, 평점평균: {self.avg()}\") # 안에서 실행!"
      ]
    },
    {
      "cell_type": "code",
      "execution_count": null,
      "metadata": {
        "id": "D1kukLHjB4-8",
        "outputId": "cef83d30-447f-480f-afb5-2f11f8519fb9"
      },
      "outputs": [
        {
          "name": "stdout",
          "output_type": "stream",
          "text": [
            "학번: 213123, 이름: 손용석, 나이: 25, 학과:산공, 평점평균: 31.666666666666668\n"
          ]
        }
      ],
      "source": [
        "x = ClassRoom(213123,'손용석',25,'산공')\n",
        "x.add(30,23,42)\n",
        "x.gp_list\n",
        "x.info()"
      ]
    },
    {
      "cell_type": "markdown",
      "metadata": {
        "id": "82j-dNjmDVNe"
      },
      "source": [
        "54. 다음의 함수에서 `a` , `b` , `c` 변수들이 어떤 변수인지 적으시오.(ex. 파라미터,지역변수,전역변수)\n",
        "\n",
        "```python\n",
        "a = 0\n",
        "def do_func(b):\n",
        "    c = 0\n",
        "```\n",
        "\n",
        "- `a` : 전역변수\n",
        "- `b` : 파라미터\n",
        "- `c` : 지역변수"
      ]
    },
    {
      "cell_type": "markdown",
      "metadata": {
        "id": "fVH3U8p2EU6M"
      },
      "source": [
        "55. 다음의 클래스에 `self` , `a` , `self.a` , `b` , `s`  어떤 변수인지 적으시오.(ex. 파라미터,지역변수,전역변수,인스턴스변수,클래스변수)\n",
        "\n",
        "```python\n",
        "class MyClass:\n",
        "    s = \"My Class\"\n",
        "    def do_method(self,a):\n",
        "        self.a = a\n",
        "        b = 10\n",
        "```\n",
        "\n",
        "- `self` : 파라미터\n",
        "- `a` : 파라미터\n",
        "- `self.a` : 인스턴스 변수\n",
        "- `b` :  지역 변수\n",
        "- `s` : 클래스 변수"
      ]
    }
  ],
  "metadata": {
    "colab": {
      "collapsed_sections": [],
      "name": "문제집.ipynb",
      "provenance": [],
      "include_colab_link": true
    },
    "kernelspec": {
      "display_name": "Python 3.10.5 64-bit",
      "language": "python",
      "name": "python3"
    },
    "language_info": {
      "codemirror_mode": {
        "name": "ipython",
        "version": 3
      },
      "file_extension": ".py",
      "mimetype": "text/x-python",
      "name": "python",
      "nbconvert_exporter": "python",
      "pygments_lexer": "ipython3",
      "version": "3.10.5"
    },
    "vscode": {
      "interpreter": {
        "hash": "c256111fe00ef6a016a04dfe3a9c19ee1251adc6f62746ee17a73d678f122d97"
      }
    }
  },
  "nbformat": 4,
  "nbformat_minor": 0
}