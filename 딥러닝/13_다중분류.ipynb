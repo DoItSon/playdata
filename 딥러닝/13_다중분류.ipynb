{
  "nbformat": 4,
  "nbformat_minor": 0,
  "metadata": {
    "colab": {
      "provenance": [],
      "collapsed_sections": [],
      "include_colab_link": true
    },
    "kernelspec": {
      "name": "python3",
      "display_name": "Python 3"
    },
    "language_info": {
      "name": "python"
    },
    "accelerator": "GPU",
    "gpuClass": "standard",
    "widgets": {
      "application/vnd.jupyter.widget-state+json": {
        "59a76bbb26754d3299953362749140e3": {
          "model_module": "@jupyter-widgets/controls",
          "model_name": "HBoxModel",
          "model_module_version": "1.5.0",
          "state": {
            "_dom_classes": [],
            "_model_module": "@jupyter-widgets/controls",
            "_model_module_version": "1.5.0",
            "_model_name": "HBoxModel",
            "_view_count": null,
            "_view_module": "@jupyter-widgets/controls",
            "_view_module_version": "1.5.0",
            "_view_name": "HBoxView",
            "box_style": "",
            "children": [
              "IPY_MODEL_6e458f216d9747b4931c8b20d1527e25",
              "IPY_MODEL_904ca1a5a1ca465a8c0f87d9add451b9",
              "IPY_MODEL_0b0df15531f94149b7d97cb3d112b118"
            ],
            "layout": "IPY_MODEL_4630813ad98348d4a31b7f73b7776e59"
          }
        },
        "6e458f216d9747b4931c8b20d1527e25": {
          "model_module": "@jupyter-widgets/controls",
          "model_name": "HTMLModel",
          "model_module_version": "1.5.0",
          "state": {
            "_dom_classes": [],
            "_model_module": "@jupyter-widgets/controls",
            "_model_module_version": "1.5.0",
            "_model_name": "HTMLModel",
            "_view_count": null,
            "_view_module": "@jupyter-widgets/controls",
            "_view_module_version": "1.5.0",
            "_view_name": "HTMLView",
            "description": "",
            "description_tooltip": null,
            "layout": "IPY_MODEL_8cecffd62ec8456ca6e64a5b332661c6",
            "placeholder": "​",
            "style": "IPY_MODEL_06fab95686c04a16a6372a55e8bab3b3",
            "value": " 10%"
          }
        },
        "904ca1a5a1ca465a8c0f87d9add451b9": {
          "model_module": "@jupyter-widgets/controls",
          "model_name": "FloatProgressModel",
          "model_module_version": "1.5.0",
          "state": {
            "_dom_classes": [],
            "_model_module": "@jupyter-widgets/controls",
            "_model_module_version": "1.5.0",
            "_model_name": "FloatProgressModel",
            "_view_count": null,
            "_view_module": "@jupyter-widgets/controls",
            "_view_module_version": "1.5.0",
            "_view_name": "ProgressView",
            "bar_style": "danger",
            "description": "",
            "description_tooltip": null,
            "layout": "IPY_MODEL_0f1161d6370044d5ab216fdc7e1ee098",
            "max": 100,
            "min": 0,
            "orientation": "horizontal",
            "style": "IPY_MODEL_a427269202034e6ba4121d0b0182203b",
            "value": 10
          }
        },
        "0b0df15531f94149b7d97cb3d112b118": {
          "model_module": "@jupyter-widgets/controls",
          "model_name": "HTMLModel",
          "model_module_version": "1.5.0",
          "state": {
            "_dom_classes": [],
            "_model_module": "@jupyter-widgets/controls",
            "_model_module_version": "1.5.0",
            "_model_name": "HTMLModel",
            "_view_count": null,
            "_view_module": "@jupyter-widgets/controls",
            "_view_module_version": "1.5.0",
            "_view_name": "HTMLView",
            "description": "",
            "description_tooltip": null,
            "layout": "IPY_MODEL_46e75b1e32f04fe8af0cd62f1128b006",
            "placeholder": "​",
            "style": "IPY_MODEL_829538f1d2a549049f25544a424d509d",
            "value": " 10/100 [03:18&lt;26:53, 17.92s/it]"
          }
        },
        "4630813ad98348d4a31b7f73b7776e59": {
          "model_module": "@jupyter-widgets/base",
          "model_name": "LayoutModel",
          "model_module_version": "1.2.0",
          "state": {
            "_model_module": "@jupyter-widgets/base",
            "_model_module_version": "1.2.0",
            "_model_name": "LayoutModel",
            "_view_count": null,
            "_view_module": "@jupyter-widgets/base",
            "_view_module_version": "1.2.0",
            "_view_name": "LayoutView",
            "align_content": null,
            "align_items": null,
            "align_self": null,
            "border": null,
            "bottom": null,
            "display": null,
            "flex": null,
            "flex_flow": null,
            "grid_area": null,
            "grid_auto_columns": null,
            "grid_auto_flow": null,
            "grid_auto_rows": null,
            "grid_column": null,
            "grid_gap": null,
            "grid_row": null,
            "grid_template_areas": null,
            "grid_template_columns": null,
            "grid_template_rows": null,
            "height": null,
            "justify_content": null,
            "justify_items": null,
            "left": null,
            "margin": null,
            "max_height": null,
            "max_width": null,
            "min_height": null,
            "min_width": null,
            "object_fit": null,
            "object_position": null,
            "order": null,
            "overflow": null,
            "overflow_x": null,
            "overflow_y": null,
            "padding": null,
            "right": null,
            "top": null,
            "visibility": null,
            "width": null
          }
        },
        "8cecffd62ec8456ca6e64a5b332661c6": {
          "model_module": "@jupyter-widgets/base",
          "model_name": "LayoutModel",
          "model_module_version": "1.2.0",
          "state": {
            "_model_module": "@jupyter-widgets/base",
            "_model_module_version": "1.2.0",
            "_model_name": "LayoutModel",
            "_view_count": null,
            "_view_module": "@jupyter-widgets/base",
            "_view_module_version": "1.2.0",
            "_view_name": "LayoutView",
            "align_content": null,
            "align_items": null,
            "align_self": null,
            "border": null,
            "bottom": null,
            "display": null,
            "flex": null,
            "flex_flow": null,
            "grid_area": null,
            "grid_auto_columns": null,
            "grid_auto_flow": null,
            "grid_auto_rows": null,
            "grid_column": null,
            "grid_gap": null,
            "grid_row": null,
            "grid_template_areas": null,
            "grid_template_columns": null,
            "grid_template_rows": null,
            "height": null,
            "justify_content": null,
            "justify_items": null,
            "left": null,
            "margin": null,
            "max_height": null,
            "max_width": null,
            "min_height": null,
            "min_width": null,
            "object_fit": null,
            "object_position": null,
            "order": null,
            "overflow": null,
            "overflow_x": null,
            "overflow_y": null,
            "padding": null,
            "right": null,
            "top": null,
            "visibility": null,
            "width": null
          }
        },
        "06fab95686c04a16a6372a55e8bab3b3": {
          "model_module": "@jupyter-widgets/controls",
          "model_name": "DescriptionStyleModel",
          "model_module_version": "1.5.0",
          "state": {
            "_model_module": "@jupyter-widgets/controls",
            "_model_module_version": "1.5.0",
            "_model_name": "DescriptionStyleModel",
            "_view_count": null,
            "_view_module": "@jupyter-widgets/base",
            "_view_module_version": "1.2.0",
            "_view_name": "StyleView",
            "description_width": ""
          }
        },
        "0f1161d6370044d5ab216fdc7e1ee098": {
          "model_module": "@jupyter-widgets/base",
          "model_name": "LayoutModel",
          "model_module_version": "1.2.0",
          "state": {
            "_model_module": "@jupyter-widgets/base",
            "_model_module_version": "1.2.0",
            "_model_name": "LayoutModel",
            "_view_count": null,
            "_view_module": "@jupyter-widgets/base",
            "_view_module_version": "1.2.0",
            "_view_name": "LayoutView",
            "align_content": null,
            "align_items": null,
            "align_self": null,
            "border": null,
            "bottom": null,
            "display": null,
            "flex": null,
            "flex_flow": null,
            "grid_area": null,
            "grid_auto_columns": null,
            "grid_auto_flow": null,
            "grid_auto_rows": null,
            "grid_column": null,
            "grid_gap": null,
            "grid_row": null,
            "grid_template_areas": null,
            "grid_template_columns": null,
            "grid_template_rows": null,
            "height": null,
            "justify_content": null,
            "justify_items": null,
            "left": null,
            "margin": null,
            "max_height": null,
            "max_width": null,
            "min_height": null,
            "min_width": null,
            "object_fit": null,
            "object_position": null,
            "order": null,
            "overflow": null,
            "overflow_x": null,
            "overflow_y": null,
            "padding": null,
            "right": null,
            "top": null,
            "visibility": null,
            "width": null
          }
        },
        "a427269202034e6ba4121d0b0182203b": {
          "model_module": "@jupyter-widgets/controls",
          "model_name": "ProgressStyleModel",
          "model_module_version": "1.5.0",
          "state": {
            "_model_module": "@jupyter-widgets/controls",
            "_model_module_version": "1.5.0",
            "_model_name": "ProgressStyleModel",
            "_view_count": null,
            "_view_module": "@jupyter-widgets/base",
            "_view_module_version": "1.2.0",
            "_view_name": "StyleView",
            "bar_color": null,
            "description_width": ""
          }
        },
        "46e75b1e32f04fe8af0cd62f1128b006": {
          "model_module": "@jupyter-widgets/base",
          "model_name": "LayoutModel",
          "model_module_version": "1.2.0",
          "state": {
            "_model_module": "@jupyter-widgets/base",
            "_model_module_version": "1.2.0",
            "_model_name": "LayoutModel",
            "_view_count": null,
            "_view_module": "@jupyter-widgets/base",
            "_view_module_version": "1.2.0",
            "_view_name": "LayoutView",
            "align_content": null,
            "align_items": null,
            "align_self": null,
            "border": null,
            "bottom": null,
            "display": null,
            "flex": null,
            "flex_flow": null,
            "grid_area": null,
            "grid_auto_columns": null,
            "grid_auto_flow": null,
            "grid_auto_rows": null,
            "grid_column": null,
            "grid_gap": null,
            "grid_row": null,
            "grid_template_areas": null,
            "grid_template_columns": null,
            "grid_template_rows": null,
            "height": null,
            "justify_content": null,
            "justify_items": null,
            "left": null,
            "margin": null,
            "max_height": null,
            "max_width": null,
            "min_height": null,
            "min_width": null,
            "object_fit": null,
            "object_position": null,
            "order": null,
            "overflow": null,
            "overflow_x": null,
            "overflow_y": null,
            "padding": null,
            "right": null,
            "top": null,
            "visibility": null,
            "width": null
          }
        },
        "829538f1d2a549049f25544a424d509d": {
          "model_module": "@jupyter-widgets/controls",
          "model_name": "DescriptionStyleModel",
          "model_module_version": "1.5.0",
          "state": {
            "_model_module": "@jupyter-widgets/controls",
            "_model_module_version": "1.5.0",
            "_model_name": "DescriptionStyleModel",
            "_view_count": null,
            "_view_module": "@jupyter-widgets/base",
            "_view_module_version": "1.2.0",
            "_view_name": "StyleView",
            "description_width": ""
          }
        }
      }
    }
  },
  "cells": [
    {
      "cell_type": "markdown",
      "metadata": {
        "id": "view-in-github",
        "colab_type": "text"
      },
      "source": [
        "<a href=\"https://colab.research.google.com/github/DoItSon/playdata/blob/main/%EB%94%A5%EB%9F%AC%EB%8B%9D/13_%EB%8B%A4%EC%A4%91%EB%B6%84%EB%A5%98.ipynb\" target=\"_parent\"><img src=\"https://colab.research.google.com/assets/colab-badge.svg\" alt=\"Open In Colab\"/></a>"
      ]
    },
    {
      "cell_type": "markdown",
      "source": [
        "# 데이터 경로를 변경하시오"
      ],
      "metadata": {
        "id": "WQGMaLWfA9qy"
      }
    },
    {
      "cell_type": "code",
      "source": [
        "DATA_PATH = \"/content/drive/MyDrive/data/\"\n",
        "SEED = 42"
      ],
      "metadata": {
        "id": "bCxy97pEA9MK"
      },
      "execution_count": null,
      "outputs": []
    },
    {
      "cell_type": "code",
      "execution_count": null,
      "metadata": {
        "id": "Xacrbo86ZRRu",
        "colab": {
          "base_uri": "https://localhost:8080/",
          "height": 35
        },
        "outputId": "ca82b926-302b-42cb-9dc6-f591d180818e"
      },
      "outputs": [
        {
          "output_type": "execute_result",
          "data": {
            "text/plain": [
              "'cuda'"
            ],
            "application/vnd.google.colaboratory.intrinsic+json": {
              "type": "string"
            }
          },
          "metadata": {},
          "execution_count": 20
        }
      ],
      "source": [
        "import pandas as pd\n",
        "import numpy as np\n",
        "import torch\n",
        "from tqdm.auto import tqdm\n",
        "import random # 시드 고정을 위해\n",
        "import os # 시드 고정을 위해\n",
        "from PIL import Image\n",
        "\n",
        "def reset_seeds(seed):\n",
        "    random.seed(seed)\n",
        "    os.environ['PYTHONHASHSEED'] = str(seed)    # 파이썬 환경변수 시드 고정\n",
        "    np.random.seed(seed)\n",
        "    torch.manual_seed(seed) # cpu 연산 무작위 고정\n",
        "    torch.cuda.manual_seed(seed) # gpu 연산 무작위 고정\n",
        "    torch.backends.cudnn.deterministic = True  # cuda 라이브러리에서 Deterministic(결정론적)으로 예측하기 (예측에 대한 불확실성 제거 )\n",
        "\n",
        "\n",
        "device = 'cuda' if torch.cuda.is_available() else 'cpu'\n",
        "device"
      ]
    },
    {
      "cell_type": "markdown",
      "source": [
        "# 구글 드라이브 마운트"
      ],
      "metadata": {
        "id": "A4ERYFkEaqZy"
      }
    },
    {
      "cell_type": "code",
      "source": [
        "from google.colab import drive\n",
        "drive.mount('/content/drive')"
      ],
      "metadata": {
        "colab": {
          "base_uri": "https://localhost:8080/"
        },
        "id": "uSmx_vJ5ZfiJ",
        "outputId": "29a8e483-224a-4a08-ff1c-ee4de289635a"
      },
      "execution_count": null,
      "outputs": [
        {
          "output_type": "stream",
          "name": "stdout",
          "text": [
            "Drive already mounted at /content/drive; to attempt to forcibly remount, call drive.mount(\"/content/drive\", force_remount=True).\n"
          ]
        }
      ]
    },
    {
      "cell_type": "markdown",
      "source": [
        "# 데이터 복사및 압축풀기"
      ],
      "metadata": {
        "id": "rXulmAS6atfZ"
      }
    },
    {
      "cell_type": "code",
      "source": [
        "if not os.path.isdir(\"train\"):\n",
        "    !cp \"{DATA_PATH}meat.zip\" \"meat.zip\"\n",
        "    !unzip -qq \"meat.zip\" "
      ],
      "metadata": {
        "id": "L4tJcfijZhKZ"
      },
      "execution_count": null,
      "outputs": []
    },
    {
      "cell_type": "markdown",
      "source": [
        "# 이미지경로 및 정답 데이터셋"
      ],
      "metadata": {
        "id": "rKQnsDlagA5y"
      }
    },
    {
      "cell_type": "code",
      "source": [
        "train = pd.read_csv(\"train/class_info.csv\")\n",
        "test = pd.read_csv(\"test/class_info.csv\")\n",
        "train.shape , test.shape"
      ],
      "metadata": {
        "colab": {
          "base_uri": "https://localhost:8080/"
        },
        "id": "jctKq2rnrIxD",
        "outputId": "73c43187-e0a7-417b-95c1-6e803b5088e1"
      },
      "execution_count": null,
      "outputs": [
        {
          "output_type": "execute_result",
          "data": {
            "text/plain": [
              "((1246, 2), (1020, 2))"
            ]
          },
          "metadata": {},
          "execution_count": 23
        }
      ]
    },
    {
      "cell_type": "markdown",
      "source": [
        "# 정답값\n",
        "- 0 : 신선한고기\n",
        "- 1 : 반 신선한 고기\n",
        "- 2 : 상태 안좋은 고기"
      ],
      "metadata": {
        "id": "W7Up5oFTBelf"
      }
    },
    {
      "cell_type": "code",
      "source": [
        "train"
      ],
      "metadata": {
        "colab": {
          "base_uri": "https://localhost:8080/",
          "height": 424
        },
        "id": "JfGQ-qReBSYF",
        "outputId": "26463883-03cd-4c70-efa9-49aad91980ed"
      },
      "execution_count": null,
      "outputs": [
        {
          "output_type": "execute_result",
          "data": {
            "text/plain": [
              "      filename  target\n",
              "0     1074.jpg       0\n",
              "1     1222.jpg       1\n",
              "2     2105.jpg       1\n",
              "3       81.jpg       2\n",
              "4     1791.jpg       2\n",
              "...        ...     ...\n",
              "1241  1670.jpg       1\n",
              "1242  1244.jpg       0\n",
              "1243   776.jpg       2\n",
              "1244   750.jpg       0\n",
              "1245   948.jpg       2\n",
              "\n",
              "[1246 rows x 2 columns]"
            ],
            "text/html": [
              "\n",
              "  <div id=\"df-af875946-34bf-466b-8530-95a9c46faeff\">\n",
              "    <div class=\"colab-df-container\">\n",
              "      <div>\n",
              "<style scoped>\n",
              "    .dataframe tbody tr th:only-of-type {\n",
              "        vertical-align: middle;\n",
              "    }\n",
              "\n",
              "    .dataframe tbody tr th {\n",
              "        vertical-align: top;\n",
              "    }\n",
              "\n",
              "    .dataframe thead th {\n",
              "        text-align: right;\n",
              "    }\n",
              "</style>\n",
              "<table border=\"1\" class=\"dataframe\">\n",
              "  <thead>\n",
              "    <tr style=\"text-align: right;\">\n",
              "      <th></th>\n",
              "      <th>filename</th>\n",
              "      <th>target</th>\n",
              "    </tr>\n",
              "  </thead>\n",
              "  <tbody>\n",
              "    <tr>\n",
              "      <th>0</th>\n",
              "      <td>1074.jpg</td>\n",
              "      <td>0</td>\n",
              "    </tr>\n",
              "    <tr>\n",
              "      <th>1</th>\n",
              "      <td>1222.jpg</td>\n",
              "      <td>1</td>\n",
              "    </tr>\n",
              "    <tr>\n",
              "      <th>2</th>\n",
              "      <td>2105.jpg</td>\n",
              "      <td>1</td>\n",
              "    </tr>\n",
              "    <tr>\n",
              "      <th>3</th>\n",
              "      <td>81.jpg</td>\n",
              "      <td>2</td>\n",
              "    </tr>\n",
              "    <tr>\n",
              "      <th>4</th>\n",
              "      <td>1791.jpg</td>\n",
              "      <td>2</td>\n",
              "    </tr>\n",
              "    <tr>\n",
              "      <th>...</th>\n",
              "      <td>...</td>\n",
              "      <td>...</td>\n",
              "    </tr>\n",
              "    <tr>\n",
              "      <th>1241</th>\n",
              "      <td>1670.jpg</td>\n",
              "      <td>1</td>\n",
              "    </tr>\n",
              "    <tr>\n",
              "      <th>1242</th>\n",
              "      <td>1244.jpg</td>\n",
              "      <td>0</td>\n",
              "    </tr>\n",
              "    <tr>\n",
              "      <th>1243</th>\n",
              "      <td>776.jpg</td>\n",
              "      <td>2</td>\n",
              "    </tr>\n",
              "    <tr>\n",
              "      <th>1244</th>\n",
              "      <td>750.jpg</td>\n",
              "      <td>0</td>\n",
              "    </tr>\n",
              "    <tr>\n",
              "      <th>1245</th>\n",
              "      <td>948.jpg</td>\n",
              "      <td>2</td>\n",
              "    </tr>\n",
              "  </tbody>\n",
              "</table>\n",
              "<p>1246 rows × 2 columns</p>\n",
              "</div>\n",
              "      <button class=\"colab-df-convert\" onclick=\"convertToInteractive('df-af875946-34bf-466b-8530-95a9c46faeff')\"\n",
              "              title=\"Convert this dataframe to an interactive table.\"\n",
              "              style=\"display:none;\">\n",
              "        \n",
              "  <svg xmlns=\"http://www.w3.org/2000/svg\" height=\"24px\"viewBox=\"0 0 24 24\"\n",
              "       width=\"24px\">\n",
              "    <path d=\"M0 0h24v24H0V0z\" fill=\"none\"/>\n",
              "    <path d=\"M18.56 5.44l.94 2.06.94-2.06 2.06-.94-2.06-.94-.94-2.06-.94 2.06-2.06.94zm-11 1L8.5 8.5l.94-2.06 2.06-.94-2.06-.94L8.5 2.5l-.94 2.06-2.06.94zm10 10l.94 2.06.94-2.06 2.06-.94-2.06-.94-.94-2.06-.94 2.06-2.06.94z\"/><path d=\"M17.41 7.96l-1.37-1.37c-.4-.4-.92-.59-1.43-.59-.52 0-1.04.2-1.43.59L10.3 9.45l-7.72 7.72c-.78.78-.78 2.05 0 2.83L4 21.41c.39.39.9.59 1.41.59.51 0 1.02-.2 1.41-.59l7.78-7.78 2.81-2.81c.8-.78.8-2.07 0-2.86zM5.41 20L4 18.59l7.72-7.72 1.47 1.35L5.41 20z\"/>\n",
              "  </svg>\n",
              "      </button>\n",
              "      \n",
              "  <style>\n",
              "    .colab-df-container {\n",
              "      display:flex;\n",
              "      flex-wrap:wrap;\n",
              "      gap: 12px;\n",
              "    }\n",
              "\n",
              "    .colab-df-convert {\n",
              "      background-color: #E8F0FE;\n",
              "      border: none;\n",
              "      border-radius: 50%;\n",
              "      cursor: pointer;\n",
              "      display: none;\n",
              "      fill: #1967D2;\n",
              "      height: 32px;\n",
              "      padding: 0 0 0 0;\n",
              "      width: 32px;\n",
              "    }\n",
              "\n",
              "    .colab-df-convert:hover {\n",
              "      background-color: #E2EBFA;\n",
              "      box-shadow: 0px 1px 2px rgba(60, 64, 67, 0.3), 0px 1px 3px 1px rgba(60, 64, 67, 0.15);\n",
              "      fill: #174EA6;\n",
              "    }\n",
              "\n",
              "    [theme=dark] .colab-df-convert {\n",
              "      background-color: #3B4455;\n",
              "      fill: #D2E3FC;\n",
              "    }\n",
              "\n",
              "    [theme=dark] .colab-df-convert:hover {\n",
              "      background-color: #434B5C;\n",
              "      box-shadow: 0px 1px 3px 1px rgba(0, 0, 0, 0.15);\n",
              "      filter: drop-shadow(0px 1px 2px rgba(0, 0, 0, 0.3));\n",
              "      fill: #FFFFFF;\n",
              "    }\n",
              "  </style>\n",
              "\n",
              "      <script>\n",
              "        const buttonEl =\n",
              "          document.querySelector('#df-af875946-34bf-466b-8530-95a9c46faeff button.colab-df-convert');\n",
              "        buttonEl.style.display =\n",
              "          google.colab.kernel.accessAllowed ? 'block' : 'none';\n",
              "\n",
              "        async function convertToInteractive(key) {\n",
              "          const element = document.querySelector('#df-af875946-34bf-466b-8530-95a9c46faeff');\n",
              "          const dataTable =\n",
              "            await google.colab.kernel.invokeFunction('convertToInteractive',\n",
              "                                                     [key], {});\n",
              "          if (!dataTable) return;\n",
              "\n",
              "          const docLinkHtml = 'Like what you see? Visit the ' +\n",
              "            '<a target=\"_blank\" href=https://colab.research.google.com/notebooks/data_table.ipynb>data table notebook</a>'\n",
              "            + ' to learn more about interactive tables.';\n",
              "          element.innerHTML = '';\n",
              "          dataTable['output_type'] = 'display_data';\n",
              "          await google.colab.output.renderOutput(dataTable, element);\n",
              "          const docLink = document.createElement('div');\n",
              "          docLink.innerHTML = docLinkHtml;\n",
              "          element.appendChild(docLink);\n",
              "        }\n",
              "      </script>\n",
              "    </div>\n",
              "  </div>\n",
              "  "
            ]
          },
          "metadata": {},
          "execution_count": 24
        }
      ]
    },
    {
      "cell_type": "markdown",
      "source": [
        "# transforms 객체"
      ],
      "metadata": {
        "id": "TMshs013Bwmh"
      }
    },
    {
      "cell_type": "code",
      "source": [
        "from torchvision import transforms\n",
        "\n",
        "img_size = [224,224]\n",
        "\n",
        "train_lst = [\n",
        "    transforms.Resize(img_size),\n",
        "    transforms.ToTensor(),\n",
        "    transforms.Normalize([0.485, 0.456, 0.406], [0.229, 0.224, 0.225])\n",
        "    ]\n",
        "train_transform = transforms.Compose(train_lst)\n",
        "\n",
        "test_lst = [\n",
        "    transforms.Resize(img_size),\n",
        "    transforms.ToTensor(),\n",
        "    transforms.Normalize([0.485, 0.456, 0.406], [0.229, 0.224, 0.225])\n",
        "    ]\n",
        "test_transform = transforms.Compose(test_lst)"
      ],
      "metadata": {
        "id": "LhqSyN9qvb9l"
      },
      "execution_count": null,
      "outputs": []
    },
    {
      "cell_type": "markdown",
      "source": [
        "# 데이터셋"
      ],
      "metadata": {
        "id": "nPpndZeqB0e4"
      }
    },
    {
      "cell_type": "code",
      "source": [
        "class MeatDataset(torch.utils.data.Dataset):\n",
        "    def __init__(self ,transform , x , is_inference = False ): \n",
        "        self.is_inference = is_inference\n",
        "        self.transform = transform\n",
        "        if not self.is_inference:\n",
        "            self.y = x[\"target\"].to_numpy() # 다중분류에서는 정답값을 내부적으로 원핫 인코딩하기 때문에 1차원형태로 전달해줘야하고, int64 형태로 전달해줘야한다.\n",
        "            self.x = \"train/\" + x[\"filename\"]\n",
        "        else:\n",
        "            self.x = \"test/\" + x[\"filename\"]\n",
        "    def __len__(self): \n",
        "        return self.x.shape[0]\n",
        "    def __getitem__(self, idx): \n",
        "        item = {}\n",
        "        x = Image.open(self.x[idx])\n",
        "        item[\"x\"] = self.transform(x)\n",
        "        if not self.is_inference:\n",
        "            item[\"y\"] = torch.tensor(self.y[idx]) # 넘파이 데이터 타입 그대로 유지하기위해 tensor 함수를 사용한다.\n",
        "        return item   "
      ],
      "metadata": {
        "id": "mMOsTxM8ryWO"
      },
      "execution_count": null,
      "outputs": []
    },
    {
      "cell_type": "code",
      "source": [
        "dt = MeatDataset(train_transform,train)\n",
        "dl = torch.utils.data.DataLoader(dt, batch_size=2, shuffle=True)\n",
        "next(iter(dl))"
      ],
      "metadata": {
        "colab": {
          "base_uri": "https://localhost:8080/"
        },
        "id": "t4Z542R_CacI",
        "outputId": "254b0576-1a50-4850-f909-d87fc5c01718"
      },
      "execution_count": null,
      "outputs": [
        {
          "output_type": "execute_result",
          "data": {
            "text/plain": [
              "{'x': tensor([[[[-0.0972, -0.0287, -0.0287,  ...,  0.7591,  1.0331,  1.4783],\n",
              "           [-0.1314, -0.0801, -0.0801,  ...,  0.7419,  0.9646,  1.2385],\n",
              "           [-0.2342, -0.1657, -0.1486,  ...,  0.7762,  0.9817,  1.2043],\n",
              "           ...,\n",
              "           [ 1.4612,  1.3413,  1.3242,  ...,  1.0673,  1.1015,  1.1529],\n",
              "           [ 1.4098,  1.3413,  1.2899,  ...,  1.0844,  1.0673,  1.0844],\n",
              "           [ 1.3584,  1.3413,  1.2214,  ...,  0.6906,  0.9132,  0.9817]],\n",
              " \n",
              "          [[ 0.1877,  0.2577,  0.2577,  ...,  1.3782,  1.4482,  1.7633],\n",
              "           [ 0.1527,  0.2052,  0.2052,  ...,  1.3256,  1.4832,  1.7108],\n",
              "           [ 0.0476,  0.1176,  0.1352,  ...,  1.2031,  1.5532,  1.8508],\n",
              "           ...,\n",
              "           [ 1.3431,  1.2206,  1.2031,  ...,  1.1681,  1.1856,  1.1856],\n",
              "           [ 1.2906,  1.2206,  1.1681,  ...,  1.1856,  1.1506,  1.1331],\n",
              "           [ 1.2381,  1.2206,  1.0980,  ...,  0.7829,  1.0105,  1.0455]],\n",
              " \n",
              "          [[ 0.3219,  0.3916,  0.3916,  ...,  1.5768,  1.7860,  2.1520],\n",
              "           [ 0.2871,  0.3393,  0.3393,  ...,  1.4897,  1.7163,  1.9777],\n",
              "           [ 0.1825,  0.2522,  0.2696,  ...,  1.3154,  1.6465,  1.9603],\n",
              "           ...,\n",
              "           [ 1.2805,  1.1585,  1.1411,  ...,  0.5834,  0.5136,  0.4788],\n",
              "           [ 1.2282,  1.1585,  1.1062,  ...,  0.6705,  0.5485,  0.4962],\n",
              "           [ 1.1759,  1.1585,  1.0365,  ...,  0.3045,  0.4439,  0.4439]]],\n",
              " \n",
              " \n",
              "         [[[-0.8678, -0.9363, -0.9363,  ...,  1.3584,  1.3242,  1.1700],\n",
              "           [-0.5596, -0.7993, -0.7993,  ...,  1.2557,  1.2043,  1.1358],\n",
              "           [-0.4397, -0.7137, -0.7137,  ...,  1.1700,  1.1358,  1.1700],\n",
              "           ...,\n",
              "           [-1.7412, -1.7240, -1.7240,  ..., -0.6109, -0.7137, -0.8164],\n",
              "           [-1.7583, -1.7412, -1.7069,  ..., -0.6623, -0.7479, -0.8507],\n",
              "           [-1.7754, -1.7583, -1.7412,  ..., -0.6965, -0.7308, -0.7822]],\n",
              " \n",
              "          [[-0.5126, -0.5826, -0.5476,  ...,  1.3606,  1.3081,  1.1506],\n",
              "           [-0.2150, -0.4426, -0.3725,  ...,  1.2556,  1.1856,  1.1155],\n",
              "           [-0.0924, -0.3550, -0.2850,  ...,  1.1681,  1.1155,  1.1506],\n",
              "           ...,\n",
              "           [-1.9132, -1.8957, -1.8957,  ..., -1.0378, -1.1604, -1.2654],\n",
              "           [-1.9307, -1.9132, -1.8782,  ..., -1.1078, -1.1954, -1.3004],\n",
              "           [-1.9307, -1.9132, -1.8957,  ..., -1.1429, -1.1954, -1.2829]],\n",
              " \n",
              "          [[-0.6193, -0.6541, -0.5321,  ...,  1.3677,  1.3154,  1.1585],\n",
              "           [-0.2707, -0.4624, -0.3404,  ...,  1.2457,  1.1934,  1.1237],\n",
              "           [-0.0441, -0.2707, -0.1661,  ...,  1.1759,  1.1237,  1.1585],\n",
              "           ...,\n",
              "           [-1.7347, -1.7173, -1.7173,  ..., -0.7936, -0.8807, -0.9853],\n",
              "           [-1.7522, -1.7347, -1.6999,  ..., -0.8633, -0.9156, -1.0201],\n",
              "           [-1.7522, -1.7347, -1.7173,  ..., -0.8807, -0.8981, -0.9853]]]]),\n",
              " 'y': tensor([0, 1])}"
            ]
          },
          "metadata": {},
          "execution_count": 27
        }
      ]
    },
    {
      "cell_type": "code",
      "source": [
        "from torchvision.models import resnet50 , ResNet50_Weights "
      ],
      "metadata": {
        "id": "LflGlLribKvA"
      },
      "execution_count": null,
      "outputs": []
    },
    {
      "cell_type": "code",
      "source": [
        "class Net(torch.nn.Module):\n",
        "    def __init__(self): \n",
        "        super().__init__()\n",
        "        self.pre_model = resnet50(weights=ResNet50_Weights.IMAGENET1K_V2)\n",
        "        self.pre_model.fc = torch.nn.Linear(2048,3)\n",
        "\n",
        "    def forward(self, x):\n",
        "        x  = self.pre_model(x)\n",
        "        return x"
      ],
      "metadata": {
        "id": "QNjteAXippbM"
      },
      "execution_count": null,
      "outputs": []
    },
    {
      "cell_type": "code",
      "source": [
        "!pip install torchinfo"
      ],
      "metadata": {
        "colab": {
          "base_uri": "https://localhost:8080/"
        },
        "id": "kxTksaVBqbZu",
        "outputId": "955c7ed0-90df-44cc-9447-f8dec3be24f0"
      },
      "execution_count": null,
      "outputs": [
        {
          "output_type": "stream",
          "name": "stdout",
          "text": [
            "Looking in indexes: https://pypi.org/simple, https://us-python.pkg.dev/colab-wheels/public/simple/\n",
            "Requirement already satisfied: torchinfo in /usr/local/lib/python3.7/dist-packages (1.7.1)\n"
          ]
        }
      ]
    },
    {
      "cell_type": "code",
      "source": [
        "import torchinfo\n",
        "model = Net()\n",
        "torchinfo.summary(model,(32,3,224,224))  "
      ],
      "metadata": {
        "colab": {
          "base_uri": "https://localhost:8080/"
        },
        "id": "tDWxHEXJqefu",
        "outputId": "d691f6cf-835c-4780-da5d-52e201fea9ef"
      },
      "execution_count": null,
      "outputs": [
        {
          "output_type": "execute_result",
          "data": {
            "text/plain": [
              "===============================================================================================\n",
              "Layer (type:depth-idx)                        Output Shape              Param #\n",
              "===============================================================================================\n",
              "Net                                           [32, 3]                   --\n",
              "├─ResNet: 1-1                                 [32, 3]                   --\n",
              "│    └─Conv2d: 2-1                            [32, 64, 112, 112]        9,408\n",
              "│    └─BatchNorm2d: 2-2                       [32, 64, 112, 112]        128\n",
              "│    └─ReLU: 2-3                              [32, 64, 112, 112]        --\n",
              "│    └─MaxPool2d: 2-4                         [32, 64, 56, 56]          --\n",
              "│    └─Sequential: 2-5                        [32, 256, 56, 56]         --\n",
              "│    │    └─Bottleneck: 3-1                   [32, 256, 56, 56]         75,008\n",
              "│    │    └─Bottleneck: 3-2                   [32, 256, 56, 56]         70,400\n",
              "│    │    └─Bottleneck: 3-3                   [32, 256, 56, 56]         70,400\n",
              "│    └─Sequential: 2-6                        [32, 512, 28, 28]         --\n",
              "│    │    └─Bottleneck: 3-4                   [32, 512, 28, 28]         379,392\n",
              "│    │    └─Bottleneck: 3-5                   [32, 512, 28, 28]         280,064\n",
              "│    │    └─Bottleneck: 3-6                   [32, 512, 28, 28]         280,064\n",
              "│    │    └─Bottleneck: 3-7                   [32, 512, 28, 28]         280,064\n",
              "│    └─Sequential: 2-7                        [32, 1024, 14, 14]        --\n",
              "│    │    └─Bottleneck: 3-8                   [32, 1024, 14, 14]        1,512,448\n",
              "│    │    └─Bottleneck: 3-9                   [32, 1024, 14, 14]        1,117,184\n",
              "│    │    └─Bottleneck: 3-10                  [32, 1024, 14, 14]        1,117,184\n",
              "│    │    └─Bottleneck: 3-11                  [32, 1024, 14, 14]        1,117,184\n",
              "│    │    └─Bottleneck: 3-12                  [32, 1024, 14, 14]        1,117,184\n",
              "│    │    └─Bottleneck: 3-13                  [32, 1024, 14, 14]        1,117,184\n",
              "│    └─Sequential: 2-8                        [32, 2048, 7, 7]          --\n",
              "│    │    └─Bottleneck: 3-14                  [32, 2048, 7, 7]          6,039,552\n",
              "│    │    └─Bottleneck: 3-15                  [32, 2048, 7, 7]          4,462,592\n",
              "│    │    └─Bottleneck: 3-16                  [32, 2048, 7, 7]          4,462,592\n",
              "│    └─AdaptiveAvgPool2d: 2-9                 [32, 2048, 1, 1]          --\n",
              "│    └─Linear: 2-10                           [32, 3]                   6,147\n",
              "===============================================================================================\n",
              "Total params: 23,514,179\n",
              "Trainable params: 23,514,179\n",
              "Non-trainable params: 0\n",
              "Total mult-adds (G): 130.79\n",
              "===============================================================================================\n",
              "Input size (MB): 19.27\n",
              "Forward/backward pass size (MB): 5690.36\n",
              "Params size (MB): 94.06\n",
              "Estimated Total Size (MB): 5803.68\n",
              "==============================================================================================="
            ]
          },
          "metadata": {},
          "execution_count": 31
        }
      ]
    },
    {
      "cell_type": "code",
      "source": [
        "def train_loop(dataloader,model,loss_fn,optimizer,device):\n",
        "    epoch_loss = 0 \n",
        "    model.train() \n",
        "    for batch in dataloader: \n",
        "        pred = model(batch[\"x\"].to(device)) \n",
        "        loss = loss_fn(pred, batch[\"y\"].to(device)) \n",
        "        \n",
        "        optimizer.zero_grad() \n",
        "        loss.backward()  \n",
        "        optimizer.step() \n",
        "        \n",
        "        epoch_loss += loss.item() \n",
        "\n",
        "    epoch_loss /= len(dataloader) \n",
        "\n",
        "    return epoch_loss "
      ],
      "metadata": {
        "id": "QYSnRK7YkeD_"
      },
      "execution_count": null,
      "outputs": []
    },
    {
      "cell_type": "code",
      "source": [
        "@torch.no_grad() \n",
        "def test_loop(dataloader,model,loss_fn,device): \n",
        "    epoch_loss = 0\n",
        "    model.eval() \n",
        "\n",
        "    \n",
        "    pred_list = []\n",
        "    softmax = torch.nn.Softmax(dim=1) # 다중분류 예측 확률을 출력하기위해 softmax 사용\n",
        "\n",
        "    for batch in dataloader:\n",
        "        \n",
        "        pred = model(batch[\"x\"].to(device))\n",
        "        if batch.get(\"y\") is not None: \n",
        "            loss = loss_fn(pred, batch[\"y\"].to(device))\n",
        "            epoch_loss += loss.item()\n",
        "        \n",
        "        pred = softmax(pred)\n",
        "        pred = pred.to(\"cpu\").numpy() \n",
        "        pred_list.append(pred)\n",
        "\n",
        "    epoch_loss /= len(dataloader)\n",
        "\n",
        "    pred = np.concatenate(pred_list) \n",
        "    return epoch_loss , pred "
      ],
      "metadata": {
        "id": "jAgxb7eDt5LL"
      },
      "execution_count": null,
      "outputs": []
    },
    {
      "cell_type": "code",
      "source": [
        "n_splits = 5\n",
        "batch_size = 32 \n",
        "epochs = 100\n",
        "loss_fn = torch.nn.CrossEntropyLoss() # 다중분류 손실객체"
      ],
      "metadata": {
        "id": "PfRHU8jtt8if"
      },
      "execution_count": null,
      "outputs": []
    },
    {
      "cell_type": "code",
      "source": [
        "from sklearn.metrics import f1_score\n",
        "from sklearn.model_selection import KFold\n",
        "cv = KFold(n_splits=n_splits,shuffle=True, random_state=SEED)"
      ],
      "metadata": {
        "id": "QI_EEi1xt8rT"
      },
      "execution_count": null,
      "outputs": []
    },
    {
      "cell_type": "code",
      "source": [
        "is_holdout = True\n",
        "reset_seeds(SEED)\n",
        "best_score_list = []\n",
        "for i,(tri,vai) in enumerate(cv.split(train)):\n",
        "    \n",
        "    model = Net().to(device)\n",
        "    optimizer = torch.optim.Adam(model.parameters())\n",
        "    \n",
        "    x_train = train.iloc[tri].reset_index(drop=True) # 학습 데이터 프레임\n",
        "    x_valid = train.iloc[vai].reset_index(drop=True) # 검증 데이터 프레임\n",
        "\n",
        "    train_dt = MeatDataset(train_transform,x_train)\n",
        "    valid_dt = MeatDataset(test_transform,x_valid)\n",
        "    train_dl = torch.utils.data.DataLoader(train_dt, batch_size=batch_size, shuffle=True)\n",
        "    valid_dl = torch.utils.data.DataLoader(valid_dt, batch_size=batch_size,shuffle=False)\n",
        "\n",
        "    best_score = 0\n",
        "    patience = 0\n",
        "\n",
        "    for epoch in tqdm(range(epochs)):\n",
        "        \n",
        "        train_loss = train_loop(train_dl, model, loss_fn,optimizer,device )\n",
        "        valid_loss , pred = test_loop(valid_dl, model, loss_fn,device  )\n",
        "        \n",
        "        pred = np.argmax(pred, axis=1) # 가장 확률이 높은 인덱스를 정답값으로 결정\n",
        "        true = valid_dt.y # y 인스턴스 변수에 정답값이 있음\n",
        "        score = f1_score(true, pred , average=\"micro\")\n",
        "        print(train_loss,valid_loss,score)\n",
        "        patience += 1\n",
        "        if best_score < score:\n",
        "            patience = 0\n",
        "            best_score = score\n",
        "            torch.save(model.state_dict(),f\"model_{i}.pth\")\n",
        "\n",
        "        if patience == 5:\n",
        "            break\n",
        "    print(f\"Fold ({i}), BEST F1: {best_score}\")\n",
        "    best_score_list.append(best_score)\n",
        "\n",
        "    if is_holdout:\n",
        "        break"
      ],
      "metadata": {
        "colab": {
          "base_uri": "https://localhost:8080/",
          "height": 269,
          "referenced_widgets": [
            "59a76bbb26754d3299953362749140e3",
            "6e458f216d9747b4931c8b20d1527e25",
            "904ca1a5a1ca465a8c0f87d9add451b9",
            "0b0df15531f94149b7d97cb3d112b118",
            "4630813ad98348d4a31b7f73b7776e59",
            "8cecffd62ec8456ca6e64a5b332661c6",
            "06fab95686c04a16a6372a55e8bab3b3",
            "0f1161d6370044d5ab216fdc7e1ee098",
            "a427269202034e6ba4121d0b0182203b",
            "46e75b1e32f04fe8af0cd62f1128b006",
            "829538f1d2a549049f25544a424d509d"
          ]
        },
        "id": "nQPErmi3t8zA",
        "outputId": "ce97f585-4a0a-4aca-a8bf-1b21946aa950"
      },
      "execution_count": null,
      "outputs": [
        {
          "output_type": "display_data",
          "data": {
            "text/plain": [
              "  0%|          | 0/100 [00:00<?, ?it/s]"
            ],
            "application/vnd.jupyter.widget-view+json": {
              "version_major": 2,
              "version_minor": 0,
              "model_id": "59a76bbb26754d3299953362749140e3"
            }
          },
          "metadata": {}
        },
        {
          "output_type": "stream",
          "name": "stdout",
          "text": [
            "0.3267693659872748 0.9896133318543434 0.712\n",
            "0.1368025408446556 0.4902668185532093 0.884\n",
            "0.13005199533654377 0.22788291051983833 0.908\n",
            "0.21647235736600123 0.47630587965250015 0.804\n",
            "0.1251756631245371 0.1417496760841459 0.952\n",
            "0.03726591321901651 0.024825825297739357 0.992\n",
            "0.09148947357107318 0.05835396994370967 0.98\n",
            "0.15166734221566003 0.40860216692090034 0.832\n",
            "0.029930003696790664 0.08427690247481223 0.984\n",
            "0.012545705614684266 0.024681103986949893 0.992\n",
            "0.026098519050265168 0.09977429690479767 0.976\n",
            "Fold (0), BEST F1: 0.992\n"
          ]
        }
      ]
    },
    {
      "cell_type": "code",
      "source": [],
      "metadata": {
        "id": "tka8UW7Aycwr"
      },
      "execution_count": null,
      "outputs": []
    },
    {
      "cell_type": "code",
      "source": [],
      "metadata": {
        "id": "uiHjks2cyctc"
      },
      "execution_count": null,
      "outputs": []
    },
    {
      "cell_type": "code",
      "source": [],
      "metadata": {
        "id": "ftyZycEfycql"
      },
      "execution_count": null,
      "outputs": []
    },
    {
      "cell_type": "code",
      "source": [],
      "metadata": {
        "id": "kM7pLA4vycnL"
      },
      "execution_count": null,
      "outputs": []
    },
    {
      "cell_type": "code",
      "source": [],
      "metadata": {
        "id": "DKaGX6HU0BIt"
      },
      "execution_count": null,
      "outputs": []
    },
    {
      "cell_type": "code",
      "source": [],
      "metadata": {
        "id": "QyaSZDmbCqCc"
      },
      "execution_count": null,
      "outputs": []
    },
    {
      "cell_type": "code",
      "source": [],
      "metadata": {
        "id": "4FL-yYgVCp_W"
      },
      "execution_count": null,
      "outputs": []
    },
    {
      "cell_type": "code",
      "source": [],
      "metadata": {
        "id": "VreVSDL0bKd4"
      },
      "execution_count": null,
      "outputs": []
    }
  ]
}