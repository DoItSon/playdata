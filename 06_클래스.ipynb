{
  "nbformat": 4,
  "nbformat_minor": 0,
  "metadata": {
    "colab": {
      "name": "06-클래스.ipynb",
      "provenance": [],
      "collapsed_sections": [],
      "authorship_tag": "ABX9TyOQiPVC7OZ2g1yM4om6gHi/",
      "include_colab_link": true
    },
    "kernelspec": {
      "name": "python3",
      "display_name": "Python 3"
    },
    "language_info": {
      "name": "python"
    }
  },
  "cells": [
    {
      "cell_type": "markdown",
      "metadata": {
        "id": "view-in-github",
        "colab_type": "text"
      },
      "source": [
        "<a href=\"https://colab.research.google.com/github/soyongseok/playdata/blob/main/06_%ED%81%B4%EB%9E%98%EC%8A%A4.ipynb\" target=\"_parent\"><img src=\"https://colab.research.google.com/assets/colab-badge.svg\" alt=\"Open In Colab\"/></a>"
      ]
    },
    {
      "cell_type": "markdown",
      "source": [
        "# 클래스(Class)\n",
        "- 변수와 함수를 묶어놓은 개념\n",
        "- 클래스는 객체(데이터와 기능을 갖고있는..)를 만들기 위한 설계도\n",
        "- 클래스를 메모리에 객체화하는 것을 인스턴스(instance)라고한다."
      ],
      "metadata": {
        "id": "0xDy7MzU8Gql"
      }
    },
    {
      "cell_type": "markdown",
      "source": [
        "## 클래스의 구조\n",
        "- 변수: 인스턴스 변수 (객체화되면 사용가능한 변수), 클래스 변수 (클래스 정의 시에도 사용가능한 변수) 가 있다.\n",
        "- 함수: 메소드 (객체의 소속되어 있는 함수)\n",
        "- `__init__`메소드: 생성자\n",
        "    - 객체의 초기화를 담당, 객체의 변수의 값을 초기 설정\n",
        "    - 객체화가 되었을 때 생성해야하거나 초기값을 세팅해야하는 인스턴스 변수들이 있다면 `__init__`메소드 안에 선언(정의)하면 된다."
      ],
      "metadata": {
        "id": "r5kHnzxbBYsO"
      }
    },
    {
      "cell_type": "markdown",
      "source": [
        "## 클래스 정의하는 방법\n",
        "```python\n",
        "class <ClassName>:# pascal case, upper camel case\n",
        "    def __init__(self):\n",
        "        code context\n",
        "        ...\n",
        "    def <method_name>(self):\n",
        "        code context\n",
        "        ...\n",
        "```"
      ],
      "metadata": {
        "id": "zKUKMO2fBYv4"
      }
    },
    {
      "cell_type": "code",
      "source": [
        "class PlayerCharacter:\n",
        "    def __init__(self,hp,exp):  # 객체가 생성되고 주소를 받는 것이 self이다. ( (중요) 무조건 넣어야한다.)\n",
        "        self.hp = hp            # 내가 사용할 메소드를 무조건 정의하자!\n",
        "        self.exp = exp          # 이후에 메소드 작성"
      ],
      "metadata": {
        "id": "8fFMdlhmBYy9"
      },
      "execution_count": null,
      "outputs": []
    },
    {
      "cell_type": "code",
      "source": [
        "player1 = PlayerCharacter(100,0)\n",
        "player2 = PlayerCharacter(200,50)\n",
        "\n",
        "player1.hp, player1.exp, player2.hp, player2.exp"
      ],
      "metadata": {
        "colab": {
          "base_uri": "https://localhost:8080/"
        },
        "id": "IYgwqg-tBY1W",
        "outputId": "affe163b-d667-4c31-8f31-1222c8851940"
      },
      "execution_count": null,
      "outputs": [
        {
          "output_type": "execute_result",
          "data": {
            "text/plain": [
              "(100, 0, 200, 50)"
            ]
          },
          "metadata": {},
          "execution_count": 7
        }
      ]
    },
    {
      "cell_type": "markdown",
      "source": [
        "- self\n",
        "    - 클래스가 객체화 되었을 때 자기 자신의 주소를 받는 파라미터\n",
        "    - 클래스가 인스턴스화 되면 메모리상에서 어디에 있는지 self 파라미터의 주소값을 참조해서 객체의 변수의 접근한다.\n",
        "    - 클래스를 정의할 때 메소드에 무조건 첫번째 파라미터로 정의해줘야한다.\n",
        "    - 클래스가 객체화 되었을 때 메소드 사용 시 아규먼트로 넣어주지 않아도 자동으로 들어간다."
      ],
      "metadata": {
        "id": "Eny0945bBY4P"
      }
    },
    {
      "cell_type": "code",
      "source": [
        "PlayerCharacter(\"0x12313\",100,0)    # self는 자동으로 들어간다."
      ],
      "metadata": {
        "colab": {
          "base_uri": "https://localhost:8080/",
          "height": 173
        },
        "id": "mEu_Am0NBY6i",
        "outputId": "ac4b3c84-946e-4b41-e4aa-ce7e2da7afb0"
      },
      "execution_count": null,
      "outputs": [
        {
          "output_type": "error",
          "ename": "TypeError",
          "evalue": "ignored",
          "traceback": [
            "\u001b[0;31m---------------------------------------------------------------------------\u001b[0m",
            "\u001b[0;31mTypeError\u001b[0m                                 Traceback (most recent call last)",
            "\u001b[0;32m<ipython-input-17-9728a7bc6ed3>\u001b[0m in \u001b[0;36m<module>\u001b[0;34m()\u001b[0m\n\u001b[0;32m----> 1\u001b[0;31m \u001b[0mPlayerCharacter\u001b[0m\u001b[0;34m(\u001b[0m\u001b[0;34m\"0x12313\"\u001b[0m\u001b[0;34m,\u001b[0m\u001b[0;36m100\u001b[0m\u001b[0;34m,\u001b[0m\u001b[0;36m0\u001b[0m\u001b[0;34m)\u001b[0m    \u001b[0;31m# self는 자동으로 들어간다.\u001b[0m\u001b[0;34m\u001b[0m\u001b[0;34m\u001b[0m\u001b[0m\n\u001b[0m",
            "\u001b[0;31mTypeError\u001b[0m: __init__() takes 3 positional arguments but 4 were given"
          ]
        }
      ]
    },
    {
      "cell_type": "code",
      "source": [
        "class MyClass:\n",
        "    def __init__(self):     # 처음 파라미터는 self로 시작!\n",
        "        print(id(self))"
      ],
      "metadata": {
        "id": "txZFCapnBY8a"
      },
      "execution_count": null,
      "outputs": []
    },
    {
      "cell_type": "code",
      "source": [
        "mc = MyClass()"
      ],
      "metadata": {
        "colab": {
          "base_uri": "https://localhost:8080/"
        },
        "id": "02uRPSdnBZTu",
        "outputId": "24eee259-8735-493d-d978-940ad47f36f4"
      },
      "execution_count": null,
      "outputs": [
        {
          "output_type": "stream",
          "name": "stdout",
          "text": [
            "140528883737360\n"
          ]
        }
      ]
    },
    {
      "cell_type": "code",
      "source": [
        "id(mc)"
      ],
      "metadata": {
        "colab": {
          "base_uri": "https://localhost:8080/"
        },
        "id": "TSScY4_1BZso",
        "outputId": "efc98bbf-9515-4dcc-dc9f-c73c25cd6666"
      },
      "execution_count": null,
      "outputs": [
        {
          "output_type": "execute_result",
          "data": {
            "text/plain": [
              "140528883737360"
            ]
          },
          "metadata": {},
          "execution_count": 20
        }
      ]
    },
    {
      "cell_type": "code",
      "source": [
        "class PlayerCharacter:  # __init__ 메소드 생략해도 된다.\n",
        "    def attack(self):   # 메소드 생성!\n",
        "        print(\"공격하기\")\n",
        "        self.exp += 2  \n",
        "\n",
        "    def set_exp(self,exp):\n",
        "        self.exp = exp"
      ],
      "metadata": {
        "id": "C7BobQ6tBZ4w"
      },
      "execution_count": null,
      "outputs": []
    },
    {
      "cell_type": "code",
      "source": [
        "player = PlayerCharacter()\n",
        "\n",
        "player.set_exp(10)\n",
        "player.exp"
      ],
      "metadata": {
        "colab": {
          "base_uri": "https://localhost:8080/"
        },
        "id": "lXi3uEOGJeFX",
        "outputId": "9d5690c7-ef28-4302-d562-6a3fec4e21fe"
      },
      "execution_count": null,
      "outputs": [
        {
          "output_type": "execute_result",
          "data": {
            "text/plain": [
              "10"
            ]
          },
          "metadata": {},
          "execution_count": 33
        }
      ]
    },
    {
      "cell_type": "code",
      "source": [
        "player.attack()\n",
        "player.exp"
      ],
      "metadata": {
        "colab": {
          "base_uri": "https://localhost:8080/"
        },
        "id": "C7xeX32SJeQs",
        "outputId": "67ac1d44-1bb9-4bf3-ba91-fe1678c664a2"
      },
      "execution_count": null,
      "outputs": [
        {
          "output_type": "stream",
          "name": "stdout",
          "text": [
            "공격하기\n"
          ]
        },
        {
          "output_type": "execute_result",
          "data": {
            "text/plain": [
              "12"
            ]
          },
          "metadata": {},
          "execution_count": 24
        }
      ]
    },
    {
      "cell_type": "code",
      "source": [
        "player = PlayerCharacter()  # 인스턴스 변수를 생성하지 않고, 접근해서 에러가 난다.\n",
        "player.attack()             # self.exp가 생성이 되지않았는데 attack 출력하려하니 오류발생\n",
        "# self.exp = self.exp +2부분을 보면 self.exp가 먼저 선언이 되어야한다."
      ],
      "metadata": {
        "colab": {
          "base_uri": "https://localhost:8080/",
          "height": 355
        },
        "id": "ckS-7_xOJeU_",
        "outputId": "7fc8e05f-b0ab-487c-ebf4-7998908fcc31"
      },
      "execution_count": null,
      "outputs": [
        {
          "output_type": "stream",
          "name": "stdout",
          "text": [
            "공격하기\n"
          ]
        },
        {
          "output_type": "error",
          "ename": "AttributeError",
          "evalue": "ignored",
          "traceback": [
            "\u001b[0;31m---------------------------------------------------------------------------\u001b[0m",
            "\u001b[0;31mAttributeError\u001b[0m                            Traceback (most recent call last)",
            "\u001b[0;32m<ipython-input-31-234ef6fb4b5c>\u001b[0m in \u001b[0;36m<module>\u001b[0;34m()\u001b[0m\n\u001b[1;32m      1\u001b[0m \u001b[0mplayer\u001b[0m \u001b[0;34m=\u001b[0m \u001b[0mPlayerCharacter\u001b[0m\u001b[0;34m(\u001b[0m\u001b[0;34m)\u001b[0m  \u001b[0;31m# 인스턴스 변수를 생성하지않고 접근해서 에러가 난다.\u001b[0m\u001b[0;34m\u001b[0m\u001b[0;34m\u001b[0m\u001b[0m\n\u001b[0;32m----> 2\u001b[0;31m \u001b[0mplayer\u001b[0m\u001b[0;34m.\u001b[0m\u001b[0mattack\u001b[0m\u001b[0;34m(\u001b[0m\u001b[0;34m)\u001b[0m             \u001b[0;31m# self.exp가 생성이 되지않았는데 attack 출력하려하니 오류발생\u001b[0m\u001b[0;34m\u001b[0m\u001b[0;34m\u001b[0m\u001b[0m\n\u001b[0m\u001b[1;32m      3\u001b[0m \u001b[0;31m# self.exp = self.exp +2부분을 보면 self.exp가 먼저 선언이 되어야한다.\u001b[0m\u001b[0;34m\u001b[0m\u001b[0;34m\u001b[0m\u001b[0;34m\u001b[0m\u001b[0m\n",
            "\u001b[0;32m<ipython-input-29-04821c2eb114>\u001b[0m in \u001b[0;36mattack\u001b[0;34m(self)\u001b[0m\n\u001b[1;32m      2\u001b[0m     \u001b[0;32mdef\u001b[0m \u001b[0mattack\u001b[0m\u001b[0;34m(\u001b[0m\u001b[0mself\u001b[0m\u001b[0;34m)\u001b[0m\u001b[0;34m:\u001b[0m   \u001b[0;31m# 메소드는 실행하지 않으면 오류가 뜬다.\u001b[0m\u001b[0;34m\u001b[0m\u001b[0;34m\u001b[0m\u001b[0m\n\u001b[1;32m      3\u001b[0m         \u001b[0mprint\u001b[0m\u001b[0;34m(\u001b[0m\u001b[0;34m\"공격하기\"\u001b[0m\u001b[0;34m)\u001b[0m\u001b[0;34m\u001b[0m\u001b[0;34m\u001b[0m\u001b[0m\n\u001b[0;32m----> 4\u001b[0;31m         \u001b[0mself\u001b[0m\u001b[0;34m.\u001b[0m\u001b[0mexp\u001b[0m \u001b[0;34m+=\u001b[0m \u001b[0;36m2\u001b[0m\u001b[0;34m\u001b[0m\u001b[0;34m\u001b[0m\u001b[0m\n\u001b[0m\u001b[1;32m      5\u001b[0m \u001b[0;34m\u001b[0m\u001b[0m\n\u001b[1;32m      6\u001b[0m     \u001b[0;32mdef\u001b[0m \u001b[0mset_exp\u001b[0m\u001b[0;34m(\u001b[0m\u001b[0mself\u001b[0m\u001b[0;34m,\u001b[0m\u001b[0mexp\u001b[0m\u001b[0;34m)\u001b[0m\u001b[0;34m:\u001b[0m\u001b[0;34m\u001b[0m\u001b[0;34m\u001b[0m\u001b[0m\n",
            "\u001b[0;31mAttributeError\u001b[0m: 'PlayerCharacter' object has no attribute 'exp'"
          ]
        }
      ]
    },
    {
      "cell_type": "markdown",
      "source": [
        "# 우선 외우자!\n",
        "- 클래스를 정의할 때 `__init__`를 무조건 정의하자!\n",
        "    - 객체화 되었을 때 사용할 변수들을 이 안에 정의해주자!\n",
        "- 클래스 안에 메소드들(`__init__`포함)을 정의할 때는 무조건 첫번째 파라미터로 `self`를 정의해주자!\n",
        "- 클래스가 객체화돼서 해당 객체의 메소드를 실행할 때는 `self` 는 자동으로 파이썬이 넣어주니깐 신경쓰지말자!"
      ],
      "metadata": {
        "id": "_QmRc2-RK0-G"
      }
    },
    {
      "cell_type": "code",
      "source": [
        "class PlayerCharacter:\n",
        "    def __init__(self,hp,exp): # 객체화 되면 자동으로 실행됨\n",
        "        self.hp = hp # 인스턴스 변수 선언됨\n",
        "        self.exp = exp # 인스턴스 변수 선언됨\n",
        "\n",
        "    def attack(self):   # 내가 있는 인스턴스 위치에 접근하기 위해 self를 받는것이다.\n",
        "        print(\"공격하기\")\n",
        "        self.exp += 2   # 인스턴스 변수에 접근하려면 self를 참조해야한다.\n",
        "\n",
        "    def defend(self):\n",
        "        print(\"방어하기\")\n",
        "        self.exp += 1\n",
        "\n",
        "    def attacked(self,attack_size):\n",
        "        print(\"공격받음\")\n",
        "        self.hp = self.hp - attack_size"
      ],
      "metadata": {
        "id": "AXP64EDMRk5H"
      },
      "execution_count": null,
      "outputs": []
    },
    {
      "cell_type": "code",
      "source": [
        "player1 = PlayerCharacter(100,0)\n",
        "player2 = PlayerCharacter(120,10)"
      ],
      "metadata": {
        "id": "XRcuCzLFTD1a"
      },
      "execution_count": null,
      "outputs": []
    },
    {
      "cell_type": "code",
      "source": [
        "player1.attack()\n",
        "player1.defend()\n",
        "player1.attacked(3)"
      ],
      "metadata": {
        "colab": {
          "base_uri": "https://localhost:8080/"
        },
        "id": "diUQBbvgTxEq",
        "outputId": "a6b35f3e-c4e5-4531-e827-d258e6e98a08"
      },
      "execution_count": null,
      "outputs": [
        {
          "output_type": "stream",
          "name": "stdout",
          "text": [
            "공격하기\n",
            "방어하기\n",
            "공격받음\n"
          ]
        }
      ]
    },
    {
      "cell_type": "code",
      "source": [
        "player2.attack()\n",
        "player2.attack()\n",
        "player2.attack()\n",
        "player2.attacked(10)"
      ],
      "metadata": {
        "colab": {
          "base_uri": "https://localhost:8080/"
        },
        "id": "XxJg1k8FUYEG",
        "outputId": "1a5734c2-4428-452f-b116-0046a7cc8b21"
      },
      "execution_count": null,
      "outputs": [
        {
          "output_type": "stream",
          "name": "stdout",
          "text": [
            "공격하기\n",
            "공격하기\n",
            "공격하기\n",
            "공격받음\n"
          ]
        }
      ]
    },
    {
      "cell_type": "markdown",
      "source": [
        "- 인스턴스 변수 수정하기"
      ],
      "metadata": {
        "id": "ZnWF1bcPU1D-"
      }
    },
    {
      "cell_type": "code",
      "source": [
        "player1.hp = 20 # 기존에 수치를 바꿨다.\n",
        "player1.hp"
      ],
      "metadata": {
        "colab": {
          "base_uri": "https://localhost:8080/"
        },
        "id": "t1lhsNf4VnfO",
        "outputId": "461252d0-7ee0-48bd-dedb-41f73ae8c339"
      },
      "execution_count": null,
      "outputs": [
        {
          "output_type": "execute_result",
          "data": {
            "text/plain": [
              "20"
            ]
          },
          "metadata": {},
          "execution_count": 57
        }
      ]
    },
    {
      "cell_type": "markdown",
      "source": [
        "- 클래스 변수 (참고용)"
      ],
      "metadata": {
        "id": "uOWm9dqOVqM4"
      }
    },
    {
      "cell_type": "code",
      "source": [
        "class PlayerCharacter:\n",
        "    character = \"Wizard\"\n",
        "    def __init__(self,hp=100,exp=0):\n",
        "        self.hp = hp\n",
        "        self.exp = exp"
      ],
      "metadata": {
        "id": "rUrOKZTQVw0V"
      },
      "execution_count": null,
      "outputs": []
    },
    {
      "cell_type": "code",
      "source": [
        "PlayerCharacter.hp # 객체화되지 않아 인스턴스 변수인 hp 참조 불가능"
      ],
      "metadata": {
        "colab": {
          "base_uri": "https://localhost:8080/",
          "height": 173
        },
        "id": "0tLdQQAtWQDi",
        "outputId": "40b49297-ab04-4b35-916a-800b11c4c4d0"
      },
      "execution_count": null,
      "outputs": [
        {
          "output_type": "error",
          "ename": "AttributeError",
          "evalue": "ignored",
          "traceback": [
            "\u001b[0;31m---------------------------------------------------------------------------\u001b[0m",
            "\u001b[0;31mAttributeError\u001b[0m                            Traceback (most recent call last)",
            "\u001b[0;32m<ipython-input-61-03cebe62b9c1>\u001b[0m in \u001b[0;36m<module>\u001b[0;34m()\u001b[0m\n\u001b[0;32m----> 1\u001b[0;31m \u001b[0mPlayerCharacter\u001b[0m\u001b[0;34m.\u001b[0m\u001b[0mhp\u001b[0m \u001b[0;31m# 객체화되지 않아 인스턴스 변수인 hp 참조 불가능\u001b[0m\u001b[0;34m\u001b[0m\u001b[0;34m\u001b[0m\u001b[0m\n\u001b[0m",
            "\u001b[0;31mAttributeError\u001b[0m: type object 'PlayerCharacter' has no attribute 'hp'"
          ]
        }
      ]
    },
    {
      "cell_type": "code",
      "source": [
        "PlayerCharacter.character   # 클래스 변수는 객체화되지 않아도 참조 가능!"
      ],
      "metadata": {
        "colab": {
          "base_uri": "https://localhost:8080/",
          "height": 35
        },
        "id": "kYN-Ult3WVkq",
        "outputId": "16564754-5e8f-432b-a992-ac365175c1b0"
      },
      "execution_count": null,
      "outputs": [
        {
          "output_type": "execute_result",
          "data": {
            "text/plain": [
              "'Wizard'"
            ],
            "application/vnd.google.colaboratory.intrinsic+json": {
              "type": "string"
            }
          },
          "metadata": {},
          "execution_count": 63
        }
      ]
    },
    {
      "cell_type": "code",
      "source": [
        "player1 = PlayerCharacter()\n",
        "player2 = PlayerCharacter(200,20)\n",
        "\n",
        "player1.character, player2.character"
      ],
      "metadata": {
        "colab": {
          "base_uri": "https://localhost:8080/"
        },
        "id": "7ycI_zJBWj56",
        "outputId": "37ec2c93-6863-443f-9052-4fd247a0efa4"
      },
      "execution_count": null,
      "outputs": [
        {
          "output_type": "execute_result",
          "data": {
            "text/plain": [
              "('Wizard', 'Wizard')"
            ]
          },
          "metadata": {},
          "execution_count": 64
        }
      ]
    },
    {
      "cell_type": "markdown",
      "source": [
        "- 클래스 메소드 (참고용)\n",
        "    - 객체화하지 않아도 사용 가능한 메소드"
      ],
      "metadata": {
        "id": "r43YscOHXDEh"
      }
    },
    {
      "cell_type": "code",
      "source": [
        "class PlayerCharacter:\n",
        "    charater_type = \"Wizard\"\n",
        "\n",
        "    @classmethod\n",
        "    def print_character_type(cls):  # 클래스의 주소를 받는 첫번째 파라미터를 cls라고 한다.\n",
        "        print(cls.charater_type)\n",
        "        \n",
        "PlayerCharacter.print_character_type()"
      ],
      "metadata": {
        "colab": {
          "base_uri": "https://localhost:8080/"
        },
        "id": "tbJp_O8eXn1y",
        "outputId": "e4800adf-8398-411b-d69e-53675a252275"
      },
      "execution_count": null,
      "outputs": [
        {
          "output_type": "stream",
          "name": "stdout",
          "text": [
            "Wizard\n"
          ]
        }
      ]
    },
    {
      "cell_type": "code",
      "source": [
        "class CFG:\n",
        "    train_data_path = \"/data/train/\"\n",
        "    test_data_path = \"/data/train/\"\n",
        "    model_name = \"deep_model\""
      ],
      "metadata": {
        "id": "jn9q3kQyYpLm"
      },
      "execution_count": null,
      "outputs": []
    },
    {
      "cell_type": "code",
      "source": [
        "CFG.model_name"
      ],
      "metadata": {
        "colab": {
          "base_uri": "https://localhost:8080/",
          "height": 35
        },
        "id": "baGCcReWZl_u",
        "outputId": "006d4caa-8e9d-47ec-a187-adf105326212"
      },
      "execution_count": null,
      "outputs": [
        {
          "output_type": "execute_result",
          "data": {
            "text/plain": [
              "'deep_model'"
            ],
            "application/vnd.google.colaboratory.intrinsic+json": {
              "type": "string"
            }
          },
          "metadata": {},
          "execution_count": 69
        }
      ]
    },
    {
      "cell_type": "code",
      "source": [
        "def preprocess(cfg):    # 아규먼트를 일일이 적을 필요가 없다\n",
        "    pass\n",
        "preprocess(CFG)"
      ],
      "metadata": {
        "id": "B1H56uqHZp_N"
      },
      "execution_count": null,
      "outputs": []
    },
    {
      "cell_type": "markdown",
      "source": [
        "```\n",
        "Wizard 클래스를 만들어주세요.\n",
        "인스턴스 변수: hp, exp, mp\n",
        "메소드:\n",
        "    attack: 공격하기 출력과 함께 exp가 5씩 증가\n",
        "    defend: 방어하기 출력과 함께 exp가 1씩 증가\n",
        "    attacked: 공격받은 사이즈를 인자로 받아 공격받음 출력과 함께 hp를 공격받은 사이즈만큼 감소\n",
        "    magic_skill: mp가 3씩 감소\n",
        "```"
      ],
      "metadata": {
        "id": "g39KICYjaABw"
      }
    },
    {
      "cell_type": "code",
      "source": [
        "class Wizard:\n",
        "    def __init__(self,hp,exp,mp):\n",
        "        self.hp = hp\n",
        "        self.exp = exp\n",
        "        self.mp = mp\n",
        "\n",
        "    def attack(self):\n",
        "        print(\"공격하기\")\n",
        "        self.exp += 5\n",
        "    \n",
        "    def defend(self):\n",
        "        print(\"방어하기\")\n",
        "        self.exp += 1\n",
        "\n",
        "    def attacked(self,attacked_size):\n",
        "        print(\"공격받음\")\n",
        "        self.hp = self.hp - attacked_size\n",
        "\n",
        "    def magic_skill(self):\n",
        "        self.mp -= 3"
      ],
      "metadata": {
        "id": "Ea8pJSCKfHrW"
      },
      "execution_count": null,
      "outputs": []
    },
    {
      "cell_type": "code",
      "source": [
        "player1 = Wizard(100,0,20)\n",
        "player2 = Wizard(120,10,20)"
      ],
      "metadata": {
        "id": "hXlcEsq4gUVm"
      },
      "execution_count": null,
      "outputs": []
    },
    {
      "cell_type": "code",
      "source": [
        "i = player1.exp\n",
        "\n",
        "player1.attack()\n",
        "player1.attacked(20)\n",
        "\n",
        "player1.hp = 21000\n",
        "i,x"
      ],
      "metadata": {
        "colab": {
          "base_uri": "https://localhost:8080/"
        },
        "id": "PmW8nfWogXn1",
        "outputId": "d153478d-c400-4f17-bade-35cd17de9712"
      },
      "execution_count": null,
      "outputs": [
        {
          "output_type": "stream",
          "name": "stdout",
          "text": [
            "공격하기\n",
            "공격받음\n"
          ]
        },
        {
          "output_type": "execute_result",
          "data": {
            "text/plain": [
              "(5, 20)"
            ]
          },
          "metadata": {},
          "execution_count": 101
        }
      ]
    },
    {
      "cell_type": "code",
      "source": [
        "player1.hp = 21000"
      ],
      "metadata": {
        "colab": {
          "base_uri": "https://localhost:8080/"
        },
        "id": "sesSJQGjggVK",
        "outputId": "f850baa3-59c0-4293-d3bf-c857fbcacdba"
      },
      "execution_count": null,
      "outputs": [
        {
          "output_type": "execute_result",
          "data": {
            "text/plain": [
              "21000"
            ]
          },
          "metadata": {},
          "execution_count": 97
        }
      ]
    },
    {
      "cell_type": "markdown",
      "source": [
        "```\n",
        "Car 클래스에 차종, 색깔, 차번호를 받아 인스턴스 변수를 초기화하는 클래스를 만드세요.\n",
        "\n",
        "ex) \n",
        "morning = Car(\"모닝\",\"Blue\",1234)\n",
        "print(morning.name)\n",
        "print(morning.color)\n",
        "print(morning.num)\n",
        "\n",
        "Output:\n",
        "모닝\n",
        "Blue\n",
        "1234\n",
        "```"
      ],
      "metadata": {
        "id": "mV4dyz0VhrmO"
      }
    },
    {
      "cell_type": "code",
      "source": [
        "class Car:\n",
        "    def __init__(self,name,color,num):  # __init__은 인스턴스 변수를 초기화한다.\n",
        "        self.name = name\n",
        "        self.color = color\n",
        "        self.num = num"
      ],
      "metadata": {
        "id": "nuaPqV4Pj1Nd"
      },
      "execution_count": null,
      "outputs": []
    },
    {
      "cell_type": "code",
      "source": [
        "morning = Car(\"모닝\",\"Blue\",1234)\n",
        "print(morning.name)\n",
        "print(morning.color)\n",
        "print(morning.num)"
      ],
      "metadata": {
        "colab": {
          "base_uri": "https://localhost:8080/"
        },
        "id": "kuiXW87pj1Qx",
        "outputId": "4951c2b2-c8ad-4a8e-e7ee-fc0a38d3a99c"
      },
      "execution_count": null,
      "outputs": [
        {
          "output_type": "stream",
          "name": "stdout",
          "text": [
            "모닝\n",
            "Blue\n",
            "1234\n"
          ]
        }
      ]
    },
    {
      "cell_type": "markdown",
      "source": [
        "```\n",
        "Car 클래스에 담긴 인스턴스 변수들을 수정할 수 있는 set_info()메소드를 만들어주세요.\n",
        "info()메소드를 만들어서 차종, 색깔, 번호를 출력해주는 메소드도 만들어주세요.\n",
        "\n",
        "ex) \n",
        "morning = Car(\"모닝\",\"Blue\",1234)\n",
        "morning.info(\"렉서스\",\"red\",1004)\n",
        "morning.info\n",
        "\n",
        "\n",
        "Output:\n",
        "차종: 렉서스, 색깔: Red, 번호: 1004\n",
        "```"
      ],
      "metadata": {
        "id": "tIcXtLHFj1Tf"
      }
    },
    {
      "cell_type": "code",
      "source": [
        "class Car:\n",
        "    def __init__(self,name,color,num):  # __init__은 인스턴스 변수를 초기화한다.\n",
        "        self.name = name\n",
        "        self.color = color\n",
        "        self.num = num\n",
        "        \n",
        "    def set_info(self,name,color,num):  # 파라미터를 정의해줘야 한다.\n",
        "        self.name = name\n",
        "        self.color = color\n",
        "        self.num = num\n",
        "\n",
        "    def info(self):    \n",
        "        print(f\"차종: {self.name}, 색깔: {self.color}, 번호: {self.num}\")"
      ],
      "metadata": {
        "id": "RTSDyTClj1fs"
      },
      "execution_count": null,
      "outputs": []
    },
    {
      "cell_type": "code",
      "source": [
        "morning = Car(\"모닝\",\"Blue\",1234)\n",
        "morning.set_info(\"렉서스\",\"red\",1004)\n",
        "morning.info()  # () 안붙아면 주소값만 나온다."
      ],
      "metadata": {
        "colab": {
          "base_uri": "https://localhost:8080/"
        },
        "id": "ZrVa84bpsHW6",
        "outputId": "cf13d3e4-aaf1-438e-d5de-79a1e0326c3a"
      },
      "execution_count": null,
      "outputs": [
        {
          "output_type": "stream",
          "name": "stdout",
          "text": [
            "차종: 렉서스, 색깔: red, 번호: 1004\n"
          ]
        }
      ]
    },
    {
      "cell_type": "markdown",
      "source": [
        "```\n",
        "다음과 같은 형태의 리스트를 입력받고 , key 이름들을 리스트로 입력 받아 dict 자료형을 생성하는 클래스를 만드시오\n",
        "ex)\n",
        "class DictDataset:\n",
        "    code context\n",
        "data = [\n",
        "        [1,2,3,4,5,6,7,8,9],\n",
        "        [10,20,30,40,50,60,70,80,90]\n",
        "]\n",
        "dict_dt = DictDataset(data,[\"col1\",\"col2\"])\n",
        "dict_dt.dataset\n",
        "Ouput:\n",
        "{'col1': [1, 2, 3, 4, 5, 6, 7, 8, 9],\n",
        " 'col2': [10, 20, 30, 40, 50, 60, 70, 80, 90]}\n",
        "```"
      ],
      "metadata": {
        "id": "-UOSFbwiwfBQ"
      }
    },
    {
      "cell_type": "code",
      "source": [
        ""
      ],
      "metadata": {
        "id": "N6gV1sQ6ruIX"
      },
      "execution_count": null,
      "outputs": []
    },
    {
      "cell_type": "code",
      "source": [
        "class DictDataset:      # 내 생각\n",
        "    def __init__(self,data,x):\n",
        "        self.dataset = {\n",
        "            x[0] : data[0],\n",
        "            x[1] : data[1]\n",
        "        }\n",
        "\n",
        "        data = [\n",
        "        [1,2,3,4,5,6,7,8,9],\n",
        "        [10,20,30,40,50,60,70,80,90]\n",
        "]\n",
        "\n",
        "keys = [\"col1\",\"col2\"]\n",
        "dict_dt = DictDataset(data,keys)\n",
        "dict_dt.dataset"
      ],
      "metadata": {
        "colab": {
          "base_uri": "https://localhost:8080/"
        },
        "id": "kYCPlzvEwf3r",
        "outputId": "cea522e6-67a5-40f7-fecb-9af25ccdea10"
      },
      "execution_count": null,
      "outputs": [
        {
          "output_type": "execute_result",
          "data": {
            "text/plain": [
              "{'col1': [1, 2, 3, 4, 5, 6, 7, 8, 9],\n",
              " 'col2': [10, 20, 30, 40, 50, 60, 70, 80, 90]}"
            ]
          },
          "metadata": {},
          "execution_count": 5
        }
      ]
    },
    {
      "cell_type": "code",
      "source": [
        "class DictDataset:      # 강사님 답 (강의자료에서 가져오기) 다시보기!\n",
        "    def __init__(self,lst,keys):\n",
        "        # self.dataset = dict(zip(keys,lst))\n",
        "        self.dataset = self.trans_dict(lst,keys)\n",
        "\n",
        "    def trans_dict(self,lst,keys):  # 클래스는 위, 아래 상관없이 다 접근가능하다.\n",
        "        tmp = {}\n",
        "        for k, v in zip(keys,lst):\n",
        "            tmp[k] = v\n",
        "        return tmp\n",
        "\n",
        "data = [\n",
        "        [1,2,3,4,5,6,7,8,9],\n",
        "        [10,20,30,40,50,60,70,80,90]\n",
        "]\n",
        "\n",
        "keys = [\"col1\",\"col2\"]\n",
        "dict_dt = DictDataset(data,keys)\n",
        "dict_dt.dataset"
      ],
      "metadata": {
        "colab": {
          "base_uri": "https://localhost:8080/"
        },
        "id": "i_XRBHG7Gc3e",
        "outputId": "dd6368d1-aa0f-4632-efb8-9d17941f337b"
      },
      "execution_count": null,
      "outputs": [
        {
          "output_type": "execute_result",
          "data": {
            "text/plain": [
              "{'col1': [1, 2, 3, 4, 5, 6, 7, 8, 9],\n",
              " 'col2': [10, 20, 30, 40, 50, 60, 70, 80, 90]}"
            ]
          },
          "metadata": {},
          "execution_count": 3
        }
      ]
    },
    {
      "cell_type": "markdown",
      "source": [
        "```\n",
        "위에 구현한 클래스에서 추가 메소드를 작성하시오\n",
        "head 메소드와 tail 메소드를 작성하세요\n",
        "head 메소드의 경우 인자값이 없을경우 dict의 모든 value의 앞에서 5개의 값들이 key 와 함께 dict 형태로 리턴되게 하세요\n",
        "tail 메소드의 경우 인자값이 없을경우 dict의 모든 value의 뒤에서 5개의 값들이 key 와 함께 dict 형태로 리턴되게 하세요.\n",
        "(역순으로 출력되는 것이 아님)\n",
        "head , tail 모두 인자값이 주어질경우 인자값 개수만큼 value가 나오게 한다.\n",
        "(1 이상 인자값을 받는다는 가정을 하기 때문에 조건문으로 체크 안해도 됩니다.)\n",
        "ex)\n",
        "class DictDataset:\n",
        "    def __init__(self,lst,keys):\n",
        "        self.dataset = dict(zip(keys,lst))\n",
        "        \n",
        "dict_dt = DictDataset(data,[\"col1\",\"col2\"])\n",
        "dict_dt.head()\n",
        "Output:\n",
        "{'col1': [1, 2, 3, 4, 5], 'col2': [10, 20, 30, 40, 50]}\n",
        "dict_dt.head(3)\n",
        "Output:\n",
        "{'col1': [1, 2, 3], 'col2': [10, 20, 30]}\n",
        "dict_dt.tail()\n",
        "Output:\n",
        "{'col1': [5, 6, 7, 8, 9], 'col2': [50, 60, 70, 80, 90]}\n",
        "dict_dt.tail(3)\n",
        "Output:\n",
        "{'col1': [7, 8, 9], 'col2': [70, 80, 90]}\n",
        "```"
      ],
      "metadata": {
        "id": "Hb-J7mSDwf_o"
      }
    },
    {
      "cell_type": "code",
      "source": [
        "class DictDataset:   # 메소드 2개에 인자값이 있을 때 없을 때 다시보기!!!!!!!!!!\n",
        "    def __init__(self,lst,keys):\n",
        "        self.dataset = dict(zip(keys,lst))\n",
        "\n",
        "    def head(self, n=5): # n은 디폴트 파라미터\n",
        "        return { k:v[:n] for k,v in self.dataset.items() }        # k:key, v:value\n",
        "    def tail(self, n=5): # n은 디폴트 파라미터\n",
        "        return { k:v[-n:] for k,v in self.dataset.items() } \n",
        "\n",
        "        data = [\n",
        "        [1,2,3,4,5,6,7,8,9],\n",
        "        [10,20,30,40,50,60,70,80,90]\n",
        "]\n",
        "dict_dt = DictDataset(data,keys)\n",
        "dict_dt.dataset\n",
        "dict_dt.head(3)\n",
        "dict_dt.tail(3)        "
      ],
      "metadata": {
        "colab": {
          "base_uri": "https://localhost:8080/"
        },
        "id": "tOgdnKKewhUo",
        "outputId": "e62196f4-a4e3-4fd0-c748-54face8d1cb8"
      },
      "execution_count": null,
      "outputs": [
        {
          "output_type": "execute_result",
          "data": {
            "text/plain": [
              "{'col1': [7, 8, 9], 'col2': [70, 80, 90]}"
            ]
          },
          "metadata": {},
          "execution_count": 4
        }
      ]
    },
    {
      "cell_type": "markdown",
      "source": [
        "초기 숫자 하나를 받아서 객체로 생성하는 클래스를 만드세요."
      ],
      "metadata": {
        "id": "y0tLxY3FwhXA"
      }
    },
    {
      "cell_type": "code",
      "source": [
        "class Calculator:\n",
        "    def __init__(self,n):\n",
        "        self.result = n\n",
        "\n",
        "    def add(self,n):    # self.result 변수에 인자값을 더해서 다시 self.result 변수에 저장해주는 것\n",
        "        self.result += n\n",
        "        return  self.result\n",
        "\n",
        "    def sub(self,n):\n",
        "        self.result -= n\n",
        "        return  self.result\n",
        "\n",
        "    def mul(self,n):\n",
        "        self.result *= n\n",
        "        return self.result # self.result는 어디든지 쓸 수 있다. self는 객체가 살아있다.    \n",
        "    \n",
        "    def div(self,n):\n",
        "        if n:   # 참이면(False = 0, 0 외는 True)\n",
        "            self.result = self.result / n\n",
        "        return  self.result    \n",
        "    \n",
        "    def get_result(self):\n",
        "        n = int(self.result)    # 리턴할 땐 지역변수를 담자\n",
        "        return  n            "
      ],
      "metadata": {
        "id": "qJxKLN0YwhYu"
      },
      "execution_count": null,
      "outputs": []
    },
    {
      "cell_type": "code",
      "source": [
        "a = Calculator(3)   # 한번 더 보기\n",
        "a.add(3)"
      ],
      "metadata": {
        "colab": {
          "base_uri": "https://localhost:8080/"
        },
        "id": "tOIrClbXwhpm",
        "outputId": "0190408b-86c0-404d-9552-c3076dffbfb1"
      },
      "execution_count": null,
      "outputs": [
        {
          "output_type": "execute_result",
          "data": {
            "text/plain": [
              "6"
            ]
          },
          "metadata": {},
          "execution_count": 32
        }
      ]
    },
    {
      "cell_type": "markdown",
      "source": [
        "```\n",
        "구현한 클래스에서 추가 메소드를 작성하시오\n",
        "rename 메소드를 작성하세요\n",
        "딕셔너리를 입력 받아 인스턴스 변수인 dataset의 key를 변경하는 메소드를 작성하세요.\n",
        "ex)\n",
        "dict_dt = DictDataset(data,[\"col1\",\"col2\"])\n",
        "keys_rename = {\n",
        "    \"col1\" : \"num1\",\n",
        "    \"col2\" : \"num2\"\n",
        "}\n",
        "dict_dt.rename(keys_rename)\n",
        "dict_dt.dataset\n",
        "Output:\n",
        "{'num1': [1, 2, 3, 4, 5, 6, 7, 8, 9],\n",
        " 'num2': [10, 20, 30, 40, 50, 60, 70, 80, 90]}\n",
        "```"
      ],
      "metadata": {
        "id": "JmK8R5i8aC-A"
      }
    },
    {
      "cell_type": "code",
      "source": [
        "class DictDataset:\n",
        "    \n",
        "    def __init__(self,lst,keys):\n",
        "        self.dataset = dict(zip(keys,lst))\n",
        "    \n",
        "    def head(self,n = 5):\n",
        "        result = { k:v[:n] for k,v in self.dataset.items() }\n",
        "        return result\n",
        "    \n",
        "    def tail(self,n = 5):\n",
        "        result = { k:v[-n:] for k,v in self.dataset.items() }\n",
        "        return result\n",
        "    \n",
        "    def rename(self,keys): # 다시보기\n",
        "       for k,v in keys.items():     # k = \"col1\",v = \"num1\"\n",
        "           self.dataset[v] = self.dataset.pop(k)"
      ],
      "metadata": {
        "id": "X6lnIWv4whre"
      },
      "execution_count": null,
      "outputs": []
    },
    {
      "cell_type": "code",
      "source": [
        "dict_dt = DictDataset(data,[\"col1\",\"col2\"])\n",
        "keys_rename = {\n",
        "    \"col1\" : \"num1\",\n",
        "    \"col2\" : \"num2\"\n",
        "}\n",
        "dict_dt.rename(keys_rename)"
      ],
      "metadata": {
        "id": "jcqvLFRuaOI9"
      },
      "execution_count": null,
      "outputs": []
    },
    {
      "cell_type": "code",
      "source": [
        "dict_dt.dataset"
      ],
      "metadata": {
        "colab": {
          "base_uri": "https://localhost:8080/"
        },
        "id": "44ykmyxgd4-z",
        "outputId": "d9c9da22-43ca-45ed-c357-df06c6ff68eb"
      },
      "execution_count": null,
      "outputs": [
        {
          "output_type": "execute_result",
          "data": {
            "text/plain": [
              "{'num1': [1, 2, 3, 4, 5, 6, 7, 8, 9],\n",
              " 'num2': [10, 20, 30, 40, 50, 60, 70, 80, 90]}"
            ]
          },
          "metadata": {},
          "execution_count": 291
        }
      ]
    },
    {
      "cell_type": "markdown",
      "source": [
        "# 상속\n",
        "- 구현된 클래스의 기능(메소드)을 그대로 가져다가 사용하거나 아니면 그 기능 수정하거나 아니면 추가하거나 할 때 사용하는 개념\n",
        "- 부모클래스의 속성(인스턴스 변수와 메소드)들을 자식클래스가 그대로 물려받는 개념\n",
        "- 확장 개념, 부모클래스와 자식클래스가 합쳐지는 개념 "
      ],
      "metadata": {
        "id": "qRSXXwn0eBaK"
      }
    },
    {
      "cell_type": "markdown",
      "source": [
        "- 부모 클래스 먼저 정의해보자."
      ],
      "metadata": {
        "id": "n9GEUvccPAH1"
      }
    },
    {
      "cell_type": "code",
      "source": [
        "class PlayerCharacter:\n",
        "   def __init__(self,hp=100,exp=0):\n",
        "       self.hp = hp\n",
        "       self.exp = exp\n",
        "    \n",
        "   def attack(self):\n",
        "       print(\"공격하기\")\n",
        "       self.exp += 2\n",
        "\n",
        "   def defend(self):\n",
        "      print(\"방어하기\")\n",
        "      self.exp += 1"
      ],
      "metadata": {
        "id": "UbA9Ci1zOToP"
      },
      "execution_count": 12,
      "outputs": []
    },
    {
      "cell_type": "code",
      "source": [
        "class Wizard(PlayerCharacter):  # 부모 클래스 넣어 주기\n",
        "    def __init__(self,mp):\n",
        "        self.mp = mp\n",
        "        super().__init__()     # 부모클래스의 생성자를 실행하겠다.\n",
        "\n",
        "    def magic_skill(self):\n",
        "        print(\"마법 공격하기\")\n",
        "        self.mp = self.mp - 2"
      ],
      "metadata": {
        "id": "97X-_8PsP26p"
      },
      "execution_count": 23,
      "outputs": []
    },
    {
      "cell_type": "code",
      "source": [
        "player = Wizard(10)\n",
        "player.attack()"
      ],
      "metadata": {
        "colab": {
          "base_uri": "https://localhost:8080/"
        },
        "id": "lsI1aCUbQdw7",
        "outputId": "4699f552-51d6-422c-a857-2440c12df11b"
      },
      "execution_count": 24,
      "outputs": [
        {
          "output_type": "stream",
          "name": "stdout",
          "text": [
            "공격하기\n"
          ]
        }
      ]
    },
    {
      "cell_type": "code",
      "source": [
        "player.hp, player.exp"
      ],
      "metadata": {
        "colab": {
          "base_uri": "https://localhost:8080/"
        },
        "id": "q42vADTtRXqw",
        "outputId": "37e9ab8e-dd2d-4581-d535-9e6e8d103c37"
      },
      "execution_count": 17,
      "outputs": [
        {
          "output_type": "execute_result",
          "data": {
            "text/plain": [
              "(100, 2)"
            ]
          },
          "metadata": {},
          "execution_count": 17
        }
      ]
    },
    {
      "cell_type": "code",
      "source": [
        "player.magic_skill(),player.mp"
      ],
      "metadata": {
        "colab": {
          "base_uri": "https://localhost:8080/"
        },
        "id": "Cypz1ln9RhNf",
        "outputId": "b4f83da3-5dd1-4fca-b0ba-d965c8dccb96"
      },
      "execution_count": 30,
      "outputs": [
        {
          "output_type": "stream",
          "name": "stdout",
          "text": [
            "마법 공격하기\n"
          ]
        },
        {
          "output_type": "execute_result",
          "data": {
            "text/plain": [
              "(None, -2)"
            ]
          },
          "metadata": {},
          "execution_count": 30
        }
      ]
    },
    {
      "cell_type": "markdown",
      "source": [
        "- 상속을 하면 정말 합쳐지는게 맞는지 주소값 확인해봅시다."
      ],
      "metadata": {
        "id": "RBJNRX_USg2X"
      }
    },
    {
      "cell_type": "code",
      "source": [
        "class PlayerCharacter:\n",
        "   def __init__(self,hp=100,exp=0):\n",
        "       print(f\"부모의 주소값: {id(self)}\")  # 에러 시 사용하여 확인\n",
        "       self.hp = hp\n",
        "       self.exp = exp\n",
        "    \n",
        "   def attack(self):\n",
        "       print(\"공격하기\")\n",
        "       self.exp += 2\n",
        "\n",
        "   def defend(self):\n",
        "      print(\"방어하기\")\n",
        "      self.exp += 1\n",
        "      \n",
        "class Wizard(PlayerCharacter):  # 부모 클래스 넣어 주기\n",
        "    def __init__(self,mp):\n",
        "        self.mp = mp\n",
        "        super().__init__()     # 부모클래스의 생성자를 실행하겠다.\n",
        "        print(f\"자식의 주소값: {id(self)}\")\n",
        "    def magic_skill(self):\n",
        "        print(\"마법 공격하기\")\n",
        "        self.mp = self.mp - 2"
      ],
      "metadata": {
        "id": "m2a8sfcySalL"
      },
      "execution_count": 32,
      "outputs": []
    },
    {
      "cell_type": "code",
      "source": [
        "Wizard(30)"
      ],
      "metadata": {
        "colab": {
          "base_uri": "https://localhost:8080/"
        },
        "id": "pHFQBi8SSHnl",
        "outputId": "6d71821e-c22a-40e7-cf73-a3371b50c027"
      },
      "execution_count": 33,
      "outputs": [
        {
          "output_type": "stream",
          "name": "stdout",
          "text": [
            "부모의 주소값: 139938407770960\n",
            "자식의 주소값: 139938407770960\n"
          ]
        },
        {
          "output_type": "execute_result",
          "data": {
            "text/plain": [
              "<__main__.Wizard at 0x7f45f315eb50>"
            ]
          },
          "metadata": {},
          "execution_count": 33
        }
      ]
    },
    {
      "cell_type": "markdown",
      "source": [
        "## 오버라이딩(Override)\n",
        "- 부모로부터 받는 메소드를 수정하고 싶을 때 자식클래스에서 재정의한다.\n",
        "- 다른 자식클래스를 만들어도 똑같이 적용된다."
      ],
      "metadata": {
        "id": "OtNvFkddTE46"
      }
    },
    {
      "cell_type": "code",
      "source": [
        "class PlayerCharacter:\n",
        "   def __init__(self,hp=100,exp=0):\n",
        "       self.hp = hp\n",
        "       self.exp = exp\n",
        "    \n",
        "   def attack(self):\n",
        "       print(\"공격하기\")\n",
        "       self.exp += 2\n",
        "\n",
        "   def defend(self):\n",
        "      print(\"방어하기\")\n",
        "      self.exp += 1\n",
        "      \n",
        "class Wizard(PlayerCharacter):  # 부모 클래스 넣어 주기\n",
        "    def __init__(self,mp):\n",
        "        self.mp = mp\n",
        "        super().__init__()     # 부모클래스의 생성자를 실행하겠다.\n",
        "    def magic_skill(self):\n",
        "        print(\"마법 공격하기\")\n",
        "        self.mp = self.mp - 2\n",
        "\n",
        "    def defend(self):          # 메소드 오버라이딩!\n",
        "        print(\"마법사가 방어하기\")\n",
        "        self.exp += 3"
      ],
      "metadata": {
        "id": "4BCfcZS7UKeH"
      },
      "execution_count": 35,
      "outputs": []
    },
    {
      "cell_type": "code",
      "source": [
        "player = Wizard(10)\n",
        "player.defend()"
      ],
      "metadata": {
        "colab": {
          "base_uri": "https://localhost:8080/"
        },
        "id": "mPLjbmzVUKbn",
        "outputId": "d5edad78-ac68-4e75-9816-13730f8ca10a"
      },
      "execution_count": 37,
      "outputs": [
        {
          "output_type": "stream",
          "name": "stdout",
          "text": [
            "마법사가 방어하기\n"
          ]
        }
      ]
    },
    {
      "cell_type": "code",
      "source": [
        "player.exp"
      ],
      "metadata": {
        "colab": {
          "base_uri": "https://localhost:8080/"
        },
        "id": "gHX7M8fGUKNp",
        "outputId": "4a86e8ce-a6b0-4c4d-d6a5-9ba47f695218"
      },
      "execution_count": 39,
      "outputs": [
        {
          "output_type": "execute_result",
          "data": {
            "text/plain": [
              "3"
            ]
          },
          "metadata": {},
          "execution_count": 39
        }
      ]
    },
    {
      "cell_type": "markdown",
      "source": [
        "```\n",
        "- Calculator 클래스를 상속받아 add, sub, mul ,div 메소드를 오버라이딩하여 구현하기\n",
        "- add, sub, mul ,div 메소드에 num 파라미터의 값이 정수가 아닐 경우 \n",
        "\"입력값이 정수가 아닙니다. 입력값을 0으로 변경합니다.\" \n",
        "출력과 함께 num 파라미터값을 0 값으로 변경한다.\n",
        "- mul, div 메소드에 경우 0값이 아규먼트로 들어왔을 경우 연산은 하지 않는다.\n",
        "```\n",
        "\n"
      ],
      "metadata": {
        "id": "-DAl1-siUKFP"
      }
    },
    {
      "cell_type": "code",
      "source": [
        "class Calculator:\n",
        "    def __init__(self,num=0):\n",
        "        self.num = num\n",
        "        \n",
        "    def add(self,num): # 한개의 정수를 입력 받아 self.num 더하기, 반환값 X\n",
        "        pass\n",
        "    def sub(self,num): # 한개의 정수를 입력 받아 self.num 빼기, 반환값 X\n",
        "        pass\n",
        "    def mul(self,num): # 한개의 정수를 입력 받아 self.num 곱하기, 반환값 X\n",
        "        pass\n",
        "    def div(self,num): # 한개의 정수를 입력 받아 self.num 나누기, 반환값 X\n",
        "        pass\n",
        "    def result(self):\n",
        "        return self.num\n",
        "\n",
        "    def reset(self):\n",
        "        self.num = 0"
      ],
      "metadata": {
        "id": "9pOiUw5GZ2R5"
      },
      "execution_count": 91,
      "outputs": []
    },
    {
      "cell_type": "code",
      "source": [
        "class MyCalculator(Calculator): # 강사님 답\n",
        "    def __init__(self,num):\n",
        "        super().__init__(num)   # 부모 생성자에 아규먼트 넣어주기\n",
        "\n",
        "    def add(self,num):\n",
        "        if type(num) is int:\n",
        "            self.num = self.num + num\n",
        "        else:\n",
        "            print(\"입력값이 정수가 아닙니다. 입력값을 0으로 변경합니다.\")\n",
        "\n",
        "    def sub(self,num):\n",
        "        self.num = self.num - self.check_num(num)   # 정수가 아닐 경우 0이 반환됨\n",
        "\n",
        "    def mul(self,num):\n",
        "        if self.check_num(num): # 0이 아닐 경우는 참!\n",
        "            self.num = self.num * num\n",
        "    \n",
        "    def div(self,num):\n",
        "        if self.check_num(num): # 0이 아닐 경우는 참!\n",
        "            self.num = self.num / num\n",
        "\n",
        "    def check_num(self,num):        # 이것을 넣어 하드코딩을 방지!\n",
        "        if type(num) is not int:\n",
        "             print(\"입력값이 정수가 아닙니다. 입력값을 0으로 변경합니다.\")\n",
        "             num = 0\n",
        "        return num\n",
        "        "
      ],
      "metadata": {
        "id": "_69JtdE9g13Q"
      },
      "execution_count": 119,
      "outputs": []
    },
    {
      "cell_type": "code",
      "source": [
        "a = MyCalculator(4)\n",
        "a.sub(3)\n",
        "a.result()  # 부모클래스의 result 함수 사용! result를 안쓰면 계산만하고 값이 안나옴"
      ],
      "metadata": {
        "colab": {
          "base_uri": "https://localhost:8080/"
        },
        "id": "cIH0mz6FjZ61",
        "outputId": "6dc83ba5-371e-479a-9abb-ea087a2e97ea"
      },
      "execution_count": 122,
      "outputs": [
        {
          "output_type": "execute_result",
          "data": {
            "text/plain": [
              "1"
            ]
          },
          "metadata": {},
          "execution_count": 122
        }
      ]
    },
    {
      "cell_type": "code",
      "source": [
        "class Cal(Calculator):      # 내 생각\n",
        "   def __init__(self,n):\n",
        "        self.result = n        \n",
        "        if n != int:\n",
        "            print(\"입력값이 정수가 아닙니다. 입력값을 0으로 변경합니다.\")\n",
        "        else:\n",
        "            return self.n\n",
        "        super().__init__()\n",
        "\n",
        "   def add(self,num):\n",
        "        self.result += num\n",
        "        return self.result\n",
        "\n",
        "   def sub(self,num):\n",
        "        self.result -= num\n",
        "        return self.result\n",
        "\n",
        "   def div(self,num):\n",
        "        if num:\n",
        "            self.result = self.result / num\n",
        "        return self.result\n",
        "\n",
        "   def reset(self):\n",
        "        self.num = 0"
      ],
      "metadata": {
        "id": "9Ft8r20hY_bn"
      },
      "execution_count": 108,
      "outputs": []
    },
    {
      "cell_type": "markdown",
      "source": [
        "$$\n",
        "\\frac{x-\\mu}{σ}\n",
        "$$ \\"
      ],
      "metadata": {
        "id": "Imv-rd7vakoW"
      }
    },
    {
      "cell_type": "markdown",
      "source": [
        "```\n",
        "Scaler 클래스를 상속받아 StandardScaler 클래스를 구현하시오\n",
        "Scaler 클래스 fit_transform 와 transform 를 오버라이딩하시오\n",
        "fit_transform 에 경우는 인자로 받은 데이터의 평균값과 표준편차를 인스턴스변수에 저장하고\n",
        "인자로 받은 데이터를 표준화하여 스케일링을 적용하고 반환하시오\n",
        "transform 에 경우는 저장된 인스턴스변수를 이용하여 입력받은 데이터를 표준화하여 스케일링을 적용하고 반환하시오\n",
        "```"
      ],
      "metadata": {
        "id": "UmVM3nqLcpbk"
      }
    },
    {
      "cell_type": "code",
      "source": [
        "class Scaler:\n",
        "    def fit_transform(self,data):\n",
        "        pass\n",
        "    def transform(self,data):\n",
        "        pass"
      ],
      "metadata": {
        "id": "r7cKxFF7qQXv"
      },
      "execution_count": 123,
      "outputs": []
    },
    {
      "cell_type": "code",
      "source": [
        "data = [3000,3500,4000,9000,8000,12000]"
      ],
      "metadata": {
        "id": "8PzIHo-Fq0d2"
      },
      "execution_count": 164,
      "outputs": []
    },
    {
      "cell_type": "code",
      "source": [
        "class StandardScaler(Scaler):   # 내 생각\n",
        "                                # 부모 클래스의 특별한정보가 없어서 __init__ 미사용\n",
        "    def fit_transform(self,data):\n",
        "        self.avg  = sum(data) / len(data)  \n",
        "        self.deviation = [(self.avg - i)**2 for i in data]\n",
        "        self.var = (sum(self.deviation) / len(self.deviation))**0.5\n",
        "        res = [(j - self.avg) / self.var for j in data]\n",
        "        return res\n",
        "\n",
        "    def transform(self, data):\n",
        "        res = [(i - self.avg) / self.var for i in data]\n",
        "        return res"
      ],
      "metadata": {
        "id": "D2ITM7VppssG"
      },
      "execution_count": 195,
      "outputs": []
    },
    {
      "cell_type": "code",
      "source": [
        "a = StandardScaler()\n",
        "a.fit_transform(data)"
      ],
      "metadata": {
        "colab": {
          "base_uri": "https://localhost:8080/"
        },
        "id": "vrX4h6sMronW",
        "outputId": "e2100aff-2fe4-4aa4-d43b-fa891d6e3f96"
      },
      "execution_count": 197,
      "outputs": [
        {
          "output_type": "execute_result",
          "data": {
            "text/plain": [
              "[-1.0787144762791367,\n",
              " -0.9281961772634433,\n",
              " -0.7776778782477497,\n",
              " 0.7275051119091854,\n",
              " 0.4264685138777984,\n",
              " 1.6306149060033466]"
            ]
          },
          "metadata": {},
          "execution_count": 197
        }
      ]
    },
    {
      "cell_type": "code",
      "source": [
        "class StandardScaler(Scaler):\n",
        "    def fit_transform(self,data):\n",
        "        self.avg_ = self.get_avg(data)\n",
        "        self.std_ = self.get_std(data)\n",
        "        return [ (x-self.avg_) / self.std_ for x in data]\n",
        "        # rerurn self.transform(data) 위와 같이 쓸 수도 있다.\n",
        "\n",
        "    def transform(self, data):              # 학습데이터(fit_transform)와 검증데이터(transform)\n",
        "        return [ (x-self.avg_) / self.std_ for x in data]\n",
        "\n",
        "    def get_avg(self,data):\n",
        "        return sum(data) / len(data)\n",
        "\n",
        "    def get_std(self,data):\n",
        "        avg = self.get_avg(data)\n",
        "        diff_list = [(avg - x)**2 for x in data]\n",
        "        var = sum(diff_list) / len(data)\n",
        "        return var ** 0.5"
      ],
      "metadata": {
        "id": "VowXQOObvF-S"
      },
      "execution_count": 82,
      "outputs": []
    },
    {
      "cell_type": "code",
      "source": [
        "class StandardScaler(Scaler):\n",
        "    def fit_transform(self,data):\n",
        "        self.avg_ = self.get_avg(data)\n",
        "        self.std_ = self.get_std(data)\n",
        "        return [ (x - self.avg_) / self.std_ for x in data]\n",
        "        # return self.transform(data)\n",
        "\n",
        "    def transform(self,data):\n",
        "        return [ (x - self.avg_) / self.std_ for x in data]\n",
        "\n",
        "    def get_avg(self,data):\n",
        "        return sum(data) / len(data)\n",
        "\n",
        "    def get_std(self,data):\n",
        "        avg = self.get_avg(data)\n",
        "        diff_list = [ (avg - x)**2 for x in data]\n",
        "        var = sum(diff_list) / len(data)\n",
        "        return var ** 0.5"
      ],
      "metadata": {
        "id": "cvUJIsaIaAvK"
      },
      "execution_count": 85,
      "outputs": []
    },
    {
      "cell_type": "code",
      "source": [
        "data = [3000,3500,4000,9000,8000,12000]\n",
        "ss = StandardScaler()\n",
        "ss.fit_transform(data)\n",
        "ss.transform(data)  # avg_ 가"
      ],
      "metadata": {
        "colab": {
          "base_uri": "https://localhost:8080/"
        },
        "id": "3faYglOj3zxS",
        "outputId": "367f0d92-1872-4730-a1f2-8ae72c603905"
      },
      "execution_count": 89,
      "outputs": [
        {
          "output_type": "execute_result",
          "data": {
            "text/plain": [
              "[-1.0787144762791367,\n",
              " -0.9281961772634433,\n",
              " -0.7776778782477497,\n",
              " 0.7275051119091854,\n",
              " 0.4264685138777984,\n",
              " 1.6306149060033466]"
            ]
          },
          "metadata": {},
          "execution_count": 89
        }
      ]
    },
    {
      "cell_type": "markdown",
      "source": [
        "```\n",
        "- Scaler 클래스를 상속받아 MinMaxScaler 클래스를 구현하시오\n",
        "- Scaler 클래스 fit, fit_transform , transform, inverse_transform 를 오버라이딩하시오\n",
        "- fit 은 데이터의 최소값과 사이즈값(최대값- 최소값)을 인스턴스변수에 저장하는 기능을 구현하시오\n",
        "- fit_transform 은 데이터의 최소값과 사이즈값(최대값- 최소값)을 인스턴스변수에 저장하는 기능과 함께 \n",
        "입력받은 데이터를 minmax 스케일링을 적용하고 반환하시오\n",
        "- transform 은 저장된 인스턴스변수를 이용하여 입력받은 데이터를 minmax 스케일링을 적용하고 반환하시오\n",
        "- inverse_transform 은 minmax 스케일이 적용된 데이터를 입력받아 원래의 수치로 변경하는 기능을 구현하시오.\n",
        "```"
      ],
      "metadata": {
        "id": "j-a5_r8b35af"
      }
    },
    {
      "cell_type": "markdown",
      "source": [
        "$$\n",
        "\\frac{x-Min(X)}{Max(X)-Min(X)}\n",
        "$$ \n",
        "\n",
        "- 역변환\n",
        "$$\n",
        "x \\times (Max(X)-Min(X)) + Min(X)  \n",
        "$$ "
      ],
      "metadata": {
        "id": "if_XU1Lr7q_2"
      }
    },
    {
      "cell_type": "code",
      "source": [
        "data = [3000,3500,4000,9000,8000,12000]"
      ],
      "metadata": {
        "id": "86SC_FdUSkcg"
      },
      "execution_count": 39,
      "outputs": []
    },
    {
      "cell_type": "code",
      "source": [
        "class Scaler:\n",
        "    def fit_transform(self,data):\n",
        "        pass\n",
        "    def transform(self,data):\n",
        "        pass\n",
        "    def transform(self,data):\n",
        "        pass\n",
        "    def inverse_transform(self,data):\n",
        "        pass"
      ],
      "metadata": {
        "id": "T2PCDV0r6IxX"
      },
      "execution_count": 40,
      "outputs": []
    },
    {
      "cell_type": "code",
      "source": [
        "class Standard(Scaler):\n",
        "    def fit(self,data):\n",
        "        self.dif = max(data)-(max(data)-min(data))  # max()-min()함수 만들어 코드줄이기\n",
        "        return self.dif\n",
        "\n",
        "    def fit_transform(self,data):\n",
        "       self.minmax = [(i - min(data)) / (max(data)-min(data)) for i in data ]\n",
        "       return self.minmax\n",
        "\n",
        "    def transform(self, data):\n",
        "        self.minmax = [(i - min(data)) / (max(data)-min(data)) for i in data ]\n",
        "        return self.minmax\n",
        "\n",
        "    def inverse_transform(self,data):\n",
        "        return [(i*(max(data)-min(data)))+min(data) for i in self.transform(data)]"
      ],
      "metadata": {
        "id": "UtRUVJrB67Eo"
      },
      "execution_count": 90,
      "outputs": []
    },
    {
      "cell_type": "code",
      "source": [
        "a = Standard()\n",
        "\n",
        "a.transform(data)"
      ],
      "metadata": {
        "colab": {
          "base_uri": "https://localhost:8080/"
        },
        "id": "UH7Iu4l78qC1",
        "outputId": "5b94ba36-c317-4de9-d285-7a8ba996259a"
      },
      "execution_count": 91,
      "outputs": [
        {
          "output_type": "execute_result",
          "data": {
            "text/plain": [
              "[0.0,\n",
              " 0.05555555555555555,\n",
              " 0.1111111111111111,\n",
              " 0.6666666666666666,\n",
              " 0.5555555555555556,\n",
              " 1.0]"
            ]
          },
          "metadata": {},
          "execution_count": 91
        }
      ]
    },
    {
      "cell_type": "code",
      "source": [
        "class MinMaxScaler(Scaler):\n",
        "    def fit(self,data):\n",
        "        self.min_ = min(data)\n",
        "        self.size_ = max(data) - self.min_\n",
        "    def fit_transform(self,data):\n",
        "        self.fit(data)\n",
        "        return [ (x - self.min_) / self.size_ for x in data]\n",
        "    def transform(self,data):\n",
        "        return [ (x - self.min_) / self.size_ for x in data]\n",
        "    def inverse_transform(self,data):\n",
        "        return [x * self.size_ + self.min_ for x in data ]"
      ],
      "metadata": {
        "id": "_mzjG9YOZrIN"
      },
      "execution_count": 93,
      "outputs": []
    },
    {
      "cell_type": "code",
      "source": [
        "data = [3000,3500,4000,9000,8000,12000]\n",
        "mms = MinMaxScaler()\n",
        "mms.fit(data)\n",
        "mms.min_, mms.size_"
      ],
      "metadata": {
        "colab": {
          "base_uri": "https://localhost:8080/"
        },
        "id": "N3Q1MjqPfA0g",
        "outputId": "b6674928-cea9-4623-d29f-324d0a72ba7a"
      },
      "execution_count": 94,
      "outputs": [
        {
          "output_type": "execute_result",
          "data": {
            "text/plain": [
              "(3000, 9000)"
            ]
          },
          "metadata": {},
          "execution_count": 94
        }
      ]
    },
    {
      "cell_type": "code",
      "source": [
        "tmp = mms.transform(data)\n",
        "tmp"
      ],
      "metadata": {
        "colab": {
          "base_uri": "https://localhost:8080/"
        },
        "id": "8YetcjumfRbc",
        "outputId": "a4bdf809-f80c-47cc-8b4f-8bfbcadfcc93"
      },
      "execution_count": 96,
      "outputs": [
        {
          "output_type": "execute_result",
          "data": {
            "text/plain": [
              "[0.0,\n",
              " 0.05555555555555555,\n",
              " 0.1111111111111111,\n",
              " 0.6666666666666666,\n",
              " 0.5555555555555556,\n",
              " 1.0]"
            ]
          },
          "metadata": {},
          "execution_count": 96
        }
      ]
    },
    {
      "cell_type": "code",
      "source": [
        "mms.inverse_transform(tmp)"
      ],
      "metadata": {
        "colab": {
          "base_uri": "https://localhost:8080/"
        },
        "id": "dBNQ6E_kfZBz",
        "outputId": "e5a29fb3-0d19-4571-e558-e7446f1eb5b7"
      },
      "execution_count": 98,
      "outputs": [
        {
          "output_type": "execute_result",
          "data": {
            "text/plain": [
              "[3000.0, 3500.0, 4000.0, 9000.0, 8000.0, 12000.0]"
            ]
          },
          "metadata": {},
          "execution_count": 98
        }
      ]
    },
    {
      "cell_type": "markdown",
      "source": [
        "## non public(private화)\n",
        "- `private`: 인스턴스 변수나 메소드를 클래스 내부에서만 사용하게 하는 것\n",
        "- 바깥에서 사용이 불가능하도록 하는 설정\n",
        "- 맹글링(mangling) 기법을 이용해서 외부에서 직접적으로 인스턴스 변수나 메소드에 접근하는 것을 막을 수 있다."
      ],
      "metadata": {
        "id": "9nubLRH8fe8s"
      }
    },
    {
      "cell_type": "code",
      "source": [
        "class PlayerCharacter:\n",
        "    def __init__(self,hp=100,exp=0):\n",
        "        self.hp = hp\n",
        "        self.exp = exp\n",
        "\n",
        "    def attack(self):\n",
        "        print(\"공격하기\")\n",
        "        self.exp += 2\n",
        "\n",
        "    def defend(self):\n",
        "        print(\"방어하기\")\n",
        "        self.exp += 1\n",
        "    \n",
        "    def attacked(self,attack_size):\n",
        "        print(\"공격받음\")\n",
        "        self.hp -= attack_size"
      ],
      "metadata": {
        "id": "0Zgqkhu1f0D_"
      },
      "execution_count": 109,
      "outputs": []
    },
    {
      "cell_type": "code",
      "source": [
        "class Wizard(PlayerCharacter):\n",
        "    def __init__(self,mp):\n",
        "        super().__init__()\n",
        "        self.__mp = mp  # 변수도 private\n",
        "\n",
        "    def __magic_skill(self):    # private\n",
        "        print(\"마법 공격하기\")\n",
        "        self.__mp -= 2\n",
        "    \n",
        "    def magic_skill(self):\n",
        "        if self.__mp > 1:\n",
        "            self.__magic_skill()\n",
        "        else:\n",
        "            print(\"MP가 부족합니다.\")\n"
      ],
      "metadata": {
        "id": "AeBczFmZg5AY"
      },
      "execution_count": 250,
      "outputs": []
    },
    {
      "cell_type": "code",
      "source": [
        "player = Wizard(50)\n",
        "player.__magic_skill()"
      ],
      "metadata": {
        "colab": {
          "base_uri": "https://localhost:8080/",
          "height": 190
        },
        "id": "X6S4Jt9RioYd",
        "outputId": "76471d67-f602-4c98-8b20-6d6e6c7662c7"
      },
      "execution_count": 251,
      "outputs": [
        {
          "output_type": "error",
          "ename": "AttributeError",
          "evalue": "ignored",
          "traceback": [
            "\u001b[0;31m---------------------------------------------------------------------------\u001b[0m",
            "\u001b[0;31mAttributeError\u001b[0m                            Traceback (most recent call last)",
            "\u001b[0;32m<ipython-input-251-4ad15eaae4fe>\u001b[0m in \u001b[0;36m<module>\u001b[0;34m()\u001b[0m\n\u001b[1;32m      1\u001b[0m \u001b[0mplayer\u001b[0m \u001b[0;34m=\u001b[0m \u001b[0mWizard\u001b[0m\u001b[0;34m(\u001b[0m\u001b[0;36m50\u001b[0m\u001b[0;34m)\u001b[0m\u001b[0;34m\u001b[0m\u001b[0;34m\u001b[0m\u001b[0m\n\u001b[0;32m----> 2\u001b[0;31m \u001b[0mplayer\u001b[0m\u001b[0;34m.\u001b[0m\u001b[0m__magic_skill\u001b[0m\u001b[0;34m(\u001b[0m\u001b[0;34m)\u001b[0m\u001b[0;34m\u001b[0m\u001b[0;34m\u001b[0m\u001b[0m\n\u001b[0m",
            "\u001b[0;31mAttributeError\u001b[0m: 'Wizard' object has no attribute '__magic_skill'"
          ]
        }
      ]
    },
    {
      "cell_type": "code",
      "source": [
        "player.magic_skill()"
      ],
      "metadata": {
        "colab": {
          "base_uri": "https://localhost:8080/"
        },
        "id": "WdziPZpyiw36",
        "outputId": "69ec8654-2168-44ba-b4ba-b9f079ff9ce5"
      },
      "execution_count": 252,
      "outputs": [
        {
          "output_type": "stream",
          "name": "stdout",
          "text": [
            "마법 공격하기\n"
          ]
        }
      ]
    },
    {
      "cell_type": "code",
      "source": [
        "player = Wizard(1)"
      ],
      "metadata": {
        "id": "vDHZpKapi8WE"
      },
      "execution_count": 253,
      "outputs": []
    },
    {
      "cell_type": "code",
      "source": [
        "player.__mp"
      ],
      "metadata": {
        "colab": {
          "base_uri": "https://localhost:8080/",
          "height": 172
        },
        "id": "eeCr-FLKjZxh",
        "outputId": "256a0a3d-530f-4b75-ff2d-7c5a926ad3df"
      },
      "execution_count": 254,
      "outputs": [
        {
          "output_type": "error",
          "ename": "AttributeError",
          "evalue": "ignored",
          "traceback": [
            "\u001b[0;31m---------------------------------------------------------------------------\u001b[0m",
            "\u001b[0;31mAttributeError\u001b[0m                            Traceback (most recent call last)",
            "\u001b[0;32m<ipython-input-254-b1c0a85b281e>\u001b[0m in \u001b[0;36m<module>\u001b[0;34m()\u001b[0m\n\u001b[0;32m----> 1\u001b[0;31m \u001b[0mplayer\u001b[0m\u001b[0;34m.\u001b[0m\u001b[0m__mp\u001b[0m\u001b[0;34m\u001b[0m\u001b[0;34m\u001b[0m\u001b[0m\n\u001b[0m",
            "\u001b[0;31mAttributeError\u001b[0m: 'Wizard' object has no attribute '__mp'"
          ]
        }
      ]
    },
    {
      "cell_type": "code",
      "source": [
        "player.__mp = 100 # 값은 또 된다..."
      ],
      "metadata": {
        "id": "mYDLVtN9jerY"
      },
      "execution_count": 123,
      "outputs": []
    },
    {
      "cell_type": "markdown",
      "source": [
        "# getter & setter (참고용)\n",
        "- 인스턴스 변수에 접근할 때 특정 로직을 거쳐서 접근시키는 방법\n",
        "- getter & setter 정의할 인스턴스 변수는 private화 하자."
      ],
      "metadata": {
        "id": "QZcRBH0kjgAl"
      }
    },
    {
      "cell_type": "code",
      "source": [
        "class Wizard(PlayerCharacter):\n",
        "\n",
        "    def __init__(self,mp):\n",
        "        super().__init__()\n",
        "        self.mp = mp\n",
        "\n",
        "    @property   # getter 세팅할 때는 다음과 같이 데코 넣기\n",
        "    def mp(self):\n",
        "        print(\"getter 동작\")\n",
        "        return self.__mp\n",
        "\n",
        "    @mp.setter  # setter 세팅할 때는 getter의 메소드명.setter 데코\n",
        "    def mp(self,mp):\n",
        "        print(\"setter 동작\")\n",
        "        if mp < 0:\n",
        "            mp = 0\n",
        "\n",
        "        self.__mp = mp"
      ],
      "metadata": {
        "id": "jumS2JNxkRlT"
      },
      "execution_count": 130,
      "outputs": []
    },
    {
      "cell_type": "code",
      "source": [
        "player = Wizard(5)"
      ],
      "metadata": {
        "colab": {
          "base_uri": "https://localhost:8080/"
        },
        "id": "eNKpmi3ckgTf",
        "outputId": "fd75aaa6-9317-45db-de8c-dcd0c5e44689"
      },
      "execution_count": 131,
      "outputs": [
        {
          "output_type": "stream",
          "name": "stdout",
          "text": [
            "setter 동작\n"
          ]
        }
      ]
    },
    {
      "cell_type": "code",
      "source": [
        "player.mp"
      ],
      "metadata": {
        "colab": {
          "base_uri": "https://localhost:8080/"
        },
        "id": "Ka1M7z_zlr7M",
        "outputId": "c89086c7-bb22-4487-905a-cc332184c84a"
      },
      "execution_count": 132,
      "outputs": [
        {
          "output_type": "stream",
          "name": "stdout",
          "text": [
            "getter 동작\n"
          ]
        },
        {
          "output_type": "execute_result",
          "data": {
            "text/plain": [
              "5"
            ]
          },
          "metadata": {},
          "execution_count": 132
        }
      ]
    },
    {
      "cell_type": "code",
      "source": [
        "player.mp = -1"
      ],
      "metadata": {
        "colab": {
          "base_uri": "https://localhost:8080/"
        },
        "id": "lNUm1PunlzOv",
        "outputId": "404bf9a8-d628-4577-8076-6d65397abc6b"
      },
      "execution_count": 133,
      "outputs": [
        {
          "output_type": "stream",
          "name": "stdout",
          "text": [
            "setter 동작\n"
          ]
        }
      ]
    },
    {
      "cell_type": "code",
      "source": [
        "player.mp   # 세터가 동작해 0으로 나옴!"
      ],
      "metadata": {
        "colab": {
          "base_uri": "https://localhost:8080/"
        },
        "id": "AX1QbWXMl3fk",
        "outputId": "08541b7f-cb65-40a1-ac5b-fbea4a588669"
      },
      "execution_count": 134,
      "outputs": [
        {
          "output_type": "stream",
          "name": "stdout",
          "text": [
            "getter 동작\n"
          ]
        },
        {
          "output_type": "execute_result",
          "data": {
            "text/plain": [
              "0"
            ]
          },
          "metadata": {},
          "execution_count": 134
        }
      ]
    },
    {
      "cell_type": "markdown",
      "source": [
        "# 매직 메소드\n",
        "- 메소드 명이 두개의 언더바로 감싸져있다.\n",
        "- 파이썬의 다양한 내장함수들이 클래스의 매직메소드들을 호출하여 결과를 만들어 낸다.\n"
      ],
      "metadata": {
        "id": "xivAUg6bl-DP"
      }
    },
    {
      "cell_type": "code",
      "source": [
        "class MyDataset:\n",
        "    def __init__(self,data):    \n",
        "        self.data = data\n",
        "    \n",
        "    def __call__(self,a):\n",
        "        print(f\"{a} 함수 호출 방법처럼 객체를 함수 호출하듯이 만들어 주는 메소드\")\n",
        "\n",
        "    def __str__(self):  # print 함수에 이 클래스의 객체를 넣을 경우, 이 메소드에 리턴값을 출력해준다.\n",
        "        return \"My dataset Class\"\n",
        "\n",
        "    def __len__(self):  # len() 내장함수는 객체의 이 매직메소드를 호출!\n",
        "        return len(self.data)\n",
        "    \n",
        "    def __getitem__(self,idx):  # 인덱싱과 슬라이싱을 가능하게 한다.\n",
        "        return self.data[idx]"
      ],
      "metadata": {
        "id": "JZ_MabJYr9VE"
      },
      "execution_count": 144,
      "outputs": []
    },
    {
      "cell_type": "code",
      "source": [
        "data = list(range(50,100))\n",
        "dt = MyDataset(data)\n",
        "dt"
      ],
      "metadata": {
        "colab": {
          "base_uri": "https://localhost:8080/"
        },
        "id": "JmZrM1Cxs0Ee",
        "outputId": "83124c58-10c5-4d62-b635-79deefcd238d"
      },
      "execution_count": 145,
      "outputs": [
        {
          "output_type": "execute_result",
          "data": {
            "text/plain": [
              "<__main__.MyDataset at 0x7f483c07b950>"
            ]
          },
          "metadata": {},
          "execution_count": 145
        }
      ]
    },
    {
      "cell_type": "code",
      "source": [
        "dt(1004)"
      ],
      "metadata": {
        "colab": {
          "base_uri": "https://localhost:8080/"
        },
        "id": "UkO1mr7Os6Rk",
        "outputId": "db6facac-6c11-41e8-edf8-5b214db77918"
      },
      "execution_count": 146,
      "outputs": [
        {
          "output_type": "stream",
          "name": "stdout",
          "text": [
            "1004 함수 호출 방법처럼 객체를 함수 호출하듯이 만들어 주는 메소드\n"
          ]
        }
      ]
    },
    {
      "cell_type": "code",
      "source": [
        "print(dt)"
      ],
      "metadata": {
        "colab": {
          "base_uri": "https://localhost:8080/"
        },
        "id": "T5ZJCbcDtGoO",
        "outputId": "0e1812dd-5201-458d-ddc8-1effa1af54a0"
      },
      "execution_count": 148,
      "outputs": [
        {
          "output_type": "stream",
          "name": "stdout",
          "text": [
            "My dataset Class\n"
          ]
        }
      ]
    },
    {
      "cell_type": "code",
      "source": [
        "len(dt)"
      ],
      "metadata": {
        "colab": {
          "base_uri": "https://localhost:8080/"
        },
        "id": "4qic-2zOtbho",
        "outputId": "88dc44f5-6d5a-4414-b36d-c31c06003d39"
      },
      "execution_count": 149,
      "outputs": [
        {
          "output_type": "execute_result",
          "data": {
            "text/plain": [
              "50"
            ]
          },
          "metadata": {},
          "execution_count": 149
        }
      ]
    },
    {
      "cell_type": "code",
      "source": [
        "dt[:0]  # get_item"
      ],
      "metadata": {
        "colab": {
          "base_uri": "https://localhost:8080/"
        },
        "id": "oKX8sLpVtsby",
        "outputId": "d2d5b29d-e35f-439f-ba27-9099bbdfa9fa"
      },
      "execution_count": 150,
      "outputs": [
        {
          "output_type": "execute_result",
          "data": {
            "text/plain": [
              "50"
            ]
          },
          "metadata": {},
          "execution_count": 150
        }
      ]
    },
    {
      "cell_type": "markdown",
      "source": [
        "```\n",
        "객체 생성시 딕셔너리 데이터를 입력 받아 다음과 같은 예시로 데이터를 반환하는\n",
        "클래스를 만드시오.\n",
        "ex)\n",
        "data = {\n",
        "    \"x\" : [0.4,0.3,0.8,0.2,0.3,0.9,0.7],\n",
        "    \"y\" : [0,1,0,0,1,0,0]\n",
        "}\n",
        "dt = Dataset(data)\n",
        "len(dt)\n",
        "Output:\n",
        "7\n",
        "dt[0]\n",
        "Output:\n",
        "(0.4, 0)\n",
        "class Dataset:\n",
        "    def __init__(self,data):\n",
        "        pass\n",
        "    def __len__(self):\n",
        "        pass\n",
        "    def __getitem__(self,idx):\n",
        "        pass\n",
        "```"
      ],
      "metadata": {
        "id": "Vn1Xw1e_t-97"
      }
    },
    {
      "cell_type": "code",
      "source": [
        "class Dataset:  # 내 생각\n",
        "    def __init__(self,data):    \n",
        "        self.x = data[\"x\"]\n",
        "        self.y = data[\"y\"]\n",
        "\n",
        "    def __len__(self):\n",
        "        return len(data[\"x\"])\n",
        "\n",
        "    def __getitem__(self,idx):\n",
        "        return self.x[idx],self.y[idx]"
      ],
      "metadata": {
        "id": "OHDkqUiUvDkG"
      },
      "execution_count": 235,
      "outputs": []
    },
    {
      "cell_type": "code",
      "source": [
        "data = {\n",
        "    \"x\" : [0.4,0.3,0.8,0.2,0.3,0.9,0.7],\n",
        "    \"y\" : [0,1,0,0,1,0,0]\n",
        "}\n",
        "\n",
        "class Dataset:  # 강사님 답\n",
        "    def __init__(self,data):    \n",
        "        self.x = data[\"x\"]\n",
        "        self.y = data[\"y\"]\n",
        "\n",
        "    def __len__(self):\n",
        "        return len(self.y)\n",
        "\n",
        "    def __getitem__(self,idx):\n",
        "        return self.x[idx],self.y[idx]\n",
        "        \n",
        "# Dataset(data)[2:]\n",
        "len(Dataset(data))"
      ],
      "metadata": {
        "colab": {
          "base_uri": "https://localhost:8080/"
        },
        "id": "KEZIlVckzZje",
        "outputId": "39b0eda1-eb5e-42e6-954f-b2a562d85b61"
      },
      "execution_count": 247,
      "outputs": [
        {
          "output_type": "execute_result",
          "data": {
            "text/plain": [
              "7"
            ]
          },
          "metadata": {},
          "execution_count": 247
        }
      ]
    },
    {
      "cell_type": "code",
      "source": [
        "data = {\n",
        "    \"x\" : [0.4,0.3,0.8,0.2,0.3,0.9,0.7],\n",
        "    \"y\" : [0,1,0,0,1,0,0]\n",
        "}"
      ],
      "metadata": {
        "id": "lRgqqTCSvuYD"
      },
      "execution_count": 243,
      "outputs": []
    },
    {
      "cell_type": "code",
      "source": [
        "dt = Dataset(data)\n",
        "len(dt)"
      ],
      "metadata": {
        "colab": {
          "base_uri": "https://localhost:8080/",
          "height": 190
        },
        "id": "ckidt1pLvcof",
        "outputId": "fba8f9cf-63e9-4006-c12d-09e44bcbdd44"
      },
      "execution_count": 244,
      "outputs": [
        {
          "output_type": "error",
          "ename": "TypeError",
          "evalue": "ignored",
          "traceback": [
            "\u001b[0;31m---------------------------------------------------------------------------\u001b[0m",
            "\u001b[0;31mTypeError\u001b[0m                                 Traceback (most recent call last)",
            "\u001b[0;32m<ipython-input-244-3c056e447eb4>\u001b[0m in \u001b[0;36m<module>\u001b[0;34m()\u001b[0m\n\u001b[1;32m      1\u001b[0m \u001b[0mdt\u001b[0m \u001b[0;34m=\u001b[0m \u001b[0mDataset\u001b[0m\u001b[0;34m(\u001b[0m\u001b[0mdata\u001b[0m\u001b[0;34m)\u001b[0m\u001b[0;34m\u001b[0m\u001b[0;34m\u001b[0m\u001b[0m\n\u001b[0;32m----> 2\u001b[0;31m \u001b[0mlen\u001b[0m\u001b[0;34m(\u001b[0m\u001b[0mdt\u001b[0m\u001b[0;34m)\u001b[0m\u001b[0;34m\u001b[0m\u001b[0;34m\u001b[0m\u001b[0m\n\u001b[0m",
            "\u001b[0;31mTypeError\u001b[0m: __len__() missing 1 required positional argument: 'y'"
          ]
        }
      ]
    },
    {
      "cell_type": "code",
      "source": [
        "dt[:3]"
      ],
      "metadata": {
        "colab": {
          "base_uri": "https://localhost:8080/"
        },
        "id": "gTv6BOvKvl-U",
        "outputId": "5fcae880-6428-4853-ad14-fd29667f4e03"
      },
      "execution_count": 241,
      "outputs": [
        {
          "output_type": "execute_result",
          "data": {
            "text/plain": [
              "([0.4, 0.3, 0.8], [0, 1, 0])"
            ]
          },
          "metadata": {},
          "execution_count": 241
        }
      ]
    },
    {
      "cell_type": "code",
      "source": [
        ""
      ],
      "metadata": {
        "id": "dQLbjoMYyUXq"
      },
      "execution_count": null,
      "outputs": []
    }
  ]
}