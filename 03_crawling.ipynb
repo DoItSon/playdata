{
  "nbformat": 4,
  "nbformat_minor": 0,
  "metadata": {
    "colab": {
      "name": "03-crawling.ipynb",
      "provenance": [],
      "collapsed_sections": [],
      "authorship_tag": "ABX9TyPBBz8fTmsGsAgb7txRZhnI",
      "include_colab_link": true
    },
    "kernelspec": {
      "name": "python3",
      "display_name": "Python 3"
    },
    "language_info": {
      "name": "python"
    }
  },
  "cells": [
    {
      "cell_type": "markdown",
      "metadata": {
        "id": "view-in-github",
        "colab_type": "text"
      },
      "source": [
        "<a href=\"https://colab.research.google.com/github/DoItSon/playdata/blob/main/03_crawling.ipynb\" target=\"_parent\"><img src=\"https://colab.research.google.com/assets/colab-badge.svg\" alt=\"Open In Colab\"/></a>"
      ]
    },
    {
      "cell_type": "markdown",
      "source": [
        "# 크롤링(Crawling)이란?\n",
        "- 자동으로 웹페이지의 정보를 수집하는 것"
      ],
      "metadata": {
        "id": "sdB5pkTvQlbG"
      }
    },
    {
      "cell_type": "markdown",
      "source": [
        "# 스크래핑(scraping)이란?\n",
        "- 크롤링을 통한 수집한 정보를 분석해서 필요한 정보만 추출하는 일"
      ],
      "metadata": {
        "id": "nv9fSICt7JJQ"
      }
    },
    {
      "cell_type": "markdown",
      "source": [
        "# HTML(Hyper Text Markup Language)\n",
        "- 웹페이지에 필요한 구성요소를 구성하는 Markup 언어\n",
        "- 태그를 이용해 화면의 레이아웃 구조와 텍스트, 요소 등을 표현한다."
      ],
      "metadata": {
        "id": "G419gEn07Rp2"
      }
    },
    {
      "cell_type": "markdown",
      "source": [
        ""
      ],
      "metadata": {
        "id": "XYlIk_Y4_tWy"
      }
    },
    {
      "cell_type": "markdown",
      "source": [
        "# CSS\n",
        "- HTMl의 요소를 꾸며주는 스타일 시트\n",
        "- CSS 선택자를 이용해서 HTML 요소에 접근하여 꾸며준다.\n",
        "- CSS 선택자\n",
        "    - 태그명으로 접근하는 예시\n",
        "        - a 태그 접근: `a`\n",
        "    - 태그의 class 속성명으로 접근하는 예시\n",
        "        - class=\"btn\" : `.btn`\n",
        "    - 태그의 id 속성명으로 접근하는 예시\n",
        "        - id=\"btn\" : `#btn`"
      ],
      "metadata": {
        "id": "Z9wcalyJ753N"
      }
    },
    {
      "cell_type": "code",
      "source": [
        "%%html\n",
        "<!DOCYTYPE HTML>\n",
        "<html>\n",
        "    <head>\n",
        "        <title>HTML 페이지</title>\n",
        "    </head>\n",
        "    <style>\n",
        "    #naver-link{color:red;}\n",
        "    .p-el{font-size:30px;}\n",
        "    button{color:blue;}\n",
        "    </style>\n",
        "    <body>\n",
        "        <div>\n",
        "            <a id=\"naver-link\" href=\"https://www.naver.com\" target=\"_blank\">네이버로 이동하기</a>\n",
        "            <p class=\"p-el\">안녕하세요 html 페이지 입니다.</p>\n",
        "            <p class=\"p-el\">반갑습니다.</p>\n",
        "            <p>잘가요.</p>\n",
        "            <button class=\"btn\">클릭하기1</botton>\n",
        "            <button>클릭하기2</botton>\n",
        "        </div>\n",
        "        <div id=\"div-tag\">\n",
        "            <p class=\"p1 p-tag\">첫번째 p태그</p>\n",
        "            <p class=\"p2 p-tag\">두번째 p태그</p>\n",
        "            <p class=\"p3 p-tag\">세번째 p태그</p>\n",
        "        </div>\n",
        "    </body>\n",
        "</html>"
      ],
      "metadata": {
        "colab": {
          "base_uri": "https://localhost:8080/",
          "height": 251
        },
        "id": "sbn5p_QB9My3",
        "outputId": "47deac4a-5369-4b96-ac84-6d52283f0fc1"
      },
      "execution_count": 1,
      "outputs": [
        {
          "output_type": "display_data",
          "data": {
            "text/plain": [
              "<IPython.core.display.HTML object>"
            ],
            "text/html": [
              "<!DOCYTYPE HTML>\n",
              "<html>\n",
              "    <head>\n",
              "        <title>HTML 페이지</title>\n",
              "    </head>\n",
              "    <style>\n",
              "    #naver-link{color:red;}\n",
              "    .p-el{font-size:30px;}\n",
              "    button{color:blue;}\n",
              "    </style>\n",
              "    <body>\n",
              "        <div>\n",
              "            <a id=\"naver-link\" href=\"https://www.naver.com\" target=\"_blank\">네이버로 이동하기</a>\n",
              "            <p class=\"p-el\">안녕하세요 html 페이지 입니다.</p>\n",
              "            <p class=\"p-el\">반갑습니다.</p>\n",
              "            <p>잘가요.</p>\n",
              "            <button class=\"btn\">클릭하기1</botton>\n",
              "            <button>클릭하기2</botton>\n",
              "        </div>\n",
              "        <div id=\"div-tag\">\n",
              "            <p class=\"p1 p-tag\">첫번째 p태그</p>\n",
              "            <p class=\"p2 p-tag\">두번째 p태그</p>\n",
              "            <p class=\"p3 p-tag\">세번째 p태그</p>\n",
              "        </div>\n",
              "    </body>\n",
              "</html>\n"
            ]
          },
          "metadata": {}
        }
      ]
    },
    {
      "cell_type": "code",
      "source": [
        "html = \"\"\"\n",
        "<!DOCYTYPE HTML>\n",
        "<html>\n",
        "    <head>\n",
        "        <title>HTML 페이지</title>\n",
        "    </head>\n",
        "    <style>\n",
        "    #naver-link{color:red;}\n",
        "    .p-el{font-size:30px;}\n",
        "    button{color:blue;}\n",
        "    </style>\n",
        "    <body>\n",
        "        <div>\n",
        "            <a id=\"naver-link\" href=\"https://www.naver.com\" target=\"_blank\">네이버로 이동하기</a>\n",
        "            <p class=\"p-el\">안녕하세요 html 페이지 입니다.</p>\n",
        "            <p class=\"p-el\">반갑습니다.</p>\n",
        "            <p>잘가요.</p>\n",
        "            <button class=\"btn\">클릭하기1</button>\n",
        "            <button>클릭하기2</button>\n",
        "        </div>\n",
        "        <div id=\"div-tag\">\n",
        "            <p class=\"p1 p-tag\">첫번째 p태그</p>\n",
        "            <p class=\"p2 p-tag\">두번째 p태그</p>\n",
        "            <p class=\"p3 p-tag\">세번째 p태그</p>\n",
        "        </div>\n",
        "    </body>\n",
        "</html>\n",
        "\"\"\""
      ],
      "metadata": {
        "id": "MnbhZBfr_0q_"
      },
      "execution_count": 81,
      "outputs": []
    },
    {
      "cell_type": "code",
      "source": [
        "from bs4 import BeautifulSoup"
      ],
      "metadata": {
        "id": "BhnODsY8AhFs"
      },
      "execution_count": 82,
      "outputs": []
    },
    {
      "cell_type": "code",
      "source": [
        "soup = BeautifulSoup(html,'html.parser')\n",
        "soup"
      ],
      "metadata": {
        "colab": {
          "base_uri": "https://localhost:8080/"
        },
        "id": "qVOVOlfYAm_-",
        "outputId": "ad1ca5b6-0fb8-4396-e515-7fbd893a44a9"
      },
      "execution_count": 83,
      "outputs": [
        {
          "output_type": "execute_result",
          "data": {
            "text/plain": [
              "\n",
              "<!--DOCYTYPE HTML-->\n",
              "<html>\n",
              "<head>\n",
              "<title>HTML 페이지</title>\n",
              "</head>\n",
              "<style>\n",
              "    #naver-link{color:red;}\n",
              "    .p-el{font-size:30px;}\n",
              "    button{color:blue;}\n",
              "    </style>\n",
              "<body>\n",
              "<div>\n",
              "<a href=\"https://www.naver.com\" id=\"naver-link\" target=\"_blank\">네이버로 이동하기</a>\n",
              "<p class=\"p-el\">안녕하세요 html 페이지 입니다.</p>\n",
              "<p class=\"p-el\">반갑습니다.</p>\n",
              "<p>잘가요.</p>\n",
              "<button class=\"btn\">클릭하기1</button>\n",
              "<button>클릭하기2</button>\n",
              "</div>\n",
              "<div id=\"div-tag\">\n",
              "<p class=\"p1 p-tag\">첫번째 p태그</p>\n",
              "<p class=\"p2 p-tag\">두번째 p태그</p>\n",
              "<p class=\"p3 p-tag\">세번째 p태그</p>\n",
              "</div>\n",
              "</body>\n",
              "</html>"
            ]
          },
          "metadata": {},
          "execution_count": 83
        }
      ]
    },
    {
      "cell_type": "code",
      "source": [
        "type(soup)"
      ],
      "metadata": {
        "colab": {
          "base_uri": "https://localhost:8080/"
        },
        "id": "H0omAw-BAy7u",
        "outputId": "96a1df16-7f5b-48e8-cd9b-25d4a9e84a6a"
      },
      "execution_count": 84,
      "outputs": [
        {
          "output_type": "execute_result",
          "data": {
            "text/plain": [
              "bs4.BeautifulSoup"
            ]
          },
          "metadata": {},
          "execution_count": 84
        }
      ]
    },
    {
      "cell_type": "markdown",
      "source": [
        "# 태그명과 속성명&속성값을 이용해서 접근하기"
      ],
      "metadata": {
        "id": "1ik-LaznA8TS"
      }
    },
    {
      "cell_type": "markdown",
      "source": [
        "- `find({\"태그명\",\"속성명과 값에 대한 딕셔너리\"})`\n",
        "    - 한개의 요소만 찾는다."
      ],
      "metadata": {
        "id": "TeCT0mkUBOvz"
      }
    },
    {
      "cell_type": "code",
      "source": [
        "el = soup.find(\"p\")\n",
        "el"
      ],
      "metadata": {
        "colab": {
          "base_uri": "https://localhost:8080/"
        },
        "id": "Rq56WsHVBcww",
        "outputId": "b807d5f0-4a23-490e-ab2e-1b47e0af1c34"
      },
      "execution_count": 85,
      "outputs": [
        {
          "output_type": "execute_result",
          "data": {
            "text/plain": [
              "<p class=\"p-el\">안녕하세요 html 페이지 입니다.</p>"
            ]
          },
          "metadata": {},
          "execution_count": 85
        }
      ]
    },
    {
      "cell_type": "code",
      "source": [
        "type(el)"
      ],
      "metadata": {
        "colab": {
          "base_uri": "https://localhost:8080/"
        },
        "id": "qXeb91_hBtH4",
        "outputId": "8ba1b025-f9f5-4874-a593-167ae6f50c7e"
      },
      "execution_count": 86,
      "outputs": [
        {
          "output_type": "execute_result",
          "data": {
            "text/plain": [
              "bs4.element.Tag"
            ]
          },
          "metadata": {},
          "execution_count": 86
        }
      ]
    },
    {
      "cell_type": "code",
      "source": [
        "el.text"
      ],
      "metadata": {
        "id": "hWrS-EdmBy6R",
        "colab": {
          "base_uri": "https://localhost:8080/",
          "height": 35
        },
        "outputId": "2902fd81-6829-4ace-e3bc-55b56fdb0315"
      },
      "execution_count": 87,
      "outputs": [
        {
          "output_type": "execute_result",
          "data": {
            "text/plain": [
              "'안녕하세요 html 페이지 입니다.'"
            ],
            "application/vnd.google.colaboratory.intrinsic+json": {
              "type": "string"
            }
          },
          "metadata": {},
          "execution_count": 87
        }
      ]
    },
    {
      "cell_type": "code",
      "source": [
        "el.string"
      ],
      "metadata": {
        "colab": {
          "base_uri": "https://localhost:8080/",
          "height": 35
        },
        "id": "WHbR073TB5XN",
        "outputId": "6eb227a4-035c-4d86-8ba2-8ef77ecdcef6"
      },
      "execution_count": 88,
      "outputs": [
        {
          "output_type": "execute_result",
          "data": {
            "text/plain": [
              "'안녕하세요 html 페이지 입니다.'"
            ],
            "application/vnd.google.colaboratory.intrinsic+json": {
              "type": "string"
            }
          },
          "metadata": {},
          "execution_count": 88
        }
      ]
    },
    {
      "cell_type": "code",
      "source": [
        "el.get_text()"
      ],
      "metadata": {
        "colab": {
          "base_uri": "https://localhost:8080/",
          "height": 35
        },
        "id": "Ewv7-SR8B94W",
        "outputId": "1b1af0f5-be5e-4db3-cb40-0a322155548a"
      },
      "execution_count": 89,
      "outputs": [
        {
          "output_type": "execute_result",
          "data": {
            "text/plain": [
              "'안녕하세요 html 페이지 입니다.'"
            ],
            "application/vnd.google.colaboratory.intrinsic+json": {
              "type": "string"
            }
          },
          "metadata": {},
          "execution_count": 89
        }
      ]
    },
    {
      "cell_type": "code",
      "source": [
        "el.name"
      ],
      "metadata": {
        "colab": {
          "base_uri": "https://localhost:8080/",
          "height": 35
        },
        "id": "nwuBuAHlCA_4",
        "outputId": "fdd9d5d1-9709-4c28-b2f8-70771ef037b0"
      },
      "execution_count": 90,
      "outputs": [
        {
          "output_type": "execute_result",
          "data": {
            "text/plain": [
              "'p'"
            ],
            "application/vnd.google.colaboratory.intrinsic+json": {
              "type": "string"
            }
          },
          "metadata": {},
          "execution_count": 90
        }
      ]
    },
    {
      "cell_type": "code",
      "source": [
        "el = soup.find(\"div\")\n",
        "el"
      ],
      "metadata": {
        "colab": {
          "base_uri": "https://localhost:8080/"
        },
        "id": "l6smJB6uCVyi",
        "outputId": "15b4aa84-557a-4e85-a571-c5221d5b87be"
      },
      "execution_count": 91,
      "outputs": [
        {
          "output_type": "execute_result",
          "data": {
            "text/plain": [
              "<div>\n",
              "<a href=\"https://www.naver.com\" id=\"naver-link\" target=\"_blank\">네이버로 이동하기</a>\n",
              "<p class=\"p-el\">안녕하세요 html 페이지 입니다.</p>\n",
              "<p class=\"p-el\">반갑습니다.</p>\n",
              "<p>잘가요.</p>\n",
              "<button class=\"btn\">클릭하기1</button>\n",
              "<button>클릭하기2</button>\n",
              "</div>"
            ]
          },
          "metadata": {},
          "execution_count": 91
        }
      ]
    },
    {
      "cell_type": "code",
      "source": [
        "el.children"
      ],
      "metadata": {
        "colab": {
          "base_uri": "https://localhost:8080/"
        },
        "id": "IWRXDtjRCf1b",
        "outputId": "9203b8d1-f507-4ce3-f54b-20895c743750"
      },
      "execution_count": 92,
      "outputs": [
        {
          "output_type": "execute_result",
          "data": {
            "text/plain": [
              "<list_iterator at 0x7f56d59f73d0>"
            ]
          },
          "metadata": {},
          "execution_count": 92
        }
      ]
    },
    {
      "cell_type": "code",
      "source": [
        "for i in el.children:\n",
        "    print(i)"
      ],
      "metadata": {
        "colab": {
          "base_uri": "https://localhost:8080/"
        },
        "id": "f-soUpWMDBMR",
        "outputId": "4e2dc08f-849d-4147-faa2-e8f147500d1d"
      },
      "execution_count": 93,
      "outputs": [
        {
          "output_type": "stream",
          "name": "stdout",
          "text": [
            "\n",
            "\n",
            "<a href=\"https://www.naver.com\" id=\"naver-link\" target=\"_blank\">네이버로 이동하기</a>\n",
            "\n",
            "\n",
            "<p class=\"p-el\">안녕하세요 html 페이지 입니다.</p>\n",
            "\n",
            "\n",
            "<p class=\"p-el\">반갑습니다.</p>\n",
            "\n",
            "\n",
            "<p>잘가요.</p>\n",
            "\n",
            "\n",
            "<button class=\"btn\">클릭하기1</button>\n",
            "\n",
            "\n",
            "<button>클릭하기2</button>\n",
            "\n",
            "\n"
          ]
        }
      ]
    },
    {
      "cell_type": "markdown",
      "source": [
        "- `find_all(\"div\",{\"속성명\":\"속성값\"})`\n",
        "    - 여러개 찾기\n",
        "    - 리스트를 반환한다."
      ],
      "metadata": {
        "id": "M37vkPLyDF_F"
      }
    },
    {
      "cell_type": "code",
      "source": [
        "soup.find_all(\"p\")"
      ],
      "metadata": {
        "colab": {
          "base_uri": "https://localhost:8080/"
        },
        "id": "HaTy7WGTDfm4",
        "outputId": "0976c4ab-997f-459b-cd10-3e7e7ec876d5"
      },
      "execution_count": 94,
      "outputs": [
        {
          "output_type": "execute_result",
          "data": {
            "text/plain": [
              "[<p class=\"p-el\">안녕하세요 html 페이지 입니다.</p>,\n",
              " <p class=\"p-el\">반갑습니다.</p>,\n",
              " <p>잘가요.</p>,\n",
              " <p class=\"p1 p-tag\">첫번째 p태그</p>,\n",
              " <p class=\"p2 p-tag\">두번째 p태그</p>,\n",
              " <p class=\"p3 p-tag\">세번째 p태그</p>]"
            ]
          },
          "metadata": {},
          "execution_count": 94
        }
      ]
    },
    {
      "cell_type": "code",
      "source": [
        "el = soup.find(\"div\",{\"id\":\"div-tag\"}) # id 속성값이 중복되면 안된다.\n",
        "el"
      ],
      "metadata": {
        "colab": {
          "base_uri": "https://localhost:8080/"
        },
        "id": "f_CMiPtpD_ol",
        "outputId": "65651527-9ee4-4ce7-a36f-97712c0b244f"
      },
      "execution_count": 95,
      "outputs": [
        {
          "output_type": "execute_result",
          "data": {
            "text/plain": [
              "<div id=\"div-tag\">\n",
              "<p class=\"p1 p-tag\">첫번째 p태그</p>\n",
              "<p class=\"p2 p-tag\">두번째 p태그</p>\n",
              "<p class=\"p3 p-tag\">세번째 p태그</p>\n",
              "</div>"
            ]
          },
          "metadata": {},
          "execution_count": 95
        }
      ]
    },
    {
      "cell_type": "code",
      "source": [
        "el.text"
      ],
      "metadata": {
        "colab": {
          "base_uri": "https://localhost:8080/",
          "height": 35
        },
        "id": "CC7mFWqUFAIL",
        "outputId": "97aced86-ac31-44c1-e4e5-102d86474ede"
      },
      "execution_count": 96,
      "outputs": [
        {
          "output_type": "execute_result",
          "data": {
            "text/plain": [
              "'\\n첫번째 p태그\\n두번째 p태그\\n세번째 p태그\\n'"
            ],
            "application/vnd.google.colaboratory.intrinsic+json": {
              "type": "string"
            }
          },
          "metadata": {},
          "execution_count": 96
        }
      ]
    },
    {
      "cell_type": "markdown",
      "source": [
        "- p 태그이면서 class 속성이 p-el인 태그를 모두 추출하시오."
      ],
      "metadata": {
        "id": "XO_73q0rFC5J"
      }
    },
    {
      "cell_type": "code",
      "source": [
        "el = soup.find_all(\"p\",{\"class\" : \"p-el\"})\n",
        "el"
      ],
      "metadata": {
        "colab": {
          "base_uri": "https://localhost:8080/"
        },
        "id": "jugVLpCyI5FN",
        "outputId": "9bbc04b7-51ac-4e26-f1dd-be225acd833d"
      },
      "execution_count": 97,
      "outputs": [
        {
          "output_type": "execute_result",
          "data": {
            "text/plain": [
              "[<p class=\"p-el\">안녕하세요 html 페이지 입니다.</p>, <p class=\"p-el\">반갑습니다.</p>]"
            ]
          },
          "metadata": {},
          "execution_count": 97
        }
      ]
    },
    {
      "cell_type": "markdown",
      "source": [
        "- a 태그이면서 target 속성이 _blank인 태그를 모두 추출하시오."
      ],
      "metadata": {
        "id": "edX0JMAOJPv1"
      }
    },
    {
      "cell_type": "code",
      "source": [
        "el = soup.find_all(\"a\",{\"target\":\"_blank\"})\n",
        "el"
      ],
      "metadata": {
        "colab": {
          "base_uri": "https://localhost:8080/"
        },
        "id": "SZqw921yJ2N5",
        "outputId": "a25743ea-edae-4028-dd09-2265ac91a39e"
      },
      "execution_count": 98,
      "outputs": [
        {
          "output_type": "execute_result",
          "data": {
            "text/plain": [
              "[<a href=\"https://www.naver.com\" id=\"naver-link\" target=\"_blank\">네이버로 이동하기</a>]"
            ]
          },
          "metadata": {},
          "execution_count": 98
        }
      ]
    },
    {
      "cell_type": "code",
      "source": [
        "el[0].text"
      ],
      "metadata": {
        "colab": {
          "base_uri": "https://localhost:8080/",
          "height": 35
        },
        "id": "gjcqEj5hKBLM",
        "outputId": "af004aca-0f4a-4290-f6d6-ae44004ab806"
      },
      "execution_count": 99,
      "outputs": [
        {
          "output_type": "execute_result",
          "data": {
            "text/plain": [
              "'네이버로 이동하기'"
            ],
            "application/vnd.google.colaboratory.intrinsic+json": {
              "type": "string"
            }
          },
          "metadata": {},
          "execution_count": 99
        }
      ]
    },
    {
      "cell_type": "code",
      "source": [
        "el[0][\"href\"]"
      ],
      "metadata": {
        "colab": {
          "base_uri": "https://localhost:8080/",
          "height": 35
        },
        "id": "XXDdkSycKYBR",
        "outputId": "e1ec5052-187b-49c1-aba0-b5aa5125cdce"
      },
      "execution_count": 100,
      "outputs": [
        {
          "output_type": "execute_result",
          "data": {
            "text/plain": [
              "'https://www.naver.com'"
            ],
            "application/vnd.google.colaboratory.intrinsic+json": {
              "type": "string"
            }
          },
          "metadata": {},
          "execution_count": 100
        }
      ]
    },
    {
      "cell_type": "markdown",
      "source": [
        "# CSS 선택자(selector)를 사용해서 추출"
      ],
      "metadata": {
        "id": "ThBcw7G5KeF3"
      }
    },
    {
      "cell_type": "markdown",
      "source": [
        "- 태그명을 이용한 선택"
      ],
      "metadata": {
        "id": "jJZDYmfwLpE1"
      }
    },
    {
      "cell_type": "code",
      "source": [
        "el = soup.select_one(\"a\")\n",
        "type(el)"
      ],
      "metadata": {
        "colab": {
          "base_uri": "https://localhost:8080/"
        },
        "id": "ToSYIt0RKrzK",
        "outputId": "a2fc6b5c-9126-42b9-869f-899dfb639c11"
      },
      "execution_count": 101,
      "outputs": [
        {
          "output_type": "execute_result",
          "data": {
            "text/plain": [
              "bs4.element.Tag"
            ]
          },
          "metadata": {},
          "execution_count": 101
        }
      ]
    },
    {
      "cell_type": "markdown",
      "source": [
        "- id 속성을 이용한 선택"
      ],
      "metadata": {
        "id": "Yq1-OQzxLiLg"
      }
    },
    {
      "cell_type": "code",
      "source": [
        "soup.select_one(\"#naver-link\")"
      ],
      "metadata": {
        "colab": {
          "base_uri": "https://localhost:8080/"
        },
        "id": "kPNqLwXfK2TI",
        "outputId": "691da537-1183-4521-c97c-9c16bdaa2a3b"
      },
      "execution_count": 102,
      "outputs": [
        {
          "output_type": "execute_result",
          "data": {
            "text/plain": [
              "<a href=\"https://www.naver.com\" id=\"naver-link\" target=\"_blank\">네이버로 이동하기</a>"
            ]
          },
          "metadata": {},
          "execution_count": 102
        }
      ]
    },
    {
      "cell_type": "markdown",
      "source": [
        "- class 속성을 이용한 선택"
      ],
      "metadata": {
        "id": "wrz_sH-nMAvK"
      }
    },
    {
      "cell_type": "code",
      "source": [
        "soup.select_one(\".p-el\")"
      ],
      "metadata": {
        "colab": {
          "base_uri": "https://localhost:8080/"
        },
        "id": "cAV8G1gbLE9D",
        "outputId": "add32c27-28a1-484e-a9cb-99d7fe37ef5d"
      },
      "execution_count": 103,
      "outputs": [
        {
          "output_type": "execute_result",
          "data": {
            "text/plain": [
              "<p class=\"p-el\">안녕하세요 html 페이지 입니다.</p>"
            ]
          },
          "metadata": {},
          "execution_count": 103
        }
      ]
    },
    {
      "cell_type": "markdown",
      "source": [
        "- 클래스는 속성값을 여러개 넣을 수 있다.\n",
        "```html\n",
        "<div class=\"div-1 div-2 div-3\"></div>\n",
        "```"
      ],
      "metadata": {
        "id": "XjxbQ15kMNWT"
      }
    },
    {
      "cell_type": "markdown",
      "source": [
        "- 다음의 예시는 한칸을 띄울 경우 body 태그 하위에 모든 p태그를 가져오겠다는 의미"
      ],
      "metadata": {
        "id": "Pmm5awapN1TF"
      }
    },
    {
      "cell_type": "code",
      "source": [
        "soup.select(\"body p\") "
      ],
      "metadata": {
        "id": "iO3XSUwAMANi",
        "colab": {
          "base_uri": "https://localhost:8080/"
        },
        "outputId": "d263dcd1-5ee0-4201-a8d6-8b259019fff9"
      },
      "execution_count": 108,
      "outputs": [
        {
          "output_type": "execute_result",
          "data": {
            "text/plain": [
              "[<p class=\"p-el\">안녕하세요 html 페이지 입니다.</p>,\n",
              " <p class=\"p-el\">반갑습니다.</p>,\n",
              " <p>잘가요.</p>,\n",
              " <p class=\"p1 p-tag\">첫번째 p태그</p>,\n",
              " <p class=\"p2 p-tag\">두번째 p태그</p>,\n",
              " <p class=\"p3 p-tag\">세번째 p태그</p>]"
            ]
          },
          "metadata": {},
          "execution_count": 108
        }
      ]
    },
    {
      "cell_type": "markdown",
      "source": [
        "- 다음의 예시에서 `>` 화살괄호의 의미는 body태그에 바로 하위에 p 태그들만 가져오겠다라는 의미"
      ],
      "metadata": {
        "id": "pLSbZcqdMrtr"
      }
    },
    {
      "cell_type": "code",
      "source": [
        "soup.select(\"body > p\") # 존재하지않아서 안나옴"
      ],
      "metadata": {
        "colab": {
          "base_uri": "https://localhost:8080/"
        },
        "id": "okwLzX6zOeAy",
        "outputId": "a1d4dc05-c381-480e-c552-afb7f72720a2"
      },
      "execution_count": 111,
      "outputs": [
        {
          "output_type": "execute_result",
          "data": {
            "text/plain": [
              "[]"
            ]
          },
          "metadata": {},
          "execution_count": 111
        }
      ]
    },
    {
      "cell_type": "code",
      "source": [
        "soup.select(\"#div-tag > p\")"
      ],
      "metadata": {
        "colab": {
          "base_uri": "https://localhost:8080/"
        },
        "id": "TtGo_oStOkWp",
        "outputId": "7f9175d8-eef1-4ba6-8b4b-ece640f9e7cd"
      },
      "execution_count": 112,
      "outputs": [
        {
          "output_type": "execute_result",
          "data": {
            "text/plain": [
              "[<p class=\"p1 p-tag\">첫번째 p태그</p>,\n",
              " <p class=\"p2 p-tag\">두번째 p태그</p>,\n",
              " <p class=\"p3 p-tag\">세번째 p태그</p>]"
            ]
          },
          "metadata": {},
          "execution_count": 112
        }
      ]
    },
    {
      "cell_type": "markdown",
      "source": [
        "- button 태그이면서 클래스명이 btn인 것을 찾고 싶다."
      ],
      "metadata": {
        "id": "5vWobQU6O3au"
      }
    },
    {
      "cell_type": "code",
      "source": [
        "soup.select(\"button.btn\")"
      ],
      "metadata": {
        "colab": {
          "base_uri": "https://localhost:8080/"
        },
        "id": "FPgYsunoPO6k",
        "outputId": "a4ad2f83-a903-4c05-ad30-2a0206dcf5b9"
      },
      "execution_count": 113,
      "outputs": [
        {
          "output_type": "execute_result",
          "data": {
            "text/plain": [
              "[<button class=\"btn\">클릭하기1</button>]"
            ]
          },
          "metadata": {},
          "execution_count": 113
        }
      ]
    },
    {
      "cell_type": "markdown",
      "source": [
        "- a 태그이면서 id명이 naver-link인 것을 찾고싶다."
      ],
      "metadata": {
        "id": "_2bOo5EGPTKr"
      }
    },
    {
      "cell_type": "code",
      "source": [
        "soup.select(\"a#naver-link\") # # = id 선택하는 것"
      ],
      "metadata": {
        "colab": {
          "base_uri": "https://localhost:8080/"
        },
        "id": "i0WEfx7yPizL",
        "outputId": "c813783d-2c79-4e07-ab43-1d6dc7b68f70"
      },
      "execution_count": 114,
      "outputs": [
        {
          "output_type": "execute_result",
          "data": {
            "text/plain": [
              "[<a href=\"https://www.naver.com\" id=\"naver-link\" target=\"_blank\">네이버로 이동하기</a>]"
            ]
          },
          "metadata": {},
          "execution_count": 114
        }
      ]
    },
    {
      "cell_type": "code",
      "source": [
        ""
      ],
      "metadata": {
        "id": "uXcrFlIoPw10"
      },
      "execution_count": null,
      "outputs": []
    }
  ]
}