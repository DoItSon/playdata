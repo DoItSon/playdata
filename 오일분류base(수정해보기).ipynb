{
  "cells": [
    {
      "cell_type": "markdown",
      "metadata": {
        "id": "view-in-github",
        "colab_type": "text"
      },
      "source": [
        "<a href=\"https://colab.research.google.com/github/DoItSon/playdata/blob/main/%EC%98%A4%EC%9D%BC%EB%B6%84%EB%A5%98base(%EC%88%98%EC%A0%95%ED%95%B4%EB%B3%B4%EA%B8%B0).ipynb\" target=\"_parent\"><img src=\"https://colab.research.google.com/assets/colab-badge.svg\" alt=\"Open In Colab\"/></a>"
      ]
    },
    {
      "cell_type": "code",
      "execution_count": null,
      "metadata": {
        "id": "YgdtIy8Nuorh"
      },
      "outputs": [],
      "source": [
        "import torch\n",
        "import torch.nn as nn\n",
        "import torch.nn.functional as F\n",
        "import torch.optim as optim\n",
        "from torch.utils.data import DataLoader, Dataset\n",
        "\n",
        "from sklearn.metrics import f1_score\n",
        "from sklearn.preprocessing import StandardScaler\n",
        "from sklearn.preprocessing import MinMaxScaler\n",
        "from sklearn.preprocessing import OneHotEncoder\n",
        "from sklearn.preprocessing import LabelEncoder\n",
        "from sklearn.model_selection import train_test_split\n",
        "\n",
        "import os\n",
        "import pandas as pd\n",
        "import numpy as np\n",
        "from tqdm.auto import tqdm\n",
        "import random\n",
        "\n",
        "import warnings\n",
        "warnings.filterwarnings(action='ignore') \n",
        "\n",
        "device = torch.device('cuda') if torch.cuda.is_available() else torch.device('cpu')"
      ]
    },
    {
      "cell_type": "code",
      "execution_count": null,
      "metadata": {
        "colab": {
          "base_uri": "https://localhost:8080/"
        },
        "id": "osqF88dHvWOz",
        "outputId": "830b5119-4adc-49fa-dd1e-1ce724cab535"
      },
      "outputs": [
        {
          "output_type": "stream",
          "name": "stdout",
          "text": [
            "Drive already mounted at /content/drive; to attempt to forcibly remount, call drive.mount(\"/content/drive\", force_remount=True).\n"
          ]
        }
      ],
      "source": [
        "from google.colab import drive\n",
        "drive.mount('/content/drive')"
      ]
    },
    {
      "cell_type": "code",
      "execution_count": null,
      "metadata": {
        "id": "KQzs4nKvuy1d"
      },
      "outputs": [],
      "source": [
        "CFG = {\n",
        "    'EPOCHS': 30,\n",
        "    'LEARNING_RATE':2e-2, \n",
        "    'BATCH_SIZE':256,\n",
        "    'SEED':42\n",
        "}"
      ]
    },
    {
      "cell_type": "code",
      "execution_count": null,
      "metadata": {
        "id": "2lEVj08fuq7x"
      },
      "outputs": [],
      "source": [
        "def seed_everything(seed):\n",
        "    random.seed(seed)\n",
        "    os.environ['PYTHONHASHSEED'] = str(seed)\n",
        "    np.random.seed(seed)\n",
        "    torch.manual_seed(seed)\n",
        "    torch.cuda.manual_seed(seed)\n",
        "    torch.backends.cudnn.deterministic = True\n",
        "    torch.backends.cudnn.benchmark = True\n",
        "\n",
        "seed_everything(CFG['SEED'])"
      ]
    },
    {
      "cell_type": "code",
      "execution_count": null,
      "metadata": {
        "id": "qywM_Ra2nrkY"
      },
      "outputs": [],
      "source": [
        "SEED = 42\n",
        "def reset_seeds(seed):\n",
        "    random.seed(seed)\n",
        "    os.environ['PYTHONHASHSEED'] = str(seed)    # 파이썬 환경변수 시드 고정\n",
        "    np.random.seed(seed)\n",
        "    torch.manual_seed(seed) # cpu 연산 무작위 고정\n",
        "    torch.cuda.manual_seed(seed) # gpu 연산 무작위 고정\n",
        "    torch.backends.cudnn.deterministic = True  # cuda 라이브러리에서 Deterministic(결정론적)으로 예측하기 (예측에 대한 불확실성 제거 )"
      ]
    },
    {
      "cell_type": "code",
      "execution_count": null,
      "metadata": {
        "id": "bd8gPQ0mP0cU"
      },
      "outputs": [],
      "source": [
        "DATA_PATH = \"/content/drive/MyDrive/\""
      ]
    },
    {
      "cell_type": "code",
      "execution_count": null,
      "metadata": {
        "id": "TU7N5vbvuq-z"
      },
      "outputs": [],
      "source": [
        "train = pd.read_csv(f'{DATA_PATH}train.csv')\n",
        "test = pd.read_csv(f'{DATA_PATH}test.csv')"
      ]
    },
    {
      "cell_type": "code",
      "execution_count": null,
      "metadata": {
        "id": "eqk96t8haHnb"
      },
      "outputs": [],
      "source": [
        "categorical_features2 = ['COMPONENT_ARBITRARY_COMPONENT1', 'COMPONENT_ARBITRARY_COMPONENT2',\n",
        "       'COMPONENT_ARBITRARY_COMPONENT3', 'COMPONENT_ARBITRARY_COMPONENT4',\n",
        "       'YEAR_2007', 'YEAR_2008', 'YEAR_2009', 'YEAR_2010', 'YEAR_2011',\n",
        "       'YEAR_2012', 'YEAR_2013', 'YEAR_2014', 'YEAR_2015', 'YEAR_2016',\n",
        "       'YEAR_2017', 'YEAR_2018', 'YEAR_2019', 'YEAR_2020', 'YEAR_2021',\n",
        "       'YEAR_2022']\n",
        "# Inference(실제 진단 환경)에 사용하는 컬럼\n",
        "test_stage_features2 = ['ANONYMOUS_1', 'ANONYMOUS_2', 'AG', 'CO', 'CR', 'CU', 'FE', 'H2O', 'MN',\n",
        "       'MO', 'NI', 'PQINDEX', 'TI', 'V', 'V40', 'ZN',\n",
        "       'COMPONENT_ARBITRARY_COMPONENT1', 'COMPONENT_ARBITRARY_COMPONENT2',\n",
        "       'COMPONENT_ARBITRARY_COMPONENT3', 'COMPONENT_ARBITRARY_COMPONENT4',\n",
        "       'YEAR_2007', 'YEAR_2008', 'YEAR_2009', 'YEAR_2010', 'YEAR_2011',\n",
        "       'YEAR_2012', 'YEAR_2013', 'YEAR_2014', 'YEAR_2015', 'YEAR_2016',\n",
        "       'YEAR_2017', 'YEAR_2018', 'YEAR_2019', 'YEAR_2020', 'YEAR_2021',\n",
        "       'YEAR_2022']"
      ]
    },
    {
      "cell_type": "code",
      "execution_count": null,
      "metadata": {
        "id": "_fNkGPGSu4P_"
      },
      "outputs": [],
      "source": [
        "categorical_features = ['COMPONENT_ARBITRARY', 'YEAR']\n",
        "# Inference(실제 진단 환경)에 사용하는 컬럼\n",
        "test_stage_features = ['COMPONENT_ARBITRARY', 'ANONYMOUS_1', 'YEAR' , 'ANONYMOUS_2', 'AG', 'CO', 'CR', 'CU', 'FE', 'H2O', 'MN', 'MO', 'NI', 'PQINDEX', 'TI', 'V', 'V40', 'ZN']"
      ]
    },
    {
      "cell_type": "code",
      "execution_count": null,
      "metadata": {
        "colab": {
          "base_uri": "https://localhost:8080/"
        },
        "id": "SlYGYwvM2ZA1",
        "outputId": "d3fc9c7f-234b-47c1-e21e-198745f3eb2b"
      },
      "outputs": [
        {
          "output_type": "execute_result",
          "data": {
            "text/plain": [
              "Index(['ID', 'COMPONENT_ARBITRARY', 'ANONYMOUS_1', 'YEAR',\n",
              "       'SAMPLE_TRANSFER_DAY', 'ANONYMOUS_2', 'AG', 'AL', 'B', 'BA', 'BE', 'CA',\n",
              "       'CD', 'CO', 'CR', 'CU', 'FH2O', 'FNOX', 'FOPTIMETHGLY', 'FOXID', 'FSO4',\n",
              "       'FTBN', 'FE', 'FUEL', 'H2O', 'K', 'LI', 'MG', 'MN', 'MO', 'NA', 'NI',\n",
              "       'P', 'PB', 'PQINDEX', 'S', 'SB', 'SI', 'SN', 'SOOTPERCENTAGE', 'TI',\n",
              "       'U100', 'U75', 'U50', 'U25', 'U20', 'U14', 'U6', 'U4', 'V', 'V100',\n",
              "       'V40', 'ZN', 'Y_LABEL'],\n",
              "      dtype='object')"
            ]
          },
          "metadata": {},
          "execution_count": 641
        }
      ],
      "source": [
        "train.columns"
      ]
    },
    {
      "cell_type": "markdown",
      "metadata": {
        "id": "fT4y7j-0eFEK"
      },
      "source": [
        "- 전처리"
      ]
    },
    {
      "cell_type": "code",
      "execution_count": null,
      "metadata": {
        "id": "aiEBaRESeDlZ"
      },
      "outputs": [],
      "source": [
        "train = train.fillna(0)\n",
        "test = test.fillna(0)"
      ]
    },
    {
      "cell_type": "code",
      "execution_count": null,
      "metadata": {
        "id": "nOUgB80dyqAj"
      },
      "outputs": [],
      "source": [
        "all_X = train.drop(['ID', 'Y_LABEL'], axis = 1) # 정답값 제외\n",
        "all_y = train['Y_LABEL'] # 정답\n",
        "\n",
        "test = test.drop(['ID'], axis = 1) # 추론 데이터"
      ]
    },
    {
      "cell_type": "code",
      "source": [
        "all_X.columns"
      ],
      "metadata": {
        "colab": {
          "base_uri": "https://localhost:8080/"
        },
        "id": "G9V_uWQ5au_4",
        "outputId": "6304b6c3-bf5b-4a2d-8eaf-af09743c80e5"
      },
      "execution_count": null,
      "outputs": [
        {
          "output_type": "execute_result",
          "data": {
            "text/plain": [
              "Index(['COMPONENT_ARBITRARY', 'ANONYMOUS_1', 'YEAR', 'SAMPLE_TRANSFER_DAY',\n",
              "       'ANONYMOUS_2', 'AG', 'AL', 'B', 'BA', 'BE', 'CA', 'CD', 'CO', 'CR',\n",
              "       'CU', 'FH2O', 'FNOX', 'FOPTIMETHGLY', 'FOXID', 'FSO4', 'FTBN', 'FE',\n",
              "       'FUEL', 'H2O', 'K', 'LI', 'MG', 'MN', 'MO', 'NA', 'NI', 'P', 'PB',\n",
              "       'PQINDEX', 'S', 'SB', 'SI', 'SN', 'SOOTPERCENTAGE', 'TI', 'U100', 'U75',\n",
              "       'U50', 'U25', 'U20', 'U14', 'U6', 'U4', 'V', 'V100', 'V40', 'ZN'],\n",
              "      dtype='object')"
            ]
          },
          "metadata": {},
          "execution_count": 644
        }
      ]
    },
    {
      "cell_type": "markdown",
      "metadata": {
        "id": "svkt974ldhYk"
      },
      "source": [
        "# 원핫인코딩\n",
        "- 레이블 인코딩을 하고 원핫인코딩을 함! get_dummies쓰지마!\n",
        "- 원핫인코딩 전에 할일\n",
        "- 테스트 셋 분리하기 전에 원핫인코딩"
      ]
    },
    {
      "cell_type": "code",
      "source": [
        "enc = OneHotEncoder()\n",
        "\n",
        "tmp = pd.DataFrame(\n",
        "    enc.fit_transform(all_X[categorical_features]).toarray(),\n",
        "    columns = enc.get_feature_names_out()\n",
        ")\n",
        "all_X = pd.concat([all_X,tmp],axis=1).drop(columns = categorical_features)\n",
        "all_X"
      ],
      "metadata": {
        "colab": {
          "base_uri": "https://localhost:8080/",
          "height": 488
        },
        "id": "aL9eF8gkU_rC",
        "outputId": "2551a38d-1caa-492b-a241-4adcffeaa38d"
      },
      "execution_count": null,
      "outputs": [
        {
          "output_type": "execute_result",
          "data": {
            "text/plain": [
              "       ANONYMOUS_1  SAMPLE_TRANSFER_DAY  ANONYMOUS_2  AG   AL    B  BA  BE  \\\n",
              "0             1486                    7          200   0    3   93   0   0   \n",
              "1             1350                   51          375   0    2   19   0   0   \n",
              "2             2415                    2          200   0  110    1   1   0   \n",
              "3             7389                    2          200   0    8    3   0   0   \n",
              "4             3954                    4          200   0    1  157   0   0   \n",
              "...            ...                  ...          ...  ..  ...  ...  ..  ..   \n",
              "14090         1616                    8          200   0    2  201   1   0   \n",
              "14091         2784                    2          200   0    3   85   0   0   \n",
              "14092         1788                    9          550   0    6    0   1   0   \n",
              "14093         2498                   19          550   0    2    4   0   0   \n",
              "14094         1902                   15          200   0    0   77   0   0   \n",
              "\n",
              "         CA   CD  ...  YEAR_2013  YEAR_2014  YEAR_2015  YEAR_2016  YEAR_2017  \\\n",
              "0      3059  0.0  ...        0.0        0.0        0.0        0.0        0.0   \n",
              "1      2978  0.0  ...        0.0        0.0        0.0        0.0        0.0   \n",
              "2        17  0.0  ...        0.0        0.0        1.0        0.0        0.0   \n",
              "3      1960  0.0  ...        0.0        0.0        0.0        0.0        0.0   \n",
              "4        71  0.0  ...        0.0        0.0        1.0        0.0        0.0   \n",
              "...     ...  ...  ...        ...        ...        ...        ...        ...   \n",
              "14090     6  0.0  ...        0.0        1.0        0.0        0.0        0.0   \n",
              "14091  2945  0.0  ...        1.0        0.0        0.0        0.0        0.0   \n",
              "14092    13  0.0  ...        0.0        0.0        0.0        0.0        0.0   \n",
              "14093  2244  0.0  ...        0.0        0.0        0.0        0.0        0.0   \n",
              "14094   494  0.0  ...        0.0        0.0        0.0        0.0        0.0   \n",
              "\n",
              "       YEAR_2018  YEAR_2019  YEAR_2020  YEAR_2021  YEAR_2022  \n",
              "0            0.0        0.0        0.0        0.0        0.0  \n",
              "1            0.0        0.0        0.0        1.0        0.0  \n",
              "2            0.0        0.0        0.0        0.0        0.0  \n",
              "3            0.0        0.0        0.0        0.0        0.0  \n",
              "4            0.0        0.0        0.0        0.0        0.0  \n",
              "...          ...        ...        ...        ...        ...  \n",
              "14090        0.0        0.0        0.0        0.0        0.0  \n",
              "14091        0.0        0.0        0.0        0.0        0.0  \n",
              "14092        0.0        0.0        0.0        0.0        0.0  \n",
              "14093        0.0        0.0        0.0        0.0        0.0  \n",
              "14094        0.0        0.0        0.0        0.0        0.0  \n",
              "\n",
              "[14095 rows x 70 columns]"
            ],
            "text/html": [
              "\n",
              "  <div id=\"df-c65d6d9f-cf73-4f8b-b494-2b89227b9c52\">\n",
              "    <div class=\"colab-df-container\">\n",
              "      <div>\n",
              "<style scoped>\n",
              "    .dataframe tbody tr th:only-of-type {\n",
              "        vertical-align: middle;\n",
              "    }\n",
              "\n",
              "    .dataframe tbody tr th {\n",
              "        vertical-align: top;\n",
              "    }\n",
              "\n",
              "    .dataframe thead th {\n",
              "        text-align: right;\n",
              "    }\n",
              "</style>\n",
              "<table border=\"1\" class=\"dataframe\">\n",
              "  <thead>\n",
              "    <tr style=\"text-align: right;\">\n",
              "      <th></th>\n",
              "      <th>ANONYMOUS_1</th>\n",
              "      <th>SAMPLE_TRANSFER_DAY</th>\n",
              "      <th>ANONYMOUS_2</th>\n",
              "      <th>AG</th>\n",
              "      <th>AL</th>\n",
              "      <th>B</th>\n",
              "      <th>BA</th>\n",
              "      <th>BE</th>\n",
              "      <th>CA</th>\n",
              "      <th>CD</th>\n",
              "      <th>...</th>\n",
              "      <th>YEAR_2013</th>\n",
              "      <th>YEAR_2014</th>\n",
              "      <th>YEAR_2015</th>\n",
              "      <th>YEAR_2016</th>\n",
              "      <th>YEAR_2017</th>\n",
              "      <th>YEAR_2018</th>\n",
              "      <th>YEAR_2019</th>\n",
              "      <th>YEAR_2020</th>\n",
              "      <th>YEAR_2021</th>\n",
              "      <th>YEAR_2022</th>\n",
              "    </tr>\n",
              "  </thead>\n",
              "  <tbody>\n",
              "    <tr>\n",
              "      <th>0</th>\n",
              "      <td>1486</td>\n",
              "      <td>7</td>\n",
              "      <td>200</td>\n",
              "      <td>0</td>\n",
              "      <td>3</td>\n",
              "      <td>93</td>\n",
              "      <td>0</td>\n",
              "      <td>0</td>\n",
              "      <td>3059</td>\n",
              "      <td>0.0</td>\n",
              "      <td>...</td>\n",
              "      <td>0.0</td>\n",
              "      <td>0.0</td>\n",
              "      <td>0.0</td>\n",
              "      <td>0.0</td>\n",
              "      <td>0.0</td>\n",
              "      <td>0.0</td>\n",
              "      <td>0.0</td>\n",
              "      <td>0.0</td>\n",
              "      <td>0.0</td>\n",
              "      <td>0.0</td>\n",
              "    </tr>\n",
              "    <tr>\n",
              "      <th>1</th>\n",
              "      <td>1350</td>\n",
              "      <td>51</td>\n",
              "      <td>375</td>\n",
              "      <td>0</td>\n",
              "      <td>2</td>\n",
              "      <td>19</td>\n",
              "      <td>0</td>\n",
              "      <td>0</td>\n",
              "      <td>2978</td>\n",
              "      <td>0.0</td>\n",
              "      <td>...</td>\n",
              "      <td>0.0</td>\n",
              "      <td>0.0</td>\n",
              "      <td>0.0</td>\n",
              "      <td>0.0</td>\n",
              "      <td>0.0</td>\n",
              "      <td>0.0</td>\n",
              "      <td>0.0</td>\n",
              "      <td>0.0</td>\n",
              "      <td>1.0</td>\n",
              "      <td>0.0</td>\n",
              "    </tr>\n",
              "    <tr>\n",
              "      <th>2</th>\n",
              "      <td>2415</td>\n",
              "      <td>2</td>\n",
              "      <td>200</td>\n",
              "      <td>0</td>\n",
              "      <td>110</td>\n",
              "      <td>1</td>\n",
              "      <td>1</td>\n",
              "      <td>0</td>\n",
              "      <td>17</td>\n",
              "      <td>0.0</td>\n",
              "      <td>...</td>\n",
              "      <td>0.0</td>\n",
              "      <td>0.0</td>\n",
              "      <td>1.0</td>\n",
              "      <td>0.0</td>\n",
              "      <td>0.0</td>\n",
              "      <td>0.0</td>\n",
              "      <td>0.0</td>\n",
              "      <td>0.0</td>\n",
              "      <td>0.0</td>\n",
              "      <td>0.0</td>\n",
              "    </tr>\n",
              "    <tr>\n",
              "      <th>3</th>\n",
              "      <td>7389</td>\n",
              "      <td>2</td>\n",
              "      <td>200</td>\n",
              "      <td>0</td>\n",
              "      <td>8</td>\n",
              "      <td>3</td>\n",
              "      <td>0</td>\n",
              "      <td>0</td>\n",
              "      <td>1960</td>\n",
              "      <td>0.0</td>\n",
              "      <td>...</td>\n",
              "      <td>0.0</td>\n",
              "      <td>0.0</td>\n",
              "      <td>0.0</td>\n",
              "      <td>0.0</td>\n",
              "      <td>0.0</td>\n",
              "      <td>0.0</td>\n",
              "      <td>0.0</td>\n",
              "      <td>0.0</td>\n",
              "      <td>0.0</td>\n",
              "      <td>0.0</td>\n",
              "    </tr>\n",
              "    <tr>\n",
              "      <th>4</th>\n",
              "      <td>3954</td>\n",
              "      <td>4</td>\n",
              "      <td>200</td>\n",
              "      <td>0</td>\n",
              "      <td>1</td>\n",
              "      <td>157</td>\n",
              "      <td>0</td>\n",
              "      <td>0</td>\n",
              "      <td>71</td>\n",
              "      <td>0.0</td>\n",
              "      <td>...</td>\n",
              "      <td>0.0</td>\n",
              "      <td>0.0</td>\n",
              "      <td>1.0</td>\n",
              "      <td>0.0</td>\n",
              "      <td>0.0</td>\n",
              "      <td>0.0</td>\n",
              "      <td>0.0</td>\n",
              "      <td>0.0</td>\n",
              "      <td>0.0</td>\n",
              "      <td>0.0</td>\n",
              "    </tr>\n",
              "    <tr>\n",
              "      <th>...</th>\n",
              "      <td>...</td>\n",
              "      <td>...</td>\n",
              "      <td>...</td>\n",
              "      <td>...</td>\n",
              "      <td>...</td>\n",
              "      <td>...</td>\n",
              "      <td>...</td>\n",
              "      <td>...</td>\n",
              "      <td>...</td>\n",
              "      <td>...</td>\n",
              "      <td>...</td>\n",
              "      <td>...</td>\n",
              "      <td>...</td>\n",
              "      <td>...</td>\n",
              "      <td>...</td>\n",
              "      <td>...</td>\n",
              "      <td>...</td>\n",
              "      <td>...</td>\n",
              "      <td>...</td>\n",
              "      <td>...</td>\n",
              "      <td>...</td>\n",
              "    </tr>\n",
              "    <tr>\n",
              "      <th>14090</th>\n",
              "      <td>1616</td>\n",
              "      <td>8</td>\n",
              "      <td>200</td>\n",
              "      <td>0</td>\n",
              "      <td>2</td>\n",
              "      <td>201</td>\n",
              "      <td>1</td>\n",
              "      <td>0</td>\n",
              "      <td>6</td>\n",
              "      <td>0.0</td>\n",
              "      <td>...</td>\n",
              "      <td>0.0</td>\n",
              "      <td>1.0</td>\n",
              "      <td>0.0</td>\n",
              "      <td>0.0</td>\n",
              "      <td>0.0</td>\n",
              "      <td>0.0</td>\n",
              "      <td>0.0</td>\n",
              "      <td>0.0</td>\n",
              "      <td>0.0</td>\n",
              "      <td>0.0</td>\n",
              "    </tr>\n",
              "    <tr>\n",
              "      <th>14091</th>\n",
              "      <td>2784</td>\n",
              "      <td>2</td>\n",
              "      <td>200</td>\n",
              "      <td>0</td>\n",
              "      <td>3</td>\n",
              "      <td>85</td>\n",
              "      <td>0</td>\n",
              "      <td>0</td>\n",
              "      <td>2945</td>\n",
              "      <td>0.0</td>\n",
              "      <td>...</td>\n",
              "      <td>1.0</td>\n",
              "      <td>0.0</td>\n",
              "      <td>0.0</td>\n",
              "      <td>0.0</td>\n",
              "      <td>0.0</td>\n",
              "      <td>0.0</td>\n",
              "      <td>0.0</td>\n",
              "      <td>0.0</td>\n",
              "      <td>0.0</td>\n",
              "      <td>0.0</td>\n",
              "    </tr>\n",
              "    <tr>\n",
              "      <th>14092</th>\n",
              "      <td>1788</td>\n",
              "      <td>9</td>\n",
              "      <td>550</td>\n",
              "      <td>0</td>\n",
              "      <td>6</td>\n",
              "      <td>0</td>\n",
              "      <td>1</td>\n",
              "      <td>0</td>\n",
              "      <td>13</td>\n",
              "      <td>0.0</td>\n",
              "      <td>...</td>\n",
              "      <td>0.0</td>\n",
              "      <td>0.0</td>\n",
              "      <td>0.0</td>\n",
              "      <td>0.0</td>\n",
              "      <td>0.0</td>\n",
              "      <td>0.0</td>\n",
              "      <td>0.0</td>\n",
              "      <td>0.0</td>\n",
              "      <td>0.0</td>\n",
              "      <td>0.0</td>\n",
              "    </tr>\n",
              "    <tr>\n",
              "      <th>14093</th>\n",
              "      <td>2498</td>\n",
              "      <td>19</td>\n",
              "      <td>550</td>\n",
              "      <td>0</td>\n",
              "      <td>2</td>\n",
              "      <td>4</td>\n",
              "      <td>0</td>\n",
              "      <td>0</td>\n",
              "      <td>2244</td>\n",
              "      <td>0.0</td>\n",
              "      <td>...</td>\n",
              "      <td>0.0</td>\n",
              "      <td>0.0</td>\n",
              "      <td>0.0</td>\n",
              "      <td>0.0</td>\n",
              "      <td>0.0</td>\n",
              "      <td>0.0</td>\n",
              "      <td>0.0</td>\n",
              "      <td>0.0</td>\n",
              "      <td>0.0</td>\n",
              "      <td>0.0</td>\n",
              "    </tr>\n",
              "    <tr>\n",
              "      <th>14094</th>\n",
              "      <td>1902</td>\n",
              "      <td>15</td>\n",
              "      <td>200</td>\n",
              "      <td>0</td>\n",
              "      <td>0</td>\n",
              "      <td>77</td>\n",
              "      <td>0</td>\n",
              "      <td>0</td>\n",
              "      <td>494</td>\n",
              "      <td>0.0</td>\n",
              "      <td>...</td>\n",
              "      <td>0.0</td>\n",
              "      <td>0.0</td>\n",
              "      <td>0.0</td>\n",
              "      <td>0.0</td>\n",
              "      <td>0.0</td>\n",
              "      <td>0.0</td>\n",
              "      <td>0.0</td>\n",
              "      <td>0.0</td>\n",
              "      <td>0.0</td>\n",
              "      <td>0.0</td>\n",
              "    </tr>\n",
              "  </tbody>\n",
              "</table>\n",
              "<p>14095 rows × 70 columns</p>\n",
              "</div>\n",
              "      <button class=\"colab-df-convert\" onclick=\"convertToInteractive('df-c65d6d9f-cf73-4f8b-b494-2b89227b9c52')\"\n",
              "              title=\"Convert this dataframe to an interactive table.\"\n",
              "              style=\"display:none;\">\n",
              "        \n",
              "  <svg xmlns=\"http://www.w3.org/2000/svg\" height=\"24px\"viewBox=\"0 0 24 24\"\n",
              "       width=\"24px\">\n",
              "    <path d=\"M0 0h24v24H0V0z\" fill=\"none\"/>\n",
              "    <path d=\"M18.56 5.44l.94 2.06.94-2.06 2.06-.94-2.06-.94-.94-2.06-.94 2.06-2.06.94zm-11 1L8.5 8.5l.94-2.06 2.06-.94-2.06-.94L8.5 2.5l-.94 2.06-2.06.94zm10 10l.94 2.06.94-2.06 2.06-.94-2.06-.94-.94-2.06-.94 2.06-2.06.94z\"/><path d=\"M17.41 7.96l-1.37-1.37c-.4-.4-.92-.59-1.43-.59-.52 0-1.04.2-1.43.59L10.3 9.45l-7.72 7.72c-.78.78-.78 2.05 0 2.83L4 21.41c.39.39.9.59 1.41.59.51 0 1.02-.2 1.41-.59l7.78-7.78 2.81-2.81c.8-.78.8-2.07 0-2.86zM5.41 20L4 18.59l7.72-7.72 1.47 1.35L5.41 20z\"/>\n",
              "  </svg>\n",
              "      </button>\n",
              "      \n",
              "  <style>\n",
              "    .colab-df-container {\n",
              "      display:flex;\n",
              "      flex-wrap:wrap;\n",
              "      gap: 12px;\n",
              "    }\n",
              "\n",
              "    .colab-df-convert {\n",
              "      background-color: #E8F0FE;\n",
              "      border: none;\n",
              "      border-radius: 50%;\n",
              "      cursor: pointer;\n",
              "      display: none;\n",
              "      fill: #1967D2;\n",
              "      height: 32px;\n",
              "      padding: 0 0 0 0;\n",
              "      width: 32px;\n",
              "    }\n",
              "\n",
              "    .colab-df-convert:hover {\n",
              "      background-color: #E2EBFA;\n",
              "      box-shadow: 0px 1px 2px rgba(60, 64, 67, 0.3), 0px 1px 3px 1px rgba(60, 64, 67, 0.15);\n",
              "      fill: #174EA6;\n",
              "    }\n",
              "\n",
              "    [theme=dark] .colab-df-convert {\n",
              "      background-color: #3B4455;\n",
              "      fill: #D2E3FC;\n",
              "    }\n",
              "\n",
              "    [theme=dark] .colab-df-convert:hover {\n",
              "      background-color: #434B5C;\n",
              "      box-shadow: 0px 1px 3px 1px rgba(0, 0, 0, 0.15);\n",
              "      filter: drop-shadow(0px 1px 2px rgba(0, 0, 0, 0.3));\n",
              "      fill: #FFFFFF;\n",
              "    }\n",
              "  </style>\n",
              "\n",
              "      <script>\n",
              "        const buttonEl =\n",
              "          document.querySelector('#df-c65d6d9f-cf73-4f8b-b494-2b89227b9c52 button.colab-df-convert');\n",
              "        buttonEl.style.display =\n",
              "          google.colab.kernel.accessAllowed ? 'block' : 'none';\n",
              "\n",
              "        async function convertToInteractive(key) {\n",
              "          const element = document.querySelector('#df-c65d6d9f-cf73-4f8b-b494-2b89227b9c52');\n",
              "          const dataTable =\n",
              "            await google.colab.kernel.invokeFunction('convertToInteractive',\n",
              "                                                     [key], {});\n",
              "          if (!dataTable) return;\n",
              "\n",
              "          const docLinkHtml = 'Like what you see? Visit the ' +\n",
              "            '<a target=\"_blank\" href=https://colab.research.google.com/notebooks/data_table.ipynb>data table notebook</a>'\n",
              "            + ' to learn more about interactive tables.';\n",
              "          element.innerHTML = '';\n",
              "          dataTable['output_type'] = 'display_data';\n",
              "          await google.colab.output.renderOutput(dataTable, element);\n",
              "          const docLink = document.createElement('div');\n",
              "          docLink.innerHTML = docLinkHtml;\n",
              "          element.appendChild(docLink);\n",
              "        }\n",
              "      </script>\n",
              "    </div>\n",
              "  </div>\n",
              "  "
            ]
          },
          "metadata": {},
          "execution_count": 645
        }
      ]
    },
    {
      "cell_type": "code",
      "source": [
        "tmp1 = pd.DataFrame(\n",
        "    enc.transform(test[categorical_features]).toarray(),\n",
        "    columns = enc.get_feature_names_out()\n",
        ")\n",
        "test = pd.concat([test,tmp1],axis=1).drop(columns = categorical_features)\n",
        "test"
      ],
      "metadata": {
        "colab": {
          "base_uri": "https://localhost:8080/",
          "height": 488
        },
        "id": "T5IpTnZpbTo0",
        "outputId": "c72f3546-1e95-4a42-bd54-606b5745f969"
      },
      "execution_count": null,
      "outputs": [
        {
          "output_type": "execute_result",
          "data": {
            "text/plain": [
              "      ANONYMOUS_1  ANONYMOUS_2  AG  CO  CR   CU    FE  H2O  MN  MO  ...  \\\n",
              "0            2192          200   0   0   0    1    12  0.0   0   0  ...   \n",
              "1            2794          200   0   0   2    1   278  0.0   3   0  ...   \n",
              "2            1982          200   0   0   0   16     5  0.0   0   0  ...   \n",
              "3            1404          200   0   0   3    4   163  0.0   4   3  ...   \n",
              "4            8225          200   0   0   0    6    13  0.0   0   0  ...   \n",
              "...           ...          ...  ..  ..  ..  ...   ...  ...  ..  ..  ...   \n",
              "6036         1714          200   0   0   3  130  1047  0.0  65   5  ...   \n",
              "6037         4131          200   0   0   5    2   736  0.0   5   0  ...   \n",
              "6038         4325          200   0   0   0    0    53  0.0   0   0  ...   \n",
              "6039         1364          200   0   0   0   62     2  0.0   0   0  ...   \n",
              "6040         2397         1597   1   0   0    0     4  0.0   0   2  ...   \n",
              "\n",
              "      YEAR_2013  YEAR_2014  YEAR_2015  YEAR_2016  YEAR_2017  YEAR_2018  \\\n",
              "0           0.0        0.0        0.0        1.0        0.0        0.0   \n",
              "1           0.0        0.0        0.0        0.0        0.0        0.0   \n",
              "2           0.0        0.0        0.0        0.0        0.0        0.0   \n",
              "3           0.0        0.0        0.0        0.0        0.0        0.0   \n",
              "4           1.0        0.0        0.0        0.0        0.0        0.0   \n",
              "...         ...        ...        ...        ...        ...        ...   \n",
              "6036        0.0        1.0        0.0        0.0        0.0        0.0   \n",
              "6037        0.0        0.0        0.0        1.0        0.0        0.0   \n",
              "6038        0.0        1.0        0.0        0.0        0.0        0.0   \n",
              "6039        1.0        0.0        0.0        0.0        0.0        0.0   \n",
              "6040        0.0        0.0        0.0        1.0        0.0        0.0   \n",
              "\n",
              "      YEAR_2019  YEAR_2020  YEAR_2021  YEAR_2022  \n",
              "0           0.0        0.0        0.0        0.0  \n",
              "1           0.0        0.0        0.0        0.0  \n",
              "2           0.0        0.0        0.0        0.0  \n",
              "3           0.0        0.0        0.0        0.0  \n",
              "4           0.0        0.0        0.0        0.0  \n",
              "...         ...        ...        ...        ...  \n",
              "6036        0.0        0.0        0.0        0.0  \n",
              "6037        0.0        0.0        0.0        0.0  \n",
              "6038        0.0        0.0        0.0        0.0  \n",
              "6039        0.0        0.0        0.0        0.0  \n",
              "6040        0.0        0.0        0.0        0.0  \n",
              "\n",
              "[6041 rows x 36 columns]"
            ],
            "text/html": [
              "\n",
              "  <div id=\"df-dce58173-6368-4b9b-a735-66496afecf12\">\n",
              "    <div class=\"colab-df-container\">\n",
              "      <div>\n",
              "<style scoped>\n",
              "    .dataframe tbody tr th:only-of-type {\n",
              "        vertical-align: middle;\n",
              "    }\n",
              "\n",
              "    .dataframe tbody tr th {\n",
              "        vertical-align: top;\n",
              "    }\n",
              "\n",
              "    .dataframe thead th {\n",
              "        text-align: right;\n",
              "    }\n",
              "</style>\n",
              "<table border=\"1\" class=\"dataframe\">\n",
              "  <thead>\n",
              "    <tr style=\"text-align: right;\">\n",
              "      <th></th>\n",
              "      <th>ANONYMOUS_1</th>\n",
              "      <th>ANONYMOUS_2</th>\n",
              "      <th>AG</th>\n",
              "      <th>CO</th>\n",
              "      <th>CR</th>\n",
              "      <th>CU</th>\n",
              "      <th>FE</th>\n",
              "      <th>H2O</th>\n",
              "      <th>MN</th>\n",
              "      <th>MO</th>\n",
              "      <th>...</th>\n",
              "      <th>YEAR_2013</th>\n",
              "      <th>YEAR_2014</th>\n",
              "      <th>YEAR_2015</th>\n",
              "      <th>YEAR_2016</th>\n",
              "      <th>YEAR_2017</th>\n",
              "      <th>YEAR_2018</th>\n",
              "      <th>YEAR_2019</th>\n",
              "      <th>YEAR_2020</th>\n",
              "      <th>YEAR_2021</th>\n",
              "      <th>YEAR_2022</th>\n",
              "    </tr>\n",
              "  </thead>\n",
              "  <tbody>\n",
              "    <tr>\n",
              "      <th>0</th>\n",
              "      <td>2192</td>\n",
              "      <td>200</td>\n",
              "      <td>0</td>\n",
              "      <td>0</td>\n",
              "      <td>0</td>\n",
              "      <td>1</td>\n",
              "      <td>12</td>\n",
              "      <td>0.0</td>\n",
              "      <td>0</td>\n",
              "      <td>0</td>\n",
              "      <td>...</td>\n",
              "      <td>0.0</td>\n",
              "      <td>0.0</td>\n",
              "      <td>0.0</td>\n",
              "      <td>1.0</td>\n",
              "      <td>0.0</td>\n",
              "      <td>0.0</td>\n",
              "      <td>0.0</td>\n",
              "      <td>0.0</td>\n",
              "      <td>0.0</td>\n",
              "      <td>0.0</td>\n",
              "    </tr>\n",
              "    <tr>\n",
              "      <th>1</th>\n",
              "      <td>2794</td>\n",
              "      <td>200</td>\n",
              "      <td>0</td>\n",
              "      <td>0</td>\n",
              "      <td>2</td>\n",
              "      <td>1</td>\n",
              "      <td>278</td>\n",
              "      <td>0.0</td>\n",
              "      <td>3</td>\n",
              "      <td>0</td>\n",
              "      <td>...</td>\n",
              "      <td>0.0</td>\n",
              "      <td>0.0</td>\n",
              "      <td>0.0</td>\n",
              "      <td>0.0</td>\n",
              "      <td>0.0</td>\n",
              "      <td>0.0</td>\n",
              "      <td>0.0</td>\n",
              "      <td>0.0</td>\n",
              "      <td>0.0</td>\n",
              "      <td>0.0</td>\n",
              "    </tr>\n",
              "    <tr>\n",
              "      <th>2</th>\n",
              "      <td>1982</td>\n",
              "      <td>200</td>\n",
              "      <td>0</td>\n",
              "      <td>0</td>\n",
              "      <td>0</td>\n",
              "      <td>16</td>\n",
              "      <td>5</td>\n",
              "      <td>0.0</td>\n",
              "      <td>0</td>\n",
              "      <td>0</td>\n",
              "      <td>...</td>\n",
              "      <td>0.0</td>\n",
              "      <td>0.0</td>\n",
              "      <td>0.0</td>\n",
              "      <td>0.0</td>\n",
              "      <td>0.0</td>\n",
              "      <td>0.0</td>\n",
              "      <td>0.0</td>\n",
              "      <td>0.0</td>\n",
              "      <td>0.0</td>\n",
              "      <td>0.0</td>\n",
              "    </tr>\n",
              "    <tr>\n",
              "      <th>3</th>\n",
              "      <td>1404</td>\n",
              "      <td>200</td>\n",
              "      <td>0</td>\n",
              "      <td>0</td>\n",
              "      <td>3</td>\n",
              "      <td>4</td>\n",
              "      <td>163</td>\n",
              "      <td>0.0</td>\n",
              "      <td>4</td>\n",
              "      <td>3</td>\n",
              "      <td>...</td>\n",
              "      <td>0.0</td>\n",
              "      <td>0.0</td>\n",
              "      <td>0.0</td>\n",
              "      <td>0.0</td>\n",
              "      <td>0.0</td>\n",
              "      <td>0.0</td>\n",
              "      <td>0.0</td>\n",
              "      <td>0.0</td>\n",
              "      <td>0.0</td>\n",
              "      <td>0.0</td>\n",
              "    </tr>\n",
              "    <tr>\n",
              "      <th>4</th>\n",
              "      <td>8225</td>\n",
              "      <td>200</td>\n",
              "      <td>0</td>\n",
              "      <td>0</td>\n",
              "      <td>0</td>\n",
              "      <td>6</td>\n",
              "      <td>13</td>\n",
              "      <td>0.0</td>\n",
              "      <td>0</td>\n",
              "      <td>0</td>\n",
              "      <td>...</td>\n",
              "      <td>1.0</td>\n",
              "      <td>0.0</td>\n",
              "      <td>0.0</td>\n",
              "      <td>0.0</td>\n",
              "      <td>0.0</td>\n",
              "      <td>0.0</td>\n",
              "      <td>0.0</td>\n",
              "      <td>0.0</td>\n",
              "      <td>0.0</td>\n",
              "      <td>0.0</td>\n",
              "    </tr>\n",
              "    <tr>\n",
              "      <th>...</th>\n",
              "      <td>...</td>\n",
              "      <td>...</td>\n",
              "      <td>...</td>\n",
              "      <td>...</td>\n",
              "      <td>...</td>\n",
              "      <td>...</td>\n",
              "      <td>...</td>\n",
              "      <td>...</td>\n",
              "      <td>...</td>\n",
              "      <td>...</td>\n",
              "      <td>...</td>\n",
              "      <td>...</td>\n",
              "      <td>...</td>\n",
              "      <td>...</td>\n",
              "      <td>...</td>\n",
              "      <td>...</td>\n",
              "      <td>...</td>\n",
              "      <td>...</td>\n",
              "      <td>...</td>\n",
              "      <td>...</td>\n",
              "      <td>...</td>\n",
              "    </tr>\n",
              "    <tr>\n",
              "      <th>6036</th>\n",
              "      <td>1714</td>\n",
              "      <td>200</td>\n",
              "      <td>0</td>\n",
              "      <td>0</td>\n",
              "      <td>3</td>\n",
              "      <td>130</td>\n",
              "      <td>1047</td>\n",
              "      <td>0.0</td>\n",
              "      <td>65</td>\n",
              "      <td>5</td>\n",
              "      <td>...</td>\n",
              "      <td>0.0</td>\n",
              "      <td>1.0</td>\n",
              "      <td>0.0</td>\n",
              "      <td>0.0</td>\n",
              "      <td>0.0</td>\n",
              "      <td>0.0</td>\n",
              "      <td>0.0</td>\n",
              "      <td>0.0</td>\n",
              "      <td>0.0</td>\n",
              "      <td>0.0</td>\n",
              "    </tr>\n",
              "    <tr>\n",
              "      <th>6037</th>\n",
              "      <td>4131</td>\n",
              "      <td>200</td>\n",
              "      <td>0</td>\n",
              "      <td>0</td>\n",
              "      <td>5</td>\n",
              "      <td>2</td>\n",
              "      <td>736</td>\n",
              "      <td>0.0</td>\n",
              "      <td>5</td>\n",
              "      <td>0</td>\n",
              "      <td>...</td>\n",
              "      <td>0.0</td>\n",
              "      <td>0.0</td>\n",
              "      <td>0.0</td>\n",
              "      <td>1.0</td>\n",
              "      <td>0.0</td>\n",
              "      <td>0.0</td>\n",
              "      <td>0.0</td>\n",
              "      <td>0.0</td>\n",
              "      <td>0.0</td>\n",
              "      <td>0.0</td>\n",
              "    </tr>\n",
              "    <tr>\n",
              "      <th>6038</th>\n",
              "      <td>4325</td>\n",
              "      <td>200</td>\n",
              "      <td>0</td>\n",
              "      <td>0</td>\n",
              "      <td>0</td>\n",
              "      <td>0</td>\n",
              "      <td>53</td>\n",
              "      <td>0.0</td>\n",
              "      <td>0</td>\n",
              "      <td>0</td>\n",
              "      <td>...</td>\n",
              "      <td>0.0</td>\n",
              "      <td>1.0</td>\n",
              "      <td>0.0</td>\n",
              "      <td>0.0</td>\n",
              "      <td>0.0</td>\n",
              "      <td>0.0</td>\n",
              "      <td>0.0</td>\n",
              "      <td>0.0</td>\n",
              "      <td>0.0</td>\n",
              "      <td>0.0</td>\n",
              "    </tr>\n",
              "    <tr>\n",
              "      <th>6039</th>\n",
              "      <td>1364</td>\n",
              "      <td>200</td>\n",
              "      <td>0</td>\n",
              "      <td>0</td>\n",
              "      <td>0</td>\n",
              "      <td>62</td>\n",
              "      <td>2</td>\n",
              "      <td>0.0</td>\n",
              "      <td>0</td>\n",
              "      <td>0</td>\n",
              "      <td>...</td>\n",
              "      <td>1.0</td>\n",
              "      <td>0.0</td>\n",
              "      <td>0.0</td>\n",
              "      <td>0.0</td>\n",
              "      <td>0.0</td>\n",
              "      <td>0.0</td>\n",
              "      <td>0.0</td>\n",
              "      <td>0.0</td>\n",
              "      <td>0.0</td>\n",
              "      <td>0.0</td>\n",
              "    </tr>\n",
              "    <tr>\n",
              "      <th>6040</th>\n",
              "      <td>2397</td>\n",
              "      <td>1597</td>\n",
              "      <td>1</td>\n",
              "      <td>0</td>\n",
              "      <td>0</td>\n",
              "      <td>0</td>\n",
              "      <td>4</td>\n",
              "      <td>0.0</td>\n",
              "      <td>0</td>\n",
              "      <td>2</td>\n",
              "      <td>...</td>\n",
              "      <td>0.0</td>\n",
              "      <td>0.0</td>\n",
              "      <td>0.0</td>\n",
              "      <td>1.0</td>\n",
              "      <td>0.0</td>\n",
              "      <td>0.0</td>\n",
              "      <td>0.0</td>\n",
              "      <td>0.0</td>\n",
              "      <td>0.0</td>\n",
              "      <td>0.0</td>\n",
              "    </tr>\n",
              "  </tbody>\n",
              "</table>\n",
              "<p>6041 rows × 36 columns</p>\n",
              "</div>\n",
              "      <button class=\"colab-df-convert\" onclick=\"convertToInteractive('df-dce58173-6368-4b9b-a735-66496afecf12')\"\n",
              "              title=\"Convert this dataframe to an interactive table.\"\n",
              "              style=\"display:none;\">\n",
              "        \n",
              "  <svg xmlns=\"http://www.w3.org/2000/svg\" height=\"24px\"viewBox=\"0 0 24 24\"\n",
              "       width=\"24px\">\n",
              "    <path d=\"M0 0h24v24H0V0z\" fill=\"none\"/>\n",
              "    <path d=\"M18.56 5.44l.94 2.06.94-2.06 2.06-.94-2.06-.94-.94-2.06-.94 2.06-2.06.94zm-11 1L8.5 8.5l.94-2.06 2.06-.94-2.06-.94L8.5 2.5l-.94 2.06-2.06.94zm10 10l.94 2.06.94-2.06 2.06-.94-2.06-.94-.94-2.06-.94 2.06-2.06.94z\"/><path d=\"M17.41 7.96l-1.37-1.37c-.4-.4-.92-.59-1.43-.59-.52 0-1.04.2-1.43.59L10.3 9.45l-7.72 7.72c-.78.78-.78 2.05 0 2.83L4 21.41c.39.39.9.59 1.41.59.51 0 1.02-.2 1.41-.59l7.78-7.78 2.81-2.81c.8-.78.8-2.07 0-2.86zM5.41 20L4 18.59l7.72-7.72 1.47 1.35L5.41 20z\"/>\n",
              "  </svg>\n",
              "      </button>\n",
              "      \n",
              "  <style>\n",
              "    .colab-df-container {\n",
              "      display:flex;\n",
              "      flex-wrap:wrap;\n",
              "      gap: 12px;\n",
              "    }\n",
              "\n",
              "    .colab-df-convert {\n",
              "      background-color: #E8F0FE;\n",
              "      border: none;\n",
              "      border-radius: 50%;\n",
              "      cursor: pointer;\n",
              "      display: none;\n",
              "      fill: #1967D2;\n",
              "      height: 32px;\n",
              "      padding: 0 0 0 0;\n",
              "      width: 32px;\n",
              "    }\n",
              "\n",
              "    .colab-df-convert:hover {\n",
              "      background-color: #E2EBFA;\n",
              "      box-shadow: 0px 1px 2px rgba(60, 64, 67, 0.3), 0px 1px 3px 1px rgba(60, 64, 67, 0.15);\n",
              "      fill: #174EA6;\n",
              "    }\n",
              "\n",
              "    [theme=dark] .colab-df-convert {\n",
              "      background-color: #3B4455;\n",
              "      fill: #D2E3FC;\n",
              "    }\n",
              "\n",
              "    [theme=dark] .colab-df-convert:hover {\n",
              "      background-color: #434B5C;\n",
              "      box-shadow: 0px 1px 3px 1px rgba(0, 0, 0, 0.15);\n",
              "      filter: drop-shadow(0px 1px 2px rgba(0, 0, 0, 0.3));\n",
              "      fill: #FFFFFF;\n",
              "    }\n",
              "  </style>\n",
              "\n",
              "      <script>\n",
              "        const buttonEl =\n",
              "          document.querySelector('#df-dce58173-6368-4b9b-a735-66496afecf12 button.colab-df-convert');\n",
              "        buttonEl.style.display =\n",
              "          google.colab.kernel.accessAllowed ? 'block' : 'none';\n",
              "\n",
              "        async function convertToInteractive(key) {\n",
              "          const element = document.querySelector('#df-dce58173-6368-4b9b-a735-66496afecf12');\n",
              "          const dataTable =\n",
              "            await google.colab.kernel.invokeFunction('convertToInteractive',\n",
              "                                                     [key], {});\n",
              "          if (!dataTable) return;\n",
              "\n",
              "          const docLinkHtml = 'Like what you see? Visit the ' +\n",
              "            '<a target=\"_blank\" href=https://colab.research.google.com/notebooks/data_table.ipynb>data table notebook</a>'\n",
              "            + ' to learn more about interactive tables.';\n",
              "          element.innerHTML = '';\n",
              "          dataTable['output_type'] = 'display_data';\n",
              "          await google.colab.output.renderOutput(dataTable, element);\n",
              "          const docLink = document.createElement('div');\n",
              "          docLink.innerHTML = docLinkHtml;\n",
              "          element.appendChild(docLink);\n",
              "        }\n",
              "      </script>\n",
              "    </div>\n",
              "  </div>\n",
              "  "
            ]
          },
          "metadata": {},
          "execution_count": 646
        }
      ]
    },
    {
      "cell_type": "code",
      "source": [
        "all_X.shape,all_y.shape,test.shape"
      ],
      "metadata": {
        "colab": {
          "base_uri": "https://localhost:8080/"
        },
        "id": "d-6dOU_qdUki",
        "outputId": "3880cadf-1014-43e5-afa0-f0ee36a9b5d1"
      },
      "execution_count": null,
      "outputs": [
        {
          "output_type": "execute_result",
          "data": {
            "text/plain": [
              "((14095, 70), (14095,), (6041, 36))"
            ]
          },
          "metadata": {},
          "execution_count": 647
        }
      ]
    },
    {
      "cell_type": "code",
      "source": [
        "train_X, val_X, train_y, val_y = train_test_split(all_X, all_y, test_size=0.2, random_state=CFG['SEED'], stratify=all_y)\n",
        "train_X.shape, val_X.shape, train_y.shape, val_y.shape"
      ],
      "metadata": {
        "colab": {
          "base_uri": "https://localhost:8080/"
        },
        "id": "oJ9YV12sjWVE",
        "outputId": "da57ef69-2692-40b2-8eff-52c9372d822c"
      },
      "execution_count": null,
      "outputs": [
        {
          "output_type": "execute_result",
          "data": {
            "text/plain": [
              "((11276, 70), (2819, 70), (11276,), (2819,))"
            ]
          },
          "metadata": {},
          "execution_count": 648
        }
      ]
    },
    {
      "cell_type": "markdown",
      "metadata": {
        "id": "ne57xpNZdoIf"
      },
      "source": [
        "# 스케일링"
      ]
    },
    {
      "cell_type": "code",
      "execution_count": null,
      "metadata": {
        "id": "uBVpIfnBlG6a"
      },
      "outputs": [],
      "source": [
        "def get_values(value):\n",
        "    return value.values.reshape(-1, 1)\n",
        "\n",
        "for col in train_X.columns:\n",
        "    if col not in categorical_features:\n",
        "        scaler = StandardScaler()\n",
        "        train_X[col] = scaler.fit_transform(get_values(train_X[col]))\n",
        "        val_X[col] = scaler.transform(get_values(val_X[col]))\n",
        "        if col in test.columns:\n",
        "            test[col] = scaler.transform(get_values(test[col]))"
      ]
    },
    {
      "cell_type": "markdown",
      "source": [
        "# 데이터 셋"
      ],
      "metadata": {
        "id": "HQpy2CU7jkWc"
      }
    },
    {
      "cell_type": "code",
      "source": [
        "# class OilDataset(torch.utils.data.Dataset):\n",
        "#     def __init__(self,x,y=None, distillation=False):\n",
        "#         super(OilDataset,self).__init()\n",
        "#         self.x = x\n",
        "#         self.y = y\n",
        "#         self.distillation = distillation\n",
        "\n",
        "#     def __len__(self):\n",
        "#         return self.x.shape[0]\n",
        "\n",
        "#     def __getitem__(self,idx):\n",
        "#         if self.distillation:\n",
        "#         item = {}\n",
        "#         item[\"x\"] = torch.Tensor(self.x.iloc[idx])\n",
        "#             if self.y is not None:\n",
        "#                 item[\"z\"] = self.y.values[idx]\n",
        "#         return item"
      ],
      "metadata": {
        "id": "7SCMLUH66zFc"
      },
      "execution_count": null,
      "outputs": []
    },
    {
      "cell_type": "code",
      "source": [
        "# class OilDataset(torch.utils.data.Dataset):\n",
        "#     def __init__(self,x,y=None, distillation=False):\n",
        "#         super(OilDataset,self).__init()\n",
        "#         self.x = x\n",
        "#         self.y = y\n",
        "#         self.distillation = distillation\n",
        "\n",
        "#     def __len__(self):\n",
        "#         return self.x.shape[0]\n",
        "\n",
        "#     def __getitem__(self,idx):\n",
        "#         if self.distillation:\n",
        "#             teacher_X  = torch.Tensor(self.x.iloc[idx])\n",
        "#             student_X = torch.Tensor(self.x[test_stage_features].iloc[idx])\n",
        "#             if self.y is not None:\n",
        "#                 y = self.y.values[idx]\n",
        "#             return teacher_X,student_X,y\n",
        "#         else:\n",
        "#             if self.y is None:\n",
        "#                 test_X = torch.Tensor(self.x.iloc[idx])\n",
        "#                 return test_X\n",
        "#             else:\n",
        "#                 teacher_X  = torch.Tensor(self.x.iloc[idx])\n",
        "#                 y = self.y.values[idx]\n",
        "#                 return teacher_X,y\n",
        "#         return item"
      ],
      "metadata": {
        "id": "VFOs8SkUKZ-V"
      },
      "execution_count": null,
      "outputs": []
    },
    {
      "cell_type": "code",
      "execution_count": null,
      "metadata": {
        "id": "pczU-kT6y5pB"
      },
      "outputs": [],
      "source": [
        "class CustomDataset(Dataset):\n",
        "    def __init__(self, data_X, data_y, distillation=False):\n",
        "        super(CustomDataset, self).__init__()\n",
        "        self.data_X = data_X\n",
        "        self.data_y = data_y\n",
        "        self.distillation = distillation\n",
        "        \n",
        "    def __len__(self):\n",
        "        return len(self.data_X)\n",
        "    \n",
        "    def __getitem__(self, index):\n",
        "        if self.distillation:\n",
        "            # 지식 증류 학습 시\n",
        "            teacher_X = torch.Tensor(self.data_X.iloc[index])\n",
        "            student_X = torch.Tensor(self.data_X[test_stage_features].iloc[index])\n",
        "            y = torch.Tensor([self.data_y.values[index]])\n",
        "            return teacher_X, student_X, y\n",
        "        else:\n",
        "            if self.data_y is None:\n",
        "                test_X = torch.Tensor(self.data_X.iloc[index])\n",
        "                return test_X\n",
        "            else:\n",
        "                teacher_X = torch.Tensor(self.data_X.iloc[index])\n",
        "                y = torch.Tensor([self.data_y.values[index]])\n",
        "                return teacher_X, y"
      ]
    },
    {
      "cell_type": "code",
      "execution_count": null,
      "metadata": {
        "id": "zugFarUGe4sf"
      },
      "outputs": [],
      "source": [
        "train_dataset = CustomDataset(train_X, train_y,False)\n",
        "val_dataset = CustomDataset(val_X, val_y,False)"
      ]
    },
    {
      "cell_type": "code",
      "source": [
        "train_dataset[0]"
      ],
      "metadata": {
        "colab": {
          "base_uri": "https://localhost:8080/"
        },
        "id": "EjZBRIZG5Qfx",
        "outputId": "fda0a6ac-17db-4cd2-c3d2-3025548f0fa7"
      },
      "execution_count": null,
      "outputs": [
        {
          "output_type": "execute_result",
          "data": {
            "text/plain": [
              "(tensor([ 0.0669, -0.2194, -0.3408, -0.1499, -0.1096,  0.4295, -0.3082, -0.0407,\n",
              "          1.1846, -0.0626, -0.1179, -0.0117, -0.2461, -0.3737, -0.5897, -0.3583,\n",
              "         -0.5867, -0.6070, -0.6081, -0.1256, -0.1072, -0.0425, -0.1360, -0.1081,\n",
              "         -0.2854,  0.0225, -0.4020,  0.6670, -0.1931,  2.7174,  1.5117,  0.2159,\n",
              "          2.3507, -0.1908, -0.1130, -0.2369, -0.3854, -0.0980, -0.0840, -0.1138,\n",
              "         -0.0714, -0.1174, -0.1217, -0.1280, -0.1222, -0.1631, -0.1056, -0.5973,\n",
              "          0.6409, -1.0692, -0.6181, -0.4416,  1.0004, -0.2539, -0.1560, -0.3336,\n",
              "         -0.2685, -0.2519, -0.2942, -0.2859, -0.3054, -0.3336, -0.2966,  3.7383,\n",
              "         -0.2631, -0.2606, -0.2201, -0.1642, -0.1890, -0.1622]), tensor([0.]))"
            ]
          },
          "metadata": {},
          "execution_count": 654
        }
      ]
    },
    {
      "cell_type": "code",
      "source": [
        "train_dl = torch.utils.data.DataLoader(train_dataset,batch_size=2,shuffle=False)\n",
        "next(iter(train_dl))"
      ],
      "metadata": {
        "colab": {
          "base_uri": "https://localhost:8080/"
        },
        "id": "Za4s6Ao24ToJ",
        "outputId": "820deba0-6084-4b9b-d4b3-0552c7dada62"
      },
      "execution_count": null,
      "outputs": [
        {
          "output_type": "execute_result",
          "data": {
            "text/plain": [
              "[tensor([[ 0.0669, -0.2194, -0.3408, -0.1499, -0.1096,  0.4295, -0.3082, -0.0407,\n",
              "           1.1846, -0.0626, -0.1179, -0.0117, -0.2461, -0.3737, -0.5897, -0.3583,\n",
              "          -0.5867, -0.6070, -0.6081, -0.1256, -0.1072, -0.0425, -0.1360, -0.1081,\n",
              "          -0.2854,  0.0225, -0.4020,  0.6670, -0.1931,  2.7174,  1.5117,  0.2159,\n",
              "           2.3507, -0.1908, -0.1130, -0.2369, -0.3854, -0.0980, -0.0840, -0.1138,\n",
              "          -0.0714, -0.1174, -0.1217, -0.1280, -0.1222, -0.1631, -0.1056, -0.5973,\n",
              "           0.6409, -1.0692, -0.6181, -0.4416,  1.0004, -0.2539, -0.1560, -0.3336,\n",
              "          -0.2685, -0.2519, -0.2942, -0.2859, -0.3054, -0.3336, -0.2966,  3.7383,\n",
              "          -0.2631, -0.2606, -0.2201, -0.1642, -0.1890, -0.1622],\n",
              "         [ 0.5727, -0.2194, -0.3408, -0.1499, -0.1649, -0.4277, -0.3082, -0.0407,\n",
              "          -0.7973, -0.0626, -0.1179, -0.1089, -0.2539, -0.3737, -0.5897, -0.3583,\n",
              "          -0.5867, -0.6070, -0.6081, -0.2203, -0.1072, -0.0425, -0.2017, -0.1081,\n",
              "          -0.2854, -0.2405, -0.4020, -0.0705, -0.1931,  0.2741,  0.0474,  0.6643,\n",
              "           0.7915, -0.1908, -0.1544, -0.2369, -0.3854, -0.0980, -0.0840, -0.1138,\n",
              "          -0.0714, -0.1174, -0.1217, -0.1280, -0.1222, -0.1631, -0.1056, -0.5973,\n",
              "           0.2134, -1.0616, -0.6181, -0.4416,  1.0004, -0.2539, -0.1560, -0.3336,\n",
              "          -0.2685, -0.2519, -0.2942, -0.2859, -0.3054,  2.9979, -0.2966, -0.2675,\n",
              "          -0.2631, -0.2606, -0.2201, -0.1642, -0.1890, -0.1622]]),\n",
              " tensor([[0.],\n",
              "         [0.]])]"
            ]
          },
          "metadata": {},
          "execution_count": 655
        }
      ]
    },
    {
      "cell_type": "code",
      "source": [
        "val_dl = torch.utils.data.DataLoader(val_dataset,batch_size=2,shuffle=False)\n",
        "next(iter(val_dl))"
      ],
      "metadata": {
        "colab": {
          "base_uri": "https://localhost:8080/"
        },
        "id": "b76s3tRYokWL",
        "outputId": "6f66da0d-3789-4109-b3c4-1897825a0031"
      },
      "execution_count": null,
      "outputs": [
        {
          "output_type": "execute_result",
          "data": {
            "text/plain": [
              "[tensor([[-0.2420,  0.2880, -0.3408, -0.1499, -0.1511, -0.4085, -0.3082, -0.0407,\n",
              "          -0.9144, -0.0626, -0.1179, -0.0441, -0.2617, -0.3737, -0.5897, -0.3583,\n",
              "          -0.5867, -0.6070, -0.6081,  0.2908, -0.1072, -0.0425, -0.2017, -0.1081,\n",
              "          -0.2513,  0.1978, -0.4020,  0.0217, -0.1931,  2.1481, -0.1966, -0.1936,\n",
              "           1.7311, -0.1908, -0.1440, -0.2369, -0.3854, -0.0980, -0.0840, -0.1138,\n",
              "          -0.0714, -0.1174, -0.1217, -0.1280, -0.1222, -0.1631, -0.1056, -0.5973,\n",
              "           0.7249, -1.0222, -0.6181, -0.4416,  1.0004, -0.2539, -0.1560, -0.3336,\n",
              "          -0.2685, -0.2519, -0.2942,  3.4978, -0.3054, -0.3336, -0.2966, -0.2675,\n",
              "          -0.2631, -0.2606, -0.2201, -0.1642, -0.1890, -0.1622],\n",
              "         [-0.3841, -0.2194, -0.0220, -0.1499, -0.1235, -0.6204, -0.3082, -0.0407,\n",
              "           1.4121, -0.0626, -0.1179, -0.1089, -0.2694, -0.3737, -0.5897, -0.3583,\n",
              "          -0.5867, -0.6070, -0.6081, -0.3239, -0.1072, -0.0425, -0.2017, -0.1081,\n",
              "          -0.2854, -0.2405, -0.3521, -0.3471, -0.1931, -0.9192, -0.1966, -0.1086,\n",
              "           0.7081, -0.1908, -0.1699, -0.2369, -0.3854, -0.0980, -0.0840, -0.1138,\n",
              "          -0.0714, -0.1174, -0.1217, -0.1280, -0.1222, -0.1631, -0.1056, -0.5973,\n",
              "           0.5062, -1.0109, -0.6181, -0.4416,  1.0004, -0.2539, -0.1560, -0.3336,\n",
              "          -0.2685, -0.2519, -0.2942, -0.2859, -0.3054, -0.3336, -0.2966, -0.2675,\n",
              "          -0.2631,  3.8375, -0.2201, -0.1642, -0.1890, -0.1622]]),\n",
              " tensor([[0.],\n",
              "         [0.]])]"
            ]
          },
          "metadata": {},
          "execution_count": 656
        }
      ]
    },
    {
      "cell_type": "code",
      "source": [
        "test_dl = torch.utils.data.DataLoader(val_dataset,batch_size=2,shuffle=False)\n",
        "test_dl"
      ],
      "metadata": {
        "colab": {
          "base_uri": "https://localhost:8080/"
        },
        "id": "bHP2IzJ2azK2",
        "outputId": "d75905fb-4629-41d6-9af8-595a7a560639"
      },
      "execution_count": null,
      "outputs": [
        {
          "output_type": "execute_result",
          "data": {
            "text/plain": [
              "<torch.utils.data.dataloader.DataLoader at 0x7fb3aab21050>"
            ]
          },
          "metadata": {},
          "execution_count": 657
        }
      ]
    },
    {
      "cell_type": "code",
      "source": [
        "data = next(iter(train_dl))\n",
        "data[0]"
      ],
      "metadata": {
        "colab": {
          "base_uri": "https://localhost:8080/"
        },
        "id": "7FIP_-be4qWK",
        "outputId": "81fbed6e-5361-4b6e-dc27-b2a8ccf418de"
      },
      "execution_count": null,
      "outputs": [
        {
          "output_type": "execute_result",
          "data": {
            "text/plain": [
              "tensor([[ 0.0669, -0.2194, -0.3408, -0.1499, -0.1096,  0.4295, -0.3082, -0.0407,\n",
              "          1.1846, -0.0626, -0.1179, -0.0117, -0.2461, -0.3737, -0.5897, -0.3583,\n",
              "         -0.5867, -0.6070, -0.6081, -0.1256, -0.1072, -0.0425, -0.1360, -0.1081,\n",
              "         -0.2854,  0.0225, -0.4020,  0.6670, -0.1931,  2.7174,  1.5117,  0.2159,\n",
              "          2.3507, -0.1908, -0.1130, -0.2369, -0.3854, -0.0980, -0.0840, -0.1138,\n",
              "         -0.0714, -0.1174, -0.1217, -0.1280, -0.1222, -0.1631, -0.1056, -0.5973,\n",
              "          0.6409, -1.0692, -0.6181, -0.4416,  1.0004, -0.2539, -0.1560, -0.3336,\n",
              "         -0.2685, -0.2519, -0.2942, -0.2859, -0.3054, -0.3336, -0.2966,  3.7383,\n",
              "         -0.2631, -0.2606, -0.2201, -0.1642, -0.1890, -0.1622],\n",
              "        [ 0.5727, -0.2194, -0.3408, -0.1499, -0.1649, -0.4277, -0.3082, -0.0407,\n",
              "         -0.7973, -0.0626, -0.1179, -0.1089, -0.2539, -0.3737, -0.5897, -0.3583,\n",
              "         -0.5867, -0.6070, -0.6081, -0.2203, -0.1072, -0.0425, -0.2017, -0.1081,\n",
              "         -0.2854, -0.2405, -0.4020, -0.0705, -0.1931,  0.2741,  0.0474,  0.6643,\n",
              "          0.7915, -0.1908, -0.1544, -0.2369, -0.3854, -0.0980, -0.0840, -0.1138,\n",
              "         -0.0714, -0.1174, -0.1217, -0.1280, -0.1222, -0.1631, -0.1056, -0.5973,\n",
              "          0.2134, -1.0616, -0.6181, -0.4416,  1.0004, -0.2539, -0.1560, -0.3336,\n",
              "         -0.2685, -0.2519, -0.2942, -0.2859, -0.3054,  2.9979, -0.2966, -0.2675,\n",
              "         -0.2631, -0.2606, -0.2201, -0.1642, -0.1890, -0.1622]])"
            ]
          },
          "metadata": {},
          "execution_count": 658
        }
      ]
    },
    {
      "cell_type": "code",
      "source": [
        "train_X.shape[1]"
      ],
      "metadata": {
        "colab": {
          "base_uri": "https://localhost:8080/"
        },
        "id": "vnVBQQeH3Fg4",
        "outputId": "7d86243c-4cff-47a1-9739-5004b71762e6"
      },
      "execution_count": null,
      "outputs": [
        {
          "output_type": "execute_result",
          "data": {
            "text/plain": [
              "70"
            ]
          },
          "metadata": {},
          "execution_count": 659
        }
      ]
    },
    {
      "cell_type": "code",
      "source": [
        "class Teacher(nn.Module):\n",
        "    def __init__(self,in_features):\n",
        "        super().__init__()\n",
        "        self.classifier = nn.Sequential(\n",
        "            nn.Linear(in_features, 256),\n",
        "            nn.BatchNorm1d(256),\n",
        "            nn.ELU(),\n",
        "            nn.Linear(256, 1024),\n",
        "            nn.BatchNorm1d(1024),\n",
        "            nn.ELU(),\n",
        "            nn.Linear(1024, 256),\n",
        "            nn.BatchNorm1d(256),\n",
        "            nn.ELU(),\n",
        "            nn.Linear(256, 1)\n",
        "        )\n",
        "        \n",
        "    def forward(self, x):\n",
        "        output = self.classifier(x)\n",
        "        # output = output.squeeze() \n",
        "        return output"
      ],
      "metadata": {
        "id": "zUzKaqHn5tN4"
      },
      "execution_count": null,
      "outputs": []
    },
    {
      "cell_type": "code",
      "source": [
        "model = Teacher(train_X.shape[1]) # SEED 고정을 안해서 값이 다르다.\n",
        "model(data[0])"
      ],
      "metadata": {
        "colab": {
          "base_uri": "https://localhost:8080/"
        },
        "id": "79BHlyTc5tLN",
        "outputId": "9f72da49-186d-496b-acf3-93765948a9bf"
      },
      "execution_count": null,
      "outputs": [
        {
          "output_type": "execute_result",
          "data": {
            "text/plain": [
              "tensor([[-1.0071],\n",
              "        [ 1.1081]], grad_fn=<AddmmBackward0>)"
            ]
          },
          "metadata": {},
          "execution_count": 661
        }
      ]
    },
    {
      "cell_type": "code",
      "source": [
        "batch_size = 256\n",
        "loss_fn = torch.nn.BCEWithLogitsLoss()\n",
        "model = Teacher(train_X.shape[1]).to(device)\n",
        "optimizer = torch.optim.Adam(model.parameters(),lr=0.001)\n",
        "train_dt = CustomDataset(train_X,train_y)\n",
        "train_dl = torch.utils.data.DataLoader(train_dt,batch_size=batch_size,shuffle=True)"
      ],
      "metadata": {
        "id": "ztUgS8Zy5tI3"
      },
      "execution_count": null,
      "outputs": []
    },
    {
      "cell_type": "markdown",
      "source": [
        "### run!"
      ],
      "metadata": {
        "id": "2R_1xXJs7Qdj"
      }
    },
    {
      "cell_type": "code",
      "source": [
        "data = next(iter(train_dl))\n",
        "data[1]"
      ],
      "metadata": {
        "id": "Rm7ivHN4_XFY"
      },
      "execution_count": null,
      "outputs": []
    },
    {
      "cell_type": "code",
      "source": [
        "def train_loop(train_dl,model,loss_fn,optimizer,device):\n",
        "    model.train()\n",
        "\n",
        "    epoch_loss = 0\n",
        "    for batch in train_dl:\n",
        "        pred = model(batch[0].to(device))\n",
        "        loss = loss_fn(pred,batch[1].to(device))\n",
        "\n",
        "        optimizer.zero_grad()\n",
        "        loss.backward()\n",
        "        optimizer.step()\n",
        "\n",
        "        epoch_loss += loss.item()\n",
        "    epoch_loss /= len(train_dl)\n",
        "    \n",
        "    return epoch_loss"
      ],
      "metadata": {
        "id": "jR69NRs45tFg"
      },
      "execution_count": null,
      "outputs": []
    },
    {
      "cell_type": "code",
      "source": [
        "train_loop(train_dl,model,loss_fn,optimizer,device) # 여기 뭔가 이상함"
      ],
      "metadata": {
        "colab": {
          "base_uri": "https://localhost:8080/"
        },
        "id": "agZ3hjnL5tCX",
        "outputId": "d4917523-7a72-4c2a-eb29-2994199176bc"
      },
      "execution_count": null,
      "outputs": [
        {
          "output_type": "execute_result",
          "data": {
            "text/plain": [
              "0.3542283909188377"
            ]
          },
          "metadata": {},
          "execution_count": 665
        }
      ]
    },
    {
      "cell_type": "code",
      "source": [
        "def competition_metric(true, pred):\n",
        "    return f1_score(true, pred, average=\"macro\")\n",
        "\n",
        "@torch.no_grad() \n",
        "def validation_teacher(model, val_loader, criterion, device):\n",
        "    model.eval()\n",
        "\n",
        "    \n",
        "    val_loss = []\n",
        "    pred_labels = []\n",
        "    true_labels = []\n",
        "    threshold = 0.35\n",
        "\n",
        "\n",
        "    for X, y in tqdm(train_dl):\n",
        "        X = X.float().to(device)\n",
        "        y = y.float().to(device)\n",
        "        \n",
        "        model_pred = model(X.to(device))\n",
        "        loss = loss_fn(model_pred, y)\n",
        "        val_loss.append(loss.item()) \n",
        "\n",
        "        model_pred = model_pred.to('cpu')  \n",
        "        pred_labels += model_pred.tolist()\n",
        "        true_labels += y.tolist()\n",
        "    pred_labels = np.where(np.array(pred_labels) > threshold, 1, 0)\n",
        "    val_f1 = competition_metric(true_labels, pred_labels)\n",
        "    return val_loss, val_f1 "
      ],
      "metadata": {
        "id": "c2SgGwkops12"
      },
      "execution_count": null,
      "outputs": []
    },
    {
      "cell_type": "code",
      "source": [
        "valid_dt = CustomDataset(val_X,val_y) # 학습데이터를 검증하기 위해서 만듦!\n",
        "valid_dl = torch.utils.data.DataLoader(valid_dt,batch_size=batch_size,shuffle=False)"
      ],
      "metadata": {
        "id": "QMZ1UUUVxiPN"
      },
      "execution_count": null,
      "outputs": []
    },
    {
      "cell_type": "code",
      "source": [
        "validation_teacher(valid_dl,model,loss_fn,device)"
      ],
      "metadata": {
        "colab": {
          "base_uri": "https://localhost:8080/",
          "height": 318
        },
        "id": "Lc7zLyV3xdNn",
        "outputId": "420812fb-bcd2-4860-fb24-8fa005b0802f"
      },
      "execution_count": null,
      "outputs": [
        {
          "output_type": "error",
          "ename": "AttributeError",
          "evalue": "ignored",
          "traceback": [
            "\u001b[0;31m---------------------------------------------------------------------------\u001b[0m",
            "\u001b[0;31mAttributeError\u001b[0m                            Traceback (most recent call last)",
            "\u001b[0;32m<ipython-input-670-68a6eacf4b1f>\u001b[0m in \u001b[0;36m<module>\u001b[0;34m\u001b[0m\n\u001b[0;32m----> 1\u001b[0;31m \u001b[0mvalidation_teacher\u001b[0m\u001b[0;34m(\u001b[0m\u001b[0mvalid_dl\u001b[0m\u001b[0;34m,\u001b[0m\u001b[0mmodel\u001b[0m\u001b[0;34m,\u001b[0m\u001b[0mloss_fn\u001b[0m\u001b[0;34m,\u001b[0m\u001b[0mdevice\u001b[0m\u001b[0;34m)\u001b[0m\u001b[0;34m\u001b[0m\u001b[0;34m\u001b[0m\u001b[0m\n\u001b[0m",
            "\u001b[0;32m<ipython-input-668-642e1b1307d2>\u001b[0m in \u001b[0;36mvalidation_teacher\u001b[0;34m(model, val_loader, criterion, device)\u001b[0m\n\u001b[1;32m      3\u001b[0m \u001b[0;34m\u001b[0m\u001b[0m\n\u001b[1;32m      4\u001b[0m \u001b[0;32mdef\u001b[0m \u001b[0mvalidation_teacher\u001b[0m\u001b[0;34m(\u001b[0m\u001b[0mmodel\u001b[0m\u001b[0;34m,\u001b[0m \u001b[0mval_loader\u001b[0m\u001b[0;34m,\u001b[0m \u001b[0mcriterion\u001b[0m\u001b[0;34m,\u001b[0m \u001b[0mdevice\u001b[0m\u001b[0;34m)\u001b[0m\u001b[0;34m:\u001b[0m\u001b[0;34m\u001b[0m\u001b[0;34m\u001b[0m\u001b[0m\n\u001b[0;32m----> 5\u001b[0;31m     \u001b[0mmodel\u001b[0m\u001b[0;34m.\u001b[0m\u001b[0meval\u001b[0m\u001b[0;34m(\u001b[0m\u001b[0;34m)\u001b[0m\u001b[0;34m\u001b[0m\u001b[0;34m\u001b[0m\u001b[0m\n\u001b[0m\u001b[1;32m      6\u001b[0m \u001b[0;34m\u001b[0m\u001b[0m\n\u001b[1;32m      7\u001b[0m     \u001b[0mval_loss\u001b[0m \u001b[0;34m=\u001b[0m \u001b[0;34m[\u001b[0m\u001b[0;34m]\u001b[0m\u001b[0;34m\u001b[0m\u001b[0;34m\u001b[0m\u001b[0m\n",
            "\u001b[0;31mAttributeError\u001b[0m: 'DataLoader' object has no attribute 'eval'"
          ]
        }
      ]
    },
    {
      "cell_type": "code",
      "source": [
        "n_splits = 5\n",
        "batch_size = 256\n",
        "epochs = 100\n",
        "loss_fn = torch.nn.BCEWithLogitsLoss()"
      ],
      "metadata": {
        "id": "6iMy_rLyyXv6"
      },
      "execution_count": null,
      "outputs": []
    },
    {
      "cell_type": "code",
      "source": [
        "from sklearn.metrics import f1_score\n",
        "from sklearn.model_selection import KFold\n",
        "cv = KFold(n_splits=n_splits, shuffle=True, random_state=SEED)"
      ],
      "metadata": {
        "id": "JjuWyMljxz28"
      },
      "execution_count": null,
      "outputs": []
    },
    {
      "cell_type": "code",
      "source": [
        "num_features = train_X.shape[1]"
      ],
      "metadata": {
        "id": "zwqr5mGqzqWu"
      },
      "execution_count": null,
      "outputs": []
    },
    {
      "cell_type": "code",
      "source": [
        "train_X.shape,train_y.shape,test.shape"
      ],
      "metadata": {
        "colab": {
          "base_uri": "https://localhost:8080/"
        },
        "id": "ZcabzKb1XvlM",
        "outputId": "7e5655d4-e758-4c30-d4f7-6f5cd9c7e011"
      },
      "execution_count": null,
      "outputs": [
        {
          "output_type": "execute_result",
          "data": {
            "text/plain": [
              "((11276, 70), (11276,), (6041, 36))"
            ]
          },
          "metadata": {},
          "execution_count": 627
        }
      ]
    },
    {
      "cell_type": "code",
      "source": [
        "is_holdout = False\n",
        "seed_everything(SEED)\n",
        "best_score_list = []\n",
        "\n",
        "for i,(tri,vai) in enumerate(cv.split(train_X)):\n",
        "\n",
        "    X_train = train_X.iloc[tri]\n",
        "    y_train = train_y.iloc[tri]\n",
        "\n",
        "    X_valid = train_X.iloc[vai]\n",
        "    y_valid = train_y.iloc[vai]\n",
        "\n",
        "    model = Teacher(train_X.shape[1]).to(device)\n",
        "    optimizer = torch.optim.Adam(model.parameters())\n",
        "\n",
        "    train_dt = CustomDataset(X_train,y_train)\n",
        "    valid_dt = CustomDataset(X_valid,y_valid)\n",
        "\n",
        "    train_dl = torch.utils.data.DataLoader(train_dt,batch_size=batch_size,shuffle=True)\n",
        "    valid_dl = torch.utils.data.DataLoader(valid_dt,batch_size=batch_size,shuffle=False)\n",
        "\n",
        "    best_score = 0\n",
        "    patience = 0\n",
        "\n",
        "    for e in range(epochs):\n",
        "        train_loss = train_loop(train_dl, model, loss_fn, optimizer, device)\n",
        "        valid_loss, pred = validation_teacher(valid_dl, model, loss_fn, device)"
      ],
      "metadata": {
        "colab": {
          "base_uri": "https://localhost:8080/",
          "height": 378
        },
        "id": "H6klSkhYxz0Q",
        "outputId": "d69c1010-0b4a-4836-87b0-3939e10230e3"
      },
      "execution_count": null,
      "outputs": [
        {
          "output_type": "error",
          "ename": "AttributeError",
          "evalue": "ignored",
          "traceback": [
            "\u001b[0;31m---------------------------------------------------------------------------\u001b[0m",
            "\u001b[0;31mAttributeError\u001b[0m                            Traceback (most recent call last)",
            "\u001b[0;32m<ipython-input-628-2a01c438ff16>\u001b[0m in \u001b[0;36m<module>\u001b[0;34m\u001b[0m\n\u001b[1;32m     25\u001b[0m     \u001b[0;32mfor\u001b[0m \u001b[0me\u001b[0m \u001b[0;32min\u001b[0m \u001b[0mrange\u001b[0m\u001b[0;34m(\u001b[0m\u001b[0mepochs\u001b[0m\u001b[0;34m)\u001b[0m\u001b[0;34m:\u001b[0m\u001b[0;34m\u001b[0m\u001b[0;34m\u001b[0m\u001b[0m\n\u001b[1;32m     26\u001b[0m         \u001b[0mtrain_loss\u001b[0m \u001b[0;34m=\u001b[0m \u001b[0mtrain_loop\u001b[0m\u001b[0;34m(\u001b[0m\u001b[0mtrain_dl\u001b[0m\u001b[0;34m,\u001b[0m \u001b[0mmodel\u001b[0m\u001b[0;34m,\u001b[0m \u001b[0mloss_fn\u001b[0m\u001b[0;34m,\u001b[0m \u001b[0moptimizer\u001b[0m\u001b[0;34m,\u001b[0m \u001b[0mdevice\u001b[0m\u001b[0;34m)\u001b[0m\u001b[0;34m\u001b[0m\u001b[0;34m\u001b[0m\u001b[0m\n\u001b[0;32m---> 27\u001b[0;31m         \u001b[0mvalid_loss\u001b[0m\u001b[0;34m,\u001b[0m \u001b[0mpred\u001b[0m \u001b[0;34m=\u001b[0m \u001b[0mvalidation_teacher\u001b[0m\u001b[0;34m(\u001b[0m\u001b[0mvalid_dl\u001b[0m\u001b[0;34m,\u001b[0m \u001b[0mmodel\u001b[0m\u001b[0;34m,\u001b[0m \u001b[0mloss_fn\u001b[0m\u001b[0;34m,\u001b[0m \u001b[0mdevice\u001b[0m\u001b[0;34m)\u001b[0m\u001b[0;34m\u001b[0m\u001b[0;34m\u001b[0m\u001b[0m\n\u001b[0m",
            "\u001b[0;32m/usr/local/lib/python3.7/dist-packages/torch/autograd/grad_mode.py\u001b[0m in \u001b[0;36mdecorate_context\u001b[0;34m(*args, **kwargs)\u001b[0m\n\u001b[1;32m     25\u001b[0m         \u001b[0;32mdef\u001b[0m \u001b[0mdecorate_context\u001b[0m\u001b[0;34m(\u001b[0m\u001b[0;34m*\u001b[0m\u001b[0margs\u001b[0m\u001b[0;34m,\u001b[0m \u001b[0;34m**\u001b[0m\u001b[0mkwargs\u001b[0m\u001b[0;34m)\u001b[0m\u001b[0;34m:\u001b[0m\u001b[0;34m\u001b[0m\u001b[0;34m\u001b[0m\u001b[0m\n\u001b[1;32m     26\u001b[0m             \u001b[0;32mwith\u001b[0m \u001b[0mself\u001b[0m\u001b[0;34m.\u001b[0m\u001b[0mclone\u001b[0m\u001b[0;34m(\u001b[0m\u001b[0;34m)\u001b[0m\u001b[0;34m:\u001b[0m\u001b[0;34m\u001b[0m\u001b[0;34m\u001b[0m\u001b[0m\n\u001b[0;32m---> 27\u001b[0;31m                 \u001b[0;32mreturn\u001b[0m \u001b[0mfunc\u001b[0m\u001b[0;34m(\u001b[0m\u001b[0;34m*\u001b[0m\u001b[0margs\u001b[0m\u001b[0;34m,\u001b[0m \u001b[0;34m**\u001b[0m\u001b[0mkwargs\u001b[0m\u001b[0;34m)\u001b[0m\u001b[0;34m\u001b[0m\u001b[0;34m\u001b[0m\u001b[0m\n\u001b[0m\u001b[1;32m     28\u001b[0m         \u001b[0;32mreturn\u001b[0m \u001b[0mcast\u001b[0m\u001b[0;34m(\u001b[0m\u001b[0mF\u001b[0m\u001b[0;34m,\u001b[0m \u001b[0mdecorate_context\u001b[0m\u001b[0;34m)\u001b[0m\u001b[0;34m\u001b[0m\u001b[0;34m\u001b[0m\u001b[0m\n\u001b[1;32m     29\u001b[0m \u001b[0;34m\u001b[0m\u001b[0m\n",
            "\u001b[0;32m<ipython-input-623-e193ddb502bf>\u001b[0m in \u001b[0;36mvalidation_teacher\u001b[0;34m(model, val_loader, criterion, device)\u001b[0m\n\u001b[1;32m      4\u001b[0m \u001b[0;34m@\u001b[0m\u001b[0mtorch\u001b[0m\u001b[0;34m.\u001b[0m\u001b[0mno_grad\u001b[0m\u001b[0;34m(\u001b[0m\u001b[0;34m)\u001b[0m\u001b[0;34m\u001b[0m\u001b[0;34m\u001b[0m\u001b[0m\n\u001b[1;32m      5\u001b[0m \u001b[0;32mdef\u001b[0m \u001b[0mvalidation_teacher\u001b[0m\u001b[0;34m(\u001b[0m\u001b[0mmodel\u001b[0m\u001b[0;34m,\u001b[0m \u001b[0mval_loader\u001b[0m\u001b[0;34m,\u001b[0m \u001b[0mcriterion\u001b[0m\u001b[0;34m,\u001b[0m \u001b[0mdevice\u001b[0m\u001b[0;34m)\u001b[0m\u001b[0;34m:\u001b[0m\u001b[0;34m\u001b[0m\u001b[0;34m\u001b[0m\u001b[0m\n\u001b[0;32m----> 6\u001b[0;31m     \u001b[0mmodel\u001b[0m\u001b[0;34m.\u001b[0m\u001b[0meval\u001b[0m\u001b[0;34m(\u001b[0m\u001b[0;34m)\u001b[0m\u001b[0;34m\u001b[0m\u001b[0;34m\u001b[0m\u001b[0m\n\u001b[0m\u001b[1;32m      7\u001b[0m \u001b[0;34m\u001b[0m\u001b[0m\n\u001b[1;32m      8\u001b[0m \u001b[0;34m\u001b[0m\u001b[0m\n",
            "\u001b[0;31mAttributeError\u001b[0m: 'DataLoader' object has no attribute 'eval'"
          ]
        }
      ]
    },
    {
      "cell_type": "code",
      "source": [],
      "metadata": {
        "id": "LaTQsuD1hjXW"
      },
      "execution_count": null,
      "outputs": []
    },
    {
      "cell_type": "code",
      "source": [
        "next(iter(train_dl))"
      ],
      "metadata": {
        "id": "PpANqPZQW-vd"
      },
      "execution_count": null,
      "outputs": []
    },
    {
      "cell_type": "code",
      "source": [
        "y_valid"
      ],
      "metadata": {
        "id": "OlUeemBGxzwy"
      },
      "execution_count": null,
      "outputs": []
    },
    {
      "cell_type": "code",
      "source": [],
      "metadata": {
        "id": "M_a8GaNsw8V3"
      },
      "execution_count": null,
      "outputs": []
    },
    {
      "cell_type": "code",
      "source": [
        "def validation_teacher(model, val_loader, criterion, device):\n",
        "    model.eval()\n",
        "\n",
        "    val_loss = []\n",
        "    pred_labels = []\n",
        "    true_labels = []\n",
        "    threshold = 0.35\n",
        "    \n",
        "    with torch.no_grad():\n",
        "        for X, y in tqdm(val_loader):\n",
        "            X = X.float().to(device)\n",
        "            y = y.float().to(device)\n",
        "            \n",
        "            model_pred = model(X.to(device))\n",
        "            \n",
        "            loss = criterion(model_pred, y.reshape(-1, 1))\n",
        "            val_loss.append(loss.item())      \n",
        "            \n",
        "            model_pred = model_pred.squeeze(1).to('cpu')  \n",
        "            pred_labels += model_pred.tolist()\n",
        "            true_labels += y.tolist()\n",
        "        \n",
        "        pred_labels = np.where(np.array(pred_labels) > threshold, 1, 0)\n",
        "        val_f1 = competition_metric(true_labels, pred_labels)\n",
        "    return val_loss, val_f1   "
      ],
      "metadata": {
        "id": "72QYUgrt5s_H"
      },
      "execution_count": null,
      "outputs": []
    },
    {
      "cell_type": "code",
      "source": [],
      "metadata": {
        "id": "6xDXXi0DnIN4"
      },
      "execution_count": null,
      "outputs": []
    },
    {
      "cell_type": "code",
      "source": [],
      "metadata": {
        "id": "ceT38rJznIQn"
      },
      "execution_count": null,
      "outputs": []
    },
    {
      "cell_type": "code",
      "source": [],
      "metadata": {
        "id": "j7kCIwo8nITY"
      },
      "execution_count": null,
      "outputs": []
    },
    {
      "cell_type": "code",
      "source": [
        "model = Teacher(70)\n",
        "model.eval()\n",
        "optimizer = torch.optim.Adam(model.parameters(), lr=CFG['LEARNING_RATE'])\n",
        "scheduler = torch.optim.lr_scheduler.ReduceLROnPlateau(optimizer, mode='max', factor=0.5, patience=1, threshold_mode='abs',min_lr=1e-8, verbose=True)\n",
        "\n",
        "teacher_model = train(model, optimizer, train_dl, val_dl, device)"
      ],
      "metadata": {
        "id": "0DI-8nEkZ_UU"
      },
      "execution_count": null,
      "outputs": []
    },
    {
      "cell_type": "code",
      "source": [],
      "metadata": {
        "id": "rYMCUmQrZ_WU"
      },
      "execution_count": null,
      "outputs": []
    },
    {
      "cell_type": "code",
      "source": [
        "next(iter(test_dt1))"
      ],
      "metadata": {
        "id": "wrQuksf3b9Iv"
      },
      "execution_count": null,
      "outputs": []
    },
    {
      "cell_type": "code",
      "source": [
        "test_dt = CustomDataset(test)\n",
        "test_dl = torch.utils.data.DataLoader(test_dt,batch_size=batch_size,shuffle=False)\n",
        "\n",
        "_,pred = test_loop(test_dl,model,loss_fn,device) # _을 사용하여 pred값만 가져온다.\n",
        "pred"
      ],
      "metadata": {
        "id": "Xihmo-Al5s7Y"
      },
      "execution_count": null,
      "outputs": []
    },
    {
      "cell_type": "code",
      "source": [
        "loss_fn = torch.nn.BCEWithLogitsLoss()\n",
        "epoch = 1000\n",
        "batch_size = 32 # 8 16 32 64 이렇게 넣어주는 것이 좋다.\n",
        "num_features = train_X.shape[1]"
      ],
      "metadata": {
        "id": "zpMepO3oWMLv"
      },
      "execution_count": null,
      "outputs": []
    },
    {
      "cell_type": "code",
      "source": [
        "SEED = 42"
      ],
      "metadata": {
        "id": "wVC1bksNWeGf"
      },
      "execution_count": null,
      "outputs": []
    },
    {
      "cell_type": "code",
      "source": [
        "from sklearn.model_selection import KFold\n",
        "cv = KFold(n_splits = 5, shuffle = True, random_state = SEED)"
      ],
      "metadata": {
        "id": "ncYzpbERWMOn"
      },
      "execution_count": null,
      "outputs": []
    },
    {
      "cell_type": "code",
      "source": [
        "is_holdout = False\n",
        "for i, (tri,val) in enumerate(cv.split(train_X)):\n",
        "    print(i)\n"
      ],
      "metadata": {
        "id": "pj6F0-4jWMRi"
      },
      "execution_count": null,
      "outputs": []
    },
    {
      "cell_type": "code",
      "source": [],
      "metadata": {
        "id": "ghydmzHJWMW6"
      },
      "execution_count": null,
      "outputs": []
    },
    {
      "cell_type": "code",
      "source": [],
      "metadata": {
        "id": "_cQ6hmbBWMZy"
      },
      "execution_count": null,
      "outputs": []
    },
    {
      "cell_type": "code",
      "source": [],
      "metadata": {
        "id": "b9OKP-08WMcd"
      },
      "execution_count": null,
      "outputs": []
    },
    {
      "cell_type": "code",
      "source": [],
      "metadata": {
        "id": "0x_Cw43rWMfH"
      },
      "execution_count": null,
      "outputs": []
    },
    {
      "cell_type": "code",
      "source": [],
      "metadata": {
        "id": "YMtmPUzGWMhF"
      },
      "execution_count": null,
      "outputs": []
    },
    {
      "cell_type": "code",
      "execution_count": null,
      "metadata": {
        "id": "dB5gK6uun43P"
      },
      "outputs": [],
      "source": [
        "train_dataset[0]"
      ]
    },
    {
      "cell_type": "code",
      "execution_count": null,
      "metadata": {
        "id": "BT27oi7-zXfe"
      },
      "outputs": [],
      "source": [
        "train_loader = DataLoader(train_dataset, batch_size = CFG['BATCH_SIZE'], shuffle=True)\n",
        "val_loader = DataLoader(val_dataset, batch_size = CFG['BATCH_SIZE'], shuffle=False)"
      ]
    },
    {
      "cell_type": "code",
      "execution_count": null,
      "metadata": {
        "id": "7kXCmD3BzXiJ"
      },
      "outputs": [],
      "source": [
        "class Teacher(nn.Module):\n",
        "    def __init__(self):\n",
        "        super(Teacher, self).__init__()\n",
        "        self.classifier = nn.Sequential(\n",
        "            nn.Linear(in_features=70, out_features=256),\n",
        "            nn.BatchNorm1d(256),\n",
        "            nn.ReLU(),\n",
        "            nn.Linear(in_features=256, out_features=1024),\n",
        "            nn.BatchNorm1d(1024),\n",
        "            nn.ReLU(),\n",
        "            nn.Linear(in_features=1024, out_features=256),\n",
        "            nn.BatchNorm1d(256),\n",
        "            nn.ReLU(),\n",
        "            nn.Linear(in_features=256, out_features=1),\n",
        "            nn.Sigmoid()\n",
        "        )\n",
        "        \n",
        "    def forward(self, x):\n",
        "        output = self.classifier(x)\n",
        "        return output"
      ]
    },
    {
      "cell_type": "code",
      "execution_count": null,
      "metadata": {
        "id": "D-q2IJmynzdR"
      },
      "outputs": [],
      "source": [
        "next(iter(train_loader)) "
      ]
    },
    {
      "cell_type": "code",
      "execution_count": null,
      "metadata": {
        "id": "z-KDcGk1nljI"
      },
      "outputs": [],
      "source": [
        "# reset_seeds(42)\n",
        "\n",
        "# input_layer = torch.nn.Linear(train.shape[1],16) # x_train.shape[1] = 피처개수 (출력이 8개인 다중회귀)\n",
        "\n",
        "# data = next(iter(train_dl))\n",
        "# hidden_layer = input_layer(data[\"x\"])\n",
        "# hidden_layer"
      ]
    },
    {
      "cell_type": "code",
      "execution_count": null,
      "metadata": {
        "id": "CzifgYtfnefQ"
      },
      "outputs": [],
      "source": [
        "# model = Teacher(train.shape[1])"
      ]
    },
    {
      "cell_type": "code",
      "execution_count": null,
      "metadata": {
        "id": "WozTmu1DuMXS"
      },
      "outputs": [],
      "source": []
    },
    {
      "cell_type": "code",
      "execution_count": null,
      "metadata": {
        "id": "xJlNKHcmuMaf"
      },
      "outputs": [],
      "source": []
    },
    {
      "cell_type": "code",
      "execution_count": null,
      "metadata": {
        "id": "dQBqHP_FzXk_"
      },
      "outputs": [],
      "source": [
        "def train(model, optimizer, train_loader, val_loader, scheduler, device):\n",
        "    model.to(device)\n",
        "\n",
        "    best_score = 0\n",
        "    best_model = None\n",
        "    criterion = nn.BCELoss().to(device)\n",
        "\n",
        "    for epoch in range(CFG[\"EPOCHS\"]):\n",
        "        train_loss = []\n",
        "  \n",
        "        model.train()\n",
        "        for X, y in tqdm(train_loader):\n",
        "            X = X.float().to(device)\n",
        "            y = y.float().to(device)\n",
        "            \n",
        "            optimizer.zero_grad()\n",
        "            \n",
        "            y_pred = model(X)\n",
        "            \n",
        "            loss = criterion(y_pred, y.reshape(-1, 1))\n",
        "            loss.backward()\n",
        "            \n",
        "            optimizer.step()\n",
        "\n",
        "            train_loss.append(loss.item())\n",
        "\n",
        "        val_loss, val_score = validation_teacher(model, val_loader, criterion, device)\n",
        "\n",
        "        print(f'Epoch [{epoch}], Train Loss : [{np.mean(train_loss) :.5f}] Val Loss : [{np.mean(val_loss) :.5f}] Val F1 Score : [{val_score:.5f}]')\n",
        "\n",
        "        if scheduler is not None:\n",
        "            scheduler.step(val_score)\n",
        "            \n",
        "        if best_score < val_score:\n",
        "            best_model = model\n",
        "            best_score = val_score\n",
        "        \n",
        "    return best_model"
      ]
    },
    {
      "cell_type": "code",
      "execution_count": null,
      "metadata": {
        "id": "PHYzAHbczXnm"
      },
      "outputs": [],
      "source": [
        "def competition_metric(true, pred):\n",
        "    return f1_score(true, pred, average=\"macro\")\n",
        "\n",
        "def validation_teacher(model, val_loader, criterion, device):\n",
        "    model.eval()\n",
        "\n",
        "    val_loss = []\n",
        "    pred_labels = []\n",
        "    true_labels = []\n",
        "    threshold = 0.35\n",
        "    \n",
        "    with torch.no_grad():\n",
        "        for X, y in tqdm(val_loader):\n",
        "            X = X.float().to(device)\n",
        "            y = y.float().to(device)\n",
        "            \n",
        "            model_pred = model(X.to(device))\n",
        "            \n",
        "            loss = criterion(model_pred, y.reshape(-1, 1))\n",
        "            val_loss.append(loss.item())      \n",
        "            \n",
        "            model_pred = model_pred.squeeze(1).to('cpu')  \n",
        "            pred_labels += model_pred.tolist()\n",
        "            true_labels += y.tolist()\n",
        "        \n",
        "        pred_labels = np.where(np.array(pred_labels) > threshold, 1, 0)\n",
        "        val_f1 = competition_metric(true_labels, pred_labels)\n",
        "    return val_loss, val_f1   "
      ]
    },
    {
      "cell_type": "code",
      "execution_count": null,
      "metadata": {
        "id": "SFQIKr3NzXqQ"
      },
      "outputs": [],
      "source": [
        "model = Teacher()\n",
        "model.eval()\n",
        "optimizer = torch.optim.AdamW(model.parameters(), lr=CFG['LEARNING_RATE'])\n",
        "scheduler = torch.optim.lr_scheduler.ReduceLROnPlateau(optimizer, mode='max', factor=0.5, patience=1, threshold_mode='abs',min_lr=1e-8, verbose=True)\n",
        "\n",
        "teacher_model = train(model, optimizer, train_loader, val_loader, scheduler, device)"
      ]
    },
    {
      "cell_type": "code",
      "execution_count": null,
      "metadata": {
        "id": "wtTcAsDx1AkD"
      },
      "outputs": [],
      "source": [
        "class Student(nn.Module):\n",
        "    def __init__(self):\n",
        "        super(Student, self).__init__()\n",
        "        self.classifier = nn.Sequential(\n",
        "            nn.Linear(in_features=18, out_features=128),\n",
        "            nn.BatchNorm1d(128),\n",
        "            nn.ReLU(),\n",
        "            nn.Linear(in_features=128, out_features=512),\n",
        "            nn.BatchNorm1d(512),\n",
        "            nn.ReLU(),\n",
        "            nn.Linear(in_features=512, out_features=128),\n",
        "            nn.BatchNorm1d(128),\n",
        "            nn.ReLU(),\n",
        "            nn.Linear(in_features=128, out_features=1),\n",
        "            nn.Sigmoid()\n",
        "        )\n",
        "        \n",
        "    def forward(self, x):\n",
        "        output = self.classifier(x)\n",
        "        return output"
      ]
    },
    {
      "cell_type": "code",
      "execution_count": null,
      "metadata": {
        "id": "AbFElwuw1CSU"
      },
      "outputs": [],
      "source": [
        "def distillation(student_logits, labels, teacher_logits, alpha):\n",
        "    distillation_loss = nn.BCELoss()(student_logits, teacher_logits)\n",
        "    student_loss = nn.BCELoss()(student_logits, labels.reshape(-1, 1))\n",
        "    return alpha * student_loss + (1-alpha) * distillation_loss"
      ]
    },
    {
      "cell_type": "code",
      "execution_count": null,
      "metadata": {
        "id": "nT5NDMSR1CVj"
      },
      "outputs": [],
      "source": [
        "def distill_loss(output, target, teacher_output, loss_fn=distillation, opt=optimizer):\n",
        "    loss_b = loss_fn(output, target, teacher_output, alpha=0.1)\n",
        "\n",
        "    if opt is not None:\n",
        "        opt.zero_grad()\n",
        "        loss_b.backward()\n",
        "        opt.step()\n",
        "\n",
        "    return loss_b.item()"
      ]
    },
    {
      "cell_type": "code",
      "execution_count": null,
      "metadata": {
        "id": "gn9b2w821CYd"
      },
      "outputs": [],
      "source": [
        "def student_train(s_model, t_model, optimizer, train_loader, val_loader, scheduler, device):\n",
        "    s_model.to(device)\n",
        "    t_model.to(device)\n",
        "    \n",
        "    best_score = 0\n",
        "    best_model = None\n",
        "\n",
        "    for epoch in range(CFG[\"EPOCHS\"]):\n",
        "        train_loss = []\n",
        "        s_model.train()\n",
        "        t_model.eval()\n",
        "        \n",
        "        for X_t, X_s, y in tqdm(train_loader):\n",
        "            X_t = X_t.float().to(device)\n",
        "            X_s = X_s.float().to(device)\n",
        "            y = y.float().to(device)\n",
        "            \n",
        "            optimizer.zero_grad()\n",
        "\n",
        "            output = s_model(X_s)\n",
        "            with torch.no_grad():\n",
        "                teacher_output = t_model(X_t)\n",
        "                \n",
        "            loss_b = distill_loss(output, y, teacher_output, loss_fn=distillation, opt=optimizer)\n",
        "\n",
        "            train_loss.append(loss_b)\n",
        "\n",
        "        val_loss, val_score = validation_student(s_model, t_model, val_loader, distill_loss, device)\n",
        "        print(f'Epoch [{epoch}], Train Loss : [{np.mean(train_loss) :.5f}] Val Loss : [{np.mean(val_loss) :.5f}] Val F1 Score : [{val_score:.5f}]')\n",
        "        \n",
        "        if scheduler is not None:\n",
        "            scheduler.step(val_score)\n",
        "            \n",
        "        if best_score < val_score:\n",
        "            best_model = s_model\n",
        "            best_score = val_score\n",
        "        \n",
        "    return best_model"
      ]
    },
    {
      "cell_type": "code",
      "execution_count": null,
      "metadata": {
        "id": "osZ8Tg-0zfPn"
      },
      "outputs": [],
      "source": [
        "def validation_student(s_model, t_model, val_loader, criterion, device):\n",
        "    s_model.eval()\n",
        "    t_model.eval()\n",
        "\n",
        "    val_loss = []\n",
        "    pred_labels = []\n",
        "    true_labels = []\n",
        "    threshold = 0.35\n",
        "    \n",
        "    with torch.no_grad():\n",
        "        for X_t, X_s, y in tqdm(val_loader):\n",
        "            X_t = X_t.float().to(device)\n",
        "            X_s = X_s.float().to(device)\n",
        "            y = y.float().to(device)\n",
        "            \n",
        "            model_pred = s_model(X_s)\n",
        "            teacher_output = t_model(X_t)\n",
        "            \n",
        "            loss_b = distill_loss(model_pred, y, teacher_output, loss_fn=distillation, opt=None)\n",
        "            val_loss.append(loss_b)\n",
        "            \n",
        "            model_pred = model_pred.squeeze(1).to('cpu')\n",
        "            pred_labels += model_pred.tolist()\n",
        "            true_labels += y.tolist()\n",
        "        \n",
        "        pred_labels = np.where(np.array(pred_labels) > threshold, 1, 0)\n",
        "        val_f1 = competition_metric(true_labels, pred_labels)\n",
        "    return val_loss, val_f1  "
      ]
    },
    {
      "cell_type": "code",
      "execution_count": null,
      "metadata": {
        "id": "_WHm7KSzzfVp"
      },
      "outputs": [],
      "source": [
        "train_dataset = CustomDataset(train_X, train_y, True)\n",
        "val_dataset = CustomDataset(val_X, val_y, True)\n",
        "\n",
        "train_loader = DataLoader(train_dataset, batch_size = CFG['BATCH_SIZE'], shuffle=True)\n",
        "val_loader = DataLoader(val_dataset, batch_size = CFG['BATCH_SIZE'], shuffle=False)"
      ]
    },
    {
      "cell_type": "code",
      "execution_count": null,
      "metadata": {
        "id": "XtJIFccu1NWS"
      },
      "outputs": [],
      "source": [
        "student_model = Student()\n",
        "student_model.eval()\n",
        "optimizer = torch.optim.AdamW(student_model.parameters(), lr=CFG['LEARNING_RATE'])\n",
        "scheduler = torch.optim.lr_scheduler.ReduceLROnPlateau(optimizer, mode='max', factor=0.5, patience=1, threshold_mode='abs',min_lr=1e-8, verbose=True)\n",
        "\n",
        "best_student_model = student_train(student_model, teacher_model, optimizer, train_loader, val_loader, scheduler, device)\n"
      ]
    },
    {
      "cell_type": "code",
      "execution_count": null,
      "metadata": {
        "id": "rLz4wn2W1NZd"
      },
      "outputs": [],
      "source": [
        "def choose_threshold(model, val_loader, device):\n",
        "    model.to(device)\n",
        "    model.eval()\n",
        "    \n",
        "    thresholds = [0.1, 0.2, 0.25, 0.3, 0.35, 0.4, 0.45, 0.5]\n",
        "    pred_labels = []\n",
        "    true_labels = []\n",
        "    \n",
        "    best_score = 0\n",
        "    best_thr = None\n",
        "    with torch.no_grad():\n",
        "        for _, x_s, y in tqdm(iter(val_loader)):\n",
        "            x_s = x_s.float().to(device)\n",
        "            y = y.float().to(device)\n",
        "            \n",
        "            model_pred = model(x_s)\n",
        "            \n",
        "            model_pred = model_pred.squeeze(1).to('cpu')\n",
        "            pred_labels += model_pred.tolist()\n",
        "            true_labels += y.tolist()\n",
        "        \n",
        "        for threshold in thresholds:\n",
        "            pred_labels_thr = np.where(np.array(pred_labels) > threshold, 1, 0)\n",
        "            score_thr = competition_metric(true_labels, pred_labels_thr)\n",
        "            if best_score < score_thr:\n",
        "                best_score = score_thr\n",
        "                best_thr = threshold\n",
        "    return best_thr, best_score"
      ]
    },
    {
      "cell_type": "code",
      "execution_count": null,
      "metadata": {
        "id": "0ZeZmVIZ1Nc6"
      },
      "outputs": [],
      "source": [
        "best_threshold, best_score = choose_threshold(best_student_model, val_loader, device)\n",
        "print(f'Best Threshold : [{best_threshold}], Score : [{best_score:.5f}]')\n",
        "\n",
        "# 다시 제출 = [0.56523] -> 0.5569827357\n",
        "# "
      ]
    },
    {
      "cell_type": "code",
      "execution_count": null,
      "metadata": {
        "id": "QD4irWTXzfY3"
      },
      "outputs": [],
      "source": [
        "test_datasets = CustomDataset(test, None, False)\n",
        "test_loaders = DataLoader(test_datasets, batch_size = CFG['BATCH_SIZE'], shuffle=False)"
      ]
    },
    {
      "cell_type": "code",
      "execution_count": null,
      "metadata": {
        "id": "wrOiQIVG0Q7_"
      },
      "outputs": [],
      "source": [
        "def inference(model, test_loader, threshold, device):\n",
        "    model.to(device)\n",
        "    model.eval()\n",
        "    \n",
        "    test_predict = []\n",
        "    with torch.no_grad():\n",
        "        for x in tqdm(test_loader):\n",
        "            x = x.float().to(device)\n",
        "            model_pred = model(x)\n",
        "\n",
        "            model_pred = model_pred.squeeze(1).to('cpu')\n",
        "            test_predict += model_pred\n",
        "        \n",
        "    test_predict = np.where(np.array(test_predict) > threshold, 1, 0)\n",
        "    print('Done.')\n",
        "    return test_predict"
      ]
    },
    {
      "cell_type": "code",
      "execution_count": null,
      "metadata": {
        "id": "ynVw2PED0Q-o"
      },
      "outputs": [],
      "source": [
        "preds = inference(best_student_model, test_loaders, best_threshold, device)"
      ]
    },
    {
      "cell_type": "code",
      "execution_count": null,
      "metadata": {
        "id": "bnSK0dpQ0RBY"
      },
      "outputs": [],
      "source": [
        "submit = pd.read_csv('/content/drive/MyDrive/sample_submission.csv')\n",
        "submit['Y_LABEL'] = preds\n",
        "submit.head()"
      ]
    },
    {
      "cell_type": "code",
      "execution_count": null,
      "metadata": {
        "id": "cJy7NWXO0RD_"
      },
      "outputs": [],
      "source": [
        "submit.to_csv('/content/drive/MyDrive/submit.csv', index=False)"
      ]
    },
    {
      "cell_type": "code",
      "execution_count": null,
      "metadata": {
        "id": "tuGrOvP00RG_"
      },
      "outputs": [],
      "source": []
    },
    {
      "cell_type": "code",
      "execution_count": null,
      "metadata": {
        "id": "urXxXRQs0RJ9"
      },
      "outputs": [],
      "source": []
    },
    {
      "cell_type": "code",
      "execution_count": null,
      "metadata": {
        "id": "0_gZrsvY0RMN"
      },
      "outputs": [],
      "source": [
        "\n"
      ]
    },
    {
      "cell_type": "code",
      "execution_count": null,
      "metadata": {
        "id": "b32UAM5itdUh"
      },
      "outputs": [],
      "source": [
        "\n"
      ]
    },
    {
      "cell_type": "code",
      "execution_count": null,
      "metadata": {
        "id": "hPtW4y0w7iBo"
      },
      "outputs": [],
      "source": []
    }
  ],
  "metadata": {
    "accelerator": "GPU",
    "colab": {
      "provenance": [],
      "include_colab_link": true
    },
    "gpuClass": "standard",
    "kernelspec": {
      "display_name": "Python 3",
      "name": "python3"
    },
    "language_info": {
      "name": "python"
    }
  },
  "nbformat": 4,
  "nbformat_minor": 0
}