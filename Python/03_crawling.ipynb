{
  "nbformat": 4,
  "nbformat_minor": 0,
  "metadata": {
    "colab": {
      "name": "03-crawling.ipynb",
      "provenance": [],
      "collapsed_sections": [],
      "authorship_tag": "ABX9TyO0BKyA3BZgfKB8kt92IAfp",
      "include_colab_link": true
    },
    "kernelspec": {
      "name": "python3",
      "display_name": "Python 3"
    },
    "language_info": {
      "name": "python"
    }
  },
  "cells": [
    {
      "cell_type": "markdown",
      "metadata": {
        "id": "view-in-github",
        "colab_type": "text"
      },
      "source": [
        "<a href=\"https://colab.research.google.com/github/DoItSon/playdata/blob/main/Python/03_crawling.ipynb\" target=\"_parent\"><img src=\"https://colab.research.google.com/assets/colab-badge.svg\" alt=\"Open In Colab\"/></a>"
      ]
    },
    {
      "cell_type": "markdown",
      "source": [
        "# 크롤링(Crawling)이란?\n",
        "- 자동으로 웹페이지의 정보를 수집하는 것"
      ],
      "metadata": {
        "id": "sdB5pkTvQlbG"
      }
    },
    {
      "cell_type": "markdown",
      "source": [
        "# 스크래핑(scraping)이란?\n",
        "- 크롤링을 통한 수집한 정보를 분석해서 필요한 정보만 추출하는 일"
      ],
      "metadata": {
        "id": "nv9fSICt7JJQ"
      }
    },
    {
      "cell_type": "markdown",
      "source": [
        "# HTML(Hyper Text Markup Language)\n",
        "- 웹페이지에 필요한 구성요소를 구성하는 Markup 언어\n",
        "- 태그를 이용해 화면의 레이아웃 구조와 텍스트, 요소 등을 표현한다."
      ],
      "metadata": {
        "id": "G419gEn07Rp2"
      }
    },
    {
      "cell_type": "markdown",
      "source": [
        "```html\n",
        "<!DOCTYPE HTML>\n",
        "<html>\n",
        "    <head>\n",
        "        <title>웹문서의 제목</title>\n",
        "    </head>\n",
        "    <body>\n",
        "        <div>\n",
        "            <a></a>\n",
        "            <p></p>\n",
        "        </div>\n",
        "        웹문서의 내용(실제 브라우저에 표시되는 내용)\n",
        "    </body>\n",
        "</html>\n",
        "```"
      ],
      "metadata": {
        "id": "XYlIk_Y4_tWy"
      }
    },
    {
      "cell_type": "markdown",
      "source": [
        "# CSS\n",
        "- HTMl의 요소를 꾸며주는 스타일 시트\n",
        "- CSS 선택자를 이용해서 HTML 요소에 접근하여 꾸며준다.\n",
        "- CSS 선택자\n",
        "    - 태그명으로 접근하는 예시\n",
        "        - a 태그 접근: `a`\n",
        "    - 태그의 class 속성명으로 접근하는 예시\n",
        "        - class=\"btn\" : `.btn`\n",
        "    - 태그의 id 속성명으로 접근하는 예시\n",
        "        - id=\"btn\" : `#btn`"
      ],
      "metadata": {
        "id": "Z9wcalyJ753N"
      }
    },
    {
      "cell_type": "code",
      "source": [
        "%%html\n",
        "<!DOCYTYPE HTML>\n",
        "<html>\n",
        "    <head>\n",
        "        <title>HTML 페이지</title>\n",
        "    </head>\n",
        "    <style>\n",
        "    #naver-link{color:red;}\n",
        "    .p-el{font-size:30px;}\n",
        "    button{color:blue;}\n",
        "    </style>\n",
        "    <body>\n",
        "        <div>\n",
        "            <a id=\"naver-link\" href=\"https://www.naver.com\" target=\"_blank\">네이버로 이동하기</a>\n",
        "            <p class=\"p-el\">안녕하세요 html 페이지 입니다.</p>\n",
        "            <p class=\"p-el\">반갑습니다.</p>\n",
        "            <p>잘가요.</p>\n",
        "            <button class=\"btn\">클릭하기1</botton>\n",
        "            <button>클릭하기2</botton>\n",
        "        </div>\n",
        "        <div id=\"div-tag\">\n",
        "            <p class=\"p1 p-tag\">첫번째 p태그</p>\n",
        "            <p class=\"p2 p-tag\">두번째 p태그</p>\n",
        "            <p class=\"p3 p-tag\">세번째 p태그</p>\n",
        "        </div>\n",
        "    </body>\n",
        "</html>"
      ],
      "metadata": {
        "colab": {
          "base_uri": "https://localhost:8080/",
          "height": 251
        },
        "id": "sbn5p_QB9My3",
        "outputId": "47deac4a-5369-4b96-ac84-6d52283f0fc1"
      },
      "execution_count": null,
      "outputs": [
        {
          "output_type": "display_data",
          "data": {
            "text/plain": [
              "<IPython.core.display.HTML object>"
            ],
            "text/html": [
              "<!DOCYTYPE HTML>\n",
              "<html>\n",
              "    <head>\n",
              "        <title>HTML 페이지</title>\n",
              "    </head>\n",
              "    <style>\n",
              "    #naver-link{color:red;}\n",
              "    .p-el{font-size:30px;}\n",
              "    button{color:blue;}\n",
              "    </style>\n",
              "    <body>\n",
              "        <div>\n",
              "            <a id=\"naver-link\" href=\"https://www.naver.com\" target=\"_blank\">네이버로 이동하기</a>\n",
              "            <p class=\"p-el\">안녕하세요 html 페이지 입니다.</p>\n",
              "            <p class=\"p-el\">반갑습니다.</p>\n",
              "            <p>잘가요.</p>\n",
              "            <button class=\"btn\">클릭하기1</botton>\n",
              "            <button>클릭하기2</botton>\n",
              "        </div>\n",
              "        <div id=\"div-tag\">\n",
              "            <p class=\"p1 p-tag\">첫번째 p태그</p>\n",
              "            <p class=\"p2 p-tag\">두번째 p태그</p>\n",
              "            <p class=\"p3 p-tag\">세번째 p태그</p>\n",
              "        </div>\n",
              "    </body>\n",
              "</html>\n"
            ]
          },
          "metadata": {}
        }
      ]
    },
    {
      "cell_type": "code",
      "source": [
        "html = \"\"\"\n",
        "<!DOCYTYPE HTML>\n",
        "<html>\n",
        "    <head>\n",
        "        <title>HTML 페이지</title>\n",
        "    </head>\n",
        "    <style>\n",
        "    #naver-link{color:red;}\n",
        "    .p-el{font-size:30px;}\n",
        "    button{color:blue;}\n",
        "    </style>\n",
        "    <body>\n",
        "        <div>\n",
        "            <a id=\"naver-link\" href=\"https://www.naver.com\" target=\"_blank\">네이버로 이동하기</a>\n",
        "            <p class=\"p-el\">안녕하세요 html 페이지 입니다.</p>\n",
        "            <p class=\"p-el\">반갑습니다.</p>\n",
        "            <p>잘가요.</p>\n",
        "            <button class=\"btn\">클릭하기1</button>\n",
        "            <button>클릭하기2</button>\n",
        "        </div>\n",
        "        <div id=\"div-tag\">\n",
        "            <p class=\"p1 p-tag\">첫번째 p태그</p>\n",
        "            <p class=\"p2 p-tag\">두번째 p태그</p>\n",
        "            <p class=\"p3 p-tag\">세번째 p태그</p>\n",
        "        </div>\n",
        "    </body>\n",
        "</html>\n",
        "\"\"\""
      ],
      "metadata": {
        "id": "MnbhZBfr_0q_"
      },
      "execution_count": null,
      "outputs": []
    },
    {
      "cell_type": "code",
      "source": [
        "from bs4 import BeautifulSoup"
      ],
      "metadata": {
        "id": "BhnODsY8AhFs"
      },
      "execution_count": null,
      "outputs": []
    },
    {
      "cell_type": "code",
      "source": [
        "soup = BeautifulSoup(html,'html.parser')\n",
        "soup"
      ],
      "metadata": {
        "colab": {
          "base_uri": "https://localhost:8080/"
        },
        "id": "qVOVOlfYAm_-",
        "outputId": "ad1ca5b6-0fb8-4396-e515-7fbd893a44a9"
      },
      "execution_count": null,
      "outputs": [
        {
          "output_type": "execute_result",
          "data": {
            "text/plain": [
              "\n",
              "<!--DOCYTYPE HTML-->\n",
              "<html>\n",
              "<head>\n",
              "<title>HTML 페이지</title>\n",
              "</head>\n",
              "<style>\n",
              "    #naver-link{color:red;}\n",
              "    .p-el{font-size:30px;}\n",
              "    button{color:blue;}\n",
              "    </style>\n",
              "<body>\n",
              "<div>\n",
              "<a href=\"https://www.naver.com\" id=\"naver-link\" target=\"_blank\">네이버로 이동하기</a>\n",
              "<p class=\"p-el\">안녕하세요 html 페이지 입니다.</p>\n",
              "<p class=\"p-el\">반갑습니다.</p>\n",
              "<p>잘가요.</p>\n",
              "<button class=\"btn\">클릭하기1</button>\n",
              "<button>클릭하기2</button>\n",
              "</div>\n",
              "<div id=\"div-tag\">\n",
              "<p class=\"p1 p-tag\">첫번째 p태그</p>\n",
              "<p class=\"p2 p-tag\">두번째 p태그</p>\n",
              "<p class=\"p3 p-tag\">세번째 p태그</p>\n",
              "</div>\n",
              "</body>\n",
              "</html>"
            ]
          },
          "metadata": {},
          "execution_count": 83
        }
      ]
    },
    {
      "cell_type": "code",
      "source": [
        "type(soup)"
      ],
      "metadata": {
        "colab": {
          "base_uri": "https://localhost:8080/"
        },
        "id": "H0omAw-BAy7u",
        "outputId": "96a1df16-7f5b-48e8-cd9b-25d4a9e84a6a"
      },
      "execution_count": null,
      "outputs": [
        {
          "output_type": "execute_result",
          "data": {
            "text/plain": [
              "bs4.BeautifulSoup"
            ]
          },
          "metadata": {},
          "execution_count": 84
        }
      ]
    },
    {
      "cell_type": "markdown",
      "source": [
        "# 태그명과 속성명&속성값을 이용해서 접근하기"
      ],
      "metadata": {
        "id": "1ik-LaznA8TS"
      }
    },
    {
      "cell_type": "markdown",
      "source": [
        "- `find({\"태그명\",\"속성명과 값에 대한 딕셔너리\"})`\n",
        "    - 한개의 요소만 찾는다."
      ],
      "metadata": {
        "id": "TeCT0mkUBOvz"
      }
    },
    {
      "cell_type": "code",
      "source": [
        "el = soup.find(\"p\")\n",
        "el"
      ],
      "metadata": {
        "colab": {
          "base_uri": "https://localhost:8080/"
        },
        "id": "Rq56WsHVBcww",
        "outputId": "b807d5f0-4a23-490e-ab2e-1b47e0af1c34"
      },
      "execution_count": null,
      "outputs": [
        {
          "output_type": "execute_result",
          "data": {
            "text/plain": [
              "<p class=\"p-el\">안녕하세요 html 페이지 입니다.</p>"
            ]
          },
          "metadata": {},
          "execution_count": 85
        }
      ]
    },
    {
      "cell_type": "code",
      "source": [
        "type(el)"
      ],
      "metadata": {
        "colab": {
          "base_uri": "https://localhost:8080/"
        },
        "id": "qXeb91_hBtH4",
        "outputId": "8ba1b025-f9f5-4874-a593-167ae6f50c7e"
      },
      "execution_count": null,
      "outputs": [
        {
          "output_type": "execute_result",
          "data": {
            "text/plain": [
              "bs4.element.Tag"
            ]
          },
          "metadata": {},
          "execution_count": 86
        }
      ]
    },
    {
      "cell_type": "code",
      "source": [
        "el.text"
      ],
      "metadata": {
        "id": "hWrS-EdmBy6R",
        "colab": {
          "base_uri": "https://localhost:8080/",
          "height": 35
        },
        "outputId": "2902fd81-6829-4ace-e3bc-55b56fdb0315"
      },
      "execution_count": null,
      "outputs": [
        {
          "output_type": "execute_result",
          "data": {
            "text/plain": [
              "'안녕하세요 html 페이지 입니다.'"
            ],
            "application/vnd.google.colaboratory.intrinsic+json": {
              "type": "string"
            }
          },
          "metadata": {},
          "execution_count": 87
        }
      ]
    },
    {
      "cell_type": "code",
      "source": [
        "el.string"
      ],
      "metadata": {
        "colab": {
          "base_uri": "https://localhost:8080/",
          "height": 35
        },
        "id": "WHbR073TB5XN",
        "outputId": "6eb227a4-035c-4d86-8ba2-8ef77ecdcef6"
      },
      "execution_count": null,
      "outputs": [
        {
          "output_type": "execute_result",
          "data": {
            "text/plain": [
              "'안녕하세요 html 페이지 입니다.'"
            ],
            "application/vnd.google.colaboratory.intrinsic+json": {
              "type": "string"
            }
          },
          "metadata": {},
          "execution_count": 88
        }
      ]
    },
    {
      "cell_type": "code",
      "source": [
        "el.get_text()"
      ],
      "metadata": {
        "colab": {
          "base_uri": "https://localhost:8080/",
          "height": 35
        },
        "id": "Ewv7-SR8B94W",
        "outputId": "1b1af0f5-be5e-4db3-cb40-0a322155548a"
      },
      "execution_count": null,
      "outputs": [
        {
          "output_type": "execute_result",
          "data": {
            "text/plain": [
              "'안녕하세요 html 페이지 입니다.'"
            ],
            "application/vnd.google.colaboratory.intrinsic+json": {
              "type": "string"
            }
          },
          "metadata": {},
          "execution_count": 89
        }
      ]
    },
    {
      "cell_type": "code",
      "source": [
        "el.name"
      ],
      "metadata": {
        "colab": {
          "base_uri": "https://localhost:8080/",
          "height": 35
        },
        "id": "nwuBuAHlCA_4",
        "outputId": "fdd9d5d1-9709-4c28-b2f8-70771ef037b0"
      },
      "execution_count": null,
      "outputs": [
        {
          "output_type": "execute_result",
          "data": {
            "text/plain": [
              "'p'"
            ],
            "application/vnd.google.colaboratory.intrinsic+json": {
              "type": "string"
            }
          },
          "metadata": {},
          "execution_count": 90
        }
      ]
    },
    {
      "cell_type": "code",
      "source": [
        "el = soup.find(\"div\")\n",
        "el"
      ],
      "metadata": {
        "colab": {
          "base_uri": "https://localhost:8080/"
        },
        "id": "l6smJB6uCVyi",
        "outputId": "15b4aa84-557a-4e85-a571-c5221d5b87be"
      },
      "execution_count": null,
      "outputs": [
        {
          "output_type": "execute_result",
          "data": {
            "text/plain": [
              "<div>\n",
              "<a href=\"https://www.naver.com\" id=\"naver-link\" target=\"_blank\">네이버로 이동하기</a>\n",
              "<p class=\"p-el\">안녕하세요 html 페이지 입니다.</p>\n",
              "<p class=\"p-el\">반갑습니다.</p>\n",
              "<p>잘가요.</p>\n",
              "<button class=\"btn\">클릭하기1</button>\n",
              "<button>클릭하기2</button>\n",
              "</div>"
            ]
          },
          "metadata": {},
          "execution_count": 91
        }
      ]
    },
    {
      "cell_type": "code",
      "source": [
        "el.children"
      ],
      "metadata": {
        "colab": {
          "base_uri": "https://localhost:8080/"
        },
        "id": "IWRXDtjRCf1b",
        "outputId": "9203b8d1-f507-4ce3-f54b-20895c743750"
      },
      "execution_count": null,
      "outputs": [
        {
          "output_type": "execute_result",
          "data": {
            "text/plain": [
              "<list_iterator at 0x7f56d59f73d0>"
            ]
          },
          "metadata": {},
          "execution_count": 92
        }
      ]
    },
    {
      "cell_type": "code",
      "source": [
        "for i in el.children:\n",
        "    print(i)"
      ],
      "metadata": {
        "colab": {
          "base_uri": "https://localhost:8080/"
        },
        "id": "f-soUpWMDBMR",
        "outputId": "4e2dc08f-849d-4147-faa2-e8f147500d1d"
      },
      "execution_count": null,
      "outputs": [
        {
          "output_type": "stream",
          "name": "stdout",
          "text": [
            "\n",
            "\n",
            "<a href=\"https://www.naver.com\" id=\"naver-link\" target=\"_blank\">네이버로 이동하기</a>\n",
            "\n",
            "\n",
            "<p class=\"p-el\">안녕하세요 html 페이지 입니다.</p>\n",
            "\n",
            "\n",
            "<p class=\"p-el\">반갑습니다.</p>\n",
            "\n",
            "\n",
            "<p>잘가요.</p>\n",
            "\n",
            "\n",
            "<button class=\"btn\">클릭하기1</button>\n",
            "\n",
            "\n",
            "<button>클릭하기2</button>\n",
            "\n",
            "\n"
          ]
        }
      ]
    },
    {
      "cell_type": "markdown",
      "source": [
        "- `find_all(\"div\",{\"속성명\":\"속성값\"})`\n",
        "    - 여러개 찾기\n",
        "    - 리스트를 반환한다."
      ],
      "metadata": {
        "id": "M37vkPLyDF_F"
      }
    },
    {
      "cell_type": "code",
      "source": [
        "soup.find_all(\"p\")"
      ],
      "metadata": {
        "colab": {
          "base_uri": "https://localhost:8080/"
        },
        "id": "HaTy7WGTDfm4",
        "outputId": "0976c4ab-997f-459b-cd10-3e7e7ec876d5"
      },
      "execution_count": null,
      "outputs": [
        {
          "output_type": "execute_result",
          "data": {
            "text/plain": [
              "[<p class=\"p-el\">안녕하세요 html 페이지 입니다.</p>,\n",
              " <p class=\"p-el\">반갑습니다.</p>,\n",
              " <p>잘가요.</p>,\n",
              " <p class=\"p1 p-tag\">첫번째 p태그</p>,\n",
              " <p class=\"p2 p-tag\">두번째 p태그</p>,\n",
              " <p class=\"p3 p-tag\">세번째 p태그</p>]"
            ]
          },
          "metadata": {},
          "execution_count": 94
        }
      ]
    },
    {
      "cell_type": "code",
      "source": [
        "el = soup.find(\"div\",{\"id\":\"div-tag\"}) # id 속성값이 중복되면 안된다.\n",
        "el"
      ],
      "metadata": {
        "colab": {
          "base_uri": "https://localhost:8080/"
        },
        "id": "f_CMiPtpD_ol",
        "outputId": "65651527-9ee4-4ce7-a36f-97712c0b244f"
      },
      "execution_count": null,
      "outputs": [
        {
          "output_type": "execute_result",
          "data": {
            "text/plain": [
              "<div id=\"div-tag\">\n",
              "<p class=\"p1 p-tag\">첫번째 p태그</p>\n",
              "<p class=\"p2 p-tag\">두번째 p태그</p>\n",
              "<p class=\"p3 p-tag\">세번째 p태그</p>\n",
              "</div>"
            ]
          },
          "metadata": {},
          "execution_count": 95
        }
      ]
    },
    {
      "cell_type": "code",
      "source": [
        "el.text"
      ],
      "metadata": {
        "colab": {
          "base_uri": "https://localhost:8080/",
          "height": 35
        },
        "id": "CC7mFWqUFAIL",
        "outputId": "97aced86-ac31-44c1-e4e5-102d86474ede"
      },
      "execution_count": null,
      "outputs": [
        {
          "output_type": "execute_result",
          "data": {
            "text/plain": [
              "'\\n첫번째 p태그\\n두번째 p태그\\n세번째 p태그\\n'"
            ],
            "application/vnd.google.colaboratory.intrinsic+json": {
              "type": "string"
            }
          },
          "metadata": {},
          "execution_count": 96
        }
      ]
    },
    {
      "cell_type": "markdown",
      "source": [
        "- p 태그이면서 class 속성이 p-el인 태그를 모두 추출하시오."
      ],
      "metadata": {
        "id": "XO_73q0rFC5J"
      }
    },
    {
      "cell_type": "code",
      "source": [
        "el = soup.find_all(\"p\",{\"class\" : \"p-el\"})\n",
        "el"
      ],
      "metadata": {
        "colab": {
          "base_uri": "https://localhost:8080/"
        },
        "id": "jugVLpCyI5FN",
        "outputId": "9bbc04b7-51ac-4e26-f1dd-be225acd833d"
      },
      "execution_count": null,
      "outputs": [
        {
          "output_type": "execute_result",
          "data": {
            "text/plain": [
              "[<p class=\"p-el\">안녕하세요 html 페이지 입니다.</p>, <p class=\"p-el\">반갑습니다.</p>]"
            ]
          },
          "metadata": {},
          "execution_count": 97
        }
      ]
    },
    {
      "cell_type": "markdown",
      "source": [
        "- a 태그이면서 target 속성이 _blank인 태그를 모두 추출하시오."
      ],
      "metadata": {
        "id": "edX0JMAOJPv1"
      }
    },
    {
      "cell_type": "code",
      "source": [
        "el = soup.find_all(\"a\",{\"target\":\"_blank\"})\n",
        "el"
      ],
      "metadata": {
        "colab": {
          "base_uri": "https://localhost:8080/"
        },
        "id": "SZqw921yJ2N5",
        "outputId": "a25743ea-edae-4028-dd09-2265ac91a39e"
      },
      "execution_count": null,
      "outputs": [
        {
          "output_type": "execute_result",
          "data": {
            "text/plain": [
              "[<a href=\"https://www.naver.com\" id=\"naver-link\" target=\"_blank\">네이버로 이동하기</a>]"
            ]
          },
          "metadata": {},
          "execution_count": 98
        }
      ]
    },
    {
      "cell_type": "code",
      "source": [
        "el[0].text"
      ],
      "metadata": {
        "colab": {
          "base_uri": "https://localhost:8080/",
          "height": 35
        },
        "id": "gjcqEj5hKBLM",
        "outputId": "af004aca-0f4a-4290-f6d6-ae44004ab806"
      },
      "execution_count": null,
      "outputs": [
        {
          "output_type": "execute_result",
          "data": {
            "text/plain": [
              "'네이버로 이동하기'"
            ],
            "application/vnd.google.colaboratory.intrinsic+json": {
              "type": "string"
            }
          },
          "metadata": {},
          "execution_count": 99
        }
      ]
    },
    {
      "cell_type": "code",
      "source": [
        "el[0][\"href\"]"
      ],
      "metadata": {
        "colab": {
          "base_uri": "https://localhost:8080/",
          "height": 35
        },
        "id": "XXDdkSycKYBR",
        "outputId": "e1ec5052-187b-49c1-aba0-b5aa5125cdce"
      },
      "execution_count": null,
      "outputs": [
        {
          "output_type": "execute_result",
          "data": {
            "text/plain": [
              "'https://www.naver.com'"
            ],
            "application/vnd.google.colaboratory.intrinsic+json": {
              "type": "string"
            }
          },
          "metadata": {},
          "execution_count": 100
        }
      ]
    },
    {
      "cell_type": "markdown",
      "source": [
        "# CSS 선택자(selector)를 사용해서 추출"
      ],
      "metadata": {
        "id": "ThBcw7G5KeF3"
      }
    },
    {
      "cell_type": "markdown",
      "source": [
        "- 태그명을 이용한 선택"
      ],
      "metadata": {
        "id": "jJZDYmfwLpE1"
      }
    },
    {
      "cell_type": "code",
      "source": [
        "el = soup.select_one(\"a\")\n",
        "type(el)"
      ],
      "metadata": {
        "colab": {
          "base_uri": "https://localhost:8080/"
        },
        "id": "ToSYIt0RKrzK",
        "outputId": "a2fc6b5c-9126-42b9-869f-899dfb639c11"
      },
      "execution_count": null,
      "outputs": [
        {
          "output_type": "execute_result",
          "data": {
            "text/plain": [
              "bs4.element.Tag"
            ]
          },
          "metadata": {},
          "execution_count": 101
        }
      ]
    },
    {
      "cell_type": "markdown",
      "source": [
        "- id 속성을 이용한 선택"
      ],
      "metadata": {
        "id": "Yq1-OQzxLiLg"
      }
    },
    {
      "cell_type": "code",
      "source": [
        "soup.select_one(\"#naver-link\")"
      ],
      "metadata": {
        "colab": {
          "base_uri": "https://localhost:8080/"
        },
        "id": "kPNqLwXfK2TI",
        "outputId": "691da537-1183-4521-c97c-9c16bdaa2a3b"
      },
      "execution_count": null,
      "outputs": [
        {
          "output_type": "execute_result",
          "data": {
            "text/plain": [
              "<a href=\"https://www.naver.com\" id=\"naver-link\" target=\"_blank\">네이버로 이동하기</a>"
            ]
          },
          "metadata": {},
          "execution_count": 102
        }
      ]
    },
    {
      "cell_type": "markdown",
      "source": [
        "- class 속성을 이용한 선택"
      ],
      "metadata": {
        "id": "wrz_sH-nMAvK"
      }
    },
    {
      "cell_type": "code",
      "source": [
        "soup.select_one(\".p-el\")"
      ],
      "metadata": {
        "colab": {
          "base_uri": "https://localhost:8080/"
        },
        "id": "cAV8G1gbLE9D",
        "outputId": "add32c27-28a1-484e-a9cb-99d7fe37ef5d"
      },
      "execution_count": null,
      "outputs": [
        {
          "output_type": "execute_result",
          "data": {
            "text/plain": [
              "<p class=\"p-el\">안녕하세요 html 페이지 입니다.</p>"
            ]
          },
          "metadata": {},
          "execution_count": 103
        }
      ]
    },
    {
      "cell_type": "markdown",
      "source": [
        "- 클래스는 속성값을 여러개 넣을 수 있다.\n",
        "```html\n",
        "<div class=\"div-1 div-2 div-3\"></div>\n",
        "```"
      ],
      "metadata": {
        "id": "XjxbQ15kMNWT"
      }
    },
    {
      "cell_type": "markdown",
      "source": [
        "- 다음의 예시는 한칸을 띄울 경우 body 태그 하위에 모든 p태그를 가져오겠다는 의미"
      ],
      "metadata": {
        "id": "Pmm5awapN1TF"
      }
    },
    {
      "cell_type": "code",
      "source": [
        "soup.select(\"body p\") "
      ],
      "metadata": {
        "id": "iO3XSUwAMANi",
        "colab": {
          "base_uri": "https://localhost:8080/"
        },
        "outputId": "d263dcd1-5ee0-4201-a8d6-8b259019fff9"
      },
      "execution_count": null,
      "outputs": [
        {
          "output_type": "execute_result",
          "data": {
            "text/plain": [
              "[<p class=\"p-el\">안녕하세요 html 페이지 입니다.</p>,\n",
              " <p class=\"p-el\">반갑습니다.</p>,\n",
              " <p>잘가요.</p>,\n",
              " <p class=\"p1 p-tag\">첫번째 p태그</p>,\n",
              " <p class=\"p2 p-tag\">두번째 p태그</p>,\n",
              " <p class=\"p3 p-tag\">세번째 p태그</p>]"
            ]
          },
          "metadata": {},
          "execution_count": 108
        }
      ]
    },
    {
      "cell_type": "markdown",
      "source": [
        "- 다음의 예시에서 `>` 화살괄호의 의미는 body태그에 바로 하위에 p 태그들만 가져오겠다라는 의미"
      ],
      "metadata": {
        "id": "pLSbZcqdMrtr"
      }
    },
    {
      "cell_type": "code",
      "source": [
        "soup.select(\"body > p\") # 존재하지않아서 안나옴"
      ],
      "metadata": {
        "colab": {
          "base_uri": "https://localhost:8080/"
        },
        "id": "okwLzX6zOeAy",
        "outputId": "a1d4dc05-c381-480e-c552-afb7f72720a2"
      },
      "execution_count": null,
      "outputs": [
        {
          "output_type": "execute_result",
          "data": {
            "text/plain": [
              "[]"
            ]
          },
          "metadata": {},
          "execution_count": 111
        }
      ]
    },
    {
      "cell_type": "code",
      "source": [
        "soup.select(\"#div-tag > p\")"
      ],
      "metadata": {
        "colab": {
          "base_uri": "https://localhost:8080/"
        },
        "id": "TtGo_oStOkWp",
        "outputId": "7f9175d8-eef1-4ba6-8b4b-ece640f9e7cd"
      },
      "execution_count": null,
      "outputs": [
        {
          "output_type": "execute_result",
          "data": {
            "text/plain": [
              "[<p class=\"p1 p-tag\">첫번째 p태그</p>,\n",
              " <p class=\"p2 p-tag\">두번째 p태그</p>,\n",
              " <p class=\"p3 p-tag\">세번째 p태그</p>]"
            ]
          },
          "metadata": {},
          "execution_count": 112
        }
      ]
    },
    {
      "cell_type": "markdown",
      "source": [
        "- button 태그이면서 클래스명이 btn인 것을 찾고 싶다."
      ],
      "metadata": {
        "id": "5vWobQU6O3au"
      }
    },
    {
      "cell_type": "code",
      "source": [
        "soup.select(\"button.btn\")"
      ],
      "metadata": {
        "colab": {
          "base_uri": "https://localhost:8080/"
        },
        "id": "FPgYsunoPO6k",
        "outputId": "a4ad2f83-a903-4c05-ad30-2a0206dcf5b9"
      },
      "execution_count": null,
      "outputs": [
        {
          "output_type": "execute_result",
          "data": {
            "text/plain": [
              "[<button class=\"btn\">클릭하기1</button>]"
            ]
          },
          "metadata": {},
          "execution_count": 113
        }
      ]
    },
    {
      "cell_type": "markdown",
      "source": [
        "- a 태그이면서 id명이 naver-link인 것을 찾고싶다."
      ],
      "metadata": {
        "id": "_2bOo5EGPTKr"
      }
    },
    {
      "cell_type": "code",
      "source": [
        "soup.select(\"a#naver-link\") # # = id 선택하는 것"
      ],
      "metadata": {
        "colab": {
          "base_uri": "https://localhost:8080/"
        },
        "id": "i0WEfx7yPizL",
        "outputId": "c813783d-2c79-4e07-ab43-1d6dc7b68f70"
      },
      "execution_count": null,
      "outputs": [
        {
          "output_type": "execute_result",
          "data": {
            "text/plain": [
              "[<a href=\"https://www.naver.com\" id=\"naver-link\" target=\"_blank\">네이버로 이동하기</a>]"
            ]
          },
          "metadata": {},
          "execution_count": 114
        }
      ]
    },
    {
      "cell_type": "markdown",
      "source": [
        "# 인코딩 에러 예시"
      ],
      "metadata": {
        "id": "uXcrFlIoPw10"
      }
    },
    {
      "cell_type": "code",
      "source": [
        "import requests\n",
        "url = \"https://www.bobaedream.co.kr/list?code=import\"\n",
        "res = requests.get(url)\n",
        "res.status_code"
      ],
      "metadata": {
        "colab": {
          "base_uri": "https://localhost:8080/"
        },
        "id": "8fTQgzslQrr1",
        "outputId": "1a47842f-9b70-4259-fc88-6ca77e99bdde"
      },
      "execution_count": null,
      "outputs": [
        {
          "output_type": "execute_result",
          "data": {
            "text/plain": [
              "200"
            ]
          },
          "metadata": {},
          "execution_count": 118
        }
      ]
    },
    {
      "cell_type": "code",
      "source": [
        "res.encoding # 서버측에서 헤더의 인코딩 정보를 잘못 넘겨줌"
      ],
      "metadata": {
        "colab": {
          "base_uri": "https://localhost:8080/",
          "height": 35
        },
        "id": "xIy77ssFQxgY",
        "outputId": "732d8f4b-ed9c-404a-b386-8c19e6888acf"
      },
      "execution_count": null,
      "outputs": [
        {
          "output_type": "execute_result",
          "data": {
            "text/plain": [
              "'ISO-8859-1'"
            ],
            "application/vnd.google.colaboratory.intrinsic+json": {
              "type": "string"
            }
          },
          "metadata": {},
          "execution_count": 120
        }
      ]
    },
    {
      "cell_type": "code",
      "source": [
        "res.text # 응답객체의 인코딩 정보를 통해 자동으로 디코딩"
      ],
      "metadata": {
        "colab": {
          "base_uri": "https://localhost:8080/",
          "height": 127
        },
        "id": "2orDVqptRNEA",
        "outputId": "dfcd16d2-bc16-4b97-aca9-8628b2d2e9e4"
      },
      "execution_count": null,
      "outputs": [
        {
          "output_type": "execute_result",
          "data": {
            "text/plain": [
              "'<!DOCTYPE html PUBLIC \"-//W3C//DTD XHTML 1.0 Transitional//EN\" \"http://www.w3.org/TR/xhtml1/DTD/xhtml1-Transitional.dtd\" >\\r\\n<html xmlns=\"http://www.w3.org/1999/xhtml\" lang=\"ko\">\\r\\n<head>\\r\\n  <meta http-equiv=\"Content-Type\" content=\"text/html; charset=utf-8\" />\\r\\n  <meta http-equiv=\"X-UA-Compatible\" content=\"IE=edge\" />\\r\\n  <meta name=\"viewport\" content=\"width=1100, user-scalable=yes\"/>\\r\\n  <title>ì\\x88\\x98ì\\x9e\\x85ì°¨ê²\\x8cì\\x8b\\x9cí\\x8c\\x90 | ë³´ë°°ë\\x93\\x9cë¦¼ ì»¤ë®¤ë\\x8b\\x88í\\x8b°</title>\\r\\n  <META NAME=\"KEYWORDS\" CONTENT=\"ì¤\\x91ê³\\xa0ì°¨ ë³´ë°°ë\\x93\\x9cë¦¼\" />\\r\\n  <META NAME=\"DESCRIPTION\" CONTENT=\"ì¤\\x91ê³\\xa0ì°¨ ë³´ë°°ë\\x93\\x9cë¦¼\" />\\r\\n  <META NAME=\"subject\" CONTENT=\"ì¤\\x91ê³\\xa0ì°¨ ë³´ë°°ë\\x93\\x9cë¦¼\" />\\r\\n  <META NAME=\"author\" content=\"ì¤\\x91ê³\\xa0ì°¨ ë³´ë°°ë\\x93\\x9cë¦¼\" />\\r\\n  <META NAME=\"copyright\" CONTENT=\"ì¤\\x91ê³\\xa0ì°¨ ë³´ë°°ë\\x93\\x9cë¦¼\" />\\r\\n  <Meta name=\"classification\"\\t\\tcontent=\"ì¤\\x91ê³\\xa0ì°¨ ë³´ë°°ë\\x93\\x9cë¦¼\" />\\r\\n  <meta name=\"referrer\" content=\"no-referrer-when-downgrade\">\\t\\r\\n\\t\\r\\n<link rel=\"stylesheet\" type=\"text/css\" href=\"//image.bobaedream.co.kr/renew/css/common_0227.css?v=19051326\">\\r\\n<!-- link rel=\"stylesheet\" type=\"text/css\" href=\"http://image.bobaedream.co.kr/renew/css/topmenu_renew.css\" / -->\\r\\n<link rel=\"stylesheet\" type=\"text/css\" href=\"//image.bobaedream.co.kr/css/default_0227.css?v=19051326\">\\r\\n<link rel=\"stylesheet\" type=\"text/css\" href=\"//image.bobaedream.co.kr/css/community_renew_0309.css?v=19051326\">\\r\\n<link rel=\"stylesheet\" type=\"text/css\" href=\"//image.bobaedream.co.kr/renew2017/assets/css/bobae_comm_2017.css?v=19051326\">\\r\\n<link rel=\"stylesheet\" type=\"text/css\" href=\"//image.bobaedream.co.kr/renew2017/assets/css/bobae_sub_2017.css?v=3.31\">\\r\\n<link rel=\"stylesheet\" type=\"text/css\" href=\"//image.bobaedream.co.kr/renew2017/assets/css/bobae_old_2017.css?v=19121709\">\\r\\n\\r\\n  \\r\\n<style>\\r\\n\\t.clistSearch03 {display:none}\\r\\n</style>\\r\\n  <link rel=\"shortcut icon\" href=\"//image.bobaedream.co.kr/renew2017/assets/images/favicon.ico\">\\r\\n<script async=\"async\" src=\"https://www.google.com/adsense/search/ads.js\"></script>\\r\\n\\r\\n<!-- other head elements from your page -->\\r\\n\\r\\n<script type=\"text/javascript\" charset=\"utf-8\">\\r\\n(function(g,o){g[o]=g[o]||function(){(g[o][\\'q\\']=g[o][\\'q\\']||[]).push(\\r\\n  arguments)},g[o][\\'t\\']=1*new Date})(window,\\'_googCsa\\');\\r\\n</script>\\r\\n\\r\\n</head>\\r\\n\\r\\n<body class=\"body-community\">\\r\\n\\r\\n    <style type=\"text/css\">\\r\\n    <!--\\r\\n      .menuArea .mainMenu .subMenu{border-bottom:2px solid #d2d2d2;}\\r\\n    -->\\r\\n    </style>    \\r\\n\\r\\n\\r\\n    <script type=\"text/javascript\" src=\"//image.bobaedream.co.kr/renew2017/assets/js/bobae.min.js?v=3\"></script>  \\r\\n<script>  \\r\\n\\tfunction subMenuOver(obj) {\\r\\n\\t\\tvar menu_id   = \"4\";\\r\\n\\t\\tvar menu_code = \"import\";\\t  \\r\\n\\t  \\r\\n\\t  for(i=1;i<=9;i++) {\\r\\n\\t  \\r\\n\\t  \\t\\t$(\"#imgMenu\" + i).attr(\"src\", \"//image.bobaedream.co.kr/renew/images/common/navi0\" + i + \"_off.jpg\");\\r\\n\\t    \\r\\n\\t    \\tif (i == obj) {\\r\\n\\t        \\r\\n\\t        $(\"#subMenu\" + i).show();\\r\\n\\t        $(\"#imgMenu\" + i).attr(\"src\", \"//image.bobaedream.co.kr/renew/images/common/navi0\" + i + \"_on.jpg\");\\r\\n\\t\\r\\n\\t    \\t} else {\\r\\n\\t    \\t\\t $(\"#subMenu\" + i).hide();\\r\\n\\t    \\t}\\r\\n\\t  }\\r\\n\\t}\\r\\n\\r\\nfunction subMenuOut(obj) {\\r\\n  var menu_id = \"4\";\\r\\n\\tvar menu_code = \"import\";\\r\\n\\t\\r\\n\\tswitch(menu_id) {\\r\\n\\t\\tcase \"2\":\\r\\n\\t\\t\\tmenu_id = \"1\";\\r\\n\\t\\t\\tbreak;\\r\\n\\t\\tcase \"3\":\\r\\n\\t\\t\\tmenu_id = \"8\";\\r\\n\\t\\t\\tbreak;\\r\\n\\t\\tcase \"4\":\\r\\n\\t\\t\\tmenu_id = \"9\";\\r\\n\\t\\t\\tbreak;\\r\\n\\t\\tcase \"5\":\\r\\n\\t\\t\\tmenu_id = \"4\";\\r\\n\\t\\t\\tbreak;\\r\\n\\t\\tcase \"11\":\\r\\n\\t\\t\\tmenu_id = \"6\";\\r\\n\\t\\t\\tbreak;\\r\\n\\t\\tcase \"12\":\\r\\n\\t\\t\\tmenu_id = \"6\";\\r\\n\\t\\t\\tbreak;\\r\\n\\t\\tdefault:\\r\\n\\t\\t\\tmenu_id = \"\";\\r\\n\\t\\t\\tbreak;\\r\\n\\t}\\r\\n\\r\\n  for(i=1;i<=9;i++) {\\r\\n\\r\\n   \\t if (i == menu_id) {\\r\\n   \\t \\t if(menu_id == \\'8\\' && menu_code == \\'fa\\') {\\r\\n   \\t   \\t$(\"#imgMenu2\").attr(\"src\", \"//image.bobaedream.co.kr/renew/images/common/navi02_on.jpg\");\\r\\n       \\t$(\"#subMenu2\").hide();\\r\\n\\r\\n   \\t   \\t$(\"#imgMenu8\").attr(\"src\", \"//image.bobaedream.co.kr/renew/images/common/navi08_off.jpg\");\\r\\n       \\t$(\"#subMenu8\").hide();\\r\\n       \\t\\r\\n   \\t \\t } else {\\r\\n   \\t   \\t$(\"#imgMenu\" + i).attr(\"src\", \"//image.bobaedream.co.kr/renew/images/common/navi0\" + i + \"_on.jpg\");\\r\\n       \\t$(\"#subMenu\" + i).hide();\\r\\n       }\\r\\n   \\t } else {\\r\\n   \\t \\t\\r\\n      $(\"#subMenu\" + i).hide();\\r\\n      $(\"#imgMenu\" + i).attr(\"src\", \"//image.bobaedream.co.kr/renew/images/common/navi0\" + i + \"_off.jpg\");\\r\\n\\t\\t }\\r\\n  }\\r\\n  if(menu_id == \\'8\\' && menu_code == \\'fa\\') {\\r\\n  \\t$(\"#subMenu2\").show();\\r\\n  } else {\\r\\n  \\t$(\"#subMenu\" + menu_id).show();\\r\\n  }\\r\\n  \\r\\n}\\r\\n\\r\\n\\r\\n$(function(){\\r\\n\\t$(\".allview\").click(function () {\\r\\n\\t\\t$(\".globalallview\").toggleClass(\"globalallview_click\");\\r\\n\\t\\t$(\".top_navi\").toggleClass(\"zindex\");\\r\\n\\t});\\r\\n});\\r\\n\\r\\n//  <![CDATA[\\r\\n  function itemView_top(t, type) {\\r\\n    var item = $(\".\"+t+\" > div\");\\r\\n\\r\\n    var selectCnt = \"\";\\r\\n    var x = 0;\\r\\n    item.each(function(index, value){\\r\\n      if($(this).css(\\'display\\') != \\'none\\'){\\r\\n        selectCnt = x;\\r\\n      }\\r\\n      x++;\\r\\n      $(this).hide();\\r\\n    });\\r\\n\\r\\n    switch (type) {\\r\\n      case \"+\":\\tselectIndex = (selectCnt+1)>=x ?0:selectCnt+1;\\tbreak;\\r\\n      case \"-\":\\tselectIndex = (selectCnt-1)< 0 ?x-1:selectCnt-1;\\tbreak;\\r\\n    }\\r\\n\\r\\n    $(\".bnnr2 > div\").eq(selectIndex).show();\\r\\n    selectIndex = null;\\r\\n  }\\r\\n\\r\\n  function addFavorite(obj, title) {\\r\\n    if (window.sidebar) { // Mozilla Firefox Bookmark\\r\\n      window.sidebar.addPanel(title, \\'https://www.bobaedream.co.kr/list?code=import\\', \\'\\');\\r\\n\\t\\t} else if (window.chrome) {\\r\\n\\t\\t\\talert(\"Ctrl+D ë¥¼ ë\\x88\\x84ë¥´ì\\x8b\\x9cë©´ ì¦\\x90ê²¨ì°¾ê¸°ì\\x97\\x90 ì¶\\x94ê°\\x80í\\x95\\x98ì\\x8b¤ ì\\x88\\x98 ì\\x9e\\x88ì\\x8aµë\\x8b\\x88ë\\x8b¤.\");\\r\\n    } else if (window.external) { // IE Favorite\\r\\n      window.external.AddFavorite(\\'https://www.bobaedream.co.kr/list?code=import\\', title);\\r\\n    } else if (window.opera && window.print) { // Opera Hotlist\\r\\n      return true;\\r\\n    } else {\\r\\n      alert(\"Ctrl+D (Safari, Chrome) or Ctrl+B (Konqueror)\");\\r\\n    }\\r\\n    //return false;\\r\\n  }\\r\\n\\r\\n  function layer_view(id_name) {\\r\\n    if (document.getElementById(id_name).style.display == \"\") {\\r\\n      document.getElementById(id_name).style.display = \"block\";\\r\\n      document.getElementById(\\'allview_img\\').className = \"on\";\\r\\n    } else {\\r\\n      document.getElementById(id_name).style.display = \"\";\\r\\n      document.getElementById(\\'allview_img\\').className = \"\";\\r\\n    }\\r\\n  }\\r\\n  function iopen() {\\r\\n    window.open(\"https://www.bobaedream.co.kr/mobile_page/mobile_sms.php?type=iphone\", \"mobile_sms\", \"width=367,height=441, top=80,left=200,toolbar=no,location=no,directories=no,status=no,menubar=no,scrollbars=no,resizable=no,copyhistory=no\");\\r\\n  }\\r\\n  function aopen() {\\r\\n    window.open(\"https://www.bobaedream.co.kr/mobile_page/mobile_sms.php?type=android\", \"mobile_sms\", \"width=367,height=441, top=80,left=200,toolbar=no,location=no,directories=no,status=no,menubar=no,scrollbars=no,resizable=no,copyhistory=no\");\\r\\n  }\\r\\n\\r\\n\\r\\n  function on_focus(id) {\\r\\n    if (id == \"ID\" && document.getElementById(id).value == \"ì\\x95\\x84ì\\x9d´ë\\x94\\x94\") {\\r\\n      document.getElementById(id).value = \"\";\\r\\n    } else if (id == \"Passwd2\" && document.getElementById(id).value == \"ë¹\\x84ë°\\x80ë²\\x88í\\x98¸\") {\\r\\n      document.getElementById(\"Passwd2\").style.display = \"none\";\\r\\n      document.getElementById(\"Passwd\").style.display = \"block\";\\r\\n      document.frm_login.Passwd.focus();\\r\\n    }\\r\\n  }\\r\\n\\r\\n  function getRandomInt(min,max) {\\r\\n    return Math.floor((Math.random()*1000)%(max-min))+min;\\r\\n  }\\r\\n\\r\\nfunction sendmemoOpen() {\\r\\n  var screenWidth  = screen.availWidth;\\r\\n  var screenHeight = screen.availHeight;\\r\\n\\r\\n  var intLeft = (screenWidth - 626) / 2;\\r\\n  var intTop  = (screenHeight - 670) / 2\\r\\n\\r\\n  window.open(\\'https://www.bobaedream.co.kr/board/note/receive_list.php\\', \\'receive_list\\', \\'scrollbars=no,resizable=no,top=\\'+intTop+\\',left=\\'+intLeft+\\',width=615,height=400\\');\\r\\n}\\r\\n\\r\\n\\r\\n\\r\\n// ]]>\\t\\r\\n</script>\\r\\n\\r\\n\\r\\n\\r\\n\\r\\n<div id=\"skip-nav\">\\r\\n    <ul>\\r\\n        <li><a href=\"#bobaeGNB\">ì£¼ì\\x9a\\x94ë©\\x94ë\\x89´ë¡\\x9c ë°\\x94ë¡\\x9cê°\\x80ê¸°</a></li>\\r\\n        <li><a href=\"#bobaeMain\">ì\\x98¤ë\\x8a\\x98ì\\x9d\\x98 ì\\x9e\\x90ë\\x8f\\x99ì°¨ ë°\\x94ë¡\\x9cê°\\x80ê¸°</a></li>\\r\\n        <li><a href=\"#bobaeFoot\">í\\x95\\x98ë\\x8b¨ì\\xa0\\x95ë³´ë¡\\x9c ë°\\x94ë¡\\x9cê°\\x80ê¸°</a></li>\\r\\n    </ul>\\r\\n</div>\\r\\n<!-- bobaeHead -->\\r\\n<div id=\"bobaeHead\" class=\"bobae-header-v3 js-header\">\\r\\n    <!-- gnb-util -->\\r\\n    <div class=\"top-container\">\\r\\n        <div class=\"component\">\\r\\n            <h1 class=\"top-logo-wrapper\">\\r\\n                <a class=\"link\" href=\"https://www.bobaedream.co.kr\" title=\"ë³´ë°°ë\\x93\\x9cë¦¼\">\\r\\n                    <span class=\"icon-symbol-car\"></span>\\r\\n                    <span class=\"icon-logo\">ë³´ë°°ë\\x93\\x9cë¦¼</span>\\r\\n                </a>\\r\\n                \\r\\n            </h1>\\r\\n            <div class=\"top-util-wrapper\">\\r\\n            \\t\\t<div class=\"text-util-wrapper\">\\r\\n<script language=\"javascript\">\\r\\nctmp = document.cookie.split(\";\");\\r\\n\\r\\n  var chkLogin = \"no\";\\r\\n  for (i = 0; i < ctmp.length; i++) {\\r\\n    if (ctmp[i].match(\"Member_ID\")) {\\r\\n      cctmp = ctmp[i].split(\"=\");\\r\\n      if (cctmp[1] != \"\") {\\r\\n        chkLogin = \"yes\";\\r\\n      }\\r\\n    }\\r\\n  }\\t\\t\\t\\t\\r\\n\\r\\ndocument.write(\"<ul class=\\\\\"text-util-list\\\\\">\");\\r\\n\\r\\n\\t\\t\\t\\t/* ë¡\\x9cê·¸ì\\x9d¸í\\x9b\\x84 */\\r\\nif (chkLogin == \"yes\") {\\t\\t\\t\\t\\t\\t\\r\\n\\t\\t\\t\\tdocument.write(\"<li class=\\\\\"text-util-item\\\\\"><a class=\\\\\"text-util\\\\\" href=\\\\\"https://www.bobaedream.co.kr/member/logout.php\\\\\" class=\\\\\"link\\\\\"><span class=\\\\\"text\\\\\">ë¡\\x9cê·¸ì\\x95\\x84ì\\x9b\\x83</span></a></li>\");\\r\\n\\t\\t\\t\\tdocument.write(\"<li class=\\\\\"text-util-item\\\\\"><a class=\\\\\"text-util\\\\\" href=\\\\\"https://security.bobaedream.co.kr/member/join/join_user_data_edit.php\\\\\" class=\\\\\"link\\\\\"><span class=\\\\\"text\\\\\">ë\\x82\\x98ì\\x9d\\x98ì\\xa0\\x95ë³´</span></a></li>\");\\r\\n\\t\\t\\t\\tdocument.write(\"<li class=\\\\\"text-util-item\\\\\"><a class=\\\\\"text-util\\\\\" href=\\\\\"https://www.bobaedream.co.kr/mycar/manage/mycar_manage_main.php\\\\\" class=\\\\\"link\\\\\"><span class=\\\\\"text\\\\\">ë§¤ë¬¼ê´\\x80ë¦¬</span></a></li>\");\\r\\n\\t\\t\\t\\tdocument.write(\"<li class=\\\\\"text-util-item\\\\\"><a class=\\\\\"text-util\\\\\" href=\\\\\"https://www.bobaedream.co.kr/center/car_photo_self.php?send_type=1\\\\\"><span class=\\\\\"text\\\\\">ì\\x82¬ì\\x9d´ë²\\x84ë§¤ì\\x9e¥ ì°¨ë\\x9f\\x89ë\\x93±ë¡\\x9d</span></a></li>\");\\t\\t\\t\\t\\r\\n\\t\\t\\t\\tdocument.write(\"<li class=\\\\\"text-util-item\\\\\"><a class=\\\\\"text-util\\\\\" href=\\\\\"https://www.bobaedream.co.kr/center/center.htm\\\\\" class=\\\\\"link\\\\\"><span class=\\\\\"text\\\\\">ê³\\xa0ê°\\x9dì\\x84¼í\\x84°</span></a></li>\");\\r\\n\\t\\t\\t\\tdocument.write(\"<li class=\\\\\"text-util-item\\\\\"><a class=\\\\\"text-util\\\\\" href=\\\\\"https://www.bobaedream.co.kr/mycommunity?lo=10&or_where=answer&globaltop=y\\\\\" class=\\\\\"link\\\\\"><span class=\\\\\"i-text\\\\\"><span class=\\\\\"icon-mypage\\\\\"></span><span class=\\\\\"text\\\\\">ë§\\x88ì\\x9d´í\\x8e\\x98ì\\x9d´ì§\\x80</span></span></a></li>\");\\r\\n  } else {\\r\\n\\t\\t\\t\\t/* ë¡\\x9cê·¸ì\\x9d¸ì\\xa0\\x84 */\\r\\n\\t\\t\\t\\tdocument.write(\"<li class=\\\\\"text-util-item\\\\\"><a class=\\\\\"text-util\\\\\" href=\\\\\"https://security.bobaedream.co.kr/member/slogin.php\\\\\" class=\\\\\"link\\\\\"><span class=\\\\\"text\\\\\">ë¡\\x9cê·¸ì\\x9d¸</span></a></li>\");\\r\\n\\t\\t\\t\\tdocument.write(\"<li class=\\\\\"text-util-item\\\\\"><a class=\\\\\"text-util\\\\\" href=\\\\\"https://security.bobaedream.co.kr/member/join/register_choice_renew.php\\\\\" class=\\\\\"link\\\\\"><span class=\\\\\"text\\\\\">í\\x9a\\x8cì\\x9b\\x90ê°\\x80ì\\x9e\\x85</span></a></li>\");\\r\\n\\t\\t\\t\\tdocument.write(\"<li class=\\\\\"text-util-item\\\\\"><a class=\\\\\"text-util\\\\\" href=\\\\\"https://www.bobaedream.co.kr/center/car_photo_self.php?send_type=1\\\\\"><span class=\\\\\"text\\\\\">ì\\x82¬ì\\x9d´ë²\\x84ë§¤ì\\x9e¥ ì°¨ë\\x9f\\x89ë\\x93±ë¡\\x9d</span></a></li>\");\\r\\n\\t\\t\\t\\tdocument.write(\"<li class=\\\\\"text-util-item\\\\\"><a class=\\\\\"text-util\\\\\" href=\\\\\"https://www.bobaedream.co.kr/center/center.htm\\\\\" class=\\\\\"link\\\\\"><span class=\\\\\"text\\\\\">ê³\\xa0ê°\\x9dì\\x84¼í\\x84°</span></a></li>\");\\r\\n\\t}\\r\\n\\t\\r\\ndocument.write(\"</ul>\");\\t\\r\\n</script>            \\t\\r\\n            </div>\\r\\n            <div class=\"user-util-wrapper\">\\r\\n                <ul class=\"user-util-list\">\\r\\n<script language=\"javascript\">\\r\\nif (chkLogin == \"yes\") document.write(\"<li class=\\\\\"user-util-item\\\\\"><button onclick=\\\\\"getnoti();\\\\\" type=\\\\\"button\\\\\" class=\\\\\"my-util js-svc-tab\\\\\"><span class=\\\\\"icon-util-alarm\\\\\"></span><span class=\\\\\"count\\\\\"><em class=\\\\\"text\\\\\" id=\\\\\"noti\\\\\">0</em></span></button><div class=\\\\\"svc-noti svc-panel js-svc-panel\\\\\" id=\\\\\"svc-noti\\\\\"></div></li>\");\\r\\n</script>\\r\\n                    <li class=\"user-util-item\">\\r\\n                        <a href=\"https://www.bobaedream.co.kr/mycar/manage/mycar_recent.php\" class=\"my-util\">\\r\\n                            <span class=\"icon-util-history\"></span>\\r\\n                        </a>\\r\\n                    </li>\\r\\n                    <li class=\"user-util-item\">\\r\\n                        <a href=\"https://www.bobaedream.co.kr/mycar/manage/mycar_select_list.php\" class=\"my-util\">\\r\\n                            <span class=\"icon-util-like\"></span>\\r\\n                        </a>\\r\\n                    </li>\\r\\n                </ul>\\r\\n            </div>            \\r\\n            <div class=\"top-service-banner\">\\r\\n                <a class=\"link\" target=\"_blank\" href=\"https://www.bobaedream.co.kr/mycar/mycar_photo_request.php?mType=D\" title=\"ì\\x82¬ì\\x9d´ë²\\x84ë§¤ì\\x9e¥ ê´\\x91ê³\\xa0ì\\x8b\\xa0ì²\\xad 02-784-2329\">\\r\\n                    <span class=\"banner\">ì\\x82¬ì\\x9d´ë²\\x84ë§¤ì\\x9e¥ ê´\\x91ê³\\xa0ì\\x8b\\xa0ì²\\xad 02-784-2329</span>\\r\\n                </a>\\r\\n            </div>            \\r\\n            </div>\\r\\n        </div>\\r\\n    </div>\\r\\n    <div class=\"gnb-container\">    \\r\\n       <div class=\"component\">\\r\\n            <div class=\"gnb-menu-wrapper\">\\r\\n                <ul class=\"gnb-menu-list js-menu\">\\r\\n                    <li class=\"gnb-menu-item js-menu-item cyber\">\\r\\n                        <a class=\"gnb-menu\" href=\"https://www.bobaedream.co.kr/cyber/CyberCar.php?sel_m_gubun=ALL\">\\r\\n                            <span class=\"icon-menu-cyber\">ì\\x82¬ì\\x9d´ë²\\x84ë§¤ì\\x9e¥</span>\\r\\n                        </a>\\r\\n                        <div class=\"sub-menu multiple js-sub-menu\">\\r\\n                            <div class=\"sub-menu-wrapper\">\\r\\n                                <div class=\"sub-menu-inner\">\\r\\n                                    <ul class=\"sub-menu-list\">\\r\\n                                        <li class=\"sub-menu-item\"><a href=\"/cyber/CyberCar.php?sel_m_gubun=ALL\">ì\\xa0\\x84ì²´ë§¤ë¬¼</a></li>\\r\\n                                        <li class=\"sub-menu-item\"><a href=\"/cyber/CyberCar.php?gubun=K\">êµ\\xadì\\x82°ì°¨ë§¤ì\\x9e¥</a></li>\\r\\n                                        <li class=\"sub-menu-item\"><a href=\"/cyber/CyberCar.php?gubun=I\">ì\\x88\\x98ì\\x9e\\x85ì°¨ë§¤ì\\x9e¥</a></li>\\r\\n                                        <li class=\"sub-menu-item\"><a href=\"/cyber/CyberCar.php?cat=1\">ì\\x8a¹ì\\x9a©ì°¨ë§¤ì\\x9e¥</a></li>\\r\\n                                        <li class=\"sub-menu-item\"><a href=\"/cyber/CyberCar.php?cat=2\">ì\\x8a¤í\\x8f¬ì¸\\xa0ì¹´ë§¤ì\\x9e¥</a></li>\\r\\n                                        <li class=\"sub-menu-item\"><a href=\"/cyber/CyberCar.php?cat=4\">SUVÂ·ì§\\x80í\\x94\\x84ë§¤ì\\x9e¥</a></li>\\r\\n                                        <li class=\"sub-menu-item\"><a href=\"/cyber/CyberCar.php?cat=3\">ë°´Â·RVÂ·ë²\\x84ì\\x8a¤ë§¤ì\\x9e¥</a></li>\\r\\n\\t\\t\\t\\t\\t\\t\\t\\t\\t</ul>\\r\\n                                 </div>\\r\\n                                 <div class=\"sub-menu-inner\">\\r\\n                                     <ul class=\"sub-menu-list\">\\r\\n                                        <li class=\"sub-menu-item\"><a href=\"/cyber/CyberCar.php?features=pick\">í\\x94½ì\\x97\\x85Â·í\\x8a¸ë\\x9f\\xadë§¤ì\\x9e¥</a></li>\\r\\n                                        <li class=\"sub-menu-item\"><a href=\"/cyber/CyberCar.php?features=camp\">ìº\\xa0í\\x95\\x91ì¹´ë§¤ì\\x9e¥</a></li>\\r\\n                                        <li class=\"sub-menu-item\"><a href=\"/cyber/CyberCar.php?features=tuning\">í\\x8a\\x9cë\\x8b\\x9dì¹´ë§¤ì\\x9e¥</a></li>\\r\\n                                        <li class=\"sub-menu-item\"><a href=\"/cyber/CyberCar.php?features=old\">ì\\x98¬ë\\x93\\x9cì¹´Â·í\\x81´ë\\x9e\\x98ì\\x8b\\x9dë§¤ì\\x9e¥</a></li>\\r\\n                                        <li class=\"sub-menu-item\"><a href=\"/cyber/CyberCar.php?features=super\">ì\\x8a\\x88í\\x8d¼ì¹´ë§¤ì\\x9e¥</a></li>\\r\\n                                        <li class=\"sub-menu-item\"><a href=\"/cyber/CyberCar.php?features=rare\">í\\x9d¬ê·\\x80ì°¨ë§¤ì\\x9e¥</a></li>\\r\\n                                        <li class=\"sub-menu-item\"><a href=\"/cyber/CyberCar.php?features=auto\">ì\\x98¤í\\x86\\xa0ê°¤ë\\x9f¬ë¦¬ë§¤ì\\x9e¥</a></li>\\r\\n                                    </ul>\\r\\n                                </div>\\r\\n                            </div>\\r\\n                        </div>\\r\\n                    </li>\\r\\n                    <li class=\"gnb-menu-item js-menu-item domestic\">\\r\\n                        <a class=\"gnb-menu\" href=\"https://www.bobaedream.co.kr/mycar/mycar_list.php?gubun=K\">\\r\\n                            <span class=\"icon-menu-domestic\">êµ\\xadì\\x82°ì°¨</span>\\r\\n                        </a>\\r\\n                        <div class=\"sub-menu js-sub-menu\">\\r\\n                            <div class=\"sub-menu-wrapper\">\\r\\n                                <div class=\"sub-menu-inner\">\\r\\n                                    <ul class=\"sub-menu-list\">\\r\\n                                        <li class=\"sub-menu-item\"><a href=\"/mycar/mycar_list.php?gubun=K\">êµ\\xadì\\x82°ì°¨ê²\\x80ì\\x83\\x89</a></li>\\r\\n                                        <li class=\"sub-menu-item\"><a href=\"/mycar/mycar_list.php?sel_m_gubun=tuning_K\">í\\x8a\\x9cë\\x8b\\x9dì¹´ê²\\x80ì\\x83\\x89</a></li>                                        \\r\\n                                        <li class=\"sub-menu-item\"><a href=\"/mycar/mycar_list.php?sel_m_gubun=succ_K\">ë¦¬ì\\x8a¤ë\\xa0\\x8cí\\x8a¸ì°¨ë\\x9f\\x89</a></li>\\r\\n                                        <li class=\"sub-menu-item\"><a href=\"https://www.bobaedream.co.kr/cyber/CyberCar.php?gubun=K\">ì\\x82¬ì\\x9d´ë²\\x84ë§¤ì\\x9e¥</a></li>\\r\\n                                    </ul>\\r\\n                                </div>\\r\\n                            </div>\\r\\n                        </div>\\r\\n                    </li>\\r\\n                    <li class=\"gnb-menu-item js-menu-item imported\">\\r\\n                        <a class=\"gnb-menu\" href=\"https://www.bobaedream.co.kr/mycar/mycar_list.php?gubun=I\">\\r\\n                            <span class=\"icon-menu-imported\">ì\\x88\\x98ì\\x9e\\x85ì°¨</span>\\r\\n                        </a>\\r\\n                        <div class=\"sub-menu js-sub-menu\">\\r\\n                            <div class=\"sub-menu-wrapper\">\\r\\n                                <div class=\"sub-menu-inner\">\\r\\n                                    <ul class=\"sub-menu-list\">\\r\\n                                        <li class=\"sub-menu-item\"><a href=\"/mycar/mycar_list.php?gubun=I\">ì\\x88\\x98ì\\x9e\\x85ì°¨ê²\\x80ì\\x83\\x89</a></li>\\r\\n                                        <li class=\"sub-menu-item\"><a href=\"/mycar/mycar_list.php?sel_m_gubun=tuning_I\">í\\x8a\\x9cë\\x8b\\x9dì¹´ê²\\x80ì\\x83\\x89</a></li>\\r\\n                                        <li class=\"sub-menu-item\"><a href=\"/mycar/mycar_list.php?sel_m_gubun=succ_I\">ë¦¬ì\\x8a¤ë\\xa0\\x8cí\\x8a¸ì°¨ë\\x9f\\x89</a></li>                                        \\r\\n                                        <li class=\"sub-menu-item\"><a href=\"https://www.bobaedream.co.kr/cyber/CyberCar.php?gubun=I\">ì\\x82¬ì\\x9d´ë²\\x84ë§¤ì\\x9e¥</a></li>\\r\\n                                    </ul>\\r\\n                                </div>\\r\\n                            </div>\\r\\n                        </div>\\r\\n                    </li>\\r\\n\\t\\t\\t\\t\\t<li class=\"gnb-menu-item js-menu-item tuning\">\\r\\n                        <a class=\"gnb-menu\" href=\"/cyber/CyberCar.php?features=tuning\">\\r\\n                            <span class=\"icon-menu-store\">í\\x8a\\x9cë\\x8b\\x9dì¹´</span>\\r\\n\\t\\t\\t\\t\\t\\t\\t<span class=\"icon-hot\">ì\\x9d¸ê¸°</span>\\r\\n                        </a>\\r\\n                    </li>                    \\r\\n\\t\\t\\t\\t\\t<li class=\"gnb-menu-item js-menu-item price\">\\r\\n                        <a class=\"gnb-menu\" href=\"/dealguide/market_price_new.php\">\\r\\n                            <span class=\"icon-menu-store\">ì¤\\x91ê³\\xa0ì°¨ì\\x8b\\x9cì\\x84¸</span>\\r\\n                        </a>\\r\\n                    </li>\\r\\n                    <li class=\"gnb-menu-item js-menu-item community is-selected\">\\r\\n                        <a class=\"gnb-menu\" href=\"https://www.bobaedream.co.kr/board/bbs.php\">\\r\\n                            <span class=\"icon-menu-community\">ì»¤ë®¤ë\\x8b\\x88í\\x8b°</span>\\r\\n                        </a>\\r\\n                        <div class=\"sub-menu multiple js-sub-menu\">\\r\\n                            <div class=\"sub-menu-wrapper\">\\r\\n                                <div class=\"sub-menu-inner\">\\r\\n                                    <a href=\"/board/bbs.php\" class=\"title\">ê²\\x8cì\\x8b\\x9cí\\x8c\\x90</a>\\r\\n                                    <ul class=\"sub-menu-list\">\\r\\n                                        <li class=\"sub-menu-item\"><a href=\"/list?code=best\">ë²\\xa0ì\\x8a¤í\\x8a¸ê¸\\x80</a></li>\\r\\n                                        <li class=\"sub-menu-item\"><a href=\"/list?code=freeb\">ì\\x9e\\x90ì\\x9c\\xa0ê²\\x8cì\\x8b\\x9cí\\x8c\\x90</a></li>\\r\\n                                        <li class=\"sub-menu-item\"><a href=\"/list?code=politic\">ì\\xa0\\x95ì¹\\x98ê²\\x8cì\\x8b\\x9cí\\x8c\\x90</a></li>\\r\\n                                        <li class=\"sub-menu-item\"><a href=\"/list?code=battle\">ì\\x8b\\x9cì\\x8a¹ê¸°Â·ë°°í\\x8b\\x80Â·ëª©ê²©ë\\x8b´</a></li>\\r\\n                                        <li class=\"sub-menu-item\"><a href=\"/list?code=famous\">ì\\x9c\\xa0ëª\\x85ì\\x9d¸ì\\x9d\\x98 ì°¨</a></li>\\r\\n                                        <li class=\"sub-menu-item\"><a href=\"/list?code=nnews\">ì\\x9e\\x90ë\\x8f\\x99ì°¨ë\\x89´ì\\x8a¤</a></li>\\r\\n                                        <li class=\"sub-menu-item\"><a href=\"/list?code=bbstory\">ë³´ë°°ë\\x93\\x9cë¦¼ ì\\x9d´ì\\x95¼ê¸°</a></li>\\r\\n                                        <li class=\"sub-menu-item\"><a href=\"/list?code=bb_talk\">ì\\xa0\\x9cì\\x95\\x88Â·ê±´ì\\x9d\\x98</a></li>\\r\\n                                        <li class=\"sub-menu-item\"><a href=\"/event/event_list.php?event_gubun=1\">ì\\x9d´ë²¤í\\x8a¸</a></li>\\r\\n                                    </ul>\\r\\n                                </div>\\r\\n                                <div class=\"sub-menu-inner\">\\r\\n                                    <a href=\"/board/data.php\" class=\"title\">ì\\x9e\\x90ë£\\x8cì\\x8b¤</a>\\r\\n                                    <ul class=\"sub-menu-list\">\\r\\n                                        <li class=\"sub-menu-item\"><a href=\"/list?code=strange\">ì\\x9c\\xa0ë¨¸ê²\\x8cì\\x8b\\x9cí\\x8c\\x90</a></li>\\r\\n                                        <li class=\"sub-menu-item\"><a href=\"/list?code=accident\">êµ\\x90í\\x86µì\\x82¬ê³\\xa0Â·ì\\x82¬ê±´Â·ë¸\\x94ë°\\x95</a></li>\\r\\n                                        <li class=\"sub-menu-item\"><a href=\"/list?code=national\">êµ\\xadì\\x82°ì°¨ê²\\x8cì\\x8b\\x9cí\\x8c\\x90</a></li>\\r\\n                                        <li class=\"sub-menu-item\"><a href=\"/list?code=import\">ì\\x88\\x98ì\\x9e\\x85ì°¨ê²\\x8cì\\x8b\\x9cí\\x8c\\x90</a></li>\\r\\n                                        <li class=\"sub-menu-item\"><a href=\"/list?code=hotcar\">ë\\x82´ì°¨ì\\x82¬ì§\\x84</a></li>\\r\\n                                        <li class=\"sub-menu-item\"><a href=\"/list?code=dica\">ì§\\x81ì°\\x8dÂ·í\\x8a¹ì¢\\x85ë°\\x9cê²¬</a></li>\\r\\n                                        <li class=\"sub-menu-item\"><a href=\"/list?code=special\">ì\\x9e\\x90ë\\x8f\\x99ì°¨ì\\x82¬ì§\\x84Â·ë\\x8f\\x99ì\\x98\\x81ì\\x83\\x81</a></li>\\r\\n                                        <li class=\"sub-menu-item\"><a href=\"/list?code=wheel\">ì\\x9e¥ì°©ì\\x8b\\x9cê³µì\\x82¬ì§\\x84</a></li>\\r\\n                                        <li class=\"sub-menu-item\"><a href=\"/list?code=music\">ì\\x9e\\x90ì\\x9c\\xa0ì\\x82¬ì§\\x84Â·ë\\x8f\\x99ì\\x98\\x81ì\\x83\\x81</a></li>\\r\\n                                     </ul>\\r\\n                                 </div>\\r\\n                                 <div class=\"sub-menu-inner\">\\r\\n                                     <a href=\"/board/data.php\" class=\"title\">&nbsp;</a>\\r\\n                                     <ul class=\"sub-menu-list\">\\r\\n                                        <li class=\"sub-menu-item\"><a href=\"/list?code=girl\">ë\\xa0\\x88ì\\x9d´ì\\x8b±ëª¨ë\\x8d¸</a></li>\\r\\n                                        <li class=\"sub-menu-item\"><a href=\"/list?code=army\">êµ°ì\\x82¬Â·ë¬´ê¸°</a></li>\\r\\n                                        <li class=\"sub-menu-item\"><a href=\"/list?code=truck\">í\\x8a¸ë\\x9f\\xadÂ·ë²\\x84ì\\x8a¤Â·ì¤\\x91ê¸°</a></li>\\r\\n                                        <li class=\"sub-menu-item\"><a href=\"/list?code=skybr\">í\\x95\\xadê³µÂ·í\\x95´ì\\x9a´Â·ì²\\xa0ë\\x8f\\x84</a></li>\\r\\n                                        <li class=\"sub-menu-item\"><a href=\"/list?code=bike\">ì\\x98¤í\\x86\\xa0ë°\\x94ì\\x9d´Â·ì\\x9e\\x90ì\\xa0\\x84ê±°</a></li>\\r\\n                                        <li class=\"sub-menu-item\"><a href=\"/list?code=vi\">ì\\x98¬ë\\x93\\x9cì¹´Â·ì¶\\x94ì\\x96µê±°ë¦¬</a></li>\\r\\n                                    </ul>\\r\\n                                </div>\\r\\n                            </div>\\r\\n                        </div>\\r\\n                    </li>\\r\\n                    <li class=\"gnb-menu-item js-menu-item mycar\">\\r\\n                        <a class=\"gnb-menu\" href=\"https://www.bobaedream.co.kr/mycar/mycar.php\">\\r\\n                            <span class=\"icon-menu-mycar\">ë\\x82´ì°¨í\\x8c\\x94ê¸°</span>\\r\\n                        </a>\\r\\n                        <div class=\"sub-menu js-sub-menu\">\\r\\n                            <div class=\"sub-menu-wrapper\">\\r\\n                                <div class=\"sub-menu-inner\">\\r\\n                                    <ul class=\"sub-menu-list\">\\r\\n                                        <li class=\"sub-menu-item\"><a href=\"/mycar/mycar.php\">ë\\x82´ì°¨í\\x8c\\x94ê¸° í\\x99\\x88</a></li>\\r\\n                                        <li class=\"sub-menu-item\"><a href=\"/mycar/mycar_self_step1.php?gubun=K\">êµ\\xadì\\x82°ì°¨ ì\\x85\\x80í\\x94\\x84ë\\x93±ë¡\\x9d</a></li>\\r\\n                                        <li class=\"sub-menu-item\"><a href=\"/mycar/mycar_self_step1.php?gubun=I\">ì\\x88\\x98ì\\x9e\\x85ì°¨ ì\\x85\\x80í\\x94\\x84ë\\x93±ë¡\\x9d</a></li>\\r\\n                                        <li class=\"sub-menu-item\"><a href=\"/mycar/mycar_photo_request.php?mType=C\">ì\\x82¬ì\\x9d´ë²\\x84ë§¤ì\\x9e¥ë\\x93±ë¡\\x9d</a></li>\\r\\n                                        <li class=\"sub-menu-item\"><a href=\"/mycar/ticket.php?gubun=K\">êµ\\xadì\\x82°ì°¨ ë§¤ë¬¼ë\\x93±ë¡\\x9dê¶\\x8c</a></li>\\r\\n                                        <li class=\"sub-menu-item\"><a href=\"/mycar/ticket.php?gubun=I\">ì\\x88\\x98ì\\x9e\\x85ì°¨ ë§¤ë¬¼ë\\x93±ë¡\\x9dê¶\\x8c</a></li>\\r\\n                                        <li class=\"sub-menu-item\"><a href=\"/mycar/mycar_photo_request.php?mType=D\">ì´¬ì\\x98\\x81ë\\x8c\\x80í\\x96\\x89ì\\x84\\x9cë¹\\x84ì\\x8a¤</a></li>\\r\\n                                    </ul>\\r\\n                                </div>\\r\\n                            </div>\\r\\n                        </div>\\r\\n                    </li>\\r\\n                    <li class=\"gnb-menu-item js-menu-item motorcycle\">\\r\\n                        <a class=\"gnb-menu\" href=\"https://bike.bobaedream.co.kr/\">\\r\\n                            <span class=\"icon-menu-motorcycle\">ì\\x98¤í\\x86\\xa0ë°\\x94ì\\x9d´</span>\\r\\n                        </a>\\r\\n                        <div class=\"sub-menu js-sub-menu\">\\r\\n                            <div class=\"sub-menu-wrapper\">\\r\\n                                <div class=\"sub-menu-inner\">\\r\\n                                    <ul class=\"sub-menu-list\">\\r\\n                                        <li class=\"sub-menu-item\"><a href=\"https://bike.bobaedream.co.kr\">ì\\x98¤í\\x86\\xa0ë°\\x94ì\\x9d´í\\x99\\x88</a></li>\\r\\n                                        <li class=\"sub-menu-item\"><a href=\"https://bike.bobaedream.co.kr/bike2/bike_list.php?ifnew=Y\">ì\\x8b\\xa0ì°¨ ë§¤ì\\x9e¥</a></li>\\r\\n                                        <li class=\"sub-menu-item\"><a href=\"https://bike.bobaedream.co.kr/bike2/bike_list.php?ifnew=N\">ì¤\\x91ê³\\xa0ì°¨ ë§¤ì\\x9e¥</a></li>\\r\\n                                        <li class=\"sub-menu-item\"><a href=\"https://bike.bobaedream.co.kr/bike_good/bike_good_list.php\">ì\\x9a©í\\x92\\x88ì\\x9e¥í\\x84°</a></li>\\r\\n                                        <li class=\"sub-menu-item\"><a href=\"https://bike.bobaedream.co.kr/bike2/board/bike_community_main.php\">ì»¤ë®¤ë\\x8b\\x88í\\x8b°</a></li>\\r\\n                                        <li class=\"sub-menu-item\"><a href=\"https://bike.bobaedream.co.kr/bike2/bike_apply.php\">ë§¤ë¬¼ë\\x93±ë¡\\x9dí\\x95\\x98ê¸°</a></li>\\r\\n                                        <li class=\"sub-menu-item\"><a href=\"https://bike.bobaedream.co.kr/bike2/mycar_list_main.php\">ë\\x82\\x98ì\\x9d\\x98ë§¤ë¬¼ê´\\x80ë¦¬</a></li>\\r\\n                                    </ul>\\r\\n                                </div>\\r\\n                            </div>\\r\\n                        </div>\\r\\n                    </li>\\r\\n                    <li class=\"gnb-menu-item js-menu-item market\">\\r\\n                        <a class=\"gnb-menu\" href=\"https://good.bobaedream.co.kr/good/list_sale.php\">\\r\\n                            <span class=\"icon-menu-market\">ì¤\\x91ê³\\xa0ì\\x9e¥í\\x84°</span>\\r\\n                        </a>\\r\\n                        <div class=\"sub-menu js-sub-menu\">\\r\\n                            <div class=\"sub-menu-wrapper\">\\r\\n                                <div class=\"sub-menu-inner\">\\r\\n                                    <ul class=\"sub-menu-list\">\\r\\n                                        <li class=\"sub-menu-item\"><a href=\"https://good.bobaedream.co.kr/good/list_sale.php\">ì\\xa0\\x84ì²´ë³´ê¸°</a></li>\\r\\n                                        <li class=\"sub-menu-item\"><a href=\"https://good.bobaedream.co.kr/good/list_sale.php?on=old\">ì¤\\x91ê³\\xa0ì\\x9a©í\\x92\\x88 ê²\\x80ì\\x83\\x89</a></li>\\r\\n                                        <li class=\"sub-menu-item\"><a href=\"https://good.bobaedream.co.kr/good/list_sale.php?on=new\">ì\\x83\\x88ì\\xa0\\x9cí\\x92\\x88 ê²\\x80ì\\x83\\x89</a></li>\\r\\n                                        <li class=\"sub-menu-item\"><a href=\"https://good.bobaedream.co.kr/good/list_sale.php?d1=150\">ì\\x88\\x98ì\\x9e\\x85ì°¨ì\\x9a©í\\x92\\x88 ê²\\x80ì\\x83\\x89</a></li>\\r\\n                                        <li class=\"sub-menu-item\"><a href=\"https://good.bobaedream.co.kr/good/home.php\">ì\\x9a©í\\x92\\x88ë\\x93±ë¡\\x9dí\\x95\\x98ê¸°</a></li>\\r\\n                                        <li class=\"sub-menu-item\"><a href=\"https://good.bobaedream.co.kr/good/list_mygood.php\">ë\\x82\\x98ì\\x9d\\x98 ì\\x9a©í\\x92\\x88ê´\\x80ë¦¬</a></li>\\r\\n                                    </ul>\\r\\n                                </div>\\r\\n                            </div>\\r\\n                        </div>\\r\\n                    </li>\\r\\n                    <li class=\"gnb-menu-item js-menu-item store\">\\r\\n                        <a class=\"gnb-menu\" href=\"https://www.bobaedream.co.kr/partner/partner_main.php\">\\r\\n                            <span class=\"icon-menu-store\">ì\\x97\\x85ì²´ê²\\x80ì\\x83\\x89</span>\\r\\n                        </a>\\r\\n                    </li>\\r\\n                    <!--\\r\\n                    <li class=\"gnb-menu-item js-menu-item\">\\r\\n                        <button class=\"btn-navigation\" type=\"button\">\\r\\n                            <span class=\"icon-menu-more\">ë\\x8d\\x94ë³´ê¸°</span>\\r\\n                            <span class=\"icon-arrow\"></span>\\r\\n                        </button>\\r\\n                    </li>\\r\\n                    -->\\r\\n                </ul>\\r\\n            </div>\\r\\n\\r\\n            <div class=\"square-util-wrapper\">\\r\\n                <ul class=\"square-util-list\">\\r\\n                    <li class=\"square-util-item\">\\r\\n                        <button class=\"square-util btn-search js-btn-srch\" type=\"button\">\\r\\n                            <span class=\"icon-util-search\">ê²\\x80ì\\x83\\x89í\\x95\\x98ê¸°</span>\\r\\n                        </button>\\r\\n                        <div class=\"field-search js-top-srch\">\\r\\n                            <form name=\"search_form\" method=\"post\" action=\"//www.bobaedream.co.kr/search\" onsubmit=\"javascript:\\tif(!document.search_form.keyword.value) { var _this = BOBAE.header; _this.$topSrch.parent(\\'li\\').removeClass(\\'is-extend\\'); return false; } else { document.search_form.submit(); }\">\\r\\n                                <label for=\"keyword\" class=\"blind\">ê²\\x80ì\\x83\\x89í\\x95\\x98ê¸°</label>\\r\\n                                <span class=\"inp-srch\">\\r\\n                                    <input type=\"search\" id=\"keyword\" name=\"keyword\">\\r\\n                                </span>\\r\\n                                <button class=\"btn-submit\" type=\"submit\">\\r\\n                                    <span class=\"icon-util-search\">ê²\\x80ì\\x83\\x89í\\x95\\x98ê¸°</span>\\r\\n                                </button>\\r\\n                            </form>\\r\\n                        </div>\\r\\n                    </li>\\r\\n                    <li class=\"square-util-item\">\\r\\n                        <button class=\"square-util js-btn-allsvc\" type=\"button\">\\r\\n                            <span class=\"icon-util-menu\">ì\\xa0\\x84ì²´ë©\\x94ë\\x89´</span>\\r\\n                        </button>\\r\\n                    </li>\\r\\n                </ul>\\r\\n            </div>\\r\\n        </div>\\r\\n    </div>\\r\\n</div>\\r\\n<!-- // bobaeHead -->\\r\\n\\r\\n<!-- Global site tag (gtag.js) - Google Analytics -->\\r\\n<script async src=\"https://securepubads.g.doubleclick.net/tag/js/gpt.js\"></script>\\r\\n\\r\\n\\r\\n<script type=\\'text/javascript\\'>\\r\\n  var googletag = googletag || {};\\r\\n  googletag.cmd = googletag.cmd || [];\\r\\n  $(function() {\\r\\n    var gads = document.createElement(\\'script\\');\\r\\n    gads.async = true;\\r\\n    gads.type = \\'text/javascript\\';\\r\\n    var useSSL = \\'https:\\' == document.location.protocol;\\r\\n    gads.src = (useSSL ? \\'https:\\' : \\'http:\\') +\\r\\n      \\'//www.googletagservices.com/tag/js/gpt.js\\';\\r\\n    var node = document.getElementsByTagName(\\'script\\')[0];\\r\\n    node.parentNode.insertBefore(gads, node);\\r\\n  });\\r\\n</script>\\t\\t\\r\\n\\r\\n\\t\\t\\t<script type=\\'text/javascript\\'>\\r\\n\\t\\t\\t\\t\\t\\t\\t  \\t\\t\\tgoogletag.cmd.push(function() {\\r\\n\\t\\t\\t\\t\\t\\t\\t  \\t googletag.defineSlot(\\'/77987245/PCë\\x8c\\x93ê¸\\x80ì\\x83\\x81ë\\x8b¨\\', [728, 90], \\'div-gpt-ad-1655282654422-0\\').addService(googletag.pubads());\\r\\n\\t\\t\\t\\t\\t\\t\\t    \\t\\t\\tgoogletag.defineSlot(\\'/77987245/200x200\\', [200, 200], \\'div-gpt-ad-1444211045122-1\\').addService(googletag.pubads());  \\r\\n\\t\\t\\t\\t\\t\\t\\t    \\t\\t\\tgoogletag.defineSlot(\\'/77987245/ì\\x9a°ì¸¡ë\\x9d\\xa0\\', [160, 600], \\'div-gpt-ad-1444211045122-0\\').addService(googletag.pubads());googletag.defineSlot(\\'/77987245/ì\\x8b¤í\\x97\\x98ì\\x9a©160ì¢\\x8cì¸¡\\', [160, 600], \\'div-gpt-ad-1620727865859-0\\').addService(googletag.pubads());googletag.enableServices();\\r\\n\\t\\t\\t\\t\\t\\t\\t  });\\r\\n\\t\\t\\t\\t\\t\\t\\t  \\r\\n\\t\\t\\t\\t\\t\\t\\t</script>\\r\\n\\t\\t\\t\\t\\t\\t\\t\\t\\r\\n\\t\\t\\t\\r\\n\\t<div class=\"right_add\">\\r\\n\\t\\t<div class=\"ad-container\" id=\\'div-gpt-ad-1444211045122-0\\'>\\r\\n\\t\\t<script type=\\'text/javascript\\'>\\r\\n\\t\\t\\tgoogletag.cmd.push(function() { googletag.display(\\'div-gpt-ad-1444211045122-0\\'); });\\r\\n\\t\\t</script>\\r\\n\\t\\t</div>\\r\\n\\t</div>\\t\\r\\n\\t\\r\\n\\t\\r\\n\\t<div class=\"right_add left\">\\r\\n\\t\\t\\t\\t\\t\\t\\t\\t\\t\\t\\t\\t\\t\\t<div class=\"ad-container\" id=\"div-gpt-ad-1620727865859-0\">\\r\\n\\t\\t\\t\\t\\t\\t\\t\\t\\t\\t\\t\\t\\t\\t<script type=\"text/javascript\">\\r\\n\\t\\t\\t\\t\\t\\t\\t\\t\\t\\t\\t\\t\\t\\t\\tgoogletag.cmd.push(function() { googletag.display(\"div-gpt-ad-1620727865859-0\"); });\\r\\n\\t\\t\\t\\t\\t\\t\\t\\t\\t\\t\\t\\t\\t\\t</script>\\r\\n\\t\\t\\t\\t\\t\\t\\t\\t\\t\\t\\t\\t\\t\\t</div>\\r\\n\\t\\t\\t\\t\\t\\t\\t\\t\\t\\t\\t\\t\\t</div>\\t\\r\\n<script type=\"text/javascript\">\\r\\n\\r\\n\\t// ì\\x95\\x8cë¦¼\\r\\n\\tfunction get_top_cnt() {\\r\\n\\t  var dummy     = new Date().getTime();\\r\\n\\t\\r\\n\\t  // , data: \"dummy=\" + dummy + \"&no=\" + no + \"&dep=\" + dep\\r\\n\\t\\r\\n\\t  $.ajax({\\r\\n\\t    type: \\'get\\'\\r\\n\\t    , async: true\\r\\n\\t    , url: \\'/script/note_get_cnt_new.php\\'\\r\\n\\t    , data: \"dummy=\"     + dummy\\r\\n\\t    , dataType: \\'json\\'\\r\\n\\t    , beforeSend: function() {\\r\\n\\t      //$(\\'#ajax_load_indicator\\').show().fadeIn(\\'fast\\');\\r\\n\\t    }\\r\\n\\t    , success: function(data) {\\r\\n\\t      var response = data;\\r\\n\\t\\r\\n\\t      $(\"#noti\").html(response[\\'noti\\']);\\r\\n\\t    }\\r\\n\\t    , error: function(data, status, err) {\\r\\n\\t      //alert(\\'ì\\x84\\x9cë²\\x84ì\\x99\\x80ì\\x9d\\x98 í\\x86µì\\x8b\\xa0ì\\x9d´ ì\\x8b¤í\\x8c¨í\\x96\\x88ì\\x8aµë\\x8b\\x88ë\\x8b¤.\\' + err);\\r\\n\\t    }\\r\\n\\t    , complete: function() {\\r\\n\\t      //$(\\'#ajax_load_indicator\\').fadeOut();\\r\\n\\t    }\\r\\n\\t  });\\r\\n\\t}\\r\\n\\t\\r\\n\\tfunction getnoti() {\\r\\n\\t\\r\\n\\t\\tvar dummy = new Date().getTime();\\r\\n\\t\\tvar url = \"/script/getnoti_2019.php?dummy=\" + dummy;\\r\\n\\t\\r\\n\\t\\t\\t$(\"#svc-noti\").load(url,function(response, status, xhr) {\\r\\n\\t\\r\\n\\t\\t\\t});\\r\\n\\t}\\t\\t\\r\\n\\r\\n$(document).ready(function(){\\r\\n\\tif (chkLogin == \"yes\") {\\r\\n\\t\\t  get_top_cnt();\\r\\n\\t}\\t\\r\\n});\\r\\n\\r\\n\\r\\n\\r\\n\\r\\n\\t\\t\\t\\t\\t\\t\\r\\n</script>\\r\\n\\r\\n<script>\\r\\n$(document).ready(function(){\\r\\n  var $ad = $(\\'.right_add\\');\\r\\n\\r\\n  onScrollAdAnim();\\r\\n\\r\\n  $(window).bind(\\'scroll\\', function(){\\r\\n    onScrollAdAnim();\\r\\n  });\\r\\n\\r\\n  function onScrollAdAnim(){\\r\\n    var _limitTop = 106,\\r\\n        _scroll = $(window).scrollTop();\\r\\n\\r\\n      if(_scroll > _limitTop) {\\r\\n          $ad.addClass(\\'is-top\\');\\r\\n          $ad.css(\\'top\\', 0);\\r\\n      }else{\\r\\n          $ad.removeClass(\\'is-top\\');\\r\\n          $ad.css(\\'top\\', _limitTop - _scroll);\\r\\n      }\\r\\n  }\\r\\n});\\r\\n</script>  \\r\\n\\r\\n\\r\\n<!-- bobaeService -->\\r\\n<div class=\"bobae-service js-all-service\" id=\"bobaeService\">\\r\\n    <div class=\"bs-dim js-bs-dim\"></div>\\r\\n    <div class=\"svc-box\">\\r\\n        <h2 class=\"blind\">ë³´ë°°ë\\x93\\x9cë¦¼ ì\\xa0\\x84ì²´ë©\\x94ë\\x89´</h2>\\r\\n        <!-- [S] service-all-area -->\\r\\n        <div class=\"service-all-area\">\\r\\n                        <div class=\"svc-col\">\\r\\n                <h3 class=\"stit\"><a href=\"/cyber/CyberCar.php?sel_m_gubun=ALL\">ì\\x82¬ì\\x9d´ë²\\x84ë§¤ì\\x9e¥</a></h3>\\r\\n                <ul class=\"svc-list\">\\r\\n\\t\\t\\t\\t\\t\\t\\t\\t<li><a href=\"/cyber/CyberCar.php?sel_m_gubun=ALL\">ì\\xa0\\x84ì²´ë§¤ë¬¼</a></li>\\r\\n\\t\\t\\t\\t\\t\\t\\t\\t<li><a href=\"/cyber/CyberCar.php?gubun=K\">êµ\\xadì\\x82°ì°¨</a></li>\\r\\n\\t\\t\\t\\t\\t\\t\\t\\t<li><a href=\"/cyber/CyberCar.php?gubun=I\">ì\\x88\\x98ì\\x9e\\x85ì°¨</a></li>\\r\\n\\t\\t\\t\\t\\t\\t\\t\\t<li><a href=\"/cyber/CyberCar.php?cat=1\">ì\\x8a¹ì\\x9a©ì°¨</a></li>\\r\\n\\t\\t\\t\\t\\t\\t\\t\\t<li><a href=\"/cyber/CyberCar.php?cat=2\">ì\\x8a¤í\\x8f¬ì¸\\xa0ì¹´</a></li>\\r\\n\\t\\t\\t\\t\\t\\t\\t\\t<li><a href=\"/cyber/CyberCar.php?cat=4\">SUVÂ·ì§\\x80í\\x94\\x84</a></li>\\r\\n\\t\\t\\t\\t\\t\\t\\t\\t<li><a href=\"/cyber/CyberCar.php?cat=3\">ë°´Â·RVÂ·ë²\\x84ì\\x8a¤</a></li>\\r\\n\\t\\t\\t\\t\\t\\t\\t\\t<li><a href=\"/cyber/CyberCar.php?features=pick\">í\\x94½ì\\x97\\x85í\\x8a¸ë\\x9f\\xad</a></li>\\r\\n\\t\\t\\t\\t\\t\\t\\t\\t<li><a href=\"/cyber/CyberCar.php?features=camp\">ìº\\xa0í\\x95\\x91ì¹´</a></li>\\r\\n\\t\\t\\t\\t\\t\\t\\t\\t<li><a href=\"/cyber/CyberCar.php?features=tuning\">í\\x8a\\x9cë\\x8b\\x9dì¹´</a></li>\\r\\n\\t\\t\\t\\t\\t\\t\\t\\t<li><a href=\"/cyber/CyberCar.php?features=old\">ì\\x98¬ë\\x93\\x9cì¹´Â·í\\x81´ë\\x9e\\x98ì\\x8b\\x9dì¹´</a></li>\\r\\n\\t\\t\\t\\t\\t\\t\\t\\t<li><a href=\"/cyber/CyberCar.php?features=super\">ì\\x8a\\x88í\\x8d¼ì¹´</a></li>\\r\\n\\t\\t\\t\\t\\t\\t\\t\\t<li><a href=\"/cyber/CyberCar.php?features=rare\">í\\x9d¬ê·\\x80ì°¨</a></li>\\r\\n\\t\\t\\t\\t\\t\\t\\t\\t<li><a href=\"/cyber/CyberCar.php?features=auto\">ì\\x98¤í\\x86\\xa0ê°¤ë\\x9f¬ë¦¬</a></li>\\r\\n\\t\\t\\t\\t                </ul>\\r\\n            </div>\\r\\n\\t\\t\\t            <div class=\"svc-col\">\\r\\n                <h3 class=\"stit\"><a href=\"/mycar/mycar_list.php?gubun=K\">êµ\\xadì\\x82°ì°¨</a></h3>\\r\\n                <ul class=\"svc-list\">\\r\\n\\t\\t\\t\\t\\t\\t\\t\\t<li><a href=\"/mycar/mycar_list.php?gubun=K\">êµ\\xadì\\x82°ì°¨ê²\\x80ì\\x83\\x89</a></li>\\r\\n\\t\\t\\t\\t\\t\\t\\t\\t<li><a href=\"/mycar/mycar_list.php?sel_m_gubun=tuning_K\">í\\x8a\\x9cë\\x8b\\x9dì¹´ê²\\x80ì\\x83\\x89</a></li>\\r\\n\\t\\t\\t\\t\\t\\t\\t\\t<li><a href=\"/mycar/mycar_list.php?sel_m_gubun=succ_K\">ë¦¬ì\\x8a¤ë\\xa0\\x8cí\\x8a¸ì°¨ë\\x9f\\x89</a></li>\\r\\n\\t\\t\\t\\t\\t\\t\\t\\t<li><a href=\"/cyber/CyberCar.php?gubun=K\">ì\\x82¬ì\\x9d´ë²\\x84ë§¤ì\\x9e¥</a></li>\\r\\n\\t\\t\\t\\t                </ul>\\r\\n            </div>\\r\\n\\t\\t\\t            <div class=\"svc-col\">\\r\\n                <h3 class=\"stit\"><a href=\"/mycar/mycar_list.php?gubun=I\">ì\\x88\\x98ì\\x9e\\x85ì°¨</a></h3>\\r\\n                <ul class=\"svc-list\">\\r\\n\\t\\t\\t\\t\\t\\t\\t\\t<li><a href=\"/mycar/mycar_list.php?gubun=I\">ì\\x88\\x98ì\\x9e\\x85ì°¨ê²\\x80ì\\x83\\x89</a></li>\\r\\n\\t\\t\\t\\t\\t\\t\\t\\t<li><a href=\"/mycar/mycar_list.php?sel_m_gubun=tuning_I\">í\\x8a\\x9cë\\x8b\\x9dì¹´ê²\\x80ì\\x83\\x89</a></li>\\r\\n\\t\\t\\t\\t\\t\\t\\t\\t<li><a href=\"/mycar/mycar_list.php?sel_m_gubun=succ_I\">ë¦¬ì\\x8a¤ë\\xa0\\x8cí\\x8a¸ì°¨ë\\x9f\\x89</a></li>\\r\\n\\t\\t\\t\\t\\t\\t\\t\\t<li><a href=\"/cyber/CyberCar.php?gubun=I\">ì\\x82¬ì\\x9d´ë²\\x84ë§¤ì\\x9e¥</a></li>\\r\\n\\t\\t\\t\\t                </ul>\\r\\n            </div>\\r\\n\\t\\t\\t            <div class=\"svc-col\">\\r\\n                <h3 class=\"stit\"><a href=\"/mycar/mycar.php\">ë\\x82´ì°¨í\\x8c\\x94ê¸°</a></h3>\\r\\n                <ul class=\"svc-list\">\\r\\n\\t\\t\\t\\t\\t\\t\\t\\t<li><a href=\"/mycar/mycar.php\">ë\\x82´ì°¨í\\x8c\\x94ê¸° í\\x99\\x88</a></li>\\r\\n\\t\\t\\t\\t\\t\\t\\t\\t<li><a href=\"/mycar/mycar_self_step1.php?gubun=K\">êµ\\xadì\\x82°ì°¨ ì\\x85\\x80í\\x94\\x84ë\\x93±ë¡\\x9d</a></li>\\r\\n\\t\\t\\t\\t\\t\\t\\t\\t<li><a href=\"/mycar/mycar_self_step1.php?gubun=I\">ì\\x88\\x98ì\\x9e\\x85ì°¨ ì\\x85\\x80í\\x94\\x84ë\\x93±ë¡\\x9d</a></li>\\r\\n\\t\\t\\t\\t\\t\\t\\t\\t<li><a href=\"/mycar/mycar_photo_request.php?mType=C\">ì\\x82¬ì\\x9d´ë²\\x84ë§¤ì\\x9e¥ë\\x93±ë¡\\x9d</a></li>\\r\\n\\t\\t\\t\\t\\t\\t\\t\\t<li><a href=\"/mycar/ticket.php?gubun=K\">êµ\\xadì\\x82°ì°¨ ë§¤ë¬¼ë\\x93±ë¡\\x9dê¶\\x8c</a></li>\\r\\n\\t\\t\\t\\t\\t\\t\\t\\t<li><a href=\"/mycar/ticket.php?gubun=I\">ì\\x88\\x98ì\\x9e\\x85ì°¨ ë§¤ë¬¼ë\\x93±ë¡\\x9dê¶\\x8c</a></li>\\r\\n\\t\\t\\t\\t\\t\\t\\t\\t<li><a href=\"/mycar/mycar_photo_request.php?mType=D\">ì´¬ì\\x98\\x81ë\\x8c\\x80í\\x96\\x89ì\\x84\\x9cë¹\\x84ì\\x8a¤</a></li>\\r\\n\\t\\t\\t\\t                </ul>\\r\\n            </div>\\r\\n\\t\\t\\t            <div class=\"svc-col\">\\r\\n                <h3 class=\"stit\"><a href=\"https://bike.bobaedream.co.kr\">ì\\x98¤í\\x86\\xa0ë°\\x94ì\\x9d´</a></h3>\\r\\n                <ul class=\"svc-list\">\\r\\n\\t\\t\\t\\t\\t\\t\\t\\t<li><a href=\"https://bike.bobaedream.co.kr\">ì\\x98¤í\\x86\\xa0ë°\\x94ì\\x9d´í\\x99\\x88</a></li>\\r\\n\\t\\t\\t\\t\\t\\t\\t\\t<li><a href=\"https://bike.bobaedream.co.kr/bike2/bike_list.php?ifnew=Y\">ì\\x8b\\xa0ì°¨ ë§¤ì\\x9e¥</a></li>\\r\\n\\t\\t\\t\\t\\t\\t\\t\\t<li><a href=\"https://bike.bobaedream.co.kr/bike2/bike_list.php?ifnew=N\">ì¤\\x91ê³\\xa0ì°¨ ë§¤ì\\x9e¥</a></li>\\r\\n\\t\\t\\t\\t\\t\\t\\t\\t<li><a href=\"https://bike.bobaedream.co.kr/bike_good/bike_good_list.php\">ì\\x9a©í\\x92\\x88ì\\x9e¥í\\x84°</a></li>\\r\\n\\t\\t\\t\\t\\t\\t\\t\\t<li><a href=\"https://bike.bobaedream.co.kr/bike2/board/bike_community_main.php\">ì»¤ë®¤ë\\x8b\\x88í\\x8b°</a></li>\\r\\n\\t\\t\\t\\t\\t\\t\\t\\t<li><a href=\"https://bike.bobaedream.co.kr/bike2/bike_apply.php\">ë§¤ë¬¼ë\\x93±ë¡\\x9dí\\x95\\x98ê¸°</a></li>\\r\\n\\t\\t\\t\\t\\t\\t\\t\\t<li><a href=\"https://bike.bobaedream.co.kr/bike2/mycar_list_main.php\">ë\\x82\\x98ì\\x9d\\x98ë§¤ë¬¼ê´\\x80ë¦¬</a></li>\\r\\n\\t\\t\\t\\t                </ul>\\r\\n            </div>\\r\\n\\t\\t\\t            <div class=\"svc-col\">\\r\\n                <h3 class=\"stit\"><a href=\"/partner/partner_main.php\">í\\x98\\x91ë\\xa0¥ì\\x97\\x85ì²´</a></h3>\\r\\n                <ul class=\"svc-list\">\\r\\n\\t\\t\\t\\t\\t\\t\\t\\t<li><a href=\"/partner/partner_main.php\">í\\x98\\x91ë\\xa0¥ì\\x97\\x85ì²´í\\x99\\x88</a></li>\\r\\n\\t\\t\\t\\t\\t\\t\\t\\t<li><a href=\"/partner/partner_search.php\">í\\x98\\x91ë\\xa0¥ì\\x97\\x85ì²´ì°¾ê¸°</a></li>\\r\\n\\t\\t\\t\\t\\t\\t\\t\\t<li><a href=\"/partner/partner_photo.php\">ì\\x97\\x85ì²´ì\\x9e\\x91ì\\x97\\x85ì\\x82¬ì§\\x84</a></li>\\r\\n\\t\\t\\t\\t\\t\\t\\t\\t<li><a href=\"/partner/partner_movie.php\">ì\\x97\\x85ì²´ì\\x9e\\x91ì\\x97\\x85ì\\x98\\x81ì\\x83\\x81</a></li>\\r\\n\\t\\t\\t\\t\\t\\t\\t\\t<li><a href=\"/partner/partner_visit.php\">ë°©ë¬¸í\\x9b\\x84ê¸°</a></li>\\r\\n\\t\\t\\t\\t\\t\\t\\t\\t<li><a href=\"/partner/partner_event.php\">ì\\x9d´ë²¤í\\x8a¸ì\\x86\\x8cì\\x8b\\x9d</a></li>\\r\\n\\t\\t\\t\\t\\t\\t\\t\\t<li><a href=\"/partner/partner_qna.php\">ì§\\x88ë¬¸ê³¼ë\\x8bµë³\\x80</a></li>\\r\\n\\t\\t\\t\\t\\t\\t\\t\\t<li><a href=\"/partner/partner_request.php\">í\\x98\\x91ë\\xa0¥ì\\x97\\x85ì²´ë¬¸ì\\x9d\\x98</a></li>\\r\\n\\t\\t\\t\\t                </ul>\\r\\n            </div>\\r\\n\\t\\t\\t            <div class=\"svc-col\">\\r\\n                <h3 class=\"stit\"><a href=\"https://good.bobaedream.co.kr/good/list_sale.php\">ì¤\\x91ê³\\xa0ì\\x9e¥í\\x84°</a></h3>\\r\\n                <ul class=\"svc-list\">\\r\\n\\t\\t\\t\\t\\t\\t\\t\\t<li><a href=\"https://good.bobaedream.co.kr/good/list_sale.php\">ì\\xa0\\x84ì²´ë³´ê¸°</a></li>\\r\\n\\t\\t\\t\\t\\t\\t\\t\\t<li><a href=\"https://good.bobaedream.co.kr/good/list_sale.php?on=old\">ì¤\\x91ê³\\xa0ì\\x9a©í\\x92\\x88 ê²\\x80ì\\x83\\x89</a></li>\\r\\n\\t\\t\\t\\t\\t\\t\\t\\t<li><a href=\"https://good.bobaedream.co.kr/good/list_sale.php?on=new\">ì\\x83\\x88ì\\xa0\\x9cí\\x92\\x88 ê²\\x80ì\\x83\\x89</a></li>\\r\\n\\t\\t\\t\\t\\t\\t\\t\\t<li><a href=\"https://good.bobaedream.co.kr/good/list_sale.php?d1=150\">ì\\x88\\x98ì\\x9e\\x85ì°¨ì\\x9a©í\\x92\\x88 ê²\\x80ì\\x83\\x89</a></li>\\r\\n\\t\\t\\t\\t\\t\\t\\t\\t<li><a href=\"https://good.bobaedream.co.kr/good/home.php\">ì\\x9a©í\\x92\\x88ë\\x93±ë¡\\x9dí\\x95\\x98ê¸°</a></li>\\r\\n\\t\\t\\t\\t\\t\\t\\t\\t<li><a href=\"https://good.bobaedream.co.kr/good/list_mygood.php\">ë\\x82\\x98ì\\x9d\\x98 ì\\x9a©í\\x92\\x88ê´\\x80ë¦¬</a></li>\\r\\n\\t\\t\\t\\t                </ul>\\r\\n            </div>\\r\\n\\t\\t\\t            <div class=\"svc-col\">\\r\\n                <h3 class=\"stit\"><a href=\"/board/bbs.php\">ê²\\x8cì\\x8b\\x9cí\\x8c\\x90</a></h3>\\r\\n                <ul class=\"svc-list\">\\r\\n\\t\\t\\t\\t\\t\\t\\t\\t<li><a href=\"/list?code=best\">ë²\\xa0ì\\x8a¤í\\x8a¸ê¸\\x80</a></li>\\r\\n\\t\\t\\t\\t\\t\\t\\t\\t<li><a href=\"/list?code=freeb\">ì\\x9e\\x90ì\\x9c\\xa0ê²\\x8cì\\x8b\\x9cí\\x8c\\x90</a></li>\\r\\n\\t\\t\\t\\t\\t\\t\\t\\t<li><a href=\"/list?code=politic\">ì\\xa0\\x95ì¹\\x98ê²\\x8cì\\x8b\\x9cí\\x8c\\x90</a></li>\\r\\n\\t\\t\\t\\t\\t\\t\\t\\t<li><a href=\"/list?code=battle\">ì\\x8b\\x9cì\\x8a¹ê¸°Â·ë°°í\\x8b\\x80Â·ëª©ê²©ë\\x8b´</a></li>\\r\\n\\t\\t\\t\\t\\t\\t\\t\\t<li><a href=\"/list?code=famous\">ì\\x9c\\xa0ëª\\x85ì\\x9d¸ì\\x9d\\x98 ì°¨</a></li>\\r\\n\\t\\t\\t\\t\\t\\t\\t\\t<li><a href=\"/list?code=nnews\">ì\\x9e\\x90ë\\x8f\\x99ì°¨ë\\x89´ì\\x8a¤</a></li>\\r\\n\\t\\t\\t\\t\\t\\t\\t\\t<li><a href=\"/list?code=bbstory\">ë³´ë°°ë\\x93\\x9cë¦¼ ì\\x9d´ì\\x95¼ê¸°</a></li>\\r\\n\\t\\t\\t\\t\\t\\t\\t\\t<li><a href=\"/list?code=bb_talk\">ì\\xa0\\x9cì\\x95\\x88Â·ê±´ì\\x9d\\x98</a></li>\\r\\n\\t\\t\\t\\t\\t\\t\\t\\t<li><a href=\"/event/event_list.php?event_gubun=1\">ì\\x9d´ë²¤í\\x8a¸</a></li>\\r\\n\\t\\t\\t\\t                </ul>\\r\\n            </div>\\r\\n\\t\\t\\t            <div class=\"svc-col\">\\r\\n                <h3 class=\"stit\"><a href=\"/board/data.php\">ì\\x9e\\x90ë£\\x8cì\\x8b¤</a></h3>\\r\\n                <ul class=\"svc-list\">\\r\\n\\t\\t\\t\\t\\t\\t\\t\\t<li><a href=\"/list?code=strange\">ì\\x9c\\xa0ë¨¸ê²\\x8cì\\x8b\\x9cí\\x8c\\x90</a></li>\\r\\n\\t\\t\\t\\t\\t\\t\\t\\t<li><a href=\"/list?code=accident\">êµ\\x90í\\x86µì\\x82¬ê³\\xa0Â·ì\\x82¬ê±´Â·ë¸\\x94ë°\\x95</a></li>\\r\\n\\t\\t\\t\\t\\t\\t\\t\\t<li><a href=\"/list?code=national\">êµ\\xadì\\x82°ì°¨ê²\\x8cì\\x8b\\x9cí\\x8c\\x90</a></li>\\r\\n\\t\\t\\t\\t\\t\\t\\t\\t<li><a href=\"/list?code=import\">ì\\x88\\x98ì\\x9e\\x85ì°¨ê²\\x8cì\\x8b\\x9cí\\x8c\\x90</a></li>\\r\\n\\t\\t\\t\\t\\t\\t\\t\\t<li><a href=\"/list?code=hotcar\">ë\\x82´ì°¨ì\\x82¬ì§\\x84</a></li>\\r\\n\\t\\t\\t\\t\\t\\t\\t\\t<li><a href=\"/list?code=dica\">ì§\\x81ì°\\x8dÂ·í\\x8a¹ì¢\\x85ë°\\x9cê²¬</a></li>\\r\\n\\t\\t\\t\\t\\t\\t\\t\\t<li><a href=\"/list?code=special\">ì\\x9e\\x90ë\\x8f\\x99ì°¨ì\\x82¬ì§\\x84Â·ë\\x8f\\x99ì\\x98\\x81ì\\x83\\x81</a></li>\\r\\n\\t\\t\\t\\t\\t\\t\\t\\t<li><a href=\"/list?code=wheel\">ì\\x9e¥ì°©ì\\x8b\\x9cê³µì\\x82¬ì§\\x84</a></li>\\r\\n\\t\\t\\t\\t\\t\\t\\t\\t<li><a href=\"/list?code=music\">ì\\x9e\\x90ì\\x9c\\xa0ì\\x82¬ì§\\x84Â·ë\\x8f\\x99ì\\x98\\x81ì\\x83\\x81</a></li>\\r\\n\\t\\t\\t\\t\\t\\t\\t\\t<li><a href=\"/list?code=girl\">ë\\xa0\\x88ì\\x9d´ì\\x8b±ëª¨ë\\x8d¸</a></li>\\r\\n\\t\\t\\t\\t\\t\\t\\t\\t<li><a href=\"/list?code=army\">êµ°ì\\x82¬Â·ë¬´ê¸°</a></li>\\r\\n\\t\\t\\t\\t\\t\\t\\t\\t<li><a href=\"/list?code=truck\">í\\x8a¸ë\\x9f\\xadÂ·ë²\\x84ì\\x8a¤Â·ì¤\\x91ê¸°</a></li>\\r\\n\\t\\t\\t\\t\\t\\t\\t\\t<li><a href=\"/list?code=skybr\">í\\x95\\xadê³µÂ·í\\x95´ì\\x9a´Â·ì²\\xa0ë\\x8f\\x84</a></li>\\r\\n\\t\\t\\t\\t\\t\\t\\t\\t<li><a href=\"/list?code=bike\">ì\\x98¤í\\x86\\xa0ë°\\x94ì\\x9d´Â·ì\\x9e\\x90ì\\xa0\\x84ê±°</a></li>\\r\\n\\t\\t\\t\\t\\t\\t\\t\\t<li><a href=\"/list?code=vi\">ì\\x98¬ë\\x93\\x9cì¹´Â·ì¶\\x94ì\\x96µê±°ë¦¬</a></li>\\r\\n\\t\\t\\t\\t                </ul>\\r\\n            </div>\\r\\n\\t\\t\\t            <div class=\"svc-col\">\\r\\n                <h3 class=\"stit\"><a href=\"/\">í\\x85\\x8cë§\\x88ë³\\x84</a></h3>\\r\\n                <ul class=\"svc-list\">\\r\\n\\t\\t\\t\\t\\t\\t\\t\\t<li><a href=\"/event/event_list.php?event_gubun=1\">ë³´ë°°ë\\x93\\x9cë¦¼ ì\\x9d´ë²¤í\\x8a¸</a></li>\\r\\n\\t\\t\\t\\t                </ul>\\r\\n            </div>\\r\\n\\t\\t\\t        </div>\\r\\n        <!-- //[E] service-all-area -->\\r\\n    </div>\\r\\n</div>\\r\\n<!-- //bobaeService -->\\r\\n\\r\\n  <div class=\"comcontent\" id=\"Content\" tabindex=\"0\">\\r\\n    <div class=\"conLeft\">\\r\\n<form name=\"form_login\" method=\"post\" action=\"https://security.bobaedream.co.kr/member/MemLoginCtrl.php\" onsubmit=\"return login_chk();\">\\r\\n  <input type=\"hidden\" name=\"page\" id=\"page\" value=\"http://www.bobaedream.co.kr/list?code=import\" />\\t      \\r\\n      <div class=\"log_in\">\\r\\n\\t\\t\\t<fieldset>\\r\\n\\t\\t\\t\\t <input type=\"checkbox\" name=\"loginKEEP\" id=\"save_keep\" value=\"Y\" onclick=\"onAutoLoginClick();\" /><label for=\"save_keep\"><span class=\"log_in_text\">ë¡\\x9cê·¸ì\\x9d¸ ì\\x83\\x81í\\x83\\x9c ì\\x9c\\xa0ì§\\x80</span></label>\\r\\n\\t\\t\\t\\t <input type=\"text\" value=\"ì\\x95\\x84ì\\x9d´ë\\x94\\x94\" id=\"ID4\" name=\"ID\" class=\"id\" title=\"ì\\x95\\x84ì\\x9d´ë\\x94\\x94ì\\x9e\\x85ë\\xa0¥\"  />\\r\\n\\t\\t\\t\\t <input type=\"text\" name=\"password\" id=\"03\" title=\"ë¹\\x84ë°\\x80ë²\\x88í\\x98¸\" value=\"ë¹\\x84ë°\\x80ë²\\x88í\\x98¸\" class=\"password_position\" />\\r\\n\\t\\t\\t\\t <input type=\"password\" id=\"Passwd5\" name=\"Passwd\" class=\"password_position\" title=\"ë¹\\x84ë°\\x80ë²\\x88í\\x98¸ì\\x9e\\x85ë\\xa0¥\" style=\"display:none;\" onkeydown=\"Enter_Check();\" />\\r\\n\\t\\t\\t\\t <input type=\"button\" name=\"login_button\" id=\"04\" title=\"ë¡\\x9cê·¸ì\\x9d¸\" value=\"ë¡\\x9cê·¸ì\\x9d¸\" onclick=\"return login_chk(\\'b\\');\" />\\t\\t\\t\\t \\t\\t\\t\\t \\r\\n\\t\\t\\t </fieldset>\\r\\n\\t\\t\\t <ul>\\r\\n\\t\\t\\t\\t<li><a href=\"https://security.bobaedream.co.kr/member/join/sfindID_new.php\">ì\\x95\\x84ì\\x9d´ë\\x94\\x94</a>/<a href=\"https://security.bobaedream.co.kr/member/join/sfindPASS_new.php\">ë¹\\x84ë°\\x80ë²\\x88í\\x98¸ì°¾ê¸°</a></li>\\r\\n\\t\\t\\t\\t<li class=\"line\">l</li>\\t\\t\\t \\t\\r\\n\\t\\t\\t\\t<li><a href=\"https://security.bobaedream.co.kr/member/join/register_choice_renew.php\">í\\x9a\\x8cì\\x9b\\x90ê°\\x80ì\\x9e\\x85</a></li>\\r\\n\\t\\t\\t\\t<li class=\"ico_naver\"><a href=\"javascript:void(window.open(\\'https://security.bobaedream.co.kr/member/nid.php\\', \\'nid_login\\', \\'width=500,height=517, top=24,left=0,toolbar=no,location=no,directories=no,status=no,menubar=no,scrollbars=no,resizable=no,copyhistory=no\\'));\"><img src=\"//image.bobaedream.co.kr/renew/images/bobae_renew/btn_naver.gif\" alt=\"ë\\x84¤ì\\x9d´ë²\\x84\" /></a></li>\\t\\t\\t\\t\\r\\n\\t\\t\\t </ul>\\r\\n      </div>\\r\\n</form>\\r\\n<script type=\"text/javascript\">\\r\\n  //  <![CDATA[\\r\\n$(function(){\\r\\n\\r\\n\\t$(\\'input.id\\').focusin(function(){\\r\\n\\t\\tif($(this).val() == \\'ì\\x95\\x84ì\\x9d´ë\\x94\\x94\\') {\\r\\n\\t\\t\\t$(this).val(\\'\\');\\r\\n\\t\\t}\\r\\n\\t});\\r\\n\\t$(\\'input.id\\').focusout(function(){\\r\\n\\t\\tif($(this).val() == \\'\\') {\\r\\n\\t\\t\\t$(this).val(\\'ì\\x95\\x84ì\\x9d´ë\\x94\\x94\\');\\r\\n\\t\\t}\\r\\n\\t});\\r\\n\\r\\n\\r\\n\\t$(\\'#03\\').focusin(function(){\\r\\n\\t\\t$(\\'#03\\').hide();\\r\\n\\t\\t$(\\'#Passwd5\\').show();\\r\\n\\t\\t$(\\'#Passwd5\\').focus();\\r\\n\\t});\\r\\n\\t$(\\'#Passwd5\\').focusout(function(){\\r\\n\\t\\tif($(\\'#Passwd5\\').val() == \\'\\') {\\r\\n\\t\\t\\t$(\\'#Passwd5\\').hide();\\r\\n\\t\\t\\t$(\\'#03\\').show();\\r\\n\\t\\t}\\r\\n\\t});\\r\\n});\\r\\n\\tfunction login_chk(b) {\\r\\n    if (document.form_login.ID.value.replace(/ /g,\"\") == \"\" || document.form_login.ID.value == \"ì\\x95\\x84ì\\x9d´ë\\x94\\x94\") {\\r\\n      alert(\"ì\\x95\\x84ì\\x9d´ë\\x94\\x94ë¥¼ ì\\x9e\\x85ë\\xa0¥í\\x95\\x98ì\\x84¸ì\\x9a\\x94.\");\\r\\n      document.form_login.ID.focus();\\r\\n      return false;\\r\\n    } else if (document.form_login.Passwd.value.replace(/ /g,\"\") == \"\") {\\r\\n      alert(\"ë¹\\x84ë°\\x80ë²\\x88í\\x98¸ë¥¼ ì\\x9e\\x85ë\\xa0¥í\\x95\\x98ì\\x84¸ì\\x9a\\x94.\");\\r\\n      $(\\'#03\\').focus();\\r\\n      return false;\\r\\n    }\\r\\n    \\r\\n    if(b) document.form_login.submit();\\r\\n  }\\r\\n  \\r\\n\\tfunction Enter_Check(){\\t        \\r\\n\\t\\tif(event.keyCode == 13){\\r\\n\\t\\t\\tlogin_chk(\\'b\\');\\r\\n\\t\\t\\treturn;\\r\\n\\t\\t}\\r\\n\\t}  \\r\\n  // ]]>\\r\\n</script>\\r\\n\\r\\n\\t<script type=\"text/javascript\">\\r\\n\\t\\tfunction onAutoLoginClick() {\\r\\n\\t\\t\\tif (document.form_login.loginKEEP.checked) {\\r\\n\\t\\t\\t\\talert(\"ì\\x9e\\x90ë\\x8f\\x99ë¡\\x9cê·¸ì\\x9d¸ ì\\x84¤ì\\xa0\\x95 í\\x9b\\x84 ë³\\x84ë\\x8f\\x84ì\\x9d\\x98 ë¡\\x9cê·¸ì\\x95\\x84ì\\x9b\\x83ì\\x9d\\x84\\\\n í\\x95\\x98ì§\\x80 ì\\x95\\x8aì\\x9c¼ë©´, ë¡\\x9cê·¸ì\\x9d¸ ì\\x83\\x81í\\x83\\x9cê°\\x80 ì\\x9c\\xa0ì§\\x80ë\\x90\\x98ë¯\\x80ë¡\\x9c\\\\n ì\\x9d´ì\\xa0\\x90 ì\\x9c\\xa0ì\\x9d\\x98í\\x95\\x98ì\\x8b\\x9cê¸° ë°\\x94ë\\x9e\\x8dë\\x8b\\x88ë\\x8b¤.\");\\r\\n\\t\\t\\t}\\r\\n\\t\\t}\\r\\n\\t</script>\\t      <div class=\"leftMenu\">\\r\\n\\r\\n\\t\\t<div class=\"left_con\">\\r\\n        <h4><img src=\"//image.bobaedream.co.kr/renew/images/title/title_community_left_02.gif\" alt=\"ì\\x9e\\x90ë£\\x8cì\\x8b¤\" /></h4>\\r\\n\\t\\t<div class=\"list_left\">\\r\\n        <ul>\\r\\n          <li><a href=\"/list?code=strange\">ì\\x9c\\xa0ë¨¸ê²\\x8cì\\x8b\\x9cí\\x8c\\x90</a></li>\\r\\n\\t    <li><a href=\"/list?code=accident\">êµ\\x90í\\x86µì\\x82¬ê³\\xa0/ì\\x82¬ê±´/ë¸\\x94ë°\\x95</a></li>\\r\\n          <li><a href=\"/list?code=national\">êµ\\xadì\\x82°ì°¨ê²\\x8cì\\x8b\\x9cí\\x8c\\x90</a></li>\\r\\n          <li><a href=\"/list?code=import\"><span class=\"hilight\">ì\\x88\\x98ì\\x9e\\x85ì°¨ê²\\x8cì\\x8b\\x9cí\\x8c\\x90</span></a></li>\\r\\n          <li><a href=\"/list?code=hotcar\">ë\\x82´ì°¨ì\\x82¬ì§\\x84</a></li>\\r\\n          <li><a href=\"/list?code=dica\">ì§\\x81ì°\\x8d/í\\x8a¹ì¢\\x85ë°\\x9cê²¬</a></li>\\r\\n          <li><a href=\"/list?code=special\">ì\\x9e\\x90ë\\x8f\\x99ì°¨ì\\x82¬ì§\\x84/ë\\x8f\\x99ì\\x98\\x81ì\\x83\\x81</a></li>    \\r\\n        </ul>\\r\\n\\t\\t</div>\\r\\n\\t\\t<div class=\"list\">\\r\\n\\t\\t<ul>\\r\\n          <li><a href=\"/list?code=girl\">ë\\xa0\\x88ì\\x9d´ì\\x8b±ëª¨ë\\x8d¸</a></li>\\t\\t  \\r\\n\\t\\t\\t\\t\\t<li><a href=\"/list?code=music\">ì\\x9e\\x90ì\\x9c\\xa0ì\\x82¬ì§\\x84/ë\\x8f\\x99ì\\x98\\x81ì\\x83\\x81</a></li>                           \\r\\n          <li><a href=\"/list?code=army\">êµ°ì\\x82¬/ë¬´ê¸°</a></li>\\r\\n          <li><a href=\"/list?code=truck\">í\\x8a¸ë\\x9f\\xad/ë²\\x84ì\\x8a¤/ì¤\\x91ê¸°</a></li>\\r\\n          <li><a href=\"/list?code=skybr\">í\\x95\\xadê³µ/í\\x95´ì\\x9a´/ì²\\xa0ë\\x8f\\x84</a></li>\\r\\n\\t      \\t<li><a href=\"/list?code=vi\">ì\\x98¬ë\\x93\\x9cì¹´/ì¶\\x94ì\\x96µê±°ë¦¬</a></li>\\r\\n\\t\\t  <li class=\"end\"><a href=\"/list?code=wheel\">ì\\x9e¥ì°©ì\\x8b\\x9cê³µì\\x82¬ì§\\x84</a></li>\\r\\n        </ul>\\r\\n\\t\\t</div>\\r\\n\\t\\t</div>\\r\\n  \\r\\n\\t\\t<div class=\"left_con\">\\r\\n        <h4><img src=\"//image.bobaedream.co.kr/renew/images/title/title_community_left_01.gif\" alt=\"ê²\\x8cì\\x8b\\x9cí\\x8c\\x90\" /></h4>\\r\\n\\t\\t<div class=\"list_left\">\\r\\n        <ul>\\r\\n          <li><a href=\"/list?code=best\">ë²\\xa0ì\\x8a¤í\\x8a¸ê¸\\x80</a></li>\\r\\n          <li><a href=\"/list?code=freeb\">ì\\x9e\\x90ì\\x9c\\xa0ê²\\x8cì\\x8b\\x9cí\\x8c\\x90</a></li>\\r\\n\\t\\t\\t\\t\\t<li><a href=\"/list?code=politic\">ì\\xa0\\x95ì¹\\x98ê²\\x8cì\\x8b\\x9cí\\x8c\\x90</a></li>          \\r\\n\\t    \\t\\t<li><a href=\"/list?code=battle\">ì\\x8b\\x9cì\\x8a¹ê¸°/ë°°í\\x8b\\x80/ëª©ê²©ë\\x8b´</a></li>          \\r\\n        </ul>\\r\\n\\t\\t</div>\\r\\n\\t\\t<div class=\"list\">\\r\\n\\t\\t<ul>\\r\\n\\t\\t\\t\\t\\t<li><a href=\"/list?code=famous\">ì\\x9c\\xa0ëª\\x85ì\\x9d¸ì\\x9d\\x98 ì°¨</a></li>\\t\\t\\r\\n\\t\\t\\t\\t\\t<li><a href=\"/list?code=ad\">ì\\x84±ì\\x9d¸ê²\\x8cì\\x8b\\x9cí\\x8c\\x90</a></li>\\t\\t\\r\\n          <li><a href=\"/list?code=nnews\">ì\\x9e\\x90ë\\x8f\\x99ì°¨ë\\x89´ì\\x8a¤</a></li>          \\r\\n\\t    \\t\\t<li class=\"end\"><a href=\"/partner/partner_main.php\">í\\x98\\x91ë\\xa0¥ì\\x97\\x85ì²´</a></li>\\r\\n        </ul>\\r\\n\\t\\t</div>\\r\\n\\t\\t</div>\\r\\n  \\r\\n\\t\\t<div class=\"left_con\">\\r\\n        <h4><img src=\"//image.bobaedream.co.kr/renew/images/title/title_community_left_03.gif\" alt=\"ê¸°í\\x83\\x80\" /></h4>\\r\\n\\t\\t<div class=\"list_left\">\\r\\n        <ul>\\r\\n          <li><a href=\"/event/event_list.php?event_gubun=1\">ì\\x9d´ë²¤í\\x8a¸</a></li>\\r\\n          <li><a href=\"/list.php?code=event_notice\">ê³µì§\\x80ì\\x82¬í\\x95\\xad</a></li>\\r\\n          <li class=\"end\"><a href=\"/partner/partner_main.php\">ì\\x97\\x85ì²´ê²\\x80ì\\x83\\x89</a></li>\\r\\n        </ul>\\r\\n\\t\\t</div>\\r\\n\\t\\t<div class=\"list\">\\r\\n\\t\\t <ul class=\"list\">\\r\\n          <li><a href=\"/list?code=bb_talk\">ì\\xa0\\x9cì\\x95\\x88/ê±´ì\\x9d\\x98</a></li>\\r\\n          <li><a href=\"/list?code=bbstory\">ë³´ë°°ë\\x93\\x9cë¦¼ ì\\x9d´ì\\x95¼ê¸°</a></li>\\r\\n        </ul>\\r\\n\\t\\t</div>\\r\\n\\t\\t</div>\\r\\n        </div>\\r\\n\\t  <div class=\"left_con_last\">\\r\\n<a href=\"https://www.bobaedream.co.kr/partner/partner_view.php?no=612\" id=\"cooperate_info0\" style=\"display:none;\"><p class=\"left_con_p\"><img src=\"//file4.bobaedream.co.kr/partner/special/2019/10/25/1571967479_c.jpg\" alt=\"í\\x83\\x80ì\\x8a¤ì¹´ëª¨í\\x84°ì\\x8a¤\" style=\"width:69px;height:69px;\" /></p><ul class=\"left_con_ul\"><li><span>í\\x83\\x80ì\\x8a¤ì¹´ëª¨í\\x84°ì\\x8a¤</span></li><li>ì\\x88\\x98ì\\x9e\\x85ì°¨ë¶\\x80í\\x92\\x88</li><li>042-320-5820</li></ul></a><a href=\"https://www.bobaedream.co.kr/partner/partner_view.php?no=546\" id=\"cooperate_info1\" style=\"display:none;\"><p class=\"left_con_p\"><img src=\"//file4.bobaedream.co.kr/partner/special/2019/03/27/1553650758_c.jpg\" alt=\"í\\x81´ë\\x9f½ì\\x98¤ë\\xa0\\x8cì§\\x80\" style=\"width:69px;height:69px;\" /></p><ul class=\"left_con_ul\"><li><span>í\\x81´ë\\x9f½ì\\x98¤ë\\xa0\\x8cì§\\x80</span></li><li>í\\x83\\x80ì\\x9d´ì\\x96´</li><li>010-2954-2158</li></ul></a><a href=\"https://www.bobaedream.co.kr/partner/partner_view.php?no=1003\" id=\"cooperate_info2\" style=\"display:none;\"><p class=\"left_con_p\"><img src=\"//file4.bobaedream.co.kr/partner/special/2017/11/27/1511742975_c.jpg\" alt=\"SMì\\x9d¸í\\x84°ë\\x82´ì\\x85\\x94ë\\x84\\x90\" style=\"width:69px;height:69px;\" /></p><ul class=\"left_con_ul\"><li><span>SMì\\x9d¸í\\x84°ë\\x82´ì\\x85\\x94ë\\x84\\x90</span></li><li>ì\\x88\\x98ì\\x9e\\x85ì°¨ë¶\\x80í\\x92\\x88</li><li></li></ul></a><a href=\"https://www.bobaedream.co.kr/partner/partner_view.php?no=538\" id=\"cooperate_info3\" style=\"display:none;\"><p class=\"left_con_p\"><img src=\"//file4.bobaedream.co.kr/partner/special/2017/05/19/1495176726_c.jpg\" alt=\"ì\\x9d¸ì¹\\x98ì\\x97\\x85ë\\x82\\x98ë\\x9d¼\" style=\"width:69px;height:69px;\" /></p><ul class=\"left_con_ul\"><li><span>ì\\x9d¸ì¹\\x98ì\\x97\\x85ë\\x82\\x98ë\\x9d¼</span></li><li>í\\x9c\\xa0/í\\x83\\x80ì\\x9d´ì\\x96´</li><li>010-6676-7732</li></ul></a>      </div>     \\r\\n      <div class=\"sns\">\\r\\n\\t\\t<span class=\"title\">ë³´ë°°ë\\x93\\x9cë¦¼ SNS</span>\\r\\n\\t\\t<div class=\"sns_03\">\\r\\n\\t\\t\\t<ul>\\r\\n\\t\\t\\t\\t<li><a href=\"https://www.facebook.com/bobaedream\"><img src=\"//image.bobaedream.co.kr/renew/images/common_re/face.gif\" alt=\"í\\x8e\\x98ì\\x9d´ì\\x8a¤ë¶\\x81\" /></a></li>\\r\\n\\t\\t\\t\\t<li><a href=\"https://www.youtube.com/channel/UCLwH6qjWELskt7sGT2b3FOg\"><img src=\"//image.bobaedream.co.kr/renew/images/common_re/youtube.gif\" alt=\"ì\\x9c\\xa0í\\x8a\\x9cë¸\\x8c\" /></a></li>\\r\\n\\t\\t\\t\\t<li><a href=\"https://twitter.com/bobae_dream\"><img src=\"//image.bobaedream.co.kr/renew/images/common_re/twitt.gif\" alt=\"í\\x8a¸ì\\x9c\\x84í\\x84°\" /></a></li>\\r\\n\\t\\t\\t\\t<li><a href=\"http://blog.naver.com/bobae_dream\"><img src=\"//image.bobaedream.co.kr/renew/images/common_re/naverblog.gif\" alt=\"ë\\x84¤ì\\x9d´ë²\\x84ë¸\\x94ë¡\\x9cê·¸\" /></a></li>\\r\\n\\t\\t\\t\\t<li><a href=\"https://instagram.com/bobaedream\"><img src=\"//image.bobaedream.co.kr/renew/images/common_re/insta.gif\" alt=\"ì\\x9d¸ì\\x8a¤í\\x83\\x80ê·¸ë\\x9e¨\" /></a></li>\\r\\n\\t\\t\\t</ul>\\r\\n\\t\\t</div>\\r\\n      </div>\\r\\n    </div>\\r\\n<script type=\"text/javascript\">\\r\\n  //  <![CDATA[\\r\\n  rnum = getRandomInt(0,4);\\r\\n  document.getElementById(\"cooperate_info\"+rnum).style.display = \"\";\\r\\n\\r\\n  // ]]>\\r\\n</script>    <div class=\"conRight\">\\r\\n      <div class=\"titleArea02\">\\r\\n        <h2><img src=\"//image.bobaedream.co.kr/renew/images/title/title_community_import.gif?v=3\" alt=\"ì\\x88\\x98ì\\x9e\\x85ì°¨ê²\\x8cì\\x8b\\x9cí\\x8c\\x90\" /></h2>\\r\\n                  </div>\\r\\n\\t\\t\\t<div class=\"cList\" style=\"margin-top:3px;\">\\r\\n  \\t\\r\\n\\r\\n        <div style=\"display:none;\">\\r\\n          <img style=\"margin-left:5px;display: none;\" id=\"calImg\" src=\"//image.bobaedream.co.kr/renew/images/common/btn_s05_cal.gif\" alt=\"Popup\" class=\"trigger\" />\\r\\n        </div>\\r\\n        <div class=\"cListSearch\">\\r\\n          <div class=\"clistSearch01\" style=\"margin-top:3px\">\\r\\n<a class=\"bsubject\" href=\"https://www.bobaedream.co.kr/view?code=event_notice&No=361\" target=\"_blank\">[ê³µì§\\x80] ë³´ë°°ë\\x93\\x9cë¦¼ ì»¤ë®¤ë\\x8b\\x88í\\x8b° ì\\x9a´ì\\x98\\x81ì\\xa0\\x95ì±\\x85</a>            <!-- img class=\"alim\" src=\"//image.bobaedream.co.kr/renew/images/bobae_renew/notify.gif\" alt=\"ê³µì§\\x80\" / -->\\r\\n          </div>\\r\\n\\r\\n          <div class=\"clistSearch03\">\\r\\n   <label for=\"noticeblind\"></label>      \\r\\n\\t<!--\\r\\n            <select onchange=\"sdays(this.value, \\'\\');\" style=\"width:77px;\">\\r\\n              <option value=\"\"     selected=\\'selected\\'>ì\\xa0\\x84ì²´ê¸°ê°\\x84</option>\\r\\n              <option value=\"7\"   >1ì£¼ì\\x9d¼</option>\\r\\n              <option value=\"15\"  >15ì\\x9d¼</option>\\r\\n              <option value=\"30\"  >1ê°\\x9cì\\x9b\\x94</option>\\r\\n              <option value=\"90\"  >3ê°\\x9cì\\x9b\\x94</option>\\r\\n            </select>\\t-->\\r\\n            <select class=\"clistSearch03_arrow\" onchange=\"spageScale(this.value);\" title=\" \">\\r\\n              <option value=\"70\" >70ê°\\x9cì\\x94©</option>\\r\\n              <option value=\"50\" >50ê°\\x9cì\\x94©</option>\\r\\n              <option value=\"40\" >40ê°\\x9cì\\x94©</option>\\r\\n              <option value=\"30\"  selected=\\'selected\\'>30ê°\\x9cì\\x94©</option>\\r\\n                      <option value=\"20\" >20ê°\\x9cì\\x94©</option>\\r\\n              <option value=\"10\" >10ê°\\x9cì\\x94©</option>\\r\\n\\t\\t\\t\\t              \\r\\n            </select>\\r\\n\\r\\n            <a href=\"/board/bulletin/write?code=import\"><img src=\"//image.bobaedream.co.kr/renew/images/common/btn_writing_new.gif\" alt=\"ê¸\\x80ì\\x93°ê¸°\" /></a>\\r\\n          </div>\\r\\n        </div>\\r\\n<script type=\"text/javascript\">\\r\\n  //  <![CDATA[\\r\\n  function sdays(ord, flag) {\\r\\n    var str = \"\";\\r\\n    var frm = window.document.sform2;\\r\\n    if (str) {\\r\\n      frm.s_key.value = str;\\r\\n    }\\r\\n    frm.s_selday.value = ord;\\r\\n    if (!flag) frm.submit();\\r\\n  }\\r\\n\\r\\n  function sgus(ord) {\\r\\n    var str = \"\";\\r\\n    var frm = window.document.sform2;\\r\\n\\r\\n    if (str) {\\r\\n      frm.s_key.value = str;\\r\\n    }\\r\\n    var or_se = \"desc\";\\r\\n    var or_gu = \"10\";\\r\\n\\r\\n    if (or_gu == ord) {\\r\\n      if (or_se == \"desc\") {\\r\\n        frm.or_se.value = \"asc\";\\r\\n      } else {\\r\\n        frm.or_se.value = \"desc\";\\r\\n      }\\r\\n    } else {\\r\\n      frm.or_se.value = \"desc\";\\r\\n    }\\r\\n    frm.or_gu.value = ord;\\r\\n    frm.submit();\\r\\n  }\\r\\n\\r\\n  function spageScale(ord) {\\r\\n    var str = \"\";\\r\\n    var frm = window.document.sform2;\\r\\n    if (str) {\\r\\n      frm.s_key.value = str;\\r\\n    }\\r\\n    frm.pagescale.value = ord;\\r\\n    frm.submit();\\r\\n  }\\r\\n\\r\\n  function sBestDays(code, days, strNext) {\\r\\n    var str = \"\";\\r\\n    var frm = window.document.sform2;\\r\\n    if (str) {\\r\\n      frm.s_key.value = str;\\r\\n    }\\r\\n    frm.bestCode.value = code;\\r\\n    frm.bestDays.value = days;\\r\\n    if (strNext == \"next\") {\\r\\n      frm.bestNext.value = strNext;\\r\\n    }\\r\\n    frm.submit();\\r\\n  }\\r\\n\\r\\n  function sBestCode(bbscode) {\\r\\n    var str = \"\";\\r\\n    var frm = window.document.sform2;\\r\\n    if (str) {\\r\\n      frm.s_key.value = str;\\r\\n    }\\r\\n    frm.bestbbs.value = bbscode;\\r\\n    frm.submit();\\r\\n  }\\r\\n  function noticeBlind() {\\r\\n    var str = \"\";\\r\\n    var frm = window.document.sform2;\\r\\n    if (str) {\\r\\n      frm.s_key.value = str;\\r\\n    }\\r\\n    if ($(\"#noticeblind\").is(\":checked\") == true) {\\r\\n      frm.noticeShow.value = \"blind\";\\r\\n    } else {\\r\\n      frm.noticeShow.value = \"\";\\r\\n    }\\r\\n    frm.submit();\\r\\n  }\\r\\n  // ]]>\\r\\n</script>\\r\\n        \\r\\n    <table id=\"boardlist\" class=\"clistTable02\" cellspacing=\"0\" cellpadding=\"0\" summary=\"ì\\x9d´ í\\x91\\x9cë\\x8a\\x94 ê²\\x8cì\\x8b\\x9cí\\x8c\\x90 ì\\x88\\x98ì\\x9e\\x85ì°¨ê²\\x8cì\\x8b\\x9cí\\x8c\\x90 ëª©ë¡\\x9dì\\x9c¼ë¡\\x9c ì´\\x9d 6ì\\x97´ë¡\\x9c êµ¬ì\\x84±ë\\x90\\x98ì\\x96´ ì\\x9e\\x88ì\\x9c¼ë©° ì\\x88\\x9cì\\x9c\\x84, ì\\xa0\\x9cëª©, ê¸\\x80ì\\x93´ì\\x9d´, ë\\x93±ë¡\\x9dì\\x9d¼, ì¶\\x94ì²\\x9c, ì¡°í\\x9a\\x8c ì\\x88\\x9cì\\x84\\x9cì\\x9e\\x85ë\\x8b\\x88ë\\x8b¤.\">\\r\\n\\t\\t\\t<caption>ì\\x88\\x98ì\\x9e\\x85ì°¨ê²\\x8cì\\x8b\\x9cí\\x8c\\x90 ëª©ë¡\\x9d</caption>\\r\\n          <colgroup>\\r\\n                        <col width=\"60\" />\\r\\n            <col width=\"*\" />\\r\\n            <col width=\"120\" />\\r\\n            <col width=\"52\" />\\r\\n            <col width=\"41\" />\\r\\n            <col width=\"53\" />\\r\\n          </colgroup>\\r\\n          <thead>\\r\\n            <tr>\\r\\n                            <th scope=\"col\">ë²\\x88í\\x98¸</th>\\r\\n              <th scope=\"col\">ì\\xa0\\x9cëª©</th>\\r\\n              <th class=\"align_left\" scope=\"col\">ê¸\\x80ì\\x93´ì\\x9d´</th>\\r\\n              <th scope=\"col\"><a href=\"javascript:sgus(\\'10\\');\">ë\\x93±ë¡\\x9dì\\x9d¼<img src=\"//image.bobaedream.co.kr/renew/images/common/ico_b7_down_new.gif\" alt=\"ë\\x8d\\x94ë³´ê¸°\" /></a></th>\\r\\n              <th scope=\"col\"><a href=\"javascript:sgus(\\'30\\');\">ì¶\\x94ì²\\x9c<img src=\"//image.bobaedream.co.kr/renew/images/common/ico_b7_down_new.gif\" alt=\"ë\\x8d\\x94ë³´ê¸°\" /></a></th>\\r\\n              <th scope=\"col\"><a href=\"javascript:sgus(\\'20\\');\">ì¡°í\\x9a\\x8c<img src=\"//image.bobaedream.co.kr/renew/images/common/ico_b7_down_new.gif\" alt=\"ë\\x8d\\x94ë³´ê¸°\" /></a></th>              \\r\\n            </tr>\\r\\n          </thead>\\r\\n          <tbody>\\r\\n<tr class=\"best\"><td class=\"c\"><img src=\"//image.bobaedream.co.kr/renew/images/bobae_renew/num01.gif\" alt=\"1rank\"   class=\"imgmargin\" /></td><td><a class=\"bsubject\" href=\"/view?code=import&No=697573&rtn=%2Flist%3Fcode%3Dimport\" title=\"ë²¤ë¹\\x84ì\\x95\\x84 ì\\xa0\\x84ê¸°ì°¨ ì\\x82¬ì\\x8b\\xa0ë¶\\x84 ëª\\x87ë¶\\x84 ì\\x95\\x88ê³\\x84ì\\x8b\\x9cê²\\x9fì§\\x80ë§\\x8c...\">ë²¤ë¹\\x84ì\\x95\\x84 ì\\xa0\\x84ê¸°ì°¨ ì\\x82¬ì\\x8b\\xa0ë¶\\x84 ëª\\x87ë¶\\x84 ì\\x95\\x88ê³\\x84ì\\x8b\\x9cê²\\x9fì§\\x80ë§\\x8c...</a><a href=\"/view?code=import&No=697573&rtn=%2Flist%3Fcode%3Dimport\" style=\"padding-left:4px;\"><span class=\"Comment\">(<strong class=\"totreply\">17</strong>)</span></a></td><td class=\"author02\"><span onClick=\"javascript:submenu_level(\\'b3BocWZvcGhxcW9waHFkb3BocWdvcGhxcG9waHNob3Boc2tvcGhzaA%3D%3D\\');\" class=\"author_level\"><img class=\"level\" src=\"//image.bobaedream.co.kr/board/level/army_7.gif\" alt=\"ë\\xa0\\x88ë²¨ ì¤\\x91ì\\x82¬ 3\" /></span><span onclick=\"javascript:submenu_show(\\'b3BocWZvcGhxcW9waHFkb3BocWdvcGhxcG9waHNob3Boc2tvcGhzaA%3D%3D\\', \\'Shuri\\');\" class=\"author\" style=\"cursor:pointer;\">Shuri</span></td><td class=\"date\">08/16</td><td class=\"recomm\"><font style=\"color:#ff7234;font-weight:bold;\">86</font><font color=\"#999999\"></font></td><td class=\"count\"><font color=\\'#FF0000\\'>6541</font></td></tr>\\n<tr class=\"best\"><td class=\"c\"><img src=\"//image.bobaedream.co.kr/renew/images/bobae_renew/num02.gif\" alt=\"2rank\"   class=\"imgmargin\" /></td><td><a class=\"bsubject\" href=\"/view?code=import&No=697568&rtn=%2Flist%3Fcode%3Dimport\" title=\"í\\x8f\\xadxxx ë\\x94\\x9cë\\x9f¬ ê³µì±\\x84+ê³\\x84ì\\x95½ê¸\\x88 ê°\\x88ì·¨ì\\x82¬ê±´ ìµ\\x9cì¢\\x85ë³¸(+@ ì\\x8b\\x9cê³µë¹\\x84 í\\x9a¡ë\\xa0¹)\">í\\x8f\\xadxxx ë\\x94\\x9cë\\x9f¬ ê³µì±\\x84+ê³\\x84ì\\x95½ê¸\\x88 ê°\\x88ì·¨ì\\x82¬ê±´ ìµ\\x9cì¢\\x85ë³¸(+@ ì\\x8b\\x9cê³µë¹\\x84 í\\x9a¡ë\\xa0¹)</a><a href=\"/view?code=import&No=697568&rtn=%2Flist%3Fcode%3Dimport\" style=\"padding-left:4px;\"><span class=\"Comment\">(<strong class=\"totreply\">9</strong>)</span></a></td><td class=\"author02\"><span onClick=\"javascript:submenu_level(\\'b3BocWJvcGhxcG9waHIxb3BocXFvcGhzZW9waHNrb3Boc2xvcGhzZQ%3D%3D\\');\" class=\"author_level\"><img class=\"level\" src=\"//image.bobaedream.co.kr/board/level/army_7.gif\" alt=\"ë\\xa0\\x88ë²¨ ì¤\\x91ì\\x82¬ 3\" /></span><span onclick=\"javascript:submenu_show(\\'b3BocWJvcGhxcG9waHIxb3BocXFvcGhzZW9waHNrb3Boc2xvcGhzZQ%3D%3D\\', \\'ì\\x9d\\x91ë\\x8bµí\\x95\\x98ë\\x9d¼1988ì\\x9d´ì\\x97¬\\');\" class=\"author\" style=\"cursor:pointer;\">ì\\x9d\\x91ë\\x8bµí\\x95\\x98ë\\x9d¼198..</span></td><td class=\"date\">08/16</td><td class=\"recomm\"><font style=\"color:#ff7234;font-weight:bold;\">81</font><font color=\"#999999\"></font></td><td class=\"count\"><font color=\\'#565656\\'>4116</font></td></tr>\\n<tr class=\"best\"><td class=\"c\"><img src=\"//image.bobaedream.co.kr/renew/images/bobae_renew/num03.gif\" alt=\"3rank\"   class=\"imgmargin\" /></td><td><a class=\"bsubject\" href=\"/view?code=import&No=697611&rtn=%2Flist%3Fcode%3Dimport\">ì\\x8b\\xa0ì°¨  7% í\\x95\\xa0ì\\x9d¸í\\x95´ ì¤\\x80ë\\x8bµë\\x8b\\x88ë\\x8b¤</a><a href=\"/view?code=import&No=697611&rtn=%2Flist%3Fcode%3Dimport\" style=\"padding-left:4px;\"><span class=\"Comment\">(<strong class=\"totreply\">1</strong>)</span></a></td><td class=\"author02\"><span onClick=\"javascript:submenu_level(\\'b3BocXRvcGhxZW9waHFxb3BocjNvcGhxa29waHFub3BocXBvcGhxbA%3D%3D\\');\" class=\"author_level\"><img class=\"level\" src=\"//image.bobaedream.co.kr/board/level/army_15.gif\" alt=\"ë\\xa0\\x88ë²¨ ë\\x8c\\x80ë\\xa0¹ 3\" /></span><span onclick=\"javascript:submenu_show(\\'b3BocXRvcGhxZW9waHFxb3BocjNvcGhxa29waHFub3BocXBvcGhxbA%3D%3D\\', \\'ì\\x9d¼ì°¨ë¡\\x9cë\\x8a\\x94ì¶\\x94ì\\x9b\\x94ì°¨ë¡\\x9cì\\x9e\\x84\\');\" class=\"author\" style=\"cursor:pointer;\">ì\\x9d¼ì°¨ë¡\\x9cë\\x8a\\x94ì¶\\x94ì\\x9b\\x94ì°¨..</span></td><td class=\"date\">08/18</td><td class=\"recomm\"><font style=\"color:#ff7234;font-weight:bold;\">58</font><font color=\"#999999\"></font></td><td class=\"count\"><font color=\\'#FF0000\\'>13869</font></td></tr>\\n<tr class=\"best\"><td class=\"c\"><img src=\"//image.bobaedream.co.kr/renew/images/bobae_renew/num04.gif\" alt=\"4rank\"   class=\"imgmargin\" /></td><td><a class=\"bsubject\" href=\"/view?code=import&No=697558&rtn=%2Flist%3Fcode%3Dimport\">ì\\x86\\x8cë\\x93\\x9d ì\\x9e\\x90ì\\x82° ë¬´ì\\x8b\\x9cí\\x95\\x98ê³\\xa0  í\\x95\\x98ê³\\xa0 ì\\x8b¶ì\\x9d\\x80ê±° í\\x95\\x98ì\\x84¸ì\\x9a\\x94</a><a href=\"/view?code=import&No=697558&rtn=%2Flist%3Fcode%3Dimport\" style=\"padding-left:4px;\"><span class=\"Comment\">(<strong class=\"totreply\">34</strong>)</span></a></td><td class=\"author02\"><span onClick=\"javascript:submenu_level(\\'b3BocXNvcGhxaW9waHIzb3BocW1vcGhxZm9waHFt\\');\" class=\"author_level\"><img class=\"level\" src=\"//image.bobaedream.co.kr/board/level/army_13.gif\" alt=\"ë\\xa0\\x88ë²¨ ì\\x86\\x8cë\\xa0¹ 2\" /></span><span onclick=\"javascript:submenu_show(\\'b3BocXNvcGhxaW9waHIzb3BocW1vcGhxZm9waHFt\\', \\'í\\x8c\\x8cì§\\x80ì¤\\x8dë\\x8a\\x94ì\\x95\\x84ì\\x9e¬\\');\" class=\"author\" style=\"cursor:pointer;\">í\\x8c\\x8cì§\\x80ì¤\\x8dë\\x8a\\x94ì\\x95\\x84ì\\x9e¬</span></td><td class=\"date\">08/15</td><td class=\"recomm\"><font style=\"color:#ff7234;font-weight:bold;\">35</font><font color=\"#999999\"></font></td><td class=\"count\"><font color=\\'#FF0000\\'>10249</font></td></tr>\\n<tr class=\"best\"><td class=\"c\"><img src=\"//image.bobaedream.co.kr/renew/images/bobae_renew/num05.gif\" alt=\"5rank\"   class=\"imgmargin\" /></td><td><a class=\"bsubject\" href=\"/view?code=import&No=697601&rtn=%2Flist%3Fcode%3Dimport\">X6 M40i ...</a><a href=\"/view?code=import&No=697601&rtn=%2Flist%3Fcode%3Dimport\" style=\"padding-left:4px;\"><span class=\"Comment\">(<strong class=\"totreply\">21</strong>)</span></a></td><td class=\"author02\"><span onClick=\"javascript:submenu_level(\\'b3BocW9vcGhxbm9waHFxb3Boc2RvcGhzZG9waHNkb3Boc2Q%3D\\');\" class=\"author_level\"><img class=\"level\" src=\"//image.bobaedream.co.kr/board/level/army_15.gif\" alt=\"ë\\xa0\\x88ë²¨ ë\\x8c\\x80ë\\xa0¹ 2\" /></span><span onclick=\"javascript:submenu_show(\\'b3BocW9vcGhxbm9waHFxb3Boc2RvcGhzZG9waHNkb3Boc2Q%3D\\', \\'ë\\x8d¥ë\\x8b¤ì\\x97\\x90ì\\x96´ì»¨ì¼\\x9cë\\x9d¼\\');\" class=\"author\" style=\"cursor:pointer;\">ë\\x8d¥ë\\x8b¤ì\\x97\\x90ì\\x96´ì»¨ì¼\\x9cë\\x9d¼</span></td><td class=\"date\">08/18</td><td class=\"recomm\"><font style=\"color:#ff7234;font-weight:bold;\">28</font><font color=\"#999999\"></font></td><td class=\"count\"><font color=\\'#565656\\'>3691</font></td></tr>\\n\\r\\n            <tr itemscope itemtype=\"http://schema.org/Article\">\\r\\n              <td class=\"num01\">396047</td>\\r\\n              <td class=\"pl14\">\\r\\n\\r\\n\\t\\t\\t\\t\\t\\t\\t\\t                <a class=\"bsubject\" style=\"padding:0;\" href=\"/view?code=import&No=697622&bm=1\" title=\"ì¤\\x91ê³\\xa0ì°¨ í\\x9b\\x84ê¸° ë\\x82¨ê²¼ë\\x8a\\x94ë\\x8d° ê²°ê³¼ ë°\\x8f ë²\\x94ì£\\x84ì\\x98\\x88ë°©ì\\x9d\\x84 ì\\x95\\x8cë\\xa0¤ë\\x93\\x9cë¦½ë\\x8b\\x88ë\\x8b¤.\" itemprop=\"name\">ì¤\\x91ê³\\xa0ì°¨ í\\x9b\\x84ê¸° ë\\x82¨ê²¼ë\\x8a\\x94ë\\x8d° ê²°ê³¼ ë°\\x8f ë²\\x94ì£\\x84ì\\x98\\x88ë°©ì\\x9d\\x84 ì\\x95\\x8cë\\xa0¤ë\\x93\\x9cë¦½ë\\x8b\\x88ë\\x8b¤.</a>\\r\\n              </td>\\r\\n              <td class=\"author02\">\\r\\n                <span onClick=\"javascript:submenu_level(\\'b3BocWZvcGhxcW9waHF0b3BocXBvcGhxZm9waHFyb3BocWpvcGhxa29waHF0b3Boc2tvcGhzaW9waHI1b3Bocm0%3D\\');\" class=\"author_level\"><img class=\"level\" src=\"//image.bobaedream.co.kr/board/level/army_2.gif\" alt=\"ë\\xa0\\x88ë²¨ ì\\x9d´ë\\x93±ë³\\x91\" /></span>\\r\\n                \\r\\n                <span onClick=\"javascript:submenu_show(\\'b3BocWZvcGhxcW9waHF0b3BocXBvcGhxZm9waHFyb3BocWpvcGhxa29waHF0b3Boc2tvcGhzaW9waHI1b3Bocm0%3D\\',\\'Bë°\\x94ì\\x9d´í\\x81¬\\');\" class=\"author\" style=\"cursor:pointer;\" title=\"Bë°\\x94ì\\x9d´í\\x81¬\">Bë°\\x94ì\\x9d´í\\x81¬</span>\\r\\n              </td>\\r\\n              <td class=\"date\">17:10</td>\\r\\n              \\r\\n              <td class=\"recomm\"><font >0</font><font color=\"#999999\"></font></td>              \\r\\n              <td class=\"count\">46</td>              \\r\\n            </tr>\\r\\n            <tr itemscope itemtype=\"http://schema.org/Article\">\\r\\n              <td class=\"num01\">396046</td>\\r\\n              <td class=\"pl14\">\\r\\n\\r\\n\\t\\t\\t\\t\\t\\t\\t\\t                <a class=\"bsubject\" style=\"padding:0;\" href=\"/view?code=import&No=697621&bm=1\" title=\"BMW X1 10ë\\x85\\x848ì\\x9b\\x94ì\\x8b\\x9d ì¡°ì\\x88\\x98ì\\x84\\x9d í\\x97¤ë\\x93\\x9cë\\x9d¼ì\\x9d´í\\x8a¸(ì\\x95\\x88ì\\xa0\\x84ê¸°)ì\\x9d\\x84 ì°¾ê³\\xa0ì\\x9e\\x88ì\\x8aµë\\x8b\\x88ë\\x8b¤.ã\\x85\\xa0\" itemprop=\"name\">BMW X1 10ë\\x85\\x848ì\\x9b\\x94ì\\x8b\\x9d ì¡°ì\\x88\\x98ì\\x84\\x9d í\\x97¤ë\\x93\\x9cë\\x9d¼ì\\x9d´í\\x8a¸(ì\\x95\\x88ì\\xa0\\x84ê¸°)ì\\x9d\\x84 ì°¾ê³\\xa0ì\\x9e\\x88ì\\x8aµë\\x8b\\x88ë\\x8b¤.ã\\x85\\xa0</a>\\r\\n              </td>\\r\\n              <td class=\"author02\">\\r\\n                <span onClick=\"javascript:submenu_level(\\'b3BocjFvcGhxbm9waHFxb3Boc2xvcGhzZW9waHNnb3Boc2tvcGhzbW9waHNsb3BocjVvcGhybQ%3D%3D\\');\" class=\"author_level\"><img class=\"level\" src=\"//image.bobaedream.co.kr/board/level/army_1.gif\" alt=\"ë\\xa0\\x88ë²¨ í\\x9b\\x88ë\\xa0¨ë³\\x91\" /></span>\\r\\n                \\r\\n                <span onClick=\"javascript:submenu_show(\\'b3BocjFvcGhxbm9waHFxb3Boc2xvcGhzZW9waHNnb3Boc2tvcGhzbW9waHNsb3BocjVvcGhybQ%3D%3D\\',\\'ë©\\x94ì\\x9d´ì»¤\\');\" class=\"author\" style=\"cursor:pointer;\" title=\"ë©\\x94ì\\x9d´ì»¤\">ë©\\x94ì\\x9d´ì»¤</span>\\r\\n              </td>\\r\\n              <td class=\"date\">17:08</td>\\r\\n              \\r\\n              <td class=\"recomm\"><font >0</font><font color=\"#999999\"></font></td>              \\r\\n              <td class=\"count\">33</td>              \\r\\n            </tr>\\r\\n            <tr itemscope itemtype=\"http://schema.org/Article\">\\r\\n              <td class=\"num01\">396045</td>\\r\\n              <td class=\"pl14\">\\r\\n\\r\\n\\t\\t\\t\\t\\t\\t\\t\\t                <a class=\"bsubject\" style=\"padding:0;\" href=\"/view?code=import&No=697619&bm=1\" title=\"ì°¨ë\\x9f\\x89êµ¬ë§¤ê´\\x80í\\x95\\x98ì\\x97¬ ì¡°ì\\x96¸ë¶\\x80í\\x83\\x81ë\\x93\\x9cë¦½ë\\x8b\\x88ë\\x8b¤\" itemprop=\"name\">ì°¨ë\\x9f\\x89êµ¬ë§¤ê´\\x80í\\x95\\x98ì\\x97¬ ì¡°ì\\x96¸ë¶\\x80í\\x83\\x81ë\\x93\\x9cë¦½ë\\x8b\\x88ë\\x8b¤</a>&nbsp;<a style=\"padding-left:0px\" href=\"/view?code=import&No=697619&bm=1\"><span class=\"Comment\">(<strong class=\"totreply\">3</strong>)</span></a>\\r\\n              </td>\\r\\n              <td class=\"author02\">\\r\\n                <span onClick=\"javascript:submenu_level(\\'b3BocWZvcGhxbm9waHFqb3BocW5vcGhxcG9waHFpb3BocW1vcGhxdG9waHI1b3Bocm0%3D\\');\" class=\"author_level\"><img class=\"level\" src=\"//image.bobaedream.co.kr/board/level/army_1.gif\" alt=\"ë\\xa0\\x88ë²¨ í\\x9b\\x88ë\\xa0¨ë³\\x91\" /></span>\\r\\n                \\r\\n                <span onClick=\"javascript:submenu_show(\\'b3BocWZvcGhxbm9waHFqb3BocW5vcGhxcG9waHFpb3BocW1vcGhxdG9waHI1b3Bocm0%3D\\',\\'Albam\\');\" class=\"author\" style=\"cursor:pointer;\" title=\"Albam\">Albam</span>\\r\\n              </td>\\r\\n              <td class=\"date\">14:29</td>\\r\\n              \\r\\n              <td class=\"recomm\"><font >0</font><font color=\"#999999\"></font></td>              \\r\\n              <td class=\"count\">168</td>              \\r\\n            </tr>\\r\\n            <tr itemscope itemtype=\"http://schema.org/Article\">\\r\\n              <td class=\"num01\">396044</td>\\r\\n              <td class=\"pl14\">\\r\\n\\r\\n\\t\\t\\t\\t\\t\\t\\t\\t                <a class=\"bsubject\" style=\"padding:0;\" href=\"/view?code=import&No=697618&bm=1\" title=\"ì¤\\x91ê³\\xa0ì°¨ êµ¬ì\\x9e\\x85 ì¡°ì\\x96¸ ë¶\\x80í\\x83\\x81ë\\x93\\x9cë¦½ë\\x8b\\x88ë\\x8b¤.\" itemprop=\"name\">ì¤\\x91ê³\\xa0ì°¨ êµ¬ì\\x9e\\x85 ì¡°ì\\x96¸ ë¶\\x80í\\x83\\x81ë\\x93\\x9cë¦½ë\\x8b\\x88ë\\x8b¤.</a>&nbsp;<a style=\"padding-left:0px\" href=\"/view?code=import&No=697618&bm=1\"><span class=\"Comment\">(<strong class=\"totreply\">4</strong>)</span></a>\\r\\n              </td>\\r\\n              <td class=\"author02\">\\r\\n                <span onClick=\"javascript:submenu_level(\\'b3BocW1vcGhxam9waHFlb3BocWVvcGhxdG9waHNrb3Boc2Y%3D\\');\" class=\"author_level\"><img class=\"level\" src=\"//image.bobaedream.co.kr/board/level/army_1.gif\" alt=\"ë\\xa0\\x88ë²¨ í\\x9b\\x88ë\\xa0¨ë³\\x91\" /></span>\\r\\n                \\r\\n                <span onClick=\"javascript:submenu_show(\\'b3BocW1vcGhxam9waHFlb3BocWVvcGhxdG9waHNrb3Boc2Y%3D\\',\\'ì\\x95¼êµ¬ì²\\x9cì\\x9e¬5\\');\" class=\"author\" style=\"cursor:pointer;\" title=\"ì\\x95¼êµ¬ì²\\x9cì\\x9e¬5\">ì\\x95¼êµ¬ì²\\x9cì\\x9e¬5</span>\\r\\n              </td>\\r\\n              <td class=\"date\">13:31</td>\\r\\n              \\r\\n              <td class=\"recomm\"><font >0</font><font color=\"#999999\"></font></td>              \\r\\n              <td class=\"count\">157</td>              \\r\\n            </tr>\\r\\n            <tr itemscope itemtype=\"http://schema.org/Article\">\\r\\n              <td class=\"num01\">396043</td>\\r\\n              <td class=\"pl14\">\\r\\n\\r\\n\\t\\t\\t\\t\\t\\t\\t\\t                <a class=\"bsubject\" style=\"padding:0;\" href=\"/view?code=import&No=697617&bm=1\" title=\"í\\x8f¬ë¥´ì\\x89\\x90 ì\\x9a´ì\\xa0\\x84ì\\x84\\x9d í\\x9c\\xa0í\\x95\\x98ì\\x9a°ì\\x8a¤ í\\x8c\\x90ê¸\\x88ì°¨ë\\x9f\\x89 ì¡°ì\\x96¸ì¢\\x80 ë¶\\x80í\\x83\\x81ë\\x93\\x9cë¦½ë\\x8b\\x88ë\\x8b¤\" itemprop=\"name\">í\\x8f¬ë¥´ì\\x89\\x90 ì\\x9a´ì\\xa0\\x84ì\\x84\\x9d í\\x9c\\xa0í\\x95\\x98ì\\x9a°ì\\x8a¤ í\\x8c\\x90ê¸\\x88ì°¨ë\\x9f\\x89 ì¡°ì\\x96¸ì¢\\x80 ë¶\\x80í\\x83\\x81ë\\x93\\x9cë¦½ë\\x8b\\x88ë\\x8b¤</a><img style=\"padding-left:3px\" class=\"jpg\" src=\"//image.bobaedream.co.kr/newimg/jpg.gif\" alt=\"ì²¨ë¶\\x80í\\x8c\\x8cì\\x9d¼\" />&nbsp;<a style=\"padding-left:2px\" href=\"/view?code=import&No=697617&bm=1\"><span class=\"Comment\">(<strong class=\"totreply\">9</strong>)</span></a>\\r\\n              </td>\\r\\n              <td class=\"author02\">\\r\\n                <span onClick=\"javascript:submenu_level(\\'b3BocjNvcGhyMm9waHNsb3Boc2dvcGhzZW9waHNob3Boc2xvcGhzbG9waHNtb3BocjVvcGhybQ%3D%3D\\');\" class=\"author_level\"><img class=\"level\" src=\"//image.bobaedream.co.kr/board/level/army_1.gif\" alt=\"ë\\xa0\\x88ë²¨ í\\x9b\\x88ë\\xa0¨ë³\\x91\" /></span>\\r\\n                \\r\\n                <span onClick=\"javascript:submenu_show(\\'b3BocjNvcGhyMm9waHNsb3Boc2dvcGhzZW9waHNob3Boc2xvcGhzbG9waHNtb3BocjVvcGhybQ%3D%3D\\',\\'Doodgoog\\');\" class=\"author\" style=\"cursor:pointer;\" title=\"Doodgoog\">Doodgoo..</span>\\r\\n              </td>\\r\\n              <td class=\"date\">13:29</td>\\r\\n              \\r\\n              <td class=\"recomm\"><font >0</font><font color=\"#999999\"></font></td>              \\r\\n              <td class=\"count\">380</td>              \\r\\n            </tr>\\r\\n            <tr itemscope itemtype=\"http://schema.org/Article\">\\r\\n              <td class=\"num01\">396042</td>\\r\\n              <td class=\"pl14\">\\r\\n\\r\\n\\t\\t\\t\\t\\t\\t\\t\\t                <a class=\"bsubject\" style=\"padding:0;\" href=\"/view?code=import&No=697616&bm=1\" itemprop=\"name\">ë\\x8b¤ë\\x93¤ ì¤\\x91ì\\x8b\\x9d í\\x96\\x88ë\\x83\\x90</a>\\r\\n              </td>\\r\\n              <td class=\"author02\">\\r\\n                <span onClick=\"javascript:submenu_level(\\'b3Boc2VvcGhzaW9waHNmb3Boc2Q%3D\\');\" class=\"author_level\"><img class=\"level\" src=\"//image.bobaedream.co.kr/board/level/army_2.gif\" alt=\"ë\\xa0\\x88ë²¨ ì\\x9d´ë\\x93±ë³\\x91\" /></span>\\r\\n                \\r\\n                <span onClick=\"javascript:submenu_show(\\'b3Boc2VvcGhzaW9waHNmb3Boc2Q%3D\\',\\'ì\\x9a°ì§\\x9c1\\');\" class=\"author\" style=\"cursor:pointer;\" title=\"ì\\x9a°ì§\\x9c1\">ì\\x9a°ì§\\x9c1</span>\\r\\n              </td>\\r\\n              <td class=\"date\">13:27</td>\\r\\n              \\r\\n              <td class=\"recomm\"><font >0</font><font color=\"#999999\"></font></td>              \\r\\n              <td class=\"count\">109</td>              \\r\\n            </tr>\\r\\n            <tr itemscope itemtype=\"http://schema.org/Article\">\\r\\n              <td class=\"num01\">396041</td>\\r\\n              <td class=\"pl14\">\\r\\n\\r\\n\\t\\t\\t\\t\\t\\t\\t\\t                <a class=\"bsubject\" style=\"padding:0;\" href=\"/view?code=import&No=697615&bm=1\" title=\"8ì\\x84¸ë\\x8c\\x80 ê³¨í\\x94\\x84, 3ì\\x8b\\x9cë¦¬ì¦\\x88 ë\\x94\\x94ì\\xa0¤ í\\x88¬ì\\x96´ë§\\x81 ì¤\\x91ê³\\xa0\" itemprop=\"name\">8ì\\x84¸ë\\x8c\\x80 ê³¨í\\x94\\x84, 3ì\\x8b\\x9cë¦¬ì¦\\x88 ë\\x94\\x94ì\\xa0¤ í\\x88¬ì\\x96´ë§\\x81 ì¤\\x91ê³\\xa0</a>&nbsp;<a style=\"padding-left:0px\" href=\"/view?code=import&No=697615&bm=1\"><span class=\"Comment\">(<strong class=\"totreply\">9</strong>)</span></a>\\r\\n              </td>\\r\\n              <td class=\"author02\">\\r\\n                <span onClick=\"javascript:submenu_level(\\'b3BocWZvcGhxam9waHIxb3BocXBvcGhyM29waHFtb3Boc2tvcGhzbG9waHNp\\');\" class=\"author_level\"><img class=\"level\" src=\"//image.bobaedream.co.kr/board/level/army_4.gif\" alt=\"ë\\xa0\\x88ë²¨ ì\\x83\\x81ë³\\x91\" /></span>\\r\\n                \\r\\n                <span onClick=\"javascript:submenu_show(\\'b3BocWZvcGhxam9waHIxb3BocXBvcGhyM29waHFtb3Boc2tvcGhzbG9waHNp\\',\\'ê±´ë¹µê³\\xa0ì\\x96\\x91\\');\" class=\"author\" style=\"cursor:pointer;\" title=\"ê±´ë¹µê³\\xa0ì\\x96\\x91\">ê±´ë¹µê³\\xa0ì\\x96\\x91</span>\\r\\n              </td>\\r\\n              <td class=\"date\">09:21</td>\\r\\n              \\r\\n              <td class=\"recomm\"><font >0</font><font color=\"#999999\"></font></td>              \\r\\n              <td class=\"count\">495</td>              \\r\\n            </tr>\\r\\n            <tr itemscope itemtype=\"http://schema.org/Article\">\\r\\n              <td class=\"num01\">396040</td>\\r\\n              <td class=\"pl14\">\\r\\n\\r\\n\\t\\t\\t\\t\\t\\t\\t\\t                <a class=\"bsubject\" style=\"padding:0;\" href=\"/view?code=import&No=697614\" title=\"ë²¤ì¸\\xa0ì\\xa0\\x84ê¸°ì°¨ ë¬¸ì\\xa0\\x9c!!ì\\xa0\\x80ë¿\\x90ë§\\x8cì\\x9d´ ì\\x95\\x84ë\\x8b\\x8cê±° ê°\\x99ì\\x95\\x84ì\\x98¬ë\\xa0¤ë´\\x85ë\\x8b\\x88ë\\x8b¤!!\" itemprop=\"name\">ë²¤ì¸\\xa0ì\\xa0\\x84ê¸°ì°¨ ë¬¸ì\\xa0\\x9c!!ì\\xa0\\x80ë¿\\x90ë§\\x8cì\\x9d´ ì\\x95\\x84ë\\x8b\\x8cê±° ê°\\x99ì\\x95\\x84ì\\x98¬ë\\xa0¤ë´\\x85ë\\x8b\\x88ë\\x8b¤!!</a><img style=\"padding-left:3px\" class=\"jpg\" src=\"//image.bobaedream.co.kr/newimg/vod.gif\" alt=\"ì²¨ë¶\\x80í\\x8c\\x8cì\\x9d¼\" />&nbsp;<a style=\"padding-left:2px\" href=\"/view?code=import&No=697614\"><span class=\"Comment\">(<strong class=\"totreply\">2</strong>)</span></a>\\r\\n              </td>\\r\\n              <td class=\"author02\">\\r\\n                <span onClick=\"javascript:submenu_level(\\'b3BocWVvcGhxam9waHFpb3BocXRvcGhxZ29waHFsb3BocjNvcGhxa29waHI1b3Bocm0%3D\\');\" class=\"author_level\"><img class=\"level\" src=\"//image.bobaedream.co.kr/board/level/army_1.gif\" alt=\"ë\\xa0\\x88ë²¨ í\\x9b\\x88ë\\xa0¨ë³\\x91\" /></span>\\r\\n                \\r\\n                <span onClick=\"javascript:submenu_show(\\'b3BocWVvcGhxam9waHFpb3BocXRvcGhxZ29waHFsb3BocjNvcGhxa29waHI1b3Bocm0%3D\\',\\'lovelace82\\');\" class=\"author\" style=\"cursor:pointer;\" title=\"lovelace82\">lovelac..</span>\\r\\n              </td>\\r\\n              <td class=\"date\">09:19</td>\\r\\n              \\r\\n              <td class=\"recomm\"><font style=\"color:#ff7234;font-weight:bold;\">3</font><font color=\"#999999\"></font></td>              \\r\\n              <td class=\"count\">424</td>              \\r\\n            </tr>\\r\\n            <tr itemscope itemtype=\"http://schema.org/Article\">\\r\\n              <td class=\"num01\">396039</td>\\r\\n              <td class=\"pl14\">\\r\\n\\r\\n\\t\\t\\t\\t\\t\\t\\t\\t                <a class=\"bsubject\" style=\"padding:0;\" href=\"/view?code=import&No=697612&bm=1\" title=\"ì\\x9a\\x94ì¦\\x98 í\\x8f¬í\\x8a¸í\\x99\\x80 ì¢\\x80 ë§\\x8eì\\x95\\x84ì§\\x84 ê²\\x83 ê°\\x99ì§\\x80 ì\\x95\\x8aë\\x82\\x98ì\\x9a\\x94?\" itemprop=\"name\">ì\\x9a\\x94ì¦\\x98 í\\x8f¬í\\x8a¸í\\x99\\x80 ì¢\\x80 ë§\\x8eì\\x95\\x84ì§\\x84 ê²\\x83 ê°\\x99ì§\\x80 ì\\x95\\x8aë\\x82\\x98ì\\x9a\\x94?</a><img style=\"padding-left:3px\" class=\"jpg\" src=\"//image.bobaedream.co.kr/newimg/jpg.gif\" alt=\"ì²¨ë¶\\x80í\\x8c\\x8cì\\x9d¼\" />&nbsp;<a style=\"padding-left:2px\" href=\"/view?code=import&No=697612&bm=1\"><span class=\"Comment\">(<strong class=\"totreply\">7</strong>)</span></a>\\r\\n              </td>\\r\\n              <td class=\"author02\">\\r\\n                <span onClick=\"javascript:submenu_level(\\'b3BocWxvcGhxcG9waHFrb3BocXJvcGhxZW9waHFwb3BocjNvcGhxa29waHNlb3Boc2c%3D\\');\" class=\"author_level\"><img class=\"level\" src=\"//image.bobaedream.co.kr/board/level/army_14.gif\" alt=\"ë\\xa0\\x88ë²¨ ì¤\\x91ë\\xa0¹ 2\" /></span>\\r\\n                \\r\\n                <span onClick=\"javascript:submenu_show(\\'b3BocWxvcGhxcG9waHFrb3BocXJvcGhxZW9waHFwb3BocjNvcGhxa29waHNlb3Boc2c%3D\\',\\'í\\x94¼êµ¬ì\\x99\\x95ì\\x8a\\x9bë\\x8f\\x8cì\\x9d´\\');\" class=\"author\" style=\"cursor:pointer;\" title=\"í\\x94¼êµ¬ì\\x99\\x95ì\\x8a\\x9bë\\x8f\\x8cì\\x9d´\">í\\x94¼êµ¬ì\\x99\\x95ì\\x8a\\x9bë\\x8f\\x8cì\\x9d´</span>\\r\\n              </td>\\r\\n              <td class=\"date\">08/18</td>\\r\\n              \\r\\n              <td class=\"recomm\"><font >0</font><font color=\"#999999\"></font></td>              \\r\\n              <td class=\"count\">1079</td>              \\r\\n            </tr>\\r\\n            <tr itemscope itemtype=\"http://schema.org/Article\">\\r\\n              <td class=\"num01\">396038</td>\\r\\n              <td class=\"pl14\">\\r\\n\\r\\n\\t\\t\\t\\t\\t\\t\\t\\t<strong class=\"H_category\" style=\"\">ì\\x9d¸ê¸°</strong>                <a class=\"bsubject\" style=\"padding:0;\" href=\"/view?code=import&No=697611&bm=1\" itemprop=\"name\">ì\\x8b\\xa0ì°¨  7% í\\x95\\xa0ì\\x9d¸í\\x95´ ì¤\\x80ë\\x8bµë\\x8b\\x88ë\\x8b¤</a><img style=\"padding-left:3px\" class=\"jpg\" src=\"//image.bobaedream.co.kr/newimg/jpg.gif\" alt=\"ì²¨ë¶\\x80í\\x8c\\x8cì\\x9d¼\" />&nbsp;<a style=\"padding-left:2px\" href=\"/view?code=import&No=697611&bm=1\"><span class=\"Comment\">(<strong class=\"totreply\">1</strong>)</span></a>\\r\\n              </td>\\r\\n              <td class=\"author02\">\\r\\n                <span onClick=\"javascript:submenu_level(\\'b3BocXRvcGhxZW9waHFxb3BocjNvcGhxa29waHFub3BocXBvcGhxbA%3D%3D\\');\" class=\"author_level\"><img class=\"level\" src=\"//image.bobaedream.co.kr/board/level/army_15.gif\" alt=\"ë\\xa0\\x88ë²¨ ë\\x8c\\x80ë\\xa0¹ 3\" /></span>\\r\\n                \\r\\n                <span onClick=\"javascript:submenu_show(\\'b3BocXRvcGhxZW9waHFxb3BocjNvcGhxa29waHFub3BocXBvcGhxbA%3D%3D\\',\\'ì\\x9d¼ì°¨ë¡\\x9cë\\x8a\\x94ì¶\\x94ì\\x9b\\x94ì°¨ë¡\\x9cì\\x9e\\x84\\');\" class=\"author\" style=\"cursor:pointer;\" title=\"ì\\x9d¼ì°¨ë¡\\x9cë\\x8a\\x94ì¶\\x94ì\\x9b\\x94ì°¨ë¡\\x9cì\\x9e\\x84\">ì\\x9d¼ì°¨ë¡\\x9cë\\x8a\\x94ì¶\\x94ì\\x9b\\x94ì°¨..</span>\\r\\n              </td>\\r\\n              <td class=\"date\">08/18</td>\\r\\n              \\r\\n              <td class=\"recomm\"><font style=\"color:#ff7234;font-weight:bold;\">58</font><font color=\"#999999\"></font></td>              \\r\\n              <td class=\"count\"><strong>13869</strong></td>              \\r\\n            </tr>\\r\\n            <tr itemscope itemtype=\"http://schema.org/Article\">\\r\\n              <td class=\"num01\">396037</td>\\r\\n              <td class=\"pl14\">\\r\\n\\r\\n\\t\\t\\t\\t\\t\\t\\t\\t                <a class=\"bsubject\" style=\"padding:0;\" href=\"/view?code=import&No=697610&bm=1\" title=\"A6 40 vs 523d    ê³¨ë\\x9d¼ì£¼ì\\x84¸ì\\x9a\\x94~~\" itemprop=\"name\">A6 40 vs 523d    ê³¨ë\\x9d¼ì£¼ì\\x84¸ì\\x9a\\x94~~</a>&nbsp;<a style=\"padding-left:0px\" href=\"/view?code=import&No=697610&bm=1\"><span class=\"Comment\">(<strong class=\"totreply\">24</strong>)</span></a>\\r\\n              </td>\\r\\n              <td class=\"author02\">\\r\\n                <span onClick=\"javascript:submenu_level(\\'b3BocWZvcGhxZm9waHF0b3BocW9vcGhxb29waHFwb3BocWs%3D\\');\" class=\"author_level\"><img class=\"level\" src=\"//image.bobaedream.co.kr/board/level/army_9.gif\" alt=\"ë\\xa0\\x88ë²¨ ì\\x9b\\x90ì\\x82¬ 3\" /></span>\\r\\n                \\r\\n                <span onClick=\"javascript:submenu_show(\\'b3BocWZvcGhxZm9waHF0b3BocW9vcGhxb29waHFwb3BocWs%3D\\',\\'ê°\\x80ì\\x95¼ë¥´ë\\x8f\\x84\\');\" class=\"author\" style=\"cursor:pointer;\" title=\"ê°\\x80ì\\x95¼ë¥´ë\\x8f\\x84\">ê°\\x80ì\\x95¼ë¥´ë\\x8f\\x84</span>\\r\\n              </td>\\r\\n              <td class=\"date\">08/18</td>\\r\\n              \\r\\n              <td class=\"recomm\"><font >0</font><font color=\"#999999\"></font></td>              \\r\\n              <td class=\"count\">1345</td>              \\r\\n            </tr>\\r\\n            <tr itemscope itemtype=\"http://schema.org/Article\">\\r\\n              <td class=\"num01\">396036</td>\\r\\n              <td class=\"pl14\">\\r\\n\\r\\n\\t\\t\\t\\t\\t\\t\\t\\t                <a class=\"bsubject\" style=\"padding:0;\" href=\"/view?code=import&No=697609&bm=1\" title=\"ì¤\\x91ê³\\xa0ì\\x99¸ì\\xa0\\x9cì°¨ ì²\\x98ì\\x9d\\x8cì\\x9d´ë\\x9d¼ ì§\\x88ë¬¸ì\\x98¬ë¦½ë\\x8b\\x88ë\\x8b¤\" itemprop=\"name\">ì¤\\x91ê³\\xa0ì\\x99¸ì\\xa0\\x9cì°¨ ì²\\x98ì\\x9d\\x8cì\\x9d´ë\\x9d¼ ì§\\x88ë¬¸ì\\x98¬ë¦½ë\\x8b\\x88ë\\x8b¤</a>&nbsp;<a style=\"padding-left:0px\" href=\"/view?code=import&No=697609&bm=1\"><span class=\"Comment\">(<strong class=\"totreply\">12</strong>)</span></a>\\r\\n              </td>\\r\\n              <td class=\"author02\">\\r\\n                <span onClick=\"javascript:submenu_level(\\'b3BocWJvcGhxb29waHFmb3BocjBvcGhxbW9waHFmb3BocWVvcGhxa29waHNsb3Boc21vcGhzbW9waHNp\\');\" class=\"author_level\"><img class=\"level\" src=\"//image.bobaedream.co.kr/board/level/army_2.gif\" alt=\"ë\\xa0\\x88ë²¨ ì\\x9d´ë\\x93±ë³\\x91\" /></span>\\r\\n                \\r\\n                <span onClick=\"javascript:submenu_show(\\'b3BocWJvcGhxb29waHFmb3BocjBvcGhxbW9waHFmb3BocWVvcGhxa29waHNsb3Boc21vcGhzbW9waHNp\\',\\'ê¼¬ê¼¬ë\\x81¼ë\\x81¼\\');\" class=\"author\" style=\"cursor:pointer;\" title=\"ê¼¬ê¼¬ë\\x81¼ë\\x81¼\">ê¼¬ê¼¬ë\\x81¼ë\\x81¼</span>\\r\\n              </td>\\r\\n              <td class=\"date\">08/18</td>\\r\\n              \\r\\n              <td class=\"recomm\"><font >0</font><font color=\"#999999\"></font></td>              \\r\\n              <td class=\"count\">765</td>              \\r\\n            </tr>\\r\\n            <tr itemscope itemtype=\"http://schema.org/Article\">\\r\\n              <td class=\"num01\">396035</td>\\r\\n              <td class=\"pl14\">\\r\\n\\r\\n\\t\\t\\t\\t\\t\\t\\t\\t                <a class=\"bsubject\" style=\"padding:0;\" href=\"/view?code=import&No=697608&bm=1\" title=\"ë²¤ì¸\\xa0e-300 ë³´ì¡°ì\\x84\\x9d ë\\x92· ì\\x8a¤í\\x94¼ì»¤ ê´\\x80ë\\xa0¨\" itemprop=\"name\">ë²¤ì¸\\xa0e-300 ë³´ì¡°ì\\x84\\x9d ë\\x92· ì\\x8a¤í\\x94¼ì»¤ ê´\\x80ë\\xa0¨</a>&nbsp;<a style=\"padding-left:0px\" href=\"/view?code=import&No=697608&bm=1\"><span class=\"Comment\">(<strong class=\"totreply\">6</strong>)</span></a>\\r\\n              </td>\\r\\n              <td class=\"author02\">\\r\\n                <span onClick=\"javascript:submenu_level(\\'b3BocW9vcGhxdG9waHFmb3BocWRvcGhxZm9waHNkb3Boc2tvcGhzZG9waHI1b3Bocm0%3D\\');\" class=\"author_level\"><img class=\"level\" src=\"//image.bobaedream.co.kr/board/level/army_1.gif\" alt=\"ë\\xa0\\x88ë²¨ í\\x9b\\x88ë\\xa0¨ë³\\x91\" /></span>\\r\\n                \\r\\n                <span onClick=\"javascript:submenu_show(\\'b3BocW9vcGhxdG9waHFmb3BocWRvcGhxZm9waHNkb3Boc2tvcGhzZG9waHI1b3Bocm0%3D\\',\\'êµ¬ë¯¸ì\\x9d¸ë\\x8f\\x99\\');\" class=\"author\" style=\"cursor:pointer;\" title=\"êµ¬ë¯¸ì\\x9d¸ë\\x8f\\x99\">êµ¬ë¯¸ì\\x9d¸ë\\x8f\\x99</span>\\r\\n              </td>\\r\\n              <td class=\"date\">08/18</td>\\r\\n              \\r\\n              <td class=\"recomm\"><font >0</font><font color=\"#999999\"></font></td>              \\r\\n              <td class=\"count\">474</td>              \\r\\n            </tr>\\r\\n            <tr itemscope itemtype=\"http://schema.org/Article\">\\r\\n              <td class=\"num01\">396034</td>\\r\\n              <td class=\"pl14\">\\r\\n\\r\\n\\t\\t\\t\\t\\t\\t\\t\\t                <a class=\"bsubject\" style=\"padding:0;\" href=\"/view?code=import&No=697606&bm=1\" title=\"520i ë\\x93\\x9cë\\x94\\x94ì\\x96´ ì°¨ê°\\x80 ë°°ì\\x86¡ì¤\\x91ì\\x9d´ë\\x84¤ì\\x9a\\x94.\" itemprop=\"name\">520i ë\\x93\\x9cë\\x94\\x94ì\\x96´ ì°¨ê°\\x80 ë°°ì\\x86¡ì¤\\x91ì\\x9d´ë\\x84¤ì\\x9a\\x94.</a><img style=\"padding-left:3px\" class=\"jpg\" src=\"//image.bobaedream.co.kr/newimg/jpg.gif\" alt=\"ì²¨ë¶\\x80í\\x8c\\x8cì\\x9d¼\" />&nbsp;<a style=\"padding-left:2px\" href=\"/view?code=import&No=697606&bm=1\"><span class=\"Comment\">(<strong class=\"totreply\">12</strong>)</span></a>\\r\\n              </td>\\r\\n              <td class=\"author02\">\\r\\n                <span onClick=\"javascript:submenu_level(\\'b3BocWlvcGhyMW9waHFsb3BocjFvcGhxZW9waHIzb3Boc21vcGhzbG9waHNqb3Boc20%3D\\');\" class=\"author_level\"><img class=\"level\" src=\"//image.bobaedream.co.kr/board/level/army_8.gif\" alt=\"ë\\xa0\\x88ë²¨ ì\\x83\\x81ì\\x82¬ 2\" /></span>\\r\\n                \\r\\n                <span onClick=\"javascript:submenu_show(\\'b3BocWlvcGhyMW9waHFsb3BocjFvcGhxZW9waHIzb3Boc21vcGhzbG9waHNqb3Boc20%3D\\',\\'í\\x81¬ë¡±í\\x81¬ë¡±ll\\');\" class=\"author\" style=\"cursor:pointer;\" title=\"í\\x81¬ë¡±í\\x81¬ë¡±ll\">í\\x81¬ë¡±í\\x81¬ë¡±ll</span>\\r\\n              </td>\\r\\n              <td class=\"date\">08/18</td>\\r\\n              \\r\\n              <td class=\"recomm\"><font >0</font><font color=\"#999999\"></font></td>              \\r\\n              <td class=\"count\">2379</td>              \\r\\n            </tr>\\r\\n            <tr itemscope itemtype=\"http://schema.org/Article\">\\r\\n              <td class=\"num01\">396033</td>\\r\\n              <td class=\"pl14\">\\r\\n\\r\\n\\t\\t\\t\\t\\t\\t\\t\\t                <a class=\"bsubject\" style=\"padding:0;\" href=\"/view?code=import&No=697605&bm=1\" title=\"F80m3 vs G80 m3 ì\\x96´ë\\x96¤ì°¨ë¥¼ ì\\x84\\xa0í\\x83\\x9d?\" itemprop=\"name\">F80m3 vs G80 m3 ì\\x96´ë\\x96¤ì°¨ë¥¼ ì\\x84\\xa0í\\x83\\x9d?</a>&nbsp;<a style=\"padding-left:0px\" href=\"/view?code=import&No=697605&bm=1\"><span class=\"Comment\">(<strong class=\"totreply\">13</strong>)</span></a>\\r\\n              </td>\\r\\n              <td class=\"author02\">\\r\\n                <span onClick=\"javascript:submenu_level(\\'b3BocXNvcGhxdG9waHFnb3BocWdvcGhyM29waHFnb3BocXBvcGhzbW9waHNsb3Boc2c%3D\\');\" class=\"author_level\"><img class=\"level\" src=\"//image.bobaedream.co.kr/board/level/army_11.gif\" alt=\"ë\\xa0\\x88ë²¨ ì¤\\x91ì\\x9c\\x84 3\" /></span>\\r\\n                \\r\\n                <span onClick=\"javascript:submenu_show(\\'b3BocXNvcGhxdG9waHFnb3BocWdvcGhyM29waHFnb3BocXBvcGhzbW9waHNsb3Boc2c%3D\\',\\'mtzs\\');\" class=\"author\" style=\"cursor:pointer;\" title=\"mtzs\">mtzs</span>\\r\\n              </td>\\r\\n              <td class=\"date\">08/18</td>\\r\\n              \\r\\n              <td class=\"recomm\"><font >0</font><font color=\"#999999\"></font></td>              \\r\\n              <td class=\"count\">920</td>              \\r\\n            </tr>\\r\\n            <tr itemscope itemtype=\"http://schema.org/Article\">\\r\\n              <td class=\"num01\">396032</td>\\r\\n              <td class=\"pl14\">\\r\\n\\r\\n\\t\\t\\t\\t\\t\\t\\t\\t                <a class=\"bsubject\" style=\"padding:0;\" href=\"/view?code=import&No=697604&bm=1\" itemprop=\"name\">í\\x83\\x81ì\\x86¡ê´\\x80ë\\xa0¨ ì\\x9b\\x90ë\\x9e\\x98 ì\\x9d´ë\\x9f°ê°\\x80ì\\x9a\\x94?</a>&nbsp;<a style=\"padding-left:0px\" href=\"/view?code=import&No=697604&bm=1\"><span class=\"Comment\">(<strong class=\"totreply\">6</strong>)</span></a>\\r\\n              </td>\\r\\n              <td class=\"author02\">\\r\\n                <span onClick=\"javascript:submenu_level(\\'b3BocW5vcGhxdG9waHFtb3BocXBvcGhxbG9waHFwb3BocWs%3D\\');\" class=\"author_level\"><img class=\"level\" src=\"//image.bobaedream.co.kr/board/level/army_2.gif\" alt=\"ë\\xa0\\x88ë²¨ ì\\x9d´ë\\x93±ë³\\x91\" /></span>\\r\\n                \\r\\n                <span onClick=\"javascript:submenu_show(\\'b3BocW5vcGhxdG9waHFtb3BocXBvcGhxbG9waHFwb3BocWs%3D\\',\\'ë±\\x85ì\\x93°\\');\" class=\"author\" style=\"cursor:pointer;\" title=\"ë±\\x85ì\\x93°\">ë±\\x85ì\\x93°</span>\\r\\n              </td>\\r\\n              <td class=\"date\">08/18</td>\\r\\n              \\r\\n              <td class=\"recomm\"><font >0</font><font color=\"#999999\"></font></td>              \\r\\n              <td class=\"count\">1041</td>              \\r\\n            </tr>\\r\\n            <tr itemscope itemtype=\"http://schema.org/Article\">\\r\\n              <td class=\"num01\">396031</td>\\r\\n              <td class=\"pl14\">\\r\\n\\r\\n\\t\\t\\t\\t\\t\\t\\t\\t                <a class=\"bsubject\" style=\"padding:0;\" href=\"/view?code=import&No=697603&bm=1\" title=\"í\\x8c\\x8cë\\x82\\x98ë©\\x94ë\\x9d¼ í\\x84°ë³´s ê°\\x80ì\\x86\\x8dë\\xa0¥ ë¹\\x84êµ\\x90ì°¨ë\\x9f\\x89\" itemprop=\"name\">í\\x8c\\x8cë\\x82\\x98ë©\\x94ë\\x9d¼ í\\x84°ë³´s ê°\\x80ì\\x86\\x8dë\\xa0¥ ë¹\\x84êµ\\x90ì°¨ë\\x9f\\x89</a>&nbsp;<a style=\"padding-left:0px\" href=\"/view?code=import&No=697603&bm=1\"><span class=\"Comment\">(<strong class=\"totreply\">23</strong>)</span></a>\\r\\n              </td>\\r\\n              <td class=\"author02\">\\r\\n                <span onClick=\"javascript:submenu_level(\\'b3BocW5vcGhyM29waHFmb3BocXBvcGhxOW9waHIzb3BocWZvcGhzZm9waHNk\\');\" class=\"author_level\"><img class=\"level\" src=\"//image.bobaedream.co.kr/board/level/army_12.gif\" alt=\"ë\\xa0\\x88ë²¨ ë\\x8c\\x80ì\\x9c\\x84 2\" /></span>\\r\\n                \\r\\n                <span onClick=\"javascript:submenu_show(\\'b3BocW5vcGhyM29waHFmb3BocXBvcGhxOW9waHIzb3BocWZvcGhzZm9waHNk\\',\\'ë\\x8d°ë\\x8b\\x88ì\\x93°T\\');\" class=\"author\" style=\"cursor:pointer;\" title=\"ë\\x8d°ë\\x8b\\x88ì\\x93°T\">ë\\x8d°ë\\x8b\\x88ì\\x93°T</span>\\r\\n              </td>\\r\\n              <td class=\"date\">08/18</td>\\r\\n              \\r\\n              <td class=\"recomm\"><font >0</font><font color=\"#999999\"></font></td>              \\r\\n              <td class=\"count\">1627</td>              \\r\\n            </tr>\\r\\n            <tr itemscope itemtype=\"http://schema.org/Article\">\\r\\n              <td class=\"num01\">396030</td>\\r\\n              <td class=\"pl14\">\\r\\n\\r\\n\\t\\t\\t\\t\\t\\t\\t\\t                <a class=\"bsubject\" style=\"padding:0;\" href=\"/view?code=import&No=697602&bm=1\" title=\"ì¤\\x91ê³\\xa0ì°¨ ì\\xa0\\x9cë°\\x9c ë§\\x8eì\\x9d\\x80 ì¡°ì\\x96¸ì¢\\x80ì\\x9a\\x94ã\\x85\\x9cã\\x85\\x9c(í\\x86\\xa0ë\\x9f¬ì\\x8a¤3.5 vs ê·¸ë\\x9e\\x9cì\\xa0¸hg300)\" itemprop=\"name\">ì¤\\x91ê³\\xa0ì°¨ ì\\xa0\\x9cë°\\x9c ë§\\x8eì\\x9d\\x80 ì¡°ì\\x96¸ì¢\\x80ì\\x9a\\x94ã\\x85\\x9cã\\x85\\x9c(í\\x86\\xa0ë\\x9f¬ì\\x8a¤3.5 vs ê·¸ë\\x9e\\x9cì\\xa0¸hg300)</a>&nbsp;<a style=\"padding-left:0px\" href=\"/view?code=import&No=697602&bm=1\"><span class=\"Comment\">(<strong class=\"totreply\">7</strong>)</span></a>\\r\\n              </td>\\r\\n              <td class=\"author02\">\\r\\n                <span onClick=\"javascript:submenu_level(\\'b3BocjBvcGhxcG9waHIxb3BocW5vcGhxZG9waHFmb3BocXRvcGhxZ29waHI1b3Bocm0%3D\\');\" class=\"author_level\"><img class=\"level\" src=\"//image.bobaedream.co.kr/board/level/army_1.gif\" alt=\"ë\\xa0\\x88ë²¨ í\\x9b\\x88ë\\xa0¨ë³\\x91\" /></span>\\r\\n                \\r\\n                <span onClick=\"javascript:submenu_show(\\'b3BocjBvcGhxcG9waHIxb3BocW5vcGhxZG9waHFmb3BocXRvcGhxZ29waHI1b3Bocm0%3D\\',\\'ë¶\\x88ë\\x9f\\x89ê¸°í\\x83\\x80\\');\" class=\"author\" style=\"cursor:pointer;\" title=\"ë¶\\x88ë\\x9f\\x89ê¸°í\\x83\\x80\">ë¶\\x88ë\\x9f\\x89ê¸°í\\x83\\x80</span>\\r\\n              </td>\\r\\n              <td class=\"date\">08/18</td>\\r\\n              \\r\\n              <td class=\"recomm\"><font >0</font><font color=\"#999999\"></font></td>              \\r\\n              <td class=\"count\">645</td>              \\r\\n            </tr>\\r\\n            <tr itemscope itemtype=\"http://schema.org/Article\">\\r\\n              <td class=\"num01\">396029</td>\\r\\n              <td class=\"pl14\">\\r\\n\\r\\n\\t\\t\\t\\t\\t\\t\\t\\t<strong class=\"H_category\" style=\"\">ì\\x9d¸ê¸°</strong>                <a class=\"bsubject\" style=\"padding:0;\" href=\"/view?code=import&No=697601&bm=1\" itemprop=\"name\">X6 M40i ...</a><img style=\"padding-left:3px\" class=\"jpg\" src=\"//image.bobaedream.co.kr/newimg/jpg.gif\" alt=\"ì²¨ë¶\\x80í\\x8c\\x8cì\\x9d¼\" />&nbsp;<a style=\"padding-left:2px\" href=\"/view?code=import&No=697601&bm=1\"><span class=\"Comment\">(<strong class=\"totreply\">21</strong>)</span></a>\\r\\n              </td>\\r\\n              <td class=\"author02\">\\r\\n                <span onClick=\"javascript:submenu_level(\\'b3BocW9vcGhxbm9waHFxb3Boc2RvcGhzZG9waHNkb3Boc2Q%3D\\');\" class=\"author_level\"><img class=\"level\" src=\"//image.bobaedream.co.kr/board/level/army_15.gif\" alt=\"ë\\xa0\\x88ë²¨ ë\\x8c\\x80ë\\xa0¹ 2\" /></span>\\r\\n                \\r\\n                <span onClick=\"javascript:submenu_show(\\'b3BocW9vcGhxbm9waHFxb3Boc2RvcGhzZG9waHNkb3Boc2Q%3D\\',\\'ë\\x8d¥ë\\x8b¤ì\\x97\\x90ì\\x96´ì»¨ì¼\\x9cë\\x9d¼\\');\" class=\"author\" style=\"cursor:pointer;\" title=\"ë\\x8d¥ë\\x8b¤ì\\x97\\x90ì\\x96´ì»¨ì¼\\x9cë\\x9d¼\">ë\\x8d¥ë\\x8b¤ì\\x97\\x90ì\\x96´ì»¨ì¼\\x9cë\\x9d¼</span>\\r\\n              </td>\\r\\n              <td class=\"date\">08/18</td>\\r\\n              \\r\\n              <td class=\"recomm\"><font style=\"color:#ff7234;font-weight:bold;\">28</font><font color=\"#999999\"></font></td>              \\r\\n              <td class=\"count\">3691</td>              \\r\\n            </tr>\\r\\n            <tr itemscope itemtype=\"http://schema.org/Article\">\\r\\n              <td class=\"num01\">396028</td>\\r\\n              <td class=\"pl14\">\\r\\n\\r\\n\\t\\t\\t\\t\\t\\t\\t\\t                <a class=\"bsubject\" style=\"padding:0;\" href=\"/view?code=import&No=697600&bm=1\" title=\"ì\\x95\\x84ì\\x9a°ë\\x94\\x94 ì\\xa0\\x95ì\\x8b\\x9d ì\\x84\\x9cë¹\\x84ì\\x8a¤ì\\x84¼í\\x84° ì\\x96´ì\\x9d´ì\\x97\\x86ë\\x84¤ì\\x9a\\x94.\" itemprop=\"name\">ì\\x95\\x84ì\\x9a°ë\\x94\\x94 ì\\xa0\\x95ì\\x8b\\x9d ì\\x84\\x9cë¹\\x84ì\\x8a¤ì\\x84¼í\\x84° ì\\x96´ì\\x9d´ì\\x97\\x86ë\\x84¤ì\\x9a\\x94.</a><img style=\"padding-left:3px\" class=\"jpg\" src=\"//image.bobaedream.co.kr/newimg/png.gif\" alt=\"ì²¨ë¶\\x80í\\x8c\\x8cì\\x9d¼\" />&nbsp;<a style=\"padding-left:2px\" href=\"/view?code=import&No=697600&bm=1\"><span class=\"Comment\">(<strong class=\"totreply\">8</strong>)</span></a>\\r\\n              </td>\\r\\n              <td class=\"author02\">\\r\\n                <span onClick=\"javascript:submenu_level(\\'b3BocjNvcGhxZ29waHF0b3BocWZvcGhzbG9waHNsb3Boc2pvcGhzbQ%3D%3D\\');\" class=\"author_level\"><img class=\"level\" src=\"//image.bobaedream.co.kr/board/level/army_6.gif\" alt=\"ë\\xa0\\x88ë²¨ í\\x95\\x98ì\\x82¬ 2\" /></span>\\r\\n                \\r\\n                <span onClick=\"javascript:submenu_show(\\'b3BocjNvcGhxZ29waHF0b3BocWZvcGhzbG9waHNsb3Boc2pvcGhzbQ%3D%3D\\',\\'pgwannabe\\');\" class=\"author\" style=\"cursor:pointer;\" title=\"pgwannabe\">pgwanna..</span>\\r\\n              </td>\\r\\n              <td class=\"date\">08/18</td>\\r\\n              \\r\\n              <td class=\"recomm\"><font style=\"color:#ff7234;font-weight:bold;\">2</font><font color=\"#999999\"></font></td>              \\r\\n              <td class=\"count\">1780</td>              \\r\\n            </tr>\\r\\n            <tr itemscope itemtype=\"http://schema.org/Article\">\\r\\n              <td class=\"num01\">396027</td>\\r\\n              <td class=\"pl14\">\\r\\n\\r\\n\\t\\t\\t\\t\\t\\t\\t\\t                <a class=\"bsubject\" style=\"padding:0;\" href=\"/view?code=import&No=697599&bm=1\" itemprop=\"name\">ì\\x88\\x98ê²\\x8cí\\x81¬ë\\x9d¼ì\\x8a¤ ì\\x98¤ì§\\x80ë\\x84¤ ã\\x85\\x8b</a><img style=\"padding-left:3px\" class=\"jpg\" src=\"//image.bobaedream.co.kr/newimg/jpg.gif\" alt=\"ì²¨ë¶\\x80í\\x8c\\x8cì\\x9d¼\" />&nbsp;<a style=\"padding-left:2px\" href=\"/view?code=import&No=697599&bm=1\"><span class=\"Comment\">(<strong class=\"totreply\">10</strong>)</span></a>\\r\\n              </td>\\r\\n              <td class=\"author02\">\\r\\n                <span onClick=\"javascript:submenu_level(\\'b3BocW1vcGhxdG9waHFtb3BocXRvcGhxbW9waHF0\\');\" class=\"author_level\"><img class=\"level\" src=\"//image.bobaedream.co.kr/board/level/army_18.gif\" alt=\"ë\\xa0\\x88ë²¨ ì¤\\x91ì\\x9e¥\" /></span>\\r\\n                \\r\\n                <span onClick=\"javascript:submenu_show(\\'b3BocW1vcGhxdG9waHFtb3BocXRvcGhxbW9waHF0\\',\\'13BH380\\');\" class=\"author\" style=\"cursor:pointer;\" title=\"13BH380\">13BH380</span>\\r\\n              </td>\\r\\n              <td class=\"date\">08/18</td>\\r\\n              \\r\\n              <td class=\"recomm\"><font style=\"color:#ff7234;font-weight:bold;\">4</font><font color=\"#999999\"></font></td>              \\r\\n              <td class=\"count\">1197</td>              \\r\\n            </tr>\\r\\n            <tr itemscope itemtype=\"http://schema.org/Article\">\\r\\n              <td class=\"num01\">396026</td>\\r\\n              <td class=\"pl14\">\\r\\n\\r\\n\\t\\t\\t\\t\\t\\t\\t\\t                <a class=\"bsubject\" style=\"padding:0;\" href=\"/view?code=import&No=697598&bm=1\" title=\"A6 í\\x81¬ë¡¬ì£½ì\\x9d´ê¸° í\\x95\\x98ë\\xa0¤ë\\x8a\\x94ë\\x8d°..ì\\x83\\x89ì\\x83\\x81 ì¢\\x80 ë´\\x90ì£¼ì\\x84¸ì\\x9a\\x94.\" itemprop=\"name\">A6 í\\x81¬ë¡¬ì£½ì\\x9d´ê¸° í\\x95\\x98ë\\xa0¤ë\\x8a\\x94ë\\x8d°..ì\\x83\\x89ì\\x83\\x81 ì¢\\x80 ë´\\x90ì£¼ì\\x84¸ì\\x9a\\x94.</a><img style=\"padding-left:3px\" class=\"jpg\" src=\"//image.bobaedream.co.kr/newimg/jpg.gif\" alt=\"ì²¨ë¶\\x80í\\x8c\\x8cì\\x9d¼\" />&nbsp;<a style=\"padding-left:2px\" href=\"/view?code=import&No=697598&bm=1\"><span class=\"Comment\">(<strong class=\"totreply\">14</strong>)</span></a>\\r\\n              </td>\\r\\n              <td class=\"author02\">\\r\\n                <span onClick=\"javascript:submenu_level(\\'b3BocWNvcGhxbW9waHFqb3BocWNvcGhxdG9waHFtb3BocXRvcGhxZW9waHFlb3BocXRvcGhxZ29waHI1b3Bocm0%3D\\');\" class=\"author_level\"><img class=\"level\" src=\"//image.bobaedream.co.kr/board/level/army_2.gif\" alt=\"ë\\xa0\\x88ë²¨ ì\\x9d´ë\\x93±ë³\\x91\" /></span>\\r\\n                \\r\\n                <span onClick=\"javascript:submenu_show(\\'b3BocWNvcGhxbW9waHFqb3BocWNvcGhxdG9waHFtb3BocXRvcGhxZW9waHFlb3BocXRvcGhxZ29waHI1b3Bocm0%3D\\',\\'ê¹\\x8cì¹\\xa0ì\\x9d´ì\\x98¤ë\\x84\\x881\\');\" class=\"author\" style=\"cursor:pointer;\" title=\"ê¹\\x8cì¹\\xa0ì\\x9d´ì\\x98¤ë\\x84\\x881\">ê¹\\x8cì¹\\xa0ì\\x9d´ì\\x98¤ë\\x84\\x881</span>\\r\\n              </td>\\r\\n              <td class=\"date\">08/18</td>\\r\\n              \\r\\n              <td class=\"recomm\"><font >0</font><font color=\"#999999\"></font></td>              \\r\\n              <td class=\"count\">1585</td>              \\r\\n            </tr>\\r\\n            <tr itemscope itemtype=\"http://schema.org/Article\">\\r\\n              <td class=\"num01\">396025</td>\\r\\n              <td class=\"pl14\">\\r\\n\\r\\n\\t\\t\\t\\t\\t\\t\\t\\t                <a class=\"bsubject\" style=\"padding:0;\" href=\"/view?code=import&No=697597&bm=1\" title=\"ì§\\x80ê¸\\x88 ì\\x9d´ì\\x8b\\x9cê°\\x84ì\\x97\\x90 ë¶\\x80ë\\x93¤ê±°ë¦¬ê³\\xa0 ì\\x9e\\x88ì\\x9d\\x84 ì\\x9e¡ì\\x98\\x81ì\\x96´\" itemprop=\"name\">ì§\\x80ê¸\\x88 ì\\x9d´ì\\x8b\\x9cê°\\x84ì\\x97\\x90 ë¶\\x80ë\\x93¤ê±°ë¦¬ê³\\xa0 ì\\x9e\\x88ì\\x9d\\x84 ì\\x9e¡ì\\x98\\x81ì\\x96´</a><img style=\"padding-left:3px\" class=\"jpg\" src=\"//image.bobaedream.co.kr/newimg/jpg.gif\" alt=\"ì²¨ë¶\\x80í\\x8c\\x8cì\\x9d¼\" />&nbsp;<a style=\"padding-left:2px\" href=\"/view?code=import&No=697597&bm=1\"><span class=\"Comment\">(<strong class=\"totreply\">6</strong>)</span></a>\\r\\n              </td>\\r\\n              <td class=\"author02\">\\r\\n                <span onClick=\"javascript:submenu_level(\\'b3BocXNvcGhxaW9waHIzb3BocW1vcGhxZm9waHFt\\');\" class=\"author_level\"><img class=\"level\" src=\"//image.bobaedream.co.kr/board/level/army_13.gif\" alt=\"ë\\xa0\\x88ë²¨ ì\\x86\\x8cë\\xa0¹ 2\" /></span>\\r\\n                \\r\\n                <span onClick=\"javascript:submenu_show(\\'b3BocXNvcGhxaW9waHIzb3BocW1vcGhxZm9waHFt\\',\\'í\\x8c\\x8cì§\\x80ì¤\\x8dë\\x8a\\x94ì\\x95\\x84ì\\x9e¬\\');\" class=\"author\" style=\"cursor:pointer;\" title=\"í\\x8c\\x8cì§\\x80ì¤\\x8dë\\x8a\\x94ì\\x95\\x84ì\\x9e¬\">í\\x8c\\x8cì§\\x80ì¤\\x8dë\\x8a\\x94ì\\x95\\x84ì\\x9e¬</span>\\r\\n              </td>\\r\\n              <td class=\"date\">08/17</td>\\r\\n              \\r\\n              <td class=\"recomm\"><font >0</font><font color=\"#999999\"></font></td>              \\r\\n              <td class=\"count\">915</td>              \\r\\n            </tr>\\r\\n            <tr itemscope itemtype=\"http://schema.org/Article\">\\r\\n              <td class=\"num01\">396024</td>\\r\\n              <td class=\"pl14\">\\r\\n\\r\\n\\t\\t\\t\\t\\t\\t\\t\\t                <a class=\"bsubject\" style=\"padding:0;\" href=\"/view?code=import&No=697596&bm=1\" itemprop=\"name\">G05 X5 M50D ê°\\x84ë§\\x8cì\\x97\\x90 ì\\x84¸ì°¨</a><img style=\"padding-left:3px\" class=\"jpg\" src=\"//image.bobaedream.co.kr/newimg/jpg.gif\" alt=\"ì²¨ë¶\\x80í\\x8c\\x8cì\\x9d¼\" />&nbsp;<a style=\"padding-left:2px\" href=\"/view?code=import&No=697596&bm=1\"><span class=\"Comment\">(<strong class=\"totreply\">13</strong>)</span></a>\\r\\n              </td>\\r\\n              <td class=\"author02\">\\r\\n                <span onClick=\"javascript:submenu_level(\\'b3BocjNvcGhyMG9waHF0b3BocWJvcGhyM29waHIwb3BocXBvcGhxag%3D%3D\\');\" class=\"author_level\"><img class=\"level\" src=\"//image.bobaedream.co.kr/board/level/army_10.gif\" alt=\"ë\\xa0\\x88ë²¨ ì\\x86\\x8cì\\x9c\\x84 1\" /></span>\\r\\n                \\r\\n                <span onClick=\"javascript:submenu_show(\\'b3BocjNvcGhyMG9waHF0b3BocWJvcGhyM29waHIwb3BocXBvcGhxag%3D%3D\\',\\'Laggom\\');\" class=\"author\" style=\"cursor:pointer;\" title=\"Laggom\">Laggom</span>\\r\\n              </td>\\r\\n              <td class=\"date\">08/17</td>\\r\\n              \\r\\n              <td class=\"recomm\"><font >0</font><font color=\"#999999\"></font></td>              \\r\\n              <td class=\"count\">2057</td>              \\r\\n            </tr>\\r\\n            <tr itemscope itemtype=\"http://schema.org/Article\">\\r\\n              <td class=\"num01\">396023</td>\\r\\n              <td class=\"pl14\">\\r\\n\\r\\n\\t\\t\\t\\t\\t\\t\\t\\t                <a class=\"bsubject\" style=\"padding:0;\" href=\"/view?code=import&No=697595&bm=1\" itemprop=\"name\">BMWë³´ì¦\\x9dì\\x9d´í\\x9b\\x84</a><img style=\"padding-left:3px\" class=\"jpg\" src=\"//image.bobaedream.co.kr/newimg/jpg.gif\" alt=\"ì²¨ë¶\\x80í\\x8c\\x8cì\\x9d¼\" />&nbsp;<a style=\"padding-left:2px\" href=\"/view?code=import&No=697595&bm=1\"><span class=\"Comment\">(<strong class=\"totreply\">5</strong>)</span></a>\\r\\n              </td>\\r\\n              <td class=\"author02\">\\r\\n                <span onClick=\"javascript:submenu_level(\\'b3BocW5vcGhxZ29waHFrb3BocWpvcGhzag%3D%3D\\');\" class=\"author_level\"><img class=\"level\" src=\"//image.bobaedream.co.kr/board/level/army_11.gif\" alt=\"ë\\xa0\\x88ë²¨ ì¤\\x91ì\\x9c\\x84 2\" /></span>\\r\\n                \\r\\n                <span onClick=\"javascript:submenu_show(\\'b3BocW5vcGhxZ29waHFrb3BocWpvcGhzag%3D%3D\\',\\'CN7AHI\\');\" class=\"author\" style=\"cursor:pointer;\" title=\"CN7AHI\">CN7AHI</span>\\r\\n              </td>\\r\\n              <td class=\"date\">08/17</td>\\r\\n              \\r\\n              <td class=\"recomm\"><font >0</font><font color=\"#999999\"></font></td>              \\r\\n              <td class=\"count\">1567</td>              \\r\\n            </tr>\\r\\n            <tr itemscope itemtype=\"http://schema.org/Article\">\\r\\n              <td class=\"num01\">396022</td>\\r\\n              <td class=\"pl14\">\\r\\n\\r\\n\\t\\t\\t\\t\\t\\t\\t\\t                <a class=\"bsubject\" style=\"padding:0;\" href=\"/view?code=import&No=697593&bm=1\" title=\"A6 ì\\x8a¹ì°¨ê°\\x90 êµ\\xadì\\x82°ì°¨ì\\x99\\x80 ë¹\\x84êµ\\x90í\\x95\\x9cë\\x8b¤ë©´?\" itemprop=\"name\">A6 ì\\x8a¹ì°¨ê°\\x90 êµ\\xadì\\x82°ì°¨ì\\x99\\x80 ë¹\\x84êµ\\x90í\\x95\\x9cë\\x8b¤ë©´?</a>&nbsp;<a style=\"padding-left:0px\" href=\"/view?code=import&No=697593&bm=1\"><span class=\"Comment\">(<strong class=\"totreply\">18</strong>)</span></a>\\r\\n              </td>\\r\\n              <td class=\"author02\">\\r\\n                <span onClick=\"javascript:submenu_level(\\'b3BocWtvcGhyM29waHFlb3BocXBvcGhxam9waHFrb3Boc2RvcGhzZW9waHI1b3Bocm0%3D\\');\" class=\"author_level\"><img class=\"level\" src=\"//image.bobaedream.co.kr/board/level/army_1.gif\" alt=\"ë\\xa0\\x88ë²¨ í\\x9b\\x88ë\\xa0¨ë³\\x91\" /></span>\\r\\n                \\r\\n                <span onClick=\"javascript:submenu_show(\\'b3BocWtvcGhyM29waHFlb3BocXBvcGhxam9waHFrb3Boc2RvcGhzZW9waHI1b3Bocm0%3D\\',\\'Olive0508\\');\" class=\"author\" style=\"cursor:pointer;\" title=\"Olive0508\">Olive05..</span>\\r\\n              </td>\\r\\n              <td class=\"date\">08/17</td>\\r\\n              \\r\\n              <td class=\"recomm\"><font >0</font><font color=\"#999999\"></font></td>              \\r\\n              <td class=\"count\">2389</td>              \\r\\n            </tr>\\r\\n            <tr itemscope itemtype=\"http://schema.org/Article\">\\r\\n              <td class=\"num01\">396021</td>\\r\\n              <td class=\"pl14\">\\r\\n\\r\\n\\t\\t\\t\\t\\t\\t\\t\\t                <a class=\"bsubject\" style=\"padding:0;\" href=\"/view?code=import&No=697592&bm=1\" title=\"ë\\x8b¤ì\\x9d\\x8cì°¨ë\\x8a\\x94...ë\\x8f\\x85ì\\x9d¼ì°¨ë¡\\x9c ê°\\x80ì\\x95¼ê²\\xa0ì\\x8aµë\\x8b\\x88ë\\x8b¤ ã\\x85\\x8eã\\x85\\x8e\" itemprop=\"name\">ë\\x8b¤ì\\x9d\\x8cì°¨ë\\x8a\\x94...ë\\x8f\\x85ì\\x9d¼ì°¨ë¡\\x9c ê°\\x80ì\\x95¼ê²\\xa0ì\\x8aµë\\x8b\\x88ë\\x8b¤ ã\\x85\\x8eã\\x85\\x8e</a>&nbsp;<a style=\"padding-left:0px\" href=\"/view?code=import&No=697592&bm=1\"><span class=\"Comment\">(<strong class=\"totreply\">6</strong>)</span></a>\\r\\n              </td>\\r\\n              <td class=\"author02\">\\r\\n                <span onClick=\"javascript:submenu_level(\\'b3BocjNvcGhxZ29waHFsb3BocTlvcGhxbm9waHNq\\');\" class=\"author_level\"><img class=\"level\" src=\"//image.bobaedream.co.kr/board/level/army_12.gif\" alt=\"ë\\xa0\\x88ë²¨ ë\\x8c\\x80ì\\x9c\\x84 3\" /></span>\\r\\n                \\r\\n                <span onClick=\"javascript:submenu_show(\\'b3BocjNvcGhxZ29waHFsb3BocTlvcGhxbm9waHNq\\',\\'ë³\\x91ì\\x8b\\xa0ë§\\x8cë³´ë©´ì\\x9a°ë\\x8a\\x94í\\x98\\x95\\');\" class=\"author\" style=\"cursor:pointer;\" title=\"ë³\\x91ì\\x8b\\xa0ë§\\x8cë³´ë©´ì\\x9a°ë\\x8a\\x94í\\x98\\x95\">ë³\\x91ì\\x8b\\xa0ë§\\x8cë³´ë©´ì\\x9a°ë\\x8a\\x94..</span>\\r\\n              </td>\\r\\n              <td class=\"date\">08/17</td>\\r\\n              \\r\\n              <td class=\"recomm\"><font >0</font><font color=\"#999999\"></font></td>              \\r\\n              <td class=\"count\">2020</td>              \\r\\n            </tr>\\r\\n            <tr itemscope itemtype=\"http://schema.org/Article\">\\r\\n              <td class=\"num01\">396020</td>\\r\\n              <td class=\"pl14\">\\r\\n\\r\\n\\t\\t\\t\\t\\t\\t\\t\\t                <a class=\"bsubject\" style=\"padding:0;\" href=\"/view?code=import&No=697591&bm=1\" title=\"ì\\x9a\\x94ì\\x86\\x8cì\\x88\\x98 ì\\x9e\\x98ëª»ë\\x84£ì\\x9c¼ë©´ ì\\x9e\\x90ë\\x8f\\x99ì°¨ ì°\\x90ë¹\\xa0ë\\x82\\x98ë\\x82\\x98ì\\x9a\\x94?\" itemprop=\"name\">ì\\x9a\\x94ì\\x86\\x8cì\\x88\\x98 ì\\x9e\\x98ëª»ë\\x84£ì\\x9c¼ë©´ ì\\x9e\\x90ë\\x8f\\x99ì°¨ ì°\\x90ë¹\\xa0ë\\x82\\x98ë\\x82\\x98ì\\x9a\\x94?</a>&nbsp;<a style=\"padding-left:0px\" href=\"/view?code=import&No=697591&bm=1\"><span class=\"Comment\">(<strong class=\"totreply\">7</strong>)</span></a>\\r\\n              </td>\\r\\n              <td class=\"author02\">\\r\\n                <span onClick=\"javascript:submenu_level(\\'b3BocW5vcGhxam9waHFnb3BocXRvcGhyM29waHIxb3BocXFvcGhyMQ%3D%3D\\');\" class=\"author_level\"><img class=\"level\" src=\"//image.bobaedream.co.kr/board/level/army_7.gif\" alt=\"ë\\xa0\\x88ë²¨ ì¤\\x91ì\\x82¬ 1\" /></span>\\r\\n                \\r\\n                <span onClick=\"javascript:submenu_show(\\'b3BocW5vcGhxam9waHFnb3BocXRvcGhyM29waHIxb3BocXFvcGhyMQ%3D%3D\\',\\'ë\\x82\\x9cë\\x8b\\x88ê°\\x80ì¡°ì\\x95\\x84\\');\" class=\"author\" style=\"cursor:pointer;\" title=\"ë\\x82\\x9cë\\x8b\\x88ê°\\x80ì¡°ì\\x95\\x84\">ë\\x82\\x9cë\\x8b\\x88ê°\\x80ì¡°ì\\x95\\x84</span>\\r\\n              </td>\\r\\n              <td class=\"date\">08/17</td>\\r\\n              \\r\\n              <td class=\"recomm\"><font >0</font><font color=\"#999999\"></font></td>              \\r\\n              <td class=\"count\">1018</td>              \\r\\n            </tr>\\r\\n            <tr itemscope itemtype=\"http://schema.org/Article\">\\r\\n              <td class=\"num01\">396019</td>\\r\\n              <td class=\"pl14\">\\r\\n\\r\\n\\t\\t\\t\\t\\t\\t\\t\\t                <a class=\"bsubject\" style=\"padding:0;\" href=\"/view?code=import&No=697590&bm=1\" itemprop=\"name\">ë±\\x80 ì\\x88\\x9cì\\xa0\\x95ë\\x82´ë¹\\x84 ì\\x9e¥ì\\xa0\\x90 ì\\x95\\x8cë\\xa0¤ë\\x93\\x9cë¦¼</a><img style=\"padding-left:3px\" class=\"jpg\" src=\"//image.bobaedream.co.kr/newimg/jpg.gif\" alt=\"ì²¨ë¶\\x80í\\x8c\\x8cì\\x9d¼\" />&nbsp;<a style=\"padding-left:2px\" href=\"/view?code=import&No=697590&bm=1\"><span class=\"Comment\">(<strong class=\"totreply\">4</strong>)</span></a>\\r\\n              </td>\\r\\n              <td class=\"author02\">\\r\\n                <span onClick=\"javascript:submenu_level(\\'b3BocW1vcGhxdG9waHF0b3BocWxvcGhxcW9waHNqb3Boc2RvcGhzam9waHNn\\');\" class=\"author_level\"><img class=\"level\" src=\"//image.bobaedream.co.kr/board/level/army_12.gif\" alt=\"ë\\xa0\\x88ë²¨ ë\\x8c\\x80ì\\x9c\\x84 3\" /></span>\\r\\n                \\r\\n                <span onClick=\"javascript:submenu_show(\\'b3BocW1vcGhxdG9waHF0b3BocWxvcGhxcW9waHNqb3Boc2RvcGhzam9waHNn\\',\\'DYMOS\\');\" class=\"author\" style=\"cursor:pointer;\" title=\"DYMOS\">DYMOS</span>\\r\\n              </td>\\r\\n              <td class=\"date\">08/17</td>\\r\\n              \\r\\n              <td class=\"recomm\"><font >0</font><font color=\"#999999\"></font></td>              \\r\\n              <td class=\"count\">1647</td>              \\r\\n            </tr>\\r\\n            <tr itemscope itemtype=\"http://schema.org/Article\">\\r\\n              <td class=\"num01\">396018</td>\\r\\n              <td class=\"pl14\">\\r\\n\\r\\n\\t\\t\\t\\t\\t\\t\\t\\t                <a class=\"bsubject\" style=\"padding:0;\" href=\"/view?code=import&No=697589&bm=1\" title=\"ì»¨í\\x8a¸ë¦¬ë§¨ì°¨ë\\x9f\\x89ì\\x9d´ê±° bmwì\\xa0\\x95ì\\x8b\\x9dì\\x84¼í\\x84° ë§¡ê¸°ë\\xa0¤ê³\\xa0í\\x95\\x98ë\\x8a\\x94ë\\x8d° ê²¬ì\\xa0\\x81ì\\x9d´ ì\\x96¼ë§\\x88ë\\x82\\x98 ë\\x82\\x98ì\\x98¬ê¹\\x8cì\\x9a\\x94?\" itemprop=\"name\">ì»¨í\\x8a¸ë¦¬ë§¨ì°¨ë\\x9f\\x89ì\\x9d´ê±° bmwì\\xa0\\x95ì\\x8b\\x9dì\\x84¼í\\x84° ë§¡ê¸°ë\\xa0¤ê³\\xa0í\\x95\\x98ë\\x8a\\x94ë\\x8d° ê²¬ì\\xa0\\x81ì\\x9d´ ì\\x96¼ë§\\x88ë\\x82\\x98 ë\\x82\\x98ì\\x98¬ê¹\\x8cì\\x9a\\x94?</a><img style=\"padding-left:3px\" class=\"jpg\" src=\"//image.bobaedream.co.kr/newimg/jpg.gif\" alt=\"ì²¨ë¶\\x80í\\x8c\\x8cì\\x9d¼\" />&nbsp;<a style=\"padding-left:2px\" href=\"/view?code=import&No=697589&bm=1\"><span class=\"Comment\">(<strong class=\"totreply\">2</strong>)</span></a>\\r\\n              </td>\\r\\n              <td class=\"author02\">\\r\\n                <span onClick=\"javascript:submenu_level(\\'b3BocWVvcGhxb29waHIwb3BocjBvcGhxZG9waHFzb3Boc2ZvcGhzZW9waHNr\\');\" class=\"author_level\"><img class=\"level\" src=\"//image.bobaedream.co.kr/board/level/army_2.gif\" alt=\"ë\\xa0\\x88ë²¨ ì\\x9d´ë\\x93±ë³\\x91\" /></span>\\r\\n                \\r\\n                <span onClick=\"javascript:submenu_show(\\'b3BocWVvcGhxb29waHIwb3BocjBvcGhxZG9waHFzb3Boc2ZvcGhzZW9waHNr\\',\\'duftjd782\\');\" class=\"author\" style=\"cursor:pointer;\" title=\"duftjd782\">duftjd7..</span>\\r\\n              </td>\\r\\n              <td class=\"date\">08/17</td>\\r\\n              \\r\\n              <td class=\"recomm\"><font >0</font><font color=\"#999999\"></font></td>              \\r\\n              <td class=\"count\">855</td>              \\r\\n            </tr>\\r\\n        </tbody>\\r\\n      </table>\\r\\n\\r\\n    <form method=\"get\" name=\"sform2\" action=\"/list.php\" onsubmit=\"return chk_search2();\" style=\"margin:0;padding:0\">\\r\\n      <input type=\"hidden\" name=\"code\" value=\"import\" />\\r\\n      <input type=\"hidden\" name=\"s_cate\" value=\"\" />\\r\\n      <input type=\"hidden\" name=\"maker_no\" value=\"\" />\\r\\n      <input type=\"hidden\" name=\"model_no\" value=\"\" />\\r\\n      <input type=\"hidden\" name=\"or_gu\" value=\"10\" />\\r\\n      <input type=\"hidden\" name=\"or_se\" value=\"desc\" />\\r\\n      <input type=\"hidden\" name=\"s_selday\" value=\"\" />\\r\\n      <input type=\"hidden\" name=\"pagescale\" value=\"30\" />\\r\\n      <input type=\"hidden\" name=\"info3\" value=\"\" />\\r\\n      <input type=\"hidden\" name=\"noticeShow\" value=\"\" />\\r\\n\\r\\n      <input type=\"hidden\" name=\"bestCode\" value=\"\" />\\r\\n      <input type=\"hidden\" name=\"bestDays\" value=\"\" />\\r\\n      <input type=\"hidden\" name=\"bestbbs\" value=\"\" />\\r\\n      <input type=\"hidden\" name=\"vdate\" value=\"\" />\\r\\n      <input type=\"hidden\" name=\"ndate\" value=\"\" />\\r\\n      <input type=\"hidden\" name=\"nmdate\" value=\"\" />\\r\\n      <div class=\"pageMove03\">\\r\\n        <ul class=\"pageNumber03\">\\r\\n\\r\\n          \\t\\r\\n\\t\\t\\t\\t\\r\\n\\t  \\t\\t\\r\\n\\r\\n          \\r\\n<li class=\"first\"><a  href=\"#\"><span class=\"current\">1</span></a></li>\\n<li class=\"\"><a  href=\"/list?code=import&s_cate=&maker_no=&model_no=&or_gu=10&or_se=desc&s_selday=&pagescale=30&info3=&noticeShow=&s_select=&s_key=&level_no=&vdate=&type=list&page=2\"><span class=\"link_page\">2</span></a></li>\\n<li class=\"\"><a  href=\"/list?code=import&s_cate=&maker_no=&model_no=&or_gu=10&or_se=desc&s_selday=&pagescale=30&info3=&noticeShow=&s_select=&s_key=&level_no=&vdate=&type=list&page=3\"><span class=\"link_page\">3</span></a></li>\\n<li class=\"\"><a  href=\"/list?code=import&s_cate=&maker_no=&model_no=&or_gu=10&or_se=desc&s_selday=&pagescale=30&info3=&noticeShow=&s_select=&s_key=&level_no=&vdate=&type=list&page=4\"><span class=\"link_page\">4</span></a></li>\\n<li class=\"\"><a  href=\"/list?code=import&s_cate=&maker_no=&model_no=&or_gu=10&or_se=desc&s_selday=&pagescale=30&info3=&noticeShow=&s_select=&s_key=&level_no=&vdate=&type=list&page=5\"><span class=\"link_page\">5</span></a></li>\\n<li class=\"\"><a  href=\"/list?code=import&s_cate=&maker_no=&model_no=&or_gu=10&or_se=desc&s_selday=&pagescale=30&info3=&noticeShow=&s_select=&s_key=&level_no=&vdate=&type=list&page=6\"><span class=\"link_page\">6</span></a></li>\\n<li class=\"\"><a  href=\"/list?code=import&s_cate=&maker_no=&model_no=&or_gu=10&or_se=desc&s_selday=&pagescale=30&info3=&noticeShow=&s_select=&s_key=&level_no=&vdate=&type=list&page=7\"><span class=\"link_page\">7</span></a></li>\\n<li class=\"\"><a  href=\"/list?code=import&s_cate=&maker_no=&model_no=&or_gu=10&or_se=desc&s_selday=&pagescale=30&info3=&noticeShow=&s_select=&s_key=&level_no=&vdate=&type=list&page=8\"><span class=\"link_page\">8</span></a></li>\\n<li class=\"\"><a  href=\"/list?code=import&s_cate=&maker_no=&model_no=&or_gu=10&or_se=desc&s_selday=&pagescale=30&info3=&noticeShow=&s_select=&s_key=&level_no=&vdate=&type=list&page=9\"><span class=\"link_page\">9</span></a></li>\\n<li class=\"last\"><a  href=\"/list?code=import&s_cate=&maker_no=&model_no=&or_gu=10&or_se=desc&s_selday=&pagescale=30&info3=&noticeShow=&s_select=&s_key=&level_no=&vdate=&type=list&page=10\"><span class=\"link_page\">10</span></a></li>\\n<li class=\"btn_next\"><a href=\"/list?code=import&s_cate=&maker_no=&model_no=&or_gu=10&or_se=desc&s_selday=&pagescale=30&info3=&noticeShow=&s_select=&s_key=&level_no=&vdate=&type=list&page=11\"><img src=\"//image.bobaedream.co.kr/renew/images/common/page_right1_new.gif\" alt=\"ë\\x8b¤ì\\x9d\\x8c\" /></a></li>\\n    </ul>\\n<div class=\"write\"><a href=\"/board/bulletin/write.php?code=import\"><img src=\"//image.bobaedream.co.kr/renew/images/common/btn_writing_new.gif\" alt=\" ê¸\\x80ì\\x93°ê¸°\" /></a></div></div>\\n\\r\\n        \\r\\n\\r\\n    <!--cList//-->\\r\\n    \\r\\n    <div class=\"board_search\">\\r\\n      <select name=\"s_select\" class=\"board_search_01\" title=\" \">\\r\\n        <option value=\\'Body\\' >ì\\xa0\\x9cëª©+ë\\x82´ì\\x9a©</option>\\r\\n        <option value=\\'Subject\\' selected>ì\\xa0\\x9cëª©</option>\\r\\n        <option value=\\'Name\\' >ê¸\\x80ì\\x93´ì\\x9d´</option>\\r\\n      </select>\\r\\n      <span class=\"search\">\\r\\n      <input type=\"text\" name=\"s_key\" value=\"\" title=\"ê²\\x80ì\\x83\\x89ì\\x96´ ì\\x9e\\x85ë\\xa0¥\"/><a href=\"javascript:chk_search2();void(0);\" class=\"search\"><img src=\"//image.bobaedream.co.kr/renew/images/common_re/search_00.gif\" alt=\"ê²\\x80ì\\x83\\x89\"  /></a>\\r\\n      <a href=\"/board/bulletin/mycommunity.php?cid=\" target=\"_blank\" class=\"search_text\" title=\"ì\\x83\\x88 ì°½\">ë\\x82´ê°\\x80 ì\\x93´ ê¸\\x80</a>\\r\\n      <!--<span><a href=\"#\"><img style=\"position:absolute;top:5px;right:0\" align=\"bottom\" src=\"http://image.bobaedream.co.kr/renew/images/common/list_topmove.gif\" alt=\"\" /></a></span>-->\\r\\n    </span>  \\r\\n    </div>\\r\\n\\r\\n    </form>\\r\\n\\r\\n<script type=\"text/javascript\">\\r\\n  //  <![CDATA[\\r\\n  function chk_search2(obj) {\\r\\n  \\t\\r\\n  \\tif(obj == \\'top\\') {\\r\\n    \\tdocument.sform2.s_select.value = document.getElementById(\\'s_select_top\\').value;\\r\\n    \\tdocument.sform2.s_key.value = document.getElementById(\\'s_key_top\\').value;\\r\\n    }\\r\\n  \\t\\r\\n  \\t\\r\\n    if (document.sform2.s_key.value.length < 2) {\\r\\n      window.alert(\\'ê²\\x80ì\\x83\\x89ì\\x96´ë\\x8a\\x94 2ì\\x9e\\x90 ì\\x9d´ì\\x83\\x81 ì\\x9e\\x85ë\\xa0¥í\\x95´ ì£¼ì\\x84¸ì\\x9a\\x94.\\');\\r\\n      return false;\\r\\n    } else {\\r\\n      document.sform2.submit();\\r\\n    }\\r\\n  }\\r\\n  // ]]>\\r\\n</script>\\r\\n\\r\\n      </div>\\r\\n      \\r\\n<div id=\"afscontainer1\"></div>\\r\\n\\r\\n<script type=\"text/javascript\" charset=\"utf-8\">\\r\\n\\r\\n var pageOptions = {\\r\\n \"pubId\": \"partner-pub-0904212565819637\", // í\\x81´ë\\x9d¼ì\\x9d´ì\\x96¸í\\x8a¸ IDê°\\x80 ì\\x98¬ë°\\x94ë¥¸ì§\\x80 í\\x99\\x95ì\\x9d¸í\\x95´ ì£¼ì\\x84¸ì\\x9a\\x94.\\r\\n \"styleId\": \"5007109707\",\\r\\n \"query\": \"\" // ì¶\\x94ê°\\x80ë\\x90\\x9c ì¿¼ë¦¬ê°\\x80 ì\\x98¬ë°\\x94ë¥¸ì§\\x80 í\\x99\\x95ì\\x9d¸í\\x95´ ì£¼ì\\x84¸ì\\x9a\\x94.\\r\\n };\\r\\n\\r\\n var adblock1 = {\\r\\n \"container\": \"afscontainer1\"\\r\\n };\\r\\n\\r\\n _googCsa(\\'ads\\', pageOptions, adblock1);\\r\\n\\r\\n</script>    \\r\\n\\r\\n\\t\\t     \\r\\n<div id=\\'div-gpt-ad-1655282654422-0\\' style=\\'height:90px; width:728px; text-align:center; margin: 25px auto -25px;\\'>\\r\\n<script type=\\'text/javascript\\'>\\r\\ngoogletag.cmd.push(function() { googletag.display(\\'div-gpt-ad-1655282654422-0\\'); });\\r\\n</script>\\r\\n</div>\\r\\n\\r\\n    </div>\\r\\n  </div>\\r\\n\\r\\n<script type=\"text/javascript\">\\r\\n  //  <![CDATA[\\r\\n  $(document).ready(function() {\\r\\n    if (\"\" != \"\") {\\r\\n      var strTemp = \"\";\\r\\n      strTemp = \"#\" + strTemp.replace(\"/\", \"\").replace(\"/\", \"\") + \" a\";\\r\\n      $(\"#faqListAll a\").removeClass(\"on\");\\r\\n      $(strTemp).addClass(\"on\");\\r\\n    }\\r\\n\\r\\n\\r\\n  });\\r\\n\\r\\n\\r\\n  function customRange(dates) {\\r\\n    // 0 = monday, 1 = tuesday, 2 = wednesday, 3 = thursday,\\r\\n    // 4=friday, 5 = saturday, 6=sunday\\r\\n\\r\\n    if (this.id == \\'startPicker\\') {\\r\\n      var strTemp = $(\\'#startPicker\\').val();\\r\\n      sBestDays(\"\", strTemp);\\r\\n      //$(\\'#endPicker\\').datepick(\\'option\\', \\'minDate\\', dates[0] || null);\\r\\n    }\\r\\n  }\\r\\n\\r\\nfunction date_navi(ndate) {\\r\\nif(document.sform2.nmdate.value) var nmdate = document.sform2.nmdate.value;\\r\\nelse var nmdate = \"\";\\r\\n\\tvar dummy = new Date().getTime();\\r\\n\\tvar url = \"/board_renew/bulletin/inc/_navi.php?dummy=\" + dummy + \"&ndate=\" + ndate + \"&nmdate=\" + nmdate + \"&vdate=&bestDays=\";\\r\\n\\t//$(\"#bobae_story\").unload();\\r\\n\\r\\n\\t\\t$(\"#date_navi\").load(url,function(response, status, xhr) {\\r\\n\\t\\t\\t$( \"#date_navi\" ).show();\\r\\n\\t\\t});\\r\\n}\\r\\n  // ]]>\\r\\n</script>    </div>\\r\\n    \\r\\n<!--footer-->\\r\\n\\t<div style=\"width:1010px; margin:0 auto\">\\r\\n\\t\\t<div class=\"Footer\">\\r\\n\\t\\t\\t<ul class=\"top\">\\r\\n\\t\\t\\t\\t<li class=\"first\"><img src=\"//image.bobaedream.co.kr/image/usedcar/f_t1.gif\" alt=\"í\\x8c¨ë°\\x80ë¦¬ì\\x82¬ì\\x9d´í\\x8a¸\" /></li>\\r\\n\\t\\t\\t\\t<li><a href=\"/mycar/mycar_list.php?gubun=K\"><img src=\"//image.bobaedream.co.kr/image/usedcar/f_t2.gif\" alt=\"ì¤\\x91ê³\\xa0ì°¨\" /></a></li>\\r\\n\\t\\t\\t\\t<li><a href=\"https://bike.bobaedream.co.kr/\"><img src=\"//image.bobaedream.co.kr/image/usedcar/f_t6.gif\" alt=\"ì\\x98¤í\\x86\\xa0ë°\\x94ì\\x9d´\" /></a></li>\\r\\n\\t\\t\\t\\t<li class=\"last\"><a href=\"https://www.bobaedream.co.kr/board/bbs.php\"><img src=\"//image.bobaedream.co.kr/image/usedcar/f_t7.gif\" alt=\"ì»¤ë®¤ë\\x8b\\x88í\\x8b°\" /></a></li>\\r\\n\\t\\t\\t\\t<li class=\"right\"><a href=\"/sitemap3.php\"><img src=\"//image.bobaedream.co.kr/image/usedcar/f_t8.gif\" alt=\"ì\\x84\\x9cë¹\\x84ì\\x8a¤ ì\\xa0\\x84ì²´ë³´ê¸°\" /></a></li>\\r\\n\\t\\t\\t</ul>\\r\\n\\t\\t\\t<div class=\"quickMenu\">\\r\\n\\t\\t\\t\\t<a href=\"/company/company_intro.php\">í\\x9a\\x8cì\\x82¬ì\\x86\\x8cê°\\x9c</a><span>|</span>\\r\\n\\t\\t\\t\\t<a href=\"/company/company_proposalinfo.php\" class=\"bold\">ì\\xa0\\x9cí\\x9c´/ê´\\x91ê³\\xa0ë¬¸ì\\x9d\\x98</a><span>|</span>\\r\\n\\t\\t\\t\\t<a href=\"/center/recruit.htm\">ì\\x9d¸ì\\x9e¬ì±\\x84ì\\x9a©</a><span>|</span>\\r\\n\\t\\t\\t\\t<a href=\"/company/service.php\">ì\\x9d´ì\\x9a©ì\\x95½ê´\\x80</a><span>|</span>\\r\\n\\t\\t\\t\\t<a href=\"/company/company_privacy.php\">ê°\\x9cì\\x9d¸ì\\xa0\\x95ë³´ì²\\x98ë¦¬ë°©ì¹¨</a><span>|</span>\\r\\n\\t\\t\\t\\t<a href=\"/center/error_list.htm\">ì\\x8b\\xa0ê³\\xa0ì\\x84¼í\\x84°</a><span>|</span>\\r\\n\\t\\t\\t\\t<a href=\"http://cs1472.com/customer/\" class=\"bold\" target=\"_blink\" title=\"ì\\x83\\x88 ì°½\">ì\\x9b\\x90ê²©ì§\\x80ì\\x9b\\x90</a><span>|</span>\\r\\n\\t\\t\\t\\t<a href=\"/center/center.htm\">ê³\\xa0ê°\\x9dì\\x84¼í\\x84°</a>\\r\\n\\t\\t\\t</div>\\r\\n\\t\\t\\t<div class=\"addr\">\\r\\n\\t\\t\\t\\të\\x8c\\x80í\\x91\\x9cì\\x9d´ì\\x82¬ : ê¹\\x80ë³´ë°°<span>|</span>\\r\\n\\t\\t\\t\\t(07995) ì\\x84\\x9cì\\x9a¸ ì\\x96\\x91ì²\\x9cêµ¬ ëª©ë\\x8f\\x99ë\\x8f\\x99ë¡\\x9c 233-1 ë\\x93\\x9cë¦¼í\\x83\\x80ì\\x9b\\x8c 11, 12ì¸µ<span>|</span>\\r\\n\\t\\t\\t\\tê³\\xa0ê°\\x9dì\\x84¼í\\x84° 02-784-2329<span>|</span>\\r\\n\\t\\t\\t\\tí\\x8c©ì\\x8a¤ : 02-6499-2329<span>|</span>\\r\\n\\t\\t\\t\\tì\\x9d´ë©\\x94ì\\x9d¼ : bobaedream@bobaedream.co.kr<br />\\r\\n\\t\\t\\t\\tê°\\x9cì\\x9d¸ì\\xa0\\x95ë³´ê´\\x80ë¦¬ì±\\x85ì\\x9e\\x84ì\\x9e\\x90 : ì\\x9d´ì\\x9d\\x80í\\x98¸<span>|</span>\\r\\n\\t\\t\\t\\tCopyrightÂ©(ì£¼)ë³´ë°°ë\\x84¤í\\x8a¸ì\\x9b\\x8cí\\x81¬<span>|</span>\\r\\n\\t\\t\\t\\tì\\x82¬ì\\x97\\x85ì\\x9e\\x90ë\\x93±ë¡\\x9dë²\\x88í\\x98¸ : 117-81-64543<span>|</span> \\r\\n\\t\\t\\t\\tí\\x86µì\\x8b\\xa0í\\x8c\\x90ë§¤ì\\x97\\x85ì\\x8b\\xa0ê³\\xa0ë²\\x88í\\x98¸ : ì\\xa0\\x9c 2013-ì\\x84\\x9cì\\x9a¸ì\\x96\\x91ì²\\x9c-0465í\\x98¸ <a href=\"http://www.ftc.go.kr/www/bizCommView.do?key=232&apv_perm_no=2013314011430200466&pageUnit=10&searchCnd=wrkr_no&searchKrwd=1178164543&pageIndex=1\" target=\"_blank\" title=\"ì\\x83\\x88 ì°½\"><img src=\"//image.bobaedream.co.kr/image/usedcar/foot_comapny.gif\" alt=\"ì\\x82¬ì\\x97\\x85ì\\x9e\\x90ì\\xa0\\x95ë³´í\\x99\\x95ì\\x9d¸\" /></a>\\r\\n\\t\\t\\t\\t<p class=\"waning\">ë³´ë°°ë\\x93\\x9cë¦¼ì\\x9d\\x80 í\\x86µì\\x8b\\xa0í\\x8c\\x90ë§¤ì¤\\x91ê°\\x9cì\\x9e\\x90ì\\x9d´ë©° ì°¨ë\\x9f\\x89í\\x8c\\x90ë§¤ì\\x9d\\x98 ë\\x8b¹ì\\x82¬ì\\x9e\\x90ê°\\x80 ì\\x95\\x84ë\\x8b\\x99ë\\x8b\\x88ë\\x8b¤. ë\\x94°ë\\x9d¼ì\\x84\\x9c ë³´ë°°ë\\x93\\x9cë¦¼ì\\x9d\\x80 ì°¨ë\\x9f\\x89 ê±°ë\\x9e\\x98ê²\\x80í\\x86\\xa0 ë°\\x8f ê±°ë\\x9e\\x98ì\\x97\\x90 ë\\x8c\\x80í\\x95\\x98ì\\x97¬ ì\\x96´ë\\x96¤ ì±\\x85ì\\x9e\\x84ì\\x9d\\x84 ì§\\x80ì§\\x80 ì\\x95\\x8aì\\x8aµë\\x8b\\x88ë\\x8b¤.</p>\\r\\n\\t\\t\\t</div>\\r\\n\\t\\t</div>\\r\\n\\t</div>\\r\\n\\t<!--//footer--> \\r\\n\\r\\n\\r\\n<!-- google log 0-->\\n<script src=\"//image.bobaedream.co.kr/common/js/google_log.js\" type=\"text/javascript\"></script>\\n\\r\\n\\r\\n  \\r\\n\\r\\n<script type=\"text/javascript\">\\r\\n  function fNewWin(name, width, height){\\r\\n    cw = screen.availWidth; // í\\x99\\x94ë©´ ë\\x84\\x88ë¹\\x84\\r\\n    ch = screen.availHeight; // í\\x99\\x94ë©´ ë\\x86\\x92ì\\x9d´\\r\\n\\r\\n    sw = width;// ë\\x9d\\x84ì\\x9a¸ ì°½ì\\x9d\\x98 ë\\x84\\x88ë¹\\x84\\r\\n    sh = height;// ë\\x9d\\x84ì\\x9a¸ ì°½ì\\x9d\\x98 ë\\x86\\x92ì\\x9d´\\r\\n\\r\\n    ml = (cw-sw)/2;// ê°\\x80ì\\x9a´ë\\x8d° ë\\x9d\\x84ì\\x9a°ê¸°ì\\x9c\\x84í\\x95\\x9c ì°½ì\\x9d\\x98 xì\\x9c\\x84ì¹\\x98\\r\\n    mt = (ch-sh)/2;// ê°\\x80ì\\x9a´ë\\x8d° ë\\x9d\\x84ì\\x9a°ê¸°ì\\x9c\\x84í\\x95\\x9c ì°½ì\\x9d\\x98 yì\\x9c\\x84ì¹\\x98\\r\\n\\r\\n    if(arguments[3]) strScroll = \\'yes\\';\\r\\n    else strScroll = \\'no\\';\\r\\n\\r\\n    NewWindow = window.open(name, \\'newWin\\'+sw+sh, \\'width=\\'+sw+\\', height=\\'+sh+\\', top=\\'+mt+\\', left=\\'+ml+\\', toobar=no, scrollbars=\\'+strScroll+\\', menubar=no, status=no, directories=no\\');\\r\\n  }\\r\\n</script>\\r\\n\\r\\n\\r\\n\\r\\n<div id=\"submenusel\" style=\"position:absolute;margin:0px;width:100px;height:65px;border:1px solid #888;z-index:1001;background-color:#FFF;display:none;\"></div>\\r\\n\\r\\n<script type=\"text/javascript\">\\r\\n  //  <![CDATA[\\r\\n  var top_pos = 0;\\r\\n  var left_pos = 0;\\r\\n  $(document).bind(\\'mousemove\\',function(e){\\r\\n    left_pos = e.pageX;\\r\\n    top_pos = e.pageY;\\r\\n  });\\r\\n  $(document).bind(\"click\", function (event) {\\r\\n    var $target = $(event.target);\\r\\n    var nodnm = $target.attr(\"className\");\\r\\n    if (nodnm != \"author\" || nodnm != \"level\") {\\r\\n      $(\"#submenusel\").hide();\\r\\n    }\\r\\n  });\\r\\n  // ]]>\\r\\n</script>\\r\\n\\r\\n<script type=\\'text/javascript\\'>\\r\\n\\r\\n$(document).ready(function(){\\r\\n\\t$(\".clistSearch03\").show();\\r\\n});\\r\\n\\r\\n</script>\\r\\n\\r\\n<div id=\"dim\" class=\"js-dim\"></div>\\r\\n  <!-- script type=\"text/javascript\" src=\"http://image.bobaedream.co.kr/renew/js/fakeselect.js\"></script -->  \\r\\n  <script type=\"text/javascript\" src=\"//image.bobaedream.co.kr/board_renew/bulletin/js/common.js?v=3.22\"></script>\\r\\n  <script type=\"text/javascript\" src=\"//image.bobaedream.co.kr/renew2017/assets/js/bobae.comm.js?v=3\"></script>  \\r\\n</body>\\r\\n</html>'"
            ],
            "application/vnd.google.colaboratory.intrinsic+json": {
              "type": "string"
            }
          },
          "metadata": {},
          "execution_count": 123
        }
      ]
    },
    {
      "cell_type": "code",
      "source": [
        "res.content # 바이트 단위 원본(인코딩 상태)이 있다."
      ],
      "metadata": {
        "id": "0EFHciVeRfwu"
      },
      "execution_count": null,
      "outputs": []
    },
    {
      "cell_type": "markdown",
      "source": [
        "- 응답객체의 원본상태인 content 변수를 넣으면 바이트 정보를 바탕으로 적절하게 디코딩을 해준다."
      ],
      "metadata": {
        "id": "70Pd6vhLScBf"
      }
    },
    {
      "cell_type": "code",
      "source": [
        "BeautifulSoup(res.content,\"html.parser\")"
      ],
      "metadata": {
        "id": "3QUznKZ8R6PM"
      },
      "execution_count": null,
      "outputs": []
    },
    {
      "cell_type": "markdown",
      "source": [
        "# 네이버 환율 정보 가져오기"
      ],
      "metadata": {
        "id": "xayI7_UiSEuq"
      }
    },
    {
      "cell_type": "code",
      "source": [
        "import requests"
      ],
      "metadata": {
        "id": "gRJ6seCx4KZH"
      },
      "execution_count": 1,
      "outputs": []
    },
    {
      "cell_type": "code",
      "source": [
        "url = \"https://finance.naver.com/marketindex/\"\n",
        "res = requests.get(url)\n",
        "res.status_code"
      ],
      "metadata": {
        "colab": {
          "base_uri": "https://localhost:8080/"
        },
        "id": "N4kc_qz95V2m",
        "outputId": "cf170645-5226-47c9-95d9-0a4d5c7a53f3"
      },
      "execution_count": 2,
      "outputs": [
        {
          "output_type": "execute_result",
          "data": {
            "text/plain": [
              "200"
            ]
          },
          "metadata": {},
          "execution_count": 2
        }
      ]
    },
    {
      "cell_type": "code",
      "source": [
        "from bs4 import BeautifulSoup"
      ],
      "metadata": {
        "id": "SJ4iLX0z5kX2"
      },
      "execution_count": 3,
      "outputs": []
    },
    {
      "cell_type": "code",
      "source": [
        "soup = BeautifulSoup(res.content,\"html.parser\")\n",
        "soup"
      ],
      "metadata": {
        "id": "T305fNye5wQS"
      },
      "execution_count": null,
      "outputs": []
    },
    {
      "cell_type": "code",
      "source": [
        "exchange_list = soup.select(\"#exchangeList > li\")\n",
        "exchange_list"
      ],
      "metadata": {
        "colab": {
          "base_uri": "https://localhost:8080/"
        },
        "id": "QZL74w7W55lD",
        "outputId": "e6777bca-b10d-459b-a087-5e24aba408f2"
      },
      "execution_count": 8,
      "outputs": [
        {
          "output_type": "execute_result",
          "data": {
            "text/plain": [
              "[<li class=\"on\">\n",
              " <a class=\"head usd\" href=\"/marketindex/exchangeDetail.naver?marketindexCd=FX_USDKRW\" onclick=\"clickcr(this, 'fr1.usdt', '', '', event);\">\n",
              " <h3 class=\"h_lst\"><span class=\"blind\">미국 USD</span></h3>\n",
              " <div class=\"head_info point_dn\">\n",
              " <span class=\"value\">1,335.30</span>\n",
              " <span class=\"txt_krw\"><span class=\"blind\">원</span></span>\n",
              " <span class=\"change\"> 0.70</span>\n",
              " <span class=\"blind\">하락</span>\n",
              " </div>\n",
              " </a>\n",
              " <a class=\"graph_img\" href=\"/marketindex/exchangeDetail.naver?marketindexCd=FX_USDKRW\" onclick=\"clickcr(this, 'fr1.usdc', '', '', event);\">\n",
              " <img alt=\"\" height=\"153\" src=\"https://ssl.pstatic.net/imgfinance/chart/marketindex/FX_USDKRW.png\" width=\"295\"/>\n",
              " </a>\n",
              " <div class=\"graph_info\">\n",
              " <span class=\"time\">2022.08.22 09:13</span>\n",
              " <span class=\"source\">하나은행 기준</span>\n",
              " <span class=\"count\">고시회차<span class=\"num\">36</span>회</span>\n",
              " </div>\n",
              " </li>, <li class=\"\">\n",
              " <a class=\"head jpy\" href=\"/marketindex/exchangeDetail.naver?marketindexCd=FX_JPYKRW\" onclick=\"clickcr(this, 'fr1.jpyt', '', '', event);\">\n",
              " <h3 class=\"h_lst\"><span class=\"blind\">일본 JPY(100엔)</span></h3>\n",
              " <div class=\"head_info point_dn\">\n",
              " <span class=\"value\">974.35</span>\n",
              " <span class=\"txt_krw\"><span class=\"blind\">원</span></span>\n",
              " <span class=\"change\"> 0.73</span>\n",
              " <span class=\"blind\">하락</span>\n",
              " </div>\n",
              " </a>\n",
              " <a class=\"graph_img\" href=\"/marketindex/exchangeDetail.naver?marketindexCd=FX_JPYKRW\" onclick=\"clickcr(this, 'fr1.jpyc', '', '', event);\">\n",
              " <img alt=\"\" height=\"153\" src=\"https://ssl.pstatic.net/imgfinance/chart/marketindex/FX_JPYKRW.png\" width=\"295\"/>\n",
              " </a>\n",
              " <div class=\"graph_info\">\n",
              " <span class=\"time\">2022.08.22 09:13</span>\n",
              " <span class=\"source\">하나은행 기준</span>\n",
              " <span class=\"count\">고시회차<span class=\"num\">36</span>회</span>\n",
              " </div>\n",
              " </li>, <li class=\"\">\n",
              " <a class=\"head eur\" href=\"/marketindex/exchangeDetail.naver?marketindexCd=FX_EURKRW\" onclick=\"clickcr(this, 'fr1.eurt', '', '', event);\">\n",
              " <h3 class=\"h_lst\"><span class=\"blind\">유럽연합 EUR</span></h3>\n",
              " <div class=\"head_info point_dn\">\n",
              " <span class=\"value\">1,339.84</span>\n",
              " <span class=\"txt_krw\"><span class=\"blind\">원</span></span>\n",
              " <span class=\"change\"> 2.31</span>\n",
              " <span class=\"blind\">하락</span>\n",
              " </div>\n",
              " </a>\n",
              " <a class=\"graph_img\" href=\"/marketindex/exchangeDetail.naver?marketindexCd=FX_EURKRW\" onclick=\"clickcr(this, 'fr1.eurc', '', '', event);\">\n",
              " <img alt=\"\" height=\"153\" src=\"https://ssl.pstatic.net/imgfinance/chart/marketindex/FX_EURKRW.png\" width=\"295\"/>\n",
              " </a>\n",
              " <div class=\"graph_info\">\n",
              " <span class=\"time\">2022.08.22 09:13</span>\n",
              " <span class=\"source\">하나은행 기준</span>\n",
              " <span class=\"count\">고시회차<span class=\"num\">36</span>회</span>\n",
              " </div>\n",
              " </li>, <li class=\"\">\n",
              " <a class=\"head cny\" href=\"/marketindex/exchangeDetail.naver?marketindexCd=FX_CNYKRW\" onclick=\"clickcr(this, 'fr1.cnyt', '', '', event);\">\n",
              " <h3 class=\"h_lst\"><span class=\"blind\">중국 CNY</span></h3>\n",
              " <div class=\"head_info point_dn\">\n",
              " <span class=\"value\">195.32</span>\n",
              " <span class=\"txt_krw\"><span class=\"blind\">원</span></span>\n",
              " <span class=\"change\"> 0.07</span>\n",
              " <span class=\"blind\">하락</span>\n",
              " </div>\n",
              " </a>\n",
              " <a class=\"graph_img\" href=\"/marketindex/exchangeDetail.naver?marketindexCd=FX_CNYKRW\" onclick=\"clickcr(this, 'fr1.cnyc', '', '', event);\">\n",
              " <img alt=\"\" height=\"153\" src=\"https://ssl.pstatic.net/imgfinance/chart/marketindex/FX_CNYKRW.png\" width=\"295\"/>\n",
              " </a>\n",
              " <div class=\"graph_info\">\n",
              " <span class=\"time\">2022.08.22 09:13</span>\n",
              " <span class=\"source\">하나은행 기준</span>\n",
              " <span class=\"count\">고시회차<span class=\"num\">36</span>회</span>\n",
              " </div>\n",
              " </li>]"
            ]
          },
          "metadata": {},
          "execution_count": 8
        }
      ]
    },
    {
      "cell_type": "code",
      "source": [
        "data = exchange_list[0] # list의 따라 밑에 정보가 달라짐!\n",
        "data"
      ],
      "metadata": {
        "colab": {
          "base_uri": "https://localhost:8080/"
        },
        "id": "-ipA6maa6TA_",
        "outputId": "11de1af3-5de5-45f1-e968-e1546074485f"
      },
      "execution_count": 32,
      "outputs": [
        {
          "output_type": "execute_result",
          "data": {
            "text/plain": [
              "<li class=\"\">\n",
              "<a class=\"head eur\" href=\"/marketindex/exchangeDetail.naver?marketindexCd=FX_EURKRW\" onclick=\"clickcr(this, 'fr1.eurt', '', '', event);\">\n",
              "<h3 class=\"h_lst\"><span class=\"blind\">유럽연합 EUR</span></h3>\n",
              "<div class=\"head_info point_dn\">\n",
              "<span class=\"value\">1,339.84</span>\n",
              "<span class=\"txt_krw\"><span class=\"blind\">원</span></span>\n",
              "<span class=\"change\"> 2.31</span>\n",
              "<span class=\"blind\">하락</span>\n",
              "</div>\n",
              "</a>\n",
              "<a class=\"graph_img\" href=\"/marketindex/exchangeDetail.naver?marketindexCd=FX_EURKRW\" onclick=\"clickcr(this, 'fr1.eurc', '', '', event);\">\n",
              "<img alt=\"\" height=\"153\" src=\"https://ssl.pstatic.net/imgfinance/chart/marketindex/FX_EURKRW.png\" width=\"295\"/>\n",
              "</a>\n",
              "<div class=\"graph_info\">\n",
              "<span class=\"time\">2022.08.22 09:13</span>\n",
              "<span class=\"source\">하나은행 기준</span>\n",
              "<span class=\"count\">고시회차<span class=\"num\">36</span>회</span>\n",
              "</div>\n",
              "</li>"
            ]
          },
          "metadata": {},
          "execution_count": 32
        }
      ]
    },
    {
      "cell_type": "code",
      "source": [
        "data.select_one(\"h3.h_lst span\").text # 외화 이름"
      ],
      "metadata": {
        "colab": {
          "base_uri": "https://localhost:8080/",
          "height": 35
        },
        "id": "4LALNHzL7eYc",
        "outputId": "95bf0af0-0d8b-40ea-b8f9-369960f2bd70"
      },
      "execution_count": 33,
      "outputs": [
        {
          "output_type": "execute_result",
          "data": {
            "text/plain": [
              "'유럽연합 EUR'"
            ],
            "application/vnd.google.colaboratory.intrinsic+json": {
              "type": "string"
            }
          },
          "metadata": {},
          "execution_count": 33
        }
      ]
    },
    {
      "cell_type": "code",
      "source": [
        "data.select_one(\"span.value\").text # 환율"
      ],
      "metadata": {
        "colab": {
          "base_uri": "https://localhost:8080/",
          "height": 35
        },
        "id": "sgoV3Qna8BgD",
        "outputId": "fd71dfa2-a20b-4ed7-a9e5-62a984c62c43"
      },
      "execution_count": 34,
      "outputs": [
        {
          "output_type": "execute_result",
          "data": {
            "text/plain": [
              "'1,339.84'"
            ],
            "application/vnd.google.colaboratory.intrinsic+json": {
              "type": "string"
            }
          },
          "metadata": {},
          "execution_count": 34
        }
      ]
    },
    {
      "cell_type": "code",
      "source": [
        "data.select_one(\"span.txt_krw,span.blind\").text"
      ],
      "metadata": {
        "colab": {
          "base_uri": "https://localhost:8080/",
          "height": 35
        },
        "id": "i6ax97wn8Pt3",
        "outputId": "56b23c49-a4f0-4dc7-8826-600ec674554d"
      },
      "execution_count": 35,
      "outputs": [
        {
          "output_type": "execute_result",
          "data": {
            "text/plain": [
              "'원'"
            ],
            "application/vnd.google.colaboratory.intrinsic+json": {
              "type": "string"
            }
          },
          "metadata": {},
          "execution_count": 35
        }
      ]
    },
    {
      "cell_type": "code",
      "source": [
        "data.select_one(\"span.change\").text # 변동량"
      ],
      "metadata": {
        "colab": {
          "base_uri": "https://localhost:8080/",
          "height": 35
        },
        "id": "sE3zkLNE8f9e",
        "outputId": "c39d922f-2eb7-4c18-bab1-09b897aee123"
      },
      "execution_count": 36,
      "outputs": [
        {
          "output_type": "execute_result",
          "data": {
            "text/plain": [
              "' 2.31'"
            ],
            "application/vnd.google.colaboratory.intrinsic+json": {
              "type": "string"
            }
          },
          "metadata": {},
          "execution_count": 36
        }
      ]
    },
    {
      "cell_type": "code",
      "source": [
        "data.select_one(\".head_info > .blind\").text # 다시보기, 등락여부"
      ],
      "metadata": {
        "colab": {
          "base_uri": "https://localhost:8080/",
          "height": 35
        },
        "id": "x_zrEAHb8um7",
        "outputId": "756b9025-b3bb-4997-f71c-58fd280ac1f1"
      },
      "execution_count": 37,
      "outputs": [
        {
          "output_type": "execute_result",
          "data": {
            "text/plain": [
              "'하락'"
            ],
            "application/vnd.google.colaboratory.intrinsic+json": {
              "type": "string"
            }
          },
          "metadata": {},
          "execution_count": 37
        }
      ]
    },
    {
      "cell_type": "markdown",
      "source": [
        "## 정리해서 딕셔너리에 담아보기"
      ],
      "metadata": {
        "id": "zzcwTMyk8ypv"
      }
    },
    {
      "cell_type": "code",
      "source": [
        "url = \"https://finance.naver.com/marketindex/\"\n",
        "res = requests.get(url)\n",
        "if res.status_code == 200:\n",
        "    soup = BeautifulSoup(res.content,\"html.parser\")\n",
        "    exchange_list = soup.select(\"#exchangeList > li\")\n",
        "    exchange_dict = {}\n",
        "    for data in exchange_list:\n",
        "        name = data.select_one(\"h3.h_lst span\").text\n",
        "        value = data.select_one(\"span.value\").text\n",
        "        change = data.select_one(\"span.change\").text\n",
        "        updown = data.select_one(\".head_info > .blind\").text\n",
        "        exchange_dict[name] = [value,change,updown]\n",
        "exchange_dict"
      ],
      "metadata": {
        "colab": {
          "base_uri": "https://localhost:8080/"
        },
        "id": "FQuQC6T4-WgA",
        "outputId": "9639f0a0-7b79-4520-f6ea-1506425300df"
      },
      "execution_count": 40,
      "outputs": [
        {
          "output_type": "execute_result",
          "data": {
            "text/plain": [
              "{'미국 USD': ['1,336.90', '0.90', '상승'],\n",
              " '일본 JPY(100엔)': ['974.81', ' 0.27', '하락'],\n",
              " '유럽연합 EUR': ['1,341.18', ' 0.97', '하락'],\n",
              " '중국 CNY': ['195.48', '0.09', '상승']}"
            ]
          },
          "metadata": {},
          "execution_count": 40
        }
      ]
    },
    {
      "cell_type": "markdown",
      "source": [
        "- 저장해보기"
      ],
      "metadata": {
        "id": "ItNhFZYb_ass"
      }
    },
    {
      "cell_type": "code",
      "source": [
        "import json # 파일 저장됨!\n",
        "with open(\"exchange.json\",'w') as f:\n",
        "    s = json.dump(exchange_dict,f, ensure_ascii = False, indent = 4)"
      ],
      "metadata": {
        "id": "TzgwuTamACzC"
      },
      "execution_count": 48,
      "outputs": []
    },
    {
      "cell_type": "code",
      "source": [
        "with open(\"exchange.json\",'r') as f:\n",
        "    data = json.load(f)\n",
        "data"
      ],
      "metadata": {
        "colab": {
          "base_uri": "https://localhost:8080/"
        },
        "id": "vyPl7pyEAEWp",
        "outputId": "a4cb5db8-b835-4c0e-9e48-6a0042406b5f"
      },
      "execution_count": 52,
      "outputs": [
        {
          "output_type": "execute_result",
          "data": {
            "text/plain": [
              "{'미국 USD': ['1,336.90', '0.90', '상승'],\n",
              " '일본 JPY(100엔)': ['974.81', ' 0.27', '하락'],\n",
              " '유럽연합 EUR': ['1,341.18', ' 0.97', '하락'],\n",
              " '중국 CNY': ['195.48', '0.09', '상승']}"
            ]
          },
          "metadata": {},
          "execution_count": 52
        }
      ]
    },
    {
      "cell_type": "markdown",
      "source": [
        "# 국제 시장 환율 블록에서 해당 세부정보로 들어가 뉴스링크 가져오기"
      ],
      "metadata": {
        "id": "F3XLtyKPBODi"
      }
    },
    {
      "cell_type": "code",
      "source": [
        "url = \"https://finance.naver.com/marketindex/\"\n",
        "res = requests.get(url)\n",
        "\n",
        "soup = BeautifulSoup(res.content,\"html.parser\")\n",
        "soup.select(\"#worldExchangeList > li\")\n",
        "# len(exchange_list) 개수파악"
      ],
      "metadata": {
        "colab": {
          "base_uri": "https://localhost:8080/"
        },
        "id": "aeg0x_GvFvWo",
        "outputId": "caa3ffa8-192d-41cb-f42b-24c63d6c5168"
      },
      "execution_count": 53,
      "outputs": [
        {
          "output_type": "execute_result",
          "data": {
            "text/plain": [
              "4"
            ]
          },
          "metadata": {},
          "execution_count": 53
        }
      ]
    },
    {
      "cell_type": "code",
      "source": [
        "data = exchange_list[0]\n",
        "data"
      ],
      "metadata": {
        "colab": {
          "base_uri": "https://localhost:8080/"
        },
        "id": "ZqibaJQJHEFy",
        "outputId": "a387c794-0e72-42d8-b4c7-9c6ffdf8784b"
      },
      "execution_count": 56,
      "outputs": [
        {
          "output_type": "execute_result",
          "data": {
            "text/plain": [
              "<li class=\"on\">\n",
              "<a class=\"head usd\" href=\"/marketindex/exchangeDetail.naver?marketindexCd=FX_USDKRW\" onclick=\"clickcr(this, 'fr1.usdt', '', '', event);\">\n",
              "<h3 class=\"h_lst\"><span class=\"blind\">미국 USD</span></h3>\n",
              "<div class=\"head_info point_up\">\n",
              "<span class=\"value\">1,336.90</span>\n",
              "<span class=\"txt_krw\"><span class=\"blind\">원</span></span>\n",
              "<span class=\"change\">0.90</span>\n",
              "<span class=\"blind\">상승</span>\n",
              "</div>\n",
              "</a>\n",
              "<a class=\"graph_img\" href=\"/marketindex/exchangeDetail.naver?marketindexCd=FX_USDKRW\" onclick=\"clickcr(this, 'fr1.usdc', '', '', event);\">\n",
              "<img alt=\"\" height=\"153\" src=\"https://ssl.pstatic.net/imgfinance/chart/marketindex/FX_USDKRW.png\" width=\"295\"/>\n",
              "</a>\n",
              "<div class=\"graph_info\">\n",
              "<span class=\"time\">2022.08.22 09:40</span>\n",
              "<span class=\"source\">하나은행 기준</span>\n",
              "<span class=\"count\">고시회차<span class=\"num\">97</span>회</span>\n",
              "</div>\n",
              "</li>"
            ]
          },
          "metadata": {},
          "execution_count": 56
        }
      ]
    },
    {
      "cell_type": "code",
      "source": [
        "data.select_one(\"a.head\")[\"href\"]"
      ],
      "metadata": {
        "colab": {
          "base_uri": "https://localhost:8080/",
          "height": 35
        },
        "id": "50kznfPUHQ9t",
        "outputId": "262bd8dd-fdbb-4c61-9532-b184f2784571"
      },
      "execution_count": 58,
      "outputs": [
        {
          "output_type": "execute_result",
          "data": {
            "text/plain": [
              "'/marketindex/exchangeDetail.naver?marketindexCd=FX_USDKRW'"
            ],
            "application/vnd.google.colaboratory.intrinsic+json": {
              "type": "string"
            }
          },
          "metadata": {},
          "execution_count": 58
        }
      ]
    },
    {
      "cell_type": "code",
      "source": [
        "host = \"https://finance.naver.com\"\n",
        "link_list = []\n",
        "for data in exchange_list:\n",
        "  url = host + data.select_one(\"a.head\")[\"href\"]\n",
        "  res = requests.get(url)\n",
        "  if res.status_code == 200:\n",
        "      link_soup = BeautifulSoup(res.content,\"html.parser\")\n",
        "      news_list = link_soup.select(\".section_news ul li a\") # 뉴스 프레임의 구조로 넣음\n",
        "      \n",
        "      for a in news_list:\n",
        "          link_list.append(host + a[\"href\"])\n",
        "link_list"
      ],
      "metadata": {
        "colab": {
          "base_uri": "https://localhost:8080/"
        },
        "id": "idnVug9tHpNv",
        "outputId": "f7a46691-4d4c-43b5-e406-d74b255e62cb"
      },
      "execution_count": 85,
      "outputs": [
        {
          "output_type": "execute_result",
          "data": {
            "text/plain": [
              "['https://finance.naver.com/marketindex/news/newsRead.naver?officeId=032&articleId=0003167972&category=exchange',\n",
              " 'https://finance.naver.com/marketindex/news/newsRead.naver?officeId=018&articleId=0005298069&category=exchange',\n",
              " 'https://finance.naver.com/marketindex/news/newsRead.naver?officeId=417&articleId=0000844766&category=exchange',\n",
              " 'https://finance.naver.com/marketindex/news/newsRead.naver?officeId=032&articleId=0003167972&category=exchange',\n",
              " 'https://finance.naver.com/marketindex/news/newsRead.naver?officeId=018&articleId=0005298069&category=exchange',\n",
              " 'https://finance.naver.com/marketindex/news/newsRead.naver?officeId=417&articleId=0000844766&category=exchange',\n",
              " 'https://finance.naver.com/marketindex/news/newsRead.naver?officeId=032&articleId=0003167972&category=exchange',\n",
              " 'https://finance.naver.com/marketindex/news/newsRead.naver?officeId=018&articleId=0005298069&category=exchange',\n",
              " 'https://finance.naver.com/marketindex/news/newsRead.naver?officeId=417&articleId=0000844766&category=exchange',\n",
              " 'https://finance.naver.com/marketindex/news/newsRead.naver?officeId=032&articleId=0003167972&category=exchange',\n",
              " 'https://finance.naver.com/marketindex/news/newsRead.naver?officeId=018&articleId=0005298069&category=exchange',\n",
              " 'https://finance.naver.com/marketindex/news/newsRead.naver?officeId=417&articleId=0000844766&category=exchange']"
            ]
          },
          "metadata": {},
          "execution_count": 85
        }
      ]
    },
    {
      "cell_type": "markdown",
      "source": [
        "# xpath(XML Path Language)\n",
        "- XML 이나 HTML 의 특정 요소를 선택할 때 사용\n",
        "\n",
        "- xpath의 구성요소\n",
        "    - `//`로 시작해야함(최상위 요소라는 의미)\n",
        "        - `//` 중간에 있을 경우는 하위에 모든 요소를 찾겠다라는 의미 (css의 공백과 비슷)\n",
        "    - `/` 바로 하위 요소를 찾겠다라는 의미 (css의 >와 비슷)\n",
        "    - `*` 모든 태그라는 의미\n",
        "    - [@id = \"아이디 이름\"]\n",
        "        - id 속성의 값이 아이디 이름인 요소를 찾겠다. (#와 비슷)\n",
        "    - div[3]\n",
        "        - 같은 레벨의 div태그 중에서 3번째 요소를 선택\n",
        "        - 1부터 시작"
      ],
      "metadata": {
        "id": "jzVr5XIjH-vj"
      }
    },
    {
      "cell_type": "code",
      "source": [
        "html = \"\"\"\n",
        "<!DOCYTYPE HTML>\n",
        "<html>\n",
        "    <head>\n",
        "        <title>HTML 페이지</title>\n",
        "    </head>\n",
        "    <style>\n",
        "    #naver-link{color:red;}\n",
        "    .p-el{font-size:30px;}\n",
        "    button{color:blue;}\n",
        "    </style>\n",
        "    <body>\n",
        "        <div>\n",
        "            <a id=\"naver-link\" href=\"https://www.naver.com\" target=\"_blank\">네이버로 이동하기</a>\n",
        "            <p class=\"p-el\">안녕하세요 html 페이지 입니다.</p>\n",
        "            <p class=\"p-el\">반갑습니다.</p>\n",
        "            <p>잘가요.</p>\n",
        "            <button class=\"btn\">클릭하기1</button>\n",
        "            <button>클릭하기2</button>\n",
        "        </div>\n",
        "        <div id=\"div-tag\">\n",
        "            <p class=\"p1 p-tag\">첫번째 p태그</p>\n",
        "            <p class=\"p2 p-tag\">두번째 p태그</p>\n",
        "            <p class=\"p3 p-tag\">세번째 p태그</p>\n",
        "        </div>\n",
        "    </body>\n",
        "</html>\n",
        "\"\"\""
      ],
      "metadata": {
        "id": "wYFy0UjPIlL-"
      },
      "execution_count": 86,
      "outputs": []
    },
    {
      "cell_type": "code",
      "source": [
        "import lxml.html as xh"
      ],
      "metadata": {
        "id": "9sLkSk__TZLB"
      },
      "execution_count": 88,
      "outputs": []
    },
    {
      "cell_type": "code",
      "source": [
        "root = xh.fromstring(html)\n",
        "root"
      ],
      "metadata": {
        "colab": {
          "base_uri": "https://localhost:8080/"
        },
        "id": "MeajkvVnTnPT",
        "outputId": "6e7d93e0-ea87-4e38-8c04-7541c2ed59be"
      },
      "execution_count": 89,
      "outputs": [
        {
          "output_type": "execute_result",
          "data": {
            "text/plain": [
              "<Element div at 0x7fa659661470>"
            ]
          },
          "metadata": {},
          "execution_count": 89
        }
      ]
    },
    {
      "cell_type": "markdown",
      "source": [
        " - xpath 메소드\n",
        "    - 선택된 요소들을 리스트로 반환한다.\n"
      ],
      "metadata": {
        "id": "H-bcBk1_T8RF"
      }
    },
    {
      "cell_type": "markdown",
      "source": [
        "- html 태그 바로 하위에 title 태그 찾기"
      ],
      "metadata": {
        "id": "7xkKspHLUF_B"
      }
    },
    {
      "cell_type": "code",
      "source": [
        "root.xpath(\"//html/title\") # css -> html > title"
      ],
      "metadata": {
        "colab": {
          "base_uri": "https://localhost:8080/"
        },
        "id": "atnUg4wHUN0q",
        "outputId": "adedfdde-ae98-4d77-cff7-25c8144c4b57"
      },
      "execution_count": 94,
      "outputs": [
        {
          "output_type": "execute_result",
          "data": {
            "text/plain": [
              "[]"
            ]
          },
          "metadata": {},
          "execution_count": 94
        }
      ]
    },
    {
      "cell_type": "markdown",
      "source": [
        "- html 태그 하위에 title 태그 찾기"
      ],
      "metadata": {
        "id": "vlbFR2YYUSxp"
      }
    },
    {
      "cell_type": "code",
      "source": [
        "el = root.xpath('//html//title') # css -> html title\n",
        "el"
      ],
      "metadata": {
        "colab": {
          "base_uri": "https://localhost:8080/"
        },
        "id": "VUH1wPslUu7c",
        "outputId": "1980b8cd-8287-4c7a-f414-f6427d7a1f7e"
      },
      "execution_count": 96,
      "outputs": [
        {
          "output_type": "execute_result",
          "data": {
            "text/plain": [
              "[<Element title at 0x7fa659ec50b0>]"
            ]
          },
          "metadata": {},
          "execution_count": 96
        }
      ]
    },
    {
      "cell_type": "code",
      "source": [
        "el[0].text"
      ],
      "metadata": {
        "colab": {
          "base_uri": "https://localhost:8080/",
          "height": 35
        },
        "id": "W0omNR1zU1Ky",
        "outputId": "6e029484-5394-4efd-fcc5-46111c3758fd"
      },
      "execution_count": 102,
      "outputs": [
        {
          "output_type": "execute_result",
          "data": {
            "text/plain": [
              "'HTML 페이지'"
            ],
            "application/vnd.google.colaboratory.intrinsic+json": {
              "type": "string"
            }
          },
          "metadata": {},
          "execution_count": 102
        }
      ]
    },
    {
      "cell_type": "markdown",
      "source": [
        "- 모든 요소들 중에서 class 값이 p-el인 요소들을 찾기"
      ],
      "metadata": {
        "id": "KJHd3BdxVFAM"
      }
    },
    {
      "cell_type": "code",
      "source": [
        "root.xpath(\"//*[@class='p-el']\") # css -> .p-el"
      ],
      "metadata": {
        "colab": {
          "base_uri": "https://localhost:8080/"
        },
        "id": "rE7PxblqVSvA",
        "outputId": "a764fd4e-c93b-4fc0-b29c-dbc652bf6020"
      },
      "execution_count": 107,
      "outputs": [
        {
          "output_type": "execute_result",
          "data": {
            "text/plain": [
              "[<Element p at 0x7fa659ebba10>, <Element p at 0x7fa659ebb350>]"
            ]
          },
          "metadata": {},
          "execution_count": 107
        }
      ]
    },
    {
      "cell_type": "code",
      "source": [
        "root.xpath(\"//p[@class='p-el']\") # css -> p.p-el"
      ],
      "metadata": {
        "colab": {
          "base_uri": "https://localhost:8080/"
        },
        "id": "EvLYH2fdV2E2",
        "outputId": "36792fcb-c093-4e8e-add1-03251c923491"
      },
      "execution_count": 109,
      "outputs": [
        {
          "output_type": "execute_result",
          "data": {
            "text/plain": [
              "[<Element p at 0x7fa659ebba10>, <Element p at 0x7fa659ebb350>]"
            ]
          },
          "metadata": {},
          "execution_count": 109
        }
      ]
    },
    {
      "cell_type": "markdown",
      "source": [
        "- x태그의 속성과 값을 딕셔너리로 가져오기"
      ],
      "metadata": {
        "id": "KhWzzj2CXAZF"
      }
    },
    {
      "cell_type": "code",
      "source": [
        "root.xpath(\"//*[@id='naver-link']\")[0].attrib # css -> #naver-link"
      ],
      "metadata": {
        "colab": {
          "base_uri": "https://localhost:8080/"
        },
        "id": "7LHjE-I9WKy5",
        "outputId": "f9b54b5a-23a5-403c-bff8-419224c1e288"
      },
      "execution_count": 116,
      "outputs": [
        {
          "output_type": "execute_result",
          "data": {
            "text/plain": [
              "{'id': 'naver-link', 'href': 'https://www.naver.com', 'target': '_blank'}"
            ]
          },
          "metadata": {},
          "execution_count": 116
        }
      ]
    },
    {
      "cell_type": "markdown",
      "source": [
        "- 요소의 순번을 이용해서 찾기"
      ],
      "metadata": {
        "id": "-1hPXxwIXvYV"
      }
    },
    {
      "cell_type": "code",
      "source": [
        "root.xpath(\"//*[@id='div-tag']/p[2]\")"
      ],
      "metadata": {
        "colab": {
          "base_uri": "https://localhost:8080/"
        },
        "id": "JwTzCrCHWtJQ",
        "outputId": "dff8561c-3c5e-4ee8-fd42-1bbc8c32792b"
      },
      "execution_count": 118,
      "outputs": [
        {
          "output_type": "execute_result",
          "data": {
            "text/plain": [
              "[<Element p at 0x7fa6597a06b0>]"
            ]
          },
          "metadata": {},
          "execution_count": 118
        }
      ]
    },
    {
      "cell_type": "markdown",
      "source": [
        "# User Agent\n",
        "- 브라우저 종류에 대한 정보\n",
        "- 요청 시 header 영역에 담긴다."
      ],
      "metadata": {
        "id": "hb_LqT-uXuzU"
      }
    },
    {
      "cell_type": "code",
      "source": [
        "res = requests.get(\"https://onoffmix.com/\") # 크롤링하지 못하게 막아놓음!\n",
        "res.status_code"
      ],
      "metadata": {
        "colab": {
          "base_uri": "https://localhost:8080/"
        },
        "id": "3Rn4eMkKX96g",
        "outputId": "61919a9e-a7fb-4012-848f-c3cd7c56bfc7"
      },
      "execution_count": 119,
      "outputs": [
        {
          "output_type": "execute_result",
          "data": {
            "text/plain": [
              "500"
            ]
          },
          "metadata": {},
          "execution_count": 119
        }
      ]
    },
    {
      "cell_type": "code",
      "source": [
        "!pip install fake_useragent"
      ],
      "metadata": {
        "colab": {
          "base_uri": "https://localhost:8080/"
        },
        "id": "JKAkKoaLX-HN",
        "outputId": "39a88c94-e56b-435c-978d-a70eb26da786"
      },
      "execution_count": 120,
      "outputs": [
        {
          "output_type": "stream",
          "name": "stdout",
          "text": [
            "Looking in indexes: https://pypi.org/simple, https://us-python.pkg.dev/colab-wheels/public/simple/\n",
            "Collecting fake_useragent\n",
            "  Downloading fake-useragent-0.1.11.tar.gz (13 kB)\n",
            "Building wheels for collected packages: fake-useragent\n",
            "  Building wheel for fake-useragent (setup.py) ... \u001b[?25l\u001b[?25hdone\n",
            "  Created wheel for fake-useragent: filename=fake_useragent-0.1.11-py3-none-any.whl size=13502 sha256=8c9fe79585c6e99d01ba08cfccb219a139508b41151e9e8f937b77e440fdf373\n",
            "  Stored in directory: /root/.cache/pip/wheels/ed/f7/62/50ab6c9a0b5567267ab76a9daa9d06315704209b2c5d032031\n",
            "Successfully built fake-useragent\n",
            "Installing collected packages: fake-useragent\n",
            "Successfully installed fake-useragent-0.1.11\n"
          ]
        }
      ]
    },
    {
      "cell_type": "code",
      "source": [
        "from fake_useragent import UserAgent"
      ],
      "metadata": {
        "id": "MD3--DWxX-Md"
      },
      "execution_count": 121,
      "outputs": []
    },
    {
      "cell_type": "code",
      "source": [
        "ua = UserAgent(use_cache_server = True)"
      ],
      "metadata": {
        "id": "9tqG7ciDX-Q2"
      },
      "execution_count": 130,
      "outputs": []
    },
    {
      "cell_type": "code",
      "source": [
        "ua.random"
      ],
      "metadata": {
        "colab": {
          "base_uri": "https://localhost:8080/",
          "height": 35
        },
        "id": "qWXpGeWIZ3Fj",
        "outputId": "c42ba91e-f76f-407a-c88e-3ca59305d798"
      },
      "execution_count": 137,
      "outputs": [
        {
          "output_type": "execute_result",
          "data": {
            "text/plain": [
              "'Mozilla/5.0 (Windows NT 6.1) AppleWebKit/537.36 (KHTML, like Gecko) Chrome/28.0.1468.0 Safari/537.36'"
            ],
            "application/vnd.google.colaboratory.intrinsic+json": {
              "type": "string"
            }
          },
          "metadata": {},
          "execution_count": 137
        }
      ]
    },
    {
      "cell_type": "code",
      "source": [
        "headers = {\"user-agent\" : ua.random}\n",
        "res = requests.get(\"https://onoffmix.com/\",headers=headers)\n",
        "res.status_code"
      ],
      "metadata": {
        "colab": {
          "base_uri": "https://localhost:8080/"
        },
        "id": "PyKXFKsdaSzX",
        "outputId": "18223377-4193-43c6-83df-bfaa079f81b0"
      },
      "execution_count": 141,
      "outputs": [
        {
          "output_type": "execute_result",
          "data": {
            "text/plain": [
              "200"
            ]
          },
          "metadata": {},
          "execution_count": 141
        }
      ]
    },
    {
      "cell_type": "code",
      "source": [
        "res.text"
      ],
      "metadata": {
        "colab": {
          "base_uri": "https://localhost:8080/",
          "height": 127
        },
        "id": "exV2YDbOad_9",
        "outputId": "75bdc2b5-da91-4f3e-abc3-2736b7380f1a"
      },
      "execution_count": 146,
      "outputs": [
        {
          "output_type": "execute_result",
          "data": {
            "text/plain": [
              "'\\t\\t<!DOCTYPE html>\\n<html lang=\"ko\">\\n<head>\\n    <meta charset=\"UTF-8\">\\n    <meta http-equiv=\"X-UA-Compatible\" content=\"IE=edge, chrome=1\"><script type=\"text/javascript\">(window.NREUM||(NREUM={})).init={ajax:{deny_list:[\"bam.nr-data.net\"]}};(window.NREUM||(NREUM={})).loader_config={xpid:\"VgcEUlRbDhABVVhbDwIHV1w=\",licenseKey:\"4d73c0dfa7\",applicationID:\"119983018\"};window.NREUM||(NREUM={}),__nr_require=function(t,e,n){function r(n){if(!e[n]){var i=e[n]={exports:{}};t[n][0].call(i.exports,function(e){var i=t[n][1][e];return r(i||e)},i,i.exports)}return e[n].exports}if(\"function\"==typeof __nr_require)return __nr_require;for(var i=0;i<n.length;i++)r(n[i]);return r}({1:[function(t,e,n){function r(t){try{s.console&&console.log(t)}catch(e){}}var i,o=t(\"ee\"),a=t(27),s={};try{i=localStorage.getItem(\"__nr_flags\").split(\",\"),console&&\"function\"==typeof console.log&&(s.console=!0,i.indexOf(\"dev\")!==-1&&(s.dev=!0),i.indexOf(\"nr_dev\")!==-1&&(s.nrDev=!0))}catch(c){}s.nrDev&&o.on(\"internal-error\",function(t){r(t.stack)}),s.dev&&o.on(\"fn-err\",function(t,e,n){r(n.stack)}),s.dev&&(r(\"NR AGENT IN DEVELOPMENT MODE\"),r(\"flags: \"+a(s,function(t,e){return t}).join(\", \")))},{}],2:[function(t,e,n){function r(t,e,n,r,s){try{p?p-=1:i(s||new UncaughtException(t,e,n),!0)}catch(f){try{o(\"ierr\",[f,c.now(),!0])}catch(d){}}return\"function\"==typeof u&&u.apply(this,a(arguments))}function UncaughtException(t,e,n){this.message=t||\"Uncaught error with no additional information\",this.sourceURL=e,this.line=n}function i(t,e){var n=e?null:c.now();o(\"err\",[t,n])}var o=t(\"handle\"),a=t(28),s=t(\"ee\"),c=t(\"loader\"),f=t(\"gos\"),u=window.onerror,d=!1,l=\"nr@seenError\";if(!c.disabled){var p=0;c.features.err=!0,t(1),window.onerror=r;try{throw new Error}catch(h){\"stack\"in h&&(t(10),t(9),\"addEventListener\"in window&&t(6),c.xhrWrappable&&t(11),d=!0)}s.on(\"fn-start\",function(t,e,n){d&&(p+=1)}),s.on(\"fn-err\",function(t,e,n){d&&!n[l]&&(f(n,l,function(){return!0}),this.thrown=!0,i(n))}),s.on(\"fn-end\",function(){d&&!this.thrown&&p>0&&(p-=1)}),s.on(\"internal-error\",function(t){o(\"ierr\",[t,c.now(),!0])})}},{}],3:[function(t,e,n){var r=t(\"loader\");r.disabled||(r.features.ins=!0)},{}],4:[function(t,e,n){function r(){var t=new PerformanceObserver(function(t,e){var n=t.getEntries();s(v,[n])});try{t.observe({entryTypes:[\"resource\"]})}catch(e){}}function i(t){if(s(v,[window.performance.getEntriesByType(w)]),window.performance[\"c\"+l])try{window.performance[h](m,i,!1)}catch(t){}else try{window.performance[h](\"webkit\"+m,i,!1)}catch(t){}}function o(t){}if(window.performance&&window.performance.timing&&window.performance.getEntriesByType){var a=t(\"ee\"),s=t(\"handle\"),c=t(10),f=t(9),u=t(5),d=t(19),l=\"learResourceTimings\",p=\"addEventListener\",h=\"removeEventListener\",m=\"resourcetimingbufferfull\",v=\"bstResource\",w=\"resource\",g=\"-start\",y=\"-end\",x=\"fn\"+g,b=\"fn\"+y,E=\"bstTimer\",R=\"pushState\",S=t(\"loader\");if(!S.disabled){S.features.stn=!0,t(8),\"addEventListener\"in window&&t(6);var O=NREUM.o.EV;a.on(x,function(t,e){var n=t[0];n instanceof O&&(this.bstStart=S.now())}),a.on(b,function(t,e){var n=t[0];n instanceof O&&s(\"bst\",[n,e,this.bstStart,S.now()])}),c.on(x,function(t,e,n){this.bstStart=S.now(),this.bstType=n}),c.on(b,function(t,e){s(E,[e,this.bstStart,S.now(),this.bstType])}),f.on(x,function(){this.bstStart=S.now()}),f.on(b,function(t,e){s(E,[e,this.bstStart,S.now(),\"requestAnimationFrame\"])}),a.on(R+g,function(t){this.time=S.now(),this.startPath=location.pathname+location.hash}),a.on(R+y,function(t){s(\"bstHist\",[location.pathname+location.hash,this.startPath,this.time])}),u()?(s(v,[window.performance.getEntriesByType(\"resource\")]),r()):p in window.performance&&(window.performance[\"c\"+l]?window.performance[p](m,i,d(!1)):window.performance[p](\"webkit\"+m,i,d(!1))),document[p](\"scroll\",o,d(!1)),document[p](\"keypress\",o,d(!1)),document[p](\"click\",o,d(!1))}}},{}],5:[function(t,e,n){e.exports=function(){return\"PerformanceObserver\"in window&&\"function\"==typeof window.PerformanceObserver}},{}],6:[function(t,e,n){function r(t){for(var e=t;e&&!e.hasOwnProperty(u);)e=Object.getPrototypeOf(e);e&&i(e)}function i(t){s.inPlace(t,[u,d],\"-\",o)}function o(t,e){return t[1]}var a=t(\"ee\").get(\"events\"),s=t(\"wrap-function\")(a,!0),c=t(\"gos\"),f=XMLHttpRequest,u=\"addEventListener\",d=\"removeEventListener\";e.exports=a,\"getPrototypeOf\"in Object?(r(document),r(window),r(f.prototype)):f.prototype.hasOwnProperty(u)&&(i(window),i(f.prototype)),a.on(u+\"-start\",function(t,e){var n=t[1];if(null!==n&&(\"function\"==typeof n||\"object\"==typeof n)){var r=c(n,\"nr@wrapped\",function(){function t(){if(\"function\"==typeof n.handleEvent)return n.handleEvent.apply(n,arguments)}var e={object:t,\"function\":n}[typeof n];return e?s(e,\"fn-\",null,e.name||\"anonymous\"):n});this.wrapped=t[1]=r}}),a.on(d+\"-start\",function(t){t[1]=this.wrapped||t[1]})},{}],7:[function(t,e,n){function r(t,e,n){var r=t[e];\"function\"==typeof r&&(t[e]=function(){var t=o(arguments),e={};i.emit(n+\"before-start\",[t],e);var a;e[m]&&e[m].dt&&(a=e[m].dt);var s=r.apply(this,t);return i.emit(n+\"start\",[t,a],s),s.then(function(t){return i.emit(n+\"end\",[null,t],s),t},function(t){throw i.emit(n+\"end\",[t],s),t})})}var i=t(\"ee\").get(\"fetch\"),o=t(28),a=t(27);e.exports=i;var s=window,c=\"fetch-\",f=c+\"body-\",u=[\"arrayBuffer\",\"blob\",\"json\",\"text\",\"formData\"],d=s.Request,l=s.Response,p=s.fetch,h=\"prototype\",m=\"nr@context\";d&&l&&p&&(a(u,function(t,e){r(d[h],e,f),r(l[h],e,f)}),r(s,\"fetch\",c),i.on(c+\"end\",function(t,e){var n=this;if(e){var r=e.headers.get(\"content-length\");null!==r&&(n.rxSize=r),i.emit(c+\"done\",[null,e],n)}else i.emit(c+\"done\",[t],n)}))},{}],8:[function(t,e,n){var r=t(\"ee\").get(\"history\"),i=t(\"wrap-function\")(r);e.exports=r;var o=window.history&&window.history.constructor&&window.history.constructor.prototype,a=window.history;o&&o.pushState&&o.replaceState&&(a=o),i.inPlace(a,[\"pushState\",\"replaceState\"],\"-\")},{}],9:[function(t,e,n){var r=t(\"ee\").get(\"raf\"),i=t(\"wrap-function\")(r),o=\"equestAnimationFrame\";e.exports=r,i.inPlace(window,[\"r\"+o,\"mozR\"+o,\"webkitR\"+o,\"msR\"+o],\"raf-\"),r.on(\"raf-start\",function(t){t[0]=i(t[0],\"fn-\")})},{}],10:[function(t,e,n){function r(t,e,n){t[0]=a(t[0],\"fn-\",null,n)}function i(t,e,n){this.method=n,this.timerDuration=isNaN(t[1])?0:+t[1],t[0]=a(t[0],\"fn-\",this,n)}var o=t(\"ee\").get(\"timer\"),a=t(\"wrap-function\")(o),s=\"setTimeout\",c=\"setInterval\",f=\"clearTimeout\",u=\"-start\",d=\"-\";e.exports=o,a.inPlace(window,[s,\"setImmediate\"],s+d),a.inPlace(window,[c],c+d),a.inPlace(window,[f,\"clearImmediate\"],f+d),o.on(c+u,r),o.on(s+u,i)},{}],11:[function(t,e,n){function r(t,e){d.inPlace(e,[\"onreadystatechange\"],\"fn-\",s)}function i(){var t=this,e=u.context(t);t.readyState>3&&!e.resolved&&(e.resolved=!0,u.emit(\"xhr-resolved\",[],t)),d.inPlace(t,y,\"fn-\",s)}function o(t){x.push(t),m&&(E?E.then(a):w?w(a):(R=-R,S.data=R))}function a(){for(var t=0;t<x.length;t++)r([],x[t]);x.length&&(x=[])}function s(t,e){return e}function c(t,e){for(var n in t)e[n]=t[n];return e}t(6);var f=t(\"ee\"),u=f.get(\"xhr\"),d=t(\"wrap-function\")(u),l=t(19),p=NREUM.o,h=p.XHR,m=p.MO,v=p.PR,w=p.SI,g=\"readystatechange\",y=[\"onload\",\"onerror\",\"onabort\",\"onloadstart\",\"onloadend\",\"onprogress\",\"ontimeout\"],x=[];e.exports=u;var b=window.XMLHttpRequest=function(t){var e=new h(t);try{u.emit(\"new-xhr\",[e],e),e.addEventListener(g,i,l(!1))}catch(n){try{u.emit(\"internal-error\",[n])}catch(r){}}return e};if(c(h,b),b.prototype=h.prototype,d.inPlace(b.prototype,[\"open\",\"send\"],\"-xhr-\",s),u.on(\"send-xhr-start\",function(t,e){r(t,e),o(e)}),u.on(\"open-xhr-start\",r),m){var E=v&&v.resolve();if(!w&&!v){var R=1,S=document.createTextNode(R);new m(a).observe(S,{characterData:!0})}}else f.on(\"fn-end\",function(t){t[0]&&t[0].type===g||a()})},{}],12:[function(t,e,n){function r(t){if(!s(t))return null;var e=window.NREUM;if(!e.loader_config)return null;var n=(e.loader_config.accountID||\"\").toString()||null,r=(e.loader_config.agentID||\"\").toString()||null,f=(e.loader_config.trustKey||\"\").toString()||null;if(!n||!r)return null;var h=p.generateSpanId(),m=p.generateTraceId(),v=Date.now(),w={spanId:h,traceId:m,timestamp:v};return(t.sameOrigin||c(t)&&l())&&(w.traceContextParentHeader=i(h,m),w.traceContextStateHeader=o(h,v,n,r,f)),(t.sameOrigin&&!u()||!t.sameOrigin&&c(t)&&d())&&(w.newrelicHeader=a(h,m,v,n,r,f)),w}function i(t,e){return\"00-\"+e+\"-\"+t+\"-01\"}function o(t,e,n,r,i){var o=0,a=\"\",s=1,c=\"\",f=\"\";return i+\"@nr=\"+o+\"-\"+s+\"-\"+n+\"-\"+r+\"-\"+t+\"-\"+a+\"-\"+c+\"-\"+f+\"-\"+e}function a(t,e,n,r,i,o){var a=\"btoa\"in window&&\"function\"==typeof window.btoa;if(!a)return null;var s={v:[0,1],d:{ty:\"Browser\",ac:r,ap:i,id:t,tr:e,ti:n}};return o&&r!==o&&(s.d.tk=o),btoa(JSON.stringify(s))}function s(t){return f()&&c(t)}function c(t){var e=!1,n={};if(\"init\"in NREUM&&\"distributed_tracing\"in NREUM.init&&(n=NREUM.init.distributed_tracing),t.sameOrigin)e=!0;else if(n.allowed_origins instanceof Array)for(var r=0;r<n.allowed_origins.length;r++){var i=h(n.allowed_origins[r]);if(t.hostname===i.hostname&&t.protocol===i.protocol&&t.port===i.port){e=!0;break}}return e}function f(){return\"init\"in NREUM&&\"distributed_tracing\"in NREUM.init&&!!NREUM.init.distributed_tracing.enabled}function u(){return\"init\"in NREUM&&\"distributed_tracing\"in NREUM.init&&!!NREUM.init.distributed_tracing.exclude_newrelic_header}function d(){return\"init\"in NREUM&&\"distributed_tracing\"in NREUM.init&&NREUM.init.distributed_tracing.cors_use_newrelic_header!==!1}function l(){return\"init\"in NREUM&&\"distributed_tracing\"in NREUM.init&&!!NREUM.init.distributed_tracing.cors_use_tracecontext_headers}var p=t(24),h=t(14);e.exports={generateTracePayload:r,shouldGenerateTrace:s}},{}],13:[function(t,e,n){function r(t){var e=this.params,n=this.metrics;if(!this.ended){this.ended=!0;for(var r=0;r<l;r++)t.removeEventListener(d[r],this.listener,!1);return e.protocol&&\"data\"===e.protocol?void g(\"Ajax/DataUrl/Excluded\"):void(e.aborted||(n.duration=a.now()-this.startTime,this.loadCaptureCalled||4!==t.readyState?null==e.status&&(e.status=0):o(this,t),n.cbTime=this.cbTime,s(\"xhr\",[e,n,this.startTime,this.endTime,\"xhr\"],this)))}}function i(t,e){var n=c(e),r=t.params;r.hostname=n.hostname,r.port=n.port,r.protocol=n.protocol,r.host=n.hostname+\":\"+n.port,r.pathname=n.pathname,t.parsedOrigin=n,t.sameOrigin=n.sameOrigin}function o(t,e){t.params.status=e.status;var n=v(e,t.lastSize);if(n&&(t.metrics.rxSize=n),t.sameOrigin){var r=e.getResponseHeader(\"X-NewRelic-App-Data\");r&&(t.params.cat=r.split(\", \").pop())}t.loadCaptureCalled=!0}var a=t(\"loader\");if(a.xhrWrappable&&!a.disabled){var s=t(\"handle\"),c=t(14),f=t(12).generateTracePayload,u=t(\"ee\"),d=[\"load\",\"error\",\"abort\",\"timeout\"],l=d.length,p=t(\"id\"),h=t(20),m=t(18),v=t(15),w=t(19),g=t(21).recordSupportability,y=NREUM.o.REQ,x=window.XMLHttpRequest;a.features.xhr=!0,t(11),t(7),u.on(\"new-xhr\",function(t){var e=this;e.totalCbs=0,e.called=0,e.cbTime=0,e.end=r,e.ended=!1,e.xhrGuids={},e.lastSize=null,e.loadCaptureCalled=!1,e.params=this.params||{},e.metrics=this.metrics||{},t.addEventListener(\"load\",function(n){o(e,t)},w(!1)),h&&(h>34||h<10)||t.addEventListener(\"progress\",function(t){e.lastSize=t.loaded},w(!1))}),u.on(\"open-xhr-start\",function(t){this.params={method:t[0]},i(this,t[1]),this.metrics={}}),u.on(\"open-xhr-end\",function(t,e){\"loader_config\"in NREUM&&\"xpid\"in NREUM.loader_config&&this.sameOrigin&&e.setRequestHeader(\"X-NewRelic-ID\",NREUM.loader_config.xpid);var n=f(this.parsedOrigin);if(n){var r=!1;n.newrelicHeader&&(e.setRequestHeader(\"newrelic\",n.newrelicHeader),r=!0),n.traceContextParentHeader&&(e.setRequestHeader(\"traceparent\",n.traceContextParentHeader),n.traceContextStateHeader&&e.setRequestHeader(\"tracestate\",n.traceContextStateHeader),r=!0),r&&(this.dt=n)}}),u.on(\"send-xhr-start\",function(t,e){var n=this.metrics,r=t[0],i=this;if(n&&r){var o=m(r);o&&(n.txSize=o)}this.startTime=a.now(),this.listener=function(t){try{\"abort\"!==t.type||i.loadCaptureCalled||(i.params.aborted=!0),(\"load\"!==t.type||i.called===i.totalCbs&&(i.onloadCalled||\"function\"!=typeof e.onload))&&i.end(e)}catch(n){try{u.emit(\"internal-error\",[n])}catch(r){}}};for(var s=0;s<l;s++)e.addEventListener(d[s],this.listener,w(!1))}),u.on(\"xhr-cb-time\",function(t,e,n){this.cbTime+=t,e?this.onloadCalled=!0:this.called+=1,this.called!==this.totalCbs||!this.onloadCalled&&\"function\"==typeof n.onload||this.end(n)}),u.on(\"xhr-load-added\",function(t,e){var n=\"\"+p(t)+!!e;this.xhrGuids&&!this.xhrGuids[n]&&(this.xhrGuids[n]=!0,this.totalCbs+=1)}),u.on(\"xhr-load-removed\",function(t,e){var n=\"\"+p(t)+!!e;this.xhrGuids&&this.xhrGuids[n]&&(delete this.xhrGuids[n],this.totalCbs-=1)}),u.on(\"xhr-resolved\",function(){this.endTime=a.now()}),u.on(\"addEventListener-end\",function(t,e){e instanceof x&&\"load\"===t[0]&&u.emit(\"xhr-load-added\",[t[1],t[2]],e)}),u.on(\"removeEventListener-end\",function(t,e){e instanceof x&&\"load\"===t[0]&&u.emit(\"xhr-load-removed\",[t[1],t[2]],e)}),u.on(\"fn-start\",function(t,e,n){e instanceof x&&(\"onload\"===n&&(this.onload=!0),(\"load\"===(t[0]&&t[0].type)||this.onload)&&(this.xhrCbStart=a.now()))}),u.on(\"fn-end\",function(t,e){this.xhrCbStart&&u.emit(\"xhr-cb-time\",[a.now()-this.xhrCbStart,this.onload,e],e)}),u.on(\"fetch-before-start\",function(t){function e(t,e){var n=!1;return e.newrelicHeader&&(t.set(\"newrelic\",e.newrelicHeader),n=!0),e.traceContextParentHeader&&(t.set(\"traceparent\",e.traceContextParentHeader),e.traceContextStateHeader&&t.set(\"tracestate\",e.traceContextStateHeader),n=!0),n}var n,r=t[1]||{};\"string\"==typeof t[0]?n=t[0]:t[0]&&t[0].url?n=t[0].url:window.URL&&t[0]&&t[0]instanceof URL&&(n=t[0].href),n&&(this.parsedOrigin=c(n),this.sameOrigin=this.parsedOrigin.sameOrigin);var i=f(this.parsedOrigin);if(i&&(i.newrelicHeader||i.traceContextParentHeader))if(\"string\"==typeof t[0]||window.URL&&t[0]&&t[0]instanceof URL){var o={};for(var a in r)o[a]=r[a];o.headers=new Headers(r.headers||{}),e(o.headers,i)&&(this.dt=i),t.length>1?t[1]=o:t.push(o)}else t[0]&&t[0].headers&&e(t[0].headers,i)&&(this.dt=i)}),u.on(\"fetch-start\",function(t,e){this.params={},this.metrics={},this.startTime=a.now(),this.dt=e,t.length>=1&&(this.target=t[0]),t.length>=2&&(this.opts=t[1]);var n,r=this.opts||{},o=this.target;if(\"string\"==typeof o?n=o:\"object\"==typeof o&&o instanceof y?n=o.url:window.URL&&\"object\"==typeof o&&o instanceof URL&&(n=o.href),i(this,n),\"data\"!==this.params.protocol){var s=(\"\"+(o&&o instanceof y&&o.method||r.method||\"GET\")).toUpperCase();this.params.method=s,this.txSize=m(r.body)||0}}),u.on(\"fetch-done\",function(t,e){if(this.endTime=a.now(),this.params||(this.params={}),\"data\"===this.params.protocol)return void g(\"Ajax/DataUrl/Excluded\");this.params.status=e?e.status:0;var n;\"string\"==typeof this.rxSize&&this.rxSize.length>0&&(n=+this.rxSize);var r={txSize:this.txSize,rxSize:n,duration:a.now()-this.startTime};s(\"xhr\",[this.params,r,this.startTime,this.endTime,\"fetch\"],this)})}},{}],14:[function(t,e,n){var r={};e.exports=function(t){if(t in r)return r[t];if(0===(t||\"\").indexOf(\"data:\"))return{protocol:\"data\"};var e=document.createElement(\"a\"),n=window.location,i={};e.href=t,i.port=e.port;var o=e.href.split(\"://\");!i.port&&o[1]&&(i.port=o[1].split(\"/\")[0].split(\"@\").pop().split(\":\")[1]),i.port&&\"0\"!==i.port||(i.port=\"https\"===o[0]?\"443\":\"80\"),i.hostname=e.hostname||n.hostname,i.pathname=e.pathname,i.protocol=o[0],\"/\"!==i.pathname.charAt(0)&&(i.pathname=\"/\"+i.pathname);var a=!e.protocol||\":\"===e.protocol||e.protocol===n.protocol,s=e.hostname===document.domain&&e.port===n.port;return i.sameOrigin=a&&(!e.hostname||s),\"/\"===i.pathname&&(r[t]=i),i}},{}],15:[function(t,e,n){function r(t,e){var n=t.responseType;return\"json\"===n&&null!==e?e:\"arraybuffer\"===n||\"blob\"===n||\"json\"===n?i(t.response):\"text\"===n||\"\"===n||void 0===n?i(t.responseText):void 0}var i=t(18);e.exports=r},{}],16:[function(t,e,n){function r(){}function i(t,e,n,r){return function(){return u.recordSupportability(\"API/\"+e+\"/called\"),o(t+e,[f.now()].concat(s(arguments)),n?null:this,r),n?void 0:this}}var o=t(\"handle\"),a=t(27),s=t(28),c=t(\"ee\").get(\"tracer\"),f=t(\"loader\"),u=t(21),d=NREUM;\"undefined\"==typeof window.newrelic&&(newrelic=d);var l=[\"setPageViewName\",\"setCustomAttribute\",\"setErrorHandler\",\"finished\",\"addToTrace\",\"inlineHit\",\"addRelease\"],p=\"api-\",h=p+\"ixn-\";a(l,function(t,e){d[e]=i(p,e,!0,\"api\")}),d.addPageAction=i(p,\"addPageAction\",!0),d.setCurrentRouteName=i(p,\"routeName\",!0),e.exports=newrelic,d.interaction=function(){return(new r).get()};var m=r.prototype={createTracer:function(t,e){var n={},r=this,i=\"function\"==typeof e;return o(h+\"tracer\",[f.now(),t,n],r),function(){if(c.emit((i?\"\":\"no-\")+\"fn-start\",[f.now(),r,i],n),i)try{return e.apply(this,arguments)}catch(t){throw c.emit(\"fn-err\",[arguments,this,t],n),t}finally{c.emit(\"fn-end\",[f.now()],n)}}}};a(\"actionText,setName,setAttribute,save,ignore,onEnd,getContext,end,get\".split(\",\"),function(t,e){m[e]=i(h,e)}),newrelic.noticeError=function(t,e){\"string\"==typeof t&&(t=new Error(t)),u.recordSupportability(\"API/noticeError/called\"),o(\"err\",[t,f.now(),!1,e])}},{}],17:[function(t,e,n){function r(t){if(NREUM.init){for(var e=NREUM.init,n=t.split(\".\"),r=0;r<n.length-1;r++)if(e=e[n[r]],\"object\"!=typeof e)return;return e=e[n[n.length-1]]}}e.exports={getConfiguration:r}},{}],18:[function(t,e,n){e.exports=function(t){if(\"string\"==typeof t&&t.length)return t.length;if(\"object\"==typeof t){if(\"undefined\"!=typeof ArrayBuffer&&t instanceof ArrayBuffer&&t.byteLength)return t.byteLength;if(\"undefined\"!=typeof Blob&&t instanceof Blob&&t.size)return t.size;if(!(\"undefined\"!=typeof FormData&&t instanceof FormData))try{return JSON.stringify(t).length}catch(e){return}}}},{}],19:[function(t,e,n){var r=!1;try{var i=Object.defineProperty({},\"passive\",{get:function(){r=!0}});window.addEventListener(\"testPassive\",null,i),window.removeEventListener(\"testPassive\",null,i)}catch(o){}e.exports=function(t){return r?{passive:!0,capture:!!t}:!!t}},{}],20:[function(t,e,n){var r=0,i=navigator.userAgent.match(/Firefox[\\\\/\\\\s](\\\\d+\\\\.\\\\d+)/);i&&(r=+i[1]),e.exports=r},{}],21:[function(t,e,n){function r(t,e){var n=[a,t,{name:t},e];return o(\"storeMetric\",n,null,\"api\"),n}function i(t,e){var n=[s,t,{name:t},e];return o(\"storeEventMetrics\",n,null,\"api\"),n}var o=t(\"handle\"),a=\"sm\",s=\"cm\";e.exports={constants:{SUPPORTABILITY_METRIC:a,CUSTOM_METRIC:s},recordSupportability:r,recordCustom:i}},{}],22:[function(t,e,n){function r(){return s.exists&&performance.now?Math.round(performance.now()):(o=Math.max((new Date).getTime(),o))-a}function i(){return o}var o=(new Date).getTime(),a=o,s=t(29);e.exports=r,e.exports.offset=a,e.exports.getLastTimestamp=i},{}],23:[function(t,e,n){function r(t,e){var n=t.getEntries();n.forEach(function(t){\"first-paint\"===t.name?p(\"timing\",[\"fp\",Math.floor(t.startTime)]):\"first-contentful-paint\"===t.name&&p(\"timing\",[\"fcp\",Math.floor(t.startTime)])})}function i(t,e){var n=t.getEntries();if(n.length>0){var r=n[n.length-1];if(f&&f<r.startTime)return;var i=[r],o=a({});o&&i.push(o),p(\"lcp\",i)}}function o(t){t.getEntries().forEach(function(t){t.hadRecentInput||p(\"cls\",[t])})}function a(t){var e=navigator.connection||navigator.mozConnection||navigator.webkitConnection;if(e)return e.type&&(t[\"net-type\"]=e.type),e.effectiveType&&(t[\"net-etype\"]=e.effectiveType),e.rtt&&(t[\"net-rtt\"]=e.rtt),e.downlink&&(t[\"net-dlink\"]=e.downlink),t}function s(t){if(t instanceof w&&!y){var e=Math.round(t.timeStamp),n={type:t.type};a(n),e<=h.now()?n.fid=h.now()-e:e>h.offset&&e<=Date.now()?(e-=h.offset,n.fid=h.now()-e):e=h.now(),y=!0,p(\"timing\",[\"fi\",e,n])}}function c(t){\"hidden\"===t&&(f=h.now(),p(\"pageHide\",[f]))}if(!(\"init\"in NREUM&&\"page_view_timing\"in NREUM.init&&\"enabled\"in NREUM.init.page_view_timing&&NREUM.init.page_view_timing.enabled===!1)){var f,u,d,l,p=t(\"handle\"),h=t(\"loader\"),m=t(26),v=t(19),w=NREUM.o.EV;if(\"PerformanceObserver\"in window&&\"function\"==typeof window.PerformanceObserver){u=new PerformanceObserver(r);try{u.observe({entryTypes:[\"paint\"]})}catch(g){}d=new PerformanceObserver(i);try{d.observe({entryTypes:[\"largest-contentful-paint\"]})}catch(g){}l=new PerformanceObserver(o);try{l.observe({type:\"layout-shift\",buffered:!0})}catch(g){}}if(\"addEventListener\"in document){var y=!1,x=[\"click\",\"keydown\",\"mousedown\",\"pointerdown\",\"touchstart\"];x.forEach(function(t){document.addEventListener(t,s,v(!1))})}m(c)}},{}],24:[function(t,e,n){function r(){function t(){return e?15&e[n++]:16*Math.random()|0}var e=null,n=0,r=window.crypto||window.msCrypto;r&&r.getRandomValues&&(e=r.getRandomValues(new Uint8Array(31)));for(var i,o=\"xxxxxxxx-xxxx-4xxx-yxxx-xxxxxxxxxxxx\",a=\"\",s=0;s<o.length;s++)i=o[s],\"x\"===i?a+=t().toString(16):\"y\"===i?(i=3&t()|8,a+=i.toString(16)):a+=i;return a}function i(){return a(16)}function o(){return a(32)}function a(t){function e(){return n?15&n[r++]:16*Math.random()|0}var n=null,r=0,i=window.crypto||window.msCrypto;i&&i.getRandomValues&&Uint8Array&&(n=i.getRandomValues(new Uint8Array(t)));for(var o=[],a=0;a<t;a++)o.push(e().toString(16));return o.join(\"\")}e.exports={generateUuid:r,generateSpanId:i,generateTraceId:o}},{}],25:[function(t,e,n){function r(t,e){if(!i)return!1;if(t!==i)return!1;if(!e)return!0;if(!o)return!1;for(var n=o.split(\".\"),r=e.split(\".\"),a=0;a<r.length;a++)if(r[a]!==n[a])return!1;return!0}var i=null,o=null,a=/Version\\\\/(\\\\S+)\\\\s+Safari/;if(navigator.userAgent){var s=navigator.userAgent,c=s.match(a);c&&s.indexOf(\"Chrome\")===-1&&s.indexOf(\"Chromium\")===-1&&(i=\"Safari\",o=c[1])}e.exports={agent:i,version:o,match:r}},{}],26:[function(t,e,n){function r(t){function e(){t(s&&document[s]?document[s]:document[o]?\"hidden\":\"visible\")}\"addEventListener\"in document&&a&&document.addEventListener(a,e,i(!1))}var i=t(19);e.exports=r;var o,a,s;\"undefined\"!=typeof document.hidden?(o=\"hidden\",a=\"visibilitychange\",s=\"visibilityState\"):\"undefined\"!=typeof document.msHidden?(o=\"msHidden\",a=\"msvisibilitychange\"):\"undefined\"!=typeof document.webkitHidden&&(o=\"webkitHidden\",a=\"webkitvisibilitychange\",s=\"webkitVisibilityState\")},{}],27:[function(t,e,n){function r(t,e){var n=[],r=\"\",o=0;for(r in t)i.call(t,r)&&(n[o]=e(r,t[r]),o+=1);return n}var i=Object.prototype.hasOwnProperty;e.exports=r},{}],28:[function(t,e,n){function r(t,e,n){e||(e=0),\"undefined\"==typeof n&&(n=t?t.length:0);for(var r=-1,i=n-e||0,o=Array(i<0?0:i);++r<i;)o[r]=t[e+r];return o}e.exports=r},{}],29:[function(t,e,n){e.exports={exists:\"undefined\"!=typeof window.performance&&window.performance.timing&&\"undefined\"!=typeof window.performance.timing.navigationStart}},{}],ee:[function(t,e,n){function r(){}function i(t){function e(t){return t&&t instanceof r?t:t?f(t,c,a):a()}function n(n,r,i,o,a){if(a!==!1&&(a=!0),!p.aborted||o){t&&a&&t(n,r,i);for(var s=e(i),c=m(n),f=c.length,u=0;u<f;u++)c[u].apply(s,r);var l=d[y[n]];return l&&l.push([x,n,r,s]),s}}function o(t,e){g[t]=m(t).concat(e)}function h(t,e){var n=g[t];if(n)for(var r=0;r<n.length;r++)n[r]===e&&n.splice(r,1)}function m(t){return g[t]||[]}function v(t){return l[t]=l[t]||i(n)}function w(t,e){p.aborted||u(t,function(t,n){e=e||\"feature\",y[n]=e,e in d||(d[e]=[])})}var g={},y={},x={on:o,addEventListener:o,removeEventListener:h,emit:n,get:v,listeners:m,context:e,buffer:w,abort:s,aborted:!1};return x}function o(t){return f(t,c,a)}function a(){return new r}function s(){(d.api||d.feature)&&(p.aborted=!0,d=p.backlog={})}var c=\"nr@context\",f=t(\"gos\"),u=t(27),d={},l={},p=e.exports=i();e.exports.getOrSetContext=o,p.backlog=d},{}],gos:[function(t,e,n){function r(t,e,n){if(i.call(t,e))return t[e];var r=n();if(Object.defineProperty&&Object.keys)try{return Object.defineProperty(t,e,{value:r,writable:!0,enumerable:!1}),r}catch(o){}return t[e]=r,r}var i=Object.prototype.hasOwnProperty;e.exports=r},{}],handle:[function(t,e,n){function r(t,e,n,r){i.buffer([t],r),i.emit(t,e,n)}var i=t(\"ee\").get(\"handle\");e.exports=r,r.ee=i},{}],id:[function(t,e,n){function r(t){var e=typeof t;return!t||\"object\"!==e&&\"function\"!==e?-1:t===window?0:a(t,o,function(){return i++})}var i=1,o=\"nr@id\",a=t(\"gos\");e.exports=r},{}],loader:[function(t,e,n){function r(){if(!O++){var t=S.info=NREUM.info,e=m.getElementsByTagName(\"script\")[0];if(setTimeout(f.abort,3e4),!(t&&t.licenseKey&&t.applicationID&&e))return f.abort();c(E,function(e,n){t[e]||(t[e]=n)});var n=a();s(\"mark\",[\"onload\",n+S.offset],null,\"api\"),s(\"timing\",[\"load\",n]);var r=m.createElement(\"script\");0===t.agent.indexOf(\"http://\")||0===t.agent.indexOf(\"https://\")?r.src=t.agent:r.src=p+\"://\"+t.agent,e.parentNode.insertBefore(r,e)}}function i(){\"complete\"===m.readyState&&o()}function o(){s(\"mark\",[\"domContent\",a()+S.offset],null,\"api\")}var a=t(22),s=t(\"handle\"),c=t(27),f=t(\"ee\"),u=t(25),d=t(17),l=t(19),p=d.getConfiguration(\"ssl\")===!1?\"http\":\"https\",h=window,m=h.document,v=\"addEventListener\",w=\"attachEvent\",g=h.XMLHttpRequest,y=g&&g.prototype,x=!1;NREUM.o={ST:setTimeout,SI:h.setImmediate,CT:clearTimeout,XHR:g,REQ:h.Request,EV:h.Event,PR:h.Promise,MO:h.MutationObserver};var b=\"\"+location,E={beacon:\"bam.nr-data.net\",errorBeacon:\"bam.nr-data.net\",agent:\"js-agent.newrelic.com/nr-1216.min.js\"},R=g&&y&&y[v]&&!/CriOS/.test(navigator.userAgent),S=e.exports={offset:a.getLastTimestamp(),now:a,origin:b,features:{},xhrWrappable:R,userAgent:u,disabled:x};if(!x){t(16),t(23),m[v]?(m[v](\"DOMContentLoaded\",o,l(!1)),h[v](\"load\",r,l(!1))):(m[w](\"onreadystatechange\",i),h[w](\"onload\",r)),s(\"mark\",[\"firstbyte\",a.getLastTimestamp()],null,\"api\");var O=0}},{}],\"wrap-function\":[function(t,e,n){function r(t,e){function n(e,n,r,c,f){function nrWrapper(){var o,a,u,l;try{a=this,o=d(arguments),u=\"function\"==typeof r?r(o,a):r||{}}catch(p){i([p,\"\",[o,a,c],u],t)}s(n+\"start\",[o,a,c],u,f);try{return l=e.apply(a,o)}catch(h){throw s(n+\"err\",[o,a,h],u,f),h}finally{s(n+\"end\",[o,a,l],u,f)}}return a(e)?e:(n||(n=\"\"),nrWrapper[l]=e,o(e,nrWrapper,t),nrWrapper)}function r(t,e,r,i,o){r||(r=\"\");var s,c,f,u=\"-\"===r.charAt(0);for(f=0;f<e.length;f++)c=e[f],s=t[c],a(s)||(t[c]=n(s,u?c+r:r,i,c,o))}function s(n,r,o,a){if(!h||e){var s=h;h=!0;try{t.emit(n,r,o,e,a)}catch(c){i([c,n,r,o],t)}h=s}}return t||(t=u),n.inPlace=r,n.flag=l,n}function i(t,e){e||(e=u);try{e.emit(\"internal-error\",t)}catch(n){}}function o(t,e,n){if(Object.defineProperty&&Object.keys)try{var r=Object.keys(t);return r.forEach(function(n){Object.defineProperty(e,n,{get:function(){return t[n]},set:function(e){return t[n]=e,e}})}),e}catch(o){i([o],n)}for(var a in t)p.call(t,a)&&(e[a]=t[a]);return e}function a(t){return!(t&&t instanceof Function&&t.apply&&!t[l])}function s(t,e){var n=e(t);return n[l]=t,o(t,n,u),n}function c(t,e,n){var r=t[e];t[e]=s(r,n)}function f(){for(var t=arguments.length,e=new Array(t),n=0;n<t;++n)e[n]=arguments[n];return e}var u=t(\"ee\"),d=t(28),l=\"nr@original\",p=Object.prototype.hasOwnProperty,h=!1;e.exports=r,e.exports.wrapFunction=s,e.exports.wrapInPlace=c,e.exports.argsToArray=f},{}]},{},[\"loader\",2,13,4,3]);</script>\\n    <meta name=\"keywords\" content=\"onoffmix, event, 온오프믹스, 모임, 행사, 번개, 이벤트\">\\n    <meta name=\"description\" content=\"세상의 모든 모임 \\'온오프믹스\\'\">\\n    <meta name=\"author\" content=\"ONOFFMIX Inc. (webmaster@onoffmix.com)\">\\n    <meta name=\"viewport\" content=\"width=1280\">\\n    <meta http-equiv=\"Content-Security-Policy\" content=\"upgrade-insecure-requests\">\\n    <title>온오프믹스 :: 모임문화 플랫폼</title>\\n    <meta property=\"og:image\" content=\"https://static.onoffmix.com/images/common/onoffmix_logo_og.png\"/>    <link rel=\"shortcut icon\" type=\"image/x-icon\" href=\"https://static.onoffmix.com/images/pc/icon/favicon.ico\">\\n    <!-- \\n        =================================== 공통 시작 ===================================  -->\\n    <!-- OFM Common Style -->\\n    <link rel=\"stylesheet\" href=\"https://static.onoffmix.com/css/common/pc/common-pc.css\">\\n    <!-- Common Script -->\\n    <script src=\"https://static.onoffmix.com/js/pc/dist/common/plugins/jquery-1.10.2.js\"></script>\\n    <script src=\"https://static.onoffmix.com/js/pc/dist/common/plugins/jquery-ui-1.10.4.custom.js\"></script>\\n    <script src=\"https://static.onoffmix.com/js/pc/dist/common/plugins/jquery.dotdotdot-1.5.0.js\"></script>\\n    <script src=\"https://static.onoffmix.com/js/pc/dist/common/plugins/jquery.cookie.js\"></script>\\n    <!-- =================================== 공통 끝 ===================================  -->\\n\\n    <!-- =================================== 화면 고유 시작 ===================================  -->\\n    <!-- OFM Style -->\\n    <link rel=\"stylesheet\" href=\"https://static.onoffmix.com/css/pc/main/new-main.css\">    <!-- =================================== 화면 고유 끝 ===================================  -->\\n    <!-- Google Tag Manager -->\\n    <script>(function(w,d,s,l,i){w[l]=w[l]||[];w[l].push({\\'gtm.start\\':\\n            new Date().getTime(),event:\\'gtm.js\\'});var f=d.getElementsByTagName(s)[0],\\n            j=d.createElement(s),dl=l!=\\'dataLayer\\'?\\'&l=\\'+l:\\'\\';j.async=true;j.src=\\n            \\'https://www.googletagmanager.com/gtm.js?id=\\'+i+dl;f.parentNode.insertBefore(j,f);\\n        })(window,document,\\'script\\',\\'dataLayer\\',\\'GTM-K5ZBGC5\\');</script>\\n    <!-- End Google Tag Manager -->\\n    <script>var OFM_JS_GA_CONTAINER = \\'\\';</script>\\n    <!-- Global site tag (gtag.js) - Google Analytics -->\\n    <script async src=\"https://www.googletagmanager.com/gtag/js?id=UA-25312010-14\"></script>\\n    <script>\\n        window.dataLayer = window.dataLayer || [];\\n        function gtag(){dataLayer.push(arguments);}\\n        gtag(\\'js\\', new Date());\\n        gtag(\\'config\\', \\'UA-25312010-14\\');\\n    </script>\\n    <!-- Global site tag (gtag.js) - Google Analytics -->\\n    <script>\\n        OFM_JS_GA_CONTAINER = \\'UA-25312010-14\\';\\n    </script>\\n    <style>\\n.ie_end_support_popup_wrap{\\n    display: none;\\n    width: 900px;\\n    height: 608px;\\n    padding: 62px 100px 0;\\n    position: fixed;\\n    top: 50%;\\n    left: 50%;\\n    transform: translate(-50%, -50%);\\n    border: 1px solid #c8c8c8;\\n    box-sizing: border-box;\\n    text-align: center;\\n    letter-spacing: -1px;\\n    line-height: 28px;\\n    color: #333;\\n    z-index: 1000;\\n    background-color: #fff;\\n}\\n.ie_end_support_popup_wrap h1{\\n    margin-bottom: 37px;\\n    font-size: 24px;\\n    font-weight: bold;\\n    color: #4195f5;\\n    letter-spacing: -1.2px\\n}\\n.ie_end_support_popup_wrap p{\\n    font-size: 16px;\\n}\\n.ie_end_support_popup_wrap p + p{margin-top: 10px;}\\n.ie_end_support_popup_wrap p span{ font-weight: bold; }\\n.ie_end_support_popup_wrap p span:last-child{ color: #4195f5;  }\\n.browser_link{\\n    display: flex;\\n    flex-wrap: wrap;\\n    justify-content: space-between;\\n    padding: 0 15px; \\n    margin-top: 39px;\\n    border-top: 1px solid #d8d8d8;\\n}\\n.browser_link > span{\\n    display: block;\\n    width: 100%;\\n    margin-top: 36px;\\n    margin-bottom: 24px;\\n    font-size: 16px;\\n    font-weight: bold;\\n}\\n.browser_link a{\\n    display: block;\\n    width: 140px;\\n    height: 160px;\\n    font-size: 14px;\\n    font-weight: bold;\\n    line-height: 20px;\\n    letter-spacing: 0;\\n    background-color: #f7f8fa;\\n    border-radius: 10px;\\n}\\n.browser_link a span{\\n    display: block;\\n    font-weight: normal;\\n    letter-spacing: -1px;\\n    color: #666;\\n}\\n.browser_link a::before{\\n    content: \"\";\\n    display: block;\\n    width: 72px;\\n    height: 72px;\\n    margin: 21px auto 9px;\\n    background-repeat: no-repeat;\\n    background-size: 100%;\\n}\\n.browser_link a:nth-child(2)::before{background-image: url(\"https://static.onoffmix.com/images/pc/ie_end_support_popup/chrome.png\");}\\n.browser_link a:nth-child(3)::before{background-image: url(\"https://static.onoffmix.com/images/pc/ie_end_support_popup/edge.png\");}\\n.browser_link a:nth-child(4)::before{background-image: url(\"https://static.onoffmix.com/images/pc/ie_end_support_popup/whale.png\");}\\n.browser_link a:nth-child(5)::before{background-image: url(\"https://static.onoffmix.com/images/pc/ie_end_support_popup/firefox.png\");}\\n.ie_end_support_popup_wrap button{\\n    display: block;\\n    width: 24px;\\n    height: 24px;\\n    position: absolute;\\n    top: 19px;\\n    right: 19px;\\n    cursor: pointer;\\n    border: 0 none;\\n    overflow: hidden;\\n    text-indent: -9999rem;\\n    background-color: transparent;\\n    background-image: url(\"https://static.onoffmix.com/images/pc/svg/menu-close-gray.svg\");\\n}\\n.close_check{\\n    position: absolute;\\n    right: 21px;\\n    bottom: 15px;\\n}\\n.close_check input{\\n    width: 13px;\\n    height: 13px;\\n    vertical-align: middle;\\n    border-color: rgba(0, 0, 0, 0.2);\\n}\\n.close_check label{\\n    margin-left: 7px;\\n    font-size: 12px;\\n    letter-spacing: -1px;\\n    line-height: 14px;\\n    vertical-align: middle;\\n    color: #333;\\n}\\n</style>\\n</head>\\n<body class=\"onoffmix\">\\n<article class=\"ie_end_support_popup_wrap\">\\n    <h1>인터넷 익스플로러 (IE) 브라우저 지원 종료 안내</h1>\\n    <p>\\n        마이크로소프트 사의 <span>인터넷 익스플로러(이하 IE)의 지원이 중단</span>됨에 따라<br><span>온오프믹스 사이트의</span> <span>IE 지원이 종료</span>됩니다.\\n    </p>\\n    <p>\\n        IE 브라우저 내에서는 사이트 이용이 원활하지 않을 수 있으니<br>온오프믹스의 더 나은 사용 경험을 위해 아래 브라우저 중 하나를 선택하여 이용해 주세요.\\n    </p>\\n    <div class=\"browser_link\">\\n        <span>지원 브라우저 설치 바로가기</span>\\n        <a href=\"https://www.google.com/intl/ko/chrome/\" target=\"_blank\">Google Chrome<span>구글 크롬</span></a>\\n        <a href=\"https://www.microsoft.com/ko-kr/edge\" target=\"_blank\">Microsoft Edge<span>마이크로소프트 엣지</span></a>\\n        <a href=\"https://whale.naver.com/ko/download\" target=\"_blank\">Naver Whale<span>네이버 웨일</span></a>\\n        <a href=\"https://www.mozilla.org/ko/firefox/new/\" target=\"_blank\">Firefox<span>파이어폭스</span></a>\\n    </div>\\n\\n    <button type=\"button\">팝업 닫기</button>\\n    <div class=\"close_check\"><input type=\"checkbox\" id=\"today_no_view_check\"><label for=\"today_no_view_check\">오늘 하루 보지 않기</label></div>\\n<script>\\n(function(global, cookie){\"use strict\";\\nvar ie_end_support_popup_wrap = document.getElementsByClassName(\"ie_end_support_popup_wrap\")[0];\\nvar today_no_view_check = ie_end_support_popup_wrap.getElementsByTagName(\"input\")[0];\\nvar now_time = new Date();\\nvar agent = navigator.userAgent.toLowerCase();\\n\\n\\nif( (navigator.appName == \\'Netscape\\' && agent.indexOf(\\'trident\\') != -1) || (agent.indexOf(\"msie\") != -1)){}else{ return; }\\nif( !cookie(\"ie_end_support_popup\") ){\\n    ie_end_support_popup_wrap.style.display = \"block\";\\n}\\n\\nie_end_support_popup_wrap.addEventListener(\"click\", function( event ){\\n    var target = event.target;\\n    if( target.nodeName === \"BUTTON\" || target.nodeName === \"LABEL\" ){\\n        ie_end_support_popup_wrap.style.display = \"none\";\\n        if( target.nodeName === \"LABEL\" ) today_no_view_check.checked = true;\\n        if( today_no_view_check.checked ){\\n            $.cookie(\"ie_end_support_popup\", true, {\\n                \"path\" : \"/\",\\n                \"domain\" : document.domain,\\n                \"expires\" : new Date(now_time.getFullYear() + \".0\" + (now_time.getMonth() + 1) + \".0\" + (now_time.getDate() + 1))\\n            });\\n        }\\n        return;\\n    }\\n});\\n})(window, $.cookie)\\n</script>\\n</article>\\n\\n<div class=\"kakao_js_key\" data-key=\"\" style=\"display:none;\"></div>\\n<div class=\"apple_client_key\" data-key=\"\" data-url=\"https://onoffmix.com/account/login/apple\" style=\"display:none;\"></div>\\n<div class=\"api_onoffmix_domain\" data-domain=\"https://api.onoffmix.com\" style=\"display:none;\"></div>\\n    <!-- Google Tag Manager (noscript) -->\\n    <noscript><iframe src=\"https://www.googletagmanager.com/ns.html?id=GTM-K5ZBGC5\"\\n                      height=\"0\" width=\"0\" style=\"display:none;visibility:hidden\"></iframe></noscript>\\n    <!-- End Google Tag Manager (noscript) -->\\n    <!-- =================================== Header Start =================================== -->\\n    <header id=\"header\" class=\"header_wrap \">\\n                    <div class=\"header_top wide_max_width_area\">\\n                                <h1 class=\"ofm_logo\" style=\"top:79px;left:6px;\">\\n                                    <a href=\"/\">\\n                        <span class=\"text_logo\">온오프믹스 홈</span>\\n                                                <img src=\"https://static.onoffmix.com/images/pc/ofm_logo.png\" alt=\"ONOFFMIX\">\\n                                            </a>\\n                </h1>\\n\\n                <div class=\"user_area\">\\n                    <ul class=\"service_menu\">\\n                                                    <li class=\"list_item login\"><a href=\"/account/login\">로그인</a></li>\\n                            <li class=\"list_item join\"><a href=\"/account/join\">회원가입</a></li>\\n                                                <li class=\"list_item service\"><a href=\"/service\">서비스안내</a></li>\\n                        <li class=\"list_item customer\"><a href=\"/cs/main\">고객센터</a></li>\\n                    </ul>\\n\\n                    <ul class=\"member_menu\">\\n                        <li class=\"list_item mypage\" tabindex=\"0\">\\n                            <a href=\"/account/main\">마이페이지</a>\\n                            <div class=\"sub_menu\">\\n                                <ul class=\"sub_list mypage_list\">\\n                                    <li><a href=\"/account/login?returnUrl=/account/edit\" class=\"site_link edit\">회원정보수정</a></li>\\n                                    <li><a href=\"/account/login?returnUrl=/account/pass\" class=\"site_link pass\">비밀번호변경</a></li>\\n                                    <li><a href=\"/account/login?returnUrl=/account/event\" class=\"site_link event\">신청내역</a></li>\\n                                    <!-- <li><a href=\"/account/login?returnUrl=/account/payment\" class=\"site_link payment\">결제내역</a></li> -->\\n                                    <li><a href=\"/account/login?returnUrl=/account/pin\" class=\"site_link pin\">관심내역</a></li>\\n                                </ul>\\n                            </div>\\n                        </li>\\n                                                    <li class=\"list_item eventopen\"><a href=\"/event/add\">모임개설</a></li>\\n                                                <li class=\"list_item notice\">\\n                                                        <a href=\"/account/login?returnUrl=/\">알림</a>\\n                                                    </li>\\n                    </ul>\\n                </div>\\n                <div class=\"search_area\">\\n                    <form class=\"search_form\" action=\"/event/main\" method=\"GET\">\\n                        <label for=\"searchInput\">검색할 모임을 입력해주세요.</label>\\n                        <input type=\"text\" id=\"searchInput\" class=\"search_input\" name=\"s\" value=\"\" title=\"키워드로 모임을 검색하세요\" data-event=\"261155\">\\n                                                <span class=\"ofm_keyword_value\"\\n                              data-event_no=\"261155\" data-event_title=\"2022년 민주주의 역사현장 체험\" data-creative_name=\"PC_메인_검색창광고\" data-creative_slot=\"1\">2022년 민주주의 역사현장 체험 →</span>\\n                        <script>\\n                            gtag(\\'event\\', \\'view_promotion\\', {\\n                                \"non_interaction\": true,\\n                                \"promotions\": [\\n                                    {\\n                                        \"id\": \"event_261155\",\\n                                        \"name\": \"event_2022년 민주주의 역사현장 체험\",\\n                                        \"creative_name\": \"PC_메인_검색창광고\",\\n                                        \"creative_slot\": \"1\"\\n                                    }\\n                                ]\\n                            });\\n                        </script>\\n                                                <input type=\"submit\" class=\"btn_search\" value=\"검색\" title=\"검색\">\\n                    </form>\\n                </div>\\n            </div>\\n\\n            <div class=\"header_bottom\">\\n                <div class=\"wide_max_width_area\">\\n                    <div class=\"category_section\">\\n                        <div class=\"title_wrap\">\\n                            <button class=\"btn_category\">카테고리</button>\\n                        </div>\\n                        <div class=\"detail_category\">\\n                            <section class=\"category_event\">\\n                                <ul class=\"list_col\">\\n\\n                                                                            <li class=\"list_item\">\\n                                            <a href=\"/event/main/?c=085\">교육</a>\\n                                        </li>\\n                                                                            <li class=\"list_item\">\\n                                            <a href=\"/event/main/?c=087\">세미나/컨퍼런스</a>\\n                                        </li>\\n                                                                            <li class=\"list_item\">\\n                                            <a href=\"/event/main/?c=086\">강연</a>\\n                                        </li>\\n                                                                            <li class=\"list_item\">\\n                                            <a href=\"/event/main/?c=090\">취미/소모임</a>\\n                                        </li>\\n                                                                            <li class=\"list_item\">\\n                                            <a href=\"/event/main/?c=088\">문화/예술/방송</a>\\n                                        </li>\\n                                                                            <li class=\"list_item\">\\n                                            <a href=\"/event/main/?c=092\">공모전</a>\\n                                        </li>\\n                                                                            <li class=\"list_item\">\\n                                            <a href=\"/event/main/?c=093\">전시/박람회</a>\\n                                        </li>\\n                                                                            <li class=\"list_item\">\\n                                            <a href=\"/event/main/?c=095\">이벤트/파티</a>\\n                                        </li>\\n                                                                            <li class=\"list_item\">\\n                                            <a href=\"/event/main/?c=094\">패션/뷰티</a>\\n                                        </li>\\n                                                                            <li class=\"list_item\">\\n                                            <a href=\"/event/main/?c=096\">기타</a>\\n                                        </li>\\n                                    \\n                                </ul>\\n                                <h1>\\n                                    <a href=\"/event/main\">전체 모임 보기 ></a>\\n                                </h1>\\n                            </section>\\n                        </div>\\n\\n                                                    <div class=\"category_area\">\\n                                <ul class=\"list_col\">\\n                                    <li class=\"looking_for\"></li>\\n\\n                                                                            <li class=\"list_item\">\\n                                            <a class=\"gtag_bn_item_type1\" href=\"/cs/a/75133?url=%2Fevent%2F260283\" target=\"_blank\" title=\"[창업 지원 프로그램] 선배창업자와의 만남 &lt;사이드 프로젝트&gt;\"\\n                                               data-event_no=\"260283\" data-event_title=\"[창업 지원 프로그램] 선배창업자와의 만남 &lt;사이드 프로젝트&gt;\" data-creative_name=\"PC_카테고리_교육_모임\" data-creative_slot=\"1\">\\n                                                <img src=\"https://cfile1.onoffmix.com/images/event/260283/s\" alt=\"[창업 지원 프로그램] 선배창업자와의 만남 &lt;사이드 프로젝트&gt;\">\\n                                            </a>\\n                                        </li>\\n                                                                            <li class=\"list_item\">\\n                                            <a class=\"gtag_bn_item_type1\" href=\"/cs/a/75512?url=%2Fevent%2F260908\" target=\"_blank\" title=\"[인천디자인교육센터] SNS이모티콘 캐릭터디자인\"\\n                                               data-event_no=\"260908\" data-event_title=\"[인천디자인교육센터] SNS이모티콘 캐릭터디자인\" data-creative_name=\"PC_카테고리_교육_모임\" data-creative_slot=\"2\">\\n                                                <img src=\"https://cfile1.onoffmix.com/images/event/260908/s\" alt=\"[인천디자인교육센터] SNS이모티콘 캐릭터디자인\">\\n                                            </a>\\n                                        </li>\\n                                                                            <li class=\"list_item\">\\n                                            <a class=\"gtag_bn_item_type1\" href=\"/cs/a/75261?url=%2Fevent%2F260502\" target=\"_blank\" title=\"2022년 고양 혁신 창업 챌린지 아카데미\"\\n                                               data-event_no=\"260502\" data-event_title=\"2022년 고양 혁신 창업 챌린지 아카데미\" data-creative_name=\"PC_카테고리_교육_모임\" data-creative_slot=\"3\">\\n                                                <img src=\"https://cfile1.onoffmix.com/images/event/260502/s\" alt=\"2022년 고양 혁신 창업 챌린지 아카데미\">\\n                                            </a>\\n                                        </li>\\n                                                                            <li class=\"list_item\">\\n                                            <a class=\"gtag_bn_item_type1\" href=\"/cs/a/72421?url=%2Fevent%2F255290\" target=\"_blank\" title=\"[경기여성무료][유튜브강의] 모바일 마케팅의 모든 것\"\\n                                               data-event_no=\"255290\" data-event_title=\"[경기여성무료][유튜브강의] 모바일 마케팅의 모든 것\" data-creative_name=\"PC_카테고리_교육_모임\" data-creative_slot=\"4\">\\n                                                <img src=\"https://cfile1.onoffmix.com/images/event/255290/s\" alt=\"[경기여성무료][유튜브강의] 모바일 마케팅의 모든 것\">\\n                                            </a>\\n                                        </li>\\n                                                                            <li class=\"see_more\">\\n                                            <a href=\"/event/main?c=085\" class=\"btn_all_event\">더보기\\n                                                <span>></span>\\n                                            </a>\\n                                        </li>\\n                                    \\n                                </ul>\\n                                <div class=\"banner_area\">\\n                                    \\n                                                                            <div class=\"banner_wrapper\">\\n                                            <a class=\"gtag_bn_item_type1\" href=\"/cs/a/74075?url=https%3A%2F%2Fplace.onoffmix.com%2F\" target=\"_blank\" title=\"\"\\n                                               data-event_no=\"out_74075\" data-event_title=\"\" data-creative_name=\"PC_카테고리_교육_하단배너\" data-creative_slot=\"1\">\\n                                                <img src=\"https://cfile1.onoffmix.com/attach/yKiUb635rA0h4YPz28RCSsuZJ7LFTVt1\" alt=\"\">\\n                                            </a>\\n                                        </div>\\n                                    \\n                                </div>\\n                            </div>\\n                                                    <div class=\"category_area\">\\n                                <ul class=\"list_col\">\\n                                    <li class=\"looking_for\"></li>\\n\\n                                                                            <li class=\"list_item\">\\n                                            <a class=\"gtag_bn_item_type1\" href=\"/cs/a/75330?url=%2Fevent%2F260571\" target=\"_blank\" title=\"2022 하반기 빅웨이브 투자유치 IR 참여기업 모집\"\\n                                               data-event_no=\"260571\" data-event_title=\"2022 하반기 빅웨이브 투자유치 IR 참여기업 모집\" data-creative_name=\"PC_카테고리_세미나/컨퍼런스_모임\" data-creative_slot=\"1\">\\n                                                <img src=\"https://cfile1.onoffmix.com/images/event/260571/s\" alt=\"2022 하반기 빅웨이브 투자유치 IR 참여기업 모집\">\\n                                            </a>\\n                                        </li>\\n                                                                            <li class=\"list_item\">\\n                                            <a class=\"gtag_bn_item_type1\" href=\"/cs/a/75235?url=%2Fevent%2F260401\" target=\"_blank\" title=\"제3회 산업기술 R&amp;D 유망기술 발표회\"\\n                                               data-event_no=\"260401\" data-event_title=\"제3회 산업기술 R&amp;D 유망기술 발표회\" data-creative_name=\"PC_카테고리_세미나/컨퍼런스_모임\" data-creative_slot=\"2\">\\n                                                <img src=\"https://cfile1.onoffmix.com/images/event/260401/s\" alt=\"제3회 산업기술 R&amp;D 유망기술 발표회\">\\n                                            </a>\\n                                        </li>\\n                                                                            <li class=\"list_item\">\\n                                            <a class=\"gtag_bn_item_type1\" href=\"/cs/a/75138?url=%2Fevent%2F260277\" target=\"_blank\" title=\"소셜 빅데이터에서 MZ세대 소비 트렌드 발견하기\"\\n                                               data-event_no=\"260277\" data-event_title=\"소셜 빅데이터에서 MZ세대 소비 트렌드 발견하기\" data-creative_name=\"PC_카테고리_세미나/컨퍼런스_모임\" data-creative_slot=\"3\">\\n                                                <img src=\"https://cfile1.onoffmix.com/images/event/260277/s\" alt=\"소셜 빅데이터에서 MZ세대 소비 트렌드 발견하기\">\\n                                            </a>\\n                                        </li>\\n                                                                            <li class=\"list_item\">\\n                                            <a class=\"gtag_bn_item_type1\" href=\"/cs/a/75065?url=%2Fevent%2F260148\" target=\"_blank\" title=\"AWC 2022 in Gwangju\"\\n                                               data-event_no=\"260148\" data-event_title=\"AWC 2022 in Gwangju\" data-creative_name=\"PC_카테고리_세미나/컨퍼런스_모임\" data-creative_slot=\"4\">\\n                                                <img src=\"https://cfile1.onoffmix.com/images/event/260148/s\" alt=\"AWC 2022 in Gwangju\">\\n                                            </a>\\n                                        </li>\\n                                                                            <li class=\"see_more\">\\n                                            <a href=\"/event/main?c=087\" class=\"btn_all_event\">더보기\\n                                                <span>></span>\\n                                            </a>\\n                                        </li>\\n                                    \\n                                </ul>\\n                                <div class=\"banner_area\">\\n                                    \\n                                                                            <div class=\"banner_wrapper\">\\n                                            <a class=\"gtag_bn_item_type1\" href=\"/cs/a/74078?url=https%3A%2F%2Fonoffmix.com%2Fservice%2Fadvert%2Fproduct%2Fpartner%3Fgifticon\" target=\"_blank\" title=\"\"\\n                                               data-event_no=\"out_74078\" data-event_title=\"\" data-creative_name=\"PC_카테고리_세미나/컨퍼런스_하단배너\" data-creative_slot=\"1\">\\n                                                <img src=\"https://cfile1.onoffmix.com/attach/3ekK6TOIwQ0oJEpaiZgMYGDAsqXVulUt\" alt=\"\">\\n                                            </a>\\n                                        </div>\\n                                    \\n                                </div>\\n                            </div>\\n                                                    <div class=\"category_area\">\\n                                <ul class=\"list_col\">\\n                                    <li class=\"looking_for\"></li>\\n\\n                                                                            <li class=\"list_item\">\\n                                            <a class=\"gtag_bn_item_type1\" href=\"/cs/a/75515?url=%2Fevent%2F260867\" target=\"_blank\" title=\"[무료강연회] 제3회 비즈인큐 오프라인 인문학 강연\"\\n                                               data-event_no=\"260867\" data-event_title=\"[무료강연회] 제3회 비즈인큐 오프라인 인문학 강연\" data-creative_name=\"PC_카테고리_강연_모임\" data-creative_slot=\"1\">\\n                                                <img src=\"https://cfile1.onoffmix.com/images/event/260867/s\" alt=\"[무료강연회] 제3회 비즈인큐 오프라인 인문학 강연\">\\n                                            </a>\\n                                        </li>\\n                                                                            <li class=\"list_item\">\\n                                            <a class=\"gtag_bn_item_type1\" href=\"/cs/a/75609?url=%2Fevent%2F261017\" target=\"_blank\" title=\"(K-MOOC) 성균관대학교 스타트업 패키지 무료강좌! OPEN!\"\\n                                               data-event_no=\"261017\" data-event_title=\"(K-MOOC) 성균관대학교 스타트업 패키지 무료강좌! OPEN!\" data-creative_name=\"PC_카테고리_강연_모임\" data-creative_slot=\"2\">\\n                                                <img src=\"https://cfile1.onoffmix.com/images/event/261017/s\" alt=\"(K-MOOC) 성균관대학교 스타트업 패키지 무료강좌! OPEN!\">\\n                                            </a>\\n                                        </li>\\n                                                                            <li class=\"list_item\">\\n                                            <a class=\"gtag_bn_item_type1\" href=\"/cs/a/75552?url=%2Fevent%2F260911\" target=\"_blank\" title=\"[콘텐츠 크리에이티브 콘서트 4회] 보통의\\xa0일상을\\xa0가장\\xa0특별한\\xa0웹툰으로,\\xa0놓지마\\xa0정신줄\\xa0작가\\xa0신태훈\\xa0편\"\\n                                               data-event_no=\"260911\" data-event_title=\"[콘텐츠 크리에이티브 콘서트 4회] 보통의\\xa0일상을\\xa0가장\\xa0특별한\\xa0웹툰으로,\\xa0놓지마\\xa0정신줄\\xa0작가\\xa0신태훈\\xa0편\" data-creative_name=\"PC_카테고리_강연_모임\" data-creative_slot=\"3\">\\n                                                <img src=\"https://cfile1.onoffmix.com/images/event/260911/s\" alt=\"[콘텐츠 크리에이티브 콘서트 4회] 보통의\\xa0일상을\\xa0가장\\xa0특별한\\xa0웹툰으로,\\xa0놓지마\\xa0정신줄\\xa0작가\\xa0신태훈\\xa0편\">\\n                                            </a>\\n                                        </li>\\n                                                                            <li class=\"list_item\">\\n                                            <a class=\"gtag_bn_item_type1\" href=\"/cs/a/75553?url=%2Fevent%2F260938\" target=\"_blank\" title=\"2022 K-모빌리티 포럼 서포터즈 모집\"\\n                                               data-event_no=\"260938\" data-event_title=\"2022 K-모빌리티 포럼 서포터즈 모집\" data-creative_name=\"PC_카테고리_강연_모임\" data-creative_slot=\"4\">\\n                                                <img src=\"https://cfile1.onoffmix.com/images/event/260938/s\" alt=\"2022 K-모빌리티 포럼 서포터즈 모집\">\\n                                            </a>\\n                                        </li>\\n                                                                            <li class=\"see_more\">\\n                                            <a href=\"/event/main?c=086\" class=\"btn_all_event\">더보기\\n                                                <span>></span>\\n                                            </a>\\n                                        </li>\\n                                    \\n                                </ul>\\n                                <div class=\"banner_area\">\\n                                    \\n                                                                            <div class=\"banner_wrapper\">\\n                                            <a class=\"gtag_bn_item_type1\" href=\"/cs/a/74080?url=https%3A%2F%2Fonoffmix.com%2Fservice%2Fadvert%2Fproduct%2Fpartner%3F39degree\" target=\"_blank\" title=\"\"\\n                                               data-event_no=\"out_74080\" data-event_title=\"\" data-creative_name=\"PC_카테고리_강연_하단배너\" data-creative_slot=\"1\">\\n                                                <img src=\"https://cfile1.onoffmix.com/attach/C4Hq6GSw9iXLfVDANaKnWIOyQP237RhY\" alt=\"\">\\n                                            </a>\\n                                        </div>\\n                                    \\n                                </div>\\n                            </div>\\n                                                    <div class=\"category_area\">\\n                                <ul class=\"list_col\">\\n                                    <li class=\"looking_for\"></li>\\n\\n                                                                            <li class=\"list_item\">\\n                                            <a class=\"gtag_bn_item_type1\" href=\"/cs/a/74298?url=%2Fevent%2F258612\" target=\"_blank\" title=\"코디영 3기를모집합니다.\"\\n                                               data-event_no=\"258612\" data-event_title=\"코디영 3기를모집합니다.\" data-creative_name=\"PC_카테고리_취미/소모임_모임\" data-creative_slot=\"1\">\\n                                                <img src=\"https://cfile1.onoffmix.com/images/event/258612/s\" alt=\"코디영 3기를모집합니다.\">\\n                                            </a>\\n                                        </li>\\n                                                                            <li class=\"list_item\">\\n                                            <a class=\"gtag_bn_item_type1\" href=\"/cs/a/75268?url=%2Fevent%2F260469\" target=\"_blank\" title=\"[중년을 위한 교육] 영화제작의 요모조모\"\\n                                               data-event_no=\"260469\" data-event_title=\"[중년을 위한 교육] 영화제작의 요모조모\" data-creative_name=\"PC_카테고리_취미/소모임_모임\" data-creative_slot=\"2\">\\n                                                <img src=\"https://cfile1.onoffmix.com/images/event/260469/s\" alt=\"[중년을 위한 교육] 영화제작의 요모조모\">\\n                                            </a>\\n                                        </li>\\n                                                                            <li class=\"list_item\">\\n                                            <a class=\"gtag_bn_item_type1\" href=\"/cs/a/75554?url=%2Fevent%2F260931\" target=\"_blank\" title=\"NFT가 무엇인지도 모르는 입문자가 오픈씨(OpenSea)에 직접 작품 민팅(업로드)까지 배울 수 있는 무료 스터디\"\\n                                               data-event_no=\"260931\" data-event_title=\"NFT가 무엇인지도 모르는 입문자가 오픈씨(OpenSea)에 직접 작품 민팅(업로드)까지 배울 수 있는 무료 스터디\" data-creative_name=\"PC_카테고리_취미/소모임_모임\" data-creative_slot=\"3\">\\n                                                <img src=\"https://cfile1.onoffmix.com/images/event/260931/s\" alt=\"NFT가 무엇인지도 모르는 입문자가 오픈씨(OpenSea)에 직접 작품 민팅(업로드)까지 배울 수 있는 무료 스터디\">\\n                                            </a>\\n                                        </li>\\n                                                                            <li class=\"list_item\">\\n                                            <a class=\"gtag_bn_item_type1\" href=\"/cs/a/75381?url=%2Fevent%2F260698\" target=\"_blank\" title=\"‘흐름 대학생 싱크탱크 1기’를 모집합니다!\"\\n                                               data-event_no=\"260698\" data-event_title=\"‘흐름 대학생 싱크탱크 1기’를 모집합니다!\" data-creative_name=\"PC_카테고리_취미/소모임_모임\" data-creative_slot=\"4\">\\n                                                <img src=\"https://cfile1.onoffmix.com/images/event/260698/s\" alt=\"‘흐름 대학생 싱크탱크 1기’를 모집합니다!\">\\n                                            </a>\\n                                        </li>\\n                                                                            <li class=\"see_more\">\\n                                            <a href=\"/event/main?c=090\" class=\"btn_all_event\">더보기\\n                                                <span>></span>\\n                                            </a>\\n                                        </li>\\n                                    \\n                                </ul>\\n                                <div class=\"banner_area\">\\n                                    \\n                                                                            <div class=\"banner_wrapper\">\\n                                            <a class=\"gtag_bn_item_type1\" href=\"/cs/a/74081?url=https%3A%2F%2Fonoffmix.com%2Fch%2Fevent\" target=\"_blank\" title=\"\"\\n                                               data-event_no=\"out_74081\" data-event_title=\"\" data-creative_name=\"PC_카테고리_취미/소모임_하단배너\" data-creative_slot=\"1\">\\n                                                <img src=\"https://cfile1.onoffmix.com/attach/CNxIGHL06a2eVh9RvmiytUdK7JPBnfAF\" alt=\"\">\\n                                            </a>\\n                                        </div>\\n                                    \\n                                </div>\\n                            </div>\\n                                                    <div class=\"category_area\">\\n                                <ul class=\"list_col\">\\n                                    <li class=\"looking_for\"></li>\\n\\n                                                                            <li class=\"list_item\">\\n                                            <a class=\"gtag_bn_item_type1\" href=\"/cs/a/75334?url=%2Fevent%2F260595\" target=\"_blank\" title=\"색연필 민화 그리기 수업\"\\n                                               data-event_no=\"260595\" data-event_title=\"색연필 민화 그리기 수업\" data-creative_name=\"PC_카테고리_문화/예술/방송_모임\" data-creative_slot=\"1\">\\n                                                <img src=\"https://cfile1.onoffmix.com/images/event/260595/s\" alt=\"색연필 민화 그리기 수업\">\\n                                            </a>\\n                                        </li>\\n                                                                            <li class=\"list_item\">\\n                                            <a class=\"gtag_bn_item_type1\" href=\"/cs/a/75452?url=%2Fevent%2F260766\" target=\"_blank\" title=\"PCCN Summit (2022 PCCN 써밋)\"\\n                                               data-event_no=\"260766\" data-event_title=\"PCCN Summit (2022 PCCN 써밋)\" data-creative_name=\"PC_카테고리_문화/예술/방송_모임\" data-creative_slot=\"2\">\\n                                                <img src=\"https://cfile1.onoffmix.com/images/event/260766/s\" alt=\"PCCN Summit (2022 PCCN 써밋)\">\\n                                            </a>\\n                                        </li>\\n                                                                            <li class=\"list_item\">\\n                                            <a class=\"gtag_bn_item_type1\" href=\"/cs/a/75610?url=%2Fevent%2F261117\" target=\"_blank\" title=\"안녕; 어제 쓰고 오늘 보낸\"\\n                                               data-event_no=\"261117\" data-event_title=\"안녕; 어제 쓰고 오늘 보낸\" data-creative_name=\"PC_카테고리_문화/예술/방송_모임\" data-creative_slot=\"3\">\\n                                                <img src=\"https://cfile1.onoffmix.com/images/event/261117/s\" alt=\"안녕; 어제 쓰고 오늘 보낸\">\\n                                            </a>\\n                                        </li>\\n                                                                            <li class=\"list_item\">\\n                                            <a class=\"gtag_bn_item_type1\" href=\"/cs/a/75185?url=%2Fevent%2F260383\" target=\"_blank\" title=\"제14회\\xa0DMZ국제다큐멘터리영화제 자원활동가 다큐즈\\xa0모집 (~8/24)\"\\n                                               data-event_no=\"260383\" data-event_title=\"제14회\\xa0DMZ국제다큐멘터리영화제 자원활동가 다큐즈\\xa0모집 (~8/24)\" data-creative_name=\"PC_카테고리_문화/예술/방송_모임\" data-creative_slot=\"4\">\\n                                                <img src=\"https://cfile1.onoffmix.com/images/event/260383/s\" alt=\"제14회\\xa0DMZ국제다큐멘터리영화제 자원활동가 다큐즈\\xa0모집 (~8/24)\">\\n                                            </a>\\n                                        </li>\\n                                                                            <li class=\"see_more\">\\n                                            <a href=\"/event/main?c=088\" class=\"btn_all_event\">더보기\\n                                                <span>></span>\\n                                            </a>\\n                                        </li>\\n                                    \\n                                </ul>\\n                                <div class=\"banner_area\">\\n                                    \\n                                                                            <div class=\"banner_wrapper\">\\n                                            <a class=\"gtag_bn_item_type1\" href=\"/cs/a/74083?url=https%3A%2F%2Fonoffmix.com%2Fch%2Fguide\" target=\"_blank\" title=\"\"\\n                                               data-event_no=\"out_74083\" data-event_title=\"\" data-creative_name=\"PC_카테고리_문화/예술/방송_하단배너\" data-creative_slot=\"1\">\\n                                                <img src=\"https://cfile1.onoffmix.com/attach/m5RTHZLaS6Eb7lMnxrqw9oU2yjYJsCcD\" alt=\"\">\\n                                            </a>\\n                                        </div>\\n                                    \\n                                </div>\\n                            </div>\\n                                                    <div class=\"category_area\">\\n                                <ul class=\"list_col\">\\n                                    <li class=\"looking_for\"></li>\\n\\n                                                                            <li class=\"list_item\">\\n                                            <a class=\"gtag_bn_item_type1\" href=\"/cs/a/74033?url=%2Fevent%2F258100\" target=\"_blank\" title=\"2022년 우수환경도서 독후감 공모대회\"\\n                                               data-event_no=\"258100\" data-event_title=\"2022년 우수환경도서 독후감 공모대회\" data-creative_name=\"PC_카테고리_공모전_모임\" data-creative_slot=\"1\">\\n                                                <img src=\"https://cfile1.onoffmix.com/images/event/258100/s\" alt=\"2022년 우수환경도서 독후감 공모대회\">\\n                                            </a>\\n                                        </li>\\n                                                                            <li class=\"list_item\">\\n                                            <a class=\"gtag_bn_item_type1\" href=\"/cs/a/75611?url=%2Fevent%2F261074\" target=\"_blank\" title=\"대덕SW마이스터고 제4회 중학생 알고리즘 경진대회\"\\n                                               data-event_no=\"261074\" data-event_title=\"대덕SW마이스터고 제4회 중학생 알고리즘 경진대회\" data-creative_name=\"PC_카테고리_공모전_모임\" data-creative_slot=\"2\">\\n                                                <img src=\"https://cfile1.onoffmix.com/images/event/261074/s\" alt=\"대덕SW마이스터고 제4회 중학생 알고리즘 경진대회\">\\n                                            </a>\\n                                        </li>\\n                                                                            <li class=\"list_item\">\\n                                            <a class=\"gtag_bn_item_type1\" href=\"/cs/a/75187?url=%2Fevent%2F260336\" target=\"_blank\" title=\"2022년 디지털 윤리 창작콘텐츠 공모전\"\\n                                               data-event_no=\"260336\" data-event_title=\"2022년 디지털 윤리 창작콘텐츠 공모전\" data-creative_name=\"PC_카테고리_공모전_모임\" data-creative_slot=\"3\">\\n                                                <img src=\"https://cfile1.onoffmix.com/images/event/260336/s\" alt=\"2022년 디지털 윤리 창작콘텐츠 공모전\">\\n                                            </a>\\n                                        </li>\\n                                                                            <li class=\"list_item\">\\n                                            <a class=\"gtag_bn_item_type1\" href=\"/cs/a/74875?url=%2Fevent%2F259727\" target=\"_blank\" title=\"2022 파주시 도시재생 아이디어&amp;문산 사진 공모전\"\\n                                               data-event_no=\"259727\" data-event_title=\"2022 파주시 도시재생 아이디어&amp;문산 사진 공모전\" data-creative_name=\"PC_카테고리_공모전_모임\" data-creative_slot=\"4\">\\n                                                <img src=\"https://cfile1.onoffmix.com/images/event/259727/s\" alt=\"2022 파주시 도시재생 아이디어&amp;문산 사진 공모전\">\\n                                            </a>\\n                                        </li>\\n                                                                            <li class=\"see_more\">\\n                                            <a href=\"/event/main?c=092\" class=\"btn_all_event\">더보기\\n                                                <span>></span>\\n                                            </a>\\n                                        </li>\\n                                    \\n                                </ul>\\n                                <div class=\"banner_area\">\\n                                    \\n                                                                            <div class=\"banner_wrapper\">\\n                                            <a class=\"gtag_bn_item_type1\" href=\"/cs/a/74085?url=https%3A%2F%2Fonoffmix.com%2Fservice%2Fadvert%2Fproduct%2Fpartner%3Fgifticon\" target=\"_blank\" title=\"\"\\n                                               data-event_no=\"out_74085\" data-event_title=\"\" data-creative_name=\"PC_카테고리_공모전_하단배너\" data-creative_slot=\"1\">\\n                                                <img src=\"https://cfile1.onoffmix.com/attach/SmFrjYB9at0vTsfgyUlk3KnRDCqzhGXV\" alt=\"\">\\n                                            </a>\\n                                        </div>\\n                                    \\n                                </div>\\n                            </div>\\n                                                    <div class=\"category_area\">\\n                                <ul class=\"list_col\">\\n                                    <li class=\"looking_for\"></li>\\n\\n                                                                            <li class=\"list_item\">\\n                                            <a class=\"gtag_bn_item_type1\" href=\"/cs/a/73365?url=%2Fevent%2F256724\" target=\"_blank\" title=\"국내외 유통산업 트렌드를 선도하는 비즈니스 플랫폼! 2022 스마트 상점 · 리테일 엑스포\"\\n                                               data-event_no=\"256724\" data-event_title=\"국내외 유통산업 트렌드를 선도하는 비즈니스 플랫폼! 2022 스마트 상점 · 리테일 엑스포\" data-creative_name=\"PC_카테고리_전시/박람회_모임\" data-creative_slot=\"1\">\\n                                                <img src=\"https://cfile1.onoffmix.com/images/event/256724/s\" alt=\"국내외 유통산업 트렌드를 선도하는 비즈니스 플랫폼! 2022 스마트 상점 · 리테일 엑스포\">\\n                                            </a>\\n                                        </li>\\n                                                                            <li class=\"list_item\">\\n                                            <a class=\"gtag_bn_item_type1\" href=\"/cs/a/75555?url=%2Fevent%2F260975\" target=\"_blank\" title=\"조혜인 : 초화\"\\n                                               data-event_no=\"260975\" data-event_title=\"조혜인 : 초화\" data-creative_name=\"PC_카테고리_전시/박람회_모임\" data-creative_slot=\"2\">\\n                                                <img src=\"https://cfile1.onoffmix.com/images/event/260975/s\" alt=\"조혜인 : 초화\">\\n                                            </a>\\n                                        </li>\\n                                                                            <li class=\"list_item\">\\n                                            <a class=\"gtag_bn_item_type1\" href=\"/cs/a/75613?url=%2Fevent%2F261160\" target=\"_blank\" title=\"[2022 K-BEAUTY EXPO KOREA] 제 14회 대한민국 뷰티박람회\"\\n                                               data-event_no=\"261160\" data-event_title=\"[2022 K-BEAUTY EXPO KOREA] 제 14회 대한민국 뷰티박람회\" data-creative_name=\"PC_카테고리_전시/박람회_모임\" data-creative_slot=\"3\">\\n                                                <img src=\"https://cfile1.onoffmix.com/images/event/261160/s\" alt=\"[2022 K-BEAUTY EXPO KOREA] 제 14회 대한민국 뷰티박람회\">\\n                                            </a>\\n                                        </li>\\n                                                                            <li class=\"list_item\">\\n                                            <a class=\"gtag_bn_item_type1\" href=\"/cs/a/74940?url=%2Fevent%2F259902\" target=\"_blank\" title=\"NTB 메타버스 기술이전 전시회 (인공지능, IT 분야 기술)\"\\n                                               data-event_no=\"259902\" data-event_title=\"NTB 메타버스 기술이전 전시회 (인공지능, IT 분야 기술)\" data-creative_name=\"PC_카테고리_전시/박람회_모임\" data-creative_slot=\"4\">\\n                                                <img src=\"https://cfile1.onoffmix.com/images/event/259902/s\" alt=\"NTB 메타버스 기술이전 전시회 (인공지능, IT 분야 기술)\">\\n                                            </a>\\n                                        </li>\\n                                                                            <li class=\"see_more\">\\n                                            <a href=\"/event/main?c=093\" class=\"btn_all_event\">더보기\\n                                                <span>></span>\\n                                            </a>\\n                                        </li>\\n                                    \\n                                </ul>\\n                                <div class=\"banner_area\">\\n                                    \\n                                                                            <div class=\"banner_wrapper\">\\n                                            <a class=\"gtag_bn_item_type1\" href=\"/cs/a/74088?url=https%3A%2F%2Fonoffmix.com%2Fservice%2Fadvert%2Fproduct%2Fpartner%3Fgovent\" target=\"_blank\" title=\"\"\\n                                               data-event_no=\"out_74088\" data-event_title=\"\" data-creative_name=\"PC_카테고리_전시/박람회_하단배너\" data-creative_slot=\"1\">\\n                                                <img src=\"https://cfile1.onoffmix.com/attach/dNB8J6cLCeMEfQ7wo1nq4RPaObyT2zip\" alt=\"\">\\n                                            </a>\\n                                        </div>\\n                                    \\n                                </div>\\n                            </div>\\n                                                    <div class=\"category_area\">\\n                                <ul class=\"list_col\">\\n                                    <li class=\"looking_for\"></li>\\n\\n                                    \\n                                </ul>\\n                                <div class=\"banner_area\">\\n                                    \\n                                    \\n                                </div>\\n                            </div>\\n                                                    <div class=\"category_area\">\\n                                <ul class=\"list_col\">\\n                                    <li class=\"looking_for\"></li>\\n\\n                                    \\n                                </ul>\\n                                <div class=\"banner_area\">\\n                                    \\n                                    \\n                                </div>\\n                            </div>\\n                                                    <div class=\"category_area\">\\n                                <ul class=\"list_col\">\\n                                    <li class=\"looking_for\"></li>\\n\\n                                                                            <li class=\"list_item\">\\n                                            <a class=\"gtag_bn_item_type1\" href=\"/cs/a/75520?url=%2Fevent%2F260827\" target=\"_blank\" title=\"~ 단디벤처포럼 콘텐츠마케터 대모집 ~\"\\n                                               data-event_no=\"260827\" data-event_title=\"~ 단디벤처포럼 콘텐츠마케터 대모집 ~\" data-creative_name=\"PC_카테고리_기타_모임\" data-creative_slot=\"1\">\\n                                                <img src=\"https://cfile1.onoffmix.com/images/event/260827/s\" alt=\"~ 단디벤처포럼 콘텐츠마케터 대모집 ~\">\\n                                            </a>\\n                                        </li>\\n                                                                            <li class=\"list_item\">\\n                                            <a class=\"gtag_bn_item_type1\" href=\"/cs/a/75028?url=%2Fevent%2F260048\" target=\"_blank\" title=\"실전 심화 교육 \\'온라인 유통 마케팅\\'\"\\n                                               data-event_no=\"260048\" data-event_title=\"실전 심화 교육 온라인 유통 마케팅\" data-creative_name=\"PC_카테고리_기타_모임\" data-creative_slot=\"2\">\\n                                                <img src=\"https://cfile1.onoffmix.com/images/event/260048/s\" alt=\"실전 심화 교육 \\'온라인 유통 마케팅\\'\">\\n                                            </a>\\n                                        </li>\\n                                                                            <li class=\"list_item\">\\n                                            <a class=\"gtag_bn_item_type1\" href=\"/cs/a/75614?url=%2Fevent%2F261147\" target=\"_blank\" title=\"2022년\\xa0『경남관광 인플루언서 양성교육(하반기)』참여자 모집 (~09.13 18:00까지)\"\\n                                               data-event_no=\"261147\" data-event_title=\"2022년\\xa0『경남관광 인플루언서 양성교육(하반기)』참여자 모집 (~09.13 18:00까지)\" data-creative_name=\"PC_카테고리_기타_모임\" data-creative_slot=\"3\">\\n                                                <img src=\"https://cfile1.onoffmix.com/images/event/261147/s\" alt=\"2022년\\xa0『경남관광 인플루언서 양성교육(하반기)』참여자 모집 (~09.13 18:00까지)\">\\n                                            </a>\\n                                        </li>\\n                                                                            <li class=\"list_item\">\\n                                            <a class=\"gtag_bn_item_type1\" href=\"/cs/a/75076?url=%2Fevent%2F260169\" target=\"_blank\" title=\"KAFA+ 영화인교육 11차 교육생 모집 공고 - &lt;포스트 코로나19 영화시장 분석&gt; _온라인 비대면 강의\"\\n                                               data-event_no=\"260169\" data-event_title=\"KAFA+ 영화인교육 11차 교육생 모집 공고 - &lt;포스트 코로나19 영화시장 분석&gt; _온라인 비대면 강의\" data-creative_name=\"PC_카테고리_기타_모임\" data-creative_slot=\"4\">\\n                                                <img src=\"https://cfile1.onoffmix.com/images/event/260169/s\" alt=\"KAFA+ 영화인교육 11차 교육생 모집 공고 - &lt;포스트 코로나19 영화시장 분석&gt; _온라인 비대면 강의\">\\n                                            </a>\\n                                        </li>\\n                                                                            <li class=\"see_more\">\\n                                            <a href=\"/event/main?c=096\" class=\"btn_all_event\">더보기\\n                                                <span>></span>\\n                                            </a>\\n                                        </li>\\n                                    \\n                                </ul>\\n                                <div class=\"banner_area\">\\n                                    \\n                                                                            <div class=\"banner_wrapper\">\\n                                            <a class=\"gtag_bn_item_type1\" href=\"/cs/a/74089?url=https%3A%2F%2Fonoffmix.com%2Fch%2Fguide\" target=\"_blank\" title=\"\"\\n                                               data-event_no=\"out_74089\" data-event_title=\"\" data-creative_name=\"PC_카테고리_기타_하단배너\" data-creative_slot=\"1\">\\n                                                <img src=\"https://cfile1.onoffmix.com/attach/6FTEJVQtL7PfX54WOlUBI8hzK1Hjy0Sg\" alt=\"\">\\n                                            </a>\\n                                        </div>\\n                                    \\n                                </div>\\n                            </div>\\n                        \\n                    </div>\\n                </div>\\n                <div class=\"wide_max_width_area\">\\n                    <div class=\"right_section\">\\n                        <!-- link section -->\\n                        <div class=\"link_section\">\\n\\n                            \\n                            <a href=\"/prom/exhibition\" class=\"link_item exhibition\" data-c=\"b09b92031\">기획전</a>\\n                            <a href=\"/ch\" class=\"link_item channel\" data-c=\"b09b92041\">채널</a>\\n                        </div>\\n\\n                        <!-- partner center -->\\n                        <div class=\"partner_center_body\">\\n                            <a href=\"/service/advert/product/partner\" class=\"partner\" target=\"_blank\">파트너센터</a>\\n                            <div class=\"partner_center\">\\n                                <div class=\"place\">\\n                                    <a href=\"https://place.onoffmix.com\" class=\"btn_place\" target=\"_blank\"></a>\\n                                    <a href=\"https://place.onoffmix.com\" target=\"_blank\">모임에 딱 맞는 공간</a>\\n                                </div>\\n                                <div class=\"govent\">\\n                                    <a href=\"/service/advert/product/partner?govent\" class=\"btn_govent\" target=\"_blank\"></a>\\n                                    <a href=\"/service/advert/product/partner?govent\" data-new target=\"_blank\">가상공간 컨퍼런스</a>\\n                                </div>\\n                                <div class=\"lilay\">\\n                                    <a href=\"/service/advert/product/partner?39degree\" class=\"btn_lilay\" target=\"_blank\"></a>\\n                                    <a href=\"/service/advert/product/partner?39degree\" target=\"_blank\">라이브 스트리밍</a>\\n                                </div>\\n                                <div class=\"yamyam\">\\n                                    <a href=\"/service/advert/product/partner?yamyam\" class=\"btn_yamyam\" target=\"_blank\"></a>\\n                                    <a href=\"/service/advert/product/partner?yamyam\" data-new target=\"_blank\">영상 촬영/제작</a>\\n                                </div>\\n                                <div class=\"readyplay\">\\n                                    <a href=\"/service/advert/product/partner?readyplay\" class=\"btn_xsync\" target=\"_blank\"></a>\\n                                    <a href=\"/service/advert/product/partner?readyplay\" data-new target=\"_blank\">메타버스 플랫폼</a>\\n                                </div>\\n                                <div class=\"sendy\">\\n                                    <a href=\"https://sendy.ai/onoffmix\" class=\"btn_sendy\" target=\"_blank\"></a>\\n                                    <a href=\"https://sendy.ai/onoffmix\" target=\"_blank\">화물용달 서비스</a>\\n                                </div>\\n                                <div class=\"gifticon\">\\n                                    <a href=\"/service/advert/product/partner?gifticon\" class=\"btn_gifticon\" target=\"_blank\"></a>\\n                                    <a href=\"/service/advert/product/partner?gifticon\" target=\"_blank\">모바일 쿠폰 발송</a>\\n                                </div>\\n                                <div class=\"circle\">\\n                                    <a href=\"/service/advert/product/partner?circle\" class=\"btn_circle\" target=\"_blank\"></a>\\n                                    <a href=\"/service/advert/product/partner?circle\" target=\"_blank\">모임 기획/운영</a>\\n                                </div>\\n                            </div>\\n                        </div>\\n\\n                        <!---->\\n\\n                        <!-- lanking event -->\\n                        <div class=\"event_ranking\">\\n                            <div class=\"visible_lanking\">\\n                                <span class=\"ranking_number\"></span>\\n                                <span class=\"event_title\"></span>\\n                            </div>\\n                            <div class=\"detail_ranking_area\">\\n                                <h2>실시간 <span class=\"date_time\">2022.8.22</span></h2>\\n                                <ol class=\"ranking_list\">\\n                                                                        <li class=\"visible\">\\n                                        <a href=\"/event/260994\" title=\"OSBC 8월 오픈소스 웨비나\">\\n                                            <span class=\"ranking_number\">1</span>\\n                                            <span class=\"event_title\"> OSBC 8월 오픈소스 웨비나</span>\\n                                            <span class=\"ranking_status up\">새로운 순위</span>\\n                                        </a>\\n                                    </li>\\n                                                                    <li class=\"\">\\n                                        <a href=\"/event/261023\" title=\"(무료 설명회) 앵콜!! 이탈리아 병행수입!! 쉽고 저렴하게\">\\n                                            <span class=\"ranking_number\">2</span>\\n                                            <span class=\"event_title\"> (무료 설명회) 앵콜!! 이탈리아 병행수입!! 쉽고 저렴하게</span>\\n                                            <span class=\"ranking_status down\">새로운 순위</span>\\n                                        </a>\\n                                    </li>\\n                                                                    <li class=\"\">\\n                                        <a href=\"/event/260235\" title=\"(34차) 글쓰기가 두려운 당신을 위한 아주 쉬운 씀\">\\n                                            <span class=\"ranking_number\">3</span>\\n                                            <span class=\"event_title\"> (34차) 글쓰기가 두려운 당신을 위한 아주 쉬운 씀</span>\\n                                            <span class=\"ranking_status up\">새로운 순위</span>\\n                                        </a>\\n                                    </li>\\n                                                                    <li class=\"\">\\n                                        <a href=\"/event/260123\" title=\"첨단반도체 패키징 국회포럼\">\\n                                            <span class=\"ranking_number\">4</span>\\n                                            <span class=\"event_title\"> 첨단반도체 패키징 국회포럼</span>\\n                                            <span class=\"ranking_status new\">새로운 순위</span>\\n                                        </a>\\n                                    </li>\\n                                                                    <li class=\"\">\\n                                        <a href=\"/event/259185\" title=\"[\\'22년 8월_일산_상시 ] 정효정 코칭\">\\n                                            <span class=\"ranking_number\">5</span>\\n                                            <span class=\"event_title\"> [\\'22년 8월_일산_상시 ] 정효정 코칭</span>\\n                                            <span class=\"ranking_status new\">새로운 순위</span>\\n                                        </a>\\n                                    </li>\\n                                                                    <li class=\"\">\\n                                        <a href=\"/event/260260\" title=\"[한국관광공사] 관광 신직무 교육: 내일은 로컬 크리에이터\">\\n                                            <span class=\"ranking_number\">6</span>\\n                                            <span class=\"event_title\"> [한국관광공사] 관광 신직무 교육: 내일은 로컬 크리에이터</span>\\n                                            <span class=\"ranking_status new\">새로운 순위</span>\\n                                        </a>\\n                                    </li>\\n                                                                    <li class=\"\">\\n                                        <a href=\"/event/260751\" title=\"AI 서울 포럼 2022\">\\n                                            <span class=\"ranking_number\">7</span>\\n                                            <span class=\"event_title\"> AI 서울 포럼 2022</span>\\n                                            <span class=\"ranking_status up\">새로운 순위</span>\\n                                        </a>\\n                                    </li>\\n                                                                    <li class=\"\">\\n                                        <a href=\"/event/261021\" title=\"한국콘텐츠진흥원 콘텐츠일자리센터 취업스터디 (게임/IT/캐릭터) 모집\">\\n                                            <span class=\"ranking_number\">8</span>\\n                                            <span class=\"event_title\"> 한국콘텐츠진흥원 콘텐츠일자리센터 취업스터디 (게임/IT/캐릭터) 모집</span>\\n                                            <span class=\"ranking_status up\">새로운 순위</span>\\n                                        </a>\\n                                    </li>\\n                                                                    <li class=\"\">\\n                                        <a href=\"/event/251258\" title=\"[무료] 17만원 상당 무자본창업 PDF 소책자 무료증정!\">\\n                                            <span class=\"ranking_number\">9</span>\\n                                            <span class=\"event_title\"> [무료] 17만원 상당 무자본창업 PDF 소책자 무료증정!</span>\\n                                            <span class=\"ranking_status new\">새로운 순위</span>\\n                                        </a>\\n                                    </li>\\n                                                                    <li class=\"\">\\n                                        <a href=\"/event/211441\" title=\"한토공 한국토지투자배우기 부자공부(경기도 토지)\">\\n                                            <span class=\"ranking_number\">10</span>\\n                                            <span class=\"event_title\"> 한토공 한국토지투자배우기 부자공부(경기도 토지)</span>\\n                                            <span class=\"ranking_status up\">새로운 순위</span>\\n                                        </a>\\n                                    </li>\\n                                                            </ol>\\n                        </div>\\n                    </div>\\n                </div>\\n            </div>\\n\\n                        <div class=\"talk_consult_btn\">\\n                <a href=\"https://www.thecloudgate.io/kakao/chat/open?plusFriendId=%40%EC%98%A8%EC%98%A4%ED%94%84%EB%AF%B9%EC%8A%A4&brandId=5068\" title=\"상담톡\" target=\"_blank\">클라우드게이트 톡상담</a>\\n            </div>\\n            <div class=\"chat_bot_btn\">\\n                <a href=\"\" title=\"챗봇 문의\" onclick=\"window.open(\\'https://www.thecloudgate.io/webchat/main?brandKey=TUdr1BOzsIT3C2q3CavtlQ&type=scenario\\', \\'챗봇 문의\\', \\'width=400, height=900, menubar=no, status=no, toolbar=no\\'); return false;\">챗봇</a>\\n            </div>\\n                        </header>\\n\\n\\t\\t\\t\\t\\t\\t\\t\\t\\t    <!-- =================================== Main Start =================================== -->\\n    <main id=\"content\" class=\"main\">\\n\\n        <!-- =================================== 최근본기록 Start =================================== -->\\n        <div class=\"today_seen_menu\" >\\n            <div class=\"wing_position\">\\n                <section class=\"today_seen\">\\n                    <div class=\"title_area\">\\n                        <h1 class=\"title\">최근 본 모임</h1>\\n                    </div>\\n                                            <p class=\"none_list\">최근 본 모임이<br>없습니다.</p>\\n                                        <ul class=\"today_list\">\\n                                            </ul>\\n\\n                    <!-- 모임리스트가 없을경우 .paging_area > * 안에 요소들 모두 none처리됨 -->\\n                    <div class=\"paging_area\">\\n                                            </div>\\n\\n                    <a href=\"/newsletter\" target=\"_blank\"><img src=\"/static_html/images/newsletter/sidebar_newsletter_1.png\" alt=\"뉴스레터 구독\"></a>\\n                </section>\\n            </div>\\n        </div>\\n        <!-- =================================== 최근본기록 End =================================== -->\\n        \\n        <!-- Tap silder -->\\n        <section class=\"section_main_banner slider-rotate\">\\n            <!-- 최소/최대 5구좌 -->\\n            <div class=\"banner_main slider-rotate__container\">\\n                                                                                                    <a class=\"item slider-rotate__item gtag_bn_item_type1\" href=\"/cs/a/74178?url=%2Fevent%2F258569\" target=\"_blank\" title=\"KAIST 바이오혁신경영전문대학원 2023학년도 봄학기 신입생 모집\" data-c=\"9db3fb7e1\"\\n                    data-event_no=\"258569\" data-event_title=\"KAIST 바이오혁신경영전문대학원 2023학년도 봄학기 신입생 모집\" data-creative_name=\"PC_메인_상단배너 타입1\" data-creative_slot=\"1\">\\n                    <img src=\"https://cfile1.onoffmix.com/attach/ZGT9ABwoFIkfOdyljrLCM1aiYSc8QRWt\" alt=\"KAIST 바이오혁신경영전문대학원 2023학년도 봄학기 신입생 모집\">\\n                </a>\\n                                                                    <a class=\"item slider-rotate__item gtag_bn_item_type1\" href=\"/cs/a/74891?url=%2Fevent%2F260638\" target=\"_blank\" title=\"2022 일·생활 균형 사진·영상 공모전\" data-c=\"9db3fb7e2\"\\n                    data-event_no=\"260638\" data-event_title=\"2022 일·생활 균형 사진·영상 공모전\" data-creative_name=\"PC_메인_상단배너 타입1\" data-creative_slot=\"2\">\\n                    <img src=\"https://cfile1.onoffmix.com/attach/GQPpMOZ8KehA2Cuj1TDSLd95VzXRIUf3\" alt=\"2022 일·생활 균형 사진·영상 공모전\">\\n                </a>\\n                                                                    <a class=\"item slider-rotate__item gtag_bn_item_type1\" href=\"/cs/a/75081?url=%2Fevent%2F260586\" target=\"_blank\" title=\"NFT를 활용한 커뮤니티 제작 및 기업 매니지먼트 과정\" data-c=\"9db3fb7e3\"\\n                    data-event_no=\"260586\" data-event_title=\"NFT를 활용한 커뮤니티 제작 및 기업 매니지먼트 과정\" data-creative_name=\"PC_메인_상단배너 타입1\" data-creative_slot=\"3\">\\n                    <img src=\"https://cfile1.onoffmix.com/attach/H4YeSdZUmgKVwfqilPN5Qr0JnupLGXsI\" alt=\"NFT를 활용한 커뮤니티 제작 및 기업 매니지먼트 과정\">\\n                </a>\\n                                                                    <a class=\"item slider-rotate__item gtag_bn_item_type1\" href=\"/cs/a/74766?url=%2Fevent%2F259788\" target=\"_blank\" title=\"[T아카데미] ASAC 교육생 모집 - 데이터 분석 / 웹풀스택 개발\" data-c=\"9db3fb7e4\"\\n                    data-event_no=\"259788\" data-event_title=\"[T아카데미] ASAC 교육생 모집 - 데이터 분석 / 웹풀스택 개발\" data-creative_name=\"PC_메인_상단배너 타입1\" data-creative_slot=\"4\">\\n                    <img src=\"https://cfile1.onoffmix.com/attach/d4cAw6xBQk7PzTURmnI0irjlvyqu8Yfg\" alt=\"[T아카데미] ASAC 교육생 모집 - 데이터 분석 / 웹풀스택 개발\">\\n                </a>\\n                                                                    <a class=\"item slider-rotate__item gtag_bn_item_type1\" href=\"/cs/a/74924?url=%2Fevent%2F260284\" target=\"_blank\" title=\"[AI양재허브] AI 양재 허브 x DRB 오픈이노베이션 및 테스트베드 연계 프로그램 참가팀 모집(~8/28)\" data-c=\"9db3fb7e5\"\\n                    data-event_no=\"260284\" data-event_title=\"[AI양재허브] AI 양재 허브 x DRB 오픈이노베이션 및 테스트베드 연계 프로그램 참가팀 모집(~8/28)\" data-creative_name=\"PC_메인_상단배너 타입1\" data-creative_slot=\"5\">\\n                    <img src=\"https://cfile1.onoffmix.com/attach/IvxlfB6OgKHX1bWpUsSnTMzwLJc9PC3j\" alt=\"[AI양재허브] AI 양재 허브 x DRB 오픈이노베이션 및 테스트베드 연계 프로그램 참가팀 모집(~8/28)\">\\n                </a>\\n                                            </div>\\n            <div class=\"slider-rotate__nav\">\\n                <span class=\"slider-rotate__arrow slider-rotate__arrow--right js-slider-rotate-arrow\" data-action=\"next\">></span>\\n                <span class=\"slider-rotate__arrow slider-rotate__arrow--left js-slider-rotate-arrow\" data-action=\"prev\"><</i></span>\\n            </div>\\n        </section>\\n\\n        <!-- marketing / text silder-->\\n        <section class=\"section_main_top\">\\n            <div class=\"content_wrap wide_max_width_area\">\\n                <div class=\"banner_branding\">\\n                    <div class=\"head\"><h3>온오프믹스 소식</h3></div>\\n                    <div class=\"content owl-carousel\">\\n                                                                                                                                                        <a class=\"gtag_bn_item_type1\" href=\"/cs/a/58793?url=https%3A%2F%2Fonoffmix.com%2Fcs%2Fnotice%2F428\" target=\"_blank\" title=\"\" data-c=\"777143e61\"\\n                           data-event_no=\"out_58793\" data-event_title=\"\" data-creative_name=\"PC_메인_마케팅 영역\" data-creative_slot=\"1\">\\n                            <img src=\"https://cfile1.onoffmix.com/attach/3MojaO1uxzwSNQp5es9ilGqCX8AUbfY2\" alt=\"\">\\n                        </a>\\n                                                                                                        <a class=\"gtag_bn_item_type1\" href=\"/cs/a/58715?url=https%3A%2F%2Fonoffmix.com%2Fch%2Fevent%3Futm_source%3DAD_onoffmix%26utm_medium%3Dbranding_pc%26utm_campaign%3Devent_ch%26utm_content%3D20201124\" target=\"_blank\" title=\"\" data-c=\"777143e62\"\\n                           data-event_no=\"out_58715\" data-event_title=\"\" data-creative_name=\"PC_메인_마케팅 영역\" data-creative_slot=\"2\">\\n                            <img src=\"https://cfile1.onoffmix.com/attach/4W87gldNayPsFCUJcjXRxBOqeZ205nVu\" alt=\"\">\\n                        </a>\\n                                                                                                        <a class=\"gtag_bn_item_type1\" href=\"/cs/a/54704?url=https%3A%2F%2Fwww.instagram.com%2Fonoffmix\" target=\"_blank\" title=\"\" data-c=\"777143e63\"\\n                           data-event_no=\"out_54704\" data-event_title=\"\" data-creative_name=\"PC_메인_마케팅 영역\" data-creative_slot=\"3\">\\n                            <img src=\"https://cfile1.onoffmix.com/attach/1FV9CjrZYXuRq2B5TMD6bOAKvlaifyEW\" alt=\"\">\\n                        </a>\\n                                                                                                        <a class=\"gtag_bn_item_type1\" href=\"/cs/a/54703?url=https%3A%2F%2Fblog.naver.com%2Fonoffmix\" target=\"_blank\" title=\"\" data-c=\"777143e64\"\\n                           data-event_no=\"out_54703\" data-event_title=\"\" data-creative_name=\"PC_메인_마케팅 영역\" data-creative_slot=\"4\">\\n                            <img src=\"https://cfile1.onoffmix.com/attach/i3z5mxkbcYMh2QFZEsrKLSNC6Gd90pnX\" alt=\"\">\\n                        </a>\\n                                                                                                        <a class=\"gtag_bn_item_type1\" href=\"/cs/a/54705?url=https%3A%2F%2Fpf.kakao.com%2F_xoWIcE\" target=\"_blank\" title=\"\" data-c=\"777143e65\"\\n                           data-event_no=\"out_54705\" data-event_title=\"\" data-creative_name=\"PC_메인_마케팅 영역\" data-creative_slot=\"5\">\\n                            <img src=\"https://cfile1.onoffmix.com/attach/kLmyaC7goVKn4YGAXeOPdRl1bMIcS5f9\" alt=\"\">\\n                        </a>\\n                                                                    </div>\\n                </div>\\n\\n                <div class=\"banner_top_area\">\\n                    <button type=\"button\" class=\"full_view_btn\">전체보기</button>\\n\\n                    <ul class=\"title_list_area\"></ul>\\n                    <ul class=\"banner_text\">\\n                                                                                                                                                        <li>\\n                            <a class=\"gtag_bn_item_type1\" href=\"/cs/a/75463?url=%2Fevent%2F260917\" target=\"_blank\" title=\"Zero Density 버추얼 프로덕션 워크숍\"  data-c=\"aa16fe1a1\"\\n                               data-event_no=\"260917\" data-event_title=\"[해외선진기술교육 워크숍] Zero Density 버추얼 프로덕션 워크숍\" data-creative_name=\"PC_메인_상단배너 타입2\" data-creative_slot=\"1\">\\n                                <img src=\"https://cfile1.onoffmix.com/attach/9OnvSTlMLwGxQABKR1k0CgrefZsmYUNd\" alt=\"Zero Density 버추얼 프로덕션 워크숍\">\\n                            </a>\\n                        </li>\\n                                                                                                        <li>\\n                            <a class=\"gtag_bn_item_type1\" href=\"/cs/a/75355?url=%2Fevent%2F260717\" target=\"_blank\" title=\"D-테스트베드 참여자 모집\"  data-c=\"aa16fe1a2\"\\n                               data-event_no=\"260717\" data-event_title=\"2022 D-테스트베드 참여자 모집 (08.04~08.24)\" data-creative_name=\"PC_메인_상단배너 타입2\" data-creative_slot=\"2\">\\n                                <img src=\"https://cfile1.onoffmix.com/attach/WRSMn6G7m0EKlNiYrCx1kpUhZDbzFQIt\" alt=\"D-테스트베드 참여자 모집\">\\n                            </a>\\n                        </li>\\n                                                                                                        <li>\\n                            <a class=\"gtag_bn_item_type1\" href=\"/cs/a/75468?url=%2Fevent%2F260885\" target=\"_blank\" title=\"KAIST 머신러닝 엔지니어 부트캠프 2기 교육생 모집(~8/26)\"  data-c=\"aa16fe1a3\"\\n                               data-event_no=\"260885\" data-event_title=\"KAIST 머신러닝 엔지니어 부트캠프 2기 교육생 모집(~8/26)\" data-creative_name=\"PC_메인_상단배너 타입2\" data-creative_slot=\"3\">\\n                                <img src=\"https://cfile1.onoffmix.com/attach/KuSo9Jvfzjpsmahy2xZW5brUN0kTVeP8\" alt=\"KAIST 머신러닝 엔지니어 부트캠프 2기 교육생 모집(~8/26)\">\\n                            </a>\\n                        </li>\\n                                                                                                        <li>\\n                            <a class=\"gtag_bn_item_type1\" href=\"/cs/a/75392?url=%2Fevent%2F260718\" target=\"_blank\" title=\"보건산업 정책 아이디어 공모전\"  data-c=\"aa16fe1a4\"\\n                               data-event_no=\"260718\" data-event_title=\"2022 보건산업 정책 아이디어 공모전\" data-creative_name=\"PC_메인_상단배너 타입2\" data-creative_slot=\"4\">\\n                                <img src=\"https://cfile1.onoffmix.com/attach/U9p8Ha4l62RBExAOfPotbgmzvL7jWhkn\" alt=\"보건산업 정책 아이디어 공모전\">\\n                            </a>\\n                        </li>\\n                                                                                                        <li>\\n                            <a class=\"gtag_bn_item_type1\" href=\"/cs/a/75584?url=https%3A%2F%2Fsamsungb2bwebinar.onoffmix.com%2F\" target=\"_blank\" title=\"삼성 통합공조 솔루션 &amp; b.IoT\"  data-c=\"aa16fe1a5\"\\n                               data-event_no=\"out_75584\" data-event_title=\"삼성 통합공조 솔루션 &amp; b.IoT\" data-creative_name=\"PC_메인_상단배너 타입2\" data-creative_slot=\"5\">\\n                                <img src=\"https://cfile1.onoffmix.com/attach/0oMzVqTQLkcl6sjm4uYpOwAN1yK2xCai\" alt=\"삼성 통합공조 솔루션 &amp; b.IoT\">\\n                            </a>\\n                        </li>\\n                                                                                                        <li>\\n                            <a class=\"gtag_bn_item_type1\" href=\"/cs/a/75546?url=%2Fevent%2F260932\" target=\"_blank\" title=\"MZ세대, 메타버스타고 사회적 기업 체험하기\"  data-c=\"aa16fe1a6\"\\n                               data-event_no=\"260932\" data-event_title=\"MZ세대, 메타버스타고 사회적 기업 체험하기\" data-creative_name=\"PC_메인_상단배너 타입2\" data-creative_slot=\"6\">\\n                                <img src=\"https://cfile1.onoffmix.com/attach/6wYfvHcpjr8zDqJuF4ltxyhaSkLsQGRK\" alt=\"MZ세대, 메타버스타고 사회적 기업 체험하기\">\\n                            </a>\\n                        </li>\\n                                                                                                        <li>\\n                            <a class=\"gtag_bn_item_type1\" href=\"/cs/a/59608?url=https%3A%2F%2Fplace.onoffmix.com\" target=\"_blank\" title=\"모임 하기 좋은 곳 찾았다!!\"  data-c=\"aa16fe1a7\"\\n                               data-event_no=\"out_59608\" data-event_title=\"모임 하기 좋은 곳 찾았다!!\" data-creative_name=\"PC_메인_상단배너 타입2\" data-creative_slot=\"7\">\\n                                <img src=\"https://cfile1.onoffmix.com/attach/nMlVRmearbY3hci81TPspKQNGEv2qjOt\" alt=\"모임 하기 좋은 곳 찾았다!!\">\\n                            </a>\\n                        </li>\\n                                                                                                        <li>\\n                            <a class=\"gtag_bn_item_type1\" href=\"/cs/a/59475?url=https%3A%2F%2Fonoffmix.com%2Fservice%2Fadvert%2Fproduct%2Fpartner%3F39degree\" target=\"_blank\" title=\"행사 라이브 방송 필요하세요?\"  data-c=\"aa16fe1a8\"\\n                               data-event_no=\"out_59475\" data-event_title=\"행사 라이브 방송 필요하세요?\" data-creative_name=\"PC_메인_상단배너 타입2\" data-creative_slot=\"8\">\\n                                <img src=\"https://cfile1.onoffmix.com/attach/V2QUHb796yIcX3khLxRaivmKgB0pMESz\" alt=\"행사 라이브 방송 필요하세요?\">\\n                            </a>\\n                        </li>\\n                                                                    </ul>\\n                    <div class=\"full_view_area\">\\n                        <ul>\\n                                                                                                                                                                                <li>\\n                                <a class=\"gtag_bn_item_type1\" href=\"/cs/a/75463?url=%2Fevent%2F260917\" target=\"_blank\" title=\"Zero Density 버추얼 프로덕션 워크숍\"  data-c=\"aa16fe1a1\"\\n                                   data-event_no=\"260917\" data-event_title=\"[해외선진기술교육 워크숍] Zero Density 버추얼 프로덕션 워크숍\" data-creative_name=\"PC_메인_상단배너 타입2\" data-creative_slot=\"1\">\\n                                    <img src=\"https://cfile1.onoffmix.com/attach/9OnvSTlMLwGxQABKR1k0CgrefZsmYUNd\" alt=\"Zero Density 버추얼 프로덕션 워크숍\">\\n                                </a>\\n                            </li>\\n                                                                                                                        <li>\\n                                <a class=\"gtag_bn_item_type1\" href=\"/cs/a/75355?url=%2Fevent%2F260717\" target=\"_blank\" title=\"D-테스트베드 참여자 모집\"  data-c=\"aa16fe1a2\"\\n                                   data-event_no=\"260717\" data-event_title=\"2022 D-테스트베드 참여자 모집 (08.04~08.24)\" data-creative_name=\"PC_메인_상단배너 타입2\" data-creative_slot=\"2\">\\n                                    <img src=\"https://cfile1.onoffmix.com/attach/WRSMn6G7m0EKlNiYrCx1kpUhZDbzFQIt\" alt=\"D-테스트베드 참여자 모집\">\\n                                </a>\\n                            </li>\\n                                                                                                                        <li>\\n                                <a class=\"gtag_bn_item_type1\" href=\"/cs/a/75468?url=%2Fevent%2F260885\" target=\"_blank\" title=\"KAIST 머신러닝 엔지니어 부트캠프 2기 교육생 모집(~8/26)\"  data-c=\"aa16fe1a3\"\\n                                   data-event_no=\"260885\" data-event_title=\"KAIST 머신러닝 엔지니어 부트캠프 2기 교육생 모집(~8/26)\" data-creative_name=\"PC_메인_상단배너 타입2\" data-creative_slot=\"3\">\\n                                    <img src=\"https://cfile1.onoffmix.com/attach/KuSo9Jvfzjpsmahy2xZW5brUN0kTVeP8\" alt=\"KAIST 머신러닝 엔지니어 부트캠프 2기 교육생 모집(~8/26)\">\\n                                </a>\\n                            </li>\\n                                                                                                                        <li>\\n                                <a class=\"gtag_bn_item_type1\" href=\"/cs/a/75392?url=%2Fevent%2F260718\" target=\"_blank\" title=\"보건산업 정책 아이디어 공모전\"  data-c=\"aa16fe1a4\"\\n                                   data-event_no=\"260718\" data-event_title=\"2022 보건산업 정책 아이디어 공모전\" data-creative_name=\"PC_메인_상단배너 타입2\" data-creative_slot=\"4\">\\n                                    <img src=\"https://cfile1.onoffmix.com/attach/U9p8Ha4l62RBExAOfPotbgmzvL7jWhkn\" alt=\"보건산업 정책 아이디어 공모전\">\\n                                </a>\\n                            </li>\\n                                                                                                                        <li>\\n                                <a class=\"gtag_bn_item_type1\" href=\"/cs/a/75584?url=https%3A%2F%2Fsamsungb2bwebinar.onoffmix.com%2F\" target=\"_blank\" title=\"삼성 통합공조 솔루션 &amp; b.IoT\"  data-c=\"aa16fe1a5\"\\n                                   data-event_no=\"out_75584\" data-event_title=\"삼성 통합공조 솔루션 &amp; b.IoT\" data-creative_name=\"PC_메인_상단배너 타입2\" data-creative_slot=\"5\">\\n                                    <img src=\"https://cfile1.onoffmix.com/attach/0oMzVqTQLkcl6sjm4uYpOwAN1yK2xCai\" alt=\"삼성 통합공조 솔루션 &amp; b.IoT\">\\n                                </a>\\n                            </li>\\n                                                                                                                        <li>\\n                                <a class=\"gtag_bn_item_type1\" href=\"/cs/a/75546?url=%2Fevent%2F260932\" target=\"_blank\" title=\"MZ세대, 메타버스타고 사회적 기업 체험하기\"  data-c=\"aa16fe1a6\"\\n                                   data-event_no=\"260932\" data-event_title=\"MZ세대, 메타버스타고 사회적 기업 체험하기\" data-creative_name=\"PC_메인_상단배너 타입2\" data-creative_slot=\"6\">\\n                                    <img src=\"https://cfile1.onoffmix.com/attach/6wYfvHcpjr8zDqJuF4ltxyhaSkLsQGRK\" alt=\"MZ세대, 메타버스타고 사회적 기업 체험하기\">\\n                                </a>\\n                            </li>\\n                                                                                                                        <li>\\n                                <a class=\"gtag_bn_item_type1\" href=\"/cs/a/59608?url=https%3A%2F%2Fplace.onoffmix.com\" target=\"_blank\" title=\"모임 하기 좋은 곳 찾았다!!\"  data-c=\"aa16fe1a7\"\\n                                   data-event_no=\"out_59608\" data-event_title=\"모임 하기 좋은 곳 찾았다!!\" data-creative_name=\"PC_메인_상단배너 타입2\" data-creative_slot=\"7\">\\n                                    <img src=\"https://cfile1.onoffmix.com/attach/nMlVRmearbY3hci81TPspKQNGEv2qjOt\" alt=\"모임 하기 좋은 곳 찾았다!!\">\\n                                </a>\\n                            </li>\\n                                                                                                                        <li>\\n                                <a class=\"gtag_bn_item_type1\" href=\"/cs/a/59475?url=https%3A%2F%2Fonoffmix.com%2Fservice%2Fadvert%2Fproduct%2Fpartner%3F39degree\" target=\"_blank\" title=\"행사 라이브 방송 필요하세요?\"  data-c=\"aa16fe1a8\"\\n                                   data-event_no=\"out_59475\" data-event_title=\"행사 라이브 방송 필요하세요?\" data-creative_name=\"PC_메인_상단배너 타입2\" data-creative_slot=\"8\">\\n                                    <img src=\"https://cfile1.onoffmix.com/attach/V2QUHb796yIcX3khLxRaivmKgB0pMESz\" alt=\"행사 라이브 방송 필요하세요?\">\\n                                </a>\\n                            </li>\\n                                                                                </ul>\\n                        <button type=\"button\" class=\"full_view_close_btn\">리스트 보기 닫기</button>\\n                    </div>\\n                </div>\\n            </div>\\n        </section>\\n\\n        <!-- Right Now Event -->\\n        <section class=\"section_now_event\">\\n            <div class=\"title_area\">\\n                <h1 class=\"title\">지금 딱! <span class=\"text_normal\">이 모임</span></h1>\\n            </div>\\n            <div class=\"content_wrap wide_max_width_area\">\\n                <div class=\"area_top\">\\n                    <ul class=\"event_list\">\\n                                                                                                                                                            <li>\\n                                <article class=\"event_area event_card\">\\n                                    <a class=\"gtag_bn_item_type1\" href=\"/cs/a/75556?url=%2Fevent%2F259748\" target=\"_blank\" title=\"[KAIT/과기정통부] 제 2기 인공지능(AI) 서비스 개발과정 수강생 추가 모집(전액무료/8.30 마감)\" data-c=\"hotissue1\"\\n                                       data-event_no=\"259748\" data-event_title=\"[KAIT/과기정통부] 제 2기 인공지능(AI) 서비스 개발과정 수강생 추가 모집(전액무료/8.30 마감)\" data-creative_name=\"PC_메인_모임상단 타입2\" data-creative_slot=\"1\">\\n                                        <!-- 이미지 -->\\n                                        <div class=\"event_thumbnail\">\\n                                            <img src=\"https://cfile1.onoffmix.com/images/event/259748/s\">\\n                                        </div>\\n\\n                                        <div class=\"event_info_area\">\\n                                            <!-- 타이틀 -->\\n                                            <div class=\"title_area\">\\n                                                <h5 class=\"title ellipsis\">\\n                                                    [KAIT/과기정통부] 제 2기 인공지능(AI) 서비스 개발과정 수강생 추가 모집(전액무료/8.30 마감)                                                </h5>\\n                                            </div>\\n                                            <!-- 정보 -->\\n                                            <div class=\"event_info\">\\n                                                <div class=\"type_info\">\\n                                                                                                            <span class=\"payment_type free\">\\n                                                            무료    \\n                                                        </span>\\n                                                                                                    </div>\\n                                                <div class=\"date\">9.2 (금) ~ 11.22 (화)</div>\\n                                            </div>\\n                                        </div>\\n                                    </a>\\n                                </article>\\n                            </li>\\n                                                                                                            <li>\\n                                <article class=\"event_area event_card\">\\n                                    <a class=\"gtag_bn_item_type1\" href=\"/cs/a/74095?url=%2Fevent%2F257982\" target=\"_blank\" title=\"[KAIST 기술경영전문대학원] 2023학년도 봄학기 입시설명회\" data-c=\"hotissue2\"\\n                                       data-event_no=\"257982\" data-event_title=\"[KAIST 기술경영전문대학원] 2023학년도 봄학기 입시설명회\" data-creative_name=\"PC_메인_모임상단 타입2\" data-creative_slot=\"2\">\\n                                        <!-- 이미지 -->\\n                                        <div class=\"event_thumbnail\">\\n                                            <img src=\"https://cfile1.onoffmix.com/images/event/257982/s\">\\n                                        </div>\\n\\n                                        <div class=\"event_info_area\">\\n                                            <!-- 타이틀 -->\\n                                            <div class=\"title_area\">\\n                                                <h5 class=\"title ellipsis\">\\n                                                    [KAIST 기술경영전문대학원] 2023학년도 봄학기 입시설명회                                                </h5>\\n                                            </div>\\n                                            <!-- 정보 -->\\n                                            <div class=\"event_info\">\\n                                                <div class=\"type_info\">\\n                                                                                                            <span class=\"payment_type free\">\\n                                                            무료    \\n                                                        </span>\\n                                                                                                    </div>\\n                                                <div class=\"date\">9.19 (월)</div>\\n                                            </div>\\n                                        </div>\\n                                    </a>\\n                                </article>\\n                            </li>\\n                                                                                                            <li>\\n                                <article class=\"event_area event_card\">\\n                                    <a class=\"gtag_bn_item_type1\" href=\"/cs/a/75534?url=%2Fevent%2F260695\" target=\"_blank\" title=\"[온라인] 2022-제8회 엔젤리더스포럼\" data-c=\"hotissue3\"\\n                                       data-event_no=\"260695\" data-event_title=\"[온라인] 2022-제8회 엔젤리더스포럼\" data-creative_name=\"PC_메인_모임상단 타입2\" data-creative_slot=\"3\">\\n                                        <!-- 이미지 -->\\n                                        <div class=\"event_thumbnail\">\\n                                            <img src=\"https://cfile1.onoffmix.com/attach/7jKmslDw3WkZT1HI9ucrNSPVdAzX6hft\">\\n                                        </div>\\n\\n                                        <div class=\"event_info_area\">\\n                                            <!-- 타이틀 -->\\n                                            <div class=\"title_area\">\\n                                                <h5 class=\"title ellipsis\">\\n                                                    [온라인] 2022-제8회 엔젤리더스포럼                                                </h5>\\n                                            </div>\\n                                            <!-- 정보 -->\\n                                            <div class=\"event_info\">\\n                                                <div class=\"type_info\">\\n                                                                                                            <span class=\"payment_type free\">\\n                                                            무료    \\n                                                        </span>\\n                                                                                                    </div>\\n                                                <div class=\"date\">9.19 (월)</div>\\n                                            </div>\\n                                        </div>\\n                                    </a>\\n                                </article>\\n                            </li>\\n                                                                                                            <li>\\n                                <article class=\"event_area event_card\">\\n                                    <a class=\"gtag_bn_item_type1\" href=\"/cs/a/75540?url=%2Fevent%2F260963\" target=\"_blank\" title=\"[작심프로젝트] 作心30\" data-c=\"hotissue4\"\\n                                       data-event_no=\"260963\" data-event_title=\"[작심프로젝트] 作心30\" data-creative_name=\"PC_메인_모임상단 타입2\" data-creative_slot=\"4\">\\n                                        <!-- 이미지 -->\\n                                        <div class=\"event_thumbnail\">\\n                                            <img src=\"https://cfile1.onoffmix.com/attach/4PapSHUB7z1R0qVCAnKcQlvysJo28gYM\">\\n                                        </div>\\n\\n                                        <div class=\"event_info_area\">\\n                                            <!-- 타이틀 -->\\n                                            <div class=\"title_area\">\\n                                                <h5 class=\"title ellipsis\">\\n                                                    [작심프로젝트] 作心30                                                </h5>\\n                                            </div>\\n                                            <!-- 정보 -->\\n                                            <div class=\"event_info\">\\n                                                <div class=\"type_info\">\\n                                                                                                            <span class=\"payment_type pay\">\\n                                                            유료    \\n                                                        </span>\\n                                                                                                    </div>\\n                                                <div class=\"date\">9.1 (목) ~ 9.30 (금)</div>\\n                                            </div>\\n                                        </div>\\n                                    </a>\\n                                </article>\\n                            </li>\\n                                                                                                            <li>\\n                                <article class=\"event_area event_card\">\\n                                    <a class=\"gtag_bn_item_type1\" href=\"/cs/a/75593?url=%2Fevent%2F260293\" target=\"_blank\" title=\"나노/탄소 소재분야 AI융합 전문가과정 교육생 모집(수시 모집)\" data-c=\"hotissue5\"\\n                                       data-event_no=\"260293\" data-event_title=\"나노/탄소 소재분야 AI융합 전문가과정 교육생 모집(수시 모집)\" data-creative_name=\"PC_메인_모임상단 타입2\" data-creative_slot=\"5\">\\n                                        <!-- 이미지 -->\\n                                        <div class=\"event_thumbnail\">\\n                                            <img src=\"https://cfile1.onoffmix.com/images/event/260293/s\">\\n                                        </div>\\n\\n                                        <div class=\"event_info_area\">\\n                                            <!-- 타이틀 -->\\n                                            <div class=\"title_area\">\\n                                                <h5 class=\"title ellipsis\">\\n                                                    나노/탄소 소재분야 AI융합 전문가과정 교육생 모집(수시 모집)                                                </h5>\\n                                            </div>\\n                                            <!-- 정보 -->\\n                                            <div class=\"event_info\">\\n                                                <div class=\"type_info\">\\n                                                                                                            <span class=\"payment_type free\">\\n                                                            무료    \\n                                                        </span>\\n                                                                                                    </div>\\n                                                <div class=\"date\">8.25 (목) ~ 12.31 (토)</div>\\n                                            </div>\\n                                        </div>\\n                                    </a>\\n                                </article>\\n                            </li>\\n                                                                                                            <li>\\n                                <article class=\"event_area event_card\">\\n                                    <a class=\"gtag_bn_item_type1\" href=\"/cs/a/75539?url=%2Fevent%2F260864\" target=\"_blank\" title=\"[인천콘텐츠코리아랩] 2022 스타트업 아카데미 2기 모집(~08/24)\" data-c=\"hotissue6\"\\n                                       data-event_no=\"260864\" data-event_title=\"[인천콘텐츠코리아랩] 2022 스타트업 아카데미 2기 모집(~08/24)\" data-creative_name=\"PC_메인_모임상단 타입2\" data-creative_slot=\"6\">\\n                                        <!-- 이미지 -->\\n                                        <div class=\"event_thumbnail\">\\n                                            <img src=\"https://cfile1.onoffmix.com/images/event/260864/s\">\\n                                        </div>\\n\\n                                        <div class=\"event_info_area\">\\n                                            <!-- 타이틀 -->\\n                                            <div class=\"title_area\">\\n                                                <h5 class=\"title ellipsis\">\\n                                                    [인천콘텐츠코리아랩] 2022 스타트업 아카데미 2기 모집(~08/24)                                                </h5>\\n                                            </div>\\n                                            <!-- 정보 -->\\n                                            <div class=\"event_info\">\\n                                                <div class=\"type_info\">\\n                                                                                                            <span class=\"payment_type free\">\\n                                                            무료    \\n                                                        </span>\\n                                                                                                    </div>\\n                                                <div class=\"date\">8.29 (월) ~ 9.6 (화)</div>\\n                                            </div>\\n                                        </div>\\n                                    </a>\\n                                </article>\\n                            </li>\\n                                                                    </ul>\\n\\n                    <!-- 최소1구좌, 최대3구좌 -->\\n                    <div class=\"banner_now_top\">\\n                        <div class=\"head\"></div>\\n                        <div class=\"content owl-carousel\">\\n                                                                                                                                                                                <a class=\"gtag_bn_item_type1\" href=\"/cs/a/75277?url=%2Fevent%2F259734\" target=\"_blank\" title=\"재난안전통신망 서비스 아이디어 공모전(3차), Safe-Net 2022\" data-c=\"559c659b1\"\\n                               data-event_no=\"259734\" data-event_title=\"재난안전통신망 서비스 아이디어 공모전(3차), Safe-Net 2022\" data-creative_name=\"PC_메인_모임상단 타입1\" data-creative_slot=\"1\">\\n                                <img src=\"https://cfile1.onoffmix.com/attach/yIwtJqCoch8BKsjUAG7VvSE6aOWmz1RL\" alt=\"재난안전통신망 서비스 아이디어 공모전(3차), Safe-Net 2022\">\\n                            </a>\\n                                                                                                                        <a class=\"gtag_bn_item_type1\" href=\"/cs/a/75479?url=%2Fevent%2F246877\" target=\"_blank\" title=\"100% 온라인 자기개발 &amp; 자격증 취득과정 무료교육 신청하기!\" data-c=\"559c659b2\"\\n                               data-event_no=\"246877\" data-event_title=\"100% 온라인 자기개발 &amp; 자격증 취득과정 무료교육 신청하기!\" data-creative_name=\"PC_메인_모임상단 타입1\" data-creative_slot=\"2\">\\n                                <img src=\"https://cfile1.onoffmix.com/attach/QKzYOIaoDx3SN5PhM4b72ilec9wnryGW\" alt=\"100% 온라인 자기개발 &amp; 자격증 취득과정 무료교육 신청하기!\">\\n                            </a>\\n                                                                                                                        <a class=\"gtag_bn_item_type1\" href=\"/cs/a/74199?url=%2Fevent%2F258569\" target=\"_blank\" title=\"KAIST 바이오혁신경영전문대학원 2023학년도 봄학기 신입생 모집\" data-c=\"559c659b3\"\\n                               data-event_no=\"258569\" data-event_title=\"KAIST 바이오혁신경영전문대학원 2023학년도 봄학기 신입생 모집\" data-creative_name=\"PC_메인_모임상단 타입1\" data-creative_slot=\"3\">\\n                                <img src=\"https://cfile1.onoffmix.com/attach/CeG5cljLUqDEsfBnv6w09WHZAgyP1VJ4\" alt=\"KAIST 바이오혁신경영전문대학원 2023학년도 봄학기 신입생 모집\">\\n                            </a>\\n                                                                                </div>\\n                    </div>\\n                </div>\\n\\n                <!-- Hot Issue -->\\n                <!-- 최소/최대 5구좌 -->\\n                                    <div class=\"section_hot_issue content_wrap\">\\n                        <div class=\"banner_hot_issue owl-carousel\">\\n\\n                                                                                                                                                                                    <a class=\"gtag_bn_item_type1\" href=\"/cs/a/75112?url=%2Fevent%2F260284\" target=\"_blank\" title=\"[AI양재허브] AI 양재 허브 x DRB 오픈이노베이션 및 테스트베드 연계 프로그램 참가팀 모집(~8/28)\" data-c=\"15dbd2791\" data-event_no=\"260284\" data-event_title=\"[AI양재허브] AI 양재 허브 x DRB 오픈이노베이션 및 테스트베드 연계 프로그램 참가팀 모집(~8/28)\" data-creative_name=\"PC_메인_이슈배너\" data-creative_slot=\"1\">\\n                                    <img src=\"https://cfile1.onoffmix.com/attach/JnuAq1EVyb9r3UYlXOw6CB82ihzdpZtx\" alt=\"[AI양재허브] AI 양재 허브 x DRB 오픈이노베이션 및 테스트베드 연계 프로그램 참가팀 모집(~8/28)\">\\n                                </a>\\n                                                                                                                            <a class=\"gtag_bn_item_type1\" href=\"/cs/a/75456?url=%2Fevent%2F260638\" target=\"_blank\" title=\"2022 일·생활 균형 사진·영상 공모전\" data-c=\"15dbd2792\" data-event_no=\"260638\" data-event_title=\"2022 일·생활 균형 사진·영상 공모전\" data-creative_name=\"PC_메인_이슈배너\" data-creative_slot=\"2\">\\n                                    <img src=\"https://cfile1.onoffmix.com/attach/G31EhBXTuUZl4IKtvPg6RojbsfNymJ9O\" alt=\"2022 일·생활 균형 사진·영상 공모전\">\\n                                </a>\\n                                                                                                                            <a class=\"gtag_bn_item_type1\" href=\"/cs/a/75591?url=%2Fevent%2F260686\" target=\"_blank\" title=\"AI + SW 실무교육 수강생 모집중!( ~9월21일)\" data-c=\"15dbd2793\" data-event_no=\"260686\" data-event_title=\"AI + SW 실무교육 수강생 모집중!( ~9월21일)\" data-creative_name=\"PC_메인_이슈배너\" data-creative_slot=\"3\">\\n                                    <img src=\"https://cfile1.onoffmix.com/attach/rHWAw1tmbjsukF0xKd962ROpXPSa4TnD\" alt=\"AI + SW 실무교육 수강생 모집중!( ~9월21일)\">\\n                                </a>\\n                                                                                                                            <a class=\"gtag_bn_item_type1\" href=\"/cs/a/75590?url=%2Fevent%2F255186\" target=\"_blank\" title=\"22년 제조‧장비 지능화 AI 인력양성 교육(수시 모집)\" data-c=\"15dbd2794\" data-event_no=\"255186\" data-event_title=\"22년 제조‧장비 지능화 AI 인력양성 교육(수시 모집)\" data-creative_name=\"PC_메인_이슈배너\" data-creative_slot=\"4\">\\n                                    <img src=\"https://cfile1.onoffmix.com/attach/GyAV2XZkInbqMaRwScQr0gu8j67lxJmN\" alt=\"22년 제조‧장비 지능화 AI 인력양성 교육(수시 모집)\">\\n                                </a>\\n                                                                                                                            <a class=\"gtag_bn_item_type1\" href=\"/cs/a/75358?url=%2Fevent%2F260717\" target=\"_blank\" title=\"2022 D-테스트베드 참여자 모집 (08.04~08.24)\" data-c=\"15dbd2795\" data-event_no=\"260717\" data-event_title=\"2022 D-테스트베드 참여자 모집 (08.04~08.24)\" data-creative_name=\"PC_메인_이슈배너\" data-creative_slot=\"5\">\\n                                    <img src=\"https://cfile1.onoffmix.com/attach/fmEXWqcBriVO4abJvNPh1znoQ5lU7M9D\" alt=\"2022 D-테스트베드 참여자 모집 (08.04~08.24)\">\\n                                </a>\\n                                                                                    \\n                        </div>\\n                    </div>\\n                \\n\\n                <!-- 지금 딱 이모임 하단부분 -->\\n                \\n            </div>\\n        </section>\\n\\n        <!-- all the best -->\\n        <section class=\"section_event_best\">\\n            <div class=\"title_area\">\\n                <h1 class=\"title\">\\n                    <span class=\"text_normal\">All the</span> Best\\n                </h1>\\n            </div>\\n            <div class=\"content_wrap wide_max_width_area\">\\n                <div class=\"category_area\">\\n                    <ul>\\n                                                    <li class=\"category_list active\">\\n                                <a href=\"/event/main/?c[0]=085&c[1]=086\">교육・강연</a>\\n                            </li>\\n                                                    <li class=\"category_list active\">\\n                                <a href=\"/event/main/?c[0]=087\">세미나・컨퍼런스</a>\\n                            </li>\\n                                                    <li class=\"category_list active\">\\n                                <a href=\"/event/main/?c[0]=093&c[1]=088\">전시・박람회・문화</a>\\n                            </li>\\n                                                    <li class=\"category_list active\">\\n                                <a href=\"/event/main/?c[0]=092\">공모전</a>\\n                            </li>\\n                                                    <li class=\"category_list active\">\\n                                <a href=\"/event/main/?c[0]=090\">취미・소모임</a>\\n                            </li>\\n                                                    <li class=\"category_list active\">\\n                                <a href=\"/event/main/?c[0]=094&c[1]=095&c[2]=096\">기타 모임</a>\\n                            </li>\\n                                            </ul>\\n                </div>\\n                <div class=\"event_card_area\">\\n                                        <ul>\\n                                                                                                                                                                                                            <li class=\"event_card_list\">\\n                                    <a class=\"gtag_bn_item_type1\" href=\"/event/261188\" target=\"_blank\" title=\"전통문화교육 족두리만들기\"\\n                                       data-event_no=\"261188\" data-event_title=\"전통문화교육 족두리만들기\" data-creative_name=\"PC_메인_베스트_교육/강연\" data-creative_slot=\"1\">\\n                                        <div class=\"img_wrapper\">\\n                                            <img src=\"https://cfile1.onoffmix.com/images/event/261188/s\" alt=\"전통문화교육 족두리만들기\">\\n                                        </div>\\n                                        <h5 class=\"ellipsis\">전통문화교육 족두리만들기</h5>\\n                                    </a>\\n                                </li>\\n                                                                                                                            <li class=\"event_card_list\">\\n                                    <a class=\"gtag_bn_item_type1\" href=\"/event/261200\" target=\"_blank\" title=\"[프론트엔드 + 자바 무료교육]  프론트엔드 개발 및 자바 웹개발자 양성과정\"\\n                                       data-event_no=\"261200\" data-event_title=\"[프론트엔드 + 자바 무료교육]  프론트엔드 개발 및 자바 웹개발자 양성과정\" data-creative_name=\"PC_메인_베스트_교육/강연\" data-creative_slot=\"2\">\\n                                        <div class=\"img_wrapper\">\\n                                            <img src=\"https://cfile1.onoffmix.com/images/event/261200/s\" alt=\"[프론트엔드 + 자바 무료교육]  프론트엔드 개발 및 자바 웹개발자 양성과정\">\\n                                        </div>\\n                                        <h5 class=\"ellipsis\">[프론트엔드 + 자바 무료교육]  프론트엔드 개발 및 자바 웹개발자 양성과정</h5>\\n                                    </a>\\n                                </li>\\n                                                                                                                            <li class=\"event_card_list\">\\n                                    <a class=\"gtag_bn_item_type1\" href=\"/event/260221\" target=\"_blank\" title=\"당부TV \\'22년 하반기 전국 부동산 순회강연\\'\"\\n                                       data-event_no=\"260221\" data-event_title=\"당부TV 22년 하반기 전국 부동산 순회강연\" data-creative_name=\"PC_메인_베스트_교육/강연\" data-creative_slot=\"3\">\\n                                        <div class=\"img_wrapper\">\\n                                            <img src=\"https://cfile1.onoffmix.com/images/event/260221/s\" alt=\"당부TV \\'22년 하반기 전국 부동산 순회강연\\'\">\\n                                        </div>\\n                                        <h5 class=\"ellipsis\">당부TV \\'22년 하반기 전국 부동산 순회강연\\'</h5>\\n                                    </a>\\n                                </li>\\n                                                                                                                            <li class=\"event_card_list\">\\n                                    <a class=\"gtag_bn_item_type1\" href=\"/event/230234\" target=\"_blank\" title=\"디자인씽킹 놀이교육 온라인 무료 세미나\"\\n                                       data-event_no=\"230234\" data-event_title=\"디자인씽킹 놀이교육 온라인 무료 세미나\" data-creative_name=\"PC_메인_베스트_교육/강연\" data-creative_slot=\"4\">\\n                                        <div class=\"img_wrapper\">\\n                                            <img src=\"https://cfile1.onoffmix.com/images/event/230234/s\" alt=\"디자인씽킹 놀이교육 온라인 무료 세미나\">\\n                                        </div>\\n                                        <h5 class=\"ellipsis\">디자인씽킹 놀이교육 온라인 무료 세미나</h5>\\n                                    </a>\\n                                </li>\\n                                                                        </ul>\\n                                        <ul>\\n                                                                                                                                                                                                            <li class=\"event_card_list\">\\n                                    <a class=\"gtag_bn_item_type1\" href=\"/event/260823\" target=\"_blank\" title=\"[9.27 토]저자직강 중국 타오바오 직구 구매대행 완전정복 입문강의  온라인 세미나\"\\n                                       data-event_no=\"260823\" data-event_title=\"[9.27 토]저자직강 중국 타오바오 직구 구매대행 완전정복 입문강의  온라인 세미나\" data-creative_name=\"PC_메인_베스트_세미나/컨퍼런스\" data-creative_slot=\"1\">\\n                                        <div class=\"img_wrapper\">\\n                                            <img src=\"https://cfile1.onoffmix.com/images/event/260823/s\" alt=\"[9.27 토]저자직강 중국 타오바오 직구 구매대행 완전정복 입문강의  온라인 세미나\">\\n                                        </div>\\n                                        <h5 class=\"ellipsis\">[9.27 토]저자직강 중국 타오바오 직구 구매대행 완전정복 입문강의  온라인 세미나</h5>\\n                                    </a>\\n                                </li>\\n                                                                                                                            <li class=\"event_card_list\">\\n                                    <a class=\"gtag_bn_item_type1\" href=\"/event/260523\" target=\"_blank\" title=\"대한민국의 모든 스타트업 관계자들을 위한 고벤처포럼 8월 모임\"\\n                                       data-event_no=\"260523\" data-event_title=\"대한민국의 모든 스타트업 관계자들을 위한 고벤처포럼 8월 모임\" data-creative_name=\"PC_메인_베스트_세미나/컨퍼런스\" data-creative_slot=\"2\">\\n                                        <div class=\"img_wrapper\">\\n                                            <img src=\"https://cfile1.onoffmix.com/images/event/260523/s\" alt=\"대한민국의 모든 스타트업 관계자들을 위한 고벤처포럼 8월 모임\">\\n                                        </div>\\n                                        <h5 class=\"ellipsis\">대한민국의 모든 스타트업 관계자들을 위한 고벤처포럼 8월 모임</h5>\\n                                    </a>\\n                                </li>\\n                                                                                                                            <li class=\"event_card_list\">\\n                                    <a class=\"gtag_bn_item_type1\" href=\"/event/260601\" target=\"_blank\" title=\"NFT META Busan &amp; MARVELS AWARDS 2022\"\\n                                       data-event_no=\"260601\" data-event_title=\"NFT META Busan &amp; MARVELS AWARDS 2022\" data-creative_name=\"PC_메인_베스트_세미나/컨퍼런스\" data-creative_slot=\"3\">\\n                                        <div class=\"img_wrapper\">\\n                                            <img src=\"https://cfile1.onoffmix.com/images/event/260601/s\" alt=\"NFT META Busan &amp; MARVELS AWARDS 2022\">\\n                                        </div>\\n                                        <h5 class=\"ellipsis\">NFT META Busan &amp; MARVELS AWARDS 2022</h5>\\n                                    </a>\\n                                </li>\\n                                                                                                                            <li class=\"event_card_list\">\\n                                    <a class=\"gtag_bn_item_type1\" href=\"/event/260054\" target=\"_blank\" title=\"융복합 의료제품 컨퍼런스(2022 MFDS Combination Product Conference)\"\\n                                       data-event_no=\"260054\" data-event_title=\"융복합 의료제품 컨퍼런스(2022 MFDS Combination Product Conference)\" data-creative_name=\"PC_메인_베스트_세미나/컨퍼런스\" data-creative_slot=\"4\">\\n                                        <div class=\"img_wrapper\">\\n                                            <img src=\"https://cfile1.onoffmix.com/images/event/260054/s\" alt=\"융복합 의료제품 컨퍼런스(2022 MFDS Combination Product Conference)\">\\n                                        </div>\\n                                        <h5 class=\"ellipsis\">융복합 의료제품 컨퍼런스(2022 MFDS Combination Product Conference)</h5>\\n                                    </a>\\n                                </li>\\n                                                                        </ul>\\n                                        <ul>\\n                                                                                                                                                                                                            <li class=\"event_card_list\">\\n                                    <a class=\"gtag_bn_item_type1\" href=\"/event/260294\" target=\"_blank\" title=\"2022년 충청남도장애인채용박람회\"\\n                                       data-event_no=\"260294\" data-event_title=\"2022년 충청남도장애인채용박람회\" data-creative_name=\"PC_메인_베스트_전시/박람회/문화\" data-creative_slot=\"1\">\\n                                        <div class=\"img_wrapper\">\\n                                            <img src=\"https://cfile1.onoffmix.com/images/event/260294/s\" alt=\"2022년 충청남도장애인채용박람회\">\\n                                        </div>\\n                                        <h5 class=\"ellipsis\">2022년 충청남도장애인채용박람회</h5>\\n                                    </a>\\n                                </li>\\n                                                                                                                            <li class=\"event_card_list\">\\n                                    <a class=\"gtag_bn_item_type1\" href=\"/event/260384\" target=\"_blank\" title=\"2022 블라블라GO 오디오 크리에티어 모집\"\\n                                       data-event_no=\"260384\" data-event_title=\"2022 블라블라GO 오디오 크리에티어 모집\" data-creative_name=\"PC_메인_베스트_전시/박람회/문화\" data-creative_slot=\"2\">\\n                                        <div class=\"img_wrapper\">\\n                                            <img src=\"https://cfile1.onoffmix.com/images/event/260384/s\" alt=\"2022 블라블라GO 오디오 크리에티어 모집\">\\n                                        </div>\\n                                        <h5 class=\"ellipsis\">2022 블라블라GO 오디오 크리에티어 모집</h5>\\n                                    </a>\\n                                </li>\\n                                                                                                                            <li class=\"event_card_list\">\\n                                    <a class=\"gtag_bn_item_type1\" href=\"/event/260975\" target=\"_blank\" title=\"조혜인 : 초화\"\\n                                       data-event_no=\"260975\" data-event_title=\"조혜인 : 초화\" data-creative_name=\"PC_메인_베스트_전시/박람회/문화\" data-creative_slot=\"3\">\\n                                        <div class=\"img_wrapper\">\\n                                            <img src=\"https://cfile1.onoffmix.com/images/event/260975/s\" alt=\"조혜인 : 초화\">\\n                                        </div>\\n                                        <h5 class=\"ellipsis\">조혜인 : 초화</h5>\\n                                    </a>\\n                                </li>\\n                                                                                                                            <li class=\"event_card_list\">\\n                                    <a class=\"gtag_bn_item_type1\" href=\"/event/260706\" target=\"_blank\" title=\"[OFFNODE SPACE 디지털 전시 작가 상시모집]\"\\n                                       data-event_no=\"260706\" data-event_title=\"[OFFNODE SPACE 디지털 전시 작가 상시모집]\" data-creative_name=\"PC_메인_베스트_전시/박람회/문화\" data-creative_slot=\"4\">\\n                                        <div class=\"img_wrapper\">\\n                                            <img src=\"https://cfile1.onoffmix.com/images/event/260706/s\" alt=\"[OFFNODE SPACE 디지털 전시 작가 상시모집]\">\\n                                        </div>\\n                                        <h5 class=\"ellipsis\">[OFFNODE SPACE 디지털 전시 작가 상시모집]</h5>\\n                                    </a>\\n                                </li>\\n                                                                        </ul>\\n                                        <ul>\\n                                                                                                                                                                                                            <li class=\"event_card_list\">\\n                                    <a class=\"gtag_bn_item_type1\" href=\"/event/261011\" target=\"_blank\" title=\"2022 스마트시티 혁신기술 발굴사업 스마트시티 창업아이디어 공모전 안내(~9/2)\"\\n                                       data-event_no=\"261011\" data-event_title=\"2022 스마트시티 혁신기술 발굴사업 스마트시티 창업아이디어 공모전 안내(~9/2)\" data-creative_name=\"PC_메인_베스트_공모전\" data-creative_slot=\"1\">\\n                                        <div class=\"img_wrapper\">\\n                                            <img src=\"https://cfile1.onoffmix.com/images/event/261011/s\" alt=\"2022 스마트시티 혁신기술 발굴사업 스마트시티 창업아이디어 공모전 안내(~9/2)\">\\n                                        </div>\\n                                        <h5 class=\"ellipsis\">2022 스마트시티 혁신기술 발굴사업 스마트시티 창업아이디어 공모전 안내(~9/2)</h5>\\n                                    </a>\\n                                </li>\\n                                                                                                                            <li class=\"event_card_list\">\\n                                    <a class=\"gtag_bn_item_type1\" href=\"/event/260204\" target=\"_blank\" title=\"한국교통안전공단 데이터셋 활용 아이디어 경진대회\"\\n                                       data-event_no=\"260204\" data-event_title=\"한국교통안전공단 데이터셋 활용 아이디어 경진대회\" data-creative_name=\"PC_메인_베스트_공모전\" data-creative_slot=\"2\">\\n                                        <div class=\"img_wrapper\">\\n                                            <img src=\"https://cfile1.onoffmix.com/images/event/260204/s\" alt=\"한국교통안전공단 데이터셋 활용 아이디어 경진대회\">\\n                                        </div>\\n                                        <h5 class=\"ellipsis\">한국교통안전공단 데이터셋 활용 아이디어 경진대회</h5>\\n                                    </a>\\n                                </li>\\n                                                                                                                            <li class=\"event_card_list\">\\n                                    <a class=\"gtag_bn_item_type1\" href=\"/event/260579\" target=\"_blank\" title=\"[미니인턴X나라비전] UI/UX 디자인 개선하고 디자이너로 취업할 수 있는 절호의 기회!! 나라비전 채용형 미니인턴\"\\n                                       data-event_no=\"260579\" data-event_title=\"[미니인턴X나라비전] UI/UX 디자인 개선하고 디자이너로 취업할 수 있는 절호의 기회!! 나라비전 채용형 미니인턴\" data-creative_name=\"PC_메인_베스트_공모전\" data-creative_slot=\"3\">\\n                                        <div class=\"img_wrapper\">\\n                                            <img src=\"https://cfile1.onoffmix.com/images/event/260579/s\" alt=\"[미니인턴X나라비전] UI/UX 디자인 개선하고 디자이너로 취업할 수 있는 절호의 기회!! 나라비전 채용형 미니인턴\">\\n                                        </div>\\n                                        <h5 class=\"ellipsis\">[미니인턴X나라비전] UI/UX 디자인 개선하고 디자이너로 취업할 수 있는 절호의 기회!! 나라비전 채용형 미니인턴</h5>\\n                                    </a>\\n                                </li>\\n                                                                                                                            <li class=\"event_card_list\">\\n                                    <a class=\"gtag_bn_item_type1\" href=\"/event/255364\" target=\"_blank\" title=\"제25차 세계 및 제10차 아시아 국제안전도시 연차대회\"\\n                                       data-event_no=\"255364\" data-event_title=\"제25차 세계 및 제10차 아시아 국제안전도시 연차대회\" data-creative_name=\"PC_메인_베스트_공모전\" data-creative_slot=\"4\">\\n                                        <div class=\"img_wrapper\">\\n                                            <img src=\"https://cfile1.onoffmix.com/images/event/255364/s\" alt=\"제25차 세계 및 제10차 아시아 국제안전도시 연차대회\">\\n                                        </div>\\n                                        <h5 class=\"ellipsis\">제25차 세계 및 제10차 아시아 국제안전도시 연차대회</h5>\\n                                    </a>\\n                                </li>\\n                                                                        </ul>\\n                                        <ul>\\n                                                                                                                                                                                                            <li class=\"event_card_list\">\\n                                    <a class=\"gtag_bn_item_type1\" href=\"/event/259011\" target=\"_blank\" title=\"생명윤리 영화상영제 (※신청기간 연장)\"\\n                                       data-event_no=\"259011\" data-event_title=\"생명윤리 영화상영제 (※신청기간 연장)\" data-creative_name=\"PC_메인_베스트_취미/소모임\" data-creative_slot=\"1\">\\n                                        <div class=\"img_wrapper\">\\n                                            <img src=\"https://cfile1.onoffmix.com/images/event/259011/s\" alt=\"생명윤리 영화상영제 (※신청기간 연장)\">\\n                                        </div>\\n                                        <h5 class=\"ellipsis\">생명윤리 영화상영제 (※신청기간 연장)</h5>\\n                                    </a>\\n                                </li>\\n                                                                                                                            <li class=\"event_card_list\">\\n                                    <a class=\"gtag_bn_item_type1\" href=\"/event/260941\" target=\"_blank\" title=\"[CINE MUSEUM] 미덕이 넘치는 바로크 미술의 거장, 루벤스\"\\n                                       data-event_no=\"260941\" data-event_title=\"[CINE MUSEUM] 미덕이 넘치는 바로크 미술의 거장, 루벤스\" data-creative_name=\"PC_메인_베스트_취미/소모임\" data-creative_slot=\"2\">\\n                                        <div class=\"img_wrapper\">\\n                                            <img src=\"https://cfile1.onoffmix.com/images/event/260941/s\" alt=\"[CINE MUSEUM] 미덕이 넘치는 바로크 미술의 거장, 루벤스\">\\n                                        </div>\\n                                        <h5 class=\"ellipsis\">[CINE MUSEUM] 미덕이 넘치는 바로크 미술의 거장, 루벤스</h5>\\n                                    </a>\\n                                </li>\\n                                                                                                                            <li class=\"event_card_list\">\\n                                    <a class=\"gtag_bn_item_type1\" href=\"/event/260039\" target=\"_blank\" title=\"수도권 MZ세대 청년들에게 힘을 보태주는 명언집(소책자) 무료 나눔 모임\"\\n                                       data-event_no=\"260039\" data-event_title=\"수도권 MZ세대 청년들에게 힘을 보태주는 명언집(소책자) 무료 나눔 모임\" data-creative_name=\"PC_메인_베스트_취미/소모임\" data-creative_slot=\"3\">\\n                                        <div class=\"img_wrapper\">\\n                                            <img src=\"https://cfile1.onoffmix.com/images/event/260039/s\" alt=\"수도권 MZ세대 청년들에게 힘을 보태주는 명언집(소책자) 무료 나눔 모임\">\\n                                        </div>\\n                                        <h5 class=\"ellipsis\">수도권 MZ세대 청년들에게 힘을 보태주는 명언집(소책자) 무료 나눔 모임</h5>\\n                                    </a>\\n                                </li>\\n                                                                                                                            <li class=\"event_card_list\">\\n                                    <a class=\"gtag_bn_item_type1\" href=\"/event/261059\" target=\"_blank\" title=\"[프로젝트 00 _작가의 서재 속 책 훔쳐읽기] / 헤르만헤세 &lt;책이라는 세계&gt;  독서 모임\"\\n                                       data-event_no=\"261059\" data-event_title=\"[프로젝트 00 _작가의 서재 속 책 훔쳐읽기] / 헤르만헤세 &lt;책이라는 세계&gt;  독서 모임\" data-creative_name=\"PC_메인_베스트_취미/소모임\" data-creative_slot=\"4\">\\n                                        <div class=\"img_wrapper\">\\n                                            <img src=\"https://cfile1.onoffmix.com/images/event/261059/s\" alt=\"[프로젝트 00 _작가의 서재 속 책 훔쳐읽기] / 헤르만헤세 &lt;책이라는 세계&gt;  독서 모임\">\\n                                        </div>\\n                                        <h5 class=\"ellipsis\">[프로젝트 00 _작가의 서재 속 책 훔쳐읽기] / 헤르만헤세 &lt;책이라는 세계&gt;  독서 모임</h5>\\n                                    </a>\\n                                </li>\\n                                                                        </ul>\\n                                        <ul>\\n                                                                                                                                                                                                            <li class=\"event_card_list\">\\n                                    <a class=\"gtag_bn_item_type1\" href=\"/event/260987\" target=\"_blank\" title=\"궁금해! 반도체 진로캠프\"\\n                                       data-event_no=\"260987\" data-event_title=\"궁금해! 반도체 진로캠프\" data-creative_name=\"PC_메인_베스트_기타 모임\" data-creative_slot=\"1\">\\n                                        <div class=\"img_wrapper\">\\n                                            <img src=\"https://cfile1.onoffmix.com/images/event/260987/s\" alt=\"궁금해! 반도체 진로캠프\">\\n                                        </div>\\n                                        <h5 class=\"ellipsis\">궁금해! 반도체 진로캠프</h5>\\n                                    </a>\\n                                </li>\\n                                                                                                                            <li class=\"event_card_list\">\\n                                    <a class=\"gtag_bn_item_type1\" href=\"/event/260957\" target=\"_blank\" title=\"[CINE MUSEUM] 레오나르도 다 빈치, 혼자 깨어 있는 자\"\\n                                       data-event_no=\"260957\" data-event_title=\"[CINE MUSEUM] 레오나르도 다 빈치, 혼자 깨어 있는 자\" data-creative_name=\"PC_메인_베스트_기타 모임\" data-creative_slot=\"2\">\\n                                        <div class=\"img_wrapper\">\\n                                            <img src=\"https://cfile1.onoffmix.com/images/event/260957/s\" alt=\"[CINE MUSEUM] 레오나르도 다 빈치, 혼자 깨어 있는 자\">\\n                                        </div>\\n                                        <h5 class=\"ellipsis\">[CINE MUSEUM] 레오나르도 다 빈치, 혼자 깨어 있는 자</h5>\\n                                    </a>\\n                                </li>\\n                                                                                                                            <li class=\"event_card_list\">\\n                                    <a class=\"gtag_bn_item_type1\" href=\"/event/260568\" target=\"_blank\" title=\"[마포청년나루X온라인청년센터]청년 취·창업 정책 상담\"\\n                                       data-event_no=\"260568\" data-event_title=\"[마포청년나루X온라인청년센터]청년 취·창업 정책 상담\" data-creative_name=\"PC_메인_베스트_기타 모임\" data-creative_slot=\"3\">\\n                                        <div class=\"img_wrapper\">\\n                                            <img src=\"https://cfile1.onoffmix.com/images/event/260568/s\" alt=\"[마포청년나루X온라인청년센터]청년 취·창업 정책 상담\">\\n                                        </div>\\n                                        <h5 class=\"ellipsis\">[마포청년나루X온라인청년센터]청년 취·창업 정책 상담</h5>\\n                                    </a>\\n                                </li>\\n                                                                                                                            <li class=\"event_card_list\">\\n                                    <a class=\"gtag_bn_item_type1\" href=\"/event/260991\" target=\"_blank\" title=\"[서울예술교육센터 감정서가] 대화의 감, 먼지같은 존재들 \\'을\\'의 기쁨과 슬픔\"\\n                                       data-event_no=\"260991\" data-event_title=\"[서울예술교육센터 감정서가] 대화의 감, 먼지같은 존재들 을의 기쁨과 슬픔\" data-creative_name=\"PC_메인_베스트_기타 모임\" data-creative_slot=\"4\">\\n                                        <div class=\"img_wrapper\">\\n                                            <img src=\"https://cfile1.onoffmix.com/images/event/260991/s\" alt=\"[서울예술교육센터 감정서가] 대화의 감, 먼지같은 존재들 \\'을\\'의 기쁨과 슬픔\">\\n                                        </div>\\n                                        <h5 class=\"ellipsis\">[서울예술교육센터 감정서가] 대화의 감, 먼지같은 존재들 \\'을\\'의 기쁨과 슬픔</h5>\\n                                    </a>\\n                                </li>\\n                                                                        </ul>\\n                                                        </div>\\n            </div>\\n        </section>\\n\\n        <!-- Event Pick -->\\n        \\n        <!-- 한번 더! Check -->\\n        <section class=\"section_more_check\">\\n            <div class=\"title_area\">\\n                <h1 class=\"title\">한번 더! <span class=\"text_spacing-0\">Check</span></h1>\\n            </div>\\n            <div class=\"content_wrap wide_max_width_area\">\\n                <!-- 최소6구좌, 최대12구좌 -->\\n                <div class=\"banner_more_check owl-carousel\">\\n                                                                                                                <a class=\"gtag_bn_item_type1\" href=\"/cs/a/75535?url=%2Fevent%2F260695\" target=\"_blank\" title=\"[온라인] 2022-제8회 엔젤리더스포럼\" data-c=\"bottom1\"\\n                       data-event_no=\"260695\" data-event_title=\"[온라인] 2022-제8회 엔젤리더스포럼\" data-creative_name=\"PC_메인_체크배너\" data-creative_slot=\"1\">\\n                        <img src=\"https://cfile1.onoffmix.com/attach/sF5hulKpPx0t6TwOadJoDCr4RG1WmZV2\" alt=\"[온라인] 2022-제8회 엔젤리더스포럼\">\\n                    </a>\\n                                                                            <a class=\"gtag_bn_item_type1\" href=\"/cs/a/75538?url=%2Fevent%2F260864\" target=\"_blank\" title=\"[인천콘텐츠코리아랩] 2022 스타트업 아카데미 2기 모집(~08/24)\" data-c=\"bottom2\"\\n                       data-event_no=\"260864\" data-event_title=\"[인천콘텐츠코리아랩] 2022 스타트업 아카데미 2기 모집(~08/24)\" data-creative_name=\"PC_메인_체크배너\" data-creative_slot=\"2\">\\n                        <img src=\"https://cfile1.onoffmix.com/attach/BmsI6ZxQ4CqhRywal0DJuLSz5e7Yvp9g\" alt=\"[인천콘텐츠코리아랩] 2022 스타트업 아카데미 2기 모집(~08/24)\">\\n                    </a>\\n                                                                            <a class=\"gtag_bn_item_type1\" href=\"/cs/a/74981?url=%2Fevent%2F259788\" target=\"_blank\" title=\"[T아카데미] ASAC 교육생 모집 - 데이터 분석 / 웹풀스택 개발\" data-c=\"bottom3\"\\n                       data-event_no=\"259788\" data-event_title=\"[T아카데미] ASAC 교육생 모집 - 데이터 분석 / 웹풀스택 개발\" data-creative_name=\"PC_메인_체크배너\" data-creative_slot=\"3\">\\n                        <img src=\"https://cfile1.onoffmix.com/images/event/259788/s\" alt=\"[T아카데미] ASAC 교육생 모집 - 데이터 분석 / 웹풀스택 개발\">\\n                    </a>\\n                                                                            <a class=\"gtag_bn_item_type1\" href=\"/cs/a/75490?url=%2Fevent%2F260917\" target=\"_blank\" title=\"[해외선진기술교육 워크숍] Zero Density 버추얼 프로덕션 워크숍\" data-c=\"bottom4\"\\n                       data-event_no=\"260917\" data-event_title=\"[해외선진기술교육 워크숍] Zero Density 버추얼 프로덕션 워크숍\" data-creative_name=\"PC_메인_체크배너\" data-creative_slot=\"4\">\\n                        <img src=\"https://cfile1.onoffmix.com/images/event/260917/s\" alt=\"[해외선진기술교육 워크숍] Zero Density 버추얼 프로덕션 워크숍\">\\n                    </a>\\n                                                                            <a class=\"gtag_bn_item_type1\" href=\"/cs/a/75208?url=%2Fevent%2F260372\" target=\"_blank\" title=\"[북부 메이커스페이스] 메이커톤 8월 29일 ~ 8월 30일\" data-c=\"bottom5\"\\n                       data-event_no=\"260372\" data-event_title=\"[북부 메이커스페이스] 메이커톤 8월 29일 ~ 8월 30일\" data-creative_name=\"PC_메인_체크배너\" data-creative_slot=\"5\">\\n                        <img src=\"https://cfile1.onoffmix.com/images/event/260372/s\" alt=\"[북부 메이커스페이스] 메이커톤 8월 29일 ~ 8월 30일\">\\n                    </a>\\n                                                                            <a class=\"gtag_bn_item_type1\" href=\"/cs/a/75466?url=%2Fevent%2F260686\" target=\"_blank\" title=\"AI + SW 실무교육 수강생 모집중!( ~9월21일)\" data-c=\"bottom6\"\\n                       data-event_no=\"260686\" data-event_title=\"AI + SW 실무교육 수강생 모집중!( ~9월21일)\" data-creative_name=\"PC_메인_체크배너\" data-creative_slot=\"6\">\\n                        <img src=\"https://cfile1.onoffmix.com/images/event/260686/s\" alt=\"AI + SW 실무교육 수강생 모집중!( ~9월21일)\">\\n                    </a>\\n                                                                            <a class=\"gtag_bn_item_type1\" href=\"/cs/a/75308?url=%2Fevent%2F260586\" target=\"_blank\" title=\"NFT를 활용한 커뮤니티 제작 및 기업 매니지먼트 과정\" data-c=\"bottom7\"\\n                       data-event_no=\"260586\" data-event_title=\"NFT를 활용한 커뮤니티 제작 및 기업 매니지먼트 과정\" data-creative_name=\"PC_메인_체크배너\" data-creative_slot=\"7\">\\n                        <img src=\"https://cfile1.onoffmix.com/images/event/260586/s\" alt=\"NFT를 활용한 커뮤니티 제작 및 기업 매니지먼트 과정\">\\n                    </a>\\n                                                                            <a class=\"gtag_bn_item_type1\" href=\"/cs/a/75541?url=%2Fevent%2F260963\" target=\"_blank\" title=\"[작심프로젝트] 作心30\" data-c=\"bottom8\"\\n                       data-event_no=\"260963\" data-event_title=\"[작심프로젝트] 作心30\" data-creative_name=\"PC_메인_체크배너\" data-creative_slot=\"8\">\\n                        <img src=\"https://cfile1.onoffmix.com/attach/Z4mMk8EVqfhlL6Ba7YyNWs2n1SjH0rv9\" alt=\"[작심프로젝트] 作心30\">\\n                    </a>\\n                                                </div>\\n            </div>\\n        </section>\\n\\n        <!-- notice news / service guide link -->\\n        <div class=\"bottom_section\">\\n            <div class=\"content_wrap wide_max_width_area\">\\n                <section class=\"section_notice_news\">\\n                    <h1 class=\"notice_title\">\\n                        <a target=\"_blank\" href=\"/cs/notice\">공지사항</a>\\n                    </h1>\\n                    <ul>\\n                        <li class=\"list_item\">\\n                            <a href=\"/cs/a/62358?url=https%3A%2F%2Fonoffmix.com%2Fcs%2Fnotice%2F439\" target=\"_blank\" title=\\'개설자 여러분을 위한 &lt;뉴스레터&gt; 안내!! \\'>개설자 여러분을 위한 &lt;뉴스레터&gt; 안내!! </a>\\n                        </li>\\n                    </ul>\\n                </section>\\n            </div>\\n        </div>\\n    </main>\\n    <!-- =================================== Main End =================================== -->\\n<script>\\n(function( global ){\\n    gtag(\"event\", \"view_promotion\", {\\n    \"non_interaction\" : true,\\n    \"promotions\" : [{\"id\":\"event_258569\",\"name\":\"event_KAIST 바이오혁신경영전문대학원 2023학년도 봄학기 신입생 모집\",\"creative_name\":\"PC_메인_상단배너 타입1\",\"creative_slot\":1},{\"id\":\"event_out_58793\",\"name\":\"event_\",\"creative_name\":\"PC_메인_마케팅 영역\",\"creative_slot\":1},{\"id\":\"event_260917\",\"name\":\"event_[해외선진기술교육 워크숍] Zero Density 버추얼 프로덕션 워크숍\",\"creative_name\":\"PC_메인_상단배너 타입2\",\"creative_slot\":1},{\"id\":\"event_259748\",\"name\":\"event_[KAIT/과기정통부] 제 2기 인공지능(AI) 서비스 개발과정 수강생 추가 모집(전액무료/8.30 마감)\",\"creative_name\":\"PC_메인_모임상단 타입2\",\"creative_slot\":1}]\\n});\\ngtag(\"event\", \"view_promotion\", {\\n    \"non_interaction\" : true,\\n    \"promotions\" : [{\"id\":\"event_257982\",\"name\":\"event_[KAIST 기술경영전문대학원] 2023학년도 봄학기 입시설명회\",\"creative_name\":\"PC_메인_모임상단 타입2\",\"creative_slot\":2},{\"id\":\"event_260695\",\"name\":\"event_[온라인] 2022-제8회 엔젤리더스포럼\",\"creative_name\":\"PC_메인_모임상단 타입2\",\"creative_slot\":3},{\"id\":\"event_260963\",\"name\":\"event_[작심프로젝트] 作心30\",\"creative_name\":\"PC_메인_모임상단 타입2\",\"creative_slot\":4},{\"id\":\"event_260293\",\"name\":\"event_나노/탄소 소재분야 AI융합 전문가과정 교육생 모집(수시 모집)\",\"creative_name\":\"PC_메인_모임상단 타입2\",\"creative_slot\":5}]\\n});\\ngtag(\"event\", \"view_promotion\", {\\n    \"non_interaction\" : true,\\n    \"promotions\" : [{\"id\":\"event_260864\",\"name\":\"event_[인천콘텐츠코리아랩] 2022 스타트업 아카데미 2기 모집(~08/24)\",\"creative_name\":\"PC_메인_모임상단 타입2\",\"creative_slot\":6},{\"id\":\"event_259734\",\"name\":\"event_재난안전통신망 서비스 아이디어 공모전(3차), Safe-Net 2022\",\"creative_name\":\"PC_메인_모임상단 타입1\",\"creative_slot\":1},{\"id\":\"event_260284\",\"name\":\"event_[AI양재허브] AI 양재 허브 x DRB 오픈이노베이션 및 테스트베드 연계 프로그램 참가팀 모집(~8/28)\",\"creative_name\":\"PC_메인_이슈배너\",\"creative_slot\":1},{\"id\":\"event_260638\",\"name\":\"event_2022 일·생활 균형 사진·영상 공모전\",\"creative_name\":\"PC_메인_이슈배너\",\"creative_slot\":2}]\\n});\\ngtag(\"event\", \"view_promotion\", {\\n    \"non_interaction\" : true,\\n    \"promotions\" : [{\"id\":\"event_260686\",\"name\":\"event_AI + SW 실무교육 수강생 모집중!( ~9월21일)\",\"creative_name\":\"PC_메인_이슈배너\",\"creative_slot\":3},{\"id\":\"event_255186\",\"name\":\"event_22년 제조‧장비 지능화 AI 인력양성 교육(수시 모집)\",\"creative_name\":\"PC_메인_이슈배너\",\"creative_slot\":4},{\"id\":\"event_260717\",\"name\":\"event_2022 D-테스트베드 참여자 모집 (08.04~08.24)\",\"creative_name\":\"PC_메인_이슈배너\",\"creative_slot\":5},{\"id\":\"event_260695\",\"name\":\"event_[온라인] 2022-제8회 엔젤리더스포럼\",\"creative_name\":\"PC_메인_체크배너\",\"creative_slot\":1}]\\n});\\ngtag(\"event\", \"view_promotion\", {\\n    \"non_interaction\" : true,\\n    \"promotions\" : [{\"id\":\"event_260864\",\"name\":\"event_[인천콘텐츠코리아랩] 2022 스타트업 아카데미 2기 모집(~08/24)\",\"creative_name\":\"PC_메인_체크배너\",\"creative_slot\":2},{\"id\":\"event_259788\",\"name\":\"event_[T아카데미] ASAC 교육생 모집 - 데이터 분석 / 웹풀스택 개발\",\"creative_name\":\"PC_메인_체크배너\",\"creative_slot\":3},{\"id\":\"event_260917\",\"name\":\"event_[해외선진기술교육 워크숍] Zero Density 버추얼 프로덕션 워크숍\",\"creative_name\":\"PC_메인_체크배너\",\"creative_slot\":4},{\"id\":\"event_260372\",\"name\":\"event_[북부 메이커스페이스] 메이커톤 8월 29일 ~ 8월 30일\",\"creative_name\":\"PC_메인_체크배너\",\"creative_slot\":5}]\\n});\\ngtag(\"event\", \"view_promotion\", {\\n    \"non_interaction\" : true,\\n    \"promotions\" : [{\"id\":\"event_260686\",\"name\":\"event_AI + SW 실무교육 수강생 모집중!( ~9월21일)\",\"creative_name\":\"PC_메인_체크배너\",\"creative_slot\":6}]\\n});\\n\\n})( window );\\n</script>\\n\\n\\t\\t <!-- =================================== Footer Start =================================== -->\\n        <footer id=\"footer\" class=\"footer_wrap \">\\n            <div class=\"information_area wide_max_width_area\">\\n                <div class=\"contact_list\">\\n                    <strong>(주)온오프믹스</strong>\\n                    <ul>\\n                        <li>대표이사 <span>양준철</span></li>\\n                        <li>개인정보관리책임자 <span>이승희</span></li>\\n                        <li>사업자등록번호 <span><i>221-81-34988</i></span></li>\\n                        <li>통신판매업 신고번호 <span>제<i>2015</i>&nbsp;-&nbsp;서울서초&nbsp;-&nbsp;<i>0928</i>호</span></li>\\n                        <li>서울특별시 서초구 강남대로<i>79</i>길&nbsp;<i>59</i>&nbsp;새로나빌딩&nbsp;<i>3</i>층</li>\\n                        <li>\\n                            <span>Tel : 02-6080-5579</span>\\n                            <span>Fax : 02-6280-8089</span>\\n                            <span>Email : <a href=\"mailto:webmaster@onoffmix.com\"> webmaster@onoffmix.com</a></span>\\n                        </li>\\n                    </ul>\\n                </div>\\n                <div class=\"link_list\">\\n                    <ul class=\"company_link\">\\n                        <li><a href=\"http://corp.onoffmix.com/\" target=\"_blank\">회사소개</a></li>\\n                        <li><a href=\"https://onoffmix.com/legal/agreement\" target=\"_blank\">서비스약관 및 정책</a></li>\\n                        <li><a href=\"https://onoffmix.com/legal/privacy\" target=\"_blank\"><strong>개인정보처리방침</strong></a></li>\\n                    </ul>\\n                    <ul class=\"cs_link\">\\n                        <li><a href=\"https://onoffmix.com/cs\" target=\"_blank\"><strong>고객센터</strong></a></li>\\n                        <li><a href=\"https://onoffmix.com/cs/inquire\" target=\"_blank\">문의하기</a></li>\\n                        <li><a href=\"/service#join\" target=\"_blank\">서비스안내</a></li>\\n                        <li><a href=\"/cs/faq\" target=\"_blank\">FAQ</a></li>\\n                        <li><a href=\"http://apps.onoffmix.com\" target=\"_blank\">앱다운로드</a></li>\\n                    </ul>\\n                    <ul class=\"channel_link\">\\n                        <li><a href=\"/ch\" target=\"_blank\">채널</a><li>\\n                        <li><a href=\"https://place.onoffmix.com/\" target=\"_blank\">플레이스</a><li>\\n                        <li><a href=\"/service/advert/product/partner\" target=\"_blank\">파트너센터</a><li>\\n                        <li><a href=\"/ir/main\" target=\"_blank\">투자정보</a><li>\\n                    </ul>\\n                    <div class=\"link_button\">\\n                        <a href=\"/newsletter\" target=\"_blank\">뉴스레터 구독하기</a>\\n                        <a href=\"/service/advert/product/guide\" target=\"_blank\">광고상품안내</a>\\n                    </div>\\n                </div>\\n                <div class=\"footer_bottom\">\\n                    <p>\\n                        <span>온오프믹스는 통신판매중개자이며 모임에 대한 당사자 및 주최자가 아닙니다. 따라서 온오프믹스는 등록된 모임에 대하여 책임을 지지 않습니다.</span>\\n                        <span>copyright © ONOFFMIX.COM, All Rights Reserved.</span>\\n                    </p>\\n                    <ul>\\n                        <li><a href=\"https://blog.naver.com/onoffmix\" target=\"_blank\" title=\"온오프믹스 네이버블로그\">온오프믹스 네이버블로그</a></li>\\n                        <li><a href=\"https://brunch.co.kr/@onoffmix\" target=\"_blank\" title=\"온오프믹스 브런치\">온오프믹스 브런치</a></li>\\n                        <li><a href=\"https://www.facebook.com/onoffmix\" target=\"_blank\" title=\"온오프믹스 페이스북\">온오프믹스 페이스북</a></li>\\n                        <li><a href=\"https://www.instagram.com/onoffmix\" target=\"_blank\" title=\"온오프믹스 인스타그램\">온오프믹스 인스타그램</a></li>\\n                        <li><a href=\"https://www.youtube.com/channel/UC2W4gjEfJBaEheQ1vwACVTg\" target=\"_blank\" title=\"온오프믹스 유튜브\">온오프믹스 유튜브</a></li>\\n                    </ul>\\n                </div>\\n            </div>\\n        </footer>\\n        <!-- =================================== Footer End =================================== -->\\n    \\n        <!-- Plugin  -->\\n        <script src=\"https://static.onoffmix.com/js/pc/dist/common/plugins/owl.carousel.min.js\"></script>\\n        <!-- Script -->\\n        <script src=\"https://static.onoffmix.com/js/pc/dist/common/common.js\"></script>\\n        <script src=\"https://static.onoffmix.com/js/pc/dist/common/header.js\"></script>\\n        <script src=\"https://static.onoffmix.com/js/pc/dist/main/sliderRotate.js\"></script>\\n        <script src=\"https://static.onoffmix.com/js/pc/dist/main/main.js\"></script>\\n        <script src=\"https://static.onoffmix.com/js/pc/dist/common/today-seen.js\"></script>\\n\\n \\t\\t    <!-- PC Common Script -->\\n    <!-- <script src=\"https://static.onoffmix.com/js/pc/dist/common/common.js\"></script>\\n    <script src=\"https://static.onoffmix.com/js/pc/dist/common/header.js\"></script> -->\\n    <script src=\"https://static.onoffmix.com/js/common/dist/plugins/app/app-ver-chk.js\"></script>\\n    <script src=\"https://static.onoffmix.com/js/common/dist/log/statistic.js\"></script>\\n\\t<!-- Script -->\\t<script type=\"text/javascript\">window.NREUM||(NREUM={});NREUM.info={\"beacon\":\"bam.nr-data.net\",\"licenseKey\":\"4d73c0dfa7\",\"applicationID\":\"119983018\",\"transactionName\":\"Z1MAZEVWDREHWkEMWl4ZI1NDXgwMSXZzKGpzWQxERVgPDgNLGjpHVVsDQA==\",\"queueTime\":0,\"applicationTime\":455,\"atts\":\"SxQDEg1MHh8=\",\"errorBeacon\":\"bam.nr-data.net\",\"agent\":\"\"}</script></body>\\n</html>\\n'"
            ],
            "application/vnd.google.colaboratory.intrinsic+json": {
              "type": "string"
            }
          },
          "metadata": {},
          "execution_count": 146
        }
      ]
    },
    {
      "cell_type": "markdown",
      "source": [
        "https://gist.github.com/pzb/b4b6f57144aea7827ae4"
      ],
      "metadata": {
        "id": "E8ci5xV4atPu"
      }
    },
    {
      "cell_type": "markdown",
      "source": [
        "# Selenium\n",
        "- 브라우저를 직접 실행하여 자동화하고, 브라우저 상에 있는 데이터를 수집\n",
        "- 웹테스트 자동화에 쓰임\n",
        "- 홈페이지의 모든 걸 받는다. (java script,css,html 등)"
      ],
      "metadata": {
        "id": "n2GJOgZzbKU3"
      }
    },
    {
      "cell_type": "markdown",
      "source": [
        "## Selenium의 버전이 3.X와 4.X 다른점\n",
        "- 3.0버전에서는 수동으로 브라우저의 드라이버를 다운로드하고 경로를 지정해줘야햇음.\n",
        "- 4.0버전부터는 WebDriver Manager가 자동으로 Web 브라우저의 버전을 확인하고 맞는 버전을 다운로드하고 실행한다."
      ],
      "metadata": {
        "id": "jOGy07LRcZMm"
      }
    },
    {
      "cell_type": "markdown",
      "source": [
        "```bash\n",
        "pip install beautifulsoup4\n",
        "pip install webdriver-manager\n",
        "pip install selenium\n",
        "```"
      ],
      "metadata": {
        "id": "aVulrG-scwaM"
      }
    },
    {
      "cell_type": "code",
      "source": [
        ""
      ],
      "metadata": {
        "id": "G1d6HvQNhXsD"
      },
      "execution_count": null,
      "outputs": []
    }
  ]
}