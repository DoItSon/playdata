{
  "nbformat": 4,
  "nbformat_minor": 0,
  "metadata": {
    "colab": {
      "name": "04-제어문.ipynb",
      "provenance": [],
      "collapsed_sections": [],
      "toc_visible": true,
      "authorship_tag": "ABX9TyPR5Vjf9e+7ippzeIbZ/V0t",
      "include_colab_link": true
    },
    "kernelspec": {
      "name": "python3",
      "display_name": "Python 3"
    },
    "language_info": {
      "name": "python"
    }
  },
  "cells": [
    {
      "cell_type": "markdown",
      "metadata": {
        "id": "view-in-github",
        "colab_type": "text"
      },
      "source": [
        "<a href=\"https://colab.research.google.com/github/soyongseok/playdata/blob/main/04_%EC%A0%9C%EC%96%B4%EB%AC%B8.ipynb\" target=\"_parent\"><img src=\"https://colab.research.google.com/assets/colab-badge.svg\" alt=\"Open In Colab\"/></a>"
      ]
    },
    {
      "cell_type": "markdown",
      "source": [
        "# 제어문\n",
        "- 코드의 `흐름`을 제어하는 문법\n",
        "- 주어진 조건에 따라 반복해서 코드를 실행할 때 사용하는 것을 제어문이라고 한다."
      ],
      "metadata": {
        "id": "G_rUFPapux3z"
      }
    },
    {
      "cell_type": "markdown",
      "source": [
        "# 조건문(Condition)\n",
        "- 특정 조건을 만족하면(`True`) 코드를 실행\n",
        "- `if`, `elif`, `else`\n",
        "    - 우리 다음과 같이 `if elif else` 만을 이용해서 조건문을 만든다고 가정함\n",
        "    - `if`의 조건이 참이면 실행해라\n",
        "    - `elif`(else if 약어) : 그게아니고.... elif의 조건이 참이면 실행해라\n",
        "    - `else` : `if` 와 `elif` 모두 조건이 참이 아니라면 실행해라\n",
        "- 조건문 구조\n",
        "```python\n",
        "if <condition>:\n",
        "    code content\n",
        "elif <condition>:\n",
        "    code content\n",
        "...\n",
        "...\n",
        "...\n",
        "else:\n",
        "    code content\n",
        "```"
      ],
      "metadata": {
        "id": "f87N8E-RvBcA"
      }
    },
    {
      "cell_type": "code",
      "source": [
        "accuracy = 0.9\n",
        "if accuracy >= 0.9:\n",
        "    print(\"와우 최고의 인공지능 모델이네요\")\n",
        "elif accuracy < 0.9 and accuracy >= 0.8:\n",
        "    print(\"좋은 모델이네요\")\n",
        "elif accuracy < 0.8 and accuracy >= 0.7:\n",
        "    print(\"평범한 모델이네요\")\n",
        "else:\n",
        "    print(\"차라리 제가 예측하겠습니다.\")"
      ],
      "metadata": {
        "colab": {
          "base_uri": "https://localhost:8080/"
        },
        "id": "eGyWVe15vwqT",
        "outputId": "edc3605d-5389-45c8-9496-10abecef6695"
      },
      "execution_count": null,
      "outputs": [
        {
          "output_type": "stream",
          "name": "stdout",
          "text": [
            "와우 최고의 인공지능 모델이네요\n"
          ]
        }
      ]
    },
    {
      "cell_type": "markdown",
      "source": [
        "- if 문은 단독으로 사용가능"
      ],
      "metadata": {
        "id": "aLEwnO7xxSON"
      }
    },
    {
      "cell_type": "code",
      "source": [
        "10 / 0"
      ],
      "metadata": {
        "colab": {
          "base_uri": "https://localhost:8080/",
          "height": 172
        },
        "id": "CBv-g0uRySkk",
        "outputId": "5cb15c22-b52c-4ae5-88b9-83c84173c20f"
      },
      "execution_count": null,
      "outputs": [
        {
          "output_type": "error",
          "ename": "ZeroDivisionError",
          "evalue": "ignored",
          "traceback": [
            "\u001b[0;31m---------------------------------------------------------------------------\u001b[0m",
            "\u001b[0;31mZeroDivisionError\u001b[0m                         Traceback (most recent call last)",
            "\u001b[0;32m<ipython-input-431-cd759d3fcf39>\u001b[0m in \u001b[0;36m<module>\u001b[0;34m()\u001b[0m\n\u001b[0;32m----> 1\u001b[0;31m \u001b[0;36m10\u001b[0m \u001b[0;34m/\u001b[0m \u001b[0;36m0\u001b[0m\u001b[0;34m\u001b[0m\u001b[0;34m\u001b[0m\u001b[0m\n\u001b[0m",
            "\u001b[0;31mZeroDivisionError\u001b[0m: division by zero"
          ]
        }
      ]
    },
    {
      "cell_type": "code",
      "source": [
        "num = 0 # True로 인식해서 출력이 안됨\n",
        "if num != 0:\n",
        "    print(10/num)"
      ],
      "metadata": {
        "id": "ohADq-GjyXKw"
      },
      "execution_count": null,
      "outputs": []
    },
    {
      "cell_type": "code",
      "source": [
        "num = 2\n",
        "if num: # 0과 None 객체가 아닐 경우 True\n",
        "    print(10/ num)"
      ],
      "metadata": {
        "colab": {
          "base_uri": "https://localhost:8080/"
        },
        "id": "fTc9pYj4yfPt",
        "outputId": "203637e5-73e7-4cf6-9c94-b28c2dfdd5b7"
      },
      "execution_count": null,
      "outputs": [
        {
          "output_type": "stream",
          "name": "stdout",
          "text": [
            "5.0\n"
          ]
        }
      ]
    },
    {
      "cell_type": "code",
      "source": [
        "num = 0\n",
        "if num != 0:\n",
        "    print(10 / num)\n",
        "else:\n",
        "    print(\"0으로 나눌 수 없습니다.\")"
      ],
      "metadata": {
        "colab": {
          "base_uri": "https://localhost:8080/"
        },
        "id": "MMFqrpI7ypM2",
        "outputId": "37949a9b-d492-4340-bed7-243524069cd5"
      },
      "execution_count": null,
      "outputs": [
        {
          "output_type": "stream",
          "name": "stdout",
          "text": [
            "0으로 나눌 수 없습니다.\n"
          ]
        }
      ]
    },
    {
      "cell_type": "code",
      "source": [
        "num = -1\n",
        "if num > 0:\n",
        "    print(10 / num)\n",
        "elif num < 0:\n",
        "    print(\"양수만 넣어주세요\")\n",
        "else:\n",
        "    print(\"0으로 나눌 수 없습니다.\")"
      ],
      "metadata": {
        "colab": {
          "base_uri": "https://localhost:8080/"
        },
        "id": "n0Xr9vAJzODv",
        "outputId": "3b7e49c9-65c4-4fda-c646-9aedf0007e89"
      },
      "execution_count": null,
      "outputs": [
        {
          "output_type": "stream",
          "name": "stdout",
          "text": [
            "양수만 넣어주세요\n"
          ]
        }
      ]
    },
    {
      "cell_type": "markdown",
      "source": [
        "```\n",
        "회원가입 시 넘어온 나이값이 정수형이면 `정상값`을 출력\n",
        "그게 아니면 `잘못된 값`을 출력하는 프로그램을 만들어 봅시다.\n",
        "```"
      ],
      "metadata": {
        "id": "2bkMnBhdzblM"
      }
    },
    {
      "cell_type": "code",
      "source": [
        "age = 25\n",
        "if type(age) == int:\n",
        "    print(\"정상값\")\n",
        "else:\n",
        "    print(\"잘못된 값\")"
      ],
      "metadata": {
        "colab": {
          "base_uri": "https://localhost:8080/"
        },
        "id": "iVoki4FJz9rW",
        "outputId": "053acaa9-7ce0-4e69-cc52-0afa6c12b805"
      },
      "execution_count": null,
      "outputs": [
        {
          "output_type": "stream",
          "name": "stdout",
          "text": [
            "정상값\n"
          ]
        }
      ]
    },
    {
      "cell_type": "markdown",
      "source": [
        "```\n",
        "회원가입 시 나이값이 100이상이면 \"유효한 나이를 입력해주세요.\" 를 출력\n",
        "0 미만이면(음수)이면 \"태어난거 맞나요?\" 출력\n",
        "0 ~ 99 \"DB저장완료\" 출력\n",
        "```"
      ],
      "metadata": {
        "id": "0aBwTBJk0Jno"
      }
    },
    {
      "cell_type": "code",
      "source": [
        "age = 25\n",
        "\n",
        "if age >= 100:\n",
        "    print(\"유효한 나이를 입력해주세요.\")\n",
        "elif age < 0:\n",
        "    print(\"태어난거 맞나요?\")\n",
        "else:\n",
        "    print(\"DB저장완료\")"
      ],
      "metadata": {
        "colab": {
          "base_uri": "https://localhost:8080/"
        },
        "id": "UeBI97Fj05k1",
        "outputId": "a6e118ba-c559-46d7-eabb-7c712973a572"
      },
      "execution_count": null,
      "outputs": [
        {
          "output_type": "stream",
          "name": "stdout",
          "text": [
            "DB저장완료\n"
          ]
        }
      ]
    },
    {
      "cell_type": "markdown",
      "source": [
        "## 중첩 조건문\n",
        "- 조건문 안에 조건문을 사용할 수 있다."
      ],
      "metadata": {
        "id": "LX7snwQ71Q6-"
      }
    },
    {
      "cell_type": "code",
      "source": [
        "age = 18\n",
        "if age > 99 or age < 0:\n",
        "    print(\"유효한 나이를 입력해주세요.\")\n",
        "else:\n",
        "    if age < 20:\n",
        "        print(\"20세 이상만 회원가입이 가능합니다.\")\n",
        "    else:\n",
        "        print(\"DB 저장 완료\")"
      ],
      "metadata": {
        "colab": {
          "base_uri": "https://localhost:8080/"
        },
        "id": "RdDiYhUI6YXu",
        "outputId": "d7a9332d-957d-4bd4-9dce-9ed4bd365ba1"
      },
      "execution_count": null,
      "outputs": [
        {
          "output_type": "stream",
          "name": "stdout",
          "text": [
            "20세 이상만 회원가입이 가능합니다.\n"
          ]
        }
      ]
    },
    {
      "cell_type": "markdown",
      "source": [
        "```\n",
        "source = [90, 100, 51, 96, 66, 83]\n",
        "Max 라는 단어를 입력받으면 최대값을 출력\n",
        "Min 이라는 단어를 입력받으면 최소값을 출력\n",
        "Mean 이라는 단어를 입력받으면 평균을 출력\n",
        "Max, Min, Mean 외에 다른 단어를 입력 받으면 \"똑바로 입력하세요\" 를 출력해서 혼내주자\n",
        "```"
      ],
      "metadata": {
        "id": "mGuE6sw17Hlp"
      }
    },
    {
      "cell_type": "code",
      "source": [
        "source = [90, 100, 51, 96, 66, 83]\n",
        "age = input(\"Max, Min, Mean: \")\n",
        "\n",
        "source_sort = sorted(source)\n",
        "\n",
        "if age == 'Max':\n",
        "    print(source_sort[-1])\n",
        "elif age == 'Min':\n",
        "    print(source_sort[0])\n",
        "elif age == \"Mean\":\n",
        "    print(sum(source) / len(source))\n",
        "else:\n",
        "    print(\"똑바로 입력하세요\")"
      ],
      "metadata": {
        "colab": {
          "base_uri": "https://localhost:8080/"
        },
        "id": "vJPEjXXJ7N4g",
        "outputId": "6967b7d1-417d-4abc-84f4-eca9d31a4def"
      },
      "execution_count": null,
      "outputs": [
        {
          "output_type": "stream",
          "name": "stdout",
          "text": [
            "Max, Min, Mean: Mean\n",
            "81.0\n"
          ]
        }
      ]
    },
    {
      "cell_type": "markdown",
      "source": [
        "## 문제\n",
        "```\n",
        "계좌에 10000원이 들어있습니다.\n",
        "인출 금액을 입력받습니다.\n",
        "인출 금액이 'isdigit' 메소드를 이용하여 숫자가 아닐 경우 '유효한 금액을 입력하세요.' 출력\n",
        "\n",
        "인출 금액이 계좌에 있는 금액보다 크면 '인출 불가능합니다. {}원의 잔액이 부족합니다.' 출력\n",
        "\n",
        "인출 금액이 계좌에 있는 금액보다 작으면 '{} 원이 인출되었습니다.' 출력\n",
        "\n",
        "정수가 입력될 경우에는 항상 마지막에 현재 계좌의 잔액을 출력 ('현재 잔액은 {}원입니다.')\n",
        "```"
      ],
      "metadata": {
        "id": "90fYxZYj8jsY"
      }
    },
    {
      "cell_type": "code",
      "source": [
        "account = 10000 # 잔액이 줄어드는 것을 위해 다음 셀에 작성"
      ],
      "metadata": {
        "id": "DExBgJQY-jq6"
      },
      "execution_count": null,
      "outputs": []
    },
    {
      "cell_type": "code",
      "source": [
        "money = input(\"얼마 인출 할래?\")    # 내 풀이\n",
        "\n",
        "if money != money.isdigit():\n",
        "    print(\"유효한 금액을 입력하세요.\")\n",
        "    money = int(money)\n",
        "    if money > account:\n",
        "        print(f\"인출이 불가능합니다. {money - account}원의 잔액이 부족합니다.\")\n",
        "    else:\n",
        "        account -= money\n",
        "        print(f\"{money}원이 인출되었습니다.\")\n",
        "\n",
        "    print(f\"현재 잔액은 {account}원입니다.\")"
      ],
      "metadata": {
        "colab": {
          "base_uri": "https://localhost:8080/"
        },
        "id": "xJh4bBNU_J5-",
        "outputId": "4298c5a0-2b8e-4c1d-a812-a19d7af04c48"
      },
      "execution_count": null,
      "outputs": [
        {
          "output_type": "stream",
          "name": "stdout",
          "text": [
            "얼마 인출 할래?300\n",
            "유효한 금액을 입력하세요.\n",
            "300원이 인출되었습니다.\n",
            "현재 잔액은 9700원입니다.\n"
          ]
        }
      ]
    },
    {
      "cell_type": "code",
      "source": [
        "money = input(\"얼마 인출 할래?\")    # 강사님 풀이\n",
        "\n",
        "if money.isdigit():         # 정수 판별 메소드: isdigit\n",
        "    money = int(money)\n",
        "    if account < money:\n",
        "        print(f\"인출이 불가능합니다. {money - account}원의 잔액이 부족합니다.\")\n",
        "    else:\n",
        "        account -= money\n",
        "        print(f\"{money}원이 인출되었습니다\")\n",
        "    \n",
        "    print(f\"현재 잔액은 {account} 원입니다.\")\n",
        "else:    \n",
        "    print(f\"유효한 금액을 입력하세요.\")"
      ],
      "metadata": {
        "colab": {
          "base_uri": "https://localhost:8080/"
        },
        "id": "-rYpp4YjAMHC",
        "outputId": "876dedff-d704-405e-ab0a-b0c322271cda"
      },
      "execution_count": null,
      "outputs": [
        {
          "output_type": "stream",
          "name": "stdout",
          "text": [
            "얼마 인출 할래?9000\n",
            "9000원이 인출되었습니다\n",
            "현재 잔액은 1000 원입니다.\n"
          ]
        }
      ]
    },
    {
      "cell_type": "markdown",
      "source": [
        "- 중앙값\n",
        "    - 주어진 값을 크기 순으로 순서대로 정렬했을 때 가장 중앙에 위치한 값\n",
        "    - 이상치에 영향을 받지 않는다."
      ],
      "metadata": {
        "id": "QwU8OhMsBvSC"
      }
    },
    {
      "cell_type": "markdown",
      "source": [
        "- 조건문을 이용하여 중앙값을 추출하는 코드를 작성하세요."
      ],
      "metadata": {
        "id": "RuUnXSwhJxVO"
      }
    },
    {
      "cell_type": "code",
      "source": [
        "model_scores1 = [0.92, 0.83, 0.91, 0.77, 0.99, 0.61, 0.88, 0.76 ,0.75] #  홀수 개수\n",
        "model_scores2 = [0.92, 0.83, 0.91, 0.77, 0.99, 0.61, 0.88, 0.76, 0.75, 0.51] # 짝수 개수\n",
        "print(model_scores1)\n",
        "print(model_scores2)"
      ],
      "metadata": {
        "colab": {
          "base_uri": "https://localhost:8080/"
        },
        "id": "k_gd9Q_DIrE7",
        "outputId": "4fb20ff8-e236-4d15-e1df-6cc85bd74712"
      },
      "execution_count": null,
      "outputs": [
        {
          "output_type": "stream",
          "name": "stdout",
          "text": [
            "[0.92, 0.83, 0.91, 0.77, 0.99, 0.61, 0.88, 0.76, 0.75]\n",
            "[0.92, 0.83, 0.91, 0.77, 0.99, 0.61, 0.88, 0.76, 0.75, 0.51]\n"
          ]
        }
      ]
    },
    {
      "cell_type": "code",
      "source": [
        "scores = model_scores1\n",
        "scores = model_scores2\n",
        "\n",
        "length = len(scores)\n",
        "index = length // 2 \n",
        "\n",
        "if length % 2: # 홀수\n",
        "    median_val = sorted(scores)[index]\n",
        "else:          # 짝수\n",
        "    median_val = (sorted(scores)[index] + sorted(scores)[index-1])/2\n",
        "\n",
        "print(median_val)"
      ],
      "metadata": {
        "colab": {
          "base_uri": "https://localhost:8080/"
        },
        "id": "R4KGJlEbIwqp",
        "outputId": "076efa46-df32-49f5-e5cd-82331446e6e1"
      },
      "execution_count": null,
      "outputs": [
        {
          "output_type": "stream",
          "name": "stdout",
          "text": [
            "0.8\n"
          ]
        }
      ]
    },
    {
      "cell_type": "markdown",
      "source": [
        "# 반복문(loop)\n",
        "- 반복적으로 코드를 수정할 때 사용"
      ],
      "metadata": {
        "id": "gnKA2X0DJNNs"
      }
    },
    {
      "cell_type": "markdown",
      "source": [
        "## `while` \n",
        "- 조건이 참(`True`)인 동안 반복\n",
        "- 무한 반복 주의\n",
        "```python\n",
        "while <condition>:\n",
        "    code context\n",
        "```"
      ],
      "metadata": {
        "id": "h73urwzHNDb_"
      }
    },
    {
      "cell_type": "markdown",
      "source": [
        "- 3단 출력해보기"
      ],
      "metadata": {
        "id": "O4caC-NLNg-S"
      }
    },
    {
      "cell_type": "code",
      "source": [
        "n = 3   # 3단\n",
        "i = 1   # 곱하는 수 1 ~ 9까지 증가한다.\n",
        "\n",
        "while i < 10: # i(곱하는 수가) 10보다 작으면 반복해라\n",
        "    print(f\"{n} X {i} = {n*i}\")\n",
        "    i += 1"
      ],
      "metadata": {
        "colab": {
          "base_uri": "https://localhost:8080/"
        },
        "id": "texJ_3iAN1Oo",
        "outputId": "604347c9-6881-4b60-83e5-ad8944936151"
      },
      "execution_count": null,
      "outputs": [
        {
          "output_type": "stream",
          "name": "stdout",
          "text": [
            "3 X 1 = 3\n",
            "3 X 2 = 6\n",
            "3 X 3 = 9\n",
            "3 X 4 = 12\n",
            "3 X 5 = 15\n",
            "3 X 6 = 18\n",
            "3 X 7 = 21\n",
            "3 X 8 = 24\n",
            "3 X 9 = 27\n"
          ]
        }
      ]
    },
    {
      "cell_type": "code",
      "source": [
        "n = 3   # 3단\n",
        "i = 0   # 곱하는 수 1 ~ 9까지 증가한다.\n",
        "\n",
        "while i < 10: # i(곱하는 수가) 10보다 작으면 반복해라\n",
        "    i += 1\n",
        "    print(f\"{n} X {i} = {n*i}\") # 먼저 더해지고 결과가 나와 10까지 나온다!"
      ],
      "metadata": {
        "colab": {
          "base_uri": "https://localhost:8080/"
        },
        "id": "diPMqCWHOYb9",
        "outputId": "28ddab3b-28f1-462f-ccbd-83978d7a9f39"
      },
      "execution_count": null,
      "outputs": [
        {
          "output_type": "stream",
          "name": "stdout",
          "text": [
            "3 X 1 = 3\n",
            "3 X 2 = 6\n",
            "3 X 3 = 9\n",
            "3 X 4 = 12\n",
            "3 X 5 = 15\n",
            "3 X 6 = 18\n",
            "3 X 7 = 21\n",
            "3 X 8 = 24\n",
            "3 X 9 = 27\n",
            "3 X 10 = 30\n"
          ]
        }
      ]
    },
    {
      "cell_type": "markdown",
      "source": [
        "- `break` : 해당 반복문을 빠져 나온다."
      ],
      "metadata": {
        "id": "ZpqytqxeOxoG"
      }
    },
    {
      "cell_type": "code",
      "source": [
        "n = 9\n",
        "i = 1\n",
        "while True:\n",
        "    print(f\"{n} X {i} = {n*i}\")\n",
        "    i += 1\n",
        "    if i > 9: \n",
        "        break"
      ],
      "metadata": {
        "colab": {
          "base_uri": "https://localhost:8080/"
        },
        "id": "5WclZgWKPVPm",
        "outputId": "c3674e7b-7399-4b21-f7b9-122065249f95"
      },
      "execution_count": null,
      "outputs": [
        {
          "output_type": "stream",
          "name": "stdout",
          "text": [
            "9 X 1 = 9\n",
            "9 X 2 = 18\n",
            "9 X 3 = 27\n",
            "9 X 4 = 36\n",
            "9 X 5 = 45\n",
            "9 X 6 = 54\n",
            "9 X 7 = 63\n",
            "9 X 8 = 72\n",
            "9 X 9 = 81\n"
          ]
        }
      ]
    },
    {
      "cell_type": "markdown",
      "source": [
        "- `continue`\n",
        "    - 진행을 중단하고 다음 반복으로 넘어간다."
      ],
      "metadata": {
        "id": "cHgimPz4PmCu"
      }
    },
    {
      "cell_type": "code",
      "source": [
        "n = 3\n",
        "i = 1\n",
        "while i < 10:\n",
        "    if i % 2 != 0:\n",
        "        i += 1\n",
        "        continue  # 다시 위의 반복문으로 이동\n",
        "\n",
        "    print(f\"{n} X {i} = {n*i}\")\n",
        "    i += 1"
      ],
      "metadata": {
        "colab": {
          "base_uri": "https://localhost:8080/"
        },
        "id": "nbWJsFdFP_fn",
        "outputId": "071ca67c-c307-46b5-b9bf-95683f1f47a5"
      },
      "execution_count": null,
      "outputs": [
        {
          "output_type": "stream",
          "name": "stdout",
          "text": [
            "3 X 2 = 6\n",
            "3 X 4 = 12\n",
            "3 X 6 = 18\n",
            "3 X 8 = 24\n"
          ]
        }
      ]
    },
    {
      "cell_type": "markdown",
      "source": [
        "```\n",
        "다음과 같이 한영사전이 dict 형태로 되어있다.\n",
        "{'사과' : 'Apple', '바나나': 'Banana', '딸기' : 'Strawberry'}\n",
        "사용자의 입력을 받아 사전에 없는 단어(Key)를 입력받으면 \"사전에 없습니다. 다시 입력하세요\" 출력하고 입력대기 \n",
        "사전에 단어(key)가 있으면 해당되는 단어(value)를 출력하고 반복문을 빠져나오게 하자.\n",
        "```"
      ],
      "metadata": {
        "id": "Ta_CnRIjQY5u"
      }
    },
    {
      "cell_type": "code",
      "source": [
        "fruits = {'사과' : 'Apple', '바나나' : 'Banana', '딸기' : 'Strawberry'}\n",
        "while True:\n",
        "    word = input(\"과일단어 입력: \")\n",
        "    word = fruits.get(word) # 0과 none이 들어가면 실행이 안된다.(그래서 get함수 사용)\n",
        "    if word:\n",
        "        print(word)\n",
        "        break\n",
        "    else:\n",
        "        print(\"사전에 없습니다. 다시입력하세요\")"
      ],
      "metadata": {
        "colab": {
          "base_uri": "https://localhost:8080/"
        },
        "id": "gJa6deJyVF_Q",
        "outputId": "e3652646-be58-4efd-a4f6-10c382bfc676"
      },
      "execution_count": null,
      "outputs": [
        {
          "output_type": "stream",
          "name": "stdout",
          "text": [
            "과일단어 입력: 참외\n",
            "사전에 없습니다. 다시입력하세요\n",
            "과일단어 입력: 포도\n",
            "사전에 없습니다. 다시입력하세요\n",
            "과일단어 입력: 딸기\n",
            "Strawberry\n"
          ]
        }
      ]
    },
    {
      "cell_type": "markdown",
      "source": [
        "```\n",
        "다음과 같이 학습에 사용할 나이 데이터가 리스트에 담겨있다.\n",
        "age_list = [20,42,None,30,25,None,27,50,60]\n",
        "None 값들은 결측치\n",
        "None 값들을 제외한 나이값들의 평균을 구하시오.\n",
        "```"
      ],
      "metadata": {
        "id": "Xn_-c3XkVo_j"
      }
    },
    {
      "cell_type": "code",
      "source": [
        "age_list = [20,42,None,30,25,None,27,50,60]\n",
        "\n",
        "age_list"
      ],
      "metadata": {
        "colab": {
          "base_uri": "https://localhost:8080/"
        },
        "id": "Ipsrix7hXalh",
        "outputId": "2b16e21f-af6b-44de-f2fd-9db486c82d03"
      },
      "execution_count": null,
      "outputs": [
        {
          "output_type": "execute_result",
          "data": {
            "text/plain": [
              "[20, 42, None, 30, 25, None, 27, 50, 60]"
            ]
          },
          "metadata": {},
          "execution_count": 47
        }
      ]
    },
    {
      "cell_type": "code",
      "source": [
        "index = len(age_list)\n",
        "\n",
        "tmp = []\n",
        "\n",
        "while index:\n",
        "    index -= 1  # -1을 하기 위해 len으로 변환\n",
        "    if age_list[index] is not None:\n",
        "        tmp.append(age_list[index])\n",
        "avg = sum(tmp) / len(tmp)\n",
        "avg = int(avg)\n",
        "avg"
      ],
      "metadata": {
        "colab": {
          "base_uri": "https://localhost:8080/"
        },
        "id": "GGeWz4u5XsOp",
        "outputId": "ae53d370-25af-4d31-a97b-ebe8d04eacf6"
      },
      "execution_count": null,
      "outputs": [
        {
          "output_type": "execute_result",
          "data": {
            "text/plain": [
              "36"
            ]
          },
          "metadata": {},
          "execution_count": 49
        }
      ]
    },
    {
      "cell_type": "markdown",
      "source": [
        "``` 구한 평균 값으로 age_list의 결측치(None)를 채우세요.```"
      ],
      "metadata": {
        "id": "WcHNleYNbNnC"
      }
    },
    {
      "cell_type": "code",
      "source": [
        "index = len(age_list)\n",
        "while index:\n",
        "    index -= 1\n",
        "    if age_list[index] is None:\n",
        "        age_list[index] = avg\n",
        "age_list"
      ],
      "metadata": {
        "colab": {
          "base_uri": "https://localhost:8080/"
        },
        "id": "3GMaUsYMYdX5",
        "outputId": "c4aa17ce-fc93-4621-a684-0848be14e8aa"
      },
      "execution_count": null,
      "outputs": [
        {
          "output_type": "execute_result",
          "data": {
            "text/plain": [
              "[20, 42, 36, 30, 25, 36, 27, 50, 60]"
            ]
          },
          "metadata": {},
          "execution_count": 189
        }
      ]
    },
    {
      "cell_type": "markdown",
      "source": [
        "- 중첩 while 문"
      ],
      "metadata": {
        "id": "bDdRkKXVbXW5"
      }
    },
    {
      "cell_type": "code",
      "source": [
        "i = 1\n",
        "while i < 3:\n",
        "    print(f\"{i}번째 바깥쪽 while 문 입니다.\")\n",
        "    i += 1\n",
        "\n",
        "    j = 1\n",
        "    while j < 6:\n",
        "        print(f\"    {j}번째 안쪽 while 문 입니다.\")\n",
        "        j += 1\n",
        "        "
      ],
      "metadata": {
        "colab": {
          "base_uri": "https://localhost:8080/"
        },
        "id": "ksXBgBGNbway",
        "outputId": "e725e58f-0515-4ad7-abf2-bea82c80034b"
      },
      "execution_count": null,
      "outputs": [
        {
          "output_type": "stream",
          "name": "stdout",
          "text": [
            "1번째 바깥쪽 while 문 입니다.\n",
            "    1번째 안쪽 while 문 입니다.\n",
            "    2번째 안쪽 while 문 입니다.\n",
            "    3번째 안쪽 while 문 입니다.\n",
            "    4번째 안쪽 while 문 입니다.\n",
            "    5번째 안쪽 while 문 입니다.\n",
            "2번째 바깥쪽 while 문 입니다.\n",
            "    1번째 안쪽 while 문 입니다.\n",
            "    2번째 안쪽 while 문 입니다.\n",
            "    3번째 안쪽 while 문 입니다.\n",
            "    4번째 안쪽 while 문 입니다.\n",
            "    5번째 안쪽 while 문 입니다.\n"
          ]
        }
      ]
    },
    {
      "cell_type": "markdown",
      "source": [
        "- 중첩 while문 사용하여 구구단 출력하기\n",
        "```\n",
        "2 단 입니다.\n",
        "2 X 1 = 2\n",
        "2 X 2 = 4\n",
        "...\n",
        "2 X 9 = 18\n",
        "...\n",
        "...\n",
        "...\n",
        "9 단 입니다\n",
        "9 X 1 = 9\n",
        "9 X 2 = 18\n",
        "...\n",
        "9 X 9 = 81\n",
        "```"
      ],
      "metadata": {
        "id": "4HccVML8cWGQ"
      }
    },
    {
      "cell_type": "code",
      "source": [
        "i = 1\n",
        "while i < 10:\n",
        "     print(f\"{i+1}단 입니다.\")\n",
        "     i += 1\n",
        "\n",
        "     j = 1\n",
        "     while j < 10:\n",
        "        print(f\"{i} X {j} = {i*j}\")\n",
        "        j += 1"
      ],
      "metadata": {
        "colab": {
          "base_uri": "https://localhost:8080/"
        },
        "id": "EKg88VYtdc7Z",
        "outputId": "17d03c72-9a9f-49db-f12d-627eb8b8fe9b"
      },
      "execution_count": null,
      "outputs": [
        {
          "output_type": "stream",
          "name": "stdout",
          "text": [
            "2단 입니다.\n",
            "2 X 1 = 2\n",
            "2 X 2 = 4\n",
            "2 X 3 = 6\n",
            "2 X 4 = 8\n",
            "2 X 5 = 10\n",
            "2 X 6 = 12\n",
            "2 X 7 = 14\n",
            "2 X 8 = 16\n",
            "2 X 9 = 18\n",
            "3단 입니다.\n",
            "3 X 1 = 3\n",
            "3 X 2 = 6\n",
            "3 X 3 = 9\n",
            "3 X 4 = 12\n",
            "3 X 5 = 15\n",
            "3 X 6 = 18\n",
            "3 X 7 = 21\n",
            "3 X 8 = 24\n",
            "3 X 9 = 27\n",
            "4단 입니다.\n",
            "4 X 1 = 4\n",
            "4 X 2 = 8\n",
            "4 X 3 = 12\n",
            "4 X 4 = 16\n",
            "4 X 5 = 20\n",
            "4 X 6 = 24\n",
            "4 X 7 = 28\n",
            "4 X 8 = 32\n",
            "4 X 9 = 36\n",
            "5단 입니다.\n",
            "5 X 1 = 5\n",
            "5 X 2 = 10\n",
            "5 X 3 = 15\n",
            "5 X 4 = 20\n",
            "5 X 5 = 25\n",
            "5 X 6 = 30\n",
            "5 X 7 = 35\n",
            "5 X 8 = 40\n",
            "5 X 9 = 45\n",
            "6단 입니다.\n",
            "6 X 1 = 6\n",
            "6 X 2 = 12\n",
            "6 X 3 = 18\n",
            "6 X 4 = 24\n",
            "6 X 5 = 30\n",
            "6 X 6 = 36\n",
            "6 X 7 = 42\n",
            "6 X 8 = 48\n",
            "6 X 9 = 54\n",
            "7단 입니다.\n",
            "7 X 1 = 7\n",
            "7 X 2 = 14\n",
            "7 X 3 = 21\n",
            "7 X 4 = 28\n",
            "7 X 5 = 35\n",
            "7 X 6 = 42\n",
            "7 X 7 = 49\n",
            "7 X 8 = 56\n",
            "7 X 9 = 63\n",
            "8단 입니다.\n",
            "8 X 1 = 8\n",
            "8 X 2 = 16\n",
            "8 X 3 = 24\n",
            "8 X 4 = 32\n",
            "8 X 5 = 40\n",
            "8 X 6 = 48\n",
            "8 X 7 = 56\n",
            "8 X 8 = 64\n",
            "8 X 9 = 72\n",
            "9단 입니다.\n",
            "9 X 1 = 9\n",
            "9 X 2 = 18\n",
            "9 X 3 = 27\n",
            "9 X 4 = 36\n",
            "9 X 5 = 45\n",
            "9 X 6 = 54\n",
            "9 X 7 = 63\n",
            "9 X 8 = 72\n",
            "9 X 9 = 81\n",
            "10단 입니다.\n",
            "10 X 1 = 10\n",
            "10 X 2 = 20\n",
            "10 X 3 = 30\n",
            "10 X 4 = 40\n",
            "10 X 5 = 50\n",
            "10 X 6 = 60\n",
            "10 X 7 = 70\n",
            "10 X 8 = 80\n",
            "10 X 9 = 90\n"
          ]
        }
      ]
    },
    {
      "cell_type": "markdown",
      "source": [
        "## `for`\n",
        "- 반복 가능(iterable)한 객체를 더이상 꺼낼 수 없을 때까지 반복한다.\n",
        "- `list`, `tuple`, `set`, `dict`, `str`\n",
        "\n",
        "```python\n",
        "for <variable> in <iterable>:\n",
        "    code content\n",
        "```"
      ],
      "metadata": {
        "id": "yJ16gIh-d24m"
      }
    },
    {
      "cell_type": "code",
      "source": [
        "lst = [1,2,3,4]\n",
        "for item in lst:   # 받아줄 변수 = item\n",
        "    print(item **2)"
      ],
      "metadata": {
        "colab": {
          "base_uri": "https://localhost:8080/"
        },
        "id": "E37DnuGX6uoy",
        "outputId": "375c4411-af29-429d-e53f-61a44ec60dd3"
      },
      "execution_count": null,
      "outputs": [
        {
          "output_type": "stream",
          "name": "stdout",
          "text": [
            "1\n",
            "4\n",
            "9\n",
            "16\n"
          ]
        }
      ]
    },
    {
      "cell_type": "code",
      "source": [
        " n = 9\n",
        " lst = [1,2,3,4,5,6,7,8,9]\n",
        " for i in lst:\n",
        "    print(f\"{n} X {i} = {n*i}\")"
      ],
      "metadata": {
        "colab": {
          "base_uri": "https://localhost:8080/"
        },
        "id": "oGqFgAmO_dGw",
        "outputId": "e339acaa-0551-4d1f-b418-d0fa1905b480"
      },
      "execution_count": null,
      "outputs": [
        {
          "output_type": "stream",
          "name": "stdout",
          "text": [
            "9 X 1 = 9\n",
            "9 X 2 = 18\n",
            "9 X 3 = 27\n",
            "9 X 4 = 36\n",
            "9 X 5 = 45\n",
            "9 X 6 = 54\n",
            "9 X 7 = 63\n",
            "9 X 8 = 72\n",
            "9 X 9 = 81\n"
          ]
        }
      ]
    },
    {
      "cell_type": "markdown",
      "source": [
        "```\n",
        "for문과 조건문을 이용하여 다음의 리스트에서 음수만 출력하세요\n",
        "lst = [-2,1,4,-88,-12,-12]\n",
        "```"
      ],
      "metadata": {
        "id": "eTa5A_7Q_62Z"
      }
    },
    {
      "cell_type": "code",
      "source": [
        "lst = [-2,1,4,-88,12,-12]\n",
        "\n",
        "for i in lst:   # lst를 i(변수) 안에 넣음\n",
        "    if i < 0:   # 그래서 lst가 아닌 i를 넣어야함\n",
        "        print(i)"
      ],
      "metadata": {
        "colab": {
          "base_uri": "https://localhost:8080/"
        },
        "id": "EYM3qxk9AXFL",
        "outputId": "844b9f40-0ba0-428f-998b-98d6c06f7418"
      },
      "execution_count": null,
      "outputs": [
        {
          "output_type": "stream",
          "name": "stdout",
          "text": [
            "-2\n",
            "-88\n",
            "-12\n"
          ]
        }
      ]
    },
    {
      "cell_type": "markdown",
      "source": [
        "```\n",
        "for문과 조건문을 사용하여 다음의 리스트에서 3의 배수만을 출력하시오\n",
        "lst = [3,33,100,23,81,44]\n",
        "```"
      ],
      "metadata": {
        "id": "SCgJvUN6Apg5"
      }
    },
    {
      "cell_type": "code",
      "source": [
        "lst = [3,33,100,23,81,44]\n",
        "for i in lst:\n",
        "    if i % 3 == 0:\n",
        "        print(i)"
      ],
      "metadata": {
        "colab": {
          "base_uri": "https://localhost:8080/"
        },
        "id": "55MJGVXeDtyI",
        "outputId": "fb5e2084-5816-46b0-b5ae-feea25b2589d"
      },
      "execution_count": null,
      "outputs": [
        {
          "output_type": "stream",
          "name": "stdout",
          "text": [
            "3\n",
            "33\n",
            "81\n"
          ]
        }
      ]
    },
    {
      "cell_type": "markdown",
      "source": [
        "```\n",
        "다음의 리스트에서 50미만의 3의 배수만 출력\n",
        "lst = [3,33,100,23,81,44]\n",
        "```"
      ],
      "metadata": {
        "id": "OUfHgLrvD-tS"
      }
    },
    {
      "cell_type": "code",
      "source": [
        "lst = [3,33,100,23,81,44]\n",
        "for i in lst:\n",
        "    if i % 3 == 0 and i < 50:\n",
        "        print(i)"
      ],
      "metadata": {
        "colab": {
          "base_uri": "https://localhost:8080/"
        },
        "id": "oLEPggzcFv1k",
        "outputId": "f857ef7e-52b7-46af-f5a5-14333f5c6af5"
      },
      "execution_count": null,
      "outputs": [
        {
          "output_type": "stream",
          "name": "stdout",
          "text": [
            "3\n",
            "33\n"
          ]
        }
      ]
    },
    {
      "cell_type": "markdown",
      "source": [
        "```\n",
        "다음과 같이 리스트에 동물 이름이 있다. 첫글자를 대문자로 변경해서 출력하세요.\n",
        "lst = [\"dog\",\"cat\",\"rabbit\"]\n",
        "```"
      ],
      "metadata": {
        "id": "sCeVzsJXF9W4"
      }
    },
    {
      "cell_type": "code",
      "source": [
        "lst = [\"dog\",\"cat\",\"rabbit\"]\n",
        "\n",
        "for i in lst:\n",
        "      print(i[0].upper() + i[1::])"
      ],
      "metadata": {
        "colab": {
          "base_uri": "https://localhost:8080/"
        },
        "id": "s-j5UewzGyjC",
        "outputId": "df660fe3-9435-4408-f13a-ef7786370b8d"
      },
      "execution_count": null,
      "outputs": [
        {
          "output_type": "stream",
          "name": "stdout",
          "text": [
            "Dog\n",
            "Cat\n",
            "Rabbit\n"
          ]
        }
      ]
    },
    {
      "cell_type": "markdown",
      "source": [
        "```\n",
        "다음과 같이 이메일 리스트에 담겨 있다. for 문과 문자열 메소드를 이용하여 아이디만 출력해보세요\n",
        "\n",
        "email_list = [\"user1004@gmail.com\",\"user100@naver.com\",\"user1@gmail.com\",\"user14@hanmail.net\"]\n",
        "```"
      ],
      "metadata": {
        "id": "dqjLA8g3HMPz"
      }
    },
    {
      "cell_type": "code",
      "source": [
        "email_list = [\"user1004@gmail.com\",\"user100@naver.com\",\"user1@gmail.com\",\"user14@hanmail.net\"]\n",
        "\n",
        "for i in email_list:\n",
        "    print(i.split(\"@\")[0])"
      ],
      "metadata": {
        "colab": {
          "base_uri": "https://localhost:8080/"
        },
        "id": "Ra_33VCtMm1R",
        "outputId": "3325a102-2950-4f49-f236-6e7919720d43"
      },
      "execution_count": null,
      "outputs": [
        {
          "output_type": "stream",
          "name": "stdout",
          "text": [
            "user1004\n",
            "user100\n",
            "user1\n",
            "user14\n"
          ]
        }
      ]
    },
    {
      "cell_type": "markdown",
      "source": [
        "```\n",
        "gmail에 해당하는 이메일 주소만 출력하세요.\n",
        "email_list = [\"user1004@gmail.com\",\"user100@naver.com\",\"user1@gmail.com\",\"user14@hanmail.net\"]\n",
        "```"
      ],
      "metadata": {
        "id": "AxZR-JXAMzEX"
      }
    },
    {
      "cell_type": "code",
      "source": [
        "email_list = [\"user1004@gmailcom\",\"user100@naver.com\",\"user1@gmail.com\",\"user14@hanmail.net\"]\n",
        "\n",
        "for i in email_list:\n",
        "    if i.endswith(\"gmail.com\"):\n",
        "        print(i)"
      ],
      "metadata": {
        "colab": {
          "base_uri": "https://localhost:8080/"
        },
        "id": "3ou9qjNaOIKA",
        "outputId": "63435539-f948-4dd4-d9a8-0b0aa48a7ae9"
      },
      "execution_count": null,
      "outputs": [
        {
          "output_type": "stream",
          "name": "stdout",
          "text": [
            "user1@gmail.com\n"
          ]
        }
      ]
    },
    {
      "cell_type": "markdown",
      "source": [
        "### `range` 함수\n",
        "- 특정 구간의 숫자의 범위를 만들어 주는 함수\n",
        "- 슬라이싱 기법을 이용해서 숫자의 범위를 만들어준다.\n",
        "- 파이썬의 range 라는 숫자의 범위를 가진 iterable한 특수한 객체를 반환\n",
        "- for문과 자주 사용된다."
      ],
      "metadata": {
        "id": "0wxl4jmnOXRv"
      }
    },
    {
      "cell_type": "code",
      "source": [
        "range(0,10) # 숫자 0~9까지 순차적으로 뽑겠다는 말"
      ],
      "metadata": {
        "colab": {
          "base_uri": "https://localhost:8080/"
        },
        "id": "rY-MSWTdP-VX",
        "outputId": "965b629b-b11a-487c-d6aa-bf539fc23993"
      },
      "execution_count": null,
      "outputs": [
        {
          "output_type": "execute_result",
          "data": {
            "text/plain": [
              "range(0, 10)"
            ]
          },
          "metadata": {},
          "execution_count": 337
        }
      ]
    },
    {
      "cell_type": "code",
      "source": [
        "range(10)   # range(0,10)와 같다."
      ],
      "metadata": {
        "colab": {
          "base_uri": "https://localhost:8080/"
        },
        "id": "Hb_7bXaXQ2Dd",
        "outputId": "6fe8627f-9fbc-4915-8c12-0aa334d65330"
      },
      "execution_count": null,
      "outputs": [
        {
          "output_type": "execute_result",
          "data": {
            "text/plain": [
              "range(0, 10)"
            ]
          },
          "metadata": {},
          "execution_count": 339
        }
      ]
    },
    {
      "cell_type": "code",
      "source": [
        "list(range(2,11,2))"
      ],
      "metadata": {
        "colab": {
          "base_uri": "https://localhost:8080/"
        },
        "id": "THIOrCsLRG0W",
        "outputId": "83547857-3c2b-490a-987b-9322ada97d50"
      },
      "execution_count": null,
      "outputs": [
        {
          "output_type": "execute_result",
          "data": {
            "text/plain": [
              "[2, 4, 6, 8, 10]"
            ]
          },
          "metadata": {},
          "execution_count": 342
        }
      ]
    },
    {
      "cell_type": "code",
      "source": [
        "list(range(10,0,-1))  # 역순 (슬라이싱과 살짝 차이남)"
      ],
      "metadata": {
        "colab": {
          "base_uri": "https://localhost:8080/"
        },
        "id": "RK3dG2bURRiF",
        "outputId": "9e46a525-0a83-40b5-f1a1-5488690055b7"
      },
      "execution_count": null,
      "outputs": [
        {
          "output_type": "execute_result",
          "data": {
            "text/plain": [
              "[10, 9, 8, 7, 6, 5, 4, 3, 2, 1]"
            ]
          },
          "metadata": {},
          "execution_count": 346
        }
      ]
    },
    {
      "cell_type": "code",
      "source": [
        "i = 9\n",
        "for i in range(1,10):\n",
        "    print(f\"{n} X {i} = {n*i}\")"
      ],
      "metadata": {
        "colab": {
          "base_uri": "https://localhost:8080/"
        },
        "id": "2o69B7V5R4ll",
        "outputId": "bf91a7f4-14a7-402a-84b2-e44d5fd63e01"
      },
      "execution_count": null,
      "outputs": [
        {
          "output_type": "stream",
          "name": "stdout",
          "text": [
            "9 X 1 = 9\n",
            "9 X 2 = 18\n",
            "9 X 3 = 27\n",
            "9 X 4 = 36\n",
            "9 X 5 = 45\n",
            "9 X 6 = 54\n",
            "9 X 7 = 63\n",
            "9 X 8 = 72\n",
            "9 X 9 = 81\n"
          ]
        }
      ]
    },
    {
      "cell_type": "markdown",
      "source": [
        "```\n",
        "for 와 range 함수를 사용해서 1 ~ 40까지 숫자들 중에서 4의 배수만 출력해보세요.\n",
        "```"
      ],
      "metadata": {
        "id": "TTV4Dk13SOXd"
      }
    },
    {
      "cell_type": "code",
      "source": [
        "for i in range(1,41):   # 내 답\n",
        "    if i % 4 == 0:\n",
        "        print(i)"
      ],
      "metadata": {
        "colab": {
          "base_uri": "https://localhost:8080/"
        },
        "id": "2xWCpXNMSdum",
        "outputId": "8c3a858c-3e0e-4dd3-ce31-b3c69ab210db"
      },
      "execution_count": null,
      "outputs": [
        {
          "output_type": "stream",
          "name": "stdout",
          "text": [
            "4\n",
            "8\n",
            "12\n",
            "16\n",
            "20\n",
            "24\n",
            "28\n",
            "32\n",
            "36\n",
            "40\n"
          ]
        }
      ]
    },
    {
      "cell_type": "code",
      "source": [
        "for i in range(4,41,4): # 강사님 답\n",
        "    print(i)"
      ],
      "metadata": {
        "colab": {
          "base_uri": "https://localhost:8080/"
        },
        "id": "4N8P9WWtSp7U",
        "outputId": "98d9afcc-789f-4013-9e3e-301c49cb6453"
      },
      "execution_count": null,
      "outputs": [
        {
          "output_type": "stream",
          "name": "stdout",
          "text": [
            "4\n",
            "8\n",
            "12\n",
            "16\n",
            "20\n",
            "24\n",
            "28\n",
            "32\n",
            "36\n",
            "40\n"
          ]
        }
      ]
    },
    {
      "cell_type": "code",
      "source": [
        "for x in range(40,3,-4):\n",
        "    print(x)"
      ],
      "metadata": {
        "colab": {
          "base_uri": "https://localhost:8080/"
        },
        "id": "8Ut8h4oKUFlB",
        "outputId": "37b97b74-e7bb-4732-9108-32cad6755751"
      },
      "execution_count": null,
      "outputs": [
        {
          "output_type": "stream",
          "name": "stdout",
          "text": [
            "40\n",
            "36\n",
            "32\n",
            "28\n",
            "24\n",
            "20\n",
            "16\n",
            "12\n",
            "8\n",
            "4\n"
          ]
        }
      ]
    },
    {
      "cell_type": "code",
      "source": [
        "-----------------------------00----------------------------------"
      ],
      "metadata": {
        "colab": {
          "base_uri": "https://localhost:8080/",
          "height": 136
        },
        "id": "zJG6diSI1O28",
        "outputId": "e9a1fa4c-4321-4c27-ac95-dd3f79ec3829"
      },
      "execution_count": null,
      "outputs": [
        {
          "output_type": "error",
          "ename": "SyntaxError",
          "evalue": "ignored",
          "traceback": [
            "\u001b[0;36m  File \u001b[0;32m\"<ipython-input-1-3cd8c2098b48>\"\u001b[0;36m, line \u001b[0;32m1\u001b[0m\n\u001b[0;31m    ---------------------------------------------------------------\u001b[0m\n\u001b[0m                                                                   ^\u001b[0m\n\u001b[0;31mSyntaxError\u001b[0m\u001b[0;31m:\u001b[0m invalid syntax\n"
          ]
        }
      ]
    },
    {
      "cell_type": "markdown",
      "source": [
        "### 중첩 `for` 문"
      ],
      "metadata": {
        "id": "44NoQk2d1fFa"
      }
    },
    {
      "cell_type": "code",
      "source": [
        "for n in range(2,10):   # 바깥쪽\n",
        "    print(f\"{n}단 입니다.\")\n",
        "    for i in range(1,10):   # 안쪽\n",
        "        print(f\"{n} X {i} = {n*i}\")"
      ],
      "metadata": {
        "colab": {
          "base_uri": "https://localhost:8080/"
        },
        "id": "qvBjmlY410dq",
        "outputId": "22622de2-4f70-4d5b-fc76-2eb844ccfece"
      },
      "execution_count": null,
      "outputs": [
        {
          "output_type": "stream",
          "name": "stdout",
          "text": [
            "2단 입니다.\n",
            "2 X 1 = 2\n",
            "2 X 2 = 4\n",
            "2 X 3 = 6\n",
            "2 X 4 = 8\n",
            "2 X 5 = 10\n",
            "2 X 6 = 12\n",
            "2 X 7 = 14\n",
            "2 X 8 = 16\n",
            "2 X 9 = 18\n",
            "3단 입니다.\n",
            "3 X 1 = 3\n",
            "3 X 2 = 6\n",
            "3 X 3 = 9\n",
            "3 X 4 = 12\n",
            "3 X 5 = 15\n",
            "3 X 6 = 18\n",
            "3 X 7 = 21\n",
            "3 X 8 = 24\n",
            "3 X 9 = 27\n",
            "4단 입니다.\n",
            "4 X 1 = 4\n",
            "4 X 2 = 8\n",
            "4 X 3 = 12\n",
            "4 X 4 = 16\n",
            "4 X 5 = 20\n",
            "4 X 6 = 24\n",
            "4 X 7 = 28\n",
            "4 X 8 = 32\n",
            "4 X 9 = 36\n",
            "5단 입니다.\n",
            "5 X 1 = 5\n",
            "5 X 2 = 10\n",
            "5 X 3 = 15\n",
            "5 X 4 = 20\n",
            "5 X 5 = 25\n",
            "5 X 6 = 30\n",
            "5 X 7 = 35\n",
            "5 X 8 = 40\n",
            "5 X 9 = 45\n",
            "6단 입니다.\n",
            "6 X 1 = 6\n",
            "6 X 2 = 12\n",
            "6 X 3 = 18\n",
            "6 X 4 = 24\n",
            "6 X 5 = 30\n",
            "6 X 6 = 36\n",
            "6 X 7 = 42\n",
            "6 X 8 = 48\n",
            "6 X 9 = 54\n",
            "7단 입니다.\n",
            "7 X 1 = 7\n",
            "7 X 2 = 14\n",
            "7 X 3 = 21\n",
            "7 X 4 = 28\n",
            "7 X 5 = 35\n",
            "7 X 6 = 42\n",
            "7 X 7 = 49\n",
            "7 X 8 = 56\n",
            "7 X 9 = 63\n",
            "8단 입니다.\n",
            "8 X 1 = 8\n",
            "8 X 2 = 16\n",
            "8 X 3 = 24\n",
            "8 X 4 = 32\n",
            "8 X 5 = 40\n",
            "8 X 6 = 48\n",
            "8 X 7 = 56\n",
            "8 X 8 = 64\n",
            "8 X 9 = 72\n",
            "9단 입니다.\n",
            "9 X 1 = 9\n",
            "9 X 2 = 18\n",
            "9 X 3 = 27\n",
            "9 X 4 = 36\n",
            "9 X 5 = 45\n",
            "9 X 6 = 54\n",
            "9 X 7 = 63\n",
            "9 X 8 = 72\n",
            "9 X 9 = 81\n"
          ]
        }
      ]
    },
    {
      "cell_type": "code",
      "source": [
        "print(\"출력 후 자동 줄바꿈이 되는 이유는\\n\")\n",
        "print(\"뭘까?\")"
      ],
      "metadata": {
        "colab": {
          "base_uri": "https://localhost:8080/"
        },
        "id": "m0c1dlot12A4",
        "outputId": "9fe5ddc7-e7ac-47db-875e-6843ee423c99"
      },
      "execution_count": null,
      "outputs": [
        {
          "output_type": "stream",
          "name": "stdout",
          "text": [
            "출력 후 자동 줄바꿈이 되는 이유는\n",
            "\n",
            "뭘까?\n"
          ]
        }
      ]
    },
    {
      "cell_type": "code",
      "source": [
        "print?"
      ],
      "metadata": {
        "id": "D9BOXT3720Xx"
      },
      "execution_count": null,
      "outputs": []
    },
    {
      "cell_type": "code",
      "source": [
        "print() # 줄바꿈만 함\n",
        "print()\n",
        "print()\n",
        "print()"
      ],
      "metadata": {
        "colab": {
          "base_uri": "https://localhost:8080/"
        },
        "id": "fNeXXu6f3FNw",
        "outputId": "098ddad2-cda3-4712-b9e1-a1a67ba6196c"
      },
      "execution_count": null,
      "outputs": [
        {
          "output_type": "stream",
          "name": "stdout",
          "text": [
            "\n",
            "\n",
            "\n",
            "\n"
          ]
        }
      ]
    },
    {
      "cell_type": "code",
      "source": [
        "print(end=\" \")  # 띄어쓰기 3개\n",
        "print(end=\" \")\n",
        "print(end=\" \")"
      ],
      "metadata": {
        "colab": {
          "base_uri": "https://localhost:8080/"
        },
        "id": "9Xjv7o8n3UjY",
        "outputId": "f79a6a7a-8d4f-4e4f-8d32-b54451d67201"
      },
      "execution_count": null,
      "outputs": [
        {
          "output_type": "stream",
          "name": "stdout",
          "text": [
            "   "
          ]
        }
      ]
    },
    {
      "cell_type": "markdown",
      "source": [
        "```\n",
        "*\n",
        "**\n",
        "***\n",
        "****\n",
        "*****\n",
        "```"
      ],
      "metadata": {
        "id": "F4Jg75sX3fnY"
      }
    },
    {
      "cell_type": "code",
      "source": [
        "n = 5\n",
        "\n",
        "for i in range(n):\n",
        "    for j in range(i+1):\n",
        "        print(\"*\",end = \"\")\n",
        "    print() # 줄바꿈 해줌"
      ],
      "metadata": {
        "colab": {
          "base_uri": "https://localhost:8080/"
        },
        "id": "961mizrN3rxm",
        "outputId": "317803d0-f1cf-492b-b058-5b07880c312d"
      },
      "execution_count": null,
      "outputs": [
        {
          "output_type": "stream",
          "name": "stdout",
          "text": [
            "*\n",
            "**\n",
            "***\n",
            "****\n",
            "*****\n"
          ]
        }
      ]
    },
    {
      "cell_type": "markdown",
      "source": [
        "```\n",
        "    *\n",
        "   **\n",
        "  ***\n",
        " ****\n",
        "*****\n",
        "```"
      ],
      "metadata": {
        "id": "U9LgADN232qg"
      }
    },
    {
      "cell_type": "code",
      "source": [
        "n = 5\n",
        "\n",
        "for i in range(n):\n",
        "    for _ in range(n-i-1):   # 공백 for문\n",
        "        print(\" \", end = \"\") # end 함수는 출력값과 출력값을 이어줌\n",
        "    for _ in range(i+1):\n",
        "        print(\"*\", end = \"\")\n",
        "    print()"
      ],
      "metadata": {
        "colab": {
          "base_uri": "https://localhost:8080/"
        },
        "id": "64OBYE4v5F2u",
        "outputId": "64a25ee0-f6b4-4b6a-a451-67f7c14ec39a"
      },
      "execution_count": null,
      "outputs": [
        {
          "output_type": "stream",
          "name": "stdout",
          "text": [
            "    *\n",
            "   **\n",
            "  ***\n",
            " ****\n",
            "*****\n"
          ]
        }
      ]
    },
    {
      "cell_type": "markdown",
      "source": [
        "```\n",
        "*****\n",
        " ****\n",
        "  ***\n",
        "   **\n",
        "    *\n",
        "```"
      ],
      "metadata": {
        "id": "NdncfJnw5N6H"
      }
    },
    {
      "cell_type": "code",
      "source": [
        "n = 5\n",
        "\n",
        "for i in range(n):\n",
        "    for _ in range(i):   # 공백 for문\n",
        "        print(\" \", end = \"\") # end 함수는 출력값과 출력값을 이어줌\n",
        "    for _ in range(n-i):\n",
        "        print(\"*\", end = \"\")\n",
        "    print()"
      ],
      "metadata": {
        "colab": {
          "base_uri": "https://localhost:8080/"
        },
        "id": "0PcvGWBN9E9P",
        "outputId": "2d67422f-8b5c-45ac-ac7b-e6ccde48e7da"
      },
      "execution_count": null,
      "outputs": [
        {
          "output_type": "stream",
          "name": "stdout",
          "text": [
            "*****\n",
            " ****\n",
            "  ***\n",
            "   **\n",
            "    *\n"
          ]
        }
      ]
    },
    {
      "cell_type": "markdown",
      "source": [
        "- 가로 구구단 출력하기\n",
        "```\n",
        "2 X 1 = 2    3 X 1 = 3    .... 9 X 1 = 9\n",
        "2 X 2 = 4    3 X 2 = 6    .... 9 X 2 = 18\n",
        "...\n",
        "...\n",
        "2 X 9 = 18   3 X 9 = 27   .... 9 X 9 = 81\n",
        "```"
      ],
      "metadata": {
        "id": "cfwo2Fpy9SJ3"
      }
    },
    {
      "cell_type": "code",
      "source": [
        "for n in range(1,10):   # 바깥쪽\n",
        "    for i in range(2,10):   # 안쪽\n",
        "        print(f\"{i} X {n} = {n*i}\", end = \"\\t\")\n",
        "    print()"
      ],
      "metadata": {
        "colab": {
          "base_uri": "https://localhost:8080/"
        },
        "id": "e38-Rww0-zWo",
        "outputId": "6b117b3c-aeea-4e12-b033-d0c62b5ef821"
      },
      "execution_count": null,
      "outputs": [
        {
          "output_type": "stream",
          "name": "stdout",
          "text": [
            "2 X 1 = 2\t3 X 1 = 3\t4 X 1 = 4\t5 X 1 = 5\t6 X 1 = 6\t7 X 1 = 7\t8 X 1 = 8\t9 X 1 = 9\t\n",
            "2 X 2 = 4\t3 X 2 = 6\t4 X 2 = 8\t5 X 2 = 10\t6 X 2 = 12\t7 X 2 = 14\t8 X 2 = 16\t9 X 2 = 18\t\n",
            "2 X 3 = 6\t3 X 3 = 9\t4 X 3 = 12\t5 X 3 = 15\t6 X 3 = 18\t7 X 3 = 21\t8 X 3 = 24\t9 X 3 = 27\t\n",
            "2 X 4 = 8\t3 X 4 = 12\t4 X 4 = 16\t5 X 4 = 20\t6 X 4 = 24\t7 X 4 = 28\t8 X 4 = 32\t9 X 4 = 36\t\n",
            "2 X 5 = 10\t3 X 5 = 15\t4 X 5 = 20\t5 X 5 = 25\t6 X 5 = 30\t7 X 5 = 35\t8 X 5 = 40\t9 X 5 = 45\t\n",
            "2 X 6 = 12\t3 X 6 = 18\t4 X 6 = 24\t5 X 6 = 30\t6 X 6 = 36\t7 X 6 = 42\t8 X 6 = 48\t9 X 6 = 54\t\n",
            "2 X 7 = 14\t3 X 7 = 21\t4 X 7 = 28\t5 X 7 = 35\t6 X 7 = 42\t7 X 7 = 49\t8 X 7 = 56\t9 X 7 = 63\t\n",
            "2 X 8 = 16\t3 X 8 = 24\t4 X 8 = 32\t5 X 8 = 40\t6 X 8 = 48\t7 X 8 = 56\t8 X 8 = 64\t9 X 8 = 72\t\n",
            "2 X 9 = 18\t3 X 9 = 27\t4 X 9 = 36\t5 X 9 = 45\t6 X 9 = 54\t7 X 9 = 63\t8 X 9 = 72\t9 X 9 = 81\t\n"
          ]
        }
      ]
    },
    {
      "cell_type": "markdown",
      "source": [
        "- 각 학생들의 평균과의 점수 차이인 편차를 알고 싶다면?"
      ],
      "metadata": {
        "id": "NpMMQsyGEgMp"
      }
    },
    {
      "cell_type": "code",
      "source": [
        "scores = [90,81,65,77,98,70,82]\n",
        "avg = sum(scores) / len(scores)\n",
        "for score in scores:\n",
        "    deviation = avg - score\n",
        "    print(deviation)"
      ],
      "metadata": {
        "colab": {
          "base_uri": "https://localhost:8080/"
        },
        "id": "l2VdVxUDGn-H",
        "outputId": "fb07e83c-bcd3-4a10-c451-001749b86d85"
      },
      "execution_count": null,
      "outputs": [
        {
          "output_type": "stream",
          "name": "stdout",
          "text": [
            "-9.57142857142857\n",
            "-0.5714285714285694\n",
            "15.42857142857143\n",
            "3.4285714285714306\n",
            "-17.57142857142857\n",
            "10.42857142857143\n",
            "-1.5714285714285694\n"
          ]
        }
      ]
    },
    {
      "cell_type": "markdown",
      "source": [
        "- 편차의 평균인 표준편차를 구해보자\n",
        "$$\n",
        "\\mu = \\frac{1}{N}\\sum_{i=1}^{N}x_i\n",
        "$$\n",
        "\n",
        "$$\n",
        "\\sigma^{2} = \\frac{1}{N}\\sum_{i=1}^{N}(x_i - \\mu)^{2}\n",
        "$$"
      ],
      "metadata": {
        "id": "Os0YaOBlGtyR"
      }
    },
    {
      "cell_type": "code",
      "source": [
        "scores = [90,81,65,77,98,70,82]\n",
        "avg = sum(scores) / len(scores)\n",
        "deviation_list = []\n",
        "\n",
        "for score in scores:\n",
        "    deviation = avg - score\n",
        "    deviation_list.append(deviation**2)\n",
        "var = sum(deviation_list) / len(deviation_list)\n",
        "var"
      ],
      "metadata": {
        "colab": {
          "base_uri": "https://localhost:8080/"
        },
        "id": "BaG1Bb65HZlJ",
        "outputId": "bd130c37-1163-4f92-db0e-1a706ba93f10"
      },
      "execution_count": null,
      "outputs": [
        {
          "output_type": "execute_result",
          "data": {
            "text/plain": [
              "108.81632653061224"
            ]
          },
          "metadata": {},
          "execution_count": 87
        }
      ]
    },
    {
      "cell_type": "code",
      "source": [
        "var ** 0.5 # 표준편차"
      ],
      "metadata": {
        "colab": {
          "base_uri": "https://localhost:8080/"
        },
        "id": "_liw8F6QIdkH",
        "outputId": "59072499-f96f-4e1a-8729-f5c642498e7b"
      },
      "execution_count": null,
      "outputs": [
        {
          "output_type": "execute_result",
          "data": {
            "text/plain": [
              "10.431506436302104"
            ]
          },
          "metadata": {},
          "execution_count": 89
        }
      ]
    },
    {
      "cell_type": "markdown",
      "source": [
        "- Min-Max Scaling\n",
        "    - 데이터의 수치의 범위를 바꿔주는 정규화 스케일링 기법이다.\n",
        "    - 데이터의 범위를 0~1 사이로 바꿔준다.\n",
        "```\n",
        "나이데이터 = [20,30,60,65,38,63]\n",
        "연봉데이터 = [3000,3500,4000,9000,8000,12000]\n",
        "```\n",
        "$$\n",
        "\\frac{x-Min(X)}{Max(X)-Min(X)}\n",
        "$$ \n"
      ],
      "metadata": {
        "id": "OdZpnneJIhFf"
      }
    },
    {
      "cell_type": "code",
      "source": [
        "lst = [20,30,60,65,38,63]   # 내 풀이\n",
        "minmax = [] # 스케일링을 넣을 데이터\n",
        "\n",
        "for i in lst:\n",
        "    res = (i - min(lst)) / (max(lst) - min(lst))\n",
        "    minmax.append(res)\n",
        "minmax"
      ],
      "metadata": {
        "colab": {
          "base_uri": "https://localhost:8080/"
        },
        "id": "TXs9VT6LJEVg",
        "outputId": "d93ad542-4aa6-4538-911c-cad0d05bf125"
      },
      "execution_count": null,
      "outputs": [
        {
          "output_type": "execute_result",
          "data": {
            "text/plain": [
              "[0.0, 0.2222222222222222, 0.8888888888888888, 1.0, 0.4, 0.9555555555555556]"
            ]
          },
          "metadata": {},
          "execution_count": 105
        }
      ]
    },
    {
      "cell_type": "code",
      "source": [
        "lst = [20,30,60,65,38,63]   # 강사님 풀이\n",
        "minmax = [] # 스케일링을 넣을 데이터\n",
        "\n",
        "min_value = min(lst)\n",
        "size_value = max(lst) - min_value\n",
        "\n",
        "for x in lst:\n",
        "    x = (x-min_value) / size_value\n",
        "    minmax.append(x)\n",
        "minmax"
      ],
      "metadata": {
        "colab": {
          "base_uri": "https://localhost:8080/"
        },
        "id": "KxzJrAdOKACC",
        "outputId": "075ecb72-7aa6-4c1a-a746-f0d6a1fa17c0"
      },
      "execution_count": null,
      "outputs": [
        {
          "output_type": "execute_result",
          "data": {
            "text/plain": [
              "[0.0, 0.2222222222222222, 0.8888888888888888, 1.0, 0.4, 0.9555555555555556]"
            ]
          },
          "metadata": {},
          "execution_count": 106
        }
      ]
    },
    {
      "cell_type": "code",
      "source": [
        "for x in minmax:\n",
        "    x =  x * size_value + min_value\n",
        "    print(x)"
      ],
      "metadata": {
        "colab": {
          "base_uri": "https://localhost:8080/"
        },
        "id": "QVpwJP9APYIB",
        "outputId": "14bf1b19-cc62-4afc-9371-ecc69277d443"
      },
      "execution_count": null,
      "outputs": [
        {
          "output_type": "stream",
          "name": "stdout",
          "text": [
            "20.0\n",
            "30.0\n",
            "60.0\n",
            "65.0\n",
            "38.0\n",
            "63.0\n"
          ]
        }
      ]
    },
    {
      "cell_type": "markdown",
      "source": [
        "- 주어진 데이터에서 최빈값(가장 많이 나온 값)을 구하시오\n",
        "```\n",
        "grades = [\"A-\",\"A\" ,\"A+\",\"B\",\"A\",\"A\",\"A+\",\"A-\",\"B\",\"B\",\"B\",\"C+\",\"C\",\"C+\",\"C\"]\n",
        "```"
      ],
      "metadata": {
        "id": "JOf3BAc8RS7F"
      }
    },
    {
      "cell_type": "code",
      "source": [
        "grades = [\"A-\",\"A\" ,\"A+\",\"B\",\"A\",\"A\",\"A+\",\"A-\",\"B\",\"B\",\"B\",\"C+\",\"C\",\"C+\",\"C\"]\n",
        "\n",
        "grade = set(grades)\n",
        "\n",
        "mode = []\n",
        "\n",
        "\n",
        "for i in grades:\n",
        "    i.count(grade)\n",
        "    mode.append()\n",
        "\n",
        "print(mode)"
      ],
      "metadata": {
        "colab": {
          "base_uri": "https://localhost:8080/",
          "height": 35
        },
        "id": "hv0vVBtfR04J",
        "outputId": "4cf9dc26-a693-4ea7-e01f-70927b93bee2"
      },
      "execution_count": null,
      "outputs": [
        {
          "output_type": "execute_result",
          "data": {
            "text/plain": [
              "'B'"
            ],
            "application/vnd.google.colaboratory.intrinsic+json": {
              "type": "string"
            }
          },
          "metadata": {},
          "execution_count": 158
        }
      ]
    },
    {
      "cell_type": "code",
      "source": [
        "grades = [\"A-\",\"A\" ,\"A+\",\"B\",\"A\",\"A\",\"A+\",\"A-\",\"B\",\"B\",\"B\",\"C+\",\"C\",\"C+\",\"C\"]\n",
        "# 데이터를 뽑아내는 능력 필요!\n",
        "\n",
        "cnt = 0 # 값의 개수를 체크하기 위한 용도\n",
        "\n",
        "for i in set(grades):   # 중복을 제거 해줌\n",
        "    if cnt < grades.count(i):   # 비교 대상을 만들어줌\n",
        "        cnt = grades.count(i)   # 현재 최빈값의 개수보다 클 경우 cnt에 넣음\n",
        "        mode = i    # 최빈값을 mode 변수에 저장\n",
        "mode"
      ],
      "metadata": {
        "colab": {
          "base_uri": "https://localhost:8080/",
          "height": 35
        },
        "id": "LDGJkx4JR47h",
        "outputId": "57d96ef5-d818-4034-b0ae-c0b99a11edab"
      },
      "execution_count": null,
      "outputs": [
        {
          "output_type": "execute_result",
          "data": {
            "text/plain": [
              "'B'"
            ],
            "application/vnd.google.colaboratory.intrinsic+json": {
              "type": "string"
            }
          },
          "metadata": {},
          "execution_count": 159
        }
      ]
    },
    {
      "cell_type": "markdown",
      "source": [
        "- 문자열도 iterable 하다."
      ],
      "metadata": {
        "id": "p1ClbtAUSsz6"
      }
    },
    {
      "cell_type": "code",
      "source": [
        "text = \"Hello word\"\n",
        "\n",
        "for s in text:\n",
        "    print(s)"
      ],
      "metadata": {
        "colab": {
          "base_uri": "https://localhost:8080/"
        },
        "id": "0cB4CjSwaZlq",
        "outputId": "dae30521-8180-4dce-f331-c11f18954575"
      },
      "execution_count": null,
      "outputs": [
        {
          "output_type": "stream",
          "name": "stdout",
          "text": [
            "H\n",
            "e\n",
            "l\n",
            "l\n",
            "o\n",
            " \n",
            "w\n",
            "o\n",
            "r\n",
            "d\n"
          ]
        }
      ]
    },
    {
      "cell_type": "code",
      "source": [
        "text = \"Hello word\"\n",
        "\n",
        "cnt = 0\n",
        "\n",
        "for s in text:\n",
        "    if s == \"l\":\n",
        "        cnt += 1\n",
        "print(cnt) "
      ],
      "metadata": {
        "colab": {
          "base_uri": "https://localhost:8080/"
        },
        "id": "57zbN4SUag1C",
        "outputId": "37e74f46-12bf-4b56-f245-e644bbc6a6ca"
      },
      "execution_count": null,
      "outputs": [
        {
          "output_type": "stream",
          "name": "stdout",
          "text": [
            "2\n"
          ]
        }
      ]
    },
    {
      "cell_type": "markdown",
      "source": [
        "### `enumerate` 함수\n",
        "- iterable한 객체를 꺼낼 때 인덱스도 같이 꺼낸다."
      ],
      "metadata": {
        "id": "8OJAT3Dra14y"
      }
    },
    {
      "cell_type": "code",
      "source": [
        "score_list = [90,87,93]\n",
        "i = 0\n",
        "for score in score_list:\n",
        "    print(f\"{i}번째 인덱스의 점수는 {score}\")\n",
        "    i += 1\n",
        "# 이것을 enumerate 함수로 변환!"
      ],
      "metadata": {
        "colab": {
          "base_uri": "https://localhost:8080/"
        },
        "id": "77HaHbRWebw1",
        "outputId": "628f5ba4-58ac-4f05-e165-4d0dde84cb98"
      },
      "execution_count": null,
      "outputs": [
        {
          "output_type": "stream",
          "name": "stdout",
          "text": [
            "0번째 인덱스의 점수는 90\n",
            "1번째 인덱스의 점수는 87\n",
            "2번째 인덱스의 점수는 93\n"
          ]
        }
      ]
    },
    {
      "cell_type": "code",
      "source": [
        "for i, score in enumerate(score_list):\n",
        "    print(f\"{i}번째 인덱스의 점수는 {score}\")"
      ],
      "metadata": {
        "colab": {
          "base_uri": "https://localhost:8080/"
        },
        "id": "rLxc82vCfPq7",
        "outputId": "91aa5114-c8dd-4c33-bdb7-f5d92e711ab5"
      },
      "execution_count": null,
      "outputs": [
        {
          "output_type": "stream",
          "name": "stdout",
          "text": [
            "0번째 인덱스의 점수는 90\n",
            "1번째 인덱스의 점수는 87\n",
            "2번째 인덱스의 점수는 93\n"
          ]
        }
      ]
    },
    {
      "cell_type": "code",
      "source": [
        "enumerate(score_list)"
      ],
      "metadata": {
        "colab": {
          "base_uri": "https://localhost:8080/"
        },
        "id": "s0ZWN6Gcfk4C",
        "outputId": "3fe6f891-6d5c-4f0f-f09c-32f19af39be4"
      },
      "execution_count": null,
      "outputs": [
        {
          "output_type": "execute_result",
          "data": {
            "text/plain": [
              "<enumerate at 0x7f2167e3d500>"
            ]
          },
          "metadata": {},
          "execution_count": 167
        }
      ]
    },
    {
      "cell_type": "code",
      "source": [
        "list(enumerate(score_list)) # 인덱스랑 값을 같이 넣을 수 있다."
      ],
      "metadata": {
        "colab": {
          "base_uri": "https://localhost:8080/"
        },
        "id": "A5AFUTxGfx4D",
        "outputId": "90073e41-1812-4082-c6a6-12d7861e5eb8"
      },
      "execution_count": null,
      "outputs": [
        {
          "output_type": "execute_result",
          "data": {
            "text/plain": [
              "[(0, 90), (1, 87), (2, 93)]"
            ]
          },
          "metadata": {},
          "execution_count": 168
        }
      ]
    },
    {
      "cell_type": "code",
      "source": [
        "dict(enumerate(score_list))"
      ],
      "metadata": {
        "colab": {
          "base_uri": "https://localhost:8080/"
        },
        "id": "rZvae18Rf_O9",
        "outputId": "cbdfe48d-d8be-47bb-d5df-c7083b174889"
      },
      "execution_count": null,
      "outputs": [
        {
          "output_type": "execute_result",
          "data": {
            "text/plain": [
              "{0: 90, 1: 87, 2: 93}"
            ]
          },
          "metadata": {},
          "execution_count": 169
        }
      ]
    },
    {
      "cell_type": "markdown",
      "source": [
        "### `zip` 함수\n",
        "- 여러개의 컬렉션 자료형을 하나로 모아서 병렬로 꺼낸다."
      ],
      "metadata": {
        "id": "gASiaTeIgJ9d"
      }
    },
    {
      "cell_type": "code",
      "source": [
        "class_list = [\"A반\",\"B반\",\"C반\"]\n",
        "score_list = [90, 87, 93]\n",
        "\n",
        "length = len(class_list)    # list 길이를 출력\n",
        "for i in range(length):     # list의 위치 값을 출력\n",
        "    print(f\"{class_list[i]}의 점수는 {score_list[i]}점 입니다.\")\n",
        "# zip함수로 변환"
      ],
      "metadata": {
        "colab": {
          "base_uri": "https://localhost:8080/"
        },
        "id": "hC80_k9SgeU7",
        "outputId": "28d231e5-6e2e-4efd-e818-0d3f5224fd32"
      },
      "execution_count": null,
      "outputs": [
        {
          "output_type": "execute_result",
          "data": {
            "text/plain": [
              "3"
            ]
          },
          "metadata": {},
          "execution_count": 193
        }
      ]
    },
    {
      "cell_type": "code",
      "source": [
        "for c,s in zip(class_list,score_list):\n",
        "    print(f\"{c}의 점수는 {s}점 입니다.\")"
      ],
      "metadata": {
        "colab": {
          "base_uri": "https://localhost:8080/"
        },
        "id": "xpYmi97ihRyB",
        "outputId": "45240e03-b2df-4d94-8248-b25678716320"
      },
      "execution_count": null,
      "outputs": [
        {
          "output_type": "stream",
          "name": "stdout",
          "text": [
            "A반의 점수는 90점 입니다.\n",
            "B반의 점수는 87점 입니다.\n",
            "C반의 점수는 93점 입니다.\n"
          ]
        }
      ]
    },
    {
      "cell_type": "code",
      "source": [
        "score_list2 = [70,50,63]\n",
        "for c, s, s2 in zip(class_list, score_list, score_list2):\n",
        "    print(f\"{c} {s} {s2}\")"
      ],
      "metadata": {
        "colab": {
          "base_uri": "https://localhost:8080/"
        },
        "id": "GXn0Zn53hkaG",
        "outputId": "aea5d731-3d39-42bc-d192-f5baef278268"
      },
      "execution_count": null,
      "outputs": [
        {
          "output_type": "stream",
          "name": "stdout",
          "text": [
            "A반 90 70\n",
            "B반 87 50\n",
            "C반 93 63\n"
          ]
        }
      ]
    },
    {
      "cell_type": "code",
      "source": [
        "zip(class_list,score_list)"
      ],
      "metadata": {
        "colab": {
          "base_uri": "https://localhost:8080/"
        },
        "id": "QPoWvHtMiIrT",
        "outputId": "8ad5702a-f065-44cd-c472-7139e72a1d91"
      },
      "execution_count": null,
      "outputs": [
        {
          "output_type": "execute_result",
          "data": {
            "text/plain": [
              "<zip at 0x7f2167e240f0>"
            ]
          },
          "metadata": {},
          "execution_count": 175
        }
      ]
    },
    {
      "cell_type": "code",
      "source": [
        "list(zip(class_list,score_list))"
      ],
      "metadata": {
        "colab": {
          "base_uri": "https://localhost:8080/"
        },
        "id": "kV1MIsBqiaD1",
        "outputId": "5dc54944-a8c6-44f5-8c72-8e3134d5a652"
      },
      "execution_count": null,
      "outputs": [
        {
          "output_type": "execute_result",
          "data": {
            "text/plain": [
              "[('A반', 90), ('B반', 87), ('C반', 93)]"
            ]
          },
          "metadata": {},
          "execution_count": 176
        }
      ]
    },
    {
      "cell_type": "code",
      "source": [
        "dict(zip(class_list,score_list))"
      ],
      "metadata": {
        "colab": {
          "base_uri": "https://localhost:8080/"
        },
        "id": "fYimE0gNidGc",
        "outputId": "c3645aa4-0eb6-4862-ce3f-78a5176b970f"
      },
      "execution_count": null,
      "outputs": [
        {
          "output_type": "execute_result",
          "data": {
            "text/plain": [
              "{'A반': 90, 'B반': 87, 'C반': 93}"
            ]
          },
          "metadata": {},
          "execution_count": 177
        }
      ]
    },
    {
      "cell_type": "code",
      "source": [
        "lst1 = [10,20,30,40,50,60]\n",
        "lst2 = [\"A\",\"B\",\"C\"]\n",
        "\n",
        "for item1,item2 in zip(lst1,lst2):\n",
        "    print(item1, item2)"
      ],
      "metadata": {
        "colab": {
          "base_uri": "https://localhost:8080/"
        },
        "id": "FmRb_C65isWb",
        "outputId": "fb19ecdc-9979-46f4-8408-ad3bd46a9c7c"
      },
      "execution_count": null,
      "outputs": [
        {
          "output_type": "stream",
          "name": "stdout",
          "text": [
            "10 A\n",
            "20 B\n",
            "30 C\n"
          ]
        }
      ]
    },
    {
      "cell_type": "markdown",
      "source": [
        "### `dict` for 문"
      ],
      "metadata": {
        "id": "xlCFe3xYjGd_"
      }
    },
    {
      "cell_type": "code",
      "source": [
        "score_dict = {\n",
        "    \"국어\":100,\n",
        "    \"수학\":80,\n",
        "    \"영어\":65\n",
        "}\n",
        "\n",
        "score_dict.keys()   # 리스트 형식으로 감싸져서 for 문이 가능"
      ],
      "metadata": {
        "colab": {
          "base_uri": "https://localhost:8080/"
        },
        "id": "ZF03IKixjXf5",
        "outputId": "cbbeae91-a487-45a8-c4bd-2542a58c187f"
      },
      "execution_count": null,
      "outputs": [
        {
          "output_type": "execute_result",
          "data": {
            "text/plain": [
              "dict_keys(['국어', '수학', '영어'])"
            ]
          },
          "metadata": {},
          "execution_count": 180
        }
      ]
    },
    {
      "cell_type": "code",
      "source": [
        "for k in score_dict.keys():\n",
        "    print(f\"{k}는 {score_dict[k]}점\")"
      ],
      "metadata": {
        "colab": {
          "base_uri": "https://localhost:8080/"
        },
        "id": "8kfDqgKajyku",
        "outputId": "034c3930-df4c-4bf1-b39b-d96a1d32fdc4"
      },
      "execution_count": null,
      "outputs": [
        {
          "output_type": "stream",
          "name": "stdout",
          "text": [
            "국어는 100점\n",
            "수학는 80점\n",
            "영어는 65점\n"
          ]
        }
      ]
    },
    {
      "cell_type": "code",
      "source": [
        "score_dict.values()"
      ],
      "metadata": {
        "colab": {
          "base_uri": "https://localhost:8080/"
        },
        "id": "NiPpAFczkDe3",
        "outputId": "2f0e69d7-6d29-45e2-8131-ce4a08c17578"
      },
      "execution_count": null,
      "outputs": [
        {
          "output_type": "execute_result",
          "data": {
            "text/plain": [
              "dict_values([100, 80, 65])"
            ]
          },
          "metadata": {},
          "execution_count": 182
        }
      ]
    },
    {
      "cell_type": "code",
      "source": [
        "for value in score_dict.values():\n",
        "    print(f\"{value}\")"
      ],
      "metadata": {
        "colab": {
          "base_uri": "https://localhost:8080/"
        },
        "id": "9MyAhpjvkRds",
        "outputId": "702abf9b-1574-4803-8b34-93624b30ddec"
      },
      "execution_count": null,
      "outputs": [
        {
          "output_type": "stream",
          "name": "stdout",
          "text": [
            "100\n",
            "80\n",
            "65\n"
          ]
        }
      ]
    },
    {
      "cell_type": "code",
      "source": [
        "score_dict.items()"
      ],
      "metadata": {
        "colab": {
          "base_uri": "https://localhost:8080/"
        },
        "id": "6AoJuQ-QkaTj",
        "outputId": "bd94cb77-149b-425e-f380-5593da78caec"
      },
      "execution_count": null,
      "outputs": [
        {
          "output_type": "execute_result",
          "data": {
            "text/plain": [
              "dict_items([('국어', 100), ('수학', 80), ('영어', 65)])"
            ]
          },
          "metadata": {},
          "execution_count": 184
        }
      ]
    },
    {
      "cell_type": "code",
      "source": [
        "for k, v in score_dict.items():\n",
        "    print(f\"{k} 는 {v}점\")"
      ],
      "metadata": {
        "colab": {
          "base_uri": "https://localhost:8080/"
        },
        "id": "qIAlKOjqkhp4",
        "outputId": "80d20082-36e6-4029-9d74-7a3329324fc8"
      },
      "execution_count": null,
      "outputs": [
        {
          "output_type": "stream",
          "name": "stdout",
          "text": [
            "국어 는 100점\n",
            "수학 는 80점\n",
            "영어 는 65점\n"
          ]
        }
      ]
    },
    {
      "cell_type": "markdown",
      "source": [
        "```\n",
        "연필 20% 할인가격: 400.0원\n",
        "공책 20% 할인가격: 960.0원\n",
        "신발 20% 할인가격: 46400.0원\n",
        "```"
      ],
      "metadata": {
        "id": "nwnwyfqglHXd"
      }
    },
    {
      "cell_type": "code",
      "source": [
        "sale = { '연필' : 500, '공책':1200, '신발':58000}\n",
        "\n",
        "for k, v in sale.items():\n",
        "    print(f\"{k} 20% 할인가격: {v*0.8}원\")"
      ],
      "metadata": {
        "colab": {
          "base_uri": "https://localhost:8080/"
        },
        "id": "E4H2mCYOlGA1",
        "outputId": "85e0a4c1-c3f9-41d2-df20-2c10089b6d19"
      },
      "execution_count": null,
      "outputs": [
        {
          "output_type": "stream",
          "name": "stdout",
          "text": [
            "연필 20% 할인가격: 400.0원\n",
            "공책 20% 할인가격: 960.0원\n",
            "신발 20% 할인가격: 46400.0원\n"
          ]
        }
      ]
    },
    {
      "cell_type": "markdown",
      "source": [
        "# 파이써닉(pythonic)한 코드\n",
        "- 간결하고 가독성있게 코딩하자."
      ],
      "metadata": {
        "id": "FZMteu-dlGrG"
      }
    },
    {
      "cell_type": "markdown",
      "source": [
        "## 삼항 연산자\n",
        "- 파이썬이 아닌 다른 언어들은 삼항 연산자(?)가 존재하지만...파이썬은 없음!\n",
        "- `if`, `else` 를 사용하여 삼항 연산 수행\n",
        "```python\n",
        "<True 일 때 사용할 값> if <condition> else <False 일 때 사용할 값>\n",
        "```"
      ],
      "metadata": {
        "id": "GrVEkgQtHbJd"
      }
    },
    {
      "cell_type": "code",
      "source": [
        "age = 20\n",
        "if age >= 20:\n",
        "    msg = \"회원가입 가능\"\n",
        "else:\n",
        "    msg = \"회원가입 불가능\"\n",
        "\n",
        "print(msg)"
      ],
      "metadata": {
        "id": "SahXqWiVHqoD",
        "colab": {
          "base_uri": "https://localhost:8080/"
        },
        "outputId": "4ff02823-b752-48d7-9560-13172243e397"
      },
      "execution_count": null,
      "outputs": [
        {
          "output_type": "stream",
          "name": "stdout",
          "text": [
            "회원가입 가능\n"
          ]
        }
      ]
    },
    {
      "cell_type": "code",
      "source": [
        "age = 20    # 삼항 연산자 사용\n",
        "msg = \"회원가입 가능\" if age >= 20 else \"회원가입 불가능\"\n",
        "\n",
        "print(msg)"
      ],
      "metadata": {
        "colab": {
          "base_uri": "https://localhost:8080/"
        },
        "id": "adnLjXx-Ihku",
        "outputId": "eb51af81-f5bc-43db-bd25-54d0bb604e97"
      },
      "execution_count": null,
      "outputs": [
        {
          "output_type": "stream",
          "name": "stdout",
          "text": [
            "회원가입 가능\n"
          ]
        }
      ]
    },
    {
      "cell_type": "code",
      "source": [
        "if age >= 20: msg = \"회원가입 가능\" \n",
        "msg"
      ],
      "metadata": {
        "colab": {
          "base_uri": "https://localhost:8080/",
          "height": 35
        },
        "id": "aM5lvy9RKOme",
        "outputId": "69e4b6af-6bc5-44cd-c392-098d3d099456"
      },
      "execution_count": null,
      "outputs": [
        {
          "output_type": "execute_result",
          "data": {
            "text/plain": [
              "'회원가입 가능'"
            ],
            "application/vnd.google.colaboratory.intrinsic+json": {
              "type": "string"
            }
          },
          "metadata": {},
          "execution_count": 203
        }
      ]
    },
    {
      "cell_type": "code",
      "source": [
        "for i in range(3): print(i)"
      ],
      "metadata": {
        "colab": {
          "base_uri": "https://localhost:8080/"
        },
        "id": "V6d5gcUIKtIv",
        "outputId": "ed657f95-2ca8-4ccc-a6c6-dc56a29c6a88"
      },
      "execution_count": null,
      "outputs": [
        {
          "output_type": "stream",
          "name": "stdout",
          "text": [
            "0\n",
            "1\n",
            "2\n"
          ]
        }
      ]
    },
    {
      "cell_type": "markdown",
      "source": [
        "## 컴프리헨션 (Comprehension)\n",
        "- 반복 가능한 객체를 활용 새로운 반복가능한 객체를 만들 때 유용하다.\n",
        "- `list`,`set`,`dict` 자료형을 간단하게 만드는 문법\n",
        "- 'tuple'은 컴프리헨션 지원 안한다."
      ],
      "metadata": {
        "id": "qMlGDOvNK4Rn"
      }
    },
    {
      "cell_type": "markdown",
      "source": [
        "list comprehension\n",
        "```python\n",
        "[<추가할 값> for <변수> in <컬렉션> if(생략 가능!) <값에 대한 조건>]\n",
        "```"
      ],
      "metadata": {
        "id": "xm_374ryLbRW"
      }
    },
    {
      "cell_type": "code",
      "source": [
        "result = []\n",
        "for data in range(1,6):\n",
        "    result.append(data**2)\n",
        "result\n",
        "# 컴프리헨션으로 변환"
      ],
      "metadata": {
        "colab": {
          "base_uri": "https://localhost:8080/"
        },
        "id": "PtOM60NyL9vI",
        "outputId": "f678f2ef-1b61-4a68-a0b6-3062d6eae249"
      },
      "execution_count": null,
      "outputs": [
        {
          "output_type": "execute_result",
          "data": {
            "text/plain": [
              "[1, 4, 9, 16, 25]"
            ]
          },
          "metadata": {},
          "execution_count": 205
        }
      ]
    },
    {
      "cell_type": "code",
      "source": [
        "result = [data ** 2 for data in range(1,6)]\n",
        "result"
      ],
      "metadata": {
        "colab": {
          "base_uri": "https://localhost:8080/"
        },
        "id": "EXxB97phMTkV",
        "outputId": "8ad2eed8-869d-4235-f8ca-c9804fca407d"
      },
      "execution_count": null,
      "outputs": [
        {
          "output_type": "execute_result",
          "data": {
            "text/plain": [
              "[1, 4, 9, 16, 25]"
            ]
          },
          "metadata": {},
          "execution_count": 207
        }
      ]
    },
    {
      "cell_type": "code",
      "source": [
        "num_list = list(range(1,21))\n",
        "num_list"
      ],
      "metadata": {
        "colab": {
          "base_uri": "https://localhost:8080/"
        },
        "id": "09Xk9G4xMhDy",
        "outputId": "0b7ff78a-2e4d-4a6b-c444-55308f02f471"
      },
      "execution_count": null,
      "outputs": [
        {
          "output_type": "execute_result",
          "data": {
            "text/plain": [
              "[1, 2, 3, 4, 5, 6, 7, 8, 9, 10, 11, 12, 13, 14, 15, 16, 17, 18, 19, 20]"
            ]
          },
          "metadata": {},
          "execution_count": 209
        }
      ]
    },
    {
      "cell_type": "code",
      "source": [
        "result = [num for num in num_list if num % 2 == 0]\n",
        "result"
      ],
      "metadata": {
        "colab": {
          "base_uri": "https://localhost:8080/"
        },
        "id": "ivGw5EKaM0VK",
        "outputId": "5f867a89-87d1-4367-c92d-09b1085384ba"
      },
      "execution_count": null,
      "outputs": [
        {
          "output_type": "execute_result",
          "data": {
            "text/plain": [
              "[2, 4, 6, 8, 10, 12, 14, 16, 18, 20]"
            ]
          },
          "metadata": {},
          "execution_count": 211
        }
      ]
    },
    {
      "cell_type": "code",
      "source": [
        "result = [num ** 2 if num % 2 == 0 else num for num in num_list] # else 추가 시 앞에다가 if문 넣기!\n",
        "result"
      ],
      "metadata": {
        "colab": {
          "base_uri": "https://localhost:8080/"
        },
        "id": "Ae0cdoHMNFjn",
        "outputId": "27b92243-c9bd-4163-8545-f57dcd7d3fce"
      },
      "execution_count": null,
      "outputs": [
        {
          "output_type": "execute_result",
          "data": {
            "text/plain": [
              "[1,\n",
              " 4,\n",
              " 3,\n",
              " 16,\n",
              " 5,\n",
              " 36,\n",
              " 7,\n",
              " 64,\n",
              " 9,\n",
              " 100,\n",
              " 11,\n",
              " 144,\n",
              " 13,\n",
              " 196,\n",
              " 15,\n",
              " 256,\n",
              " 17,\n",
              " 324,\n",
              " 19,\n",
              " 400]"
            ]
          },
          "metadata": {},
          "execution_count": 218
        }
      ]
    },
    {
      "cell_type": "code",
      "source": [
        "result = [num ** 2 if num % 2 == 0 else ----- num for num in num_list] # elif 추가 시 가독성이 떨어지기 때문에 for문으로 작성하기!\n",
        "result"
      ],
      "metadata": {
        "colab": {
          "base_uri": "https://localhost:8080/"
        },
        "id": "oXrs9brnNqn-",
        "outputId": "194a2d64-af15-4783-d16e-c7a39d23c688"
      },
      "execution_count": null,
      "outputs": [
        {
          "output_type": "execute_result",
          "data": {
            "text/plain": [
              "[-1,\n",
              " 4,\n",
              " -3,\n",
              " 16,\n",
              " -5,\n",
              " 36,\n",
              " -7,\n",
              " 64,\n",
              " -9,\n",
              " 100,\n",
              " -11,\n",
              " 144,\n",
              " -13,\n",
              " 196,\n",
              " -15,\n",
              " 256,\n",
              " -17,\n",
              " 324,\n",
              " -19,\n",
              " 400]"
            ]
          },
          "metadata": {},
          "execution_count": 219
        }
      ]
    },
    {
      "cell_type": "code",
      "source": [
        "[f\"{n} X {i} = {n*i}\" for n in range(2,10) for i in range(1,10)]    # 중첩 for 문"
      ],
      "metadata": {
        "colab": {
          "base_uri": "https://localhost:8080/"
        },
        "id": "qHF9Q6bfOKHe",
        "outputId": "93f0246d-ea07-4471-b926-b6f414830f97"
      },
      "execution_count": null,
      "outputs": [
        {
          "output_type": "execute_result",
          "data": {
            "text/plain": [
              "['2 X 1 = 2',\n",
              " '2 X 2 = 4',\n",
              " '2 X 3 = 6',\n",
              " '2 X 4 = 8',\n",
              " '2 X 5 = 10',\n",
              " '2 X 6 = 12',\n",
              " '2 X 7 = 14',\n",
              " '2 X 8 = 16',\n",
              " '2 X 9 = 18',\n",
              " '3 X 1 = 3',\n",
              " '3 X 2 = 6',\n",
              " '3 X 3 = 9',\n",
              " '3 X 4 = 12',\n",
              " '3 X 5 = 15',\n",
              " '3 X 6 = 18',\n",
              " '3 X 7 = 21',\n",
              " '3 X 8 = 24',\n",
              " '3 X 9 = 27',\n",
              " '4 X 1 = 4',\n",
              " '4 X 2 = 8',\n",
              " '4 X 3 = 12',\n",
              " '4 X 4 = 16',\n",
              " '4 X 5 = 20',\n",
              " '4 X 6 = 24',\n",
              " '4 X 7 = 28',\n",
              " '4 X 8 = 32',\n",
              " '4 X 9 = 36',\n",
              " '5 X 1 = 5',\n",
              " '5 X 2 = 10',\n",
              " '5 X 3 = 15',\n",
              " '5 X 4 = 20',\n",
              " '5 X 5 = 25',\n",
              " '5 X 6 = 30',\n",
              " '5 X 7 = 35',\n",
              " '5 X 8 = 40',\n",
              " '5 X 9 = 45',\n",
              " '6 X 1 = 6',\n",
              " '6 X 2 = 12',\n",
              " '6 X 3 = 18',\n",
              " '6 X 4 = 24',\n",
              " '6 X 5 = 30',\n",
              " '6 X 6 = 36',\n",
              " '6 X 7 = 42',\n",
              " '6 X 8 = 48',\n",
              " '6 X 9 = 54',\n",
              " '7 X 1 = 7',\n",
              " '7 X 2 = 14',\n",
              " '7 X 3 = 21',\n",
              " '7 X 4 = 28',\n",
              " '7 X 5 = 35',\n",
              " '7 X 6 = 42',\n",
              " '7 X 7 = 49',\n",
              " '7 X 8 = 56',\n",
              " '7 X 9 = 63',\n",
              " '8 X 1 = 8',\n",
              " '8 X 2 = 16',\n",
              " '8 X 3 = 24',\n",
              " '8 X 4 = 32',\n",
              " '8 X 5 = 40',\n",
              " '8 X 6 = 48',\n",
              " '8 X 7 = 56',\n",
              " '8 X 8 = 64',\n",
              " '8 X 9 = 72',\n",
              " '9 X 1 = 9',\n",
              " '9 X 2 = 18',\n",
              " '9 X 3 = 27',\n",
              " '9 X 4 = 36',\n",
              " '9 X 5 = 45',\n",
              " '9 X 6 = 54',\n",
              " '9 X 7 = 63',\n",
              " '9 X 8 = 72',\n",
              " '9 X 9 = 81']"
            ]
          },
          "metadata": {},
          "execution_count": 221
        }
      ]
    },
    {
      "cell_type": "code",
      "source": [
        "%%timeit\n",
        "lst = []    # 실행 속도 테스트\n",
        "for data in range(1, 100001):\n",
        "    lst.append(data)"
      ],
      "metadata": {
        "colab": {
          "base_uri": "https://localhost:8080/"
        },
        "id": "DbVFHWpaOWsr",
        "outputId": "6cc67241-b4bd-4d8a-f358-01878bf271a1"
      },
      "execution_count": null,
      "outputs": [
        {
          "output_type": "stream",
          "name": "stdout",
          "text": [
            "100 loops, best of 5: 8.48 ms per loop\n"
          ]
        }
      ]
    },
    {
      "cell_type": "code",
      "source": [
        "%%timeit\n",
        "lst = [data for data in range(1, 100001)]   # 훨씬 빠르다."
      ],
      "metadata": {
        "colab": {
          "base_uri": "https://localhost:8080/"
        },
        "id": "LX_yG9inOpTW",
        "outputId": "d430157d-0e29-4b39-f258-993df14fe2d7"
      },
      "execution_count": null,
      "outputs": [
        {
          "output_type": "stream",
          "name": "stdout",
          "text": [
            "100 loops, best of 5: 4.82 ms per loop\n"
          ]
        }
      ]
    },
    {
      "cell_type": "markdown",
      "source": [
        "```\n",
        "s_list = []\n",
        "for w in 'Python':\n",
        "    s_list.append(w)\n",
        "s_list\n",
        "```"
      ],
      "metadata": {
        "id": "FhzJlyp2PHgu"
      }
    },
    {
      "cell_type": "code",
      "source": [
        "s_list = [ w for w in 'Python']\n",
        "s_list"
      ],
      "metadata": {
        "colab": {
          "base_uri": "https://localhost:8080/"
        },
        "id": "E7vY_6YtPpye",
        "outputId": "6048534d-b6ff-4992-c44a-130d12e76afd"
      },
      "execution_count": null,
      "outputs": [
        {
          "output_type": "execute_result",
          "data": {
            "text/plain": [
              "['P', 'y', 't', 'h', 'o', 'n']"
            ]
          },
          "metadata": {},
          "execution_count": 238
        }
      ]
    },
    {
      "cell_type": "markdown",
      "source": [
        "```python\n",
        "lib_list = [\"pandas\",\"numpy\",\"sklearn\",\"pytorch\"]\n",
        "lst = []\n",
        "for i, v in enumerate(lib_list)\n",
        "    lst.append((i,v))\n",
        "lst\n",
        "```"
      ],
      "metadata": {
        "id": "GuTSmqExP1pv"
      }
    },
    {
      "cell_type": "code",
      "source": [
        "lib_list = [\"pandas\",\"numpy\",\"sklearn\",\"pytorch\"]\n",
        "lst = [(i,v) for i,v in enumerate(lib_list)]\n",
        "lst"
      ],
      "metadata": {
        "colab": {
          "base_uri": "https://localhost:8080/"
        },
        "id": "nOlzHGVkQjHn",
        "outputId": "f6bf1f16-7da6-4cc7-c53a-581899ac50c3"
      },
      "execution_count": null,
      "outputs": [
        {
          "output_type": "execute_result",
          "data": {
            "text/plain": [
              "[(0, 'pandas'), (1, 'numpy'), (2, 'sklearn'), (3, 'pytorch')]"
            ]
          },
          "metadata": {},
          "execution_count": 242
        }
      ]
    },
    {
      "cell_type": "markdown",
      "source": [
        "```python\n",
        "n_list = []\n",
        "for x in zip((1,2,3),(10,20,30),(100,200,300)):\n",
        "    n_list.append(sum(x))\n",
        "n_list\n",
        "```"
      ],
      "metadata": {
        "id": "9wz_cf1DQzI3"
      }
    },
    {
      "cell_type": "code",
      "source": [
        "n_lst = [sum(x) for x in zip((1,2,3),(10,20,30),(100,200,300))]\n",
        "n_lst"
      ],
      "metadata": {
        "colab": {
          "base_uri": "https://localhost:8080/"
        },
        "id": "fymOk7gFVgFQ",
        "outputId": "a149af4f-0918-4b73-91db-3770a322f962"
      },
      "execution_count": null,
      "outputs": [
        {
          "output_type": "execute_result",
          "data": {
            "text/plain": [
              "[111, 222, 333]"
            ]
          },
          "metadata": {},
          "execution_count": 245
        }
      ]
    },
    {
      "cell_type": "markdown",
      "source": [
        "```python\n",
        "n_list = []\n",
        "for i in range(100):\n",
        "    if i % 10 == 0:\n",
        "        n_list.append(i)\n",
        "n_list\n",
        "```"
      ],
      "metadata": {
        "id": "HvsuKjQoVpgP"
      }
    },
    {
      "cell_type": "code",
      "source": [
        "n_list = [i for i in range(100) if i % 10 == 0]\n",
        "n_list"
      ],
      "metadata": {
        "colab": {
          "base_uri": "https://localhost:8080/"
        },
        "id": "Zm4zBhhxW0j_",
        "outputId": "0df415dc-08d8-4083-cbc8-3a134e48c0fa"
      },
      "execution_count": null,
      "outputs": [
        {
          "output_type": "execute_result",
          "data": {
            "text/plain": [
              "[0, 10, 20, 30, 40, 50, 60, 70, 80, 90]"
            ]
          },
          "metadata": {},
          "execution_count": 249
        }
      ]
    },
    {
      "cell_type": "markdown",
      "source": [
        "```python\n",
        "s_list = []\n",
        "for i in range(1,11):\n",
        "    if i % 2 == 0:\n",
        "        s_list.append(\"짝수\")\n",
        "    else:\n",
        "        s_list.append(\"홀수\")\n",
        "s_list\n",
        "```"
      ],
      "metadata": {
        "id": "v7ppoH8FW8VN"
      }
    },
    {
      "cell_type": "code",
      "source": [
        "s_list = [\"짝수\" if i % 2 == 0 else \"훌수\" for i in range(1,11)]\n",
        "s_list"
      ],
      "metadata": {
        "colab": {
          "base_uri": "https://localhost:8080/"
        },
        "id": "DHbX-oe-XxbT",
        "outputId": "edf85eeb-42e8-4787-b795-2e9d187706ea"
      },
      "execution_count": null,
      "outputs": [
        {
          "output_type": "execute_result",
          "data": {
            "text/plain": [
              "['훌수', '짝수', '훌수', '짝수', '훌수', '짝수', '훌수', '짝수', '훌수', '짝수']"
            ]
          },
          "metadata": {},
          "execution_count": 252
        }
      ]
    },
    {
      "cell_type": "markdown",
      "source": [
        "```python\n",
        "exe 와 py 확장자 파일만 리스트 컴프리헨션을 이용해서 새로운 리스트에 담아주세요.\n",
        "```"
      ],
      "metadata": {
        "id": "DCdekM4zYITW"
      }
    },
    {
      "cell_type": "code",
      "source": [
        "files = [\"magage.py\",\"run.exe\",\"urls.py\",\"runbat\",\"image.jpg\"]\n",
        "[f for f in files if f.endswith(\".py\") or f.endswith(\".exe\")]         # 답 => f.endswith(\"py\"), 내 생각 = files.endswith(\"py\")"
      ],
      "metadata": {
        "colab": {
          "base_uri": "https://localhost:8080/"
        },
        "id": "I01j1kwKY0c3",
        "outputId": "93872a48-2374-4cb0-8095-1e9ec1ddd3ed"
      },
      "execution_count": null,
      "outputs": [
        {
          "output_type": "execute_result",
          "data": {
            "text/plain": [
              "['magage.py', 'run.exe', 'urls.py']"
            ]
          },
          "metadata": {},
          "execution_count": 261
        }
      ]
    },
    {
      "cell_type": "markdown",
      "source": [
        "```\n",
        "다음의 리스트에서 2,5,6 만 리스트 컴프리헨션을 이용해서 새로운 리스트에 담아보시오.\n",
        "\n",
        "```"
      ],
      "metadata": {
        "id": "bK3XGJY6bMm8"
      }
    },
    {
      "cell_type": "code",
      "source": [
        "lst = [\n",
        "       [1,2,3],\n",
        "       [4,5,6],\n",
        "       [7,8,9]\n",
        "]\n",
        "lst"
      ],
      "metadata": {
        "colab": {
          "base_uri": "https://localhost:8080/"
        },
        "id": "MLTcUu3UZa6V",
        "outputId": "70caa79f-7d31-4a4f-9c0b-8c62a07136dc"
      },
      "execution_count": null,
      "outputs": [
        {
          "output_type": "execute_result",
          "data": {
            "text/plain": [
              "[[1, 2, 3], [4, 5, 6], [7, 8, 9]]"
            ]
          },
          "metadata": {},
          "execution_count": 264
        }
      ]
    },
    {
      "cell_type": "code",
      "source": [
        "[i[1] for i in lst]"
      ],
      "metadata": {
        "colab": {
          "base_uri": "https://localhost:8080/"
        },
        "id": "_JLFJRZ1a3tJ",
        "outputId": "19c6ec88-c97d-4d78-ed4c-15da80faa5bc"
      },
      "execution_count": null,
      "outputs": [
        {
          "output_type": "execute_result",
          "data": {
            "text/plain": [
              "[2, 5, 8]"
            ]
          },
          "metadata": {},
          "execution_count": 279
        }
      ]
    },
    {
      "cell_type": "markdown",
      "source": [
        "```\n",
        "None 값을 제외한 값들의 평균을 구하세요\n",
        "```"
      ],
      "metadata": {
        "id": "MgcuaBYTcz_n"
      }
    },
    {
      "cell_type": "code",
      "source": [
        "age_list = [20,42,None,30,25,None,27,50,60]\n",
        "tmp = [age for age in age_list if age is not None]\n",
        "avg = sum(tmp) / len(tmp)\n",
        "avg                     # 복습하기"
      ],
      "metadata": {
        "colab": {
          "base_uri": "https://localhost:8080/"
        },
        "id": "WqUgobLgczH6",
        "outputId": "5689ca50-d20a-4ff9-8361-77e6986384a1"
      },
      "execution_count": null,
      "outputs": [
        {
          "output_type": "execute_result",
          "data": {
            "text/plain": [
              "36.285714285714285"
            ]
          },
          "metadata": {},
          "execution_count": 2
        }
      ]
    },
    {
      "cell_type": "markdown",
      "source": [
        "```\n",
        "구한 평균으로 컴프리헨션을 이용해서 결측치를 채운 리스트를 생성하세요.\n",
        "```"
      ],
      "metadata": {
        "id": "diw3G716dqJi"
      }
    },
    {
      "cell_type": "code",
      "source": [
        "[age if age is not None else avg for age in age_list]   # 복습하기"
      ],
      "metadata": {
        "colab": {
          "base_uri": "https://localhost:8080/"
        },
        "id": "LQMl_As5dHUI",
        "outputId": "30597cb6-b1de-4989-fde1-fe833bbffa52"
      },
      "execution_count": null,
      "outputs": [
        {
          "output_type": "execute_result",
          "data": {
            "text/plain": [
              "[20, 42, 36.285714285714285, 30, 25, 36.285714285714285, 27, 50, 60]"
            ]
          },
          "metadata": {},
          "execution_count": 3
        }
      ]
    },
    {
      "cell_type": "markdown",
      "source": [
        "(실습) \n",
        "- 쇼핑 구매기록을 학습데이터로 활용하여 남자인지 여자인지 맞추는 인공지능 모델을 만든다고 가정하자. \n",
        "- 다음과 같이 인공지능이 예측한 값에 대한 리스트와 실제 정답값 리스트가 있다.\n",
        "```python\n",
        "pred_list  = [0,1,0,0,0,1,0,0,0,1]\n",
        "label_list = [0,1,0,1,0,1,0,1,0,1]\n",
        "```\n",
        "- 0 은 여자 이고 , 1 은 남자이다. \n",
        "- 인공지능 모델의 예측과 정답값을 일치한 개수를 리스트 컴프리헨션과 메소드 혹은 함수를 이용해서 구하고 데이터의 개수로 나누어 정확도를 구하시오.\n",
        "$$\n",
        "Accuracy = \\frac{정답을 맞춘 개수}{전체 샘플 개수}\n",
        "$$"
      ],
      "metadata": {
        "id": "LVvbzv6oeqq4"
      }
    },
    {
      "cell_type": "code",
      "source": [
        "pred_list  = [0,1,0,0,0,1,0,0,0,1]\n",
        "label_list = [0,1,0,1,0,1,0,1,0,1]\n",
        "\n",
        "\n",
        "tmp = [\"T\" if i[0] == i[1] else \"F\" for i in zip(pred_list,label_list)]\n",
        "tmp.count(\"T\")\n",
        "\n",
        "X = tmp.count(\"T\") / len(label_list)\n",
        "X"
      ],
      "metadata": {
        "colab": {
          "base_uri": "https://localhost:8080/"
        },
        "id": "u-EHWzTFi78w",
        "outputId": "f5716f39-584e-43d4-a403-1027dc46b8b3"
      },
      "execution_count": null,
      "outputs": [
        {
          "output_type": "execute_result",
          "data": {
            "text/plain": [
              "0.8"
            ]
          },
          "metadata": {},
          "execution_count": 351
        }
      ]
    },
    {
      "cell_type": "code",
      "source": [
        "answer = [a for a,b in zip(pred_list, label_list) if a == b]    # 같은 숫자들이 나오게 하려고\n",
        "accuracy = len(answer)/len(label_list)\n",
        "accuracy"
      ],
      "metadata": {
        "id": "WGVPusYPjQAo",
        "colab": {
          "base_uri": "https://localhost:8080/"
        },
        "outputId": "ea2a71ca-749c-42de-8618-dd08709aabea"
      },
      "execution_count": null,
      "outputs": [
        {
          "output_type": "execute_result",
          "data": {
            "text/plain": [
              "0.8"
            ]
          },
          "metadata": {},
          "execution_count": 346
        }
      ]
    },
    {
      "cell_type": "code",
      "source": [
        "pred_list  = [0,1,0,0,0,1,0,0,0,1]\n",
        "label_list = [0,1,0,1,0,1,0,1,0,1]"
      ],
      "metadata": {
        "id": "-A8NLlthuevG"
      },
      "execution_count": 1,
      "outputs": []
    },
    {
      "cell_type": "code",
      "source": [
        "lst = [True,False,True] # True = 1,False = 0\n",
        "sum(lst)"
      ],
      "metadata": {
        "colab": {
          "base_uri": "https://localhost:8080/"
        },
        "id": "-V4tFC2xurMO",
        "outputId": "0e3af72f-1f90-4e87-f00c-cde82081e476"
      },
      "execution_count": 2,
      "outputs": [
        {
          "output_type": "execute_result",
          "data": {
            "text/plain": [
              "2"
            ]
          },
          "metadata": {},
          "execution_count": 2
        }
      ]
    },
    {
      "cell_type": "code",
      "source": [
        "acc = [ int(pred == label) for pred, label in zip(pred_list,label_list)]\n",
        "acc"
      ],
      "metadata": {
        "colab": {
          "base_uri": "https://localhost:8080/"
        },
        "id": "0oQ9evyju1ZZ",
        "outputId": "61aa7742-2f47-4602-8532-a4dc5dd070f7"
      },
      "execution_count": 10,
      "outputs": [
        {
          "output_type": "execute_result",
          "data": {
            "text/plain": [
              "[1, 1, 1, 0, 1, 1, 1, 0, 1, 1]"
            ]
          },
          "metadata": {},
          "execution_count": 10
        }
      ]
    },
    {
      "cell_type": "code",
      "source": [
        "acc = sum(acc) / len(label_list)\n",
        "acc"
      ],
      "metadata": {
        "colab": {
          "base_uri": "https://localhost:8080/"
        },
        "id": "5OLOnyEjvIZp",
        "outputId": "0766ec2d-12c7-4560-9ff6-17986bf6c5ed"
      },
      "execution_count": 11,
      "outputs": [
        {
          "output_type": "execute_result",
          "data": {
            "text/plain": [
              "0.8"
            ]
          },
          "metadata": {},
          "execution_count": 11
        }
      ]
    },
    {
      "cell_type": "code",
      "source": [
        "acc = [ pred - label for pred, label in zip(pred_list,label_list)]  # 같은 값이면 0이다.\n",
        "acc.count(0) / len(label_list)"
      ],
      "metadata": {
        "colab": {
          "base_uri": "https://localhost:8080/"
        },
        "id": "tfVmkedGvSct",
        "outputId": "0c74c519-0756-4a37-b9b3-233c13ffabca"
      },
      "execution_count": 12,
      "outputs": [
        {
          "output_type": "execute_result",
          "data": {
            "text/plain": [
              "0.8"
            ]
          },
          "metadata": {},
          "execution_count": 12
        }
      ]
    },
    {
      "cell_type": "markdown",
      "source": [
        "-  set comprehension"
      ],
      "metadata": {
        "id": "99h9XIssvt_D"
      }
    },
    {
      "cell_type": "code",
      "source": [
        "a = {data for data in range(1,6)}\n",
        "a"
      ],
      "metadata": {
        "colab": {
          "base_uri": "https://localhost:8080/"
        },
        "id": "kw2hEYGpwA0n",
        "outputId": "f19b5f8f-e0f4-414b-d95d-055aa06acebe"
      },
      "execution_count": 13,
      "outputs": [
        {
          "output_type": "execute_result",
          "data": {
            "text/plain": [
              "{1, 2, 3, 4, 5}"
            ]
          },
          "metadata": {},
          "execution_count": 13
        }
      ]
    },
    {
      "cell_type": "markdown",
      "source": [
        "- dict comprehension\n",
        "    - 데이터 전처리 시 사용"
      ],
      "metadata": {
        "id": "wcJB5WiwwFJz"
      }
    },
    {
      "cell_type": "code",
      "source": [
        "a = [\"아침\", \"점심\", \"저녁\"]\n",
        "b = [\"샌드위치\", \"유부초밥\", \"피자\"]\n",
        "\n",
        "result = { meal:food for meal,food in zip(a, b)}\n",
        "result"
      ],
      "metadata": {
        "colab": {
          "base_uri": "https://localhost:8080/"
        },
        "id": "l_dhQWOOwRAu",
        "outputId": "4287d9ed-c93b-4792-cda6-1ad677e63bbf"
      },
      "execution_count": 14,
      "outputs": [
        {
          "output_type": "execute_result",
          "data": {
            "text/plain": [
              "{'아침': '샌드위치', '저녁': '피자', '점심': '유부초밥'}"
            ]
          },
          "metadata": {},
          "execution_count": 14
        }
      ]
    },
    {
      "cell_type": "code",
      "source": [
        "dict(zip(a,b))"
      ],
      "metadata": {
        "colab": {
          "base_uri": "https://localhost:8080/"
        },
        "id": "He0rrEjXwuDD",
        "outputId": "7d94296f-8754-47c4-dc5d-e0aa3a174b4a"
      },
      "execution_count": 15,
      "outputs": [
        {
          "output_type": "execute_result",
          "data": {
            "text/plain": [
              "{'아침': '샌드위치', '저녁': '피자', '점심': '유부초밥'}"
            ]
          },
          "metadata": {},
          "execution_count": 15
        }
      ]
    },
    {
      "cell_type": "code",
      "source": [
        "result = {f\"{meal}식사\" : food for meal,food in zip(a,b)}  # 전처리 예시\n",
        "result"
      ],
      "metadata": {
        "colab": {
          "base_uri": "https://localhost:8080/"
        },
        "id": "8479r1qHw0xh",
        "outputId": "be802fbe-4752-4bbc-ecaa-ea9619844740"
      },
      "execution_count": 26,
      "outputs": [
        {
          "output_type": "execute_result",
          "data": {
            "text/plain": [
              "{'아침식사': '샌드위치', '저녁식사': '피자', '점심식사': '유부초밥'}"
            ]
          },
          "metadata": {},
          "execution_count": 26
        }
      ]
    },
    {
      "cell_type": "code",
      "source": [
        "{meal : food for meal, food in zip(a,b) if meal != \"점심\"}"
      ],
      "metadata": {
        "colab": {
          "base_uri": "https://localhost:8080/"
        },
        "id": "ozizBG8LxTEa",
        "outputId": "551d1eb4-7bba-4a20-fbb1-d2d7d6e1372a"
      },
      "execution_count": 18,
      "outputs": [
        {
          "output_type": "execute_result",
          "data": {
            "text/plain": [
              "{'아침': '샌드위치', '저녁': '피자'}"
            ]
          },
          "metadata": {},
          "execution_count": 18
        }
      ]
    },
    {
      "cell_type": "code",
      "source": [
        "text = \"Hello Python\"   # 문자열의 수를 세는 것\n",
        "result = {char : text.count(char) for char in set(text)}\n",
        "result"
      ],
      "metadata": {
        "colab": {
          "base_uri": "https://localhost:8080/"
        },
        "id": "ZkbOoTwmxfdv",
        "outputId": "381f4ca9-d600-4924-847e-86433d700629"
      },
      "execution_count": 20,
      "outputs": [
        {
          "output_type": "execute_result",
          "data": {
            "text/plain": [
              "{' ': 1,\n",
              " 'H': 1,\n",
              " 'P': 1,\n",
              " 'e': 1,\n",
              " 'h': 1,\n",
              " 'l': 2,\n",
              " 'n': 1,\n",
              " 'o': 2,\n",
              " 't': 1,\n",
              " 'y': 1}"
            ]
          },
          "metadata": {},
          "execution_count": 20
        }
      ]
    },
    {
      "cell_type": "markdown",
      "source": [
        "인구가 30만 이상의 구만 dic로 만드세요.\n",
        "```\n",
        "population = {\n",
        "    \"종로구\" : 149384,\n",
        "    \"중구\" : 125240,\n",
        "    \"용산구\": 230040,\n",
        "    \"성동구\": 293556,\n",
        "    \"광진구\":346682,\n",
        "    \"동대문구\":342837,\n",
        "    \"중랑구\":394702,\n",
        "    \"성북구\":437153,\n",
        "    \"강북구\":308055,\n",
        "    \"도봉구\":325257,\n",
        "    \"노원구\":523037,\n",
        "    \"은평구\":479835\n",
        " }\n",
        "```"
      ],
      "metadata": {
        "id": "6bNQtut5x1re"
      }
    },
    {
      "cell_type": "code",
      "source": [
        "population = {\n",
        "    \"종로구\" : 149384,\n",
        "    \"중구\" : 125240,\n",
        "    \"용산구\": 230040,\n",
        "    \"성동구\": 293556,\n",
        "    \"광진구\":346682,\n",
        "    \"동대문구\":342837,\n",
        "    \"중랑구\":394702,\n",
        "    \"성북구\":437153,\n",
        "    \"강북구\":308055,\n",
        "    \"도봉구\":325257,\n",
        "    \"노원구\":523037,\n",
        "    \"은평구\":479835\n",
        " }\n",
        "\n",
        "{k:v for k,v in population.items() if v >= 300000}  # item() 함수 공부 !"
      ],
      "metadata": {
        "colab": {
          "base_uri": "https://localhost:8080/"
        },
        "id": "nyVnA-mayEaT",
        "outputId": "d6bb439c-7171-49cb-aec8-0fc8ea2eaf17"
      },
      "execution_count": 41,
      "outputs": [
        {
          "output_type": "execute_result",
          "data": {
            "text/plain": [
              "{'강북구': 308055,\n",
              " '광진구': 346682,\n",
              " '노원구': 523037,\n",
              " '도봉구': 325257,\n",
              " '동대문구': 342837,\n",
              " '성북구': 437153,\n",
              " '은평구': 479835,\n",
              " '중랑구': 394702}"
            ]
          },
          "metadata": {},
          "execution_count": 41
        }
      ]
    },
    {
      "cell_type": "code",
      "source": [
        "res = {i for i in population if i >= 300000}\n",
        "res"
      ],
      "metadata": {
        "colab": {
          "base_uri": "https://localhost:8080/",
          "height": 190
        },
        "id": "ZK5tGEGfyLn9",
        "outputId": "cd81bc15-27f5-443e-d0a7-4f011ca6f18a"
      },
      "execution_count": 35,
      "outputs": [
        {
          "output_type": "error",
          "ename": "AttributeError",
          "evalue": "ignored",
          "traceback": [
            "\u001b[0;31m---------------------------------------------------------------------------\u001b[0m",
            "\u001b[0;31mAttributeError\u001b[0m                            Traceback (most recent call last)",
            "\u001b[0;32m<ipython-input-35-670b74d6ef90>\u001b[0m in \u001b[0;36m<module>\u001b[0;34m()\u001b[0m\n\u001b[0;32m----> 1\u001b[0;31m \u001b[0mres\u001b[0m \u001b[0;34m=\u001b[0m \u001b[0;34m{\u001b[0m\u001b[0mi\u001b[0m \u001b[0;32mfor\u001b[0m \u001b[0mi\u001b[0m \u001b[0;32min\u001b[0m \u001b[0mpopulation\u001b[0m\u001b[0;34m.\u001b[0m\u001b[0mitem\u001b[0m\u001b[0;34m(\u001b[0m\u001b[0;34m)\u001b[0m \u001b[0;32mif\u001b[0m \u001b[0mi\u001b[0m \u001b[0;34m>=\u001b[0m \u001b[0;36m300000\u001b[0m\u001b[0;34m}\u001b[0m\u001b[0;34m\u001b[0m\u001b[0;34m\u001b[0m\u001b[0m\n\u001b[0m\u001b[1;32m      2\u001b[0m \u001b[0mres\u001b[0m\u001b[0;34m\u001b[0m\u001b[0;34m\u001b[0m\u001b[0m\n",
            "\u001b[0;31mAttributeError\u001b[0m: 'dict' object has no attribute 'item'"
          ]
        }
      ]
    },
    {
      "cell_type": "markdown",
      "source": [
        "```\n",
        "인구수가 30만이 넘는 구의 인구수 합을 구하시오.\n",
        "```"
      ],
      "metadata": {
        "id": "WGFZ6sKoyhFi"
      }
    },
    {
      "cell_type": "code",
      "source": [
        "res = [list(k) for k in population.items() if k >= 300000] \n",
        "sum(res)"
      ],
      "metadata": {
        "id": "xuY0ra_ezzOe"
      },
      "execution_count": null,
      "outputs": []
    },
    {
      "cell_type": "code",
      "source": [
        "lst = [v for v in population.values() if v > 300000]    # {}를 쓰면 중복이 제거됨\n",
        "sum(lst)        # key와 value활용"
      ],
      "metadata": {
        "colab": {
          "base_uri": "https://localhost:8080/"
        },
        "id": "wW3QQTQI0g4m",
        "outputId": "cc9f0601-f178-472b-ec1f-c247bc205450"
      },
      "execution_count": 60,
      "outputs": [
        {
          "output_type": "execute_result",
          "data": {
            "text/plain": [
              "3157558"
            ]
          },
          "metadata": {},
          "execution_count": 60
        }
      ]
    },
    {
      "cell_type": "code",
      "source": [
        "text = \"#안녕#파이썬#파이썬#최고#파이썬#안녕\"\n",
        "\n",
        "{word:text.count(word) for word in set(text.split(\"#\")[1:])}   # set을 이용하여 중복을 제거"
      ],
      "metadata": {
        "colab": {
          "base_uri": "https://localhost:8080/"
        },
        "id": "3bkug4az2Nbc",
        "outputId": "52cc3385-bdcd-493b-8628-70504c0f1173"
      },
      "execution_count": 69,
      "outputs": [
        {
          "output_type": "execute_result",
          "data": {
            "text/plain": [
              "{'안녕': 2, '최고': 1, '파이썬': 3}"
            ]
          },
          "metadata": {},
          "execution_count": 69
        }
      ]
    }
  ]
}
