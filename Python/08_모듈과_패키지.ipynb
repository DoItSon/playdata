{
  "nbformat": 4,
  "nbformat_minor": 0,
  "metadata": {
    "colab": {
      "name": "08-모듈과 패키지.ipynb",
      "provenance": [],
      "collapsed_sections": [],
      "authorship_tag": "ABX9TyNdXdHWpcW/coFd6HcuIUX+",
      "include_colab_link": true
    },
    "kernelspec": {
      "name": "python3",
      "display_name": "Python 3"
    },
    "language_info": {
      "name": "python"
    }
  },
  "cells": [
    {
      "cell_type": "markdown",
      "metadata": {
        "id": "view-in-github",
        "colab_type": "text"
      },
      "source": [
        "<a href=\"https://colab.research.google.com/github/soyongseok/playdata/blob/main/08_%EB%AA%A8%EB%93%88%EA%B3%BC_%ED%8C%A8%ED%82%A4%EC%A7%80.ipynb\" target=\"_parent\"><img src=\"https://colab.research.google.com/assets/colab-badge.svg\" alt=\"Open In Colab\"/></a>"
      ]
    },
    {
      "cell_type": "markdown",
      "source": [
        "# 모듈(Module), 패키지(Package)\n",
        "- 모듈: 변수, 함수, 클래스를 모아놓은 `.py`확장자 파일\n",
        "    - `.py` 파일: 마크다운이나 셀같은 정보는 없고 순수한 파이썬 코드만 존재\n",
        "    - `.ipynb` 파일: 데이터분석가(과학자)들이 파이썬 언어와 데이터로 작업하고 실험할 수 있도록 도와주는 Interactive한 개발 환경에서 실행되는 파일\n",
        "- 패키지: 모듈의 기능을 폴더별로 정리한 개념\n",
        "    - 패키지 생성: 기능별로 폴더를 정리하는 것과 비슷한 개념"
      ],
      "metadata": {
        "id": "sY9OfHstNXfo"
      }
    },
    {
      "cell_type": "markdown",
      "source": [
        "```python\n",
        "# 모듈 불러오기\n",
        "import <모듈명>\n",
        "\n",
        "# 패키지에서 모듈 불러오기\n",
        "from <패키지명> import <모듈명>\n",
        "\n",
        "# 모듈 안에 함수와 클래스 불러오기\n",
        "from <모듈명> import <함수 or 클래스>\n",
        "\n",
        "# 별칭 주기\n",
        "import <모듈명> as <별칭>\n",
        "\n",
        "```"
      ],
      "metadata": {
        "id": "geWKgOacNsyd"
      }
    },
    {
      "cell_type": "markdown",
      "source": [
        "# sys,os 모듈 사용해보기"
      ],
      "metadata": {
        "id": "wxdnPvYbQhBL"
      }
    },
    {
      "cell_type": "code",
      "source": [
        "import sys,os"
      ],
      "metadata": {
        "id": "EitRqv1tEJtm"
      },
      "execution_count": null,
      "outputs": []
    },
    {
      "cell_type": "code",
      "source": [
        "sys.path"
      ],
      "metadata": {
        "colab": {
          "base_uri": "https://localhost:8080/"
        },
        "id": "lRMxXtW1EL7z",
        "outputId": "e3ac2ac3-f37c-446f-e3d8-1a85acc22351"
      },
      "execution_count": null,
      "outputs": [
        {
          "output_type": "execute_result",
          "data": {
            "text/plain": [
              "['',\n",
              " '/content',\n",
              " '/env/python',\n",
              " '/usr/lib/python37.zip',\n",
              " '/usr/lib/python3.7',\n",
              " '/usr/lib/python3.7/lib-dynload',\n",
              " '/usr/local/lib/python3.7/dist-packages',\n",
              " '/usr/lib/python3/dist-packages',\n",
              " '/usr/local/lib/python3.7/dist-packages/IPython/extensions',\n",
              " '/root/.ipython']"
            ]
          },
          "metadata": {},
          "execution_count": 4
        }
      ]
    },
    {
      "cell_type": "code",
      "source": [
        "os.getcwd()"
      ],
      "metadata": {
        "colab": {
          "base_uri": "https://localhost:8080/",
          "height": 35
        },
        "id": "o0fuZMUKEQOM",
        "outputId": "9aac0ce9-738e-48ff-c5e9-1f33d9df5354"
      },
      "execution_count": null,
      "outputs": [
        {
          "output_type": "execute_result",
          "data": {
            "text/plain": [
              "'/content'"
            ],
            "application/vnd.google.colaboratory.intrinsic+json": {
              "type": "string"
            }
          },
          "metadata": {},
          "execution_count": 5
        }
      ]
    },
    {
      "cell_type": "code",
      "source": [
        "sys.version"
      ],
      "metadata": {
        "colab": {
          "base_uri": "https://localhost:8080/",
          "height": 35
        },
        "id": "z-t-nkngEZhc",
        "outputId": "104982b0-a30b-44a1-bf20-b5c7c16ecc75"
      },
      "execution_count": null,
      "outputs": [
        {
          "output_type": "execute_result",
          "data": {
            "text/plain": [
              "'3.7.13 (default, Apr 24 2022, 01:04:09) \\n[GCC 7.5.0]'"
            ],
            "application/vnd.google.colaboratory.intrinsic+json": {
              "type": "string"
            }
          },
          "metadata": {},
          "execution_count": 7
        }
      ]
    },
    {
      "cell_type": "markdown",
      "source": [
        "- cpu 개수 확인하기"
      ],
      "metadata": {
        "id": "qdRDxotxEbkN"
      }
    },
    {
      "cell_type": "code",
      "source": [
        "os.cpu_count()"
      ],
      "metadata": {
        "colab": {
          "base_uri": "https://localhost:8080/"
        },
        "id": "eJZBkZMhElzs",
        "outputId": "9b6d6946-1ec1-42db-9f75-40943e727963"
      },
      "execution_count": null,
      "outputs": [
        {
          "output_type": "execute_result",
          "data": {
            "text/plain": [
              "2"
            ]
          },
          "metadata": {},
          "execution_count": 8
        }
      ]
    },
    {
      "cell_type": "markdown",
      "source": [
        "- 폴더 만들기\n",
        "    - 폴더가 이미 있을 경우 에러가 발생"
      ],
      "metadata": {
        "id": "Gzt3uTrcEoet"
      }
    },
    {
      "cell_type": "code",
      "source": [
        "os.mkdir(\"data\")"
      ],
      "metadata": {
        "id": "aSWg0ksfEwvS"
      },
      "execution_count": null,
      "outputs": []
    },
    {
      "cell_type": "code",
      "source": [
        "os.mkdir(\"/content/data/files\")"
      ],
      "metadata": {
        "id": "d9Tq6nOoE4rC"
      },
      "execution_count": null,
      "outputs": []
    },
    {
      "cell_type": "markdown",
      "source": [
        "- 폴더 또는 파일명 변경하기"
      ],
      "metadata": {
        "id": "HMWCIiz4FGTO"
      }
    },
    {
      "cell_type": "code",
      "source": [
        "os.rename(\"data\", \"data2\")"
      ],
      "metadata": {
        "id": "vB6GurCaFMvg"
      },
      "execution_count": null,
      "outputs": []
    },
    {
      "cell_type": "markdown",
      "source": [
        "- 폴더 삭제하기"
      ],
      "metadata": {
        "id": "TmJYGlTwFSAN"
      }
    },
    {
      "cell_type": "code",
      "source": [
        "os.rmdir(\"data2/files\")"
      ],
      "metadata": {
        "id": "5lQo1LVWFamR"
      },
      "execution_count": null,
      "outputs": []
    },
    {
      "cell_type": "markdown",
      "source": [
        "- 폴더 존재 여부 확인"
      ],
      "metadata": {
        "id": "AsSSIJbnFpoO"
      }
    },
    {
      "cell_type": "code",
      "source": [
        "os.path.isdir(\"data1\"),os.path.isdir(\"data2\") "
      ],
      "metadata": {
        "colab": {
          "base_uri": "https://localhost:8080/"
        },
        "id": "9aRz5GBSF0hV",
        "outputId": "6a7160ee-bf61-4379-cb34-d38eca5eabec"
      },
      "execution_count": null,
      "outputs": [
        {
          "output_type": "execute_result",
          "data": {
            "text/plain": [
              "(False, True)"
            ]
          },
          "metadata": {},
          "execution_count": 15
        }
      ]
    },
    {
      "cell_type": "markdown",
      "source": [
        "- 파일 존재 여부 확인"
      ],
      "metadata": {
        "id": "I1uASCEYF8la"
      }
    },
    {
      "cell_type": "code",
      "source": [
        "os.path.isfile(\"demo.py\")"
      ],
      "metadata": {
        "colab": {
          "base_uri": "https://localhost:8080/"
        },
        "id": "YSm_qasAGYPX",
        "outputId": "cba7c5cd-c4f0-4723-a592-9a7c89278294"
      },
      "execution_count": null,
      "outputs": [
        {
          "output_type": "execute_result",
          "data": {
            "text/plain": [
              "True"
            ]
          },
          "metadata": {},
          "execution_count": 16
        }
      ]
    },
    {
      "cell_type": "markdown",
      "source": [
        "- 파일 및 폴더 존재 여부 확인"
      ],
      "metadata": {
        "id": "q5oNQS_HGdmI"
      }
    },
    {
      "cell_type": "code",
      "source": [
        "os.path.exists(\"data2\"), os.path.exists(\"demo.py\")"
      ],
      "metadata": {
        "colab": {
          "base_uri": "https://localhost:8080/"
        },
        "id": "Md8GfmrlGm3q",
        "outputId": "5eea3c57-633e-4a01-e61f-6bf1a98a40b7"
      },
      "execution_count": null,
      "outputs": [
        {
          "output_type": "execute_result",
          "data": {
            "text/plain": [
              "(True, True)"
            ]
          },
          "metadata": {},
          "execution_count": 18
        }
      ]
    },
    {
      "cell_type": "markdown",
      "source": [
        "- 파일 삭제하기"
      ],
      "metadata": {
        "id": "DKRdVu75Gq0S"
      }
    },
    {
      "cell_type": "code",
      "source": [
        "os.remove(\"demo.py\")"
      ],
      "metadata": {
        "id": "LrqVPMU2G4QW"
      },
      "execution_count": null,
      "outputs": []
    },
    {
      "cell_type": "markdown",
      "source": [
        "# random 모듈 사용해보기"
      ],
      "metadata": {
        "id": "cckMpx58G9kU"
      }
    },
    {
      "cell_type": "code",
      "source": [
        "import random"
      ],
      "metadata": {
        "id": "Okdit62kHLkK"
      },
      "execution_count": null,
      "outputs": []
    },
    {
      "cell_type": "markdown",
      "source": [
        "- random 함수\n",
        "    - 0 ~ 1 사이에 랜덤한 실수를 반환한다."
      ],
      "metadata": {
        "id": "MrszGgMMHVrD"
      }
    },
    {
      "cell_type": "code",
      "source": [
        "random.random()"
      ],
      "metadata": {
        "colab": {
          "base_uri": "https://localhost:8080/"
        },
        "id": "EiGUS3QtHcmn",
        "outputId": "70080b79-9170-4b25-d39d-f68b98feed31"
      },
      "execution_count": null,
      "outputs": [
        {
          "output_type": "execute_result",
          "data": {
            "text/plain": [
              "0.48771383504064114"
            ]
          },
          "metadata": {},
          "execution_count": 30
        }
      ]
    },
    {
      "cell_type": "markdown",
      "source": [
        "- uniform 함수\n",
        "    - 두 개의 숫자 사이의 랜덤한 실수를 반환한다.\n"
      ],
      "metadata": {
        "id": "1pVUL112HfTe"
      }
    },
    {
      "cell_type": "code",
      "source": [
        "random.uniform(1,10)"
      ],
      "metadata": {
        "colab": {
          "base_uri": "https://localhost:8080/"
        },
        "id": "u6J6JCLBHuXG",
        "outputId": "77e6cd76-beb6-4e62-94da-e683762b8927"
      },
      "execution_count": null,
      "outputs": [
        {
          "output_type": "execute_result",
          "data": {
            "text/plain": [
              "8.139340557198768"
            ]
          },
          "metadata": {},
          "execution_count": 43
        }
      ]
    },
    {
      "cell_type": "markdown",
      "source": [
        "- randint 함수\n",
        "    - 2개의 숫자 사이의 랜덤한 정수를 반환한다."
      ],
      "metadata": {
        "id": "VB1CQUa-H0RF"
      }
    },
    {
      "cell_type": "code",
      "source": [
        "random.randint(0,5)"
      ],
      "metadata": {
        "colab": {
          "base_uri": "https://localhost:8080/"
        },
        "id": "hAr3h88kIBpA",
        "outputId": "1fe32f7e-2f3e-47bd-841f-af0414fd8e15"
      },
      "execution_count": null,
      "outputs": [
        {
          "output_type": "execute_result",
          "data": {
            "text/plain": [
              "3"
            ]
          },
          "metadata": {},
          "execution_count": 52
        }
      ]
    },
    {
      "cell_type": "markdown",
      "source": [
        "- randrange 함수\n",
        "    - start,stop,step 으로 만들어지는 정수 중에 랜덤값을 반환한다."
      ],
      "metadata": {
        "id": "SIYovMOqIIBZ"
      }
    },
    {
      "cell_type": "code",
      "source": [
        "random.randrange(20)"
      ],
      "metadata": {
        "colab": {
          "base_uri": "https://localhost:8080/"
        },
        "id": "ps7rABc3IfkT",
        "outputId": "716309d2-f2e1-412c-92a3-34485a64e8f4"
      },
      "execution_count": null,
      "outputs": [
        {
          "output_type": "execute_result",
          "data": {
            "text/plain": [
              "4"
            ]
          },
          "metadata": {},
          "execution_count": 79
        }
      ]
    },
    {
      "cell_type": "code",
      "source": [
        "random.randrange(1,9,2)"
      ],
      "metadata": {
        "colab": {
          "base_uri": "https://localhost:8080/"
        },
        "id": "dAo7SP0FIoAB",
        "outputId": "c702a451-cb49-4302-9627-b11c82f14a6c"
      },
      "execution_count": null,
      "outputs": [
        {
          "output_type": "execute_result",
          "data": {
            "text/plain": [
              "7"
            ]
          },
          "metadata": {},
          "execution_count": 101
        }
      ]
    },
    {
      "cell_type": "markdown",
      "source": [
        "- choice 함수\n",
        "    - 시퀀스 자료형에서 랜덤하게 하나의 요소를 선택해서 반환"
      ],
      "metadata": {
        "id": "wedYg5uTI9KR"
      }
    },
    {
      "cell_type": "code",
      "source": [
        "lst = [1,2,3,4,5,6]\n",
        "random.choice(lst)"
      ],
      "metadata": {
        "colab": {
          "base_uri": "https://localhost:8080/"
        },
        "id": "B4HtybuPJa_3",
        "outputId": "edb295f9-eb31-49a8-ec88-d770d7b8d547"
      },
      "execution_count": null,
      "outputs": [
        {
          "output_type": "execute_result",
          "data": {
            "text/plain": [
              "2"
            ]
          },
          "metadata": {},
          "execution_count": 111
        }
      ]
    },
    {
      "cell_type": "markdown",
      "source": [
        "- sample 함수\n",
        "    - 시퀀스 자료형에서 랜덤하게 두번째 인수의 개수로 선택해서 반환\n",
        "    "
      ],
      "metadata": {
        "id": "FPFOhroXJdo4"
      }
    },
    {
      "cell_type": "code",
      "source": [
        "lst = [1,2,3,4,5,6]\n",
        "random.sample(lst,2)"
      ],
      "metadata": {
        "colab": {
          "base_uri": "https://localhost:8080/"
        },
        "id": "KtqBKF0AJy54",
        "outputId": "18a3c0ee-26b8-45d2-a911-e1d350849b23"
      },
      "execution_count": null,
      "outputs": [
        {
          "output_type": "execute_result",
          "data": {
            "text/plain": [
              "[4, 3]"
            ]
          },
          "metadata": {},
          "execution_count": 124
        }
      ]
    },
    {
      "cell_type": "markdown",
      "source": [
        "- shuffle 함수\n",
        "    - 요소의 순서를 랜덤하게 변경한다.\n",
        "    - 원본을 변경한다.\n",
        "    - iterable한 것만 들어갈 수 있다."
      ],
      "metadata": {
        "id": "jofk8kQtJ270"
      }
    },
    {
      "cell_type": "code",
      "source": [
        "lst = [1,2,3,4,5,6]\n",
        "random.shuffle(lst)\n",
        "lst"
      ],
      "metadata": {
        "colab": {
          "base_uri": "https://localhost:8080/"
        },
        "id": "zVU7kEkTKJNC",
        "outputId": "f2856d13-b217-474a-f8e2-e3d8554e6709"
      },
      "execution_count": null,
      "outputs": [
        {
          "output_type": "execute_result",
          "data": {
            "text/plain": [
              "[5, 4, 3, 1, 6, 2]"
            ]
          },
          "metadata": {},
          "execution_count": 128
        }
      ]
    },
    {
      "cell_type": "code",
      "source": [
        "random.shuffle(\"안녕하세요 반갑습니다.\") # 튜플도 안된다."
      ],
      "metadata": {
        "colab": {
          "base_uri": "https://localhost:8080/",
          "height": 299
        },
        "id": "9fTdz80qKR3y",
        "outputId": "3728ac92-81d6-4b97-edf0-6c7b939bfe5a"
      },
      "execution_count": null,
      "outputs": [
        {
          "output_type": "error",
          "ename": "TypeError",
          "evalue": "ignored",
          "traceback": [
            "\u001b[0;31m---------------------------------------------------------------------------\u001b[0m",
            "\u001b[0;31mTypeError\u001b[0m                                 Traceback (most recent call last)",
            "\u001b[0;32m<ipython-input-134-e83c40d519cc>\u001b[0m in \u001b[0;36m<module>\u001b[0;34m()\u001b[0m\n\u001b[0;32m----> 1\u001b[0;31m \u001b[0mrandom\u001b[0m\u001b[0;34m.\u001b[0m\u001b[0mshuffle\u001b[0m\u001b[0;34m(\u001b[0m\u001b[0;34m\"안녕하세요 반갑습니다.\"\u001b[0m\u001b[0;34m)\u001b[0m \u001b[0;31m# 튜플도 안된다.\u001b[0m\u001b[0;34m\u001b[0m\u001b[0;34m\u001b[0m\u001b[0m\n\u001b[0m",
            "\u001b[0;32m/usr/lib/python3.7/random.py\u001b[0m in \u001b[0;36mshuffle\u001b[0;34m(self, x, random)\u001b[0m\n\u001b[1;32m    276\u001b[0m                 \u001b[0;31m# pick an element in x[:i+1] with which to exchange x[i]\u001b[0m\u001b[0;34m\u001b[0m\u001b[0;34m\u001b[0m\u001b[0;34m\u001b[0m\u001b[0m\n\u001b[1;32m    277\u001b[0m                 \u001b[0mj\u001b[0m \u001b[0;34m=\u001b[0m \u001b[0mrandbelow\u001b[0m\u001b[0;34m(\u001b[0m\u001b[0mi\u001b[0m\u001b[0;34m+\u001b[0m\u001b[0;36m1\u001b[0m\u001b[0;34m)\u001b[0m\u001b[0;34m\u001b[0m\u001b[0;34m\u001b[0m\u001b[0m\n\u001b[0;32m--> 278\u001b[0;31m                 \u001b[0mx\u001b[0m\u001b[0;34m[\u001b[0m\u001b[0mi\u001b[0m\u001b[0;34m]\u001b[0m\u001b[0;34m,\u001b[0m \u001b[0mx\u001b[0m\u001b[0;34m[\u001b[0m\u001b[0mj\u001b[0m\u001b[0;34m]\u001b[0m \u001b[0;34m=\u001b[0m \u001b[0mx\u001b[0m\u001b[0;34m[\u001b[0m\u001b[0mj\u001b[0m\u001b[0;34m]\u001b[0m\u001b[0;34m,\u001b[0m \u001b[0mx\u001b[0m\u001b[0;34m[\u001b[0m\u001b[0mi\u001b[0m\u001b[0;34m]\u001b[0m\u001b[0;34m\u001b[0m\u001b[0;34m\u001b[0m\u001b[0m\n\u001b[0m\u001b[1;32m    279\u001b[0m         \u001b[0;32melse\u001b[0m\u001b[0;34m:\u001b[0m\u001b[0;34m\u001b[0m\u001b[0;34m\u001b[0m\u001b[0m\n\u001b[1;32m    280\u001b[0m             \u001b[0m_int\u001b[0m \u001b[0;34m=\u001b[0m \u001b[0mint\u001b[0m\u001b[0;34m\u001b[0m\u001b[0;34m\u001b[0m\u001b[0m\n",
            "\u001b[0;31mTypeError\u001b[0m: 'str' object does not support item assignment"
          ]
        }
      ]
    },
    {
      "cell_type": "code",
      "source": [
        "random.seed(42) # 숫자에 따라 바뀐다!\n",
        "lst = [1,2,3,4,5,6]\n",
        "random.shuffle(lst)\n",
        "lst"
      ],
      "metadata": {
        "colab": {
          "base_uri": "https://localhost:8080/"
        },
        "id": "RYSBZjNQKfww",
        "outputId": "c14aa291-b315-4cd7-d3b0-4eddd5cf3b63"
      },
      "execution_count": null,
      "outputs": [
        {
          "output_type": "execute_result",
          "data": {
            "text/plain": [
              "[4, 2, 3, 5, 1, 6]"
            ]
          },
          "metadata": {},
          "execution_count": 233
        }
      ]
    },
    {
      "cell_type": "markdown",
      "source": [
        "# collections 모듈\n",
        "- 파이썬의 내장 자료 구조\n",
        "- 기존 자료구조를 확장하여 제작된 파이썬 내장모듈"
      ],
      "metadata": {
        "id": "WB4-qwfRLDMr"
      }
    },
    {
      "cell_type": "markdown",
      "source": [
        "## deque"
      ],
      "metadata": {
        "id": "iiuBBBiMLftf"
      }
    },
    {
      "cell_type": "code",
      "source": [
        "from collections import deque"
      ],
      "metadata": {
        "id": "0Z6eOtoPL9B8"
      },
      "execution_count": null,
      "outputs": []
    },
    {
      "cell_type": "code",
      "source": [
        "dq = deque()\n",
        "dq"
      ],
      "metadata": {
        "colab": {
          "base_uri": "https://localhost:8080/"
        },
        "id": "tTrv94TaMCdw",
        "outputId": "df145761-6f84-4053-f0bc-5d35a7375edc"
      },
      "execution_count": null,
      "outputs": [
        {
          "output_type": "execute_result",
          "data": {
            "text/plain": [
              "deque([])"
            ]
          },
          "metadata": {},
          "execution_count": 159
        }
      ]
    },
    {
      "cell_type": "markdown",
      "source": [
        "- append"
      ],
      "metadata": {
        "id": "8G71G8LmMHgr"
      }
    },
    {
      "cell_type": "code",
      "source": [
        "dq.append(100)\n",
        "dq"
      ],
      "metadata": {
        "colab": {
          "base_uri": "https://localhost:8080/"
        },
        "id": "c692JjtMMRKg",
        "outputId": "3aa03480-176f-4a19-b6f5-8a13a3a9ca20"
      },
      "execution_count": null,
      "outputs": [
        {
          "output_type": "execute_result",
          "data": {
            "text/plain": [
              "deque([100])"
            ]
          },
          "metadata": {},
          "execution_count": 160
        }
      ]
    },
    {
      "cell_type": "markdown",
      "source": [
        "- appendleft\n",
        "    - 인자로 넣은 값을 왼쪽부터 추가"
      ],
      "metadata": {
        "id": "2FIH6ZzbMo38"
      }
    },
    {
      "cell_type": "code",
      "source": [
        "dq.appendleft(300)  # insert(0,300)과 같다,.\n",
        "dq"
      ],
      "metadata": {
        "colab": {
          "base_uri": "https://localhost:8080/"
        },
        "id": "wZiKpII3MS-N",
        "outputId": "53a68a63-ead0-4017-d0d4-5e53a1ac44d6"
      },
      "execution_count": null,
      "outputs": [
        {
          "output_type": "execute_result",
          "data": {
            "text/plain": [
              "deque([300, 100])"
            ]
          },
          "metadata": {},
          "execution_count": 161
        }
      ]
    },
    {
      "cell_type": "markdown",
      "source": [
        "- 디큐 객체 생성 시 반복가능한 객체를 인자로 넣어도 된다."
      ],
      "metadata": {
        "id": "RQ6B0RkSMjtE"
      }
    },
    {
      "cell_type": "code",
      "source": [
        "dq = deque(range(10))\n",
        "dq"
      ],
      "metadata": {
        "colab": {
          "base_uri": "https://localhost:8080/"
        },
        "id": "QA21dyxeM_OW",
        "outputId": "79b55804-de5c-4a1a-b9fa-ac6c7c02111b"
      },
      "execution_count": null,
      "outputs": [
        {
          "output_type": "execute_result",
          "data": {
            "text/plain": [
              "deque([0, 1, 2, 3, 4, 5, 6, 7, 8, 9])"
            ]
          },
          "metadata": {},
          "execution_count": 177
        }
      ]
    },
    {
      "cell_type": "markdown",
      "source": [
        "- rotate\n",
        "    - dq 객체 안에 요소를 회전한다."
      ],
      "metadata": {
        "id": "KmF_SHWbNDZ1"
      }
    },
    {
      "cell_type": "code",
      "source": [
        "dq.rotate()\n",
        "dq"
      ],
      "metadata": {
        "colab": {
          "base_uri": "https://localhost:8080/"
        },
        "id": "ZU92BNDQNOwC",
        "outputId": "90583204-e746-41a4-e0c3-0d486f2f94d3"
      },
      "execution_count": null,
      "outputs": [
        {
          "output_type": "execute_result",
          "data": {
            "text/plain": [
              "deque([9, 0, 1, 2, 3, 4, 5, 6, 7, 8])"
            ]
          },
          "metadata": {},
          "execution_count": 178
        }
      ]
    },
    {
      "cell_type": "code",
      "source": [
        "dq.rotate?"
      ],
      "metadata": {
        "id": "bJmgOrF0NR7L"
      },
      "execution_count": null,
      "outputs": []
    },
    {
      "cell_type": "code",
      "source": [
        "dq = deque(range(10))\n",
        "dq.rotate(-1)\n",
        "dq"
      ],
      "metadata": {
        "colab": {
          "base_uri": "https://localhost:8080/"
        },
        "id": "AlRMKc6mNiBd",
        "outputId": "014bc723-2b53-45d4-e0a2-ed372bfcd0dc"
      },
      "execution_count": null,
      "outputs": [
        {
          "output_type": "execute_result",
          "data": {
            "text/plain": [
              "deque([1, 2, 3, 4, 5, 6, 7, 8, 9, 0])"
            ]
          },
          "metadata": {},
          "execution_count": 180
        }
      ]
    },
    {
      "cell_type": "code",
      "source": [
        "dq[-1] # 인덱싱 지원"
      ],
      "metadata": {
        "colab": {
          "base_uri": "https://localhost:8080/"
        },
        "id": "LlqTYtu7NnFG",
        "outputId": "f4bfa9fc-f95f-4540-9fd5-6f929b4099b0"
      },
      "execution_count": null,
      "outputs": [
        {
          "output_type": "execute_result",
          "data": {
            "text/plain": [
              "0"
            ]
          },
          "metadata": {},
          "execution_count": 181
        }
      ]
    },
    {
      "cell_type": "code",
      "source": [
        "dq[:]   # 슬라이싱은 지원 안한다."
      ],
      "metadata": {
        "colab": {
          "base_uri": "https://localhost:8080/",
          "height": 172
        },
        "id": "uUGOUMEENzM9",
        "outputId": "1e4e333b-677a-479e-94b9-370217fa551d"
      },
      "execution_count": null,
      "outputs": [
        {
          "output_type": "error",
          "ename": "TypeError",
          "evalue": "ignored",
          "traceback": [
            "\u001b[0;31m---------------------------------------------------------------------------\u001b[0m",
            "\u001b[0;31mTypeError\u001b[0m                                 Traceback (most recent call last)",
            "\u001b[0;32m<ipython-input-182-1631631380b2>\u001b[0m in \u001b[0;36m<module>\u001b[0;34m()\u001b[0m\n\u001b[0;32m----> 1\u001b[0;31m \u001b[0mdq\u001b[0m\u001b[0;34m[\u001b[0m\u001b[0;34m:\u001b[0m\u001b[0;34m]\u001b[0m   \u001b[0;31m# 슬라이싱은 지원안한다.\u001b[0m\u001b[0;34m\u001b[0m\u001b[0;34m\u001b[0m\u001b[0m\n\u001b[0m",
            "\u001b[0;31mTypeError\u001b[0m: sequence index must be integer, not 'slice'"
          ]
        }
      ]
    },
    {
      "cell_type": "markdown",
      "source": [
        " - 속도 비교"
      ],
      "metadata": {
        "id": "iDIyovyVN6XD"
      }
    },
    {
      "cell_type": "code",
      "source": [
        "%%timeit\n",
        "dq = deque()\n",
        "for i in range(1000000):\n",
        "    dq.append(i)"
      ],
      "metadata": {
        "colab": {
          "base_uri": "https://localhost:8080/"
        },
        "id": "xzLCMeqJRrfI",
        "outputId": "b037e1ba-2044-411a-ad5f-c44e42732434"
      },
      "execution_count": null,
      "outputs": [
        {
          "output_type": "stream",
          "name": "stdout",
          "text": [
            "10 loops, best of 5: 96.2 ms per loop\n"
          ]
        }
      ]
    },
    {
      "cell_type": "code",
      "source": [
        "%%timeit\n",
        "lst = []\n",
        "for i in range(1000000):\n",
        "    lst.append(i)"
      ],
      "metadata": {
        "colab": {
          "base_uri": "https://localhost:8080/"
        },
        "id": "uHTT-okCR34b",
        "outputId": "5c1979dc-e41e-48b2-c883-17cc04d9b539"
      },
      "execution_count": null,
      "outputs": [
        {
          "output_type": "stream",
          "name": "stdout",
          "text": [
            "10 loops, best of 5: 106 ms per loop\n"
          ]
        }
      ]
    },
    {
      "cell_type": "code",
      "source": [
        "%%timeit\n",
        "lst = [ i for i in range(1000000) ]"
      ],
      "metadata": {
        "colab": {
          "base_uri": "https://localhost:8080/"
        },
        "id": "0sduVm0ESB-6",
        "outputId": "d5865faa-722c-4107-bb51-88c5216ab876"
      },
      "execution_count": null,
      "outputs": [
        {
          "output_type": "stream",
          "name": "stdout",
          "text": [
            "10 loops, best of 5: 69.3 ms per loop\n"
          ]
        }
      ]
    },
    {
      "cell_type": "markdown",
      "source": [
        "## defaultdict\n",
        "- 딕셔너리의 단점으로 없는 key 접근 시 에러가 발생하는 단점을 보완\n",
        "- 딕셔너리에 없는 key에 접근 시 지정한 기본값을 이용하여 key, value 를 생성"
      ],
      "metadata": {
        "id": "V4VK4_ThSNrX"
      }
    },
    {
      "cell_type": "code",
      "source": [
        "d = {}\n",
        "d[\"key1\"]"
      ],
      "metadata": {
        "colab": {
          "base_uri": "https://localhost:8080/",
          "height": 190
        },
        "id": "LRdRwkT7Svm0",
        "outputId": "cd1d0494-00a2-4e91-c5fc-24c48da9705f"
      },
      "execution_count": null,
      "outputs": [
        {
          "output_type": "error",
          "ename": "KeyError",
          "evalue": "ignored",
          "traceback": [
            "\u001b[0;31m---------------------------------------------------------------------------\u001b[0m",
            "\u001b[0;31mKeyError\u001b[0m                                  Traceback (most recent call last)",
            "\u001b[0;32m<ipython-input-189-98cebd65e778>\u001b[0m in \u001b[0;36m<module>\u001b[0;34m()\u001b[0m\n\u001b[1;32m      1\u001b[0m \u001b[0md\u001b[0m \u001b[0;34m=\u001b[0m \u001b[0;34m{\u001b[0m\u001b[0;34m}\u001b[0m\u001b[0;34m\u001b[0m\u001b[0;34m\u001b[0m\u001b[0m\n\u001b[0;32m----> 2\u001b[0;31m \u001b[0md\u001b[0m\u001b[0;34m[\u001b[0m\u001b[0;34m\"key1\"\u001b[0m\u001b[0;34m]\u001b[0m\u001b[0;34m\u001b[0m\u001b[0;34m\u001b[0m\u001b[0m\n\u001b[0m",
            "\u001b[0;31mKeyError\u001b[0m: 'key1'"
          ]
        }
      ]
    },
    {
      "cell_type": "code",
      "source": [
        "from collections import defaultdict\n",
        "default_dict = defaultdict(lambda:0)\n",
        "default_dict[\"key1\"]    # 에러가 발생하지 않는다!"
      ],
      "metadata": {
        "colab": {
          "base_uri": "https://localhost:8080/"
        },
        "id": "DsJ94E6eS2RE",
        "outputId": "4e8a2ab8-fc3c-4a41-c318-596d42923c80"
      },
      "execution_count": null,
      "outputs": [
        {
          "output_type": "execute_result",
          "data": {
            "text/plain": [
              "0"
            ]
          },
          "metadata": {},
          "execution_count": 190
        }
      ]
    },
    {
      "cell_type": "code",
      "source": [
        "default_dict"
      ],
      "metadata": {
        "colab": {
          "base_uri": "https://localhost:8080/"
        },
        "id": "GYZP436nTSyL",
        "outputId": "65a57aaf-3755-413f-e165-aca6cc3f314d"
      },
      "execution_count": null,
      "outputs": [
        {
          "output_type": "execute_result",
          "data": {
            "text/plain": [
              "defaultdict(<function __main__.<lambda>>, {'key1': 0})"
            ]
          },
          "metadata": {},
          "execution_count": 191
        }
      ]
    },
    {
      "cell_type": "code",
      "source": [
        "dict(default_dict)"
      ],
      "metadata": {
        "colab": {
          "base_uri": "https://localhost:8080/"
        },
        "id": "nvGjfABQTYON",
        "outputId": "494cdbe9-a077-4cce-bdff-0435ce0e964c"
      },
      "execution_count": null,
      "outputs": [
        {
          "output_type": "execute_result",
          "data": {
            "text/plain": [
              "{'key1': 0}"
            ]
          },
          "metadata": {},
          "execution_count": 192
        }
      ]
    },
    {
      "cell_type": "code",
      "source": [
        "d = {\n",
        "    \"key1\" : 0,\n",
        "     \"key2\" : 1\n",
        "}\n",
        "defaultdict(lambda:0,d)"
      ],
      "metadata": {
        "colab": {
          "base_uri": "https://localhost:8080/"
        },
        "id": "QhyDNQWkTd5w",
        "outputId": "e34780c6-c320-4468-8f32-d0bb3910e9b1"
      },
      "execution_count": null,
      "outputs": [
        {
          "output_type": "execute_result",
          "data": {
            "text/plain": [
              "defaultdict(<function __main__.<lambda>>, {'key1': 0, 'key2': 1})"
            ]
          },
          "metadata": {},
          "execution_count": 193
        }
      ]
    },
    {
      "cell_type": "markdown",
      "source": [
        " ## defaultdict 활용방법"
      ],
      "metadata": {
        "id": "1Q8jWYJLTozV"
      }
    },
    {
      "cell_type": "markdown",
      "source": [
        "- 딕셔너리 예시"
      ],
      "metadata": {
        "id": "CnVsmcvcUPPw"
      }
    },
    {
      "cell_type": "code",
      "source": [
        "tup_list = [\n",
        "    (\"경제\",\"10시 경제기사\"),\n",
        "    (\"정치\",\"10시 정치기사\"),\n",
        "    (\"사회\",\"10시 사회기사\"),\n",
        "    (\"경제\",\"14시 경제기사\"),\n",
        "    (\"정치\",\"15시 정치기사\")\n",
        "]\n",
        "news_dict = {}\n",
        "for k ,v in tup_list:\n",
        "    if news_dict.get(k) is None:\n",
        "        news_dict[k] = []\n",
        "    news_dict[k].append(v)\n",
        "news_dict"
      ],
      "metadata": {
        "colab": {
          "base_uri": "https://localhost:8080/"
        },
        "id": "pUfLRwr8TyKb",
        "outputId": "3cdd3299-d173-4031-9020-4017217aeb90"
      },
      "execution_count": null,
      "outputs": [
        {
          "output_type": "execute_result",
          "data": {
            "text/plain": [
              "{'경제': ['10시 경제기사', '14시 경제기사'],\n",
              " '사회': ['10시 사회기사'],\n",
              " '정치': ['10시 정치기사', '15시 정치기사']}"
            ]
          },
          "metadata": {},
          "execution_count": 195
        }
      ]
    },
    {
      "cell_type": "code",
      "source": [
        "news_dict = defaultdict(list)\n",
        "for k,v in tup_list:\n",
        "    news_dict[k].append(v)\n",
        "news_dict"
      ],
      "metadata": {
        "colab": {
          "base_uri": "https://localhost:8080/"
        },
        "id": "Q8fGEfuaUmFV",
        "outputId": "507aeabe-76ef-4f94-f13a-93772d42882f"
      },
      "execution_count": null,
      "outputs": [
        {
          "output_type": "execute_result",
          "data": {
            "text/plain": [
              "defaultdict(list,\n",
              "            {'경제': ['10시 경제기사', '14시 경제기사'],\n",
              "             '사회': ['10시 사회기사'],\n",
              "             '정치': ['10시 정치기사', '15시 정치기사']})"
            ]
          },
          "metadata": {},
          "execution_count": 197
        }
      ]
    },
    {
      "cell_type": "markdown",
      "source": [
        "## OrderedDict\n",
        "- 순서를 가진 딕셔너리 객체\n",
        "- key, value 생성한 순서대로 저장된다."
      ],
      "metadata": {
        "id": "JH0sIAZzU0LU"
      }
    },
    {
      "cell_type": "code",
      "source": [
        "from collections import OrderedDict # 클래스 형태\n",
        "order_dict = OrderedDict()\n",
        "order_dict[\"사과\"] = 200\n",
        "order_dict[\"딸기\"] = 100\n",
        "order_dict[\"포도\"] = 500\n",
        "\n",
        "for k,v in order_dict.items():\n",
        "    print(k,v)"
      ],
      "metadata": {
        "colab": {
          "base_uri": "https://localhost:8080/"
        },
        "id": "9rZiFvHDVOF-",
        "outputId": "0b14b025-4d3f-4350-9e87-a99b8d4ad6e1"
      },
      "execution_count": null,
      "outputs": [
        {
          "output_type": "stream",
          "name": "stdout",
          "text": [
            "사과 200\n",
            "딸기 100\n",
            "포도 500\n"
          ]
        }
      ]
    },
    {
      "cell_type": "markdown",
      "source": [
        "## Counter\n",
        "- 시퀀스 자료형의 데이터의 값의 개수를 딕셔너리 형태로 반환"
      ],
      "metadata": {
        "id": "rvHG-X6CVq_L"
      }
    },
    {
      "cell_type": "code",
      "source": [
        "from collections import Counter\n",
        "Counter(\"aaabbc\")"
      ],
      "metadata": {
        "colab": {
          "base_uri": "https://localhost:8080/"
        },
        "id": "ItaIB5ucV6EM",
        "outputId": "a57b0a15-c702-482c-8217-f21d6067a4e4"
      },
      "execution_count": null,
      "outputs": [
        {
          "output_type": "execute_result",
          "data": {
            "text/plain": [
              "Counter({'a': 3, 'b': 2, 'c': 1})"
            ]
          },
          "metadata": {},
          "execution_count": 200
        }
      ]
    },
    {
      "cell_type": "code",
      "source": [
        "counter = Counter({\"사과\": 3,\"포도\": 2, \"딸기\": 1,\"참외\": 4})\n",
        "counter"
      ],
      "metadata": {
        "colab": {
          "base_uri": "https://localhost:8080/"
        },
        "id": "u7op1KJiWEU9",
        "outputId": "dc0aa0ba-188d-40ca-9eca-0869f66a71b6"
      },
      "execution_count": null,
      "outputs": [
        {
          "output_type": "execute_result",
          "data": {
            "text/plain": [
              "Counter({'딸기': 1, '사과': 3, '참외': 4, '포도': 2})"
            ]
          },
          "metadata": {},
          "execution_count": 204
        }
      ]
    },
    {
      "cell_type": "markdown",
      "source": [
        "- most_common\n",
        "    - value를 기준으로 내림차순 정렬하여 key,value를 튜플에 담고 리스트에 담아 반환"
      ],
      "metadata": {
        "id": "bZXOOW5vWVVd"
      }
    },
    {
      "cell_type": "code",
      "source": [
        "counter.most_common()"
      ],
      "metadata": {
        "colab": {
          "base_uri": "https://localhost:8080/"
        },
        "id": "IlPyxSbjWorS",
        "outputId": "efc5ac93-2087-42ce-90bd-5490bced30b1"
      },
      "execution_count": null,
      "outputs": [
        {
          "output_type": "execute_result",
          "data": {
            "text/plain": [
              "[('참외', 4), ('사과', 3), ('포도', 2), ('딸기', 1)]"
            ]
          },
          "metadata": {},
          "execution_count": 205
        }
      ]
    },
    {
      "cell_type": "markdown",
      "source": [
        "- elements\n",
        "    - value의 갯수만큼 key를 반복할 수 있는 객체를 반환"
      ],
      "metadata": {
        "id": "CDIz9J0VWsf_"
      }
    },
    {
      "cell_type": "code",
      "source": [
        "for i in counter.elements():\n",
        "    print(i)"
      ],
      "metadata": {
        "colab": {
          "base_uri": "https://localhost:8080/"
        },
        "id": "FA9z9pqEWyvg",
        "outputId": "65659019-1eac-47c9-822d-ee0490d5b333"
      },
      "execution_count": null,
      "outputs": [
        {
          "output_type": "stream",
          "name": "stdout",
          "text": [
            "사과\n",
            "사과\n",
            "사과\n",
            "포도\n",
            "포도\n",
            "딸기\n",
            "참외\n",
            "참외\n",
            "참외\n",
            "참외\n"
          ]
        }
      ]
    },
    {
      "cell_type": "markdown",
      "source": [
        "# 파이썬 속도 향상을 위한 팁"
      ],
      "metadata": {
        "id": "mIYKRmpIXAnq"
      }
    },
    {
      "cell_type": "markdown",
      "source": [
        "- 단순하게 반복해서 데이터를 담아야하는 경우"
      ],
      "metadata": {
        "id": "TpaLwZg9XQ6y"
      }
    },
    {
      "cell_type": "code",
      "source": [
        "# bad case\n",
        "lst = []\n",
        "for i in range(1,1000):\n",
        "    if i % 2 == 0:\n",
        "        lst.append(i)"
      ],
      "metadata": {
        "id": "si6JgQHCXVJx"
      },
      "execution_count": null,
      "outputs": []
    },
    {
      "cell_type": "code",
      "source": [
        "# good case\n",
        "lst = [i for i in range(1,1000) if i % 2 == 0]"
      ],
      "metadata": {
        "id": "GIgp9EnDXh7K"
      },
      "execution_count": null,
      "outputs": []
    },
    {
      "cell_type": "markdown",
      "source": [
        "- 여러개의 변수를 초기화할 때"
      ],
      "metadata": {
        "id": "Gf9KL0cKXtUG"
      }
    },
    {
      "cell_type": "code",
      "source": [
        "# bad case\n",
        "a = None\n",
        "b = 0\n",
        "c = \"\""
      ],
      "metadata": {
        "id": "kEdOmHAuXyOp"
      },
      "execution_count": null,
      "outputs": []
    },
    {
      "cell_type": "code",
      "source": [
        "# good case\n",
        "a,b,c = None,0,\"\""
      ],
      "metadata": {
        "id": "hXciVMwdX3zN"
      },
      "execution_count": null,
      "outputs": []
    },
    {
      "cell_type": "markdown",
      "source": [
        "- 컬렉션에 있는 문자열을 연결할 때"
      ],
      "metadata": {
        "id": "rAXnkMZoX8WU"
      }
    },
    {
      "cell_type": "code",
      "source": [
        "# bad case\n",
        "lst = [\n",
        "    (\"A반\",\"90점\"),\n",
        "    (\"B반\",\"88점\"),\n",
        "    (\"C반\",\"95점\")\n",
        "]\n",
        "for s1,s2 in lst:\n",
        "    print(f\"{s1} {s2}\")"
      ],
      "metadata": {
        "colab": {
          "base_uri": "https://localhost:8080/"
        },
        "id": "jSFAsffQYG_C",
        "outputId": "9e4ce745-6dc5-4aad-e48a-737948ff9ab1"
      },
      "execution_count": null,
      "outputs": [
        {
          "output_type": "stream",
          "name": "stdout",
          "text": [
            "A반 90점\n",
            "B반 88점\n",
            "C반 95점\n"
          ]
        }
      ]
    },
    {
      "cell_type": "code",
      "source": [
        "# good case\n",
        "for s in lst:\n",
        "    print(\" \".join(s))"
      ],
      "metadata": {
        "colab": {
          "base_uri": "https://localhost:8080/"
        },
        "id": "S9amiI-tYd5W",
        "outputId": "24eac9cb-a2a0-4271-a446-b4e5d217ac9f"
      },
      "execution_count": null,
      "outputs": [
        {
          "output_type": "stream",
          "name": "stdout",
          "text": [
            "A반 90점\n",
            "B반 88점\n",
            "C반 95점\n"
          ]
        }
      ]
    },
    {
      "cell_type": "markdown",
      "source": [
        "- 함수 호출은 컴퓨팅 비용이 많이 든다."
      ],
      "metadata": {
        "id": "CP0hqwJqYlKg"
      }
    },
    {
      "cell_type": "code",
      "source": [
        "# bad case\n",
        "%%timeit\n",
        "def square(n):\n",
        "    return n**2\n",
        "square_list = []\n",
        "for i in range(1000000):\n",
        "    square_list.append(square(i)) # square 함수가 for문 안에서 반복된다."
      ],
      "metadata": {
        "colab": {
          "base_uri": "https://localhost:8080/"
        },
        "id": "L5TWzcOCYvEa",
        "outputId": "9f0d57f5-a0af-4bd4-e410-d6ebb883d0d8"
      },
      "execution_count": null,
      "outputs": [
        {
          "output_type": "stream",
          "name": "stdout",
          "text": [
            "1 loop, best of 5: 402 ms per loop\n"
          ]
        }
      ]
    },
    {
      "cell_type": "code",
      "source": [
        "# good case\n",
        "%%timeit\n",
        "def square():\n",
        "    square_list = []\n",
        "    for i in range(1000000):\n",
        "        square_list.append(i**2)\n",
        "    return square_list\n",
        "square()"
      ],
      "metadata": {
        "colab": {
          "base_uri": "https://localhost:8080/"
        },
        "id": "6piZmz_7ZF69",
        "outputId": "44612bc6-e7cc-454a-c524-880b0d8bd6f7"
      },
      "execution_count": null,
      "outputs": [
        {
          "output_type": "stream",
          "name": "stdout",
          "text": [
            "1 loop, best of 5: 353 ms per loop\n"
          ]
        }
      ]
    },
    {
      "cell_type": "markdown",
      "source": [
        "- 모듈을 불러올 때"
      ],
      "metadata": {
        "id": "pfctxfJgZYgC"
      }
    },
    {
      "cell_type": "code",
      "source": [
        "# bad case\n",
        "import collections\n",
        "counter = collections.Counter()\n",
        "counter"
      ],
      "metadata": {
        "colab": {
          "base_uri": "https://localhost:8080/"
        },
        "id": "yplonKdMZwUU",
        "outputId": "5204dad8-dc7b-4edf-df4c-77d160dc45e2"
      },
      "execution_count": null,
      "outputs": [
        {
          "output_type": "execute_result",
          "data": {
            "text/plain": [
              "Counter()"
            ]
          },
          "metadata": {},
          "execution_count": 220
        }
      ]
    },
    {
      "cell_type": "code",
      "source": [
        "# good case\n",
        "from collections import Counter\n",
        "counter = Counter()\n",
        "counter"
      ],
      "metadata": {
        "colab": {
          "base_uri": "https://localhost:8080/"
        },
        "id": "BkwCa0MPZ5nK",
        "outputId": "f998f98a-b20d-4e57-fde3-7af7ae605faa"
      },
      "execution_count": null,
      "outputs": [
        {
          "output_type": "execute_result",
          "data": {
            "text/plain": [
              "Counter()"
            ]
          },
          "metadata": {},
          "execution_count": 222
        }
      ]
    },
    {
      "cell_type": "code",
      "source": [
        ""
      ],
      "metadata": {
        "id": "BKDnsk8OaId6"
      },
      "execution_count": null,
      "outputs": []
    }
  ]
}
