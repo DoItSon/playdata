{
  "nbformat": 4,
  "nbformat_minor": 0,
  "metadata": {
    "colab": {
      "name": "11-파일입출력.ipynb",
      "provenance": [],
      "collapsed_sections": [],
      "mount_file_id": "1ywkaEy7lbN57gZCgYyMln7GSknrZAJ9p",
      "authorship_tag": "ABX9TyOjTS+jKDXrnG3xBouasQ7/",
      "include_colab_link": true
    },
    "kernelspec": {
      "name": "python3",
      "display_name": "Python 3"
    },
    "language_info": {
      "name": "python"
    }
  },
  "cells": [
    {
      "cell_type": "markdown",
      "metadata": {
        "id": "view-in-github",
        "colab_type": "text"
      },
      "source": [
        "<a href=\"https://colab.research.google.com/github/soyongseok/playdata/blob/main/11_%ED%8C%8C%EC%9D%BC%EC%9E%85%EC%B6%9C%EB%A0%A5.ipynb\" target=\"_parent\"><img src=\"https://colab.research.google.com/assets/colab-badge.svg\" alt=\"Open In Colab\"/></a>"
      ]
    },
    {
      "cell_type": "markdown",
      "source": [
        "# 파일 입출력\n",
        " - open 함수\n",
        "    - 파일을 열 수 있는 함수\n",
        "    - 파일 객체를 반환\n",
        "    - `w`: 쓰기 모드\n",
        "    - `a`: 추가 모드\n",
        "    - `r`: 읽기 모드"
      ],
      "metadata": {
        "id": "WuFPag4F9luN"
      }
    },
    {
      "cell_type": "markdown",
      "source": [
        "- 쓰기 모드"
      ],
      "metadata": {
        "id": "KFFp7jnyGePO"
      }
    },
    {
      "cell_type": "code",
      "source": [
        "f = open(\"memo.txt\",\"w\") # 해당 파일이 없을 경우 새로 생성, 있을 경우 덮어 씌움\n",
        "print(f)\n",
        "f.close()   # 파일을 열면 항상 닫아줘야한다."
      ],
      "metadata": {
        "colab": {
          "base_uri": "https://localhost:8080/"
        },
        "id": "KVIIeAdsGQOi",
        "outputId": "9fc33ee3-d995-4c1d-aea9-913f92d30c12"
      },
      "execution_count": 2,
      "outputs": [
        {
          "output_type": "stream",
          "name": "stdout",
          "text": [
            "<_io.TextIOWrapper name='memo.txt' mode='w' encoding='UTF-8'>\n"
          ]
        }
      ]
    },
    {
      "cell_type": "code",
      "source": [
        "f = open(\"memo.txt\",\"w\")\n",
        "for i in range(1,11):\n",
        "    data = f\"{i} 번째 줄\\n\"\n",
        "    f.write(data)   # 파일 안에 쓰겠다.\n",
        "f.close()"
      ],
      "metadata": {
        "id": "vPt9_JaRGurM"
      },
      "execution_count": 3,
      "outputs": []
    },
    {
      "cell_type": "markdown",
      "source": [
        "- 쓰기 모드로 여는 순간 안에 파일 내용이 사라진다."
      ],
      "metadata": {
        "id": "5Ft4xDIuH_tj"
      }
    },
    {
      "cell_type": "code",
      "source": [
        "# f = open(\"memo.txt\",\"w\")    # w모드는 안에 내용을 덮어서 내용이 사라짐\n",
        "# f.close()"
      ],
      "metadata": {
        "id": "nvrQcxGQHel-"
      },
      "execution_count": 4,
      "outputs": []
    },
    {
      "cell_type": "markdown",
      "source": [
        "- 추가 모드"
      ],
      "metadata": {
        "id": "Y7w6gWg_Hz6k"
      }
    },
    {
      "cell_type": "code",
      "source": [
        "f = open(\"memo.txt\",\"a\")\n",
        "data = \"11 번째 줄\\n\"\n",
        "f.write(data)\n",
        "f.close()"
      ],
      "metadata": {
        "id": "9LPyom1NIGkV"
      },
      "execution_count": 5,
      "outputs": []
    },
    {
      "cell_type": "markdown",
      "source": [
        "- 읽기 모드"
      ],
      "metadata": {
        "id": "9IeLKYqmIK0d"
      }
    },
    {
      "cell_type": "code",
      "source": [
        "f = open(\"memo.txt\",\"r\")\n",
        "data = f.read() # 파일 전체의 내용을 읽어서 반환한다.\n",
        "f.close()\n",
        "print(data)"
      ],
      "metadata": {
        "colab": {
          "base_uri": "https://localhost:8080/"
        },
        "id": "QGxOYmZpIu6m",
        "outputId": "15adf922-42fc-4ba9-b003-a583d5b660d5"
      },
      "execution_count": 6,
      "outputs": [
        {
          "output_type": "stream",
          "name": "stdout",
          "text": [
            "1 번째 줄\n",
            "2 번째 줄\n",
            "3 번째 줄\n",
            "4 번째 줄\n",
            "5 번째 줄\n",
            "6 번째 줄\n",
            "7 번째 줄\n",
            "8 번째 줄\n",
            "9 번째 줄\n",
            "10 번째 줄\n",
            "11 번째 줄\n",
            "\n"
          ]
        }
      ]
    },
    {
      "cell_type": "code",
      "source": [
        "f = open(\"memo.txt\",\"r\")\n",
        "while True:\n",
        "    data = f.readline() # 한 줄씩 읽는데 줄바꿈도 문자도 포함된다.\n",
        "    if not data:\n",
        "        break\n",
        "    print(data,end = \"\")\n",
        "f.close()"
      ],
      "metadata": {
        "id": "a8WbE37ZI8jM",
        "colab": {
          "base_uri": "https://localhost:8080/"
        },
        "outputId": "358edd96-1a7a-46f8-d3c2-e943733943e7"
      },
      "execution_count": 7,
      "outputs": [
        {
          "output_type": "stream",
          "name": "stdout",
          "text": [
            "1 번째 줄\n",
            "2 번째 줄\n",
            "3 번째 줄\n",
            "4 번째 줄\n",
            "5 번째 줄\n",
            "6 번째 줄\n",
            "7 번째 줄\n",
            "8 번째 줄\n",
            "9 번째 줄\n",
            "10 번째 줄\n",
            "11 번째 줄\n"
          ]
        }
      ]
    },
    {
      "cell_type": "code",
      "source": [
        "f = open(\"memo.txt\",\"r\")    # 리스트로 반환\n",
        "data = f.readlines()\n",
        "f.close()\n",
        "print(data)"
      ],
      "metadata": {
        "colab": {
          "base_uri": "https://localhost:8080/"
        },
        "id": "FsM2puSFKShj",
        "outputId": "6ea22114-6a0b-4d65-c7d2-090ae4e97808"
      },
      "execution_count": 8,
      "outputs": [
        {
          "output_type": "stream",
          "name": "stdout",
          "text": [
            "['1 번째 줄\\n', '2 번째 줄\\n', '3 번째 줄\\n', '4 번째 줄\\n', '5 번째 줄\\n', '6 번째 줄\\n', '7 번째 줄\\n', '8 번째 줄\\n', '9 번째 줄\\n', '10 번째 줄\\n', '11 번째 줄\\n']\n"
          ]
        }
      ]
    },
    {
      "cell_type": "markdown",
      "source": [
        "- `with` 문\n",
        "    - 자동으로 파일을 닫아준다."
      ],
      "metadata": {
        "id": "apVxzaREK3tl"
      }
    },
    {
      "cell_type": "code",
      "source": [
        "with open(\"memo.txt\",\"r\") as f: # open 함수로 인해 반환된 파일 객체를 f 변수가 받아준다.\n",
        "    data = f.read()\n",
        "    print(data)"
      ],
      "metadata": {
        "colab": {
          "base_uri": "https://localhost:8080/"
        },
        "id": "BZcILULdLO32",
        "outputId": "c8fcb126-cf3d-4374-e48c-7618b343343c"
      },
      "execution_count": 9,
      "outputs": [
        {
          "output_type": "stream",
          "name": "stdout",
          "text": [
            "1 번째 줄\n",
            "2 번째 줄\n",
            "3 번째 줄\n",
            "4 번째 줄\n",
            "5 번째 줄\n",
            "6 번째 줄\n",
            "7 번째 줄\n",
            "8 번째 줄\n",
            "9 번째 줄\n",
            "10 번째 줄\n",
            "11 번째 줄\n",
            "\n"
          ]
        }
      ]
    },
    {
      "cell_type": "markdown",
      "source": [
        "- with 문은 파일을 자동으로 닫아주기 때문에 다음처럼 메소드를 실행 시 오류가 발생한다."
      ],
      "metadata": {
        "id": "007p7S3kLg6d"
      }
    },
    {
      "cell_type": "code",
      "source": [
        "f.read()"
      ],
      "metadata": {
        "colab": {
          "base_uri": "https://localhost:8080/",
          "height": 172
        },
        "id": "HUBbdcvELu-u",
        "outputId": "240851ac-5928-45ec-a86c-d26d58ff35f9"
      },
      "execution_count": 10,
      "outputs": [
        {
          "output_type": "error",
          "ename": "ValueError",
          "evalue": "ignored",
          "traceback": [
            "\u001b[0;31m---------------------------------------------------------------------------\u001b[0m",
            "\u001b[0;31mValueError\u001b[0m                                Traceback (most recent call last)",
            "\u001b[0;32m<ipython-input-10-571e9fb02258>\u001b[0m in \u001b[0;36m<module>\u001b[0;34m()\u001b[0m\n\u001b[0;32m----> 1\u001b[0;31m \u001b[0mf\u001b[0m\u001b[0;34m.\u001b[0m\u001b[0mread\u001b[0m\u001b[0;34m(\u001b[0m\u001b[0;34m)\u001b[0m\u001b[0;34m\u001b[0m\u001b[0;34m\u001b[0m\u001b[0m\n\u001b[0m",
            "\u001b[0;31mValueError\u001b[0m: I/O operation on closed file."
          ]
        }
      ]
    },
    {
      "cell_type": "code",
      "source": [
        "with open(\"memo.txt\",\"r\") as f:\n",
        "    while True:\n",
        "        data = f.readline()\n",
        "        if not data: break\n",
        "        print(data,end=\"\")"
      ],
      "metadata": {
        "colab": {
          "base_uri": "https://localhost:8080/"
        },
        "id": "JlX7YSSgL7Wb",
        "outputId": "b121e6b6-1a4d-4f4c-83a4-ec78ff642794"
      },
      "execution_count": 11,
      "outputs": [
        {
          "output_type": "stream",
          "name": "stdout",
          "text": [
            "1 번째 줄\n",
            "2 번째 줄\n",
            "3 번째 줄\n",
            "4 번째 줄\n",
            "5 번째 줄\n",
            "6 번째 줄\n",
            "7 번째 줄\n",
            "8 번째 줄\n",
            "9 번째 줄\n",
            "10 번째 줄\n",
            "11 번째 줄\n"
          ]
        }
      ]
    },
    {
      "cell_type": "code",
      "source": [
        "with open(\"memo.txt\",\"r\") as f:\n",
        "    while True:\n",
        "        data = f.readlines()\n",
        "        if not data: break  # data가 없는 것이 참이면\n",
        "        print(data,end=\"\")"
      ],
      "metadata": {
        "colab": {
          "base_uri": "https://localhost:8080/"
        },
        "id": "-IaM0DLzMUhb",
        "outputId": "ea0aeeea-1d8a-46f8-c60b-a2d069c62178"
      },
      "execution_count": 12,
      "outputs": [
        {
          "output_type": "stream",
          "name": "stdout",
          "text": [
            "['1 번째 줄\\n', '2 번째 줄\\n', '3 번째 줄\\n', '4 번째 줄\\n', '5 번째 줄\\n', '6 번째 줄\\n', '7 번째 줄\\n', '8 번째 줄\\n', '9 번째 줄\\n', '10 번째 줄\\n', '11 번째 줄\\n']"
          ]
        }
      ]
    },
    {
      "cell_type": "markdown",
      "source": [
        "- for 문을 이용한 방법"
      ],
      "metadata": {
        "id": "7frnA76NMhys"
      }
    },
    {
      "cell_type": "code",
      "source": [
        "with open(\"memo.txt\",\"r\") as f:\n",
        "    for line in f:\n",
        "        print(line,end=\"\")"
      ],
      "metadata": {
        "colab": {
          "base_uri": "https://localhost:8080/"
        },
        "id": "DQn1chMsM0bt",
        "outputId": "a4774254-3503-47ab-cd12-c75378ff6fde"
      },
      "execution_count": 13,
      "outputs": [
        {
          "output_type": "stream",
          "name": "stdout",
          "text": [
            "1 번째 줄\n",
            "2 번째 줄\n",
            "3 번째 줄\n",
            "4 번째 줄\n",
            "5 번째 줄\n",
            "6 번째 줄\n",
            "7 번째 줄\n",
            "8 번째 줄\n",
            "9 번째 줄\n",
            "10 번째 줄\n",
            "11 번째 줄\n"
          ]
        }
      ]
    },
    {
      "cell_type": "code",
      "source": [
        "with open(\"memo.txt\",\"r\") as f:\n",
        "    for line in f:\n",
        "        line = line.strip() # 메소드를 사용해서 end와 동일하게 사용된다.\n",
        "        print(line)"
      ],
      "metadata": {
        "colab": {
          "base_uri": "https://localhost:8080/"
        },
        "id": "PWC7X3gAM7f1",
        "outputId": "6ee5de14-b5cf-4ee6-b619-30b5fb7eb49c"
      },
      "execution_count": 14,
      "outputs": [
        {
          "output_type": "stream",
          "name": "stdout",
          "text": [
            "1 번째 줄\n",
            "2 번째 줄\n",
            "3 번째 줄\n",
            "4 번째 줄\n",
            "5 번째 줄\n",
            "6 번째 줄\n",
            "7 번째 줄\n",
            "8 번째 줄\n",
            "9 번째 줄\n",
            "10 번째 줄\n",
            "11 번째 줄\n"
          ]
        }
      ]
    },
    {
      "cell_type": "code",
      "source": [
        "with open(\"memo.txt\",\"r\") as f:\n",
        "    for i,line in enumerate(f,1):\n",
        "        print(f\"No.{i} {line}\", end=\"\")"
      ],
      "metadata": {
        "colab": {
          "base_uri": "https://localhost:8080/"
        },
        "id": "MLPvQvgpNePC",
        "outputId": "783ee02d-45e6-4aeb-a7f8-0063a49ec267"
      },
      "execution_count": 15,
      "outputs": [
        {
          "output_type": "stream",
          "name": "stdout",
          "text": [
            "No.1 1 번째 줄\n",
            "No.2 2 번째 줄\n",
            "No.3 3 번째 줄\n",
            "No.4 4 번째 줄\n",
            "No.5 5 번째 줄\n",
            "No.6 6 번째 줄\n",
            "No.7 7 번째 줄\n",
            "No.8 8 번째 줄\n",
            "No.9 9 번째 줄\n",
            "No.10 10 번째 줄\n",
            "No.11 11 번째 줄\n"
          ]
        }
      ]
    },
    {
      "cell_type": "markdown",
      "source": [
        "```\n",
        "2 X 1 = 2\n",
        "...\n",
        "2 X 9 = 18\n",
        "...\n",
        "...\n",
        "...\n",
        "9 X 1 = 9\n",
        "...\n",
        "9 X 9 = 81\n",
        "```"
      ],
      "metadata": {
        "id": "rvDA56X4Om1r"
      }
    },
    {
      "cell_type": "code",
      "source": [
        "with open(\"memo2.txt\",\"w\") as f:\n",
        "    for i in range(2,10):\n",
        "        for j in range(1,10):\n",
        "            data = f\"{i} X {j} = {i*j} \\n\"\n",
        "            f.write(data)"
      ],
      "metadata": {
        "id": "xvpMN9nsSpD0"
      },
      "execution_count": 16,
      "outputs": []
    },
    {
      "cell_type": "code",
      "source": [
        "f = open(\"memo1.txt\",\"w\")\n",
        "for i in range(2,10):\n",
        "    for j in range(1,10):\n",
        "        data = f\"{i} X {j} = {i*j} \\n\"\n",
        "        f.write(data)   # 파일 안에 쓰겠다.\n",
        "f.close()"
      ],
      "metadata": {
        "id": "-L2qzu3OS-pC"
      },
      "execution_count": 17,
      "outputs": []
    },
    {
      "cell_type": "code",
      "source": [
        "with open(\"구구단.txt\",\"w\") as f:   # 강사님 답\n",
        "    for i in range(2,10):\n",
        "        for j in range(1,10):\n",
        "            f.write(f\"{i}X{j}={i*j} \\n\")"
      ],
      "metadata": {
        "id": "zZ9yZBtxUo1T"
      },
      "execution_count": 18,
      "outputs": []
    },
    {
      "cell_type": "markdown",
      "source": [
        "```\n",
        "구구단.txt 파일을 읽어서 구구단의 결과값들만 정수형태로 변경해서 리스트에 담으세요.\n",
        "```"
      ],
      "metadata": {
        "id": "Mbtz4XgWWWkB"
      }
    },
    {
      "cell_type": "code",
      "source": [
        "with open(\"구구단.txt\",\"r\") as f:   # 내 답변 (다시보기)\n",
        "    data = f.split(\" \")\n"
      ],
      "metadata": {
        "colab": {
          "base_uri": "https://localhost:8080/",
          "height": 190
        },
        "id": "gxVdFEPmWgXN",
        "outputId": "2b5c5d12-d91d-436e-82a9-1ee0cab438c1"
      },
      "execution_count": 19,
      "outputs": [
        {
          "output_type": "error",
          "ename": "AttributeError",
          "evalue": "ignored",
          "traceback": [
            "\u001b[0;31m---------------------------------------------------------------------------\u001b[0m",
            "\u001b[0;31mAttributeError\u001b[0m                            Traceback (most recent call last)",
            "\u001b[0;32m<ipython-input-19-288395a21998>\u001b[0m in \u001b[0;36m<module>\u001b[0;34m()\u001b[0m\n\u001b[1;32m      1\u001b[0m \u001b[0;32mwith\u001b[0m \u001b[0mopen\u001b[0m\u001b[0;34m(\u001b[0m\u001b[0;34m\"구구단.txt\"\u001b[0m\u001b[0;34m,\u001b[0m\u001b[0;34m\"r\"\u001b[0m\u001b[0;34m)\u001b[0m \u001b[0;32mas\u001b[0m \u001b[0mf\u001b[0m\u001b[0;34m:\u001b[0m   \u001b[0;31m# 내 답변 (다시보기)\u001b[0m\u001b[0;34m\u001b[0m\u001b[0;34m\u001b[0m\u001b[0m\n\u001b[0;32m----> 2\u001b[0;31m     \u001b[0mdata\u001b[0m \u001b[0;34m=\u001b[0m \u001b[0mf\u001b[0m\u001b[0;34m.\u001b[0m\u001b[0msplit\u001b[0m\u001b[0;34m(\u001b[0m\u001b[0;34m\" \"\u001b[0m\u001b[0;34m)\u001b[0m\u001b[0;34m\u001b[0m\u001b[0;34m\u001b[0m\u001b[0m\n\u001b[0m",
            "\u001b[0;31mAttributeError\u001b[0m: '_io.TextIOWrapper' object has no attribute 'split'"
          ]
        }
      ]
    },
    {
      "cell_type": "code",
      "source": [
        "with open(\"구구단.txt\",\"r\") as f:   # 강사님 답\n",
        "   lst =  [ int(line.strip().split(\"=\")[1]) for line in f ]\n",
        "lst"
      ],
      "metadata": {
        "id": "1QfYYvfTWq7O"
      },
      "execution_count": null,
      "outputs": []
    },
    {
      "cell_type": "markdown",
      "source": [
        "# 구글 드라이브 연결해서 파일 가져오기\n",
        "- 마운트(mount)란?\n",
        "    - 리눅스 환경에서 하드디스크나 usb 메모리 같은 물리적인 장치를 사용하기 위해 리눅스 환경에서 지정한 디렉토리에 연결해주는 과정을 말한다."
      ],
      "metadata": {
        "id": "I1oZEA0hbpIs"
      }
    },
    {
      "cell_type": "code",
      "source": [
        "!uname"
      ],
      "metadata": {
        "colab": {
          "base_uri": "https://localhost:8080/"
        },
        "id": "6oCbnN0pgSyh",
        "outputId": "5b245359-a672-401f-fd01-21d9f1be7be1"
      },
      "execution_count": 20,
      "outputs": [
        {
          "output_type": "stream",
          "name": "stdout",
          "text": [
            "Linux\n"
          ]
        }
      ]
    },
    {
      "cell_type": "code",
      "source": [
        "!cat /etc/issue # 우분투 = 리눅스 운영체제"
      ],
      "metadata": {
        "colab": {
          "base_uri": "https://localhost:8080/"
        },
        "id": "9JC-I3GSgbcs",
        "outputId": "c0af26ab-e6d9-4e37-8143-59ecd1ea3d75"
      },
      "execution_count": 21,
      "outputs": [
        {
          "output_type": "stream",
          "name": "stdout",
          "text": [
            "Ubuntu 18.04.6 LTS \\n \\l\n",
            "\n"
          ]
        }
      ]
    },
    {
      "cell_type": "code",
      "source": [
        "!pwd"
      ],
      "metadata": {
        "colab": {
          "base_uri": "https://localhost:8080/"
        },
        "id": "qZIvNw42hABr",
        "outputId": "2ff90dd8-ba80-4280-bdbb-b72d981ec47d"
      },
      "execution_count": 22,
      "outputs": [
        {
          "output_type": "stream",
          "name": "stdout",
          "text": [
            "/content\n"
          ]
        }
      ]
    },
    {
      "cell_type": "code",
      "source": [
        "from google.colab import drive\n",
        "drive.mount('/content/drive')"
      ],
      "metadata": {
        "colab": {
          "base_uri": "https://localhost:8080/"
        },
        "id": "iIxM0_ibbdw6",
        "outputId": "8e7342d7-3d5a-48ce-9de1-5de566cafc81"
      },
      "execution_count": 23,
      "outputs": [
        {
          "output_type": "stream",
          "name": "stdout",
          "text": [
            "Drive already mounted at /content/drive; to attempt to forcibly remount, call drive.mount(\"/content/drive\", force_remount=True).\n"
          ]
        }
      ]
    },
    {
      "cell_type": "code",
      "source": [
        "DATA_PATH = \"/content/drive/MyDrive/01-Python/data/\"\n",
        "DATA_PATH"
      ],
      "metadata": {
        "colab": {
          "base_uri": "https://localhost:8080/",
          "height": 35
        },
        "id": "MeibfPIibgJl",
        "outputId": "023de0b3-ea0a-4015-f0dd-4e31950e522f"
      },
      "execution_count": 25,
      "outputs": [
        {
          "output_type": "execute_result",
          "data": {
            "text/plain": [
              "'/content/drive/MyDrive/01-Python/data/'"
            ],
            "application/vnd.google.colaboratory.intrinsic+json": {
              "type": "string"
            }
          },
          "metadata": {},
          "execution_count": 25
        }
      ]
    },
    {
      "cell_type": "code",
      "source": [
        "with open(f\"{DATA_PATH}memo.txt\",\"r\") as f:\n",
        "    data = f.readlines()\n",
        "    print(data)"
      ],
      "metadata": {
        "colab": {
          "base_uri": "https://localhost:8080/"
        },
        "id": "nke_XePmbgH8",
        "outputId": "51d9095a-262d-4cee-c3e7-0f024ee8005f"
      },
      "execution_count": 26,
      "outputs": [
        {
          "output_type": "stream",
          "name": "stdout",
          "text": [
            "['1 번째 줄\\n', '2 번째 줄\\n', '3 번째 줄\\n', '4 번째 줄\\n', '5 번째 줄\\n', '6 번째 줄\\n', '7 번째 줄\\n', '8 번째 줄\\n', '9 번째 줄\\n', '10 번째 줄\\n', '11 번째 줄\\n']\n"
          ]
        }
      ]
    },
    {
      "cell_type": "markdown",
      "source": [
        "# JSON 파일 입출력\n",
        "- 자바스크립트에서 사용되는 객체 표현식\n",
        "- 데이터를 저장하거나 전송할 때 많이 사용\n",
        "- 서버와 클라이언트간의 데이터 전송과정에서 많이 사용\n",
        "- 파이썬의 딕셔너리와 매우 유사"
      ],
      "metadata": {
        "id": "mFNpoXVmbgFq"
      }
    },
    {
      "cell_type": "code",
      "source": [
        "import json"
      ],
      "metadata": {
        "id": "t0Ou8--kbgCv"
      },
      "execution_count": 27,
      "outputs": []
    },
    {
      "cell_type": "code",
      "source": [
        "DATA_PATH"
      ],
      "metadata": {
        "colab": {
          "base_uri": "https://localhost:8080/",
          "height": 35
        },
        "id": "2tmlik04bgAF",
        "outputId": "01f557f5-9476-41a5-d2f5-cfe96d2a3e7c"
      },
      "execution_count": 28,
      "outputs": [
        {
          "output_type": "execute_result",
          "data": {
            "text/plain": [
              "'/content/drive/MyDrive/01-Python/data/'"
            ],
            "application/vnd.google.colaboratory.intrinsic+json": {
              "type": "string"
            }
          },
          "metadata": {},
          "execution_count": 28
        }
      ]
    },
    {
      "cell_type": "code",
      "source": [
        "with open(f\"{DATA_PATH}info.json\",\"r\") as f:\n",
        "    data = json.load(f) # json 파일을 딕셔너리 형태로 변환해서 반환\n",
        "\n",
        "type(data)"
      ],
      "metadata": {
        "colab": {
          "base_uri": "https://localhost:8080/"
        },
        "id": "aLEPQEjLmFUk",
        "outputId": "c63c2209-c880-43aa-c17d-6b4e5af505b1"
      },
      "execution_count": 30,
      "outputs": [
        {
          "output_type": "execute_result",
          "data": {
            "text/plain": [
              "dict"
            ]
          },
          "metadata": {},
          "execution_count": 30
        }
      ]
    },
    {
      "cell_type": "code",
      "source": [
        "data"
      ],
      "metadata": {
        "colab": {
          "base_uri": "https://localhost:8080/"
        },
        "id": "N8EB9O_4mIB7",
        "outputId": "0646b273-5f20-4f79-8f2f-a31d0f85af5f"
      },
      "execution_count": 31,
      "outputs": [
        {
          "output_type": "execute_result",
          "data": {
            "text/plain": [
              "{'Daniel': {'age': 20, 'height': 170},\n",
              " 'John': {'age': 20, 'height': 175, 'weight': 80}}"
            ]
          },
          "metadata": {},
          "execution_count": 31
        }
      ]
    },
    {
      "cell_type": "code",
      "source": [
        "data[\"용석\"] = {\"age\":42}\n",
        "data"
      ],
      "metadata": {
        "colab": {
          "base_uri": "https://localhost:8080/"
        },
        "id": "uEuhFHdHmqir",
        "outputId": "fa0b2baa-ddab-421e-e187-39f642b0d04c"
      },
      "execution_count": 33,
      "outputs": [
        {
          "output_type": "execute_result",
          "data": {
            "text/plain": [
              "{'Daniel': {'age': 20, 'height': 170},\n",
              " 'John': {'age': 20, 'height': 175, 'weight': 80},\n",
              " '용석': {'age': 42}}"
            ]
          },
          "metadata": {},
          "execution_count": 33
        }
      ]
    },
    {
      "cell_type": "code",
      "source": [
        "with open(\"info.json\", \"w\") as f:\n",
        "    # 현재 디렉토리에 저장, ensure_ascii=False => 한글 출력, indent = ? => ?칸 들여쓰기\n",
        "    json.dump(data,f,ensure_ascii=False,indent = 4)"
      ],
      "metadata": {
        "id": "8--ciQvOm03Z"
      },
      "execution_count": 36,
      "outputs": []
    },
    {
      "cell_type": "markdown",
      "source": [
        "# YAML(Yet Another Markup Language)\n",
        "- 사람이 쉽게 읽을 수 있는 데이터 직렬화 양식\n",
        "- 데이터를 저장하거나 전송할 때 많이 사용"
      ],
      "metadata": {
        "id": "YxnIR-6-n9Oc"
      }
    },
    {
      "cell_type": "code",
      "source": [
        "import yaml # 야믈"
      ],
      "metadata": {
        "id": "fhnKx15rpKV_"
      },
      "execution_count": 37,
      "outputs": []
    },
    {
      "cell_type": "code",
      "source": [
        "data"
      ],
      "metadata": {
        "colab": {
          "base_uri": "https://localhost:8080/"
        },
        "id": "k-2gn7uvpkFS",
        "outputId": "c230bdc0-e8d7-49ec-a843-58ca4c14c5b9"
      },
      "execution_count": 38,
      "outputs": [
        {
          "output_type": "execute_result",
          "data": {
            "text/plain": [
              "{'Daniel': {'age': 20, 'height': 170},\n",
              " 'John': {'age': 20, 'height': 175, 'weight': 80},\n",
              " '용석': {'age': 42}}"
            ]
          },
          "metadata": {},
          "execution_count": 38
        }
      ]
    },
    {
      "cell_type": "code",
      "source": [
        "with open(\"data.yml\",\"w\") as f:    # 라이브러리가 달라 밑에 형식이 다르다\n",
        "    yaml.dump(data,f,default_flow_style = False, indent = 4, allow_unicode=True) # 이 형식 많이 사용"
      ],
      "metadata": {
        "id": "avlKTF2Npq4R"
      },
      "execution_count": 46,
      "outputs": []
    },
    {
      "cell_type": "code",
      "source": [
        "with open(\"data.yml\",\"r\") as f:\n",
        "    data1 = yaml.load(f)\n",
        "type(data1)"
      ],
      "metadata": {
        "colab": {
          "base_uri": "https://localhost:8080/"
        },
        "id": "Hy28RIH9p29a",
        "outputId": "36602b65-b755-471d-e2ac-ba6e5c2ed446"
      },
      "execution_count": 47,
      "outputs": [
        {
          "output_type": "execute_result",
          "data": {
            "text/plain": [
              "dict"
            ]
          },
          "metadata": {},
          "execution_count": 47
        }
      ]
    },
    {
      "cell_type": "code",
      "source": [
        "data1"
      ],
      "metadata": {
        "colab": {
          "base_uri": "https://localhost:8080/"
        },
        "id": "x0glADttuCSL",
        "outputId": "bfcd74ec-f93f-4243-c12f-2ad1fbf366d7"
      },
      "execution_count": 48,
      "outputs": [
        {
          "output_type": "execute_result",
          "data": {
            "text/plain": [
              "{'Daniel': {'age': 20, 'height': 170},\n",
              " 'John': {'age': 20, 'height': 175, 'weight': 80},\n",
              " '용석': {'age': 42}}"
            ]
          },
          "metadata": {},
          "execution_count": 48
        }
      ]
    },
    {
      "cell_type": "code",
      "source": [
        "data1[\"리스트\"] = [True,False,\"문자열\",3.14]    # 하이픈으로 저장"
      ],
      "metadata": {
        "id": "P1fx6Q8OuM0q"
      },
      "execution_count": 49,
      "outputs": []
    },
    {
      "cell_type": "code",
      "source": [
        "with open(\"data1.yml\",\"w\") as f:\n",
        "    yaml.dump(data1, f, default_flow_style = False, indent = 4, allow_unicode = True)"
      ],
      "metadata": {
        "id": "g9vxw8O2uepD"
      },
      "execution_count": 51,
      "outputs": []
    },
    {
      "cell_type": "code",
      "source": [
        "with open(\"data1.yml\",\"r\") as f:\n",
        "    data1 = yaml.load(f)\n",
        "data1"
      ],
      "metadata": {
        "colab": {
          "base_uri": "https://localhost:8080/"
        },
        "id": "OSqLsLCjuemU",
        "outputId": "8ee9c1e8-a1f9-4e00-ecf1-68578a9b9907"
      },
      "execution_count": 52,
      "outputs": [
        {
          "output_type": "execute_result",
          "data": {
            "text/plain": [
              "{'Daniel': {'age': 20, 'height': 170},\n",
              " 'John': {'age': 20, 'height': 175, 'weight': 80},\n",
              " '리스트': [True, False, '문자열', 3.14],\n",
              " '용석': {'age': 42}}"
            ]
          },
          "metadata": {},
          "execution_count": 52
        }
      ]
    },
    {
      "cell_type": "markdown",
      "source": [
        "# pickle 모듈\n",
        "- 우리가 사용하는 다양한 객체들을 파일로 저장하고 싶다면?\n",
        "- 객체의 구조를 직렬화해서 파일로 저장한다."
      ],
      "metadata": {
        "id": "GUY5fBZQvaRu"
      }
    },
    {
      "cell_type": "code",
      "source": [
        "import pickle"
      ],
      "metadata": {
        "id": "AjEt-7wKuejy"
      },
      "execution_count": 53,
      "outputs": []
    },
    {
      "cell_type": "code",
      "source": [
        "data = [1,2,3,4,[10,20],\"hi\"]"
      ],
      "metadata": {
        "id": "sLPEqV72udnG"
      },
      "execution_count": 86,
      "outputs": []
    },
    {
      "cell_type": "code",
      "source": [
        "with open(\"data.pkl\",\"wb\") as f:\n",
        "    pickle.dump(data, f)"
      ],
      "metadata": {
        "id": "mWB_kSLtwLyK"
      },
      "execution_count": 87,
      "outputs": []
    },
    {
      "cell_type": "code",
      "source": [
        "\n",
        "with open(\"data.pkl\",\"rb\") as f:\n",
        "    rdata = pickle.load(f)\n",
        "rdata"
      ],
      "metadata": {
        "colab": {
          "base_uri": "https://localhost:8080/"
        },
        "id": "cBqGjRa0wiv0",
        "outputId": "339254c3-2037-49fa-abc8-78c068d2afb0"
      },
      "execution_count": 88,
      "outputs": [
        {
          "output_type": "execute_result",
          "data": {
            "text/plain": [
              "[1, 2, 3, 4, [10, 20], 'hi']"
            ]
          },
          "metadata": {},
          "execution_count": 88
        }
      ]
    },
    {
      "cell_type": "markdown",
      "source": [
        "- 클래스와 인스턴스도 저장되는지 해보자"
      ],
      "metadata": {
        "id": "o3gT9O-uw41B"
      }
    },
    {
      "cell_type": "code",
      "source": [
        "class MyClass:\n",
        "    def __init__(self):\n",
        "        self.my_name = \"My Class\"\n",
        "\n",
        "with open(\"myclass.pkl\",\"wb\") as f:\n",
        "    pickle.dump(MyClass,f)\n",
        "\n",
        "with open(\"myclass.pkl\",\"rb\") as f:\n",
        "    class_ = pickle.load(f)\n",
        "class_ # 저장된다!"
      ],
      "metadata": {
        "colab": {
          "base_uri": "https://localhost:8080/"
        },
        "id": "q4RJnp7JygWc",
        "outputId": "36de0a1b-19b7-4d03-ce51-6e65ef1fe8e3"
      },
      "execution_count": 89,
      "outputs": [
        {
          "output_type": "execute_result",
          "data": {
            "text/plain": [
              "__main__.MyClass"
            ]
          },
          "metadata": {},
          "execution_count": 89
        }
      ]
    }
  ]
}
