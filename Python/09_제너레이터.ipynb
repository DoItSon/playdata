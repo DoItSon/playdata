{
  "nbformat": 4,
  "nbformat_minor": 0,
  "metadata": {
    "colab": {
      "name": "09-제너레이터.ipynb",
      "provenance": [],
      "collapsed_sections": [],
      "authorship_tag": "ABX9TyMCesAWrf3fuuyWOkMvgEyV",
      "include_colab_link": true
    },
    "kernelspec": {
      "name": "python3",
      "display_name": "Python 3"
    },
    "language_info": {
      "name": "python"
    }
  },
  "cells": [
    {
      "cell_type": "markdown",
      "metadata": {
        "id": "view-in-github",
        "colab_type": "text"
      },
      "source": [
        "<a href=\"https://colab.research.google.com/github/soyongseok/playdata/blob/main/09_%EC%A0%9C%EB%84%88%EB%A0%88%EC%9D%B4%ED%84%B0.ipynb\" target=\"_parent\"><img src=\"https://colab.research.google.com/assets/colab-badge.svg\" alt=\"Open In Colab\"/></a>"
      ]
    },
    {
      "cell_type": "markdown",
      "source": [
        "# iterable & iterator\n",
        "- iterable 객체: 반복 가능한 객체(list,dict,set,tuple,str,range...)\n",
        "- iterator 객체: 값을 차례대로 꺼낼 수 있는 객체\n",
        "    - 다 꺼내면 사라진다.\n",
        "    - 꺼낼 때 데이터를 메모리에 생성해주는 방식\n",
        "    - 꺼낼 수 있는 상태"
      ],
      "metadata": {
        "id": "LRvOBqvT46pz"
      }
    },
    {
      "cell_type": "markdown",
      "source": [
        "- iter 함수\n",
        "    - iterable 객체를 iterator 객체로 변환한다."
      ],
      "metadata": {
        "id": "i1Sb18WO8Tmz"
      }
    },
    {
      "cell_type": "code",
      "source": [
        "lst = [1,2,3]\n",
        "iterator = iter(lst)\n",
        "type(iterator)"
      ],
      "metadata": {
        "colab": {
          "base_uri": "https://localhost:8080/"
        },
        "id": "a0nNodFG9CQt",
        "outputId": "b09c03b0-900c-427e-ced7-47e9ad1162ef"
      },
      "execution_count": 2,
      "outputs": [
        {
          "output_type": "execute_result",
          "data": {
            "text/plain": [
              "list_iterator"
            ]
          },
          "metadata": {},
          "execution_count": 2
        }
      ]
    },
    {
      "cell_type": "markdown",
      "source": [
        "- for 문은 iterable, iterator 객체를 모두 반복해준다."
      ],
      "metadata": {
        "id": "ATElTSl49J06"
      }
    },
    {
      "cell_type": "code",
      "source": [
        "for i in lst:\n",
        "    print(i)"
      ],
      "metadata": {
        "colab": {
          "base_uri": "https://localhost:8080/"
        },
        "id": "jrD2nwZy9XW1",
        "outputId": "77c81892-13e7-4f71-d44b-b3bd27550151"
      },
      "execution_count": 3,
      "outputs": [
        {
          "output_type": "stream",
          "name": "stdout",
          "text": [
            "1\n",
            "2\n",
            "3\n"
          ]
        }
      ]
    },
    {
      "cell_type": "code",
      "source": [
        "for i in iterator: # iterator 객체는 다 꺼내면 사라지고 안나온다!\n",
        "    print(i)"
      ],
      "metadata": {
        "id": "kWe094mS9chY"
      },
      "execution_count": 8,
      "outputs": []
    },
    {
      "cell_type": "markdown",
      "source": [
        "- next 함수\n",
        "    - iterator 객체를 순서대로 하나씩 꺼내주는 함수."
      ],
      "metadata": {
        "id": "e45rEQDs9gwF"
      }
    },
    {
      "cell_type": "code",
      "source": [
        "lst = [1,2,3]\n",
        "iterator = iter(lst)\n",
        "\n",
        "print(next(iterator))\n",
        "print(next(iterator))\n",
        "print(next(iterator))\n",
        "print(next(iterator))   # 더이상 꺼낼 수 없어서 에러 발생!"
      ],
      "metadata": {
        "colab": {
          "base_uri": "https://localhost:8080/",
          "height": 263
        },
        "id": "O9iHuRJb93DU",
        "outputId": "64abbeb9-8b85-41c6-b6fb-4734a4a3ee02"
      },
      "execution_count": 14,
      "outputs": [
        {
          "output_type": "stream",
          "name": "stdout",
          "text": [
            "1\n",
            "2\n",
            "3\n"
          ]
        },
        {
          "output_type": "error",
          "ename": "StopIteration",
          "evalue": "ignored",
          "traceback": [
            "\u001b[0;31m---------------------------------------------------------------------------\u001b[0m",
            "\u001b[0;31mStopIteration\u001b[0m                             Traceback (most recent call last)",
            "\u001b[0;32m<ipython-input-14-7692d63fe37d>\u001b[0m in \u001b[0;36m<module>\u001b[0;34m()\u001b[0m\n\u001b[1;32m      5\u001b[0m \u001b[0mprint\u001b[0m\u001b[0;34m(\u001b[0m\u001b[0mnext\u001b[0m\u001b[0;34m(\u001b[0m\u001b[0miterator\u001b[0m\u001b[0;34m)\u001b[0m\u001b[0;34m)\u001b[0m\u001b[0;34m\u001b[0m\u001b[0;34m\u001b[0m\u001b[0m\n\u001b[1;32m      6\u001b[0m \u001b[0mprint\u001b[0m\u001b[0;34m(\u001b[0m\u001b[0mnext\u001b[0m\u001b[0;34m(\u001b[0m\u001b[0miterator\u001b[0m\u001b[0;34m)\u001b[0m\u001b[0;34m)\u001b[0m\u001b[0;34m\u001b[0m\u001b[0;34m\u001b[0m\u001b[0m\n\u001b[0;32m----> 7\u001b[0;31m \u001b[0mprint\u001b[0m\u001b[0;34m(\u001b[0m\u001b[0mnext\u001b[0m\u001b[0;34m(\u001b[0m\u001b[0miterator\u001b[0m\u001b[0;34m)\u001b[0m\u001b[0;34m)\u001b[0m   \u001b[0;31m# 더이상 꺼낼 수 없어서 에러 발생!\u001b[0m\u001b[0;34m\u001b[0m\u001b[0;34m\u001b[0m\u001b[0m\n\u001b[0m",
            "\u001b[0;31mStopIteration\u001b[0m: "
          ]
        }
      ]
    },
    {
      "cell_type": "code",
      "source": [
        "iterator = zip([1,2,3],[4,5,6])\n",
        "print(next(iterator))\n",
        "print(next(iterator))\n",
        "print(next(iterator))\n",
        "print(next(iterator)) # 여기서 에러 발생!"
      ],
      "metadata": {
        "colab": {
          "base_uri": "https://localhost:8080/",
          "height": 263
        },
        "id": "ZKyZPOi0-D1b",
        "outputId": "066b0a2b-bdf4-42c8-d2fe-4ece1ae8cb8b"
      },
      "execution_count": 16,
      "outputs": [
        {
          "output_type": "stream",
          "name": "stdout",
          "text": [
            "(1, 4)\n",
            "(2, 5)\n",
            "(3, 6)\n"
          ]
        },
        {
          "output_type": "error",
          "ename": "StopIteration",
          "evalue": "ignored",
          "traceback": [
            "\u001b[0;31m---------------------------------------------------------------------------\u001b[0m",
            "\u001b[0;31mStopIteration\u001b[0m                             Traceback (most recent call last)",
            "\u001b[0;32m<ipython-input-16-124c926d643c>\u001b[0m in \u001b[0;36m<module>\u001b[0;34m()\u001b[0m\n\u001b[1;32m      3\u001b[0m \u001b[0mprint\u001b[0m\u001b[0;34m(\u001b[0m\u001b[0mnext\u001b[0m\u001b[0;34m(\u001b[0m\u001b[0miterator\u001b[0m\u001b[0;34m)\u001b[0m\u001b[0;34m)\u001b[0m\u001b[0;34m\u001b[0m\u001b[0;34m\u001b[0m\u001b[0m\n\u001b[1;32m      4\u001b[0m \u001b[0mprint\u001b[0m\u001b[0;34m(\u001b[0m\u001b[0mnext\u001b[0m\u001b[0;34m(\u001b[0m\u001b[0miterator\u001b[0m\u001b[0;34m)\u001b[0m\u001b[0;34m)\u001b[0m\u001b[0;34m\u001b[0m\u001b[0;34m\u001b[0m\u001b[0m\n\u001b[0;32m----> 5\u001b[0;31m \u001b[0mprint\u001b[0m\u001b[0;34m(\u001b[0m\u001b[0mnext\u001b[0m\u001b[0;34m(\u001b[0m\u001b[0miterator\u001b[0m\u001b[0;34m)\u001b[0m\u001b[0;34m)\u001b[0m \u001b[0;31m# 여기서 에러 발생!\u001b[0m\u001b[0;34m\u001b[0m\u001b[0;34m\u001b[0m\u001b[0m\n\u001b[0m",
            "\u001b[0;31mStopIteration\u001b[0m: "
          ]
        }
      ]
    },
    {
      "cell_type": "code",
      "source": [
        "iterator = enumerate([1,2,3])\n",
        "print(next(iterator))\n",
        "print(next(iterator))\n",
        "print(next(iterator))\n",
        "print(next(iterator))"
      ],
      "metadata": {
        "colab": {
          "base_uri": "https://localhost:8080/",
          "height": 263
        },
        "id": "M-Krh0yd-oPf",
        "outputId": "7bf0a2b2-eab7-416b-dd27-c63b1bd7e334"
      },
      "execution_count": 20,
      "outputs": [
        {
          "output_type": "stream",
          "name": "stdout",
          "text": [
            "(0, 1)\n",
            "(1, 2)\n",
            "(2, 3)\n"
          ]
        },
        {
          "output_type": "error",
          "ename": "StopIteration",
          "evalue": "ignored",
          "traceback": [
            "\u001b[0;31m---------------------------------------------------------------------------\u001b[0m",
            "\u001b[0;31mStopIteration\u001b[0m                             Traceback (most recent call last)",
            "\u001b[0;32m<ipython-input-20-547c25ffd4a8>\u001b[0m in \u001b[0;36m<module>\u001b[0;34m()\u001b[0m\n\u001b[1;32m      3\u001b[0m \u001b[0mprint\u001b[0m\u001b[0;34m(\u001b[0m\u001b[0mnext\u001b[0m\u001b[0;34m(\u001b[0m\u001b[0miterator\u001b[0m\u001b[0;34m)\u001b[0m\u001b[0;34m)\u001b[0m\u001b[0;34m\u001b[0m\u001b[0;34m\u001b[0m\u001b[0m\n\u001b[1;32m      4\u001b[0m \u001b[0mprint\u001b[0m\u001b[0;34m(\u001b[0m\u001b[0mnext\u001b[0m\u001b[0;34m(\u001b[0m\u001b[0miterator\u001b[0m\u001b[0;34m)\u001b[0m\u001b[0;34m)\u001b[0m\u001b[0;34m\u001b[0m\u001b[0;34m\u001b[0m\u001b[0m\n\u001b[0;32m----> 5\u001b[0;31m \u001b[0mprint\u001b[0m\u001b[0;34m(\u001b[0m\u001b[0mnext\u001b[0m\u001b[0;34m(\u001b[0m\u001b[0miterator\u001b[0m\u001b[0;34m)\u001b[0m\u001b[0;34m)\u001b[0m\u001b[0;34m\u001b[0m\u001b[0;34m\u001b[0m\u001b[0m\n\u001b[0m",
            "\u001b[0;31mStopIteration\u001b[0m: "
          ]
        }
      ]
    },
    {
      "cell_type": "code",
      "source": [
        "iterator = zip([1,2,3],[4,5,6])"
      ],
      "metadata": {
        "id": "d1CbDL-h-5wB"
      },
      "execution_count": 21,
      "outputs": []
    },
    {
      "cell_type": "code",
      "source": [
        "for n1,n2 in iterator:  # 두 번 실행하면 안 나온다.\n",
        "    print(n1,n2)"
      ],
      "metadata": {
        "id": "pFC2QVfW_T67"
      },
      "execution_count": 25,
      "outputs": []
    },
    {
      "cell_type": "markdown",
      "source": [
        "- next 함수는 iterator 객체만 꺼낼 수 있다."
      ],
      "metadata": {
        "id": "JycUKHDZ_4Gn"
      }
    },
    {
      "cell_type": "code",
      "source": [
        "next([1,2,3])"
      ],
      "metadata": {
        "colab": {
          "base_uri": "https://localhost:8080/",
          "height": 136
        },
        "id": "dX50Denh_XZ9",
        "outputId": "44d304fd-c939-4a0d-aa39-d3c5843b7859"
      },
      "execution_count": 26,
      "outputs": [
        {
          "output_type": "error",
          "ename": "SyntaxError",
          "evalue": "ignored",
          "traceback": [
            "\u001b[0;36m  File \u001b[0;32m\"<ipython-input-26-170b95b367ee>\"\u001b[0;36m, line \u001b[0;32m1\u001b[0m\n\u001b[0;31m    next([1,2,3]\u001b[0m\n\u001b[0m                ^\u001b[0m\n\u001b[0;31mSyntaxError\u001b[0m\u001b[0;31m:\u001b[0m unexpected EOF while parsing\n"
          ]
        }
      ]
    },
    {
      "cell_type": "markdown",
      "source": [
        "# Generator란?\n",
        "- iterator 를 생성해주는 표현식\n",
        "- iterator와 같은 동작을 하는 객체"
      ],
      "metadata": {
        "id": "SJu3rQFP_2QV"
      }
    },
    {
      "cell_type": "markdown",
      "source": [
        "- 소괄호를 이용한 제너레이터 객체 만들기"
      ],
      "metadata": {
        "id": "-fW3Ol3zAak4"
      }
    },
    {
      "cell_type": "code",
      "source": [
        "gen = (x for x in range(3)) # 상태만 있고 꺼낼때마다 동작한다.\n",
        "type(gen)"
      ],
      "metadata": {
        "colab": {
          "base_uri": "https://localhost:8080/"
        },
        "id": "kCOLdAU3AkzR",
        "outputId": "582fc07b-e6fe-43f7-a67a-40037d532cc2"
      },
      "execution_count": 35,
      "outputs": [
        {
          "output_type": "execute_result",
          "data": {
            "text/plain": [
              "generator"
            ]
          },
          "metadata": {},
          "execution_count": 35
        }
      ]
    },
    {
      "cell_type": "code",
      "source": [
        "print(next(gen))\n",
        "print(next(gen))\n",
        "print(next(gen))\n",
        "print(next(gen))    # 에러 발생"
      ],
      "metadata": {
        "colab": {
          "base_uri": "https://localhost:8080/",
          "height": 263
        },
        "id": "HDRaG054A3p4",
        "outputId": "0bb26efa-573b-4139-d9fd-628d2f97050e"
      },
      "execution_count": 36,
      "outputs": [
        {
          "output_type": "stream",
          "name": "stdout",
          "text": [
            "0\n",
            "1\n",
            "2\n"
          ]
        },
        {
          "output_type": "error",
          "ename": "StopIteration",
          "evalue": "ignored",
          "traceback": [
            "\u001b[0;31m---------------------------------------------------------------------------\u001b[0m",
            "\u001b[0;31mStopIteration\u001b[0m                             Traceback (most recent call last)",
            "\u001b[0;32m<ipython-input-36-816b69930d80>\u001b[0m in \u001b[0;36m<module>\u001b[0;34m()\u001b[0m\n\u001b[1;32m      2\u001b[0m \u001b[0mprint\u001b[0m\u001b[0;34m(\u001b[0m\u001b[0mnext\u001b[0m\u001b[0;34m(\u001b[0m\u001b[0mgen\u001b[0m\u001b[0;34m)\u001b[0m\u001b[0;34m)\u001b[0m\u001b[0;34m\u001b[0m\u001b[0;34m\u001b[0m\u001b[0m\n\u001b[1;32m      3\u001b[0m \u001b[0mprint\u001b[0m\u001b[0;34m(\u001b[0m\u001b[0mnext\u001b[0m\u001b[0;34m(\u001b[0m\u001b[0mgen\u001b[0m\u001b[0;34m)\u001b[0m\u001b[0;34m)\u001b[0m\u001b[0;34m\u001b[0m\u001b[0;34m\u001b[0m\u001b[0m\n\u001b[0;32m----> 4\u001b[0;31m \u001b[0mprint\u001b[0m\u001b[0;34m(\u001b[0m\u001b[0mnext\u001b[0m\u001b[0;34m(\u001b[0m\u001b[0mgen\u001b[0m\u001b[0;34m)\u001b[0m\u001b[0;34m)\u001b[0m\u001b[0;34m\u001b[0m\u001b[0;34m\u001b[0m\u001b[0m\n\u001b[0m",
            "\u001b[0;31mStopIteration\u001b[0m: "
          ]
        }
      ]
    },
    {
      "cell_type": "code",
      "source": [
        "map_obj = map(lambda x: x, range(3))    # gen = (x for x in range(3))과 같다.\n",
        "print(next(map_obj))\n",
        "print(next(map_obj))\n",
        "print(next(map_obj))\n",
        "print(next(map_obj)) # 다 꺼내서 에러가 발생한다."
      ],
      "metadata": {
        "colab": {
          "base_uri": "https://localhost:8080/",
          "height": 263
        },
        "id": "avC9Dk37BBl_",
        "outputId": "978880e0-daf4-4c64-895a-123939734113"
      },
      "execution_count": 37,
      "outputs": [
        {
          "output_type": "stream",
          "name": "stdout",
          "text": [
            "0\n",
            "1\n",
            "2\n"
          ]
        },
        {
          "output_type": "error",
          "ename": "StopIteration",
          "evalue": "ignored",
          "traceback": [
            "\u001b[0;31m---------------------------------------------------------------------------\u001b[0m",
            "\u001b[0;31mStopIteration\u001b[0m                             Traceback (most recent call last)",
            "\u001b[0;32m<ipython-input-37-79cc2ab9b783>\u001b[0m in \u001b[0;36m<module>\u001b[0;34m()\u001b[0m\n\u001b[1;32m      3\u001b[0m \u001b[0mprint\u001b[0m\u001b[0;34m(\u001b[0m\u001b[0mnext\u001b[0m\u001b[0;34m(\u001b[0m\u001b[0mmap_obj\u001b[0m\u001b[0;34m)\u001b[0m\u001b[0;34m)\u001b[0m\u001b[0;34m\u001b[0m\u001b[0;34m\u001b[0m\u001b[0m\n\u001b[1;32m      4\u001b[0m \u001b[0mprint\u001b[0m\u001b[0;34m(\u001b[0m\u001b[0mnext\u001b[0m\u001b[0;34m(\u001b[0m\u001b[0mmap_obj\u001b[0m\u001b[0;34m)\u001b[0m\u001b[0;34m)\u001b[0m\u001b[0;34m\u001b[0m\u001b[0;34m\u001b[0m\u001b[0m\n\u001b[0;32m----> 5\u001b[0;31m \u001b[0mprint\u001b[0m\u001b[0;34m(\u001b[0m\u001b[0mnext\u001b[0m\u001b[0;34m(\u001b[0m\u001b[0mmap_obj\u001b[0m\u001b[0;34m)\u001b[0m\u001b[0;34m)\u001b[0m\u001b[0;34m\u001b[0m\u001b[0;34m\u001b[0m\u001b[0m\n\u001b[0m",
            "\u001b[0;31mStopIteration\u001b[0m: "
          ]
        }
      ]
    },
    {
      "cell_type": "markdown",
      "source": [
        "- 메모리 사이즈 비교"
      ],
      "metadata": {
        "id": "3aVqGlVHBbqI"
      }
    },
    {
      "cell_type": "code",
      "source": [
        "import sys\n",
        "\n",
        "gen = ( x for x in range(10000000) )\n",
        "lst = list(range(10000000)) # 리스트 컴프리헨션과 동일\n",
        "\n",
        "sys.getsizeof(gen) , sys.getsizeof(lst) # 바이트 단위로 반환"
      ],
      "metadata": {
        "colab": {
          "base_uri": "https://localhost:8080/"
        },
        "id": "aGSmAZWBBohN",
        "outputId": "68386525-532b-484a-df9e-7a7fd71d07d7"
      },
      "execution_count": 41,
      "outputs": [
        {
          "output_type": "execute_result",
          "data": {
            "text/plain": [
              "(128, 90000120)"
            ]
          },
          "metadata": {},
          "execution_count": 41
        }
      ]
    },
    {
      "cell_type": "code",
      "source": [
        "%%timeit\n",
        "lst = list(range(1000000))\n",
        "tmp = []\n",
        "for data in lst:\n",
        "    tmp.append(data)"
      ],
      "metadata": {
        "colab": {
          "base_uri": "https://localhost:8080/"
        },
        "id": "cA1JJiBrCAi5",
        "outputId": "a67fc76c-7fb9-4fb8-d03f-cf981fafd7cd"
      },
      "execution_count": 43,
      "outputs": [
        {
          "output_type": "stream",
          "name": "stdout",
          "text": [
            "10 loops, best of 5: 130 ms per loop\n"
          ]
        }
      ]
    },
    {
      "cell_type": "code",
      "source": [
        "%%timeit\n",
        "gen = (x for x in range(1000000))   # 꺼낼 때마다 생성해야해서 느리다!\n",
        "tmp = []\n",
        "for data in gen:\n",
        "    tmp.append(data)"
      ],
      "metadata": {
        "colab": {
          "base_uri": "https://localhost:8080/"
        },
        "id": "7CGtQc9MCoWb",
        "outputId": "e2ab1abf-2f8f-4384-fef0-ceabaa7c8949"
      },
      "execution_count": 44,
      "outputs": [
        {
          "output_type": "stream",
          "name": "stdout",
          "text": [
            "10 loops, best of 5: 162 ms per loop\n"
          ]
        }
      ]
    },
    {
      "cell_type": "markdown",
      "source": [
        "```\n",
        "소괄호를 이용해서 0 ~ 300까지의 숫자들 중에서 3의 배수만 꺼내는 제너레이터 객체를 생성하시오.\n",
        "```"
      ],
      "metadata": {
        "id": "qw3R0UBgC7OQ"
      }
    },
    {
      "cell_type": "code",
      "source": [
        "gen = (x for x in range(301) if x % 3 == 0)"
      ],
      "metadata": {
        "id": "k9tLq7t9DUYA"
      },
      "execution_count": 69,
      "outputs": []
    },
    {
      "cell_type": "code",
      "source": [
        "gen = (x for x in range(3,301,3))\n",
        "for i in gen:\n",
        "    if i > 10:\n",
        "        break\n",
        "    print(i)"
      ],
      "metadata": {
        "colab": {
          "base_uri": "https://localhost:8080/"
        },
        "id": "A7-lLBMVEt74",
        "outputId": "08297f9e-b028-43f7-8a98-04b401ffdbab"
      },
      "execution_count": 64,
      "outputs": [
        {
          "output_type": "stream",
          "name": "stdout",
          "text": [
            "3\n",
            "6\n",
            "9\n"
          ]
        }
      ]
    },
    {
      "cell_type": "markdown",
      "source": [
        "```\n",
        "소괄호를 이용해서 다음의 리스트의 요소들의 제곱근을 꺼내는 제너레이터를 생성하시오.\n",
        "lst = [20,40,60,80,34,90,10]\n",
        "```"
      ],
      "metadata": {
        "id": "S4aFNv1DDcJG"
      }
    },
    {
      "cell_type": "code",
      "source": [
        "lst = [20,40,60,80,34,90,10]\n",
        "gen = (x**0.5 for x in lst)"
      ],
      "metadata": {
        "id": "NVAn2gBfDqR6"
      },
      "execution_count": 68,
      "outputs": []
    },
    {
      "cell_type": "code",
      "source": [
        "for i in gen:   # 제너레이터의 출력 방식\n",
        "    print(i)"
      ],
      "metadata": {
        "colab": {
          "base_uri": "https://localhost:8080/"
        },
        "id": "62xd3XlkEKf7",
        "outputId": "6d56f9bf-0fa5-4ce8-a646-a947ec702e53"
      },
      "execution_count": 67,
      "outputs": [
        {
          "output_type": "stream",
          "name": "stdout",
          "text": [
            "400\n",
            "1600\n",
            "3600\n",
            "6400\n",
            "1156\n",
            "8100\n",
            "100\n"
          ]
        }
      ]
    },
    {
      "cell_type": "markdown",
      "source": [
        "## 함수를 이용한 제너레이터 객체 만들기\n",
        "- yield 문을 이용하면 된다."
      ],
      "metadata": {
        "id": "kiFjpMg8FG-x"
      }
    },
    {
      "cell_type": "code",
      "source": [
        "def gen_func():\n",
        "    yield 1\n",
        "    yield 2\n",
        "    yield 3"
      ],
      "metadata": {
        "id": "expcxcD1I7pl"
      },
      "execution_count": 70,
      "outputs": []
    },
    {
      "cell_type": "code",
      "source": [
        "gen = gen_func()\n",
        "type(gen)"
      ],
      "metadata": {
        "colab": {
          "base_uri": "https://localhost:8080/"
        },
        "id": "y_s0W_tGJOiC",
        "outputId": "bd674e8e-707d-4145-b041-735a68c3ad75"
      },
      "execution_count": 72,
      "outputs": [
        {
          "output_type": "execute_result",
          "data": {
            "text/plain": [
              "generator"
            ]
          },
          "metadata": {},
          "execution_count": 72
        }
      ]
    },
    {
      "cell_type": "code",
      "source": [
        "print(next(gen))\n",
        "print(next(gen))\n",
        "print(next(gen))\n",
        "print(next(gen))    # 에러 발생"
      ],
      "metadata": {
        "colab": {
          "base_uri": "https://localhost:8080/",
          "height": 263
        },
        "id": "1C90YepjJSrG",
        "outputId": "68f25efc-9bfe-4179-ef91-6a285dc938c0"
      },
      "execution_count": 73,
      "outputs": [
        {
          "output_type": "stream",
          "name": "stdout",
          "text": [
            "1\n",
            "2\n",
            "3\n"
          ]
        },
        {
          "output_type": "error",
          "ename": "StopIteration",
          "evalue": "ignored",
          "traceback": [
            "\u001b[0;31m---------------------------------------------------------------------------\u001b[0m",
            "\u001b[0;31mStopIteration\u001b[0m                             Traceback (most recent call last)",
            "\u001b[0;32m<ipython-input-73-816b69930d80>\u001b[0m in \u001b[0;36m<module>\u001b[0;34m()\u001b[0m\n\u001b[1;32m      2\u001b[0m \u001b[0mprint\u001b[0m\u001b[0;34m(\u001b[0m\u001b[0mnext\u001b[0m\u001b[0;34m(\u001b[0m\u001b[0mgen\u001b[0m\u001b[0;34m)\u001b[0m\u001b[0;34m)\u001b[0m\u001b[0;34m\u001b[0m\u001b[0;34m\u001b[0m\u001b[0m\n\u001b[1;32m      3\u001b[0m \u001b[0mprint\u001b[0m\u001b[0;34m(\u001b[0m\u001b[0mnext\u001b[0m\u001b[0;34m(\u001b[0m\u001b[0mgen\u001b[0m\u001b[0;34m)\u001b[0m\u001b[0;34m)\u001b[0m\u001b[0;34m\u001b[0m\u001b[0;34m\u001b[0m\u001b[0m\n\u001b[0;32m----> 4\u001b[0;31m \u001b[0mprint\u001b[0m\u001b[0;34m(\u001b[0m\u001b[0mnext\u001b[0m\u001b[0;34m(\u001b[0m\u001b[0mgen\u001b[0m\u001b[0;34m)\u001b[0m\u001b[0;34m)\u001b[0m\u001b[0;34m\u001b[0m\u001b[0;34m\u001b[0m\u001b[0m\n\u001b[0m",
            "\u001b[0;31mStopIteration\u001b[0m: "
          ]
        }
      ]
    },
    {
      "cell_type": "code",
      "source": [
        "def gen_func(num):\n",
        "    for i in range(num):\n",
        "        yield i"
      ],
      "metadata": {
        "id": "p4KMdU6YJaJf"
      },
      "execution_count": 80,
      "outputs": []
    },
    {
      "cell_type": "code",
      "source": [
        "gen = gen_func(5)\n",
        "type(gen)"
      ],
      "metadata": {
        "colab": {
          "base_uri": "https://localhost:8080/"
        },
        "id": "_9fEkCwaKEdZ",
        "outputId": "8b3a5c3e-dbb3-4d02-d9e4-5c585705fc5e"
      },
      "execution_count": 81,
      "outputs": [
        {
          "output_type": "execute_result",
          "data": {
            "text/plain": [
              "generator"
            ]
          },
          "metadata": {},
          "execution_count": 81
        }
      ]
    },
    {
      "cell_type": "code",
      "source": [
        "for i in gen:\n",
        "    print(i)"
      ],
      "metadata": {
        "colab": {
          "base_uri": "https://localhost:8080/"
        },
        "id": "HHfN0bvLKIVZ",
        "outputId": "34e5d37c-eb2e-41ae-a90a-ca0a93f8da9c"
      },
      "execution_count": 82,
      "outputs": [
        {
          "output_type": "stream",
          "name": "stdout",
          "text": [
            "0\n",
            "1\n",
            "2\n",
            "3\n",
            "4\n"
          ]
        }
      ]
    },
    {
      "cell_type": "markdown",
      "source": [
        "```\n",
        "리스트를 입력 받아 None 값을 제외하고 꺼내주는 제너레이터를 생성하시오\n",
        "yield 문을 이용해서 함수로 만드세요.\n",
        "\n",
        "ex)\n",
        "lst = [\"사과\",\"딸기\",None,\"참외\",None,\"수박\"]\n",
        "\n",
        "gen = gen_list(lst)\n",
        "for s in gen:\n",
        "    print(s)\n",
        "\n",
        "Output:\n",
        "사과\n",
        "딸기\n",
        "참외\n",
        "수박\n",
        "```"
      ],
      "metadata": {
        "id": "YsLM9br4KM9I"
      }
    },
    {
      "cell_type": "code",
      "source": [
        "lst = [\"사과\",\"딸기\",None,\"참외\",None,\"수박\"]"
      ],
      "metadata": {
        "id": "dd_dzK63KpJY"
      },
      "execution_count": 116,
      "outputs": []
    },
    {
      "cell_type": "code",
      "source": [
        "def gen_list(lst):\n",
        "    for i in lst:\n",
        "        if i != None:\n",
        "            yield i # yield앞에서 멈춘다.그래서 꺼내줄 무언가가 필요하다.yield 를 만나면 제너레이터로 변환"
      ],
      "metadata": {
        "id": "5l2AThIcKuy7"
      },
      "execution_count": 129,
      "outputs": []
    },
    {
      "cell_type": "code",
      "source": [
        "gen = gen_list(lst)\n",
        "for s in gen:   # 꺼내주기 위해 for문 구현\n",
        "    print(s)"
      ],
      "metadata": {
        "colab": {
          "base_uri": "https://localhost:8080/"
        },
        "id": "VDRsx6tvLcHK",
        "outputId": "1ca4c464-5e09-427c-9010-28788404ba81"
      },
      "execution_count": 130,
      "outputs": [
        {
          "output_type": "stream",
          "name": "stdout",
          "text": [
            "사과\n",
            "딸기\n",
            "참외\n",
            "수박\n"
          ]
        }
      ]
    },
    {
      "cell_type": "markdown",
      "source": [
        "```\n",
        "enumerate 함수 구현해보기\n",
        "yield 문을 이용하여 gen_enumerate 이름의 함수로 enumerate 함수를 구현해보자.\n",
        "enumerate 함수가 없다는 가정하에 만들어보자.\n",
        "ex)\n",
        "def gen_enumerate(param):\n",
        "    pass\n",
        "lst = [50,70,80]\n",
        "for i,item in gen_enumerate(lst):\n",
        "    print(i,item)\n",
        "Output:\n",
        "0 50\n",
        "1 70\n",
        "2 80\n",
        "```"
      ],
      "metadata": {
        "id": "tBc3Dzx0LdX0"
      }
    },
    {
      "cell_type": "code",
      "source": [
        "lst = [50,70,80]"
      ],
      "metadata": {
        "id": "Kx0CMyK0QPTr"
      },
      "execution_count": 133,
      "outputs": []
    },
    {
      "cell_type": "code",
      "source": [
        "def gen_enumerate(lst):\n",
        "    for i,k in zip(range(len(lst)),lst):\n",
        "        yield i, k"
      ],
      "metadata": {
        "id": "YhhXJbh7Pn77"
      },
      "execution_count": 137,
      "outputs": []
    },
    {
      "cell_type": "code",
      "source": [
        "for i,item in gen_enumerate(lst):\n",
        "    print(i,item)"
      ],
      "metadata": {
        "colab": {
          "base_uri": "https://localhost:8080/"
        },
        "id": "ud7WjPAFQjKp",
        "outputId": "0d3ffa41-96ac-417e-e3c1-8658d145a96d"
      },
      "execution_count": 138,
      "outputs": [
        {
          "output_type": "stream",
          "name": "stdout",
          "text": [
            "0 50\n",
            "1 70\n",
            "2 80\n"
          ]
        }
      ]
    },
    {
      "cell_type": "code",
      "source": [
        "def gen_enumerate(param):   # 강사님 답 1 =  함수가 제네레이터\n",
        "    length = len(param)\n",
        "    for i in range(length):\n",
        "        yield i,param[i]\n",
        "\n",
        "lst = [50,70,80]\n",
        "for i,item in gen_enumerate(lst):\n",
        "    print(i,item)"
      ],
      "metadata": {
        "colab": {
          "base_uri": "https://localhost:8080/"
        },
        "id": "fx0vUyoqQMjq",
        "outputId": "41437ed8-c888-410a-c570-1730dd01a299"
      },
      "execution_count": 140,
      "outputs": [
        {
          "output_type": "stream",
          "name": "stdout",
          "text": [
            "0 50\n",
            "1 70\n",
            "2 80\n"
          ]
        }
      ]
    },
    {
      "cell_type": "code",
      "source": [
        "def gen_enumerate(lst):     # 강사님 답 2 =  제네레이터 형식으로 변환\n",
        "    length = len(lst)\n",
        "    return ( (i,lst[i]) for i in range(length))\n",
        "\n",
        "lst = [50,70,80]\n",
        "for i,item in gen_enumerate(lst):\n",
        "    print(i,item)"
      ],
      "metadata": {
        "colab": {
          "base_uri": "https://localhost:8080/"
        },
        "id": "evuPk5vPRmq0",
        "outputId": "d26bce31-7128-44a4-d0e0-ed26b3b9f557"
      },
      "execution_count": 142,
      "outputs": [
        {
          "output_type": "stream",
          "name": "stdout",
          "text": [
            "0 50\n",
            "1 70\n",
            "2 80\n"
          ]
        }
      ]
    },
    {
      "cell_type": "markdown",
      "source": [
        "```\n",
        "zip 함수 구현해보기\n",
        "yield 문을 이용하여 gen_zip 이름의 함수로 zip 함수를 구현해보자.\n",
        "2개 이상의 리스트가 인수로 들어 온다고 가정하자.\n",
        "인수로 들어오는 리스트의 길이는 편의상 같은 길이가 들어온다고 가정하자.\n",
        "zip 함수가 없다는 가정하에 만들어보자.\n",
        "ex)\n",
        "def gen_zip(*args):\n",
        "    pass\n",
        "list1 = [50,70,80]\n",
        "list2 = [105,320,380]\n",
        "for item1,item2 in gen_zip(list1,list2):\n",
        "    print(item1,item2)\n",
        "Output:\n",
        "50 105\n",
        "70 320\n",
        "80 380\n",
        "```"
      ],
      "metadata": {
        "id": "6Xbyy_jSSnF6"
      }
    },
    {
      "cell_type": "code",
      "source": [
        "list1 = [50,70,80]\n",
        "list2 = [105,320,380]"
      ],
      "metadata": {
        "id": "n9mI4LdMW0uV"
      },
      "execution_count": 143,
      "outputs": []
    },
    {
      "cell_type": "code",
      "source": [
        "def gen_zip(*args): # 내 생각 = 리스트 3개가 들어가면 실행이 안됨\n",
        "    for i in range(len(list1)):\n",
        "        yield list1[i],list2[i]"
      ],
      "metadata": {
        "id": "n34rVhIeWojN"
      },
      "execution_count": 181,
      "outputs": []
    },
    {
      "cell_type": "code",
      "source": [
        "def gen_zip(*args):\n",
        "    for i in range(len(args[0])):   \n",
        "        yield [x[i] for x in args ]"
      ],
      "metadata": {
        "id": "LcZpAoC-ZKXm"
      },
      "execution_count": 224,
      "outputs": []
    },
    {
      "cell_type": "code",
      "source": [
        "for item1,item2 in gen_zip(list1,list2):\n",
        "    print(item1,item2)"
      ],
      "metadata": {
        "colab": {
          "base_uri": "https://localhost:8080/"
        },
        "id": "wdsNjVwiW5rG",
        "outputId": "a2d3176e-1d22-4b91-d217-00bd1b92aa7a"
      },
      "execution_count": 225,
      "outputs": [
        {
          "output_type": "stream",
          "name": "stdout",
          "text": [
            "50 105\n",
            "70 320\n",
            "80 380\n"
          ]
        }
      ]
    },
    {
      "cell_type": "code",
      "source": [
        "def gen_zip(*args):\n",
        "    length = len(args[0])\n",
        "    # arg = (\n",
        "    #     [50,70,80],\n",
        "    #     [105,320,380]\n",
        "    # )\n",
        "    for i in range(length):\n",
        "         yield [lst[i] for lst in args ]\n",
        "         \n",
        "for item1,item2 in gen_zip(list1,list2):\n",
        "    print(item1,item2)"
      ],
      "metadata": {
        "colab": {
          "base_uri": "https://localhost:8080/"
        },
        "id": "8OJ6L98-XBz-",
        "outputId": "37885323-2776-49a6-c81f-a715aed922cb"
      },
      "execution_count": 230,
      "outputs": [
        {
          "output_type": "stream",
          "name": "stdout",
          "text": [
            "50 105\n",
            "70 320\n",
            "80 380\n"
          ]
        }
      ]
    },
    {
      "cell_type": "markdown",
      "source": [
        "- yield from 이용해서 간단히 제너레이터 만들기"
      ],
      "metadata": {
        "id": "MJqya0LUcb8Q"
      }
    },
    {
      "cell_type": "code",
      "source": [
        "def gen_func(num):\n",
        "    yield from range(num) # from 다음 iterable한 객체넣기"
      ],
      "metadata": {
        "id": "T52mv3xTeWId"
      },
      "execution_count": 232,
      "outputs": []
    },
    {
      "cell_type": "code",
      "source": [
        "gen = gen_func(5)"
      ],
      "metadata": {
        "id": "j_hWQJwFepn_"
      },
      "execution_count": 235,
      "outputs": []
    },
    {
      "cell_type": "code",
      "source": [
        "for n in gen:\n",
        "    print(n)"
      ],
      "metadata": {
        "colab": {
          "base_uri": "https://localhost:8080/"
        },
        "id": "7zuqHZs-eu5J",
        "outputId": "1131d8d5-171c-45f3-ddf7-c205673b46c9"
      },
      "execution_count": 236,
      "outputs": [
        {
          "output_type": "stream",
          "name": "stdout",
          "text": [
            "0\n",
            "1\n",
            "2\n",
            "3\n",
            "4\n"
          ]
        }
      ]
    },
    {
      "cell_type": "code",
      "source": [
        "n = 5\n",
        "gen = (i for i in range(n))"
      ],
      "metadata": {
        "id": "dlw58uroexr6"
      },
      "execution_count": 237,
      "outputs": []
    },
    {
      "cell_type": "code",
      "source": [
        "def gen_func(lst):  # 데이터들이 담긴 리시트를 받는다.\n",
        "    tmp = []\n",
        "    for i in lst:\n",
        "        tmp.append(i ** 2)\n",
        "\n",
        "    yield from tmp  # 반복 가능한 객체를 지정\n",
        "\n",
        "lst = list(range(10))\n",
        "gen = gen_func(lst)\n",
        "\n",
        "for i in gen:\n",
        "    print(i)"
      ],
      "metadata": {
        "colab": {
          "base_uri": "https://localhost:8080/"
        },
        "id": "67CKUtsje6Jh",
        "outputId": "801f739e-01a2-40b6-e042-6900bb25bd36"
      },
      "execution_count": 241,
      "outputs": [
        {
          "output_type": "stream",
          "name": "stdout",
          "text": [
            "0\n",
            "1\n",
            "4\n",
            "9\n",
            "16\n",
            "25\n",
            "36\n",
            "49\n",
            "64\n",
            "81\n"
          ]
        }
      ]
    },
    {
      "cell_type": "code",
      "source": [
        ""
      ],
      "metadata": {
        "id": "e7TRP-s9fPEo"
      },
      "execution_count": null,
      "outputs": []
    }
  ]
}
