{
  "nbformat": 4,
  "nbformat_minor": 0,
  "metadata": {
    "colab": {
      "name": "03-문자열.ipynb",
      "provenance": [],
      "collapsed_sections": [],
      "toc_visible": true,
      "authorship_tag": "ABX9TyMoIqAF37tea79WvasUfU/+",
      "include_colab_link": true
    },
    "kernelspec": {
      "name": "python3",
      "display_name": "Python 3"
    },
    "language_info": {
      "name": "python"
    }
  },
  "cells": [
    {
      "cell_type": "markdown",
      "metadata": {
        "id": "view-in-github",
        "colab_type": "text"
      },
      "source": [
        "<a href=\"https://colab.research.google.com/github/soyongseok/playdata/blob/main/03_%EB%AC%B8%EC%9E%90%EC%97%B4.ipynb\" target=\"_parent\"><img src=\"https://colab.research.google.com/assets/colab-badge.svg\" alt=\"Open In Colab\"/></a>"
      ]
    },
    {
      "cell_type": "markdown",
      "source": [
        "# 문자열이란?\n",
        "- 문자들이 열거 되어있으면 문자열(`str`)\n",
        "- 파이썬은 문자 하나도 문자열로 취급한다.\n",
        "- 문자열은 Sequence 자료형이다.\n",
        "- 문자열은 수정불가능한 객체이다.\n",
        "- 컴퓨터는 문자도 숫자(이진수)로 변경해서 저장 또는 처리해야한다.\n",
        "- 이진수로 변경하려면 어떠한 규칙이 있어야하는데 그 표준규칙을 인코딩이라고 한다.\n",
        "- 사람이 이해할 수 있게 문자로 원복하는 것을 디코딩이라고 한다.\n",
        "- ASCII (영어 키보드에 할당되는 모든 키), EUC-KR, UTF-8(세계적인 표준) 등"
      ],
      "metadata": {
        "id": "SZSRHLZyI2Ne"
      }
    },
    {
      "cell_type": "code",
      "source": [
        "name1 = \"광수\"\n",
        "name2 = '철수'"
      ],
      "metadata": {
        "id": "tfyE9zV4h3W6"
      },
      "execution_count": 2,
      "outputs": []
    },
    {
      "cell_type": "code",
      "source": [
        "text = \"나는 말했다.'안녕하세요'라고...\"\n",
        "text"
      ],
      "metadata": {
        "colab": {
          "base_uri": "https://localhost:8080/",
          "height": 35
        },
        "id": "TPtN1PWkikkb",
        "outputId": "22fe2c25-8799-414c-8d82-0276c78d2dee"
      },
      "execution_count": 4,
      "outputs": [
        {
          "output_type": "execute_result",
          "data": {
            "text/plain": [
              "\"나는 말했다.'안녕하세요'라고...\""
            ],
            "application/vnd.google.colaboratory.intrinsic+json": {
              "type": "string"
            }
          },
          "metadata": {},
          "execution_count": 4
        }
      ]
    },
    {
      "cell_type": "code",
      "source": [
        "text = '나는 말했다.\"안녕하세요\"라고...'\n",
        "text"
      ],
      "metadata": {
        "colab": {
          "base_uri": "https://localhost:8080/",
          "height": 35
        },
        "id": "PCUA5_Doi0P8",
        "outputId": "ff808138-b607-44f4-a6a7-21dd3d7336f7"
      },
      "execution_count": 156,
      "outputs": [
        {
          "output_type": "execute_result",
          "data": {
            "text/plain": [
              "'나는 말했다.\"안녕하세요\"라고...'"
            ],
            "application/vnd.google.colaboratory.intrinsic+json": {
              "type": "string"
            }
          },
          "metadata": {},
          "execution_count": 156
        }
      ]
    },
    {
      "cell_type": "markdown",
      "source": [
        "- 이스케아프 문자: `\\` 다음에 오는 문자가 특수문자라는 것을 알린다."
      ],
      "metadata": {
        "id": "VmfonG8LkqhI"
      }
    },
    {
      "cell_type": "code",
      "source": [
        "text = '나는 말했다. \"안녕하세요\\'라고...' # \\ 가 앞에 있으면 특수문자로 인식\n",
        "print(text)"
      ],
      "metadata": {
        "colab": {
          "base_uri": "https://localhost:8080/"
        },
        "id": "NMZA8o13i-6B",
        "outputId": "1dae5513-73b8-45b7-97cf-98e293b0d93c"
      },
      "execution_count": 17,
      "outputs": [
        {
          "output_type": "stream",
          "name": "stdout",
          "text": [
            "나는 말했다. \"안녕하세요'라고...\n"
          ]
        }
      ]
    },
    {
      "cell_type": "code",
      "source": [
        "print(\"나는 말했다.\\n'안녕하세요' 라고..\")"
      ],
      "metadata": {
        "colab": {
          "base_uri": "https://localhost:8080/"
        },
        "id": "yVVHA-jvkpPR",
        "outputId": "f01aeee4-0cca-47f5-f6a0-a944111b4a39"
      },
      "execution_count": 53,
      "outputs": [
        {
          "output_type": "stream",
          "name": "stdout",
          "text": [
            "나는 말했다.\n",
            "'안녕하세요' 라고..\n"
          ]
        }
      ]
    },
    {
      "cell_type": "code",
      "source": [
        "print(\"나는 말한다.\\t잘가라고..\")   # 4칸 띄어쓰기"
      ],
      "metadata": {
        "colab": {
          "base_uri": "https://localhost:8080/"
        },
        "id": "jaxxORTMkDly",
        "outputId": "b2d8b524-bcc9-43d5-ecb9-ad0645641d97"
      },
      "execution_count": 23,
      "outputs": [
        {
          "output_type": "stream",
          "name": "stdout",
          "text": [
            "나는 말한다.\t잘가라고..\n"
          ]
        }
      ]
    },
    {
      "cell_type": "markdown",
      "source": [
        "## Doc String\n",
        "- 따옴표를 3개를 이어서 쓰면 된다. Doc string 안에 위치한 문자열은 무조건 적은대로 표현된다.\n",
        "```python\n",
        "\"\"\"문자열\"\"\"\n",
        "'''문자열'''\n",
        "```\n",
        "- 여러줄의 주석으로도 사용된다."
      ],
      "metadata": {
        "id": "nR8VASuKlY8E"
      }
    },
    {
      "cell_type": "code",
      "source": [
        "text = \"\"\"\"I said, \"I'm Student\" \"\"\"  # 주석으로도 사용되고, 줄을 바꿔도 상관없다\n",
        "print(text)"
      ],
      "metadata": {
        "colab": {
          "base_uri": "https://localhost:8080/"
        },
        "id": "78ku-sSNl1ZJ",
        "outputId": "57f4b560-7893-439d-95c8-5e79f6e413a5"
      },
      "execution_count": 30,
      "outputs": [
        {
          "output_type": "stream",
          "name": "stdout",
          "text": [
            "\"I said, \"I'm Student\" \n"
          ]
        }
      ]
    },
    {
      "cell_type": "markdown",
      "source": [
        "## 문자열 연산"
      ],
      "metadata": {
        "id": "3Sjy-IlNl8l7"
      }
    },
    {
      "cell_type": "code",
      "source": [
        "text1 = \"Hello\"\n",
        "text2 = \"World\""
      ],
      "metadata": {
        "id": "AOZwiH5nnuG0"
      },
      "execution_count": 33,
      "outputs": []
    },
    {
      "cell_type": "code",
      "source": [
        "print(text1+text2) # 더하기 기호는 문자열과 문자열을 이어 붙인다."
      ],
      "metadata": {
        "colab": {
          "base_uri": "https://localhost:8080/"
        },
        "id": "H8f8YGAIn18N",
        "outputId": "70a7f85b-a8ed-4e69-8a1d-fef352508058"
      },
      "execution_count": 35,
      "outputs": [
        {
          "output_type": "stream",
          "name": "stdout",
          "text": [
            "HelloWorld\n"
          ]
        }
      ]
    },
    {
      "cell_type": "code",
      "source": [
        "text1*10    # 곱하면 문자열을 반복한다."
      ],
      "metadata": {
        "colab": {
          "base_uri": "https://localhost:8080/",
          "height": 35
        },
        "id": "6LKusPLCn9-w",
        "outputId": "42d0426b-22fb-4fc1-b477-0fc867bd1ed3"
      },
      "execution_count": 37,
      "outputs": [
        {
          "output_type": "execute_result",
          "data": {
            "text/plain": [
              "'HelloHelloHelloHelloHelloHelloHelloHelloHelloHello'"
            ],
            "application/vnd.google.colaboratory.intrinsic+json": {
              "type": "string"
            }
          },
          "metadata": {},
          "execution_count": 37
        }
      ]
    },
    {
      "cell_type": "code",
      "source": [
        "'H' in text1\n",
        "'Hello' == text1"
      ],
      "metadata": {
        "colab": {
          "base_uri": "https://localhost:8080/"
        },
        "id": "c20qYhqroKYR",
        "outputId": "3536e1d9-833b-4a49-a51c-9090b7862b1d"
      },
      "execution_count": 43,
      "outputs": [
        {
          "output_type": "execute_result",
          "data": {
            "text/plain": [
              "True"
            ]
          },
          "metadata": {},
          "execution_count": 43
        }
      ]
    },
    {
      "cell_type": "markdown",
      "source": [
        "## 인덱싱 & 슬라이싱 가능!"
      ],
      "metadata": {
        "id": "2r6H2tSLoUGq"
      }
    },
    {
      "cell_type": "code",
      "source": [
        "text1[-1]"
      ],
      "metadata": {
        "colab": {
          "base_uri": "https://localhost:8080/",
          "height": 35
        },
        "id": "wLHvroyEo4V0",
        "outputId": "3d28b16d-fc46-418a-fc8e-12ec38021adc"
      },
      "execution_count": 44,
      "outputs": [
        {
          "output_type": "execute_result",
          "data": {
            "text/plain": [
              "'o'"
            ],
            "application/vnd.google.colaboratory.intrinsic+json": {
              "type": "string"
            }
          },
          "metadata": {},
          "execution_count": 44
        }
      ]
    },
    {
      "cell_type": "markdown",
      "source": [
        "- 슬라이싱과 더하기 연산자를 이용하여 다음과 같은 출력이 나오도록 하시오.\n",
        "```\n",
        "01011112222\n",
        "```"
      ],
      "metadata": {
        "id": "Rq3gNF1fpVYx"
      }
    },
    {
      "cell_type": "code",
      "source": [
        "phone = \"010-1111-2222\"\n",
        "phone[0:3] + phone[4:8] + phone[9:]"
      ],
      "metadata": {
        "colab": {
          "base_uri": "https://localhost:8080/",
          "height": 35
        },
        "id": "niNe8A1Oo7Ov",
        "outputId": "d7af9ccb-7a7f-4498-c74d-ff67b99e415d"
      },
      "execution_count": 157,
      "outputs": [
        {
          "output_type": "execute_result",
          "data": {
            "text/plain": [
              "'01011112222'"
            ],
            "application/vnd.google.colaboratory.intrinsic+json": {
              "type": "string"
            }
          },
          "metadata": {},
          "execution_count": 157
        }
      ]
    },
    {
      "cell_type": "markdown",
      "source": [
        "## String Formatting\n",
        "- 문자열 내의 특정한 값을 변수로부터 동적으로 받아 포함시켜 문자열을 생성\n"
      ],
      "metadata": {
        "id": "Opp9TK7lpoj-"
      }
    },
    {
      "cell_type": "code",
      "source": [
        "name = \"손용석\"\n",
        "age = 42"
      ],
      "metadata": {
        "id": "ZehoerAXuo80"
      },
      "execution_count": 162,
      "outputs": []
    },
    {
      "cell_type": "code",
      "source": [
        "text = \"제 이름은 \" + name + \"입니다. 나이는 \" + str(age) + \" 입니다.\"\n",
        "print(text)"
      ],
      "metadata": {
        "colab": {
          "base_uri": "https://localhost:8080/"
        },
        "id": "bJqVW29qu1Or",
        "outputId": "f9c85390-15b3-48f5-ac71-c63784a3f085"
      },
      "execution_count": 163,
      "outputs": [
        {
          "output_type": "stream",
          "name": "stdout",
          "text": [
            "제 이름은 손용석입니다. 나이는 42 입니다.\n"
          ]
        }
      ]
    },
    {
      "cell_type": "code",
      "source": [
        "text = \"제 이름은 {}입니다. 나이는 {}입니다.\"\n",
        "text.format(name,age)"
      ],
      "metadata": {
        "colab": {
          "base_uri": "https://localhost:8080/",
          "height": 35
        },
        "id": "Ha7V2huwvEgv",
        "outputId": "07289c6b-9c14-4e21-949c-9b26fad209ae"
      },
      "execution_count": 164,
      "outputs": [
        {
          "output_type": "execute_result",
          "data": {
            "text/plain": [
              "'제 이름은 손용석입니다. 나이는 42입니다.'"
            ],
            "application/vnd.google.colaboratory.intrinsic+json": {
              "type": "string"
            }
          },
          "metadata": {},
          "execution_count": 164
        }
      ]
    },
    {
      "cell_type": "markdown",
      "source": [
        "- F-String (파이썬 3.6 이상부터 지원)\n",
        "    - 많이 쓰인다!"
      ],
      "metadata": {
        "id": "XoTSl7ZovoyJ"
      }
    },
    {
      "cell_type": "code",
      "source": [
        "text = f\"제 이름은 {name}입니다. 나이는 {age}입니다.\"\n",
        "print(text)"
      ],
      "metadata": {
        "colab": {
          "base_uri": "https://localhost:8080/"
        },
        "id": "Ogm0EkNOwGKW",
        "outputId": "6baa6d87-a967-42f3-ee66-f205f57b0c3a"
      },
      "execution_count": 165,
      "outputs": [
        {
          "output_type": "stream",
          "name": "stdout",
          "text": [
            "제 이름은 손용석입니다. 나이는 42입니다.\n"
          ]
        }
      ]
    },
    {
      "cell_type": "markdown",
      "source": [
        "- 다음과 같이 9단을 보기 좋게 출력해보시오.\n",
        "```\n",
        "9 X 1 = 9\n",
        "9 X 2 = 18\n",
        "9 X 3 = 27\n",
        "9 X 4 = 36\n",
        "9 X 5 = 45\n",
        "9 X 6 = 54\n",
        "9 X 7 = 63\n",
        "9 X 8 = 72\n",
        "9 X 9 = 81\n",
        "```"
      ],
      "metadata": {
        "id": "bpMJrL7awueK"
      }
    },
    {
      "cell_type": "code",
      "source": [
        "num = 9"
      ],
      "metadata": {
        "id": "a_i5qUSmxNiM"
      },
      "execution_count": 78,
      "outputs": []
    },
    {
      "cell_type": "code",
      "source": [
        "print(f\"{num} X 1 = {num*1}\")\n",
        "print(f\"{num} X 2 = {num*2}\")\n",
        "print(f\"{num} X 3 = {num*3}\")\n",
        "print(f\"{num} X 4 = {num*4}\")\n",
        "print(f\"{num} X 5 = {num*5}\")\n",
        "print(f\"{num} X 6 = {num*6}\")\n",
        "print(f\"{num} X 7 = {num*7}\")\n",
        "print(f\"{num} X 8 = {num*8}\")\n",
        "print(f\"{num} X 9 = {num*9}\")"
      ],
      "metadata": {
        "colab": {
          "base_uri": "https://localhost:8080/"
        },
        "id": "J5ZDynuDyBlS",
        "outputId": "42d2a505-67c3-4733-c5b7-bb494c067219"
      },
      "execution_count": 80,
      "outputs": [
        {
          "output_type": "stream",
          "name": "stdout",
          "text": [
            "9 X 1 = 9\n",
            "9 X 2 = 18\n",
            "9 X 3 = 27\n",
            "9 X 4 = 36\n",
            "9 X 5 = 45\n",
            "9 X 6 = 54\n",
            "9 X 7 = 63\n",
            "9 X 8 = 72\n",
            "9 X 9 = 81\n"
          ]
        }
      ]
    },
    {
      "cell_type": "markdown",
      "source": [
        "## 문자열 메소드\n",
        "- 파이썬에는 문자열을 다루기 위한 다양한 메소드가 있다."
      ],
      "metadata": {
        "id": "4423AkplzNd9"
      }
    },
    {
      "cell_type": "markdown",
      "source": [
        "- 대/소문자 화 하기"
      ],
      "metadata": {
        "id": "WkOjcQuIzoia"
      }
    },
    {
      "cell_type": "code",
      "source": [
        "text = \"Hello Python\"\n",
        "text.upper()    # 모든 문자를 대문자로 변경"
      ],
      "metadata": {
        "colab": {
          "base_uri": "https://localhost:8080/",
          "height": 35
        },
        "id": "mdfg947mzuCE",
        "outputId": "6c422fef-d3c2-4dcf-d82c-3dcfd3f8176a"
      },
      "execution_count": 85,
      "outputs": [
        {
          "output_type": "execute_result",
          "data": {
            "text/plain": [
              "'HELLO PYTHON'"
            ],
            "application/vnd.google.colaboratory.intrinsic+json": {
              "type": "string"
            }
          },
          "metadata": {},
          "execution_count": 85
        }
      ]
    },
    {
      "cell_type": "code",
      "source": [
        "text.lower()"
      ],
      "metadata": {
        "colab": {
          "base_uri": "https://localhost:8080/",
          "height": 35
        },
        "id": "JcNXW3iKz24Z",
        "outputId": "70cb550d-c7e9-4e35-e674-65a434861e3d"
      },
      "execution_count": 87,
      "outputs": [
        {
          "output_type": "execute_result",
          "data": {
            "text/plain": [
              "'hello python'"
            ],
            "application/vnd.google.colaboratory.intrinsic+json": {
              "type": "string"
            }
          },
          "metadata": {},
          "execution_count": 87
        }
      ]
    },
    {
      "cell_type": "markdown",
      "source": [
        "- 문자열 치환\n",
        "    - 치환 : A라는 문자열을 B라는 문자열로 바꾸는 것 \n",
        "(`replace`)"
      ],
      "metadata": {
        "id": "6CrLBvD90KMq"
      }
    },
    {
      "cell_type": "code",
      "source": [
        "text.replace(\"P\",\"C\")   # 첫번째 인자에 매칭되는 모든 문자열을 두번째 인자의 문자열로 변경한다.\n",
        "                        # 문자열은 수정불가능한 객체이므로 변경이 안된다."
      ],
      "metadata": {
        "colab": {
          "base_uri": "https://localhost:8080/",
          "height": 35
        },
        "id": "AWYl4skY0X8h",
        "outputId": "94cde6ef-3387-402a-cc5a-3baa08111e38"
      },
      "execution_count": 93,
      "outputs": [
        {
          "output_type": "execute_result",
          "data": {
            "text/plain": [
              "'Hello Cython'"
            ],
            "application/vnd.google.colaboratory.intrinsic+json": {
              "type": "string"
            }
          },
          "metadata": {},
          "execution_count": 93
        }
      ]
    },
    {
      "cell_type": "code",
      "source": [
        "text.replace(\"Hello\",\"Bye\")"
      ],
      "metadata": {
        "colab": {
          "base_uri": "https://localhost:8080/",
          "height": 35
        },
        "id": "2y1sxDzv0y6K",
        "outputId": "4af686a1-f266-424b-ece3-6b9368fe8d94"
      },
      "execution_count": 95,
      "outputs": [
        {
          "output_type": "execute_result",
          "data": {
            "text/plain": [
              "'Bye Python'"
            ],
            "application/vnd.google.colaboratory.intrinsic+json": {
              "type": "string"
            }
          },
          "metadata": {},
          "execution_count": 95
        }
      ]
    },
    {
      "cell_type": "code",
      "source": [
        "text.replace(\" \",\" - \")"
      ],
      "metadata": {
        "colab": {
          "base_uri": "https://localhost:8080/",
          "height": 35
        },
        "id": "734PA1c51TZG",
        "outputId": "4cb01d51-5fa9-4f2a-b4b2-729f2fdaba74"
      },
      "execution_count": 97,
      "outputs": [
        {
          "output_type": "execute_result",
          "data": {
            "text/plain": [
              "'Hello - Python'"
            ],
            "application/vnd.google.colaboratory.intrinsic+json": {
              "type": "string"
            }
          },
          "metadata": {},
          "execution_count": 97
        }
      ]
    },
    {
      "cell_type": "markdown",
      "source": [
        "## 문자열 분리(`split`)하기\n",
        "- 특정 구분자를 이용해서 문자열을 분리하여 리스트로 반환"
      ],
      "metadata": {
        "id": "bbWfWzrE1rti"
      }
    },
    {
      "cell_type": "code",
      "source": [
        "text = \"날이 너무 더워서 힘드네요. 내일은 시원했으면 좋겠습니다.\"\n",
        "text.split()"
      ],
      "metadata": {
        "colab": {
          "base_uri": "https://localhost:8080/"
        },
        "id": "Ak_eP1Oz2Ltw",
        "outputId": "355f074b-3306-49a1-a9d3-f733e0237bbb"
      },
      "execution_count": 101,
      "outputs": [
        {
          "output_type": "execute_result",
          "data": {
            "text/plain": [
              "['날이', '너무', '더워서', '힘드네요.', '내일은', '시원했으면', '좋겠습니다.']"
            ]
          },
          "metadata": {},
          "execution_count": 101
        }
      ]
    },
    {
      "cell_type": "code",
      "source": [
        "text= \"         오늘 하루 너무 행복하다.\"\n",
        "result = text.split()   # 공백만 있거나 비어있는 문자열일 경우 리스트에 포함 X\n",
        "result"
      ],
      "metadata": {
        "colab": {
          "base_uri": "https://localhost:8080/"
        },
        "id": "KBN96LwR2Xzt",
        "outputId": "3f37e646-8c1c-4083-9b0d-f7d12d70c5ee"
      },
      "execution_count": 103,
      "outputs": [
        {
          "output_type": "execute_result",
          "data": {
            "text/plain": [
              "['오늘', '하루', '너무', '행복하다.']"
            ]
          },
          "metadata": {},
          "execution_count": 103
        }
      ]
    },
    {
      "cell_type": "code",
      "source": [
        "text = '#8시간#하루종일#파이썬#하고있음'\n",
        "result = text.split(\"#\")    # 기준값을 줄 경우 다음과 같이 비어있는 문자도 리스트에 포함된다.\n",
        "result"
      ],
      "metadata": {
        "colab": {
          "base_uri": "https://localhost:8080/"
        },
        "id": "pMFsHD3r23JF",
        "outputId": "971954a0-b3f1-400c-b850-5d4d837d1940"
      },
      "execution_count": 107,
      "outputs": [
        {
          "output_type": "execute_result",
          "data": {
            "text/plain": [
              "['', '8시간', '하루종일', '파이썬', '하고있음']"
            ]
          },
          "metadata": {},
          "execution_count": 107
        }
      ]
    },
    {
      "cell_type": "code",
      "source": [
        "result[1:]  # 슬라이싱으로 비어있는 문자를 날린다."
      ],
      "metadata": {
        "colab": {
          "base_uri": "https://localhost:8080/"
        },
        "id": "DW2t6uG83U0I",
        "outputId": "00de88e4-ac44-4336-f87f-5369e44080b0"
      },
      "execution_count": 110,
      "outputs": [
        {
          "output_type": "execute_result",
          "data": {
            "text/plain": [
              "['8시간', '하루종일', '파이썬', '하고있음']"
            ]
          },
          "metadata": {},
          "execution_count": 110
        }
      ]
    },
    {
      "cell_type": "markdown",
      "source": [
        "- 문자열의 좌/우 공백 제거(`strip`)"
      ],
      "metadata": {
        "id": "xJ_jYCXM33_-"
      }
    },
    {
      "cell_type": "code",
      "source": [
        "text = \"        오늘 하루 너무 행복하다.    \\n\\n\\n\\n\\n\"\n",
        "print(text)"
      ],
      "metadata": {
        "colab": {
          "base_uri": "https://localhost:8080/"
        },
        "id": "WGDT0IZg4Mmx",
        "outputId": "c5de1956-b7d3-4d4a-9a22-14eb2a9f6a23"
      },
      "execution_count": 113,
      "outputs": [
        {
          "output_type": "stream",
          "name": "stdout",
          "text": [
            "        오늘 하루 너무 행복하다.    \n",
            "\n",
            "\n",
            "\n",
            "\n",
            "\n"
          ]
        }
      ]
    },
    {
      "cell_type": "code",
      "source": [
        "print(text.strip())     # rstrip,lstrip 사용하여 좌,우만 공백제거 가능"
      ],
      "metadata": {
        "colab": {
          "base_uri": "https://localhost:8080/"
        },
        "id": "NS0E0JR_4Tt-",
        "outputId": "99fecaaa-4999-4b36-ae1d-23513b00fe12"
      },
      "execution_count": 116,
      "outputs": [
        {
          "output_type": "stream",
          "name": "stdout",
          "text": [
            "오늘 하루 너무 행복하다.\n"
          ]
        }
      ]
    },
    {
      "cell_type": "markdown",
      "source": [
        "- 문자열 합치기(`join`)\n",
        "    - `split` 반대 개념\n",
        "    - 특정 문자열을 기준으로 리스트에 들어있는 문자열들을 합쳐주는 역할"
      ],
      "metadata": {
        "id": "fCyrMwK74jBE"
      }
    },
    {
      "cell_type": "code",
      "source": [
        "text = \"오늘 하루 너무 행복하다\"\n",
        "result = text.split()\n",
        "result"
      ],
      "metadata": {
        "colab": {
          "base_uri": "https://localhost:8080/"
        },
        "id": "4b-TCjGO8pJy",
        "outputId": "1343aa4b-8337-4c6c-a4dd-71bde9107dea"
      },
      "execution_count": 118,
      "outputs": [
        {
          "output_type": "execute_result",
          "data": {
            "text/plain": [
              "['오늘', '하루', '너무', '행복하다']"
            ]
          },
          "metadata": {},
          "execution_count": 118
        }
      ]
    },
    {
      "cell_type": "code",
      "source": [
        "\"#\".join(result) # 인자값으로 리스트 같은 자료형을 넣어주면 된다."
      ],
      "metadata": {
        "colab": {
          "base_uri": "https://localhost:8080/",
          "height": 35
        },
        "id": "t_1RSRRJ88td",
        "outputId": "a51a89f8-6708-4e53-92ca-b65c8b5e6ff7"
      },
      "execution_count": 122,
      "outputs": [
        {
          "output_type": "execute_result",
          "data": {
            "text/plain": [
              "'오늘#하루#너무#행복하다'"
            ],
            "application/vnd.google.colaboratory.intrinsic+json": {
              "type": "string"
            }
          },
          "metadata": {},
          "execution_count": 122
        }
      ]
    },
    {
      "cell_type": "code",
      "source": [
        "\"#\" + \"#\".join(result)"
      ],
      "metadata": {
        "colab": {
          "base_uri": "https://localhost:8080/",
          "height": 35
        },
        "id": "tfqWQonV9Ef-",
        "outputId": "c3c0cb48-729c-4c82-9e2c-9865c2068602"
      },
      "execution_count": 123,
      "outputs": [
        {
          "output_type": "execute_result",
          "data": {
            "text/plain": [
              "'#오늘#하루#너무#행복하다'"
            ],
            "application/vnd.google.colaboratory.intrinsic+json": {
              "type": "string"
            }
          },
          "metadata": {},
          "execution_count": 123
        }
      ]
    },
    {
      "cell_type": "code",
      "source": [
        "asd = \"집가고 싶다\"\n",
        "X = asd.split()\n",
        "X"
      ],
      "metadata": {
        "colab": {
          "base_uri": "https://localhost:8080/"
        },
        "id": "9jdi_R_A9byG",
        "outputId": "8e66f021-2491-4e2b-c07b-47b47b62309f"
      },
      "execution_count": 125,
      "outputs": [
        {
          "output_type": "execute_result",
          "data": {
            "text/plain": [
              "['집가고', '싶다']"
            ]
          },
          "metadata": {},
          "execution_count": 125
        }
      ]
    },
    {
      "cell_type": "code",
      "source": [
        "\"아\" + \"오\".join(X)"
      ],
      "metadata": {
        "colab": {
          "base_uri": "https://localhost:8080/",
          "height": 35
        },
        "id": "dL1r2Ucz9mgh",
        "outputId": "9fe1745c-18d2-4f7a-85d0-b488e5f7fb90"
      },
      "execution_count": 128,
      "outputs": [
        {
          "output_type": "execute_result",
          "data": {
            "text/plain": [
              "'아집가고오싶다'"
            ],
            "application/vnd.google.colaboratory.intrinsic+json": {
              "type": "string"
            }
          },
          "metadata": {},
          "execution_count": 128
        }
      ]
    },
    {
      "cell_type": "markdown",
      "source": [
        "- 특정 문자열로 시작하는에 대한 여부를 반환 (`startswith`)"
      ],
      "metadata": {
        "id": "-5JEIHwD9sjh"
      }
    },
    {
      "cell_type": "code",
      "source": [
        "text = \"이제는 날이 점점 더워지는 것 같아요.\"\n",
        "text.startswith(\"이제는\")"
      ],
      "metadata": {
        "colab": {
          "base_uri": "https://localhost:8080/"
        },
        "id": "xFNdewlb-Hcm",
        "outputId": "6d5b2625-5778-4ed7-c9b9-337fbf9bc31c"
      },
      "execution_count": 130,
      "outputs": [
        {
          "output_type": "execute_result",
          "data": {
            "text/plain": [
              "True"
            ]
          },
          "metadata": {},
          "execution_count": 130
        }
      ]
    },
    {
      "cell_type": "markdown",
      "source": [
        "- 특정 문자열로 끝나는지에 대한 여부 반환 (`endswith`)"
      ],
      "metadata": {
        "id": "xJbTX4vI-TPA"
      }
    },
    {
      "cell_type": "code",
      "source": [
        "str_list = [\"오늘은 몇 일 입니까?\", \"파이썬 쉽다!\", \"내일 만나요...\", \"주말에 복습하실꺼죠?\"]\n",
        "str_list"
      ],
      "metadata": {
        "colab": {
          "base_uri": "https://localhost:8080/"
        },
        "id": "HoK7s0B0-tpF",
        "outputId": "11f51c65-0f72-45cd-dfd4-f0ee8dbd8ff9"
      },
      "execution_count": 131,
      "outputs": [
        {
          "output_type": "execute_result",
          "data": {
            "text/plain": [
              "['오늘은 몇 일 입니까?', '파이썬 쉽다!', '내일 만나요...', '주말에 복습하실꺼죠?']"
            ]
          },
          "metadata": {},
          "execution_count": 131
        }
      ]
    },
    {
      "cell_type": "code",
      "source": [
        "print(str_list[0].endswith(\"?\"))\n",
        "print(str_list[1].endswith(\"?\"))\n",
        "print(str_list[2].endswith(\"?\"))\n",
        "print(str_list[3].endswith(\"?\"))"
      ],
      "metadata": {
        "colab": {
          "base_uri": "https://localhost:8080/"
        },
        "id": "PBbNeAkw_K1a",
        "outputId": "54621807-57a0-4f9d-e447-d470d6d9e2a7"
      },
      "execution_count": 134,
      "outputs": [
        {
          "output_type": "stream",
          "name": "stdout",
          "text": [
            "True\n",
            "False\n",
            "False\n",
            "True\n"
          ]
        }
      ]
    },
    {
      "cell_type": "code",
      "source": [
        "text = \"이제는 날이 점점 더워지는 것 같아요.\"\n",
        "text.count(\"이\")"
      ],
      "metadata": {
        "colab": {
          "base_uri": "https://localhost:8080/"
        },
        "id": "aZDIKRLjABqM",
        "outputId": "cd070411-0bd5-4313-e7cb-3a4f609d37e8"
      },
      "execution_count": 138,
      "outputs": [
        {
          "output_type": "execute_result",
          "data": {
            "text/plain": [
              "2"
            ]
          },
          "metadata": {},
          "execution_count": 138
        }
      ]
    },
    {
      "cell_type": "markdown",
      "source": [
        "- 문자열의 앞을 지정한 길이로 0으로 채우기 (`zfill`)"
      ],
      "metadata": {
        "id": "Qmk4VqY1ACgt"
      }
    },
    {
      "cell_type": "code",
      "source": [
        "a = \"1\"             # 파일들을 담아두고, 정렬할 때 유용하게 쓰인다.\n",
        "a.zfill(5)"
      ],
      "metadata": {
        "colab": {
          "base_uri": "https://localhost:8080/",
          "height": 35
        },
        "id": "S6tHaEJmAXSP",
        "outputId": "19733078-c835-4098-b042-99acbce6fd06"
      },
      "execution_count": 141,
      "outputs": [
        {
          "output_type": "execute_result",
          "data": {
            "text/plain": [
              "'00001'"
            ],
            "application/vnd.google.colaboratory.intrinsic+json": {
              "type": "string"
            }
          },
          "metadata": {},
          "execution_count": 141
        }
      ]
    },
    {
      "cell_type": "code",
      "source": [
        "img_files = [\"img_10.jpg\",\"img_1.jpg\",\"img_3.jpg\",\"img_8.jpg\"]  # 정렬이 안됨!\n",
        "sorted(img_files)"
      ],
      "metadata": {
        "colab": {
          "base_uri": "https://localhost:8080/"
        },
        "id": "BukWCGpYA3xb",
        "outputId": "445d422a-bf76-4be4-bfb6-652e17eb7a6d"
      },
      "execution_count": 143,
      "outputs": [
        {
          "output_type": "execute_result",
          "data": {
            "text/plain": [
              "['img_1.jpg', 'img_10.jpg', 'img_3.jpg', 'img_8.jpg']"
            ]
          },
          "metadata": {},
          "execution_count": 143
        }
      ]
    },
    {
      "cell_type": "code",
      "source": [
        "img_file = \"img_1.jpg\"      # lst 기준으로 나눔\n",
        "lst = img_file.split(\"_\")\n",
        "lst"
      ],
      "metadata": {
        "colab": {
          "base_uri": "https://localhost:8080/"
        },
        "id": "r7POKoUnBFl1",
        "outputId": "302bfd88-8b6f-4f55-ea02-fb6ff1fdd12f"
      },
      "execution_count": 152,
      "outputs": [
        {
          "output_type": "execute_result",
          "data": {
            "text/plain": [
              "['img', '1.jpg']"
            ]
          },
          "metadata": {},
          "execution_count": 152
        }
      ]
    },
    {
      "cell_type": "code",
      "source": [
        "lst[1] = lst[1].zfill(6)    # 10의 자리를 기준으로 정렬하기 위해 6을 넣음\n",
        "lst[1]"
      ],
      "metadata": {
        "colab": {
          "base_uri": "https://localhost:8080/",
          "height": 35
        },
        "id": "zMVu0o5eBtUy",
        "outputId": "12656a0f-b922-43a0-97a6-8b81ca910897"
      },
      "execution_count": 153,
      "outputs": [
        {
          "output_type": "execute_result",
          "data": {
            "text/plain": [
              "'01.jpg'"
            ],
            "application/vnd.google.colaboratory.intrinsic+json": {
              "type": "string"
            }
          },
          "metadata": {},
          "execution_count": 153
        }
      ]
    },
    {
      "cell_type": "code",
      "source": [
        "\"_\".join(lst)               # 다시 \"_\"를 붙여줌!"
      ],
      "metadata": {
        "colab": {
          "base_uri": "https://localhost:8080/",
          "height": 35
        },
        "id": "BjSHBj1qCHxP",
        "outputId": "3358542e-a43f-4e26-fd67-7c0ae1870cb1"
      },
      "execution_count": 154,
      "outputs": [
        {
          "output_type": "execute_result",
          "data": {
            "text/plain": [
              "'img_01.jpg'"
            ],
            "application/vnd.google.colaboratory.intrinsic+json": {
              "type": "string"
            }
          },
          "metadata": {},
          "execution_count": 154
        }
      ]
    }
  ]
}
