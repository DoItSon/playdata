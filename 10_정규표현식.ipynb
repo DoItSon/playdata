{
  "nbformat": 4,
  "nbformat_minor": 0,
  "metadata": {
    "colab": {
      "name": "10-정규표현식.ipynb",
      "provenance": [],
      "authorship_tag": "ABX9TyOERfSGJHh8+FrMl+1G5oyN",
      "include_colab_link": true
    },
    "kernelspec": {
      "name": "python3",
      "display_name": "Python 3"
    },
    "language_info": {
      "name": "python"
    }
  },
  "cells": [
    {
      "cell_type": "markdown",
      "metadata": {
        "id": "view-in-github",
        "colab_type": "text"
      },
      "source": [
        "<a href=\"https://colab.research.google.com/github/soyongseok/playdata/blob/main/10_%EC%A0%95%EA%B7%9C%ED%91%9C%ED%98%84%EC%8B%9D.ipynb\" target=\"_parent\"><img src=\"https://colab.research.google.com/assets/colab-badge.svg\" alt=\"Open In Colab\"/></a>"
      ]
    },
    {
      "cell_type": "markdown",
      "source": [
        "# 정규식\n",
        "- 정규표현식은 복잡한 문자열을 처리할 때 사용하는 기법\n",
        "- 파이썬만의 고유한 기법이 아니라 문자열을 처리하는 모든 곳에서 사용"
      ],
      "metadata": {
        "id": "iA2Q6nj5AWck"
      }
    },
    {
      "cell_type": "code",
      "source": [
        "data = \"나의 전화번호는 010-0000-0000 입니다. 너의 전화번호는 010-1111-1111 입니다.\""
      ],
      "metadata": {
        "id": "8KSRziDlAz4R"
      },
      "execution_count": null,
      "outputs": []
    },
    {
      "cell_type": "markdown",
      "source": [
        "- 텍스트의 규칙을 보니 띄어쓰기 기준으로 나누자\n",
        "- 전화번호의 특징이 하이픈이 사이에 2개가 있다.\n",
        "- 전화번호의 특징이 첫 3자리, 두번째 4자리, 세번째 4자리 형식이다."
      ],
      "metadata": {
        "id": "Ifnuc8MGBHQL"
      }
    },
    {
      "cell_type": "code",
      "source": [
        "phone_list= []\n",
        "for item in data.split():\n",
        "    item = item.split(\"-\")\n",
        "    \n",
        "    cond_list = []\n",
        "    if len(item) == 3:\n",
        "        cond =  item[0].isdigit() and len(item[0]) == 3\n",
        "        cond_list.append(cond)\n",
        "        cond =  item[1].isdigit() and len(item[1]) == 4\n",
        "        cond_list.append(cond)\n",
        "        cond =  item[2].isdigit() and len(item[2]) == 4\n",
        "        cond_list.append(cond)\n",
        "    if sum(cond_list) == 3:\n",
        "        phone_list.append(\"-\".join(item))\n",
        "phone_list"
      ],
      "metadata": {
        "colab": {
          "base_uri": "https://localhost:8080/"
        },
        "id": "PzhgXoxrBQsM",
        "outputId": "85217b53-e3e3-4522-f753-4e507abf5585"
      },
      "execution_count": null,
      "outputs": [
        {
          "output_type": "execute_result",
          "data": {
            "text/plain": [
              "['010-0000-0000', '010-1111-1111']"
            ]
          },
          "metadata": {},
          "execution_count": 8
        }
      ]
    },
    {
      "cell_type": "code",
      "source": [
        "data = \"나의 전화번호는 010-0000-0000 입니다. 너의 전화번호는 010-1111-1111 입니다.\"\n",
        "import re\n",
        "pat = re.compile(\"\\d{3}-\\d{4}-\\d{4}\")\n",
        "phone_list = pat.findall(data)\n",
        "phone_list"
      ],
      "metadata": {
        "colab": {
          "base_uri": "https://localhost:8080/"
        },
        "id": "oTuquYM1BuP6",
        "outputId": "034338ac-adb4-43a0-d250-af17b4cd3440"
      },
      "execution_count": null,
      "outputs": [
        {
          "output_type": "execute_result",
          "data": {
            "text/plain": [
              "['010-0000-0000', '010-1111-1111']"
            ]
          },
          "metadata": {},
          "execution_count": 9
        }
      ]
    },
    {
      "cell_type": "markdown",
      "source": [
        "## re(regular expression) 모듈\n",
        "- 파이썬의 정규표현식을 지원하기 위한 모듈\n"
      ],
      "metadata": {
        "id": "FiX017H8DLCZ"
      }
    },
    {
      "cell_type": "markdown",
      "source": [
        "- match 함수\n",
        "    - pattern에 맞는 문자열로 시작하는지 검사하고 매칭이 되면 match 객체를 반환하고 그렇지 않으면 None 을 반환한다."
      ],
      "metadata": {
        "id": "oPirFqUSDyds"
      }
    },
    {
      "cell_type": "code",
      "source": [
        "data = \"나의 전화번호는 010-0000-0000 입니다. 너의 전화번호는 010-1111-1111 입니다.\"\n",
        "print(re.match(\"나의\",data))\n",
        "print(re.match(\"전화\",data))"
      ],
      "metadata": {
        "colab": {
          "base_uri": "https://localhost:8080/"
        },
        "id": "HUzjeF0CEGw5",
        "outputId": "4e072b7a-4113-4bfd-a426-bcd4476c0d3b"
      },
      "execution_count": null,
      "outputs": [
        {
          "output_type": "stream",
          "name": "stdout",
          "text": [
            "<re.Match object; span=(0, 2), match='나의'>\n",
            "None\n"
          ]
        }
      ]
    },
    {
      "cell_type": "code",
      "source": [
        "match = re.match(\"나의\",data)\n",
        "match.group()"
      ],
      "metadata": {
        "colab": {
          "base_uri": "https://localhost:8080/",
          "height": 35
        },
        "id": "AvX1Kc-MEZi-",
        "outputId": "1f44b9b1-cbf0-4e0a-8861-2be71b0fffc9"
      },
      "execution_count": null,
      "outputs": [
        {
          "output_type": "execute_result",
          "data": {
            "text/plain": [
              "'나의'"
            ],
            "application/vnd.google.colaboratory.intrinsic+json": {
              "type": "string"
            }
          },
          "metadata": {},
          "execution_count": 11
        }
      ]
    },
    {
      "cell_type": "markdown",
      "source": [
        "- search 함수\n",
        "    - pattern에 맞는 문자열을 검사하고 매칭되면 바로 match 객체를 반환한다. 매칭이 안되면 None을 반환"
      ],
      "metadata": {
        "id": "BMuugnjeEyvm"
      }
    },
    {
      "cell_type": "code",
      "source": [
        "data = \"나의 전화번호는 010-0000-0000 입니다. 너의 전화번호는 010-1111-1111 입니다.\"\n",
        "re.search(\"전화\",data)"
      ],
      "metadata": {
        "colab": {
          "base_uri": "https://localhost:8080/"
        },
        "id": "SDKr1Gu7E_In",
        "outputId": "8128735f-1189-454b-b25e-4821b4d34cd8"
      },
      "execution_count": null,
      "outputs": [
        {
          "output_type": "execute_result",
          "data": {
            "text/plain": [
              "<re.Match object; span=(3, 5), match='전화'>"
            ]
          },
          "metadata": {},
          "execution_count": 12
        }
      ]
    },
    {
      "cell_type": "markdown",
      "source": [
        "- findall 함수\n",
        "    - 정규식과 매칭되는 모든 문자열을 리스트로 반환한다."
      ],
      "metadata": {
        "id": "k9zuIk2jFKGO"
      }
    },
    {
      "cell_type": "code",
      "source": [
        "data = \"나의 전화번호는 010-0000-0000 입니다. 너의 전화번호는 010-1111-1111 입니다.\"\n",
        "re.findall(\"번호\",data)"
      ],
      "metadata": {
        "colab": {
          "base_uri": "https://localhost:8080/"
        },
        "id": "MoV58HbNFWRi",
        "outputId": "f42cc58b-7de4-4fef-9255-1e70a180e057"
      },
      "execution_count": null,
      "outputs": [
        {
          "output_type": "execute_result",
          "data": {
            "text/plain": [
              "['번호', '번호']"
            ]
          },
          "metadata": {},
          "execution_count": 14
        }
      ]
    },
    {
      "cell_type": "markdown",
      "source": [
        "- sub 함수\n",
        "    - 정규식과 매칭되는 부분을 치환해준다."
      ],
      "metadata": {
        "id": "-c06OFwBFcyR"
      }
    },
    {
      "cell_type": "code",
      "source": [
        "re.sub(\"전화번호\",\"핸드폰번호\",data)"
      ],
      "metadata": {
        "colab": {
          "base_uri": "https://localhost:8080/",
          "height": 35
        },
        "id": "Z-oTbYErFprZ",
        "outputId": "5d9fcc22-7fb9-4a83-b4b8-1b02ef676d6e"
      },
      "execution_count": null,
      "outputs": [
        {
          "output_type": "execute_result",
          "data": {
            "text/plain": [
              "'나의 핸드폰번호는 010-0000-0000 입니다. 너의 핸드폰번호는 010-1111-1111 입니다.'"
            ],
            "application/vnd.google.colaboratory.intrinsic+json": {
              "type": "string"
            }
          },
          "metadata": {},
          "execution_count": 16
        }
      ]
    },
    {
      "cell_type": "markdown",
      "source": [
        "## 메타문자\n",
        "- 메타문자란 원래 그 문자가 가진 뜻이 아닌 특별한 용도로 사용하는 문자\n",
        "- `\\ ^ $ . [] () * + ? {}`"
      ],
      "metadata": {
        "id": "KCZkjhX1Fy9u"
      }
    },
    {
      "cell_type": "markdown",
      "source": [
        "- `.`: 줄바꿈 문자(`\\n`)를 제외한 모든 문자와 매치"
      ],
      "metadata": {
        "id": "WDpA5a7fGjt0"
      }
    },
    {
      "cell_type": "code",
      "source": [
        "data = \"abc a\\nc a c\"\n",
        "re.findall(\"a.c\",data)"
      ],
      "metadata": {
        "colab": {
          "base_uri": "https://localhost:8080/"
        },
        "id": "8uX37uY3GwbC",
        "outputId": "e36721ac-d140-4ea5-e97c-c7291a4f04f6"
      },
      "execution_count": null,
      "outputs": [
        {
          "output_type": "execute_result",
          "data": {
            "text/plain": [
              "['abc', 'a c']"
            ]
          },
          "metadata": {},
          "execution_count": 17
        }
      ]
    },
    {
      "cell_type": "markdown",
      "source": [
        "- `*`: 바로 앞에 문자가 0번 이상 반복할 경우 매치"
      ],
      "metadata": {
        "id": "_w1DhG58HDKn"
      }
    },
    {
      "cell_type": "code",
      "source": [
        "data = \"abc ac abbc a c\"    \n",
        "re.findall(\"ab*c\",data) # 왼쪽에는 a가 있고 b가 와야한다. 그리고 오른쪽에는 b 다음에 c가 있는 것"
      ],
      "metadata": {
        "colab": {
          "base_uri": "https://localhost:8080/"
        },
        "id": "_Z3sw0YZHXdg",
        "outputId": "06c76276-d402-4919-8831-09388300e14c"
      },
      "execution_count": null,
      "outputs": [
        {
          "output_type": "execute_result",
          "data": {
            "text/plain": [
              "['abc', 'ac', 'abbc']"
            ]
          },
          "metadata": {},
          "execution_count": 19
        }
      ]
    },
    {
      "cell_type": "markdown",
      "source": [
        "- `+`: 바로 앞에 문자가 1번 이상 반복할 경우 매치"
      ],
      "metadata": {
        "id": "F1rXoHtXHime"
      }
    },
    {
      "cell_type": "code",
      "source": [
        "data = \"abc ac abbbc\"\n",
        "re.findall(\"ab+c\",data)"
      ],
      "metadata": {
        "colab": {
          "base_uri": "https://localhost:8080/"
        },
        "id": "FC1qEupIH8dw",
        "outputId": "136594f1-5858-4f89-82c7-ec27105820e6"
      },
      "execution_count": null,
      "outputs": [
        {
          "output_type": "execute_result",
          "data": {
            "text/plain": [
              "['abc', 'abbbc']"
            ]
          },
          "metadata": {},
          "execution_count": 20
        }
      ]
    },
    {
      "cell_type": "code",
      "source": [
        "data = \"나는 말했다 '오늘 행복하다' 라고...\""
      ],
      "metadata": {
        "id": "ly_vss90IIFg"
      },
      "execution_count": null,
      "outputs": []
    },
    {
      "cell_type": "code",
      "source": [
        "re.findall(\"\\'.+\\'\",data)   # \\는 메타문자를 사용자의 의도대로 사용할 수 있도록 하기 위해 사용"
      ],
      "metadata": {
        "colab": {
          "base_uri": "https://localhost:8080/"
        },
        "id": "rNnJiKsvIaCh",
        "outputId": "ed8650df-ae8d-417a-9a44-cac9b60347e5"
      },
      "execution_count": null,
      "outputs": [
        {
          "output_type": "execute_result",
          "data": {
            "text/plain": [
              "[\"'오늘 행복하다'\"]"
            ]
          },
          "metadata": {},
          "execution_count": 23
        }
      ]
    },
    {
      "cell_type": "code",
      "source": [
        "re.findall(\"\\'(.+)\\'\",data)"
      ],
      "metadata": {
        "colab": {
          "base_uri": "https://localhost:8080/"
        },
        "id": "pl2w3A2xIrtg",
        "outputId": "954cf334-7152-417d-cc0c-acb71fb686ee"
      },
      "execution_count": null,
      "outputs": [
        {
          "output_type": "execute_result",
          "data": {
            "text/plain": [
              "['오늘 행복하다']"
            ]
          },
          "metadata": {},
          "execution_count": 24
        }
      ]
    },
    {
      "cell_type": "markdown",
      "source": [
        "- 반복 횟수를 제한하고 싶다면?\n",
        "    - `{m,n}`: 바로 앞에 문자의 반복 횟수가 m번에서 n번 사이\n",
        "    - `{m}`: 바로 앞에 문자의 반복 횟수가 m번\n",
        "    - `{m,}`: 바로 앞에 문자의 반복 횟수가 m번 이상\n",
        "    - `{,n}`: 바로 앞에 문자의 반복 횟수가 n번 이하"
      ],
      "metadata": {
        "id": "5aF93-EMJDFH"
      }
    },
    {
      "cell_type": "code",
      "source": [
        "data = \"abc ac abbbc abbbbc\""
      ],
      "metadata": {
        "id": "7E3fQtjzJ7Gx"
      },
      "execution_count": null,
      "outputs": []
    },
    {
      "cell_type": "code",
      "source": [
        "re.findall(\"ab{1,3}c\",data)"
      ],
      "metadata": {
        "colab": {
          "base_uri": "https://localhost:8080/"
        },
        "id": "pG_avbrFNx9w",
        "outputId": "8a256b12-1b63-4af3-d7eb-9942e559e60a"
      },
      "execution_count": null,
      "outputs": [
        {
          "output_type": "execute_result",
          "data": {
            "text/plain": [
              "['abc', 'abbbc']"
            ]
          },
          "metadata": {},
          "execution_count": 26
        }
      ]
    },
    {
      "cell_type": "code",
      "source": [
        "data = \"abc ac abbbc abbbbc\"\n",
        "re.findall(\"ab{4}c\",data)"
      ],
      "metadata": {
        "colab": {
          "base_uri": "https://localhost:8080/"
        },
        "id": "3LJw7qPMN5Rc",
        "outputId": "808b5d5e-ef70-4e65-ead6-9fbef3397338"
      },
      "execution_count": null,
      "outputs": [
        {
          "output_type": "execute_result",
          "data": {
            "text/plain": [
              "['abbbbc']"
            ]
          },
          "metadata": {},
          "execution_count": 27
        }
      ]
    },
    {
      "cell_type": "code",
      "source": [
        "data = \"abc ac abbbc abbbbc\"\n",
        "re.findall(\"ab{1,}c\",data)  # ab + c"
      ],
      "metadata": {
        "colab": {
          "base_uri": "https://localhost:8080/"
        },
        "id": "2XcqpsvOOfsq",
        "outputId": "0711814a-051c-4890-fe13-7f1441aa205a"
      },
      "execution_count": null,
      "outputs": [
        {
          "output_type": "execute_result",
          "data": {
            "text/plain": [
              "['abc', 'abbbc', 'abbbbc']"
            ]
          },
          "metadata": {},
          "execution_count": 28
        }
      ]
    },
    {
      "cell_type": "code",
      "source": [
        "data = \"abc ac abbbc abbbbc\"\n",
        "re.findall(\"ab{0,}c\",data)  # ab * c"
      ],
      "metadata": {
        "colab": {
          "base_uri": "https://localhost:8080/"
        },
        "id": "XfEfPC1AOuYs",
        "outputId": "aaec1cf3-5f95-439a-f7be-86d0ab7e0694"
      },
      "execution_count": null,
      "outputs": [
        {
          "output_type": "execute_result",
          "data": {
            "text/plain": [
              "['abc', 'ac', 'abbbc', 'abbbbc']"
            ]
          },
          "metadata": {},
          "execution_count": 29
        }
      ]
    },
    {
      "cell_type": "code",
      "source": [
        "data = \"abc ac abbbc abbbbc\"\n",
        "re.findall(\"ab{,3}c\",data) "
      ],
      "metadata": {
        "colab": {
          "base_uri": "https://localhost:8080/"
        },
        "id": "IjqhZ2wNO4UJ",
        "outputId": "c9240eb0-ede4-46fa-c187-82fe2853d6e4"
      },
      "execution_count": null,
      "outputs": [
        {
          "output_type": "execute_result",
          "data": {
            "text/plain": [
              "['abc', 'ac', 'abbbc']"
            ]
          },
          "metadata": {},
          "execution_count": 30
        }
      ]
    },
    {
      "cell_type": "code",
      "source": [
        "data = \"abc ac abbbc abbbbc\"\n",
        "re.findall(\"ab{0,}c\",data)  # ab * c"
      ],
      "metadata": {
        "colab": {
          "base_uri": "https://localhost:8080/"
        },
        "id": "fhhU78nmO7xI",
        "outputId": "0396c637-66fb-4b4c-e479-8126f103c0c5"
      },
      "execution_count": null,
      "outputs": [
        {
          "output_type": "execute_result",
          "data": {
            "text/plain": [
              "['abc', 'ac', 'abbbc', 'abbbbc']"
            ]
          },
          "metadata": {},
          "execution_count": 33
        }
      ]
    },
    {
      "cell_type": "code",
      "source": [
        "data = \"abc ac abbbc abbbbc\", \"abc ac abc abbbbc\"   # data가 튜플로 받아들여서 문자열로 넣으라고 에러 발생시킴!\n",
        "re.findall(\"ab{0,}c\",data)"
      ],
      "metadata": {
        "id": "-FMZxzUPPJFr"
      },
      "execution_count": null,
      "outputs": []
    },
    {
      "cell_type": "markdown",
      "source": [
        " - `?` : 반복은 아니지만 앞에 문자가 있거나 없거나를 의미"
      ],
      "metadata": {
        "id": "oUhwC_TdPj9m"
      }
    },
    {
      "cell_type": "code",
      "source": [
        "data = \"abc ac abbbc abbbbc\"\n",
        "re.findall(\"ab?c\",data) # ab{0,1}c"
      ],
      "metadata": {
        "colab": {
          "base_uri": "https://localhost:8080/"
        },
        "id": "P_TMXPHdPqDc",
        "outputId": "9e5361cc-e303-48a8-b6d0-f5fcd4892000"
      },
      "execution_count": null,
      "outputs": [
        {
          "output_type": "execute_result",
          "data": {
            "text/plain": [
              "['abc', 'ac']"
            ]
          },
          "metadata": {},
          "execution_count": 36
        }
      ]
    },
    {
      "cell_type": "markdown",
      "source": [
        "- `[]` : [ ] 사이의 문자들과 매칭이라는 의미"
      ],
      "metadata": {
        "id": "U52NIGUNQk9S"
      }
    },
    {
      "cell_type": "code",
      "source": [
        "data = \"abc ac acc acb\"\n",
        "re.findall(\"a[bc]c\",data) # b or c"
      ],
      "metadata": {
        "colab": {
          "base_uri": "https://localhost:8080/"
        },
        "id": "kjSlbd3sQ4aF",
        "outputId": "95c08c24-edbb-44cd-9912-60dbfc01b6ee"
      },
      "execution_count": null,
      "outputs": [
        {
          "output_type": "execute_result",
          "data": {
            "text/plain": [
              "['abc', 'acc']"
            ]
          },
          "metadata": {},
          "execution_count": 38
        }
      ]
    },
    {
      "cell_type": "markdown",
      "source": [
        "- 대괄호 안에서는 메타문자 역할을 안한다."
      ],
      "metadata": {
        "id": "-CkawcFMRNMO"
      }
    },
    {
      "cell_type": "code",
      "source": [
        "data = \"abc a+c a.c a?c\"\n",
        "re.findall(\"a[+.?]c\",data)"
      ],
      "metadata": {
        "colab": {
          "base_uri": "https://localhost:8080/"
        },
        "id": "lGIjljnMRbtI",
        "outputId": "e90a7e58-8a4d-4e67-96df-f231e8d45e06"
      },
      "execution_count": null,
      "outputs": [
        {
          "output_type": "execute_result",
          "data": {
            "text/plain": [
              "['a+c', 'a.c', 'a?c']"
            ]
          },
          "metadata": {},
          "execution_count": 55
        }
      ]
    },
    {
      "cell_type": "code",
      "source": [
        "data = \"abc a[c a]c\"\n",
        "re.findall(\"a[\\[\\]]c\",data)"
      ],
      "metadata": {
        "colab": {
          "base_uri": "https://localhost:8080/"
        },
        "id": "6VNtMQ0FRvAp",
        "outputId": "74a11e00-9b2b-42bb-bbc9-24e5447c24dc"
      },
      "execution_count": null,
      "outputs": [
        {
          "output_type": "execute_result",
          "data": {
            "text/plain": [
              "['a[c', 'a]c']"
            ]
          },
          "metadata": {},
          "execution_count": 56
        }
      ]
    },
    {
      "cell_type": "markdown",
      "source": [
        "- 하이픈(`-`) 사용하기\n",
        "    - `[a-zA-Z]` : 모든 알파벳과 매치\n",
        "    - `[0-9]` : 모든 숫자와 매치"
      ],
      "metadata": {
        "id": "wLpJc7W3SdEq"
      }
    },
    {
      "cell_type": "code",
      "source": [
        "data = \"python 3.10.5\"\n",
        "re.findall(\"[0-9a-zA-Z]\",data)  # 모든 문자 출력(if '.'출력하고 싶으면 '.'넣기!)"
      ],
      "metadata": {
        "colab": {
          "base_uri": "https://localhost:8080/"
        },
        "id": "kLb-Yg7WUZs-",
        "outputId": "9f32cac5-ce8f-4a32-85fb-4ba782dbc25a"
      },
      "execution_count": null,
      "outputs": [
        {
          "output_type": "execute_result",
          "data": {
            "text/plain": [
              "['p', 'y', 't', 'h', 'o', 'n', '3', '1', '0', '5']"
            ]
          },
          "metadata": {},
          "execution_count": 128
        }
      ]
    },
    {
      "cell_type": "code",
      "source": [
        "data = \"python 3.10.5\"\n",
        "re.findall(\"[0-9a-zA-Z]+\",data)"
      ],
      "metadata": {
        "colab": {
          "base_uri": "https://localhost:8080/"
        },
        "id": "yg9fN798UZk5",
        "outputId": "62a5bb93-31e8-4cc7-bf32-9c60b670571e"
      },
      "execution_count": null,
      "outputs": [
        {
          "output_type": "execute_result",
          "data": {
            "text/plain": [
              "['python', '3', '10', '5']"
            ]
          },
          "metadata": {},
          "execution_count": 67
        }
      ]
    },
    {
      "cell_type": "code",
      "source": [
        "data = \"파이썬 버전은 3.10.5\"\n",
        "re.findall(\"[가-힣]+\",data)"
      ],
      "metadata": {
        "colab": {
          "base_uri": "https://localhost:8080/"
        },
        "id": "Az80GCIcUZYv",
        "outputId": "13aa2723-95fd-4fde-af12-130d879dc5cf"
      },
      "execution_count": null,
      "outputs": [
        {
          "output_type": "execute_result",
          "data": {
            "text/plain": [
              "['파이썬', '버전은']"
            ]
          },
          "metadata": {},
          "execution_count": 70
        }
      ]
    },
    {
      "cell_type": "code",
      "source": [
        "data = \"파이썬 버전은 3.10.5 ㅋㅋㅋ ㅜㅜ\"\n",
        "re.findall(\"[ㅏ-ㅣ가-힣ㄱ-ㅎ]+\",data)"
      ],
      "metadata": {
        "colab": {
          "base_uri": "https://localhost:8080/"
        },
        "id": "C8FMcRLjUZVg",
        "outputId": "616a8714-c7c0-41e1-c1a1-a914f4a69a61"
      },
      "execution_count": null,
      "outputs": [
        {
          "output_type": "execute_result",
          "data": {
            "text/plain": [
              "['파이썬', '버전은', 'ㅋㅋㅋ', 'ㅜㅜ']"
            ]
          },
          "metadata": {},
          "execution_count": 86
        }
      ]
    },
    {
      "cell_type": "markdown",
      "source": [
        "- `\\d` : `[0-9] 과 동일\n",
        "- `\\w` : `[a-zA-Z0-9_] 과 동일"
      ],
      "metadata": {
        "id": "OtlSwGjhUZNw"
      }
    },
    {
      "cell_type": "code",
      "source": [
        "data = \"python 3_10_5\"\n",
        "re.findall(\"\\w+\",data)"
      ],
      "metadata": {
        "colab": {
          "base_uri": "https://localhost:8080/"
        },
        "id": "yJDbBZwXUZEP",
        "outputId": "501304a0-927c-47be-8ff3-df39930c2521"
      },
      "execution_count": null,
      "outputs": [
        {
          "output_type": "execute_result",
          "data": {
            "text/plain": [
              "['python', '3_10_5']"
            ]
          },
          "metadata": {},
          "execution_count": 76
        }
      ]
    },
    {
      "cell_type": "code",
      "source": [
        "re.findall(\"\\d+\",data)"
      ],
      "metadata": {
        "colab": {
          "base_uri": "https://localhost:8080/"
        },
        "id": "JMxhYK2dUY13",
        "outputId": "b478db9c-5590-4bf9-dd04-37f00097c7cd"
      },
      "execution_count": null,
      "outputs": [
        {
          "output_type": "execute_result",
          "data": {
            "text/plain": [
              "['3', '10', '5']"
            ]
          },
          "metadata": {},
          "execution_count": 77
        }
      ]
    },
    {
      "cell_type": "markdown",
      "source": [
        "- [^]: not을 의미한다."
      ],
      "metadata": {
        "id": "U5J9e6LVUYv3"
      }
    },
    {
      "cell_type": "code",
      "source": [
        "data = \"python 3.10.5\"\n",
        "re.findall(\"[^\\d. ]+\",data)"
      ],
      "metadata": {
        "colab": {
          "base_uri": "https://localhost:8080/"
        },
        "id": "zcVgt4C0UYpX",
        "outputId": "c40c6d86-2d6b-4c18-c06c-03ece0eb9fed"
      },
      "execution_count": null,
      "outputs": [
        {
          "output_type": "execute_result",
          "data": {
            "text/plain": [
              "['python']"
            ]
          },
          "metadata": {},
          "execution_count": 81
        }
      ]
    },
    {
      "cell_type": "markdown",
      "source": [
        "- `^` : 검사하고자하는 문자열에 정규식에 맞는 문자로 시작하는지를 검사한다.\n",
        "- `$` : 검사하고자하는 문자열에 정규식에 맞는 문자로 끝나는지를 검사한다."
      ],
      "metadata": {
        "id": "xMT_NbkgUYlv"
      }
    },
    {
      "cell_type": "code",
      "source": [
        "phone = \"p010-0000-0000qwe\" # 잘못된 정보를 확인하기 위해 주로 쓰인다.\n",
        "match = re.search(\"^\\d{3}-\\d{4}-\\d{4}$\",phone)\n",
        "match"
      ],
      "metadata": {
        "colab": {
          "base_uri": "https://localhost:8080/"
        },
        "id": "WqaZy8EwcKqd",
        "outputId": "eb40df8d-4d6c-4a5c-d156-af589f9c0d6d"
      },
      "execution_count": null,
      "outputs": [
        {
          "output_type": "execute_result",
          "data": {
            "text/plain": [
              "<re.Match object; span=(0, 13), match='010-0000-0000'>"
            ]
          },
          "metadata": {},
          "execution_count": 82
        }
      ]
    },
    {
      "cell_type": "markdown",
      "source": [
        "```\n",
        "data = \"\"\"\n",
        "연월일 형식에 문자열을 추출해 보시오.\n",
        "다음은 2002-06-09 형식의 날짜이다.\n",
        "이것도 2002/10/19 형식의 날짜이다.\n",
        "010-0000-0000\n",
        "출력 예시처럼 담아주세요.\n",
        "\"\"\"\n",
        "Output:\n",
        "['2002-06-09', '2002/10/19']\n",
        "```"
      ],
      "metadata": {
        "id": "9OAkzbVCciHI"
      }
    },
    {
      "cell_type": "code",
      "source": [
        "data = \"\"\"\n",
        "연월일 형식에 문자열을 추출해 보시오.\n",
        "다음은 2002-06-09 형식의 날짜이다.\n",
        "이것도 2002/10/19 형식의 날짜이다.\n",
        "010-0000-0000\n",
        "출력 예시처럼 담아주세요.\n",
        "\"\"\"\n",
        "\n",
        "pat = \"\\d{4}[-/]\\d{2}[-/]\\d{2}\"\n",
        "re.findall(pat,data)\n",
        "# re.findall(\"[0-9/-]+\",data) 내 생각..."
      ],
      "metadata": {
        "colab": {
          "base_uri": "https://localhost:8080/"
        },
        "id": "XGxBj8oCdFXS",
        "outputId": "7f3cc63f-913f-4261-f6fc-1d7017d7a853"
      },
      "execution_count": null,
      "outputs": [
        {
          "output_type": "execute_result",
          "data": {
            "text/plain": [
              "['2002-06-09', '2002/10/19']"
            ]
          },
          "metadata": {},
          "execution_count": 110
        }
      ]
    },
    {
      "cell_type": "markdown",
      "source": [
        "```\n",
        "data = \"\"\"\n",
        "다음의 html 에서 태그를 제거해서 출력 예시와 같은 문자열을 만들어주세요.\n",
        "<div>\n",
        "    <a href=\"https://www.naver.com\">클릭시 href 속성 값의 링크로 이동하는 태그</a>\n",
        "    <img src=\"image.jpg\">src 속성에 이미지를 브라우저에 나타내주는 태그</img>\n",
        "    <ul>\n",
        "        <li>ul 태그와 함께 목록을 생성해주는 태그</li>\n",
        "        <li>ul 태그와 함께 목록을 생성해주는 태그</li>\n",
        "    </ul>\n",
        "    <p>문단을 의미하는 태그</p>\n",
        "    <br memo=\"줄바꿈을 해주는 태그\">\n",
        "</div>\n",
        "\"\"\"\n",
        "Output:\n",
        "\n",
        "다음의 html 에서 태그를 제거해서 출력 예시와 같은 문자열을 만들어주세요.\n",
        "\n",
        "    클릭시 href 속성 값의 링크로 이동하는 태그\n",
        "    src 속성에 이미지를 브라우저에 나타내주는 태그\n",
        "\n",
        "        ul 태그와 함께 목록을 생성해주는 태그\n",
        "        ul 태그와 함께 목록을 생성해주는 태그\n",
        "\n",
        "    문단을 의미하는 태그\n",
        "```"
      ],
      "metadata": {
        "id": "R7NmpgMwc8Wv"
      }
    },
    {
      "cell_type": "code",
      "source": [
        "data = \"\"\"\n",
        "다음의 html 에서 태그를 제거해서 출력 예시와 같은 문자열을 만들어주세요.\n",
        "<div>\n",
        "    <a href=\"https://www.naver.com\">클릭시 href 속성 값의 링크로 이동하는 태그</a>\n",
        "    <img src=\"image.jpg\">src 속성에 이미지를 브라우저에 나타내주는 태그</img>\n",
        "    <ul>\n",
        "        <li>ul 태그와 함께 목록을 생성해주는 태그</li>\n",
        "        <li>ul 태그와 함께 목록을 생성해주는 태그</li>\n",
        "    </ul>\n",
        "    <p>문단을 의미하는 태그</p>\n",
        "    <br memo=\"줄바꿈을 해주는 태그\">\n",
        "</div>\n",
        "\"\"\"\n",
        "pat = \"<[^>]+>\"\n",
        "print(re.sub(pat, \"\",data))"
      ],
      "metadata": {
        "colab": {
          "base_uri": "https://localhost:8080/"
        },
        "id": "vLXFT1NugVPk",
        "outputId": "0026af50-1b72-4df4-a265-674b428cef73"
      },
      "execution_count": null,
      "outputs": [
        {
          "output_type": "stream",
          "name": "stdout",
          "text": [
            "\n",
            "다음의 html 에서 태그를 제거해서 출력 예시와 같은 문자열을 만들어주세요.\n",
            "\n",
            "    클릭시 href 속성 값의 링크로 이동하는 태그\n",
            "    src 속성에 이미지를 브라우저에 나타내주는 태그\n",
            "    \n",
            "        ul 태그와 함께 목록을 생성해주는 태그\n",
            "        ul 태그와 함께 목록을 생성해주는 태그\n",
            "    \n",
            "    문단을 의미하는 태그\n",
            "    \n",
            "\n",
            "\n"
          ]
        }
      ]
    },
    {
      "cell_type": "code",
      "source": [
        "data = \"나의 전화번호는 010-0000-0000 입니다. 너의 전화번호는 010-1111-1111 입니다.\"\n",
        "re.findall(\"\\d{3}-\\d{4}-\\d{4}\",data)"
      ],
      "metadata": {
        "colab": {
          "base_uri": "https://localhost:8080/"
        },
        "id": "nntfvLjpjQVG",
        "outputId": "b5d740a0-ae20-40a7-a751-721f986dc844"
      },
      "execution_count": null,
      "outputs": [
        {
          "output_type": "execute_result",
          "data": {
            "text/plain": [
              "['010-0000-0000', '010-1111-1111']"
            ]
          },
          "metadata": {},
          "execution_count": 124
        }
      ]
    },
    {
      "cell_type": "markdown",
      "source": [
        "- 프로그램 내에서 자주 사용하는 정규식 패턴에 경우 \n",
        "`re.compile` 함수를 이용해서 컴파일을 미리하여 패턴객체를 생성해서 찾자.\n",
        "- 자주쓰는 패턴이라면 정규식을 미리 컴파일하자."
      ],
      "metadata": {
        "id": "8MB4LBEMkHQf"
      }
    },
    {
      "cell_type": "code",
      "source": [
        "pat_obj = re.compile(\"\\d{3}-\\d{4}-\\d{4}\")\n",
        "type(pat_obj)"
      ],
      "metadata": {
        "colab": {
          "base_uri": "https://localhost:8080/"
        },
        "id": "QurAn-C6jalA",
        "outputId": "f0f1176b-b335-4b42-ab49-a2cf948542a1"
      },
      "execution_count": null,
      "outputs": [
        {
          "output_type": "execute_result",
          "data": {
            "text/plain": [
              "re.Pattern"
            ]
          },
          "metadata": {},
          "execution_count": 126
        }
      ]
    },
    {
      "cell_type": "code",
      "source": [
        "pat_obj.findall(data)"
      ],
      "metadata": {
        "colab": {
          "base_uri": "https://localhost:8080/"
        },
        "id": "8DZCGK-6jlHK",
        "outputId": "8291f5fa-9ab9-473a-c1d8-633029ce6210"
      },
      "execution_count": null,
      "outputs": [
        {
          "output_type": "execute_result",
          "data": {
            "text/plain": [
              "['010-0000-0000', '010-1111-1111']"
            ]
          },
          "metadata": {},
          "execution_count": 127
        }
      ]
    },
    {
      "cell_type": "markdown",
      "source": [
        "- 정규식 연습 사이트\n",
        "     - https://regex101.com/ 연습사이트 "
      ],
      "metadata": {
        "id": "ZSZrBCZIjwVW"
      }
    },
    {
      "cell_type": "code",
      "source": [
        ""
      ],
      "metadata": {
        "id": "UPe6SvaBkb7m"
      },
      "execution_count": null,
      "outputs": []
    }
  ]
}